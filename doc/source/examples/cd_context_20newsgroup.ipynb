{
 "cells": [
  {
   "cell_type": "markdown",
   "id": "544fde62",
   "metadata": {},
   "source": [
    "# Context-aware drift detection on news articles\n",
    "\n",
    "### Introduction\n",
    "\n",
    "In this notebook we show how to **detect drift on text data given a specific context** using the [context-aware MMD detector](https://docs.seldon.io/projects/alibi-detect/en/latest/cd/methods/contextmmddrift.html) ([Cobb and Van Looveren, 2022](https://arxiv.org/abs/2203.08644)). Consider the following simple example: the upcoming elections result in an increase of political news articles compared to other topics such as sports or science. Given the context (the elections), it is however not surprising that we observe this uptick. Moreover, assume we have a machine learning model which is trained to classify news topics, and this model performs well on political articles. So given that we fully expect this uptick to occur given the context, and that our model performs fine on the political news articles, we do not want to flag this type of drift in the data. **This setting corresponds more closely to many real-life settings than traditional drift detection where we make the assumption that both the reference and test data are [i.i.d.](https://en.wikipedia.org/wiki/Independent_and_identically_distributed_random_variables) samples from their underlying distributions.**\n",
    "\n",
    "In our news topics example, each different topic such as politics, sports or weather represents a subpopulation of the data. Our context-aware drift detector can then detect changes in the data distribution which cannot be attributed to a change in the relative prevalences of these subpopulations, which we deem permissible. As a cherry on the cake, the context-aware detector allows you to understand which subpopulations are present in both the reference and test data. This allows you to obtain deep insights into the distribution underlying the test data.\n",
    "\n",
    "Useful context (or *conditioning*) variables for the context-aware drift detector include but are not limited to:\n",
    "1. **Domain or application specific** contexts such as the time of day or the weather.\n",
    "2. Conditioning on the **relative prevalences of known subpopulations**, such as the frequency of political articles. It is important to note that while the relative frequency of each subpopulation might change, the distribution underlying each subpopulation cannot change.\n",
    "3. Conditioning on **model predictions**. Assume we trained a classifier which tries to figure out which news topic an article belongs to. Given our model predictions we then want to understand whether our test data follows the same underlying distribution as reference instances with similar model predictions. This conditioning would also be useful in case of trending news topics which cause the model prediction distribution to shift but not necessarily the distribution within each of the news topics.\n",
    "4. Conditioning on **model uncertainties** which would allow increases in model uncertainty due to drift into familiar regions of high aleatoric uncertainty (often fine) to be distinguished from that into unfamiliar regions of high epistemic uncertainty (often problematic).\n",
    "\n",
    "The following settings will be illustrated throughout the notebook:\n",
    "1. A **change in the prevalences of subpopulations** (i.e. news topics) relative to their prevalences in the training data. Contrary to traditional drift detection approaches, **the context-aware detector does not flag drift** as this change in frequency of news topics is permissible given the context provided (e.g. more political news articles around elections).\n",
    "2. A **change in the underlying distribution of one or more subpopulations** takes place. While we allow changes in the prevalence of the subpopulations accounted for by the context variable, we do not allow changes of the subpopulations themselves. Let's assume that a newspaper usually has a certain tone (e.g. more conservative) when it comes to politics. If this tone changes (to less conservative) around elections (increased frequency of political news articles), then we want to **flag it as drift** since the change cannot be attributed to the context given to the detector.\n",
    "3. A **change in the distribution as we observe a previously unseen news topic**. A newspaper might for instance add a classified ads section, which was not present in the reference data.\n",
    "\n",
    "Under setting 1. we want our detector to be **well-calibrated** (a controlled False Positive Rate (FPR) and more generally a p-value which is uniformly distributed between 0 and 1) while under settings 2. and 3. we want our detector to be **powerful** and flag the drift. Lastly, we show how the detector can help you to **understand the connection between the reference and test data distributions** better.\n",
    "\n",
    "### Data\n",
    "\n",
    "We use the [20 newsgroup dataset](https://scikit-learn.org/0.19/datasets/twenty_newsgroups.html) which contains about 18,000 newsgroups post across 20 topics, including politics, science sports or religion.\n",
    "\n",
    "### Requirements\n",
    "\n",
    "The notebook requires the `umap-learn`, `torch`, `sentence-transformers`, `statsmodels`, `seaborn` and `datasets` packages to be installed, which can be done via `pip`:"
   ]
  },
  {
   "cell_type": "code",
   "execution_count": null,
   "id": "4ba9e6bd",
   "metadata": {},
   "outputs": [],
   "source": [
    "!pip install umap-learn torch sentence-transformers statsmodels seaborn datasets"
   ]
  },
  {
   "cell_type": "markdown",
   "id": "5c17d799",
   "metadata": {},
   "source": [
    "Before we start let's fix the random seeds for reproducibility:"
   ]
  },
  {
   "cell_type": "code",
   "execution_count": null,
   "id": "08351aef",
   "metadata": {},
   "outputs": [],
   "source": [
    "import numpy as np\n",
    "import torch\n",
    "\n",
    "def set_seed(seed: int) -> None:\n",
    "    torch.manual_seed(seed)\n",
    "    torch.cuda.manual_seed(seed)\n",
    "    np.random.seed(seed)\n",
    "\n",
    "set_seed(2022)"
   ]
  },
  {
   "cell_type": "markdown",
   "id": "70160873",
   "metadata": {},
   "source": [
    "## Load data\n",
    "\n",
    "First we load the data, show which classes (news topics) are present and what an instance looks like."
   ]
  },
  {
   "cell_type": "code",
   "execution_count": null,
   "id": "3388fa96",
   "metadata": {},
   "outputs": [],
   "source": [
    "from sklearn.datasets import fetch_20newsgroups\n",
    "\n",
    "dataset = fetch_20newsgroups(subset='all', shuffle=True, random_state=42)\n",
    "print(f'{len(dataset.data)} documents')\n",
    "print(f'{len(dataset.target_names)} categories:')\n",
    "dataset.target_names"
   ]
  },
  {
   "cell_type": "markdown",
   "id": "593cf966",
   "metadata": {},
   "source": [
    "Let's take a look at an instance from the dataset:"
   ]
  },
  {
   "cell_type": "code",
   "execution_count": null,
   "id": "a096e352",
   "metadata": {},
   "outputs": [],
   "source": [
    "n = 1\n",
    "for _, document in enumerate(dataset.data[:n]):\n",
    "    category = dataset.target_names[dataset.target[_]]\n",
    "    print(f'{_}. Category: {category}')\n",
    "    print('---------------------------')\n",
    "    print(document[:1000])\n",
    "    print('---------------------------')"
   ]
  },
  {
   "cell_type": "markdown",
   "id": "52676af4",
   "metadata": {},
   "source": [
    "## Define models and train a classifier\n",
    "\n",
    "We embed the news posts using [SentenceTransformers](https://www.sbert.net/index.html) pre-trained embeddings and optionally add a dimensionality reduction step with [UMAP](https://umap-learn.readthedocs.io/en/latest/). UMAP also allows to leverage reference data labels.\n",
    "\n",
    "We define respectively a generic clustering model using UMAP, a model to embed the text input using pre-trained *SentenceTransformers* embeddings, a text classifier and a utility function to place the data on the right device."
   ]
  },
  {
   "cell_type": "code",
   "execution_count": null,
   "id": "81c32830",
   "metadata": {},
   "outputs": [],
   "source": [
    "from sentence_transformers import SentenceTransformer\n",
    "import torch.nn as nn\n",
    "import umap\n",
    "\n",
    "\n",
    "class UMAPModel:\n",
    "    def __init__(\n",
    "        self, \n",
    "        n_neighbors: int = 10,\n",
    "        n_components: int = 2,\n",
    "        metric: str = 'euclidean',\n",
    "        min_dist: float = .1,\n",
    "        **kwargs: dict\n",
    "    ) -> None:\n",
    "        super().__init__()\n",
    "        kwargs = kwargs if isinstance(kwargs, dict) else dict()\n",
    "        kwargs.update(\n",
    "            n_neighbors=n_neighbors,\n",
    "            n_components=n_components,\n",
    "            metric=metric,\n",
    "            min_dist=min_dist\n",
    "        )\n",
    "        self.model = umap.UMAP(**kwargs)\n",
    "    \n",
    "    def fit(self, x: np.ndarray, y: np.ndarray = None) -> None:\n",
    "        \"\"\" Fit UMAP embedding. A combination of labeled and unlabeled data\n",
    "        can be passed. Unlabeled instances are equal to -1. \"\"\"\n",
    "        self.model.fit(x, y=y)\n",
    "    \n",
    "    def predict(self, x: np.ndarray) -> np.ndarray:\n",
    "        \"\"\" Transform the input x to the embedding space. \"\"\"\n",
    "        return self.model.transform(x)\n",
    "\n",
    "\n",
    "class EmbeddingModel:\n",
    "    def __init__(\n",
    "        self,\n",
    "        model_name: str = 'paraphrase-MiniLM-L6-v2',  # https://www.sbert.net/docs/pretrained_models.html\n",
    "        max_seq_length: int = 200,\n",
    "        batch_size: int = 32,\n",
    "        device: torch.device = None\n",
    "    ) -> None:\n",
    "        if not isinstance(device, torch.device):\n",
    "            device = torch.device('cuda' if torch.cuda.is_available() else 'cpu')\n",
    "        self.encode_text = SentenceTransformer(model_name).to(device)\n",
    "        self.encode_text.max_seq_length = max_seq_length\n",
    "        self.batch_size = batch_size\n",
    "    \n",
    "    def __call__(self, x: np.ndarray) -> np.ndarray:\n",
    "        return self.encode_text.encode(x, convert_to_numpy=True, batch_size=self.batch_size)\n",
    "\n",
    "    \n",
    "class Classifier(nn.Module):\n",
    "    def __init__(\n",
    "        self, \n",
    "        model_name: str = 'paraphrase-MiniLM-L6-v2',\n",
    "        max_seq_length: int = 200,\n",
    "        n_classes: int = 20\n",
    "    ) -> None:\n",
    "        \"\"\" Text classification model. Note that we do not train the embedding backbone. \"\"\"\n",
    "        super().__init__()\n",
    "        self.encode_text = SentenceTransformer(model_name)\n",
    "        self.encode_text.max_seq_length = max_seq_length\n",
    "        for param in self.encode_text.parameters():\n",
    "            param.requires_grad = False\n",
    "        self.head = nn.Sequential(nn.Linear(384, 256), nn.LeakyReLU(.1), nn.Dropout(.5), nn.Linear(256, 20))\n",
    "        \n",
    "    def forward(self, tokens) -> torch.Tensor:\n",
    "        return self.head(self.encode_text(tokens)['sentence_embedding'])\n",
    "\n",
    "    \n",
    "def batch_to_device(batch: dict, target_device: torch.device):\n",
    "    \"\"\" Send a pytorch batch to a device (CPU/GPU). \"\"\"\n",
    "    for key in batch:\n",
    "        if isinstance(batch[key], torch.Tensor):\n",
    "            batch[key] = batch[key].to(target_device)\n",
    "    return batch"
   ]
  },
  {
   "cell_type": "markdown",
   "id": "de36cdf2",
   "metadata": {},
   "source": [
    "First we train a classifier on a small subset of the data. The aim of the classifier is to predict the news topic of each instance. Below we define a few simple training and evaluation functions."
   ]
  },
  {
   "cell_type": "code",
   "execution_count": null,
   "id": "13399c38",
   "metadata": {},
   "outputs": [],
   "source": [
    "def train_model(model, loader, epochs=3, lr=1e-3):\n",
    "    optimizer = torch.optim.Adam(model.parameters(), lr=1e-3)\n",
    "    criterion = nn.CrossEntropyLoss()\n",
    "    for epoch in range(epochs):\n",
    "        for x, y in tqdm(loader):\n",
    "            tokens, y = tokenize(x), y.to(device)\n",
    "            y_hat = clf(tokens)\n",
    "            optimizer.zero_grad()\n",
    "            loss = criterion(y_hat, y)\n",
    "            loss.backward()\n",
    "            optimizer.step()\n",
    "\n",
    "            \n",
    "def eval_model(model, loader, verbose=1):\n",
    "    model.eval()\n",
    "    logits, labels = [], []\n",
    "    with torch.no_grad():\n",
    "        if verbose == 1:\n",
    "            loader = tqdm(loader)\n",
    "        for x, y in loader:\n",
    "            tokens = tokenize(x)\n",
    "            y_hat = model(tokens)\n",
    "            logits += [y_hat.cpu().numpy()]\n",
    "            labels += [y.cpu().numpy()]\n",
    "    logits = np.concatenate(logits, 0)\n",
    "    preds = np.argmax(logits, 1)\n",
    "    labels = np.concatenate(labels, 0)\n",
    "    if verbose == 1:\n",
    "        accuracy = (preds == labels).mean()\n",
    "        print(f'Accuracy: {accuracy:.3f}')\n",
    "    return logits, preds"
   ]
  },
  {
   "cell_type": "markdown",
   "id": "96d527a7",
   "metadata": {},
   "source": [
    "We now split the data in 2 sets. The first set (`x_train`) we will use to train our text classifier, and the second set (`x_drift`) is held out to test our drift detector on."
   ]
  },
  {
   "cell_type": "code",
   "execution_count": null,
   "id": "78a68015",
   "metadata": {},
   "outputs": [],
   "source": [
    "n_all = len(dataset.data)\n",
    "n_train = 5000  # nb of instances to train news topic classifier on\n",
    "idx_train = np.random.choice(n_all, size=n_train, replace=False)\n",
    "idx_keep = np.setdiff1d(np.arange(n_all), idx_train)\n",
    "# data used for model training\n",
    "x_train, y_train = [dataset.data[_] for _ in idx_train], dataset.target[idx_train]\n",
    "# data used for drift detection\n",
    "x_drift, y_drift = [dataset.data[_] for _ in idx_keep], dataset.target[idx_keep]\n",
    "n_drift = len(x_drift)"
   ]
  },
  {
   "cell_type": "markdown",
   "id": "2b0b14c9",
   "metadata": {},
   "source": [
    "Let's train our classifier. The classifier consists of a simple MLP head on top of a pre-trained SentenceTransformer model as the backbone. The SentenceTransformer remains frozen during training and only the MLP head is finetuned."
   ]
  },
  {
   "cell_type": "code",
   "execution_count": null,
   "id": "07cc1e5f",
   "metadata": {},
   "outputs": [],
   "source": [
    "from alibi_detect.utils.pytorch.data import TorchDataset\n",
    "from torch.utils.data import DataLoader\n",
    "from tqdm import tqdm\n",
    "from typing import Dict, List\n",
    "\n",
    "device = torch.device('cuda' if torch.cuda.is_available() else 'cpu')\n",
    "clf = Classifier().to(device)\n",
    "train_loader = DataLoader(TorchDataset(x_train, y_train), batch_size=32, shuffle=True)\n",
    "drift_loader = DataLoader(TorchDataset(x_drift, y_drift), batch_size=32, shuffle=False)\n",
    "\n",
    "def tokenize(x: List[str]) -> Dict[str, torch.Tensor]:\n",
    "    tokens = clf.encode_text.tokenize(x)\n",
    "    return batch_to_device(tokens, device)\n",
    "\n",
    "train_model(clf, train_loader, epochs=5)\n",
    "clf.eval()\n",
    "_, _ = eval_model(clf, train_loader)\n",
    "_, _ = eval_model(clf, drift_loader)"
   ]
  },
  {
   "cell_type": "markdown",
   "id": "9d09f42b",
   "metadata": {},
   "source": [
    "## Detector calibration under no change\n",
    "\n",
    "We start with an example where no drift occurs and the reference and test data are both sampled randomly from all news topics. Under this scenario, we expect no drift to be detected by either a *normal* MMD detector or by the context-aware MMD detector.\n",
    "\n",
    "First we define some helper functions. The first one visualises the clustered text data while the second function samples disjoint reference and test sets with a specified number of instances per class (i.e. per news topic)."
   ]
  },
  {
   "cell_type": "code",
   "execution_count": null,
   "id": "efbef25e",
   "metadata": {},
   "outputs": [],
   "source": [
    "import matplotlib.pyplot as plt\n",
    "\n",
    "\n",
    "def plot_clusters(x: np.ndarray, y: np.ndarray, classes: list, title: str = None) -> None:\n",
    "    fig, ax = plt.subplots(1, figsize=(14, 10))\n",
    "    plt.scatter(*x.T, s=0.3, c=y, cmap='Spectral', alpha=1.0)\n",
    "    plt.setp(ax, xticks=[], yticks=[])\n",
    "    nc = len(classes)\n",
    "    cbar = plt.colorbar(boundaries=np.arange(nc+1)-0.5)\n",
    "    cbar.set_ticks(np.arange(nc))\n",
    "    cbar.set_ticklabels(classes)\n",
    "    if title:\n",
    "        plt.title(title);\n",
    "        \n",
    "\n",
    "def split_data(x, y, n_ref_c, n_test_c, seed=None, y2=None, return_idx=False):\n",
    "    \n",
    "    if seed:\n",
    "        np.random.seed(seed)\n",
    "    \n",
    "    # split data by class\n",
    "    n_c = len(np.unique(y))\n",
    "    idx_c = {_: np.where(y == _)[0] for _ in range(n_c)}\n",
    "    \n",
    "    # convert nb instances per class to a list if needed\n",
    "    n_ref_c = [n_ref_c] * n_c if isinstance(n_ref_c, int) else n_ref_c\n",
    "    n_test_c = [n_test_c] * n_c if isinstance(n_test_c, int) else n_test_c\n",
    "    \n",
    "    # sample reference, test and held out data\n",
    "    idx_ref, idx_test, idx_held = [], [], []\n",
    "    for _ in range(n_c):\n",
    "        idx = np.random.choice(idx_c[_], size=len(idx_c[_]), replace=False)\n",
    "        idx_ref.append(idx[:n_ref_c[_]])\n",
    "        idx_test.append(idx[n_ref_c[_]:n_ref_c[_] + n_test_c[_]])\n",
    "        idx_held.append(idx[n_ref_c[_] + n_test_c[_]:])\n",
    "    idx_ref = np.concatenate(idx_ref)\n",
    "    idx_test = np.concatenate(idx_test)\n",
    "    idx_held = np.concatenate(idx_held)\n",
    "    x_ref, y_ref = [x[_] for _ in idx_ref], y[idx_ref]\n",
    "    x_test, y_test = [x[_] for _ in idx_test], y[idx_test]\n",
    "    x_held, y_held = [x[_] for _ in idx_held], y[idx_held]\n",
    "    if y2 is not None:\n",
    "        y_ref2, y_test2, y_held2 = y2[idx_ref], y2[idx_test], y2[idx_held]\n",
    "        return (x_ref, y_ref, y_ref2), (x_test, y_test, y_test2), (x_held, y_held, y_held2)\n",
    "    elif not return_idx:\n",
    "        return (x_ref, y_ref), (x_test, y_test), (x_held, y_held)\n",
    "    else:\n",
    "        return idx_ref, idx_test, idx_held"
   ]
  },
  {
   "cell_type": "code",
   "execution_count": null,
   "id": "048938a3",
   "metadata": {},
   "outputs": [],
   "source": [
    "# initially assume equal distribution of topics in the reference data\n",
    "n_ref, n_test = 2000, 2000\n",
    "classes = dataset.target_names\n",
    "n_classes = len(classes)\n",
    "n_ref_c = n_ref // n_classes\n",
    "n_test_c = n_test // n_classes\n",
    "\n",
    "(x_ref, y_ref), (x_test, y_test), (x_held, y_held) = split_data(x_drift, y_drift, n_ref_c, n_test_c)"
   ]
  },
  {
   "cell_type": "markdown",
   "id": "d1661f27",
   "metadata": {},
   "source": [
    "We first define the embedding model using the pre-trained *SentenceTransformer* embeddings and then embed both the reference and test sets."
   ]
  },
  {
   "cell_type": "code",
   "execution_count": null,
   "id": "c9f10482",
   "metadata": {},
   "outputs": [],
   "source": [
    "model = EmbeddingModel()\n",
    "emb_ref = model(x_ref)\n",
    "emb_test = model(x_test)\n",
    "print(f'Shape of embedded reference and test data: {emb_ref.shape} - {emb_test.shape}')"
   ]
  },
  {
   "cell_type": "markdown",
   "id": "b1e0f5ad",
   "metadata": {},
   "source": [
    "By applying UMAP clustering on the *SentenceTransformer* embeddings, we can visually inspect the various news topic clusters. Note that we fit the clustering model on the held out data first, and then make predictions on the reference and test sets."
   ]
  },
  {
   "cell_type": "code",
   "execution_count": null,
   "id": "a442f484",
   "metadata": {},
   "outputs": [],
   "source": [
    "umap_model = UMAPModel()\n",
    "emb_held = model(x_held)\n",
    "umap_model.fit(emb_held, y=y_held)\n",
    "cluster_ref = umap_model.predict(emb_ref)\n",
    "cluster_test = umap_model.predict(emb_test)\n",
    "plot_clusters(cluster_ref, y_ref, classes, title='Reference data: clustered news topics')\n",
    "plot_clusters(cluster_test, y_test, classes, title='Test data: clustered news topics')"
   ]
  },
  {
   "cell_type": "markdown",
   "id": "f1c588d4",
   "metadata": {},
   "source": [
    "We can visually see that the reference and test set are made up of similar clusters of data, grouped by news topic. As a result, we would not expect drift to be flagged. If the data distribution did not change, we can expect the p-value distribution of our statistical test to be uniformly distributed between 0 and 1. So let's see if this assumption holds.\n",
    "\n",
    "Importantly, first we need to **define our context variable** for the context-aware MMD detector. In our experiments we allow the relative prevalences of subpopulations to vary while the distributions underlying each of the subpopulations remain unchanged. To achieve this we **condition on the prediction probabilities of the classifier we trained earlier to distinguish each of the 20 different news topics**. We can do this because the prediction probabilities can account for the frequency of occurrence of each of the topics (be it imperfectly given our classifier makes the occasional mistake)."
   ]
  },
  {
   "cell_type": "code",
   "execution_count": null,
   "id": "e55957ea",
   "metadata": {},
   "outputs": [],
   "source": [
    "from scipy.special import softmax\n",
    "\n",
    "\n",
    "def context(x: List[str], y: np.ndarray):  # y only needed for the data loader\n",
    "    \"\"\" Condition on classifier prediction probabilities. \"\"\"\n",
    "    loader = DataLoader(TorchDataset(x, y), batch_size=32, shuffle=False)\n",
    "    logits = eval_model(clf.eval(), loader, verbose=0)[0]\n",
    "    return softmax(logits, -1)"
   ]
  },
  {
   "cell_type": "markdown",
   "id": "e021771d",
   "metadata": {},
   "source": [
    "Before we set off our experiments, we embed all the instances in `x_drift` and compute all contexts `c_drift` so we don't have to call our transformer model every single pass in the for loop."
   ]
  },
  {
   "cell_type": "code",
   "execution_count": null,
   "id": "3fa35cbf",
   "metadata": {
    "code_folding": []
   },
   "outputs": [],
   "source": [
    "emb_drift = model(x_drift)\n",
    "c_drift = context(x_drift, y_drift)"
   ]
  },
  {
   "cell_type": "code",
   "execution_count": null,
   "id": "f5ec5840",
   "metadata": {
    "scrolled": true
   },
   "outputs": [],
   "source": [
    "from alibi_detect.cd import MMDDrift, ContextMMDDrift\n",
    "\n",
    "n_runs = 50  # number of drift detection runs, each with a different reference and test sample\n",
    "\n",
    "p_vals_mmd, p_vals_cad = [], []\n",
    "for _ in tqdm(range(n_runs)):\n",
    "    \n",
    "    # sample data\n",
    "    idx = np.random.choice(n_drift, size=n_drift, replace=False)\n",
    "    idx_ref, idx_test = idx[:n_ref], idx[n_ref:n_ref+n_test]\n",
    "    emb_ref, c_ref = emb_drift[idx_ref], c_drift[idx_ref]\n",
    "    emb_test, c_test = emb_drift[idx_test], c_drift[idx_test]\n",
    "    \n",
    "    # mmd drift detector\n",
    "    dd_mmd = MMDDrift(emb_ref, p_val=.05, n_permutations=100, backend='pytorch')\n",
    "    preds_mmd = dd_mmd.predict(emb_test)\n",
    "    p_vals_mmd.append(preds_mmd['data']['p_val'])\n",
    "    \n",
    "    # context-aware mmd drift detector \n",
    "    dd_cad = ContextMMDDrift(emb_ref, c_ref, p_val=.05, n_permutations=100, backend='pytorch')\n",
    "    preds_cad = dd_cad.predict(emb_test, c_test)\n",
    "    p_vals_cad.append(preds_cad['data']['p_val'])\n",
    "    \n",
    "p_vals_mmd = np.array(p_vals_mmd)\n",
    "p_vals_cad = np.array(p_vals_cad)"
   ]
  },
  {
   "cell_type": "markdown",
   "id": "54c1d04c",
   "metadata": {},
   "source": [
    "The below figure of the [Q-Q (Quantile-Quantile) plots](https://en.wikipedia.org/wiki/Q%E2%80%93Q_plot) of a random sample from the uniform distribution *U[0,1]* against the obtained p-values from the vanilla and context-aware MMD detectors illustrate how well both detectors are calibrated. A perfectly calibrated detector should have a Q-Q plot which closely follows the diagonal. Only the middle plot in the grid shows the detector's p-values. The other plots correspond to *n_runs* p-values actually sampled from *U[0,1]* to contextualise how well the central plot follows the diagonal given the limited number of samples.\n",
    "\n",
    "As expected we can see that both the normal MMD and the context-aware MMD detectors are well-calibrated."
   ]
  },
  {
   "cell_type": "code",
   "execution_count": null,
   "id": "ad7c9f67",
   "metadata": {},
   "outputs": [],
   "source": [
    "import statsmodels.api as sm\n",
    "from scipy.stats import uniform\n",
    "\n",
    "\n",
    "def plot_p_val_qq(p_vals: np.ndarray, title: str) -> None:\n",
    "    fig, axes = plt.subplots(nrows=3, ncols=3, sharex=True, sharey=True, figsize=(12,10))\n",
    "    fig.suptitle(title)\n",
    "    n = len(p_vals)\n",
    "    for i in range(9):\n",
    "        unifs = p_vals if i==4 else np.random.rand(n)\n",
    "        sm.qqplot(unifs, uniform(), line='45', ax=axes[i//3,i%3])\n",
    "        if i//3 < 2:\n",
    "            axes[i//3,i%3].set_xlabel('')\n",
    "        if i%3 != 0:\n",
    "            axes[i//3,i%3].set_ylabel('')"
   ]
  },
  {
   "cell_type": "code",
   "execution_count": null,
   "id": "0b9ec9e5",
   "metadata": {},
   "outputs": [],
   "source": [
    "plot_p_val_qq(p_vals_mmd, 'Q-Q plot MMD detector')\n",
    "plot_p_val_qq(p_vals_cad, 'Q-Q plot Context-Aware MMD detector')"
   ]
  },
  {
   "cell_type": "markdown",
   "id": "0020205d",
   "metadata": {},
   "source": [
    "## Changing the relative subpopulation prevalence\n",
    "\n",
    "We now focus our attention on a more realistic problem where the relative frequency of one or more subpopulations (i.e. news topics) is changing in a way which can be attributed to external events. Importantly, the distribution underlying each subpopulation (e.g. the distribution of *hockey* news itself) remains unchanged, only its frequency changes.\n",
    "\n",
    "In our example we assume that the World Series and Stanley Cup coincide on the calendar leading to a spike in news articles on respectively baseball and hockey. Furthermore, there is not too much news on Mac or Windows since there are no new releases or products planned anytime soon."
   ]
  },
  {
   "cell_type": "code",
   "execution_count": null,
   "id": "dedac062",
   "metadata": {},
   "outputs": [],
   "source": [
    "n_ref_c = 2000 // n_classes\n",
    "n_test_c = [100] * n_classes\n",
    "n_test_c[4], n_test_c[5] = 50, 50  # few stories on Mac/Windows\n",
    "n_test_c[9], n_test_c[10] = 150, 150  # more stories on baseball/hockey"
   ]
  },
  {
   "cell_type": "code",
   "execution_count": null,
   "id": "5f2024f7",
   "metadata": {
    "scrolled": true
   },
   "outputs": [],
   "source": [
    "n_runs = 50\n",
    "\n",
    "p_vals_mmd, p_vals_cad = [], []\n",
    "for _ in tqdm(range(n_runs)):\n",
    "    \n",
    "    # sample data\n",
    "    idx_ref, idx_test, _ = split_data(x_drift, y_drift, n_ref_c, n_test_c, return_idx=True)\n",
    "    emb_ref, c_ref = emb_drift[idx_ref], c_drift[idx_ref]\n",
    "    emb_test, c_test = emb_drift[idx_test], c_drift[idx_test]\n",
    "    \n",
    "    # mmd drift detector\n",
    "    dd_mmd = MMDDrift(emb_ref, p_val=.05, n_permutations=100, backend='pytorch')\n",
    "    preds_mmd = dd_mmd.predict(emb_test)\n",
    "    p_vals_mmd.append(preds_mmd['data']['p_val'])\n",
    "    \n",
    "    # context-aware mmd drift detector \n",
    "    dd_cad = ContextMMDDrift(emb_ref, c_ref, p_val=.05, n_permutations=100, backend='pytorch')\n",
    "    preds_cad = dd_cad.predict(emb_test, c_test)\n",
    "    p_vals_cad.append(preds_cad['data']['p_val'])\n",
    "    \n",
    "p_vals_mmd = np.array(p_vals_mmd)\n",
    "p_vals_cad = np.array(p_vals_cad)"
   ]
  },
  {
   "cell_type": "markdown",
   "id": "31a0bd95",
   "metadata": {},
   "source": [
    "While the **context-aware detector remains well calibrated**, the MMD detector consistently flags drift (low p-values). Note that this is the expected behaviour since the vanilla MMD detector cannot take any external context into account and correctly detects that the reference and test data do not follow the same underlying distribution."
   ]
  },
  {
   "cell_type": "code",
   "execution_count": null,
   "id": "c073f86b",
   "metadata": {},
   "outputs": [],
   "source": [
    "plot_p_val_qq(p_vals_mmd, 'Q-Q plot MMD detector')\n",
    "plot_p_val_qq(p_vals_cad, 'Q-Q plot Context-Aware MMD detector')"
   ]
  },
  {
   "cell_type": "markdown",
   "id": "35cca4b8",
   "metadata": {},
   "source": [
    "We can also easily see this on the plot below where the p-values of the context-aware detector are uniformly distributed while the MMD detector's p-values are consistently close to 0. Note that we limited the y-axis range to make the plot easier to read."
   ]
  },
  {
   "cell_type": "code",
   "execution_count": null,
   "id": "1700d6f4",
   "metadata": {},
   "outputs": [],
   "source": [
    "import seaborn as sns\n",
    "\n",
    "def plot_hist(\n",
    "    p_vals: List[np.ndarray],\n",
    "    title: str,\n",
    "    colors: List[str] = ['salmon', 'turquoise'],\n",
    "    methods: List[str] = ['MMD', 'CA-MMD']\n",
    "):\n",
    "    for p_val, method, color in zip(p_vals, methods, colors):\n",
    "        sns.distplot(p_val, color=color, norm_hist=True, kde=True, label=f'{method}', hist=True)\n",
    "        plt.legend(loc='upper right')\n",
    "    plt.xlim(0, 1)\n",
    "    plt.ylim(0, 20)\n",
    "    plt.ylabel('Density')\n",
    "    plt.xlabel('p-values')\n",
    "    plt.title(title)\n",
    "    plt.show();\n",
    "    \n",
    "p_vals = [p_vals_mmd, p_vals_cad]\n",
    "title = 'p-value distribution for a change in subpopulation prevalence'\n",
    "plot_hist(p_vals, title)"
   ]
  },
  {
   "cell_type": "markdown",
   "id": "97dd18bc",
   "metadata": {},
   "source": [
    "## Changing the subpopulation distribution\n",
    "\n",
    "In the following example we change the distribution of one or more of the underlying subpopulations. Notice that now we do want to **flag drift** since our context variable, which permits changes in relative subpopulation prevalences, can no longer explain the change in distribution. \n",
    "\n",
    "Imagine our news topic classification model is not as granular as before and instead of the 20 categories only predicts the 6 *super* classes, organised by subject matter:\n",
    "1. Computers\n",
    "    - comp.graphics; comp.os.ms-windows.misc; comp.sys.ibm.pc.hardware; comp.sys.mac.hardware; comp.windows.x\n",
    "2. Recreation\n",
    "    - rec.autos; rec.motorcycles; rec.sport.baseball; rec.sport.hockey\n",
    "3. Science\n",
    "    - sci.crypt; sci.electronics; sci.med; sci.space\n",
    "4. Miscellaneous\n",
    "    - misc.forsale\n",
    "5. Politics\n",
    "    - talk.politics.misc; talk.politics.guns; talk.politics.mideast\n",
    "6. Religion\n",
    "    - talk.religion.misc; talk.atheism; soc.religion.christian\n",
    "\n",
    "\n",
    "What if baseball and hockey become less popular and the distribution underlying the *Recreation* class changes? We will want to detect this as the change in distributions of the subpopulations (the 6 super classes) cannot be explained anymore by the context variable."
   ]
  },
  {
   "cell_type": "code",
   "execution_count": null,
   "id": "2ef3e22e",
   "metadata": {},
   "outputs": [],
   "source": [
    "# map the original target labels to super classes\n",
    "class_map = {\n",
    "    0: [1, 2, 3, 4, 5],\n",
    "    1: [7, 8, 9, 10],\n",
    "    2: [11, 12, 13, 14],\n",
    "    3: [6],\n",
    "    4: [16, 17, 18],\n",
    "    5: [0, 15, 19]\n",
    "}\n",
    "\n",
    "def map_to_super(y: np.ndarray):\n",
    "    y_super = np.zeros_like(y)\n",
    "    for k, v in class_map.items():\n",
    "        for _ in v:\n",
    "            idx_chg = np.where(y == _)[0]\n",
    "            y_super[idx_chg] = k\n",
    "    return y_super\n",
    "\n",
    "y_drift_super = map_to_super(y_drift)\n",
    "n_super = len(list(class_map.keys()))"
   ]
  },
  {
   "cell_type": "markdown",
   "id": "eef9d1ba",
   "metadata": {},
   "source": [
    "In order to reuse our pretrained classifier for the super classes, we add the following helper function to map the predictions on the super classes and return one-hot encoded predictions over the 6 super classes. Note that our context variable now changes from a probability distribution over the 20 news topics to a one-hot encoded representation over the 6 super classes."
   ]
  },
  {
   "cell_type": "code",
   "execution_count": null,
   "id": "d1c75160",
   "metadata": {},
   "outputs": [],
   "source": [
    "def ohe_super_preds(x: List[str], y: np.ndarray):\n",
    "    classes = np.argmax(context(x, y), -1)  # class predictions\n",
    "    classes_super = map_to_super(classes)  # map to super classes\n",
    "    return np.eye(n_super, dtype=np.float32)[classes_super]  # return OHE"
   ]
  },
  {
   "cell_type": "code",
   "execution_count": null,
   "id": "5f41af1e",
   "metadata": {
    "scrolled": true
   },
   "outputs": [],
   "source": [
    "n_ref_c, n_test_c = 1000 // n_super, 1000 // n_super\n",
    "n_runs = 50\n",
    "\n",
    "p_vals_mmd, p_vals_cad = [], []\n",
    "for _ in tqdm(range(n_runs)):\n",
    "    \n",
    "    # sample data\n",
    "    (x_ref, y_ref, y_ref2), (x_test, y_test, y_test2), (x_held, y_held, y_held2) = \\\n",
    "        split_data(x_drift, y_drift_super, n_ref_c, n_test_c, y2=y_drift)\n",
    "\n",
    "    # remove baseball and hockey from the recreation super class in the test set\n",
    "    idx_bb, idx_hock = np.where(y_test2 == 9)[0], np.where(y_test2 == 10)[0]\n",
    "    idx_remove = np.concatenate([idx_bb, idx_hock], 0)\n",
    "    x_test = [x_test[_] for _ in np.arange(len(x_test)) if _ not in idx_remove]\n",
    "    y_test = np.delete(y_test, idx_remove)\n",
    "    \n",
    "    # embed text\n",
    "    emb_ref = model(x_ref)\n",
    "    emb_test = model(x_test)\n",
    "    \n",
    "    # mmd drift detector\n",
    "    dd_mmd = MMDDrift(emb_ref, p_val=.05, n_permutations=100, backend='pytorch')\n",
    "    preds_mmd = dd_mmd.predict(emb_test)\n",
    "    p_vals_mmd.append(preds_mmd['data']['p_val'])\n",
    "    \n",
    "    # context-aware mmd drift detector \n",
    "    c_ref = ohe_super_preds(x_ref, y_ref)\n",
    "    c_test = ohe_super_preds(x_test, y_test)\n",
    "    dd_cad = ContextMMDDrift(emb_ref, c_ref, p_val=.05, n_permutations=100, backend='pytorch')\n",
    "    preds_cad = dd_cad.predict(emb_test, c_test)\n",
    "    p_vals_cad.append(preds_cad['data']['p_val'])\n",
    "    \n",
    "p_vals_mmd = np.array(p_vals_mmd)\n",
    "p_vals_cad = np.array(p_vals_cad)"
   ]
  },
  {
   "cell_type": "markdown",
   "id": "f97e9cb4",
   "metadata": {},
   "source": [
    "We can see that the context-aware detector is powerful to detect changes in the distributions of the subpopulations."
   ]
  },
  {
   "cell_type": "code",
   "execution_count": null,
   "id": "77988b90",
   "metadata": {},
   "outputs": [],
   "source": [
    "threshold = .05\n",
    "print(f'Power at {threshold * 100}% significance level')\n",
    "print(f'MMD: {(p_vals_mmd < threshold).mean():.3f}')\n",
    "print(f'Context-aware MMD: {(p_vals_cad < threshold).mean():.3f}')\n",
    "\n",
    "p_vals = [p_vals_mmd, p_vals_cad]\n",
    "title = 'p-value distribution for a change in subpopulation distribution'\n",
    "plot_hist(p_vals, title)"
   ]
  },
  {
   "cell_type": "markdown",
   "id": "60cd991a",
   "metadata": {},
   "source": [
    "## Detect unseen topics\n",
    "\n",
    "Next we illustrate the effectiveness of the context-aware detector to detect new topics which are not present in the reference data. Obviously we also want to **flag drift** in this case. As an example we introduce movie reviews in the test data."
   ]
  },
  {
   "cell_type": "code",
   "execution_count": null,
   "id": "729d0329",
   "metadata": {
    "scrolled": true
   },
   "outputs": [],
   "source": [
    "from datasets import load_dataset\n",
    "\n",
    "dataset = load_dataset(\"imdb\")\n",
    "x_imdb = dataset['train']['text']\n",
    "n_imdb = len(x_imdb)\n",
    "\n",
    "n_test_imdb = 100\n",
    "n_ref_c = 1000 // n_classes\n",
    "n_test_c = 1000 // n_classes"
   ]
  },
  {
   "cell_type": "code",
   "execution_count": null,
   "id": "a25cfc79",
   "metadata": {},
   "outputs": [],
   "source": [
    "n_runs = 50\n",
    "\n",
    "p_vals_mmd, p_vals_cad = [], []\n",
    "for _ in tqdm(range(n_runs)):\n",
    "    \n",
    "    # sample data\n",
    "    idx_ref, idx_test, _ = split_data(x_drift, y_drift, n_ref_c, n_test_c, return_idx=True)\n",
    "    emb_ref, c_ref = emb_drift[idx_ref], c_drift[idx_ref]\n",
    "    emb_test, c_test = emb_drift[idx_test], c_drift[idx_test]\n",
    "    \n",
    "    # add random imdb reviews to the test data\n",
    "    idx_imdb = np.random.choice(n_imdb, n_test_imdb, replace=False)\n",
    "    x_imdb_sample = [x_imdb[_] for _ in idx_imdb]\n",
    "    emb_imdb = model(x_imdb_sample)\n",
    "    c_imdb = context(x_imdb, np.zeros(len(x_imdb)))  # value second arg does not matter\n",
    "    emb_test = np.concatenate([emb_test, emb_imdb], 0)\n",
    "    c_test = np.concatenate([c_test, c_imdb], 0)\n",
    "    \n",
    "    # mmd drift detector\n",
    "    dd_mmd = MMDDrift(emb_ref, p_val=.05, n_permutations=100, backend='pytorch')\n",
    "    preds_mmd = dd_mmd.predict(emb_test)\n",
    "    p_vals_mmd.append(preds_mmd['data']['p_val'])\n",
    "    \n",
    "    # context-aware mmd drift detector\n",
    "    dd_cad = ContextMMDDrift(emb_ref, c_ref, p_val=.05, n_permutations=100, backend='pytorch')\n",
    "    preds_cad = dd_cad.predict(emb_test, c_test)\n",
    "    p_vals_cad.append(preds_cad['data']['p_val'])\n",
    "    \n",
    "p_vals_mmd = np.array(p_vals_mmd)\n",
    "p_vals_cad = np.array(p_vals_cad)"
   ]
  },
  {
   "cell_type": "code",
   "execution_count": null,
   "id": "4a439f4f",
   "metadata": {},
   "outputs": [],
   "source": [
    "threshold = .05\n",
    "print(f'Power at {threshold * 100}% significance level')\n",
    "print(f'MMD: {(p_vals_mmd < threshold).mean():.3f}')\n",
    "print(f'Context-aware MMD: {(p_vals_cad < threshold).mean():.3f}')"
   ]
  },
  {
   "cell_type": "markdown",
   "id": "8066d07b",
   "metadata": {},
   "source": [
    "\n",
    "## Changing the context variable\n",
    "\n",
    "So far we have conditioned the context-aware detector on the model predictions. There are however many other useful contexts possible. One such example would be to condition on the predictions of an unsupervised clustering algorithm. To facilitate this, we first apply kernel PCA on the embedding vectors, followed by a Gaussian mixture model which clusters the data into 6 classes (same as the super classes). We will test both the calibration under the null hypothesis (no distribution change) as well as the power when a new topic (movie reviews) is injected."
   ]
  },
  {
   "cell_type": "code",
   "execution_count": null,
   "id": "4b3db0dd",
   "metadata": {},
   "outputs": [],
   "source": [
    "from sklearn.decomposition import KernelPCA\n",
    "from sklearn.mixture import GaussianMixture\n",
    "\n",
    "# embed training data\n",
    "emb_train = model(x_train)\n",
    "\n",
    "# apply kernel PCA to reduce dimensionality\n",
    "kernel_pca = KernelPCA(n_components=10, kernel='linear')\n",
    "kernel_pca.fit(emb_train)\n",
    "emb_train_pca = kernel_pca.transform(emb_train)\n",
    "emb_drift_pca = kernel_pca.transform(emb_drift)\n",
    "\n",
    "# cluster the data\n",
    "y_train_super = map_to_super(y_train)\n",
    "n_clusters = len(np.unique(y_train_super))\n",
    "gmm = GaussianMixture(n_components=n_clusters, covariance_type='full', random_state=2022)\n",
    "gmm.fit(emb_train_pca)\n",
    "c_all_proba = gmm.predict_proba(emb_drift_pca)\n",
    "c_all_class = gmm.predict(emb_drift_pca)"
   ]
  },
  {
   "cell_type": "markdown",
   "id": "e6ec130b",
   "metadata": {},
   "source": [
    "Next we change the number of instances in each cluster between the reference and test sets. Note that we do not alter the underlying distribution of each of the clusters, just the frequency. "
   ]
  },
  {
   "cell_type": "code",
   "execution_count": null,
   "id": "4f7bcedf",
   "metadata": {},
   "outputs": [],
   "source": [
    "# determine cluster proportions for the reference and test samples\n",
    "n_ref_c = [100, 100, 100, 100, 100, 100]\n",
    "n_test_c = [50, 50, 100, 25, 75, 25]\n",
    "\n",
    "def sample_from_clusters():\n",
    "    idx_ref, idx_test = [], []\n",
    "    for _, (i_ref, i_test) in enumerate(zip(n_ref_c, n_test_c)):\n",
    "        idx_c = np.where(c_all_class == _)[0]\n",
    "        idx_shuffle = np.random.choice(idx_c, size=len(idx_c), replace=False)\n",
    "        idx_ref.append(idx_shuffle[:i_ref])\n",
    "        idx_test.append(idx_shuffle[i_ref:i_ref+i_test])\n",
    "    idx_ref = np.concatenate(idx_ref, 0)\n",
    "    idx_test = np.concatenate(idx_test, 0)\n",
    "    c_ref = c_all_proba[idx_ref]\n",
    "    c_test = c_all_proba[idx_test]\n",
    "    emb_ref = emb_drift[idx_ref]\n",
    "    emb_test = emb_drift[idx_test]\n",
    "    return c_ref, c_test, emb_ref, emb_test"
   ]
  },
  {
   "cell_type": "markdown",
   "id": "bcd5c0a3",
   "metadata": {},
   "source": [
    "Now we run the experiment and show the context-aware detector's calibration when changing the cluster frequencies. We also show how the usual MMD detector will consistently flag drift. Furthermore, we inject instances from the movie reviews dataset and illustrate that the context-aware detector remains powerful when the underlying cluster distribution changes (by including a previously unseen topic)."
   ]
  },
  {
   "cell_type": "code",
   "execution_count": null,
   "id": "7e5369b2",
   "metadata": {
    "scrolled": true
   },
   "outputs": [],
   "source": [
    "n_test_imdb = 100  # number of imdb instances for each run\n",
    "\n",
    "n_runs = 50\n",
    "\n",
    "p_vals_null, p_vals_alt, p_vals_mmd = [], [], []\n",
    "for _ in tqdm(range(n_runs)):\n",
    "    \n",
    "    # sample data\n",
    "    c_ref, c_test_null, emb_ref, emb_test_null = sample_from_clusters()\n",
    "    \n",
    "    # sample random imdb reviews\n",
    "    idx_imdb = np.random.choice(n_imdb, n_test_imdb, replace=False)\n",
    "    x_imdb_sample = [x_imdb[_] for _ in idx_imdb]\n",
    "    emb_imdb = model(x_imdb_sample)\n",
    "    c_imdb = gmm.predict_proba(kernel_pca.transform(emb_imdb))\n",
    "    \n",
    "    # now we mix in-distribution instances with the imdb reviews\n",
    "    emb_alt = np.concatenate([emb_test_null[:n_test_imdb], emb_imdb], 0)\n",
    "    c_alt = np.concatenate([c_test_null[:n_test_imdb], c_imdb], 0)\n",
    "    \n",
    "    # mmd drift detector\n",
    "    dd_mmd = MMDDrift(emb_ref, p_val=.05, n_permutations=100, backend='pytorch')\n",
    "    preds_mmd = dd_mmd.predict(emb_test_null)\n",
    "    p_vals_mmd.append(preds_mmd['data']['p_val'])\n",
    "    print(np.array(p_vals_mmd).mean())\n",
    "\n",
    "    # context-aware mmd drift detector\n",
    "    dd = ContextMMDDrift(emb_ref, c_ref, p_val=.05, n_permutations=100, backend='pytorch')\n",
    "    preds_null = dd.predict(emb_test_null, c_test_null)\n",
    "    preds_alt = dd.predict(emb_alt, c_alt)\n",
    "    p_vals_null.append(preds_null['data']['p_val'])\n",
    "    p_vals_alt.append(preds_alt['data']['p_val'])\n",
    "    print(np.array(p_vals_alt).mean())\n",
    "\n",
    "p_vals_null = np.array(p_vals_null)\n",
    "p_vals_alt = np.array(p_vals_alt)\n",
    "p_vals_mmd = np.array(p_vals_mmd)"
   ]
  },
  {
   "cell_type": "code",
   "execution_count": null,
   "id": "7d533ee0",
   "metadata": {},
   "outputs": [],
   "source": [
    "print(f'Power at {threshold * 100}% significance level')\n",
    "print(f'Context-aware MMD: {(p_vals_alt < threshold).mean():.3f}')\n",
    "plot_p_val_qq(p_vals_mmd, 'Q-Q plot MMD detector when changing the cluster frequencies')\n",
    "plot_p_val_qq(p_vals_null, 'Q-Q plot Context-Aware MMD detector when changing the cluster frequencies')"
   ]
  },
  {
   "cell_type": "markdown",
   "id": "a67a2edb",
   "metadata": {},
   "source": [
    "## Interpretability of the context-aware detector\n",
    "\n",
    "The test statistic $\\hat{t}$ of the context-aware MMD detector can be formulated as follows: $\\hat{t} = \\langle K_{0,0}, W_{0,0} \\rangle + \\langle K_{1,1}, W_{1,1} \\rangle -2\\langle K_{0,1}, W_{0,1}\\rangle$ where $0$ refers to the reference data, $1$ to the test data, and $W_{.,.}$ and $K_{.,.}$ are the weight and kernel matrices, respectively. The weight matrices $W_{.,.}$ allow us to focus on the distribution's subpopulations of interest. Reference instances which have similar contexts as the test data will have higher values for their entries in $W_{0,1}$ than instances with dissimilar contexts. We can therefore interpret $W_{0,1}$ as the coupling matrix between instances in the reference and the test sets. This allows us to investigate which subpopulations from the reference set are present and which are missing in the test data. If we also have a good understanding of the model performance on various subpopulations of the reference data, we could even try and use this coupling matrix to roughly proxy model performance on the unlabeled test instances. Note that in this case we would require labels from the reference data and make sure the reference instances come from the validation, not the training set. \n",
    "\n",
    "In the following example we only pick 2 classes to be present in the test set while all 20 are present in the reference set. We can then investigate via the coupling matrix whether the test statistic $\\hat{t}$ focused on the right classes in the reference data via $W_{0,1}$. More concretely, we can sum over the columns (the test instances) of $W_{0,1}$ and check which reference instances obtained the highest weights."
   ]
  },
  {
   "cell_type": "code",
   "execution_count": null,
   "id": "9b23da68",
   "metadata": {},
   "outputs": [],
   "source": [
    "n_ref_c = 2000 // n_classes\n",
    "n_test_c = [0] * n_classes\n",
    "n_test_c[9], n_test_c[10] = 200, 200  # only stories on baseball/hockey\n",
    "(x_ref, y_ref), (x_test, y_test), _ = split_data(x_drift, y_drift, n_ref_c, n_test_c)\n",
    "\n",
    "# embed data\n",
    "emb_ref = model(x_ref)\n",
    "emb_test = model(x_test)\n",
    "\n",
    "# condition using the classifier predictions\n",
    "c_ref = context(x_ref, y_ref)\n",
    "c_test = context(x_test, y_test)\n",
    "\n",
    "# initialise detector and make predictions\n",
    "dd = ContextMMDDrift(emb_ref, c_ref, p_val=.05, n_permutations=100, backend='pytorch')\n",
    "preds = dd.predict(emb_test, c_test, return_coupling=True)\n",
    "\n",
    "# no drift is detected since the distribution of \n",
    "# the subpopulations in the test set remain the same\n",
    "print(f'p-value: {preds[\"data\"][\"p_val\"]:.3f}')\n",
    "\n",
    "# extract coupling matrix between reference and test data\n",
    "W_01 = preds['data']['coupling_xy']\n",
    "\n",
    "# sum over test instances\n",
    "w_ref = W_01.sum(1)"
   ]
  },
  {
   "cell_type": "code",
   "execution_count": null,
   "id": "0cf2e15c",
   "metadata": {},
   "outputs": [],
   "source": [
    "# Map the top assigned reference weights to the associated instance labels\n",
    "# and select top 2 * n_ref_c. This tells us what the labels were of the reference \n",
    "# instances with the highest weights in the coupling matrix W_01.\n",
    "# Ideally this would correspond to instances from the baseball and hockey \n",
    "# classes in the reference set (labels 9 and 10).\n",
    "inds_ref_sort = np.argsort(w_ref)[::-1]\n",
    "y_sort = y_ref[inds_ref_sort][:2 * n_ref_c]\n",
    "\n",
    "# And indeed, we can see that we mainly matched with the correct reference instances!\n",
    "correct_match = np.array([y in [9, 10] for y in y_sort]).mean()\n",
    "print(f'The top {100 * correct_match:.2f}% couplings from the top coupled {2 * n_ref_c} instances '\n",
    "      'come from the baseball and hockey classes!')\n",
    "\n",
    "# We can also easily see from the sorted coupling weights that the test statistic \n",
    "# focuses on just the baseball and hockey classes in the reference set and then\n",
    "# the weights in the coupling matrix W_01 fall of a cliff.\n",
    "plt.plot(w_ref[inds_ref_sort]);\n",
    "plt.title('Sorted reference weights from the coupling matrix W_01');\n",
    "plt.ylabel('Reference instance weight in W_01');\n",
    "plt.xlabel('Instances sorted by weight in W_01');\n",
    "plt.show()"
   ]
  },
  {
   "cell_type": "code",
   "execution_count": null,
   "id": "366c083e",
   "metadata": {},
   "outputs": [],
   "source": []
  }
 ],
 "metadata": {
  "kernelspec": {
   "display_name": "Python 3 (ipykernel)",
   "language": "python",
   "name": "python3"
  },
  "language_info": {
   "codemirror_mode": {
    "name": "ipython",
    "version": 3
   },
   "file_extension": ".py",
   "mimetype": "text/x-python",
   "name": "python",
   "nbconvert_exporter": "python",
   "pygments_lexer": "ipython3",
   "version": "3.8.11"
  }
 },
 "nbformat": 4,
 "nbformat_minor": 5
}
