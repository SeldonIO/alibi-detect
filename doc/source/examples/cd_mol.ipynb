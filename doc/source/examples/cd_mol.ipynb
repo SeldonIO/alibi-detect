{
 "cells": [
  {
   "cell_type": "markdown",
   "id": "ce02ad0c",
   "metadata": {},
   "source": [
    "# Drift detection on molecular graphs\n",
    "\n",
    "## Methods\n",
    "\n",
    "We illustrate drift detection on molecular graphs using a variety of detectors:\n",
    "\n",
    "- [Kolmogorov-Smirnov detector](https://docs.seldon.io/projects/alibi-detect/en/latest/cd/methods/ksdrift.html) on the output of the binary classification [Graph Isomorphism Network](https://arxiv.org/abs/1810.00826) to detect **prediction distribution shift**.\n",
    "\n",
    "- [Model Uncertainty detector](https://docs.seldon.io/projects/alibi-detect/en/latest/cd/methods/modeluncdrift.html) which leverages a measure of uncertainty on the model predictions (in this case [MC dropout](https://arxiv.org/abs/1506.02142)) to detect drift which could lead to **degradation of model performance**.\n",
    "\n",
    "- [Maximum Mean Discrepancy detector](https://docs.seldon.io/projects/alibi-detect/en/latest/cd/methods/mmddrift.html) on graph embeddings to flag **drift in the input data**.\n",
    "\n",
    "- [Learned Kernel detector](https://docs.seldon.io/projects/alibi-detect/en/latest/cd/methods/learnedkerneldrift.html) which flags **drift in the input data** using a (deep) learned kernel. The method trains a (deep) kernel on part of the data to maximise an estimate of the test power. Once the kernel is learned a permutation test is performed in the usual way on the value of the Maximum Mean Discrepancy (MMD) on the held out test set.\n",
    "\n",
    "- [Kolmogorov-Smirnov detector](https://docs.seldon.io/projects/alibi-detect/en/latest/cd/methods/ksdrift.html) to see if **drift** occurred **on graph level statistics** such as the number of nodes, edges and the average clustering coefficient.\n",
    "\n",
    "\n",
    "## Dataset\n",
    "\n",
    "We will train a classification model and detect drift on the *ogbg-molhiv* dataset. The dataset contains molecular graphs with both atom features (*atomic number-1, chirality, node degree, formal charge, number of H bonds, number of radical electrons, hybridization, aromatic?, in a ring?*) and bond level properties (*bond type (e.g. single or double), bond stereo code, conjugated?*). The goal is to predict whether a molecule inhibits HIV virus replication or not, so the task is binary classification. \n",
    "\n",
    "The dataset is split using the *scaffold splitting* procedure. This means that the molecules are split based on their 2D structural framework. Structurally different molecules are grouped into different subsets (train, validation, test) which could mean that there is drift between the splits.\n",
    "\n",
    "The dataset is retrieved from the [Open Graph Benchmark](https://ogb.stanford.edu/docs/graphprop/#ogbg-mol) dataset collection.\n",
    "\n",
    "## Dependencies\n",
    "\n",
    "Besides `alibi-detect`, this example notebook also uses [PyTorch Geometric](https://pytorch-geometric.readthedocs.io/en/latest/notes/installation.html) and [OGB](https://ogb.stanford.edu/docs/home/), both of which can be installed via pip/conda."
   ]
  },
  {
   "cell_type": "code",
   "execution_count": 1,
   "id": "910f9936",
   "metadata": {},
   "outputs": [],
   "source": [
    "import numpy as np\n",
    "import os\n",
    "import torch\n",
    "\n",
    "def set_seed(seed: int) -> None:\n",
    "    torch.manual_seed(seed)\n",
    "    torch.cuda.manual_seed(seed)\n",
    "    np.random.seed(seed)\n",
    "\n",
    "set_seed(0)"
   ]
  },
  {
   "cell_type": "markdown",
   "id": "fd497b63",
   "metadata": {},
   "source": [
    "## Load and analyze data"
   ]
  },
  {
   "cell_type": "code",
   "execution_count": 2,
   "id": "6de4bc4a",
   "metadata": {},
   "outputs": [],
   "source": [
    "from ogb.graphproppred import PygGraphPropPredDataset\n",
    "from torch_geometric.data import DataLoader"
   ]
  },
  {
   "cell_type": "code",
   "execution_count": 3,
   "id": "e2eeaaa1",
   "metadata": {
    "scrolled": true
   },
   "outputs": [],
   "source": [
    "dataset_name = 'ogbg-molhiv'\n",
    "batch_size = 32\n",
    "dataset = PygGraphPropPredDataset(name=dataset_name)\n",
    "split_idx = dataset.get_idx_split()"
   ]
  },
  {
   "cell_type": "markdown",
   "id": "799fc764",
   "metadata": {},
   "source": [
    "We set some samples apart to serve as the reference data for our drift detectors. Note that the allowed format of the reference data is very flexible and can be `np.ndarray` or `List[Any]`:"
   ]
  },
  {
   "cell_type": "code",
   "execution_count": 4,
   "id": "545def71",
   "metadata": {},
   "outputs": [
    {
     "name": "stdout",
     "output_type": "stream",
     "text": [
      "Number of reference instances: 1000\n",
      "Number of H0 instances: 500\n"
     ]
    }
   ],
   "source": [
    "n_ref = 1000\n",
    "n_h0 = 500\n",
    "\n",
    "idx_tr = split_idx['train']\n",
    "idx_sample = np.random.choice(idx_tr.numpy(), size=n_ref + n_h0, replace=False)\n",
    "idx_ref, idx_h0 = idx_sample[:n_ref], idx_sample[n_ref:]\n",
    "x_ref = [dataset[i] for i in idx_ref]\n",
    "x_h0 = [dataset[i] for i in idx_h0]\n",
    "idx_tr = torch.from_numpy(np.setdiff1d(idx_tr, idx_sample))\n",
    "print(f'Number of reference instances: {len(x_ref)}')\n",
    "print(f'Number of H0 instances: {len(x_h0)}')"
   ]
  },
  {
   "cell_type": "code",
   "execution_count": 5,
   "id": "03bcb089",
   "metadata": {},
   "outputs": [
    {
     "name": "stdout",
     "output_type": "stream",
     "text": [
      "Number of train, val and test batches: 982, 129 and 129\n"
     ]
    }
   ],
   "source": [
    "dl_tr = DataLoader(dataset[idx_tr], batch_size=batch_size, shuffle=True)\n",
    "dl_val = DataLoader(dataset[split_idx['valid']], batch_size=batch_size, shuffle=False)\n",
    "dl_te = DataLoader(dataset[split_idx['test']], batch_size=batch_size, shuffle=False)\n",
    "print(f'Number of train, val and test batches: {len(dl_tr)}, {len(dl_val)} and {len(dl_te)}')"
   ]
  },
  {
   "cell_type": "code",
   "execution_count": 6,
   "id": "51e64302",
   "metadata": {},
   "outputs": [
    {
     "name": "stdout",
     "output_type": "stream",
     "text": [
      "\n",
      "Dataset: PygGraphPropPredDataset(41127):\n",
      "=============================================================\n",
      "Number of graphs: 41127\n",
      "Number of node features: 9\n",
      "Number of edge features: 3\n",
      "Number of classes: 2\n",
      "\n",
      "Example: Data(edge_attr=[40, 3], edge_index=[2, 40], x=[19, 9], y=[1, 1])\n",
      "=============================================================\n",
      "Number of nodes: 19\n",
      "Number of edges: 40\n",
      "Average node degree: 2.11\n",
      "Contains isolated nodes: False\n",
      "Contains self-loops: False\n",
      "Is undirected: True\n"
     ]
    }
   ],
   "source": [
    "ds = dataset\n",
    "print()\n",
    "print(f'Dataset: {ds}:')\n",
    "print('=============================================================')\n",
    "print(f'Number of graphs: {len(ds)}')\n",
    "print(f'Number of node features: {ds.num_node_features}')\n",
    "print(f'Number of edge features: {ds.num_edge_features}')\n",
    "print(f'Number of classes: {ds.num_classes}')\n",
    "\n",
    "i = 0\n",
    "d = ds[i]\n",
    "\n",
    "print(f'\\nExample: {d}')\n",
    "print('=============================================================')\n",
    "\n",
    "print(f'Number of nodes: {d.num_nodes}')\n",
    "print(f'Number of edges: {d.num_edges}')\n",
    "print(f'Average node degree: {d.num_edges / d.num_nodes:.2f}')\n",
    "print(f'Contains isolated nodes: {d.contains_isolated_nodes()}')\n",
    "print(f'Contains self-loops: {d.contains_self_loops()}')\n",
    "print(f'Is undirected: {d.is_undirected()}')"
   ]
  },
  {
   "cell_type": "markdown",
   "id": "61092348",
   "metadata": {},
   "source": [
    "Let's plot some graph summary statistics such as the distribution of the node degrees, number of nodes and edges as well as the clustering coefficients:"
   ]
  },
  {
   "cell_type": "code",
   "execution_count": 7,
   "id": "f914ef12",
   "metadata": {
    "scrolled": true
   },
   "outputs": [],
   "source": [
    "import matplotlib.pyplot as plt\n",
    "import networkx as nx\n",
    "from networkx.algorithms.cluster import clustering\n",
    "from torch_geometric.utils import degree, to_networkx\n",
    "from tqdm import tqdm\n",
    "from typing import Tuple\n",
    "\n",
    "\n",
    "def degrees_and_clustering(loader: DataLoader) -> Tuple[np.ndarray, np.ndarray, np.ndarray, np.ndarray]:\n",
    "    degrees, c_coeff, num_nodes, num_edges = [], [], [], []\n",
    "    for data in tqdm(loader):\n",
    "        row, col = data.edge_index\n",
    "        deg = degree(row, data.x.size(0), dtype=data.x.dtype)\n",
    "        degrees.append(deg.numpy())\n",
    "        g = to_networkx(data, node_attrs=['x'], edge_attrs=['edge_attr'], to_undirected=True)\n",
    "        c = list(clustering(g).values())\n",
    "        c_coeff.append(c)\n",
    "        num_nodes += [d.num_nodes for d in data.to_data_list()]\n",
    "        num_edges += [d.num_edges for d in data.to_data_list()]\n",
    "    degrees = np.concatenate(degrees, axis=0)\n",
    "    c_coeff = np.concatenate(c_coeff, axis=0)\n",
    "    return degrees, c_coeff, np.array(num_nodes), np.array(num_edges)\n",
    "\n",
    "\n",
    "# x: nodes, edges, degree, cluster\n",
    "def plot_histogram(x: str, bins: int = None, log: bool = True) -> None:\n",
    "    if x == 'nodes':\n",
    "        vals = [num_nodes_tr, num_nodes_val, num_nodes_te]\n",
    "    elif x == 'edges':\n",
    "        vals = [num_edges_tr, num_edges_val, num_edges_te]\n",
    "    elif x == 'degree':\n",
    "        vals = [degree_tr, degree_val, degree_te]\n",
    "    elif x == 'cluster':\n",
    "        vals = [cluster_tr, cluster_val, cluster_te]\n",
    "    labels = ['train', 'val', 'test']\n",
    "    for v, l in zip(vals, labels):\n",
    "        plt.hist(v, density=True, log=log, label=l, bins=bins)\n",
    "    plt.title(f'{x} distribution')\n",
    "    plt.legend()\n",
    "    plt.show()"
   ]
  },
  {
   "cell_type": "code",
   "execution_count": 8,
   "id": "2e5ff45c",
   "metadata": {},
   "outputs": [
    {
     "name": "stderr",
     "output_type": "stream",
     "text": [
      "100%|██████████| 982/982 [00:19<00:00, 50.56it/s]\n",
      "100%|██████████| 129/129 [00:03<00:00, 42.44it/s]\n",
      "100%|██████████| 129/129 [00:02<00:00, 48.92it/s]\n"
     ]
    }
   ],
   "source": [
    "degree_tr, cluster_tr, num_nodes_tr, num_edges_tr = degrees_and_clustering(dl_tr)\n",
    "degree_val, cluster_val, num_nodes_val, num_edges_val = degrees_and_clustering(dl_val)\n",
    "degree_te, cluster_te, num_nodes_te, num_edges_te = degrees_and_clustering(dl_te)"
   ]
  },
  {
   "cell_type": "code",
   "execution_count": 9,
   "id": "d1d3b2ae",
   "metadata": {},
   "outputs": [
    {
     "name": "stdout",
     "output_type": "stream",
     "text": [
      "Average number and stdev of nodes, edges, degree and clustering coefficients:\n",
      "\n",
      "Train...\n",
      "Nodes: 25.3 +- 12.0\n",
      "Edges: 54.1 +- 26.1\n",
      "Degree: 2.1 +- 0.8\n",
      "Clustering: 0.001 +- 0.028\n",
      "\n",
      "Validation...\n",
      "Nodes: 27.8 +- 12.8\n",
      "Edges: 61.1 +- 27.8\n",
      "Degree: 2.2 +- 0.8\n",
      "Clustering: 0.003 +- 0.042\n",
      "\n",
      "Test...\n",
      "Nodes: 25.3 +- 12.5\n",
      "Edges: 55.6 +- 27.1\n",
      "Degree: 2.2 +- 0.7\n",
      "Clustering: 0.004 +- 0.058\n"
     ]
    }
   ],
   "source": [
    "print('Average number and stdev of nodes, edges, degree and clustering coefficients:')\n",
    "print('\\nTrain...')\n",
    "print(f'Nodes: {num_nodes_tr.mean():.1f} +- {num_nodes_tr.std():.1f}')\n",
    "print(f'Edges: {num_edges_tr.mean():.1f} +- {num_edges_tr.std():.1f}')\n",
    "print(f'Degree: {degree_tr.mean():.1f} +- {degree_tr.std():.1f}')\n",
    "print(f'Clustering: {cluster_tr.mean():.3f} +- {cluster_tr.std():.3f}')\n",
    "\n",
    "print('\\nValidation...')\n",
    "print(f'Nodes: {num_nodes_val.mean():.1f} +- {num_nodes_val.std():.1f}')\n",
    "print(f'Edges: {num_edges_val.mean():.1f} +- {num_edges_val.std():.1f}')\n",
    "print(f'Degree: {degree_val.mean():.1f} +- {degree_val.std():.1f}')\n",
    "print(f'Clustering: {cluster_val.mean():.3f} +- {cluster_val.std():.3f}')\n",
    "\n",
    "print('\\nTest...')\n",
    "print(f'Nodes: {num_nodes_te.mean():.1f} +- {num_nodes_te.std():.1f}')\n",
    "print(f'Edges: {num_edges_te.mean():.1f} +- {num_edges_te.std():.1f}')\n",
    "print(f'Degree: {degree_te.mean():.1f} +- {degree_te.std():.1f}')\n",
    "print(f'Clustering: {cluster_te.mean():.3f} +- {cluster_te.std():.3f}')"
   ]
  },
  {
   "cell_type": "code",
   "execution_count": 10,
   "id": "93b7ddf9",
   "metadata": {},
   "outputs": [
    {
     "data": {
      "image/png": "[encoded data removed]",
      "text/plain": [
       "<Figure size 432x288 with 1 Axes>"
      ]
     },
     "metadata": {
      "needs_background": "light"
     },
     "output_type": "display_data"
    },
    {
     "data": {
      "image/png": "[encoded data removed]",
      "text/plain": [
       "<Figure size 432x288 with 1 Axes>"
      ]
     },
     "metadata": {
      "needs_background": "light"
     },
     "output_type": "display_data"
    },
    {
     "data": {
      "image/png": "[encoded data removed]",
      "text/plain": [
       "<Figure size 432x288 with 1 Axes>"
      ]
     },
     "metadata": {
      "needs_background": "light"
     },
     "output_type": "display_data"
    },
    {
     "data": {
      "image/png": "[encoded data removed]",
      "text/plain": [
       "<Figure size 432x288 with 1 Axes>"
      ]
     },
     "metadata": {
      "needs_background": "light"
     },
     "output_type": "display_data"
    }
   ],
   "source": [
    "plot_histogram('nodes', bins=50)\n",
    "plot_histogram('edges', bins=50)\n",
    "plot_histogram('degree')\n",
    "plot_histogram('cluster')"
   ]
  },
  {
   "cell_type": "markdown",
   "id": "dbfe20cb",
   "metadata": {},
   "source": [
    "While the average number of nodes and edges are similar across the splits, the histograms show that the tails are slightly heavier for the training graphs."
   ]
  },
  {
   "cell_type": "markdown",
   "id": "1af88b23",
   "metadata": {},
   "source": [
    "## Plot molecules\n",
    "\n",
    "We borrow code from the PyTorch Geometric [GNN explanation example](https://colab.research.google.com/drive/1fLJbFPz0yMCQg81DdCP5I8jXw9LoggKO?usp=sharing#scrollTo=9Hh3YNASuYxm) to visualize molecules from the graph objects."
   ]
  },
  {
   "cell_type": "code",
   "execution_count": 11,
   "id": "24e61eea",
   "metadata": {},
   "outputs": [],
   "source": [
    "def draw_molecule(g, edge_mask=None, draw_edge_labels=False):\n",
    "    g = g.copy().to_undirected()\n",
    "    node_labels = {}\n",
    "    for u, data in g.nodes(data=True):\n",
    "        node_labels[u] = data['name']\n",
    "    pos = nx.planar_layout(g)\n",
    "    pos = nx.spring_layout(g, pos=pos)\n",
    "    if edge_mask is None:\n",
    "        edge_color = 'black'\n",
    "        widths = None\n",
    "    else:\n",
    "        edge_color = [edge_mask[(u, v)] for u, v in g.edges()]\n",
    "        widths = [x * 10 for x in edge_color]\n",
    "    nx.draw(g, pos=pos, labels=node_labels, width=widths,\n",
    "            edge_color=edge_color, edge_cmap=plt.cm.Blues,\n",
    "            node_color='azure')\n",
    "    \n",
    "    if draw_edge_labels and edge_mask is not None:\n",
    "        edge_labels = {k: ('%.2f' % v) for k, v in edge_mask.items()}    \n",
    "        nx.draw_networkx_edge_labels(g, pos, edge_labels=edge_labels,\n",
    "                                    font_color='red')\n",
    "    plt.show()\n",
    "\n",
    "\n",
    "def to_molecule(data):\n",
    "    ATOM_MAP = ['H', 'He', 'Li', 'Be', 'B', 'C', 'N', 'O', 'F', 'Ne', 'Na', 'Mg', 'Al', 'Si', 'P',\n",
    "                'S', 'Cl', 'Ar', 'K', 'Ca', 'Sc', 'Ti', 'V', 'Cr', 'Mn', 'Fe', 'Co', 'Ni', 'Cu', 'Zn',\n",
    "                'Ga', 'Ge', 'As', 'Se', 'Br', 'Kr', 'Rb', 'Sr', 'Y']\n",
    "    g = to_networkx(data, node_attrs=['x'])\n",
    "    for u, data in g.nodes(data=True):\n",
    "        data['name'] = ATOM_MAP[data['x'][0]]\n",
    "        del data['x']\n",
    "    return g"
   ]
  },
  {
   "cell_type": "code",
   "execution_count": 12,
   "id": "00c10c7c",
   "metadata": {},
   "outputs": [
    {
     "data": {
      "image/png": "[encoded data removed]",
      "text/plain": [
       "<Figure size 720x360 with 1 Axes>"
      ]
     },
     "metadata": {},
     "output_type": "display_data"
    }
   ],
   "source": [
    "i = 0\n",
    "mol = to_molecule(dataset[i])\n",
    "plt.figure(figsize=(10, 5))\n",
    "draw_molecule(mol)"
   ]
  },
  {
   "cell_type": "markdown",
   "id": "50c1eb31",
   "metadata": {},
   "source": [
    "## Train and evaluate a GNN classification model\n",
    "\n",
    "As our classifier we use a variation of a [Graph Isomorphism Network](https://arxiv.org/abs/1810.00826) incorporating edge (bond) as well as node (atom) features."
   ]
  },
  {
   "cell_type": "code",
   "execution_count": 13,
   "id": "4aeb1f79",
   "metadata": {},
   "outputs": [],
   "source": [
    "import torch.nn as nn\n",
    "import torch.nn.functional as F\n",
    "from torch_geometric.data.batch import Batch\n",
    "from torch_geometric.nn import MessagePassing, global_add_pool, global_max_pool, global_mean_pool, LayerNorm\n",
    "from ogb.graphproppred.mol_encoder import AtomEncoder, BondEncoder\n",
    "\n",
    "\n",
    "class GINConv(MessagePassing):\n",
    "    def __init__(self, emb_dim: int) -> None:\n",
    "        super().__init__(aggr='add')\n",
    "        self.mlp = nn.Sequential(\n",
    "            nn.Linear(emb_dim, 2 * emb_dim),\n",
    "            nn.BatchNorm1d(2 * emb_dim),\n",
    "            nn.ReLU(),\n",
    "            nn.Linear(2 * emb_dim, emb_dim)\n",
    "        )\n",
    "        self.eps = nn.Parameter(torch.Tensor([0.]))\n",
    "        self.bond_encoder = BondEncoder(emb_dim=emb_dim)  # encode edge features\n",
    "\n",
    "    def forward(self, x: torch.Tensor, edge_index: torch.Tensor, edge_attr: torch.Tensor) -> torch.Tensor:\n",
    "        edge_emb = self.bond_encoder(edge_attr)\n",
    "        return self.mlp((1 + self.eps) * x + self.propagate(edge_index, x=x, edge_attr=edge_emb))\n",
    "\n",
    "    def message(self, x_j: torch.Tensor, edge_attr: torch.Tensor) -> torch.Tensor:\n",
    "        return x_j + edge_attr\n",
    "\n",
    "    def update(self, aggr_out: torch.Tensor) -> torch.Tensor:\n",
    "        return aggr_out\n",
    "\n",
    "\n",
    "class GIN(nn.Module):\n",
    "    def __init__(self, n_layer: int = 5, emb_dim: int = 64, n_out: int = 2, dropout: float = .5,\n",
    "                 jk: bool = True, residual: bool = True, pool: str = 'add', norm: str = 'batch') -> None:\n",
    "        super().__init__()\n",
    "        self.n_layer = n_layer\n",
    "        self.jk = jk  # jumping-knowledge\n",
    "        self.residual = residual  # residual/skip connections\n",
    "        self.atom_encoder = AtomEncoder(emb_dim=emb_dim)  # encode node features\n",
    "        self.convs = nn.ModuleList([GINConv(emb_dim) for _ in range(n_layer)])\n",
    "        norm = nn.BatchNorm1d if norm == 'batch' else LayerNorm\n",
    "        self.bns = nn.ModuleList([norm(emb_dim) for _ in range(n_layer)])\n",
    "        if pool == 'mean':\n",
    "            self.pool = global_mean_pool\n",
    "        elif pool == 'add':\n",
    "            self.pool = global_add_pool\n",
    "        elif pool == 'max':\n",
    "            self.pool = global_max_pool\n",
    "        pool_dim = (n_layer + 1) * emb_dim if jk else emb_dim\n",
    "        self.linear = nn.Linear(pool_dim, n_out)\n",
    "        self.dropout = nn.Dropout(p=dropout)\n",
    "\n",
    "    def forward(self, data: Batch) -> torch.Tensor:\n",
    "        x, edge_index, edge_attr, batch = data.x, data.edge_index, data.edge_attr, data.batch\n",
    "        # node embeddings\n",
    "        hs = [self.atom_encoder(x)]\n",
    "        for layer in range(self.n_layer):\n",
    "            h = self.convs[layer](hs[layer], edge_index, edge_attr)\n",
    "            h = self.bns[layer](h)\n",
    "            if layer < self.n_layer - 1:\n",
    "                h = F.relu(h)\n",
    "            if self.residual:\n",
    "                h += hs[layer]\n",
    "            hs += [h]\n",
    "        # graph embedding and prediction\n",
    "        if self.jk:\n",
    "            h = torch.cat([h for h in hs], -1)\n",
    "        h_pool = self.pool(h, batch)\n",
    "        h_drop = self.dropout(h_pool)\n",
    "        h_out = self.linear(h_drop)\n",
    "        return h_out"
   ]
  },
  {
   "cell_type": "code",
   "execution_count": 14,
   "id": "64275293",
   "metadata": {
    "scrolled": true
   },
   "outputs": [
    {
     "name": "stdout",
     "output_type": "stream",
     "text": [
      "device: cuda\n"
     ]
    }
   ],
   "source": [
    "device = torch.device('cuda' if torch.cuda.is_available() else 'cpu')\n",
    "print(f'device: {device}')\n",
    "\n",
    "n_layer = 5\n",
    "emb_dim = 300\n",
    "n_out = 1\n",
    "dropout = .5\n",
    "jk = True\n",
    "residual = False\n",
    "pool = 'mean'\n",
    "norm = 'batch'\n",
    "\n",
    "model = GIN(n_layer, emb_dim, n_out, dropout, jk, residual, pool, norm).to(device)"
   ]
  },
  {
   "cell_type": "markdown",
   "id": "332f2f6c",
   "metadata": {},
   "source": [
    "Train and evaluate the model. Evaluation is done using [ROC-AUC](https://scikit-learn.org/stable/modules/generated/sklearn.metrics.roc_auc_score.html). If you already have a trained model saved, you can directly load it by specifying the `load_path`:"
   ]
  },
  {
   "cell_type": "code",
   "execution_count": 15,
   "id": "e9ad612b",
   "metadata": {},
   "outputs": [],
   "source": [
    "load_path = 'gnn'  # set to None if no pretrained model available"
   ]
  },
  {
   "cell_type": "code",
   "execution_count": 16,
   "id": "431050be",
   "metadata": {
    "scrolled": true
   },
   "outputs": [
    {
     "name": "stdout",
     "output_type": "stream",
     "text": [
      "train ROC-AUC: 0.961 -- loss: 0.070\n",
      "val ROC-AUC: 0.829 -- loss: 0.084\n",
      "test ROC-AUC: 0.753 -- loss: 0.163\n"
     ]
    }
   ],
   "source": [
    "from ogb.graphproppred import Evaluator\n",
    "from tqdm import tqdm\n",
    "\n",
    "criterion = nn.BCEWithLogitsLoss()\n",
    "optim = torch.optim.Adam(model.parameters(), lr=.001)\n",
    "evaluator = Evaluator(name=dataset_name)  # ROC-AUC for ogbg-molhiv\n",
    "\n",
    "\n",
    "def train(loader: DataLoader, verbose: bool = False) -> None:\n",
    "    dl = tqdm(loader, total=len(loader)) if verbose else loader\n",
    "    model.train()\n",
    "    for data in dl:\n",
    "        data = data.to(device)\n",
    "        optim.zero_grad()\n",
    "        y_hat = model(data)\n",
    "        is_labeled = data.y == data.y\n",
    "        loss = criterion(y_hat[is_labeled], data.y[is_labeled].float())\n",
    "        loss.backward()\n",
    "        optim.step()\n",
    "        if verbose:\n",
    "            dl.set_postfix(dict(loss=loss.item()))\n",
    "\n",
    "\n",
    "def evaluate(loader: DataLoader, split: str, verbose: bool = False) -> float:\n",
    "    dl = tqdm(loader, total=len(loader)) if verbose else loader\n",
    "    model.eval()\n",
    "    y_pred, y_true = [], []\n",
    "    for data in dl:\n",
    "        data = data.to(device)\n",
    "        with torch.no_grad():\n",
    "            y_hat = model(data)\n",
    "        y_pred.append(y_hat.cpu())\n",
    "        y_true.append(data.y.float().cpu())\n",
    "    y_true = torch.cat(y_true, dim=0)\n",
    "    y_pred = torch.cat(y_pred, dim=0)\n",
    "    loss = criterion(y_pred, y_true)\n",
    "    input_dict = dict(y_true=y_true, y_pred=y_pred)\n",
    "    result_dict = evaluator.eval(input_dict)\n",
    "    print(f'{split} ROC-AUC: {result_dict[\"rocauc\"]:.3f} -- loss: {loss:.3f}')\n",
    "    return result_dict[\"rocauc\"]\n",
    "\n",
    "\n",
    "if load_path is None or not os.path.isdir(load_path):\n",
    "    epochs = 150\n",
    "    rocauc_best = 0.\n",
    "    save_path = 'gnn'\n",
    "    for epoch in range(epochs):\n",
    "        print(f'\\nEpoch {epoch + 1} / {epochs}')\n",
    "        train(dl_tr)\n",
    "        _ = evaluate(dl_tr, 'train')\n",
    "        rocauc = evaluate(dl_val, 'val')\n",
    "        if rocauc > rocauc_best and os.path.isdir(save_path):\n",
    "            print('Saving new best model.')\n",
    "            rocauc_best = rocauc\n",
    "            torch.save(model.state_dict(), os.path.join(save_path, 'model.dict'))\n",
    "        _ = evaluate(dl_te, 'test')\n",
    "    load_path = save_path\n",
    "\n",
    "\n",
    "# load (best) model\n",
    "model.load_state_dict(torch.load(os.path.join(load_path, 'model.dict')))\n",
    "_ = evaluate(dl_tr, 'train')\n",
    "_ = evaluate(dl_val, 'val')\n",
    "_ = evaluate(dl_te, 'test')"
   ]
  },
  {
   "cell_type": "markdown",
   "id": "d10f97b7",
   "metadata": {},
   "source": [
    "## Detect drift\n",
    "\n",
    "### Prediction distribution drift\n",
    "\n",
    "We will first detect drift on the prediction distribution of the GIN model. Since the binary classification model returns continuous numerical univariate predictions, we use the [Kolmogorov-Smirnov drift detector](https://docs.seldon.io/projects/alibi-detect/en/latest/cd/methods/ksdrift.html). First we define some utility functions:"
   ]
  },
  {
   "cell_type": "code",
   "execution_count": 17,
   "id": "4b893d04",
   "metadata": {},
   "outputs": [],
   "source": [
    "from torch_geometric.data import Batch, Data\n",
    "from typing import Dict, List, Union\n",
    "\n",
    "\n",
    "labels = ['No!', 'Yes!']\n",
    "def make_predictions(dd, xs: Dict[str, List[Data]]) -> None:\n",
    "    for split, x in xs.items():\n",
    "        preds = dd.predict(x)\n",
    "        dl = DataLoader(x, batch_size=32, shuffle=False)\n",
    "        _ = evaluate(dl, split)\n",
    "        print('Drift? {}'.format(labels[preds['data']['is_drift']]))\n",
    "        if isinstance(preds[\"data\"][\"p_val\"], (list, np.ndarray)):\n",
    "            print(f'p-value: {preds[\"data\"][\"p_val\"]}')\n",
    "        else:\n",
    "            print(f'p-value: {preds[\"data\"][\"p_val\"]:.3f}')\n",
    "        print('')\n",
    "        \n",
    "\n",
    "def sample(split: str, n: int, ) -> List[Data]:\n",
    "    idx = np.random.choice(split_idx[split].numpy(), size=n, replace=False)\n",
    "    return [dataset[i] for i in idx]"
   ]
  },
  {
   "cell_type": "markdown",
   "id": "ff360014",
   "metadata": {},
   "source": [
    "Because we pass lists with `torch_geometric.data.Data` objects to the detector, we need to preprocess the data using the `batch_fn` into `torch_geometric.data.Batch` objects which can be fed to the model. Then we detect drift on the model prediction distribution."
   ]
  },
  {
   "cell_type": "code",
   "execution_count": 18,
   "id": "965f880d",
   "metadata": {},
   "outputs": [
    {
     "name": "stderr",
     "output_type": "stream",
     "text": [
      "WARNING:alibi_detect.cd.utils:Input shape could not be inferred. If alibi_detect.models.tensorflow.embedding.TransformerEmbedding is used as preprocessing step, a saved detector cannot be reinitialized.\n"
     ]
    }
   ],
   "source": [
    "from alibi_detect.cd import KSDrift\n",
    "from alibi_detect.utils.pytorch import predict_batch\n",
    "from functools import partial\n",
    "\n",
    "\n",
    "def batch_fn(data: Union[List[Data], Batch]) -> Batch:\n",
    "    if isinstance(data, Batch):\n",
    "        return data\n",
    "    else:\n",
    "        return Batch().from_data_list(data)\n",
    "\n",
    "\n",
    "preprocess_fn = partial(predict_batch, model=model, device=device, preprocess_fn=batch_fn, batch_size=32)\n",
    "dd = KSDrift(x_ref, p_val=.05, preprocess_fn=preprocess_fn)"
   ]
  },
  {
   "cell_type": "markdown",
   "id": "1f003b84",
   "metadata": {},
   "source": [
    "Since the dataset is heavily imbalanced, we will test the detectors on a sample which oversamples from the minority class (molecules which inhibit HIV virus replication):"
   ]
  },
  {
   "cell_type": "code",
   "execution_count": 19,
   "id": "1a7cf139",
   "metadata": {},
   "outputs": [
    {
     "name": "stdout",
     "output_type": "stream",
     "text": [
      "# instances: 630 -- # class 1: 130\n"
     ]
    }
   ],
   "source": [
    "split = 'test'\n",
    "x_imb = sample(split, 500)\n",
    "n = 0\n",
    "for i in split_idx[split]:\n",
    "    if dataset[i].y[0].item() == 1:\n",
    "        x_imb.append(dataset[i])\n",
    "        n += 1\n",
    "print(f'# instances: {len(x_imb)} -- # class 1: {n}')"
   ]
  },
  {
   "cell_type": "code",
   "execution_count": 20,
   "id": "5e8bfb9f",
   "metadata": {},
   "outputs": [
    {
     "name": "stdout",
     "output_type": "stream",
     "text": [
      "H0 ROC-AUC: 0.763 -- loss: 0.208\n",
      "Drift? No!\n",
      "p-value: [0.84936297]\n",
      "\n",
      "test sample ROC-AUC: 0.736 -- loss: 0.150\n",
      "Drift? No!\n",
      "p-value: [0.13626936]\n",
      "\n",
      "imbalanced sample ROC-AUC: 0.749 -- loss: 0.940\n",
      "Drift? Yes!\n",
      "p-value: [4.5092685e-05]\n",
      "\n"
     ]
    }
   ],
   "source": [
    "xs = {'H0': x_h0, 'test sample': sample('test', 500), 'imbalanced sample': x_imb}\n",
    "make_predictions(dd, xs)"
   ]
  },
  {
   "cell_type": "markdown",
   "id": "43a9054e",
   "metadata": {},
   "source": [
    "As expected, prediction distribution shift is detected for the imbalanced sample but not for the random test sample with similar label distribution as the reference data.\n",
    "\n",
    "### Prediction uncertainty drift\n",
    "\n",
    "The [model uncertainty drift detector](https://docs.seldon.io/projects/alibi-detect/en/latest/cd/methods/modeluncdrift.html) can pick up when the model predictions drift into areas of changed uncertainty compared to the reference data. This can be a good proxy for drift which results in model performance degradation. The uncertainty is estimated via a Monte Carlo estimate ([MC dropout](https://arxiv.org/abs/1506.02142)). We use the [RegressorUncertaintyDrift detector](https://docs.seldon.io/projects/alibi-detect/en/latest/cd/methods/modeluncdrift.html) since our binary classification model returns 1D logits."
   ]
  },
  {
   "cell_type": "code",
   "execution_count": 21,
   "id": "4e701bff",
   "metadata": {
    "scrolled": false
   },
   "outputs": [
    {
     "name": "stderr",
     "output_type": "stream",
     "text": [
      "WARNING:alibi_detect.cd.utils:Input shape could not be inferred. If alibi_detect.models.tensorflow.embedding.TransformerEmbedding is used as preprocessing step, a saved detector cannot be reinitialized.\n"
     ]
    }
   ],
   "source": [
    "from alibi_detect.cd import RegressorUncertaintyDrift\n",
    "\n",
    "dd = RegressorUncertaintyDrift(x_ref, model=model, backend='pytorch', p_val=.05, n_evals=100,\n",
    "                               uncertainty_type='mc_dropout', preprocess_batch_fn=batch_fn)"
   ]
  },
  {
   "cell_type": "code",
   "execution_count": 22,
   "id": "fbbff246",
   "metadata": {},
   "outputs": [
    {
     "name": "stdout",
     "output_type": "stream",
     "text": [
      "H0 ROC-AUC: 0.763 -- loss: 0.208\n",
      "Drift? No!\n",
      "p-value: [0.52494323]\n",
      "\n",
      "test sample ROC-AUC: 0.736 -- loss: 0.150\n",
      "Drift? Yes!\n",
      "p-value: [0.]\n",
      "\n",
      "imbalanced sample ROC-AUC: 0.749 -- loss: 0.940\n",
      "Drift? Yes!\n",
      "p-value: [0.]\n",
      "\n"
     ]
    }
   ],
   "source": [
    "make_predictions(dd, xs)"
   ]
  },
  {
   "cell_type": "markdown",
   "id": "8b765295",
   "metadata": {},
   "source": [
    "Although we didn't pick up drift in the GIN model prediction distribution for the test sample, we can see that the model is less certain about the predictions on the test set, illustrated by the lower ROC-AUC.\n",
    "\n",
    "### Input data drift using the MMD detector\n",
    "\n",
    "We can also more detect drift on the input data by encoding the data with a randomly initialized GNN to extract graph embeddings. Then we apply our detector of choice, e.g. the [MMD detector](https://docs.seldon.io/projects/alibi-detect/en/latest/cd/methods/mmddrift.html) on the extracted embeddings."
   ]
  },
  {
   "cell_type": "code",
   "execution_count": 23,
   "id": "897077b0",
   "metadata": {},
   "outputs": [],
   "source": [
    "class Encoder(nn.Module):\n",
    "    def __init__(self, n_layer: int = 1, emb_dim: int = 64, jk: bool = True, \n",
    "                 residual: bool = True, pool: str = 'add', norm: str = 'batch') -> None:\n",
    "        super().__init__()\n",
    "        self.n_layer = n_layer\n",
    "        self.jk = jk  # jumping-knowledge\n",
    "        self.residual = residual  # residual/skip connections\n",
    "        self.atom_encoder = AtomEncoder(emb_dim=emb_dim)  # encode node features\n",
    "        self.convs = nn.ModuleList([GINConv(emb_dim) for _ in range(n_layer)])\n",
    "        norm = nn.BatchNorm1d if norm == 'batch' else LayerNorm\n",
    "        self.bns = nn.ModuleList([norm(emb_dim) for _ in range(n_layer)])\n",
    "        self.pool = global_add_pool\n",
    "\n",
    "    def forward(self, data: Batch) -> torch.Tensor:\n",
    "        x, edge_index, edge_attr, batch = data.x, data.edge_index, data.edge_attr, data.batch\n",
    "        # node embeddings\n",
    "        hs = [self.atom_encoder(x)]\n",
    "        for layer in range(self.n_layer):\n",
    "            h = self.convs[layer](hs[layer], edge_index, edge_attr)\n",
    "            h = self.bns[layer](h)\n",
    "            if layer < self.n_layer - 1:\n",
    "                h = F.relu(h)\n",
    "            if self.residual:\n",
    "                h += hs[layer]\n",
    "            hs += [h]\n",
    "        # graph embedding and prediction\n",
    "        if self.jk:\n",
    "            h = torch.cat([h for h in hs], -1)\n",
    "        h_out = self.pool(h, batch)\n",
    "        return h_out"
   ]
  },
  {
   "cell_type": "code",
   "execution_count": 24,
   "id": "84a30106",
   "metadata": {},
   "outputs": [
    {
     "name": "stderr",
     "output_type": "stream",
     "text": [
      "WARNING:alibi_detect.cd.utils:Input shape could not be inferred. If alibi_detect.models.tensorflow.embedding.TransformerEmbedding is used as preprocessing step, a saved detector cannot be reinitialized.\n"
     ]
    }
   ],
   "source": [
    "from alibi_detect.cd import MMDDrift\n",
    "\n",
    "enc = Encoder(n_layer=1).to(device)\n",
    "preprocess_fn = partial(predict_batch, model=enc, device=device, preprocess_fn=batch_fn, batch_size=32)\n",
    "dd = MMDDrift(x_ref, backend='pytorch', p_val=.05, n_permutations=1000, preprocess_fn=preprocess_fn)"
   ]
  },
  {
   "cell_type": "code",
   "execution_count": 25,
   "id": "28169267",
   "metadata": {},
   "outputs": [
    {
     "name": "stdout",
     "output_type": "stream",
     "text": [
      "H0 ROC-AUC: 0.763 -- loss: 0.208\n",
      "Drift? No!\n",
      "p-value: 0.925\n",
      "\n",
      "test sample ROC-AUC: 0.736 -- loss: 0.150\n",
      "Drift? Yes!\n",
      "p-value: 0.000\n",
      "\n",
      "imbalanced sample ROC-AUC: 0.749 -- loss: 0.940\n",
      "Drift? Yes!\n",
      "p-value: 0.000\n",
      "\n"
     ]
    }
   ],
   "source": [
    "make_predictions(dd, xs)"
   ]
  },
  {
   "cell_type": "markdown",
   "id": "0af91e59",
   "metadata": {},
   "source": [
    "### Input data drift using a learned kernel\n",
    "\n",
    "Instead of applying the MMD detector on the pooling output of a randomly initialized GNN encoder, we use the [Learned Kernel detector](https://docs.seldon.io/projects/alibi-detect/en/latest/cd/methods/learnedkerneldrift.html) which trains the encoder and kernel on part of the data to maximise an estimate of the detector's test power. Once the kernel is learned a permutation test is performed in the usual way on the value of the MMD on the held out test set."
   ]
  },
  {
   "cell_type": "code",
   "execution_count": 26,
   "id": "e7aea114",
   "metadata": {},
   "outputs": [],
   "source": [
    "from alibi_detect.cd import LearnedKernelDrift\n",
    "from alibi_detect.utils.pytorch.kernels import DeepKernel\n",
    "\n",
    "kernel = DeepKernel(enc, kernel_b=None)  # use the already defined random encoder in the deep kernel\n",
    "dd = LearnedKernelDrift(x_ref, kernel, backend='pytorch', p_val=.05, dataloader=DataLoader, \n",
    "                        preprocess_batch_fn=batch_fn, epochs=2)"
   ]
  },
  {
   "cell_type": "code",
   "execution_count": 27,
   "id": "96f9cc64",
   "metadata": {},
   "outputs": [
    {
     "name": "stdout",
     "output_type": "stream",
     "text": [
      "H0 ROC-AUC: 0.763 -- loss: 0.208\n",
      "Drift? No!\n",
      "p-value: 0.630\n",
      "\n",
      "test sample ROC-AUC: 0.736 -- loss: 0.150\n",
      "Drift? Yes!\n",
      "p-value: 0.000\n",
      "\n",
      "imbalanced sample ROC-AUC: 0.749 -- loss: 0.940\n",
      "Drift? Yes!\n",
      "p-value: 0.000\n",
      "\n"
     ]
    }
   ],
   "source": [
    "make_predictions(dd, xs)"
   ]
  },
  {
   "cell_type": "markdown",
   "id": "3d73d6be",
   "metadata": {},
   "source": [
    "Since the molecular scaffolds are different across the train, validation and test sets, we expect that this type of data shift is picked up in the input data (technically not the input but the graph embedding).\n",
    "\n",
    "### Drift on graph statistics\n",
    "\n",
    "We could also compute graph-level statistics such as the number of nodes, edges and clustering coefficient and detect drift on those statistics using the Kolmogorov-Smirnov test with multivariate correction (e.g. [Bonferroni](https://en.wikipedia.org/wiki/Bonferroni_correction)). First we define a preprocessing step to extract the summary statistics from the graphs:"
   ]
  },
  {
   "cell_type": "code",
   "execution_count": 28,
   "id": "a4d08875",
   "metadata": {},
   "outputs": [],
   "source": [
    "# return number of nodes, edges and average clustering coefficient per graph\n",
    "def graph_stats(data: List[Data]) -> np.ndarray:\n",
    "    num_nodes = np.array([d.num_nodes for d in data])\n",
    "    num_edges = np.array([d.num_edges for d in data])\n",
    "    c = np.array([np.array(list(clustering(to_networkx(d)).values())).mean() for d in data])\n",
    "    return np.concatenate([num_nodes[:, None], num_edges[:, None], c[:, None]], axis=-1)"
   ]
  },
  {
   "cell_type": "code",
   "execution_count": 29,
   "id": "7ee6d196",
   "metadata": {},
   "outputs": [
    {
     "name": "stderr",
     "output_type": "stream",
     "text": [
      "WARNING:alibi_detect.cd.utils:Input shape could not be inferred. If alibi_detect.models.tensorflow.embedding.TransformerEmbedding is used as preprocessing step, a saved detector cannot be reinitialized.\n"
     ]
    }
   ],
   "source": [
    "dd = KSDrift(x_ref, p_val=.05, preprocess_fn=graph_stats)"
   ]
  },
  {
   "cell_type": "code",
   "execution_count": 30,
   "id": "ee7ceea2",
   "metadata": {},
   "outputs": [
    {
     "name": "stdout",
     "output_type": "stream",
     "text": [
      "H0 ROC-AUC: 0.763 -- loss: 0.208\n",
      "Drift? No!\n",
      "p-value: [0.9884282  0.79581064 1.        ]\n",
      "\n",
      "test sample ROC-AUC: 0.736 -- loss: 0.150\n",
      "Drift? No!\n",
      "p-value: [0.94992185 0.23822938 0.52494323]\n",
      "\n",
      "imbalanced sample ROC-AUC: 0.749 -- loss: 0.940\n",
      "Drift? Yes!\n",
      "p-value: [5.1066105e-05 1.1882804e-05 9.5120013e-01]\n",
      "\n"
     ]
    }
   ],
   "source": [
    "make_predictions(dd, xs)"
   ]
  },
  {
   "cell_type": "markdown",
   "id": "fd867e31",
   "metadata": {},
   "source": [
    "The 3 returned p-values correspond to respectively the p-values for the number of nodes, edges and clustering coefficient. We already saw in the EDA that the distributions of the node, edge and clustering coefficients look similar across the train, validation and test sets except for the tails. This is confirmed by running the drift detector on the graph statistics which cannot seem to pick up on the differences in molecular scaffolds between the datasets, unless we heavily oversample from the minority class where the number of nodes and edges but not the clustering coefficient significantly differ."
   ]
  }
 ],
 "metadata": {
  "kernelspec": {
   "display_name": "Python 3 (ipykernel)",
   "language": "python",
   "name": "python3"
  },
  "language_info": {
   "codemirror_mode": {
    "name": "ipython",
    "version": 3
   },
   "file_extension": ".py",
   "mimetype": "text/x-python",
   "name": "python",
   "nbconvert_exporter": "python",
   "pygments_lexer": "ipython3",
   "version": "3.8.12"
  }
 },
 "nbformat": 4,
 "nbformat_minor": 5
}