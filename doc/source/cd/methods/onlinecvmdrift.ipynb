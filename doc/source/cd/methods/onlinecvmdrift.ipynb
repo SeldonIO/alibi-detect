{
 "cells": [
  {
   "cell_type": "markdown",
   "metadata": {},
   "source": [
    "[source](../../api/alibi_detect.cd.cvm_online.rst)"
   ]
  },
  {
   "cell_type": "markdown",
   "metadata": {},
   "source": [
    "# Online Cramér-von Mises\n",
    "\n",
    "## Overview\n",
    "\n",
    "TODO - Describe."
   ]
  },
  {
   "cell_type": "markdown",
   "metadata": {},
   "source": [
    "## Usage\n",
    "\n",
    "### Initialize\n",
    "\n",
    "\n",
    "Arguments:\n",
    "\n",
    "* `x_ref`: Data used as reference distribution.\n",
    "* `ert`: The expected run-time (ERT) in the absence of drift.\n",
    "* `window_size`: The sizes of the sliding test-windows used to compute the test-statistic. Smaller windows focus on responding quickly to severe drift, larger windows focus on ability to detect slight drift.\n",
    "\n",
    "\n",
    "Keyword arguments:\n",
    "\n",
    "TODO\n",
    "\n",
    "\n",
    "Initialized drift detector example:\n",
    "\n",
    "\n",
    "```python\n",
    "from alibi_detect.cd import CVMDriftOnline\n",
    "\n",
    "cd = CVMDriftOnline(x_ref, ert, window_size)\n",
    "```\n",
    "\n",
    "TODO - demonstration of use as supervised drift detector (on 1D loss stream), and for multivariate tabular data."
   ]
  },
  {
   "cell_type": "markdown",
   "metadata": {},
   "source": [
    "### Detect Drift\n",
    "\n",
    "We detect data drift by sequentially calling `predict` on single instances `x_t` (no batch dimension) as they each arrive. We can return the test-statistic and the threshold by setting `return_test_stat` to *True*.\n",
    "\n",
    "The prediction takes the form of a dictionary with `meta` and `data` keys. `meta` contains the detector's metadata while `data` is also a dictionary which contains the actual predictions stored in the following keys:\n",
    "\n",
    "* `is_drift`: 1 if the test-window (of the most recent `window_size` observations) has drifted from the reference data and 0 otherwise.\n",
    "\n",
    "* `time`: The number of observations that have been so far passed to the detector as test instances.\n",
    "\n",
    "* `ert`: The expected run-time the detector was configured to run at in the absence of drift.\n",
    "\n",
    "* `test_stat`: CVM test-statistic between the reference data and the test_window if `return_test_stat` equals *True*.\n",
    "\n",
    "* `threshold`: The value the test-statsitic is required to exceed for drift to be detected if `return_test_stat` equals *True*.\n",
    "\n",
    "\n",
    "```python\n",
    "preds = cd.predict(x_t, return_test_stat=True)\n",
    "```\n",
    "\n",
    "Resetting the detector with the same reference data and thresholds but with a new and empty test-window is straight-forward:\n",
    "\n",
    "```python\n",
    "cd.reset()\n",
    "```"
   ]
  },
  {
   "cell_type": "markdown",
   "metadata": {},
   "source": [
    "## Examples\n",
    "\n",
    "Coming soon!"
   ]
  }
 ],
 "metadata": {
  "interpreter": {
   "hash": "ffba93b5284319fb7a107c8eacae647f441487dcc7e0323a4c0d3feb66ea8c5e"
  },
  "kernelspec": {
   "display_name": "Python 3 (ipykernel)",
   "language": "python",
   "name": "python3"
  },
  "language_info": {
   "codemirror_mode": {
    "name": "ipython",
    "version": 3
   },
   "file_extension": ".py",
   "mimetype": "text/x-python",
   "name": "python",
   "nbconvert_exporter": "python",
   "pygments_lexer": "ipython3",
   "version": "3.8.11"
  }
 },
 "nbformat": 4,
 "nbformat_minor": 4
}
