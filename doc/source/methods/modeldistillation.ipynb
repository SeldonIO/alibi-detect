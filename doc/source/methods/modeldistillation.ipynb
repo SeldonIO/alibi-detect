{
 "cells": [
  {
   "cell_type": "markdown",
   "metadata": {},
   "source": [
    "[source](../api/alibi_detect.ad.model_distillation.rst)"
   ]
  },
  {
   "cell_type": "markdown",
   "metadata": {},
   "source": [
    "# Model distillation"
   ]
  },
  {
   "cell_type": "markdown",
   "metadata": {},
   "source": [
    "## Overview\n",
    "\n",
    "[Model distillation](https://arxiv.org/abs/1503.02531) is a technique that is used to transfer knowledge from a large network to a smaller network. Typically, it consists of training a second model with a simplified architecture on soft targets (the output distributions or the logits) obtained from the original model. \n",
    "\n",
    "Here, we apply model distillation to obtain harmfulness scores, by comparing the output distributions of the original model with the output distributions \n",
    "of the distilled model, in order to detect adversarial data, malicious data drift or data corruption.\n",
    "We use the following definition of harmful and harmless data points:\n",
    "\n",
    "* Harmful data points are defined as inputs for which the model's predictions on the uncorrupted data are correct while the model's predictions on the corrupted data are wrong.\n",
    "\n",
    "* Harmless data points are defined as inputs for which the model's predictions on the uncorrupted data are correct and the model's predictions on the corrupted data remain correct.\n",
    "\n",
    "Analogously to the [adversarial AE detector](https://arxiv.org/abs/2002.09364), which is also part of the library, the model distillation detector picks up drift that reduces the performance of the classification model. \n",
    "\n",
    "The detector can be used as follows:\n",
    "\n",
    "* Given an input $x,$ an adversarial score $S(x)$ is computed. $S(x)$ equals the value loss function employed for distillation calculated between the original model's output and the distilled model's output on $x$.\n",
    "\n",
    "* If $S(x)$ is above a threshold (explicitly defined or inferred from training data), the instance is flagged as adversarial."
   ]
  },
  {
   "cell_type": "markdown",
   "metadata": {},
   "source": [
    "## Usage\n",
    "\n",
    "### Initialize\n",
    "\n",
    "Parameters:\n",
    "\n",
    "* `threshold`: threshold value above which the instance is flagged as an adversarial instance.\n",
    "\n",
    "* `distilled_model`: `tf.keras.Sequential` instance containing the model used for distillation. Example:\n",
    "\n",
    "```python\n",
    "distilled_model = tf.keras.Sequential(\n",
    "    [\n",
    "        tf.keras.InputLayer(input_shape=(input_dim,)),\n",
    "        tf.keras.layers.Dense(output_dim, activation=tf.nn.softmax)\n",
    "    ]\n",
    ")\n",
    "```\n",
    "\n",
    "* `model`: the classifier as a `tf.keras.Model`. Example:\n",
    "\n",
    "```python\n",
    "inputs = tf.keras.Input(shape=(input_dim,))\n",
    "hidden = tf.keras.layers.Dense(hidden_dim)(inputs)\n",
    "outputs = tf.keras.layers.Dense(output_dim, activation=tf.nn.softmax)(hidden)\n",
    "model = tf.keras.Model(inputs=inputs, outputs=outputs)\n",
    "```\n",
    "\n",
    "* `loss_type`: type of loss used for distillation. Supported losses: 'kld', 'xent'.\n",
    "\n",
    "* `temperature`: Temperature used for model prediction scaling. Temperature <1 sharpens the prediction probability distribution which can be beneficial for prediction distributions with high entropy.\n",
    "\n",
    "* `data_type`: can specify data type added to metadata. E.g. *'tabular'* or *'image'*.\n",
    "\n",
    "Initialized detector example:\n",
    "\n",
    "```python\n",
    "from alibi_detect.ad import ModelDistillation\n",
    "\n",
    "ad = ModelDistillation(\n",
    "    distilled_model=distilled_model,\n",
    "    model=model,\n",
    "    temperature=0.5\n",
    ")\n",
    "```"
   ]
  },
  {
   "cell_type": "markdown",
   "metadata": {},
   "source": [
    "### Fit\n",
    "\n",
    "We then need to train the detector. The following parameters can be specified:\n",
    "\n",
    "* `X`: training batch as a numpy array.\n",
    "\n",
    "* `loss_fn`: loss function used for training. Defaults to the custom model distillation loss.\n",
    "\n",
    "* `optimizer`: optimizer used for training. Defaults to [Adam](https://arxiv.org/abs/1412.6980) with learning rate 1e-3.\n",
    "\n",
    "* `epochs`: number of training epochs.\n",
    "\n",
    "* `batch_size`: batch size used during training.\n",
    "\n",
    "* `verbose`: boolean whether to print training progress.\n",
    "\n",
    "* `log_metric`: additional metrics whose progress will be displayed if verbose equals True.\n",
    "\n",
    "* `preprocess_fn`: optional data preprocessing function applied per batch during training.\n",
    "\n",
    "\n",
    "```python\n",
    "ad.fit(X_train, epochs=50)\n",
    "```\n",
    "\n",
    "The threshold for the adversarial / harmfulness score can be set via ```infer_threshold```. We need to pass a batch of instances $X$ and specify what percentage of those we consider to be normal via `threshold_perc`. Even if we only have normal instances in the batch, it might be best to set the threshold value a bit lower (e.g. $95$%) since  the model could have misclassified training instances.\n",
    "\n",
    "```python\n",
    "ad.infer_threshold(X_train, threshold_perc=95, batch_size=64)\n",
    "```"
   ]
  },
  {
   "cell_type": "markdown",
   "metadata": {},
   "source": [
    "### Detect\n",
    "\n",
    "We detect adversarial / harmful instances by simply calling `predict` on a batch of instances `X`. We can also return the instance level score by setting `return_instance_score` to True.\n",
    "\n",
    "The prediction takes the form of a dictionary with `meta` and `data` keys. `meta` contains the detector's metadata while `data` is also a dictionary which contains the actual predictions stored in the following keys:\n",
    "\n",
    "* `is_adversarial`: boolean whether instances are above the threshold and therefore adversarial instances. The array is of shape *(batch size,)*.\n",
    "\n",
    "* `instance_score`: contains instance level scores if `return_instance_score` equals True.\n",
    "\n",
    "\n",
    "```python\n",
    "preds_detect = ad.predict(X, batch_size=64, return_instance_score=True)\n",
    "```"
   ]
  },
  {
   "cell_type": "markdown",
   "metadata": {},
   "source": [
    "## Examples\n",
    "\n",
    "### Image\n",
    "\n",
    "[Harmful drift detection through model distillation on CIFAR10](../examples/cd_distillation_cifar10.nblink)\n"
   ]
  }
 ],
 "metadata": {
  "kernelspec": {
   "display_name": "Python 3",
   "language": "python",
   "name": "python3"
  },
  "language_info": {
   "codemirror_mode": {
    "name": "ipython",
    "version": 3
   },
   "file_extension": ".py",
   "mimetype": "text/x-python",
   "name": "python",
   "nbconvert_exporter": "python",
   "pygments_lexer": "ipython3",
   "version": "3.7.6"
  }
 },
 "nbformat": 4,
 "nbformat_minor": 2
}
