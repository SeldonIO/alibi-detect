{
 "cells": [
  {
   "cell_type": "markdown",
   "metadata": {},
   "source": [
    "[source](../api/alibi_detect.od.prophet.rst)"
   ]
  },
  {
   "cell_type": "markdown",
   "metadata": {},
   "source": [
    "# Prophet Detector"
   ]
  },
  {
   "cell_type": "markdown",
   "metadata": {},
   "source": [
    "## Overview\n",
    "\n",
    "The Prophet outlier detector uses the [Prophet](https://facebook.github.io/prophet/) time series forecasting package explained in [this excellent paper](https://peerj.com/preprints/3190/). The underlying Prophet model is a decomposable univariate time series model combining trend, seasonality and holiday effects. The model forecast also includes an uncertainty interval around the estimated trend component using the [MAP estimate](https://en.wikipedia.org/wiki/Maximum_a_posteriori_estimation) of the extrapolated model. Alternatively, full Bayesian inference can be done at the expense of increased compute. The upper and lower values of the uncertainty interval can then be used as outlier thresholds for each point in time. First, the distance from the observed value to the nearest uncertainty boundary (upper or lower) is computed. If the observation is within the boundaries, the outlier score equals the negative distance. As a result, the outlier score is the lowest when the observation equals the model prediction. If the observation is outside of the boundaries, the score equals the distance measure and the observation is flagged as an outlier. One of the main drawbacks of the method however is that you need to refit the model as new data comes in. This is undesirable for applications with high throughput and real-time detection."
   ]
  },
  {
   "cell_type": "markdown",
   "metadata": {},
   "source": [
    "## Usage\n",
    "\n",
    "### Initialize\n",
    "\n",
    "Parameters:\n",
    "\n",
    "* `threshold`: width of the uncertainty intervals of the forecast, used as outlier threshold. Equivalent to `interval_width`. If the instance lies outside of the uncertainty intervals, it is flagged as an outlier. If `mcmc_samples` equals 0, it is the uncertainty in the trend using the MAP estimate of the extrapolated model. If `mcmc_samples` >0, then uncertainty over all parameters is used.\n",
    "\n",
    "* `growth`: *'linear'* or *'logistic'* to specify a linear or logistic trend.\n",
    "\n",
    "* `cap`: growth cap in case growth equals *'logistic'*.\n",
    "\n",
    "* `holidays`: pandas DataFrame with columns *'holiday'* (string) and *'ds'* (dates) and optionally columns *'lower_window'* and *'upper_window'* which specify a range of days around the date to be included as holidays.\n",
    "\n",
    "* `holidays_prior_scale`: parameter controlling the strength of the holiday components model. Higher values imply a more flexible trend, more prone to more overfitting.\n",
    "\n",
    "* `country_holidays`: include country-specific holidays via country abbreviations. The holidays for each country are provided by the holidays package in Python. A list of available countries and the country name to use is available on: https://github.com/dr-prodigy/python-holidays. Additionally, Prophet includes holidays for: Brazil (BR), Indonesia (ID), India (IN), Malaysia (MY), Vietnam (VN), Thailand (TH), Philippines (PH), Turkey (TU), Pakistan (PK), Bangladesh (BD), Egypt (EG), China (CN) and Russian (RU).\n",
    "\n",
    "* `changepoint_prior_scale`: parameter controlling the flexibility of the automatic changepoint selection. Large values will allow many changepoints, potentially leading to overfitting.\n",
    "\n",
    "* `changepoint_range`: proportion of history in which trend changepoints will be estimated. Higher values means more changepoints, potentially leading to overfitting.\n",
    "\n",
    "* `seasonality_mode`: either *'additive'* or *'multiplicative'*.\n",
    "\n",
    "* `daily_seasonality`: can be *'auto'*, True, False, or a number of Fourier terms to generate.\n",
    "\n",
    "* `weekly_seasonality`: can be *'auto'*, True, False, or a number of Fourier terms to generate.\n",
    "\n",
    "* `yearly_seasonality`: can be *'auto'*, True, False, or a number of Fourier terms to generate.\n",
    "\n",
    "* `add_seasonality`: manually add one or more seasonality components. Pass a list of dicts containing the keys *'name'*, *'period'*, *'fourier_order'* (obligatory), *'prior_scale'* and *'mode'* (optional).\n",
    "\n",
    "* `seasonality_prior_scale`: parameter controlling the strength of the seasonality model. Larger values allow the model to fit larger seasonal fluctuations, potentially leading to overfitting.\n",
    "\n",
    "* `uncertainty_samples`: number of simulated draws used to estimate uncertainty intervals.\n",
    "\n",
    "* `mcmc_samples`: If *> 0*, will do full Bayesian inference with the specified number of MCMC samples. If *0*, will do MAP estimation.\n",
    "\n",
    "\n",
    "\n",
    "Initialized outlier detector example:\n",
    "\n",
    "```python\n",
    "from alibi_detect.od import OutlierProphet\n",
    "\n",
    "od = OutlierProphet(\n",
    "    threshold=0.9,\n",
    "    growth='linear'\n",
    ")\n",
    "```"
   ]
  },
  {
   "cell_type": "markdown",
   "metadata": {},
   "source": [
    "### Fit\n",
    "\n",
    "We then need to train the outlier detector. The `fit` method takes a pandas DataFrame *df* with as columns *'ds'* containing the dates or timestamps and *'y'* for the time series being investigated. The date format is ideally *YYYY-MM-DD* and timestamp format *YYYY-MM-DD HH:MM:SS*.\n",
    "\n",
    "```python\n",
    "od.fit(df)\n",
    "```"
   ]
  },
  {
   "cell_type": "markdown",
   "metadata": {},
   "source": [
    "### Detect\n",
    "\n",
    "We detect outliers by simply calling `predict` on a DataFrame *df*, again with columns *'ds'* and *'y'* to compute the instance level outlier scores. We can also return the instance level outlier score or the raw Prophet model forecast by setting respectively `return_instance_score` or `return_forecast` to True. **It is important that the dates or timestamps of the test data follow the training data**.\n",
    "\n",
    "The prediction takes the form of a dictionary with `meta` and `data` keys. `meta` contains the detector's metadata while `data` is also a dictionary which contains the actual predictions stored in the following keys:\n",
    "\n",
    "* `is_outlier`: DataFrame with columns *'ds'* containing the dates or timestamps and *'is_outlier'* a boolean whether instances are above the threshold and therefore outlier instances.\n",
    "\n",
    "* `instance_score`: DataFrame with *'ds'* and *'instance_score'* which contains instance level scores if `return_instance_score` equals True.\n",
    "\n",
    "* `forecast`: DataFrame with the raw model predictions if `return_forecast` equals True. The DataFrame contains columns with the upper and lower boundaries (*'yhat_upper'* and *'yhat_lower'*), the model predictions (*'yhat'*), and the decomposition of the prediction in the different components (trend, seasonality, holiday). \n",
    "\n",
    "\n",
    "```python\n",
    "preds = od.predict(\n",
    "    df,\n",
    "    return_instance_score=True,\n",
    "    return_forecast=True\n",
    ")\n",
    "```"
   ]
  },
  {
   "cell_type": "markdown",
   "metadata": {},
   "source": [
    "## Examples\n",
    "\n",
    "[Time-series outlier detection using Prophet on weather data](../examples/od_prophet_weather.nblink)"
   ]
  }
 ],
 "metadata": {
  "kernelspec": {
   "display_name": "Python [conda env:cdod]",
   "language": "python",
   "name": "conda-env-cdod-py"
  },
  "language_info": {
   "codemirror_mode": {
    "name": "ipython",
    "version": 3
   },
   "file_extension": ".py",
   "mimetype": "text/x-python",
   "name": "python",
   "nbconvert_exporter": "python",
   "pygments_lexer": "ipython3",
   "version": "3.6.9"
  }
 },
 "nbformat": 4,
 "nbformat_minor": 2
}
