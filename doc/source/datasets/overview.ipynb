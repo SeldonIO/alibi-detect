{
 "cells": [
  {
   "cell_type": "markdown",
   "metadata": {},
   "source": [
    "[source](../api/alibi_detect.datasets.rst)"
   ]
  },
  {
   "cell_type": "markdown",
   "metadata": {},
   "source": [
    "## Overview\n",
    "\n",
    "The package also contains functionality in `alibi_detect.datasets` to easily fetch a number of datasets for different modalities. For each dataset either the data and labels or a *Bunch* object with the data, labels and optional metadata are returned. Example:\n",
    "\n",
    "```python\n",
    "from alibi_detect.datasets import fetch_ecg\n",
    "\n",
    "(X_train, y_train), (X_test, y_test) = fetch_ecg(return_X_y=True)\n",
    "```\n",
    "\n",
    "### Sequential Data and Time Series\n",
    "\n",
    "**Genome Dataset**: `fetch_genome`\n",
    "\n",
    "  - Bacteria genomics dataset for out-of-distribution detection, released as part of [Likelihood Ratios for Out-of-Distribution Detection](https://arxiv.org/abs/1906.02845). From the original *TL;DR*: *The dataset contains genomic sequences of 250 base pairs from 10 in-distribution bacteria classes for training, 60 OOD bacteria classes for validation, and another 60 different OOD bacteria classes for test*. There are respectively 1, 7 and again 7 million sequences in the training, validation and test sets. For detailed info on the dataset check the [README](https://storage.cloud.google.com/seldon-datasets/genome/readme.docx?organizationId=156002945562).\n",
    "  \n",
    "  \n",
    "```python\n",
    "from alibi_detect.datasets import fetch_genome\n",
    "\n",
    "(X_train, y_train), (X_val, y_val), (X_test, y_test) = fetch_genome(return_X_y=True)\n",
    "```\n",
    "\n",
    "\n",
    "**ECG 5000**: `fetch_ecg`\n",
    "\n",
    "  - 5000 ECG's, originally obtained from [Physionet](https://archive.physionet.org/cgi-bin/atm/ATM).\n",
    "\n",
    "\n",
    "**NAB**: `fetch_nab`\n",
    "\n",
    "  - Any univariate time series in a DataFrame from the [Numenta Anomaly Benchmark](https://github.com/numenta/NAB). A list with the available time series can be retrieved using `alibi_detect.datasets.get_list_nab()`.\n",
    "\n",
    "\n",
    "### Images\n",
    "\n",
    "**CIFAR-10-C**: `fetch_cifar10c`\n",
    "\n",
    "  - CIFAR-10-C ([Hendrycks & Dietterich, 2019](https://arxiv.org/abs/1903.12261)) contains the test set of CIFAR-10, but corrupted and perturbed by various types of noise, blur, brightness etc. at different levels of severity, leading to a gradual decline in a classification model's performance trained on CIFAR-10. `fetch_cifar10c` allows you to pick any severity level or corruption type. The list with available corruption types can be retrieved with `alibi_detect.datasets.corruption_types_cifar10c()`. The dataset can be used in research on robustness and drift. The original data can be found [here](https://zenodo.org/record/2535967#.XnAM2nX7RNw). Example:\n",
    "  \n",
    "  \n",
    "```python\n",
    "from alibi_detect.datasets import fetch_cifar10c\n",
    "\n",
    "corruption = ['gaussian_noise', 'motion_blur', 'brightness', 'pixelate']\n",
    "X, y = fetch_cifar10c(corruption=corruption, severity=5, return_X_y=True)\n",
    "```\n",
    "\n",
    "  \n",
    "**Adversarial CIFAR-10**: `fetch_attack`\n",
    "\n",
    "  - Load adversarial instances on a ResNet-56 classifier trained on CIFAR-10. Available attacks: [Carlini-Wagner](https://arxiv.org/abs/1608.04644) ('cw') and [SLIDE](https://arxiv.org/abs/1904.13000) ('slide'). Example:\n",
    "  \n",
    "```python\n",
    "from alibi_detect.datasets import fetch_attack\n",
    "\n",
    "(X_train, y_train), (X_test, y_test) = fetch_attack('cifar10', 'resnet56', 'cw', return_X_y=True)\n",
    "```\n",
    "\n",
    "### Tabular\n",
    "\n",
    "**KDD Cup '99**: `fetch_kdd`\n",
    "\n",
    "  - Dataset with different types of computer network intrusions. `fetch_kdd` allows you to select a subset of network intrusions as targets or pick only specified features. The original data can be found [here](http://kdd.ics.uci.edu/databases/kddcup99/kddcup99.html)."
   ]
  }
 ],
 "metadata": {
  "kernelspec": {
   "display_name": "Python [conda env:detect] *",
   "language": "python",
   "name": "conda-env-detect-py"
  },
  "language_info": {
   "codemirror_mode": {
    "name": "ipython",
    "version": 3
   },
   "file_extension": ".py",
   "mimetype": "text/x-python",
   "name": "python",
   "nbconvert_exporter": "python",
   "pygments_lexer": "ipython3",
   "version": "3.7.6"
  }
 },
 "nbformat": 4,
 "nbformat_minor": 4
}
