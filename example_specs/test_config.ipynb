{
 "cells": [
  {
   "cell_type": "code",
   "execution_count": 1,
   "id": "063451d7",
   "metadata": {},
   "outputs": [
    {
     "name": "stderr",
     "output_type": "stream",
     "text": [
      "Importing plotly failed. Interactive plots will not work.\n"
     ]
    }
   ],
   "source": [
    "from alibi_detect.factory import DetectorFactory\n",
    "from alibi_detect.cd import MMDDrift\n",
    "import numpy as np"
   ]
  },
  {
   "cell_type": "code",
   "execution_count": 2,
   "id": "c63ba653",
   "metadata": {},
   "outputs": [],
   "source": [
    "x_ref = np.random.normal(size=100).reshape(-1,1)\n",
    "detector = DetectorFactory(x_ref, 'mmd_image.yaml')"
   ]
  },
  {
   "cell_type": "code",
   "execution_count": 4,
   "id": "2c91881b",
   "metadata": {},
   "outputs": [
    {
     "data": {
      "text/plain": [
       "<alibi_detect.cd.mmd.MMDDrift at 0x7f999d091700>"
      ]
     },
     "execution_count": 4,
     "metadata": {},
     "output_type": "execute_result"
    }
   ],
   "source": [
    "detector"
   ]
  }
 ],
 "metadata": {
  "kernelspec": {
   "display_name": "venv",
   "language": "python",
   "name": "venv"
  },
  "language_info": {
   "codemirror_mode": {
    "name": "ipython",
    "version": 3
   },
   "file_extension": ".py",
   "mimetype": "text/x-python",
   "name": "python",
   "nbconvert_exporter": "python",
   "pygments_lexer": "ipython3",
   "version": "3.8.11"
  }
 },
 "nbformat": 4,
 "nbformat_minor": 5
}
