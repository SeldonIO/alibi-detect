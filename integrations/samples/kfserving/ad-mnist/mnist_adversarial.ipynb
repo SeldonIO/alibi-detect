{
 "cells": [
  {
   "cell_type": "markdown",
   "metadata": {},
   "source": [
    "# MNIST Adversarial Detector with Kfserving\n",
    "\n",
    "![demo](demo.png)\n",
    "\n",
    "Prequisites:\n",
    "\n",
    " * Running cluster with kfserving installed and authenticated for use with `kubectl`\n",
    "    * Istio with Istio Gateway exposed on a LoadBalancer\n",
    " * Knative eventing installed\n",
    " * Download the MNIST model: run `make model_mnist` (Requires `gsutils`)\n",
    " * Pip install the alibi-detect library."
   ]
  },
  {
   "cell_type": "markdown",
   "metadata": {},
   "source": [
    "## Setup Resources"
   ]
  },
  {
   "cell_type": "markdown",
   "metadata": {},
   "source": [
    "Enabled eventing on default namespace. This will activate a default Knative Broker."
   ]
  },
  {
   "cell_type": "code",
   "execution_count": 6,
   "metadata": {},
   "outputs": [
    {
     "name": "stdout",
     "output_type": "stream",
     "text": [
      "namespace/default labeled\r\n"
     ]
    }
   ],
   "source": [
    "!kubectl label namespace default knative-eventing-injection=enabled"
   ]
  },
  {
   "cell_type": "markdown",
   "metadata": {},
   "source": [
    "Create a Knative service to dump events it receives. This will be the example final sink for adversarial events."
   ]
  },
  {
   "cell_type": "code",
   "execution_count": 7,
   "metadata": {},
   "outputs": [
    {
     "name": "stdout",
     "output_type": "stream",
     "text": [
      "\u001b[94mapiVersion\u001b[39;49;00m: serving.knative.dev/v1alpha1\r\n",
      "\u001b[94mkind\u001b[39;49;00m: Service\r\n",
      "\u001b[94mmetadata\u001b[39;49;00m:\r\n",
      "  \u001b[94mname\u001b[39;49;00m: message-dumper\r\n",
      "\u001b[94mspec\u001b[39;49;00m:\r\n",
      "  \u001b[94mtemplate\u001b[39;49;00m:\r\n",
      "    \u001b[94mspec\u001b[39;49;00m:\r\n",
      "      \u001b[94mcontainers\u001b[39;49;00m:\r\n",
      "      - \u001b[94mimage\u001b[39;49;00m: gcr.io/knative-releases/github.com/knative/eventing-sources/cmd/event_display\r\n"
     ]
    }
   ],
   "source": [
    "!pygmentize message-dumper.yaml"
   ]
  },
  {
   "cell_type": "code",
   "execution_count": 8,
   "metadata": {},
   "outputs": [
    {
     "name": "stdout",
     "output_type": "stream",
     "text": [
      "service.serving.knative.dev/message-dumper created\r\n"
     ]
    }
   ],
   "source": [
    "!kubectl apply -f message-dumper.yaml"
   ]
  },
  {
   "cell_type": "markdown",
   "metadata": {},
   "source": [
    "Create the Kfserving image classification model for MNIST. We add in a `logger` for requests - the default destination is the namespace Knative Broker."
   ]
  },
  {
   "cell_type": "code",
   "execution_count": 18,
   "metadata": {},
   "outputs": [
    {
     "name": "stdout",
     "output_type": "stream",
     "text": [
      "\u001b[94mapiVersion\u001b[39;49;00m: \u001b[33m\"\u001b[39;49;00m\u001b[33mserving.kubeflow.org/v1alpha2\u001b[39;49;00m\u001b[33m\"\u001b[39;49;00m\r\n",
      "\u001b[94mkind\u001b[39;49;00m: \u001b[33m\"\u001b[39;49;00m\u001b[33mInferenceService\u001b[39;49;00m\u001b[33m\"\u001b[39;49;00m\r\n",
      "\u001b[94mmetadata\u001b[39;49;00m:\r\n",
      "  \u001b[94mname\u001b[39;49;00m: \u001b[33m\"\u001b[39;49;00m\u001b[33mmnist\u001b[39;49;00m\u001b[33m\"\u001b[39;49;00m\r\n",
      "\u001b[94mspec\u001b[39;49;00m:\r\n",
      "  \u001b[94mdefault\u001b[39;49;00m:\r\n",
      "    \u001b[94mpredictor\u001b[39;49;00m:\r\n",
      "      \u001b[94mminReplicas\u001b[39;49;00m: 1\r\n",
      "      \u001b[94mcustom\u001b[39;49;00m:\r\n",
      "        \u001b[94mcontainer\u001b[39;49;00m:\r\n",
      "          \u001b[94mimage\u001b[39;49;00m: seldonio/mnist:0.0.3\r\n",
      "          \u001b[94margs\u001b[39;49;00m:\r\n",
      "            - --model_name\r\n",
      "            - mnist\r\n",
      "            - --model_dir\r\n",
      "            - ./model_mnist/\r\n",
      "            - --http_port\r\n",
      "            - \u001b[33m\"\u001b[39;49;00m\u001b[33m8080\u001b[39;49;00m\u001b[33m\"\u001b[39;49;00m\r\n",
      "      \u001b[94mlogger\u001b[39;49;00m:\r\n",
      "        \u001b[94mmode\u001b[39;49;00m: request\r\n"
     ]
    }
   ],
   "source": [
    "!pygmentize mnist.yaml"
   ]
  },
  {
   "cell_type": "code",
   "execution_count": 19,
   "metadata": {},
   "outputs": [
    {
     "name": "stdout",
     "output_type": "stream",
     "text": [
      "inferenceservice.serving.kubeflow.org/mnist created\r\n"
     ]
    }
   ],
   "source": [
    "!kubectl apply -f mnist.yaml"
   ]
  },
  {
   "cell_type": "markdown",
   "metadata": {},
   "source": [
    "Create the pretrained MNIST Adversarial detector. We forward replies to the message-dumper we started."
   ]
  },
  {
   "cell_type": "code",
   "execution_count": 11,
   "metadata": {},
   "outputs": [
    {
     "name": "stdout",
     "output_type": "stream",
     "text": [
      "\u001b[94mapiVersion\u001b[39;49;00m: serving.knative.dev/v1alpha1\r\n",
      "\u001b[94mkind\u001b[39;49;00m: Service\r\n",
      "\u001b[94mmetadata\u001b[39;49;00m:\r\n",
      "  \u001b[94mname\u001b[39;49;00m: ad-mnist\r\n",
      "\u001b[94mspec\u001b[39;49;00m:\r\n",
      "  \u001b[94mtemplate\u001b[39;49;00m:\r\n",
      "    \u001b[94mmetadata\u001b[39;49;00m:\r\n",
      "      \u001b[94mannotations\u001b[39;49;00m:\r\n",
      "        \u001b[94mautoscaling.knative.dev/minScale\u001b[39;49;00m: \u001b[33m\"\u001b[39;49;00m\u001b[33m1\u001b[39;49;00m\u001b[33m\"\u001b[39;49;00m\r\n",
      "    \u001b[94mspec\u001b[39;49;00m:\r\n",
      "      \u001b[94mcontainers\u001b[39;49;00m:\r\n",
      "      - \u001b[94mimage\u001b[39;49;00m: seldonio/mnistad:0.0.3\r\n",
      "        \u001b[94margs\u001b[39;49;00m:\r\n",
      "        - --model_name\r\n",
      "        - mnistad\r\n",
      "        - --storage_uri\r\n",
      "        - ./ad_vae_mnist/\r\n",
      "        - --reply_url\r\n",
      "        - http://message-dumper.default\r\n"
     ]
    }
   ],
   "source": [
    "!pygmentize mnistad.yaml"
   ]
  },
  {
   "cell_type": "code",
   "execution_count": 12,
   "metadata": {},
   "outputs": [
    {
     "name": "stdout",
     "output_type": "stream",
     "text": [
      "service.serving.knative.dev/ad-mnist created\r\n"
     ]
    }
   ],
   "source": [
    "!kubectl apply -f mnistad.yaml"
   ]
  },
  {
   "cell_type": "markdown",
   "metadata": {},
   "source": [
    "Create a Knative trigger to forward logging events to our Adversarial Detector."
   ]
  },
  {
   "cell_type": "code",
   "execution_count": 13,
   "metadata": {},
   "outputs": [
    {
     "name": "stdout",
     "output_type": "stream",
     "text": [
      "\u001b[94mapiVersion\u001b[39;49;00m: eventing.knative.dev/v1alpha1\r\n",
      "\u001b[94mkind\u001b[39;49;00m: Trigger\r\n",
      "\u001b[94mmetadata\u001b[39;49;00m:\r\n",
      "  \u001b[94mname\u001b[39;49;00m: adversarial-mnist-trigger\r\n",
      "  \u001b[94mnamespace\u001b[39;49;00m: default\r\n",
      "\u001b[94mspec\u001b[39;49;00m:\r\n",
      "  \u001b[94msubscriber\u001b[39;49;00m:\r\n",
      "    \u001b[94mref\u001b[39;49;00m:\r\n",
      "      \u001b[94mapiVersion\u001b[39;49;00m: serving.knative.dev/v1alpha1\r\n",
      "      \u001b[94mkind\u001b[39;49;00m: Service\r\n",
      "      \u001b[94mname\u001b[39;49;00m: ad-mnist\r\n",
      "      \r\n"
     ]
    }
   ],
   "source": [
    "!pygmentize trigger.yaml"
   ]
  },
  {
   "cell_type": "code",
   "execution_count": 14,
   "metadata": {},
   "outputs": [
    {
     "name": "stdout",
     "output_type": "stream",
     "text": [
      "trigger.eventing.knative.dev/adversarial-mnist-trigger created\r\n"
     ]
    }
   ],
   "source": [
    "!kubectl apply -f trigger.yaml"
   ]
  },
  {
   "cell_type": "markdown",
   "metadata": {},
   "source": [
    "Get the IP address of the Istio Ingress Gateway. This assumes you have installed istio with a LoadBalancer."
   ]
  },
  {
   "cell_type": "code",
   "execution_count": 20,
   "metadata": {},
   "outputs": [
    {
     "name": "stdout",
     "output_type": "stream",
     "text": [
      "35.246.195.184\n"
     ]
    }
   ],
   "source": [
    "CLUSTER_IPS=!(kubectl -n istio-system get service istio-ingressgateway -o jsonpath='{.status.loadBalancer.ingress[0].ip}')\n",
    "CLUSTER_IP=CLUSTER_IPS[0]\n",
    "print(CLUSTER_IP)"
   ]
  },
  {
   "cell_type": "code",
   "execution_count": 21,
   "metadata": {},
   "outputs": [
    {
     "name": "stdout",
     "output_type": "stream",
     "text": [
      "mnist.default.example.com\n"
     ]
    }
   ],
   "source": [
    "SERVICE_HOSTNAMES=!(kubectl get inferenceservice mnist -o jsonpath='{.status.url}' | cut -d \"/\" -f 3)\n",
    "SERVICE_HOSTNAME_MNIST=SERVICE_HOSTNAMES[0]\n",
    "print(SERVICE_HOSTNAME_MNIST)"
   ]
  },
  {
   "cell_type": "code",
   "execution_count": 22,
   "metadata": {},
   "outputs": [
    {
     "name": "stdout",
     "output_type": "stream",
     "text": [
      "ad-mnist.default.example.com\n"
     ]
    }
   ],
   "source": [
    "SERVICE_HOSTNAMES=!(kubectl get ksvc ad-mnist -o jsonpath='{.status.url}' | cut -d \"/\" -f 3)\n",
    "SERVICE_HOSTNAME_MNISTAD=SERVICE_HOSTNAMES[0]\n",
    "print(SERVICE_HOSTNAME_MNISTAD)"
   ]
  },
  {
   "cell_type": "code",
   "execution_count": 23,
   "metadata": {},
   "outputs": [
    {
     "name": "stdout",
     "output_type": "stream",
     "text": [
      "(60000, 28, 28, 1) (60000, 10) (10000, 28, 28, 1) (10000, 10)\n"
     ]
    }
   ],
   "source": [
    "import matplotlib.pyplot as plt\n",
    "import numpy as np\n",
    "\n",
    "import tensorflow as tf\n",
    "tf.keras.backend.clear_session()\n",
    "\n",
    "from tensorflow.keras.models import Model\n",
    "from tensorflow.keras.utils import to_categorical\n",
    "import tensorflow as tf\n",
    "import requests\n",
    "\n",
    "train, test = tf.keras.datasets.mnist.load_data()\n",
    "X_train, y_train = train\n",
    "X_test, y_test = test\n",
    "\n",
    "X_train = X_train.reshape(-1, 28, 28, 1).astype('float32') / 255\n",
    "X_test = X_test.reshape(-1, 28, 28, 1).astype('float32') / 255\n",
    "y_train = to_categorical(y_train, 10)\n",
    "y_test = to_categorical(y_test, 10)\n",
    "print(X_train.shape, y_train.shape, X_test.shape, y_test.shape)\n",
    "classes = ('0', '1', '2', '3',\n",
    "           '4', '5', '6', '7', '8', '9')\n",
    "img_shape = (28, 28)\n",
    "\n",
    "def show(X):\n",
    "    plt.imshow(X.reshape(img_shape))\n",
    "    plt.axis('off')\n",
    "    plt.show()\n",
    "\n",
    "def predict(X):\n",
    "    formData = {\n",
    "    'instances': X.tolist()\n",
    "    }\n",
    "    headers = {}\n",
    "    headers[\"Host\"] = SERVICE_HOSTNAME_MNIST\n",
    "    res = requests.post('http://'+CLUSTER_IP+'/v1/models/mnist:predict', json=formData, headers=headers)\n",
    "    if res.status_code == 200:\n",
    "        return np.array(res.json()[\"predictions\"])\n",
    "    else:\n",
    "        print(\"Failed with \",res.status_code)\n",
    "        return []\n",
    "    \n",
    "def detect(X):\n",
    "    formData = {\n",
    "    'instances': X.tolist()\n",
    "    }\n",
    "    headers = {\"alibi-detect-return-instance-score\":\"true\"}\n",
    "    headers[\"Host\"] = SERVICE_HOSTNAME_MNISTAD\n",
    "    res = requests.post('http://'+CLUSTER_IP+'/', json=formData, headers=headers)\n",
    "    if res.status_code == 200:\n",
    "        ad = res.json()\n",
    "        ad[\"data\"][\"instance_score\"] = np.array(ad[\"data\"][\"instance_score\"])\n",
    "        return ad\n",
    "    else:\n",
    "        print(\"Failed with \",res.status_code)\n",
    "        return []"
   ]
  },
  {
   "cell_type": "markdown",
   "metadata": {},
   "source": [
    "## Normal Prediction"
   ]
  },
  {
   "cell_type": "code",
   "execution_count": 26,
   "metadata": {},
   "outputs": [
    {
     "data": {
      "image/png": "[encoded data removed]",
      "text/plain": [
       "<Figure size 432x288 with 1 Axes>"
      ]
     },
     "metadata": {
      "needs_background": "light"
     },
     "output_type": "display_data"
    },
    {
     "data": {
      "text/plain": [
       "array([5])"
      ]
     },
     "execution_count": 26,
     "metadata": {},
     "output_type": "execute_result"
    }
   ],
   "source": [
    "idx = 0\n",
    "X = X_train[idx:idx+1]\n",
    "show(X)\n",
    "predict(X)"
   ]
  },
  {
   "cell_type": "markdown",
   "metadata": {},
   "source": [
    "Show logs from message-dumper. The last cloud event should show a line like:\n",
    "\n",
    "```JSON\n",
    "\"{\\\"data\\\": {\\\"feature_score\\\": null, \\\"instance_score\\\": null, \\\"is_adversarial\\\": [0]}, \\\"meta\\\": {\\\"name\\\": \\\"AdversarialVAE\\\", \\\"detector_type\\\": \\\"offline\\\", \\\"data_type\\\": null}}\"\n",
    "```\n",
    "\n",
    "This shows the last event was not an adversarial attack."
   ]
  },
  {
   "cell_type": "code",
   "execution_count": 27,
   "metadata": {},
   "outputs": [
    {
     "name": "stdout",
     "output_type": "stream",
     "text": [
      "☁️  cloudevents.Event\r\n",
      "Validation: valid\r\n",
      "Context Attributes,\r\n",
      "  specversion: 0.2\r\n",
      "  type: seldon.outlier\r\n",
      "  source: seldon.ceserver.adservermnistad\r\n",
      "  id: a40d675f-b56a-49e0-a27c-503a59a97b09\r\n",
      "  contenttype: application/json\r\n",
      "Data,\r\n",
      "  \"{\\\"data\\\": {\\\"feature_score\\\": null, \\\"instance_score\\\": null, \\\"is_adversarial\\\": [0]}, \\\"meta\\\": {\\\"name\\\": \\\"AdversarialVAE\\\", \\\"detector_type\\\": \\\"offline\\\", \\\"data_type\\\": null}}\"\r\n",
      "☁️  cloudevents.Event\r\n",
      "Validation: valid\r\n",
      "Context Attributes,\r\n",
      "  specversion: 0.2\r\n",
      "  type: seldon.outlier\r\n",
      "  source: seldon.ceserver.adservermnistad\r\n",
      "  id: 0a9c24bd-16cd-4956-a38b-559313e09c66\r\n",
      "  contenttype: application/json\r\n",
      "Data,\r\n",
      "  \"{\\\"data\\\": {\\\"feature_score\\\": null, \\\"instance_score\\\": null, \\\"is_adversarial\\\": [0]}, \\\"meta\\\": {\\\"name\\\": \\\"AdversarialVAE\\\", \\\"detector_type\\\": \\\"offline\\\", \\\"data_type\\\": null}}\"\r\n",
      "☁️  cloudevents.Event\r\n",
      "Validation: valid\r\n",
      "Context Attributes,\r\n",
      "  specversion: 0.2\r\n",
      "  type: seldon.outlier\r\n",
      "  source: seldon.ceserver.adservermnistad\r\n",
      "  id: 841ebed6-68f6-4827-9b82-50f7ee85dab6\r\n",
      "  contenttype: application/json\r\n",
      "Data,\r\n",
      "  \"{\\\"data\\\": {\\\"feature_score\\\": null, \\\"instance_score\\\": null, \\\"is_adversarial\\\": [0]}, \\\"meta\\\": {\\\"name\\\": \\\"AdversarialVAE\\\", \\\"detector_type\\\": \\\"offline\\\", \\\"data_type\\\": null}}\"\r\n"
     ]
    }
   ],
   "source": [
    "!kubectl logs $(kubectl get pod -l serving.knative.dev/configuration=message-dumper -o jsonpath='{.items[0].metadata.name}') user-container"
   ]
  },
  {
   "cell_type": "markdown",
   "metadata": {},
   "source": [
    "## Generate adversarial instances\n",
    "\n",
    "The `cleverhans` adversarial attack methods assume that the model outputs logits, so we will create a modified model by simply removing the softmax output layer:"
   ]
  },
  {
   "cell_type": "code",
   "execution_count": 28,
   "metadata": {},
   "outputs": [
    {
     "ename": "FileNotFoundError",
     "evalue": "[Errno 2] No such file or directory: './model_mnist/model'",
     "output_type": "error",
     "traceback": [
      "\u001b[0;31m---------------------------------------------------------------------------\u001b[0m",
      "\u001b[0;31mFileNotFoundError\u001b[0m                         Traceback (most recent call last)",
      "\u001b[0;32m<ipython-input-28-8127bd3f4f6c>\u001b[0m in \u001b[0;36m<module>\u001b[0;34m\u001b[0m\n\u001b[1;32m      1\u001b[0m \u001b[0;32mfrom\u001b[0m \u001b[0malibi_detect\u001b[0m\u001b[0;34m.\u001b[0m\u001b[0mutils\u001b[0m\u001b[0;34m.\u001b[0m\u001b[0msaving\u001b[0m \u001b[0;32mimport\u001b[0m  \u001b[0mload_tf_model\u001b[0m\u001b[0;34m\u001b[0m\u001b[0;34m\u001b[0m\u001b[0m\n\u001b[1;32m      2\u001b[0m \u001b[0mfilepath\u001b[0m \u001b[0;34m=\u001b[0m \u001b[0;34m'./model_mnist/'\u001b[0m\u001b[0;34m\u001b[0m\u001b[0;34m\u001b[0m\u001b[0m\n\u001b[0;32m----> 3\u001b[0;31m \u001b[0mmodel\u001b[0m \u001b[0;34m=\u001b[0m \u001b[0mload_tf_model\u001b[0m\u001b[0;34m(\u001b[0m\u001b[0mfilepath\u001b[0m\u001b[0;34m)\u001b[0m\u001b[0;34m\u001b[0m\u001b[0;34m\u001b[0m\u001b[0m\n\u001b[0m",
      "\u001b[0;32m~/anaconda3/envs/alibi/lib/python3.7/site-packages/alibi_detect/utils/saving.py\u001b[0m in \u001b[0;36mload_tf_model\u001b[0;34m(filepath, load_dir, custom_objects, model_name)\u001b[0m\n\u001b[1;32m    669\u001b[0m     \u001b[0;32melse\u001b[0m\u001b[0;34m:\u001b[0m\u001b[0;34m\u001b[0m\u001b[0;34m\u001b[0m\u001b[0m\n\u001b[1;32m    670\u001b[0m         \u001b[0mmodel_dir\u001b[0m \u001b[0;34m=\u001b[0m \u001b[0mos\u001b[0m\u001b[0;34m.\u001b[0m\u001b[0mpath\u001b[0m\u001b[0;34m.\u001b[0m\u001b[0mjoin\u001b[0m\u001b[0;34m(\u001b[0m\u001b[0mfilepath\u001b[0m\u001b[0;34m,\u001b[0m \u001b[0mload_dir\u001b[0m\u001b[0;34m)\u001b[0m\u001b[0;34m\u001b[0m\u001b[0;34m\u001b[0m\u001b[0m\n\u001b[0;32m--> 671\u001b[0;31m     \u001b[0;32mif\u001b[0m \u001b[0mmodel_name\u001b[0m \u001b[0;34m+\u001b[0m \u001b[0;34m'.h5'\u001b[0m \u001b[0;32mnot\u001b[0m \u001b[0;32min\u001b[0m \u001b[0;34m[\u001b[0m\u001b[0mf\u001b[0m \u001b[0;32mfor\u001b[0m \u001b[0mf\u001b[0m \u001b[0;32min\u001b[0m \u001b[0mos\u001b[0m\u001b[0;34m.\u001b[0m\u001b[0mlistdir\u001b[0m\u001b[0;34m(\u001b[0m\u001b[0mmodel_dir\u001b[0m\u001b[0;34m)\u001b[0m \u001b[0;32mif\u001b[0m \u001b[0;32mnot\u001b[0m \u001b[0mf\u001b[0m\u001b[0;34m.\u001b[0m\u001b[0mstartswith\u001b[0m\u001b[0;34m(\u001b[0m\u001b[0;34m'.'\u001b[0m\u001b[0;34m)\u001b[0m\u001b[0;34m]\u001b[0m\u001b[0;34m:\u001b[0m\u001b[0;34m\u001b[0m\u001b[0;34m\u001b[0m\u001b[0m\n\u001b[0m\u001b[1;32m    672\u001b[0m         \u001b[0mlogger\u001b[0m\u001b[0;34m.\u001b[0m\u001b[0mwarning\u001b[0m\u001b[0;34m(\u001b[0m\u001b[0;34m'No model found in {}.'\u001b[0m\u001b[0;34m.\u001b[0m\u001b[0mformat\u001b[0m\u001b[0;34m(\u001b[0m\u001b[0mmodel_dir\u001b[0m\u001b[0;34m)\u001b[0m\u001b[0;34m)\u001b[0m\u001b[0;34m\u001b[0m\u001b[0;34m\u001b[0m\u001b[0m\n\u001b[1;32m    673\u001b[0m         \u001b[0;32mreturn\u001b[0m \u001b[0;32mNone\u001b[0m\u001b[0;34m\u001b[0m\u001b[0;34m\u001b[0m\u001b[0m\n",
      "\u001b[0;31mFileNotFoundError\u001b[0m: [Errno 2] No such file or directory: './model_mnist/model'"
     ]
    }
   ],
   "source": [
    "from alibi_detect.utils.saving import  load_tf_model\n",
    "filepath = './model_mnist/'\n",
    "model = load_tf_model(filepath)"
   ]
  },
  {
   "cell_type": "code",
   "execution_count": null,
   "metadata": {},
   "outputs": [],
   "source": [
    "model_logits = Model(inputs=model.inputs, outputs=model.layers[-2].output)"
   ]
  },
  {
   "cell_type": "markdown",
   "metadata": {},
   "source": [
    "Select observations for which we will create adversarial instances:"
   ]
  },
  {
   "cell_type": "code",
   "execution_count": null,
   "metadata": {},
   "outputs": [],
   "source": [
    "ids = np.arange(5)\n",
    "X_to_adv = X_test[ids]\n",
    "print(X_to_adv.shape)"
   ]
  },
  {
   "cell_type": "markdown",
   "metadata": {},
   "source": [
    "Launch adversarial attack. Follow the [Basic Iterative Method (Kurakin et al. 2016)](https://arxiv.org/pdf/1607.02533.pdf) when `rand_init` is set to 0 or the [Madry et al. (2017)](https://arxiv.org/pdf/1706.06083.pdf) method when `rand_minmax` is larger than 0:"
   ]
  },
  {
   "cell_type": "code",
   "execution_count": null,
   "metadata": {},
   "outputs": [],
   "source": [
    "# Adversarial attack method. The latest release of the `cleverhans` package does\n",
    "# not support TensrFlow 2 yet, so we need to install from the master branch:\n",
    "# pip install git+https://github.com/tensorflow/cleverhans.git#egg=cleverhans\n",
    "from cleverhans.future.tf2.attacks import projected_gradient_descent\n",
    "X_adv = projected_gradient_descent(model_logits,\n",
    "                                   X_to_adv,\n",
    "                                   eps=2.,\n",
    "                                   eps_iter=1.,\n",
    "                                   nb_iter=10,\n",
    "                                   norm=2,\n",
    "                                   clip_min=X_train.min(),\n",
    "                                   clip_max=X_train.max(),\n",
    "                                   rand_init=None,\n",
    "                                   rand_minmax=.3,\n",
    "                                   targeted=False,\n",
    "                                   sanity_checks=False\n",
    "                                  ).numpy()"
   ]
  },
  {
   "cell_type": "code",
   "execution_count": null,
   "metadata": {},
   "outputs": [],
   "source": [
    "y_pred = predict(X_to_adv)\n",
    "y_pred_adv = predict(X_adv)"
   ]
  },
  {
   "cell_type": "markdown",
   "metadata": {},
   "source": [
    "We can look at the logs of the message dumper and see the last 2 cloud events which should show the results of outr batch prediction of ordinary examples and our modifed adversarial attacks:\n",
    "\n",
    "```JSON\n",
    "\"{\\\"data\\\": {\\\"feature_score\\\": null, \\\"instance_score\\\": null, \\\"is_adversarial\\\": [0, 0, 0, 0, 0]}, \\\"meta\\\": {\\\"name\\\": \\\"AdversarialVAE\\\", \\\"detector_type\\\": \\\"offline\\\", \\\"data_type\\\": null}}\"\n",
    "```\n",
    "\n",
    "and \n",
    "\n",
    "```JSON\n",
    "\"{\\\"data\\\": {\\\"feature_score\\\": null, \\\"instance_score\\\": null, \\\"is_adversarial\\\": [1, 1, 1, 1, 1]}, \\\"meta\\\": {\\\"name\\\": \\\"AdversarialVAE\\\", \\\"detector_type\\\": \\\"offline\\\", \\\"data_type\\\": null}}\"\n",
    "```\n",
    "\n",
    "This shows the first batch of 5 were not adversarial but the second 5 were:\n",
    "\n",
    "  * `is_adversarial: [0, 0, 0, 0, 0]`\n",
    "  * `is_adversarial: [1, 1, 1, 1, 1]`"
   ]
  },
  {
   "cell_type": "code",
   "execution_count": null,
   "metadata": {},
   "outputs": [],
   "source": [
    "!kubectl logs $(kubectl get pod -l serving.knative.dev/configuration=message-dumper -o jsonpath='{.items[0].metadata.name}') user-container"
   ]
  },
  {
   "cell_type": "code",
   "execution_count": null,
   "metadata": {},
   "outputs": [],
   "source": [
    "n_rows = X_to_adv.shape[0]\n",
    "n_cols = 2\n",
    "figsize = (10, 20)\n",
    "img_shape = (28, 28)\n",
    "\n",
    "fig, axes = plt.subplots(nrows=n_rows, ncols=n_cols, figsize=figsize)\n",
    "\n",
    "n_subplot = 1\n",
    "for i in range(n_rows):\n",
    "    plt.subplot(n_rows, n_cols, n_subplot)\n",
    "    plt.axis('off')\n",
    "    if i == 0:\n",
    "        plt.title('Original'\n",
    "                  '\\nPred: {}'.format(y_pred[i]))\n",
    "    else:\n",
    "        plt.title('Pred: {}'.format(y_pred[i]))\n",
    "    plt.imshow(X_to_adv[i].reshape(img_shape))\n",
    "    n_subplot += 1\n",
    "\n",
    "    plt.subplot(n_rows, n_cols, n_subplot)\n",
    "    plt.axis('off')\n",
    "    if i == 0:\n",
    "        plt.title('Adversarial'\n",
    "                  '\\nPred: {}'.format(y_pred_adv[i]))\n",
    "    else:\n",
    "        plt.title('Pred: {}'.format(y_pred_adv[i]))\n",
    "    plt.imshow(X_adv[i].reshape(img_shape))\n",
    "    n_subplot += 1\n",
    "plt.show()"
   ]
  },
  {
   "cell_type": "markdown",
   "metadata": {},
   "source": [
    "## Get Adversarial Scores\n",
    "\n",
    "We call the adversarial detector directly to get instance scores.\n"
   ]
  },
  {
   "cell_type": "code",
   "execution_count": null,
   "metadata": {},
   "outputs": [],
   "source": [
    "from alibi_detect.utils.visualize import plot_instance_score\n",
    "X = np.concatenate([X_to_adv, X_adv], axis=0)\n",
    "ad_preds = detect(X)\n",
    "labels = ['Normal', 'Adversarial']\n",
    "target = np.array([0 if i < X_to_adv.shape[0] else 1 for i in range(X.shape[0])])\n",
    "plot_instance_score(ad_preds, target, labels, 0.5)"
   ]
  },
  {
   "cell_type": "markdown",
   "metadata": {},
   "source": [
    "## Tear Down"
   ]
  },
  {
   "cell_type": "code",
   "execution_count": 30,
   "metadata": {},
   "outputs": [
    {
     "name": "stdout",
     "output_type": "stream",
     "text": [
      "Error from server (NotFound): error when deleting \"mnist.yaml\": inferenceservices.serving.kubeflow.org \"mnist\" not found\n",
      "Error from server (NotFound): error when deleting \"mnistad.yaml\": services.serving.knative.dev \"ad-mnist\" not found\n",
      "trigger.eventing.knative.dev \"adversarial-mnist-trigger\" deleted\n",
      "/bin/sh: 1: kunectl: not found\n"
     ]
    }
   ],
   "source": [
    "!kubectl delete -f mnist.yaml\n",
    "!kubectl delete -f mnistad.yaml\n",
    "!kubectl delete -f trigger.yaml\n",
    "!kunectl delete -f message-dumper.yaml"
   ]
  },
  {
   "cell_type": "code",
   "execution_count": null,
   "metadata": {},
   "outputs": [],
   "source": []
  }
 ],
 "metadata": {
  "kernelspec": {
   "display_name": "Python 3",
   "language": "python",
   "name": "python3"
  },
  "language_info": {
   "codemirror_mode": {
    "name": "ipython",
    "version": 3
   },
   "file_extension": ".py",
   "mimetype": "text/x-python",
   "name": "python",
   "nbconvert_exporter": "python",
   "pygments_lexer": "ipython3",
   "version": "3.7.7"
  }
 },
 "nbformat": 4,
 "nbformat_minor": 2
}
