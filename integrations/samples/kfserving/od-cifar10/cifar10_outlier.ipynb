{
 "cells": [
  {
   "cell_type": "markdown",
   "metadata": {},
   "source": [
    "# Cifar10 Outlier Detection with Kfserving\n",
    "![demo](./demo.png)\n",
    "\n",
    "Prequisites:\n",
    "\n",
    " * Running cluster with kfserving installed and authenticated for use with `kubectl`\n",
    "    * Istio with Istio Gateway exposed on a LoadBalancer\n",
    " * Knative eventing installed\n",
    " * Pip install the alibi_detect library."
   ]
  },
  {
   "cell_type": "markdown",
   "metadata": {},
   "source": [
    "## Setup Resources"
   ]
  },
  {
   "cell_type": "markdown",
   "metadata": {},
   "source": [
    "Enabled eventing on default namespace. This will activate a default Knative Broker."
   ]
  },
  {
   "cell_type": "code",
   "execution_count": 1,
   "metadata": {},
   "outputs": [
    {
     "name": "stdout",
     "output_type": "stream",
     "text": [
      "namespace/default labeled\r\n"
     ]
    }
   ],
   "source": [
    "!kubectl label namespace default knative-eventing-injection=enabled"
   ]
  },
  {
   "cell_type": "markdown",
   "metadata": {},
   "source": [
    "Create a Knative service to log events it receives. This will be the example final sink for outlier events."
   ]
  },
  {
   "cell_type": "code",
   "execution_count": 47,
   "metadata": {},
   "outputs": [
    {
     "name": "stdout",
     "output_type": "stream",
     "text": [
      "\u001b[94mapiVersion\u001b[39;49;00m: eventing.knative.dev/v1alpha1\r\n",
      "\u001b[94mkind\u001b[39;49;00m: Trigger\r\n",
      "\u001b[94mmetadata\u001b[39;49;00m:\r\n",
      "  \u001b[94mname\u001b[39;49;00m: seldon-request-logger-trigger\r\n",
      "  \u001b[94mnamespace\u001b[39;49;00m: default\r\n",
      "\u001b[94mspec\u001b[39;49;00m:\r\n",
      "  \u001b[94msubscriber\u001b[39;49;00m:\r\n",
      "    \u001b[94mref\u001b[39;49;00m:\r\n",
      "      \u001b[94mapiVersion\u001b[39;49;00m: serving.knative.dev/v1\r\n",
      "      \u001b[94mkind\u001b[39;49;00m: Service\r\n",
      "      \u001b[94mname\u001b[39;49;00m: seldon-request-logger\r\n",
      "\u001b[04m\u001b[36m---\u001b[39;49;00m\r\n",
      "\u001b[94mapiVersion\u001b[39;49;00m: serving.knative.dev/v1alpha1\r\n",
      "\u001b[94mkind\u001b[39;49;00m: Service\r\n",
      "\u001b[94mmetadata\u001b[39;49;00m:\r\n",
      "  \u001b[94mname\u001b[39;49;00m: seldon-request-logger\r\n",
      "  \u001b[94mnamespace\u001b[39;49;00m: default\r\n",
      "  \u001b[94mmetadata\u001b[39;49;00m:\r\n",
      "    \u001b[94mlabels\u001b[39;49;00m:\r\n",
      "    \u001b[94mfluentd\u001b[39;49;00m: \u001b[33m\"\u001b[39;49;00m\u001b[33mtrue\u001b[39;49;00m\u001b[33m\"\u001b[39;49;00m\r\n",
      "\u001b[94mspec\u001b[39;49;00m:\r\n",
      "  \u001b[94mtemplate\u001b[39;49;00m:\r\n",
      "    \u001b[94mspec\u001b[39;49;00m:\r\n",
      "      \u001b[94mcontainers\u001b[39;49;00m:\r\n",
      "        - \u001b[94mimage\u001b[39;49;00m: docker.io/ryandawsonuk/seldon-request-logger-cifar:0.0.4\r\n",
      "          \u001b[94mimagePullPolicy\u001b[39;49;00m: Always\r\n",
      "          \u001b[94menv\u001b[39;49;00m:\r\n",
      "           - \u001b[94mname\u001b[39;49;00m: ELASTICSEARCH_HOST\r\n",
      "             \u001b[94mvalue\u001b[39;49;00m: \u001b[33m\"\u001b[39;49;00m\u001b[33melasticsearch-master.logs.svc.cluster.local\u001b[39;49;00m\u001b[33m\"\u001b[39;49;00m\r\n",
      "           - \u001b[94mname\u001b[39;49;00m: ELASTICSEARCH_PORT\r\n",
      "             \u001b[94mvalue\u001b[39;49;00m: \u001b[33m\"\u001b[39;49;00m\u001b[33m9200\u001b[39;49;00m\u001b[33m\"\u001b[39;49;00m\r\n"
     ]
    }
   ],
   "source": [
    "!pygmentize message-logger.yaml"
   ]
  },
  {
   "cell_type": "code",
   "execution_count": 48,
   "metadata": {},
   "outputs": [
    {
     "name": "stdout",
     "output_type": "stream",
     "text": [
      "trigger.eventing.knative.dev/seldon-request-logger-trigger created\n",
      "service.serving.knative.dev/seldon-request-logger configured\n"
     ]
    }
   ],
   "source": [
    "!kubectl apply -f message-logger.yaml"
   ]
  },
  {
   "cell_type": "markdown",
   "metadata": {},
   "source": [
    "Install elasticsearch"
   ]
  },
  {
   "cell_type": "code",
   "execution_count": 4,
   "metadata": {},
   "outputs": [
    {
     "name": "stdout",
     "output_type": "stream",
     "text": [
      "namespace/logs created\n",
      "Release \"elasticsearch\" does not exist. Installing it now.\n",
      "NAME: elasticsearch\n",
      "LAST DEPLOYED: Fri Feb 21 16:06:42 2020\n",
      "NAMESPACE: logs\n",
      "STATUS: deployed\n",
      "REVISION: 1\n",
      "NOTES:\n",
      "1. Watch all cluster members come up.\n",
      "  $ kubectl get pods --namespace=logs -l app=elasticsearch-master -w\n",
      "2. Test cluster health using Helm test.\n",
      "  $ helm test elasticsearch\n",
      "Release \"kibana\" does not exist. Installing it now.\n",
      "NAME: kibana\n",
      "LAST DEPLOYED: Fri Feb 21 16:06:50 2020\n",
      "NAMESPACE: logs\n",
      "STATUS: deployed\n",
      "REVISION: 1\n",
      "TEST SUITE: None\n"
     ]
    }
   ],
   "source": [
    "!kubectl create namespace logs || echo \"namespace logs exists\"\n",
    "!helm upgrade --install elasticsearch elasticsearch --version 7.5.2 --namespace=logs --set service.type=ClusterIP --set antiAffinity=\"soft\" --repo https://helm.elastic.co\n",
    "!helm upgrade --install kibana kibana --version 7.5.2 --namespace=logs --set service.type=ClusterIP --repo https://helm.elastic.co"
   ]
  },
  {
   "cell_type": "markdown",
   "metadata": {},
   "source": [
    "Create the Kfserving image classification model for Cifar10. We add in a `logger` for requests - the default destination is the namespace Knative Broker."
   ]
  },
  {
   "cell_type": "code",
   "execution_count": 56,
   "metadata": {},
   "outputs": [
    {
     "name": "stdout",
     "output_type": "stream",
     "text": [
      "\u001b[94mapiVersion\u001b[39;49;00m: \u001b[33m\"\u001b[39;49;00m\u001b[33mserving.kubeflow.org/v1alpha2\u001b[39;49;00m\u001b[33m\"\u001b[39;49;00m\r\n",
      "\u001b[94mkind\u001b[39;49;00m: \u001b[33m\"\u001b[39;49;00m\u001b[33mInferenceService\u001b[39;49;00m\u001b[33m\"\u001b[39;49;00m\r\n",
      "\u001b[94mmetadata\u001b[39;49;00m:\r\n",
      "  \u001b[94mname\u001b[39;49;00m: \u001b[33m\"\u001b[39;49;00m\u001b[33mpytorch-cifar10\u001b[39;49;00m\u001b[33m\"\u001b[39;49;00m\r\n",
      "\u001b[94mspec\u001b[39;49;00m:\r\n",
      "  \u001b[94mdefault\u001b[39;49;00m:\r\n",
      "    \u001b[94mpredictor\u001b[39;49;00m:\r\n",
      "      \u001b[94mminReplicas\u001b[39;49;00m: 1\r\n",
      "      \u001b[94mpytorch\u001b[39;49;00m:\r\n",
      "        \u001b[94mstorageUri\u001b[39;49;00m: \u001b[33m\"\u001b[39;49;00m\u001b[33mgs://kfserving-samples/models/pytorch/cifar10/\u001b[39;49;00m\u001b[33m\"\u001b[39;49;00m\r\n",
      "        \u001b[94mmodelClassName\u001b[39;49;00m: \u001b[33m\"\u001b[39;49;00m\u001b[33mNet\u001b[39;49;00m\u001b[33m\"\u001b[39;49;00m\r\n",
      "      \u001b[94mlogger\u001b[39;49;00m:\r\n",
      "        \u001b[94mmode\u001b[39;49;00m: all\r\n"
     ]
    }
   ],
   "source": [
    "!pygmentize cifar10.yaml"
   ]
  },
  {
   "cell_type": "code",
   "execution_count": 57,
   "metadata": {},
   "outputs": [
    {
     "name": "stdout",
     "output_type": "stream",
     "text": [
      "inferenceservice.serving.kubeflow.org/pytorch-cifar10 configured\r\n"
     ]
    }
   ],
   "source": [
    "!kubectl apply -f cifar10.yaml"
   ]
  },
  {
   "cell_type": "markdown",
   "metadata": {},
   "source": [
    "Create the pretrained VAE Cifar10 Outlier Detector. We forward replies to the message-dumper we started."
   ]
  },
  {
   "cell_type": "code",
   "execution_count": 50,
   "metadata": {},
   "outputs": [
    {
     "name": "stdout",
     "output_type": "stream",
     "text": [
      "\u001b[94mapiVersion\u001b[39;49;00m: serving.knative.dev/v1alpha1\r\n",
      "\u001b[94mkind\u001b[39;49;00m: Service\r\n",
      "\u001b[94mmetadata\u001b[39;49;00m:\r\n",
      "  \u001b[94mname\u001b[39;49;00m: vae-outlier\r\n",
      "\u001b[94mspec\u001b[39;49;00m:\r\n",
      "  \u001b[94mtemplate\u001b[39;49;00m:\r\n",
      "    \u001b[94mmetadata\u001b[39;49;00m:\r\n",
      "      \u001b[94mannotations\u001b[39;49;00m:\r\n",
      "        \u001b[94mautoscaling.knative.dev/minScale\u001b[39;49;00m: \u001b[33m\"\u001b[39;49;00m\u001b[33m1\u001b[39;49;00m\u001b[33m\"\u001b[39;49;00m\r\n",
      "    \u001b[94mspec\u001b[39;49;00m:\r\n",
      "      \u001b[94mcontainers\u001b[39;49;00m:\r\n",
      "      - \u001b[94mimage\u001b[39;49;00m: ryandawsonuk/cifar10od:0.0.4\r\n",
      "        \u001b[94mimagePullPolicy\u001b[39;49;00m: Always\r\n",
      "        \u001b[94margs\u001b[39;49;00m:\r\n",
      "        - --model_name\r\n",
      "        - vaeod\r\n",
      "        - --storage_uri\r\n",
      "        - ./vae_outlier_detector/\r\n",
      "        - --reply_url\r\n",
      "        - http://seldon-request-logger.default\r\n",
      "        - --event_type\r\n",
      "        - org.kubeflow.serving.inference.outlier\r\n"
     ]
    }
   ],
   "source": [
    "!pygmentize cifar10od.yaml"
   ]
  },
  {
   "cell_type": "code",
   "execution_count": 51,
   "metadata": {},
   "outputs": [
    {
     "name": "stdout",
     "output_type": "stream",
     "text": [
      "service.serving.knative.dev/vae-outlier created\r\n"
     ]
    }
   ],
   "source": [
    "!kubectl apply -f cifar10od.yaml"
   ]
  },
  {
   "cell_type": "markdown",
   "metadata": {},
   "source": [
    "Create a Knative trigger to forward logging events to our Outlier Detector."
   ]
  },
  {
   "cell_type": "code",
   "execution_count": 54,
   "metadata": {},
   "outputs": [
    {
     "name": "stdout",
     "output_type": "stream",
     "text": [
      "\u001b[94mapiVersion\u001b[39;49;00m: eventing.knative.dev/v1alpha1\r\n",
      "\u001b[94mkind\u001b[39;49;00m: Trigger\r\n",
      "\u001b[94mmetadata\u001b[39;49;00m:\r\n",
      "  \u001b[94mname\u001b[39;49;00m: vaeoutlier-trigger\r\n",
      "  \u001b[94mnamespace\u001b[39;49;00m: default\r\n",
      "\u001b[94mspec\u001b[39;49;00m:\r\n",
      "  \u001b[94mfilter\u001b[39;49;00m:\r\n",
      "    \u001b[94msourceAndType\u001b[39;49;00m:\r\n",
      "      \u001b[94mtype\u001b[39;49;00m: org.kubeflow.serving.inference.request\r\n",
      "  \u001b[94msubscriber\u001b[39;49;00m:\r\n",
      "    \u001b[94mref\u001b[39;49;00m:\r\n",
      "      \u001b[94mapiVersion\u001b[39;49;00m: serving.knative.dev/v1alpha1\r\n",
      "      \u001b[94mkind\u001b[39;49;00m: Service\r\n",
      "      \u001b[94mname\u001b[39;49;00m: vae-outlier\r\n",
      "      \r\n"
     ]
    }
   ],
   "source": [
    "!pygmentize trigger.yaml"
   ]
  },
  {
   "cell_type": "code",
   "execution_count": 55,
   "metadata": {},
   "outputs": [
    {
     "name": "stdout",
     "output_type": "stream",
     "text": [
      "trigger.eventing.knative.dev/vaeoutlier-trigger configured\r\n"
     ]
    }
   ],
   "source": [
    "!kubectl apply -f trigger.yaml"
   ]
  },
  {
   "cell_type": "markdown",
   "metadata": {},
   "source": [
    "Get the IP address of the Istio Ingress Gateway. This assumes you have installed istio with a LoadBalancer."
   ]
  },
  {
   "cell_type": "code",
   "execution_count": 58,
   "metadata": {},
   "outputs": [
    {
     "name": "stdout",
     "output_type": "stream",
     "text": [
      "34.70.215.56\n"
     ]
    }
   ],
   "source": [
    "CLUSTER_IPS=!(kubectl -n istio-system get service istio-ingressgateway -o jsonpath='{.status.loadBalancer.ingress[0].ip}')\n",
    "CLUSTER_IP=CLUSTER_IPS[0]\n",
    "print(CLUSTER_IP)"
   ]
  },
  {
   "cell_type": "code",
   "execution_count": 59,
   "metadata": {},
   "outputs": [
    {
     "name": "stdout",
     "output_type": "stream",
     "text": [
      "pytorch-cifar10.default.example.com\n"
     ]
    }
   ],
   "source": [
    "SERVICE_HOSTNAMES=!(kubectl get inferenceservice pytorch-cifar10 -o jsonpath='{.status.url}' | cut -d \"/\" -f 3)\n",
    "SERVICE_HOSTNAME_CIFAR10=SERVICE_HOSTNAMES[0]\n",
    "print(SERVICE_HOSTNAME_CIFAR10)"
   ]
  },
  {
   "cell_type": "code",
   "execution_count": 60,
   "metadata": {},
   "outputs": [
    {
     "name": "stdout",
     "output_type": "stream",
     "text": [
      "vae-outlier.default.example.com\n"
     ]
    }
   ],
   "source": [
    "SERVICE_HOSTNAMES=!(kubectl get ksvc vae-outlier -o jsonpath='{.status.url}' | cut -d \"/\" -f 3)\n",
    "SERVICE_HOSTNAME_VAEOD=SERVICE_HOSTNAMES[0]\n",
    "print(SERVICE_HOSTNAME_VAEOD)"
   ]
  },
  {
   "cell_type": "code",
   "execution_count": 61,
   "metadata": {},
   "outputs": [
    {
     "name": "stdout",
     "output_type": "stream",
     "text": [
      "(50000, 32, 32, 3) (50000, 1) (10000, 32, 32, 3) (10000, 1)\n"
     ]
    }
   ],
   "source": [
    "import matplotlib.pyplot as plt\n",
    "import numpy as np\n",
    "\n",
    "import tensorflow as tf\n",
    "tf.keras.backend.clear_session()\n",
    "\n",
    "from alibi_detect.od.vae import OutlierVAE\n",
    "from alibi_detect.utils.perturbation import apply_mask\n",
    "from alibi_detect.utils.visualize import plot_feature_outlier_image\n",
    "import requests\n",
    "\n",
    "train, test = tf.keras.datasets.cifar10.load_data()\n",
    "X_train, y_train = train\n",
    "X_test, y_test = test\n",
    "\n",
    "X_train = X_train.astype('float32') / 255\n",
    "X_test = X_test.astype('float32') / 255\n",
    "print(X_train.shape, y_train.shape, X_test.shape, y_test.shape)\n",
    "classes = ('plane', 'car', 'bird', 'cat',\n",
    "           'deer', 'dog', 'frog', 'horse', 'ship', 'truck')\n",
    "\n",
    "def pytorch_transform(X):\n",
    "    img = (X - 0.5) * 2.0\n",
    "    return np.transpose(img, (0,3, 1, 2))\n",
    "\n",
    "def show(X):\n",
    "    plt.imshow(X.reshape(32, 32, 3))\n",
    "    plt.axis('off')\n",
    "    plt.show()\n",
    "\n",
    "def predict(X):\n",
    "    X = pytorch_transform(X)\n",
    "    formData = {\n",
    "    'instances': X.tolist()\n",
    "    }\n",
    "    headers = {}\n",
    "    headers[\"Host\"] = SERVICE_HOSTNAME_CIFAR10\n",
    "    res = requests.post('http://'+CLUSTER_IP+'/v1/models/pytorch-cifar10:predict', json=formData, headers=headers)\n",
    "    if res.status_code == 200:\n",
    "        return classes[np.array(res.json()[\"predictions\"])[0].argmax()]\n",
    "    else:\n",
    "        print(\"Failed with \",res.status_code)\n",
    "        return []\n",
    "    \n",
    "def outlier(X):\n",
    "    X = pytorch_transform(X)\n",
    "    formData = {\n",
    "    'instances': X.tolist()\n",
    "    }\n",
    "    headers = {\"alibi-detect-return-feature-score\":\"true\",\"alibi-detect-return-instance-score\":\"true\"}\n",
    "    headers[\"Host\"] = SERVICE_HOSTNAME_VAEOD\n",
    "    res = requests.post('http://'+CLUSTER_IP+'/', json=formData, headers=headers)\n",
    "    if res.status_code == 200:\n",
    "        od = res.json()\n",
    "        od[\"data\"][\"feature_score\"] = np.array(od[\"data\"][\"feature_score\"])\n",
    "        od[\"data\"][\"instance_score\"] = np.array(od[\"data\"][\"instance_score\"])\n",
    "        return od\n",
    "    else:\n",
    "        print(\"Failed with \",res.status_code)\n",
    "        return []"
   ]
  },
  {
   "cell_type": "markdown",
   "metadata": {},
   "source": [
    "## Normal Prediction"
   ]
  },
  {
   "cell_type": "code",
   "execution_count": 63,
   "metadata": {
    "scrolled": true
   },
   "outputs": [
    {
     "data": {
      "image/png": "[encoded data removed]",
      "text/plain": [
       "<Figure size 432x288 with 1 Axes>"
      ]
     },
     "metadata": {
      "needs_background": "light"
     },
     "output_type": "display_data"
    },
    {
     "data": {
      "text/plain": [
       "'truck'"
      ]
     },
     "execution_count": 63,
     "metadata": {},
     "output_type": "execute_result"
    }
   ],
   "source": [
    "idx = 1\n",
    "X = X_train[idx:idx+1]\n",
    "show(X)\n",
    "predict(X)"
   ]
  },
  {
   "cell_type": "markdown",
   "metadata": {},
   "source": [
    "Show logs from message-dumper.  You should see the last cloudevent shown with a payload like:\n",
    "```JSON\n",
    "\"{\\\"data\\\": {\\\"feature_score\\\": null, \\\"instance_score\\\": null, \\\"is_outlier\\\": [0]}, \\\"meta\\\": {\\\"name\\\": \\\"OutlierVAE\\\", \\\"detector_type\\\": \\\"offline\\\", \\\"data_type\\\": \\\"image\\\"}}\"\n",
    "```\n",
    "\n",
    "There is a value marking this event not an outlier:  `is_outlier: [0]`"
   ]
  },
  {
   "cell_type": "code",
   "execution_count": null,
   "metadata": {},
   "outputs": [],
   "source": [
    "!kubectl logs $(kubectl get pod -l serving.knative.dev/configuration=message-dumper -o jsonpath='{.items[0].metadata.name}') user-container"
   ]
  },
  {
   "cell_type": "markdown",
   "metadata": {},
   "source": [
    "## Outlier Prediction"
   ]
  },
  {
   "cell_type": "code",
   "execution_count": null,
   "metadata": {},
   "outputs": [],
   "source": [
    "np.random.seed(0) \n",
    "X_mask, mask = apply_mask(X.reshape(1, 32, 32, 3),\n",
    "                                  mask_size=(10,10),\n",
    "                                  n_masks=1,\n",
    "                                  channels=[0,1,2],\n",
    "                                  mask_type='normal',\n",
    "                                  noise_distr=(0,1),\n",
    "                                  clip_rng=(0,1))"
   ]
  },
  {
   "cell_type": "code",
   "execution_count": null,
   "metadata": {},
   "outputs": [],
   "source": [
    "show(X_mask)\n",
    "predict(X_mask)"
   ]
  },
  {
   "cell_type": "markdown",
   "metadata": {},
   "source": [
    "We look at the logs of the message dumper. The last cloudevent should have a payload like:\n",
    "\n",
    "```JSON\n",
    "\"{\\\"data\\\": {\\\"feature_score\\\": null, \\\"instance_score\\\": null, \\\"is_outlier\\\": [1]}, \\\"meta\\\": {\\\"name\\\": \\\"OutlierVAE\\\", \\\"detector_type\\\": \\\"offline\\\", \\\"data_type\\\": \\\"image\\\"}}\"\n",
    "```\n",
    "\n",
    "This shows an outlier was detected: `is_outlier: [1]`"
   ]
  },
  {
   "cell_type": "code",
   "execution_count": null,
   "metadata": {},
   "outputs": [],
   "source": [
    "!kubectl logs $(kubectl get pod -l serving.knative.dev/configuration=message-dumper -o jsonpath='{.items[0].metadata.name}') user-container"
   ]
  },
  {
   "cell_type": "markdown",
   "metadata": {},
   "source": [
    "We will now call our outlier detector directly and ask for the feature scores to gain more information about why it predicted this instance was an outlier."
   ]
  },
  {
   "cell_type": "code",
   "execution_count": null,
   "metadata": {},
   "outputs": [],
   "source": [
    "od_preds = outlier(X_mask)"
   ]
  },
  {
   "cell_type": "markdown",
   "metadata": {},
   "source": [
    "We now plot those feature scores returned along with our original image."
   ]
  },
  {
   "cell_type": "code",
   "execution_count": null,
   "metadata": {},
   "outputs": [],
   "source": [
    "plot_feature_outlier_image(od_preds, \n",
    "                           X_mask, \n",
    "                           X_recon=None)"
   ]
  },
  {
   "cell_type": "markdown",
   "metadata": {},
   "source": [
    "Record of the predictions and outliers will now be in elasticsearch. Access this by running `kubectl port-forward svc/kibana-kibana -n logs 5601:5601` and going to `localhost:5601` as per [the seldon core request logging example](https://github.com/SeldonIO/seldon-core/tree/master/examples/centralised-logging)"
   ]
  }
 ],
 "metadata": {
  "kernelspec": {
   "display_name": "Python 3",
   "language": "python",
   "name": "python3"
  },
  "language_info": {
   "codemirror_mode": {
    "name": "ipython",
    "version": 3
   },
   "file_extension": ".py",
   "mimetype": "text/x-python",
   "name": "python",
   "nbconvert_exporter": "python",
   "pygments_lexer": "ipython3",
   "version": "3.7.6"
  }
 },
 "nbformat": 4,
 "nbformat_minor": 2
}
