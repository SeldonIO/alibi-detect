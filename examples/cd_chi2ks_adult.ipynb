{
 "cells": [
  {
   "cell_type": "markdown",
   "metadata": {},
   "source": [
    "# Categorical and mixed type data drift detection on income prediction\n",
    "\n",
    "### Method\n",
    "\n",
    "The drift detector applies feature-wise two-sample [Kolmogorov-Smirnov](https://en.wikipedia.org/wiki/Kolmogorov%E2%80%93Smirnov_test) (K-S) tests for the continuous numerical features and [Chi-Squared](https://en.wikipedia.org/wiki/Chi-squared_test) tests for the categorical features. For multivariate data, the obtained p-values for each feature are aggregated either via the [Bonferroni](https://mathworld.wolfram.com/BonferroniCorrection.html) or the [False Discovery Rate](http://www.math.tau.ac.il/~ybenja/MyPapers/benjamini_hochberg1995.pdf) (FDR) correction. The Bonferroni correction is more conservative and controls for the probability of at least one false positive. The FDR correction on the other hand allows for an expected fraction of false positives to occur.\n",
    "\n",
    "\n",
    "\n",
    "### Dataset\n",
    "\n",
    "The instances contain a person's characteristics like age, marital status or education while the label represents whether the person makes more or less than $50k per year. The dataset consists of a mixture of numerical and categorical features. It is fetched using the [Alibi](https://github.com/SeldonIO/alibi) library, which can be installed with pip: \n",
    "\n",
    "```bash\n",
    "pip install alibi\n",
    "```"
   ]
  },
  {
   "cell_type": "code",
   "execution_count": 1,
   "metadata": {},
   "outputs": [],
   "source": [
    "import alibi\n",
    "import matplotlib.pyplot as plt\n",
    "import numpy as np\n",
    "\n",
    "from alibi_detect.cd import ChiSquareDrift, TabularDrift\n",
    "from alibi_detect.utils.saving import save_detector, load_detector"
   ]
  },
  {
   "cell_type": "markdown",
   "metadata": {},
   "source": [
    "### Load income prediction dataset\n",
    "\n",
    "The ```fetch_adult``` function returns a ```Bunch``` object containing the instances, the targets, the feature names and a dictionary with as keys the column indices of the categorical features and as values the possible categories for each categorical variable."
   ]
  },
  {
   "cell_type": "code",
   "execution_count": 2,
   "metadata": {},
   "outputs": [
    {
     "data": {
      "text/plain": [
       "((32561, 12), (32561,))"
      ]
     },
     "execution_count": 2,
     "metadata": {},
     "output_type": "execute_result"
    }
   ],
   "source": [
    "adult = alibi.datasets.fetch_adult()\n",
    "X, y = adult.data, adult.target\n",
    "feature_names = adult.feature_names\n",
    "category_map = adult.category_map\n",
    "X.shape, y.shape"
   ]
  },
  {
   "cell_type": "markdown",
   "metadata": {},
   "source": [
    "We split the data in a reference set and 2 test sets on which we test the data drift:"
   ]
  },
  {
   "cell_type": "code",
   "execution_count": 3,
   "metadata": {},
   "outputs": [
    {
     "data": {
      "text/plain": [
       "((10000, 12), (10000, 12), (10000, 12))"
      ]
     },
     "execution_count": 3,
     "metadata": {},
     "output_type": "execute_result"
    }
   ],
   "source": [
    "n_ref = 10000\n",
    "n_test = 10000\n",
    "\n",
    "X_ref, X_t0, X_t1 = X[:n_ref], X[n_ref:n_ref + n_test], X[n_ref + n_test:n_ref + 2 * n_test]\n",
    "X_ref.shape, X_t0.shape, X_t1.shape"
   ]
  },
  {
   "cell_type": "markdown",
   "metadata": {},
   "source": [
    "### Detect drift\n",
    "\n",
    "We need to provide the drift detector with the columns which contain categorical features so it knows which features require the Chi-Squared and which ones require the K-S univariate test. We can either provide a dict with as keys the column indices and as values the number of possible categories or just set the values to *None* and let the detector infer the number of categories from the reference data as in the example below:"
   ]
  },
  {
   "cell_type": "code",
   "execution_count": 4,
   "metadata": {},
   "outputs": [],
   "source": [
    "categories_per_feature = {f: None for f in list(category_map.keys())}"
   ]
  },
  {
   "cell_type": "markdown",
   "metadata": {},
   "source": [
    "Initialize the detector:"
   ]
  },
  {
   "cell_type": "code",
   "execution_count": 5,
   "metadata": {},
   "outputs": [],
   "source": [
    "cd = TabularDrift(p_val=.05, X_ref=X_ref, categories_per_feature=categories_per_feature)"
   ]
  },
  {
   "cell_type": "markdown",
   "metadata": {},
   "source": [
    "We can also save/load an initialised detector:"
   ]
  },
  {
   "cell_type": "code",
   "execution_count": 6,
   "metadata": {},
   "outputs": [],
   "source": [
    "filepath = 'my_path'  # change to directory where detector is saved\n",
    "save_detector(cd, filepath)\n",
    "cd = load_detector(filepath)"
   ]
  },
  {
   "cell_type": "markdown",
   "metadata": {},
   "source": [
    "Now we can check whether the 2 test sets are drifting from the reference data:"
   ]
  },
  {
   "cell_type": "code",
   "execution_count": 7,
   "metadata": {},
   "outputs": [
    {
     "name": "stdout",
     "output_type": "stream",
     "text": [
      "Drift? No!\n"
     ]
    }
   ],
   "source": [
    "preds = cd.predict(X_t0)\n",
    "labels = ['No!', 'Yes!']\n",
    "print('Drift? {}'.format(labels[preds['data']['is_drift']]))"
   ]
  },
  {
   "cell_type": "markdown",
   "metadata": {},
   "source": [
    "Let's take a closer look at each of the features. The `preds` dictionary also returns the K-S or Chi-Squared test statistics and p-value for each feature:"
   ]
  },
  {
   "cell_type": "code",
   "execution_count": 8,
   "metadata": {},
   "outputs": [
    {
     "name": "stdout",
     "output_type": "stream",
     "text": [
      "Age -- K-S 0.012 -- p-value 0.512\n",
      "Workclass -- Chi2 16.219 -- p-value 0.039\n",
      "Education -- Chi2 9.234 -- p-value 0.161\n",
      "Marital Status -- Chi2 6.089 -- p-value 0.107\n",
      "Occupation -- Chi2 16.074 -- p-value 0.041\n",
      "Relationship -- Chi2 0.974 -- p-value 0.965\n",
      "Race -- Chi2 1.179 -- p-value 0.882\n",
      "Sex -- Chi2 0.461 -- p-value 0.497\n",
      "Capital Gain -- K-S 0.002 -- p-value 1.000\n",
      "Capital Loss -- K-S 0.002 -- p-value 1.000\n",
      "Hours per week -- K-S 0.012 -- p-value 0.512\n",
      "Country -- Chi2 19.993 -- p-value 0.029\n"
     ]
    }
   ],
   "source": [
    "for f in range(cd.n_features):\n",
    "    stat = 'Chi2' if f in list(categories_per_feature.keys()) else 'K-S'\n",
    "    fname = feature_names[f]\n",
    "    stat_val, p_val = preds['data']['distance'][f], preds['data']['p_val'][f]\n",
    "    print(f'{fname} -- {stat} {stat_val:.3f} -- p-value {p_val:.3f}')"
   ]
  },
  {
   "cell_type": "markdown",
   "metadata": {},
   "source": [
    "Although the p-values of some individual features are below the threshold, they are still above the threshold after multivariate correction: "
   ]
  },
  {
   "cell_type": "code",
   "execution_count": 9,
   "metadata": {},
   "outputs": [
    {
     "data": {
      "text/plain": [
       "0.004166666666666667"
      ]
     },
     "execution_count": 9,
     "metadata": {},
     "output_type": "execute_result"
    }
   ],
   "source": [
    "preds['data']['threshold']"
   ]
  },
  {
   "cell_type": "markdown",
   "metadata": {},
   "source": [
    "If you are interested in individual feature-wise drift, this is also possible:"
   ]
  },
  {
   "cell_type": "code",
   "execution_count": 10,
   "metadata": {},
   "outputs": [],
   "source": [
    "fpreds = cd.predict(X_t0, drift_type='feature')"
   ]
  },
  {
   "cell_type": "code",
   "execution_count": 11,
   "metadata": {},
   "outputs": [
    {
     "name": "stdout",
     "output_type": "stream",
     "text": [
      "Age -- Drift? No! -- K-S 0.012 -- p-value 0.512\n",
      "Workclass -- Drift? Yes! -- Chi2 16.219 -- p-value 0.039\n",
      "Education -- Drift? No! -- Chi2 9.234 -- p-value 0.161\n",
      "Marital Status -- Drift? No! -- Chi2 6.089 -- p-value 0.107\n",
      "Occupation -- Drift? Yes! -- Chi2 16.074 -- p-value 0.041\n",
      "Relationship -- Drift? No! -- Chi2 0.974 -- p-value 0.965\n",
      "Race -- Drift? No! -- Chi2 1.179 -- p-value 0.882\n",
      "Sex -- Drift? No! -- Chi2 0.461 -- p-value 0.497\n",
      "Capital Gain -- Drift? No! -- K-S 0.002 -- p-value 1.000\n",
      "Capital Loss -- Drift? No! -- K-S 0.002 -- p-value 1.000\n",
      "Hours per week -- Drift? No! -- K-S 0.012 -- p-value 0.512\n",
      "Country -- Drift? Yes! -- Chi2 19.993 -- p-value 0.029\n"
     ]
    }
   ],
   "source": [
    "for f in range(cd.n_features):\n",
    "    stat = 'Chi2' if f in list(categories_per_feature.keys()) else 'K-S'\n",
    "    fname = feature_names[f]\n",
    "    is_drift = fpreds['data']['is_drift'][f]\n",
    "    stat_val, p_val = fpreds['data']['distance'][f], fpreds['data']['p_val'][f]\n",
    "    print(f'{fname} -- Drift? {labels[is_drift]} -- {stat} {stat_val:.3f} -- p-value {p_val:.3f}')"
   ]
  },
  {
   "cell_type": "markdown",
   "metadata": {},
   "source": [
    "What about the second test set?"
   ]
  },
  {
   "cell_type": "code",
   "execution_count": 12,
   "metadata": {},
   "outputs": [
    {
     "name": "stdout",
     "output_type": "stream",
     "text": [
      "Drift? Yes!\n"
     ]
    }
   ],
   "source": [
    "preds = cd.predict(X_t1)\n",
    "labels = ['No!', 'Yes!']\n",
    "print('Drift? {}'.format(labels[preds['data']['is_drift']]))"
   ]
  },
  {
   "cell_type": "markdown",
   "metadata": {},
   "source": [
    "We can again investigate the individual features:"
   ]
  },
  {
   "cell_type": "code",
   "execution_count": 13,
   "metadata": {},
   "outputs": [
    {
     "name": "stdout",
     "output_type": "stream",
     "text": [
      "Age -- Drift? No! -- K-S 0.007 -- p-value 0.967\n",
      "Workclass -- Drift? No! -- Chi2 8.742 -- p-value 0.365\n",
      "Education -- Drift? No! -- Chi2 10.579 -- p-value 0.102\n",
      "Marital Status -- Drift? No! -- Chi2 2.333 -- p-value 0.506\n",
      "Occupation -- Drift? Yes! -- Chi2 25.039 -- p-value 0.002\n",
      "Relationship -- Drift? No! -- Chi2 13.250 -- p-value 0.021\n",
      "Race -- Drift? No! -- Chi2 2.794 -- p-value 0.593\n",
      "Sex -- Drift? No! -- Chi2 0.022 -- p-value 0.882\n",
      "Capital Gain -- Drift? No! -- K-S 0.005 -- p-value 0.999\n",
      "Capital Loss -- Drift? No! -- K-S 0.003 -- p-value 1.000\n",
      "Hours per week -- Drift? No! -- K-S 0.004 -- p-value 1.000\n",
      "Country -- Drift? No! -- Chi2 24.140 -- p-value 0.007\n"
     ]
    }
   ],
   "source": [
    "for f in range(cd.n_features):\n",
    "    stat = 'Chi2' if f in list(categories_per_feature.keys()) else 'K-S'\n",
    "    fname = feature_names[f]\n",
    "    is_drift = (preds['data']['p_val'][f] < preds['data']['threshold']).astype(int)\n",
    "    stat_val, p_val = preds['data']['distance'][f], preds['data']['p_val'][f]\n",
    "    print(f'{fname} -- Drift? {labels[is_drift]} -- {stat} {stat_val:.3f} -- p-value {p_val:.3f}')"
   ]
  },
  {
   "cell_type": "markdown",
   "metadata": {},
   "source": [
    "It seems like there is divergence in the distribution of the *Occupation* feature between the reference and test set. Let's visualize this:"
   ]
  },
  {
   "cell_type": "code",
   "execution_count": 14,
   "metadata": {},
   "outputs": [],
   "source": [
    "def plot_categories(idx: int) -> None:\n",
    "    # reference data\n",
    "    fref_drift = {cat: cd.X_ref_count[idx][i] for i, cat in enumerate(category_map[idx])}\n",
    "    \n",
    "    # test set\n",
    "    cats = {f: list(np.unique(X_t1[:, f])) for f in categories_per_feature.keys()}\n",
    "    X_count = {f: [(X_t1[:, f] == v).sum() for v in vals] for f, vals in cats.items()}\n",
    "    fxt1_drift = {cat: X_count[idx][i] for i, cat in enumerate(category_map[idx])}\n",
    "    \n",
    "    # plot bar chart\n",
    "    plot_labels = list(fxt1_drift.keys())\n",
    "    ind = np.arange(len(plot_labels))\n",
    "    width = .35\n",
    "    fig, ax = plt.subplots()\n",
    "    p1 = ax.bar(ind, list(fref_drift.values()), width)\n",
    "    p2 = ax.bar(ind + width, list(fxt1_drift.values()), width)\n",
    "    ax.set_title(f'Counts per category for {feature_names[idx]} feature')\n",
    "    ax.set_xticks(ind + width / 2)\n",
    "    ax.set_xticklabels(plot_labels)\n",
    "    ax.legend((p1[0], p2[0]), ('Reference', 'Test'), loc='upper right', ncol=2)\n",
    "    ax.set_ylabel('Counts')\n",
    "    ax.set_xlabel('Categories')\n",
    "    plt.xticks(list(np.arange(len(plot_labels))), plot_labels, rotation='vertical')\n",
    "    plt.show()"
   ]
  },
  {
   "cell_type": "code",
   "execution_count": 15,
   "metadata": {},
   "outputs": [
    {
     "data": {
      "image/png": "[encoded data removed]",
      "text/plain": [
       "<Figure size 432x288 with 1 Axes>"
      ]
     },
     "metadata": {
      "needs_background": "light"
     },
     "output_type": "display_data"
    }
   ],
   "source": [
    "idx_drift = np.where(preds['data']['p_val'] < preds['data']['threshold'])[0][0]\n",
    "\n",
    "plot_categories(idx_drift)"
   ]
  },
  {
   "cell_type": "markdown",
   "metadata": {},
   "source": [
    "While these distributions might not look too dissimilar, let's compare it to for instance the *Workclass*, *Education* or *Marital Status* features, which do not show individual feature drift:"
   ]
  },
  {
   "cell_type": "code",
   "execution_count": 16,
   "metadata": {},
   "outputs": [
    {
     "data": {
      "image/png": "[encoded data removed]",
      "text/plain": [
       "<Figure size 432x288 with 1 Axes>"
      ]
     },
     "metadata": {
      "needs_background": "light"
     },
     "output_type": "display_data"
    },
    {
     "data": {
      "image/png": "[encoded data removed]",
      "text/plain": [
       "<Figure size 432x288 with 1 Axes>"
      ]
     },
     "metadata": {
      "needs_background": "light"
     },
     "output_type": "display_data"
    },
    {
     "data": {
      "image/png": "[encoded data removed]",
      "text/plain": [
       "<Figure size 432x288 with 1 Axes>"
      ]
     },
     "metadata": {
      "needs_background": "light"
     },
     "output_type": "display_data"
    }
   ],
   "source": [
    "plot_categories(1)\n",
    "plot_categories(2)\n",
    "plot_categories(3)"
   ]
  },
  {
   "cell_type": "markdown",
   "metadata": {},
   "source": [
    "### Categorical data drift\n",
    "\n",
    "While the *TabularDrift* detector works fine with numerical or categorical features only, we can also directly use a categorical drift detector. In this case, we don't need to specify the categorical feature columns. First we construct a categorical-only dataset and then use the *ChiSquareDrift* detector:"
   ]
  },
  {
   "cell_type": "code",
   "execution_count": 17,
   "metadata": {},
   "outputs": [
    {
     "data": {
      "text/plain": [
       "((10000, 8), (10000, 8))"
      ]
     },
     "execution_count": 17,
     "metadata": {},
     "output_type": "execute_result"
    }
   ],
   "source": [
    "cols = list(category_map.keys())\n",
    "cat_names = [feature_names[_] for _ in list(category_map.keys())]\n",
    "X_ref_cat, X_t0_cat = X_ref[:, cols], X_t0[:, cols]\n",
    "X_ref_cat.shape, X_t0_cat.shape"
   ]
  },
  {
   "cell_type": "code",
   "execution_count": 18,
   "metadata": {},
   "outputs": [
    {
     "name": "stdout",
     "output_type": "stream",
     "text": [
      "Drift? No!\n"
     ]
    }
   ],
   "source": [
    "cd = ChiSquareDrift(p_val=.05, X_ref=X_ref_cat)\n",
    "preds = cd.predict(X_t0_cat)\n",
    "print('Drift? {}'.format(labels[preds['data']['is_drift']]))"
   ]
  },
  {
   "cell_type": "code",
   "execution_count": 19,
   "metadata": {},
   "outputs": [
    {
     "name": "stdout",
     "output_type": "stream",
     "text": [
      "Threshold 0.00625\n",
      "Workclass -- Drift? No! -- Chi2 16.219 -- p-value 0.039\n",
      "Education -- Drift? No! -- Chi2 9.234 -- p-value 0.161\n",
      "Marital Status -- Drift? No! -- Chi2 6.089 -- p-value 0.107\n",
      "Occupation -- Drift? No! -- Chi2 16.074 -- p-value 0.041\n",
      "Relationship -- Drift? No! -- Chi2 0.974 -- p-value 0.965\n",
      "Race -- Drift? No! -- Chi2 1.179 -- p-value 0.882\n",
      "Sex -- Drift? No! -- Chi2 0.461 -- p-value 0.497\n",
      "Country -- Drift? No! -- Chi2 19.993 -- p-value 0.029\n"
     ]
    }
   ],
   "source": [
    "print(f\"Threshold {preds['data']['threshold']}\")\n",
    "for f in range(cd.n_features):\n",
    "    fname = cat_names[f]\n",
    "    is_drift = (preds['data']['p_val'][f] < preds['data']['threshold']).astype(int)\n",
    "    stat_val, p_val = preds['data']['distance'][f], preds['data']['p_val'][f]\n",
    "    print(f'{fname} -- Drift? {labels[is_drift]} -- {stat} {stat_val:.3f} -- p-value {p_val:.3f}')"
   ]
  }
 ],
 "metadata": {
  "kernelspec": {
   "display_name": "Python 3",
   "language": "python",
   "name": "python3"
  },
  "language_info": {
   "codemirror_mode": {
    "name": "ipython",
    "version": 3
   },
   "file_extension": ".py",
   "mimetype": "text/x-python",
   "name": "python",
   "nbconvert_exporter": "python",
   "pygments_lexer": "ipython3",
   "version": "3.7.6"
  }
 },
 "nbformat": 4,
 "nbformat_minor": 4
}
