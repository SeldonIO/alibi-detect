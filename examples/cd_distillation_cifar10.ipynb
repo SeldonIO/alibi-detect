{
 "cells": [
  {
   "cell_type": "code",
   "execution_count": null,
   "metadata": {},
   "outputs": [
    {
     "name": "stderr",
     "output_type": "stream",
     "text": [
      "Importing plotly failed. Interactive plots will not work.\n"
     ]
    }
   ],
   "source": [
    "import matplotlib.pyplot as plt\n",
    "import numpy as np\n",
    "import pandas as pd\n",
    "import os\n",
    "from shutil import copyfile\n",
    "from glob import glob\n",
    "import json\n",
    "\n",
    "import tensorflow as tf\n",
    "from tensorflow.keras.layers import Conv2D, Dense, Flatten, InputLayer, Reshape, Conv2DTranspose\n",
    "from tensorflow.keras.regularizers import l1\n",
    "from alibi_detect.cd import KSDrift\n",
    "from alibi_detect.ad.adversarialae import AdversarialAE\n",
    "from alibi_detect.cd.model_distillation import ModelDistillation\n",
    "from alibi_detect.cd.preprocess import uae, hidden_output\n",
    "from alibi_detect.models.resnet import scale_by_instance\n",
    "from alibi_detect.utils.fetching import fetch_tf_model, fetch_detector\n",
    "from alibi_detect.utils.prediction import predict_batch\n",
    "from alibi_detect.utils.saving import save_detector, load_detector\n",
    "from alibi_detect.datasets import fetch_cifar10c, corruption_types_cifar10c\n",
    "from sklearn.model_selection import ParameterGrid\n",
    "from sklearn.metrics import accuracy_score"
   ]
  },
  {
   "cell_type": "code",
   "execution_count": null,
   "metadata": {},
   "outputs": [],
   "source": [
    "%set_env CUDA_VISIBLE_DEVICES=2"
   ]
  },
  {
   "cell_type": "code",
   "execution_count": null,
   "metadata": {},
   "outputs": [],
   "source": [
    "def load_data():\n",
    "\n",
    "    (X_train, y_train), (X_test, y_test) = tf.keras.datasets.cifar10.load_data()\n",
    "    X_train = X_train.astype('float32') / 255\n",
    "    X_test = X_test.astype('float32') / 255\n",
    "    y_train = y_train.astype('int64').reshape(-1, )\n",
    "    y_test = y_test.astype('int64').reshape(-1, )\n",
    "\n",
    "    X_train = scale_by_instance(X_train)\n",
    "    X_test = scale_by_instance(X_test)\n",
    "\n",
    "    return X_train, y_train, X_test, y_test\n",
    "\n",
    "def load_detector(directory, model=False):\n",
    "    ancillary_model = tf.keras.models.load_model(os.path.join(directory, 'ancillary_model.h5'))\n",
    "    if not model:\n",
    "        model = tf.keras.models.load_model(os.path.join(directory, 'model.h5'))\n",
    "    ad = ModelDistillation(ancillary_model=ancillary_model, model=model)\n",
    "    return ad"
   ]
  },
  {
   "cell_type": "code",
   "execution_count": null,
   "metadata": {},
   "outputs": [],
   "source": [
    "corruptions = ['gaussian_noise', 'motion_blur', 'brightness', 'pixelate']\n",
    "severities = [1, 2, 3, 4, 5]\n",
    "\n",
    "grid = {'corruption': corruptions,\n",
    "        'severity': severities}\n",
    "confs = list(ParameterGrid(grid))"
   ]
  },
  {
   "cell_type": "code",
   "execution_count": null,
   "metadata": {},
   "outputs": [],
   "source": [
    "X_train, y_train, X_test, y_test = load_data()"
   ]
  },
  {
   "cell_type": "code",
   "execution_count": null,
   "metadata": {},
   "outputs": [],
   "source": [
    "conf = confs[0]\n",
    "conf['return_X_y'] = True\n",
    "print('Loading corrupted data')\n",
    "print(conf)\n",
    "X_corr, y_corr = fetch_cifar10c(**conf)\n",
    "X_corr, y_corr = fetch_cifar10c(**conf)"
   ]
  },
  {
   "cell_type": "code",
   "execution_count": null,
   "metadata": {},
   "outputs": [],
   "source": [
    "glob('/home/gio/git/experiments/model_distillation/preds/*/*')"
   ]
  },
  {
   "cell_type": "code",
   "execution_count": null,
   "metadata": {},
   "outputs": [],
   "source": [
    "def get_scores_corrupted(run_nb, corruption='gaussian_noise', severity=1):\n",
    "    path = '/home/gio/git/experiments/model_distillation/preds/run_{}/{}_{}'.format(run_nb, \n",
    "                                                                                    corruption, \n",
    "                                                                                    severity)\n",
    "    return np.load(os.path.join(path, 'scores_test_corr.npy'))\n",
    "\n",
    "def get_scores_clean(run_nb):\n",
    "    path = '/home/gio/git/experiments/model_distillation/preds/run_{}/'.format(run_nb)\n",
    "    return np.load(os.path.join(path, 'scores_test_orig.npy'))\n",
    "\n",
    "def get_preds_clean():\n",
    "    path = '/home/gio/git/experiments/model_distillation/preds/'\n",
    "    return np.load(os.path.join(path, 'preds_test_orig.npy'))\n",
    "\n",
    "def get_preds_corrupted(corruption='gaussian_noise', severity=1):\n",
    "    path = '/home/gio/git/experiments/model_distillation/preds/run_10/{}_{}'.format(corruption, \n",
    "                                                                                    severity)\n",
    "    return np.load(os.path.join(path, 'preds_test_corr_orig.npy'))\n",
    "\n",
    "def get_labels():\n",
    "    path = '/home/gio/git/experiments/model_distillation/preds/'\n",
    "    return np.load(os.path.join(path, 'y_test.npy'))\n",
    "    \n",
    "def get_number_params(run_nb):\n",
    "    path = '/home/gio/git/experiments/model_distillation/preds/run_{}/'.format(run_nb)\n",
    "    with open(os.path.join(path, 'params.json'), 'r') as f:\n",
    "        d = json.load(f)\n",
    "        f.close()\n",
    "    return d['nb_params']\n",
    "    "
   ]
  },
  {
   "cell_type": "code",
   "execution_count": null,
   "metadata": {},
   "outputs": [],
   "source": [
    "confs"
   ]
  },
  {
   "cell_type": "code",
   "execution_count": null,
   "metadata": {},
   "outputs": [],
   "source": [
    "conf = confs[4]\n",
    "run_nb = 0"
   ]
  },
  {
   "cell_type": "code",
   "execution_count": null,
   "metadata": {},
   "outputs": [],
   "source": [
    "preds_clean = get_preds_clean()\n",
    "preds_corrupt = get_preds_corrupted(**conf)\n",
    "scores_clean = get_scores_clean(run_nb)\n",
    "scores_corrupt = get_scores_corrupted(run_nb, **conf)"
   ]
  },
  {
   "cell_type": "code",
   "execution_count": 87,
   "metadata": {},
   "outputs": [],
   "source": [
    "window_size = 100\n",
    "\n",
    "accs_stream = []\n",
    "scores_stream = []\n",
    "ps = []\n",
    "\n",
    "for p in 1 - np.arange(0.001, 1, 0.001):\n",
    "    nb_clean = int(p * window_size)\n",
    "    nb_corrupt = window_size - nb_clean\n",
    "    idx_clean = np.random.choice(len(preds_clean), nb_clean, replace=False)\n",
    "    idx_corrupt = np.random.choice(len(preds_corrupt), nb_corrupt, replace=False)\n",
    "    \n",
    "    preds = np.concatenate([preds_clean[idx_clean], preds_corrupt[idx_corrupt]], axis=0)\n",
    "    ys = np.concatenate([y[idx_clean], y[idx_corrupt]])\n",
    "    accs_stream.append(accuracy_score(ys, np.argmax(preds, axis=1)))\n",
    "    \n",
    "    scores = np.concatenate([scores_clean[idx_clean], scores_corrupt[idx_corrupt]], axis=0)\n",
    "    scores_stream.append(scores.mean())\n",
    "    \n",
    "    ps.append(p)\n",
    "    \n",
    "df = pd.DataFrame({'accuracy': accs_stream, 'scores':scores_stream, 'prob': ps})"
   ]
  },
  {
   "cell_type": "code",
   "execution_count": 90,
   "metadata": {},
   "outputs": [
    {
     "data": {
      "text/plain": [
       "array([<matplotlib.axes._subplots.AxesSubplot object at 0x7fe3e4123610>,\n",
       "       <matplotlib.axes._subplots.AxesSubplot object at 0x7fe3d8c7e9d0>,\n",
       "       <matplotlib.axes._subplots.AxesSubplot object at 0x7fe3580a17d0>],\n",
       "      dtype=object)"
      ]
     },
     "execution_count": 90,
     "metadata": {},
     "output_type": "execute_result"
    },
    {
     "data": {
      "image/png": "[encoded data removed]",
      "text/plain": [
       "<Figure size 864x576 with 3 Axes>"
      ]
     },
     "metadata": {
      "needs_background": "light"
     },
     "output_type": "display_data"
    }
   ],
   "source": [
    "df.plot(subplots=True, figsize=(12, 8))"
   ]
  },
  {
   "cell_type": "code",
   "execution_count": 55,
   "metadata": {},
   "outputs": [
    {
     "data": {
      "text/plain": [
       "0.0975"
      ]
     },
     "execution_count": 55,
     "metadata": {},
     "output_type": "execute_result"
    }
   ],
   "source": [
    "accuracy_score(y, np.argmax(get_preds_corrupted(**conf), axis=1))"
   ]
  },
  {
   "cell_type": "code",
   "execution_count": null,
   "metadata": {},
   "outputs": [],
   "source": []
  },
  {
   "cell_type": "markdown",
   "metadata": {},
   "source": [
    "# Kolmogorov-Smirnov data drift detector on CIFAR-10\n",
    "\n",
    "### Method\n",
    "\n",
    "The drift detector applies feature-wise two-sample [Kolmogorov-Smirnov](https://en.wikipedia.org/wiki/Kolmogorov%E2%80%93Smirnov_test) (K-S) tests. For multivariate data, the obtained p-values for each feature are aggregated either via the [Bonferroni](https://mathworld.wolfram.com/BonferroniCorrection.html) or the [False Discovery Rate](http://www.math.tau.ac.il/~ybenja/MyPapers/benjamini_hochberg1995.pdf) (FDR) correction. The Bonferroni correction is more conservative and controls for the probability of at least one false positive. The FDR correction on the other hand allows for an expected fraction of false positives to occur.\n",
    "\n",
    "For high-dimensional data, we typically want to reduce the dimensionality before computing the feature-wise univariate K-S tests and aggregating those via the chosen correction method. Following suggestions in [Failing Loudly: An Empirical Study of Methods for Detecting Dataset Shift](https://arxiv.org/abs/1810.11953), we incorporate Untrained AutoEncoders (UAE), black-box shift detection using the classifier's softmax outputs ([BBSDs](https://arxiv.org/abs/1802.03916)) and [PCA](https://en.wikipedia.org/wiki/Principal_component_analysis) as out-of-the box preprocessing methods. Preprocessing methods which do not rely on the classifier will usually pick up drift in the input data, while BBSDs focuses on label shift. The [adversarial detector](https://arxiv.org/abs/2002.09364) which is part of the library can also be transformed into a drift detector picking up drift that reduces the performance of the classification model. We can therefore combine different preprocessing techniques to figure out if there is drift which hurts the model performance, and whether this drift can be classified as input drift or label shift.\n",
    "\n",
    "\n",
    "### Dataset\n",
    "\n",
    "[CIFAR10](https://www.cs.toronto.edu/~kriz/cifar.html) consists of 60,000 32 by 32 RGB images equally distributed over 10 classes. We evaluate the drift detector on the CIFAR-10-C dataset ([Hendrycks & Dietterich, 2019](https://arxiv.org/abs/1903.12261)). The instances in\n",
    "CIFAR-10-C have been corrupted and perturbed by various types of noise, blur, brightness etc. at different levels of severity, leading to a gradual decline in the classification model performance. We also check for drift against the original test set with class imbalances. "
   ]
  },
  {
   "cell_type": "code",
   "execution_count": 1,
   "metadata": {},
   "outputs": [
    {
     "name": "stdout",
     "output_type": "stream",
     "text": [
      "env: CUDA_VISIBLE_DEVICES=2\n"
     ]
    }
   ],
   "source": [
    "%set_env CUDA_VISIBLE_DEVICES=2"
   ]
  },
  {
   "cell_type": "code",
   "execution_count": 2,
   "metadata": {},
   "outputs": [
    {
     "name": "stderr",
     "output_type": "stream",
     "text": [
      "Importing plotly failed. Interactive plots will not work.\n"
     ]
    }
   ],
   "source": [
    "import matplotlib.pyplot as plt\n",
    "import numpy as np\n",
    "import os\n",
    "import tensorflow as tf\n",
    "from tensorflow.keras.layers import Conv2D, Dense, Flatten, InputLayer, Reshape, Conv2DTranspose\n",
    "from tensorflow.keras.regularizers import l1\n",
    "from alibi_detect.cd import KSDrift\n",
    "from alibi_detect.ad.adversarialae import AdversarialAE\n",
    "from alibi_detect.cd.model_distillation import ModelDistillation\n",
    "from alibi_detect.cd.preprocess import uae, hidden_output\n",
    "from alibi_detect.models.resnet import scale_by_instance\n",
    "from alibi_detect.utils.fetching import fetch_tf_model, fetch_detector\n",
    "from alibi_detect.utils.prediction import predict_batch\n",
    "from alibi_detect.utils.saving import save_detector, load_detector\n",
    "from alibi_detect.datasets import fetch_cifar10c, corruption_types_cifar10c"
   ]
  },
  {
   "cell_type": "code",
   "execution_count": 3,
   "metadata": {},
   "outputs": [],
   "source": [
    "from alibi_detect.datasets import fetch_cifar10c"
   ]
  },
  {
   "cell_type": "code",
   "execution_count": 4,
   "metadata": {},
   "outputs": [],
   "source": [
    "import cloudpickle"
   ]
  },
  {
   "cell_type": "code",
   "execution_count": 5,
   "metadata": {},
   "outputs": [
    {
     "data": {
      "text/plain": [
       "'1.4.1'"
      ]
     },
     "execution_count": 5,
     "metadata": {},
     "output_type": "execute_result"
    }
   ],
   "source": [
    "cloudpickle.__version__"
   ]
  },
  {
   "cell_type": "markdown",
   "metadata": {},
   "source": [
    "### Load data\n",
    "\n",
    "Original CIFAR-10 data:"
   ]
  },
  {
   "cell_type": "code",
   "execution_count": 6,
   "metadata": {},
   "outputs": [],
   "source": [
    "(X_train, y_train), (X_test, y_test) = tf.keras.datasets.cifar10.load_data()\n",
    "X_train = X_train.astype('float32') / 255\n",
    "X_test = X_test.astype('float32') / 255\n",
    "y_train = y_train.astype('int64').reshape(-1,)\n",
    "y_test = y_test.astype('int64').reshape(-1,)"
   ]
  },
  {
   "cell_type": "markdown",
   "metadata": {},
   "source": [
    "For CIFAR-10-C, we can select from the following corruption types at 5 severity levels:"
   ]
  },
  {
   "cell_type": "code",
   "execution_count": 7,
   "metadata": {},
   "outputs": [
    {
     "name": "stdout",
     "output_type": "stream",
     "text": [
      "['brightness', 'contrast', 'defocus_blur', 'elastic_transform', 'fog', 'frost', 'gaussian_blur', 'gaussian_noise', 'glass_blur', 'impulse_noise', 'jpeg_compression', 'motion_blur', 'pixelate', 'saturate', 'shot_noise', 'snow', 'spatter', 'speckle_noise', 'zoom_blur']\n"
     ]
    }
   ],
   "source": [
    "corruptions = corruption_types_cifar10c()\n",
    "print(corruptions)"
   ]
  },
  {
   "cell_type": "markdown",
   "metadata": {},
   "source": [
    "Let's pick a subset of the corruptions at corruption level 5. Each corruption type consists of perturbations on all of the original test set images."
   ]
  },
  {
   "cell_type": "code",
   "execution_count": 8,
   "metadata": {},
   "outputs": [],
   "source": [
    "corruption = ['gaussian_noise', 'motion_blur', 'brightness', 'pixelate']\n",
    "X_corr, y_corr = fetch_cifar10c(corruption=corruption, severity=5, return_X_y=True)\n",
    "X_corr = X_corr.astype('float32') / 255"
   ]
  },
  {
   "cell_type": "code",
   "execution_count": 9,
   "metadata": {},
   "outputs": [
    {
     "data": {
      "text/plain": [
       "(40000,)"
      ]
     },
     "execution_count": 9,
     "metadata": {},
     "output_type": "execute_result"
    }
   ],
   "source": [
    "y_corr.shape"
   ]
  },
  {
   "cell_type": "markdown",
   "metadata": {},
   "source": [
    "We split the original test set in a reference dataset and a dataset which should not be rejected under the *H<sub>0</sub>* of the K-S test. We also split the corrupted data by corruption type:"
   ]
  },
  {
   "cell_type": "code",
   "execution_count": 10,
   "metadata": {},
   "outputs": [
    {
     "name": "stdout",
     "output_type": "stream",
     "text": [
      "(5000, 32, 32, 3) (5000, 32, 32, 3)\n"
     ]
    }
   ],
   "source": [
    "np.random.seed(0)\n",
    "n_test = X_test.shape[0]\n",
    "idx = np.random.choice(n_test, size=n_test // 2, replace=False)\n",
    "idx_h0 = np.delete(np.arange(n_test), idx, axis=0)\n",
    "X_ref,y_ref = X_test[idx], y_test[idx]\n",
    "X_h0, y_h0 = X_test[idx_h0], y_test[idx_h0]\n",
    "print(X_ref.shape, X_h0.shape)"
   ]
  },
  {
   "cell_type": "code",
   "execution_count": 11,
   "metadata": {},
   "outputs": [
    {
     "name": "stdout",
     "output_type": "stream",
     "text": [
      "Class Ref H0\n",
      "0     472 528\n",
      "1     510 490\n",
      "2     498 502\n",
      "3     492 508\n",
      "4     501 499\n",
      "5     495 505\n",
      "6     493 507\n",
      "7     501 499\n",
      "8     516 484\n",
      "9     522 478\n"
     ]
    }
   ],
   "source": [
    "# check that the classes are more or less balanced\n",
    "classes, counts_ref = np.unique(y_ref, return_counts=True)\n",
    "counts_h0 = np.unique(y_h0, return_counts=True)[1]\n",
    "print('Class Ref H0')\n",
    "for cl, cref, ch0 in zip(classes, counts_ref, counts_h0):\n",
    "    assert cref + ch0 == n_test // 10\n",
    "    print('{}     {} {}'.format(cl, cref, ch0))"
   ]
  },
  {
   "cell_type": "code",
   "execution_count": 12,
   "metadata": {},
   "outputs": [],
   "source": [
    "X_c = []\n",
    "n_corr = len(corruption)\n",
    "for i in range(n_corr):\n",
    "    X_c.append(X_corr[i * n_test:(i + 1) * n_test])"
   ]
  },
  {
   "cell_type": "code",
   "execution_count": 13,
   "metadata": {},
   "outputs": [
    {
     "data": {
      "text/plain": [
       "10000"
      ]
     },
     "execution_count": 13,
     "metadata": {},
     "output_type": "execute_result"
    }
   ],
   "source": [
    "len(X_c[0])"
   ]
  },
  {
   "cell_type": "markdown",
   "metadata": {},
   "source": [
    "We can visualise the same instance for each corruption type:"
   ]
  },
  {
   "cell_type": "code",
   "execution_count": 14,
   "metadata": {
    "tags": [
     "hide_input"
    ]
   },
   "outputs": [
    {
     "data": {
      "image/png": "[encoded data removed]",
      "text/plain": [
       "<Figure size 432x288 with 1 Axes>"
      ]
     },
     "metadata": {
      "needs_background": "light"
     },
     "output_type": "display_data"
    },
    {
     "data": {
      "image/png": "[encoded data removed]",
      "text/plain": [
       "<Figure size 432x288 with 1 Axes>"
      ]
     },
     "metadata": {
      "needs_background": "light"
     },
     "output_type": "display_data"
    },
    {
     "data": {
      "image/png": "[encoded data removed]",
      "text/plain": [
       "<Figure size 432x288 with 1 Axes>"
      ]
     },
     "metadata": {
      "needs_background": "light"
     },
     "output_type": "display_data"
    },
    {
     "data": {
      "image/png": "[encoded data removed]",
      "text/plain": [
       "<Figure size 432x288 with 1 Axes>"
      ]
     },
     "metadata": {
      "needs_background": "light"
     },
     "output_type": "display_data"
    },
    {
     "data": {
      "image/png": "[encoded data removed]",
      "text/plain": [
       "<Figure size 432x288 with 1 Axes>"
      ]
     },
     "metadata": {
      "needs_background": "light"
     },
     "output_type": "display_data"
    }
   ],
   "source": [
    "i = 1\n",
    "\n",
    "n_test = X_test.shape[0]\n",
    "plt.title('Original')\n",
    "plt.axis('off')\n",
    "plt.imshow(X_test[i])\n",
    "plt.show()\n",
    "for _ in range(len(corruption)):\n",
    "    plt.title(corruption[_])\n",
    "    plt.axis('off')\n",
    "    plt.imshow(X_corr[n_test * _+ i])\n",
    "    plt.show()"
   ]
  },
  {
   "cell_type": "markdown",
   "metadata": {},
   "source": [
    "We can also verify that the performance of a classification model on CIFAR-10 drops significantly on this perturbed dataset:"
   ]
  },
  {
   "cell_type": "code",
   "execution_count": 15,
   "metadata": {},
   "outputs": [
    {
     "name": "stdout",
     "output_type": "stream",
     "text": [
      "Test set accuracy:\n",
      "Original 0.9278\n",
      "gaussian_noise 0.2208\n",
      "motion_blur 0.6339\n",
      "brightness 0.8913\n",
      "pixelate 0.3666\n"
     ]
    }
   ],
   "source": [
    "dataset = 'cifar10'\n",
    "model = 'resnet32'\n",
    "clf = fetch_tf_model(dataset, model)\n",
    "acc = clf.evaluate(scale_by_instance(X_test), y_test, batch_size=128, verbose=0)[1]\n",
    "print('Test set accuracy:')\n",
    "print('Original {:.4f}'.format(acc))\n",
    "clf_accuracy = {'original': acc}\n",
    "for _ in range(len(corruption)):\n",
    "    acc = clf.evaluate(scale_by_instance(X_c[_]), y_test, batch_size=128, verbose=0)[1]\n",
    "    clf_accuracy[corruption[_]] = acc\n",
    "    print('{} {:.4f}'.format(corruption[_], acc))"
   ]
  },
  {
   "cell_type": "markdown",
   "metadata": {},
   "source": [
    "Given the drop in performance, it is important that we detect the harmful data drift!\n",
    "\n",
    "### Detect drift\n",
    "\n",
    "We are trying to detect data drift on high-dimensional (*32x32x3*) data using an aggregation of univariate K-S tests. It therefore makes sense to apply dimensionality reduction first. Some dimensionality reduction methods also used in [Failing Loudly: An Empirical Study of Methods for Detecting Dataset Shift](https://arxiv.org/pdf/1810.11953.pdf) are readily available: **UAE** (Untrained AutoEncoder), **BBSDs** (black-box shift detection using the classifier's softmax outputs) and **PCA**. \n",
    "\n",
    "#### Untrained AutoEncoder\n",
    "\n",
    "First we try UAE:"
   ]
  },
  {
   "cell_type": "code",
   "execution_count": 16,
   "metadata": {
    "scrolled": false
   },
   "outputs": [
    {
     "name": "stdout",
     "output_type": "stream",
     "text": [
      "WARNING:tensorflow:No training configuration found in the save file, so the model was *not* compiled. Compile it manually.\n"
     ]
    }
   ],
   "source": [
    "tf.random.set_seed(0)\n",
    "\n",
    "# define encoder\n",
    "encoding_dim = 32\n",
    "encoder_net = tf.keras.Sequential(\n",
    "  [\n",
    "      InputLayer(input_shape=(32, 32, 3)),\n",
    "      Conv2D(64, 4, strides=2, padding='same', activation=tf.nn.relu),\n",
    "      Conv2D(128, 4, strides=2, padding='same', activation=tf.nn.relu),\n",
    "      Conv2D(512, 4, strides=2, padding='same', activation=tf.nn.relu),\n",
    "      Flatten(),\n",
    "      Dense(encoding_dim,)\n",
    "  ]\n",
    ")\n",
    "\n",
    "# initialise drift detector\n",
    "p_val = .05\n",
    "cd = KSDrift(\n",
    "    p_val=p_val,        # p-value for K-S test \n",
    "    X_ref=X_ref,       # test against original test set\n",
    "    preprocess_fn=uae,  # UAE for dimensionality reduction\n",
    "    preprocess_kwargs={'encoder_net': encoder_net, 'batch_size': 128},\n",
    "    alternative='two-sided'  # other options: 'less', 'greater'\n",
    ")\n",
    "\n",
    "# we can also save/load an initialised detector\n",
    "filepath = 'my_path'  # change to directory where detector is saved\n",
    "save_detector(cd, filepath)\n",
    "cd = load_detector(filepath)"
   ]
  },
  {
   "cell_type": "markdown",
   "metadata": {},
   "source": [
    "The p-value used by the detector for the multivariate data with *encoding_dim* features is equal to *p_val / encoding_dim* because of the [Bonferroni correction](https://mathworld.wolfram.com/BonferroniCorrection.html)."
   ]
  },
  {
   "cell_type": "code",
   "execution_count": 17,
   "metadata": {},
   "outputs": [],
   "source": [
    "assert cd.p_val / cd.n_features == p_val / encoding_dim"
   ]
  },
  {
   "cell_type": "markdown",
   "metadata": {},
   "source": [
    "Let's check whether the detector thinks drift occurred within the original test set:"
   ]
  },
  {
   "cell_type": "code",
   "execution_count": 18,
   "metadata": {},
   "outputs": [
    {
     "name": "stdout",
     "output_type": "stream",
     "text": [
      "Drift? No!\n"
     ]
    }
   ],
   "source": [
    "preds_h0 = cd.predict(X_h0, return_p_val=True)\n",
    "labels = ['No!', 'Yes!']\n",
    "print('Drift? {}'.format(labels[preds_h0['data']['is_drift']]))"
   ]
  },
  {
   "cell_type": "markdown",
   "metadata": {},
   "source": [
    "As expected, no drift occurred. We can also inspect the p-values for each univariate K-S test by (encoded) feature before the multivariate correction. Most of them are well above the $0.05$ threshold:"
   ]
  },
  {
   "cell_type": "code",
   "execution_count": 19,
   "metadata": {},
   "outputs": [
    {
     "name": "stdout",
     "output_type": "stream",
     "text": [
      "[0.9386024  0.13979132 0.6384489  0.05413922 0.37460664 0.25598603\n",
      " 0.87304014 0.47553554 0.11587767 0.67217577 0.47553554 0.7388285\n",
      " 0.08215971 0.14635575 0.3114053  0.3114053  0.60482025 0.36134896\n",
      " 0.8023182  0.21715216 0.24582714 0.46030036 0.11587767 0.44532147\n",
      " 0.25598603 0.58811766 0.5550683  0.95480835 0.8598946  0.23597081\n",
      " 0.8975547  0.68899393]\n"
     ]
    }
   ],
   "source": [
    "print(preds_h0['data']['p_val'])"
   ]
  },
  {
   "cell_type": "markdown",
   "metadata": {},
   "source": [
    "Let's now check the predictions on the perturbed data:"
   ]
  },
  {
   "cell_type": "code",
   "execution_count": 20,
   "metadata": {},
   "outputs": [
    {
     "name": "stdout",
     "output_type": "stream",
     "text": [
      "Corruption type: gaussian_noise\n",
      "Drift? Yes!\n",
      "Feature-wise p-values:\n",
      "[4.85834153e-03 7.20506581e-03 5.44517934e-02 9.87569049e-09\n",
      " 3.35018486e-01 8.05620551e-02 6.66609779e-03 2.68237293e-01\n",
      " 1.52247362e-02 1.01558706e-02 1.78680534e-03 1.04267694e-01\n",
      " 4.93385670e-08 1.35106135e-10 1.04696119e-04 1.44342221e-06\n",
      " 2.87180692e-01 3.79266362e-06 3.45018925e-04 1.96636513e-01\n",
      " 1.86571106e-03 5.92635339e-03 4.70917694e-10 5.92635339e-03\n",
      " 5.07743537e-01 5.31427140e-05 3.80059540e-01 1.13354892e-01\n",
      " 2.75738519e-02 7.75579622e-07 3.23252240e-03 2.02312917e-02]\n",
      "\n",
      "Corruption type: motion_blur\n",
      "Drift? Yes!\n",
      "Feature-wise p-values:\n",
      "[3.39037769e-07 1.16525307e-01 5.04726835e-04 3.81079665e-03\n",
      " 6.31192625e-01 5.28989534e-04 3.61990853e-04 1.57829020e-02\n",
      " 1.94784126e-03 1.26909809e-02 4.46249526e-09 6.99155149e-04\n",
      " 3.79746925e-04 5.88651128e-21 1.35596551e-07 2.00218983e-05\n",
      " 7.15865940e-02 7.28750820e-05 1.04267694e-01 1.10198918e-04\n",
      " 2.22608112e-04 1.52403876e-01 6.41064299e-03 3.15323919e-02\n",
      " 3.04985344e-02 8.97102946e-05 6.54255822e-02 2.03331537e-03\n",
      " 1.15137536e-03 8.04463718e-10 9.62164486e-04 3.45018925e-04]\n",
      "\n",
      "Corruption type: brightness\n",
      "Drift? Yes!\n",
      "Feature-wise p-values:\n",
      "[0.0000000e+00 0.0000000e+00 4.0479114e-29 0.0000000e+00 0.0000000e+00\n",
      " 0.0000000e+00 0.0000000e+00 0.0000000e+00 0.0000000e+00 0.0000000e+00\n",
      " 0.0000000e+00 0.0000000e+00 0.0000000e+00 2.3823024e-21 2.9582986e-38\n",
      " 0.0000000e+00 0.0000000e+00 0.0000000e+00 7.1651735e-34 0.0000000e+00\n",
      " 0.0000000e+00 0.0000000e+00 0.0000000e+00 0.0000000e+00 0.0000000e+00\n",
      " 3.8567345e-05 0.0000000e+00 0.0000000e+00 0.0000000e+00 0.0000000e+00\n",
      " 0.0000000e+00 0.0000000e+00]\n",
      "\n",
      "Corruption type: pixelate\n",
      "Drift? Yes!\n",
      "Feature-wise p-values:\n",
      "[3.35018486e-01 2.06576437e-01 1.96636513e-01 8.40378553e-03\n",
      " 5.92454255e-01 9.30991620e-02 1.64748102e-01 5.16919196e-01\n",
      " 2.40608733e-02 4.54285979e-01 1.91894709e-04 1.33487985e-01\n",
      " 1.63820793e-03 1.78680534e-03 1.13354892e-01 9.04688612e-02\n",
      " 8.27570856e-01 6.15745559e-02 6.54255822e-02 9.06871445e-03\n",
      " 2.38713458e-01 6.89552963e-01 1.07227206e-01 8.29487666e-02\n",
      " 3.42268527e-01 1.37110472e-01 3.64637136e-01 3.00327957e-01\n",
      " 3.72297794e-01 9.06871445e-03 4.98639137e-01 9.78103094e-03]\n",
      "\n"
     ]
    }
   ],
   "source": [
    "for x, c in zip(X_c, corruption):\n",
    "    preds = cd.predict(x, return_p_val=True)\n",
    "    print(f'Corruption type: {c}')\n",
    "    print('Drift? {}'.format(labels[preds['data']['is_drift']]))\n",
    "    print('Feature-wise p-values:')\n",
    "    print(preds['data']['p_val'])\n",
    "    print('')"
   ]
  },
  {
   "cell_type": "markdown",
   "metadata": {},
   "source": [
    "#### BBSDs\n",
    "\n",
    "For **BBSDs**, we use the classifier's softmax outputs for black-box shift detection. This method is based on [Detecting and Correcting for Label Shift with Black Box Predictors](https://arxiv.org/abs/1802.03916). The ResNet classifier is trained on data standardised by instance so we need to rescale the data."
   ]
  },
  {
   "cell_type": "code",
   "execution_count": 21,
   "metadata": {},
   "outputs": [],
   "source": [
    "X_train = scale_by_instance(X_train)\n",
    "X_test = scale_by_instance(X_test)\n",
    "for i in range(n_corr):\n",
    "    X_c[i] = scale_by_instance(X_c[i])\n",
    "X_ref = scale_by_instance(X_ref)\n",
    "X_h0 = scale_by_instance(X_h0)"
   ]
  },
  {
   "cell_type": "markdown",
   "metadata": {},
   "source": [
    "Initialisation of the drift detector. Here we use the output of the softmax layer to detect the drift, but other hidden layers can be extracted as well by setting *'layer'* to the index of the desired hidden layer in the model:"
   ]
  },
  {
   "cell_type": "code",
   "execution_count": 22,
   "metadata": {},
   "outputs": [],
   "source": [
    "p_val = .05\n",
    "cd = KSDrift(\n",
    "    p_val=p_val,\n",
    "    X_ref=X_ref,\n",
    "    preprocess_fn=hidden_output,\n",
    "    preprocess_kwargs={'model': clf, 'layer': -1, 'batch_size': 128}  # use output softmax layer\n",
    ")"
   ]
  },
  {
   "cell_type": "markdown",
   "metadata": {},
   "source": [
    "Again we can see that the p-value used by the detector for the multivariate data with 10 features (number of CIFAR-10 classes) is equal to *p_val / 10* because of the [Bonferroni correction](https://mathworld.wolfram.com/BonferroniCorrection.html)."
   ]
  },
  {
   "cell_type": "code",
   "execution_count": 23,
   "metadata": {},
   "outputs": [],
   "source": [
    "assert cd.p_val / cd.n_features == p_val / 10"
   ]
  },
  {
   "cell_type": "markdown",
   "metadata": {},
   "source": [
    "There is no drift on the original held out test set:"
   ]
  },
  {
   "cell_type": "code",
   "execution_count": 24,
   "metadata": {},
   "outputs": [
    {
     "name": "stdout",
     "output_type": "stream",
     "text": [
      "Drift? No!\n",
      "[0.11587767 0.5226477  0.19109942 0.19949944 0.49101472 0.722359\n",
      " 0.12151605 0.41617486 0.8320209  0.75510186]\n"
     ]
    }
   ],
   "source": [
    "preds_h0 = cd.predict(X_h0)\n",
    "print('Drift? {}'.format(labels[preds_h0['data']['is_drift']]))\n",
    "print(preds_h0['data']['p_val'])"
   ]
  },
  {
   "cell_type": "markdown",
   "metadata": {},
   "source": [
    "We compare this with the perturbed data:"
   ]
  },
  {
   "cell_type": "code",
   "execution_count": 25,
   "metadata": {},
   "outputs": [
    {
     "name": "stdout",
     "output_type": "stream",
     "text": [
      "Corruption type: gaussian_noise\n",
      "Drift? Yes!\n",
      "Feature-wise p-values:\n",
      "[0. 0. 0. 0. 0. 0. 0. 0. 0. 0.]\n",
      "\n",
      "Corruption type: motion_blur\n",
      "Drift? Yes!\n",
      "Feature-wise p-values:\n",
      "[0. 0. 0. 0. 0. 0. 0. 0. 0. 0.]\n",
      "\n",
      "Corruption type: brightness\n",
      "Drift? Yes!\n",
      "Feature-wise p-values:\n",
      "[0.0000000e+00 3.8790170e-15 2.2549014e-33 4.6733894e-07 2.1857751e-15\n",
      " 1.2091652e-05 2.3977423e-30 1.0099583e-09 4.3286997e-12 3.8117909e-17]\n",
      "\n",
      "Corruption type: pixelate\n",
      "Drift? Yes!\n",
      "Feature-wise p-values:\n",
      "[0. 0. 0. 0. 0. 0. 0. 0. 0. 0.]\n",
      "\n"
     ]
    }
   ],
   "source": [
    "for x, c in zip(X_c, corruption):\n",
    "    preds = cd.predict(x)\n",
    "    print(f'Corruption type: {c}')\n",
    "    print('Drift? {}'.format(labels[preds['data']['is_drift']]))\n",
    "    print('Feature-wise p-values:')\n",
    "    print(preds['data']['p_val'])\n",
    "    print('')"
   ]
  },
  {
   "cell_type": "markdown",
   "metadata": {},
   "source": [
    "### Label drift\n",
    "\n",
    "We can also check what happens when we introduce class imbalances between the reference data *X_ref* and the tested data *X_imb*. The reference data will use $75$% of the instances of the first 5 classes and only $25$% of the last 5. The data used for drift testing then uses respectively $25$% and $75$% of the test instances for the first and last 5 classes."
   ]
  },
  {
   "cell_type": "code",
   "execution_count": 26,
   "metadata": {},
   "outputs": [
    {
     "name": "stdout",
     "output_type": "stream",
     "text": [
      "(5000, 32, 32, 3) (5000, 32, 32, 3) (5000,)\n"
     ]
    },
    {
     "name": "stderr",
     "output_type": "stream",
     "text": [
      "/home/gio/anaconda3/envs/cd-distill-2/lib/python3.7/site-packages/ipykernel_launcher.py:16: DeprecationWarning: elementwise comparison failed; this will raise an error in the future.\n",
      "  app.launch_new_instance()\n"
     ]
    }
   ],
   "source": [
    "np.random.seed(0)\n",
    "# get index for each class in the test set\n",
    "num_classes = len(np.unique(y_test))\n",
    "idx_by_class = [np.where(y_test == c)[0] for c in range(num_classes)]\n",
    "# sample imbalanced data for different classes for X_ref and X_imb\n",
    "perc_ref = .75\n",
    "perc_ref_by_class = [perc_ref if c < 5 else 1 - perc_ref for c in range(num_classes)]\n",
    "n_by_class = n_test // num_classes\n",
    "X_ref = []\n",
    "X_imb, y_imb = [], []\n",
    "for _ in range(num_classes):\n",
    "    idx_class_ref = np.random.choice(n_by_class, size=int(perc_ref_by_class[_] * n_by_class), replace=False)\n",
    "    idx_ref = idx_by_class[_][idx_class_ref]\n",
    "    idx_class_imb = np.delete(np.arange(n_by_class), idx_class_ref, axis=0)\n",
    "    idx_imb = idx_by_class[_][idx_class_imb]\n",
    "    assert idx_ref != idx_imb\n",
    "    X_ref.append(X_test[idx_ref])\n",
    "    X_imb.append(X_test[idx_imb])\n",
    "    y_imb.append(y_test[idx_imb])\n",
    "X_ref = np.concatenate(X_ref)\n",
    "X_imb = np.concatenate(X_imb)\n",
    "y_imb = np.concatenate(y_imb)\n",
    "print(X_ref.shape, X_imb.shape, y_imb.shape)"
   ]
  },
  {
   "cell_type": "markdown",
   "metadata": {},
   "source": [
    "Update reference dataset for the detector and make predictions:"
   ]
  },
  {
   "cell_type": "code",
   "execution_count": 27,
   "metadata": {},
   "outputs": [],
   "source": [
    "cd.X_ref = X_ref"
   ]
  },
  {
   "cell_type": "code",
   "execution_count": 28,
   "metadata": {},
   "outputs": [
    {
     "name": "stdout",
     "output_type": "stream",
     "text": [
      "Drift? Yes!\n",
      "[5.2598997e-20 1.1312397e-20 5.8646589e-29 9.2977640e-18 6.4071548e-23\n",
      " 1.4155961e-15 5.0236095e-19 1.6651963e-20 4.2726706e-21 3.5123729e-21]\n"
     ]
    }
   ],
   "source": [
    "preds_imb = cd.predict(X_imb)\n",
    "print('Drift? {}'.format(labels[preds_imb['data']['is_drift']]))\n",
    "print(preds_imb['data']['p_val'])"
   ]
  },
  {
   "cell_type": "markdown",
   "metadata": {},
   "source": [
    "### Update reference data\n",
    "\n",
    "So far we have kept the reference data the same throughout the experiments. It is possible however that we want to test a new batch against the last *N* instances or against a batch of instances of fixed size where we give each instance we have seen up until now the same chance of being in the reference batch ([reservoir sampling](https://en.wikipedia.org/wiki/Reservoir_sampling)). The `update_X_ref` argument allows you to change the reference data update rule. It is a Dict which takes as key the update rule (*'last'* for last *N* instances or *'reservoir_sampling'*) and as value the batch size *N* of the reference data. You can also save the detector after the prediction calls to save the updated reference data."
   ]
  },
  {
   "cell_type": "code",
   "execution_count": 29,
   "metadata": {},
   "outputs": [],
   "source": [
    "N = 7500\n",
    "cd = KSDrift(\n",
    "    p_val=.05,\n",
    "    X_ref=X_ref,\n",
    "    update_X_ref={'reservoir_sampling': N},\n",
    "    preprocess_fn=hidden_output,\n",
    "    preprocess_kwargs={'model': clf, 'layer': -1, 'batch_size': 128}\n",
    ")"
   ]
  },
  {
   "cell_type": "markdown",
   "metadata": {},
   "source": [
    "The reference data is now updated with each `predict` call. Say we start with our imbalanced reference set and make a prediction on the remaining test set data *X_imb*, then the drift detector will figure out data drift has occurred."
   ]
  },
  {
   "cell_type": "code",
   "execution_count": 30,
   "metadata": {},
   "outputs": [
    {
     "name": "stdout",
     "output_type": "stream",
     "text": [
      "Drift? Yes!\n"
     ]
    }
   ],
   "source": [
    "preds_imb = cd.predict(X_imb)\n",
    "print('Drift? {}'.format(labels[preds_imb['data']['is_drift']]))"
   ]
  },
  {
   "cell_type": "markdown",
   "metadata": {},
   "source": [
    "We can now see that the reference data consists of *N* instances, obtained through reservoir sampling."
   ]
  },
  {
   "cell_type": "code",
   "execution_count": 31,
   "metadata": {},
   "outputs": [],
   "source": [
    "assert cd.X_ref.shape[0] == N"
   ]
  },
  {
   "cell_type": "markdown",
   "metadata": {},
   "source": [
    "We then draw a random sample from the training set and compare it with the updated reference data. This still highlights that there is data drift but will update the reference data again:"
   ]
  },
  {
   "cell_type": "code",
   "execution_count": 32,
   "metadata": {},
   "outputs": [],
   "source": [
    "np.random.seed(0)\n",
    "perc_train = .5\n",
    "n_train = X_train.shape[0]\n",
    "idx_train = np.random.choice(n_train, size=int(perc_train * n_train), replace=False)"
   ]
  },
  {
   "cell_type": "code",
   "execution_count": 33,
   "metadata": {},
   "outputs": [
    {
     "name": "stdout",
     "output_type": "stream",
     "text": [
      "Drift? Yes!\n"
     ]
    }
   ],
   "source": [
    "preds_train = cd.predict(X_train[idx_train])\n",
    "print('Drift? {}'.format(labels[preds_train['data']['is_drift']]))"
   ]
  },
  {
   "cell_type": "markdown",
   "metadata": {},
   "source": [
    "When we draw a new sample from the training set, it highlights that it is not drifting anymore against the reservoir in *X_ref*."
   ]
  },
  {
   "cell_type": "code",
   "execution_count": 34,
   "metadata": {},
   "outputs": [
    {
     "name": "stdout",
     "output_type": "stream",
     "text": [
      "Drift? No!\n"
     ]
    }
   ],
   "source": [
    "np.random.seed(1)\n",
    "perc_train = .1\n",
    "idx_train = np.random.choice(n_train, size=int(perc_train * n_train), replace=False)\n",
    "preds_train = cd.predict(X_train[idx_train])\n",
    "print('Drift? {}'.format(labels[preds_train['data']['is_drift']]))"
   ]
  },
  {
   "cell_type": "markdown",
   "metadata": {},
   "source": [
    "### Multivariate correction mechanism\n",
    "\n",
    "Instead of the Bonferroni correction for multivariate data, we can also use the less conservative [False Discovery Rate](http://www.math.tau.ac.il/~ybenja/MyPapers/benjamini_hochberg1995.pdf) (FDR) correction. See [here](https://riffyn.com/riffyn-blog/2017/10/29/false-discovery-rate) or [here](https://matthew-brett.github.io/teaching/fdr.html) for nice explanations. While the Bonferroni correction controls the probability of at least one false positive, the FDR correction controls for an expected amount of false positives. The `p_val` argument at initialisation time can be interpreted as the acceptable q-value when the FDR correction is applied."
   ]
  },
  {
   "cell_type": "code",
   "execution_count": 35,
   "metadata": {},
   "outputs": [
    {
     "name": "stdout",
     "output_type": "stream",
     "text": [
      "Drift? Yes!\n"
     ]
    }
   ],
   "source": [
    "cd = KSDrift(\n",
    "    p_val=.05,\n",
    "    correction='fdr',\n",
    "    X_ref=X_ref,\n",
    "    preprocess_fn=hidden_output,\n",
    "    preprocess_kwargs={'model': clf, 'layer': -1, 'batch_size': 128}\n",
    ")\n",
    "\n",
    "preds_imb = cd.predict(X_imb)\n",
    "print('Drift? {}'.format(labels[preds_imb['data']['is_drift']]))"
   ]
  },
  {
   "cell_type": "markdown",
   "metadata": {},
   "source": [
    "### Train vs. test set drift\n",
    "\n",
    "Let us do a last check and see whether there is data drift between the original train and test sets. We will use both the **BBSDs** and **Untrained AutoEncoder** preprocessing techniques. We start with BBSDs:"
   ]
  },
  {
   "cell_type": "code",
   "execution_count": 36,
   "metadata": {},
   "outputs": [
    {
     "name": "stdout",
     "output_type": "stream",
     "text": [
      "Drift? Yes!\n"
     ]
    }
   ],
   "source": [
    "cd = KSDrift(\n",
    "    p_val=.05,\n",
    "    X_ref=X_train,\n",
    "    preprocess_fn=hidden_output,\n",
    "    preprocess_kwargs={'model': clf, 'layer': -1, 'batch_size': 128}\n",
    ")\n",
    "\n",
    "preds_test = cd.predict(X_test)\n",
    "print('Drift? {}'.format(labels[preds_test['data']['is_drift']]))"
   ]
  },
  {
   "cell_type": "markdown",
   "metadata": {},
   "source": [
    "So when we use the softmax output of the classification model, we pick up drift. It is important to notice that this is drift with respect to the classifier output. This means that the detector picked up a difference between the distributions of the softmax probabilities of the model on the train and test sets.\n",
    "\n",
    "When we use the UAE to preprocess the data we do not care about the distribution of the labels being predicted and only take random projections of the input on the latent dimension into account."
   ]
  },
  {
   "cell_type": "code",
   "execution_count": 37,
   "metadata": {},
   "outputs": [
    {
     "name": "stdout",
     "output_type": "stream",
     "text": [
      "Drift? No!\n"
     ]
    }
   ],
   "source": [
    "cd = KSDrift(\n",
    "    p_val=.05,\n",
    "    X_ref=X_train,\n",
    "    preprocess_fn=uae,\n",
    "    preprocess_kwargs={'encoder_net': encoder_net, 'batch_size': 128}\n",
    ")\n",
    "\n",
    "preds_test = cd.predict(X_test)\n",
    "print('Drift? {}'.format(labels[preds_test['data']['is_drift']]))"
   ]
  },
  {
   "cell_type": "markdown",
   "metadata": {},
   "source": [
    "The UAE detector does not pick up drift. This means that the input data of the classification model does not seem to drift between the train and test set, but the model output does!"
   ]
  },
  {
   "cell_type": "markdown",
   "metadata": {},
   "source": [
    "### Adversarial autoencoder as a malicious drift detector\n",
    "\n",
    "We can leverage the adversarial scores obtained from an [adversarial autoencoder](https://arxiv.org/abs/2002.09364)  trained on normal data and transform it into a data drift detector. The score function of the adversarial autoencoder becomes the preprocessing function for the drift detector. The K-S test is then a simple univariate test on the adversarial scores. Importantly, an adversarial drift detector flags **malicious data drift**. We can fetch the pretrained adversarial detector from a [Google Cloud Bucket](https://console.cloud.google.com/storage/browser/seldon-models/alibi-detect/ad/cifar10/resnet32) or train one from scratch:"
   ]
  },
  {
   "cell_type": "code",
   "execution_count": 38,
   "metadata": {},
   "outputs": [],
   "source": [
    "load_pretrained = True"
   ]
  },
  {
   "cell_type": "code",
   "execution_count": 39,
   "metadata": {},
   "outputs": [],
   "source": [
    "def load_detector(directory, model=False):\n",
    "    ancillary_model = tf.keras.models.load_model(os.path.join(directory, 'ancillary_model.h5'))\n",
    "    if not model:\n",
    "        model = tf.keras.models.load_model(os.path.join(directory, 'model.h5'))\n",
    "    ad = ModelDistillation(ancillary_model=ancillary_model, model=model)\n",
    "    return ad\n"
   ]
  },
  {
   "cell_type": "code",
   "execution_count": 40,
   "metadata": {
    "scrolled": true
   },
   "outputs": [
    {
     "name": "stdout",
     "output_type": "stream",
     "text": [
      "WARNING:tensorflow:No training configuration found in the save file, so the model was *not* compiled. Compile it manually.\n",
      "WARNING:tensorflow:Error in loading the saved optimizer state. As a result, your model is starting with a freshly initialized optimizer.\n"
     ]
    },
    {
     "name": "stderr",
     "output_type": "stream",
     "text": [
      "No threshold level set. Need to infer threshold using `infer_threshold`.\n"
     ]
    }
   ],
   "source": [
    "filepath = '/home/gio/git/experiments/model_distillation/distilled_models/run_12/'  # change to (absolute) directory where model is downloaded\n",
    "if load_pretrained:\n",
    "    ad = load_detector(filepath)\n",
    "    clf = ad.model\n",
    "else:  # train detector from scratch\n",
    "    # define encoder and decoder networks\n",
    "    ancillary_model = tf.keras.Sequential(\n",
    "            [\n",
    "                InputLayer(input_shape=(32, 32, 3)),\n",
    "                Conv2D(256, 4, strides=2, padding='same', \n",
    "                       activation=tf.nn.relu, kernel_regularizer=l1(1e-5)),\n",
    "                Conv2D(64, 4, strides=2, padding='same', \n",
    "                       activation=tf.nn.relu, kernel_regularizer=l1(1e-5)),\n",
    "                Conv2D(32, 4, strides=2, padding='same', \n",
    "                       activation=tf.nn.relu, kernel_regularizer=l1(1e-5)),\n",
    "                Flatten(),\n",
    "                Dense(128),\n",
    "                Dense(clf.output_shape[1], activation='softmax')\n",
    "            ]\n",
    "        )\n",
    "    \n",
    "    # initialise and train detector\n",
    "    ad = ModelDistillation(ancillary_model=ancillary_model, model=clf)\n",
    "    ad.fit(X_train, epochs=50, batch_size=128, verbose=True)\n",
    "    \n",
    "    # save the trained adversarial detector\n",
    "    #save_detector(ad, filepath)"
   ]
  },
  {
   "cell_type": "markdown",
   "metadata": {},
   "source": [
    "Initialise the drift detector:"
   ]
  },
  {
   "cell_type": "code",
   "execution_count": 41,
   "metadata": {},
   "outputs": [],
   "source": [
    "np.random.seed(0)\n",
    "idx = np.random.choice(n_test, size=n_test // 2, replace=False)\n",
    "X_ref = scale_by_instance(X_test[idx])\n",
    "\n",
    "cd = KSDrift(\n",
    "    p_val=.05,\n",
    "    X_ref=X_ref,\n",
    "    preprocess_fn=ad.score,\n",
    "    preprocess_kwargs={'batch_size': 128}\n",
    ")"
   ]
  },
  {
   "cell_type": "code",
   "execution_count": null,
   "metadata": {},
   "outputs": [],
   "source": []
  },
  {
   "cell_type": "markdown",
   "metadata": {},
   "source": [
    "Make drift predictions on the original test set and corrupted data:"
   ]
  },
  {
   "cell_type": "code",
   "execution_count": 42,
   "metadata": {},
   "outputs": [
    {
     "name": "stdout",
     "output_type": "stream",
     "text": [
      "H0: Accuracy 0.9286 -- Drift? No!\n",
      "imbalance: Accuracy 0.9282 -- Drift? Yes!\n",
      "gaussian_noise: Accuracy 0.2208 -- Drift? Yes!\n",
      "motion_blur: Accuracy 0.6339 -- Drift? Yes!\n",
      "brightness: Accuracy 0.8913 -- Drift? Yes!\n",
      "pixelate: Accuracy 0.3666 -- Drift? Yes!\n"
     ]
    }
   ],
   "source": [
    "clf_accuracy['h0'] = clf.evaluate(X_h0, y_h0, batch_size=128, verbose=0)[1]\n",
    "preds_h0 = cd.predict(X_h0)\n",
    "print('H0: Accuracy {:.4f} -- Drift? {}'.format(\n",
    "    clf_accuracy['h0'], labels[preds_h0['data']['is_drift']]))\n",
    "clf_accuracy['imb'] = clf.evaluate(X_imb, y_imb, batch_size=128, verbose=0)[1]\n",
    "preds_imb = cd.predict(X_imb)\n",
    "print('imbalance: Accuracy {:.4f} -- Drift? {}'.format(\n",
    "    clf_accuracy['imb'], labels[preds_imb['data']['is_drift']]))\n",
    "for x, c in zip(X_c, corruption):\n",
    "    preds = cd.predict(x)\n",
    "    print('{}: Accuracy {:.4f} -- Drift? {}'.format(\n",
    "        c, clf_accuracy[c],labels[preds['data']['is_drift']]))"
   ]
  },
  {
   "cell_type": "markdown",
   "metadata": {},
   "source": [
    "While *X_imb* clearly exhibits input data drift due to the introduced class imbalances, it is not flagged by the adversarial drift detector since the performance of the classifier is not affected and the drift is not malicious. We can visualise this by plotting the adversarial scores together with the harmfulness of the data corruption as reflected by the drop in classifier accuracy:"
   ]
  },
  {
   "cell_type": "code",
   "execution_count": 43,
   "metadata": {},
   "outputs": [],
   "source": [
    "adv_scores = {}\n",
    "score = ad.score(X_ref, batch_size=128)\n",
    "adv_scores['original'] = {'mean': score.mean(), 'std': score.std()}\n",
    "score = ad.score(X_h0, batch_size=128)\n",
    "adv_scores['h0'] = {'mean': score.mean(), 'std': score.std()}\n",
    "score = ad.score(X_imb, batch_size=128)\n",
    "adv_scores['imb'] = {'mean': score.mean(), 'std': score.std()}\n",
    "\n",
    "for x, c in zip(X_c, corruption):\n",
    "    score_x = ad.score(x, batch_size=128)\n",
    "    adv_scores[c] = {'mean': score_x.mean(), 'std': score_x.std()}"
   ]
  },
  {
   "cell_type": "code",
   "execution_count": 44,
   "metadata": {},
   "outputs": [
    {
     "data": {
      "image/png": "[encoded data removed]",
      "text/plain": [
       "<Figure size 432x288 with 2 Axes>"
      ]
     },
     "metadata": {
      "needs_background": "light"
     },
     "output_type": "display_data"
    }
   ],
   "source": [
    "mu = [v['mean'] for _, v in adv_scores.items()]\n",
    "stdev = [v['std'] for _, v in adv_scores.items()]\n",
    "xlabels = list(adv_scores.keys())\n",
    "acc = [clf_accuracy[label] for label in xlabels]\n",
    "xticks = np.arange(len(mu))\n",
    "\n",
    "width = .35\n",
    "\n",
    "fig, ax = plt.subplots()\n",
    "ax2 = ax.twinx()\n",
    "\n",
    "p1 = ax.bar(xticks, mu, width, yerr=stdev, capsize=2)\n",
    "color = 'tab:red'\n",
    "p2 = ax2.bar(xticks + width, acc, width, color=color)\n",
    "\n",
    "ax.set_title('Adversarial Scores and Accuracy by Corruption Type')\n",
    "ax.set_xticks(xticks + width / 2)\n",
    "ax.set_xticklabels(xlabels, rotation=45)\n",
    "ax.legend((p1[0], p2[0]), ('Score', 'Accuracy'), loc='upper right', ncol=2)\n",
    "ax.set_ylabel('Adversarial Score')\n",
    "\n",
    "color = 'tab:red'\n",
    "ax2.set_ylabel('Accuracy')\n",
    "ax2.set_ylim((-.26,1.2))\n",
    "ax.set_ylim((-2,9))\n",
    "\n",
    "plt.show()"
   ]
  },
  {
   "cell_type": "markdown",
   "metadata": {},
   "source": [
    "We can therefore **use the scores of the detector itself to quantify the harmfulness of the drift**! We can generalise this to all the corruptions at each severity level in CIFAR-10-C:"
   ]
  },
  {
   "cell_type": "code",
   "execution_count": 45,
   "metadata": {},
   "outputs": [],
   "source": [
    "def accuracy(y_true: np.ndarray, y_pred: np.ndarray) -> float:\n",
    "    return (y_true == y_pred).astype(int).sum() / y_true.shape[0]"
   ]
  },
  {
   "cell_type": "code",
   "execution_count": 46,
   "metadata": {},
   "outputs": [
    {
     "name": "stdout",
     "output_type": "stream",
     "text": [
      "\n",
      "Severity: 1 of 5\n",
      "Loading corrupted dataset...\n",
      "Preprocess data...\n",
      "Make predictions on corrupted dataset...\n",
      "Compute adversarial scores on corrupted dataset...\n",
      "Get labels for malicious corruptions...\n",
      "\n",
      "Severity: 2 of 5\n",
      "Loading corrupted dataset...\n",
      "Preprocess data...\n",
      "Make predictions on corrupted dataset...\n",
      "Compute adversarial scores on corrupted dataset...\n",
      "Get labels for malicious corruptions...\n",
      "\n",
      "Severity: 3 of 5\n",
      "Loading corrupted dataset...\n",
      "Preprocess data...\n",
      "Make predictions on corrupted dataset...\n",
      "Compute adversarial scores on corrupted dataset...\n",
      "Get labels for malicious corruptions...\n",
      "\n",
      "Severity: 4 of 5\n",
      "Loading corrupted dataset...\n",
      "Preprocess data...\n",
      "Make predictions on corrupted dataset...\n",
      "Compute adversarial scores on corrupted dataset...\n",
      "Get labels for malicious corruptions...\n",
      "\n",
      "Severity: 5 of 5\n",
      "Loading corrupted dataset...\n",
      "Preprocess data...\n",
      "Make predictions on corrupted dataset...\n",
      "Compute adversarial scores on corrupted dataset...\n",
      "Get labels for malicious corruptions...\n"
     ]
    }
   ],
   "source": [
    "severities = [1, 2, 3, 4, 5]\n",
    "\n",
    "score_drift = {\n",
    "    1: {'all': [], 'harm': [], 'noharm': [], 'acc': 0},\n",
    "    2: {'all': [], 'harm': [], 'noharm': [], 'acc': 0},\n",
    "    3: {'all': [], 'harm': [], 'noharm': [], 'acc': 0},\n",
    "    4: {'all': [], 'harm': [], 'noharm': [], 'acc': 0},\n",
    "    5: {'all': [], 'harm': [], 'noharm': [], 'acc': 0},\n",
    "}\n",
    "\n",
    "y_pred = predict_batch(clf, X_test, batch_size=256, return_class=True)\n",
    "score_x = ad.score(X_test, batch_size=256)\n",
    "\n",
    "for s in severities:\n",
    "    print('\\nSeverity: {} of {}'.format(s, len(severities)))\n",
    "    \n",
    "    print('Loading corrupted dataset...')\n",
    "    X_corr, y_corr = fetch_cifar10c(corruption=corruptions, severity=s, return_X_y=True)\n",
    "    X_corr = X_corr.astype('float32')\n",
    "    \n",
    "    print('Preprocess data...')\n",
    "    X_corr = scale_by_instance(X_corr)\n",
    "    \n",
    "    print('Make predictions on corrupted dataset...')\n",
    "    y_pred_corr = predict_batch(clf, X_corr, batch_size=256, return_class=True)\n",
    "    \n",
    "    print('Compute adversarial scores on corrupted dataset...')\n",
    "    score_corr = ad.score(X_corr, batch_size=256)\n",
    "    \n",
    "    print('Get labels for malicious corruptions...')\n",
    "    labels_corr = np.zeros(score_corr.shape[0])\n",
    "    repeat = y_corr.shape[0] // y_test.shape[0]\n",
    "    y_pred_repeat = np.tile(y_pred, (repeat,))\n",
    "    # malicious/harmful corruption: original prediction correct but \n",
    "    # prediction on corrupted data incorrect\n",
    "    idx_orig_right = np.where(y_pred_repeat == y_corr)[0]\n",
    "    idx_corr_wrong = np.where(y_pred_corr != y_corr)[0]\n",
    "    idx_harmful = np.intersect1d(idx_orig_right, idx_corr_wrong)\n",
    "    labels_corr[idx_harmful] = 1\n",
    "    labels = np.concatenate([np.zeros(X_test.shape[0]), labels_corr]).astype(int)\n",
    "    # harmless corruption: original prediction correct and prediction\n",
    "    # on corrupted data correct\n",
    "    idx_corr_right = np.where(y_pred_corr == y_corr)[0]\n",
    "    idx_harmless = np.intersect1d(idx_orig_right, idx_corr_right)\n",
    "    \n",
    "    score_drift[s]['all'] = score_corr\n",
    "    score_drift[s]['harm'] = score_corr[idx_harmful]\n",
    "    score_drift[s]['noharm'] = score_corr[idx_harmless]\n",
    "    score_drift[s]['acc'] = accuracy(y_corr, y_pred_corr)"
   ]
  },
  {
   "cell_type": "markdown",
   "metadata": {},
   "source": [
    "We now compute mean scores and standard deviations per severity level and plot the results. The plot shows the mean adversarial scores (lhs) and ResNet-32 accuracies (rhs) for increasing data corruption severity levels. Level 0 corresponds to the original test set. Harmful scores  are scores from instances which have been flipped from the correct to an incorrect prediction because of the corruption. Not harmful means that the prediction was unchanged after the corruption."
   ]
  },
  {
   "cell_type": "code",
   "execution_count": 47,
   "metadata": {},
   "outputs": [],
   "source": [
    "mu_noharm, std_noharm = [], []\n",
    "mu_harm, std_harm = [], []\n",
    "acc = [clf_accuracy['original']]\n",
    "for k, v in score_drift.items():\n",
    "    mu_noharm.append(v['noharm'].mean())\n",
    "    std_noharm.append(v['noharm'].std())\n",
    "    mu_harm.append(v['harm'].mean())\n",
    "    std_harm.append(v['harm'].std())\n",
    "    acc.append(v['acc'])"
   ]
  },
  {
   "cell_type": "code",
   "execution_count": 48,
   "metadata": {},
   "outputs": [
    {
     "data": {
      "image/png": "[encoded data removed]",
      "text/plain": [
       "<Figure size 432x288 with 2 Axes>"
      ]
     },
     "metadata": {
      "needs_background": "light"
     },
     "output_type": "display_data"
    }
   ],
   "source": [
    "plot_labels = ['0', '1', '2', '3', '4', '5']\n",
    "\n",
    "N = 6\n",
    "ind = np.arange(N)\n",
    "width = .35\n",
    "\n",
    "fig_bar_cd, ax = plt.subplots()\n",
    "ax2 = ax.twinx()\n",
    "\n",
    "p0 = ax.bar(ind[0], score_x.mean(), yerr=score_x.std(), capsize=2)\n",
    "p1 = ax.bar(ind[1:], mu_noharm, width, yerr=std_noharm, capsize=2)\n",
    "p2 = ax.bar(ind[1:] + width, mu_harm, width, yerr=std_harm, capsize=2)\n",
    "\n",
    "ax.set_title('Adversarial Scores and Accuracy by Corruption Severity')\n",
    "ax.set_xticks(ind + width / 2)\n",
    "ax.set_xticklabels(plot_labels)\n",
    "ax.set_ylim((-1,6))\n",
    "ax.legend((p1[0], p2[0]), ('Not Harmful', 'Harmful'), loc='upper right', ncol=2)\n",
    "ax.set_ylabel('Score')\n",
    "ax.set_xlabel('Corruption Severity')\n",
    "\n",
    "color = 'tab:red'\n",
    "ax2.set_ylabel('Accuracy', color=color)\n",
    "ax2.plot(acc, color=color)\n",
    "ax2.tick_params(axis='y', labelcolor=color)\n",
    "\n",
    "plt.show()"
   ]
  },
  {
   "cell_type": "code",
   "execution_count": null,
   "metadata": {},
   "outputs": [],
   "source": []
  }
 ],
 "metadata": {
  "kernelspec": {
   "display_name": "Python [conda env:cd-distill-2] *",
   "language": "python",
   "name": "conda-env-cd-distill-2-py"
  },
  "language_info": {
   "codemirror_mode": {
    "name": "ipython",
    "version": 3
   },
   "file_extension": ".py",
   "mimetype": "text/x-python",
   "name": "python",
   "nbconvert_exporter": "python",
   "pygments_lexer": "ipython3",
   "version": "3.7.6"
  }
 },
 "nbformat": 4,
 "nbformat_minor": 4
}
