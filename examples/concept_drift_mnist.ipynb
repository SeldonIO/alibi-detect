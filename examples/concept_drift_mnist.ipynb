{
 "cells": [
  {
   "cell_type": "code",
   "execution_count": 1,
   "metadata": {},
   "outputs": [
    {
     "name": "stderr",
     "output_type": "stream",
     "text": [
      "Using TensorFlow backend.\n"
     ]
    }
   ],
   "source": [
    "import sys\n",
    "import tensorflow as tf\n",
    "import numpy as np\n",
    "\n",
    "import matplotlib\n",
    "%matplotlib inline\n",
    "import matplotlib.pyplot as plt\n",
    "\n",
    "from sklearn import svm\n",
    "from keras.utils import to_categorical"
   ]
  },
  {
   "cell_type": "code",
   "execution_count": 19,
   "metadata": {
    "collapsed": true
   },
   "outputs": [],
   "source": [
    "sys.path.append('../odcd/cd/')"
   ]
  },
  {
   "cell_type": "code",
   "execution_count": null,
   "metadata": {
    "collapsed": true
   },
   "outputs": [],
   "source": [
    "\n"
   ]
  },
  {
   "cell_type": "code",
   "execution_count": 20,
   "metadata": {
    "collapsed": true
   },
   "outputs": [],
   "source": [
    "from importlib import reload"
   ]
  },
  {
   "cell_type": "code",
   "execution_count": 22,
   "metadata": {
    "collapsed": true
   },
   "outputs": [],
   "source": [
    "import model_symmetries as vsf"
   ]
  },
  {
   "cell_type": "markdown",
   "metadata": {},
   "source": [
    "# data prep"
   ]
  },
  {
   "cell_type": "code",
   "execution_count": 5,
   "metadata": {},
   "outputs": [
    {
     "name": "stdout",
     "output_type": "stream",
     "text": [
      "x_train shape: (60000, 28, 28) y_train shape: (60000,)\n",
      "x_train shape: (60000, 28, 28, 1) x_test shape: (10000, 28, 28, 1)\n",
      "(36017,)\n",
      "(6031,)\n",
      "(36017, 28, 28, 1) (23983, 28, 28, 1)\n",
      "(36017,) (23983,)\n"
     ]
    }
   ],
   "source": [
    "(x_train, y_train), (x_test, y_test) = tf.keras.datasets.mnist.load_data()\n",
    "print('x_train shape:', x_train.shape, 'y_train shape:', y_train.shape)\n",
    "\n",
    "# define train and test set\n",
    "np.random.seed(0)\n",
    "x_train = x_train.astype('float32') / 255\n",
    "x_test = x_test.astype('float32') / 255\n",
    "x_train = np.reshape(x_train, x_train.shape + (1,))\n",
    "x_test = np.reshape(x_test, x_test.shape + (1,))\n",
    "print('x_train shape:', x_train.shape, 'x_test shape:', x_test.shape)\n",
    "\n",
    "idxs_train_0_5 = np.where((y_train == 5) | (y_train == 4) | (y_train == 3) | \n",
    "                    (y_train == 2) | (y_train == 1) | (y_train == 0))\n",
    "idxs_test_0_5 = np.where((y_test == 5) | (y_test == 4) | (y_test == 3) | \n",
    "                    (y_test == 2) | (y_test == 1) | (y_test == 0))\n",
    "\n",
    "idxs_train_6_9 = np.where((y_train == 6) | (y_train == 7) | (y_train == 8) | \n",
    "                    (y_train == 9))\n",
    "idxs_test_6_9 = np.where((y_test == 6) | (y_test == 7) | (y_test == 8) | \n",
    "                    (y_test == 9))\n",
    "\n",
    "print(idxs_train_0_5[0].shape)\n",
    "print(idxs_test_0_5[0].shape)\n",
    "\n",
    "x_train_0_5 = x_train[idxs_train_0_5[0]]\n",
    "y_train_0_5 = y_train[idxs_train_0_5[0]]\n",
    "\n",
    "x_train_6_9 = x_train[idxs_train_6_9[0]]\n",
    "y_train_6_9 = y_train[idxs_train_6_9[0]]\n",
    "\n",
    "print(x_train_0_5.shape, x_train_6_9.shape)\n",
    "print(y_train_0_5.shape, y_train_6_9.shape)\n",
    "idxs_test_0_5 = np.where((y_test == 5) | (y_test == 4) | (y_test == 3) | \n",
    "                    (y_test == 2) | (y_test == 1) | (y_test == 0))\n",
    "x_test_0_5 = x_test[idxs_test_0_5[0]]"
   ]
  },
  {
   "cell_type": "code",
   "execution_count": 6,
   "metadata": {},
   "outputs": [
    {
     "name": "stdout",
     "output_type": "stream",
     "text": [
      "y_train shape: (36017,) y_test shape: (10000,)\n",
      "y_train shape: (36017, 6) y_test shape: (10000,)\n"
     ]
    }
   ],
   "source": [
    "x_train = x_train_0_5\n",
    "y_train = y_train_0_5\n",
    "print('y_train shape:', y_train.shape, 'y_test shape:', y_test.shape)\n",
    "y_train = to_categorical(y_train)\n",
    "print('y_train shape:', y_train.shape, 'y_test shape:', y_test.shape)"
   ]
  },
  {
   "cell_type": "markdown",
   "metadata": {},
   "source": [
    "# Model"
   ]
  },
  {
   "cell_type": "code",
   "execution_count": 7,
   "metadata": {
    "collapsed": true
   },
   "outputs": [],
   "source": [
    "import numpy as np\n",
    "import keras\n",
    "from keras.layers import Conv2D, Dense, Dropout, Flatten, MaxPooling2D, Input\n",
    "from keras.models import Model\n",
    "from keras.utils import to_categorical"
   ]
  },
  {
   "cell_type": "code",
   "execution_count": 9,
   "metadata": {},
   "outputs": [
    {
     "name": "stdout",
     "output_type": "stream",
     "text": [
      "WARNING:tensorflow:From /home/fdz/anaconda3/lib/python3.7/site-packages/tensorflow/python/framework/op_def_library.py:263: colocate_with (from tensorflow.python.framework.ops) is deprecated and will be removed in a future version.\n",
      "Instructions for updating:\n",
      "Colocations handled automatically by placer.\n",
      "WARNING:tensorflow:From /home/fdz/anaconda3/lib/python3.7/site-packages/keras/backend/tensorflow_backend.py:3445: calling dropout (from tensorflow.python.ops.nn_ops) with keep_prob is deprecated and will be removed in a future version.\n",
      "Instructions for updating:\n",
      "Please use `rate` instead of `keep_prob`. Rate should be set to `rate = 1 - keep_prob`.\n",
      "_________________________________________________________________\n",
      "Layer (type)                 Output Shape              Param #   \n",
      "=================================================================\n",
      "input_1 (InputLayer)         (None, 28, 28, 1)         0         \n",
      "_________________________________________________________________\n",
      "conv2d_1 (Conv2D)            (None, 28, 28, 64)        320       \n",
      "_________________________________________________________________\n",
      "max_pooling2d_1 (MaxPooling2 (None, 14, 14, 64)        0         \n",
      "_________________________________________________________________\n",
      "dropout_1 (Dropout)          (None, 14, 14, 64)        0         \n",
      "_________________________________________________________________\n",
      "conv2d_2 (Conv2D)            (None, 14, 14, 32)        8224      \n",
      "_________________________________________________________________\n",
      "max_pooling2d_2 (MaxPooling2 (None, 7, 7, 32)          0         \n",
      "_________________________________________________________________\n",
      "dropout_2 (Dropout)          (None, 7, 7, 32)          0         \n",
      "_________________________________________________________________\n",
      "flatten_1 (Flatten)          (None, 1568)              0         \n",
      "_________________________________________________________________\n",
      "dense_1 (Dense)              (None, 256)               401664    \n",
      "_________________________________________________________________\n",
      "dropout_3 (Dropout)          (None, 256)               0         \n",
      "_________________________________________________________________\n",
      "dense_2 (Dense)              (None, 6)                 1542      \n",
      "=================================================================\n",
      "Total params: 411,750\n",
      "Trainable params: 411,750\n",
      "Non-trainable params: 0\n",
      "_________________________________________________________________\n"
     ]
    }
   ],
   "source": [
    "def superpixel(image, size=(4, 7)):\n",
    "    import numpy as np\n",
    "    segments = np.zeros([image.shape[0], image.shape[1]])\n",
    "    row_idx, col_idx = np.where(segments == 0)\n",
    "    for i, j in zip(row_idx, col_idx):\n",
    "        segments[i, j] = int((image.shape[1]/size[1]) * (i//size[0]) + j//size[1])\n",
    "    return segments\n",
    "\n",
    "\n",
    "# define and  train an cnn model\n",
    "def model():\n",
    "    x_in = Input(shape=(28, 28, 1))\n",
    "    x = Conv2D(filters=64, kernel_size=2, padding='same', activation='relu')(x_in)\n",
    "    x = MaxPooling2D(pool_size=2)(x)\n",
    "    x = Dropout(0.3)(x)\n",
    "\n",
    "    x = Conv2D(filters=32, kernel_size=2, padding='same', activation='relu')(x)\n",
    "    x = MaxPooling2D(pool_size=2)(x)\n",
    "    x = Dropout(0.3)(x)\n",
    "\n",
    "    x = Flatten()(x)\n",
    "    x = Dense(256, activation='relu')(x)\n",
    "    x = Dropout(0.5)(x)\n",
    "    x_out = Dense(6, activation='softmax')(x)\n",
    "\n",
    "    cnn = Model(inputs=x_in, outputs=x_out)\n",
    "    cnn.compile(loss='categorical_crossentropy', optimizer='adam', metrics=['accuracy'])\n",
    "\n",
    "    return cnn\n",
    "\n",
    "\n",
    "cnn = model()\n",
    "cnn.summary()\n"
   ]
  },
  {
   "cell_type": "code",
   "execution_count": 10,
   "metadata": {},
   "outputs": [
    {
     "name": "stdout",
     "output_type": "stream",
     "text": [
      "Training cnn ...\n",
      "WARNING:tensorflow:From /home/fdz/anaconda3/lib/python3.7/site-packages/tensorflow/python/ops/math_ops.py:3066: to_int32 (from tensorflow.python.ops.math_ops) is deprecated and will be removed in a future version.\n",
      "Instructions for updating:\n",
      "Use tf.cast instead.\n",
      "Epoch 1/10\n",
      "36017/36017 [==============================] - 20s 568us/step - loss: 0.1952 - acc: 0.9358\n",
      "Epoch 2/10\n",
      "36017/36017 [==============================] - 20s 554us/step - loss: 0.0599 - acc: 0.9806\n",
      "Epoch 3/10\n",
      "36017/36017 [==============================] - 20s 556us/step - loss: 0.0452 - acc: 0.9852\n",
      "Epoch 4/10\n",
      "36017/36017 [==============================] - 20s 556us/step - loss: 0.0370 - acc: 0.9881\n",
      "Epoch 5/10\n",
      "36017/36017 [==============================] - 22s 601us/step - loss: 0.0300 - acc: 0.9905\n",
      "Epoch 6/10\n",
      "36017/36017 [==============================] - 21s 595us/step - loss: 0.0281 - acc: 0.9903\n",
      "Epoch 7/10\n",
      "36017/36017 [==============================] - 22s 615us/step - loss: 0.0248 - acc: 0.9918\n",
      "Epoch 8/10\n",
      "36017/36017 [==============================] - 24s 665us/step - loss: 0.0241 - acc: 0.9920\n",
      "Epoch 9/10\n",
      "36017/36017 [==============================] - 22s 619us/step - loss: 0.0207 - acc: 0.9933\n",
      "Epoch 10/10\n",
      "36017/36017 [==============================] - 22s 619us/step - loss: 0.0194 - acc: 0.9937\n",
      "Training done!\n"
     ]
    }
   ],
   "source": [
    "print('Training cnn ...')\n",
    "cnn.fit(x_train, y_train, batch_size=64, epochs=10)\n",
    "print('Training done!')"
   ]
  },
  {
   "cell_type": "code",
   "execution_count": 11,
   "metadata": {
    "collapsed": true
   },
   "outputs": [],
   "source": [
    "cnn.save(\"cnn.h5\")"
   ]
  },
  {
   "cell_type": "markdown",
   "metadata": {},
   "source": [
    "# Vae"
   ]
  },
  {
   "cell_type": "code",
   "execution_count": 15,
   "metadata": {},
   "outputs": [
    {
     "data": {
      "text/plain": [
       "True"
      ]
     },
     "execution_count": 15,
     "metadata": {},
     "output_type": "execute_result"
    }
   ],
   "source": [
    "isinstance(cnn, keras.models.Model)"
   ]
  },
  {
   "cell_type": "code",
   "execution_count": 16,
   "metadata": {
    "collapsed": true
   },
   "outputs": [],
   "source": [
    "clf = tf.keras.models.load_model('cnn.h5')"
   ]
  },
  {
   "cell_type": "code",
   "execution_count": 50,
   "metadata": {},
   "outputs": [
    {
     "data": {
      "text/plain": [
       "<module 'model_symmetries' from '../odcd/cd/model_symmetries.py'>"
      ]
     },
     "execution_count": 50,
     "metadata": {},
     "output_type": "execute_result"
    }
   ],
   "source": [
    "reload(vsf)"
   ]
  },
  {
   "cell_type": "code",
   "execution_count": 56,
   "metadata": {
    "scrolled": false
   },
   "outputs": [
    {
     "name": "stdout",
     "output_type": "stream",
     "text": [
      "32\n",
      "WARNING:tensorflow:Output \"decoder_output\" missing from loss dictionary. We assume this was done on purpose. The fit and evaluate APIs will not be expecting any data to be passed to \"decoder_output\".\n",
      "WARNING:tensorflow:Output \"model_1\" missing from loss dictionary. We assume this was done on purpose. The fit and evaluate APIs will not be expecting any data to be passed to \"model_1\".\n",
      "WARNING:tensorflow:Output \"model_1\" missing from loss dictionary. We assume this was done on purpose. The fit and evaluate APIs will not be expecting any data to be passed to \"model_1\".\n",
      "Vae\n",
      "__________________________________________________________________________________________________\n",
      "Layer (type)                    Output Shape         Param #     Connected to                     \n",
      "==================================================================================================\n",
      "encoder_input (InputLayer)      (None, 28, 28, 1)    0                                            \n",
      "__________________________________________________________________________________________________\n",
      "conv2d_1 (Conv2D)               (None, 14, 14, 32)   320         encoder_input[0][0]              \n",
      "__________________________________________________________________________________________________\n",
      "flatten_1 (Flatten)             (None, 6272)         0           conv2d_1[0][0]                   \n",
      "__________________________________________________________________________________________________\n",
      "dense_5 (Dense)                 (None, 128)          802944      flatten_1[0][0]                  \n",
      "__________________________________________________________________________________________________\n",
      "z_mean (Dense)                  (None, 2)            258         dense_5[0][0]                    \n",
      "__________________________________________________________________________________________________\n",
      "z_log_var (Dense)               (None, 2)            258         dense_5[0][0]                    \n",
      "__________________________________________________________________________________________________\n",
      "z (Lambda)                      (None, 2)            0           z_mean[0][0]                     \n",
      "                                                                 z_log_var[0][0]                  \n",
      "__________________________________________________________________________________________________\n",
      "dense_6 (Dense)                 (None, 6272)         18816       z[0][0]                          \n",
      "__________________________________________________________________________________________________\n",
      "reshape_2 (Reshape)             (None, 14, 14, 32)   0           dense_6[0][0]                    \n",
      "__________________________________________________________________________________________________\n",
      "conv2d_transpose_1 (Conv2DTrans (None, 28, 28, 32)   9248        reshape_2[0][0]                  \n",
      "__________________________________________________________________________________________________\n",
      "decoder_output (Conv2DTranspose (None, 28, 28, 1)    289         conv2d_transpose_1[0][0]         \n",
      "__________________________________________________________________________________________________\n",
      "model_1 (Model)                 (None, 6)            411750      decoder_output[0][0]             \n",
      "                                                                 encoder_input[0][0]              \n",
      "==================================================================================================\n",
      "Total params: 1,243,883\n",
      "Trainable params: 832,133\n",
      "Non-trainable params: 411,750\n",
      "__________________________________________________________________________________________________\n"
     ]
    }
   ],
   "source": [
    "vae = vsf.VaeSymmetryFinderConv(clf, input_shape=(28, 28, 1), rgb_filters=1, intermediate_dim=128)"
   ]
  },
  {
   "cell_type": "code",
   "execution_count": 57,
   "metadata": {
    "collapsed": true
   },
   "outputs": [],
   "source": [
    "x = x_train[:1]"
   ]
  },
  {
   "cell_type": "code",
   "execution_count": 58,
   "metadata": {},
   "outputs": [
    {
     "data": {
      "text/plain": [
       "array([[1.0233049e-09, 3.4096797e-07, 5.1316857e-08, 2.9632973e-02,\n",
       "        5.8143520e-08, 9.7036654e-01]], dtype=float32)"
      ]
     },
     "execution_count": 58,
     "metadata": {},
     "output_type": "execute_result"
    }
   ],
   "source": [
    "clf.predict(x)"
   ]
  },
  {
   "cell_type": "code",
   "execution_count": 59,
   "metadata": {},
   "outputs": [
    {
     "data": {
      "text/plain": [
       "array([[1.0233049e-09, 3.4096797e-07, 5.1316857e-08, 2.9632973e-02,\n",
       "        5.8143520e-08, 9.7036654e-01]], dtype=float32)"
      ]
     },
     "execution_count": 59,
     "metadata": {},
     "output_type": "execute_result"
    }
   ],
   "source": [
    "vae.predict_original(x)"
   ]
  },
  {
   "cell_type": "code",
   "execution_count": 60,
   "metadata": {},
   "outputs": [
    {
     "name": "stdout",
     "output_type": "stream",
     "text": [
      "Train on 36017 samples, validate on 6031 samples\n",
      "Epoch 1/10\n",
      "36017/36017 [==============================] - 37s 1ms/sample - loss: 0.7557 - val_loss: 0.2091\n",
      "Epoch 2/10\n",
      "36017/36017 [==============================] - 37s 1ms/sample - loss: 0.2165 - val_loss: 0.1118\n",
      "Epoch 3/10\n",
      "36017/36017 [==============================] - 41s 1ms/sample - loss: 0.1382 - val_loss: 0.0911\n",
      "Epoch 4/10\n",
      "36017/36017 [==============================] - 39s 1ms/sample - loss: 0.1021 - val_loss: 0.0694\n",
      "Epoch 5/10\n",
      "36017/36017 [==============================] - 38s 1ms/sample - loss: 0.0837 - val_loss: 0.0628\n",
      "Epoch 6/10\n",
      "36017/36017 [==============================] - 38s 1ms/sample - loss: 0.0687 - val_loss: 0.0541\n",
      "Epoch 7/10\n",
      "36017/36017 [==============================] - 37s 1ms/sample - loss: 0.0576 - val_loss: 0.0516\n",
      "Epoch 8/10\n",
      "36017/36017 [==============================] - 38s 1ms/sample - loss: 0.0530 - val_loss: 0.0510\n",
      "Epoch 9/10\n",
      "36017/36017 [==============================] - 40s 1ms/sample - loss: 0.0485 - val_loss: 0.0450\n",
      "Epoch 10/10\n",
      "36017/36017 [==============================] - 39s 1ms/sample - loss: 0.0461 - val_loss: 0.0505\n"
     ]
    }
   ],
   "source": [
    "vae.fit(x_train, x_test=x_test_0_5, epochs=10)"
   ]
  },
  {
   "cell_type": "code",
   "execution_count": null,
   "metadata": {
    "collapsed": true
   },
   "outputs": [],
   "source": []
  },
  {
   "cell_type": "code",
   "execution_count": 61,
   "metadata": {},
   "outputs": [
    {
     "name": "stdout",
     "output_type": "stream",
     "text": [
      "Sample instance from the MNIST data set.\n"
     ]
    },
    {
     "data": {
      "image/png": "[encoded data removed]",
      "text/plain": [
       "<Figure size 432x288 with 1 Axes>"
      ]
     },
     "metadata": {
      "needs_background": "light"
     },
     "output_type": "display_data"
    }
   ],
   "source": [
    "idx = 39\n",
    "x = x_train[idx: idx + 1]\n",
    "plt.imshow(np.squeeze(x))\n",
    "print('Sample instance from the MNIST data set.')"
   ]
  },
  {
   "cell_type": "code",
   "execution_count": 62,
   "metadata": {
    "collapsed": true
   },
   "outputs": [],
   "source": [
    "outs_1 = vae.vae.predict(x)\n",
    "outs_2 = vae.vae.predict(x)"
   ]
  },
  {
   "cell_type": "code",
   "execution_count": 63,
   "metadata": {
    "collapsed": true
   },
   "outputs": [],
   "source": [
    "symmetric_sample_1 = outs_1[0]\n",
    "symmetric_sample_2 = outs_2[0]\n",
    "\n",
    "orig_pred_1 = outs_1[1]\n",
    "orig_pred_2 = outs_2[1]\n",
    "\n",
    "trans_pred_1 = outs_1[2]\n",
    "trans_pred_2 = outs_2[2]"
   ]
  },
  {
   "cell_type": "code",
   "execution_count": 64,
   "metadata": {},
   "outputs": [
    {
     "data": {
      "text/plain": [
       "array([[8.2327875e-07, 1.5958426e-08, 4.4035596e-07, 2.6171629e-10,\n",
       "        9.9999869e-01, 1.8416146e-10]], dtype=float32)"
      ]
     },
     "execution_count": 64,
     "metadata": {},
     "output_type": "execute_result"
    }
   ],
   "source": [
    "orig_pred_1"
   ]
  },
  {
   "cell_type": "code",
   "execution_count": 65,
   "metadata": {},
   "outputs": [
    {
     "data": {
      "text/plain": [
       "array([[5.7590867e-05, 3.8177197e-04, 3.7516536e-05, 6.4176375e-06,\n",
       "        9.9922156e-01, 2.9511211e-04]], dtype=float32)"
      ]
     },
     "execution_count": 65,
     "metadata": {},
     "output_type": "execute_result"
    }
   ],
   "source": [
    "trans_pred_1"
   ]
  },
  {
   "cell_type": "code",
   "execution_count": 66,
   "metadata": {},
   "outputs": [
    {
     "data": {
      "text/plain": [
       "<matplotlib.image.AxesImage at 0x7f95056cf4d0>"
      ]
     },
     "execution_count": 66,
     "metadata": {},
     "output_type": "execute_result"
    },
    {
     "data": {
      "image/png": "[encoded data removed]",
      "text/plain": [
       "<Figure size 432x288 with 1 Axes>"
      ]
     },
     "metadata": {
      "needs_background": "light"
     },
     "output_type": "display_data"
    }
   ],
   "source": [
    "plt.imshow(np.squeeze(symmetric_sample_1))"
   ]
  },
  {
   "cell_type": "code",
   "execution_count": 67,
   "metadata": {},
   "outputs": [
    {
     "data": {
      "text/plain": [
       "<matplotlib.image.AxesImage at 0x7f95056ac910>"
      ]
     },
     "execution_count": 67,
     "metadata": {},
     "output_type": "execute_result"
    },
    {
     "data": {
      "image/png": "[encoded data removed]",
      "text/plain": [
       "<Figure size 432x288 with 1 Axes>"
      ]
     },
     "metadata": {
      "needs_background": "light"
     },
     "output_type": "display_data"
    }
   ],
   "source": [
    "plt.imshow(np.squeeze(symmetric_sample_2))"
   ]
  },
  {
   "cell_type": "markdown",
   "metadata": {},
   "source": [
    "# Test as concept drift detector"
   ]
  },
  {
   "cell_type": "code",
   "execution_count": 68,
   "metadata": {
    "collapsed": true
   },
   "outputs": [],
   "source": [
    "from scipy.ndimage import rotate\n",
    "import pandas as pd\n",
    "from scipy.stats import entropy"
   ]
  },
  {
   "cell_type": "code",
   "execution_count": null,
   "metadata": {
    "collapsed": true
   },
   "outputs": [],
   "source": []
  },
  {
   "cell_type": "code",
   "execution_count": null,
   "metadata": {
    "collapsed": true
   },
   "outputs": [],
   "source": []
  },
  {
   "cell_type": "code",
   "execution_count": 69,
   "metadata": {},
   "outputs": [
    {
     "data": {
      "text/plain": [
       "(10000,)"
      ]
     },
     "execution_count": 69,
     "metadata": {},
     "output_type": "execute_result"
    }
   ],
   "source": [
    "y_test.shape"
   ]
  },
  {
   "cell_type": "code",
   "execution_count": 70,
   "metadata": {},
   "outputs": [
    {
     "data": {
      "text/plain": [
       "(6031, 28, 28, 1)"
      ]
     },
     "execution_count": 70,
     "metadata": {},
     "output_type": "execute_result"
    }
   ],
   "source": [
    "x_test_0_5.shape"
   ]
  },
  {
   "cell_type": "code",
   "execution_count": 71,
   "metadata": {
    "collapsed": true
   },
   "outputs": [],
   "source": [
    "x_test_0_5 = x_test[idxs_test_0_5[0]]\n",
    "y_test_0_5 = y_test[idxs_test_0_5[0]]"
   ]
  },
  {
   "cell_type": "code",
   "execution_count": 72,
   "metadata": {
    "collapsed": true
   },
   "outputs": [],
   "source": [
    "vae_outs_train = vae.vae.predict(x_train.reshape(x_train.shape[0], 28, 28, 1))\n",
    "vae_outs_bl = vae.vae.predict(x_test_0_5.reshape(x_test_0_5.shape[0], 28, 28, 1))"
   ]
  },
  {
   "cell_type": "code",
   "execution_count": 73,
   "metadata": {
    "collapsed": true
   },
   "outputs": [],
   "source": [
    "symm_samples_train = vae_outs_train[0]\n",
    "orig_preds_train = vae_outs_train[1]\n",
    "trans_preds_train = vae_outs_train[2]\n",
    "\n",
    "symm_samples_bl = vae_outs_bl[0]\n",
    "orig_preds_bl = vae_outs_bl[1]\n",
    "trans_preds_bl = vae_outs_bl[2]"
   ]
  },
  {
   "cell_type": "code",
   "execution_count": 74,
   "metadata": {
    "collapsed": true
   },
   "outputs": [],
   "source": [
    "kl_train = entropy(orig_preds_train.T, trans_preds_train.T)\n",
    "kl_bl = entropy(orig_preds_bl.T, trans_preds_bl.T)"
   ]
  },
  {
   "cell_type": "code",
   "execution_count": 75,
   "metadata": {},
   "outputs": [
    {
     "name": "stdout",
     "output_type": "stream",
     "text": [
      "0.9991115306660744\n",
      "0.9976786602553473\n"
     ]
    }
   ],
   "source": [
    "preds_train = np.argmax(orig_preds_train, axis=1)\n",
    "labels_train = np.argmax(y_train, axis=1)\n",
    "from sklearn.metrics import accuracy_score\n",
    "acc_train = accuracy_score(preds_train, labels_train)\n",
    "print(acc_train)\n",
    "\n",
    "preds_bl = np.argmax(orig_preds_bl, axis=1)\n",
    "from sklearn.metrics import accuracy_score\n",
    "acc_bl = accuracy_score(preds_bl, y_test_0_5)\n",
    "print(acc_bl)"
   ]
  },
  {
   "cell_type": "markdown",
   "metadata": {},
   "source": [
    "### Rotations"
   ]
  },
  {
   "cell_type": "code",
   "execution_count": 77,
   "metadata": {
    "collapsed": true
   },
   "outputs": [],
   "source": [
    "vae_outs_test = vae.vae.predict(x_test_0_5)\n",
    "symm_samples_test = vae_outs_test[0]\n",
    "orig_preds_test = vae_outs_test[1]\n",
    "trans_preds_test = vae_outs_test[2]\n",
    "    \n",
    "kl_test = entropy(orig_preds_test.T, trans_preds_test.T)\n",
    "baseline_std_plus = kl_test.mean() + kl_test.std()\n",
    "baseline_std_minus = kl_test.mean() - kl_test.std()"
   ]
  },
  {
   "cell_type": "code",
   "execution_count": 99,
   "metadata": {},
   "outputs": [
    {
     "name": "stdout",
     "output_type": "stream",
     "text": [
      "Rotating images by 0 degree\n",
      "Rotating images by 1 degree\n",
      "Rotating images by 2 degree\n",
      "Rotating images by 3 degree\n",
      "Rotating images by 4 degree\n",
      "Rotating images by 5 degree\n",
      "Rotating images by 6 degree\n",
      "Rotating images by 7 degree\n",
      "Rotating images by 8 degree\n",
      "Rotating images by 9 degree\n",
      "Rotating images by 10 degree\n",
      "Rotating images by 11 degree\n",
      "Rotating images by 12 degree\n",
      "Rotating images by 13 degree\n",
      "Rotating images by 14 degree\n",
      "Rotating images by 15 degree\n",
      "Rotating images by 16 degree\n",
      "Rotating images by 17 degree\n",
      "Rotating images by 18 degree\n",
      "Rotating images by 19 degree\n",
      "Rotating images by 20 degree\n",
      "Rotating images by 21 degree\n",
      "Rotating images by 22 degree\n",
      "Rotating images by 23 degree\n",
      "Rotating images by 24 degree\n",
      "Rotating images by 25 degree\n",
      "Rotating images by 26 degree\n",
      "Rotating images by 27 degree\n",
      "Rotating images by 28 degree\n",
      "Rotating images by 29 degree\n",
      "Rotating images by 30 degree\n",
      "Rotating images by 31 degree\n",
      "Rotating images by 32 degree\n",
      "Rotating images by 33 degree\n",
      "Rotating images by 34 degree\n",
      "Rotating images by 35 degree\n",
      "Rotating images by 36 degree\n",
      "Rotating images by 37 degree\n",
      "Rotating images by 38 degree\n",
      "Rotating images by 39 degree\n",
      "Rotating images by 40 degree\n",
      "Rotating images by 41 degree\n",
      "Rotating images by 42 degree\n",
      "Rotating images by 43 degree\n",
      "Rotating images by 44 degree\n"
     ]
    }
   ],
   "source": [
    "mean_test = []\n",
    "std_test = []\n",
    "accs_test = []\n",
    "baseline_stds_plus = []\n",
    "baseline_stds_minus = []\n",
    "for i in range(45):\n",
    "    \n",
    "    print('Rotating images by {} degree'.format(i))\n",
    "    x_test_0_5_rot = rotate(x_test_0_5, i, axes=(1, 2), reshape=False)\n",
    "    \n",
    "    vae_outs_test = vae.vae.predict(x_test_0_5_rot.reshape(x_test_0_5_rot.shape[0], 28, 28, 1))\n",
    "    symm_samples_test = vae_outs_test[0]\n",
    "    orig_preds_test = vae_outs_test[1]\n",
    "    trans_preds_test = vae_outs_test[2]\n",
    "    \n",
    "    kl_test = entropy(orig_preds_test.T, trans_preds_test.T)\n",
    "    mean_test.append(kl_test.mean())\n",
    "    std_test.append(kl_test.std())\n",
    "    preds_test = np.argmax(orig_preds_test, axis=1)\n",
    "    accs_test.append(accuracy_score(preds_test, y_test_0_5))\n",
    "    baseline_stds_plus.append(baseline_std_plus)\n",
    "    baseline_stds_minus.append(baseline_std_minus)"
   ]
  },
  {
   "cell_type": "code",
   "execution_count": 100,
   "metadata": {
    "collapsed": true
   },
   "outputs": [],
   "source": [
    "df = pd.DataFrame()\n",
    "df['accuracy'] = accs_test\n",
    "df['entropy_mean'] = mean_test\n",
    "df['entropy_std'] = std_test\n",
    "df['baseline_std_plus'] = baseline_stds_plus\n",
    "df['baseline_std_minus'] = baseline_stds_minus"
   ]
  },
  {
   "cell_type": "code",
   "execution_count": 101,
   "metadata": {},
   "outputs": [
    {
     "data": {
      "text/plain": [
       "array([<matplotlib.axes._subplots.AxesSubplot object at 0x7f95051da210>,\n",
       "       <matplotlib.axes._subplots.AxesSubplot object at 0x7f9505192a50>,\n",
       "       <matplotlib.axes._subplots.AxesSubplot object at 0x7f950513bd10>],\n",
       "      dtype=object)"
      ]
     },
     "execution_count": 101,
     "metadata": {},
     "output_type": "execute_result"
    },
    {
     "data": {
      "image/png": "[encoded data removed]",
      "text/plain": [
       "<Figure size 1080x576 with 3 Axes>"
      ]
     },
     "metadata": {
      "needs_background": "light"
     },
     "output_type": "display_data"
    }
   ],
   "source": [
    "df[['accuracy','entropy_std','entropy_mean']].plot(logy = False, subplots=True, figsize = (15, 8))"
   ]
  },
  {
   "cell_type": "code",
   "execution_count": 102,
   "metadata": {},
   "outputs": [
    {
     "data": {
      "text/plain": [
       "<matplotlib.axes._subplots.AxesSubplot at 0x7f9505069f10>"
      ]
     },
     "execution_count": 102,
     "metadata": {},
     "output_type": "execute_result"
    },
    {
     "data": {
      "image/png": "[encoded data removed]",
      "text/plain": [
       "<Figure size 1080x576 with 1 Axes>"
      ]
     },
     "metadata": {
      "needs_background": "light"
     },
     "output_type": "display_data"
    }
   ],
   "source": [
    "df[['entropy_mean', 'baseline_std_plus', 'baseline_std_minus']].plot(logy = False, subplots=False, figsize = (15, 8))"
   ]
  },
  {
   "cell_type": "code",
   "execution_count": 45,
   "metadata": {
    "collapsed": true
   },
   "outputs": [],
   "source": [
    "#df.plot(logy = False, subplots=True, figsize = (15, 8))"
   ]
  },
  {
   "cell_type": "markdown",
   "metadata": {},
   "source": [
    "### Contamination"
   ]
  },
  {
   "cell_type": "code",
   "execution_count": 82,
   "metadata": {
    "collapsed": true
   },
   "outputs": [],
   "source": [
    "idx_test_6 = np.where(y_test == 6)\n",
    "x_test_6 = x_test[idx_test_6]\n",
    "x_test_6.shape\n",
    "y_test_6 = y_test[idx_test_6]"
   ]
  },
  {
   "cell_type": "code",
   "execution_count": 84,
   "metadata": {
    "collapsed": true
   },
   "outputs": [],
   "source": [
    "rnd_idxs_6  = np.random.choice(range(len(x_test_6)), 10)\n",
    "x_cont_6  = x_test_6[rnd_idxs_6]"
   ]
  },
  {
   "cell_type": "code",
   "execution_count": 86,
   "metadata": {},
   "outputs": [
    {
     "name": "stdout",
     "output_type": "stream",
     "text": [
      "Number of contaminations: 0 \n",
      "Number of contaminations: 15 \n",
      "Number of contaminations: 30 \n",
      "Number of contaminations: 45 \n",
      "Number of contaminations: 60 \n",
      "Number of contaminations: 75 \n",
      "Number of contaminations: 90 \n",
      "Number of contaminations: 105 \n",
      "Number of contaminations: 120 \n",
      "Number of contaminations: 135 \n",
      "Number of contaminations: 150 \n",
      "Number of contaminations: 165 \n",
      "Number of contaminations: 180 \n",
      "Number of contaminations: 195 \n",
      "Number of contaminations: 210 \n",
      "Number of contaminations: 225 \n",
      "Number of contaminations: 240 \n",
      "Number of contaminations: 255 \n",
      "Number of contaminations: 270 \n",
      "Number of contaminations: 285 \n",
      "Number of contaminations: 300 \n",
      "Number of contaminations: 315 \n",
      "Number of contaminations: 330 \n",
      "Number of contaminations: 345 \n",
      "Number of contaminations: 360 \n",
      "Number of contaminations: 375 \n",
      "Number of contaminations: 390 \n",
      "Number of contaminations: 405 \n",
      "Number of contaminations: 420 \n",
      "Number of contaminations: 435 \n",
      "Number of contaminations: 450 \n",
      "Number of contaminations: 465 \n",
      "Number of contaminations: 480 \n",
      "Number of contaminations: 495 \n",
      "Number of contaminations: 510 \n",
      "Number of contaminations: 525 \n",
      "Number of contaminations: 540 \n",
      "Number of contaminations: 555 \n",
      "Number of contaminations: 570 \n",
      "Number of contaminations: 585 \n",
      "Number of contaminations: 600 \n",
      "Number of contaminations: 615 \n",
      "Number of contaminations: 630 \n",
      "Number of contaminations: 645 \n",
      "Number of contaminations: 660 \n",
      "Number of contaminations: 675 \n",
      "Number of contaminations: 690 \n",
      "Number of contaminations: 705 \n",
      "Number of contaminations: 720 \n",
      "Number of contaminations: 735 \n",
      "Number of contaminations: 750 \n",
      "Number of contaminations: 765 \n",
      "Number of contaminations: 780 \n",
      "Number of contaminations: 795 \n",
      "Number of contaminations: 810 \n",
      "Number of contaminations: 825 \n",
      "Number of contaminations: 840 \n",
      "Number of contaminations: 855 \n",
      "Number of contaminations: 870 \n",
      "Number of contaminations: 885 \n",
      "Number of contaminations: 900 \n",
      "Number of contaminations: 915 \n",
      "Number of contaminations: 930 \n",
      "Number of contaminations: 945 \n"
     ]
    }
   ],
   "source": [
    "mean_test = []\n",
    "std_test = []\n",
    "accs_test = []\n",
    "baseline_stds_plus = []\n",
    "baseline_stds_minus = []\n",
    "\n",
    "for i in range(0, len(x_test_6), 15):\n",
    "    rnd_idxs_6  = np.random.choice(range(len(x_test_6)), i)\n",
    "    x_cont_6 = x_test_6[rnd_idxs_6]\n",
    "    y_cont_6 = y_test_6[rnd_idxs_6]\n",
    "    print('Number of contaminations: {} '.format(i))\n",
    "    x_test_0_5_cont = np.concatenate((x_test_0_5, x_cont_6), axis=0)\n",
    "    y_test_0_5_cont = np.concatenate((y_test_0_5, y_cont_6), axis=0)\n",
    "    vae_outs_test = vae.vae.predict(x_test_0_5_cont.reshape(x_test_0_5_cont.shape[0], 28, 28, 1))\n",
    "    symm_samples_test = vae_outs_test[0]\n",
    "    orig_preds_test = vae_outs_test[1]\n",
    "    trans_preds_test = vae_outs_test[2]\n",
    "    \n",
    "    kl_test = entropy(orig_preds_test.T, trans_preds_test.T)\n",
    "    mean_test.append(kl_test.mean())\n",
    "    std_test.append(kl_test.std())\n",
    "    preds_test = np.argmax(orig_preds_test, axis=1)\n",
    "    accs_test.append(accuracy_score(preds_test, y_test_0_5_cont))\n",
    "    baseline_stds_plus.append(baseline_std_plus)\n",
    "    baseline_stds_minus.append(baseline_std_minus)"
   ]
  },
  {
   "cell_type": "code",
   "execution_count": 89,
   "metadata": {
    "collapsed": true
   },
   "outputs": [],
   "source": [
    "df = pd.DataFrame()\n",
    "df['accuracy'] = accs_test\n",
    "df['entropy_mean'] = mean_test\n",
    "df['entropy_std'] = std_test\n",
    "df['baseline_std_plus'] = baseline_stds_plus\n",
    "df['baseline_std_minus'] = baseline_stds_minus"
   ]
  },
  {
   "cell_type": "code",
   "execution_count": 98,
   "metadata": {},
   "outputs": [
    {
     "data": {
      "text/plain": [
       "array([<matplotlib.axes._subplots.AxesSubplot object at 0x7f9505356190>,\n",
       "       <matplotlib.axes._subplots.AxesSubplot object at 0x7f950532a810>,\n",
       "       <matplotlib.axes._subplots.AxesSubplot object at 0x7f95052d4a50>],\n",
       "      dtype=object)"
      ]
     },
     "execution_count": 98,
     "metadata": {},
     "output_type": "execute_result"
    },
    {
     "data": {
      "image/png": "[encoded data removed]",
      "text/plain": [
       "<Figure size 1080x576 with 3 Axes>"
      ]
     },
     "metadata": {
      "needs_background": "light"
     },
     "output_type": "display_data"
    }
   ],
   "source": [
    "df[['accuracy','entropy_std','entropy_mean']].plot(logy = False, subplots=True, figsize = (15, 8))"
   ]
  },
  {
   "cell_type": "code",
   "execution_count": 91,
   "metadata": {},
   "outputs": [
    {
     "data": {
      "text/plain": [
       "<matplotlib.axes._subplots.AxesSubplot at 0x7f95054cc390>"
      ]
     },
     "execution_count": 91,
     "metadata": {},
     "output_type": "execute_result"
    },
    {
     "data": {
      "image/png": "[encoded data removed]",
      "text/plain": [
       "<Figure size 1080x576 with 1 Axes>"
      ]
     },
     "metadata": {
      "needs_background": "light"
     },
     "output_type": "display_data"
    }
   ],
   "source": [
    "df[['entropy_mean', 'baseline_std_plus', 'baseline_std_minus']].plot(logy = False, subplots=False, figsize = (15, 8))"
   ]
  },
  {
   "cell_type": "code",
   "execution_count": 92,
   "metadata": {
    "collapsed": true
   },
   "outputs": [],
   "source": [
    "#df = pd.DataFrame()\n",
    "#df['accuracy'] = accs_test\n",
    "#df['entropy_mean'] = mean_test\n",
    "#df['entropy_std'] = std_test"
   ]
  },
  {
   "cell_type": "code",
   "execution_count": 93,
   "metadata": {
    "collapsed": true
   },
   "outputs": [],
   "source": [
    "#df.plot(logy = False, subplots=True, figsize = (15, 8))"
   ]
  },
  {
   "cell_type": "code",
   "execution_count": 97,
   "metadata": {},
   "outputs": [
    {
     "data": {
      "text/html": [
       "<div>\n",
       "<style scoped>\n",
       "    .dataframe tbody tr th:only-of-type {\n",
       "        vertical-align: middle;\n",
       "    }\n",
       "\n",
       "    .dataframe tbody tr th {\n",
       "        vertical-align: top;\n",
       "    }\n",
       "\n",
       "    .dataframe thead th {\n",
       "        text-align: right;\n",
       "    }\n",
       "</style>\n",
       "<table border=\"1\" class=\"dataframe\">\n",
       "  <thead>\n",
       "    <tr style=\"text-align: right;\">\n",
       "      <th></th>\n",
       "      <th>accuracy</th>\n",
       "      <th>entropy_mean</th>\n",
       "      <th>entropy_std</th>\n",
       "      <th>baseline_std_plus</th>\n",
       "      <th>baseline_std_minus</th>\n",
       "    </tr>\n",
       "  </thead>\n",
       "  <tbody>\n",
       "    <tr>\n",
       "      <td>0</td>\n",
       "      <td>0.997679</td>\n",
       "      <td>0.049989</td>\n",
       "      <td>0.414312</td>\n",
       "      <td>0.463379</td>\n",
       "      <td>-0.363646</td>\n",
       "    </tr>\n",
       "    <tr>\n",
       "      <td>1</td>\n",
       "      <td>0.995203</td>\n",
       "      <td>0.053553</td>\n",
       "      <td>0.429154</td>\n",
       "      <td>0.463379</td>\n",
       "      <td>-0.363646</td>\n",
       "    </tr>\n",
       "    <tr>\n",
       "      <td>2</td>\n",
       "      <td>0.992740</td>\n",
       "      <td>0.054804</td>\n",
       "      <td>0.429856</td>\n",
       "      <td>0.463379</td>\n",
       "      <td>-0.363646</td>\n",
       "    </tr>\n",
       "    <tr>\n",
       "      <td>3</td>\n",
       "      <td>0.990290</td>\n",
       "      <td>0.064843</td>\n",
       "      <td>0.487890</td>\n",
       "      <td>0.463379</td>\n",
       "      <td>-0.363646</td>\n",
       "    </tr>\n",
       "    <tr>\n",
       "      <td>4</td>\n",
       "      <td>0.987851</td>\n",
       "      <td>0.065614</td>\n",
       "      <td>0.483721</td>\n",
       "      <td>0.463379</td>\n",
       "      <td>-0.363646</td>\n",
       "    </tr>\n",
       "    <tr>\n",
       "      <td>...</td>\n",
       "      <td>...</td>\n",
       "      <td>...</td>\n",
       "      <td>...</td>\n",
       "      <td>...</td>\n",
       "      <td>...</td>\n",
       "    </tr>\n",
       "    <tr>\n",
       "      <td>59</td>\n",
       "      <td>0.870012</td>\n",
       "      <td>0.264802</td>\n",
       "      <td>0.963613</td>\n",
       "      <td>0.463379</td>\n",
       "      <td>-0.363646</td>\n",
       "    </tr>\n",
       "    <tr>\n",
       "      <td>60</td>\n",
       "      <td>0.868129</td>\n",
       "      <td>0.255759</td>\n",
       "      <td>0.932522</td>\n",
       "      <td>0.463379</td>\n",
       "      <td>-0.363646</td>\n",
       "    </tr>\n",
       "    <tr>\n",
       "      <td>61</td>\n",
       "      <td>0.866254</td>\n",
       "      <td>0.260910</td>\n",
       "      <td>0.938378</td>\n",
       "      <td>0.463379</td>\n",
       "      <td>-0.363646</td>\n",
       "    </tr>\n",
       "    <tr>\n",
       "      <td>62</td>\n",
       "      <td>0.864387</td>\n",
       "      <td>0.265555</td>\n",
       "      <td>0.954578</td>\n",
       "      <td>0.463379</td>\n",
       "      <td>-0.363646</td>\n",
       "    </tr>\n",
       "    <tr>\n",
       "      <td>63</td>\n",
       "      <td>0.862529</td>\n",
       "      <td>0.262947</td>\n",
       "      <td>0.953420</td>\n",
       "      <td>0.463379</td>\n",
       "      <td>-0.363646</td>\n",
       "    </tr>\n",
       "  </tbody>\n",
       "</table>\n",
       "<p>64 rows × 5 columns</p>\n",
       "</div>"
      ],
      "text/plain": [
       "    accuracy  entropy_mean  entropy_std  baseline_std_plus  baseline_std_minus\n",
       "0   0.997679      0.049989     0.414312           0.463379           -0.363646\n",
       "1   0.995203      0.053553     0.429154           0.463379           -0.363646\n",
       "2   0.992740      0.054804     0.429856           0.463379           -0.363646\n",
       "3   0.990290      0.064843     0.487890           0.463379           -0.363646\n",
       "4   0.987851      0.065614     0.483721           0.463379           -0.363646\n",
       "..       ...           ...          ...                ...                 ...\n",
       "59  0.870012      0.264802     0.963613           0.463379           -0.363646\n",
       "60  0.868129      0.255759     0.932522           0.463379           -0.363646\n",
       "61  0.866254      0.260910     0.938378           0.463379           -0.363646\n",
       "62  0.864387      0.265555     0.954578           0.463379           -0.363646\n",
       "63  0.862529      0.262947     0.953420           0.463379           -0.363646\n",
       "\n",
       "[64 rows x 5 columns]"
      ]
     },
     "execution_count": 97,
     "metadata": {},
     "output_type": "execute_result"
    }
   ],
   "source": [
    "df"
   ]
  },
  {
   "cell_type": "code",
   "execution_count": 42,
   "metadata": {},
   "outputs": [
    {
     "data": {
      "text/plain": [
       "0.17890525"
      ]
     },
     "execution_count": 42,
     "metadata": {},
     "output_type": "execute_result"
    }
   ],
   "source": [
    "kl_test.mean()"
   ]
  },
  {
   "cell_type": "markdown",
   "metadata": {},
   "source": [
    "# Cherry pick"
   ]
  },
  {
   "cell_type": "code",
   "execution_count": 49,
   "metadata": {},
   "outputs": [
    {
     "data": {
      "text/plain": [
       "array([2, 1, 0, ..., 3, 4, 5])"
      ]
     },
     "execution_count": 49,
     "metadata": {},
     "output_type": "execute_result"
    }
   ],
   "source": [
    "preds_test = np.argmax(clf.predict(x_test_0_5), axis=1)\n",
    "preds_test"
   ]
  },
  {
   "cell_type": "code",
   "execution_count": 55,
   "metadata": {
    "collapsed": true
   },
   "outputs": [],
   "source": [
    "idx_miss = np.where(preds_test != y_test_0_5)"
   ]
  },
  {
   "cell_type": "code",
   "execution_count": 59,
   "metadata": {
    "collapsed": true
   },
   "outputs": [],
   "source": [
    "x_miss = x_test_0_5[idx_miss]"
   ]
  },
  {
   "cell_type": "code",
   "execution_count": 60,
   "metadata": {
    "collapsed": true
   },
   "outputs": [],
   "source": [
    "vae_outs_train = vae.vae.predict(x_test_0_5.reshape(x_test_0_5.shape[0], 28, 28, 1))\n",
    "vae_outs_test = vae.vae.predict(x_miss.reshape(x_miss.shape[0], 28, 28, 1))\n",
    "\n",
    "symm_samples_train = vae_outs_train[0]\n",
    "orig_preds_train = vae_outs_train[1]\n",
    "trans_preds_train = vae_outs_train[2]\n",
    "\n",
    "symm_samples_test = vae_outs_test[0]\n",
    "orig_preds_test = vae_outs_test[1]\n",
    "trans_preds_test = vae_outs_test[2]"
   ]
  },
  {
   "cell_type": "code",
   "execution_count": 61,
   "metadata": {
    "collapsed": true
   },
   "outputs": [],
   "source": [
    "kl_train = entropy(orig_preds_train.T, trans_preds_train.T)\n",
    "kl_test = entropy(orig_preds_test.T, trans_preds_test.T)"
   ]
  },
  {
   "cell_type": "code",
   "execution_count": 62,
   "metadata": {
    "collapsed": true
   },
   "outputs": [],
   "source": [
    "S_train = pd.Series(kl_train, name='train')\n",
    "S_test = pd.Series(kl_test, name='test')\n",
    "df_kl = pd.merge(S_train.to_frame(), S_test.to_frame(), right_index=True, left_index=True, how='outer')"
   ]
  },
  {
   "cell_type": "code",
   "execution_count": 63,
   "metadata": {},
   "outputs": [
    {
     "name": "stdout",
     "output_type": "stream",
     "text": [
      "0.03827944025397301 0.30201488733291626\n",
      "1.4426838159561157 1.7499723434448242\n"
     ]
    },
    {
     "data": {
      "image/png": "[encoded data removed]",
      "text/plain": [
       "<Figure size 720x720 with 2 Axes>"
      ]
     },
     "metadata": {
      "needs_background": "light"
     },
     "output_type": "display_data"
    }
   ],
   "source": [
    "df_kl.plot(kind='hist', bins=50, subplots=True, figsize=(10, 10))\n",
    "print(S_train.mean(), S_train.std())\n",
    "print(S_test.mean(), S_test.std())"
   ]
  },
  {
   "cell_type": "code",
   "execution_count": 64,
   "metadata": {},
   "outputs": [
    {
     "data": {
      "text/plain": [
       "0     0.055232\n",
       "1     0.985691\n",
       "2     3.308836\n",
       "3     0.799344\n",
       "4     4.443614\n",
       "5     2.094492\n",
       "6     0.083315\n",
       "7     1.148329\n",
       "8     0.028951\n",
       "9     0.428228\n",
       "10    0.142924\n",
       "11    0.033493\n",
       "12    0.920331\n",
       "13    1.905113\n",
       "14    0.090810\n",
       "15    2.762497\n",
       "16    6.239838\n",
       "17    0.497271\n",
       "Name: test, dtype: float32"
      ]
     },
     "execution_count": 64,
     "metadata": {},
     "output_type": "execute_result"
    }
   ],
   "source": [
    "S_test"
   ]
  },
  {
   "cell_type": "code",
   "execution_count": 67,
   "metadata": {},
   "outputs": [
    {
     "data": {
      "text/plain": [
       "<matplotlib.image.AxesImage at 0x7f4ba3a90150>"
      ]
     },
     "execution_count": 67,
     "metadata": {},
     "output_type": "execute_result"
    },
    {
     "data": {
      "image/png": "[encoded data removed]",
      "text/plain": [
       "<Figure size 432x288 with 1 Axes>"
      ]
     },
     "metadata": {
      "needs_background": "light"
     },
     "output_type": "display_data"
    }
   ],
   "source": [
    "plt.imshow(np.squeeze(x_miss[2]), 'gray')"
   ]
  },
  {
   "cell_type": "code",
   "execution_count": null,
   "metadata": {
    "collapsed": true
   },
   "outputs": [],
   "source": [
    "y"
   ]
  }
 ],
 "metadata": {
  "kernelspec": {
   "display_name": "Python 3",
   "language": "python",
   "name": "python3"
  },
  "language_info": {
   "codemirror_mode": {
    "name": "ipython",
    "version": 3
   },
   "file_extension": ".py",
   "mimetype": "text/x-python",
   "name": "python",
   "nbconvert_exporter": "python",
   "pygments_lexer": "ipython3",
   "version": "3.6.3"
  }
 },
 "nbformat": 4,
 "nbformat_minor": 2
}
