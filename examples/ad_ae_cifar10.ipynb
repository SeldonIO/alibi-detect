{
 "cells": [
  {
   "cell_type": "markdown",
   "metadata": {},
   "source": [
    "### Content\n",
    "- intro to method\n",
    "- adversarial detection on CIFAR-10\n",
    "  - [x] illustrate detection + correction: figure 1\n",
    "  - [x] compute some numbers from the tables + ROC curves\n",
    "  - [x] show improvement with temperature and HL\n",
    "  - [ ] comparison with MSE (incl. ROC curve?!)\n",
    "- concept drift on CIFAR-10-C\n",
    "  - [x] incl. figure 7\n",
    "- [ ] detection system performance: illustrate \"correct\" fn\n",
    "\n",
    "### TODO\n",
    "#### Datasets, models and fetch fn\n",
    "- [x] upload C&W + SLIDE attack datasets (train + test) on CIFAR-10 classifiers to bucket\n",
    "- [x] upload pretrained ResNet-56 and simple CNN classifiers on CIFAR-10 to bucket\n",
    "- [x] upload pre-trained detectors for KL, T-scaling and hidden K-L for both classifiers\n",
    "- [x] upload CIFAR-10-C to bucket + fetch fn\n",
    "- [ ] generic fetch_fn for ad and od for detectors in the bucket\n",
    "- [x] fetch fn for attacks in the bucket"
   ]
  },
  {
   "cell_type": "markdown",
   "metadata": {},
   "source": [
    "# Adversarial AE detection and correction on CIFAR-10\n",
    "\n",
    "Requirements: python 3.7 & GPU"
   ]
  },
  {
   "cell_type": "code",
   "execution_count": 1,
   "metadata": {},
   "outputs": [
    {
     "name": "stderr",
     "output_type": "stream",
     "text": [
      "ERROR:fbprophet:Importing plotly failed. Interactive plots will not work.\n"
     ]
    }
   ],
   "source": [
    "import matplotlib.pyplot as plt\n",
    "import numpy as np\n",
    "import os\n",
    "import scipy\n",
    "from scipy.stats import ks_2samp\n",
    "from sklearn.metrics import roc_curve, auc\n",
    "import tensorflow as tf\n",
    "from tqdm import tqdm\n",
    "\n",
    "from alibi_detect.ad import AdversarialAE\n",
    "from alibi_detect.utils.saving import save_detector, load_detector, fetch_tf_model #, fetch_detector\n",
    "from alibi_detect.datasets import fetch_attack, fetch_cifar10c, corruption_types_cifar10c\n",
    "#from tensorflow.python.keras import backend\n",
    "\n",
    "physical_devices = tf.config.experimental.list_physical_devices('GPU')\n",
    "assert len(physical_devices) > 0, \"Not enough GPU hardware devices available\"\n",
    "tf.config.experimental.set_memory_growth(physical_devices[0], True)"
   ]
  },
  {
   "cell_type": "markdown",
   "metadata": {},
   "source": [
    "### Utility functions"
   ]
  },
  {
   "cell_type": "code",
   "execution_count": 2,
   "metadata": {},
   "outputs": [],
   "source": [
    "def scale_by_instance(X: np.ndarray) -> np.ndarray:\n",
    "    mean_ = X.mean(axis=(1, 2, 3)).reshape(-1, 1, 1, 1)\n",
    "    std_ = X.std(axis=(1, 2, 3)).reshape(-1, 1, 1, 1)\n",
    "    return (X - mean_) / std_, mean_, std_\n",
    "\n",
    "\n",
    "def accuracy(y_true: np.ndarray, y_pred: np.ndarray) -> float:\n",
    "    return (y_true == y_pred).astype(int).sum() / y_true.shape[0]\n",
    "\n",
    "\n",
    "def predict_batch(model: tf.keras.Model, \n",
    "                  X: np.ndarray, \n",
    "                  batch_size: int = 32, \n",
    "                  recon: bool = False,\n",
    "                  proba: bool = False,\n",
    "                  n_categories: int = 10) -> np.ndarray:\n",
    "    n = X.shape[0]\n",
    "    if recon:\n",
    "        shape = X.shape\n",
    "        dtype = np.float32\n",
    "    elif proba:\n",
    "        shape = (n, n_categories)\n",
    "        dtype = np.float32\n",
    "    else:\n",
    "        shape = (n,)\n",
    "        dtype = np.int64\n",
    "    preds = np.zeros(shape, dtype=dtype)\n",
    "    n_minibatch = int(np.ceil(n / batch_size))\n",
    "    for i in range(n_minibatch):\n",
    "    #for i in tqdm(range(n_minibatch)):\n",
    "        istart, istop = i * batch_size, min((i + 1) * batch_size, n)\n",
    "        if recon:\n",
    "            preds[istart:istop] = model(X[istart:istop]).numpy()\n",
    "        elif proba:\n",
    "            preds[istart:istop] = model(X[istart:istop]).numpy()\n",
    "        else:\n",
    "            preds[istart:istop] = model(X[istart:istop]).numpy().argmax(axis=-1)\n",
    "    return preds\n",
    "\n",
    "\n",
    "def score_batch(detector: AdversarialAE, \n",
    "                X: np.ndarray, \n",
    "                batch_size: int = 32) -> np.ndarray:\n",
    "    n = X.shape[0]\n",
    "    scores = np.zeros((n,), dtype=np.float32)\n",
    "    n_minibatch = int(np.ceil(n / batch_size))\n",
    "    for i in range(n_minibatch):\n",
    "    #for i in tqdm(range(n_minibatch)):\n",
    "        istart, istop = i * batch_size, min((i + 1) * batch_size, n)\n",
    "        scores[istart:istop] = detector.score(X[istart:istop])\n",
    "    return scores\n",
    "\n",
    "\n",
    "def plot_adversarial(idx: list,\n",
    "                     X: np.ndarray,\n",
    "                     y: np.ndarray,\n",
    "                     X_adv: np.ndarray, \n",
    "                     y_adv: np.ndarray,\n",
    "                     mean: np.ndarray, \n",
    "                     std: np.ndarray, \n",
    "                     score_x: np.ndarray = None,\n",
    "                     score_x_adv: np.ndarray = None,\n",
    "                     X_recon: np.ndarray = None,\n",
    "                     y_recon: np.ndarray = None,\n",
    "                     figsize: tuple = (10, 5)) -> None:\n",
    "    \n",
    "    # category map from class numbers to names\n",
    "    cifar10_map = {0: 'airplane', 1: 'automobile', 2: 'bird', 3: 'cat', 4: 'deer', 5: 'dog',\n",
    "                   6: 'frog', 7: 'horse', 8: 'ship', 9: 'truck'}\n",
    "    \n",
    "    nrows = len(idx)\n",
    "    ncols = 3 if isinstance(X_recon, np.ndarray) else 2\n",
    "    fig, ax = plt.subplots(nrows=nrows, ncols=ncols, figsize=figsize)\n",
    "    \n",
    "    n_subplot = 1\n",
    "    for i in idx:\n",
    "        \n",
    "        # rescale images in [0, 1]\n",
    "        X_adj = (X[i] * std[i] + mean[i]) / 255\n",
    "        X_adv_adj = (X_adv[i] * std[i] + mean[i]) / 255\n",
    "        if isinstance(X_recon, np.ndarray):\n",
    "            X_recon_adj = (X_recon[i] * std[i] + mean[i]) / 255\n",
    "        \n",
    "        # original image\n",
    "        plt.subplot(nrows, ncols, n_subplot)\n",
    "        plt.axis('off')\n",
    "        if i == idx[0]:\n",
    "            if isinstance(score_x, np.ndarray):\n",
    "                plt.title('CIFAR-10 Image \\n{}: {:.3f}'.format(cifar10_map[y[i]], score_x[i]))\n",
    "            else:\n",
    "                plt.title('CIFAR-10 Image \\n{}'.format(cifar10_map[y[i]]))\n",
    "        else:\n",
    "            if isinstance(score_x, np.ndarray):\n",
    "                plt.title('{}: {:.3f}'.format(cifar10_map[y[i]], score_x[i]))\n",
    "            else:\n",
    "                plt.title('{}'.format(cifar10_map[y[i]]))\n",
    "        plt.imshow(X_adj)\n",
    "        n_subplot += 1\n",
    "        \n",
    "        # adversarial image\n",
    "        plt.subplot(nrows, ncols, n_subplot)\n",
    "        plt.axis('off')\n",
    "        if i == idx[0]:\n",
    "            if isinstance(score_x_adv, np.ndarray):\n",
    "                plt.title('Adversarial \\n{}: {:.3f}'.format(cifar10_map[y_adv[i]], score_x_adv[i]))\n",
    "            else:\n",
    "                plt.title('Adversarial \\n{}'.format(cifar10_map[y_adv[i]]))\n",
    "        else:\n",
    "            if isinstance(score_x_adv, np.ndarray):\n",
    "                plt.title('{}: {:.3f}'.format(cifar10_map[y_adv[i]], score_x_adv[i]))\n",
    "            else:\n",
    "                plt.title('{}'.format(cifar10_map[y_adv[i]]))\n",
    "        plt.imshow(X_adv_adj)\n",
    "        n_subplot += 1\n",
    "     \n",
    "        # reconstructed image\n",
    "        if isinstance(X_recon, np.ndarray):\n",
    "            plt.subplot(nrows, ncols, n_subplot)\n",
    "            plt.axis('off')\n",
    "            if i == idx[0]:\n",
    "                plt.title('AE Reconstruction \\n{}'.format(cifar10_map[y_recon[i]]))\n",
    "            else:\n",
    "                plt.title('{}'.format(cifar10_map[y_recon[i]]))\n",
    "            plt.imshow(X_recon_adj)\n",
    "            n_subplot += 1\n",
    "    \n",
    "    plt.show()\n",
    "\n",
    "    \n",
    "def plot_roc(roc_data: dict, figsize: tuple = (10,5)):\n",
    "    plot_labels = []\n",
    "    scores_attacks = []\n",
    "    labels_attacks = []\n",
    "    for k, v in roc_data.items():\n",
    "        if 'original' in k:\n",
    "            continue\n",
    "        score_x = roc_data[v['normal']]['scores']\n",
    "        y_pred = roc_data[v['normal']]['predictions']\n",
    "        score_v = v['scores']\n",
    "        y_pred_v = v['predictions']\n",
    "        labels_v = np.ones(score_x.shape[0])\n",
    "        idx_remove = np.where(y_pred == y_pred_v)[0]\n",
    "        labels_v = np.delete(labels_v, idx_remove)\n",
    "        score_v = np.delete(score_v, idx_remove)\n",
    "        scores = np.concatenate([score_x, score_v])\n",
    "        labels = np.concatenate([np.zeros(y_pred.shape[0]), labels_v]).astype(int)\n",
    "        scores_attacks.append(scores)\n",
    "        labels_attacks.append(labels)\n",
    "        plot_labels.append(k)\n",
    "    \n",
    "    for sc_att, la_att, plt_la in zip(scores_attacks, labels_attacks, plot_labels):\n",
    "        fpr, tpr, thresholds = roc_curve(la_att, sc_att)\n",
    "        roc_auc = auc(fpr, tpr)\n",
    "        label = str('{}: AUC = {:.2f}'.format(plt_la, roc_auc))\n",
    "        plt.plot(fpr, tpr, lw=1, label='{}: AUC={:.4f}'.format(plt_la, roc_auc))\n",
    "\n",
    "    plt.plot([0, 1], [0, 1], color='black', lw=1, linestyle='--')\n",
    "    plt.xlim([0.0, 1.0])\n",
    "    plt.ylim([0.0, 1.05])\n",
    "    plt.xlabel('False Positive Rate')\n",
    "    plt.ylabel('True Positive Rate')\n",
    "    plt.title('{}'.format('ROC curve'))\n",
    "    plt.legend(loc=\"lower right\", ncol=1)\n",
    "    plt.grid()\n",
    "    plt.show()"
   ]
  },
  {
   "cell_type": "markdown",
   "metadata": {},
   "source": [
    "### Load data"
   ]
  },
  {
   "cell_type": "code",
   "execution_count": 3,
   "metadata": {},
   "outputs": [],
   "source": [
    "(X_train, y_train), (X_test, y_test) = tf.keras.datasets.cifar10.load_data()\n",
    "X_train = X_train.astype('float32')\n",
    "X_test = X_test.astype('float32')\n",
    "y_train = y_train.astype('int64').reshape(-1,)\n",
    "y_test = y_test.astype('int64').reshape(-1,)"
   ]
  },
  {
   "cell_type": "markdown",
   "metadata": {},
   "source": [
    "Standardise the dataset by instance:"
   ]
  },
  {
   "cell_type": "code",
   "execution_count": 4,
   "metadata": {},
   "outputs": [],
   "source": [
    "X_train, mean_train, std_train = scale_by_instance(X_train)\n",
    "X_test, mean_test, std_test = scale_by_instance(X_test)\n",
    "scale = (mean_train, std_train), (mean_test, std_test)"
   ]
  },
  {
   "cell_type": "markdown",
   "metadata": {},
   "source": [
    "### Load classifier"
   ]
  },
  {
   "cell_type": "code",
   "execution_count": 5,
   "metadata": {},
   "outputs": [
    {
     "name": "stderr",
     "output_type": "stream",
     "text": [
      "/home/avl/anaconda3/envs/detect/lib/python3.7/site-packages/tensorflow_core/python/keras/layers/core.py:986: UserWarning: official.vision.image_classification.resnet_cifar_model is not loaded, but a Lambda layer uses it. It may cause errors.\n",
      "  , UserWarning)\n"
     ]
    }
   ],
   "source": [
    "dataset = 'cifar10'\n",
    "model = 'resnet56'\n",
    "clf = fetch_tf_model(dataset, model)"
   ]
  },
  {
   "cell_type": "markdown",
   "metadata": {},
   "source": [
    "Check that the predictions on the test set reach $93.15$% accuracy:"
   ]
  },
  {
   "cell_type": "code",
   "execution_count": 6,
   "metadata": {
    "scrolled": true
   },
   "outputs": [
    {
     "name": "stdout",
     "output_type": "stream",
     "text": [
      "Accuracy: 0.9315\n"
     ]
    }
   ],
   "source": [
    "y_pred = predict_batch(clf, X_test, batch_size=32, recon=False)\n",
    "acc_y_pred = accuracy(y_test, y_pred)\n",
    "print('Accuracy: {:.4f}'.format(acc_y_pred))"
   ]
  },
  {
   "cell_type": "markdown",
   "metadata": {},
   "source": [
    "### Adversarial Attack\n",
    "\n",
    "We investigate both [Carlini-Wagner (C&W)](https://arxiv.org/abs/1608.04644) and [SLIDE](https://arxiv.org/abs/1904.13000) attacks. You can either load previously found adversarial instances on the ResNet-56 model or launch a new attack:"
   ]
  },
  {
   "cell_type": "code",
   "execution_count": 7,
   "metadata": {},
   "outputs": [],
   "source": [
    "# C&W attack\n",
    "data_cw = fetch_attack(dataset, model, 'cw')\n",
    "X_train_cw, X_test_cw = data_cw['data_train'], data_cw['data_test']\n",
    "meta_cw = data_cw['meta'] # metadata with hyperparameters of the attack\n",
    "# SLIDE attack\n",
    "data_slide = fetch_attack(dataset, model, 'slide')\n",
    "X_train_slide, X_test_slide = data_slide['data_train'], data_slide['data_test']\n",
    "meta_slide = data_slide['meta']"
   ]
  },
  {
   "cell_type": "code",
   "execution_count": 8,
   "metadata": {},
   "outputs": [
    {
     "name": "stdout",
     "output_type": "stream",
     "text": [
      "(10000, 32, 32, 3) (10000, 32, 32, 3)\n"
     ]
    }
   ],
   "source": [
    "print(X_test_cw.shape, X_test_slide.shape)"
   ]
  },
  {
   "cell_type": "markdown",
   "metadata": {},
   "source": [
    "Check if the prediction accuracy of the model on the adversarial instances is close to $0$%."
   ]
  },
  {
   "cell_type": "code",
   "execution_count": 9,
   "metadata": {},
   "outputs": [],
   "source": [
    "y_pred_cw = predict_batch(clf, X_test_cw, batch_size=32, recon=False)\n",
    "y_pred_slide = predict_batch(clf, X_test_slide, batch_size=32, recon=False)"
   ]
  },
  {
   "cell_type": "code",
   "execution_count": 10,
   "metadata": {},
   "outputs": [
    {
     "name": "stdout",
     "output_type": "stream",
     "text": [
      "Accuracy: cw 0.0000 -- SLIDE 0.0001\n"
     ]
    }
   ],
   "source": [
    "acc_y_pred_cw = accuracy(y_test, y_pred_cw)\n",
    "acc_y_pred_slide = accuracy(y_test, y_pred_slide)\n",
    "print('Accuracy: cw {:.4f} -- SLIDE {:.4f}'.format(acc_y_pred_cw, acc_y_pred_slide))"
   ]
  },
  {
   "cell_type": "markdown",
   "metadata": {},
   "source": [
    "Let's visualise some adversarial instances:"
   ]
  },
  {
   "cell_type": "code",
   "execution_count": 11,
   "metadata": {},
   "outputs": [
    {
     "name": "stdout",
     "output_type": "stream",
     "text": [
      "C&W attack...\n"
     ]
    },
    {
     "data": {
      "image/png": "[encoded data removed]",
      "text/plain": [
       "<Figure size 720x720 with 4 Axes>"
      ]
     },
     "metadata": {
      "needs_background": "light"
     },
     "output_type": "display_data"
    },
    {
     "name": "stdout",
     "output_type": "stream",
     "text": [
      "SLIDE attack...\n"
     ]
    },
    {
     "data": {
      "image/png": "[encoded data removed]",
      "text/plain": [
       "<Figure size 720x720 with 4 Axes>"
      ]
     },
     "metadata": {
      "needs_background": "light"
     },
     "output_type": "display_data"
    }
   ],
   "source": [
    "idx = [3, 4]\n",
    "print('C&W attack...')\n",
    "plot_adversarial(idx, X_test, y_pred, X_test_cw, y_pred_cw, mean_test, std_test, figsize=(10, 10))\n",
    "print('SLIDE attack...')\n",
    "plot_adversarial(idx, X_test, y_pred, X_test_slide, y_pred_slide, mean_test, std_test, figsize=(10, 10))"
   ]
  },
  {
   "cell_type": "markdown",
   "metadata": {},
   "source": [
    "### Load or train and evaluate the adversarial detectors\n",
    "\n",
    "$TODO$: add training loop + fetch functionality for the detector"
   ]
  },
  {
   "cell_type": "markdown",
   "metadata": {},
   "source": [
    "ADD A PATH!"
   ]
  },
  {
   "cell_type": "code",
   "execution_count": 24,
   "metadata": {},
   "outputs": [],
   "source": [
    "import cloudpickle as cp\n",
    "from alibi_detect.ad import AdversarialAE\n",
    "from alibi_detect.utils.saving import init_ad_ae\n",
    "from alibi_detect.models.autoencoder import AE\n",
    "from tensorflow.python.keras import backend\n",
    "import urllib.request\n",
    "from urllib.request import urlopen\n",
    "from alibi_detect.ad.adversarialae import DenseHidden\n",
    "\n",
    "detector_type = 'adversarial'\n",
    "detector_name = 'hiddenkld'\n",
    "\n",
    "def fetch_detector(detector_type: str, dataset: str, detector_name: str, model=None,\n",
    "                  save_path: str = None):\n",
    "    url = 'https://storage.googleapis.com/seldon-models/alibi-detect/'\n",
    "    if detector_type == 'adversarial':\n",
    "        url = os.path.join(url, 'ad', dataset, model, detector_name)\n",
    "    elif detector_type == 'outlier':\n",
    "        url = os.path.join(url, 'od', dataset, detector_name)\n",
    "    # load metadata\n",
    "    path_meta = os.path.join(url, 'meta.pickle')\n",
    "    meta = cp.load(urlopen(path_meta))\n",
    "    # load state dict\n",
    "    path_state = os.path.join(url, meta['name'] + '.pickle')\n",
    "    state_dict = cp.load(urlopen(path_state))\n",
    "    # load detector\n",
    "    url_models = os.path.join(url, 'model')\n",
    "    if meta['name'] == 'AdversarialAE':\n",
    "        # encoder and decoder\n",
    "        enc_path = tf.keras.utils.get_file('test/enc', os.path.join(url_models, 'encoder_net.h5'))\n",
    "        dec_path = tf.keras.utils.get_file('dec', os.path.join(url_models, 'decoder_net.h5'))\n",
    "        encoder_net = tf.keras.models.load_model(enc_path)\n",
    "        decoder_net = tf.keras.models.load_model(dec_path)\n",
    "        return\n",
    "        # classifier\n",
    "        if dataset == 'cifar10' and model == 'resnet56':\n",
    "            custom_objects = {'backend': backend}\n",
    "        else:\n",
    "            custom_objects = None\n",
    "        clf_path = tf.keras.utils.get_file('model', os.path.join(url_models, 'model.h5'))\n",
    "        clf = tf.keras.models.load_model(clf_path, custom_objects=custom_objects)\n",
    "        # autoencoder\n",
    "        ae = AE(encoder_net, decoder_net)\n",
    "        #ckpt_idx_ae = 'ae.ckpt.index'\n",
    "        #ckpt_idx = tf.keras.utils.get_file(ckpt_idx_ae, \n",
    "        #                                   os.path.join(url_models, ckpt_idx_ae))\n",
    "        #data_0_ae = 'ae.ckpt.data-00000-of-00002'\n",
    "        #data_1_ae = 'ae.ckpt.data-00001-of-00002'\n",
    "        #data_0 = tf.keras.utils.get_file(data_0_ae, os.path.join(url_models, data_0_ae))\n",
    "        #data_1 = tf.keras.utils.get_file(data_1_ae, os.path.join(url_models, data_1_ae))\n",
    "        #ckpt_ae = 'checkpoint'\n",
    "        #ckpt = tf.keras.utils.get_file(ckpt_ae, os.path.join(url_models, ckpt_ae))\n",
    "        #ae.load_weights(ckpt_idx[:-6])\n",
    "        \n",
    "        print(enc_path)\n",
    "        \n",
    "        # hidden layers\n",
    "        hidden_layer_kld = state_dict['hidden_layer_kld']\n",
    "        if isinstance(hidden_layer_kld, dict):\n",
    "            model_hl = []\n",
    "            for i, (hidden_layer, output_dim) in enumerate(hidden_layer_kld.items()):\n",
    "                print(i)\n",
    "                ckpt_tmp = 'model_hl_' + str(i) + '.ckpt.index'\n",
    "                data_0_tmp = 'model_hl_' + str(i) + '.ckpt.data-00000-of-00002'\n",
    "                data_1_tmp = 'model_hl_' + str(i) + '.ckpt.data-00001-of-00002'\n",
    "                ckpt = tf.keras.utils.get_file(\n",
    "                    ckpt_tmp, \n",
    "                    os.path.join(url_models, ckpt_tmp)\n",
    "                )\n",
    "                data_0 = tf.keras.utils.get_file(\n",
    "                    data_0_tmp, \n",
    "                    os.path.join(url_models, data_0_tmp)\n",
    "                )\n",
    "                data_1 = tf.keras.utils.get_file(\n",
    "                    data_1_tmp, \n",
    "                    os.path.join(url_models, data_1_tmp)\n",
    "                )\n",
    "                m = DenseHidden(clf, hidden_layer, output_dim)\n",
    "                m.load_weights(ckpt[:-6])\n",
    "                model_hl.append(m)\n",
    "        else:\n",
    "            model_hl = None\n",
    "        # adversarial detector\n",
    "        detector = init_ad_ae(state_dict, ae, clf, model_hl)\n",
    "    else:\n",
    "        raise NotImplementedError\n",
    "    return detector"
   ]
  },
  {
   "cell_type": "code",
   "execution_count": 25,
   "metadata": {},
   "outputs": [
    {
     "name": "stdout",
     "output_type": "stream",
     "text": [
      "Downloading data from https://storage.googleapis.com/seldon-models/alibi-detect/ad/cifar10/resnet56/hiddenkld/model/encoder_net.h5\n"
     ]
    },
    {
     "ename": "FileNotFoundError",
     "evalue": "[Errno 2] No such file or directory: '/home/avl/.keras/datasets/test/enc'",
     "output_type": "error",
     "traceback": [
      "\u001b[0;31m---------------------------------------------------------------------------\u001b[0m",
      "\u001b[0;31mFileNotFoundError\u001b[0m                         Traceback (most recent call last)",
      "\u001b[0;32m<ipython-input-25-1f896a952d5c>\u001b[0m in \u001b[0;36m<module>\u001b[0;34m\u001b[0m\n\u001b[0;32m----> 1\u001b[0;31m \u001b[0mad\u001b[0m \u001b[0;34m=\u001b[0m \u001b[0mfetch_detector\u001b[0m\u001b[0;34m(\u001b[0m\u001b[0;34m'adversarial'\u001b[0m\u001b[0;34m,\u001b[0m \u001b[0;34m'cifar10'\u001b[0m\u001b[0;34m,\u001b[0m \u001b[0;34m'hiddenkld'\u001b[0m\u001b[0;34m,\u001b[0m \u001b[0mmodel\u001b[0m\u001b[0;34m=\u001b[0m\u001b[0;34m'resnet56'\u001b[0m\u001b[0;34m)\u001b[0m\u001b[0;34m\u001b[0m\u001b[0;34m\u001b[0m\u001b[0m\n\u001b[0m",
      "\u001b[0;32m<ipython-input-24-bea035a8d04b>\u001b[0m in \u001b[0;36mfetch_detector\u001b[0;34m(detector_type, dataset, detector_name, model, save_path)\u001b[0m\n\u001b[1;32m     28\u001b[0m     \u001b[0;32mif\u001b[0m \u001b[0mmeta\u001b[0m\u001b[0;34m[\u001b[0m\u001b[0;34m'name'\u001b[0m\u001b[0;34m]\u001b[0m \u001b[0;34m==\u001b[0m \u001b[0;34m'AdversarialAE'\u001b[0m\u001b[0;34m:\u001b[0m\u001b[0;34m\u001b[0m\u001b[0;34m\u001b[0m\u001b[0m\n\u001b[1;32m     29\u001b[0m         \u001b[0;31m# encoder and decoder\u001b[0m\u001b[0;34m\u001b[0m\u001b[0;34m\u001b[0m\u001b[0;34m\u001b[0m\u001b[0m\n\u001b[0;32m---> 30\u001b[0;31m         \u001b[0menc_path\u001b[0m \u001b[0;34m=\u001b[0m \u001b[0mtf\u001b[0m\u001b[0;34m.\u001b[0m\u001b[0mkeras\u001b[0m\u001b[0;34m.\u001b[0m\u001b[0mutils\u001b[0m\u001b[0;34m.\u001b[0m\u001b[0mget_file\u001b[0m\u001b[0;34m(\u001b[0m\u001b[0;34m'test/enc'\u001b[0m\u001b[0;34m,\u001b[0m \u001b[0mos\u001b[0m\u001b[0;34m.\u001b[0m\u001b[0mpath\u001b[0m\u001b[0;34m.\u001b[0m\u001b[0mjoin\u001b[0m\u001b[0;34m(\u001b[0m\u001b[0murl_models\u001b[0m\u001b[0;34m,\u001b[0m \u001b[0;34m'encoder_net.h5'\u001b[0m\u001b[0;34m)\u001b[0m\u001b[0;34m)\u001b[0m\u001b[0;34m\u001b[0m\u001b[0;34m\u001b[0m\u001b[0m\n\u001b[0m\u001b[1;32m     31\u001b[0m         \u001b[0mdec_path\u001b[0m \u001b[0;34m=\u001b[0m \u001b[0mtf\u001b[0m\u001b[0;34m.\u001b[0m\u001b[0mkeras\u001b[0m\u001b[0;34m.\u001b[0m\u001b[0mutils\u001b[0m\u001b[0;34m.\u001b[0m\u001b[0mget_file\u001b[0m\u001b[0;34m(\u001b[0m\u001b[0;34m'dec'\u001b[0m\u001b[0;34m,\u001b[0m \u001b[0mos\u001b[0m\u001b[0;34m.\u001b[0m\u001b[0mpath\u001b[0m\u001b[0;34m.\u001b[0m\u001b[0mjoin\u001b[0m\u001b[0;34m(\u001b[0m\u001b[0murl_models\u001b[0m\u001b[0;34m,\u001b[0m \u001b[0;34m'decoder_net.h5'\u001b[0m\u001b[0;34m)\u001b[0m\u001b[0;34m)\u001b[0m\u001b[0;34m\u001b[0m\u001b[0;34m\u001b[0m\u001b[0m\n\u001b[1;32m     32\u001b[0m         \u001b[0mencoder_net\u001b[0m \u001b[0;34m=\u001b[0m \u001b[0mtf\u001b[0m\u001b[0;34m.\u001b[0m\u001b[0mkeras\u001b[0m\u001b[0;34m.\u001b[0m\u001b[0mmodels\u001b[0m\u001b[0;34m.\u001b[0m\u001b[0mload_model\u001b[0m\u001b[0;34m(\u001b[0m\u001b[0menc_path\u001b[0m\u001b[0;34m)\u001b[0m\u001b[0;34m\u001b[0m\u001b[0;34m\u001b[0m\u001b[0m\n",
      "\u001b[0;32m~/anaconda3/envs/detect/lib/python3.7/site-packages/tensorflow_core/python/keras/utils/data_utils.py\u001b[0m in \u001b[0;36mget_file\u001b[0;34m(fname, origin, untar, md5_hash, file_hash, cache_subdir, hash_algorithm, extract, archive_format, cache_dir)\u001b[0m\n\u001b[1;32m    262\u001b[0m     \u001b[0;32mtry\u001b[0m\u001b[0;34m:\u001b[0m\u001b[0;34m\u001b[0m\u001b[0;34m\u001b[0m\u001b[0m\n\u001b[1;32m    263\u001b[0m       \u001b[0;32mtry\u001b[0m\u001b[0;34m:\u001b[0m\u001b[0;34m\u001b[0m\u001b[0;34m\u001b[0m\u001b[0m\n\u001b[0;32m--> 264\u001b[0;31m         \u001b[0murlretrieve\u001b[0m\u001b[0;34m(\u001b[0m\u001b[0morigin\u001b[0m\u001b[0;34m,\u001b[0m \u001b[0mfpath\u001b[0m\u001b[0;34m,\u001b[0m \u001b[0mdl_progress\u001b[0m\u001b[0;34m)\u001b[0m\u001b[0;34m\u001b[0m\u001b[0;34m\u001b[0m\u001b[0m\n\u001b[0m\u001b[1;32m    265\u001b[0m       \u001b[0;32mexcept\u001b[0m \u001b[0mHTTPError\u001b[0m \u001b[0;32mas\u001b[0m \u001b[0me\u001b[0m\u001b[0;34m:\u001b[0m\u001b[0;34m\u001b[0m\u001b[0;34m\u001b[0m\u001b[0m\n\u001b[1;32m    266\u001b[0m         \u001b[0;32mraise\u001b[0m \u001b[0mException\u001b[0m\u001b[0;34m(\u001b[0m\u001b[0merror_msg\u001b[0m\u001b[0;34m.\u001b[0m\u001b[0mformat\u001b[0m\u001b[0;34m(\u001b[0m\u001b[0morigin\u001b[0m\u001b[0;34m,\u001b[0m \u001b[0me\u001b[0m\u001b[0;34m.\u001b[0m\u001b[0mcode\u001b[0m\u001b[0;34m,\u001b[0m \u001b[0me\u001b[0m\u001b[0;34m.\u001b[0m\u001b[0mmsg\u001b[0m\u001b[0;34m)\u001b[0m\u001b[0;34m)\u001b[0m\u001b[0;34m\u001b[0m\u001b[0;34m\u001b[0m\u001b[0m\n",
      "\u001b[0;32m~/anaconda3/envs/detect/lib/python3.7/urllib/request.py\u001b[0m in \u001b[0;36murlretrieve\u001b[0;34m(url, filename, reporthook, data)\u001b[0m\n\u001b[1;32m    255\u001b[0m         \u001b[0;31m# Handle temporary file setup.\u001b[0m\u001b[0;34m\u001b[0m\u001b[0;34m\u001b[0m\u001b[0;34m\u001b[0m\u001b[0m\n\u001b[1;32m    256\u001b[0m         \u001b[0;32mif\u001b[0m \u001b[0mfilename\u001b[0m\u001b[0;34m:\u001b[0m\u001b[0;34m\u001b[0m\u001b[0;34m\u001b[0m\u001b[0m\n\u001b[0;32m--> 257\u001b[0;31m             \u001b[0mtfp\u001b[0m \u001b[0;34m=\u001b[0m \u001b[0mopen\u001b[0m\u001b[0;34m(\u001b[0m\u001b[0mfilename\u001b[0m\u001b[0;34m,\u001b[0m \u001b[0;34m'wb'\u001b[0m\u001b[0;34m)\u001b[0m\u001b[0;34m\u001b[0m\u001b[0;34m\u001b[0m\u001b[0m\n\u001b[0m\u001b[1;32m    258\u001b[0m         \u001b[0;32melse\u001b[0m\u001b[0;34m:\u001b[0m\u001b[0;34m\u001b[0m\u001b[0;34m\u001b[0m\u001b[0m\n\u001b[1;32m    259\u001b[0m             \u001b[0mtfp\u001b[0m \u001b[0;34m=\u001b[0m \u001b[0mtempfile\u001b[0m\u001b[0;34m.\u001b[0m\u001b[0mNamedTemporaryFile\u001b[0m\u001b[0;34m(\u001b[0m\u001b[0mdelete\u001b[0m\u001b[0;34m=\u001b[0m\u001b[0;32mFalse\u001b[0m\u001b[0;34m)\u001b[0m\u001b[0;34m\u001b[0m\u001b[0;34m\u001b[0m\u001b[0m\n",
      "\u001b[0;31mFileNotFoundError\u001b[0m: [Errno 2] No such file or directory: '/home/avl/.keras/datasets/test/enc'"
     ]
    }
   ],
   "source": [
    "ad = fetch_detector('adversarial', 'cifar10', 'hiddenkld', model='resnet56')"
   ]
  },
  {
   "cell_type": "code",
   "execution_count": null,
   "metadata": {},
   "outputs": [],
   "source": [
    "detector_path = './models/ad_ae_cifar10/hiddenkld/'\n",
    "ad = load_detector(detector_path)"
   ]
  },
  {
   "cell_type": "markdown",
   "metadata": {},
   "source": [
    "Reconstruct attacked instances:"
   ]
  },
  {
   "cell_type": "code",
   "execution_count": 19,
   "metadata": {},
   "outputs": [],
   "source": [
    "X_recon_cw = predict_batch(ad.ae, X_test_cw, batch_size=32, recon=True)\n",
    "X_recon_slide = predict_batch(ad.ae, X_test_slide, batch_size=32, recon=True)"
   ]
  },
  {
   "cell_type": "code",
   "execution_count": 20,
   "metadata": {},
   "outputs": [],
   "source": [
    "y_recon_cw = predict_batch(clf, X_recon_cw, batch_size=32, recon=False)\n",
    "y_recon_slide = predict_batch(clf, X_recon_slide, batch_size=32, recon=False)"
   ]
  },
  {
   "cell_type": "markdown",
   "metadata": {},
   "source": [
    "Accuracy on attacked vs. reconstructed instances:"
   ]
  },
  {
   "cell_type": "code",
   "execution_count": 21,
   "metadata": {},
   "outputs": [
    {
     "name": "stdout",
     "output_type": "stream",
     "text": [
      "Accuracy after C&W attack 0.0000 -- reconstruction 0.8153\n",
      "Accuracy after SLIDE attack 0.0001 -- reconstruction 0.8318\n"
     ]
    }
   ],
   "source": [
    "acc_y_recon_cw = accuracy(y_test, y_recon_cw)\n",
    "acc_y_recon_slide = accuracy(y_test, y_recon_slide)\n",
    "print('Accuracy after C&W attack {:.4f} -- reconstruction {:.4f}'.format(acc_y_pred_cw, acc_y_recon_cw))\n",
    "print('Accuracy after SLIDE attack {:.4f} -- reconstruction {:.4f}'.format(acc_y_pred_slide, acc_y_recon_slide))"
   ]
  },
  {
   "cell_type": "markdown",
   "metadata": {},
   "source": [
    "The detector restores the accuracy after the attacks from almost $0$% to well over $80$%! We can compute the adversarial scores and inspect some of the reconstructed instances:"
   ]
  },
  {
   "cell_type": "code",
   "execution_count": null,
   "metadata": {},
   "outputs": [],
   "source": [
    "score_x = score_batch(ad, X_test, batch_size=32)\n",
    "score_cw = score_batch(ad, X_test_cw, batch_size=32)\n",
    "score_slide = score_batch(ad, X_test_slide, batch_size=32)"
   ]
  },
  {
   "cell_type": "code",
   "execution_count": null,
   "metadata": {
    "scrolled": false
   },
   "outputs": [],
   "source": [
    "print('C&W attack...')\n",
    "idx = [10, 13, 14, 16, 17]\n",
    "plot_adversarial(idx, X_test, y_pred, X_test_cw, y_pred_cw, mean_test, std_test, \n",
    "                 score_x=score_x, score_x_adv=score_cw, X_recon=X_recon_cw, \n",
    "                 y_recon=y_recon_cw, figsize=(10, 15))\n",
    "print('SLIDE attack...')\n",
    "idx = [23, 25, 27, 29, 34]\n",
    "plot_adversarial(idx, X_test, y_pred, X_test_slide, y_pred_slide, mean_test, std_test, \n",
    "                 score_x=score_x, score_x_adv=score_slide, X_recon=X_recon_slide, \n",
    "                 y_recon=y_recon_slide, figsize=(10, 15))"
   ]
  },
  {
   "cell_type": "markdown",
   "metadata": {},
   "source": [
    "The ROC curves and AUC values show the effectiveness of the adversarial score to detect adversarial instances:"
   ]
  },
  {
   "cell_type": "code",
   "execution_count": null,
   "metadata": {},
   "outputs": [],
   "source": [
    "roc_data = {\n",
    "    'original': {'scores': score_x, 'predictions': y_pred},\n",
    "    'C&W': {'scores': score_cw, 'predictions': y_pred_cw, 'normal': 'original'},\n",
    "    'SLIDE': {'scores': score_slide, 'predictions': y_pred_slide, 'normal': 'original'}\n",
    "}\n",
    "\n",
    "plot_roc(roc_data)"
   ]
  },
  {
   "cell_type": "markdown",
   "metadata": {},
   "source": [
    "### Temperature Scaling\n",
    "\n",
    "We can further improve the correction performance by applying temperature scaling on the original model predictions $M(x)$ during both training and inference when computing the adversarial scores. We can again load or train a detector from scratch:\n",
    "\n",
    "$TODO$: training loop and fetching"
   ]
  },
  {
   "cell_type": "code",
   "execution_count": null,
   "metadata": {},
   "outputs": [],
   "source": [
    "detector_t_path = './models/ad_ae_cifar10/temperature/'\n",
    "ad_t = load_detector(detector_t_path)"
   ]
  },
  {
   "cell_type": "code",
   "execution_count": null,
   "metadata": {},
   "outputs": [],
   "source": [
    "# reconstructed adversarial instances\n",
    "X_recon_cw_t = predict_batch(ad_t.ae, X_test_cw, batch_size=32, recon=True)\n",
    "X_recon_slide_t = predict_batch(ad_t.ae, X_test_slide, batch_size=32, recon=True)\n",
    "\n",
    "# make predictions on reconstructed instances and compute accuracy\n",
    "y_recon_cw_t = predict_batch(clf, X_recon_cw_t, batch_size=32, recon=False)\n",
    "y_recon_slide_t = predict_batch(clf, X_recon_slide_t, batch_size=32, recon=False)\n",
    "acc_y_recon_cw_t = accuracy(y_test, y_recon_cw_t)\n",
    "acc_y_recon_slide_t = accuracy(y_test, y_recon_slide_t)\n",
    "print('Accuracy after C&W attack {:.4f} -- reconstruction {:.4f}'.format(acc_y_pred_cw, acc_y_recon_cw_t))\n",
    "print('Accuracy after SLIDE attack {:.4f} -- reconstruction {:.4f}'.format(acc_y_pred_slide, \n",
    "                                                                           acc_y_recon_slide_t))"
   ]
  },
  {
   "cell_type": "markdown",
   "metadata": {},
   "source": [
    "Applying temperature scaling to CIFAR-10 improves the ROC curve and AUC values."
   ]
  },
  {
   "cell_type": "code",
   "execution_count": null,
   "metadata": {},
   "outputs": [],
   "source": [
    "score_x_t = score_batch(ad_t, X_test, batch_size=32)\n",
    "score_cw_t = score_batch(ad_t, X_test_cw, batch_size=32)\n",
    "score_slide_t = score_batch(ad_t, X_test_slide, batch_size=32)"
   ]
  },
  {
   "cell_type": "code",
   "execution_count": null,
   "metadata": {},
   "outputs": [],
   "source": [
    "roc_data['original_t'] = {'scores': score_x_t, 'predictions': y_pred}\n",
    "roc_data['C&W T=0.5'] = {'scores': score_cw_t, 'predictions': y_pred_cw, 'normal': 'original_t'}\n",
    "roc_data['SLIDE T=0.5'] = {'scores': score_slide_t, 'predictions': y_pred_slide, 'normal': 'original_t'}\n",
    "\n",
    "plot_roc(roc_data)"
   ]
  },
  {
   "cell_type": "markdown",
   "metadata": {},
   "source": [
    "### Hidden Layer K-L Divergence\n",
    "\n",
    "The performance of the correction mechanism can also be improved by extending the training methodology to one of the hidden layers of the classification model. We extract a flattened feature map from the hidden layer, feed it into a linear layer and apply the softmax function. The K-L divergence between predictions on the hidden layer for $x$ and $x'$ is optimised and included in the adversarial score during inference:"
   ]
  },
  {
   "cell_type": "code",
   "execution_count": null,
   "metadata": {},
   "outputs": [],
   "source": [
    "detector_hl_path = './models/ad_ae_cifar10/hiddenkld/'\n",
    "ad_hl = load_detector(detector_hl_path)"
   ]
  },
  {
   "cell_type": "code",
   "execution_count": null,
   "metadata": {},
   "outputs": [],
   "source": [
    "# reconstructed adversarial instances\n",
    "X_recon_cw_hl = predict_batch(ad_hl.ae, X_test_cw, batch_size=32, recon=True)\n",
    "X_recon_slide_hl = predict_batch(ad_hl.ae, X_test_slide, batch_size=32, recon=True)\n",
    "\n",
    "# make predictions on reconstructed instances and compute accuracy\n",
    "y_recon_cw_hl = predict_batch(clf, X_recon_cw_hl, batch_size=32, recon=False)\n",
    "y_recon_slide_hl = predict_batch(clf, X_recon_slide_hl, batch_size=32, recon=False)\n",
    "acc_y_recon_cw_hl = accuracy(y_test, y_recon_cw_hl)\n",
    "acc_y_recon_slide_hl = accuracy(y_test, y_recon_slide_hl)\n",
    "print('Accuracy after C&W attack {:.4f} -- reconstruction {:.4f}'.format(acc_y_pred_cw, acc_y_recon_cw_hl))\n",
    "print('Accuracy after SLIDE attack {:.4f} -- reconstruction {:.4f}'.format(acc_y_pred_slide, \n",
    "                                                                           acc_y_recon_slide_hl))"
   ]
  },
  {
   "cell_type": "markdown",
   "metadata": {},
   "source": [
    "### Malicious Data Drift\n",
    "\n",
    "The adversarial detector proves to be very flexible and can be used to measure the harmfulness of the data drift on the classifier. We evaluate the detector on the CIFAR-10-C dataset ([Hendrycks & Dietterich, 2019](https://arxiv.org/abs/1903.12261)). The instances in\n",
    "CIFAR-10-C have been corrupted and perturbed by various types of noise, blur, brightness etc. at different levels of severity, leading to a gradual decline in model performance.\n",
    "\n",
    "We can select from the following corruption types:"
   ]
  },
  {
   "cell_type": "code",
   "execution_count": null,
   "metadata": {},
   "outputs": [],
   "source": [
    "corruptions = corruption_types_cifar10c()\n",
    "print(corruptions)"
   ]
  },
  {
   "cell_type": "markdown",
   "metadata": {},
   "source": [
    "Fetch the CIFAR-10-C data for a list of corruptions at each severity level (from 1 to 5), make classifier predictions on the corrupted data, compute adversarial scores and identify which perturbations where malicious or harmful and which weren't. We can then store and visualise the adversarial scores for the harmful and harmless corruption. The score for the harmful perturbations is significantly higher than for the harmless ones. As a result, the adversarial detector also functions as a data drift detector."
   ]
  },
  {
   "cell_type": "code",
   "execution_count": null,
   "metadata": {},
   "outputs": [],
   "source": [
    "severities = [1,2,3,4,5]\n",
    "\n",
    "score_drift = {\n",
    "    1: {'all': [], 'harm': [], 'noharm': [], 'acc': 0},\n",
    "    2: {'all': [], 'harm': [], 'noharm': [], 'acc': 0},\n",
    "    3: {'all': [], 'harm': [], 'noharm': [], 'acc': 0},\n",
    "    4: {'all': [], 'harm': [], 'noharm': [], 'acc': 0},\n",
    "    5: {'all': [], 'harm': [], 'noharm': [], 'acc': 0},\n",
    "}\n",
    "\n",
    "for s in severities:\n",
    "    print('\\nSeverity: {} of {}'.format(s, len(severities)))\n",
    "    \n",
    "    print('Loading corrupted dataset...')\n",
    "    X_corr, y_corr = fetch_cifar10c(corruption=corruptions, severity=s, return_X_y=True)\n",
    "    X_corr = X_corr.astype('float32')\n",
    "    \n",
    "    print('Preprocess data...')\n",
    "    X_corr, mean_test, std_test = scale_by_instance(X_corr)\n",
    "    \n",
    "    print('Make predictions on corrupted dataset...')\n",
    "    y_pred_corr = predict_batch(clf, X_corr, batch_size=32, recon=False)\n",
    "    \n",
    "    print('Compute adversarial scores on corrupted dataset...')\n",
    "    score_corr = score_batch(ad_t, X_corr, batch_size=32)\n",
    "    scores = np.concatenate([score_x_t, score_corr])\n",
    "    \n",
    "    print('Get labels for malicious corruptions...')\n",
    "    labels_corr = np.zeros(score_corr.shape[0])    \n",
    "    repeat = y_corr.shape[0] // y_test.shape[0]\n",
    "    y_pred_repeat = np.tile(y_pred, (repeat,))\n",
    "    # malicious/harmful corruption: original prediction correct but \n",
    "    # prediction on corrupted data incorrect\n",
    "    idx_orig_right = np.where(y_pred_repeat == y_corr)[0]\n",
    "    idx_corr_wrong = np.where(y_pred_corr != y_corr)[0]\n",
    "    idx_harmful = np.intersect1d(idx_orig_right, idx_corr_wrong)\n",
    "    labels_corr[idx_harmful] = 1\n",
    "    labels = np.concatenate([np.zeros(X_test.shape[0]), labels_corr]).astype(int)\n",
    "    # harmless corruption: original prediction correct and prediction\n",
    "    # on corrupted data correct\n",
    "    idx_corr_right = np.where(y_pred_corr == y_corr)[0]\n",
    "    idx_harmless = np.intersect1d(idx_orig_right, idx_corr_right)\n",
    "    \n",
    "    score_drift[s]['all'] = score_corr\n",
    "    score_drift[s]['harm'] = score_corr[idx_harmful]\n",
    "    score_drift[s]['noharm'] = score_corr[idx_harmless]\n",
    "    score_drift[s]['acc'] = accuracy(y_corr, y_pred_corr)"
   ]
  },
  {
   "cell_type": "markdown",
   "metadata": {},
   "source": [
    "Compute mean scores and standard deviation per severity level and plot:"
   ]
  },
  {
   "cell_type": "code",
   "execution_count": null,
   "metadata": {},
   "outputs": [],
   "source": [
    "mu_noharm, std_noharm = [], []\n",
    "mu_harm, std_harm = [], []\n",
    "acc = [acc_y_pred]\n",
    "for k, v in score_drift.items():\n",
    "    mu_noharm.append(v['noharm'].mean())\n",
    "    std_noharm.append(v['noharm'].std())\n",
    "    mu_harm.append(v['harm'].mean())\n",
    "    std_harm.append(v['harm'].std())\n",
    "    acc.append(v['acc'])"
   ]
  },
  {
   "cell_type": "code",
   "execution_count": null,
   "metadata": {},
   "outputs": [],
   "source": [
    "plot_labels = ['0', '1', '2', '3', '4', '5']\n",
    "\n",
    "N = 6\n",
    "ind = np.arange(N)\n",
    "width = .35\n",
    "\n",
    "fig_bar_cd, ax = plt.subplots()\n",
    "ax2 = ax.twinx()\n",
    "\n",
    "p0 = ax.bar(ind[0], score_x_t.mean(), yerr=score_x_t.std(), capsize=2)\n",
    "p1 = ax.bar(ind[1:], mu_noharm, width, yerr=std_noharm, capsize=2)\n",
    "p2 = ax.bar(ind[1:] + width, mu_harm, width, yerr=std_harm, capsize=2)\n",
    "\n",
    "ax.set_title('Adversarial Scores and Accuracy by Corruption Severity')\n",
    "ax.set_xticks(ind + width / 2)\n",
    "ax.set_xticklabels(plot_labels)\n",
    "ax.set_ylim((-1,6))\n",
    "ax.legend((p1[0], p2[0]), ('Not Harmful', 'Harmful'), loc='upper right', ncol=2)\n",
    "ax.set_ylabel('Score')\n",
    "ax.set_xlabel('Corruption Severity')\n",
    "\n",
    "color = 'tab:red'\n",
    "ax2.set_ylabel('Accuracy', color=color)\n",
    "ax2.plot(acc, color=color)\n",
    "ax2.tick_params(axis='y', labelcolor=color)\n",
    "\n",
    "plt.show()"
   ]
  },
  {
   "cell_type": "markdown",
   "metadata": {},
   "source": [
    "### Test"
   ]
  },
  {
   "cell_type": "code",
   "execution_count": null,
   "metadata": {},
   "outputs": [],
   "source": [
    "import pickle\n",
    "detector_path = './models/ad_ae_cifar10/mse_alt/'\n",
    "detector_name = 'AdversarialAE'\n",
    "ad_meta = {'detector_type': 'offline', 'data_type': 'image', 'name': 'AdversarialAE'}\n",
    "state_dict = {'threshold': None, 'w_model_hl': None, 'temperature': 1.,\n",
    "              'hidden_layer_kld': None}  # {200: 20}\n",
    "with open(os.path.join(detector_path, 'meta.pickle'), 'wb') as f:\n",
    "    pickle.dump(ad_meta, f)\n",
    "with open(os.path.join(detector_path, detector_name + '.pickle'), 'wb') as f:\n",
    "    pickle.dump(state_dict, f)"
   ]
  },
  {
   "cell_type": "markdown",
   "metadata": {},
   "source": [
    "To highlight the importance of the custom autoencoder loss, we can compare it with the performance of a detector trained with the mean squared error (MSE) loss. We can fetch the detector, reconstruct the adversarial instances, show the ROC curve and compute the AUC:"
   ]
  },
  {
   "cell_type": "code",
   "execution_count": null,
   "metadata": {},
   "outputs": [],
   "source": [
    "detector_mse_path = './models/ad_ae_cifar10/mse_alt/'\n",
    "ad_mse = load_detector(detector_mse_path)\n",
    "\n",
    "# reconstructed adversarial instances\n",
    "X_recon_cw_mse = predict_batch(ad_mse.ae, X_test_cw, batch_size=32, recon=True)\n",
    "X_recon_slide_mse = predict_batch(ad_mse.ae, X_test_slide, batch_size=32, recon=True)\n",
    "# X_recon_mse = predict_batch(ad_mse.ae, X_test, batch_size=32, recon=True)\n",
    "\n",
    "# make predictions on reconstructed instances and compute accuracy\n",
    "y_recon_cw_mse = predict_batch(clf, X_recon_cw_mse, batch_size=32, recon=False)\n",
    "y_recon_slide_mse = predict_batch(clf, X_recon_slide_mse, batch_size=32, recon=False)\n",
    "acc_y_recon_cw_mse = accuracy(y_test, y_recon_cw_mse)\n",
    "acc_y_recon_slide_mse = accuracy(y_test, y_recon_slide_mse)\n",
    "print('Accuracy after C&W attack {:.4f} -- reconstruction {:.4f}'.format(acc_y_pred_cw, acc_y_recon_cw_mse))\n",
    "print('Accuracy after SLIDE attack {:.4f} -- reconstruction {:.4f}'.format(acc_y_pred_slide, \n",
    "                                                                           acc_y_recon_slide_mse))"
   ]
  },
  {
   "cell_type": "code",
   "execution_count": null,
   "metadata": {},
   "outputs": [],
   "source": []
  }
 ],
 "metadata": {
  "kernelspec": {
   "display_name": "Python 3",
   "language": "python",
   "name": "python3"
  },
  "language_info": {
   "codemirror_mode": {
    "name": "ipython",
    "version": 3
   },
   "file_extension": ".py",
   "mimetype": "text/x-python",
   "name": "python",
   "nbconvert_exporter": "python",
   "pygments_lexer": "ipython3",
   "version": "3.7.6"
  }
 },
 "nbformat": 4,
 "nbformat_minor": 2
}
