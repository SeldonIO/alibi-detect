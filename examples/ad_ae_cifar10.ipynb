{
 "cells": [
  {
   "cell_type": "markdown",
   "metadata": {},
   "source": [
    "### Content\n",
    "- adversarial detection on CIFAR-10\n",
    "  - [ ] illustrate detection + correction: figure 1\n",
    "  - [ ] compute some numbers from the tables + ROC curves\n",
    "  - [ ] comparison with MSE (incl. ROC curve?!)\n",
    "- concept drift on CIFAR-10-C\n",
    "  - [ ] incl. figure 7\n",
    "- [ ] detection system performance\n",
    "\n",
    "### TODO\n",
    "#### Datasets, models and fetch fn\n",
    "- [x] upload C&W + SLIDE attack datasets (train + test) on CIFAR-10 classifiers to bucket\n",
    "- [x] upload pretrained ResNet-56 and simple CNN classifiers on CIFAR-10 to bucket\n",
    "- [x] upload pre-trained detectors for KL, T-scaling and hidden K-L for both classifiers\n",
    "- [x] upload CIFAR-10-C to bucket + fetch fn\n",
    "- [ ] generic fetch_fn for ad and od for detectors in the bucket\n",
    "- [x] fetch fn for attacks in the bucket"
   ]
  },
  {
   "cell_type": "markdown",
   "metadata": {},
   "source": [
    "# Adversarial AE detection and correction on CIFAR-10"
   ]
  },
  {
   "cell_type": "code",
   "execution_count": 25,
   "metadata": {},
   "outputs": [],
   "source": [
    "import matplotlib.pyplot as plt\n",
    "import numpy as np\n",
    "import os\n",
    "import tensorflow as tf\n",
    "from tqdm import tqdm\n",
    "\n",
    "from alibi_detect.ad import AdversarialAE\n",
    "from alibi_detect.utils.saving import save_detector, load_detector\n",
    "from alibi_detect.datasets import fetch_attack, fetch_cifar10c, corruption_types_cifar10c\n",
    "from tensorflow.python.keras import backend\n",
    "\n",
    "physical_devices = tf.config.experimental.list_physical_devices('GPU')\n",
    "assert len(physical_devices) > 0, \"Not enough GPU hardware devices available\"\n",
    "tf.config.experimental.set_memory_growth(physical_devices[0], True)"
   ]
  },
  {
   "cell_type": "markdown",
   "metadata": {},
   "source": [
    "### Utility functions"
   ]
  },
  {
   "cell_type": "code",
   "execution_count": 52,
   "metadata": {},
   "outputs": [],
   "source": [
    "def scale_by_instance(X: np.ndarray) -> np.ndarray:\n",
    "    mean_ = X.mean(axis=(1, 2, 3)).reshape(-1, 1, 1, 1)\n",
    "    std_ = X.std(axis=(1, 2, 3)).reshape(-1, 1, 1, 1)\n",
    "    return (X - mean_) / std_, mean_, std_\n",
    "\n",
    "\n",
    "def accuracy(y_true: np.ndarray, y_pred: np.ndarray) -> float:\n",
    "    return (y_true == y_pred).astype(int).sum() / y_true.shape[0]\n",
    "\n",
    "\n",
    "def predict_batch(model: tf.keras.Model, \n",
    "                  X: np.ndarray, \n",
    "                  batch_size: int = 32, \n",
    "                  recon: bool = False,\n",
    "                  proba: bool = False,\n",
    "                  n_categories: int = 10) -> np.ndarray:\n",
    "    n = X.shape[0]\n",
    "    if recon:\n",
    "        shape = X.shape\n",
    "        dtype = np.float32\n",
    "    elif proba:\n",
    "        shape = (n, n_categories)\n",
    "        dtype = np.float32\n",
    "    else:\n",
    "        shape = (n,)\n",
    "        dtype = np.int64\n",
    "    preds = np.zeros(shape, dtype=dtype)\n",
    "    n_minibatch = int(np.ceil(n / batch_size))\n",
    "    for i in tqdm(range(n_minibatch)):\n",
    "        istart, istop = i * batch_size, min((i + 1) * batch_size, n)\n",
    "        if recon:\n",
    "            preds[istart:istop] = model(X[istart:istop]).numpy()\n",
    "        elif proba:\n",
    "            preds[istart:istop] = model(X[istart:istop]).numpy()\n",
    "        else:\n",
    "            preds[istart:istop] = model(X[istart:istop]).numpy().argmax(axis=-1)\n",
    "    return preds\n",
    "\n",
    "def plot_adversarial(idx: list,\n",
    "                     X: np.ndarray,\n",
    "                     y: np.ndarray,\n",
    "                     X_adv: np.ndarray, \n",
    "                     y_adv: np.ndarray,\n",
    "                     mean: np.ndarray, \n",
    "                     std: np.ndarray, \n",
    "                     score_x: np.ndarray = None,\n",
    "                     score_x_adv: np.ndarray = None,\n",
    "                     X_recon: np.ndarray = None,\n",
    "                     y_recon: np.ndarray = None,\n",
    "                     figsize: tuple = (10, 5)) -> None:\n",
    "    \n",
    "    # category map from class numbers to names\n",
    "    cifar10_map = {0: 'airplane', 1: 'automobile', 2: 'bird', 3: 'cat', 4: 'deer', 5: 'dog',\n",
    "                   6: 'frog', 7: 'horse', 8: 'ship', 9: 'truck'}\n",
    "    \n",
    "    nrows = len(idx)\n",
    "    ncols = 3 if X_recon else 2\n",
    "    fig, ax = plt.subplots(nrows=nrows, ncols=ncols, figsize=figsize)\n",
    "    \n",
    "    n_subplot = 1\n",
    "    for i in idx:\n",
    "        \n",
    "        # rescale images in [0, 1]\n",
    "        X_adj = (X[i] * std[i] + mean[i]) / 255\n",
    "        X_adv_adj = (X_adv[i] * std[i] + mean[i]) / 255\n",
    "        if X_recon:\n",
    "            X_recon_adj = (X_recon[i] * std[i] + mean[i]) / 255\n",
    "        \n",
    "        # original image\n",
    "        plt.subplot(nrows, ncols, n_subplot)\n",
    "        plt.axis('off')\n",
    "        if i == idx[0]:\n",
    "            if score_x:\n",
    "                plt.title('CIFAR-10 Image \\n{}: {:.3f}'.format(cifar10_map[y[i]], score_x[i]))\n",
    "            else:\n",
    "                plt.title('CIFAR-10 Image \\n{}'.format(cifar10_map[y[i]]))\n",
    "        else:\n",
    "            if score_x:\n",
    "                plt.title('{}: {:.3f}'.format(cifar10_map[y[i]], score_x[i]))\n",
    "            else:\n",
    "                plt.title('{}'.format(cifar10_map[y[i]]))\n",
    "        plt.imshow(X_adj)\n",
    "        n_subplot += 1\n",
    "        \n",
    "        # adversarial image\n",
    "        plt.subplot(nrows, ncols, n_subplot)\n",
    "        plt.axis('off')\n",
    "        if i == idx[0]:\n",
    "            if score_x_adv:\n",
    "                plt.title('Adversarial \\n{}: {:.3f}'.format(cifar10_map[y_adv[i]], score_x_adv[i]))\n",
    "            else:\n",
    "                plt.title('Adversarial \\n{}'.format(cifar10_map[y_adv[i]]))\n",
    "        else:\n",
    "            if score_x_adv:\n",
    "                plt.title('{}: {:.3f}'.format(cifar10_map[y_adv[i]], score_x_adv[i]))\n",
    "            else:\n",
    "                plt.title('{}'.format(cifar10_map[y_adv[i]]))\n",
    "        plt.imshow(X_adv_adj)\n",
    "        n_subplot += 1\n",
    "     \n",
    "        # reconstructed image\n",
    "        if X_recon:\n",
    "            plt.subplot(nrows, ncols, n_subplot)\n",
    "            plt.axis('off')\n",
    "            if i == idx[0]:\n",
    "                plt.title('AE Reconstruction \\n{}'.format(cifar10_map[y_recon[i]]))\n",
    "            else:\n",
    "                plt.title('{}'.format(cifar10_map[y_recon[i]]))\n",
    "            plt.imshow(X_recon_adj)\n",
    "            n_subplot += 1\n",
    "    \n",
    "    plt.show()"
   ]
  },
  {
   "cell_type": "markdown",
   "metadata": {},
   "source": [
    "### Load data"
   ]
  },
  {
   "cell_type": "code",
   "execution_count": 3,
   "metadata": {},
   "outputs": [],
   "source": [
    "(X_train, y_train), (X_test, y_test) = tf.keras.datasets.cifar10.load_data()\n",
    "y_train = y_train.astype('int64').reshape(-1,)\n",
    "y_test = y_test.astype('int64').reshape(-1,)"
   ]
  },
  {
   "cell_type": "markdown",
   "metadata": {},
   "source": [
    "Standardise the dataset by instance:"
   ]
  },
  {
   "cell_type": "code",
   "execution_count": 4,
   "metadata": {},
   "outputs": [],
   "source": [
    "X_train, mean_train, std_train = scale_by_instance(X_train)\n",
    "X_test, mean_test, std_test = scale_by_instance(X_test)\n",
    "scale = (mean_train, std_train), (mean_test, std_test)"
   ]
  },
  {
   "cell_type": "markdown",
   "metadata": {},
   "source": [
    "### Load classifier\n",
    "\n",
    "$TODO$: add fetch fn for model! "
   ]
  },
  {
   "cell_type": "code",
   "execution_count": 5,
   "metadata": {},
   "outputs": [
    {
     "name": "stderr",
     "output_type": "stream",
     "text": [
      "/home/avl/anaconda3/envs/detect/lib/python3.7/site-packages/tensorflow_core/python/keras/layers/core.py:986: UserWarning: official.vision.image_classification.resnet_cifar_model is not loaded, but a Lambda layer uses it. It may cause errors.\n",
      "  , UserWarning)\n"
     ]
    }
   ],
   "source": [
    "clf_path = '../../../adversarial_img/resnet56/'\n",
    "clf = tf.keras.models.load_model(clf_path + 'model.h5', custom_objects={'backend': backend})"
   ]
  },
  {
   "cell_type": "markdown",
   "metadata": {},
   "source": [
    "Check that the predictions on the test set reach $93.15$% accuracy:"
   ]
  },
  {
   "cell_type": "code",
   "execution_count": 6,
   "metadata": {},
   "outputs": [
    {
     "name": "stderr",
     "output_type": "stream",
     "text": [
      "100%|██████████| 313/313 [00:18<00:00, 16.62it/s]\n"
     ]
    }
   ],
   "source": [
    "y_pred = predict_batch(clf, X_test, batch_size=32, recon=False)"
   ]
  },
  {
   "cell_type": "code",
   "execution_count": 7,
   "metadata": {},
   "outputs": [
    {
     "name": "stdout",
     "output_type": "stream",
     "text": [
      "Accuracy: 0.9315\n"
     ]
    }
   ],
   "source": [
    "acc_y_pred = accuracy(y_test, y_pred)\n",
    "print('Accuracy: {:.4f}'.format(acc_y_pred))"
   ]
  },
  {
   "cell_type": "markdown",
   "metadata": {},
   "source": [
    "### Adversarial Attack\n",
    "\n",
    "We investigate both [Carlini-Wagner (C&W)](https://arxiv.org/abs/1608.04644) and [SLIDE](https://arxiv.org/abs/1904.13000) attacks. You can either load previously found adversarial instances on the ResNet-56 model or launch a new attack:"
   ]
  },
  {
   "cell_type": "code",
   "execution_count": 8,
   "metadata": {},
   "outputs": [],
   "source": [
    "dataset = 'cifar10'\n",
    "model = 'resnet56'"
   ]
  },
  {
   "cell_type": "code",
   "execution_count": 12,
   "metadata": {},
   "outputs": [],
   "source": [
    "# C&W attack\n",
    "data_cw = fetch_attack(dataset, model, 'cw')\n",
    "X_train_cw, X_test_cw = data_cw['data_train'], data_cw['data_test']\n",
    "meta_cw = data_cw['meta'] # metadata with hyperparameters of the attack\n",
    "# SLIDE attack\n",
    "data_slide = fetch_attack(dataset, model, 'slide')\n",
    "X_train_slide, X_test_slide = data_slide['data_train'], data_slide['data_test']\n",
    "meta_slide = data_slide['meta']"
   ]
  },
  {
   "cell_type": "code",
   "execution_count": 13,
   "metadata": {},
   "outputs": [
    {
     "name": "stdout",
     "output_type": "stream",
     "text": [
      "(10000, 32, 32, 3) (10000, 32, 32, 3)\n"
     ]
    }
   ],
   "source": [
    "print(X_test_cw.shape, X_test_slide.shape)"
   ]
  },
  {
   "cell_type": "markdown",
   "metadata": {},
   "source": [
    "Check if the prediction accuracy of the model on the adversarial instances is close to $0$%."
   ]
  },
  {
   "cell_type": "code",
   "execution_count": 15,
   "metadata": {},
   "outputs": [
    {
     "name": "stderr",
     "output_type": "stream",
     "text": [
      "100%|██████████| 313/313 [00:18<00:00, 16.54it/s]\n",
      "100%|██████████| 313/313 [00:19<00:00, 15.74it/s]\n"
     ]
    }
   ],
   "source": [
    "y_pred_cw = predict_batch(clf, X_test_cw, batch_size=32, recon=False)\n",
    "y_pred_slide = predict_batch(clf, X_test_slide, batch_size=32, recon=False)"
   ]
  },
  {
   "cell_type": "code",
   "execution_count": 16,
   "metadata": {},
   "outputs": [
    {
     "name": "stdout",
     "output_type": "stream",
     "text": [
      "Accuracy: cw 0.0000 -- SLIDE 0.0002\n"
     ]
    }
   ],
   "source": [
    "acc_y_pred_cw = accuracy(y_test, y_pred_cw)\n",
    "acc_y_pred_slide = accuracy(y_test, y_pred_slide)\n",
    "print('Accuracy: cw {:.4f} -- SLIDE {:.4f}'.format(acc_y_pred_cw, acc_y_pred_slide))"
   ]
  },
  {
   "cell_type": "markdown",
   "metadata": {},
   "source": [
    "Let's visualise some adversarial instances:"
   ]
  },
  {
   "cell_type": "code",
   "execution_count": 21,
   "metadata": {},
   "outputs": [
    {
     "data": {
      "text/plain": [
       "2"
      ]
     },
     "execution_count": 21,
     "metadata": {},
     "output_type": "execute_result"
    }
   ],
   "source": [
    "scale = (mean_train, std_train), (mean_test, std_test)"
   ]
  },
  {
   "cell_type": "code",
   "execution_count": 61,
   "metadata": {},
   "outputs": [
    {
     "name": "stdout",
     "output_type": "stream",
     "text": [
      "C&W attack...\n"
     ]
    },
    {
     "data": {
      "image/png": "[encoded data removed]",
      "text/plain": [
       "<Figure size 720x720 with 4 Axes>"
      ]
     },
     "metadata": {
      "needs_background": "light"
     },
     "output_type": "display_data"
    },
    {
     "name": "stdout",
     "output_type": "stream",
     "text": [
      "SLIDE attack...\n"
     ]
    },
    {
     "data": {
      "image/png": "[encoded data removed]",
      "text/plain": [
       "<Figure size 720x720 with 4 Axes>"
      ]
     },
     "metadata": {
      "needs_background": "light"
     },
     "output_type": "display_data"
    }
   ],
   "source": [
    "idx = [3, 4]\n",
    "print('C&W attack...')\n",
    "plot_adversarial(idx, X_test, y_pred, X_test_cw, y_pred_cw, mean_test, std_test, figsize=(10, 10))\n",
    "print('SLIDE attack...')\n",
    "plot_adversarial(idx, X_test, y_pred, X_test_slide, y_pred_slide, mean_test, std_test, figsize=(10, 10))"
   ]
  },
  {
   "cell_type": "markdown",
   "metadata": {},
   "source": [
    "### Load or train the adversarial detectors"
   ]
  },
  {
   "cell_type": "code",
   "execution_count": null,
   "metadata": {},
   "outputs": [],
   "source": []
  },
  {
   "cell_type": "code",
   "execution_count": null,
   "metadata": {},
   "outputs": [],
   "source": []
  },
  {
   "cell_type": "code",
   "execution_count": null,
   "metadata": {},
   "outputs": [],
   "source": []
  },
  {
   "cell_type": "code",
   "execution_count": null,
   "metadata": {},
   "outputs": [],
   "source": []
  },
  {
   "cell_type": "code",
   "execution_count": null,
   "metadata": {},
   "outputs": [],
   "source": []
  },
  {
   "cell_type": "code",
   "execution_count": null,
   "metadata": {},
   "outputs": [],
   "source": []
  },
  {
   "cell_type": "code",
   "execution_count": null,
   "metadata": {},
   "outputs": [],
   "source": []
  },
  {
   "cell_type": "code",
   "execution_count": null,
   "metadata": {},
   "outputs": [],
   "source": []
  },
  {
   "cell_type": "code",
   "execution_count": null,
   "metadata": {},
   "outputs": [],
   "source": []
  },
  {
   "cell_type": "markdown",
   "metadata": {},
   "source": [
    "### Test"
   ]
  },
  {
   "cell_type": "code",
   "execution_count": null,
   "metadata": {},
   "outputs": [],
   "source": [
    "corruptions = corruption_types_cifar10c()\n",
    "print(corruptions)"
   ]
  },
  {
   "cell_type": "code",
   "execution_count": null,
   "metadata": {},
   "outputs": [],
   "source": [
    "X_corr, y_corr = fetch_cifar10c(corruption=corruptions[0], severity=1, return_X_y=True)"
   ]
  },
  {
   "cell_type": "code",
   "execution_count": null,
   "metadata": {},
   "outputs": [],
   "source": [
    "X_corr.shape"
   ]
  },
  {
   "cell_type": "code",
   "execution_count": null,
   "metadata": {},
   "outputs": [],
   "source": []
  }
 ],
 "metadata": {
  "kernelspec": {
   "display_name": "Python 3",
   "language": "python",
   "name": "python3"
  },
  "language_info": {
   "codemirror_mode": {
    "name": "ipython",
    "version": 3
   },
   "file_extension": ".py",
   "mimetype": "text/x-python",
   "name": "python",
   "nbconvert_exporter": "python",
   "pygments_lexer": "ipython3",
   "version": "3.7.6"
  }
 },
 "nbformat": 4,
 "nbformat_minor": 2
}
