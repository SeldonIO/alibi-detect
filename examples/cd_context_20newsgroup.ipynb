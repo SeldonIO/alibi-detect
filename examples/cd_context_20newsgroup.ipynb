{
 "cells": [
  {
   "cell_type": "markdown",
   "metadata": {},
   "source": [
    "# Context-aware drift detection on news articles\n",
    "\n",
    "### Introduction\n",
    "\n",
    "In this notebook we show how to **detect drift on text data given a specific context** using the [context-aware MMD detector](https://docs.seldon.io/projects/alibi-detect/en/latest/cd/methods/contextmmddrift.html). Consider the following simple example: the upcoming elections result in an increase of political news articles compared to other topics such as sports or science. Given the context (the elections), it is however not surprising that we observe this uptick. Moreover, assume we have a machine learning model which is trained to classify news topics, and this model performs well on political articles. So given that we fully expect this uptick to occur given the context, and that our model performs fine on the political news articles, we do not want to flag this type of drift in the data. **This setting corresponds more closely to many real-life settings than traditional drift detection where we make the assumption that both the reference and test data are [i.i.d.](https://en.wikipedia.org/wiki/Independent_and_identically_distributed_random_variables) samples from their underlying distributions.**\n",
    "\n",
    "In our news topics example, each different topic such as politics, sports or weather represents a subpopulation of the data. Our context-aware drift detector can then detect changes in the data distribution which cannot be attributed to a change in relative prevalence of each of these subpopulations, which we deem permissible. As a cherry on the cake, the context-aware detector allows you to understand which subpopulations are present in both the reference and test data. This allows you to obtain deep insights into the distribution underlying the test data.\n",
    "\n",
    "Useful context (or *conditioning*) variables for the context-aware drift detector include but are not limited to:\n",
    "1. **Domain or application specific** contexts such as the time of day or the weather.\n",
    "2. Conditioning on the **relative prevalences of known subpopulations**, such as the frequency of political articles. It is important to note that while the relative frequency of each subpopulation might change, the distribution of each individual subpopulation cannot change.\n",
    "3. Conditioning on **model predictions**. Assume we trained a classifier which tries to figure out which news topic an article belongs to. Given our model predictions we then want to understand whether our test data follows the same underlying distribution as reference instances with similar model predictions. This conditioning would also be useful in case of trending news topics which cause the model prediction distribution to shift but not necessarily the distribution within each of the news topics.\n",
    "4. Conditioning on **model uncertainties** which would allow increases in model uncertainty due to drift into familiar regions of high aleatoric uncertainty (often fine) to be distinguished from that into unfamiliar regions of high epistemic uncertainty (often problematic).\n",
    "\n",
    "The following settings will be illustrated throughout the notebook:\n",
    "1. A **relative change in prevalence of subpopulations** (i.e. news topics) which are also present in the reference data is observed. Contrary to traditional drift detection approaches, **the context-aware detector does not flag drift** as this change in frequency of news topics is permissible given the context provided (e.g. more political news articles around elections).\n",
    "2. A **change in the underlying distribution of one or more subpopulations** takes place. While we allow changes in the prevalence of the subpopulations accounted for by the context variable, we do not allow changes of the subpopulations themselves. Let's assume that a newspaper usually has a certain tone (e.g. more conservative) when it comes to politics. If this tone changes (to less conservative) around elections (increased frequency of political news articles), then we want to **flag it as drift** since the change cannot be attributed to the context given to the detector.\n",
    "3. A **change in the distribution as we observe a previously unseen news topic**. A newspaper might for instance add a classified ads section, which was not present in the reference data.\n",
    "\n",
    "Under setting 1. we want our detector to be **well-calibrated** (a controlled False Positive Rate (FPR) and more generally a p-value which is uniformly distributed between 0 and 1) while under settings 2. and 3. we want our detector to be **powerful** and flag the drift. Lastly, we show how the detector can help you to **understand the connection between the reference and test data distributions** better.\n",
    "\n",
    "### Data\n",
    "\n",
    "We use the [20 newsgroup dataset](https://scikit-learn.org/0.19/datasets/twenty_newsgroups.html) which contains about 18,000 newsgroups post across 20 topics, including politics, science sports or religion.\n",
    "\n",
    "### Requirements\n",
    "\n",
    "The notebook requires the `umap-learn`, `torch`, `sentence-transformers`, `statsmodels`, `seaborn` and `datasets` packages to be installed, which can be done via `pip`:"
   ]
  },
  {
   "cell_type": "code",
   "execution_count": null,
   "metadata": {},
   "outputs": [],
   "source": [
    "!pip install umap-learn torch sentence-transformers statsmodels seaborn datasets"
   ]
  },
  {
   "cell_type": "markdown",
   "metadata": {},
   "source": [
    "Before we start let's fix the random seeds for reproducibility:"
   ]
  },
  {
   "cell_type": "code",
   "execution_count": 1,
   "metadata": {},
   "outputs": [],
   "source": [
    "import os\n",
    "os.environ['CUDA_VISIBLE_DEVICES'] = '1'\n",
    "\n",
    "import numpy as np\n",
    "import torch\n",
    "\n",
    "def set_seed(seed: int) -> None:\n",
    "    torch.manual_seed(seed)\n",
    "    torch.cuda.manual_seed(seed)\n",
    "    np.random.seed(seed)\n",
    "\n",
    "set_seed(2022)"
   ]
  },
  {
   "cell_type": "markdown",
   "metadata": {},
   "source": [
    "## Load data\n",
    "\n",
    "First we load the data, show which classes (news topics) are present and what an instance looks like."
   ]
  },
  {
   "cell_type": "code",
   "execution_count": 2,
   "metadata": {},
   "outputs": [
    {
     "name": "stdout",
     "output_type": "stream",
     "text": [
      "18846 documents\n",
      "20 categories:\n"
     ]
    },
    {
     "data": {
      "text/plain": [
       "['alt.atheism',\n",
       " 'comp.graphics',\n",
       " 'comp.os.ms-windows.misc',\n",
       " 'comp.sys.ibm.pc.hardware',\n",
       " 'comp.sys.mac.hardware',\n",
       " 'comp.windows.x',\n",
       " 'misc.forsale',\n",
       " 'rec.autos',\n",
       " 'rec.motorcycles',\n",
       " 'rec.sport.baseball',\n",
       " 'rec.sport.hockey',\n",
       " 'sci.crypt',\n",
       " 'sci.electronics',\n",
       " 'sci.med',\n",
       " 'sci.space',\n",
       " 'soc.religion.christian',\n",
       " 'talk.politics.guns',\n",
       " 'talk.politics.mideast',\n",
       " 'talk.politics.misc',\n",
       " 'talk.religion.misc']"
      ]
     },
     "execution_count": 2,
     "metadata": {},
     "output_type": "execute_result"
    }
   ],
   "source": [
    "from sklearn.datasets import fetch_20newsgroups\n",
    "\n",
    "dataset = fetch_20newsgroups(subset='all', shuffle=True, random_state=42)\n",
    "print(f'{len(dataset.data)} documents')\n",
    "print(f'{len(dataset.target_names)} categories:')\n",
    "dataset.target_names"
   ]
  },
  {
   "cell_type": "markdown",
   "metadata": {},
   "source": [
    "Let's take a look at an instance from the dataset:"
   ]
  },
  {
   "cell_type": "code",
   "execution_count": 3,
   "metadata": {},
   "outputs": [
    {
     "name": "stdout",
     "output_type": "stream",
     "text": [
      "0. Category: rec.sport.hockey\n",
      "---------------------------\n",
      "From: Mamatha Devineni Ratnam <mr47+@andrew.cmu.edu>\n",
      "Subject: Pens fans reactions\n",
      "Organization: Post Office, Carnegie Mellon, Pittsburgh, PA\n",
      "Lines: 12\n",
      "NNTP-Posting-Host: po4.andrew.cmu.edu\n",
      "\n",
      "\n",
      "\n",
      "I am sure some bashers of Pens fans are pretty confused about the lack\n",
      "of any kind of posts about the recent Pens massacre of the Devils. Actually,\n",
      "I am  bit puzzled too and a bit relieved. However, I am going to put an end\n",
      "to non-PIttsburghers' relief with a bit of praise for the Pens. Man, they\n",
      "are killing those Devils worse than I thought. Jagr just showed you why\n",
      "he is much better than his regular season stats. He is also a lot\n",
      "fo fun to watch in the playoffs. Bowman should let JAgr have a lot of\n",
      "fun in the next couple of games since the Pens are going to beat the pulp out of Jersey anyway. I was very disappointed not to see the Islanders lose the final\n",
      "regular season game.          PENS RULE!!!\n",
      "\n",
      "\n",
      "---------------------------\n"
     ]
    }
   ],
   "source": [
    "n = 1\n",
    "for _, document in enumerate(dataset.data[:n]):\n",
    "    category = dataset.target_names[dataset.target[_]]\n",
    "    print(f'{_}. Category: {category}')\n",
    "    print('---------------------------')\n",
    "    print(document[:1000])\n",
    "    print('---------------------------')"
   ]
  },
  {
   "cell_type": "markdown",
   "metadata": {},
   "source": [
    "## Define models and train a classifier\n",
    "\n",
    "We embed the news posts using [SentenceTransformers](https://www.sbert.net/index.html) pre-trained embeddings and optionally add a dimensionality reduction step with [UMAP](https://umap-learn.readthedocs.io/en/latest/). UMAP also allows to leverage reference data labels.\n",
    "\n",
    "We define respectively a generic clustering model using UMAP, a model to embed the text input using pre-trained *SentenceTransformers* embeddings, a text classifier and a utility function to place the data on the right device."
   ]
  },
  {
   "cell_type": "code",
   "execution_count": 4,
   "metadata": {},
   "outputs": [],
   "source": [
    "from sentence_transformers import SentenceTransformer\n",
    "import torch.nn as nn\n",
    "import umap\n",
    "\n",
    "\n",
    "class UMAPModel:\n",
    "    def __init__(\n",
    "        self, \n",
    "        n_neighbors: int = 10,\n",
    "        n_components: int = 2,\n",
    "        metric: str = 'euclidean',\n",
    "        min_dist: float = .1,\n",
    "        **kwargs: dict\n",
    "    ) -> None:\n",
    "        super().__init__()\n",
    "        kwargs = kwargs if isinstance(kwargs, dict) else dict()\n",
    "        kwargs.update(\n",
    "            n_neighbors=n_neighbors,\n",
    "            n_components=n_components,\n",
    "            metric=metric,\n",
    "            min_dist=min_dist\n",
    "        )\n",
    "        self.model = umap.UMAP(**kwargs)\n",
    "    \n",
    "    def fit(self, x: np.ndarray, y: np.ndarray = None) -> None:\n",
    "        \"\"\" Fit UMAP embedding. A combination of labeled and unlabeled data\n",
    "        can be passed. Unlabeled instances are equal to -1. \"\"\"\n",
    "        self.model.fit(x, y=y)\n",
    "    \n",
    "    def predict(self, x: np.ndarray) -> np.ndarray:\n",
    "        \"\"\" Transform the input x to the embedding space. \"\"\"\n",
    "        return self.model.transform(x)\n",
    "\n",
    "\n",
    "class EmbeddingModel:\n",
    "    def __init__(\n",
    "        self,\n",
    "        model_name: str = 'paraphrase-MiniLM-L6-v2',  # https://www.sbert.net/docs/pretrained_models.html\n",
    "        max_seq_length: int = 200,\n",
    "        batch_size: int = 32,\n",
    "        device: torch.device = None\n",
    "    ) -> None:\n",
    "        if not isinstance(device, torch.device):\n",
    "            device = torch.device('cuda' if torch.cuda.is_available() else 'cpu')\n",
    "        self.encode_text = SentenceTransformer(model_name).to(device)\n",
    "        self.encode_text.max_seq_length = max_seq_length\n",
    "        self.batch_size = batch_size\n",
    "    \n",
    "    def __call__(self, x: np.ndarray) -> np.ndarray:\n",
    "        return self.encode_text.encode(x, convert_to_numpy=True, batch_size=self.batch_size)\n",
    "\n",
    "    \n",
    "class Classifier(nn.Module):\n",
    "    def __init__(\n",
    "        self, \n",
    "        model_name: str = 'paraphrase-MiniLM-L6-v2',\n",
    "        max_seq_length: int = 200,\n",
    "        n_classes: int = 20\n",
    "    ) -> None:\n",
    "        \"\"\" Text classification model. Note that we do not train the embedding backbone. \"\"\"\n",
    "        super().__init__()\n",
    "        self.encode_text = SentenceTransformer(model_name)\n",
    "        self.encode_text.max_seq_length = max_seq_length\n",
    "        for param in self.encode_text.parameters():\n",
    "            param.requires_grad = False\n",
    "        self.head = nn.Sequential(nn.Linear(384, 256), nn.LeakyReLU(.1), nn.Dropout(.5), nn.Linear(256, 20))\n",
    "        \n",
    "    def forward(self, tokens) -> torch.Tensor:\n",
    "        return self.head(self.encode_text(tokens)['sentence_embedding'])\n",
    "\n",
    "    \n",
    "def batch_to_device(batch: dict, target_device: torch.device):\n",
    "    \"\"\" Send a pytorch batch to a device (CPU/GPU). \"\"\"\n",
    "    for key in batch:\n",
    "        if isinstance(batch[key], torch.Tensor):\n",
    "            batch[key] = batch[key].to(target_device)\n",
    "    return batch"
   ]
  },
  {
   "cell_type": "markdown",
   "metadata": {},
   "source": [
    "First we train a classifier on a small subset of the data. The aim of the classifier is to predict the news topic of each instance. Below we define a few simple training and evaluation functions."
   ]
  },
  {
   "cell_type": "code",
   "execution_count": 5,
   "metadata": {},
   "outputs": [],
   "source": [
    "def train_model(model, loader, epochs=3, lr=1e-3):\n",
    "    optimizer = torch.optim.Adam(model.parameters(), lr=1e-3)\n",
    "    criterion = nn.CrossEntropyLoss()\n",
    "    for epoch in range(epochs):\n",
    "        for x, y in tqdm(loader):\n",
    "            tokens, y = tokenize(x), y.to(device)\n",
    "            y_hat = clf(tokens)\n",
    "            optimizer.zero_grad()\n",
    "            loss = criterion(y_hat, y)\n",
    "            loss.backward()\n",
    "            optimizer.step()\n",
    "\n",
    "            \n",
    "def eval_model(model, loader, verbose=1):\n",
    "    model.eval()\n",
    "    logits, labels = [], []\n",
    "    with torch.no_grad():\n",
    "        if verbose == 1:\n",
    "            loader = tqdm(loader)\n",
    "        for x, y in loader:\n",
    "            tokens = tokenize(x)\n",
    "            y_hat = model(tokens)\n",
    "            logits += [y_hat.cpu().numpy()]\n",
    "            labels += [y.cpu().numpy()]\n",
    "    logits = np.concatenate(logits, 0)\n",
    "    preds = np.argmax(logits, 1)\n",
    "    labels = np.concatenate(labels, 0)\n",
    "    if verbose == 1:\n",
    "        accuracy = (preds == labels).mean()\n",
    "        print(f'Accuracy: {accuracy:.3f}')\n",
    "    return logits, preds"
   ]
  },
  {
   "cell_type": "markdown",
   "metadata": {},
   "source": [
    "Now we split the data in a training and drift detection set."
   ]
  },
  {
   "cell_type": "code",
   "execution_count": 6,
   "metadata": {},
   "outputs": [],
   "source": [
    "n_all = len(dataset.data)\n",
    "n_train = 5000  # nb of instances to train news topic classifier on\n",
    "idx_train = np.random.choice(n_all, size=n_train, replace=False)\n",
    "idx_keep = np.setdiff1d(np.arange(n_all), idx_train)\n",
    "# data used for model training\n",
    "x_train, y_train = [dataset.data[_] for _ in idx_train], dataset.target[idx_train]\n",
    "# data used for drift detection\n",
    "x_drift, y_drift = [dataset.data[_] for _ in idx_keep], dataset.target[idx_keep]\n",
    "n_drift = len(x_drift)"
   ]
  },
  {
   "cell_type": "markdown",
   "metadata": {},
   "source": [
    "Let's train our classifier which uses a pre-trained SentenceTransformer model as its backbone which remains frozen and only finetunes a simple MLP head on top of the embeddings:"
   ]
  },
  {
   "cell_type": "code",
   "execution_count": 7,
   "metadata": {},
   "outputs": [
    {
     "name": "stderr",
     "output_type": "stream",
     "text": [
      "INFO:sentence_transformers.SentenceTransformer:Load pretrained SentenceTransformer: paraphrase-MiniLM-L6-v2\n",
      "INFO:sentence_transformers.SentenceTransformer:Use pytorch device: cuda\n",
      "100%|██████████| 157/157 [00:05<00:00, 31.37it/s]\n",
      "100%|██████████| 157/157 [00:04<00:00, 32.75it/s]\n",
      "100%|██████████| 157/157 [00:04<00:00, 32.72it/s]\n",
      "100%|██████████| 157/157 [00:04<00:00, 33.15it/s]\n",
      "100%|██████████| 157/157 [00:04<00:00, 31.89it/s]\n",
      "100%|██████████| 157/157 [00:06<00:00, 23.63it/s]\n",
      "  1%|          | 3/433 [00:00<00:15, 28.42it/s]"
     ]
    },
    {
     "name": "stdout",
     "output_type": "stream",
     "text": [
      "Accuracy: 0.806\n"
     ]
    },
    {
     "name": "stderr",
     "output_type": "stream",
     "text": [
      "100%|██████████| 433/433 [00:17<00:00, 24.17it/s]"
     ]
    },
    {
     "name": "stdout",
     "output_type": "stream",
     "text": [
      "Accuracy: 0.730\n"
     ]
    },
    {
     "name": "stderr",
     "output_type": "stream",
     "text": [
      "\n"
     ]
    }
   ],
   "source": [
    "from alibi_detect.utils.pytorch.data import TorchDataset\n",
    "from torch.utils.data import DataLoader\n",
    "from tqdm import tqdm\n",
    "from typing import Dict, List\n",
    "\n",
    "device = torch.device('cuda' if torch.cuda.is_available() else 'cpu')\n",
    "clf = Classifier().to(device)\n",
    "train_loader = DataLoader(TorchDataset(x_train, y_train), batch_size=32, shuffle=True)\n",
    "drift_loader = DataLoader(TorchDataset(x_drift, y_drift), batch_size=32, shuffle=False)\n",
    "\n",
    "def tokenize(x: List[str]) -> Dict[str, torch.Tensor]:\n",
    "    tokens = clf.encode_text.tokenize(x)\n",
    "    return batch_to_device(tokens, device)\n",
    "\n",
    "train_model(clf, train_loader, epochs=5)\n",
    "clf.eval()\n",
    "_, _ = eval_model(clf, train_loader)\n",
    "_, _ = eval_model(clf, drift_loader)"
   ]
  },
  {
   "cell_type": "markdown",
   "metadata": {},
   "source": [
    "## Detector calibration under no change\n",
    "\n",
    "We start with an example where no drift occurs and the reference and test data are both sampled randomly from all news topics. Under this scenario, we expect no drift to be detected by either a *normal* MMD detector or by the context-aware MMD detector.\n",
    "\n",
    "First we define some helper functions. The first one visualises the clustered text data while the second function samples disjoint reference and test sets with a specified number of instances per class (i.e. per news topic)."
   ]
  },
  {
   "cell_type": "code",
   "execution_count": 8,
   "metadata": {},
   "outputs": [],
   "source": [
    "import matplotlib.pyplot as plt\n",
    "\n",
    "\n",
    "def plot_clusters(x: np.ndarray, y: np.ndarray, classes: list, title: str = None) -> None:\n",
    "    fig, ax = plt.subplots(1, figsize=(14, 10))\n",
    "    plt.scatter(*x.T, s=0.3, c=y, cmap='Spectral', alpha=1.0)\n",
    "    plt.setp(ax, xticks=[], yticks=[])\n",
    "    nc = len(classes)\n",
    "    cbar = plt.colorbar(boundaries=np.arange(nc+1)-0.5)\n",
    "    cbar.set_ticks(np.arange(nc))\n",
    "    cbar.set_ticklabels(classes)\n",
    "    if title:\n",
    "        plt.title(title);\n",
    "        \n",
    "\n",
    "def split_data(x, y, n_ref_c, n_test_c, seed=None, y2=None):\n",
    "    \n",
    "    if seed:\n",
    "        np.random.seed(seed)\n",
    "    \n",
    "    # split data by class\n",
    "    n_c = len(np.unique(y))\n",
    "    idx_c = {_: np.where(y == _)[0] for _ in range(n_c)}\n",
    "    \n",
    "    # convert nb instances per class to a list if needed\n",
    "    n_ref_c = [n_ref_c] * n_c if isinstance(n_ref_c, int) else n_ref_c\n",
    "    n_test_c = [n_test_c] * n_c if isinstance(n_test_c, int) else n_test_c\n",
    "    \n",
    "    # sample reference, test and held out data\n",
    "    idx_ref, idx_test, idx_held = [], [], []\n",
    "    for _ in range(n_c):\n",
    "        idx = np.random.choice(idx_c[_], size=len(idx_c[_]), replace=False)\n",
    "        idx_ref.append(idx[:n_ref_c[_]])\n",
    "        idx_test.append(idx[n_ref_c[_]:n_ref_c[_] + n_test_c[_]])\n",
    "        idx_held.append(idx[n_ref_c[_] + n_test_c[_]:])\n",
    "    idx_ref = np.concatenate(idx_ref)\n",
    "    idx_test = np.concatenate(idx_test)\n",
    "    idx_held = np.concatenate(idx_held)\n",
    "    x_ref, y_ref = [x[_] for _ in idx_ref], y[idx_ref]\n",
    "    x_test, y_test = [x[_] for _ in idx_test], y[idx_test]\n",
    "    x_held, y_held = [x[_] for _ in idx_held], y[idx_held]\n",
    "    if y2 is not None:\n",
    "        y_ref2, y_test2, y_held2 = y2[idx_ref], y2[idx_test], y2[idx_held]\n",
    "        return (x_ref, y_ref, y_ref2), (x_test, y_test, y_test2), (x_held, y_held, y_held2)\n",
    "    else:\n",
    "        return (x_ref, y_ref), (x_test, y_test), (x_held, y_held)"
   ]
  },
  {
   "cell_type": "code",
   "execution_count": 9,
   "metadata": {},
   "outputs": [],
   "source": [
    "# initially assume equal distribution of topics in the reference data\n",
    "n_ref, n_test = 2000, 2000\n",
    "classes = dataset.target_names\n",
    "n_classes = len(classes)\n",
    "n_ref_c = n_ref // n_classes\n",
    "n_test_c = n_test // n_classes\n",
    "\n",
    "(x_ref, y_ref), (x_test, y_test), (x_held, y_held) = split_data(x_drift, y_drift, n_ref_c, n_test_c)"
   ]
  },
  {
   "cell_type": "markdown",
   "metadata": {},
   "source": [
    "We first define the embedding model using the pre-trained *SentenceTransformer* embeddings and then embed both the reference and test sets."
   ]
  },
  {
   "cell_type": "code",
   "execution_count": 10,
   "metadata": {},
   "outputs": [
    {
     "name": "stderr",
     "output_type": "stream",
     "text": [
      "INFO:sentence_transformers.SentenceTransformer:Load pretrained SentenceTransformer: paraphrase-MiniLM-L6-v2\n",
      "INFO:sentence_transformers.SentenceTransformer:Use pytorch device: cuda\n"
     ]
    },
    {
     "data": {
      "application/vnd.jupyter.widget-view+json": {
       "model_id": "e5fe359df48c4b6c952aa3dccca504b9",
       "version_major": 2,
       "version_minor": 0
      },
      "text/plain": [
       "Batches:   0%|          | 0/63 [00:00<?, ?it/s]"
      ]
     },
     "metadata": {},
     "output_type": "display_data"
    },
    {
     "data": {
      "application/vnd.jupyter.widget-view+json": {
       "model_id": "632d763a307d4690a17ba0ad42a03c2e",
       "version_major": 2,
       "version_minor": 0
      },
      "text/plain": [
       "Batches:   0%|          | 0/63 [00:00<?, ?it/s]"
      ]
     },
     "metadata": {},
     "output_type": "display_data"
    },
    {
     "name": "stdout",
     "output_type": "stream",
     "text": [
      "Shape of embedded reference and test data: (2000, 384) - (2000, 384)\n"
     ]
    }
   ],
   "source": [
    "model = EmbeddingModel()\n",
    "emb_ref = model(x_ref)\n",
    "emb_test = model(x_test)\n",
    "print(f'Shape of embedded reference and test data: {emb_ref.shape} - {emb_test.shape}')"
   ]
  },
  {
   "cell_type": "markdown",
   "metadata": {},
   "source": [
    "By applying UMAP clustering on the *SentenceTransformer* embeddings, we can visually inspect the various news topic clusters. Note that we fit the clustering model on the held out data first, and then make predictions on the reference and test sets."
   ]
  },
  {
   "cell_type": "code",
   "execution_count": 11,
   "metadata": {},
   "outputs": [
    {
     "data": {
      "application/vnd.jupyter.widget-view+json": {
       "model_id": "04066357e9cf40c8b96c6dd75d615d6c",
       "version_major": 2,
       "version_minor": 0
      },
      "text/plain": [
       "Batches:   0%|          | 0/308 [00:00<?, ?it/s]"
      ]
     },
     "metadata": {},
     "output_type": "display_data"
    },
    {
     "data": {
      "image/png": "[encoded data removed]",
      "text/plain": [
       "<Figure size 1008x720 with 2 Axes>"
      ]
     },
     "metadata": {
      "needs_background": "light"
     },
     "output_type": "display_data"
    },
    {
     "data": {
      "image/png": "[encoded data removed]",
      "text/plain": [
       "<Figure size 1008x720 with 2 Axes>"
      ]
     },
     "metadata": {
      "needs_background": "light"
     },
     "output_type": "display_data"
    }
   ],
   "source": [
    "umap_model = UMAPModel()\n",
    "emb_held = model(x_held)\n",
    "umap_model.fit(emb_held, y=y_held)\n",
    "cluster_ref = umap_model.predict(emb_ref)\n",
    "cluster_test = umap_model.predict(emb_test)\n",
    "plot_clusters(cluster_ref, y_ref, classes, title='Reference data: clustered news topics')\n",
    "plot_clusters(cluster_test, y_test, classes, title='Test data: clustered news topics')"
   ]
  },
  {
   "cell_type": "markdown",
   "metadata": {},
   "source": [
    "We can visually see that the reference and test set are made up of similar clusters of data, grouped by news topic. As a result, we would not expect drift to be flagged. If the data distribution did not change, we can expect the p-value distribution of our statistical test to be uniformly distributed between 0 and 1. So let's see if this assumption holds.\n",
    "\n",
    "Importantly, first we need to **define our context variable** for the context-aware MMD detector. In our experiments we allow the relative prevalence of subpopulations to vary while the distributions underlying each of the subpopulations remain unchanged. To achieve this we **condition on the prediction probabilities of the classifier we trained earlier to distinguish each of the 20 different news topics**. We can do this because the prediction probabilities can account for the frequency of occurrence of each of the topics (be it imperfectly given our classifier makes the occasional mistake)."
   ]
  },
  {
   "cell_type": "code",
   "execution_count": 12,
   "metadata": {},
   "outputs": [],
   "source": [
    "from scipy.special import softmax\n",
    "\n",
    "\n",
    "def context(x: List[str], y: np.ndarray):  # y only needed for the data loader\n",
    "    \"\"\" Condition on classifier prediction probabilities. \"\"\"\n",
    "    loader = DataLoader(TorchDataset(x, y), batch_size=32, shuffle=False)\n",
    "    logits = eval_model(clf.eval(), loader, verbose=0)[0]\n",
    "    return softmax(logits, -1)"
   ]
  },
  {
   "cell_type": "code",
   "execution_count": 13,
   "metadata": {
    "scrolled": true
   },
   "outputs": [
    {
     "name": "stderr",
     "output_type": "stream",
     "text": [
      "\r",
      "  0%|          | 0/50 [00:00<?, ?it/s]"
     ]
    },
    {
     "data": {
      "application/vnd.jupyter.widget-view+json": {
       "model_id": "47f6d071965949d4b61306a6fdea2e5f",
       "version_major": 2,
       "version_minor": 0
      },
      "text/plain": [
       "Batches:   0%|          | 0/63 [00:00<?, ?it/s]"
      ]
     },
     "metadata": {},
     "output_type": "display_data"
    },
    {
     "data": {
      "application/vnd.jupyter.widget-view+json": {
       "model_id": "e49e03acda494785afeedc04a8eeae8a",
       "version_major": 2,
       "version_minor": 0
      },
      "text/plain": [
       "Batches:   0%|          | 0/63 [00:00<?, ?it/s]"
      ]
     },
     "metadata": {},
     "output_type": "display_data"
    },
    {
     "name": "stderr",
     "output_type": "stream",
     "text": [
      "\r",
      "  2%|▏         | 1/50 [00:33<26:59, 33.04s/it]"
     ]
    },
    {
     "data": {
      "application/vnd.jupyter.widget-view+json": {
       "model_id": "5bba601969a844288835fc69861db19d",
       "version_major": 2,
       "version_minor": 0
      },
      "text/plain": [
       "Batches:   0%|          | 0/63 [00:00<?, ?it/s]"
      ]
     },
     "metadata": {},
     "output_type": "display_data"
    },
    {
     "data": {
      "application/vnd.jupyter.widget-view+json": {
       "model_id": "06300aaf50a049a4b84128ff75b53612",
       "version_major": 2,
       "version_minor": 0
      },
      "text/plain": [
       "Batches:   0%|          | 0/63 [00:00<?, ?it/s]"
      ]
     },
     "metadata": {},
     "output_type": "display_data"
    },
    {
     "name": "stderr",
     "output_type": "stream",
     "text": [
      "\r",
      "  4%|▍         | 2/50 [01:06<26:31, 33.15s/it]"
     ]
    },
    {
     "data": {
      "application/vnd.jupyter.widget-view+json": {
       "model_id": "dfe2e0c644824c3a8c096a848e26cfb7",
       "version_major": 2,
       "version_minor": 0
      },
      "text/plain": [
       "Batches:   0%|          | 0/63 [00:00<?, ?it/s]"
      ]
     },
     "metadata": {},
     "output_type": "display_data"
    },
    {
     "data": {
      "application/vnd.jupyter.widget-view+json": {
       "model_id": "8e2514d77d394d10954167f02030f836",
       "version_major": 2,
       "version_minor": 0
      },
      "text/plain": [
       "Batches:   0%|          | 0/63 [00:00<?, ?it/s]"
      ]
     },
     "metadata": {},
     "output_type": "display_data"
    },
    {
     "name": "stderr",
     "output_type": "stream",
     "text": [
      "\r",
      "  6%|▌         | 3/50 [01:39<25:57, 33.14s/it]"
     ]
    },
    {
     "data": {
      "application/vnd.jupyter.widget-view+json": {
       "model_id": "c41ce2361c634c8a8903ea27bc1aba27",
       "version_major": 2,
       "version_minor": 0
      },
      "text/plain": [
       "Batches:   0%|          | 0/63 [00:00<?, ?it/s]"
      ]
     },
     "metadata": {},
     "output_type": "display_data"
    },
    {
     "data": {
      "application/vnd.jupyter.widget-view+json": {
       "model_id": "4c53fd0cbf6b4e2ba6123344b5be1143",
       "version_major": 2,
       "version_minor": 0
      },
      "text/plain": [
       "Batches:   0%|          | 0/63 [00:00<?, ?it/s]"
      ]
     },
     "metadata": {},
     "output_type": "display_data"
    },
    {
     "name": "stderr",
     "output_type": "stream",
     "text": [
      "\r",
      "  8%|▊         | 4/50 [02:12<25:25, 33.16s/it]"
     ]
    },
    {
     "data": {
      "application/vnd.jupyter.widget-view+json": {
       "model_id": "6b2a34f88f3b4a3890fb1b7c0a83fdde",
       "version_major": 2,
       "version_minor": 0
      },
      "text/plain": [
       "Batches:   0%|          | 0/63 [00:00<?, ?it/s]"
      ]
     },
     "metadata": {},
     "output_type": "display_data"
    },
    {
     "data": {
      "application/vnd.jupyter.widget-view+json": {
       "model_id": "dbc1b800e884409cb7e4e019224a2c1a",
       "version_major": 2,
       "version_minor": 0
      },
      "text/plain": [
       "Batches:   0%|          | 0/63 [00:00<?, ?it/s]"
      ]
     },
     "metadata": {},
     "output_type": "display_data"
    },
    {
     "name": "stderr",
     "output_type": "stream",
     "text": [
      "\r",
      " 10%|█         | 5/50 [02:46<25:00, 33.35s/it]"
     ]
    },
    {
     "data": {
      "application/vnd.jupyter.widget-view+json": {
       "model_id": "fd020452691141f29b4f02706c063374",
       "version_major": 2,
       "version_minor": 0
      },
      "text/plain": [
       "Batches:   0%|          | 0/63 [00:00<?, ?it/s]"
      ]
     },
     "metadata": {},
     "output_type": "display_data"
    },
    {
     "data": {
      "application/vnd.jupyter.widget-view+json": {
       "model_id": "927e1f3ad41245ae9b060e912d6f83b3",
       "version_major": 2,
       "version_minor": 0
      },
      "text/plain": [
       "Batches:   0%|          | 0/63 [00:00<?, ?it/s]"
      ]
     },
     "metadata": {},
     "output_type": "display_data"
    },
    {
     "name": "stderr",
     "output_type": "stream",
     "text": [
      "\r",
      " 12%|█▏        | 6/50 [03:20<24:39, 33.63s/it]"
     ]
    },
    {
     "data": {
      "application/vnd.jupyter.widget-view+json": {
       "model_id": "933425f98fdf46d2823cf95eb8339196",
       "version_major": 2,
       "version_minor": 0
      },
      "text/plain": [
       "Batches:   0%|          | 0/63 [00:00<?, ?it/s]"
      ]
     },
     "metadata": {},
     "output_type": "display_data"
    },
    {
     "data": {
      "application/vnd.jupyter.widget-view+json": {
       "model_id": "2c0632de75fd4ca9bf7bfbaa4976e5cd",
       "version_major": 2,
       "version_minor": 0
      },
      "text/plain": [
       "Batches:   0%|          | 0/63 [00:00<?, ?it/s]"
      ]
     },
     "metadata": {},
     "output_type": "display_data"
    },
    {
     "name": "stderr",
     "output_type": "stream",
     "text": [
      "\r",
      " 14%|█▍        | 7/50 [03:54<24:13, 33.80s/it]"
     ]
    },
    {
     "data": {
      "application/vnd.jupyter.widget-view+json": {
       "model_id": "2f0326978faf401cb508d2f341f97232",
       "version_major": 2,
       "version_minor": 0
      },
      "text/plain": [
       "Batches:   0%|          | 0/63 [00:00<?, ?it/s]"
      ]
     },
     "metadata": {},
     "output_type": "display_data"
    },
    {
     "data": {
      "application/vnd.jupyter.widget-view+json": {
       "model_id": "2c6b4b2a6eab4438b228cdf34738c8de",
       "version_major": 2,
       "version_minor": 0
      },
      "text/plain": [
       "Batches:   0%|          | 0/63 [00:00<?, ?it/s]"
      ]
     },
     "metadata": {},
     "output_type": "display_data"
    },
    {
     "name": "stderr",
     "output_type": "stream",
     "text": [
      "\r",
      " 16%|█▌        | 8/50 [04:29<23:47, 34.00s/it]"
     ]
    },
    {
     "data": {
      "application/vnd.jupyter.widget-view+json": {
       "model_id": "ddf88ecc85d64490aa74b015bb4cbc29",
       "version_major": 2,
       "version_minor": 0
      },
      "text/plain": [
       "Batches:   0%|          | 0/63 [00:00<?, ?it/s]"
      ]
     },
     "metadata": {},
     "output_type": "display_data"
    },
    {
     "data": {
      "application/vnd.jupyter.widget-view+json": {
       "model_id": "57ea19f5216849d6a7e3de92ed0f9b61",
       "version_major": 2,
       "version_minor": 0
      },
      "text/plain": [
       "Batches:   0%|          | 0/63 [00:00<?, ?it/s]"
      ]
     },
     "metadata": {},
     "output_type": "display_data"
    },
    {
     "name": "stderr",
     "output_type": "stream",
     "text": [
      "\r",
      " 18%|█▊        | 9/50 [05:03<23:19, 34.14s/it]"
     ]
    },
    {
     "data": {
      "application/vnd.jupyter.widget-view+json": {
       "model_id": "de5fd4f4878446d8a0bb0bf82aa45d96",
       "version_major": 2,
       "version_minor": 0
      },
      "text/plain": [
       "Batches:   0%|          | 0/63 [00:00<?, ?it/s]"
      ]
     },
     "metadata": {},
     "output_type": "display_data"
    },
    {
     "data": {
      "application/vnd.jupyter.widget-view+json": {
       "model_id": "efb07875367a4682977ecd3d815e281c",
       "version_major": 2,
       "version_minor": 0
      },
      "text/plain": [
       "Batches:   0%|          | 0/63 [00:00<?, ?it/s]"
      ]
     },
     "metadata": {},
     "output_type": "display_data"
    },
    {
     "name": "stderr",
     "output_type": "stream",
     "text": [
      "\r",
      " 20%|██        | 10/50 [05:38<22:54, 34.36s/it]"
     ]
    },
    {
     "data": {
      "application/vnd.jupyter.widget-view+json": {
       "model_id": "741059442ebd45949ce2d95bc689d2d9",
       "version_major": 2,
       "version_minor": 0
      },
      "text/plain": [
       "Batches:   0%|          | 0/63 [00:00<?, ?it/s]"
      ]
     },
     "metadata": {},
     "output_type": "display_data"
    },
    {
     "data": {
      "application/vnd.jupyter.widget-view+json": {
       "model_id": "0c2b8fe323a24de5999a78cf089c3f92",
       "version_major": 2,
       "version_minor": 0
      },
      "text/plain": [
       "Batches:   0%|          | 0/63 [00:00<?, ?it/s]"
      ]
     },
     "metadata": {},
     "output_type": "display_data"
    },
    {
     "name": "stderr",
     "output_type": "stream",
     "text": [
      "\r",
      " 22%|██▏       | 11/50 [06:13<22:23, 34.46s/it]"
     ]
    },
    {
     "data": {
      "application/vnd.jupyter.widget-view+json": {
       "model_id": "1b1014322c9d4273b8313f4433cd9c3c",
       "version_major": 2,
       "version_minor": 0
      },
      "text/plain": [
       "Batches:   0%|          | 0/63 [00:00<?, ?it/s]"
      ]
     },
     "metadata": {},
     "output_type": "display_data"
    },
    {
     "data": {
      "application/vnd.jupyter.widget-view+json": {
       "model_id": "602a1c68546d43b9aec1586f465550cc",
       "version_major": 2,
       "version_minor": 0
      },
      "text/plain": [
       "Batches:   0%|          | 0/63 [00:00<?, ?it/s]"
      ]
     },
     "metadata": {},
     "output_type": "display_data"
    },
    {
     "name": "stderr",
     "output_type": "stream",
     "text": [
      "\r",
      " 24%|██▍       | 12/50 [06:47<21:52, 34.53s/it]"
     ]
    },
    {
     "data": {
      "application/vnd.jupyter.widget-view+json": {
       "model_id": "ac3d0c34ceea44128042b1cb5e06f847",
       "version_major": 2,
       "version_minor": 0
      },
      "text/plain": [
       "Batches:   0%|          | 0/63 [00:00<?, ?it/s]"
      ]
     },
     "metadata": {},
     "output_type": "display_data"
    },
    {
     "data": {
      "application/vnd.jupyter.widget-view+json": {
       "model_id": "7c4dad8060e84709a4d6d8aa46c1c373",
       "version_major": 2,
       "version_minor": 0
      },
      "text/plain": [
       "Batches:   0%|          | 0/63 [00:00<?, ?it/s]"
      ]
     },
     "metadata": {},
     "output_type": "display_data"
    },
    {
     "name": "stderr",
     "output_type": "stream",
     "text": [
      "\r",
      " 26%|██▌       | 13/50 [07:21<21:14, 34.45s/it]"
     ]
    },
    {
     "data": {
      "application/vnd.jupyter.widget-view+json": {
       "model_id": "39fa86a1fe654f16b6862156f30bc6d9",
       "version_major": 2,
       "version_minor": 0
      },
      "text/plain": [
       "Batches:   0%|          | 0/63 [00:00<?, ?it/s]"
      ]
     },
     "metadata": {},
     "output_type": "display_data"
    },
    {
     "data": {
      "application/vnd.jupyter.widget-view+json": {
       "model_id": "bfbdb13eb5234c0aa452cd48fcaab531",
       "version_major": 2,
       "version_minor": 0
      },
      "text/plain": [
       "Batches:   0%|          | 0/63 [00:00<?, ?it/s]"
      ]
     },
     "metadata": {},
     "output_type": "display_data"
    },
    {
     "name": "stderr",
     "output_type": "stream",
     "text": [
      "\r",
      " 28%|██▊       | 14/50 [07:56<20:45, 34.61s/it]"
     ]
    },
    {
     "data": {
      "application/vnd.jupyter.widget-view+json": {
       "model_id": "c10eda171779488dae5d3f09d5dccc2b",
       "version_major": 2,
       "version_minor": 0
      },
      "text/plain": [
       "Batches:   0%|          | 0/63 [00:00<?, ?it/s]"
      ]
     },
     "metadata": {},
     "output_type": "display_data"
    },
    {
     "data": {
      "application/vnd.jupyter.widget-view+json": {
       "model_id": "6d731ad83e53485ba9c3cae3e723898e",
       "version_major": 2,
       "version_minor": 0
      },
      "text/plain": [
       "Batches:   0%|          | 0/63 [00:00<?, ?it/s]"
      ]
     },
     "metadata": {},
     "output_type": "display_data"
    },
    {
     "name": "stderr",
     "output_type": "stream",
     "text": [
      "\r",
      " 30%|███       | 15/50 [08:32<20:19, 34.85s/it]"
     ]
    },
    {
     "data": {
      "application/vnd.jupyter.widget-view+json": {
       "model_id": "a2e7ec2c2fb24c47b08d0c7fe15680f6",
       "version_major": 2,
       "version_minor": 0
      },
      "text/plain": [
       "Batches:   0%|          | 0/63 [00:00<?, ?it/s]"
      ]
     },
     "metadata": {},
     "output_type": "display_data"
    },
    {
     "data": {
      "application/vnd.jupyter.widget-view+json": {
       "model_id": "e1f5ee792f3f4f73bc15a34d01e86f57",
       "version_major": 2,
       "version_minor": 0
      },
      "text/plain": [
       "Batches:   0%|          | 0/63 [00:00<?, ?it/s]"
      ]
     },
     "metadata": {},
     "output_type": "display_data"
    },
    {
     "name": "stderr",
     "output_type": "stream",
     "text": [
      "\r",
      " 32%|███▏      | 16/50 [09:08<19:57, 35.22s/it]"
     ]
    },
    {
     "data": {
      "application/vnd.jupyter.widget-view+json": {
       "model_id": "6f956e30781d46f1bcb96da4f945400a",
       "version_major": 2,
       "version_minor": 0
      },
      "text/plain": [
       "Batches:   0%|          | 0/63 [00:00<?, ?it/s]"
      ]
     },
     "metadata": {},
     "output_type": "display_data"
    },
    {
     "data": {
      "application/vnd.jupyter.widget-view+json": {
       "model_id": "7ca2220f68c040ba9a88560d2bd331b8",
       "version_major": 2,
       "version_minor": 0
      },
      "text/plain": [
       "Batches:   0%|          | 0/63 [00:00<?, ?it/s]"
      ]
     },
     "metadata": {},
     "output_type": "display_data"
    },
    {
     "name": "stderr",
     "output_type": "stream",
     "text": [
      "\r",
      " 34%|███▍      | 17/50 [09:44<19:28, 35.40s/it]"
     ]
    },
    {
     "data": {
      "application/vnd.jupyter.widget-view+json": {
       "model_id": "215055e3d77a4b00a523ba184634085a",
       "version_major": 2,
       "version_minor": 0
      },
      "text/plain": [
       "Batches:   0%|          | 0/63 [00:00<?, ?it/s]"
      ]
     },
     "metadata": {},
     "output_type": "display_data"
    },
    {
     "data": {
      "application/vnd.jupyter.widget-view+json": {
       "model_id": "fba530c9a52442a29d8d6d942e432b52",
       "version_major": 2,
       "version_minor": 0
      },
      "text/plain": [
       "Batches:   0%|          | 0/63 [00:00<?, ?it/s]"
      ]
     },
     "metadata": {},
     "output_type": "display_data"
    },
    {
     "name": "stderr",
     "output_type": "stream",
     "text": [
      "\r",
      " 36%|███▌      | 18/50 [10:20<18:59, 35.61s/it]"
     ]
    },
    {
     "data": {
      "application/vnd.jupyter.widget-view+json": {
       "model_id": "a7389fc652c642b8aa7caf071c2a758e",
       "version_major": 2,
       "version_minor": 0
      },
      "text/plain": [
       "Batches:   0%|          | 0/63 [00:00<?, ?it/s]"
      ]
     },
     "metadata": {},
     "output_type": "display_data"
    },
    {
     "data": {
      "application/vnd.jupyter.widget-view+json": {
       "model_id": "1c1d2ea5785247d585008335839d49ef",
       "version_major": 2,
       "version_minor": 0
      },
      "text/plain": [
       "Batches:   0%|          | 0/63 [00:00<?, ?it/s]"
      ]
     },
     "metadata": {},
     "output_type": "display_data"
    },
    {
     "name": "stderr",
     "output_type": "stream",
     "text": [
      "\r",
      " 38%|███▊      | 19/50 [10:55<18:23, 35.61s/it]"
     ]
    },
    {
     "data": {
      "application/vnd.jupyter.widget-view+json": {
       "model_id": "f1d25bf221544f708200f862a12f71dd",
       "version_major": 2,
       "version_minor": 0
      },
      "text/plain": [
       "Batches:   0%|          | 0/63 [00:00<?, ?it/s]"
      ]
     },
     "metadata": {},
     "output_type": "display_data"
    },
    {
     "data": {
      "application/vnd.jupyter.widget-view+json": {
       "model_id": "4b4e4e4532bf43db8a7d3b964bbbee8c",
       "version_major": 2,
       "version_minor": 0
      },
      "text/plain": [
       "Batches:   0%|          | 0/63 [00:00<?, ?it/s]"
      ]
     },
     "metadata": {},
     "output_type": "display_data"
    },
    {
     "name": "stderr",
     "output_type": "stream",
     "text": [
      "\r",
      " 40%|████      | 20/50 [11:31<17:49, 35.66s/it]"
     ]
    },
    {
     "data": {
      "application/vnd.jupyter.widget-view+json": {
       "model_id": "23af35f1385040009c8ae595823424fd",
       "version_major": 2,
       "version_minor": 0
      },
      "text/plain": [
       "Batches:   0%|          | 0/63 [00:00<?, ?it/s]"
      ]
     },
     "metadata": {},
     "output_type": "display_data"
    },
    {
     "data": {
      "application/vnd.jupyter.widget-view+json": {
       "model_id": "2a404fb87cad44c095efdcf450c477b8",
       "version_major": 2,
       "version_minor": 0
      },
      "text/plain": [
       "Batches:   0%|          | 0/63 [00:00<?, ?it/s]"
      ]
     },
     "metadata": {},
     "output_type": "display_data"
    },
    {
     "name": "stderr",
     "output_type": "stream",
     "text": [
      "\r",
      " 42%|████▏     | 21/50 [12:07<17:15, 35.69s/it]"
     ]
    },
    {
     "data": {
      "application/vnd.jupyter.widget-view+json": {
       "model_id": "d7b330c2f5c745b79a72ccf086e974ff",
       "version_major": 2,
       "version_minor": 0
      },
      "text/plain": [
       "Batches:   0%|          | 0/63 [00:00<?, ?it/s]"
      ]
     },
     "metadata": {},
     "output_type": "display_data"
    },
    {
     "data": {
      "application/vnd.jupyter.widget-view+json": {
       "model_id": "fc65988173b147da918b8fdcfdff16e8",
       "version_major": 2,
       "version_minor": 0
      },
      "text/plain": [
       "Batches:   0%|          | 0/63 [00:00<?, ?it/s]"
      ]
     },
     "metadata": {},
     "output_type": "display_data"
    },
    {
     "name": "stderr",
     "output_type": "stream",
     "text": [
      "\r",
      " 44%|████▍     | 22/50 [12:42<16:32, 35.44s/it]"
     ]
    },
    {
     "data": {
      "application/vnd.jupyter.widget-view+json": {
       "model_id": "8cd77132c5324a69bd99d773d8c9139b",
       "version_major": 2,
       "version_minor": 0
      },
      "text/plain": [
       "Batches:   0%|          | 0/63 [00:00<?, ?it/s]"
      ]
     },
     "metadata": {},
     "output_type": "display_data"
    },
    {
     "data": {
      "application/vnd.jupyter.widget-view+json": {
       "model_id": "6f976304c8604778a267586897ac822d",
       "version_major": 2,
       "version_minor": 0
      },
      "text/plain": [
       "Batches:   0%|          | 0/63 [00:00<?, ?it/s]"
      ]
     },
     "metadata": {},
     "output_type": "display_data"
    },
    {
     "name": "stderr",
     "output_type": "stream",
     "text": [
      "\r",
      " 46%|████▌     | 23/50 [13:17<15:51, 35.22s/it]"
     ]
    },
    {
     "data": {
      "application/vnd.jupyter.widget-view+json": {
       "model_id": "7d4ed2c864eb4bfd870a86ebc7167c17",
       "version_major": 2,
       "version_minor": 0
      },
      "text/plain": [
       "Batches:   0%|          | 0/63 [00:00<?, ?it/s]"
      ]
     },
     "metadata": {},
     "output_type": "display_data"
    },
    {
     "data": {
      "application/vnd.jupyter.widget-view+json": {
       "model_id": "dc1c0337c8ca40db99bebe9942d6bfeb",
       "version_major": 2,
       "version_minor": 0
      },
      "text/plain": [
       "Batches:   0%|          | 0/63 [00:00<?, ?it/s]"
      ]
     },
     "metadata": {},
     "output_type": "display_data"
    },
    {
     "name": "stderr",
     "output_type": "stream",
     "text": [
      "\r",
      " 48%|████▊     | 24/50 [13:51<15:10, 35.04s/it]"
     ]
    },
    {
     "data": {
      "application/vnd.jupyter.widget-view+json": {
       "model_id": "5956f51c39094ae18efb7259d4f26936",
       "version_major": 2,
       "version_minor": 0
      },
      "text/plain": [
       "Batches:   0%|          | 0/63 [00:00<?, ?it/s]"
      ]
     },
     "metadata": {},
     "output_type": "display_data"
    },
    {
     "data": {
      "application/vnd.jupyter.widget-view+json": {
       "model_id": "80c1184418104c7d9b464d0f02ec910e",
       "version_major": 2,
       "version_minor": 0
      },
      "text/plain": [
       "Batches:   0%|          | 0/63 [00:00<?, ?it/s]"
      ]
     },
     "metadata": {},
     "output_type": "display_data"
    },
    {
     "name": "stderr",
     "output_type": "stream",
     "text": [
      "\r",
      " 50%|█████     | 25/50 [14:26<14:33, 34.94s/it]"
     ]
    },
    {
     "data": {
      "application/vnd.jupyter.widget-view+json": {
       "model_id": "211bd3cce7004bc2ad5fd9473e622d7f",
       "version_major": 2,
       "version_minor": 0
      },
      "text/plain": [
       "Batches:   0%|          | 0/63 [00:00<?, ?it/s]"
      ]
     },
     "metadata": {},
     "output_type": "display_data"
    },
    {
     "data": {
      "application/vnd.jupyter.widget-view+json": {
       "model_id": "9928aefee81742aeb97077532cbbf258",
       "version_major": 2,
       "version_minor": 0
      },
      "text/plain": [
       "Batches:   0%|          | 0/63 [00:00<?, ?it/s]"
      ]
     },
     "metadata": {},
     "output_type": "display_data"
    },
    {
     "name": "stderr",
     "output_type": "stream",
     "text": [
      "\r",
      " 52%|█████▏    | 26/50 [15:00<13:53, 34.72s/it]"
     ]
    },
    {
     "data": {
      "application/vnd.jupyter.widget-view+json": {
       "model_id": "ebf0a50ed2ea4c04b4a02235b5e65f52",
       "version_major": 2,
       "version_minor": 0
      },
      "text/plain": [
       "Batches:   0%|          | 0/63 [00:00<?, ?it/s]"
      ]
     },
     "metadata": {},
     "output_type": "display_data"
    },
    {
     "data": {
      "application/vnd.jupyter.widget-view+json": {
       "model_id": "63f1f298bb8044959b89efd63102762b",
       "version_major": 2,
       "version_minor": 0
      },
      "text/plain": [
       "Batches:   0%|          | 0/63 [00:00<?, ?it/s]"
      ]
     },
     "metadata": {},
     "output_type": "display_data"
    },
    {
     "name": "stderr",
     "output_type": "stream",
     "text": [
      "\r",
      " 54%|█████▍    | 27/50 [15:35<13:18, 34.74s/it]"
     ]
    },
    {
     "data": {
      "application/vnd.jupyter.widget-view+json": {
       "model_id": "5704c70a3c934db2aa51f02edb387541",
       "version_major": 2,
       "version_minor": 0
      },
      "text/plain": [
       "Batches:   0%|          | 0/63 [00:00<?, ?it/s]"
      ]
     },
     "metadata": {},
     "output_type": "display_data"
    },
    {
     "data": {
      "application/vnd.jupyter.widget-view+json": {
       "model_id": "5bfcf78433154061b2821b146ff10c47",
       "version_major": 2,
       "version_minor": 0
      },
      "text/plain": [
       "Batches:   0%|          | 0/63 [00:00<?, ?it/s]"
      ]
     },
     "metadata": {},
     "output_type": "display_data"
    },
    {
     "name": "stderr",
     "output_type": "stream",
     "text": [
      "\r",
      " 56%|█████▌    | 28/50 [16:09<12:42, 34.68s/it]"
     ]
    },
    {
     "data": {
      "application/vnd.jupyter.widget-view+json": {
       "model_id": "ab33174b67bd40b69750b72aa5df5990",
       "version_major": 2,
       "version_minor": 0
      },
      "text/plain": [
       "Batches:   0%|          | 0/63 [00:00<?, ?it/s]"
      ]
     },
     "metadata": {},
     "output_type": "display_data"
    },
    {
     "data": {
      "application/vnd.jupyter.widget-view+json": {
       "model_id": "ac0632573789457cbffad2d42cbfc9c8",
       "version_major": 2,
       "version_minor": 0
      },
      "text/plain": [
       "Batches:   0%|          | 0/63 [00:00<?, ?it/s]"
      ]
     },
     "metadata": {},
     "output_type": "display_data"
    },
    {
     "name": "stderr",
     "output_type": "stream",
     "text": [
      "\r",
      " 58%|█████▊    | 29/50 [16:44<12:06, 34.61s/it]"
     ]
    },
    {
     "data": {
      "application/vnd.jupyter.widget-view+json": {
       "model_id": "a6bc8aa031164dde9d9a53b6cf2957d7",
       "version_major": 2,
       "version_minor": 0
      },
      "text/plain": [
       "Batches:   0%|          | 0/63 [00:00<?, ?it/s]"
      ]
     },
     "metadata": {},
     "output_type": "display_data"
    },
    {
     "data": {
      "application/vnd.jupyter.widget-view+json": {
       "model_id": "fa3fcc707f4b4a17b1521a4ff3717093",
       "version_major": 2,
       "version_minor": 0
      },
      "text/plain": [
       "Batches:   0%|          | 0/63 [00:00<?, ?it/s]"
      ]
     },
     "metadata": {},
     "output_type": "display_data"
    },
    {
     "name": "stderr",
     "output_type": "stream",
     "text": [
      "\r",
      " 60%|██████    | 30/50 [17:18<11:31, 34.55s/it]"
     ]
    },
    {
     "data": {
      "application/vnd.jupyter.widget-view+json": {
       "model_id": "f77ad93122bf4fc98ce112f85856433f",
       "version_major": 2,
       "version_minor": 0
      },
      "text/plain": [
       "Batches:   0%|          | 0/63 [00:00<?, ?it/s]"
      ]
     },
     "metadata": {},
     "output_type": "display_data"
    },
    {
     "data": {
      "application/vnd.jupyter.widget-view+json": {
       "model_id": "85e7475bed414e24bce362e5f2b2e012",
       "version_major": 2,
       "version_minor": 0
      },
      "text/plain": [
       "Batches:   0%|          | 0/63 [00:00<?, ?it/s]"
      ]
     },
     "metadata": {},
     "output_type": "display_data"
    },
    {
     "name": "stderr",
     "output_type": "stream",
     "text": [
      "\r",
      " 62%|██████▏   | 31/50 [17:53<10:58, 34.64s/it]"
     ]
    },
    {
     "data": {
      "application/vnd.jupyter.widget-view+json": {
       "model_id": "11c4254e3e1c4f51b6d0f9cae0d44d20",
       "version_major": 2,
       "version_minor": 0
      },
      "text/plain": [
       "Batches:   0%|          | 0/63 [00:00<?, ?it/s]"
      ]
     },
     "metadata": {},
     "output_type": "display_data"
    },
    {
     "data": {
      "application/vnd.jupyter.widget-view+json": {
       "model_id": "3a4a29cd44fa4e3d8cf1b0b3666e0afa",
       "version_major": 2,
       "version_minor": 0
      },
      "text/plain": [
       "Batches:   0%|          | 0/63 [00:00<?, ?it/s]"
      ]
     },
     "metadata": {},
     "output_type": "display_data"
    },
    {
     "name": "stderr",
     "output_type": "stream",
     "text": [
      "\r",
      " 64%|██████▍   | 32/50 [18:28<10:23, 34.66s/it]"
     ]
    },
    {
     "data": {
      "application/vnd.jupyter.widget-view+json": {
       "model_id": "fe0632cef5aa4f04bcaccfe804b72227",
       "version_major": 2,
       "version_minor": 0
      },
      "text/plain": [
       "Batches:   0%|          | 0/63 [00:00<?, ?it/s]"
      ]
     },
     "metadata": {},
     "output_type": "display_data"
    },
    {
     "data": {
      "application/vnd.jupyter.widget-view+json": {
       "model_id": "e9584ee79a7345eba4ffd9b2fa8afa5d",
       "version_major": 2,
       "version_minor": 0
      },
      "text/plain": [
       "Batches:   0%|          | 0/63 [00:00<?, ?it/s]"
      ]
     },
     "metadata": {},
     "output_type": "display_data"
    },
    {
     "name": "stderr",
     "output_type": "stream",
     "text": [
      "\r",
      " 66%|██████▌   | 33/50 [19:03<09:50, 34.71s/it]"
     ]
    },
    {
     "data": {
      "application/vnd.jupyter.widget-view+json": {
       "model_id": "546cf1ef3e584207a775714f91599598",
       "version_major": 2,
       "version_minor": 0
      },
      "text/plain": [
       "Batches:   0%|          | 0/63 [00:00<?, ?it/s]"
      ]
     },
     "metadata": {},
     "output_type": "display_data"
    },
    {
     "data": {
      "application/vnd.jupyter.widget-view+json": {
       "model_id": "e9c2a24bbfb847a5812c0d610c758fce",
       "version_major": 2,
       "version_minor": 0
      },
      "text/plain": [
       "Batches:   0%|          | 0/63 [00:00<?, ?it/s]"
      ]
     },
     "metadata": {},
     "output_type": "display_data"
    },
    {
     "name": "stderr",
     "output_type": "stream",
     "text": [
      "\r",
      " 68%|██████▊   | 34/50 [19:37<09:14, 34.65s/it]"
     ]
    },
    {
     "data": {
      "application/vnd.jupyter.widget-view+json": {
       "model_id": "defc32272a4b4234b24eb10473b8ccda",
       "version_major": 2,
       "version_minor": 0
      },
      "text/plain": [
       "Batches:   0%|          | 0/63 [00:00<?, ?it/s]"
      ]
     },
     "metadata": {},
     "output_type": "display_data"
    },
    {
     "data": {
      "application/vnd.jupyter.widget-view+json": {
       "model_id": "9ae28dbd9ec34a069a6ab0e6ac962fc0",
       "version_major": 2,
       "version_minor": 0
      },
      "text/plain": [
       "Batches:   0%|          | 0/63 [00:00<?, ?it/s]"
      ]
     },
     "metadata": {},
     "output_type": "display_data"
    },
    {
     "name": "stderr",
     "output_type": "stream",
     "text": [
      "\r",
      " 70%|███████   | 35/50 [20:12<08:40, 34.68s/it]"
     ]
    },
    {
     "data": {
      "application/vnd.jupyter.widget-view+json": {
       "model_id": "8788babf2cfa49b6aaeab7edb98ce31f",
       "version_major": 2,
       "version_minor": 0
      },
      "text/plain": [
       "Batches:   0%|          | 0/63 [00:00<?, ?it/s]"
      ]
     },
     "metadata": {},
     "output_type": "display_data"
    },
    {
     "data": {
      "application/vnd.jupyter.widget-view+json": {
       "model_id": "9c5d9946b76344019fcd8ae9558d8190",
       "version_major": 2,
       "version_minor": 0
      },
      "text/plain": [
       "Batches:   0%|          | 0/63 [00:00<?, ?it/s]"
      ]
     },
     "metadata": {},
     "output_type": "display_data"
    },
    {
     "name": "stderr",
     "output_type": "stream",
     "text": [
      "\r",
      " 72%|███████▏  | 36/50 [20:48<08:10, 35.05s/it]"
     ]
    },
    {
     "data": {
      "application/vnd.jupyter.widget-view+json": {
       "model_id": "c4ce0a8a1e48423594485cb36463e080",
       "version_major": 2,
       "version_minor": 0
      },
      "text/plain": [
       "Batches:   0%|          | 0/63 [00:00<?, ?it/s]"
      ]
     },
     "metadata": {},
     "output_type": "display_data"
    },
    {
     "data": {
      "application/vnd.jupyter.widget-view+json": {
       "model_id": "95716830438f48d5ac0617e73868ad95",
       "version_major": 2,
       "version_minor": 0
      },
      "text/plain": [
       "Batches:   0%|          | 0/63 [00:00<?, ?it/s]"
      ]
     },
     "metadata": {},
     "output_type": "display_data"
    },
    {
     "name": "stderr",
     "output_type": "stream",
     "text": [
      "\r",
      " 74%|███████▍  | 37/50 [21:24<07:38, 35.30s/it]"
     ]
    },
    {
     "data": {
      "application/vnd.jupyter.widget-view+json": {
       "model_id": "b4ff45baa74c4302b326c48137e0b150",
       "version_major": 2,
       "version_minor": 0
      },
      "text/plain": [
       "Batches:   0%|          | 0/63 [00:00<?, ?it/s]"
      ]
     },
     "metadata": {},
     "output_type": "display_data"
    },
    {
     "data": {
      "application/vnd.jupyter.widget-view+json": {
       "model_id": "b8b12b3d20f14f389b7d82e84e5074eb",
       "version_major": 2,
       "version_minor": 0
      },
      "text/plain": [
       "Batches:   0%|          | 0/63 [00:00<?, ?it/s]"
      ]
     },
     "metadata": {},
     "output_type": "display_data"
    },
    {
     "name": "stderr",
     "output_type": "stream",
     "text": [
      "\r",
      " 76%|███████▌  | 38/50 [21:59<07:04, 35.39s/it]"
     ]
    },
    {
     "data": {
      "application/vnd.jupyter.widget-view+json": {
       "model_id": "79f97607040f47a38fe50e43d271ec38",
       "version_major": 2,
       "version_minor": 0
      },
      "text/plain": [
       "Batches:   0%|          | 0/63 [00:00<?, ?it/s]"
      ]
     },
     "metadata": {},
     "output_type": "display_data"
    },
    {
     "data": {
      "application/vnd.jupyter.widget-view+json": {
       "model_id": "807396108f0749fcb50888ac004337ae",
       "version_major": 2,
       "version_minor": 0
      },
      "text/plain": [
       "Batches:   0%|          | 0/63 [00:00<?, ?it/s]"
      ]
     },
     "metadata": {},
     "output_type": "display_data"
    },
    {
     "name": "stderr",
     "output_type": "stream",
     "text": [
      "\r",
      " 78%|███████▊  | 39/50 [22:35<06:30, 35.50s/it]"
     ]
    },
    {
     "data": {
      "application/vnd.jupyter.widget-view+json": {
       "model_id": "219dbb347d144352b401c17e9edd5396",
       "version_major": 2,
       "version_minor": 0
      },
      "text/plain": [
       "Batches:   0%|          | 0/63 [00:00<?, ?it/s]"
      ]
     },
     "metadata": {},
     "output_type": "display_data"
    },
    {
     "data": {
      "application/vnd.jupyter.widget-view+json": {
       "model_id": "0e0dc10af744400c987f153238e9b81c",
       "version_major": 2,
       "version_minor": 0
      },
      "text/plain": [
       "Batches:   0%|          | 0/63 [00:00<?, ?it/s]"
      ]
     },
     "metadata": {},
     "output_type": "display_data"
    },
    {
     "name": "stderr",
     "output_type": "stream",
     "text": [
      "\r",
      " 80%|████████  | 40/50 [23:11<05:56, 35.60s/it]"
     ]
    },
    {
     "data": {
      "application/vnd.jupyter.widget-view+json": {
       "model_id": "e6dd8354a50d4cbb80d159a4ef122bdf",
       "version_major": 2,
       "version_minor": 0
      },
      "text/plain": [
       "Batches:   0%|          | 0/63 [00:00<?, ?it/s]"
      ]
     },
     "metadata": {},
     "output_type": "display_data"
    },
    {
     "data": {
      "application/vnd.jupyter.widget-view+json": {
       "model_id": "c73d8edb08de4cc79c2a041777ac28f7",
       "version_major": 2,
       "version_minor": 0
      },
      "text/plain": [
       "Batches:   0%|          | 0/63 [00:00<?, ?it/s]"
      ]
     },
     "metadata": {},
     "output_type": "display_data"
    },
    {
     "name": "stderr",
     "output_type": "stream",
     "text": [
      "\r",
      " 82%|████████▏ | 41/50 [23:47<05:21, 35.75s/it]"
     ]
    },
    {
     "data": {
      "application/vnd.jupyter.widget-view+json": {
       "model_id": "eeb402a0d3974ce698952334a54c1978",
       "version_major": 2,
       "version_minor": 0
      },
      "text/plain": [
       "Batches:   0%|          | 0/63 [00:00<?, ?it/s]"
      ]
     },
     "metadata": {},
     "output_type": "display_data"
    },
    {
     "data": {
      "application/vnd.jupyter.widget-view+json": {
       "model_id": "6c7bfc06e179449095d57f8966dfb935",
       "version_major": 2,
       "version_minor": 0
      },
      "text/plain": [
       "Batches:   0%|          | 0/63 [00:00<?, ?it/s]"
      ]
     },
     "metadata": {},
     "output_type": "display_data"
    },
    {
     "name": "stderr",
     "output_type": "stream",
     "text": [
      "\r",
      " 84%|████████▍ | 42/50 [24:23<04:47, 35.93s/it]"
     ]
    },
    {
     "data": {
      "application/vnd.jupyter.widget-view+json": {
       "model_id": "abceea94c0d94374bce149dc95268339",
       "version_major": 2,
       "version_minor": 0
      },
      "text/plain": [
       "Batches:   0%|          | 0/63 [00:00<?, ?it/s]"
      ]
     },
     "metadata": {},
     "output_type": "display_data"
    },
    {
     "data": {
      "application/vnd.jupyter.widget-view+json": {
       "model_id": "3547d8a5092f450a930beb33570311a1",
       "version_major": 2,
       "version_minor": 0
      },
      "text/plain": [
       "Batches:   0%|          | 0/63 [00:00<?, ?it/s]"
      ]
     },
     "metadata": {},
     "output_type": "display_data"
    },
    {
     "name": "stderr",
     "output_type": "stream",
     "text": [
      "\r",
      " 86%|████████▌ | 43/50 [24:59<04:11, 35.94s/it]"
     ]
    },
    {
     "data": {
      "application/vnd.jupyter.widget-view+json": {
       "model_id": "f9b63a10fe444ffdbd7e77adfa618e90",
       "version_major": 2,
       "version_minor": 0
      },
      "text/plain": [
       "Batches:   0%|          | 0/63 [00:00<?, ?it/s]"
      ]
     },
     "metadata": {},
     "output_type": "display_data"
    },
    {
     "data": {
      "application/vnd.jupyter.widget-view+json": {
       "model_id": "1d120f1b6e73494fa7d160ae8edb49b0",
       "version_major": 2,
       "version_minor": 0
      },
      "text/plain": [
       "Batches:   0%|          | 0/63 [00:00<?, ?it/s]"
      ]
     },
     "metadata": {},
     "output_type": "display_data"
    },
    {
     "name": "stderr",
     "output_type": "stream",
     "text": [
      "\r",
      " 88%|████████▊ | 44/50 [25:35<03:35, 35.88s/it]"
     ]
    },
    {
     "data": {
      "application/vnd.jupyter.widget-view+json": {
       "model_id": "bd206a182cf54415922ea3303766449f",
       "version_major": 2,
       "version_minor": 0
      },
      "text/plain": [
       "Batches:   0%|          | 0/63 [00:00<?, ?it/s]"
      ]
     },
     "metadata": {},
     "output_type": "display_data"
    },
    {
     "data": {
      "application/vnd.jupyter.widget-view+json": {
       "model_id": "83afac1a5fb944b99a71e95288017386",
       "version_major": 2,
       "version_minor": 0
      },
      "text/plain": [
       "Batches:   0%|          | 0/63 [00:00<?, ?it/s]"
      ]
     },
     "metadata": {},
     "output_type": "display_data"
    },
    {
     "name": "stderr",
     "output_type": "stream",
     "text": [
      "\r",
      " 90%|█████████ | 45/50 [26:11<02:59, 35.89s/it]"
     ]
    },
    {
     "data": {
      "application/vnd.jupyter.widget-view+json": {
       "model_id": "841c32621150490a89f50cc292370add",
       "version_major": 2,
       "version_minor": 0
      },
      "text/plain": [
       "Batches:   0%|          | 0/63 [00:00<?, ?it/s]"
      ]
     },
     "metadata": {},
     "output_type": "display_data"
    },
    {
     "data": {
      "application/vnd.jupyter.widget-view+json": {
       "model_id": "7317445f13c1453e82f13380fba3beab",
       "version_major": 2,
       "version_minor": 0
      },
      "text/plain": [
       "Batches:   0%|          | 0/63 [00:00<?, ?it/s]"
      ]
     },
     "metadata": {},
     "output_type": "display_data"
    },
    {
     "name": "stderr",
     "output_type": "stream",
     "text": [
      "\r",
      " 92%|█████████▏| 46/50 [26:46<02:23, 35.78s/it]"
     ]
    },
    {
     "data": {
      "application/vnd.jupyter.widget-view+json": {
       "model_id": "edd4fb48e0ac4fc28cb798e69b2fbb39",
       "version_major": 2,
       "version_minor": 0
      },
      "text/plain": [
       "Batches:   0%|          | 0/63 [00:00<?, ?it/s]"
      ]
     },
     "metadata": {},
     "output_type": "display_data"
    },
    {
     "data": {
      "application/vnd.jupyter.widget-view+json": {
       "model_id": "016bad70583e49cfb7aea3578b45b53c",
       "version_major": 2,
       "version_minor": 0
      },
      "text/plain": [
       "Batches:   0%|          | 0/63 [00:00<?, ?it/s]"
      ]
     },
     "metadata": {},
     "output_type": "display_data"
    },
    {
     "name": "stderr",
     "output_type": "stream",
     "text": [
      "\r",
      " 94%|█████████▍| 47/50 [27:22<01:47, 35.76s/it]"
     ]
    },
    {
     "data": {
      "application/vnd.jupyter.widget-view+json": {
       "model_id": "8397e5c2053a4d4395071dc6b06f03ce",
       "version_major": 2,
       "version_minor": 0
      },
      "text/plain": [
       "Batches:   0%|          | 0/63 [00:00<?, ?it/s]"
      ]
     },
     "metadata": {},
     "output_type": "display_data"
    },
    {
     "data": {
      "application/vnd.jupyter.widget-view+json": {
       "model_id": "f9865e56a1044c17a4d051f992c7d8d2",
       "version_major": 2,
       "version_minor": 0
      },
      "text/plain": [
       "Batches:   0%|          | 0/63 [00:00<?, ?it/s]"
      ]
     },
     "metadata": {},
     "output_type": "display_data"
    },
    {
     "name": "stderr",
     "output_type": "stream",
     "text": [
      "\r",
      " 96%|█████████▌| 48/50 [27:58<01:11, 35.75s/it]"
     ]
    },
    {
     "data": {
      "application/vnd.jupyter.widget-view+json": {
       "model_id": "423a710431f949f982872d6889823a3c",
       "version_major": 2,
       "version_minor": 0
      },
      "text/plain": [
       "Batches:   0%|          | 0/63 [00:00<?, ?it/s]"
      ]
     },
     "metadata": {},
     "output_type": "display_data"
    },
    {
     "data": {
      "application/vnd.jupyter.widget-view+json": {
       "model_id": "63fcccf000764395b828dcc8f2a7cba7",
       "version_major": 2,
       "version_minor": 0
      },
      "text/plain": [
       "Batches:   0%|          | 0/63 [00:00<?, ?it/s]"
      ]
     },
     "metadata": {},
     "output_type": "display_data"
    },
    {
     "name": "stderr",
     "output_type": "stream",
     "text": [
      "\r",
      " 98%|█████████▊| 49/50 [28:34<00:35, 35.83s/it]"
     ]
    },
    {
     "data": {
      "application/vnd.jupyter.widget-view+json": {
       "model_id": "284f246ad154430d9d001031f9fc4564",
       "version_major": 2,
       "version_minor": 0
      },
      "text/plain": [
       "Batches:   0%|          | 0/63 [00:00<?, ?it/s]"
      ]
     },
     "metadata": {},
     "output_type": "display_data"
    },
    {
     "data": {
      "application/vnd.jupyter.widget-view+json": {
       "model_id": "2450a4e705944176878150c2d3f74f5a",
       "version_major": 2,
       "version_minor": 0
      },
      "text/plain": [
       "Batches:   0%|          | 0/63 [00:00<?, ?it/s]"
      ]
     },
     "metadata": {},
     "output_type": "display_data"
    },
    {
     "name": "stderr",
     "output_type": "stream",
     "text": [
      "100%|██████████| 50/50 [29:10<00:00, 35.00s/it]\n"
     ]
    }
   ],
   "source": [
    "from alibi_detect.cd import MMDDrift, ContextMMDDrift\n",
    "\n",
    "n_runs = 100  # number of drift detection runs, each with a different reference and test sample\n",
    "\n",
    "p_vals_mmd, p_vals_cad = [], []\n",
    "for _ in tqdm(range(n_runs)):\n",
    "    \n",
    "    # sample data\n",
    "    idx = np.random.choice(n_drift, size=n_drift, replace=False)\n",
    "    idx_ref, idx_test = idx[:n_ref], idx[n_ref:n_ref+n_test]\n",
    "    x_ref, y_ref = [x_drift[_] for _ in idx_ref], y_drift[idx_ref]\n",
    "    x_test, y_test = [x_drift[_] for _ in idx_test], y_drift[idx_test]\n",
    "        \n",
    "    # embed text\n",
    "    emb_ref = model(x_ref)\n",
    "    emb_test = model(x_test)\n",
    "    \n",
    "    # mmd drift detector\n",
    "    dd_mmd = MMDDrift(emb_ref, p_val=.05, n_permutations=100, backend='pytorch')\n",
    "    preds_mmd = dd_mmd.predict(emb_test)\n",
    "    p_vals_mmd.append(preds_mmd['data']['p_val'])\n",
    "    \n",
    "    # context-aware mmd drift detector \n",
    "    c_ref = context(x_ref, y_ref)\n",
    "    c_test = context(x_test, y_test)\n",
    "    dd_cad = ContextMMDDrift(emb_ref, c_ref, p_val=.05, n_permutations=100, backend='pytorch')\n",
    "    preds_cad = dd_cad.predict(emb_test, c_test)\n",
    "    p_vals_cad.append(preds_cad['data']['p_val'])\n",
    "    \n",
    "p_vals_mmd = np.array(p_vals_mmd)\n",
    "p_vals_cad = np.array(p_vals_cad)"
   ]
  },
  {
   "cell_type": "markdown",
   "metadata": {},
   "source": [
    "The below figure of the [Q-Q (Quantile-Quantile) plots](https://en.wikipedia.org/wiki/Q%E2%80%93Q_plot) of a random sample from the uniform distribution *U[0,1]* against the obtained p-values from the vanilla and context-aware MMD detectors illustrate how well both detectors are calibrated. A perfectly calibrated detector should have a Q-Q plot which closely follows the diagonal. Only the middle plot in the grid shows the detector's p-values. The other plots correspond to *n_runs* p-values actually sampled from *U[0,1]* to contextualise how well the central plot follows the diagonal given the limited number of samples.\n",
    "\n",
    "As expected we can see that both the normal MMD and the context-aware MMD detectors are well-calibrated."
   ]
  },
  {
   "cell_type": "code",
   "execution_count": 14,
   "metadata": {},
   "outputs": [],
   "source": [
    "import statsmodels.api as sm\n",
    "from scipy.stats import uniform\n",
    "\n",
    "\n",
    "def plot_p_val_qq(p_vals: np.ndarray, title: str) -> None:\n",
    "    fig, axes = plt.subplots(nrows=3, ncols=3, sharex=True, sharey=True, figsize=(12,10))\n",
    "    fig.suptitle(title)\n",
    "    n = len(p_vals)\n",
    "    for i in range(9):\n",
    "        unifs = p_vals if i==4 else np.random.rand(n)\n",
    "        sm.qqplot(unifs, uniform(), line='45', ax=axes[i//3,i%3])\n",
    "        if i//3 < 2:\n",
    "            axes[i//3,i%3].set_xlabel('')\n",
    "        if i%3 != 0:\n",
    "            axes[i//3,i%3].set_ylabel('')"
   ]
  },
  {
   "cell_type": "code",
   "execution_count": 15,
   "metadata": {},
   "outputs": [
    {
     "data": {
      "image/png": "[encoded data removed]",
      "text/plain": [
       "<Figure size 864x720 with 9 Axes>"
      ]
     },
     "metadata": {
      "needs_background": "light"
     },
     "output_type": "display_data"
    },
    {
     "data": {
      "image/png": "[encoded data removed]",
      "text/plain": [
       "<Figure size 864x720 with 9 Axes>"
      ]
     },
     "metadata": {
      "needs_background": "light"
     },
     "output_type": "display_data"
    }
   ],
   "source": [
    "plot_p_val_qq(p_vals_mmd, 'Q-Q plot MMD detector')\n",
    "plot_p_val_qq(p_vals_cad, 'Q-Q plot Context-Aware MMD detector')"
   ]
  },
  {
   "cell_type": "markdown",
   "metadata": {},
   "source": [
    "## Changing the relative subpopulation prevalence\n",
    "\n",
    "We now focus our attention on a more realistic problem where the relative frequency of one or more subpopulations (i.e. news topics) is changing in a way which can be attributed to external events. Importantly, the distribution of each individual subpopulation (e.g. the distribution of *hockey* news itself) remains unchanged, only its frequency changes.\n",
    "\n",
    "In our example we assume that the World Series and Stanley Cup coincide on the calendar leading to a spike in news articles on respectively baseball and hockey. Furthermore, there is not too much news on Mac or Windows since there are no new releases or products planned anytime soon."
   ]
  },
  {
   "cell_type": "code",
   "execution_count": 16,
   "metadata": {},
   "outputs": [],
   "source": [
    "n_ref_c = 2000 // n_classes\n",
    "n_test_c = [100] * n_classes\n",
    "n_test_c[4], n_test_c[5] = 50, 50  # few stories on Mac/Windows\n",
    "n_test_c[9], n_test_c[10] = 150, 150  # more stories on baseball/hockey"
   ]
  },
  {
   "cell_type": "code",
   "execution_count": null,
   "metadata": {},
   "outputs": [
    {
     "name": "stderr",
     "output_type": "stream",
     "text": [
      "\r",
      "  0%|          | 0/100 [00:00<?, ?it/s]"
     ]
    },
    {
     "data": {
      "application/vnd.jupyter.widget-view+json": {
       "model_id": "f4786d1895ee48b8be561e9a46887d1f",
       "version_major": 2,
       "version_minor": 0
      },
      "text/plain": [
       "Batches:   0%|          | 0/63 [00:00<?, ?it/s]"
      ]
     },
     "metadata": {},
     "output_type": "display_data"
    },
    {
     "data": {
      "application/vnd.jupyter.widget-view+json": {
       "model_id": "5a3acb0caed644cdb4013c67e237c25b",
       "version_major": 2,
       "version_minor": 0
      },
      "text/plain": [
       "Batches:   0%|          | 0/63 [00:00<?, ?it/s]"
      ]
     },
     "metadata": {},
     "output_type": "display_data"
    },
    {
     "name": "stderr",
     "output_type": "stream",
     "text": [
      "\r",
      "  1%|          | 1/100 [00:35<58:26, 35.42s/it]"
     ]
    },
    {
     "data": {
      "application/vnd.jupyter.widget-view+json": {
       "model_id": "7832084aa598430faf8d461ec9cd988f",
       "version_major": 2,
       "version_minor": 0
      },
      "text/plain": [
       "Batches:   0%|          | 0/63 [00:00<?, ?it/s]"
      ]
     },
     "metadata": {},
     "output_type": "display_data"
    },
    {
     "data": {
      "application/vnd.jupyter.widget-view+json": {
       "model_id": "b8807d7e447c45d4a3085ce822649bf2",
       "version_major": 2,
       "version_minor": 0
      },
      "text/plain": [
       "Batches:   0%|          | 0/63 [00:00<?, ?it/s]"
      ]
     },
     "metadata": {},
     "output_type": "display_data"
    },
    {
     "name": "stderr",
     "output_type": "stream",
     "text": [
      "\r",
      "  2%|▏         | 2/100 [01:10<57:49, 35.41s/it]"
     ]
    },
    {
     "data": {
      "application/vnd.jupyter.widget-view+json": {
       "model_id": "7ee6fcecd85b404ba2d705b63ed4854d",
       "version_major": 2,
       "version_minor": 0
      },
      "text/plain": [
       "Batches:   0%|          | 0/63 [00:00<?, ?it/s]"
      ]
     },
     "metadata": {},
     "output_type": "display_data"
    }
   ],
   "source": [
    "n_runs = 100\n",
    "\n",
    "p_vals_mmd, p_vals_cad = [], []\n",
    "for _ in tqdm(range(n_runs)):\n",
    "    \n",
    "    # sample data\n",
    "    (x_ref, y_ref), (x_test, y_test), _ = split_data(x_drift, y_drift, n_ref_c, n_test_c)\n",
    "    \n",
    "    # embed text\n",
    "    emb_ref = model(x_ref)\n",
    "    emb_test = model(x_test)\n",
    "    \n",
    "    # mmd drift detector\n",
    "    dd_mmd = MMDDrift(emb_ref, p_val=.05, n_permutations=100, backend='pytorch')\n",
    "    preds_mmd = dd_mmd.predict(emb_test)\n",
    "    p_vals_mmd.append(preds_mmd['data']['p_val'])\n",
    "    \n",
    "    # context-aware mmd drift detector \n",
    "    c_ref = context(x_ref, y_ref)\n",
    "    c_test = context(x_test, y_test)    \n",
    "    dd_cad = ContextMMDDrift(emb_ref, c_ref, p_val=.05, n_permutations=100, backend='pytorch')\n",
    "    preds_cad = dd_cad.predict(emb_test, c_test)\n",
    "    p_vals_cad.append(preds_cad['data']['p_val'])\n",
    "    \n",
    "p_vals_mmd = np.array(p_vals_mmd)\n",
    "p_vals_cad = np.array(p_vals_cad)"
   ]
  },
  {
   "cell_type": "markdown",
   "metadata": {},
   "source": [
    "While the **context-aware detector remains well calibrated**, the MMD detector consistently flags drift (low p-values). Note that this is the expected behaviour since the vanilla MMD detector cannot take any external context into account and correctly detects that the reference and test data do not follow the same underlying distribution."
   ]
  },
  {
   "cell_type": "code",
   "execution_count": null,
   "metadata": {},
   "outputs": [],
   "source": [
    "plot_p_val_qq(p_vals_mmd, 'Q-Q plot MMD detector')\n",
    "plot_p_val_qq(p_vals_cad, 'Q-Q plot Context-Aware MMD detector')"
   ]
  },
  {
   "cell_type": "markdown",
   "metadata": {},
   "source": [
    "We can also easily see this on the plot below where the p-values of the context-aware detector are uniformly distributed while the MMD detector's p-values are consistently close to 0. Note that we limited the y-axis range to make the plot easier to read."
   ]
  },
  {
   "cell_type": "code",
   "execution_count": null,
   "metadata": {},
   "outputs": [],
   "source": [
    "import seaborn as sns\n",
    "\n",
    "def plot_hist(\n",
    "    p_vals: List[np.ndarray],\n",
    "    title: str,\n",
    "    colors: List[str] = ['salmon', 'turquoise'],\n",
    "    methods: List[str] = ['MMD', 'CA-MMD']\n",
    "):\n",
    "    for p_val, method, color in zip(p_vals, methods, colors):\n",
    "        sns.distplot(p_val, color=color, norm_hist=True, kde=True, label=f'{method}', hist=True)\n",
    "        plt.legend(loc='upper right')\n",
    "    plt.xlim(0, 1)\n",
    "    plt.ylim(0, 20)\n",
    "    plt.ylabel('Density')\n",
    "    plt.xlabel('p-values')\n",
    "    plt.title(title)\n",
    "    plt.show();\n",
    "    \n",
    "p_vals = [p_vals_mmd, p_vals_cad]\n",
    "title = 'p-value distribution for a change in subpopulation prevalence'\n",
    "plot_hist(p_vals, title)"
   ]
  },
  {
   "cell_type": "markdown",
   "metadata": {},
   "source": [
    "## Changing the subpopulation distribution\n",
    "\n",
    "In the following example we change the distribution of one or more of the underlying subpopulations. Notice that now we do want to **flag drift** since our context variable, which permits changes in relative subpopulation prevalences, can no longer explain the change in distribution. \n",
    "\n",
    "Imagine our news topic classification model is not as granular as before and instead of the 20 categories only predicts the 6 *super* classes, organised by subject matter:\n",
    "1. Computers\n",
    "    - comp.graphics; comp.os.ms-windows.misc; comp.sys.ibm.pc.hardware; comp.sys.mac.hardware; comp.windows.x\n",
    "2. Recreation\n",
    "    - rec.autos; rec.motorcycles; rec.sport.baseball; rec.sport.hockey\n",
    "3. Science\n",
    "    - sci.crypt; sci.electronics; sci.med; sci.space\n",
    "4. Miscellaneous\n",
    "    - misc.forsale\n",
    "5. Politics\n",
    "    - talk.politics.misc; talk.politics.guns; talk.politics.mideast\n",
    "6. Religion\n",
    "    - talk.religion.misc; talk.atheism; soc.religion.christian\n",
    "\n",
    "\n",
    "What if baseball and hockey become less popular and the distribution underlying the *Recreation* class changes? We will want to detect this as the change in distributions of the subpopulations (the 6 super classes) cannot be explained anymore by the context variable."
   ]
  },
  {
   "cell_type": "code",
   "execution_count": null,
   "metadata": {},
   "outputs": [],
   "source": [
    "# map the original target labels to super classes\n",
    "class_map = {\n",
    "    0: [1, 2, 3, 4, 5],\n",
    "    1: [7, 8, 9, 10],\n",
    "    2: [11, 12, 13, 14],\n",
    "    3: [6],\n",
    "    4: [16, 17, 18],\n",
    "    5: [0, 15, 19]\n",
    "}\n",
    "\n",
    "def map_to_super(y: np.ndarray):\n",
    "    y_super = np.zeros_like(y)\n",
    "    for k, v in class_map.items():\n",
    "        for _ in v:\n",
    "            idx_chg = np.where(y == _)[0]\n",
    "            y_super[idx_chg] = k\n",
    "    return y_super\n",
    "\n",
    "y_drift_super = map_to_super(y_drift)\n",
    "n_super = len(list(class_map.keys()))"
   ]
  },
  {
   "cell_type": "markdown",
   "metadata": {},
   "source": [
    "In order to reuse our pretrained classifier for the super classes, we add the following helper function to map the predictions on the super classes and return one-hot encoded predictions over the 6 super classes. Note that our context variable now changes from a probability distribution over the 20 news topics to a one-hot encoded representation over the 6 super classes."
   ]
  },
  {
   "cell_type": "code",
   "execution_count": null,
   "metadata": {},
   "outputs": [],
   "source": [
    "def ohe_super_preds(x: List[str], y: np.ndarray):\n",
    "    classes = np.argmax(context(x, y), -1)  # class predictions\n",
    "    classes_super = map_to_super(classes)  # map to super classes\n",
    "    return np.eye(n_super, dtype=np.float32)[classes_super]  # return OHE"
   ]
  },
  {
   "cell_type": "code",
   "execution_count": null,
   "metadata": {},
   "outputs": [],
   "source": [
    "n_ref_c, n_test_c = 1000 // n_super, 1000 // n_super\n",
    "n_runs = 100\n",
    "\n",
    "p_vals_mmd, p_vals_cad = [], []\n",
    "for _ in tqdm(range(n_runs)):\n",
    "    \n",
    "    # sample data\n",
    "    (x_ref, y_ref, y_ref2), (x_test, y_test, y_test2), (x_held, y_held, y_held2) = \\\n",
    "        split_data(x_drift, y_drift_super, n_ref_c, n_test_c, y2=y_drift)\n",
    "\n",
    "    # remove baseball and hockey from the recreation super class in the test set\n",
    "    idx_bb, idx_hock = np.where(y_test2 == 9)[0], np.where(y_test2 == 10)[0]\n",
    "    idx_remove = np.concatenate([idx_bb, idx_hock], 0)\n",
    "    x_test = [x_test[_] for _ in np.arange(len(x_test)) if _ not in idx_remove]\n",
    "    y_test = np.delete(y_test, idx_remove)\n",
    "    \n",
    "    # embed text\n",
    "    emb_ref = model(x_ref)\n",
    "    emb_test = model(x_test)\n",
    "    \n",
    "    # mmd drift detector\n",
    "    dd_mmd = MMDDrift(emb_ref, p_val=.05, n_permutations=100, backend='pytorch')\n",
    "    preds_mmd = dd_mmd.predict(emb_test)\n",
    "    p_vals_mmd.append(preds_mmd['data']['p_val'])\n",
    "    \n",
    "    # context-aware mmd drift detector \n",
    "    c_ref = ohe_super_preds(x_ref, y_ref)\n",
    "    c_test = ohe_super_preds(x_test, y_test)\n",
    "    dd_cad = ContextMMDDrift(emb_ref, c_ref, p_val=.05, n_permutations=100, backend='pytorch')\n",
    "    preds_cad = dd_cad.predict(emb_test, c_test)\n",
    "    p_vals_cad.append(preds_cad['data']['p_val'])\n",
    "    \n",
    "p_vals_mmd = np.array(p_vals_mmd)\n",
    "p_vals_cad = np.array(p_vals_cad)"
   ]
  },
  {
   "cell_type": "markdown",
   "metadata": {},
   "source": [
    "We can see that the context-aware detector is powerful to detect changes in the distributions of the subpopulations."
   ]
  },
  {
   "cell_type": "code",
   "execution_count": null,
   "metadata": {},
   "outputs": [],
   "source": [
    "threshold = .05\n",
    "print(f'Power at {threshold * 100}% significance level')\n",
    "print(f'MMD: {(p_vals_mmd < threshold).mean():.3f}')\n",
    "print(f'Context-aware MMD: {(p_vals_cad < threshold).mean():.3f}')\n",
    "\n",
    "p_vals = [p_vals_mmd, p_vals_cad]\n",
    "title = 'p-value distribution for a change in subpopulation distribution'\n",
    "plot_hist(p_vals, title)"
   ]
  },
  {
   "cell_type": "markdown",
   "metadata": {},
   "source": [
    "## Detect unseen topics\n",
    "\n",
    "Next we illustrate the effectiveness of the context-aware detector to detect new topics which are not present in the reference data. Obviously we also want to **flag drift** in this case. As an example we introduce movie reviews in the test data."
   ]
  },
  {
   "cell_type": "code",
   "execution_count": null,
   "metadata": {},
   "outputs": [],
   "source": [
    "from datasets import load_dataset\n",
    "\n",
    "dataset = load_dataset(\"imdb\")\n",
    "x_imdb = dataset['train']['text']\n",
    "n_imdb = len(x_imdb)\n",
    "\n",
    "n_test_imdb = 100\n",
    "n_ref_c = 1000 // n_classes\n",
    "n_test_c = 1000 // n_classes"
   ]
  },
  {
   "cell_type": "code",
   "execution_count": null,
   "metadata": {},
   "outputs": [],
   "source": [
    "n_runs = 100\n",
    "\n",
    "p_vals_mmd, p_vals_cad = [], []\n",
    "for _ in tqdm(range(n_runs)):\n",
    "    \n",
    "    # sample data\n",
    "    (x_ref, y_ref), (x_test, y_test), (x_held, y_held) = split_data(x_drift, y_drift, n_ref_c, n_test_c)\n",
    "    \n",
    "    # add random imdb reviews to the test data\n",
    "    idx_imdb = np.random.choice(n_imdb, n_test_imdb, replace=False)\n",
    "    x_imdb_sample = [x_imdb[_] for _ in idx_imdb]\n",
    "    x_test += x_imdb_sample\n",
    "    y_test = np.concatenate([y_test, np.zeros(len(x_imdb_sample))], 0)  # padded value doesn't matter\n",
    "    \n",
    "    # embed text\n",
    "    emb_ref = model(x_ref)\n",
    "    emb_test = model(x_test)\n",
    "    \n",
    "    # mmd drift detector\n",
    "    dd_mmd = MMDDrift(emb_ref, p_val=.05, n_permutations=100, backend='pytorch')\n",
    "    preds_mmd = dd_mmd.predict(emb_test)\n",
    "    p_vals_mmd.append(preds_mmd['data']['p_val'])\n",
    "    \n",
    "    # context-aware mmd drift detector\n",
    "    c_ref = context(x_ref, y_ref)\n",
    "    c_test = context(x_test, y_test) \n",
    "    dd_cad = ContextMMDDrift(emb_ref, c_ref, p_val=.05, n_permutations=100, backend='pytorch')\n",
    "    preds_cad = dd_cad.predict(emb_test, c_test)\n",
    "    p_vals_cad.append(preds_cad['data']['p_val'])\n",
    "    \n",
    "p_vals_mmd = np.array(p_vals_mmd)\n",
    "p_vals_cad = np.array(p_vals_cad)"
   ]
  },
  {
   "cell_type": "code",
   "execution_count": null,
   "metadata": {},
   "outputs": [],
   "source": [
    "threshold = .05\n",
    "print(f'Power at {threshold * 100}% significance level')\n",
    "print(f'MMD: {(p_vals_mmd < threshold).mean():.3f}')\n",
    "print(f'Context-aware MMD: {(p_vals_cad < threshold).mean():.3f}')\n",
    "\n",
    "p_vals = [p_vals_mmd, p_vals_cad]\n",
    "title = 'p-value distribution for a new unseen topic'\n",
    "plot_hist(p_vals, title)"
   ]
  },
  {
   "cell_type": "markdown",
   "metadata": {},
   "source": [
    "\n",
    "## Changing the context variable\n",
    "\n",
    "We now use the *SentenceTransformer* embeddings directly as context variables instead of the model predictions. We will test both the calibration under the null hypothesis (no distribution change) as well as the power when a new topic (movie reviews) is injected."
   ]
  },
  {
   "cell_type": "code",
   "execution_count": null,
   "metadata": {},
   "outputs": [],
   "source": [
    "umap_model = UMAPModel(n_components=4)\n",
    "emb_train = model(x_train)\n",
    "umap_model.fit(emb_train, y=y_train)"
   ]
  },
  {
   "cell_type": "code",
   "execution_count": null,
   "metadata": {},
   "outputs": [],
   "source": [
    "n_runs = 100\n",
    "\n",
    "p_vals_null, p_vals_alt = [], []\n",
    "for _ in tqdm(range(n_runs)):\n",
    "    \n",
    "    # sample data\n",
    "    (x_ref, y_ref), (x_test, y_test), (x_held, y_held) = split_data(x_drift, y_drift, n_ref_c, n_test_c)\n",
    "    \n",
    "    # sample random imdb reviews\n",
    "    idx_imdb = np.random.choice(n_imdb, n_test_imdb, replace=False)\n",
    "    x_imdb_sample = [x_imdb[_] for _ in idx_imdb]\n",
    "    \n",
    "    # embed text\n",
    "    emb_ref = model(x_ref)\n",
    "    emb_test = model(x_test)\n",
    "    emb_imdb = model(x_imdb_sample)\n",
    "    emb_alt = np.concatenate([emb_test, emb_imdb], 0)\n",
    "    \n",
    "    # detect drift\n",
    "    c_ref = umap_model.predict(emb_ref)\n",
    "    c_test = umap_model.predict(emb_test)\n",
    "    c_imdb = umap_model.predict(emb_imdb)\n",
    "    c_alt = np.concatenate([c_test, c_imdb], 0)\n",
    "    dd_cad = ContextMMDDrift(emb_ref, c_ref, p_val=.05, n_permutations=100, backend='pytorch')\n",
    "    preds_null = dd_cad.predict(emb_test, c_test)\n",
    "    p_vals_null.append(preds_null['data']['p_val'])\n",
    "    preds_alt = dd_cad.predict(emb_alt, c_alt)\n",
    "    p_vals_alt.append(preds_alt['data']['p_val'])\n",
    "        \n",
    "p_vals_null = np.array(p_vals_null)\n",
    "p_vals_alt = np.array(p_vals_alt)"
   ]
  },
  {
   "cell_type": "code",
   "execution_count": null,
   "metadata": {},
   "outputs": [],
   "source": [
    "plot_p_val_qq(p_vals_null, 'Q-Q plot Context-Aware MMD detector under no change')"
   ]
  },
  {
   "cell_type": "code",
   "execution_count": null,
   "metadata": {},
   "outputs": [],
   "source": [
    "print(f'Power at {threshold * 100}% significance level')\n",
    "print(f'Context-aware MMD: {(p_vals_alt < threshold).mean():.3f}')\n",
    "\n",
    "p_vals = [p_vals_null, p_vals_alt]\n",
    "methods = ['CAD under null', 'CAD under alternative']\n",
    "title = 'Context-aware MMD p-value distribution'\n",
    "plot_hist(p_vals, title, methods=methods)"
   ]
  },
  {
   "cell_type": "markdown",
   "metadata": {},
   "source": [
    "## Interpretability of the context-aware detector\n",
    "\n",
    "The test statistic $\\hat{t}$ of the context-aware MMD detector can be formulated as follows: $\\hat{t} = \\langle K_{0,0}, W_{0,0} \\rangle + \\langle K_{1,1}, W_{1,1} \\rangle -2\\langle K_{0,1}, W_{0,1}^{\\top}\\rangle$ where $0$ refers to the reference data, $1$ to the test data, and $W_{.,.}$ and $K_{.,.}$ are the weight and kernel matrices, respectively. The weight matrices $W_{.,.}$ allow us to focus on the distribution's subpopulations of interest. Reference instances which have similar contexts as the test data will have higher values for their entries in $W_{0,1}$ than instances with dissimilar contexts. We can therefore interpret $W_{0,1}$ as the coupling matrix between instances in the reference and the test sets. This allows us to investigate which subpopulations from the reference set are present and which are missing in the test data. If we also have a good understanding of the model performance on various subpopulations of the reference data, we could even try and use this coupling matrix to roughly proxy model performance on the unlabeled test instances. Note that in this case we would require labels from the reference data and make sure the reference instances come from the validation, not the training set. \n",
    "\n",
    "In the following example we only pick 2 classes to be present in the test set while all 20 are present in the reference set. We can then investigate via the coupling matrix whether the test statistic $\\hat{t}$ focused on the right classes in the reference data via $W_{0,1}$. More concretely, we can sum over the columns (the test instances) of $W_{0,1}$ and check which reference instances obtained the highest weights."
   ]
  },
  {
   "cell_type": "code",
   "execution_count": null,
   "metadata": {},
   "outputs": [],
   "source": [
    "n_ref_c = 2000 // n_classes\n",
    "n_test_c = [0] * n_classes\n",
    "n_test_c[9], n_test_c[10] = 200, 200  # only stories on baseball/hockey\n",
    "(x_ref, y_ref), (x_test, y_test), _ = split_data(x_drift, y_drift, n_ref_c, n_test_c)\n",
    "\n",
    "# embed data\n",
    "emb_ref = model(x_ref)\n",
    "emb_test = model(x_test)\n",
    "\n",
    "# condition using the classifier predictions\n",
    "c_ref = context(x_ref, y_ref)\n",
    "c_test = context(x_test, y_test)\n",
    "\n",
    "# initialise detector and make predictions\n",
    "dd = ContextMMDDrift(emb_ref, c_ref, p_val=.05, n_permutations=100, backend='pytorch')\n",
    "preds = dd.predict(emb_test, c_test, return_coupling=True)\n",
    "\n",
    "# no drift is detected since the distribution of \n",
    "# the subpopulations in the test set remain the same\n",
    "print(f'p-value: {preds[\"data\"][\"p_val\"]:.3f}')\n",
    "\n",
    "# extract coupling matrix between reference and test data\n",
    "W_01 = preds['data']['coupling_xy']\n",
    "\n",
    "# sum over test instances\n",
    "w_ref = W_01.sum(1)"
   ]
  },
  {
   "cell_type": "code",
   "execution_count": null,
   "metadata": {},
   "outputs": [],
   "source": [
    "# Map the top assigned reference weights to the associated instance labels\n",
    "# and select top 2 * n_ref_c. This tells us what the labels were of the reference \n",
    "# instances with the highest weights in the coupling matrix W_01.\n",
    "# Ideally this would correspond to instances from the baseball and hockey \n",
    "# classes in the reference set (labels 9 and 10).\n",
    "inds_ref_sort = np.argsort(w_ref)[::-1]\n",
    "y_sort = y_ref[inds_ref_sort][:2 * n_ref_c]\n",
    "\n",
    "# And indeed, we can see that we mainly matched with the correct reference instances!\n",
    "correct_match = np.array([y in [9, 10] for y in y_sort]).mean()\n",
    "print(f'The top {100 * correct_match:.2f}% couplings from the top coupled {2 * n_ref_c} instances '\n",
    "      'come from the baseball and hockey classes!')\n",
    "\n",
    "# We can also easily see from the sorted coupling weights that the test statistic \n",
    "# focuses on just the baseball and hockey classes in the reference set and then\n",
    "# the weights in the coupling matrix W_01 fall of a cliff.\n",
    "plt.plot(w_ref[inds_ref_sort]);\n",
    "plt.title('Sorted reference weights from the coupling matrix W_01');\n",
    "plt.ylabel('Reference instance weight in W_01');\n",
    "plt.xlabel('Instances sorted by weight in W_01');\n",
    "plt.show()"
   ]
  },
  {
   "cell_type": "code",
   "execution_count": null,
   "metadata": {},
   "outputs": [],
   "source": []
  }
 ],
 "metadata": {
  "kernelspec": {
   "display_name": "Python [conda env:detect] *",
   "language": "python",
   "name": "conda-env-detect-py"
  },
  "language_info": {
   "codemirror_mode": {
    "name": "ipython",
    "version": 3
   },
   "file_extension": ".py",
   "mimetype": "text/x-python",
   "name": "python",
   "nbconvert_exporter": "python",
   "pygments_lexer": "ipython3",
   "version": "3.7.6"
  }
 },
 "nbformat": 4,
 "nbformat_minor": 5
}
