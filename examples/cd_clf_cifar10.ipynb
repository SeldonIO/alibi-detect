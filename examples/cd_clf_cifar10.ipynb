{
 "cells": [
  {
   "cell_type": "markdown",
   "metadata": {},
   "source": [
    "# Classifier drift detector on CIFAR-10\n",
    "\n",
    "### Method\n",
    "\n",
    "The classifier-based drift detector simply tries to correctly classify instances from the reference data vs. the test set. If the classifier does not manage to significantly distinguish the reference data from the test set according to a chosen metric (defaults to the classifier accuracy), then no drift occurs. If it can, the test set is different from the reference data and drift is flagged. To leverage all the available reference and test data, stratified cross-validation can be applied and the out-of-fold predictions are used to compute the drift metric. Note that a new classifier is trained for each test set or even each fold within the test set.\n",
    "\n",
    "### Dataset\n",
    "\n",
    "[CIFAR10](https://www.cs.toronto.edu/~kriz/cifar.html) consists of 60,000 32 by 32 RGB images equally distributed over 10 classes. We evaluate the drift detector on the CIFAR-10-C dataset ([Hendrycks & Dietterich, 2019](https://arxiv.org/abs/1903.12261)). The instances in\n",
    "CIFAR-10-C have been corrupted and perturbed by various types of noise, blur, brightness etc. at different levels of severity, leading to a gradual decline in the classification model performance. We also check for drift against the original test set with class imbalances. "
   ]
  },
  {
   "cell_type": "code",
   "execution_count": 2,
   "metadata": {},
   "outputs": [
    {
     "output_type": "stream",
     "name": "stderr",
     "text": [
      "Importing plotly failed. Interactive plots will not work.\n"
     ]
    }
   ],
   "source": [
    "import matplotlib.pyplot as plt\n",
    "import numpy as np\n",
    "import tensorflow as tf\n",
    "from tensorflow.keras.layers import Conv2D, Dense, Flatten, Input\n",
    "\n",
    "from alibi_detect.cd import ClassifierDrift\n",
    "from alibi_detect.utils.saving import save_detector, load_detector\n",
    "from alibi_detect.datasets import fetch_cifar10c, corruption_types_cifar10c"
   ]
  },
  {
   "cell_type": "markdown",
   "metadata": {},
   "source": [
    "### Load data\n",
    "\n",
    "Original CIFAR-10 data:"
   ]
  },
  {
   "cell_type": "code",
   "execution_count": 3,
   "metadata": {},
   "outputs": [],
   "source": [
    "(X_train, y_train), (X_test, y_test) = tf.keras.datasets.cifar10.load_data()\n",
    "X_train = X_train.astype('float32') / 255\n",
    "X_test = X_test.astype('float32') / 255\n",
    "y_train = y_train.astype('int64').reshape(-1,)\n",
    "y_test = y_test.astype('int64').reshape(-1,)"
   ]
  },
  {
   "cell_type": "markdown",
   "metadata": {},
   "source": [
    "For CIFAR-10-C, we can select from the following corruption types at 5 severity levels:"
   ]
  },
  {
   "cell_type": "code",
   "execution_count": 4,
   "metadata": {},
   "outputs": [
    {
     "output_type": "stream",
     "name": "stdout",
     "text": [
      "['brightness', 'contrast', 'defocus_blur', 'elastic_transform', 'fog', 'frost', 'gaussian_blur', 'gaussian_noise', 'glass_blur', 'impulse_noise', 'jpeg_compression', 'motion_blur', 'pixelate', 'saturate', 'shot_noise', 'snow', 'spatter', 'speckle_noise', 'zoom_blur']\n"
     ]
    }
   ],
   "source": [
    "corruptions = corruption_types_cifar10c()\n",
    "print(corruptions)"
   ]
  },
  {
   "cell_type": "markdown",
   "metadata": {},
   "source": [
    "Let's pick a subset of the corruptions at corruption level 5. Each corruption type consists of perturbations on all of the original test set images."
   ]
  },
  {
   "cell_type": "code",
   "execution_count": 5,
   "metadata": {},
   "outputs": [],
   "source": [
    "# corruption = ['gaussian_noise', 'motion_blur', 'brightness', 'pixelate']\n",
    "corruption = ['gaussian_noise']\n",
    "X_corr, y_corr = fetch_cifar10c(corruption=corruption, severity=5, return_X_y=True)\n",
    "X_corr = X_corr.astype('float32') / 255"
   ]
  },
  {
   "cell_type": "markdown",
   "metadata": {},
   "source": [
    "We split the original test set in a reference dataset and a dataset which should not be flagged as drift. We also split the corrupted data by corruption type:"
   ]
  },
  {
   "cell_type": "code",
   "execution_count": 6,
   "metadata": {},
   "outputs": [
    {
     "output_type": "stream",
     "name": "stdout",
     "text": [
      "(5000, 32, 32, 3) (5000, 32, 32, 3)\n"
     ]
    }
   ],
   "source": [
    "np.random.seed(0)\n",
    "n_test = X_test.shape[0]\n",
    "idx = np.random.choice(n_test, size=n_test // 2, replace=False)\n",
    "idx_h0 = np.delete(np.arange(n_test), idx, axis=0)\n",
    "X_ref,y_ref = X_test[idx], y_test[idx]\n",
    "X_h0, y_h0 = X_test[idx_h0], y_test[idx_h0]\n",
    "print(X_ref.shape, X_h0.shape)"
   ]
  },
  {
   "cell_type": "code",
   "execution_count": 7,
   "metadata": {},
   "outputs": [],
   "source": [
    "X_c = []\n",
    "n_corr = len(corruption)\n",
    "for i in range(n_corr):\n",
    "    X_c.append(X_corr[i * n_test:(i + 1) * n_test])"
   ]
  },
  {
   "cell_type": "markdown",
   "metadata": {},
   "source": [
    "We can visualise the same instance for each corruption type:"
   ]
  },
  {
   "cell_type": "code",
   "execution_count": 8,
   "metadata": {},
   "outputs": [
    {
     "output_type": "display_data",
     "data": {
      "text/plain": "<Figure size 432x288 with 1 Axes>",
      "image/svg+xml": "<?xml version=\"1.0\" encoding=\"utf-8\" standalone=\"no\"?>\n<!DOCTYPE svg PUBLIC \"-//W3C//DTD SVG 1.1//EN\"\n  \"http://www.w3.org/Graphics/SVG/1.1/DTD/svg11.dtd\">\n<svg height=\"246.958125pt\" version=\"1.1\" viewBox=\"0 0 231.84 246.958125\" width=\"231.84pt\" xmlns=\"http://www.w3.org/2000/svg\" xmlns:xlink=\"http://www.w3.org/1999/xlink\">\n <metadata>\n  <rdf:RDF xmlns:cc=\"http://creativecommons.org/ns#\" xmlns:dc=\"http://purl.org/dc/elements/1.1/\" xmlns:rdf=\"http://www.w3.org/1999/02/22-rdf-syntax-ns#\">\n   <cc:Work>\n    <dc:type rdf:resource=\"http://purl.org/dc/dcmitype/StillImage\"/>\n    <dc:date>2021-04-09T16:39:05.270453</dc:date>\n    <dc:format>image/svg+xml</dc:format>\n    <dc:creator>\n     <cc:Agent>\n      <dc:title>Matplotlib v3.4.1, https://matplotlib.org/</dc:title>\n     </cc:Agent>\n    </dc:creator>\n   </cc:Work>\n  </rdf:RDF>\n </metadata>\n <defs>\n  <style type=\"text/css\">*{stroke-linecap:butt;stroke-linejoin:round;}</style>\n </defs>\n <g id=\"figure_1\">\n  <g id=\"patch_1\">\n   <path d=\"M 0 246.958125 \nL 231.84 246.958125 \nL 231.84 0 \nL 0 0 \nz\n\" style=\"fill:none;\"/>\n  </g>\n  <g id=\"axes_1\">\n   <g clip-path=\"url(#pf5ae87040e)\">\n    <image height=\"218\" id=\"image2b958b447a\" transform=\"scale(1 -1)translate(0 -218)\" width=\"218\" x=\"7.2\" xlink:href=\"data:image/png;base64,\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\" y=\"-21.758125\"/>\n   </g>\n   <g id=\"text_1\">\n    <!-- Original -->\n    <g transform=\"translate(92.44125 16.318125)scale(0.12 -0.12)\">\n     <defs>\n      <path d=\"M 2522 4238 \nQ 1834 4238 1429 3725 \nQ 1025 3213 1025 2328 \nQ 1025 1447 1429 934 \nQ 1834 422 2522 422 \nQ 3209 422 3611 934 \nQ 4013 1447 4013 2328 \nQ 4013 3213 3611 3725 \nQ 3209 4238 2522 4238 \nz\nM 2522 4750 \nQ 3503 4750 4090 4092 \nQ 4678 3434 4678 2328 \nQ 4678 1225 4090 567 \nQ 3503 -91 2522 -91 \nQ 1538 -91 948 565 \nQ 359 1222 359 2328 \nQ 359 3434 948 4092 \nQ 1538 4750 2522 4750 \nz\n\" id=\"DejaVuSans-4f\" transform=\"scale(0.015625)\"/>\n      <path d=\"M 2631 2963 \nQ 2534 3019 2420 3045 \nQ 2306 3072 2169 3072 \nQ 1681 3072 1420 2755 \nQ 1159 2438 1159 1844 \nL 1159 0 \nL 581 0 \nL 581 3500 \nL 1159 3500 \nL 1159 2956 \nQ 1341 3275 1631 3429 \nQ 1922 3584 2338 3584 \nQ 2397 3584 2469 3576 \nQ 2541 3569 2628 3553 \nL 2631 2963 \nz\n\" id=\"DejaVuSans-72\" transform=\"scale(0.015625)\"/>\n      <path d=\"M 603 3500 \nL 1178 3500 \nL 1178 0 \nL 603 0 \nL 603 3500 \nz\nM 603 4863 \nL 1178 4863 \nL 1178 4134 \nL 603 4134 \nL 603 4863 \nz\n\" id=\"DejaVuSans-69\" transform=\"scale(0.015625)\"/>\n      <path d=\"M 2906 1791 \nQ 2906 2416 2648 2759 \nQ 2391 3103 1925 3103 \nQ 1463 3103 1205 2759 \nQ 947 2416 947 1791 \nQ 947 1169 1205 825 \nQ 1463 481 1925 481 \nQ 2391 481 2648 825 \nQ 2906 1169 2906 1791 \nz\nM 3481 434 \nQ 3481 -459 3084 -895 \nQ 2688 -1331 1869 -1331 \nQ 1566 -1331 1297 -1286 \nQ 1028 -1241 775 -1147 \nL 775 -588 \nQ 1028 -725 1275 -790 \nQ 1522 -856 1778 -856 \nQ 2344 -856 2625 -561 \nQ 2906 -266 2906 331 \nL 2906 616 \nQ 2728 306 2450 153 \nQ 2172 0 1784 0 \nQ 1141 0 747 490 \nQ 353 981 353 1791 \nQ 353 2603 747 3093 \nQ 1141 3584 1784 3584 \nQ 2172 3584 2450 3431 \nQ 2728 3278 2906 2969 \nL 2906 3500 \nL 3481 3500 \nL 3481 434 \nz\n\" id=\"DejaVuSans-67\" transform=\"scale(0.015625)\"/>\n      <path d=\"M 3513 2113 \nL 3513 0 \nL 2938 0 \nL 2938 2094 \nQ 2938 2591 2744 2837 \nQ 2550 3084 2163 3084 \nQ 1697 3084 1428 2787 \nQ 1159 2491 1159 1978 \nL 1159 0 \nL 581 0 \nL 581 3500 \nL 1159 3500 \nL 1159 2956 \nQ 1366 3272 1645 3428 \nQ 1925 3584 2291 3584 \nQ 2894 3584 3203 3211 \nQ 3513 2838 3513 2113 \nz\n\" id=\"DejaVuSans-6e\" transform=\"scale(0.015625)\"/>\n      <path d=\"M 2194 1759 \nQ 1497 1759 1228 1600 \nQ 959 1441 959 1056 \nQ 959 750 1161 570 \nQ 1363 391 1709 391 \nQ 2188 391 2477 730 \nQ 2766 1069 2766 1631 \nL 2766 1759 \nL 2194 1759 \nz\nM 3341 1997 \nL 3341 0 \nL 2766 0 \nL 2766 531 \nQ 2569 213 2275 61 \nQ 1981 -91 1556 -91 \nQ 1019 -91 701 211 \nQ 384 513 384 1019 \nQ 384 1609 779 1909 \nQ 1175 2209 1959 2209 \nL 2766 2209 \nL 2766 2266 \nQ 2766 2663 2505 2880 \nQ 2244 3097 1772 3097 \nQ 1472 3097 1187 3025 \nQ 903 2953 641 2809 \nL 641 3341 \nQ 956 3463 1253 3523 \nQ 1550 3584 1831 3584 \nQ 2591 3584 2966 3190 \nQ 3341 2797 3341 1997 \nz\n\" id=\"DejaVuSans-61\" transform=\"scale(0.015625)\"/>\n      <path d=\"M 603 4863 \nL 1178 4863 \nL 1178 0 \nL 603 0 \nL 603 4863 \nz\n\" id=\"DejaVuSans-6c\" transform=\"scale(0.015625)\"/>\n     </defs>\n     <use xlink:href=\"#DejaVuSans-4f\"/>\n     <use x=\"78.710938\" xlink:href=\"#DejaVuSans-72\"/>\n     <use x=\"119.824219\" xlink:href=\"#DejaVuSans-69\"/>\n     <use x=\"147.607422\" xlink:href=\"#DejaVuSans-67\"/>\n     <use x=\"211.083984\" xlink:href=\"#DejaVuSans-69\"/>\n     <use x=\"238.867188\" xlink:href=\"#DejaVuSans-6e\"/>\n     <use x=\"302.246094\" xlink:href=\"#DejaVuSans-61\"/>\n     <use x=\"363.525391\" xlink:href=\"#DejaVuSans-6c\"/>\n    </g>\n   </g>\n  </g>\n </g>\n <defs>\n  <clipPath id=\"pf5ae87040e\">\n   <rect height=\"217.44\" width=\"217.44\" x=\"7.2\" y=\"22.318125\"/>\n  </clipPath>\n </defs>\n</svg>\n",
      "image/png": "[encoded data removed]"
     },
     "metadata": {
      "needs_background": "light"
     }
    },
    {
     "output_type": "display_data",
     "data": {
      "text/plain": "<Figure size 432x288 with 1 Axes>",
      "image/svg+xml": "<?xml version=\"1.0\" encoding=\"utf-8\" standalone=\"no\"?>\n<!DOCTYPE svg PUBLIC \"-//W3C//DTD SVG 1.1//EN\"\n  \"http://www.w3.org/Graphics/SVG/1.1/DTD/svg11.dtd\">\n<svg height=\"246.958125pt\" version=\"1.1\" viewBox=\"0 0 231.84 246.958125\" width=\"231.84pt\" xmlns=\"http://www.w3.org/2000/svg\" xmlns:xlink=\"http://www.w3.org/1999/xlink\">\n <metadata>\n  <rdf:RDF xmlns:cc=\"http://creativecommons.org/ns#\" xmlns:dc=\"http://purl.org/dc/elements/1.1/\" xmlns:rdf=\"http://www.w3.org/1999/02/22-rdf-syntax-ns#\">\n   <cc:Work>\n    <dc:type rdf:resource=\"http://purl.org/dc/dcmitype/StillImage\"/>\n    <dc:date>2021-04-09T16:39:05.403281</dc:date>\n    <dc:format>image/svg+xml</dc:format>\n    <dc:creator>\n     <cc:Agent>\n      <dc:title>Matplotlib v3.4.1, https://matplotlib.org/</dc:title>\n     </cc:Agent>\n    </dc:creator>\n   </cc:Work>\n  </rdf:RDF>\n </metadata>\n <defs>\n  <style type=\"text/css\">*{stroke-linecap:butt;stroke-linejoin:round;}</style>\n </defs>\n <g id=\"figure_1\">\n  <g id=\"patch_1\">\n   <path d=\"M 0 246.958125 \nL 231.84 246.958125 \nL 231.84 0 \nL 0 0 \nz\n\" style=\"fill:none;\"/>\n  </g>\n  <g id=\"axes_1\">\n   <g clip-path=\"url(#p0807341a27)\">\n    <image height=\"218\" id=\"image6b636ee7b9\" transform=\"scale(1 -1)translate(0 -218)\" width=\"218\" x=\"7.2\" xlink:href=\"data:image/png;base64,\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\" y=\"-21.758125\"/>\n   </g>\n   <g id=\"text_1\">\n    <!-- gaussian_noise -->\n    <g transform=\"translate(70.275938 16.318125)scale(0.12 -0.12)\">\n     <defs>\n      <path d=\"M 2906 1791 \nQ 2906 2416 2648 2759 \nQ 2391 3103 1925 3103 \nQ 1463 3103 1205 2759 \nQ 947 2416 947 1791 \nQ 947 1169 1205 825 \nQ 1463 481 1925 481 \nQ 2391 481 2648 825 \nQ 2906 1169 2906 1791 \nz\nM 3481 434 \nQ 3481 -459 3084 -895 \nQ 2688 -1331 1869 -1331 \nQ 1566 -1331 1297 -1286 \nQ 1028 -1241 775 -1147 \nL 775 -588 \nQ 1028 -725 1275 -790 \nQ 1522 -856 1778 -856 \nQ 2344 -856 2625 -561 \nQ 2906 -266 2906 331 \nL 2906 616 \nQ 2728 306 2450 153 \nQ 2172 0 1784 0 \nQ 1141 0 747 490 \nQ 353 981 353 1791 \nQ 353 2603 747 3093 \nQ 1141 3584 1784 3584 \nQ 2172 3584 2450 3431 \nQ 2728 3278 2906 2969 \nL 2906 3500 \nL 3481 3500 \nL 3481 434 \nz\n\" id=\"DejaVuSans-67\" transform=\"scale(0.015625)\"/>\n      <path d=\"M 2194 1759 \nQ 1497 1759 1228 1600 \nQ 959 1441 959 1056 \nQ 959 750 1161 570 \nQ 1363 391 1709 391 \nQ 2188 391 2477 730 \nQ 2766 1069 2766 1631 \nL 2766 1759 \nL 2194 1759 \nz\nM 3341 1997 \nL 3341 0 \nL 2766 0 \nL 2766 531 \nQ 2569 213 2275 61 \nQ 1981 -91 1556 -91 \nQ 1019 -91 701 211 \nQ 384 513 384 1019 \nQ 384 1609 779 1909 \nQ 1175 2209 1959 2209 \nL 2766 2209 \nL 2766 2266 \nQ 2766 2663 2505 2880 \nQ 2244 3097 1772 3097 \nQ 1472 3097 1187 3025 \nQ 903 2953 641 2809 \nL 641 3341 \nQ 956 3463 1253 3523 \nQ 1550 3584 1831 3584 \nQ 2591 3584 2966 3190 \nQ 3341 2797 3341 1997 \nz\n\" id=\"DejaVuSans-61\" transform=\"scale(0.015625)\"/>\n      <path d=\"M 544 1381 \nL 544 3500 \nL 1119 3500 \nL 1119 1403 \nQ 1119 906 1312 657 \nQ 1506 409 1894 409 \nQ 2359 409 2629 706 \nQ 2900 1003 2900 1516 \nL 2900 3500 \nL 3475 3500 \nL 3475 0 \nL 2900 0 \nL 2900 538 \nQ 2691 219 2414 64 \nQ 2138 -91 1772 -91 \nQ 1169 -91 856 284 \nQ 544 659 544 1381 \nz\nM 1991 3584 \nL 1991 3584 \nz\n\" id=\"DejaVuSans-75\" transform=\"scale(0.015625)\"/>\n      <path d=\"M 2834 3397 \nL 2834 2853 \nQ 2591 2978 2328 3040 \nQ 2066 3103 1784 3103 \nQ 1356 3103 1142 2972 \nQ 928 2841 928 2578 \nQ 928 2378 1081 2264 \nQ 1234 2150 1697 2047 \nL 1894 2003 \nQ 2506 1872 2764 1633 \nQ 3022 1394 3022 966 \nQ 3022 478 2636 193 \nQ 2250 -91 1575 -91 \nQ 1294 -91 989 -36 \nQ 684 19 347 128 \nL 347 722 \nQ 666 556 975 473 \nQ 1284 391 1588 391 \nQ 1994 391 2212 530 \nQ 2431 669 2431 922 \nQ 2431 1156 2273 1281 \nQ 2116 1406 1581 1522 \nL 1381 1569 \nQ 847 1681 609 1914 \nQ 372 2147 372 2553 \nQ 372 3047 722 3315 \nQ 1072 3584 1716 3584 \nQ 2034 3584 2315 3537 \nQ 2597 3491 2834 3397 \nz\n\" id=\"DejaVuSans-73\" transform=\"scale(0.015625)\"/>\n      <path d=\"M 603 3500 \nL 1178 3500 \nL 1178 0 \nL 603 0 \nL 603 3500 \nz\nM 603 4863 \nL 1178 4863 \nL 1178 4134 \nL 603 4134 \nL 603 4863 \nz\n\" id=\"DejaVuSans-69\" transform=\"scale(0.015625)\"/>\n      <path d=\"M 3513 2113 \nL 3513 0 \nL 2938 0 \nL 2938 2094 \nQ 2938 2591 2744 2837 \nQ 2550 3084 2163 3084 \nQ 1697 3084 1428 2787 \nQ 1159 2491 1159 1978 \nL 1159 0 \nL 581 0 \nL 581 3500 \nL 1159 3500 \nL 1159 2956 \nQ 1366 3272 1645 3428 \nQ 1925 3584 2291 3584 \nQ 2894 3584 3203 3211 \nQ 3513 2838 3513 2113 \nz\n\" id=\"DejaVuSans-6e\" transform=\"scale(0.015625)\"/>\n      <path d=\"M 3263 -1063 \nL 3263 -1509 \nL -63 -1509 \nL -63 -1063 \nL 3263 -1063 \nz\n\" id=\"DejaVuSans-5f\" transform=\"scale(0.015625)\"/>\n      <path d=\"M 1959 3097 \nQ 1497 3097 1228 2736 \nQ 959 2375 959 1747 \nQ 959 1119 1226 758 \nQ 1494 397 1959 397 \nQ 2419 397 2687 759 \nQ 2956 1122 2956 1747 \nQ 2956 2369 2687 2733 \nQ 2419 3097 1959 3097 \nz\nM 1959 3584 \nQ 2709 3584 3137 3096 \nQ 3566 2609 3566 1747 \nQ 3566 888 3137 398 \nQ 2709 -91 1959 -91 \nQ 1206 -91 779 398 \nQ 353 888 353 1747 \nQ 353 2609 779 3096 \nQ 1206 3584 1959 3584 \nz\n\" id=\"DejaVuSans-6f\" transform=\"scale(0.015625)\"/>\n      <path d=\"M 3597 1894 \nL 3597 1613 \nL 953 1613 \nQ 991 1019 1311 708 \nQ 1631 397 2203 397 \nQ 2534 397 2845 478 \nQ 3156 559 3463 722 \nL 3463 178 \nQ 3153 47 2828 -22 \nQ 2503 -91 2169 -91 \nQ 1331 -91 842 396 \nQ 353 884 353 1716 \nQ 353 2575 817 3079 \nQ 1281 3584 2069 3584 \nQ 2775 3584 3186 3129 \nQ 3597 2675 3597 1894 \nz\nM 3022 2063 \nQ 3016 2534 2758 2815 \nQ 2500 3097 2075 3097 \nQ 1594 3097 1305 2825 \nQ 1016 2553 972 2059 \nL 3022 2063 \nz\n\" id=\"DejaVuSans-65\" transform=\"scale(0.015625)\"/>\n     </defs>\n     <use xlink:href=\"#DejaVuSans-67\"/>\n     <use x=\"63.476562\" xlink:href=\"#DejaVuSans-61\"/>\n     <use x=\"124.755859\" xlink:href=\"#DejaVuSans-75\"/>\n     <use x=\"188.134766\" xlink:href=\"#DejaVuSans-73\"/>\n     <use x=\"240.234375\" xlink:href=\"#DejaVuSans-73\"/>\n     <use x=\"292.333984\" xlink:href=\"#DejaVuSans-69\"/>\n     <use x=\"320.117188\" xlink:href=\"#DejaVuSans-61\"/>\n     <use x=\"381.396484\" xlink:href=\"#DejaVuSans-6e\"/>\n     <use x=\"444.775391\" xlink:href=\"#DejaVuSans-5f\"/>\n     <use x=\"494.775391\" xlink:href=\"#DejaVuSans-6e\"/>\n     <use x=\"558.154297\" xlink:href=\"#DejaVuSans-6f\"/>\n     <use x=\"619.335938\" xlink:href=\"#DejaVuSans-69\"/>\n     <use x=\"647.119141\" xlink:href=\"#DejaVuSans-73\"/>\n     <use x=\"699.21875\" xlink:href=\"#DejaVuSans-65\"/>\n    </g>\n   </g>\n  </g>\n </g>\n <defs>\n  <clipPath id=\"p0807341a27\">\n   <rect height=\"217.44\" width=\"217.44\" x=\"7.2\" y=\"22.318125\"/>\n  </clipPath>\n </defs>\n</svg>\n",
      "image/png": "[encoded data removed]"
     },
     "metadata": {
      "needs_background": "light"
     }
    }
   ],
   "source": [
    "i = 6\n",
    "\n",
    "n_test = X_test.shape[0]\n",
    "plt.title('Original')\n",
    "plt.axis('off')\n",
    "plt.imshow(X_test[i])\n",
    "plt.show()\n",
    "for _ in range(len(corruption)):\n",
    "    plt.title(corruption[_])\n",
    "    plt.axis('off')\n",
    "    plt.imshow(X_corr[n_test * _+ i])\n",
    "    plt.show()"
   ]
  },
  {
   "cell_type": "markdown",
   "metadata": {},
   "source": [
    "### Detect drift\n",
    "\n",
    "We use a simple classification model and try to distinguish between the reference data and the corrupted test sets. Initially we'll test at a significance level of $p=0.05$, use $75$% of the shuffled reference and test data for training and evaluate the detector on the remaining $25$%. We only train for 1 epoch."
   ]
  },
  {
   "cell_type": "code",
   "execution_count": 9,
   "metadata": {},
   "outputs": [
    {
     "output_type": "stream",
     "name": "stderr",
     "text": [
      "No model found in my_path/model.\n",
      "WARNING:tensorflow:No training configuration found in the save file, so the model was *not* compiled. Compile it manually.\n"
     ]
    }
   ],
   "source": [
    "tf.random.set_seed(0)\n",
    "\n",
    "model = tf.keras.Sequential(\n",
    "  [\n",
    "      Input(shape=(32, 32, 3)),\n",
    "      Conv2D(8, 4, strides=2, padding='same', activation=tf.nn.relu),\n",
    "      Conv2D(16, 4, strides=2, padding='same', activation=tf.nn.relu),\n",
    "      Conv2D(32, 4, strides=2, padding='same', activation=tf.nn.relu),\n",
    "      Flatten(),\n",
    "      Dense(2, activation='softmax')\n",
    "  ]\n",
    ")\n",
    "\n",
    "cd = ClassifierDrift(p_val=.05, model=model, X_ref=X_ref, train_size=.75, epochs=1)\n",
    "\n",
    "# we can also save/load an initialised detector\n",
    "filepath = 'my_path'  # change to directory where detector is saved\n",
    "save_detector(cd, filepath)\n",
    "cd = load_detector(filepath)"
   ]
  },
  {
   "cell_type": "code",
   "execution_count": 10,
   "metadata": {},
   "outputs": [
    {
     "output_type": "stream",
     "name": "stdout",
     "text": [
      "Drift? No!\n"
     ]
    }
   ],
   "source": [
    "preds_h0 = cd.predict(X_h0)\n",
    "\n",
    "labels = ['No!', 'Yes!']\n",
    "print('Drift? {}'.format(labels[preds_h0['data']['is_drift']]))"
   ]
  },
  {
   "cell_type": "markdown",
   "metadata": {},
   "source": [
    "As expected, no drift occurred. The p-value of the K-S test being performed under the hood is way above the 0.05 threshold."
   ]
  },
  {
   "cell_type": "code",
   "execution_count": 12,
   "metadata": {},
   "outputs": [
    {
     "output_type": "stream",
     "name": "stdout",
     "text": [
      "p_val: 0.5560398731282864 -- threshold: 0.05\n"
     ]
    }
   ],
   "source": [
    "print(f\"p_val: {preds_h0['data']['p_val']} -- threshold: {preds_h0['data']['threshold']}\")"
   ]
  },
  {
   "cell_type": "markdown",
   "metadata": {},
   "source": [
    "Let's now check the predictions on the corrupted data:"
   ]
  },
  {
   "cell_type": "code",
   "execution_count": 14,
   "metadata": {},
   "outputs": [
    {
     "output_type": "stream",
     "name": "stdout",
     "text": [
      "Corruption type: gaussian_noise\nDrift? Yes!\np-val: 0.0\n\n"
     ]
    }
   ],
   "source": [
    "for x, c in zip(X_c, corruption):\n",
    "    preds = cd.predict(x)\n",
    "    print(f'Corruption type: {c}')\n",
    "    print(f\"Drift? {labels[preds['data']['is_drift']]}\")\n",
    "    print(f\"p-val: {preds['data']['p_val']}\")\n",
    "    print('')"
   ]
  },
  {
   "cell_type": "markdown",
   "metadata": {},
   "source": [
    "The classifier could easily distinguish the corrupted from the reference data.\n",
    "\n",
    "### Use all the available data\n",
    "\n",
    "So far we've only used $25$% of the data to detect the drift since $75$% is used for training purposes. At the cost of additional training time we can however leverage all the data via stratified cross-validation. We just need to set the number of folds and keep everything else the same. So for each test set `n_folds` models are trained, and the out-of-fold predictions combined for the test."
   ]
  },
  {
   "cell_type": "code",
   "execution_count": 15,
   "metadata": {},
   "outputs": [
    {
     "output_type": "stream",
     "name": "stderr",
     "text": [
      "Both `n_folds` and `train_size` specified. By default `n_folds` is used.\n"
     ]
    }
   ],
   "source": [
    "cd = ClassifierDrift(p_val=.05, model=model, X_ref=X_ref, n_folds=5, epochs=1)"
   ]
  },
  {
   "cell_type": "code",
   "execution_count": 16,
   "metadata": {},
   "outputs": [
    {
     "output_type": "stream",
     "name": "stdout",
     "text": [
      "Corruption type: gaussian_noise\nDrift? Yes!\np-val: 0.0\n\n"
     ]
    }
   ],
   "source": [
    "for x, c in zip(X_c, corruption):\n",
    "    preds = cd.predict(x)\n",
    "    print(f'Corruption type: {c}')\n",
    "    print(f\"Drift? {labels[preds['data']['is_drift']]}\")\n",
    "    print(f\"p-val: {preds['data']['p_val']}\")\n",
    "    print('')"
   ]
  },
  {
   "cell_type": "code",
   "execution_count": 17,
   "metadata": {},
   "outputs": [
    {
     "output_type": "stream",
     "name": "stdout",
     "text": [
      "Drift? No!\np-val: 0.6670001763077853\n"
     ]
    }
   ],
   "source": [
    "preds_h0 = cd.predict(X_h0)\n",
    "print(f\"Drift? {labels[preds_h0['data']['is_drift']]}\")\n",
    "print(f\"p-val: {preds_h0['data']['p_val']}\")"
   ]
  }
 ],
 "metadata": {
  "kernelspec": {
   "name": "pythonjvsc74a57bd0ffba93b5284319fb7a107c8eacae647f441487dcc7e0323a4c0d3feb66ea8c5e",
   "display_name": "Python 3.8.5  ('.venv': venv)"
  },
  "language_info": {
   "codemirror_mode": {
    "name": "ipython",
    "version": 3
   },
   "file_extension": ".py",
   "mimetype": "text/x-python",
   "name": "python",
   "nbconvert_exporter": "python",
   "pygments_lexer": "ipython3",
   "version": "3.8.5"
  },
  "metadata": {
   "interpreter": {
    "hash": "ffba93b5284319fb7a107c8eacae647f441487dcc7e0323a4c0d3feb66ea8c5e"
   }
  }
 },
 "nbformat": 4,
 "nbformat_minor": 4
}