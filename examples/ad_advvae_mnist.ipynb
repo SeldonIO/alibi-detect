{
 "cells": [
  {
   "cell_type": "markdown",
   "metadata": {},
   "source": [
    "# Adversarial VAE detection on MNIST\n",
    "\n",
    "## Method\n",
    "\n",
    "The adversarial VAE detector is first trained on a batch of unlabeled but normal (*not adversarial*) data. The loss is however different from traditional VAE training and focuses on minimizing the KL-divergence between a classifier's predictions on the original and reconstructed data. When an adversarial instance is fed to the VAE, the KL-divergence between the predictions on the adversarial example and the reconstruction is large. The reconstruction does not contain the adversarial artefacts and has a very different prediction distribution. As a result, the adversarial instance is flagged.\n",
    "\n",
    "## Dataset\n",
    "\n",
    "MNIST consists of 60,000 28 by 28 grayscale train and 10,000 test images representing the numbers 0 to 9."
   ]
  },
  {
   "cell_type": "code",
   "execution_count": 1,
   "metadata": {},
   "outputs": [],
   "source": [
    "import logging\n",
    "import matplotlib.pyplot as plt\n",
    "import numpy as np\n",
    "import tensorflow as tf\n",
    "tf.keras.backend.clear_session()\n",
    "from tensorflow.keras.layers import Activation, Conv2D, Conv2DTranspose, Dense, Dropout\n",
    "from tensorflow.keras.layers import Flatten, Input, InputLayer, Reshape, MaxPooling2D\n",
    "from tensorflow.keras.models import Model\n",
    "from tensorflow.keras.utils import to_categorical\n",
    "\n",
    "# Adversarial attack method. The latest release of the `cleverhans` package does\n",
    "# not support TensrFlow 2 yet, so we need to install from the master branch:\n",
    "# pip install git+https://github.com/tensorflow/cleverhans.git#egg=cleverhans\n",
    "from cleverhans.future.tf2.attacks import projected_gradient_descent\n",
    "\n",
    "from odcd.models.losses import loss_adv_vae\n",
    "from odcd.ad import AdversarialVAE\n",
    "from odcd.utils.saving import save_detector, load_detector, save_tf_model, load_tf_model\n",
    "from odcd.utils.visualize import plot_instance_score\n",
    "\n",
    "logger = tf.get_logger()\n",
    "logger.setLevel(logging.ERROR)"
   ]
  },
  {
   "cell_type": "markdown",
   "metadata": {},
   "source": [
    "## Load MNIST data"
   ]
  },
  {
   "cell_type": "code",
   "execution_count": 2,
   "metadata": {},
   "outputs": [
    {
     "name": "stdout",
     "output_type": "stream",
     "text": [
      "(60000, 28, 28, 1) (60000, 10) (10000, 28, 28, 1) (10000, 10)\n"
     ]
    }
   ],
   "source": [
    "train, test = tf.keras.datasets.mnist.load_data()\n",
    "X_train, y_train = train\n",
    "X_test, y_test = test\n",
    "\n",
    "X_train = X_train.reshape(-1, 28, 28, 1).astype('float32') / 255\n",
    "X_test = X_test.reshape(-1, 28, 28, 1).astype('float32') / 255\n",
    "y_train = to_categorical(y_train, 10)\n",
    "y_test = to_categorical(y_test, 10)\n",
    "print(X_train.shape, y_train.shape, X_test.shape, y_test.shape)"
   ]
  },
  {
   "cell_type": "markdown",
   "metadata": {},
   "source": [
    "## Create and train MNIST model"
   ]
  },
  {
   "cell_type": "code",
   "execution_count": 3,
   "metadata": {},
   "outputs": [],
   "source": [
    "load_mnist_model = False"
   ]
  },
  {
   "cell_type": "code",
   "execution_count": 4,
   "metadata": {},
   "outputs": [],
   "source": [
    "filepath = './model_mnist/'\n",
    "if load_mnist_model:\n",
    "    model = load_tf_model(filepath)\n",
    "else:\n",
    "    # define model\n",
    "    inputs = Input(shape=(X_train.shape[1:]))\n",
    "    x = Conv2D(64, 2, padding='same', activation='relu')(inputs)\n",
    "    x = MaxPooling2D(pool_size=2)(x)\n",
    "    x = Dropout(.3)(x)\n",
    "    \n",
    "    x = Conv2D(32, 2, padding='same', activation='relu')(x)\n",
    "    x = MaxPooling2D(pool_size=2)(x)\n",
    "    x = Dropout(.3)(x)\n",
    "    \n",
    "    x = Flatten()(x)\n",
    "    x = Dense(256, activation='relu')(x)\n",
    "    x = Dropout(.5)(x)\n",
    "    logits = Dense(10, name='logits')(x)\n",
    "    outputs = Activation('softmax', name='softmax')(logits)\n",
    "    model = Model(inputs=inputs, outputs=outputs)\n",
    "    model.compile(loss='categorical_crossentropy',\n",
    "                  optimizer='adam',\n",
    "                  metrics=['accuracy'])\n",
    "    \n",
    "    # train model\n",
    "    model.fit(X_train,\n",
    "              y_train,\n",
    "              epochs=5,\n",
    "              batch_size=256,\n",
    "              verbose=0,\n",
    "              validation_data=(X_test, y_test)\n",
    "              )\n",
    "    \n",
    "    # save model\n",
    "    save_tf_model(model, filepath)"
   ]
  },
  {
   "cell_type": "markdown",
   "metadata": {},
   "source": [
    "Evaluate model:"
   ]
  },
  {
   "cell_type": "code",
   "execution_count": 5,
   "metadata": {},
   "outputs": [
    {
     "name": "stdout",
     "output_type": "stream",
     "text": [
      "Test loss: 0.0419 -- accuracy: 0.9865\n"
     ]
    }
   ],
   "source": [
    "# evaluate model\n",
    "results = model.evaluate(X_test, y_test, batch_size=256, verbose=0)\n",
    "print('Test loss: {:.4f} -- accuracy: {:.4f}'.format(results[0], results[1]))"
   ]
  },
  {
   "cell_type": "markdown",
   "metadata": {},
   "source": [
    "## Train Adversarial VAE for MNIST"
   ]
  },
  {
   "cell_type": "code",
   "execution_count": 6,
   "metadata": {},
   "outputs": [],
   "source": [
    "load_adversarial_detector = False"
   ]
  },
  {
   "cell_type": "code",
   "execution_count": 7,
   "metadata": {},
   "outputs": [
    {
     "name": "stdout",
     "output_type": "stream",
     "text": [
      "938/938 [=] - 302s 322ms/step - loss: 0.2373\n",
      "938/938 [=] - 245s 261ms/step - loss: 0.0259\n"
     ]
    }
   ],
   "source": [
    "filepath = './ad_vae_mnist/'\n",
    "if load_adversarial_detector:  # load pretrained adversarial detector\n",
    "    ad = load_detector(filepath)\n",
    "else:  # define model, initialize, train and save adversarial detector\n",
    "    latent_dim = 50\n",
    "    \n",
    "    encoder_net = tf.keras.Sequential(\n",
    "      [\n",
    "          InputLayer(input_shape=(28, 28, 1)),\n",
    "          Conv2D(64, 4, strides=2, padding='same', activation=tf.nn.relu),\n",
    "          Conv2D(128, 4, strides=2, padding='same', activation=tf.nn.relu),\n",
    "          Conv2D(512, 4, strides=2, padding='same', activation=tf.nn.relu)\n",
    "      ])\n",
    "    \n",
    "    decoder_net = tf.keras.Sequential(\n",
    "      [\n",
    "          InputLayer(input_shape=(latent_dim,)),\n",
    "          Dense(7*7*32, activation=tf.nn.relu),\n",
    "          Reshape(target_shape=(7, 7, 32)),\n",
    "          Conv2DTranspose(64, 3, strides=2, padding='same', activation=tf.nn.relu),\n",
    "          Conv2DTranspose(32, 3, strides=2, padding='same', activation=tf.nn.relu),\n",
    "          Conv2DTranspose(1, 3, strides=1, padding='same', activation='sigmoid')\n",
    "      ])\n",
    "    \n",
    "    # initialize adversarial detector\n",
    "    ad = AdversarialVAE(threshold=.5,  # threshold for adversarial score\n",
    "                        model=model,\n",
    "                        encoder_net=encoder_net,  # can also pass VAE model instead\n",
    "                        decoder_net=decoder_net,  # of separate encoder and decoder\n",
    "                        latent_dim=latent_dim,\n",
    "                        samples=2,  # nb of samples drawn by VAE\n",
    "                        beta=0.  # weight on KL-divergence loss term of latent space\n",
    "                       )\n",
    "    \n",
    "    # train\n",
    "    ad.fit(X_train,\n",
    "           loss_fn=loss_adv_vae,\n",
    "           w_model=1.,  # weight on KL-divergence loss term of model predictions\n",
    "           w_recon=0.,  # weight on elbo loss term\n",
    "           epochs=2,\n",
    "           verbose=True)\n",
    "    \n",
    "    # save the trained outlier detector\n",
    "    save_detector(ad, filepath)"
   ]
  },
  {
   "cell_type": "markdown",
   "metadata": {},
   "source": [
    "## Generate adversarial instances\n",
    "\n",
    "The `cleverhans` adversarial attack methods assume that the model outputs logits, so we will create a modified model by simply removing the softmax output layer:"
   ]
  },
  {
   "cell_type": "code",
   "execution_count": 8,
   "metadata": {},
   "outputs": [],
   "source": [
    "model_logits = Model(inputs=model.inputs, outputs=model.layers[-2].output)"
   ]
  },
  {
   "cell_type": "markdown",
   "metadata": {},
   "source": [
    "Select observations for which we will create adversarial instances:"
   ]
  },
  {
   "cell_type": "code",
   "execution_count": 9,
   "metadata": {},
   "outputs": [
    {
     "name": "stdout",
     "output_type": "stream",
     "text": [
      "(5, 28, 28, 1)\n"
     ]
    }
   ],
   "source": [
    "ids = np.arange(5)\n",
    "X_to_adv = X_test[ids]\n",
    "print(X_to_adv.shape)"
   ]
  },
  {
   "cell_type": "markdown",
   "metadata": {},
   "source": [
    "Launch adversarial attack. Follow the [Basic Iterative Method (Kurakin et al. 2016)](https://arxiv.org/pdf/1607.02533.pdf) when `rand_init` is set to 0 or the [Madry et al. (2017)](https://arxiv.org/pdf/1706.06083.pdf) method when `rand_minmax` is larger than 0:"
   ]
  },
  {
   "cell_type": "code",
   "execution_count": 10,
   "metadata": {},
   "outputs": [],
   "source": [
    "X_adv = projected_gradient_descent(model_logits,\n",
    "                                   X_to_adv,\n",
    "                                   eps=2.,\n",
    "                                   eps_iter=1.,\n",
    "                                   nb_iter=10,\n",
    "                                   norm=2,\n",
    "                                   clip_min=X_train.min(),\n",
    "                                   clip_max=X_train.max(),\n",
    "                                   rand_init=None,\n",
    "                                   rand_minmax=.3,\n",
    "                                   targeted=False,\n",
    "                                   sanity_checks=False\n",
    "                                  ).numpy()"
   ]
  },
  {
   "cell_type": "markdown",
   "metadata": {},
   "source": [
    "Visualize adversarial instances with model predictions:"
   ]
  },
  {
   "cell_type": "code",
   "execution_count": 11,
   "metadata": {},
   "outputs": [
    {
     "data": {
      "image/png": "[encoded data removed]",
      "text/plain": [
       "<Figure size 720x1440 with 10 Axes>"
      ]
     },
     "metadata": {
      "needs_background": "light"
     },
     "output_type": "display_data"
    }
   ],
   "source": [
    "y_pred = np.argmax(model(X_to_adv).numpy(), axis=-1)\n",
    "y_pred_adv = np.argmax(model(X_adv).numpy(), axis=-1)\n",
    "\n",
    "n_rows = X_to_adv.shape[0]\n",
    "n_cols = 2\n",
    "figsize = (10, 20)\n",
    "img_shape = (28, 28)\n",
    "\n",
    "fig, axes = plt.subplots(nrows=n_rows, ncols=n_cols, figsize=figsize)\n",
    "\n",
    "n_subplot = 1\n",
    "for i in range(n_rows):\n",
    "    plt.subplot(n_rows, n_cols, n_subplot)\n",
    "    plt.axis('off')\n",
    "    if i == 0:\n",
    "        plt.title('Original'\n",
    "                  '\\nPred: {}'.format(y_pred[i]))\n",
    "    else:\n",
    "        plt.title('Pred: {}'.format(y_pred[i]))\n",
    "    plt.imshow(X_to_adv[i].reshape(img_shape))\n",
    "    n_subplot += 1\n",
    "\n",
    "    plt.subplot(n_rows, n_cols, n_subplot)\n",
    "    plt.axis('off')\n",
    "    if i == 0:\n",
    "        plt.title('Adversarial'\n",
    "                  '\\nPred: {}'.format(y_pred_adv[i]))\n",
    "    else:\n",
    "        plt.title('Pred: {}'.format(y_pred_adv[i]))\n",
    "    plt.imshow(X_adv[i].reshape(img_shape))\n",
    "    n_subplot += 1\n",
    "plt.show()"
   ]
  },
  {
   "cell_type": "markdown",
   "metadata": {},
   "source": [
    "## Detect adversarial instances"
   ]
  },
  {
   "cell_type": "code",
   "execution_count": 12,
   "metadata": {},
   "outputs": [
    {
     "name": "stdout",
     "output_type": "stream",
     "text": [
      "(10, 28, 28, 1)\n"
     ]
    }
   ],
   "source": [
    "X = np.concatenate([X_to_adv, X_adv], axis=0)\n",
    "print(X.shape)"
   ]
  },
  {
   "cell_type": "code",
   "execution_count": 13,
   "metadata": {},
   "outputs": [],
   "source": [
    "ad_preds = ad.predict(X, return_instance_score=True)"
   ]
  },
  {
   "cell_type": "markdown",
   "metadata": {},
   "source": [
    "Plot adversarial score for each instance:"
   ]
  },
  {
   "cell_type": "code",
   "execution_count": 14,
   "metadata": {},
   "outputs": [
    {
     "data": {
      "image/png": "[encoded data removed]",
      "text/plain": [
       "<Figure size 432x288 with 1 Axes>"
      ]
     },
     "metadata": {
      "needs_background": "light"
     },
     "output_type": "display_data"
    }
   ],
   "source": [
    "labels = ['Normal', 'Adversarial']\n",
    "target = np.array([0 if i < X_to_adv.shape[0] else 1 for i in range(X.shape[0])])\n",
    "plot_instance_score(ad_preds, target, labels, ad.threshold)"
   ]
  },
  {
   "cell_type": "markdown",
   "metadata": {},
   "source": [
    "The adversarial detector easily separates the normal from adversarial instances which predict other classes than the original class. We can plot the individual instances again with their adversarial scores:"
   ]
  },
  {
   "cell_type": "code",
   "execution_count": 15,
   "metadata": {},
   "outputs": [
    {
     "data": {
      "image/png": "[encoded data removed]",
      "text/plain": [
       "<Figure size 720x1440 with 10 Axes>"
      ]
     },
     "metadata": {
      "needs_background": "light"
     },
     "output_type": "display_data"
    }
   ],
   "source": [
    "scores = ad_preds['data']['instance_score']\n",
    "\n",
    "fig, axes = plt.subplots(nrows=n_rows, ncols=n_cols, figsize=figsize)\n",
    "\n",
    "n_subplot = 1\n",
    "for i in range(n_rows):\n",
    "    plt.subplot(n_rows, n_cols, n_subplot)\n",
    "    plt.axis('off')\n",
    "    if i == 0:\n",
    "        plt.title('Original'\n",
    "                  '\\nPred: {}'\n",
    "                  '\\nAdv score: {:.4f}'.format(y_pred[i], scores[i]))\n",
    "    else:\n",
    "        plt.title('Pred: {}'\n",
    "                  '\\nAdv score: {:.4f}'.format(y_pred[i], scores[i]))\n",
    "    plt.imshow(X_to_adv[i].reshape(img_shape))\n",
    "    n_subplot += 1\n",
    "\n",
    "    plt.subplot(n_rows, n_cols, n_subplot)\n",
    "    plt.axis('off')\n",
    "    if i == 0:\n",
    "        plt.title('Adversarial'\n",
    "                  '\\nPred: {}'\n",
    "                  '\\nAdv score: {:.4f}'.format(y_pred_adv[i], scores[i + n_rows]))\n",
    "    else:\n",
    "        plt.title('Pred: {}'\n",
    "                  '\\nAdv score: {:.4f}'.format(y_pred_adv[i], scores[i + n_rows]))\n",
    "    plt.imshow(X_adv[i].reshape(img_shape))\n",
    "    n_subplot += 1\n",
    "plt.show()"
   ]
  }
 ],
 "metadata": {
  "kernelspec": {
   "display_name": "Python [conda env:cdod] *",
   "language": "python",
   "name": "conda-env-cdod-py"
  },
  "language_info": {
   "codemirror_mode": {
    "name": "ipython",
    "version": 3
   },
   "file_extension": ".py",
   "mimetype": "text/x-python",
   "name": "python",
   "nbconvert_exporter": "python",
   "pygments_lexer": "ipython3",
   "version": "3.6.9"
  }
 },
 "nbformat": 4,
 "nbformat_minor": 2
}
