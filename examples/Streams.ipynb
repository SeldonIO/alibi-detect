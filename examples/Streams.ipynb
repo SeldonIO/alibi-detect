{
 "cells": [
  {
   "cell_type": "code",
   "execution_count": 1,
   "metadata": {},
   "outputs": [
    {
     "name": "stderr",
     "output_type": "stream",
     "text": [
      "Using TensorFlow backend.\n"
     ]
    }
   ],
   "source": [
    "import pandas as pd\n",
    "import numpy as np\n",
    "import tensorflow as tf\n",
    "import keras \n",
    "from scipy.stats import entropy\n",
    "import sys\n",
    "sys.path.append('..')\n",
    "sys.path.append('../odcd/cd/')\n",
    "sys.path.append('../odcd/utils/')\n",
    "\n",
    "from sklearn.model_selection import train_test_split\n",
    "from sklearn.preprocessing import MinMaxScaler\n",
    "from sklearn.metrics import accuracy_score, confusion_matrix\n",
    "import matplotlib\n",
    "import seaborn as sns\n",
    "from creme.stats import Mean, Var\n",
    "import matplotlib.pyplot as plt\n",
    "import model_symmetries as vsf\n",
    "%matplotlib inline"
   ]
  },
  {
   "cell_type": "code",
   "execution_count": 2,
   "metadata": {
    "collapsed": true
   },
   "outputs": [],
   "source": [
    "import numpy as np\n",
    "import keras\n",
    "from keras.layers import Conv2D, Dense, Dropout, Flatten, MaxPooling2D, Input\n",
    "from keras.models import Model\n",
    "from keras.utils import to_categorical"
   ]
  },
  {
   "cell_type": "code",
   "execution_count": 3,
   "metadata": {
    "collapsed": true
   },
   "outputs": [],
   "source": [
    "from skmultiflow.drift_detection.adwin import ADWIN"
   ]
  },
  {
   "cell_type": "code",
   "execution_count": 4,
   "metadata": {
    "collapsed": true
   },
   "outputs": [],
   "source": [
    "import streaming_sim_test as sst"
   ]
  },
  {
   "cell_type": "code",
   "execution_count": 5,
   "metadata": {
    "collapsed": true
   },
   "outputs": [],
   "source": [
    "from importlib import reload"
   ]
  },
  {
   "cell_type": "code",
   "execution_count": 6,
   "metadata": {
    "collapsed": true
   },
   "outputs": [],
   "source": [
    "from sklearn.neighbors import NearestNeighbors"
   ]
  },
  {
   "cell_type": "code",
   "execution_count": 7,
   "metadata": {
    "collapsed": true
   },
   "outputs": [],
   "source": [
    "import colorama\n",
    "from colorama import Fore, Style"
   ]
  },
  {
   "cell_type": "code",
   "execution_count": 8,
   "metadata": {
    "collapsed": true
   },
   "outputs": [],
   "source": [
    "def evaluate(clf, X, y):\n",
    "    y_preds = clf.predict(X)\n",
    "    y_preds = np.argmax(y_preds, axis=1)\n",
    "    y = np.argmax(y, axis=1)\n",
    "    print('Accuracy:', accuracy_score(y_preds, y))\n",
    "    print('Confusion matrix:', confusion_matrix(y_preds, y))"
   ]
  },
  {
   "cell_type": "code",
   "execution_count": 9,
   "metadata": {
    "collapsed": true
   },
   "outputs": [],
   "source": [
    "def make_data_stream(signal, agg='mean', window = 100, start=0):\n",
    "    if agg == 'window':\n",
    "        data_stream = []\n",
    "        for i in range(len(signal)):\n",
    "            data_stream.append(signal[i:i + window].mean())\n",
    "        data_stream = np.asarray(data_stream)\n",
    "        df = pd.Series(data_stream, name='stream').to_frame().reset_index()\n",
    "\n",
    "    elif agg == 'mean':\n",
    "        data_stream = np.zeros(len(signal) - start)\n",
    "        mu = Mean()\n",
    "        var = Var()\n",
    "        for i in range(len(data_stream)):\n",
    "            mu.update(signal[i + start])\n",
    "            data_stream[i] = mu.get()\n",
    "        df = pd.DataFrame()\n",
    "        df['stream_raw'] = signal[start:]\n",
    "        df['stream'] = data_stream\n",
    "        df.reset_index(inplace=True)\n",
    "\n",
    "    elif agg == 'raw':\n",
    "        data_stream = signal\n",
    "        df = pd.Series(data_stream, name='stream').to_frame().reset_index()\n",
    "    return df"
   ]
  },
  {
   "cell_type": "markdown",
   "metadata": {},
   "source": [
    "# Cifar"
   ]
  },
  {
   "cell_type": "code",
   "execution_count": 10,
   "metadata": {
    "collapsed": true
   },
   "outputs": [],
   "source": [
    "def prepare_data_cifar(permute=False, perm_features=50, contam_cifar100=False):\n",
    "    \n",
    "    cifar = tf.keras.datasets.cifar10.load_data()\n",
    "    (X_train, y_train), (X_test, y_test) = cifar\n",
    "    print('x_train shape:', X_train.shape, 'y_train shape:', y_train.shape)\n",
    "    X_train = X_train.astype('float32')\n",
    "    X_test = X_test.astype('float32')\n",
    "    X_train /= 255\n",
    "    X_test /= 255\n",
    "        \n",
    "    if not permute:\n",
    "        idxs_train_0_5 = np.where((y_train == 5) | (y_train == 4) | (y_train == 3) | \n",
    "                            (y_train == 2) | (y_train == 1) | (y_train == 0))\n",
    "        idxs_test_0_5 = np.where((y_test == 5) | (y_test == 4) | (y_test == 3) | \n",
    "                            (y_test == 2) | (y_test == 1) | (y_test == 0))\n",
    "\n",
    "        idxs_train_6_9 = np.where((y_train == 6) | (y_train == 7) | (y_train == 8) | \n",
    "                            (y_train == 9))\n",
    "        idxs_test_6_9 = np.where((y_test == 6) | (y_test == 7) | (y_test == 8) | \n",
    "                            (y_test == 9))\n",
    "\n",
    "        print(idxs_train_0_5[0].shape)\n",
    "        print(idxs_test_0_5[0].shape)\n",
    "\n",
    "        X_train_0_5 = X_train[idxs_train_0_5[0]]\n",
    "        y_train_0_5 = y_train[idxs_train_0_5[0]]\n",
    "\n",
    "        X_test_0_5 = X_test[idxs_test_0_5[0]]\n",
    "        y_test_0_5 = y_test[idxs_test_0_5[0]]\n",
    "    \n",
    "        X_6_9 = X_test[idxs_test_6_9[0]]\n",
    "        y_6_9 = y_test[idxs_test_6_9[0]]\n",
    "\n",
    "        y_train_0_5 = tf.keras.utils.to_categorical(y_train_0_5)\n",
    "        y_test_0_5 = tf.keras.utils.to_categorical(y_test_0_5)\n",
    "        y_6_9 = tf.keras.utils.to_categorical(y_6_9)\n",
    "    \n",
    "        y_6_9 = np.delete(y_6_9, np.where(~y_6_9.any(axis=0)), axis=1)\n",
    "        print(X_train_0_5.shape, y_train_0_5.shape)\n",
    "        print(X_test_0_5.shape, y_test_0_5.shape)\n",
    "        print(X_6_9.shape, y_6_9.shape)\n",
    "        return None, None, X_train_0_5, y_train_0_5, X_test_0_5, y_test_0_5, X_6_9, y_6_9 \n",
    "    else:\n",
    "        mapp = {(32 * i) + j: [i, j]  for i in range(32) for j in range(32)}\n",
    "        perm_1 = np.random.permutation(range(32 * 32))[:perm_features]\n",
    "        perm_2 = np.random.permutation(range(32 * 32))[:perm_features]\n",
    "        X_cd = X_test.copy()\n",
    "        for t in zip(perm_1, perm_2):\n",
    "            X_cd[:, mapp[t[0]][0], mapp[t[0]][1], :] = X_cd[:, mapp[t[1]][0], mapp[t[1]][1], :]\n",
    "        y_cd = y_test\n",
    "        \n",
    "        y_train = tf.keras.utils.to_categorical(y_train)\n",
    "        y_test = tf.keras.utils.to_categorical(y_test)\n",
    "        y_cd = tf.keras.utils.to_categorical(y_cd)\n",
    "        \n",
    "        print(X_train.shape, y_train.shape)\n",
    "        print(X_test.shape, y_test.shape)\n",
    "        print(X_cd.shape, y_cd.shape)\n",
    "        return None, None, X_train, y_train, X_test, y_test, X_cd, y_cd"
   ]
  },
  {
   "cell_type": "code",
   "execution_count": 11,
   "metadata": {
    "collapsed": true
   },
   "outputs": [],
   "source": [
    "def model_cifar():\n",
    "    x_in = tf.keras.layers.Input(shape=(32, 32, 3))\n",
    "    x = tf.keras.layers.Conv2D(32, (3, 3), padding='same', input_shape=(32, 32, 3),  activation='relu')(x_in)\n",
    "    x = tf.keras.layers.Conv2D(32, (3, 3),  activation='relu')(x)\n",
    "    x = tf.keras.layers.MaxPooling2D(pool_size=(2, 2))(x)\n",
    "    x = tf.keras.layers.Dropout(0.25)(x)\n",
    "\n",
    "    x = tf.keras.layers.Conv2D(64, (3, 3), padding='same', activation='relu')(x)\n",
    "    x = tf.keras.layers.Conv2D(64, (3, 3), activation='relu')(x)\n",
    "    x = tf.keras.layers.MaxPooling2D(pool_size=(2, 2))(x)\n",
    "    x = tf.keras.layers.Dropout(0.25)(x)\n",
    "\n",
    "    x = tf.keras.layers.Flatten()(x)\n",
    "    x = tf.keras.layers.Dense(512, activation='relu')(x)\n",
    "    x = tf.keras.layers.Dropout(0.5)(x)\n",
    "    x_out = tf.keras.layers.Dense(10, activation='softmax')(x)\n",
    "    \n",
    "    cnn = tf.keras.models.Model(inputs=x_in, outputs=x_out)\n",
    "    cnn.compile(loss='categorical_crossentropy',\n",
    "              optimizer='Adam',\n",
    "              metrics=['accuracy'])\n",
    "    \n",
    "    return cnn"
   ]
  },
  {
   "cell_type": "markdown",
   "metadata": {},
   "source": [
    "### Prepare data"
   ]
  },
  {
   "cell_type": "code",
   "execution_count": 12,
   "metadata": {},
   "outputs": [
    {
     "name": "stdout",
     "output_type": "stream",
     "text": [
      "x_train shape: (50000, 32, 32, 3) y_train shape: (50000, 1)\n",
      "(50000, 32, 32, 3) (50000, 10)\n",
      "(10000, 32, 32, 3) (10000, 10)\n",
      "(10000, 32, 32, 3) (10000, 10)\n"
     ]
    }
   ],
   "source": [
    "_, _, X_train, y_train, X_test, y_test, X_cd, y_cd = prepare_data_cifar(permute=True, perm_features=50)"
   ]
  },
  {
   "cell_type": "markdown",
   "metadata": {},
   "source": [
    "### Train model"
   ]
  },
  {
   "cell_type": "code",
   "execution_count": 13,
   "metadata": {},
   "outputs": [
    {
     "name": "stdout",
     "output_type": "stream",
     "text": [
      "_________________________________________________________________\n",
      "Layer (type)                 Output Shape              Param #   \n",
      "=================================================================\n",
      "input_1 (InputLayer)         (None, 32, 32, 3)         0         \n",
      "_________________________________________________________________\n",
      "conv2d (Conv2D)              (None, 32, 32, 32)        896       \n",
      "_________________________________________________________________\n",
      "conv2d_1 (Conv2D)            (None, 30, 30, 32)        9248      \n",
      "_________________________________________________________________\n",
      "max_pooling2d (MaxPooling2D) (None, 15, 15, 32)        0         \n",
      "_________________________________________________________________\n",
      "dropout (Dropout)            (None, 15, 15, 32)        0         \n",
      "_________________________________________________________________\n",
      "conv2d_2 (Conv2D)            (None, 15, 15, 64)        18496     \n",
      "_________________________________________________________________\n",
      "conv2d_3 (Conv2D)            (None, 13, 13, 64)        36928     \n",
      "_________________________________________________________________\n",
      "max_pooling2d_1 (MaxPooling2 (None, 6, 6, 64)          0         \n",
      "_________________________________________________________________\n",
      "dropout_1 (Dropout)          (None, 6, 6, 64)          0         \n",
      "_________________________________________________________________\n",
      "flatten (Flatten)            (None, 2304)              0         \n",
      "_________________________________________________________________\n",
      "dense (Dense)                (None, 512)               1180160   \n",
      "_________________________________________________________________\n",
      "dropout_2 (Dropout)          (None, 512)               0         \n",
      "_________________________________________________________________\n",
      "dense_1 (Dense)              (None, 10)                5130      \n",
      "=================================================================\n",
      "Total params: 1,250,858\n",
      "Trainable params: 1,250,858\n",
      "Non-trainable params: 0\n",
      "_________________________________________________________________\n"
     ]
    }
   ],
   "source": [
    "clf = model_cifar()\n",
    "clf.summary()"
   ]
  },
  {
   "cell_type": "code",
   "execution_count": 14,
   "metadata": {
    "scrolled": false
   },
   "outputs": [
    {
     "name": "stdout",
     "output_type": "stream",
     "text": [
      "Train on 50000 samples, validate on 10000 samples\n",
      "Epoch 1/30\n",
      "50000/50000 [==============================] - 12s 234us/step - loss: 1.4944 - acc: 0.4541 - val_loss: 1.0852 - val_acc: 0.6123\n",
      "Epoch 2/30\n",
      "50000/50000 [==============================] - 9s 182us/step - loss: 1.0872 - acc: 0.6139 - val_loss: 0.9744 - val_acc: 0.6504\n",
      "Epoch 3/30\n",
      "50000/50000 [==============================] - 9s 182us/step - loss: 0.9478 - acc: 0.6652 - val_loss: 0.8704 - val_acc: 0.6972\n",
      "Epoch 4/30\n",
      "50000/50000 [==============================] - 9s 182us/step - loss: 0.8596 - acc: 0.6970 - val_loss: 0.7746 - val_acc: 0.7335\n",
      "Epoch 5/30\n",
      "50000/50000 [==============================] - 9s 183us/step - loss: 0.8062 - acc: 0.7154 - val_loss: 0.7850 - val_acc: 0.7291\n",
      "Epoch 6/30\n",
      "50000/50000 [==============================] - 9s 183us/step - loss: 0.7639 - acc: 0.7306 - val_loss: 0.7238 - val_acc: 0.7534\n",
      "Epoch 7/30\n",
      "50000/50000 [==============================] - 9s 183us/step - loss: 0.7229 - acc: 0.7468 - val_loss: 0.6968 - val_acc: 0.7601\n",
      "Epoch 8/30\n",
      "50000/50000 [==============================] - 9s 183us/step - loss: 0.6928 - acc: 0.7585 - val_loss: 0.6868 - val_acc: 0.7640\n",
      "Epoch 9/30\n",
      "50000/50000 [==============================] - 9s 183us/step - loss: 0.6710 - acc: 0.7669 - val_loss: 0.6680 - val_acc: 0.7707\n",
      "Epoch 10/30\n",
      "50000/50000 [==============================] - 9s 188us/step - loss: 0.6435 - acc: 0.7752 - val_loss: 0.6788 - val_acc: 0.7672\n",
      "Epoch 11/30\n",
      "50000/50000 [==============================] - 9s 185us/step - loss: 0.6246 - acc: 0.7806 - val_loss: 0.6638 - val_acc: 0.7742\n",
      "Epoch 12/30\n",
      "50000/50000 [==============================] - 9s 183us/step - loss: 0.6033 - acc: 0.7875 - val_loss: 0.6568 - val_acc: 0.7800\n",
      "Epoch 13/30\n",
      "50000/50000 [==============================] - 9s 182us/step - loss: 0.5865 - acc: 0.7931 - val_loss: 0.6748 - val_acc: 0.7736\n",
      "Epoch 14/30\n",
      "50000/50000 [==============================] - 9s 182us/step - loss: 0.5653 - acc: 0.8019 - val_loss: 0.6731 - val_acc: 0.7761\n",
      "Epoch 15/30\n",
      "50000/50000 [==============================] - 9s 182us/step - loss: 0.5676 - acc: 0.8021 - val_loss: 0.6256 - val_acc: 0.7909\n",
      "Epoch 16/30\n",
      "50000/50000 [==============================] - 9s 184us/step - loss: 0.5413 - acc: 0.8095 - val_loss: 0.6354 - val_acc: 0.7907\n",
      "Epoch 17/30\n",
      "50000/50000 [==============================] - 9s 182us/step - loss: 0.5288 - acc: 0.8143 - val_loss: 0.6551 - val_acc: 0.7836\n",
      "Epoch 18/30\n",
      "50000/50000 [==============================] - 9s 183us/step - loss: 0.5217 - acc: 0.8172 - val_loss: 0.6705 - val_acc: 0.7844\n",
      "Epoch 19/30\n",
      "50000/50000 [==============================] - 9s 182us/step - loss: 0.5165 - acc: 0.8183 - val_loss: 0.6676 - val_acc: 0.7832\n",
      "Epoch 20/30\n",
      "50000/50000 [==============================] - 9s 182us/step - loss: 0.5058 - acc: 0.8221 - val_loss: 0.6281 - val_acc: 0.7922\n",
      "Epoch 21/30\n",
      "50000/50000 [==============================] - 9s 182us/step - loss: 0.5000 - acc: 0.8243 - val_loss: 0.6505 - val_acc: 0.7906\n",
      "Epoch 22/30\n",
      "50000/50000 [==============================] - 9s 182us/step - loss: 0.4896 - acc: 0.8282 - val_loss: 0.6341 - val_acc: 0.7868\n",
      "Epoch 23/30\n",
      "50000/50000 [==============================] - 9s 182us/step - loss: 0.4841 - acc: 0.8287 - val_loss: 0.6342 - val_acc: 0.7878\n",
      "Epoch 24/30\n",
      "50000/50000 [==============================] - 9s 182us/step - loss: 0.4741 - acc: 0.8347 - val_loss: 0.6919 - val_acc: 0.7737\n",
      "Epoch 25/30\n",
      "50000/50000 [==============================] - 9s 182us/step - loss: 0.4686 - acc: 0.8365 - val_loss: 0.6718 - val_acc: 0.7828\n",
      "Epoch 26/30\n",
      "50000/50000 [==============================] - 9s 183us/step - loss: 0.4622 - acc: 0.8356 - val_loss: 0.6565 - val_acc: 0.7931\n",
      "Epoch 27/30\n",
      "50000/50000 [==============================] - 9s 183us/step - loss: 0.4601 - acc: 0.8388 - val_loss: 0.6508 - val_acc: 0.7900\n",
      "Epoch 28/30\n",
      "50000/50000 [==============================] - 9s 182us/step - loss: 0.4532 - acc: 0.8404 - val_loss: 0.6476 - val_acc: 0.7947\n",
      "Epoch 29/30\n",
      "50000/50000 [==============================] - 9s 182us/step - loss: 0.4525 - acc: 0.8420 - val_loss: 0.6487 - val_acc: 0.7903\n",
      "Epoch 30/30\n",
      "50000/50000 [==============================] - 9s 181us/step - loss: 0.4415 - acc: 0.8458 - val_loss: 0.6625 - val_acc: 0.7905\n"
     ]
    }
   ],
   "source": [
    "train = True\n",
    "if train:\n",
    "    clf.fit(X_train, y_train, epochs=30, validation_data=(X_test, y_test))\n",
    "else:\n",
    "    clf = tf.keras.models.load_model('cnn.h5')"
   ]
  },
  {
   "cell_type": "markdown",
   "metadata": {},
   "source": [
    "### Evaluate model"
   ]
  },
  {
   "cell_type": "code",
   "execution_count": 15,
   "metadata": {},
   "outputs": [
    {
     "name": "stdout",
     "output_type": "stream",
     "text": [
      "Train\n",
      "Accuracy: 0.95726\n",
      "Confusion matrix: [[4756    3   23    3    1    1    2    1   16    4]\n",
      " [  20 4963    4    0    0    0    3    1   11   64]\n",
      " [  50    0 4621   28   40   19   26   10    3    2]\n",
      " [  42    5   81 4631   75  289   47   60   11   14]\n",
      " [  16    0   93   64 4753   61   16   47    0    3]\n",
      " [   6    1   76  188   27 4566   18   26    0    0]\n",
      " [   3    2   81   68   67   20 4886    4    3    3]\n",
      " [   6    0   12   12   32   42    0 4847    0    3]\n",
      " [  76    7    3    4    4    0    1    0 4949   16]\n",
      " [  25   19    6    2    1    2    1    4    7 4891]]\n"
     ]
    }
   ],
   "source": [
    "print('Train')\n",
    "evaluate(clf, X_train, y_train)"
   ]
  },
  {
   "cell_type": "code",
   "execution_count": 16,
   "metadata": {},
   "outputs": [
    {
     "name": "stdout",
     "output_type": "stream",
     "text": [
      "Test\n",
      "Accuracy: 0.7905\n",
      "Confusion matrix: [[785   6  43  11   8   5   4   6  31  14]\n",
      " [ 18 903   2   4   2   1   1   2  27  57]\n",
      " [ 41   3 646  35  44  27  23  14   3   2]\n",
      " [ 31   3  78 675  76 172  53  47  17  12]\n",
      " [ 15   1  71  45 750  30  24  49   5   4]\n",
      " [  6   2  55 126  25 703  13  51   2   3]\n",
      " [  6   8  65  57  45  21 868   6   6   5]\n",
      " [ 14   3  25  30  42  36   6 816   3   7]\n",
      " [ 54  19   8   8   5   2   6   3 887  24]\n",
      " [ 30  52   7   9   3   3   2   6  19 872]]\n"
     ]
    }
   ],
   "source": [
    "print('Test')\n",
    "evaluate(clf, X_test, y_test)"
   ]
  },
  {
   "cell_type": "code",
   "execution_count": 17,
   "metadata": {},
   "outputs": [
    {
     "name": "stdout",
     "output_type": "stream",
     "text": [
      "cd\n",
      "Accuracy: 0.6103\n",
      "Confusion matrix: [[608   6  56   6   9   6   2   9  95   9]\n",
      " [ 30 692   9  13   2   3   1   3  66  39]\n",
      " [ 37   2 326  20  23  11   5  10   7   2]\n",
      " [ 33   3  85 378  48 154  22  46  20  13]\n",
      " [ 59   4 153  93 647  88  15 136  23  11]\n",
      " [  7   4  50  72  16 451   3  39   2   0]\n",
      " [ 60  65 266 357 210 222 948  95  51  52]\n",
      " [ 10   0  22  25  30  41   1 637   5   3]\n",
      " [ 71  19  10  11   7  13   1   3 559  14]\n",
      " [ 85 205  23  25   8  11   2  22 172 857]]\n"
     ]
    }
   ],
   "source": [
    "print('cd')\n",
    "evaluate(clf, X_cd, y_cd)"
   ]
  },
  {
   "cell_type": "markdown",
   "metadata": {},
   "source": [
    "### Train symmetry finder"
   ]
  },
  {
   "cell_type": "code",
   "execution_count": 18,
   "metadata": {},
   "outputs": [
    {
     "data": {
      "text/plain": [
       "(None, 32, 32, 3)"
      ]
     },
     "execution_count": 18,
     "metadata": {},
     "output_type": "execute_result"
    }
   ],
   "source": [
    "clf.input_shape"
   ]
  },
  {
   "cell_type": "code",
   "execution_count": 19,
   "metadata": {},
   "outputs": [
    {
     "name": "stdout",
     "output_type": "stream",
     "text": [
      "WARNING:tensorflow:Output \"decoder_output\" missing from loss dictionary. We assume this was done on purpose. The fit and evaluate APIs will not be expecting any data to be passed to \"decoder_output\".\n",
      "WARNING:tensorflow:Output \"model\" missing from loss dictionary. We assume this was done on purpose. The fit and evaluate APIs will not be expecting any data to be passed to \"model\".\n",
      "WARNING:tensorflow:Output \"model\" missing from loss dictionary. We assume this was done on purpose. The fit and evaluate APIs will not be expecting any data to be passed to \"model\".\n",
      "Vae\n",
      "__________________________________________________________________________________________________\n",
      "Layer (type)                    Output Shape         Param #     Connected to                     \n",
      "==================================================================================================\n",
      "encoder_input (InputLayer)      (None, 32, 32, 3)    0                                            \n",
      "__________________________________________________________________________________________________\n",
      "conv2d_4 (Conv2D)               (None, 16, 16, 64)   1792        encoder_input[0][0]              \n",
      "__________________________________________________________________________________________________\n",
      "dropout_3 (Dropout)             (None, 16, 16, 64)   0           conv2d_4[0][0]                   \n",
      "__________________________________________________________________________________________________\n",
      "conv2d_5 (Conv2D)               (None, 8, 8, 128)    73856       dropout_3[0][0]                  \n",
      "__________________________________________________________________________________________________\n",
      "dropout_4 (Dropout)             (None, 8, 8, 128)    0           conv2d_5[0][0]                   \n",
      "__________________________________________________________________________________________________\n",
      "flatten_1 (Flatten)             (None, 8192)         0           dropout_4[0][0]                  \n",
      "__________________________________________________________________________________________________\n",
      "dense_2 (Dense)                 (None, 256)          2097408     flatten_1[0][0]                  \n",
      "__________________________________________________________________________________________________\n",
      "dropout_5 (Dropout)             (None, 256)          0           dense_2[0][0]                    \n",
      "__________________________________________________________________________________________________\n",
      "z_mean (Dense)                  (None, 8)            2056        dropout_5[0][0]                  \n",
      "__________________________________________________________________________________________________\n",
      "z_log_var (Dense)               (None, 8)            2056        dropout_5[0][0]                  \n",
      "__________________________________________________________________________________________________\n",
      "z (Lambda)                      (None, 8)            0           z_mean[0][0]                     \n",
      "                                                                 z_log_var[0][0]                  \n",
      "__________________________________________________________________________________________________\n",
      "dense_3 (Dense)                 (None, 256)          2304        z[0][0]                          \n",
      "__________________________________________________________________________________________________\n",
      "dropout_6 (Dropout)             (None, 256)          0           dense_3[0][0]                    \n",
      "__________________________________________________________________________________________________\n",
      "dense_4 (Dense)                 (None, 8192)         2105344     dropout_6[0][0]                  \n",
      "__________________________________________________________________________________________________\n",
      "dropout_7 (Dropout)             (None, 8192)         0           dense_4[0][0]                    \n",
      "__________________________________________________________________________________________________\n",
      "reshape (Reshape)               (None, 8, 8, 128)    0           dropout_7[0][0]                  \n",
      "__________________________________________________________________________________________________\n",
      "conv2d_transpose (Conv2DTranspo (None, 16, 16, 128)  147584      reshape[0][0]                    \n",
      "__________________________________________________________________________________________________\n",
      "dropout_8 (Dropout)             (None, 16, 16, 128)  0           conv2d_transpose[0][0]           \n",
      "__________________________________________________________________________________________________\n",
      "conv2d_transpose_1 (Conv2DTrans (None, 32, 32, 64)   73792       dropout_8[0][0]                  \n",
      "__________________________________________________________________________________________________\n",
      "dropout_9 (Dropout)             (None, 32, 32, 64)   0           conv2d_transpose_1[0][0]         \n",
      "__________________________________________________________________________________________________\n",
      "decoder_output (Conv2DTranspose (None, 32, 32, 3)    1731        dropout_9[0][0]                  \n",
      "__________________________________________________________________________________________________\n",
      "model (Model)                   (None, 10)           1250858     decoder_output[0][0]             \n",
      "                                                                 encoder_input[0][0]              \n",
      "==================================================================================================\n",
      "Total params: 5,758,781\n",
      "Trainable params: 4,507,923\n",
      "Non-trainable params: 1,250,858\n",
      "__________________________________________________________________________________________________\n"
     ]
    }
   ],
   "source": [
    "vae = vsf.VaeSymmetryFinderConv(clf, input_shape=(32, 32, 3), \n",
    "                                output_shape=(10, ), \n",
    "                                intermediate_dim=256, \n",
    "                                latent_dim=8)"
   ]
  },
  {
   "cell_type": "code",
   "execution_count": 20,
   "metadata": {},
   "outputs": [
    {
     "name": "stdout",
     "output_type": "stream",
     "text": [
      "Train on 50000 samples, validate on 10000 samples\n",
      "Epoch 1/30\n",
      "50000/50000 [==============================] - 12s 239us/step - loss: 1.9000 - val_loss: 1.4541\n",
      "Epoch 2/30\n",
      "50000/50000 [==============================] - 11s 211us/step - loss: 1.5112 - val_loss: 1.1740\n",
      "Epoch 3/30\n",
      "50000/50000 [==============================] - 11s 211us/step - loss: 1.3307 - val_loss: 0.9873\n",
      "Epoch 4/30\n",
      "50000/50000 [==============================] - 11s 211us/step - loss: 1.2193 - val_loss: 0.8658\n",
      "Epoch 5/30\n",
      "50000/50000 [==============================] - 11s 211us/step - loss: 1.1318 - val_loss: 0.8761\n",
      "Epoch 6/30\n",
      "50000/50000 [==============================] - 11s 211us/step - loss: 1.0685 - val_loss: 0.8032\n",
      "Epoch 7/30\n",
      "50000/50000 [==============================] - 11s 211us/step - loss: 1.0283 - val_loss: 0.7411\n",
      "Epoch 8/30\n",
      "50000/50000 [==============================] - 11s 211us/step - loss: 0.9850 - val_loss: 0.7007\n",
      "Epoch 9/30\n",
      "50000/50000 [==============================] - 11s 211us/step - loss: 0.9518 - val_loss: 0.6716\n",
      "Epoch 10/30\n",
      "50000/50000 [==============================] - 11s 211us/step - loss: 0.9223 - val_loss: 0.6979\n",
      "Epoch 11/30\n",
      "50000/50000 [==============================] - 11s 211us/step - loss: 0.8970 - val_loss: 0.6253\n",
      "Epoch 12/30\n",
      "50000/50000 [==============================] - 11s 213us/step - loss: 0.8675 - val_loss: 0.6094\n",
      "Epoch 13/30\n",
      "50000/50000 [==============================] - 11s 210us/step - loss: 0.8501 - val_loss: 0.5835\n",
      "Epoch 14/30\n",
      "50000/50000 [==============================] - 11s 211us/step - loss: 0.8342 - val_loss: 0.6214\n",
      "Epoch 15/30\n",
      "50000/50000 [==============================] - 11s 211us/step - loss: 0.8155 - val_loss: 0.6137\n",
      "Epoch 16/30\n",
      "50000/50000 [==============================] - 11s 211us/step - loss: 0.8080 - val_loss: 0.5612\n",
      "Epoch 17/30\n",
      "50000/50000 [==============================] - 11s 211us/step - loss: 0.7949 - val_loss: 0.5652\n",
      "Epoch 18/30\n",
      "50000/50000 [==============================] - 11s 211us/step - loss: 0.7820 - val_loss: 0.5606\n",
      "Epoch 19/30\n",
      "50000/50000 [==============================] - 11s 211us/step - loss: 0.7697 - val_loss: 0.5755\n",
      "Epoch 20/30\n",
      "50000/50000 [==============================] - 11s 211us/step - loss: 0.7682 - val_loss: 0.6092\n",
      "Epoch 21/30\n",
      "50000/50000 [==============================] - 11s 211us/step - loss: 0.7524 - val_loss: 0.5334\n",
      "Epoch 22/30\n",
      "50000/50000 [==============================] - 11s 210us/step - loss: 0.7407 - val_loss: 0.5763\n",
      "Epoch 23/30\n",
      "50000/50000 [==============================] - 11s 211us/step - loss: 0.7369 - val_loss: 0.5265\n",
      "Epoch 24/30\n",
      "50000/50000 [==============================] - 11s 211us/step - loss: 0.7280 - val_loss: 0.5306\n",
      "Epoch 25/30\n",
      "50000/50000 [==============================] - 11s 211us/step - loss: 0.7208 - val_loss: 0.5258\n",
      "Epoch 26/30\n",
      "50000/50000 [==============================] - 11s 211us/step - loss: 0.7104 - val_loss: 0.5507\n",
      "Epoch 27/30\n",
      "50000/50000 [==============================] - 11s 210us/step - loss: 0.7095 - val_loss: 0.4997\n",
      "Epoch 28/30\n",
      "50000/50000 [==============================] - 11s 210us/step - loss: 0.7082 - val_loss: 0.5017\n",
      "Epoch 29/30\n",
      "50000/50000 [==============================] - 11s 211us/step - loss: 0.6963 - val_loss: 0.4917\n",
      "Epoch 30/30\n",
      "50000/50000 [==============================] - 11s 210us/step - loss: 0.6940 - val_loss: 0.4899\n"
     ]
    }
   ],
   "source": [
    "vae.fit(X_train, x_test=X_test, epochs=30)"
   ]
  },
  {
   "cell_type": "markdown",
   "metadata": {},
   "source": [
    "### Prepare stream signals"
   ]
  },
  {
   "cell_type": "code",
   "execution_count": 21,
   "metadata": {
    "collapsed": true
   },
   "outputs": [],
   "source": [
    "# _, _, _, _, _, _, X_cd, y_cd = prepare_data_cifar(permute=True, perm_features=70)"
   ]
  },
  {
   "cell_type": "code",
   "execution_count": 22,
   "metadata": {},
   "outputs": [
    {
     "name": "stdout",
     "output_type": "stream",
     "text": [
      "Sample instance from the MNIST data set.\n"
     ]
    },
    {
     "data": {
      "image/png": "[encoded data removed]",
      "text/plain": [
       "<Figure size 432x288 with 1 Axes>"
      ]
     },
     "metadata": {},
     "output_type": "display_data"
    }
   ],
   "source": [
    "idx = 34\n",
    "x = X_test[idx: idx + 1]\n",
    "plt.imshow(np.squeeze(x), 'gray')\n",
    "print('Sample instance from the MNIST data set.')"
   ]
  },
  {
   "cell_type": "code",
   "execution_count": 23,
   "metadata": {},
   "outputs": [
    {
     "name": "stdout",
     "output_type": "stream",
     "text": [
      "Sample instance from the MNIST data set.\n"
     ]
    },
    {
     "data": {
      "image/png": "[encoded data removed]",
      "text/plain": [
       "<Figure size 432x288 with 1 Axes>"
      ]
     },
     "metadata": {},
     "output_type": "display_data"
    }
   ],
   "source": [
    "x = X_cd[idx: idx + 1]\n",
    "plt.imshow(np.squeeze(x), 'gray')\n",
    "print('Sample instance from the MNIST data set.')"
   ]
  },
  {
   "cell_type": "code",
   "execution_count": 24,
   "metadata": {},
   "outputs": [
    {
     "name": "stdout",
     "output_type": "stream",
     "text": [
      "test\n",
      "Accuracy: 0.7905\n",
      "Confusion matrix: [[785   6  43  11   8   5   4   6  31  14]\n",
      " [ 18 903   2   4   2   1   1   2  27  57]\n",
      " [ 41   3 646  35  44  27  23  14   3   2]\n",
      " [ 31   3  78 675  76 172  53  47  17  12]\n",
      " [ 15   1  71  45 750  30  24  49   5   4]\n",
      " [  6   2  55 126  25 703  13  51   2   3]\n",
      " [  6   8  65  57  45  21 868   6   6   5]\n",
      " [ 14   3  25  30  42  36   6 816   3   7]\n",
      " [ 54  19   8   8   5   2   6   3 887  24]\n",
      " [ 30  52   7   9   3   3   2   6  19 872]]\n"
     ]
    }
   ],
   "source": [
    "print('test')\n",
    "evaluate(clf, X_test, y_test)"
   ]
  },
  {
   "cell_type": "code",
   "execution_count": 25,
   "metadata": {},
   "outputs": [
    {
     "name": "stdout",
     "output_type": "stream",
     "text": [
      "cd\n",
      "Accuracy: 0.6103\n",
      "Confusion matrix: [[608   6  56   6   9   6   2   9  95   9]\n",
      " [ 30 692   9  13   2   3   1   3  66  39]\n",
      " [ 37   2 326  20  23  11   5  10   7   2]\n",
      " [ 33   3  85 378  48 154  22  46  20  13]\n",
      " [ 59   4 153  93 647  88  15 136  23  11]\n",
      " [  7   4  50  72  16 451   3  39   2   0]\n",
      " [ 60  65 266 357 210 222 948  95  51  52]\n",
      " [ 10   0  22  25  30  41   1 637   5   3]\n",
      " [ 71  19  10  11   7  13   1   3 559  14]\n",
      " [ 85 205  23  25   8  11   2  22 172 857]]\n"
     ]
    }
   ],
   "source": [
    "print('cd')\n",
    "evaluate(clf, X_cd, y_cd)"
   ]
  },
  {
   "cell_type": "code",
   "execution_count": 26,
   "metadata": {},
   "outputs": [
    {
     "data": {
      "text/plain": [
       "(20000,)"
      ]
     },
     "execution_count": 26,
     "metadata": {},
     "output_type": "execute_result"
    }
   ],
   "source": [
    "# Symmetry signal\n",
    "X_train_perm = np.random.permutation(X_train)\n",
    "X_test_perm = np.random.permutation(X_test)\n",
    "X_cd_perm = np.random.permutation(X_cd)\n",
    "symm_samples_train, orig_preds_train, trans_preds_train = vae.vae.predict(X_train_perm)\n",
    "symm_samples_test, orig_preds_test, trans_preds_test = vae.vae.predict(X_test_perm)\n",
    "symm_samples_cd, orig_preds_cd, trans_preds_cd = vae.vae.predict(X_cd_perm)\n",
    "\n",
    "amp = 1\n",
    "kl_train = amp * entropy(orig_preds_train.T, trans_preds_train.T)\n",
    "kl_test = amp * entropy(orig_preds_test.T, trans_preds_test.T)\n",
    "kl_cd = amp * entropy(orig_preds_cd.T, trans_preds_cd.T)\n",
    "\n",
    "baseline_std_plus = kl_train.mean() + kl_train.std()\n",
    "baseline_std_minus = kl_train.mean() - kl_train.std()\n",
    "\n",
    "kl_concat = np.concatenate((kl_test, kl_cd))\n",
    "#kl_concat = kl_test\n",
    "kl_concat.shape"
   ]
  },
  {
   "cell_type": "code",
   "execution_count": 27,
   "metadata": {
    "collapsed": true
   },
   "outputs": [],
   "source": [
    "#fit_NNS = False\n",
    "#if fit_NNS:\n",
    "#    neigh = NearestNeighbors(1)\n",
    "#    neigh.fit(X_train_flat)"
   ]
  },
  {
   "cell_type": "code",
   "execution_count": 28,
   "metadata": {
    "collapsed": true
   },
   "outputs": [],
   "source": [
    "# Distance signal\n",
    "#X_train_flat = X_train.reshape(X_train.shape[0], -1)\n",
    "#X_test_flat = X_test.reshape(X_test.shape[0], -1)\n",
    "#X_cd_flat = X_cd.reshape(X_cd.shape[0], -1)\n",
    "    \n",
    "#d_train = neigh.kneighbors(X_train_flat, return_distance=True)[0].flatten()\n",
    "#d_test = neigh.kneighbors(X_test_flat, return_distance=True)[0].flatten()\n",
    "#d_cd = neigh.kneighbors(X_cd_flat, return_distance=True)[0].flatten()\n",
    "\n",
    "#baseline_std_plus = d_train.mean() + d_train.std()\n",
    "#baseline_std_minus = d_train.mean() - d_train.std()\n",
    "\n",
    "#d_concat = np.concatenate((np.random.permutation(d_test), np.random.permutation(d_cd)))\n",
    "#d_concat.shape"
   ]
  },
  {
   "cell_type": "markdown",
   "metadata": {},
   "source": [
    "### Analyse signals"
   ]
  },
  {
   "cell_type": "code",
   "execution_count": 38,
   "metadata": {
    "collapsed": true
   },
   "outputs": [],
   "source": [
    "#agg = 'mean', 'window' or 'raw'\n",
    "\n",
    "# distance metric signal\n",
    "#df = make_data_stream(d_concat, agg='mean')\n",
    "# kl signal\n",
    "df = make_data_stream(kl_concat, agg='mean', window=500, start=0)"
   ]
  },
  {
   "cell_type": "code",
   "execution_count": 39,
   "metadata": {},
   "outputs": [
    {
     "data": {
      "text/plain": [
       "<matplotlib.lines.Line2D at 0x7f890079a198>"
      ]
     },
     "execution_count": 39,
     "metadata": {},
     "output_type": "execute_result"
    },
    {
     "data": {
      "image/png": "[encoded data removed]",
      "text/plain": [
       "<Figure size 1080x576 with 1 Axes>"
      ]
     },
     "metadata": {},
     "output_type": "display_data"
    }
   ],
   "source": [
    "ax = df.plot(x='index', y='stream', figsize=(15,8))\n",
    "ax.axhline(baseline_std_plus, c='g')\n",
    "ax.axhline(baseline_std_minus, c='g')"
   ]
  },
  {
   "cell_type": "code",
   "execution_count": 46,
   "metadata": {},
   "outputs": [
    {
     "name": "stdout",
     "output_type": "stream",
     "text": [
      "\u001b[31mChange detected in data: 0.4925235402044368 - at index: 895\n",
      "\u001b[31mChange detected in data: 0.500223274662543 - at index: 1663\n",
      "\u001b[32mChange detected in data: 0.5156284673715525 - at index: 11551\n",
      "\u001b[32mChange detected in data: 0.5204679248834913 - at index: 12095\n",
      "\u001b[32mChange detected in data: 0.5207268741173592 - at index: 12127\n",
      "\u001b[32mChange detected in data: 0.523226696935634 - at index: 12383\n",
      "\u001b[32mChange detected in data: 0.5234509206303539 - at index: 12479\n",
      "\u001b[32mChange detected in data: 0.526090572659603 - at index: 12671\n",
      "\u001b[32mChange detected in data: 0.5287837201267918 - at index: 13023\n",
      "\u001b[32mChange detected in data: 0.5314303818779184 - at index: 13311\n",
      "\u001b[32mChange detected in data: 0.5367174968506905 - at index: 14111\n",
      "\u001b[32mChange detected in data: 0.5429562481614154 - at index: 14847\n",
      "\u001b[32mChange detected in data: 0.5493470671978694 - at index: 15743\n",
      "\u001b[32mChange detected in data: 0.5534073676995569 - at index: 16351\n",
      "\u001b[32mChange detected in data: 0.5583335861033638 - at index: 16991\n",
      "\u001b[32mChange detected in data: 0.5627839244470128 - at index: 17503\n",
      "\u001b[32mChange detected in data: 0.5650081013083856 - at index: 18111\n",
      "\u001b[32mChange detected in data: 0.5704697985118632 - at index: 18687\n",
      "\u001b[32mChange detected in data: 0.5734033462130146 - at index: 19199\n",
      "\u001b[32mChange detected in data: 0.5758139226925391 - at index: 19807\n"
     ]
    }
   ],
   "source": [
    "adwin = ADWIN(delta=0.0000002)\n",
    "data_stream = df['stream']\n",
    "for i in range(len(data_stream)):\n",
    "    adwin.add_element(data_stream[i])\n",
    "    if adwin.detected_change():\n",
    "        if i < 10000:\n",
    "            print(Fore.RED + 'Change detected in data: ' + str(data_stream[i]) + ' - at index: ' + str(i))\n",
    "        else:\n",
    "            print(Fore.GREEN + 'Change detected in data: ' + str(data_stream[i]) + ' - at index: ' + str(i))"
   ]
  },
  {
   "cell_type": "code",
   "execution_count": 32,
   "metadata": {
    "collapsed": true
   },
   "outputs": [],
   "source": [
    "# reload(sst)"
   ]
  },
  {
   "cell_type": "code",
   "execution_count": 33,
   "metadata": {},
   "outputs": [
    {
     "name": "stdout",
     "output_type": "stream",
     "text": [
      "Sample 0 of 6000\n",
      "Sample 1000 of 6000\n",
      "Sample 2000 of 6000\n",
      "Sample 3000 of 6000\n",
      "Sample 4000 of 6000\n",
      "Sample 5000 of 6000\n"
     ]
    }
   ],
   "source": [
    "cd_start = 2000\n",
    "cd_full = int(2 * cd_start)\n",
    "nb_samples_tot = 6000\n",
    "start = 0\n",
    "df = sst.rolling_stats(vae, X_test, y_test, X_cd, y_cd, cd_start, cd_full, nb_samples_tot, start)"
   ]
  },
  {
   "cell_type": "code",
   "execution_count": 34,
   "metadata": {},
   "outputs": [
    {
     "data": {
      "image/png": "[encoded data removed]",
      "text/plain": [
       "<Figure size 1080x576 with 4 Axes>"
      ]
     },
     "metadata": {},
     "output_type": "display_data"
    }
   ],
   "source": [
    "axs = df[['contamination', 'accuracy','entropy_mean', 'entropy_var']].plot(logy = False, subplots=True, figsize = (15, 8))\n",
    "for ax in axs:\n",
    "    ax.axvline(cd_start, c='r', linestyle='dashed')\n",
    "    ax.axvline(cd_full, c='r', linestyle='dashed')"
   ]
  },
  {
   "cell_type": "code",
   "execution_count": 35,
   "metadata": {},
   "outputs": [
    {
     "data": {
      "text/plain": [
       "<matplotlib.lines.Line2D at 0x7f89007a7828>"
      ]
     },
     "execution_count": 35,
     "metadata": {},
     "output_type": "execute_result"
    },
    {
     "data": {
      "image/png": "[encoded data removed]",
      "text/plain": [
       "<Figure size 1080x576 with 2 Axes>"
      ]
     },
     "metadata": {},
     "output_type": "display_data"
    }
   ],
   "source": [
    "axs = df[['contamination', 'entropy_mean']].plot(logy = False, subplots=True, figsize = (15, 8))\n",
    "for ax in axs:\n",
    "    ax.axvline(cd_start, c='r', linestyle='dashed')\n",
    "    ax.axvline(cd_full, c='r', linestyle='dashed')\n",
    "axs[1].axhline(baseline_std_plus, c='g')\n",
    "axs[1].axhline(baseline_std_minus, c='g')"
   ]
  },
  {
   "cell_type": "code",
   "execution_count": 36,
   "metadata": {},
   "outputs": [
    {
     "name": "stdout",
     "output_type": "stream",
     "text": [
      "\u001b[31mChange detected in data: 0.5067316674991464 - at index: 1791\n",
      "\u001b[32mChange detected in data: 0.551804709391202 - at index: 4351\n",
      "\u001b[32mChange detected in data: 0.5532477782063869 - at index: 4383\n",
      "\u001b[32mChange detected in data: 0.5671690618039034 - at index: 4927\n",
      "\u001b[32mChange detected in data: 0.5721251095552832 - at index: 5215\n",
      "\u001b[32mChange detected in data: 0.5762616121535123 - at index: 5503\n",
      "\u001b[32mChange detected in data: 0.5821649877260292 - at index: 5887\n"
     ]
    },
    {
     "name": "stderr",
     "output_type": "stream",
     "text": [
      "/home/Gigio/anaconda3/lib/python3.6/site-packages/skmultiflow/drift_detection/adwin.py:361: RuntimeWarning: invalid value encountered in sqrt\n",
      "  epsilon = np.sqrt(2 * m * v * dd) + 1. * 2 / 3 * dd * m\n"
     ]
    }
   ],
   "source": [
    "data_stream = df['entropy_mean']\n",
    "adwin = ADWIN(delta=0.00002)\n",
    "for i in range(len(data_stream)):\n",
    "    adwin.add_element(data_stream[i])\n",
    "    if adwin.detected_change():\n",
    "        if i < cd_start:\n",
    "            print(Fore.RED + 'Change detected in data: ' + str(data_stream[i]) + ' - at index: ' + str(i))\n",
    "        elif i >= cd_start and i < cd_full:\n",
    "            print(Fore.YELLOW + 'Change detected in data: ' + str(data_stream[i]) + ' - at index: ' + str(i))            \n",
    "        else:\n",
    "            print(Fore.GREEN + 'Change detected in data: ' + str(data_stream[i]) + ' - at index: ' + str(i))"
   ]
  },
  {
   "cell_type": "code",
   "execution_count": null,
   "metadata": {
    "collapsed": true
   },
   "outputs": [],
   "source": []
  },
  {
   "cell_type": "markdown",
   "metadata": {},
   "source": [
    "# Mnist"
   ]
  },
  {
   "cell_type": "code",
   "execution_count": null,
   "metadata": {
    "collapsed": true
   },
   "outputs": [],
   "source": [
    "def prepare_data_mnist(permute=False, perm_features=50, fashion=False):\n",
    "    \n",
    "    if fashion:\n",
    "        (X_train, y_train), (X_test, y_test) = tf.keras.datasets.fashion_mnist.load_data()\n",
    "    else:\n",
    "        (X_train, y_train), (X_test, y_test) = tf.keras.datasets.mnist.load_data()\n",
    "    print('x_train shape:', X_train.shape, 'y_train shape:', y_train.shape)\n",
    "\n",
    "    # define train and test set\n",
    "    np.random.seed(0)\n",
    "    X_train = X_train.astype('float32') / 255\n",
    "    X_test = X_test.astype('float32') / 255\n",
    "    X_train = np.reshape(X_train, X_train.shape + (1,))\n",
    "    X_test = np.reshape(X_test, X_test.shape + (1,))\n",
    "    print('x_train shape:', X_train.shape, 'x_test shape:', X_test.shape)\n",
    "    \n",
    "    if not permute:\n",
    "        idxs_train_0_5 = np.where((y_train == 5) | (y_train == 4) | (y_train == 3) | \n",
    "                            (y_train == 2) | (y_train == 1) | (y_train == 0))\n",
    "        idxs_test_0_5 = np.where((y_test == 5) | (y_test == 4) | (y_test == 3) | \n",
    "                            (y_test == 2) | (y_test == 1) | (y_test == 0))\n",
    "\n",
    "        idxs_train_6_9 = np.where((y_train == 6) | (y_train == 7) | (y_train == 8) | \n",
    "                            (y_train == 9))\n",
    "        idxs_test_6_9 = np.where((y_test == 6) | (y_test == 7) | (y_test == 8) | \n",
    "                            (y_test == 9))\n",
    "\n",
    "        print(idxs_train_0_5[0].shape)\n",
    "        print(idxs_test_0_5[0].shape)\n",
    "\n",
    "        X_train_0_5 = X_train[idxs_train_0_5[0]]\n",
    "        y_train_0_5 = y_train[idxs_train_0_5[0]]\n",
    "\n",
    "        X_test_0_5 = X_test[idxs_test_0_5[0]]\n",
    "        y_test_0_5 = y_test[idxs_test_0_5[0]]\n",
    "    \n",
    "        X_6_9 = X_test[idxs_test_6_9[0]]\n",
    "        y_6_9 = y_test[idxs_test_6_9[0]]\n",
    "\n",
    "        y_train_0_5 = tf.keras.utils.to_categorical(y_train_0_5)\n",
    "        y_test_0_5 = tf.keras.utils.to_categorical(y_test_0_5)\n",
    "        y_6_9 = tf.keras.utils.to_categorical(y_6_9)\n",
    "    \n",
    "        y_6_9 = np.delete(y_6_9, np.where(~y_6_9.any(axis=0)), axis=1)\n",
    "        print(X_train_0_5.shape, y_train_0_5.shape)\n",
    "        print(X_test_0_5.shape, y_test_0_5.shape)\n",
    "        print(X_6_9.shape, y_6_9.shape)\n",
    "    \n",
    "    \n",
    "        return None, None, X_train_0_5, y_train_0_5, X_test_0_5, y_test_0_5, X_6_9, y_6_9 \n",
    "    else:\n",
    "        mapp = {(28 * i) + j: [i, j]  for i in range(28) for j in range(28)}\n",
    "        perm_1 = np.random.permutation(range(28 * 28))[:perm_features]\n",
    "        perm_2 = np.random.permutation(range(28 * 28))[:perm_features]\n",
    "        X_cd = X_test.copy()\n",
    "        for t in zip(perm_1, perm_2):\n",
    "            X_cd[:, mapp[t[0]][0], mapp[t[0]][1], :] = X_cd[:, mapp[t[1]][0], mapp[t[1]][1], :]\n",
    "        y_cd = y_test\n",
    "        \n",
    "        y_train = tf.keras.utils.to_categorical(y_train)\n",
    "        y_test = tf.keras.utils.to_categorical(y_test)\n",
    "        y_cd = tf.keras.utils.to_categorical(y_cd)\n",
    "        \n",
    "        print(X_train.shape, y_train.shape)\n",
    "        print(X_test.shape, y_test.shape)\n",
    "        print(X_cd.shape, y_cd.shape)\n",
    "        return None, None, X_train, y_train, X_test, y_test, X_cd, y_cd"
   ]
  },
  {
   "cell_type": "code",
   "execution_count": 2,
   "metadata": {
    "collapsed": true
   },
   "outputs": [],
   "source": [
    "# define and  train an cnn model\n",
    "def model_mnist(nb_classes=10):\n",
    "    x_in = tf.keras.layers.Input(shape=(28, 28, 1))\n",
    "    x = tf.keras.layers.Conv2D(filters=64, kernel_size=2, padding='same', activation='relu')(x_in)\n",
    "    x = tf.keras.layers.MaxPooling2D(pool_size=2)(x)\n",
    "    x = tf.keras.layers.Dropout(0.3)(x)\n",
    "\n",
    "    x = tf.keras.layers.Conv2D(filters=32, kernel_size=2, padding='same', activation='relu')(x)\n",
    "    x = tf.keras.layers.MaxPooling2D(pool_size=2)(x)\n",
    "    x = tf.keras.layers.Dropout(0.3)(x)\n",
    "\n",
    "    x = tf.keras.layers.Flatten()(x)\n",
    "    x = tf.keras.layers.Dense(256, activation='relu')(x)\n",
    "    x = tf.keras.layers.Dropout(0.5)(x)\n",
    "    x_out = tf.keras.layers.Dense(nb_classes, activation='softmax')(x)\n",
    "\n",
    "    cnn = tf.keras.models.Model(inputs=x_in, outputs=x_out)\n",
    "    cnn.compile(loss='categorical_crossentropy', optimizer='adam', metrics=['accuracy'])\n",
    "\n",
    "    return cnn\n"
   ]
  },
  {
   "cell_type": "markdown",
   "metadata": {},
   "source": [
    "### Prepare data"
   ]
  },
  {
   "cell_type": "code",
   "execution_count": 3,
   "metadata": {},
   "outputs": [
    {
     "ename": "NameError",
     "evalue": "name 'prepare_data_mnist' is not defined",
     "output_type": "error",
     "traceback": [
      "\u001b[0;31m---------------------------------------------------------------------------\u001b[0m",
      "\u001b[0;31mNameError\u001b[0m                                 Traceback (most recent call last)",
      "\u001b[0;32m<ipython-input-3-5c5ef8226a9e>\u001b[0m in \u001b[0;36m<module>\u001b[0;34m()\u001b[0m\n\u001b[0;32m----> 1\u001b[0;31m \u001b[0m_\u001b[0m\u001b[0;34m,\u001b[0m \u001b[0m_\u001b[0m\u001b[0;34m,\u001b[0m \u001b[0mX_train\u001b[0m\u001b[0;34m,\u001b[0m \u001b[0my_train\u001b[0m\u001b[0;34m,\u001b[0m \u001b[0mX_test\u001b[0m\u001b[0;34m,\u001b[0m \u001b[0my_test\u001b[0m\u001b[0;34m,\u001b[0m \u001b[0mX_cd\u001b[0m\u001b[0;34m,\u001b[0m \u001b[0my_cd\u001b[0m \u001b[0;34m=\u001b[0m \u001b[0mprepare_data_mnist\u001b[0m\u001b[0;34m(\u001b[0m\u001b[0mpermute\u001b[0m\u001b[0;34m=\u001b[0m\u001b[0;32mTrue\u001b[0m\u001b[0;34m,\u001b[0m \u001b[0mperm_features\u001b[0m\u001b[0;34m=\u001b[0m\u001b[0;36m50\u001b[0m\u001b[0;34m,\u001b[0m \u001b[0mfashion\u001b[0m\u001b[0;34m=\u001b[0m\u001b[0;32mTrue\u001b[0m\u001b[0;34m)\u001b[0m\u001b[0;34m\u001b[0m\u001b[0m\n\u001b[0m",
      "\u001b[0;31mNameError\u001b[0m: name 'prepare_data_mnist' is not defined"
     ]
    }
   ],
   "source": [
    "_, _, X_train, y_train, X_test, y_test, X_cd, y_cd = prepare_data_mnist(permute=True, perm_features=50, fashion=True)"
   ]
  },
  {
   "cell_type": "markdown",
   "metadata": {},
   "source": [
    "### Train model"
   ]
  },
  {
   "cell_type": "code",
   "execution_count": 4,
   "metadata": {},
   "outputs": [
    {
     "ename": "NameError",
     "evalue": "name 'tf' is not defined",
     "output_type": "error",
     "traceback": [
      "\u001b[0;31m---------------------------------------------------------------------------\u001b[0m",
      "\u001b[0;31mNameError\u001b[0m                                 Traceback (most recent call last)",
      "\u001b[0;32m<ipython-input-4-61ec9cce291a>\u001b[0m in \u001b[0;36m<module>\u001b[0;34m()\u001b[0m\n\u001b[0;32m----> 1\u001b[0;31m \u001b[0mclf\u001b[0m \u001b[0;34m=\u001b[0m \u001b[0mmodel_mnist\u001b[0m\u001b[0;34m(\u001b[0m\u001b[0;34m)\u001b[0m\u001b[0;34m\u001b[0m\u001b[0m\n\u001b[0m",
      "\u001b[0;32m<ipython-input-2-3a2b028c5c24>\u001b[0m in \u001b[0;36mmodel_mnist\u001b[0;34m(nb_classes)\u001b[0m\n\u001b[1;32m      1\u001b[0m \u001b[0;31m# define and  train an cnn model\u001b[0m\u001b[0;34m\u001b[0m\u001b[0;34m\u001b[0m\u001b[0m\n\u001b[1;32m      2\u001b[0m \u001b[0;32mdef\u001b[0m \u001b[0mmodel_mnist\u001b[0m\u001b[0;34m(\u001b[0m\u001b[0mnb_classes\u001b[0m\u001b[0;34m=\u001b[0m\u001b[0;36m10\u001b[0m\u001b[0;34m)\u001b[0m\u001b[0;34m:\u001b[0m\u001b[0;34m\u001b[0m\u001b[0m\n\u001b[0;32m----> 3\u001b[0;31m     \u001b[0mx_in\u001b[0m \u001b[0;34m=\u001b[0m \u001b[0mtf\u001b[0m\u001b[0;34m.\u001b[0m\u001b[0mkeras\u001b[0m\u001b[0;34m.\u001b[0m\u001b[0mlayers\u001b[0m\u001b[0;34m.\u001b[0m\u001b[0mInput\u001b[0m\u001b[0;34m(\u001b[0m\u001b[0mshape\u001b[0m\u001b[0;34m=\u001b[0m\u001b[0;34m(\u001b[0m\u001b[0;36m28\u001b[0m\u001b[0;34m,\u001b[0m \u001b[0;36m28\u001b[0m\u001b[0;34m,\u001b[0m \u001b[0;36m1\u001b[0m\u001b[0;34m)\u001b[0m\u001b[0;34m)\u001b[0m\u001b[0;34m\u001b[0m\u001b[0m\n\u001b[0m\u001b[1;32m      4\u001b[0m     \u001b[0mx\u001b[0m \u001b[0;34m=\u001b[0m \u001b[0mtf\u001b[0m\u001b[0;34m.\u001b[0m\u001b[0mkeras\u001b[0m\u001b[0;34m.\u001b[0m\u001b[0mlayers\u001b[0m\u001b[0;34m.\u001b[0m\u001b[0mConv2D\u001b[0m\u001b[0;34m(\u001b[0m\u001b[0mfilters\u001b[0m\u001b[0;34m=\u001b[0m\u001b[0;36m64\u001b[0m\u001b[0;34m,\u001b[0m \u001b[0mkernel_size\u001b[0m\u001b[0;34m=\u001b[0m\u001b[0;36m2\u001b[0m\u001b[0;34m,\u001b[0m \u001b[0mpadding\u001b[0m\u001b[0;34m=\u001b[0m\u001b[0;34m'same'\u001b[0m\u001b[0;34m,\u001b[0m \u001b[0mactivation\u001b[0m\u001b[0;34m=\u001b[0m\u001b[0;34m'relu'\u001b[0m\u001b[0;34m)\u001b[0m\u001b[0;34m(\u001b[0m\u001b[0mx_in\u001b[0m\u001b[0;34m)\u001b[0m\u001b[0;34m\u001b[0m\u001b[0m\n\u001b[1;32m      5\u001b[0m     \u001b[0mx\u001b[0m \u001b[0;34m=\u001b[0m \u001b[0mtf\u001b[0m\u001b[0;34m.\u001b[0m\u001b[0mkeras\u001b[0m\u001b[0;34m.\u001b[0m\u001b[0mlayers\u001b[0m\u001b[0;34m.\u001b[0m\u001b[0mMaxPooling2D\u001b[0m\u001b[0;34m(\u001b[0m\u001b[0mpool_size\u001b[0m\u001b[0;34m=\u001b[0m\u001b[0;36m2\u001b[0m\u001b[0;34m)\u001b[0m\u001b[0;34m(\u001b[0m\u001b[0mx\u001b[0m\u001b[0;34m)\u001b[0m\u001b[0;34m\u001b[0m\u001b[0m\n",
      "\u001b[0;31mNameError\u001b[0m: name 'tf' is not defined"
     ]
    }
   ],
   "source": [
    "clf = model_mnist()"
   ]
  },
  {
   "cell_type": "code",
   "execution_count": 340,
   "metadata": {
    "scrolled": true
   },
   "outputs": [
    {
     "name": "stdout",
     "output_type": "stream",
     "text": [
      "Train on 60000 samples, validate on 10000 samples\n",
      "Epoch 1/10\n",
      "60000/60000 [==============================] - 11s 175us/step - loss: 0.5641 - acc: 0.7931 - val_loss: 0.3779 - val_acc: 0.8652\n",
      "Epoch 2/10\n",
      "60000/60000 [==============================] - 8s 140us/step - loss: 0.4009 - acc: 0.8558 - val_loss: 0.3281 - val_acc: 0.8794\n",
      "Epoch 3/10\n",
      "60000/60000 [==============================] - 9s 143us/step - loss: 0.3572 - acc: 0.8693 - val_loss: 0.2990 - val_acc: 0.8926\n",
      "Epoch 4/10\n",
      "60000/60000 [==============================] - 9s 142us/step - loss: 0.3293 - acc: 0.8793 - val_loss: 0.2871 - val_acc: 0.8963\n",
      "Epoch 5/10\n",
      "60000/60000 [==============================] - 8s 141us/step - loss: 0.3091 - acc: 0.8869 - val_loss: 0.2820 - val_acc: 0.8962\n",
      "Epoch 6/10\n",
      "60000/60000 [==============================] - 8s 140us/step - loss: 0.2950 - acc: 0.8916 - val_loss: 0.2615 - val_acc: 0.9030\n",
      "Epoch 7/10\n",
      "60000/60000 [==============================] - 8s 140us/step - loss: 0.2851 - acc: 0.8966 - val_loss: 0.2571 - val_acc: 0.9075\n",
      "Epoch 8/10\n",
      "60000/60000 [==============================] - 8s 140us/step - loss: 0.2771 - acc: 0.8978 - val_loss: 0.2442 - val_acc: 0.9089\n",
      "Epoch 9/10\n",
      "60000/60000 [==============================] - 8s 140us/step - loss: 0.2693 - acc: 0.9010 - val_loss: 0.2446 - val_acc: 0.9104\n",
      "Epoch 10/10\n",
      "60000/60000 [==============================] - 8s 140us/step - loss: 0.2639 - acc: 0.9020 - val_loss: 0.2419 - val_acc: 0.9110\n"
     ]
    }
   ],
   "source": [
    "train = True\n",
    "if train:\n",
    "    clf.fit(X_train, y_train, epochs=10, validation_data=(X_test, y_test))\n",
    "else:\n",
    "    clf = tf.keras.models.load_model('cnn.h5')"
   ]
  },
  {
   "cell_type": "markdown",
   "metadata": {},
   "source": [
    "### Evaluate model"
   ]
  },
  {
   "cell_type": "code",
   "execution_count": 341,
   "metadata": {},
   "outputs": [
    {
     "name": "stdout",
     "output_type": "stream",
     "text": [
      "Train\n",
      "Accuracy: 0.9321333333333334\n",
      "Confusion matrix: [[5323    1   51   78    1    0  448    0    1    0]\n",
      " [   3 5945    1   16    5    0    4    0    0    0]\n",
      " [  70    2 5573   24  484    0  373    0    6    0]\n",
      " [  74   39   33 5575  102    0   74    0    1    0]\n",
      " [   6    7  165  167 5151    0  320    0   12    0]\n",
      " [   0    0    0    0    0 5925    0   19    3   17]\n",
      " [ 518    4  176  137  253    1 4777    0   26    0]\n",
      " [   0    0    0    0    0   60    0 5925    2  198]\n",
      " [   6    2    1    3    4    0    4    0 5949    0]\n",
      " [   0    0    0    0    0   14    0   56    0 5785]]\n"
     ]
    }
   ],
   "source": [
    "print('Train')\n",
    "evaluate(clf, X_train, y_train)"
   ]
  },
  {
   "cell_type": "code",
   "execution_count": 342,
   "metadata": {},
   "outputs": [
    {
     "name": "stdout",
     "output_type": "stream",
     "text": [
      "Test\n",
      "Accuracy: 0.911\n",
      "Confusion matrix: [[859   1  17  14   0   0  96   0   3   0]\n",
      " [  0 978   1   3   1   0   1   0   1   0]\n",
      " [ 12   0 903   8 102   0  69   0   2   0]\n",
      " [ 15  15   6 901  18   0  24   0   5   0]\n",
      " [  2   3  27  33 827   0  61   0   1   0]\n",
      " [  1   0   0   0   0 982   0   4   1   4]\n",
      " [107   1  46  40  52   0 743   0   4   1]\n",
      " [  0   0   0   0   0  14   0 986   2  45]\n",
      " [  4   2   0   1   0   0   6   0 981   0]\n",
      " [  0   0   0   0   0   4   0  10   0 950]]\n"
     ]
    }
   ],
   "source": [
    "print('Test')\n",
    "evaluate(clf, X_test, y_test)"
   ]
  },
  {
   "cell_type": "code",
   "execution_count": 343,
   "metadata": {},
   "outputs": [
    {
     "name": "stdout",
     "output_type": "stream",
     "text": [
      "cd\n",
      "Accuracy: 0.6716\n",
      "Confusion matrix: [[542   1   8  20   0   1  27   0   0   0]\n",
      " [  0 917   0   0   0   0   0   0   1   0]\n",
      " [ 12   0 785  11 177   0  33   0   0   0]\n",
      " [ 15  18   0 521   3   0  10   0   5   0]\n",
      " [  0   3   7   2 220   0   6   0   0   0]\n",
      " [  1   0   0   0   0 822   0  54   2   0]\n",
      " [413  20 181 350 544   4 883   1  15   1]\n",
      " [  0   0   0   1   0  13   0 554   0   3]\n",
      " [ 17  39  19  86  56 139  41 372 977 501]\n",
      " [  0   2   0   9   0  21   0  19   0 495]]\n"
     ]
    }
   ],
   "source": [
    "print('cd')\n",
    "evaluate(clf, X_cd, y_cd)"
   ]
  },
  {
   "cell_type": "markdown",
   "metadata": {},
   "source": [
    "### Train symmetry finder"
   ]
  },
  {
   "cell_type": "code",
   "execution_count": 344,
   "metadata": {},
   "outputs": [
    {
     "name": "stdout",
     "output_type": "stream",
     "text": [
      "WARNING:tensorflow:Output \"decoder_output\" missing from loss dictionary. We assume this was done on purpose. The fit and evaluate APIs will not be expecting any data to be passed to \"decoder_output\".\n",
      "WARNING:tensorflow:Output \"model_7\" missing from loss dictionary. We assume this was done on purpose. The fit and evaluate APIs will not be expecting any data to be passed to \"model_7\".\n",
      "WARNING:tensorflow:Output \"model_7\" missing from loss dictionary. We assume this was done on purpose. The fit and evaluate APIs will not be expecting any data to be passed to \"model_7\".\n",
      "Vae\n",
      "__________________________________________________________________________________________________\n",
      "Layer (type)                    Output Shape         Param #     Connected to                     \n",
      "==================================================================================================\n",
      "encoder_input (InputLayer)      (None, 28, 28, 1)    0                                            \n",
      "__________________________________________________________________________________________________\n",
      "conv2d_36 (Conv2D)              (None, 14, 14, 64)   640         encoder_input[0][0]              \n",
      "__________________________________________________________________________________________________\n",
      "dropout_52 (Dropout)            (None, 14, 14, 64)   0           conv2d_36[0][0]                  \n",
      "__________________________________________________________________________________________________\n",
      "conv2d_37 (Conv2D)              (None, 7, 7, 128)    73856       dropout_52[0][0]                 \n",
      "__________________________________________________________________________________________________\n",
      "dropout_53 (Dropout)            (None, 7, 7, 128)    0           conv2d_37[0][0]                  \n",
      "__________________________________________________________________________________________________\n",
      "flatten_12 (Flatten)            (None, 6272)         0           dropout_53[0][0]                 \n",
      "__________________________________________________________________________________________________\n",
      "dense_34 (Dense)                (None, 256)          1605888     flatten_12[0][0]                 \n",
      "__________________________________________________________________________________________________\n",
      "dropout_54 (Dropout)            (None, 256)          0           dense_34[0][0]                   \n",
      "__________________________________________________________________________________________________\n",
      "z_mean (Dense)                  (None, 8)            2056        dropout_54[0][0]                 \n",
      "__________________________________________________________________________________________________\n",
      "z_log_var (Dense)               (None, 8)            2056        dropout_54[0][0]                 \n",
      "__________________________________________________________________________________________________\n",
      "z (Lambda)                      (None, 8)            0           z_mean[0][0]                     \n",
      "                                                                 z_log_var[0][0]                  \n",
      "__________________________________________________________________________________________________\n",
      "dense_35 (Dense)                (None, 256)          2304        z[0][0]                          \n",
      "__________________________________________________________________________________________________\n",
      "dropout_55 (Dropout)            (None, 256)          0           dense_35[0][0]                   \n",
      "__________________________________________________________________________________________________\n",
      "dense_36 (Dense)                (None, 6272)         1611904     dropout_55[0][0]                 \n",
      "__________________________________________________________________________________________________\n",
      "dropout_56 (Dropout)            (None, 6272)         0           dense_36[0][0]                   \n",
      "__________________________________________________________________________________________________\n",
      "reshape_6 (Reshape)             (None, 7, 7, 128)    0           dropout_56[0][0]                 \n",
      "__________________________________________________________________________________________________\n",
      "conv2d_transpose_8 (Conv2DTrans (None, 14, 14, 128)  147584      reshape_6[0][0]                  \n",
      "__________________________________________________________________________________________________\n",
      "dropout_57 (Dropout)            (None, 14, 14, 128)  0           conv2d_transpose_8[0][0]         \n",
      "__________________________________________________________________________________________________\n",
      "conv2d_transpose_9 (Conv2DTrans (None, 28, 28, 64)   73792       dropout_57[0][0]                 \n",
      "__________________________________________________________________________________________________\n",
      "dropout_58 (Dropout)            (None, 28, 28, 64)   0           conv2d_transpose_9[0][0]         \n",
      "__________________________________________________________________________________________________\n",
      "decoder_output (Conv2DTranspose (None, 28, 28, 1)    577         dropout_58[0][0]                 \n",
      "__________________________________________________________________________________________________\n",
      "model_7 (Model)                 (None, 10)           412778      decoder_output[0][0]             \n",
      "                                                                 encoder_input[0][0]              \n",
      "==================================================================================================\n",
      "Total params: 3,933,435\n",
      "Trainable params: 3,520,657\n",
      "Non-trainable params: 412,778\n",
      "__________________________________________________________________________________________________\n"
     ]
    }
   ],
   "source": [
    "vae = vsf.VaeSymmetryFinderConv(clf, input_shape=(28, 28, 1), rgb_filters=1,\n",
    "                            output_shape=(10, ), \n",
    "                            intermediate_dim=256, \n",
    "                            latent_dim=8)"
   ]
  },
  {
   "cell_type": "code",
   "execution_count": 345,
   "metadata": {},
   "outputs": [
    {
     "name": "stdout",
     "output_type": "stream",
     "text": [
      "Train on 60000 samples, validate on 10000 samples\n",
      "Epoch 1/30\n",
      "60000/60000 [==============================] - 12s 202us/step - loss: 0.9329 - val_loss: 0.2288\n",
      "Epoch 2/30\n",
      "60000/60000 [==============================] - 9s 154us/step - loss: 0.2944 - val_loss: 0.1274\n",
      "Epoch 3/30\n",
      "60000/60000 [==============================] - 9s 154us/step - loss: 0.2316 - val_loss: 0.0954\n",
      "Epoch 4/30\n",
      "60000/60000 [==============================] - 9s 153us/step - loss: 0.2015 - val_loss: 0.0813\n",
      "Epoch 5/30\n",
      "60000/60000 [==============================] - 9s 154us/step - loss: 0.1895 - val_loss: 0.0835\n",
      "Epoch 6/30\n",
      "60000/60000 [==============================] - 9s 154us/step - loss: 0.1808 - val_loss: 0.0670\n",
      "Epoch 7/30\n",
      "60000/60000 [==============================] - 9s 154us/step - loss: 0.1701 - val_loss: 0.0640\n",
      "Epoch 8/30\n",
      "60000/60000 [==============================] - 9s 154us/step - loss: 0.1673 - val_loss: 0.0586\n",
      "Epoch 9/30\n",
      "60000/60000 [==============================] - 9s 153us/step - loss: 0.1599 - val_loss: 0.0530\n",
      "Epoch 10/30\n",
      "60000/60000 [==============================] - 9s 154us/step - loss: 0.1581 - val_loss: 0.0615\n",
      "Epoch 11/30\n",
      "60000/60000 [==============================] - 9s 153us/step - loss: 0.1539 - val_loss: 0.0504\n",
      "Epoch 12/30\n",
      "60000/60000 [==============================] - 9s 153us/step - loss: 0.1515 - val_loss: 0.0518\n",
      "Epoch 13/30\n",
      "60000/60000 [==============================] - 9s 156us/step - loss: 0.1480 - val_loss: 0.0480\n",
      "Epoch 14/30\n",
      "60000/60000 [==============================] - 9s 154us/step - loss: 0.1459 - val_loss: 0.0499\n",
      "Epoch 15/30\n",
      "60000/60000 [==============================] - 9s 154us/step - loss: 0.1437 - val_loss: 0.0421\n",
      "Epoch 16/30\n",
      "60000/60000 [==============================] - 9s 153us/step - loss: 0.1457 - val_loss: 0.0439\n",
      "Epoch 17/30\n",
      "60000/60000 [==============================] - 9s 154us/step - loss: 0.1430 - val_loss: 0.0415\n",
      "Epoch 18/30\n",
      "60000/60000 [==============================] - 9s 153us/step - loss: 0.1414 - val_loss: 0.0425\n",
      "Epoch 19/30\n",
      "60000/60000 [==============================] - 9s 154us/step - loss: 0.1410 - val_loss: 0.0457\n",
      "Epoch 20/30\n",
      "60000/60000 [==============================] - 9s 153us/step - loss: 0.1407 - val_loss: 0.0409\n",
      "Epoch 21/30\n",
      "60000/60000 [==============================] - 9s 153us/step - loss: 0.1387 - val_loss: 0.0443\n",
      "Epoch 22/30\n",
      "60000/60000 [==============================] - 9s 153us/step - loss: 0.1361 - val_loss: 0.0408\n",
      "Epoch 23/30\n",
      "60000/60000 [==============================] - 9s 154us/step - loss: 0.1370 - val_loss: 0.0432\n",
      "Epoch 24/30\n",
      "60000/60000 [==============================] - 9s 153us/step - loss: 0.1336 - val_loss: 0.0450\n",
      "Epoch 25/30\n",
      "60000/60000 [==============================] - 9s 154us/step - loss: 0.1347 - val_loss: 0.0396\n",
      "Epoch 26/30\n",
      "60000/60000 [==============================] - 9s 153us/step - loss: 0.1371 - val_loss: 0.0412\n",
      "Epoch 27/30\n",
      "60000/60000 [==============================] - 9s 153us/step - loss: 0.1340 - val_loss: 0.0395\n",
      "Epoch 28/30\n",
      "60000/60000 [==============================] - 9s 153us/step - loss: 0.1325 - val_loss: 0.0455\n",
      "Epoch 29/30\n",
      "60000/60000 [==============================] - 9s 153us/step - loss: 0.1343 - val_loss: 0.0465\n",
      "Epoch 30/30\n",
      "60000/60000 [==============================] - 9s 153us/step - loss: 0.1345 - val_loss: 0.0396\n"
     ]
    }
   ],
   "source": [
    "vae.fit(X_train, x_test=X_test, epochs=30)"
   ]
  },
  {
   "cell_type": "markdown",
   "metadata": {},
   "source": [
    "### Prepare stream signals"
   ]
  },
  {
   "cell_type": "code",
   "execution_count": 349,
   "metadata": {},
   "outputs": [
    {
     "name": "stdout",
     "output_type": "stream",
     "text": [
      "x_train shape: (60000, 28, 28) y_train shape: (60000,)\n",
      "x_train shape: (60000, 28, 28, 1) x_test shape: (10000, 28, 28, 1)\n",
      "(60000, 28, 28, 1) (60000, 10)\n",
      "(10000, 28, 28, 1) (10000, 10)\n",
      "(10000, 28, 28, 1) (10000, 10)\n"
     ]
    }
   ],
   "source": [
    "_, _, _, _, _, _, X_cd, y_cd = prepare_data_mnist(permute=True, perm_features=70, fashion=True)"
   ]
  },
  {
   "cell_type": "code",
   "execution_count": 350,
   "metadata": {},
   "outputs": [
    {
     "name": "stdout",
     "output_type": "stream",
     "text": [
      "Sample instance from the MNIST data set.\n"
     ]
    },
    {
     "data": {
      "image/png": "[encoded data removed]",
      "text/plain": [
       "<Figure size 432x288 with 1 Axes>"
      ]
     },
     "metadata": {},
     "output_type": "display_data"
    }
   ],
   "source": [
    "idx = 34\n",
    "x = X_test[idx: idx + 1]\n",
    "plt.imshow(np.squeeze(x), 'gray')\n",
    "print('Sample instance from the MNIST data set.')"
   ]
  },
  {
   "cell_type": "code",
   "execution_count": 351,
   "metadata": {},
   "outputs": [
    {
     "name": "stdout",
     "output_type": "stream",
     "text": [
      "Sample instance from the MNIST data set.\n"
     ]
    },
    {
     "data": {
      "image/png": "[encoded data removed]",
      "text/plain": [
       "<Figure size 432x288 with 1 Axes>"
      ]
     },
     "metadata": {},
     "output_type": "display_data"
    }
   ],
   "source": [
    "x = X_cd[idx: idx + 1]\n",
    "plt.imshow(np.squeeze(x), 'gray')\n",
    "print('Sample instance from the MNIST data set.')"
   ]
  },
  {
   "cell_type": "code",
   "execution_count": 352,
   "metadata": {},
   "outputs": [
    {
     "name": "stdout",
     "output_type": "stream",
     "text": [
      "test\n",
      "Accuracy: 0.911\n",
      "Confusion matrix: [[859   1  17  14   0   0  96   0   3   0]\n",
      " [  0 978   1   3   1   0   1   0   1   0]\n",
      " [ 12   0 903   8 102   0  69   0   2   0]\n",
      " [ 15  15   6 901  18   0  24   0   5   0]\n",
      " [  2   3  27  33 827   0  61   0   1   0]\n",
      " [  1   0   0   0   0 982   0   4   1   4]\n",
      " [107   1  46  40  52   0 743   0   4   1]\n",
      " [  0   0   0   0   0  14   0 986   2  45]\n",
      " [  4   2   0   1   0   0   6   0 981   0]\n",
      " [  0   0   0   0   0   4   0  10   0 950]]\n"
     ]
    }
   ],
   "source": [
    "print('test')\n",
    "evaluate(clf, X_test, y_test)"
   ]
  },
  {
   "cell_type": "code",
   "execution_count": 353,
   "metadata": {},
   "outputs": [
    {
     "name": "stdout",
     "output_type": "stream",
     "text": [
      "cd\n",
      "Accuracy: 0.622\n",
      "Confusion matrix: [[649  10  11 101   2   3  38   0   0   0]\n",
      " [  0 836   1   0   0   0   0   0   1   0]\n",
      " [  7   0 543   4  56   1  17   0   0   0]\n",
      " [  8  19   0 402   2   0   5   0   5   0]\n",
      " [  0   0   5   1 101   0   3   0   0   0]\n",
      " [  1   1   0   0   0 815   0 105   3   0]\n",
      " [319  26 345 394 688   2 880   1  12   1]\n",
      " [  0   0   0   0   0  16   0 496   0   3]\n",
      " [ 16 103  95  84 151 143  57 367 978 476]\n",
      " [  0   5   0  14   0  20   0  31   1 520]]\n"
     ]
    }
   ],
   "source": [
    "print('cd')\n",
    "evaluate(clf, X_cd, y_cd)"
   ]
  },
  {
   "cell_type": "code",
   "execution_count": 355,
   "metadata": {},
   "outputs": [
    {
     "data": {
      "text/plain": [
       "(20000,)"
      ]
     },
     "execution_count": 355,
     "metadata": {},
     "output_type": "execute_result"
    }
   ],
   "source": [
    "# Symmetry signal\n",
    "X_train_perm = np.random.permutation(X_train)\n",
    "X_test_perm = np.random.permutation(X_test)\n",
    "X_cd_perm = np.random.permutation(X_cd)\n",
    "symm_samples_train, orig_preds_train, trans_preds_train = vae.vae.predict(X_train_perm)\n",
    "symm_samples_test, orig_preds_test, trans_preds_test = vae.vae.predict(X_test_perm)\n",
    "symm_samples_cd, orig_preds_cd, trans_preds_cd = vae.vae.predict(X_cd_perm)\n",
    "\n",
    "amp = 1\n",
    "kl_train = amp * entropy(orig_preds_train.T, trans_preds_train.T)\n",
    "kl_test = amp * entropy(orig_preds_test.T, trans_preds_test.T)\n",
    "kl_cd = amp * entropy(orig_preds_cd.T, trans_preds_cd.T)\n",
    "\n",
    "baseline_std_plus = kl_train.mean() + kl_train.std()\n",
    "baseline_std_minus = kl_train.mean() - kl_train.std()\n",
    "\n",
    "kl_concat = np.concatenate((kl_test, kl_cd))\n",
    "#kl_concat = kl_test\n",
    "kl_concat.shape"
   ]
  },
  {
   "cell_type": "code",
   "execution_count": 356,
   "metadata": {
    "collapsed": true
   },
   "outputs": [],
   "source": [
    "#fit_NNS = False\n",
    "#if fit_NNS:\n",
    "#    neigh = NearestNeighbors(1)\n",
    "#    neigh.fit(X_train_flat)"
   ]
  },
  {
   "cell_type": "code",
   "execution_count": 357,
   "metadata": {
    "collapsed": true
   },
   "outputs": [],
   "source": [
    "# Distance signal\n",
    "#X_train_flat = X_train.reshape(X_train.shape[0], -1)\n",
    "#X_test_flat = X_test.reshape(X_test.shape[0], -1)\n",
    "#X_cd_flat = X_cd.reshape(X_cd.shape[0], -1)\n",
    "    \n",
    "#d_train = neigh.kneighbors(X_train_flat, return_distance=True)[0].flatten()\n",
    "#d_test = neigh.kneighbors(X_test_flat, return_distance=True)[0].flatten()\n",
    "#d_cd = neigh.kneighbors(X_cd_flat, return_distance=True)[0].flatten()\n",
    "\n",
    "#baseline_std_plus = d_train.mean() + d_train.std()\n",
    "#baseline_std_minus = d_train.mean() - d_train.std()\n",
    "\n",
    "#d_concat = np.concatenate((np.random.permutation(d_test), np.random.permutation(d_cd)))\n",
    "#d_concat.shape"
   ]
  },
  {
   "cell_type": "markdown",
   "metadata": {},
   "source": [
    "### Analyse signals"
   ]
  },
  {
   "cell_type": "code",
   "execution_count": 358,
   "metadata": {
    "collapsed": true
   },
   "outputs": [],
   "source": [
    "#agg = 'mean', 'window' or 'raw'\n",
    "\n",
    "# distance metric signal\n",
    "#df = make_data_stream(d_concat, agg='mean')\n",
    "# kl signal\n",
    "df = make_data_stream(kl_concat, agg='mean', start=0)"
   ]
  },
  {
   "cell_type": "code",
   "execution_count": 359,
   "metadata": {},
   "outputs": [
    {
     "data": {
      "text/plain": [
       "<matplotlib.lines.Line2D at 0x7fabe9aba400>"
      ]
     },
     "execution_count": 359,
     "metadata": {},
     "output_type": "execute_result"
    },
    {
     "data": {
      "image/png": "[encoded data removed]",
      "text/plain": [
       "<Figure size 1080x576 with 1 Axes>"
      ]
     },
     "metadata": {},
     "output_type": "display_data"
    }
   ],
   "source": [
    "ax = df.plot(x='index', y='stream', figsize=(15,8))\n",
    "ax.axhline(baseline_std_plus, c='g')\n",
    "ax.axhline(baseline_std_minus, c='g')"
   ]
  },
  {
   "cell_type": "code",
   "execution_count": 360,
   "metadata": {},
   "outputs": [
    {
     "name": "stderr",
     "output_type": "stream",
     "text": [
      "/home/Gigio/anaconda3/lib/python3.6/site-packages/skmultiflow/drift_detection/adwin.py:361: RuntimeWarning: invalid value encountered in sqrt\n",
      "  epsilon = np.sqrt(2 * m * v * dd) + 1. * 2 / 3 * dd * m\n"
     ]
    },
    {
     "name": "stdout",
     "output_type": "stream",
     "text": [
      "\u001b[32mChange detected in data: 0.0886874926723636 - at index: 10527\n",
      "\u001b[32mChange detected in data: 0.15511421738968348 - at index: 11391\n",
      "\u001b[32mChange detected in data: 0.15845087397007313 - at index: 11423\n",
      "\u001b[32mChange detected in data: 0.16143734075099817 - at index: 11455\n",
      "\u001b[32mChange detected in data: 0.1636419694211477 - at index: 11487\n",
      "\u001b[32mChange detected in data: 0.16774433026844543 - at index: 11519\n",
      "\u001b[32mChange detected in data: 0.16908000130234363 - at index: 11551\n",
      "\u001b[32mChange detected in data: 0.17412129715143349 - at index: 11615\n",
      "\u001b[32mChange detected in data: 0.18190368911567228 - at index: 11743\n",
      "\u001b[32mChange detected in data: 0.18917344289153004 - at index: 11839\n",
      "\u001b[32mChange detected in data: 0.20055242366341158 - at index: 11999\n",
      "\u001b[32mChange detected in data: 0.21506565734803745 - at index: 12223\n",
      "\u001b[32mChange detected in data: 0.225485912402511 - at index: 12415\n",
      "\u001b[32mChange detected in data: 0.2327495595361965 - at index: 12543\n",
      "\u001b[32mChange detected in data: 0.2398766445485764 - at index: 12639\n",
      "\u001b[32mChange detected in data: 0.24941123579963442 - at index: 12767\n",
      "\u001b[32mChange detected in data: 0.2535369526575901 - at index: 12831\n",
      "\u001b[32mChange detected in data: 0.27874298105499784 - at index: 13247\n",
      "\u001b[32mChange detected in data: 0.2950788612139844 - at index: 13535\n",
      "\u001b[32mChange detected in data: 0.30922922143724185 - at index: 13823\n",
      "\u001b[32mChange detected in data: 0.3195438195392376 - at index: 14079\n",
      "\u001b[32mChange detected in data: 0.33290480958505375 - at index: 14335\n",
      "\u001b[32mChange detected in data: 0.34726602900584785 - at index: 14687\n",
      "\u001b[32mChange detected in data: 0.3625703566121611 - at index: 15039\n",
      "\u001b[32mChange detected in data: 0.3757301309314069 - at index: 15359\n",
      "\u001b[32mChange detected in data: 0.3864342410162722 - at index: 15615\n",
      "\u001b[32mChange detected in data: 0.39599640508783485 - at index: 15871\n",
      "\u001b[32mChange detected in data: 0.40560978649588975 - at index: 16127\n",
      "\u001b[32mChange detected in data: 0.41761358229370205 - at index: 16447\n",
      "\u001b[32mChange detected in data: 0.4279568263148957 - at index: 16703\n",
      "\u001b[32mChange detected in data: 0.44031508885836096 - at index: 17023\n",
      "\u001b[32mChange detected in data: 0.4495109560835373 - at index: 17311\n",
      "\u001b[32mChange detected in data: 0.4578754374858596 - at index: 17567\n",
      "\u001b[32mChange detected in data: 0.468025476955402 - at index: 17887\n",
      "\u001b[32mChange detected in data: 0.477141413907263 - at index: 18175\n",
      "\u001b[32mChange detected in data: 0.48453094750124953 - at index: 18431\n",
      "\u001b[32mChange detected in data: 0.4933987675612846 - at index: 18751\n",
      "\u001b[32mChange detected in data: 0.5016545313707163 - at index: 19103\n",
      "\u001b[32mChange detected in data: 0.5111603487024755 - at index: 19423\n"
     ]
    }
   ],
   "source": [
    "adwin = ADWIN(delta=0.0000002)\n",
    "data_stream = df['stream']\n",
    "for i in range(len(data_stream)):\n",
    "    adwin.add_element(data_stream[i])\n",
    "    if adwin.detected_change():\n",
    "        if i < 10000:\n",
    "            print(Fore.RED + 'Change detected in data: ' + str(data_stream[i]) + ' - at index: ' + str(i))\n",
    "        else:\n",
    "            print(Fore.GREEN + 'Change detected in data: ' + str(data_stream[i]) + ' - at index: ' + str(i))"
   ]
  },
  {
   "cell_type": "code",
   "execution_count": null,
   "metadata": {
    "collapsed": true
   },
   "outputs": [],
   "source": []
  },
  {
   "cell_type": "code",
   "execution_count": 361,
   "metadata": {},
   "outputs": [
    {
     "name": "stdout",
     "output_type": "stream",
     "text": [
      "Sample 0 of 6000\n",
      "Sample 1000 of 6000\n",
      "Sample 2000 of 6000\n",
      "Sample 3000 of 6000\n",
      "Sample 4000 of 6000\n",
      "Sample 5000 of 6000\n"
     ]
    }
   ],
   "source": [
    "cd_start = 2000\n",
    "cd_full = int(2 * cd_start)\n",
    "nb_samples_tot = 6000\n",
    "start = 0\n",
    "df = sst.rolling_stats(vae, X_test, y_test, X_cd, y_cd, cd_start, cd_full, nb_samples_tot, start)"
   ]
  },
  {
   "cell_type": "code",
   "execution_count": 362,
   "metadata": {},
   "outputs": [
    {
     "data": {
      "image/png": "[encoded data removed]",
      "text/plain": [
       "<Figure size 1080x576 with 4 Axes>"
      ]
     },
     "metadata": {},
     "output_type": "display_data"
    }
   ],
   "source": [
    "axs = df[['contamination', 'accuracy','entropy_mean', 'entropy_var']].plot(logy = False, subplots=True, figsize = (15, 8))\n",
    "for ax in axs:\n",
    "    ax.axvline(cd_start, c='r', linestyle='dashed')\n",
    "    ax.axvline(cd_full, c='r', linestyle='dashed')"
   ]
  },
  {
   "cell_type": "code",
   "execution_count": 363,
   "metadata": {},
   "outputs": [
    {
     "data": {
      "text/plain": [
       "<matplotlib.lines.Line2D at 0x7fabe978ae48>"
      ]
     },
     "execution_count": 363,
     "metadata": {},
     "output_type": "execute_result"
    },
    {
     "data": {
      "image/png": "[encoded data removed]",
      "text/plain": [
       "<Figure size 1080x576 with 2 Axes>"
      ]
     },
     "metadata": {},
     "output_type": "display_data"
    }
   ],
   "source": [
    "axs = df[['contamination', 'entropy_mean']].plot(logy = False, subplots=True, figsize = (15, 8))\n",
    "for ax in axs:\n",
    "    ax.axvline(cd_start, c='r', linestyle='dashed')\n",
    "    ax.axvline(cd_full, c='r', linestyle='dashed')\n",
    "axs[1].axhline(baseline_std_plus, c='g')\n",
    "axs[1].axhline(baseline_std_minus, c='g')"
   ]
  },
  {
   "cell_type": "code",
   "execution_count": 337,
   "metadata": {},
   "outputs": [
    {
     "name": "stdout",
     "output_type": "stream",
     "text": [
      "\u001b[33mChange detected in data: 0.03777478341560711 - at index: 3967\n",
      "\u001b[32mChange detected in data: 0.038932631759081696 - at index: 4255\n",
      "\u001b[32mChange detected in data: 0.041440885676154546 - at index: 4383\n",
      "\u001b[32mChange detected in data: 0.044385027498502344 - at index: 4607\n",
      "\u001b[32mChange detected in data: 0.04821472317074254 - at index: 4991\n",
      "\u001b[32mChange detected in data: 0.05135698546322425 - at index: 5311\n",
      "\u001b[32mChange detected in data: 0.053293818261383984 - at index: 5631\n",
      "\u001b[32mChange detected in data: 0.05676306273932814 - at index: 5919\n"
     ]
    }
   ],
   "source": [
    "data_stream = df['entropy_mean']\n",
    "adwin = ADWIN(delta=0.02)\n",
    "for i in range(len(data_stream)):\n",
    "    adwin.add_element(data_stream[i])\n",
    "    if adwin.detected_change():\n",
    "        if i < cd_start:\n",
    "            print(Fore.RED + 'Change detected in data: ' + str(data_stream[i]) + ' - at index: ' + str(i))\n",
    "        elif i >= cd_start and i < cd_full:\n",
    "            print(Fore.YELLOW + 'Change detected in data: ' + str(data_stream[i]) + ' - at index: ' + str(i))            \n",
    "        else:\n",
    "            print(Fore.GREEN + 'Change detected in data: ' + str(data_stream[i]) + ' - at index: ' + str(i))"
   ]
  },
  {
   "cell_type": "code",
   "execution_count": 364,
   "metadata": {},
   "outputs": [
    {
     "data": {
      "text/html": [
       "<div>\n",
       "<style scoped>\n",
       "    .dataframe tbody tr th:only-of-type {\n",
       "        vertical-align: middle;\n",
       "    }\n",
       "\n",
       "    .dataframe tbody tr th {\n",
       "        vertical-align: top;\n",
       "    }\n",
       "\n",
       "    .dataframe thead th {\n",
       "        text-align: right;\n",
       "    }\n",
       "</style>\n",
       "<table border=\"1\" class=\"dataframe\">\n",
       "  <thead>\n",
       "    <tr style=\"text-align: right;\">\n",
       "      <th></th>\n",
       "      <th>rw</th>\n",
       "      <th>entropy</th>\n",
       "      <th>pred_prob</th>\n",
       "      <th>accuracy</th>\n",
       "      <th>contamination</th>\n",
       "      <th>entropy_mean</th>\n",
       "      <th>entropy_var</th>\n",
       "    </tr>\n",
       "  </thead>\n",
       "  <tbody>\n",
       "    <tr>\n",
       "      <th>0</th>\n",
       "      <td>1</td>\n",
       "      <td>0.019904</td>\n",
       "      <td>[0.9962843]</td>\n",
       "      <td>1.000000</td>\n",
       "      <td>0.0</td>\n",
       "      <td>0.019904</td>\n",
       "      <td>0.000000</td>\n",
       "    </tr>\n",
       "    <tr>\n",
       "      <th>1</th>\n",
       "      <td>1</td>\n",
       "      <td>0.000173</td>\n",
       "      <td>[1.0]</td>\n",
       "      <td>1.000000</td>\n",
       "      <td>0.0</td>\n",
       "      <td>0.010039</td>\n",
       "      <td>0.000195</td>\n",
       "    </tr>\n",
       "    <tr>\n",
       "      <th>2</th>\n",
       "      <td>1</td>\n",
       "      <td>0.000094</td>\n",
       "      <td>[0.9999988]</td>\n",
       "      <td>1.000000</td>\n",
       "      <td>0.0</td>\n",
       "      <td>0.006724</td>\n",
       "      <td>0.000130</td>\n",
       "    </tr>\n",
       "    <tr>\n",
       "      <th>3</th>\n",
       "      <td>1</td>\n",
       "      <td>0.012052</td>\n",
       "      <td>[0.9998579]</td>\n",
       "      <td>1.000000</td>\n",
       "      <td>0.0</td>\n",
       "      <td>0.008056</td>\n",
       "      <td>0.000094</td>\n",
       "    </tr>\n",
       "    <tr>\n",
       "      <th>4</th>\n",
       "      <td>1</td>\n",
       "      <td>0.013084</td>\n",
       "      <td>[0.9870135]</td>\n",
       "      <td>1.000000</td>\n",
       "      <td>0.0</td>\n",
       "      <td>0.009062</td>\n",
       "      <td>0.000076</td>\n",
       "    </tr>\n",
       "    <tr>\n",
       "      <th>5</th>\n",
       "      <td>1</td>\n",
       "      <td>0.000085</td>\n",
       "      <td>[0.99999976]</td>\n",
       "      <td>1.000000</td>\n",
       "      <td>0.0</td>\n",
       "      <td>0.007565</td>\n",
       "      <td>0.000074</td>\n",
       "    </tr>\n",
       "    <tr>\n",
       "      <th>6</th>\n",
       "      <td>1</td>\n",
       "      <td>0.003669</td>\n",
       "      <td>[0.9999994]</td>\n",
       "      <td>1.000000</td>\n",
       "      <td>0.0</td>\n",
       "      <td>0.007009</td>\n",
       "      <td>0.000064</td>\n",
       "    </tr>\n",
       "    <tr>\n",
       "      <th>7</th>\n",
       "      <td>1</td>\n",
       "      <td>0.030835</td>\n",
       "      <td>[0.9991835]</td>\n",
       "      <td>1.000000</td>\n",
       "      <td>0.0</td>\n",
       "      <td>0.009987</td>\n",
       "      <td>0.000126</td>\n",
       "    </tr>\n",
       "    <tr>\n",
       "      <th>8</th>\n",
       "      <td>1</td>\n",
       "      <td>0.012127</td>\n",
       "      <td>[0.99977237]</td>\n",
       "      <td>1.000000</td>\n",
       "      <td>0.0</td>\n",
       "      <td>0.010225</td>\n",
       "      <td>0.000110</td>\n",
       "    </tr>\n",
       "    <tr>\n",
       "      <th>9</th>\n",
       "      <td>1</td>\n",
       "      <td>0.133827</td>\n",
       "      <td>[0.63892084]</td>\n",
       "      <td>1.000000</td>\n",
       "      <td>0.0</td>\n",
       "      <td>0.022585</td>\n",
       "      <td>0.001626</td>\n",
       "    </tr>\n",
       "    <tr>\n",
       "      <th>10</th>\n",
       "      <td>1</td>\n",
       "      <td>0.010915</td>\n",
       "      <td>[0.9999788]</td>\n",
       "      <td>1.000000</td>\n",
       "      <td>0.0</td>\n",
       "      <td>0.021524</td>\n",
       "      <td>0.001476</td>\n",
       "    </tr>\n",
       "    <tr>\n",
       "      <th>11</th>\n",
       "      <td>1</td>\n",
       "      <td>0.100536</td>\n",
       "      <td>[0.7787456]</td>\n",
       "      <td>1.000000</td>\n",
       "      <td>0.0</td>\n",
       "      <td>0.028108</td>\n",
       "      <td>0.001862</td>\n",
       "    </tr>\n",
       "    <tr>\n",
       "      <th>12</th>\n",
       "      <td>1</td>\n",
       "      <td>0.010342</td>\n",
       "      <td>[0.9684322]</td>\n",
       "      <td>1.000000</td>\n",
       "      <td>0.0</td>\n",
       "      <td>0.026742</td>\n",
       "      <td>0.001731</td>\n",
       "    </tr>\n",
       "    <tr>\n",
       "      <th>13</th>\n",
       "      <td>1</td>\n",
       "      <td>0.121069</td>\n",
       "      <td>[0.93962336]</td>\n",
       "      <td>1.000000</td>\n",
       "      <td>0.0</td>\n",
       "      <td>0.033479</td>\n",
       "      <td>0.002233</td>\n",
       "    </tr>\n",
       "    <tr>\n",
       "      <th>14</th>\n",
       "      <td>1</td>\n",
       "      <td>0.000246</td>\n",
       "      <td>[0.99999166]</td>\n",
       "      <td>1.000000</td>\n",
       "      <td>0.0</td>\n",
       "      <td>0.031264</td>\n",
       "      <td>0.002147</td>\n",
       "    </tr>\n",
       "    <tr>\n",
       "      <th>15</th>\n",
       "      <td>1</td>\n",
       "      <td>0.000200</td>\n",
       "      <td>[0.9999982]</td>\n",
       "      <td>1.000000</td>\n",
       "      <td>0.0</td>\n",
       "      <td>0.029322</td>\n",
       "      <td>0.002065</td>\n",
       "    </tr>\n",
       "    <tr>\n",
       "      <th>16</th>\n",
       "      <td>1</td>\n",
       "      <td>0.010085</td>\n",
       "      <td>[0.99789834]</td>\n",
       "      <td>1.000000</td>\n",
       "      <td>0.0</td>\n",
       "      <td>0.028191</td>\n",
       "      <td>0.001957</td>\n",
       "    </tr>\n",
       "    <tr>\n",
       "      <th>17</th>\n",
       "      <td>1</td>\n",
       "      <td>0.007805</td>\n",
       "      <td>[0.9999938]</td>\n",
       "      <td>1.000000</td>\n",
       "      <td>0.0</td>\n",
       "      <td>0.027058</td>\n",
       "      <td>0.001865</td>\n",
       "    </tr>\n",
       "    <tr>\n",
       "      <th>18</th>\n",
       "      <td>0</td>\n",
       "      <td>1.624945</td>\n",
       "      <td>[0.667546]</td>\n",
       "      <td>0.947368</td>\n",
       "      <td>0.0</td>\n",
       "      <td>0.111157</td>\n",
       "      <td>0.136143</td>\n",
       "    </tr>\n",
       "    <tr>\n",
       "      <th>19</th>\n",
       "      <td>0</td>\n",
       "      <td>0.006661</td>\n",
       "      <td>[0.7651342]</td>\n",
       "      <td>0.900000</td>\n",
       "      <td>0.0</td>\n",
       "      <td>0.105933</td>\n",
       "      <td>0.129523</td>\n",
       "    </tr>\n",
       "    <tr>\n",
       "      <th>20</th>\n",
       "      <td>1</td>\n",
       "      <td>0.000648</td>\n",
       "      <td>[0.9999893]</td>\n",
       "      <td>0.904762</td>\n",
       "      <td>0.0</td>\n",
       "      <td>0.100919</td>\n",
       "      <td>0.123575</td>\n",
       "    </tr>\n",
       "    <tr>\n",
       "      <th>21</th>\n",
       "      <td>1</td>\n",
       "      <td>0.006791</td>\n",
       "      <td>[0.9999682]</td>\n",
       "      <td>0.909091</td>\n",
       "      <td>0.0</td>\n",
       "      <td>0.096640</td>\n",
       "      <td>0.118093</td>\n",
       "    </tr>\n",
       "    <tr>\n",
       "      <th>22</th>\n",
       "      <td>0</td>\n",
       "      <td>0.146667</td>\n",
       "      <td>[0.53330874]</td>\n",
       "      <td>0.869565</td>\n",
       "      <td>0.0</td>\n",
       "      <td>0.098816</td>\n",
       "      <td>0.112834</td>\n",
       "    </tr>\n",
       "    <tr>\n",
       "      <th>23</th>\n",
       "      <td>0</td>\n",
       "      <td>0.108141</td>\n",
       "      <td>[0.47248754]</td>\n",
       "      <td>0.833333</td>\n",
       "      <td>0.0</td>\n",
       "      <td>0.099204</td>\n",
       "      <td>0.107932</td>\n",
       "    </tr>\n",
       "    <tr>\n",
       "      <th>24</th>\n",
       "      <td>1</td>\n",
       "      <td>0.000767</td>\n",
       "      <td>[0.99986184]</td>\n",
       "      <td>0.840000</td>\n",
       "      <td>0.0</td>\n",
       "      <td>0.095267</td>\n",
       "      <td>0.103822</td>\n",
       "    </tr>\n",
       "    <tr>\n",
       "      <th>25</th>\n",
       "      <td>1</td>\n",
       "      <td>0.012665</td>\n",
       "      <td>[0.77525145]</td>\n",
       "      <td>0.846154</td>\n",
       "      <td>0.0</td>\n",
       "      <td>0.092090</td>\n",
       "      <td>0.099932</td>\n",
       "    </tr>\n",
       "    <tr>\n",
       "      <th>26</th>\n",
       "      <td>1</td>\n",
       "      <td>0.000135</td>\n",
       "      <td>[0.9996952]</td>\n",
       "      <td>0.851852</td>\n",
       "      <td>0.0</td>\n",
       "      <td>0.088684</td>\n",
       "      <td>0.096402</td>\n",
       "    </tr>\n",
       "    <tr>\n",
       "      <th>27</th>\n",
       "      <td>1</td>\n",
       "      <td>0.028820</td>\n",
       "      <td>[0.7498494]</td>\n",
       "      <td>0.857143</td>\n",
       "      <td>0.0</td>\n",
       "      <td>0.086546</td>\n",
       "      <td>0.092959</td>\n",
       "    </tr>\n",
       "    <tr>\n",
       "      <th>28</th>\n",
       "      <td>1</td>\n",
       "      <td>0.014900</td>\n",
       "      <td>[0.9911056]</td>\n",
       "      <td>0.862069</td>\n",
       "      <td>0.0</td>\n",
       "      <td>0.084075</td>\n",
       "      <td>0.089816</td>\n",
       "    </tr>\n",
       "    <tr>\n",
       "      <th>29</th>\n",
       "      <td>1</td>\n",
       "      <td>0.038050</td>\n",
       "      <td>[0.9984962]</td>\n",
       "      <td>0.866667</td>\n",
       "      <td>0.0</td>\n",
       "      <td>0.082541</td>\n",
       "      <td>0.086790</td>\n",
       "    </tr>\n",
       "    <tr>\n",
       "      <th>...</th>\n",
       "      <td>...</td>\n",
       "      <td>...</td>\n",
       "      <td>...</td>\n",
       "      <td>...</td>\n",
       "      <td>...</td>\n",
       "      <td>...</td>\n",
       "      <td>...</td>\n",
       "    </tr>\n",
       "    <tr>\n",
       "      <th>5970</th>\n",
       "      <td>1</td>\n",
       "      <td>1.798711</td>\n",
       "      <td>[0.35516948]</td>\n",
       "      <td>0.766036</td>\n",
       "      <td>1.0</td>\n",
       "      <td>0.529289</td>\n",
       "      <td>1.545675</td>\n",
       "    </tr>\n",
       "    <tr>\n",
       "      <th>5971</th>\n",
       "      <td>0</td>\n",
       "      <td>0.061039</td>\n",
       "      <td>[0.85344917]</td>\n",
       "      <td>0.765908</td>\n",
       "      <td>1.0</td>\n",
       "      <td>0.529211</td>\n",
       "      <td>1.545453</td>\n",
       "    </tr>\n",
       "    <tr>\n",
       "      <th>5972</th>\n",
       "      <td>1</td>\n",
       "      <td>0.089119</td>\n",
       "      <td>[0.9391852]</td>\n",
       "      <td>0.765947</td>\n",
       "      <td>1.0</td>\n",
       "      <td>0.529137</td>\n",
       "      <td>1.545227</td>\n",
       "    </tr>\n",
       "    <tr>\n",
       "      <th>5973</th>\n",
       "      <td>0</td>\n",
       "      <td>9.136964</td>\n",
       "      <td>[0.98887]</td>\n",
       "      <td>0.765819</td>\n",
       "      <td>1.0</td>\n",
       "      <td>0.530578</td>\n",
       "      <td>1.557371</td>\n",
       "    </tr>\n",
       "    <tr>\n",
       "      <th>5974</th>\n",
       "      <td>1</td>\n",
       "      <td>0.188104</td>\n",
       "      <td>[0.6944557]</td>\n",
       "      <td>0.765858</td>\n",
       "      <td>1.0</td>\n",
       "      <td>0.530521</td>\n",
       "      <td>1.557130</td>\n",
       "    </tr>\n",
       "    <tr>\n",
       "      <th>5975</th>\n",
       "      <td>1</td>\n",
       "      <td>0.000373</td>\n",
       "      <td>[0.99766684]</td>\n",
       "      <td>0.765897</td>\n",
       "      <td>1.0</td>\n",
       "      <td>0.530432</td>\n",
       "      <td>1.556916</td>\n",
       "    </tr>\n",
       "    <tr>\n",
       "      <th>5976</th>\n",
       "      <td>1</td>\n",
       "      <td>0.011201</td>\n",
       "      <td>[0.9733242]</td>\n",
       "      <td>0.765936</td>\n",
       "      <td>1.0</td>\n",
       "      <td>0.530345</td>\n",
       "      <td>1.556701</td>\n",
       "    </tr>\n",
       "    <tr>\n",
       "      <th>5977</th>\n",
       "      <td>0</td>\n",
       "      <td>0.282059</td>\n",
       "      <td>[0.41535756]</td>\n",
       "      <td>0.765808</td>\n",
       "      <td>1.0</td>\n",
       "      <td>0.530304</td>\n",
       "      <td>1.556451</td>\n",
       "    </tr>\n",
       "    <tr>\n",
       "      <th>5978</th>\n",
       "      <td>1</td>\n",
       "      <td>0.024673</td>\n",
       "      <td>[0.93423635]</td>\n",
       "      <td>0.765847</td>\n",
       "      <td>1.0</td>\n",
       "      <td>0.530219</td>\n",
       "      <td>1.556233</td>\n",
       "    </tr>\n",
       "    <tr>\n",
       "      <th>5979</th>\n",
       "      <td>1</td>\n",
       "      <td>0.432708</td>\n",
       "      <td>[0.50138]</td>\n",
       "      <td>0.765886</td>\n",
       "      <td>1.0</td>\n",
       "      <td>0.530203</td>\n",
       "      <td>1.555974</td>\n",
       "    </tr>\n",
       "    <tr>\n",
       "      <th>5980</th>\n",
       "      <td>0</td>\n",
       "      <td>1.418256</td>\n",
       "      <td>[0.51334435]</td>\n",
       "      <td>0.765758</td>\n",
       "      <td>1.0</td>\n",
       "      <td>0.530351</td>\n",
       "      <td>1.555846</td>\n",
       "    </tr>\n",
       "    <tr>\n",
       "      <th>5981</th>\n",
       "      <td>1</td>\n",
       "      <td>0.009363</td>\n",
       "      <td>[0.62481236]</td>\n",
       "      <td>0.765797</td>\n",
       "      <td>1.0</td>\n",
       "      <td>0.530264</td>\n",
       "      <td>1.555631</td>\n",
       "    </tr>\n",
       "    <tr>\n",
       "      <th>5982</th>\n",
       "      <td>0</td>\n",
       "      <td>0.074551</td>\n",
       "      <td>[0.5986955]</td>\n",
       "      <td>0.765669</td>\n",
       "      <td>1.0</td>\n",
       "      <td>0.530188</td>\n",
       "      <td>1.555406</td>\n",
       "    </tr>\n",
       "    <tr>\n",
       "      <th>5983</th>\n",
       "      <td>0</td>\n",
       "      <td>5.876924</td>\n",
       "      <td>[0.6117844]</td>\n",
       "      <td>0.765541</td>\n",
       "      <td>1.0</td>\n",
       "      <td>0.531082</td>\n",
       "      <td>1.559923</td>\n",
       "    </tr>\n",
       "    <tr>\n",
       "      <th>5984</th>\n",
       "      <td>0</td>\n",
       "      <td>0.134286</td>\n",
       "      <td>[0.4372604]</td>\n",
       "      <td>0.765414</td>\n",
       "      <td>1.0</td>\n",
       "      <td>0.531015</td>\n",
       "      <td>1.559689</td>\n",
       "    </tr>\n",
       "    <tr>\n",
       "      <th>5985</th>\n",
       "      <td>0</td>\n",
       "      <td>2.483643</td>\n",
       "      <td>[0.73986477]</td>\n",
       "      <td>0.765286</td>\n",
       "      <td>1.0</td>\n",
       "      <td>0.531341</td>\n",
       "      <td>1.560065</td>\n",
       "    </tr>\n",
       "    <tr>\n",
       "      <th>5986</th>\n",
       "      <td>0</td>\n",
       "      <td>1.171978</td>\n",
       "      <td>[0.3537155]</td>\n",
       "      <td>0.765158</td>\n",
       "      <td>1.0</td>\n",
       "      <td>0.531448</td>\n",
       "      <td>1.559873</td>\n",
       "    </tr>\n",
       "    <tr>\n",
       "      <th>5987</th>\n",
       "      <td>1</td>\n",
       "      <td>0.036274</td>\n",
       "      <td>[0.9929802]</td>\n",
       "      <td>0.765197</td>\n",
       "      <td>1.0</td>\n",
       "      <td>0.531366</td>\n",
       "      <td>1.559654</td>\n",
       "    </tr>\n",
       "    <tr>\n",
       "      <th>5988</th>\n",
       "      <td>1</td>\n",
       "      <td>0.839240</td>\n",
       "      <td>[0.353645]</td>\n",
       "      <td>0.765236</td>\n",
       "      <td>1.0</td>\n",
       "      <td>0.531417</td>\n",
       "      <td>1.559409</td>\n",
       "    </tr>\n",
       "    <tr>\n",
       "      <th>5989</th>\n",
       "      <td>1</td>\n",
       "      <td>0.421197</td>\n",
       "      <td>[0.38215265]</td>\n",
       "      <td>0.765275</td>\n",
       "      <td>1.0</td>\n",
       "      <td>0.531399</td>\n",
       "      <td>1.559151</td>\n",
       "    </tr>\n",
       "    <tr>\n",
       "      <th>5990</th>\n",
       "      <td>1</td>\n",
       "      <td>0.042258</td>\n",
       "      <td>[0.90454006]</td>\n",
       "      <td>0.765315</td>\n",
       "      <td>1.0</td>\n",
       "      <td>0.531317</td>\n",
       "      <td>1.558930</td>\n",
       "    </tr>\n",
       "    <tr>\n",
       "      <th>5991</th>\n",
       "      <td>1</td>\n",
       "      <td>0.020277</td>\n",
       "      <td>[0.69743633]</td>\n",
       "      <td>0.765354</td>\n",
       "      <td>1.0</td>\n",
       "      <td>0.531232</td>\n",
       "      <td>1.558714</td>\n",
       "    </tr>\n",
       "    <tr>\n",
       "      <th>5992</th>\n",
       "      <td>1</td>\n",
       "      <td>0.056535</td>\n",
       "      <td>[0.74639606]</td>\n",
       "      <td>0.765393</td>\n",
       "      <td>1.0</td>\n",
       "      <td>0.531153</td>\n",
       "      <td>1.558491</td>\n",
       "    </tr>\n",
       "    <tr>\n",
       "      <th>5993</th>\n",
       "      <td>1</td>\n",
       "      <td>0.851535</td>\n",
       "      <td>[0.6067797]</td>\n",
       "      <td>0.765432</td>\n",
       "      <td>1.0</td>\n",
       "      <td>0.531206</td>\n",
       "      <td>1.558248</td>\n",
       "    </tr>\n",
       "    <tr>\n",
       "      <th>5994</th>\n",
       "      <td>1</td>\n",
       "      <td>0.000386</td>\n",
       "      <td>[0.9999757]</td>\n",
       "      <td>0.765471</td>\n",
       "      <td>1.0</td>\n",
       "      <td>0.531118</td>\n",
       "      <td>1.558035</td>\n",
       "    </tr>\n",
       "    <tr>\n",
       "      <th>5995</th>\n",
       "      <td>0</td>\n",
       "      <td>0.880564</td>\n",
       "      <td>[0.31856796]</td>\n",
       "      <td>0.765344</td>\n",
       "      <td>1.0</td>\n",
       "      <td>0.531176</td>\n",
       "      <td>1.557796</td>\n",
       "    </tr>\n",
       "    <tr>\n",
       "      <th>5996</th>\n",
       "      <td>0</td>\n",
       "      <td>0.038488</td>\n",
       "      <td>[0.8556071]</td>\n",
       "      <td>0.765216</td>\n",
       "      <td>1.0</td>\n",
       "      <td>0.531094</td>\n",
       "      <td>1.557576</td>\n",
       "    </tr>\n",
       "    <tr>\n",
       "      <th>5997</th>\n",
       "      <td>0</td>\n",
       "      <td>0.153669</td>\n",
       "      <td>[0.6792677]</td>\n",
       "      <td>0.765088</td>\n",
       "      <td>1.0</td>\n",
       "      <td>0.531031</td>\n",
       "      <td>1.557340</td>\n",
       "    </tr>\n",
       "    <tr>\n",
       "      <th>5998</th>\n",
       "      <td>1</td>\n",
       "      <td>0.000010</td>\n",
       "      <td>[1.0]</td>\n",
       "      <td>0.765128</td>\n",
       "      <td>1.0</td>\n",
       "      <td>0.530942</td>\n",
       "      <td>1.557128</td>\n",
       "    </tr>\n",
       "    <tr>\n",
       "      <th>5999</th>\n",
       "      <td>1</td>\n",
       "      <td>0.081262</td>\n",
       "      <td>[0.97727764]</td>\n",
       "      <td>0.765167</td>\n",
       "      <td>1.0</td>\n",
       "      <td>0.530867</td>\n",
       "      <td>1.556902</td>\n",
       "    </tr>\n",
       "  </tbody>\n",
       "</table>\n",
       "<p>6000 rows × 7 columns</p>\n",
       "</div>"
      ],
      "text/plain": [
       "      rw   entropy     pred_prob  accuracy  contamination  entropy_mean  \\\n",
       "0      1  0.019904   [0.9962843]  1.000000            0.0      0.019904   \n",
       "1      1  0.000173         [1.0]  1.000000            0.0      0.010039   \n",
       "2      1  0.000094   [0.9999988]  1.000000            0.0      0.006724   \n",
       "3      1  0.012052   [0.9998579]  1.000000            0.0      0.008056   \n",
       "4      1  0.013084   [0.9870135]  1.000000            0.0      0.009062   \n",
       "5      1  0.000085  [0.99999976]  1.000000            0.0      0.007565   \n",
       "6      1  0.003669   [0.9999994]  1.000000            0.0      0.007009   \n",
       "7      1  0.030835   [0.9991835]  1.000000            0.0      0.009987   \n",
       "8      1  0.012127  [0.99977237]  1.000000            0.0      0.010225   \n",
       "9      1  0.133827  [0.63892084]  1.000000            0.0      0.022585   \n",
       "10     1  0.010915   [0.9999788]  1.000000            0.0      0.021524   \n",
       "11     1  0.100536   [0.7787456]  1.000000            0.0      0.028108   \n",
       "12     1  0.010342   [0.9684322]  1.000000            0.0      0.026742   \n",
       "13     1  0.121069  [0.93962336]  1.000000            0.0      0.033479   \n",
       "14     1  0.000246  [0.99999166]  1.000000            0.0      0.031264   \n",
       "15     1  0.000200   [0.9999982]  1.000000            0.0      0.029322   \n",
       "16     1  0.010085  [0.99789834]  1.000000            0.0      0.028191   \n",
       "17     1  0.007805   [0.9999938]  1.000000            0.0      0.027058   \n",
       "18     0  1.624945    [0.667546]  0.947368            0.0      0.111157   \n",
       "19     0  0.006661   [0.7651342]  0.900000            0.0      0.105933   \n",
       "20     1  0.000648   [0.9999893]  0.904762            0.0      0.100919   \n",
       "21     1  0.006791   [0.9999682]  0.909091            0.0      0.096640   \n",
       "22     0  0.146667  [0.53330874]  0.869565            0.0      0.098816   \n",
       "23     0  0.108141  [0.47248754]  0.833333            0.0      0.099204   \n",
       "24     1  0.000767  [0.99986184]  0.840000            0.0      0.095267   \n",
       "25     1  0.012665  [0.77525145]  0.846154            0.0      0.092090   \n",
       "26     1  0.000135   [0.9996952]  0.851852            0.0      0.088684   \n",
       "27     1  0.028820   [0.7498494]  0.857143            0.0      0.086546   \n",
       "28     1  0.014900   [0.9911056]  0.862069            0.0      0.084075   \n",
       "29     1  0.038050   [0.9984962]  0.866667            0.0      0.082541   \n",
       "...   ..       ...           ...       ...            ...           ...   \n",
       "5970   1  1.798711  [0.35516948]  0.766036            1.0      0.529289   \n",
       "5971   0  0.061039  [0.85344917]  0.765908            1.0      0.529211   \n",
       "5972   1  0.089119   [0.9391852]  0.765947            1.0      0.529137   \n",
       "5973   0  9.136964     [0.98887]  0.765819            1.0      0.530578   \n",
       "5974   1  0.188104   [0.6944557]  0.765858            1.0      0.530521   \n",
       "5975   1  0.000373  [0.99766684]  0.765897            1.0      0.530432   \n",
       "5976   1  0.011201   [0.9733242]  0.765936            1.0      0.530345   \n",
       "5977   0  0.282059  [0.41535756]  0.765808            1.0      0.530304   \n",
       "5978   1  0.024673  [0.93423635]  0.765847            1.0      0.530219   \n",
       "5979   1  0.432708     [0.50138]  0.765886            1.0      0.530203   \n",
       "5980   0  1.418256  [0.51334435]  0.765758            1.0      0.530351   \n",
       "5981   1  0.009363  [0.62481236]  0.765797            1.0      0.530264   \n",
       "5982   0  0.074551   [0.5986955]  0.765669            1.0      0.530188   \n",
       "5983   0  5.876924   [0.6117844]  0.765541            1.0      0.531082   \n",
       "5984   0  0.134286   [0.4372604]  0.765414            1.0      0.531015   \n",
       "5985   0  2.483643  [0.73986477]  0.765286            1.0      0.531341   \n",
       "5986   0  1.171978   [0.3537155]  0.765158            1.0      0.531448   \n",
       "5987   1  0.036274   [0.9929802]  0.765197            1.0      0.531366   \n",
       "5988   1  0.839240    [0.353645]  0.765236            1.0      0.531417   \n",
       "5989   1  0.421197  [0.38215265]  0.765275            1.0      0.531399   \n",
       "5990   1  0.042258  [0.90454006]  0.765315            1.0      0.531317   \n",
       "5991   1  0.020277  [0.69743633]  0.765354            1.0      0.531232   \n",
       "5992   1  0.056535  [0.74639606]  0.765393            1.0      0.531153   \n",
       "5993   1  0.851535   [0.6067797]  0.765432            1.0      0.531206   \n",
       "5994   1  0.000386   [0.9999757]  0.765471            1.0      0.531118   \n",
       "5995   0  0.880564  [0.31856796]  0.765344            1.0      0.531176   \n",
       "5996   0  0.038488   [0.8556071]  0.765216            1.0      0.531094   \n",
       "5997   0  0.153669   [0.6792677]  0.765088            1.0      0.531031   \n",
       "5998   1  0.000010         [1.0]  0.765128            1.0      0.530942   \n",
       "5999   1  0.081262  [0.97727764]  0.765167            1.0      0.530867   \n",
       "\n",
       "      entropy_var  \n",
       "0        0.000000  \n",
       "1        0.000195  \n",
       "2        0.000130  \n",
       "3        0.000094  \n",
       "4        0.000076  \n",
       "5        0.000074  \n",
       "6        0.000064  \n",
       "7        0.000126  \n",
       "8        0.000110  \n",
       "9        0.001626  \n",
       "10       0.001476  \n",
       "11       0.001862  \n",
       "12       0.001731  \n",
       "13       0.002233  \n",
       "14       0.002147  \n",
       "15       0.002065  \n",
       "16       0.001957  \n",
       "17       0.001865  \n",
       "18       0.136143  \n",
       "19       0.129523  \n",
       "20       0.123575  \n",
       "21       0.118093  \n",
       "22       0.112834  \n",
       "23       0.107932  \n",
       "24       0.103822  \n",
       "25       0.099932  \n",
       "26       0.096402  \n",
       "27       0.092959  \n",
       "28       0.089816  \n",
       "29       0.086790  \n",
       "...           ...  \n",
       "5970     1.545675  \n",
       "5971     1.545453  \n",
       "5972     1.545227  \n",
       "5973     1.557371  \n",
       "5974     1.557130  \n",
       "5975     1.556916  \n",
       "5976     1.556701  \n",
       "5977     1.556451  \n",
       "5978     1.556233  \n",
       "5979     1.555974  \n",
       "5980     1.555846  \n",
       "5981     1.555631  \n",
       "5982     1.555406  \n",
       "5983     1.559923  \n",
       "5984     1.559689  \n",
       "5985     1.560065  \n",
       "5986     1.559873  \n",
       "5987     1.559654  \n",
       "5988     1.559409  \n",
       "5989     1.559151  \n",
       "5990     1.558930  \n",
       "5991     1.558714  \n",
       "5992     1.558491  \n",
       "5993     1.558248  \n",
       "5994     1.558035  \n",
       "5995     1.557796  \n",
       "5996     1.557576  \n",
       "5997     1.557340  \n",
       "5998     1.557128  \n",
       "5999     1.556902  \n",
       "\n",
       "[6000 rows x 7 columns]"
      ]
     },
     "execution_count": 364,
     "metadata": {},
     "output_type": "execute_result"
    }
   ],
   "source": [
    "df"
   ]
  },
  {
   "cell_type": "markdown",
   "metadata": {},
   "source": [
    "# Wines"
   ]
  },
  {
   "cell_type": "code",
   "execution_count": 388,
   "metadata": {
    "collapsed": true
   },
   "outputs": [],
   "source": [
    "def prepare_data_wines(path_white='/home/fdz/git/concept_drift_exps/data/wine/winequality_white.csv',\n",
    "                     path_red='/home/fdz/git/concept_drift_exps/data/wine/winequality_red.csv',\n",
    "                     binary_target=True, scale=True, permute=True, perm_features=5):\n",
    "    \n",
    "    df_white = pd.read_csv(path_white)\n",
    "    df_white['quality'].value_counts() / len(df_white)\n",
    "    \n",
    "    if binary_target:\n",
    "        df_white['target'] = df_white['quality'].apply(lambda x: 0 if x < 6 else 1)\n",
    "    else:\n",
    "        df_white['target'] = df_white['quality']\n",
    "    df_white.drop('quality', axis=1, inplace=True)\n",
    "    target = 'target'\n",
    "    # print('White distribution', df_white[target].value_counts() / len(df_white))\n",
    "    \n",
    "    features = [col for col in df_white.columns if col != target]\n",
    "    X, y = df_white[features].values, df_white[target].values\n",
    "    X_train, X_test, y_train, y_test = train_test_split(X, y)\n",
    "    \n",
    "    if scale:\n",
    "        scaler = MinMaxScaler()\n",
    "        scaler.fit(X_train)\n",
    "        X_train = scaler.transform(X_train)\n",
    "        X_test = scaler.transform(X_test)\n",
    "    \n",
    "    y_train = tf.keras.utils.to_categorical(y_train)\n",
    "    y_test = tf.keras.utils.to_categorical(y_test)\n",
    "    \n",
    "    y_train = np.delete(y_train, np.where(~y_train.any(axis=0)), axis=1)\n",
    "    y_test = np.delete(y_test, np.where(~y_test.any(axis=0)), axis=1)\n",
    "    \n",
    "    df_red = pd.read_csv(path_red)\n",
    "    df_red['quality'].value_counts() / len(df_red)\n",
    "    \n",
    "    if binary_target:\n",
    "        df_red['target'] = df_red['quality'].apply(lambda x: 0 if x < 6 else 1)\n",
    "    else:\n",
    "        df_red['target'] = df_red['quality']\n",
    "    df_red.drop('quality', axis=1, inplace=True)\n",
    "    target = 'target'\n",
    "    # print('Red distribution ', df_red[target].value_counts() / len(df_red))\n",
    "    \n",
    "    features = [col for col in df_red.columns if col != target]\n",
    "    X_red, y_red = df_red[features].values, df_red[target].values\n",
    "    if scale:\n",
    "        X_red = scaler.transform(X_red)\n",
    "    \n",
    "    y_red = tf.keras.utils.to_categorical(y_red)\n",
    "    y_red = np.delete(y_red, np.where(~y_red.any(axis=0)), axis=1)\n",
    "    \n",
    "    if not permute:\n",
    "        return df_white, df_red, X_train, y_train, X_test, y_test, X_red, y_red \n",
    "    else:\n",
    "        perm_1 = np.random.permutation(range(11))[:perm_features]\n",
    "        perm_2 = np.random.permutation(range(11))[:perm_features]\n",
    "        \n",
    "        X_cd = X_test.copy()\n",
    "        X_cd[:, perm_1] = X_cd[:, perm_2]\n",
    "        \n",
    "        y_cd = y_test\n",
    "        return df_white, df_red, X_train, y_train, X_test, y_test, X_cd, y_cd \n",
    "\n",
    "def model_wines(binary_target=True, nb_units=100):\n",
    "    \n",
    "    x_in = tf.keras.layers.Input(shape=(11, ))\n",
    "    x = tf.keras.layers.Dense(nb_units, activation='relu')(x_in)\n",
    "    #x = tf.keras.layers.Dense(50, activation='relu')(x_in)\n",
    "    if binary_target:\n",
    "        out = tf.keras.layers.Dense(2, activation='softmax')(x)\n",
    "    else:\n",
    "        out = tf.keras.layers.Dense(7, activation='softmax')(x)\n",
    "    clf = tf.keras.models.Model(x_in, out)\n",
    "    clf.compile(loss='categorical_crossentropy', optimizer='Adam', metrics=['accuracy'])\n",
    "    \n",
    "    clf.summary()\n",
    "    return clf"
   ]
  },
  {
   "cell_type": "markdown",
   "metadata": {},
   "source": [
    "### Prepare data"
   ]
  },
  {
   "cell_type": "code",
   "execution_count": 389,
   "metadata": {
    "collapsed": true
   },
   "outputs": [],
   "source": [
    "# Wines\n",
    "df_white, df_red, X_train, y_train, X_test, y_test, X_cd, y_cd = prepare_data_wines(path_white='/home/Gigio/git/fork-odcd/data/wine/winequality_white.csv',\n",
    "                                                                                    path_red='/home/Gigio/git/fork-odcd/data/wine/winequality_red.csv',\n",
    "                                                                                    permute=True, perm_features=4)"
   ]
  },
  {
   "cell_type": "markdown",
   "metadata": {},
   "source": [
    "### Train model"
   ]
  },
  {
   "cell_type": "code",
   "execution_count": 390,
   "metadata": {},
   "outputs": [
    {
     "name": "stdout",
     "output_type": "stream",
     "text": [
      "_________________________________________________________________\n",
      "Layer (type)                 Output Shape              Param #   \n",
      "=================================================================\n",
      "input_10 (InputLayer)        (None, 11)                0         \n",
      "_________________________________________________________________\n",
      "dense_39 (Dense)             (None, 200)               2400      \n",
      "_________________________________________________________________\n",
      "dense_40 (Dense)             (None, 2)                 402       \n",
      "=================================================================\n",
      "Total params: 2,802\n",
      "Trainable params: 2,802\n",
      "Non-trainable params: 0\n",
      "_________________________________________________________________\n"
     ]
    }
   ],
   "source": [
    "# wines\n",
    "clf = model_wines(nb_units=200)"
   ]
  },
  {
   "cell_type": "code",
   "execution_count": 391,
   "metadata": {},
   "outputs": [
    {
     "name": "stdout",
     "output_type": "stream",
     "text": [
      "Train on 3673 samples, validate on 1225 samples\n",
      "Epoch 1/100\n",
      "3673/3673 [==============================] - 3s 809us/step - loss: 0.5944 - acc: 0.6684 - val_loss: 0.5600 - val_acc: 0.7151\n",
      "Epoch 2/100\n",
      "3673/3673 [==============================] - 0s 102us/step - loss: 0.5380 - acc: 0.7079 - val_loss: 0.5279 - val_acc: 0.7314\n",
      "Epoch 3/100\n",
      "3673/3673 [==============================] - 0s 102us/step - loss: 0.5203 - acc: 0.7316 - val_loss: 0.5157 - val_acc: 0.7388\n",
      "Epoch 4/100\n",
      "3673/3673 [==============================] - 0s 102us/step - loss: 0.5119 - acc: 0.7427 - val_loss: 0.5117 - val_acc: 0.7380\n",
      "Epoch 5/100\n",
      "3673/3673 [==============================] - 0s 101us/step - loss: 0.5059 - acc: 0.7487 - val_loss: 0.5084 - val_acc: 0.7478\n",
      "Epoch 6/100\n",
      "3673/3673 [==============================] - 0s 102us/step - loss: 0.5070 - acc: 0.7517 - val_loss: 0.5040 - val_acc: 0.7445\n",
      "Epoch 7/100\n",
      "3673/3673 [==============================] - 0s 102us/step - loss: 0.5033 - acc: 0.7531 - val_loss: 0.5029 - val_acc: 0.7494\n",
      "Epoch 8/100\n",
      "3673/3673 [==============================] - 0s 101us/step - loss: 0.5025 - acc: 0.7522 - val_loss: 0.5019 - val_acc: 0.7494\n",
      "Epoch 9/100\n",
      "3673/3673 [==============================] - 0s 100us/step - loss: 0.4999 - acc: 0.7542 - val_loss: 0.5017 - val_acc: 0.7502\n",
      "Epoch 10/100\n",
      "3673/3673 [==============================] - 0s 102us/step - loss: 0.4989 - acc: 0.7547 - val_loss: 0.4999 - val_acc: 0.7510\n",
      "Epoch 11/100\n",
      "3673/3673 [==============================] - 0s 101us/step - loss: 0.5023 - acc: 0.7501 - val_loss: 0.5027 - val_acc: 0.7461\n",
      "Epoch 12/100\n",
      "3673/3673 [==============================] - 0s 101us/step - loss: 0.4960 - acc: 0.7580 - val_loss: 0.5012 - val_acc: 0.7567\n",
      "Epoch 13/100\n",
      "3673/3673 [==============================] - 0s 101us/step - loss: 0.4938 - acc: 0.7610 - val_loss: 0.4983 - val_acc: 0.7486\n",
      "Epoch 14/100\n",
      "3673/3673 [==============================] - 0s 100us/step - loss: 0.4933 - acc: 0.7615 - val_loss: 0.4964 - val_acc: 0.7502\n",
      "Epoch 15/100\n",
      "3673/3673 [==============================] - 0s 101us/step - loss: 0.4902 - acc: 0.7618 - val_loss: 0.4967 - val_acc: 0.7657\n",
      "Epoch 16/100\n",
      "3673/3673 [==============================] - 0s 101us/step - loss: 0.4887 - acc: 0.7656 - val_loss: 0.4967 - val_acc: 0.7633\n",
      "Epoch 17/100\n",
      "3673/3673 [==============================] - 0s 101us/step - loss: 0.4866 - acc: 0.7650 - val_loss: 0.4928 - val_acc: 0.7624\n",
      "Epoch 18/100\n",
      "3673/3673 [==============================] - 0s 102us/step - loss: 0.4855 - acc: 0.7694 - val_loss: 0.4979 - val_acc: 0.7420\n",
      "Epoch 19/100\n",
      "3673/3673 [==============================] - 0s 102us/step - loss: 0.4832 - acc: 0.7691 - val_loss: 0.4917 - val_acc: 0.7633\n",
      "Epoch 20/100\n",
      "3673/3673 [==============================] - 0s 101us/step - loss: 0.4809 - acc: 0.7713 - val_loss: 0.4907 - val_acc: 0.7527\n",
      "Epoch 21/100\n",
      "3673/3673 [==============================] - 0s 102us/step - loss: 0.4793 - acc: 0.7732 - val_loss: 0.4890 - val_acc: 0.7608\n",
      "Epoch 22/100\n",
      "3673/3673 [==============================] - 0s 101us/step - loss: 0.4794 - acc: 0.7765 - val_loss: 0.4929 - val_acc: 0.7518\n",
      "Epoch 23/100\n",
      "3673/3673 [==============================] - 0s 101us/step - loss: 0.4762 - acc: 0.7738 - val_loss: 0.4891 - val_acc: 0.7518\n",
      "Epoch 24/100\n",
      "3673/3673 [==============================] - 0s 102us/step - loss: 0.4780 - acc: 0.7708 - val_loss: 0.4881 - val_acc: 0.7543\n",
      "Epoch 25/100\n",
      "3673/3673 [==============================] - 0s 100us/step - loss: 0.4749 - acc: 0.7702 - val_loss: 0.4928 - val_acc: 0.7486\n",
      "Epoch 26/100\n",
      "3673/3673 [==============================] - 0s 102us/step - loss: 0.4744 - acc: 0.7781 - val_loss: 0.4869 - val_acc: 0.7624\n",
      "Epoch 27/100\n",
      "3673/3673 [==============================] - 0s 101us/step - loss: 0.4721 - acc: 0.7757 - val_loss: 0.4873 - val_acc: 0.7600\n",
      "Epoch 28/100\n",
      "3673/3673 [==============================] - 0s 101us/step - loss: 0.4715 - acc: 0.7819 - val_loss: 0.4855 - val_acc: 0.7576\n",
      "Epoch 29/100\n",
      "3673/3673 [==============================] - 0s 101us/step - loss: 0.4695 - acc: 0.7778 - val_loss: 0.4864 - val_acc: 0.7633\n",
      "Epoch 30/100\n",
      "3673/3673 [==============================] - 0s 101us/step - loss: 0.4695 - acc: 0.7819 - val_loss: 0.4838 - val_acc: 0.7633\n",
      "Epoch 31/100\n",
      "3673/3673 [==============================] - 0s 101us/step - loss: 0.4686 - acc: 0.7787 - val_loss: 0.4848 - val_acc: 0.7576\n",
      "Epoch 32/100\n",
      "3673/3673 [==============================] - 0s 102us/step - loss: 0.4695 - acc: 0.7781 - val_loss: 0.4925 - val_acc: 0.7576\n",
      "Epoch 33/100\n",
      "3673/3673 [==============================] - 0s 101us/step - loss: 0.4687 - acc: 0.7787 - val_loss: 0.4863 - val_acc: 0.7616\n",
      "Epoch 34/100\n",
      "3673/3673 [==============================] - 0s 101us/step - loss: 0.4681 - acc: 0.7767 - val_loss: 0.4835 - val_acc: 0.7624\n",
      "Epoch 35/100\n",
      "3673/3673 [==============================] - 0s 102us/step - loss: 0.4657 - acc: 0.7830 - val_loss: 0.4841 - val_acc: 0.7616\n",
      "Epoch 36/100\n",
      "3673/3673 [==============================] - 0s 102us/step - loss: 0.4643 - acc: 0.7830 - val_loss: 0.4844 - val_acc: 0.7551\n",
      "Epoch 37/100\n",
      "3673/3673 [==============================] - 0s 101us/step - loss: 0.4667 - acc: 0.7781 - val_loss: 0.4833 - val_acc: 0.7649\n",
      "Epoch 38/100\n",
      "3673/3673 [==============================] - 0s 101us/step - loss: 0.4635 - acc: 0.7789 - val_loss: 0.4832 - val_acc: 0.7665\n",
      "Epoch 39/100\n",
      "3673/3673 [==============================] - 0s 101us/step - loss: 0.4630 - acc: 0.7811 - val_loss: 0.4848 - val_acc: 0.7641\n",
      "Epoch 40/100\n",
      "3673/3673 [==============================] - 0s 102us/step - loss: 0.4639 - acc: 0.7849 - val_loss: 0.4824 - val_acc: 0.7641\n",
      "Epoch 41/100\n",
      "3673/3673 [==============================] - 0s 101us/step - loss: 0.4638 - acc: 0.7827 - val_loss: 0.4823 - val_acc: 0.7641\n",
      "Epoch 42/100\n",
      "3673/3673 [==============================] - 0s 101us/step - loss: 0.4628 - acc: 0.7789 - val_loss: 0.4830 - val_acc: 0.7657\n",
      "Epoch 43/100\n",
      "3673/3673 [==============================] - 0s 101us/step - loss: 0.4623 - acc: 0.7825 - val_loss: 0.4960 - val_acc: 0.7543\n",
      "Epoch 44/100\n",
      "3673/3673 [==============================] - 0s 102us/step - loss: 0.4613 - acc: 0.7811 - val_loss: 0.4818 - val_acc: 0.7665\n",
      "Epoch 45/100\n",
      "3673/3673 [==============================] - 0s 102us/step - loss: 0.4595 - acc: 0.7855 - val_loss: 0.4847 - val_acc: 0.7592\n",
      "Epoch 46/100\n",
      "3673/3673 [==============================] - 0s 102us/step - loss: 0.4606 - acc: 0.7857 - val_loss: 0.4820 - val_acc: 0.7690\n",
      "Epoch 47/100\n",
      "3673/3673 [==============================] - 0s 100us/step - loss: 0.4625 - acc: 0.7806 - val_loss: 0.4801 - val_acc: 0.7682\n",
      "Epoch 48/100\n",
      "3673/3673 [==============================] - 0s 102us/step - loss: 0.4599 - acc: 0.7844 - val_loss: 0.4793 - val_acc: 0.7641\n",
      "Epoch 49/100\n",
      "3673/3673 [==============================] - 0s 102us/step - loss: 0.4575 - acc: 0.7860 - val_loss: 0.4807 - val_acc: 0.7657\n",
      "Epoch 50/100\n",
      "3673/3673 [==============================] - 0s 102us/step - loss: 0.4574 - acc: 0.7857 - val_loss: 0.4807 - val_acc: 0.7665\n",
      "Epoch 51/100\n",
      "3673/3673 [==============================] - 0s 102us/step - loss: 0.4574 - acc: 0.7887 - val_loss: 0.4831 - val_acc: 0.7616\n",
      "Epoch 52/100\n",
      "3673/3673 [==============================] - 0s 101us/step - loss: 0.4561 - acc: 0.7846 - val_loss: 0.4819 - val_acc: 0.7624\n",
      "Epoch 53/100\n",
      "3673/3673 [==============================] - 0s 102us/step - loss: 0.4572 - acc: 0.7860 - val_loss: 0.4899 - val_acc: 0.7584\n",
      "Epoch 54/100\n",
      "3673/3673 [==============================] - 0s 101us/step - loss: 0.4563 - acc: 0.7855 - val_loss: 0.4794 - val_acc: 0.7665\n",
      "Epoch 55/100\n",
      "3673/3673 [==============================] - 0s 102us/step - loss: 0.4569 - acc: 0.7846 - val_loss: 0.4806 - val_acc: 0.7690\n",
      "Epoch 56/100\n",
      "3673/3673 [==============================] - 0s 101us/step - loss: 0.4549 - acc: 0.7885 - val_loss: 0.4795 - val_acc: 0.7665\n",
      "Epoch 57/100\n",
      "3673/3673 [==============================] - 0s 101us/step - loss: 0.4550 - acc: 0.7855 - val_loss: 0.4783 - val_acc: 0.7706\n",
      "Epoch 58/100\n",
      "3673/3673 [==============================] - 0s 101us/step - loss: 0.4533 - acc: 0.7863 - val_loss: 0.4854 - val_acc: 0.7567\n",
      "Epoch 59/100\n",
      "3673/3673 [==============================] - 0s 102us/step - loss: 0.4533 - acc: 0.7887 - val_loss: 0.4867 - val_acc: 0.7584\n",
      "Epoch 60/100\n"
     ]
    },
    {
     "name": "stdout",
     "output_type": "stream",
     "text": [
      "3673/3673 [==============================] - 0s 102us/step - loss: 0.4538 - acc: 0.7863 - val_loss: 0.4821 - val_acc: 0.7592\n",
      "Epoch 61/100\n",
      "3673/3673 [==============================] - 0s 101us/step - loss: 0.4524 - acc: 0.7874 - val_loss: 0.4802 - val_acc: 0.7608\n",
      "Epoch 62/100\n",
      "3673/3673 [==============================] - 0s 102us/step - loss: 0.4523 - acc: 0.7833 - val_loss: 0.4775 - val_acc: 0.7682\n",
      "Epoch 63/100\n",
      "3673/3673 [==============================] - 0s 103us/step - loss: 0.4527 - acc: 0.7860 - val_loss: 0.4794 - val_acc: 0.7641\n",
      "Epoch 64/100\n",
      "3673/3673 [==============================] - 0s 102us/step - loss: 0.4536 - acc: 0.7841 - val_loss: 0.4795 - val_acc: 0.7673\n",
      "Epoch 65/100\n",
      "3673/3673 [==============================] - 0s 103us/step - loss: 0.4510 - acc: 0.7871 - val_loss: 0.4869 - val_acc: 0.7543\n",
      "Epoch 66/100\n",
      "3673/3673 [==============================] - 0s 102us/step - loss: 0.4518 - acc: 0.7852 - val_loss: 0.4780 - val_acc: 0.7616\n",
      "Epoch 67/100\n",
      "3673/3673 [==============================] - 0s 103us/step - loss: 0.4523 - acc: 0.7917 - val_loss: 0.4765 - val_acc: 0.7698\n",
      "Epoch 68/100\n",
      "3673/3673 [==============================] - 0s 103us/step - loss: 0.4513 - acc: 0.7882 - val_loss: 0.4786 - val_acc: 0.7608\n",
      "Epoch 69/100\n",
      "3673/3673 [==============================] - 0s 102us/step - loss: 0.4510 - acc: 0.7822 - val_loss: 0.4809 - val_acc: 0.7592\n",
      "Epoch 70/100\n",
      "3673/3673 [==============================] - 0s 102us/step - loss: 0.4489 - acc: 0.7893 - val_loss: 0.4792 - val_acc: 0.7657\n",
      "Epoch 71/100\n",
      "3673/3673 [==============================] - 0s 101us/step - loss: 0.4509 - acc: 0.7885 - val_loss: 0.4787 - val_acc: 0.7641\n",
      "Epoch 72/100\n",
      "3673/3673 [==============================] - 0s 101us/step - loss: 0.4508 - acc: 0.7876 - val_loss: 0.4758 - val_acc: 0.7657\n",
      "Epoch 73/100\n",
      "3673/3673 [==============================] - 0s 102us/step - loss: 0.4489 - acc: 0.7879 - val_loss: 0.4779 - val_acc: 0.7665\n",
      "Epoch 74/100\n",
      "3673/3673 [==============================] - 0s 101us/step - loss: 0.4492 - acc: 0.7836 - val_loss: 0.4766 - val_acc: 0.7649\n",
      "Epoch 75/100\n",
      "3673/3673 [==============================] - 0s 102us/step - loss: 0.4503 - acc: 0.7887 - val_loss: 0.4776 - val_acc: 0.7673\n",
      "Epoch 76/100\n",
      "3673/3673 [==============================] - 0s 102us/step - loss: 0.4489 - acc: 0.7860 - val_loss: 0.4814 - val_acc: 0.7624\n",
      "Epoch 77/100\n",
      "3673/3673 [==============================] - 0s 102us/step - loss: 0.4494 - acc: 0.7885 - val_loss: 0.4857 - val_acc: 0.7616\n",
      "Epoch 78/100\n",
      "3673/3673 [==============================] - 0s 101us/step - loss: 0.4482 - acc: 0.7868 - val_loss: 0.4753 - val_acc: 0.7649\n",
      "Epoch 79/100\n",
      "3673/3673 [==============================] - 0s 102us/step - loss: 0.4463 - acc: 0.7868 - val_loss: 0.4761 - val_acc: 0.7673\n",
      "Epoch 80/100\n",
      "3673/3673 [==============================] - 0s 101us/step - loss: 0.4487 - acc: 0.7917 - val_loss: 0.4786 - val_acc: 0.7624\n",
      "Epoch 81/100\n",
      "3673/3673 [==============================] - 0s 101us/step - loss: 0.4471 - acc: 0.7852 - val_loss: 0.4773 - val_acc: 0.7657\n",
      "Epoch 82/100\n",
      "3673/3673 [==============================] - 0s 102us/step - loss: 0.4460 - acc: 0.7879 - val_loss: 0.4800 - val_acc: 0.7592\n",
      "Epoch 83/100\n",
      "3673/3673 [==============================] - 0s 102us/step - loss: 0.4481 - acc: 0.7860 - val_loss: 0.4776 - val_acc: 0.7641\n",
      "Epoch 84/100\n",
      "3673/3673 [==============================] - 0s 102us/step - loss: 0.4476 - acc: 0.7925 - val_loss: 0.4753 - val_acc: 0.7682\n",
      "Epoch 85/100\n",
      "3673/3673 [==============================] - 0s 102us/step - loss: 0.4477 - acc: 0.7885 - val_loss: 0.4766 - val_acc: 0.7657\n",
      "Epoch 86/100\n",
      "3673/3673 [==============================] - 0s 99us/step - loss: 0.4452 - acc: 0.7893 - val_loss: 0.4816 - val_acc: 0.7559\n",
      "Epoch 87/100\n",
      "3673/3673 [==============================] - 0s 102us/step - loss: 0.4468 - acc: 0.7887 - val_loss: 0.4775 - val_acc: 0.7665\n",
      "Epoch 88/100\n",
      "3673/3673 [==============================] - 0s 100us/step - loss: 0.4452 - acc: 0.7915 - val_loss: 0.4874 - val_acc: 0.7576\n",
      "Epoch 89/100\n",
      "3673/3673 [==============================] - 0s 100us/step - loss: 0.4447 - acc: 0.7944 - val_loss: 0.4759 - val_acc: 0.7657\n",
      "Epoch 90/100\n",
      "3673/3673 [==============================] - 0s 101us/step - loss: 0.4447 - acc: 0.7855 - val_loss: 0.4740 - val_acc: 0.7673\n",
      "Epoch 91/100\n",
      "3673/3673 [==============================] - 0s 101us/step - loss: 0.4467 - acc: 0.7871 - val_loss: 0.4830 - val_acc: 0.7649\n",
      "Epoch 92/100\n",
      "3673/3673 [==============================] - 0s 100us/step - loss: 0.4426 - acc: 0.7890 - val_loss: 0.4757 - val_acc: 0.7698\n",
      "Epoch 93/100\n",
      "3673/3673 [==============================] - 0s 101us/step - loss: 0.4448 - acc: 0.7901 - val_loss: 0.4750 - val_acc: 0.7698\n",
      "Epoch 94/100\n",
      "3673/3673 [==============================] - 0s 100us/step - loss: 0.4436 - acc: 0.7879 - val_loss: 0.4769 - val_acc: 0.7657\n",
      "Epoch 95/100\n",
      "3673/3673 [==============================] - 0s 101us/step - loss: 0.4435 - acc: 0.7904 - val_loss: 0.4816 - val_acc: 0.7592\n",
      "Epoch 96/100\n",
      "3673/3673 [==============================] - 0s 101us/step - loss: 0.4427 - acc: 0.7895 - val_loss: 0.4737 - val_acc: 0.7665\n",
      "Epoch 97/100\n",
      "3673/3673 [==============================] - 0s 101us/step - loss: 0.4421 - acc: 0.7882 - val_loss: 0.4907 - val_acc: 0.7567\n",
      "Epoch 98/100\n",
      "3673/3673 [==============================] - 0s 102us/step - loss: 0.4425 - acc: 0.7925 - val_loss: 0.4752 - val_acc: 0.7673\n",
      "Epoch 99/100\n",
      "3673/3673 [==============================] - 0s 101us/step - loss: 0.4429 - acc: 0.7912 - val_loss: 0.4754 - val_acc: 0.7673\n",
      "Epoch 100/100\n",
      "3673/3673 [==============================] - 0s 101us/step - loss: 0.4420 - acc: 0.7928 - val_loss: 0.4718 - val_acc: 0.7714\n"
     ]
    },
    {
     "data": {
      "text/plain": [
       "<tensorflow.python.keras.callbacks.History at 0x7fabde3f6c18>"
      ]
     },
     "execution_count": 391,
     "metadata": {},
     "output_type": "execute_result"
    }
   ],
   "source": [
    "#wines \n",
    "clf.fit(X_train, y_train, epochs=100, validation_data=(X_test, y_test))"
   ]
  },
  {
   "cell_type": "markdown",
   "metadata": {},
   "source": [
    "### Evaluate model"
   ]
  },
  {
   "cell_type": "code",
   "execution_count": 396,
   "metadata": {},
   "outputs": [
    {
     "name": "stdout",
     "output_type": "stream",
     "text": [
      "Train white\n",
      "Accuracy: 0.7949904710046284\n",
      "Confusion matrix: [[ 772  299]\n",
      " [ 454 2148]]\n"
     ]
    }
   ],
   "source": [
    "print('Train white')\n",
    "evaluate(clf, X_train, y_train)"
   ]
  },
  {
   "cell_type": "code",
   "execution_count": 397,
   "metadata": {},
   "outputs": [
    {
     "name": "stdout",
     "output_type": "stream",
     "text": [
      "Test white\n",
      "Accuracy: 0.7714285714285715\n",
      "Confusion matrix: [[249 115]\n",
      " [165 696]]\n"
     ]
    }
   ],
   "source": [
    "print('Test white')\n",
    "evaluate(clf, X_test, y_test)"
   ]
  },
  {
   "cell_type": "code",
   "execution_count": 398,
   "metadata": {},
   "outputs": [
    {
     "name": "stdout",
     "output_type": "stream",
     "text": [
      "False\n"
     ]
    }
   ],
   "source": [
    "print((X_cd == X_test).all())"
   ]
  },
  {
   "cell_type": "code",
   "execution_count": 399,
   "metadata": {},
   "outputs": [
    {
     "name": "stdout",
     "output_type": "stream",
     "text": [
      "cd\n",
      "Accuracy: 0.7363265306122448\n",
      "Confusion matrix: [[201 110]\n",
      " [213 701]]\n"
     ]
    }
   ],
   "source": [
    "print('cd')\n",
    "evaluate(clf, X_cd, y_cd)"
   ]
  },
  {
   "cell_type": "markdown",
   "metadata": {},
   "source": [
    "### Train symmetry finder"
   ]
  },
  {
   "cell_type": "code",
   "execution_count": 400,
   "metadata": {},
   "outputs": [
    {
     "name": "stdout",
     "output_type": "stream",
     "text": [
      "WARNING:tensorflow:Output \"input_trans\" missing from loss dictionary. We assume this was done on purpose. The fit and evaluate APIs will not be expecting any data to be passed to \"input_trans\".\n",
      "WARNING:tensorflow:Output \"model_9\" missing from loss dictionary. We assume this was done on purpose. The fit and evaluate APIs will not be expecting any data to be passed to \"model_9\".\n",
      "WARNING:tensorflow:Output \"model_9\" missing from loss dictionary. We assume this was done on purpose. The fit and evaluate APIs will not be expecting any data to be passed to \"model_9\".\n",
      "Vae\n",
      "__________________________________________________________________________________________________\n",
      "Layer (type)                    Output Shape         Param #     Connected to                     \n",
      "==================================================================================================\n",
      "encoder_input (InputLayer)      (None, 11)           0                                            \n",
      "__________________________________________________________________________________________________\n",
      "reshape_7 (Reshape)             (None, 11)           0           encoder_input[0][0]              \n",
      "__________________________________________________________________________________________________\n",
      "dense_41 (Dense)                (None, 128)          1536        reshape_7[0][0]                  \n",
      "__________________________________________________________________________________________________\n",
      "z_mean (Dense)                  (None, 4)            516         dense_41[0][0]                   \n",
      "__________________________________________________________________________________________________\n",
      "z_log_var (Dense)               (None, 4)            516         dense_41[0][0]                   \n",
      "__________________________________________________________________________________________________\n",
      "z (Lambda)                      (None, 4)            0           z_mean[0][0]                     \n",
      "                                                                 z_log_var[0][0]                  \n",
      "__________________________________________________________________________________________________\n",
      "dense_42 (Dense)                (None, 128)          640         z[0][0]                          \n",
      "__________________________________________________________________________________________________\n",
      "dense_43 (Dense)                (None, 11)           1419        dense_42[0][0]                   \n",
      "__________________________________________________________________________________________________\n",
      "input_trans (Reshape)           (None, 11)           0           dense_43[0][0]                   \n",
      "__________________________________________________________________________________________________\n",
      "model_9 (Model)                 (None, 2)            2802        input_trans[0][0]                \n",
      "                                                                 encoder_input[0][0]              \n",
      "==================================================================================================\n",
      "Total params: 7,429\n",
      "Trainable params: 4,627\n",
      "Non-trainable params: 2,802\n",
      "__________________________________________________________________________________________________\n"
     ]
    }
   ],
   "source": [
    "# wines\n",
    "vae = vsf.VaeSymmetryFinder(clf, input_shape=(11, ), output_shape=(2, ), intermediate_dim=128, latent_dim=4)"
   ]
  },
  {
   "cell_type": "code",
   "execution_count": 402,
   "metadata": {},
   "outputs": [
    {
     "name": "stdout",
     "output_type": "stream",
     "text": [
      "Train on 3673 samples, validate on 1225 samples\n",
      "Epoch 1/100\n",
      "3673/3673 [==============================] - 0s 33us/step - loss: 0.0037 - val_loss: 0.0041\n",
      "Epoch 2/100\n",
      "3673/3673 [==============================] - 0s 31us/step - loss: 0.0039 - val_loss: 0.0035\n",
      "Epoch 3/100\n",
      "3673/3673 [==============================] - 0s 31us/step - loss: 0.0036 - val_loss: 0.0036\n",
      "Epoch 4/100\n",
      "3673/3673 [==============================] - 0s 31us/step - loss: 0.0036 - val_loss: 0.0037\n",
      "Epoch 5/100\n",
      "3673/3673 [==============================] - 0s 30us/step - loss: 0.0034 - val_loss: 0.0032\n",
      "Epoch 6/100\n",
      "3673/3673 [==============================] - 0s 31us/step - loss: 0.0035 - val_loss: 0.0036\n",
      "Epoch 7/100\n",
      "3673/3673 [==============================] - 0s 31us/step - loss: 0.0033 - val_loss: 0.0033\n",
      "Epoch 8/100\n",
      "3673/3673 [==============================] - 0s 32us/step - loss: 0.0031 - val_loss: 0.0031\n",
      "Epoch 9/100\n",
      "3673/3673 [==============================] - 0s 31us/step - loss: 0.0031 - val_loss: 0.0030\n",
      "Epoch 10/100\n",
      "3673/3673 [==============================] - 0s 32us/step - loss: 0.0034 - val_loss: 0.0031\n",
      "Epoch 11/100\n",
      "3673/3673 [==============================] - 0s 32us/step - loss: 0.0030 - val_loss: 0.0028\n",
      "Epoch 12/100\n",
      "3673/3673 [==============================] - 0s 32us/step - loss: 0.0032 - val_loss: 0.0028\n",
      "Epoch 13/100\n",
      "3673/3673 [==============================] - 0s 32us/step - loss: 0.0030 - val_loss: 0.0036\n",
      "Epoch 14/100\n",
      "3673/3673 [==============================] - 0s 31us/step - loss: 0.0028 - val_loss: 0.0027\n",
      "Epoch 15/100\n",
      "3673/3673 [==============================] - 0s 32us/step - loss: 0.0028 - val_loss: 0.0027\n",
      "Epoch 16/100\n",
      "3673/3673 [==============================] - 0s 31us/step - loss: 0.0028 - val_loss: 0.0031\n",
      "Epoch 17/100\n",
      "3673/3673 [==============================] - 0s 32us/step - loss: 0.0029 - val_loss: 0.0026\n",
      "Epoch 18/100\n",
      "3673/3673 [==============================] - 0s 32us/step - loss: 0.0028 - val_loss: 0.0028\n",
      "Epoch 19/100\n",
      "3673/3673 [==============================] - 0s 32us/step - loss: 0.0027 - val_loss: 0.0027\n",
      "Epoch 20/100\n",
      "3673/3673 [==============================] - 0s 31us/step - loss: 0.0026 - val_loss: 0.0026\n",
      "Epoch 21/100\n",
      "3673/3673 [==============================] - 0s 31us/step - loss: 0.0027 - val_loss: 0.0025\n",
      "Epoch 22/100\n",
      "3673/3673 [==============================] - 0s 31us/step - loss: 0.0025 - val_loss: 0.0026\n",
      "Epoch 23/100\n",
      "3673/3673 [==============================] - 0s 32us/step - loss: 0.0024 - val_loss: 0.0024\n",
      "Epoch 24/100\n",
      "3673/3673 [==============================] - 0s 32us/step - loss: 0.0024 - val_loss: 0.0023\n",
      "Epoch 25/100\n",
      "3673/3673 [==============================] - 0s 33us/step - loss: 0.0026 - val_loss: 0.0023\n",
      "Epoch 26/100\n",
      "3673/3673 [==============================] - 0s 31us/step - loss: 0.0025 - val_loss: 0.0022\n",
      "Epoch 27/100\n",
      "3673/3673 [==============================] - 0s 32us/step - loss: 0.0024 - val_loss: 0.0022\n",
      "Epoch 28/100\n",
      "3673/3673 [==============================] - 0s 32us/step - loss: 0.0022 - val_loss: 0.0022\n",
      "Epoch 29/100\n",
      "3673/3673 [==============================] - 0s 32us/step - loss: 0.0022 - val_loss: 0.0022\n",
      "Epoch 30/100\n",
      "3673/3673 [==============================] - 0s 32us/step - loss: 0.0022 - val_loss: 0.0022\n",
      "Epoch 31/100\n",
      "3673/3673 [==============================] - 0s 32us/step - loss: 0.0021 - val_loss: 0.0021\n",
      "Epoch 32/100\n",
      "3673/3673 [==============================] - 0s 31us/step - loss: 0.0024 - val_loss: 0.0021\n",
      "Epoch 33/100\n",
      "3673/3673 [==============================] - 0s 31us/step - loss: 0.0021 - val_loss: 0.0022\n",
      "Epoch 34/100\n",
      "3673/3673 [==============================] - 0s 31us/step - loss: 0.0022 - val_loss: 0.0020\n",
      "Epoch 35/100\n",
      "3673/3673 [==============================] - 0s 31us/step - loss: 0.0022 - val_loss: 0.0026\n",
      "Epoch 36/100\n",
      "3673/3673 [==============================] - 0s 31us/step - loss: 0.0021 - val_loss: 0.0020\n",
      "Epoch 37/100\n",
      "3673/3673 [==============================] - 0s 32us/step - loss: 0.0021 - val_loss: 0.0021\n",
      "Epoch 38/100\n",
      "3673/3673 [==============================] - 0s 32us/step - loss: 0.0023 - val_loss: 0.0021\n",
      "Epoch 39/100\n",
      "3673/3673 [==============================] - 0s 31us/step - loss: 0.0019 - val_loss: 0.0018\n",
      "Epoch 40/100\n",
      "3673/3673 [==============================] - 0s 32us/step - loss: 0.0018 - val_loss: 0.0018\n",
      "Epoch 41/100\n",
      "3673/3673 [==============================] - 0s 32us/step - loss: 0.0018 - val_loss: 0.0017\n",
      "Epoch 42/100\n",
      "3673/3673 [==============================] - 0s 32us/step - loss: 0.0020 - val_loss: 0.0021\n",
      "Epoch 43/100\n",
      "3673/3673 [==============================] - 0s 31us/step - loss: 0.0018 - val_loss: 0.0017\n",
      "Epoch 44/100\n",
      "3673/3673 [==============================] - 0s 31us/step - loss: 0.0017 - val_loss: 0.0017\n",
      "Epoch 45/100\n",
      "3673/3673 [==============================] - 0s 31us/step - loss: 0.0021 - val_loss: 0.0026\n",
      "Epoch 46/100\n",
      "3673/3673 [==============================] - 0s 32us/step - loss: 0.0019 - val_loss: 0.0021\n",
      "Epoch 47/100\n",
      "3673/3673 [==============================] - 0s 31us/step - loss: 0.0020 - val_loss: 0.0016\n",
      "Epoch 48/100\n",
      "3673/3673 [==============================] - 0s 32us/step - loss: 0.0016 - val_loss: 0.0016\n",
      "Epoch 49/100\n",
      "3673/3673 [==============================] - 0s 32us/step - loss: 0.0015 - val_loss: 0.0016\n",
      "Epoch 50/100\n",
      "3673/3673 [==============================] - 0s 32us/step - loss: 0.0017 - val_loss: 0.0017\n",
      "Epoch 51/100\n",
      "3673/3673 [==============================] - 0s 31us/step - loss: 0.0016 - val_loss: 0.0017\n",
      "Epoch 52/100\n",
      "3673/3673 [==============================] - 0s 31us/step - loss: 0.0015 - val_loss: 0.0016\n",
      "Epoch 53/100\n",
      "3673/3673 [==============================] - 0s 31us/step - loss: 0.0016 - val_loss: 0.0024\n",
      "Epoch 54/100\n",
      "3673/3673 [==============================] - 0s 31us/step - loss: 0.0015 - val_loss: 0.0015\n",
      "Epoch 55/100\n",
      "3673/3673 [==============================] - 0s 32us/step - loss: 0.0015 - val_loss: 0.0018\n",
      "Epoch 56/100\n",
      "3673/3673 [==============================] - 0s 31us/step - loss: 0.0020 - val_loss: 0.0015\n",
      "Epoch 57/100\n",
      "3673/3673 [==============================] - 0s 32us/step - loss: 0.0017 - val_loss: 0.0016\n",
      "Epoch 58/100\n",
      "3673/3673 [==============================] - 0s 32us/step - loss: 0.0017 - val_loss: 0.0015\n",
      "Epoch 59/100\n",
      "3673/3673 [==============================] - 0s 31us/step - loss: 0.0014 - val_loss: 0.0014\n",
      "Epoch 60/100\n",
      "3673/3673 [==============================] - 0s 31us/step - loss: 0.0014 - val_loss: 0.0014\n",
      "Epoch 61/100\n",
      "3673/3673 [==============================] - 0s 32us/step - loss: 0.0013 - val_loss: 0.0015\n",
      "Epoch 62/100\n",
      "3673/3673 [==============================] - 0s 31us/step - loss: 0.0014 - val_loss: 0.0018\n",
      "Epoch 63/100\n",
      "3673/3673 [==============================] - 0s 31us/step - loss: 0.0014 - val_loss: 0.0014\n",
      "Epoch 64/100\n",
      "3673/3673 [==============================] - 0s 31us/step - loss: 0.0012 - val_loss: 0.0013\n",
      "Epoch 65/100\n",
      "3673/3673 [==============================] - 0s 31us/step - loss: 0.0012 - val_loss: 0.0013\n",
      "Epoch 66/100\n",
      "3673/3673 [==============================] - 0s 31us/step - loss: 0.0012 - val_loss: 0.0016\n",
      "Epoch 67/100\n",
      "3673/3673 [==============================] - 0s 32us/step - loss: 0.0014 - val_loss: 0.0014\n",
      "Epoch 68/100\n",
      "3673/3673 [==============================] - 0s 32us/step - loss: 0.0014 - val_loss: 0.0012\n",
      "Epoch 69/100\n",
      "3673/3673 [==============================] - 0s 31us/step - loss: 0.0012 - val_loss: 0.0013\n",
      "Epoch 70/100\n",
      "3673/3673 [==============================] - 0s 32us/step - loss: 0.0012 - val_loss: 0.0013\n",
      "Epoch 71/100\n",
      "3673/3673 [==============================] - 0s 31us/step - loss: 0.0013 - val_loss: 0.0016\n",
      "Epoch 72/100\n",
      "3673/3673 [==============================] - 0s 31us/step - loss: 0.0012 - val_loss: 0.0013\n",
      "Epoch 73/100\n",
      "3673/3673 [==============================] - 0s 32us/step - loss: 0.0012 - val_loss: 0.0013\n",
      "Epoch 74/100\n",
      "3673/3673 [==============================] - 0s 31us/step - loss: 0.0015 - val_loss: 0.0012\n",
      "Epoch 75/100\n",
      "3673/3673 [==============================] - 0s 32us/step - loss: 0.0011 - val_loss: 0.0013\n",
      "Epoch 76/100\n",
      "3673/3673 [==============================] - 0s 31us/step - loss: 0.0011 - val_loss: 0.0013\n",
      "Epoch 77/100\n",
      "3673/3673 [==============================] - 0s 31us/step - loss: 0.0012 - val_loss: 0.0012\n",
      "Epoch 78/100\n",
      "3673/3673 [==============================] - 0s 32us/step - loss: 0.0012 - val_loss: 0.0011\n",
      "Epoch 79/100\n",
      "3673/3673 [==============================] - 0s 32us/step - loss: 0.0010 - val_loss: 0.0014\n",
      "Epoch 80/100\n",
      "3673/3673 [==============================] - 0s 32us/step - loss: 0.0011 - val_loss: 0.0014\n",
      "Epoch 81/100\n",
      "3673/3673 [==============================] - 0s 31us/step - loss: 0.0012 - val_loss: 0.0013\n",
      "Epoch 82/100\n",
      "3673/3673 [==============================] - 0s 31us/step - loss: 0.0011 - val_loss: 0.0017\n",
      "Epoch 83/100\n",
      "3673/3673 [==============================] - 0s 32us/step - loss: 0.0012 - val_loss: 0.0011\n",
      "Epoch 84/100\n",
      "3673/3673 [==============================] - 0s 31us/step - loss: 0.0013 - val_loss: 0.0017\n",
      "Epoch 85/100\n",
      "3673/3673 [==============================] - 0s 31us/step - loss: 0.0012 - val_loss: 0.0017\n",
      "Epoch 86/100\n",
      "3673/3673 [==============================] - 0s 31us/step - loss: 0.0013 - val_loss: 0.0015\n",
      "Epoch 87/100\n",
      "3673/3673 [==============================] - 0s 32us/step - loss: 0.0010 - val_loss: 0.0011\n",
      "Epoch 88/100\n",
      "3673/3673 [==============================] - 0s 32us/step - loss: 0.0011 - val_loss: 0.0011\n",
      "Epoch 89/100\n",
      "3673/3673 [==============================] - 0s 32us/step - loss: 0.0010 - val_loss: 0.0011\n",
      "Epoch 90/100\n",
      "3673/3673 [==============================] - 0s 31us/step - loss: 9.1361e-04 - val_loss: 0.0010\n",
      "Epoch 91/100\n",
      "3673/3673 [==============================] - 0s 32us/step - loss: 8.9924e-04 - val_loss: 0.0011\n",
      "Epoch 92/100\n",
      "3673/3673 [==============================] - 0s 31us/step - loss: 9.1232e-04 - val_loss: 0.0010\n",
      "Epoch 93/100\n",
      "3673/3673 [==============================] - 0s 31us/step - loss: 0.0010 - val_loss: 0.0010\n",
      "Epoch 94/100\n",
      "3673/3673 [==============================] - 0s 31us/step - loss: 9.0402e-04 - val_loss: 9.4652e-04\n",
      "Epoch 95/100\n",
      "3673/3673 [==============================] - 0s 32us/step - loss: 9.8481e-04 - val_loss: 9.8288e-04\n",
      "Epoch 96/100\n",
      "3673/3673 [==============================] - 0s 32us/step - loss: 9.9013e-04 - val_loss: 0.0013\n",
      "Epoch 97/100\n",
      "3673/3673 [==============================] - 0s 32us/step - loss: 9.5827e-04 - val_loss: 0.0015\n",
      "Epoch 98/100\n",
      "3673/3673 [==============================] - 0s 32us/step - loss: 8.5618e-04 - val_loss: 9.4609e-04\n",
      "Epoch 99/100\n",
      "3673/3673 [==============================] - 0s 32us/step - loss: 8.3756e-04 - val_loss: 9.5546e-04\n",
      "Epoch 100/100\n",
      "3673/3673 [==============================] - 0s 32us/step - loss: 9.0775e-04 - val_loss: 8.8955e-04\n"
     ]
    }
   ],
   "source": [
    "vae.fit(X_train, x_test=X_test, epochs=100)"
   ]
  },
  {
   "cell_type": "markdown",
   "metadata": {},
   "source": [
    "### stream"
   ]
  },
  {
   "cell_type": "code",
   "execution_count": 459,
   "metadata": {},
   "outputs": [
    {
     "data": {
      "text/plain": [
       "(2450,)"
      ]
     },
     "execution_count": 459,
     "metadata": {},
     "output_type": "execute_result"
    }
   ],
   "source": [
    "# Symmetry signal\n",
    "X_train_perm = np.random.permutation(X_train)\n",
    "X_test_perm = np.random.permutation(X_test)\n",
    "X_cd_perm = np.random.permutation(X_cd)\n",
    "symm_samples_train, orig_preds_train, trans_preds_train = vae.vae.predict(X_train_perm)\n",
    "symm_samples_test, orig_preds_test, trans_preds_test = vae.vae.predict(X_test_perm)\n",
    "symm_samples_cd, orig_preds_cd, trans_preds_cd = vae.vae.predict(X_cd_perm)\n",
    "\n",
    "amp = 100\n",
    "kl_train = amp * entropy(orig_preds_train.T, trans_preds_train.T)\n",
    "kl_test = amp * entropy(orig_preds_test.T, trans_preds_test.T)\n",
    "kl_cd = amp * entropy(orig_preds_cd.T, trans_preds_cd.T)\n",
    "\n",
    "baseline_std_plus = kl_train.mean() + kl_train.std()\n",
    "baseline_std_minus = kl_train.mean() - kl_train.std()\n",
    "\n",
    "kl_concat = np.concatenate((kl_test, kl_cd))\n",
    "#kl_concat = kl_test\n",
    "kl_concat.shape"
   ]
  },
  {
   "cell_type": "code",
   "execution_count": 430,
   "metadata": {},
   "outputs": [
    {
     "data": {
      "text/plain": [
       "(2450,)"
      ]
     },
     "execution_count": 430,
     "metadata": {},
     "output_type": "execute_result"
    }
   ],
   "source": [
    "# Distance signal\n",
    "if len(X_train.shape[1:]) > 1:\n",
    "    X_train = X_train.reshape(X_train.shape[0], -1)\n",
    "    X_test = X_test.reshape(X_test.shape[0], -1)\n",
    "    X_cd = X_cd.reshape(X_cd.shape[0], -1)\n",
    "    \n",
    "neigh = NearestNeighbors(1)\n",
    "neigh.fit(X_train)\n",
    "    \n",
    "d_train = neigh.kneighbors(X_train, return_distance=True)[0].flatten()\n",
    "d_test = neigh.kneighbors(X_test, return_distance=True)[0].flatten()\n",
    "d_cd = neigh.kneighbors(X_cd, return_distance=True)[0].flatten()\n",
    "\n",
    "baseline_std_plus = d_train.mean() + d_train.std()\n",
    "baseline_std_minus = d_train.mean() - d_train.std()\n",
    "\n",
    "d_concat = np.concatenate((np.random.permutation(d_test), np.random.permutation(d_cd)))\n",
    "#kl_concat = kl_test\n",
    "d_concat.shape"
   ]
  },
  {
   "cell_type": "code",
   "execution_count": 460,
   "metadata": {
    "collapsed": true
   },
   "outputs": [],
   "source": [
    "tr = kl_test.shape[0]"
   ]
  },
  {
   "cell_type": "code",
   "execution_count": 461,
   "metadata": {
    "collapsed": true
   },
   "outputs": [],
   "source": [
    "#agg = 'mean', 'window' or 'raw'\n",
    "df = make_data_stream(kl_concat, agg='mean')"
   ]
  },
  {
   "cell_type": "code",
   "execution_count": 462,
   "metadata": {},
   "outputs": [
    {
     "data": {
      "text/plain": [
       "<matplotlib.lines.Line2D at 0x7fabd640c550>"
      ]
     },
     "execution_count": 462,
     "metadata": {},
     "output_type": "execute_result"
    },
    {
     "data": {
      "image/png": "[encoded data removed]",
      "text/plain": [
       "<Figure size 1080x576 with 1 Axes>"
      ]
     },
     "metadata": {},
     "output_type": "display_data"
    }
   ],
   "source": [
    "ax = df.plot(x='index', y='stream', figsize=(15,8))\n",
    "ax.axhline(baseline_std_plus, c='g')\n",
    "ax.axhline(baseline_std_minus, c='g')"
   ]
  },
  {
   "cell_type": "code",
   "execution_count": 463,
   "metadata": {},
   "outputs": [
    {
     "name": "stdout",
     "output_type": "stream",
     "text": [
      "\u001b[32mChange detected in data: 0.19303944386958297 - at index: 1471\n",
      "\u001b[32mChange detected in data: 0.20332318946753827 - at index: 1503\n",
      "\u001b[32mChange detected in data: 0.22001970368642984 - at index: 1535\n",
      "\u001b[32mChange detected in data: 0.2405641764161348 - at index: 1599\n",
      "\u001b[32mChange detected in data: 0.25236832216577887 - at index: 1663\n",
      "\u001b[32mChange detected in data: 0.28220950444630555 - at index: 1759\n",
      "\u001b[32mChange detected in data: 0.31198224872559666 - at index: 1855\n",
      "\u001b[32mChange detected in data: 0.3227311077220728 - at index: 1919\n",
      "\u001b[32mChange detected in data: 0.3525847642700118 - at index: 2015\n",
      "\u001b[32mChange detected in data: 0.3642267158476461 - at index: 2079\n",
      "\u001b[32mChange detected in data: 0.38225118607457464 - at index: 2143\n",
      "\u001b[32mChange detected in data: 0.3921384301594905 - at index: 2207\n",
      "\u001b[32mChange detected in data: 0.4111696363857426 - at index: 2303\n",
      "\u001b[32mChange detected in data: 0.4172964705270012 - at index: 2367\n"
     ]
    }
   ],
   "source": [
    "adwin = ADWIN(delta=0.002)\n",
    "data_stream = df['stream']\n",
    "for i in range(len(data_stream)):\n",
    "    adwin.add_element(data_stream[i])\n",
    "    if adwin.detected_change():\n",
    "        if i < tr:\n",
    "            print(Fore.RED + 'Change detected in data: ' + str(data_stream[i]) + ' - at index: ' + str(i))\n",
    "        else:\n",
    "            print(Fore.GREEN + 'Change detected in data: ' + str(data_stream[i]) + ' - at index: ' + str(i))"
   ]
  },
  {
   "cell_type": "code",
   "execution_count": 439,
   "metadata": {},
   "outputs": [
    {
     "name": "stdout",
     "output_type": "stream",
     "text": [
      "Sample 0 of 2000\n",
      "Sample 1000 of 2000\n"
     ]
    }
   ],
   "source": [
    "cd_start = 100\n",
    "cd_full = int(1.5 * cd_start)\n",
    "nb_samples_tot = 2000\n",
    "start = 0\n",
    "df = sst.rolling_stats(vae, X_test, y_test, X_cd, y_cd, cd_start, cd_full, nb_samples_tot, start)"
   ]
  },
  {
   "cell_type": "code",
   "execution_count": 440,
   "metadata": {},
   "outputs": [
    {
     "data": {
      "image/png": "[encoded data removed]",
      "text/plain": [
       "<Figure size 1080x576 with 4 Axes>"
      ]
     },
     "metadata": {},
     "output_type": "display_data"
    }
   ],
   "source": [
    "axs = df[['contamination', 'accuracy','entropy_mean', 'entropy_var']].plot(logy = False, subplots=True, figsize = (15, 8))\n",
    "for ax in axs:\n",
    "    ax.axvline(cd_start, c='r', linestyle='dashed')\n",
    "    ax.axvline(cd_full, c='r', linestyle='dashed')"
   ]
  },
  {
   "cell_type": "code",
   "execution_count": 441,
   "metadata": {},
   "outputs": [
    {
     "data": {
      "text/plain": [
       "<matplotlib.lines.Line2D at 0x7fabd6538630>"
      ]
     },
     "execution_count": 441,
     "metadata": {},
     "output_type": "execute_result"
    },
    {
     "data": {
      "image/png": "[encoded data removed]",
      "text/plain": [
       "<Figure size 1080x576 with 2 Axes>"
      ]
     },
     "metadata": {},
     "output_type": "display_data"
    }
   ],
   "source": [
    "axs = df[['contamination', 'entropy_mean']].plot(logy = False, subplots=True, figsize = (15, 8))\n",
    "for ax in axs:\n",
    "    ax.axvline(cd_start, c='r', linestyle='dashed')\n",
    "    ax.axvline(cd_full, c='r', linestyle='dashed')\n",
    "axs[1].axhline(baseline_std_plus, c='g')\n",
    "axs[1].axhline(baseline_std_minus, c='g')"
   ]
  },
  {
   "cell_type": "code",
   "execution_count": 442,
   "metadata": {
    "collapsed": true
   },
   "outputs": [],
   "source": [
    "data_stream = df['entropy_mean']\n",
    "adwin = ADWIN(delta=0.02)\n",
    "for i in range(len(data_stream)):\n",
    "    adwin.add_element(data_stream[i])\n",
    "    if adwin.detected_change():\n",
    "        if i < cd_start:\n",
    "            print(Fore.RED + 'Change detected in data: ' + str(data_stream[i]) + ' - at index: ' + str(i))\n",
    "        elif i >= cd_start and i < cd_full:\n",
    "            print(Fore.GREEN + 'Change detected in data: ' + str(data_stream[i]) + ' - at index: ' + str(i))            \n",
    "        else:\n",
    "            print(Fore.YELLOW + 'Change detected in data: ' + str(data_stream[i]) + ' - at index: ' + str(i))"
   ]
  },
  {
   "cell_type": "code",
   "execution_count": 443,
   "metadata": {},
   "outputs": [
    {
     "data": {
      "text/plain": [
       "0       0.000197\n",
       "1       0.000217\n",
       "2       0.000206\n",
       "3       0.000654\n",
       "4       0.000539\n",
       "5       0.000687\n",
       "6       0.000727\n",
       "7       0.000641\n",
       "8       0.000892\n",
       "9       0.000830\n",
       "10      0.000772\n",
       "11      0.000726\n",
       "12      0.000670\n",
       "13      0.000622\n",
       "14      0.000657\n",
       "15      0.000616\n",
       "16      0.000602\n",
       "17      0.000583\n",
       "18      0.000768\n",
       "19      0.000782\n",
       "20      0.000747\n",
       "21      0.000719\n",
       "22      0.000689\n",
       "23      0.000865\n",
       "24      0.000831\n",
       "25      0.000833\n",
       "26      0.000812\n",
       "27      0.000830\n",
       "28      0.000939\n",
       "29      0.000971\n",
       "          ...   \n",
       "1970    0.007616\n",
       "1971    0.007616\n",
       "1972    0.007613\n",
       "1973    0.007616\n",
       "1974    0.007625\n",
       "1975    0.007621\n",
       "1976    0.007623\n",
       "1977    0.007620\n",
       "1978    0.007628\n",
       "1979    0.007624\n",
       "1980    0.007625\n",
       "1981    0.007621\n",
       "1982    0.007617\n",
       "1983    0.007639\n",
       "1984    0.007656\n",
       "1985    0.007655\n",
       "1986    0.007651\n",
       "1987    0.007650\n",
       "1988    0.007648\n",
       "1989    0.007645\n",
       "1990    0.007653\n",
       "1991    0.007675\n",
       "1992    0.007671\n",
       "1993    0.007668\n",
       "1994    0.007670\n",
       "1995    0.007667\n",
       "1996    0.007665\n",
       "1997    0.007661\n",
       "1998    0.007665\n",
       "1999    0.007661\n",
       "Name: entropy_mean, Length: 2000, dtype: float64"
      ]
     },
     "execution_count": 443,
     "metadata": {},
     "output_type": "execute_result"
    }
   ],
   "source": [
    "data_stream"
   ]
  },
  {
   "cell_type": "code",
   "execution_count": null,
   "metadata": {
    "collapsed": true
   },
   "outputs": [],
   "source": []
  }
 ],
 "metadata": {
  "kernelspec": {
   "display_name": "Python 3",
   "language": "python",
   "name": "python3"
  },
  "language_info": {
   "codemirror_mode": {
    "name": "ipython",
    "version": 3
   },
   "file_extension": ".py",
   "mimetype": "text/x-python",
   "name": "python",
   "nbconvert_exporter": "python",
   "pygments_lexer": "ipython3",
   "version": "3.6.3"
  }
 },
 "nbformat": 4,
 "nbformat_minor": 2
}
