{
 "cells": [
  {
   "cell_type": "code",
   "execution_count": 1,
   "metadata": {},
   "outputs": [
    {
     "name": "stderr",
     "output_type": "stream",
     "text": [
      "/home/fdz/anaconda3/lib/python3.7/site-packages/tensorflow/python/framework/dtypes.py:526: FutureWarning: Passing (type, 1) or '1type' as a synonym of type is deprecated; in a future version of numpy, it will be understood as (type, (1,)) / '(1,)type'.\n",
      "  _np_qint8 = np.dtype([(\"qint8\", np.int8, 1)])\n",
      "/home/fdz/anaconda3/lib/python3.7/site-packages/tensorflow/python/framework/dtypes.py:527: FutureWarning: Passing (type, 1) or '1type' as a synonym of type is deprecated; in a future version of numpy, it will be understood as (type, (1,)) / '(1,)type'.\n",
      "  _np_quint8 = np.dtype([(\"quint8\", np.uint8, 1)])\n",
      "/home/fdz/anaconda3/lib/python3.7/site-packages/tensorflow/python/framework/dtypes.py:528: FutureWarning: Passing (type, 1) or '1type' as a synonym of type is deprecated; in a future version of numpy, it will be understood as (type, (1,)) / '(1,)type'.\n",
      "  _np_qint16 = np.dtype([(\"qint16\", np.int16, 1)])\n",
      "/home/fdz/anaconda3/lib/python3.7/site-packages/tensorflow/python/framework/dtypes.py:529: FutureWarning: Passing (type, 1) or '1type' as a synonym of type is deprecated; in a future version of numpy, it will be understood as (type, (1,)) / '(1,)type'.\n",
      "  _np_quint16 = np.dtype([(\"quint16\", np.uint16, 1)])\n",
      "/home/fdz/anaconda3/lib/python3.7/site-packages/tensorflow/python/framework/dtypes.py:530: FutureWarning: Passing (type, 1) or '1type' as a synonym of type is deprecated; in a future version of numpy, it will be understood as (type, (1,)) / '(1,)type'.\n",
      "  _np_qint32 = np.dtype([(\"qint32\", np.int32, 1)])\n",
      "/home/fdz/anaconda3/lib/python3.7/site-packages/tensorflow/python/framework/dtypes.py:535: FutureWarning: Passing (type, 1) or '1type' as a synonym of type is deprecated; in a future version of numpy, it will be understood as (type, (1,)) / '(1,)type'.\n",
      "  np_resource = np.dtype([(\"resource\", np.ubyte, 1)])\n",
      "Using TensorFlow backend.\n"
     ]
    }
   ],
   "source": [
    "import pandas as pd\n",
    "import numpy as np\n",
    "import tensorflow as tf\n",
    "import keras \n",
    "from scipy.stats import entropy\n",
    "import sys\n",
    "sys.path.append('..')\n",
    "sys.path.append('../odcd/cd/')\n",
    "sys.path.append('../odcd/utils/')\n",
    "from odcd.metrics import DataTracker\n",
    "from sklearn.model_selection import train_test_split\n",
    "from sklearn.preprocessing import MinMaxScaler\n",
    "from sklearn.metrics import accuracy_score, confusion_matrix\n",
    "import matplotlib\n",
    "import seaborn as sns\n",
    "from creme.stats import Mean, Var\n",
    "import matplotlib.pyplot as plt\n",
    "import model_symmetries as vsf\n",
    "%matplotlib inline"
   ]
  },
  {
   "cell_type": "code",
   "execution_count": 2,
   "metadata": {},
   "outputs": [],
   "source": [
    "import numpy as np\n",
    "import keras\n",
    "from keras.layers import Conv2D, Dense, Dropout, Flatten, MaxPooling2D, Input\n",
    "from keras.models import Model\n",
    "from keras.utils import to_categorical"
   ]
  },
  {
   "cell_type": "code",
   "execution_count": 3,
   "metadata": {},
   "outputs": [],
   "source": [
    "import numpy as np\n",
    "from skmultiflow.drift_detection.adwin import ADWIN"
   ]
  },
  {
   "cell_type": "code",
   "execution_count": 4,
   "metadata": {},
   "outputs": [],
   "source": [
    "import streaming_sim_test as sst"
   ]
  },
  {
   "cell_type": "code",
   "execution_count": 5,
   "metadata": {},
   "outputs": [],
   "source": [
    "from importlib import reload"
   ]
  },
  {
   "cell_type": "code",
   "execution_count": 6,
   "metadata": {},
   "outputs": [],
   "source": [
    "from sklearn.neighbors import NearestNeighbors"
   ]
  },
  {
   "cell_type": "code",
   "execution_count": 7,
   "metadata": {},
   "outputs": [],
   "source": [
    "import colorama\n",
    "from colorama import Fore, Style"
   ]
  },
  {
   "cell_type": "code",
   "execution_count": 12,
   "metadata": {},
   "outputs": [],
   "source": [
    "def prepare_data_mnist(permute=False, perm_features=50, fashion=False):\n",
    "    \n",
    "    if fashion:\n",
    "        (X_train, y_train), (X_test, y_test) = tf.keras.datasets.fashion_mnist.load_data()\n",
    "    else:\n",
    "        (X_train, y_train), (X_test, y_test) = tf.keras.datasets.mnist.load_data()\n",
    "    print('x_train shape:', X_train.shape, 'y_train shape:', y_train.shape)\n",
    "\n",
    "    # define train and test set\n",
    "    np.random.seed(0)\n",
    "    X_train = X_train.astype('float32') / 255\n",
    "    X_test = X_test.astype('float32') / 255\n",
    "    X_train = np.reshape(X_train, X_train.shape + (1,))\n",
    "    X_test = np.reshape(X_test, X_test.shape + (1,))\n",
    "    print('x_train shape:', X_train.shape, 'x_test shape:', X_test.shape)\n",
    "    \n",
    "    if not permute:\n",
    "        idxs_train_0_5 = np.where((y_train == 5) | (y_train == 4) | (y_train == 3) | \n",
    "                            (y_train == 2) | (y_train == 1) | (y_train == 0))\n",
    "        idxs_test_0_5 = np.where((y_test == 5) | (y_test == 4) | (y_test == 3) | \n",
    "                            (y_test == 2) | (y_test == 1) | (y_test == 0))\n",
    "\n",
    "        idxs_train_6_9 = np.where((y_train == 6) | (y_train == 7) | (y_train == 8) | \n",
    "                            (y_train == 9))\n",
    "        idxs_test_6_9 = np.where((y_test == 6) | (y_test == 7) | (y_test == 8) | \n",
    "                            (y_test == 9))\n",
    "\n",
    "        print(idxs_train_0_5[0].shape)\n",
    "        print(idxs_test_0_5[0].shape)\n",
    "\n",
    "        X_train_0_5 = X_train[idxs_train_0_5[0]]\n",
    "        y_train_0_5 = y_train[idxs_train_0_5[0]]\n",
    "\n",
    "        X_test_0_5 = X_test[idxs_test_0_5[0]]\n",
    "        y_test_0_5 = y_test[idxs_test_0_5[0]]\n",
    "    \n",
    "        X_6_9 = X_test[idxs_test_6_9[0]]\n",
    "        y_6_9 = y_test[idxs_test_6_9[0]]\n",
    "\n",
    "        y_train_0_5 = tf.keras.utils.to_categorical(y_train_0_5)\n",
    "        y_test_0_5 = tf.keras.utils.to_categorical(y_test_0_5)\n",
    "        y_6_9 = tf.keras.utils.to_categorical(y_6_9)\n",
    "    \n",
    "        y_6_9 = np.delete(y_6_9, np.where(~y_6_9.any(axis=0)), axis=1)\n",
    "        print(X_train_0_5.shape, y_train_0_5.shape)\n",
    "        print(X_test_0_5.shape, y_test_0_5.shape)\n",
    "        print(X_6_9.shape, y_6_9.shape)\n",
    "    \n",
    "    \n",
    "        return None, None, X_train_0_5, y_train_0_5, X_test_0_5, y_test_0_5, X_6_9, y_6_9 \n",
    "    else:\n",
    "        mapp = {(28 * i) + j: [i, j]  for i in range(28) for j in range(28)}\n",
    "        perm_1 = np.random.permutation(range(28 * 28))[:perm_features]\n",
    "        perm_2 = np.random.permutation(range(28 * 28))[:perm_features]\n",
    "        X_cd = X_test.copy()\n",
    "        for t in zip(perm_1, perm_2):\n",
    "            X_cd[:, mapp[t[0]][0], mapp[t[0]][1], :] = X_cd[:, mapp[t[1]][0], mapp[t[1]][1], :]\n",
    "        y_cd = y_test\n",
    "        \n",
    "        y_train = tf.keras.utils.to_categorical(y_train)\n",
    "        y_test = tf.keras.utils.to_categorical(y_test)\n",
    "        y_cd = tf.keras.utils.to_categorical(y_cd)\n",
    "        \n",
    "        print(X_train.shape, y_train.shape)\n",
    "        print(X_test.shape, y_test.shape)\n",
    "        print(X_cd.shape, y_cd.shape)\n",
    "        return None, None, X_train, y_train, X_test, y_test, X_cd, y_cd\n",
    "        \n",
    "def prepare_data_wines(path_white='/home/fdz/git/concept_drift_exps/data/wine/winequality_white.csv',\n",
    "                     path_red='/home/fdz/git/concept_drift_exps/data/wine/winequality_red.csv',\n",
    "                     binary_target=True, scale=True, permute=True, perm_features=5):\n",
    "    \n",
    "    df_white = pd.read_csv(path_white)\n",
    "    df_white['quality'].value_counts() / len(df_white)\n",
    "    \n",
    "    if binary_target:\n",
    "        df_white['target'] = df_white['quality'].apply(lambda x: 0 if x < 6 else 1)\n",
    "    else:\n",
    "        df_white['target'] = df_white['quality']\n",
    "    df_white.drop('quality', axis=1, inplace=True)\n",
    "    target = 'target'\n",
    "    # print('White distribution', df_white[target].value_counts() / len(df_white))\n",
    "    \n",
    "    features = [col for col in df_white.columns if col != target]\n",
    "    X, y = df_white[features].values, df_white[target].values\n",
    "    X_train, X_test, y_train, y_test = train_test_split(X, y)\n",
    "    \n",
    "    if scale:\n",
    "        scaler = MinMaxScaler()\n",
    "        scaler.fit(X_train)\n",
    "        X_train = scaler.transform(X_train)\n",
    "        X_test = scaler.transform(X_test)\n",
    "    \n",
    "    y_train = tf.keras.utils.to_categorical(y_train)\n",
    "    y_test = tf.keras.utils.to_categorical(y_test)\n",
    "    \n",
    "    y_train = np.delete(y_train, np.where(~y_train.any(axis=0)), axis=1)\n",
    "    y_test = np.delete(y_test, np.where(~y_test.any(axis=0)), axis=1)\n",
    "    \n",
    "    df_red = pd.read_csv(path_red)\n",
    "    df_red['quality'].value_counts() / len(df_red)\n",
    "    \n",
    "    if binary_target:\n",
    "        df_red['target'] = df_red['quality'].apply(lambda x: 0 if x < 6 else 1)\n",
    "    else:\n",
    "        df_red['target'] = df_red['quality']\n",
    "    df_red.drop('quality', axis=1, inplace=True)\n",
    "    target = 'target'\n",
    "    # print('Red distribution ', df_red[target].value_counts() / len(df_red))\n",
    "    \n",
    "    features = [col for col in df_red.columns if col != target]\n",
    "    X_red, y_red = df_red[features].values, df_red[target].values\n",
    "    if scale:\n",
    "        X_red = scaler.transform(X_red)\n",
    "    \n",
    "    y_red = tf.keras.utils.to_categorical(y_red)\n",
    "    y_red = np.delete(y_red, np.where(~y_red.any(axis=0)), axis=1)\n",
    "    \n",
    "    if not permute:\n",
    "        return df_white, df_red, X_train, y_train, X_test, y_test, X_red, y_red \n",
    "    else:\n",
    "        perm_1 = np.random.permutation(range(11))[:perm_features]\n",
    "        perm_2 = np.random.permutation(range(11))[:perm_features]\n",
    "        \n",
    "        X_cd = X_test.copy()\n",
    "        X_cd[:, perm_1] = X_cd[:, perm_2]\n",
    "        \n",
    "        y_cd = y_test\n",
    "        return df_white, df_red, X_train, y_train, X_test, y_test, X_cd, y_cd \n",
    "        "
   ]
  },
  {
   "cell_type": "code",
   "execution_count": 13,
   "metadata": {},
   "outputs": [],
   "source": [
    "# define and  train an cnn model\n",
    "def model_mnist(nb_classes=10):\n",
    "    x_in = tf.keras.layers.Input(shape=(28, 28, 1))\n",
    "    x = tf.keras.layers.Conv2D(filters=64, kernel_size=2, padding='same', activation='relu')(x_in)\n",
    "    x = tf.keras.layers.MaxPooling2D(pool_size=2)(x)\n",
    "    x = tf.keras.layers.Dropout(0.3)(x)\n",
    "\n",
    "    x = tf.keras.layers.Conv2D(filters=32, kernel_size=2, padding='same', activation='relu')(x)\n",
    "    x = tf.keras.layers.MaxPooling2D(pool_size=2)(x)\n",
    "    x = tf.keras.layers.Dropout(0.3)(x)\n",
    "\n",
    "    x = tf.keras.layers.Flatten()(x)\n",
    "    x = tf.keras.layers.Dense(256, activation='relu')(x)\n",
    "    x = tf.keras.layers.Dropout(0.5)(x)\n",
    "    x_out = tf.keras.layers.Dense(nb_classes, activation='softmax')(x)\n",
    "\n",
    "    cnn = tf.keras.models.Model(inputs=x_in, outputs=x_out)\n",
    "    cnn.compile(loss='categorical_crossentropy', optimizer='adam', metrics=['accuracy'])\n",
    "\n",
    "    return cnn\n",
    "\n",
    "def model_wines(binary_target=True):\n",
    "    \n",
    "    x_in = tf.keras.layers.Input(shape=(11, ))\n",
    "    x = tf.keras.layers.Dense(100, activation='relu')(x_in)\n",
    "    #x = tf.keras.layers.Dense(50, activation='relu')(x_in)\n",
    "    if binary_target:\n",
    "        out = tf.keras.layers.Dense(2, activation='softmax')(x)\n",
    "    else:\n",
    "        out = tf.keras.layers.Dense(7, activation='softmax')(x)\n",
    "    clf = tf.keras.models.Model(x_in, out)\n",
    "    clf.compile(loss='categorical_crossentropy', optimizer='Adam', metrics=['accuracy'])\n",
    "    \n",
    "    clf.summary()\n",
    "    return clf"
   ]
  },
  {
   "cell_type": "code",
   "execution_count": 14,
   "metadata": {},
   "outputs": [],
   "source": [
    "def evaluate(clf, X, y):\n",
    "    y_preds = clf.predict(X)\n",
    "    y_preds = np.argmax(y_preds, axis=1)\n",
    "    y = np.argmax(y, axis=1)\n",
    "    print('Accuracy:', accuracy_score(y_preds, y))\n",
    "    print('Confusion matrix:', confusion_matrix(y_preds, y))"
   ]
  },
  {
   "cell_type": "code",
   "execution_count": 48,
   "metadata": {},
   "outputs": [],
   "source": [
    "def make_data_stream(signal, agg='mean', window = 100, start=0):\n",
    "    if agg == 'window':\n",
    "        data_stream = []\n",
    "        for i in range(len(signal)):\n",
    "            data_stream.append(signal[i:i + window].mean())\n",
    "        data_stream = np.asarray(data_stream)\n",
    "        df = pd.Series(data_stream, name='stream').to_frame().reset_index()\n",
    "\n",
    "    elif agg == 'mean':\n",
    "        data_stream = np.zeros(len(signal) - start)\n",
    "        mu = Mean()\n",
    "        var = Var()\n",
    "        for i in range(len(data_stream)):\n",
    "            mu.update(signal[i + start])\n",
    "            data_stream[i] = mu.get()\n",
    "        df = pd.DataFrame()\n",
    "        df['stream_raw'] = signal\n",
    "        df['stream'] = data_stream\n",
    "        df.reset_index(inplace=True)\n",
    "\n",
    "    elif agg == 'raw':\n",
    "        data_stream = signal\n",
    "        df = pd.Series(data_stream, name='stream').to_frame().reset_index()\n",
    "    return df"
   ]
  },
  {
   "cell_type": "markdown",
   "metadata": {},
   "source": [
    "# Mnist"
   ]
  },
  {
   "cell_type": "markdown",
   "metadata": {},
   "source": [
    "### Prepare data"
   ]
  },
  {
   "cell_type": "code",
   "execution_count": 30,
   "metadata": {},
   "outputs": [
    {
     "name": "stdout",
     "output_type": "stream",
     "text": [
      "x_train shape: (60000, 28, 28) y_train shape: (60000,)\n",
      "x_train shape: (60000, 28, 28, 1) x_test shape: (10000, 28, 28, 1)\n",
      "(60000, 28, 28, 1) (60000, 10)\n",
      "(10000, 28, 28, 1) (10000, 10)\n",
      "(10000, 28, 28, 1) (10000, 10)\n"
     ]
    }
   ],
   "source": [
    "_, _, X_train, y_train, X_test, y_test, X_cd, y_cd = prepare_data_mnist(permute=True, perm_features=50)"
   ]
  },
  {
   "cell_type": "markdown",
   "metadata": {},
   "source": [
    "### Train model"
   ]
  },
  {
   "cell_type": "code",
   "execution_count": 31,
   "metadata": {},
   "outputs": [],
   "source": [
    "clf = model_mnist()"
   ]
  },
  {
   "cell_type": "code",
   "execution_count": 32,
   "metadata": {
    "scrolled": true
   },
   "outputs": [
    {
     "name": "stdout",
     "output_type": "stream",
     "text": [
      "Train on 60000 samples, validate on 10000 samples\n",
      "Epoch 1/2\n",
      "60000/60000 [==============================] - 46s 766us/sample - loss: 0.2768 - acc: 0.9125 - val_loss: 0.0657 - val_acc: 0.9803\n",
      "Epoch 2/2\n",
      "60000/60000 [==============================] - 50s 839us/sample - loss: 0.1161 - acc: 0.9635 - val_loss: 0.0498 - val_acc: 0.9836\n"
     ]
    }
   ],
   "source": [
    "train = True\n",
    "if train:\n",
    "    clf.fit(X_train, y_train, epochs=2, validation_data=(X_test, y_test))\n",
    "else:\n",
    "    clf = tf.keras.models.load_model('cnn.h5')"
   ]
  },
  {
   "cell_type": "markdown",
   "metadata": {},
   "source": [
    "### Evaluate model"
   ]
  },
  {
   "cell_type": "code",
   "execution_count": 36,
   "metadata": {},
   "outputs": [
    {
     "name": "stdout",
     "output_type": "stream",
     "text": [
      "Train white\n",
      "Accuracy: 0.98585\n",
      "Confusion matrix: [[5885    1    0    1    2    3    6    2    8   10]\n",
      " [   1 6669    8    0    7    1    3    8    9    5]\n",
      " [  14   30 5895   18    8    5    2   29   19    7]\n",
      " [   3    8   22 6069    0   47    1    5   26   23]\n",
      " [   1    4    4    0 5734    1    3   11   14    8]\n",
      " [   3    0    0    7    0 5312   21    1   13    7]\n",
      " [   7    3    0    0    7   18 5866    0   10    1]\n",
      " [   0   18   19   16    3    0    0 6174    9   31]\n",
      " [   4    8    8    8    4   16   16    5 5699    9]\n",
      " [   5    1    2   12   77   18    0   30   44 5848]]\n"
     ]
    }
   ],
   "source": [
    "print('Train white')\n",
    "evaluate(clf, X_train, y_train)"
   ]
  },
  {
   "cell_type": "code",
   "execution_count": 37,
   "metadata": {},
   "outputs": [
    {
     "name": "stdout",
     "output_type": "stream",
     "text": [
      "Test white\n",
      "Accuracy: 0.9836\n",
      "Confusion matrix: [[ 973    0    0    0    0    1    5    1    5    3]\n",
      " [   0 1127    0    0    0    0    2    1    0    4]\n",
      " [   4    4 1019    1    1    1    0   11    4    1]\n",
      " [   0    2    4 1001    0    8    0    1    4    5]\n",
      " [   0    0    0    0  962    0    2    0    3    3]\n",
      " [   0    1    0    4    0  874    4    0    2    3]\n",
      " [   1    0    0    0    1    2  941    0    0    0]\n",
      " [   1    0    5    3    0    1    0 1005    2    2]\n",
      " [   1    1    4    1    2    2    4    1  948    2]\n",
      " [   0    0    0    0   16    3    0    8    6  986]]\n"
     ]
    }
   ],
   "source": [
    "print('Test white')\n",
    "evaluate(clf, X_test, y_test)"
   ]
  },
  {
   "cell_type": "code",
   "execution_count": 38,
   "metadata": {},
   "outputs": [
    {
     "name": "stdout",
     "output_type": "stream",
     "text": [
      "cd\n",
      "Accuracy: 0.9694\n",
      "Confusion matrix: [[ 962    0    0    0    0    0    4    1    3    2]\n",
      " [   0 1120    1    0    0    0    5    3    0    3]\n",
      " [   7    3 1019    2    3    1    0   11    8    0]\n",
      " [   4    5    7 1005    2   31   17    3   35   11]\n",
      " [   0    0    0    0  957    0    4    1    1    2]\n",
      " [   4    1    0    1    0  854   28    1    8    3]\n",
      " [   2    1    0    0    0    1  896    0    0    0]\n",
      " [   0    0    4    2    0    1    0  998    6    7]\n",
      " [   1    3    1    0    2    1    4    1  904    2]\n",
      " [   0    2    0    0   18    3    0    9    9  979]]\n"
     ]
    }
   ],
   "source": [
    "print('cd')\n",
    "evaluate(clf, X_cd, y_cd)"
   ]
  },
  {
   "cell_type": "markdown",
   "metadata": {},
   "source": [
    "### Train symmetry finder"
   ]
  },
  {
   "cell_type": "code",
   "execution_count": 39,
   "metadata": {},
   "outputs": [
    {
     "name": "stdout",
     "output_type": "stream",
     "text": [
      "WARNING:tensorflow:Output \"input_trans\" missing from loss dictionary. We assume this was done on purpose. The fit and evaluate APIs will not be expecting any data to be passed to \"input_trans\".\n",
      "WARNING:tensorflow:Output \"model_2\" missing from loss dictionary. We assume this was done on purpose. The fit and evaluate APIs will not be expecting any data to be passed to \"model_2\".\n",
      "WARNING:tensorflow:Output \"model_2\" missing from loss dictionary. We assume this was done on purpose. The fit and evaluate APIs will not be expecting any data to be passed to \"model_2\".\n",
      "Vae\n",
      "__________________________________________________________________________________________________\n",
      "Layer (type)                    Output Shape         Param #     Connected to                     \n",
      "==================================================================================================\n",
      "encoder_input (InputLayer)      (None, 28, 28, 1)    0                                            \n",
      "__________________________________________________________________________________________________\n",
      "reshape (Reshape)               (None, 784)          0           encoder_input[0][0]              \n",
      "__________________________________________________________________________________________________\n",
      "dense_6 (Dense)                 (None, 256)          200960      reshape[0][0]                    \n",
      "__________________________________________________________________________________________________\n",
      "z_mean (Dense)                  (None, 8)            2056        dense_6[0][0]                    \n",
      "__________________________________________________________________________________________________\n",
      "z_log_var (Dense)               (None, 8)            2056        dense_6[0][0]                    \n",
      "__________________________________________________________________________________________________\n",
      "z (Lambda)                      (None, 8)            0           z_mean[0][0]                     \n",
      "                                                                 z_log_var[0][0]                  \n",
      "__________________________________________________________________________________________________\n",
      "dense_7 (Dense)                 (None, 256)          2304        z[0][0]                          \n",
      "__________________________________________________________________________________________________\n",
      "dense_8 (Dense)                 (None, 784)          201488      dense_7[0][0]                    \n",
      "__________________________________________________________________________________________________\n",
      "input_trans (Reshape)           (None, 28, 28, 1)    0           dense_8[0][0]                    \n",
      "__________________________________________________________________________________________________\n",
      "model_2 (Model)                 (None, 10)           412778      input_trans[0][0]                \n",
      "                                                                 encoder_input[0][0]              \n",
      "==================================================================================================\n",
      "Total params: 821,642\n",
      "Trainable params: 408,864\n",
      "Non-trainable params: 412,778\n",
      "__________________________________________________________________________________________________\n"
     ]
    }
   ],
   "source": [
    "vae = vsf.VaeSymmetryFinder(clf, input_shape=(28, 28, 1), output_shape=(10, ), intermediate_dim=256, latent_dim=8)"
   ]
  },
  {
   "cell_type": "code",
   "execution_count": 82,
   "metadata": {},
   "outputs": [
    {
     "name": "stdout",
     "output_type": "stream",
     "text": [
      "Train on 60000 samples, validate on 10000 samples\n",
      "Epoch 1/30\n",
      "60000/60000 [==============================] - 40s 674us/sample - loss: 0.1181 - val_loss: 0.0489\n",
      "Epoch 2/30\n",
      "60000/60000 [==============================] - 47s 781us/sample - loss: 0.1167 - val_loss: 0.0589\n",
      "Epoch 3/30\n",
      "60000/60000 [==============================] - 43s 718us/sample - loss: 0.1173 - val_loss: 0.0529\n",
      "Epoch 4/30\n",
      "60000/60000 [==============================] - 44s 735us/sample - loss: 0.1129 - val_loss: 0.0505\n",
      "Epoch 5/30\n",
      "60000/60000 [==============================] - 46s 769us/sample - loss: 0.1136 - val_loss: 0.0505\n",
      "Epoch 6/30\n",
      "60000/60000 [==============================] - 46s 768us/sample - loss: 0.1094 - val_loss: 0.0482\n",
      "Epoch 7/30\n",
      "60000/60000 [==============================] - 49s 817us/sample - loss: 0.1101 - val_loss: 0.0540\n",
      "Epoch 8/30\n",
      " 9728/60000 [===>..........................] - ETA: 38s - loss: 0.1104"
     ]
    },
    {
     "ename": "KeyboardInterrupt",
     "evalue": "",
     "output_type": "error",
     "traceback": [
      "\u001b[0;31m---------------------------------------------------------------------------\u001b[0m",
      "\u001b[0;31mKeyboardInterrupt\u001b[0m                         Traceback (most recent call last)",
      "\u001b[0;32m<ipython-input-82-2cd5c24d261c>\u001b[0m in \u001b[0;36m<module>\u001b[0;34m\u001b[0m\n\u001b[0;32m----> 1\u001b[0;31m \u001b[0mvae\u001b[0m\u001b[0;34m.\u001b[0m\u001b[0mfit\u001b[0m\u001b[0;34m(\u001b[0m\u001b[0mX_train\u001b[0m\u001b[0;34m,\u001b[0m \u001b[0mx_test\u001b[0m\u001b[0;34m=\u001b[0m\u001b[0mX_test\u001b[0m\u001b[0;34m,\u001b[0m \u001b[0mepochs\u001b[0m\u001b[0;34m=\u001b[0m\u001b[0;36m30\u001b[0m\u001b[0;34m)\u001b[0m\u001b[0;34m\u001b[0m\u001b[0;34m\u001b[0m\u001b[0m\n\u001b[0m",
      "\u001b[0;32m~/git/fork-odcd/odcd/cd/model_symmetries.py\u001b[0m in \u001b[0;36mfit\u001b[0;34m(self, X_train, x_test, epochs, batch_size)\u001b[0m\n\u001b[1;32m    101\u001b[0m                          \u001b[0mepochs\u001b[0m\u001b[0;34m=\u001b[0m\u001b[0mepochs\u001b[0m\u001b[0;34m,\u001b[0m\u001b[0;34m\u001b[0m\u001b[0;34m\u001b[0m\u001b[0m\n\u001b[1;32m    102\u001b[0m                          \u001b[0mbatch_size\u001b[0m\u001b[0;34m=\u001b[0m\u001b[0mbatch_size\u001b[0m\u001b[0;34m,\u001b[0m\u001b[0;34m\u001b[0m\u001b[0;34m\u001b[0m\u001b[0m\n\u001b[0;32m--> 103\u001b[0;31m                          validation_data=(x_test, None))\n\u001b[0m\u001b[1;32m    104\u001b[0m         \u001b[0;32melse\u001b[0m\u001b[0;34m:\u001b[0m\u001b[0;34m\u001b[0m\u001b[0;34m\u001b[0m\u001b[0m\n\u001b[1;32m    105\u001b[0m             self.vae.fit(X_train,\n",
      "\u001b[0;32m~/anaconda3/lib/python3.7/site-packages/tensorflow/python/keras/engine/training.py\u001b[0m in \u001b[0;36mfit\u001b[0;34m(self, x, y, batch_size, epochs, verbose, callbacks, validation_split, validation_data, shuffle, class_weight, sample_weight, initial_epoch, steps_per_epoch, validation_steps, max_queue_size, workers, use_multiprocessing, **kwargs)\u001b[0m\n\u001b[1;32m    878\u001b[0m           \u001b[0minitial_epoch\u001b[0m\u001b[0;34m=\u001b[0m\u001b[0minitial_epoch\u001b[0m\u001b[0;34m,\u001b[0m\u001b[0;34m\u001b[0m\u001b[0;34m\u001b[0m\u001b[0m\n\u001b[1;32m    879\u001b[0m           \u001b[0msteps_per_epoch\u001b[0m\u001b[0;34m=\u001b[0m\u001b[0msteps_per_epoch\u001b[0m\u001b[0;34m,\u001b[0m\u001b[0;34m\u001b[0m\u001b[0;34m\u001b[0m\u001b[0m\n\u001b[0;32m--> 880\u001b[0;31m           validation_steps=validation_steps)\n\u001b[0m\u001b[1;32m    881\u001b[0m \u001b[0;34m\u001b[0m\u001b[0m\n\u001b[1;32m    882\u001b[0m   def evaluate(self,\n",
      "\u001b[0;32m~/anaconda3/lib/python3.7/site-packages/tensorflow/python/keras/engine/training_arrays.py\u001b[0m in \u001b[0;36mmodel_iteration\u001b[0;34m(model, inputs, targets, sample_weights, batch_size, epochs, verbose, callbacks, val_inputs, val_targets, val_sample_weights, shuffle, initial_epoch, steps_per_epoch, validation_steps, mode, validation_in_fit, **kwargs)\u001b[0m\n\u001b[1;32m    327\u001b[0m \u001b[0;34m\u001b[0m\u001b[0m\n\u001b[1;32m    328\u001b[0m         \u001b[0;31m# Get outputs.\u001b[0m\u001b[0;34m\u001b[0m\u001b[0;34m\u001b[0m\u001b[0;34m\u001b[0m\u001b[0m\n\u001b[0;32m--> 329\u001b[0;31m         \u001b[0mbatch_outs\u001b[0m \u001b[0;34m=\u001b[0m \u001b[0mf\u001b[0m\u001b[0;34m(\u001b[0m\u001b[0mins_batch\u001b[0m\u001b[0;34m)\u001b[0m\u001b[0;34m\u001b[0m\u001b[0;34m\u001b[0m\u001b[0m\n\u001b[0m\u001b[1;32m    330\u001b[0m         \u001b[0;32mif\u001b[0m \u001b[0;32mnot\u001b[0m \u001b[0misinstance\u001b[0m\u001b[0;34m(\u001b[0m\u001b[0mbatch_outs\u001b[0m\u001b[0;34m,\u001b[0m \u001b[0mlist\u001b[0m\u001b[0;34m)\u001b[0m\u001b[0;34m:\u001b[0m\u001b[0;34m\u001b[0m\u001b[0;34m\u001b[0m\u001b[0m\n\u001b[1;32m    331\u001b[0m           \u001b[0mbatch_outs\u001b[0m \u001b[0;34m=\u001b[0m \u001b[0;34m[\u001b[0m\u001b[0mbatch_outs\u001b[0m\u001b[0;34m]\u001b[0m\u001b[0;34m\u001b[0m\u001b[0;34m\u001b[0m\u001b[0m\n",
      "\u001b[0;32m~/anaconda3/lib/python3.7/site-packages/tensorflow/python/keras/backend.py\u001b[0m in \u001b[0;36m__call__\u001b[0;34m(self, inputs)\u001b[0m\n\u001b[1;32m   3074\u001b[0m \u001b[0;34m\u001b[0m\u001b[0m\n\u001b[1;32m   3075\u001b[0m     fetched = self._callable_fn(*array_vals,\n\u001b[0;32m-> 3076\u001b[0;31m                                 run_metadata=self.run_metadata)\n\u001b[0m\u001b[1;32m   3077\u001b[0m     \u001b[0mself\u001b[0m\u001b[0;34m.\u001b[0m\u001b[0m_call_fetch_callbacks\u001b[0m\u001b[0;34m(\u001b[0m\u001b[0mfetched\u001b[0m\u001b[0;34m[\u001b[0m\u001b[0;34m-\u001b[0m\u001b[0mlen\u001b[0m\u001b[0;34m(\u001b[0m\u001b[0mself\u001b[0m\u001b[0;34m.\u001b[0m\u001b[0m_fetches\u001b[0m\u001b[0;34m)\u001b[0m\u001b[0;34m:\u001b[0m\u001b[0;34m]\u001b[0m\u001b[0;34m)\u001b[0m\u001b[0;34m\u001b[0m\u001b[0;34m\u001b[0m\u001b[0m\n\u001b[1;32m   3078\u001b[0m     return nest.pack_sequence_as(self._outputs_structure,\n",
      "\u001b[0;32m~/anaconda3/lib/python3.7/site-packages/tensorflow/python/client/session.py\u001b[0m in \u001b[0;36m__call__\u001b[0;34m(self, *args, **kwargs)\u001b[0m\n\u001b[1;32m   1437\u001b[0m           ret = tf_session.TF_SessionRunCallable(\n\u001b[1;32m   1438\u001b[0m               \u001b[0mself\u001b[0m\u001b[0;34m.\u001b[0m\u001b[0m_session\u001b[0m\u001b[0;34m.\u001b[0m\u001b[0m_session\u001b[0m\u001b[0;34m,\u001b[0m \u001b[0mself\u001b[0m\u001b[0;34m.\u001b[0m\u001b[0m_handle\u001b[0m\u001b[0;34m,\u001b[0m \u001b[0margs\u001b[0m\u001b[0;34m,\u001b[0m \u001b[0mstatus\u001b[0m\u001b[0;34m,\u001b[0m\u001b[0;34m\u001b[0m\u001b[0;34m\u001b[0m\u001b[0m\n\u001b[0;32m-> 1439\u001b[0;31m               run_metadata_ptr)\n\u001b[0m\u001b[1;32m   1440\u001b[0m         \u001b[0;32mif\u001b[0m \u001b[0mrun_metadata\u001b[0m\u001b[0;34m:\u001b[0m\u001b[0;34m\u001b[0m\u001b[0;34m\u001b[0m\u001b[0m\n\u001b[1;32m   1441\u001b[0m           \u001b[0mproto_data\u001b[0m \u001b[0;34m=\u001b[0m \u001b[0mtf_session\u001b[0m\u001b[0;34m.\u001b[0m\u001b[0mTF_GetBuffer\u001b[0m\u001b[0;34m(\u001b[0m\u001b[0mrun_metadata_ptr\u001b[0m\u001b[0;34m)\u001b[0m\u001b[0;34m\u001b[0m\u001b[0;34m\u001b[0m\u001b[0m\n",
      "\u001b[0;31mKeyboardInterrupt\u001b[0m: "
     ]
    }
   ],
   "source": [
    "vae.fit(X_train, x_test=X_test, epochs=30)"
   ]
  },
  {
   "cell_type": "markdown",
   "metadata": {},
   "source": [
    "### Prepare stream signals"
   ]
  },
  {
   "cell_type": "code",
   "execution_count": 64,
   "metadata": {},
   "outputs": [
    {
     "name": "stdout",
     "output_type": "stream",
     "text": [
      "x_train shape: (60000, 28, 28) y_train shape: (60000,)\n",
      "x_train shape: (60000, 28, 28, 1) x_test shape: (10000, 28, 28, 1)\n",
      "(60000, 28, 28, 1) (60000, 10)\n",
      "(10000, 28, 28, 1) (10000, 10)\n",
      "(10000, 28, 28, 1) (10000, 10)\n"
     ]
    }
   ],
   "source": [
    "_, _, _, _, _, _, X_cd, y_cd = prepare_data_mnist(permute=True, perm_features=70)"
   ]
  },
  {
   "cell_type": "code",
   "execution_count": 65,
   "metadata": {},
   "outputs": [
    {
     "name": "stdout",
     "output_type": "stream",
     "text": [
      "Sample instance from the MNIST data set.\n"
     ]
    },
    {
     "data": {
      "image/png": "[encoded data removed]",
      "text/plain": [
       "<Figure size 432x288 with 1 Axes>"
      ]
     },
     "metadata": {
      "needs_background": "light"
     },
     "output_type": "display_data"
    }
   ],
   "source": [
    "idx = 34\n",
    "x = X_test[idx: idx + 1]\n",
    "plt.imshow(np.squeeze(x), 'gray')\n",
    "print('Sample instance from the MNIST data set.')"
   ]
  },
  {
   "cell_type": "code",
   "execution_count": 66,
   "metadata": {},
   "outputs": [
    {
     "name": "stdout",
     "output_type": "stream",
     "text": [
      "Sample instance from the MNIST data set.\n"
     ]
    },
    {
     "data": {
      "image/png": "[encoded data removed]",
      "text/plain": [
       "<Figure size 432x288 with 1 Axes>"
      ]
     },
     "metadata": {
      "needs_background": "light"
     },
     "output_type": "display_data"
    }
   ],
   "source": [
    "x = X_cd[idx: idx + 1]\n",
    "plt.imshow(np.squeeze(x), 'gray')\n",
    "print('Sample instance from the MNIST data set.')"
   ]
  },
  {
   "cell_type": "code",
   "execution_count": 67,
   "metadata": {},
   "outputs": [
    {
     "name": "stdout",
     "output_type": "stream",
     "text": [
      "test\n",
      "Accuracy: 0.9836\n",
      "Confusion matrix: [[ 973    0    0    0    0    1    5    1    5    3]\n",
      " [   0 1127    0    0    0    0    2    1    0    4]\n",
      " [   4    4 1019    1    1    1    0   11    4    1]\n",
      " [   0    2    4 1001    0    8    0    1    4    5]\n",
      " [   0    0    0    0  962    0    2    0    3    3]\n",
      " [   0    1    0    4    0  874    4    0    2    3]\n",
      " [   1    0    0    0    1    2  941    0    0    0]\n",
      " [   1    0    5    3    0    1    0 1005    2    2]\n",
      " [   1    1    4    1    2    2    4    1  948    2]\n",
      " [   0    0    0    0   16    3    0    8    6  986]]\n"
     ]
    }
   ],
   "source": [
    "print('test')\n",
    "evaluate(clf, X_test, y_test)"
   ]
  },
  {
   "cell_type": "code",
   "execution_count": 68,
   "metadata": {},
   "outputs": [
    {
     "name": "stdout",
     "output_type": "stream",
     "text": [
      "cd\n",
      "Accuracy: 0.9651\n",
      "Confusion matrix: [[ 955    0    2    0    0    0    4    1    1    2]\n",
      " [   0 1098    2    0    0    0    3    2    0    3]\n",
      " [  11    5 1008    2    4    0    1   10    8    1]\n",
      " [   3   14   13 1002    1   21   11   10   29   14]\n",
      " [   0    1    0    0  962    0    4    2    2    9]\n",
      " [   6    1    0    2    0  868   38    1   15    7]\n",
      " [   3    3    0    0    1    0  892    0    0    0]\n",
      " [   0    1    4    2    0    0    0  990    2    5]\n",
      " [   2   11    3    2    2    0    4    1  913    5]\n",
      " [   0    1    0    0   12    3    1   11    4  963]]\n"
     ]
    }
   ],
   "source": [
    "print('cd')\n",
    "evaluate(clf, X_cd, y_cd)"
   ]
  },
  {
   "cell_type": "code",
   "execution_count": 69,
   "metadata": {},
   "outputs": [
    {
     "data": {
      "text/plain": [
       "(20000,)"
      ]
     },
     "execution_count": 69,
     "metadata": {},
     "output_type": "execute_result"
    }
   ],
   "source": [
    "# Symmetry signal\n",
    "symm_samples_train, orig_preds_train, trans_preds_train = vae.vae.predict(X_train)\n",
    "symm_samples_test, orig_preds_test, trans_preds_test = vae.vae.predict(X_test)\n",
    "symm_samples_cd, orig_preds_cd, trans_preds_cd = vae.vae.predict(X_cd)\n",
    "\n",
    "amp = 1\n",
    "kl_train = amp * entropy(orig_preds_train.T, trans_preds_train.T)\n",
    "kl_test = amp * entropy(orig_preds_test.T, trans_preds_test.T)\n",
    "kl_cd = amp * entropy(orig_preds_cd.T, trans_preds_cd.T)\n",
    "\n",
    "baseline_std_plus = kl_train.mean() + kl_train.std()\n",
    "baseline_std_minus = kl_train.mean() - kl_train.std()\n",
    "\n",
    "kl_concat = np.concatenate((np.random.permutation(kl_test), np.random.permutation(kl_cd)))\n",
    "#kl_concat = kl_test\n",
    "kl_concat.shape"
   ]
  },
  {
   "cell_type": "code",
   "execution_count": 539,
   "metadata": {},
   "outputs": [],
   "source": [
    "#fit_NNS = False\n",
    "#if fit_NNS:\n",
    "#    neigh = NearestNeighbors(1)\n",
    "#    neigh.fit(X_train_flat)"
   ]
  },
  {
   "cell_type": "code",
   "execution_count": 70,
   "metadata": {},
   "outputs": [],
   "source": [
    "# Distance signal\n",
    "#X_train_flat = X_train.reshape(X_train.shape[0], -1)\n",
    "#X_test_flat = X_test.reshape(X_test.shape[0], -1)\n",
    "#X_cd_flat = X_cd.reshape(X_cd.shape[0], -1)\n",
    "    \n",
    "#d_train = neigh.kneighbors(X_train_flat, return_distance=True)[0].flatten()\n",
    "#d_test = neigh.kneighbors(X_test_flat, return_distance=True)[0].flatten()\n",
    "#d_cd = neigh.kneighbors(X_cd_flat, return_distance=True)[0].flatten()\n",
    "\n",
    "#baseline_std_plus = d_train.mean() + d_train.std()\n",
    "#baseline_std_minus = d_train.mean() - d_train.std()\n",
    "\n",
    "#d_concat = np.concatenate((np.random.permutation(d_test), np.random.permutation(d_cd)))\n",
    "#d_concat.shape"
   ]
  },
  {
   "cell_type": "markdown",
   "metadata": {},
   "source": [
    "### Analyse signals"
   ]
  },
  {
   "cell_type": "code",
   "execution_count": 71,
   "metadata": {},
   "outputs": [],
   "source": [
    "#agg = 'mean', 'window' or 'raw'\n",
    "\n",
    "# distance metric signal\n",
    "#df = make_data_stream(d_concat, agg='mean')\n",
    "# kl signal\n",
    "df = make_data_stream(kl_concat, agg='mean', start=0)"
   ]
  },
  {
   "cell_type": "code",
   "execution_count": 72,
   "metadata": {},
   "outputs": [
    {
     "data": {
      "text/plain": [
       "<matplotlib.lines.Line2D at 0x7fa4ae77a590>"
      ]
     },
     "execution_count": 72,
     "metadata": {},
     "output_type": "execute_result"
    },
    {
     "data": {
      "image/png": "[encoded data removed]",
      "text/plain": [
       "<Figure size 1080x576 with 1 Axes>"
      ]
     },
     "metadata": {
      "needs_background": "light"
     },
     "output_type": "display_data"
    }
   ],
   "source": [
    "ax = df.plot(x='index', y='stream', figsize=(15,8))\n",
    "ax.axhline(baseline_std_plus, c='g')\n",
    "ax.axhline(baseline_std_minus, c='g')"
   ]
  },
  {
   "cell_type": "code",
   "execution_count": 76,
   "metadata": {},
   "outputs": [
    {
     "name": "stdout",
     "output_type": "stream",
     "text": [
      "\u001b[32mChange detected in data: 0.07283973154739956 - at index: 13919\n",
      "\u001b[32mChange detected in data: 0.08386619004328937 - at index: 18271\n"
     ]
    }
   ],
   "source": [
    "adwin = ADWIN(delta=0.0000002)\n",
    "data_stream = df['stream']\n",
    "for i in range(len(data_stream)):\n",
    "    adwin.add_element(data_stream[i])\n",
    "    if adwin.detected_change():\n",
    "        if i < 10000:\n",
    "            print(Fore.RED + 'Change detected in data: ' + str(data_stream[i]) + ' - at index: ' + str(i))\n",
    "        else:\n",
    "            print(Fore.GREEN + 'Change detected in data: ' + str(data_stream[i]) + ' - at index: ' + str(i))"
   ]
  },
  {
   "cell_type": "code",
   "execution_count": null,
   "metadata": {},
   "outputs": [],
   "source": []
  },
  {
   "cell_type": "code",
   "execution_count": 77,
   "metadata": {},
   "outputs": [
    {
     "name": "stdout",
     "output_type": "stream",
     "text": [
      "Sample 0 of 6000\n",
      "Sample 1000 of 6000\n",
      "Sample 2000 of 6000\n",
      "Sample 3000 of 6000\n",
      "Sample 4000 of 6000\n",
      "Sample 5000 of 6000\n"
     ]
    }
   ],
   "source": [
    "cd_start = 2000\n",
    "cd_full = int(2 * cd_start)\n",
    "nb_samples_tot = 6000\n",
    "start = 0\n",
    "df = sst.rolling_stats(vae, X_test, y_test, X_cd, y_cd, cd_start, cd_full, nb_samples_tot, start)"
   ]
  },
  {
   "cell_type": "code",
   "execution_count": 78,
   "metadata": {},
   "outputs": [
    {
     "data": {
      "image/png": "[encoded data removed]",
      "text/plain": [
       "<Figure size 1080x576 with 4 Axes>"
      ]
     },
     "metadata": {
      "needs_background": "light"
     },
     "output_type": "display_data"
    }
   ],
   "source": [
    "axs = df[['contamination', 'accuracy','entropy_mean', 'entropy_var']].plot(logy = False, subplots=True, figsize = (15, 8))\n",
    "for ax in axs:\n",
    "    ax.axvline(cd_start, c='r', linestyle='dashed')\n",
    "    ax.axvline(cd_full, c='r', linestyle='dashed')"
   ]
  },
  {
   "cell_type": "code",
   "execution_count": 79,
   "metadata": {},
   "outputs": [
    {
     "data": {
      "text/plain": [
       "<matplotlib.lines.Line2D at 0x7fa4a31f5cd0>"
      ]
     },
     "execution_count": 79,
     "metadata": {},
     "output_type": "execute_result"
    },
    {
     "data": {
      "image/png": "[encoded data removed]",
      "text/plain": [
       "<Figure size 1080x576 with 2 Axes>"
      ]
     },
     "metadata": {
      "needs_background": "light"
     },
     "output_type": "display_data"
    }
   ],
   "source": [
    "axs = df[['contamination', 'entropy_mean']].plot(logy = False, subplots=True, figsize = (15, 8))\n",
    "for ax in axs:\n",
    "    ax.axvline(cd_start, c='r', linestyle='dashed')\n",
    "    ax.axvline(cd_full, c='r', linestyle='dashed')\n",
    "axs[1].axhline(baseline_std_plus, c='g')\n",
    "axs[1].axhline(baseline_std_minus, c='g')"
   ]
  },
  {
   "cell_type": "code",
   "execution_count": 80,
   "metadata": {},
   "outputs": [
    {
     "data": {
      "text/html": [
       "<div>\n",
       "<style scoped>\n",
       "    .dataframe tbody tr th:only-of-type {\n",
       "        vertical-align: middle;\n",
       "    }\n",
       "\n",
       "    .dataframe tbody tr th {\n",
       "        vertical-align: top;\n",
       "    }\n",
       "\n",
       "    .dataframe thead th {\n",
       "        text-align: right;\n",
       "    }\n",
       "</style>\n",
       "<table border=\"1\" class=\"dataframe\">\n",
       "  <thead>\n",
       "    <tr style=\"text-align: right;\">\n",
       "      <th></th>\n",
       "      <th>rw</th>\n",
       "      <th>entropy</th>\n",
       "      <th>pred_prob</th>\n",
       "      <th>accuracy</th>\n",
       "      <th>contamination</th>\n",
       "      <th>entropy_mean</th>\n",
       "      <th>entropy_var</th>\n",
       "    </tr>\n",
       "  </thead>\n",
       "  <tbody>\n",
       "    <tr>\n",
       "      <td>0</td>\n",
       "      <td>1</td>\n",
       "      <td>0.100214</td>\n",
       "      <td>[0.997393]</td>\n",
       "      <td>1.000000</td>\n",
       "      <td>0.0</td>\n",
       "      <td>0.100214</td>\n",
       "      <td>0.000000</td>\n",
       "    </tr>\n",
       "    <tr>\n",
       "      <td>1</td>\n",
       "      <td>1</td>\n",
       "      <td>0.006801</td>\n",
       "      <td>[0.9120953]</td>\n",
       "      <td>1.000000</td>\n",
       "      <td>0.0</td>\n",
       "      <td>0.053508</td>\n",
       "      <td>0.004363</td>\n",
       "    </tr>\n",
       "    <tr>\n",
       "      <td>2</td>\n",
       "      <td>1</td>\n",
       "      <td>0.001557</td>\n",
       "      <td>[0.99513656]</td>\n",
       "      <td>1.000000</td>\n",
       "      <td>0.0</td>\n",
       "      <td>0.036191</td>\n",
       "      <td>0.003081</td>\n",
       "    </tr>\n",
       "    <tr>\n",
       "      <td>3</td>\n",
       "      <td>1</td>\n",
       "      <td>0.051780</td>\n",
       "      <td>[0.9823753]</td>\n",
       "      <td>1.000000</td>\n",
       "      <td>0.0</td>\n",
       "      <td>0.040088</td>\n",
       "      <td>0.002115</td>\n",
       "    </tr>\n",
       "    <tr>\n",
       "      <td>4</td>\n",
       "      <td>1</td>\n",
       "      <td>0.026799</td>\n",
       "      <td>[0.9818064]</td>\n",
       "      <td>1.000000</td>\n",
       "      <td>0.0</td>\n",
       "      <td>0.037430</td>\n",
       "      <td>0.001621</td>\n",
       "    </tr>\n",
       "    <tr>\n",
       "      <td>...</td>\n",
       "      <td>...</td>\n",
       "      <td>...</td>\n",
       "      <td>...</td>\n",
       "      <td>...</td>\n",
       "      <td>...</td>\n",
       "      <td>...</td>\n",
       "      <td>...</td>\n",
       "    </tr>\n",
       "    <tr>\n",
       "      <td>5995</td>\n",
       "      <td>1</td>\n",
       "      <td>0.056284</td>\n",
       "      <td>[0.9015184]</td>\n",
       "      <td>0.966644</td>\n",
       "      <td>1.0</td>\n",
       "      <td>0.117924</td>\n",
       "      <td>0.094963</td>\n",
       "    </tr>\n",
       "    <tr>\n",
       "      <td>5996</td>\n",
       "      <td>1</td>\n",
       "      <td>0.014032</td>\n",
       "      <td>[0.9948521]</td>\n",
       "      <td>0.966650</td>\n",
       "      <td>1.0</td>\n",
       "      <td>0.117907</td>\n",
       "      <td>0.094949</td>\n",
       "    </tr>\n",
       "    <tr>\n",
       "      <td>5997</td>\n",
       "      <td>1</td>\n",
       "      <td>0.000558</td>\n",
       "      <td>[0.99877936]</td>\n",
       "      <td>0.966656</td>\n",
       "      <td>1.0</td>\n",
       "      <td>0.117887</td>\n",
       "      <td>0.094935</td>\n",
       "    </tr>\n",
       "    <tr>\n",
       "      <td>5998</td>\n",
       "      <td>1</td>\n",
       "      <td>0.001706</td>\n",
       "      <td>[0.99963474]</td>\n",
       "      <td>0.966661</td>\n",
       "      <td>1.0</td>\n",
       "      <td>0.117868</td>\n",
       "      <td>0.094922</td>\n",
       "    </tr>\n",
       "    <tr>\n",
       "      <td>5999</td>\n",
       "      <td>1</td>\n",
       "      <td>0.002019</td>\n",
       "      <td>[0.9936394]</td>\n",
       "      <td>0.966667</td>\n",
       "      <td>1.0</td>\n",
       "      <td>0.117849</td>\n",
       "      <td>0.094908</td>\n",
       "    </tr>\n",
       "  </tbody>\n",
       "</table>\n",
       "<p>6000 rows × 7 columns</p>\n",
       "</div>"
      ],
      "text/plain": [
       "      rw   entropy     pred_prob  accuracy  contamination  entropy_mean  \\\n",
       "0      1  0.100214    [0.997393]  1.000000            0.0      0.100214   \n",
       "1      1  0.006801   [0.9120953]  1.000000            0.0      0.053508   \n",
       "2      1  0.001557  [0.99513656]  1.000000            0.0      0.036191   \n",
       "3      1  0.051780   [0.9823753]  1.000000            0.0      0.040088   \n",
       "4      1  0.026799   [0.9818064]  1.000000            0.0      0.037430   \n",
       "...   ..       ...           ...       ...            ...           ...   \n",
       "5995   1  0.056284   [0.9015184]  0.966644            1.0      0.117924   \n",
       "5996   1  0.014032   [0.9948521]  0.966650            1.0      0.117907   \n",
       "5997   1  0.000558  [0.99877936]  0.966656            1.0      0.117887   \n",
       "5998   1  0.001706  [0.99963474]  0.966661            1.0      0.117868   \n",
       "5999   1  0.002019   [0.9936394]  0.966667            1.0      0.117849   \n",
       "\n",
       "      entropy_var  \n",
       "0        0.000000  \n",
       "1        0.004363  \n",
       "2        0.003081  \n",
       "3        0.002115  \n",
       "4        0.001621  \n",
       "...           ...  \n",
       "5995     0.094963  \n",
       "5996     0.094949  \n",
       "5997     0.094935  \n",
       "5998     0.094922  \n",
       "5999     0.094908  \n",
       "\n",
       "[6000 rows x 7 columns]"
      ]
     },
     "execution_count": 80,
     "metadata": {},
     "output_type": "execute_result"
    }
   ],
   "source": [
    "df"
   ]
  },
  {
   "cell_type": "code",
   "execution_count": 81,
   "metadata": {},
   "outputs": [
    {
     "name": "stdout",
     "output_type": "stream",
     "text": [
      "\u001b[32mChange detected in data: 0.11600929567901454 - at index: 4799\n"
     ]
    }
   ],
   "source": [
    "data_stream = df['entropy_mean']\n",
    "adwin = ADWIN(delta=0.02)\n",
    "for i in range(len(data_stream)):\n",
    "    adwin.add_element(data_stream[i])\n",
    "    if adwin.detected_change():\n",
    "        if i < cd_start:\n",
    "            print(Fore.RED + 'Change detected in data: ' + str(data_stream[i]) + ' - at index: ' + str(i))\n",
    "        elif i >= cd_start and i < cd_full:\n",
    "            print(Fore.YELLOW + 'Change detected in data: ' + str(data_stream[i]) + ' - at index: ' + str(i))            \n",
    "        else:\n",
    "            print(Fore.GREEN + 'Change detected in data: ' + str(data_stream[i]) + ' - at index: ' + str(i))"
   ]
  },
  {
   "cell_type": "markdown",
   "metadata": {},
   "source": [
    "# Wines"
   ]
  },
  {
   "cell_type": "markdown",
   "metadata": {},
   "source": [
    "### Prepare data"
   ]
  },
  {
   "cell_type": "code",
   "execution_count": 472,
   "metadata": {},
   "outputs": [
    {
     "name": "stdout",
     "output_type": "stream",
     "text": [
      "x_train shape: (60000, 28, 28) y_train shape: (60000,)\n",
      "x_train shape: (60000, 28, 28, 1) x_test shape: (10000, 28, 28, 1)\n",
      "(60000, 28, 28, 1) (60000, 10)\n",
      "(10000, 28, 28, 1) (10000, 10)\n",
      "(10000, 28, 28, 1) (10000, 10)\n"
     ]
    }
   ],
   "source": [
    "# Wines\n",
    "df_white, df_red, X_train, y_train, X_test, y_test, X_cd, y_cd = prepare_data_wines(permute=True, perm_features=3)"
   ]
  },
  {
   "cell_type": "markdown",
   "metadata": {},
   "source": [
    "### Train model"
   ]
  },
  {
   "cell_type": "code",
   "execution_count": 473,
   "metadata": {},
   "outputs": [],
   "source": [
    "# wines\n",
    "clf = model_wines()"
   ]
  },
  {
   "cell_type": "code",
   "execution_count": 474,
   "metadata": {
    "collapsed": true
   },
   "outputs": [
    {
     "name": "stdout",
     "output_type": "stream",
     "text": [
      "Train on 60000 samples, validate on 10000 samples\n",
      "Epoch 1/2\n",
      "60000/60000 [==============================] - 37s 625us/sample - loss: 0.2680 - acc: 0.9146 - val_loss: 0.0562 - val_acc: 0.9811\n",
      "Epoch 2/2\n",
      "60000/60000 [==============================] - 41s 692us/sample - loss: 0.1065 - acc: 0.9671 - val_loss: 0.0439 - val_acc: 0.9867\n"
     ]
    }
   ],
   "source": [
    "#wines \n",
    "clf.fit(X_train, y_train, epochs=100, validation_data=(X_test, y_test))"
   ]
  },
  {
   "cell_type": "markdown",
   "metadata": {},
   "source": [
    "### Evaluate model"
   ]
  },
  {
   "cell_type": "code",
   "execution_count": 475,
   "metadata": {
    "collapsed": true
   },
   "outputs": [
    {
     "name": "stdout",
     "output_type": "stream",
     "text": [
      "Train white\n",
      "Accuracy: 0.9871333333333333\n",
      "Confusion matrix: [[5887    1    0    1    2    2    8    1    3    9]\n",
      " [   3 6702    6    2   11    1   10   16   22    7]\n",
      " [   4   20 5893   16    5    3    3   24    9    5]\n",
      " [   3    2   21 6060    1   20    1   12   22    6]\n",
      " [   1    1    7    0 5782    2   11    8   13   50]\n",
      " [   5    0    0   19    1 5363   21    4   16   20]\n",
      " [  10    4    0    0    3   16 5846    0    8    1]\n",
      " [   0    9   16   14    4    0    0 6174    2   41]\n",
      " [   5    3   12    9    1   10   18    3 5724   13]\n",
      " [   5    0    3   10   32    4    0   23   32 5797]]\n"
     ]
    }
   ],
   "source": [
    "print('Train white')\n",
    "evaluate(clf, X_train, y_train)"
   ]
  },
  {
   "cell_type": "code",
   "execution_count": 476,
   "metadata": {
    "collapsed": true
   },
   "outputs": [
    {
     "name": "stdout",
     "output_type": "stream",
     "text": [
      "Test white\n",
      "Accuracy: 0.9867\n",
      "Confusion matrix: [[ 976    0    2    0    1    1    7    1    3    2]\n",
      " [   0 1131    1    0    0    0    3    2    0    3]\n",
      " [   1    2 1016    2    2    1    0    8    2    0]\n",
      " [   0    2    4 1002    0    4    1    2    3    3]\n",
      " [   0    0    1    0  974    0    2    0    3    8]\n",
      " [   0    0    0    4    0  884    3    1    3    5]\n",
      " [   1    0    0    0    1    1  938    0    0    0]\n",
      " [   1    0    5    1    0    0    0 1011    1    4]\n",
      " [   1    0    3    1    0    1    4    1  951    0]\n",
      " [   0    0    0    0    4    0    0    2    8  984]]\n"
     ]
    }
   ],
   "source": [
    "print('Test white')\n",
    "evaluate(clf, X_test, y_test)"
   ]
  },
  {
   "cell_type": "code",
   "execution_count": 477,
   "metadata": {},
   "outputs": [
    {
     "name": "stdout",
     "output_type": "stream",
     "text": [
      "False\n"
     ]
    }
   ],
   "source": [
    "print((X_cd == X_test).all())"
   ]
  },
  {
   "cell_type": "code",
   "execution_count": 478,
   "metadata": {
    "collapsed": true
   },
   "outputs": [
    {
     "name": "stdout",
     "output_type": "stream",
     "text": [
      "cd\n",
      "Accuracy: 0.9799\n",
      "Confusion matrix: [[ 973    0    0    0    1    0    5    0    2    2]\n",
      " [   0 1128    1    0    1    0    4    4    0    4]\n",
      " [   2    3 1016    2    2    0    1    9    3    1]\n",
      " [   1    3    9 1002    0   17    3    3   21    6]\n",
      " [   0    0    1    0  970    0    4    0    3    9]\n",
      " [   2    0    0    3    0  874   13    1    8    6]\n",
      " [   1    1    0    0    1    1  926    0    0    0]\n",
      " [   0    0    5    1    0    0    0 1008    2    5]\n",
      " [   1    0    0    1    0    0    2    1  926    0]\n",
      " [   0    0    0    1    7    0    0    2    9  976]]\n"
     ]
    }
   ],
   "source": [
    "print('cd')\n",
    "evaluate(clf, X_cd, y_cd)"
   ]
  },
  {
   "cell_type": "markdown",
   "metadata": {},
   "source": [
    "### Train symmetry finder"
   ]
  },
  {
   "cell_type": "code",
   "execution_count": 479,
   "metadata": {
    "collapsed": true
   },
   "outputs": [
    {
     "name": "stdout",
     "output_type": "stream",
     "text": [
      "WARNING:tensorflow:Output \"input_trans\" missing from loss dictionary. We assume this was done on purpose. The fit and evaluate APIs will not be expecting any data to be passed to \"input_trans\".\n",
      "WARNING:tensorflow:Output \"model_2\" missing from loss dictionary. We assume this was done on purpose. The fit and evaluate APIs will not be expecting any data to be passed to \"model_2\".\n",
      "WARNING:tensorflow:Output \"model_2\" missing from loss dictionary. We assume this was done on purpose. The fit and evaluate APIs will not be expecting any data to be passed to \"model_2\".\n",
      "Vae\n",
      "__________________________________________________________________________________________________\n",
      "Layer (type)                    Output Shape         Param #     Connected to                     \n",
      "==================================================================================================\n",
      "encoder_input (InputLayer)      (None, 28, 28, 1)    0                                            \n",
      "__________________________________________________________________________________________________\n",
      "reshape_2 (Reshape)             (None, 784)          0           encoder_input[0][0]              \n",
      "__________________________________________________________________________________________________\n",
      "dense_12 (Dense)                (None, 256)          200960      reshape_2[0][0]                  \n",
      "__________________________________________________________________________________________________\n",
      "z_mean (Dense)                  (None, 8)            2056        dense_12[0][0]                   \n",
      "__________________________________________________________________________________________________\n",
      "z_log_var (Dense)               (None, 8)            2056        dense_12[0][0]                   \n",
      "__________________________________________________________________________________________________\n",
      "z (Lambda)                      (None, 8)            0           z_mean[0][0]                     \n",
      "                                                                 z_log_var[0][0]                  \n",
      "__________________________________________________________________________________________________\n",
      "dense_13 (Dense)                (None, 256)          2304        z[0][0]                          \n",
      "__________________________________________________________________________________________________\n",
      "dense_14 (Dense)                (None, 784)          201488      dense_13[0][0]                   \n",
      "__________________________________________________________________________________________________\n",
      "input_trans (Reshape)           (None, 28, 28, 1)    0           dense_14[0][0]                   \n",
      "__________________________________________________________________________________________________\n",
      "model_2 (Model)                 (None, 10)           412778      input_trans[0][0]                \n",
      "                                                                 encoder_input[0][0]              \n",
      "==================================================================================================\n",
      "Total params: 821,642\n",
      "Trainable params: 408,864\n",
      "Non-trainable params: 412,778\n",
      "__________________________________________________________________________________________________\n"
     ]
    }
   ],
   "source": [
    "# wines\n",
    "vae = vsf.VaeSymmetryFinder(clf, input_shape=(11, ), output_shape=(2, ), intermediate_dim=256, latent_dim=8)"
   ]
  },
  {
   "cell_type": "code",
   "execution_count": 480,
   "metadata": {
    "collapsed": true
   },
   "outputs": [
    {
     "name": "stdout",
     "output_type": "stream",
     "text": [
      "Train on 60000 samples, validate on 10000 samples\n",
      "Epoch 1/10\n",
      "60000/60000 [==============================] - 42s 699us/sample - loss: 0.4162 - val_loss: 0.1184\n",
      "Epoch 2/10\n",
      "60000/60000 [==============================] - 41s 677us/sample - loss: 0.1769 - val_loss: 0.0947\n",
      "Epoch 3/10\n",
      "60000/60000 [==============================] - 42s 705us/sample - loss: 0.1496 - val_loss: 0.0769\n",
      "Epoch 4/10\n",
      "60000/60000 [==============================] - 42s 707us/sample - loss: 0.1387 - val_loss: 0.0660\n",
      "Epoch 5/10\n",
      "60000/60000 [==============================] - 42s 693us/sample - loss: 0.1310 - val_loss: 0.0599\n",
      "Epoch 6/10\n",
      "60000/60000 [==============================] - 42s 694us/sample - loss: 0.1249 - val_loss: 0.0527\n",
      "Epoch 7/10\n",
      "60000/60000 [==============================] - 45s 752us/sample - loss: 0.1211 - val_loss: 0.0602\n",
      "Epoch 8/10\n",
      "60000/60000 [==============================] - 43s 719us/sample - loss: 0.1172 - val_loss: 0.0566\n",
      "Epoch 9/10\n",
      "60000/60000 [==============================] - 43s 722us/sample - loss: 0.1163 - val_loss: 0.0549\n",
      "Epoch 10/10\n",
      "60000/60000 [==============================] - 44s 731us/sample - loss: 0.1128 - val_loss: 0.0488\n"
     ]
    }
   ],
   "source": [
    "vae.fit(X_train, x_test=X_test, epochs=10)"
   ]
  },
  {
   "cell_type": "markdown",
   "metadata": {},
   "source": [
    "### stream"
   ]
  },
  {
   "cell_type": "code",
   "execution_count": 481,
   "metadata": {
    "collapsed": true
   },
   "outputs": [
    {
     "name": "stdout",
     "output_type": "stream",
     "text": [
      "x_train shape: (60000, 28, 28) y_train shape: (60000,)\n",
      "x_train shape: (60000, 28, 28, 1) x_test shape: (10000, 28, 28, 1)\n",
      "(60000, 28, 28, 1) (60000, 10)\n",
      "(10000, 28, 28, 1) (10000, 10)\n",
      "(10000, 28, 28, 1) (10000, 10)\n"
     ]
    }
   ],
   "source": [
    "df_white, df_red, X_train, y_train, X_test, y_test, X_cd, y_cd = prepare_data_wines(permute=True, perm_features=3)"
   ]
  },
  {
   "cell_type": "code",
   "execution_count": 484,
   "metadata": {
    "collapsed": true
   },
   "outputs": [
    {
     "name": "stdout",
     "output_type": "stream",
     "text": [
      "test\n",
      "Accuracy: 0.9867\n",
      "Confusion matrix: [[ 976    0    2    0    1    1    7    1    3    2]\n",
      " [   0 1131    1    0    0    0    3    2    0    3]\n",
      " [   1    2 1016    2    2    1    0    8    2    0]\n",
      " [   0    2    4 1002    0    4    1    2    3    3]\n",
      " [   0    0    1    0  974    0    2    0    3    8]\n",
      " [   0    0    0    4    0  884    3    1    3    5]\n",
      " [   1    0    0    0    1    1  938    0    0    0]\n",
      " [   1    0    5    1    0    0    0 1011    1    4]\n",
      " [   1    0    3    1    0    1    4    1  951    0]\n",
      " [   0    0    0    0    4    0    0    2    8  984]]\n"
     ]
    }
   ],
   "source": [
    "print('test')\n",
    "evaluate(clf, X_test, y_test)"
   ]
  },
  {
   "cell_type": "code",
   "execution_count": 485,
   "metadata": {
    "collapsed": true
   },
   "outputs": [
    {
     "name": "stdout",
     "output_type": "stream",
     "text": [
      "cd\n",
      "Accuracy: 0.9064\n",
      "Confusion matrix: [[879   0   0   0   0   0   3   0   0   2]\n",
      " [  0 920   1   0   0   0   2   3   0   3]\n",
      " [  9  33 964   1   9   0   5   6   5   5]\n",
      " [ 13  47  60 989   3  10  13  43  46  13]\n",
      " [  0   2   1   0 933   0   4   1   4   4]\n",
      " [ 72  37   1  19  10 881  79   6 136  42]\n",
      " [  3   5   0   0   2   1 850   0   0   0]\n",
      " [  1  48   4   1   1   0   0 946   2   6]\n",
      " [  3  40   1   0   1   0   2   0 768   0]\n",
      " [  0   3   0   0  23   0   0  23  13 934]]\n"
     ]
    }
   ],
   "source": [
    "print('cd')\n",
    "evaluate(clf, X_cd, y_cd)"
   ]
  },
  {
   "cell_type": "code",
   "execution_count": 486,
   "metadata": {},
   "outputs": [
    {
     "data": {
      "text/plain": [
       "(20000,)"
      ]
     },
     "execution_count": 486,
     "metadata": {},
     "output_type": "execute_result"
    }
   ],
   "source": [
    "# Symmetry signal\n",
    "symm_samples_train, orig_preds_train, trans_preds_train = vae.vae.predict(X_train)\n",
    "symm_samples_test, orig_preds_test, trans_preds_test = vae.vae.predict(X_test)\n",
    "symm_samples_cd, orig_preds_cd, trans_preds_cd = vae.vae.predict(X_cd)\n",
    "\n",
    "amp = 1\n",
    "kl_train = amp * entropy(orig_preds_train.T, trans_preds_train.T)\n",
    "kl_test = amp * entropy(orig_preds_test.T, trans_preds_test.T)\n",
    "kl_cd = amp * entropy(orig_preds_cd.T, trans_preds_cd.T)\n",
    "\n",
    "baseline_std_plus = kl_train.mean() + kl_train.std()\n",
    "baseline_std_minus = kl_train.mean() - kl_train.std()\n",
    "\n",
    "kl_concat = np.concatenate((np.random.permutation(kl_test), np.random.permutation(kl_cd)))\n",
    "#kl_concat = kl_test\n",
    "kl_concat.shape"
   ]
  },
  {
   "cell_type": "code",
   "execution_count": null,
   "metadata": {},
   "outputs": [],
   "source": [
    "# Distance signal\n",
    "if len(X_train.shape[1:]) > 1:\n",
    "    X_train = X_train.reshape(X_train.shape[0], -1)\n",
    "    X_test = X_test.reshape(X_test.shape[0], -1)\n",
    "    X_cd = X_cd.reshape(X_cd.shape[0], -1)\n",
    "    \n",
    "neigh = NearestNeighbors(1)\n",
    "neigh.fit(X_train)\n",
    "    \n",
    "d_train = neigh.kneighbors(X_train, return_distance=True)[0].flatten()\n",
    "d_test = neigh.kneighbors(X_test, return_distance=True)[0].flatten()\n",
    "d_cd = neigh.kneighbors(X_cd, return_distance=True)[0].flatten()\n",
    "\n",
    "baseline_std_plus = d_train.mean() + d_train.std()\n",
    "baseline_std_minus = d_train.mean() - d_train.std()\n",
    "\n",
    "d_concat = np.concatenate((np.random.permutation(d_test), np.random.permutation(d_cd)))\n",
    "#kl_concat = kl_test\n",
    "d_concat.shape"
   ]
  },
  {
   "cell_type": "code",
   "execution_count": 470,
   "metadata": {},
   "outputs": [],
   "source": [
    "#agg = 'mean', 'window' or 'raw'\n",
    "df = make_data_stream(d_concat, agg='mean')"
   ]
  },
  {
   "cell_type": "code",
   "execution_count": 471,
   "metadata": {
    "collapsed": true
   },
   "outputs": [
    {
     "data": {
      "text/plain": [
       "<matplotlib.lines.Line2D at 0x7f6cf62ee550>"
      ]
     },
     "execution_count": 471,
     "metadata": {},
     "output_type": "execute_result"
    },
    {
     "data": {
      "image/png": "[encoded data removed]",
      "text/plain": [
       "<Figure size 1080x576 with 1 Axes>"
      ]
     },
     "metadata": {
      "needs_background": "light"
     },
     "output_type": "display_data"
    }
   ],
   "source": [
    "ax = df.plot(x='index', y='stream', figsize=(15,8))\n",
    "ax.axhline(baseline_std_plus, c='g')\n",
    "ax.axhline(baseline_std_minus, c='g')"
   ]
  },
  {
   "cell_type": "code",
   "execution_count": 464,
   "metadata": {},
   "outputs": [],
   "source": [
    "adwin = ADWIN(delta=0.02)\n",
    "for i in range(len(data_stream)):\n",
    "    adwin.add_element(data_stream[i])\n",
    "    if adwin.detected_change():\n",
    "        if i < 10000:\n",
    "            print(Fore.RED + 'Change detected in data: ' + str(data_stream[i]) + ' - at index: ' + str(i))\n",
    "        else:\n",
    "            print(Fore.GREEN + 'Change detected in data: ' + str(data_stream[i]) + ' - at index: ' + str(i))"
   ]
  },
  {
   "cell_type": "code",
   "execution_count": 427,
   "metadata": {},
   "outputs": [
    {
     "name": "stdout",
     "output_type": "stream",
     "text": [
      "Sample 0 of 2000\n",
      "Sample 1000 of 2000\n"
     ]
    }
   ],
   "source": [
    "cd_start = 100\n",
    "cd_full = int(1.5 * cd_start)\n",
    "nb_samples_tot = 2000\n",
    "start = 0\n",
    "df = sst.rolling_stats(vae, X_test, y_test, X_cd, y_cd, cd_start, cd_full, nb_samples_tot, start)"
   ]
  },
  {
   "cell_type": "code",
   "execution_count": 428,
   "metadata": {
    "collapsed": true
   },
   "outputs": [
    {
     "data": {
      "image/png": "[encoded data removed]",
      "text/plain": [
       "<Figure size 1080x576 with 4 Axes>"
      ]
     },
     "metadata": {
      "needs_background": "light"
     },
     "output_type": "display_data"
    }
   ],
   "source": [
    "axs = df[['contamination', 'accuracy','entropy_mean', 'entropy_var']].plot(logy = False, subplots=True, figsize = (15, 8))\n",
    "for ax in axs:\n",
    "    ax.axvline(cd_start, c='r', linestyle='dashed')\n",
    "    ax.axvline(cd_full, c='r', linestyle='dashed')"
   ]
  },
  {
   "cell_type": "code",
   "execution_count": 429,
   "metadata": {
    "collapsed": true
   },
   "outputs": [
    {
     "data": {
      "text/plain": [
       "<matplotlib.lines.Line2D at 0x7f6cf44d3c10>"
      ]
     },
     "execution_count": 429,
     "metadata": {},
     "output_type": "execute_result"
    },
    {
     "data": {
      "image/png": "[encoded data removed]",
      "text/plain": [
       "<Figure size 1080x576 with 2 Axes>"
      ]
     },
     "metadata": {
      "needs_background": "light"
     },
     "output_type": "display_data"
    }
   ],
   "source": [
    "axs = df[['contamination', 'entropy_mean']].plot(logy = False, subplots=True, figsize = (15, 8))\n",
    "for ax in axs:\n",
    "    ax.axvline(cd_start, c='r', linestyle='dashed')\n",
    "    ax.axvline(cd_full, c='r', linestyle='dashed')\n",
    "axs[1].axhline(baseline_std_plus, c='g')\n",
    "axs[1].axhline(baseline_std_minus, c='g')"
   ]
  },
  {
   "cell_type": "code",
   "execution_count": 430,
   "metadata": {
    "collapsed": true
   },
   "outputs": [
    {
     "data": {
      "text/html": [
       "<div>\n",
       "<style scoped>\n",
       "    .dataframe tbody tr th:only-of-type {\n",
       "        vertical-align: middle;\n",
       "    }\n",
       "\n",
       "    .dataframe tbody tr th {\n",
       "        vertical-align: top;\n",
       "    }\n",
       "\n",
       "    .dataframe thead th {\n",
       "        text-align: right;\n",
       "    }\n",
       "</style>\n",
       "<table border=\"1\" class=\"dataframe\">\n",
       "  <thead>\n",
       "    <tr style=\"text-align: right;\">\n",
       "      <th></th>\n",
       "      <th>rw</th>\n",
       "      <th>entropy</th>\n",
       "      <th>pred_prob</th>\n",
       "      <th>accuracy</th>\n",
       "      <th>contamination</th>\n",
       "      <th>entropy_mean</th>\n",
       "      <th>entropy_var</th>\n",
       "    </tr>\n",
       "  </thead>\n",
       "  <tbody>\n",
       "    <tr>\n",
       "      <td>0</td>\n",
       "      <td>0</td>\n",
       "      <td>1.340085e-04</td>\n",
       "      <td>[0.76568115]</td>\n",
       "      <td>0.000000</td>\n",
       "      <td>0.0</td>\n",
       "      <td>0.000134</td>\n",
       "      <td>0.000000e+00</td>\n",
       "    </tr>\n",
       "    <tr>\n",
       "      <td>1</td>\n",
       "      <td>1</td>\n",
       "      <td>2.116309e-03</td>\n",
       "      <td>[0.8627745]</td>\n",
       "      <td>0.500000</td>\n",
       "      <td>0.0</td>\n",
       "      <td>0.001125</td>\n",
       "      <td>1.964759e-06</td>\n",
       "    </tr>\n",
       "    <tr>\n",
       "      <td>2</td>\n",
       "      <td>1</td>\n",
       "      <td>1.091580e-05</td>\n",
       "      <td>[0.59948605]</td>\n",
       "      <td>0.666667</td>\n",
       "      <td>0.0</td>\n",
       "      <td>0.000754</td>\n",
       "      <td>1.396225e-06</td>\n",
       "    </tr>\n",
       "    <tr>\n",
       "      <td>3</td>\n",
       "      <td>1</td>\n",
       "      <td>1.936597e-04</td>\n",
       "      <td>[0.9536984]</td>\n",
       "      <td>0.750000</td>\n",
       "      <td>0.0</td>\n",
       "      <td>0.000614</td>\n",
       "      <td>1.009241e-06</td>\n",
       "    </tr>\n",
       "    <tr>\n",
       "      <td>4</td>\n",
       "      <td>1</td>\n",
       "      <td>1.984008e-07</td>\n",
       "      <td>[0.58847547]</td>\n",
       "      <td>0.800000</td>\n",
       "      <td>0.0</td>\n",
       "      <td>0.000491</td>\n",
       "      <td>8.322130e-07</td>\n",
       "    </tr>\n",
       "    <tr>\n",
       "      <td>...</td>\n",
       "      <td>...</td>\n",
       "      <td>...</td>\n",
       "      <td>...</td>\n",
       "      <td>...</td>\n",
       "      <td>...</td>\n",
       "      <td>...</td>\n",
       "      <td>...</td>\n",
       "    </tr>\n",
       "    <tr>\n",
       "      <td>1995</td>\n",
       "      <td>1</td>\n",
       "      <td>1.888212e-03</td>\n",
       "      <td>[0.7685955]</td>\n",
       "      <td>0.692385</td>\n",
       "      <td>1.0</td>\n",
       "      <td>0.003169</td>\n",
       "      <td>6.460522e-05</td>\n",
       "    </tr>\n",
       "    <tr>\n",
       "      <td>1996</td>\n",
       "      <td>1</td>\n",
       "      <td>8.110236e-05</td>\n",
       "      <td>[0.8360774]</td>\n",
       "      <td>0.692539</td>\n",
       "      <td>1.0</td>\n",
       "      <td>0.003167</td>\n",
       "      <td>6.457763e-05</td>\n",
       "    </tr>\n",
       "    <tr>\n",
       "      <td>1997</td>\n",
       "      <td>0</td>\n",
       "      <td>1.028071e-03</td>\n",
       "      <td>[0.9583167]</td>\n",
       "      <td>0.692192</td>\n",
       "      <td>1.0</td>\n",
       "      <td>0.003166</td>\n",
       "      <td>6.454758e-05</td>\n",
       "    </tr>\n",
       "    <tr>\n",
       "      <td>1998</td>\n",
       "      <td>1</td>\n",
       "      <td>3.531314e-03</td>\n",
       "      <td>[0.9640252]</td>\n",
       "      <td>0.692346</td>\n",
       "      <td>1.0</td>\n",
       "      <td>0.003166</td>\n",
       "      <td>6.451534e-05</td>\n",
       "    </tr>\n",
       "    <tr>\n",
       "      <td>1999</td>\n",
       "      <td>0</td>\n",
       "      <td>3.494862e-04</td>\n",
       "      <td>[0.6152691]</td>\n",
       "      <td>0.692000</td>\n",
       "      <td>1.0</td>\n",
       "      <td>0.003165</td>\n",
       "      <td>6.448703e-05</td>\n",
       "    </tr>\n",
       "  </tbody>\n",
       "</table>\n",
       "<p>2000 rows × 7 columns</p>\n",
       "</div>"
      ],
      "text/plain": [
       "      rw       entropy     pred_prob  accuracy  contamination  entropy_mean  \\\n",
       "0      0  1.340085e-04  [0.76568115]  0.000000            0.0      0.000134   \n",
       "1      1  2.116309e-03   [0.8627745]  0.500000            0.0      0.001125   \n",
       "2      1  1.091580e-05  [0.59948605]  0.666667            0.0      0.000754   \n",
       "3      1  1.936597e-04   [0.9536984]  0.750000            0.0      0.000614   \n",
       "4      1  1.984008e-07  [0.58847547]  0.800000            0.0      0.000491   \n",
       "...   ..           ...           ...       ...            ...           ...   \n",
       "1995   1  1.888212e-03   [0.7685955]  0.692385            1.0      0.003169   \n",
       "1996   1  8.110236e-05   [0.8360774]  0.692539            1.0      0.003167   \n",
       "1997   0  1.028071e-03   [0.9583167]  0.692192            1.0      0.003166   \n",
       "1998   1  3.531314e-03   [0.9640252]  0.692346            1.0      0.003166   \n",
       "1999   0  3.494862e-04   [0.6152691]  0.692000            1.0      0.003165   \n",
       "\n",
       "       entropy_var  \n",
       "0     0.000000e+00  \n",
       "1     1.964759e-06  \n",
       "2     1.396225e-06  \n",
       "3     1.009241e-06  \n",
       "4     8.322130e-07  \n",
       "...            ...  \n",
       "1995  6.460522e-05  \n",
       "1996  6.457763e-05  \n",
       "1997  6.454758e-05  \n",
       "1998  6.451534e-05  \n",
       "1999  6.448703e-05  \n",
       "\n",
       "[2000 rows x 7 columns]"
      ]
     },
     "execution_count": 430,
     "metadata": {},
     "output_type": "execute_result"
    }
   ],
   "source": [
    "df"
   ]
  },
  {
   "cell_type": "code",
   "execution_count": 431,
   "metadata": {},
   "outputs": [],
   "source": [
    "data_stream = df['entropy_mean']\n",
    "adwin = ADWIN(delta=0.02)\n",
    "for i in range(len(data_stream)):\n",
    "    adwin.add_element(data_stream[i])\n",
    "    if adwin.detected_change():\n",
    "        if i < cd_start:\n",
    "            print(Fore.RED + 'Change detected in data: ' + str(data_stream[i]) + ' - at index: ' + str(i))\n",
    "        elif i >= cd_start and i < cd_full:\n",
    "            print(Fore.GREEN + 'Change detected in data: ' + str(data_stream[i]) + ' - at index: ' + str(i))            \n",
    "        else:\n",
    "            print(Fore.YELLOW + 'Change detected in data: ' + str(data_stream[i]) + ' - at index: ' + str(i))"
   ]
  }
 ],
 "metadata": {
  "kernelspec": {
   "display_name": "Python 3",
   "language": "python",
   "name": "python3"
  },
  "language_info": {
   "codemirror_mode": {
    "name": "ipython",
    "version": 3
   },
   "file_extension": ".py",
   "mimetype": "text/x-python",
   "name": "python",
   "nbconvert_exporter": "python",
   "pygments_lexer": "ipython3",
   "version": "3.7.4"
  }
 },
 "nbformat": 4,
 "nbformat_minor": 2
}
