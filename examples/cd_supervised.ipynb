{
 "cells": [
  {
   "cell_type": "code",
   "execution_count": 1,
   "id": "0c7c7871",
   "metadata": {},
   "outputs": [
    {
     "name": "stderr",
     "output_type": "stream",
     "text": [
      "Importing plotly failed. Interactive plots will not work.\n"
     ]
    }
   ],
   "source": [
    "import numpy as np\n",
    "import matplotlib.pyplot as plt\n",
    "import time\n",
    "from alibi_detect.cd import CVMDrift, MMDDrift, FETDrift"
   ]
  },
  {
   "cell_type": "markdown",
   "id": "2fa5b73f",
   "metadata": {},
   "source": [
    "# Continuous data"
   ]
  },
  {
   "cell_type": "code",
   "execution_count": 2,
   "id": "80733b6f",
   "metadata": {},
   "outputs": [
    {
     "name": "stdout",
     "output_type": "stream",
     "text": [
      "Wall time = 0.000s +- 0s\n"
     ]
    }
   ],
   "source": [
    "ntimes = 1\n",
    "times = np.empty([ntimes])\n",
    "\n",
    "p_val = 0.05\n",
    "N = 1000 # Size of reference set\n",
    "\n",
    "# Note how these are diff to the Gaussian used for configuration.\n",
    "x_ref = np.random.uniform(0, 1, N).reshape(-1,1)\n",
    "stream_h0 = np.random.uniform(size=500)\n",
    "stream_h1 = np.random.exponential(size=500)\n",
    "\n",
    "for t in range(ntimes):\n",
    "    t0 = time.time()\n",
    "    ddcvm = CVMDrift(x_ref, p_val=0.05)\n",
    "    times[t] = time.time() - t0\n",
    "    ddmmd = MMDDrift(x_ref, p_val=0.05)\n",
    "\n",
    "print('Wall time = %.3fs +- %.2gs' % (times.mean(),times.std()))"
   ]
  },
  {
   "cell_type": "code",
   "execution_count": 3,
   "id": "ed2c10af",
   "metadata": {},
   "outputs": [
    {
     "data": {
      "text/plain": [
       "{'data': {'is_drift': 0,\n",
       "  'distance': -0.00026494265,\n",
       "  'p_val': 0.49,\n",
       "  'threshold': 0.05,\n",
       "  'distance_threshold': 0.003301859},\n",
       " 'meta': {'name': 'MMDDriftTF',\n",
       "  'detector_type': 'offline',\n",
       "  'data_type': None,\n",
       "  'version': '0.7.3dev',\n",
       "  'backend': 'tensorflow'}}"
      ]
     },
     "execution_count": 3,
     "metadata": {},
     "output_type": "execute_result"
    }
   ],
   "source": [
    "ddmmd.predict(stream_h0)"
   ]
  },
  {
   "cell_type": "code",
   "execution_count": 4,
   "id": "174a580d",
   "metadata": {},
   "outputs": [
    {
     "data": {
      "text/plain": [
       "{'data': {'is_drift': 1,\n",
       "  'distance': 0.08218652,\n",
       "  'p_val': 0.0,\n",
       "  'threshold': 0.05,\n",
       "  'distance_threshold': 0.0029037595},\n",
       " 'meta': {'name': 'MMDDriftTF',\n",
       "  'detector_type': 'offline',\n",
       "  'data_type': None,\n",
       "  'version': '0.7.3dev',\n",
       "  'backend': 'tensorflow'}}"
      ]
     },
     "execution_count": 4,
     "metadata": {},
     "output_type": "execute_result"
    }
   ],
   "source": [
    "ddmmd.predict(stream_h1)"
   ]
  },
  {
   "cell_type": "code",
   "execution_count": 5,
   "id": "d5f01dd9",
   "metadata": {},
   "outputs": [
    {
     "data": {
      "text/plain": [
       "{'data': {'is_drift': 0,\n",
       "  'distance': 0.09414622222223556,\n",
       "  'p_val': 0.6150868355205165,\n",
       "  'threshold': 0.05},\n",
       " 'meta': {'name': 'CVMDrift',\n",
       "  'detector_type': 'offline',\n",
       "  'data_type': None,\n",
       "  'version': '0.7.3dev'}}"
      ]
     },
     "execution_count": 5,
     "metadata": {},
     "output_type": "execute_result"
    }
   ],
   "source": [
    "ddcvm.predict(stream_h0)"
   ]
  },
  {
   "cell_type": "code",
   "execution_count": 6,
   "id": "978ec52b",
   "metadata": {},
   "outputs": [
    {
     "data": {
      "text/plain": [
       "{'data': {'is_drift': 1,\n",
       "  'distance': 7.592496888888888,\n",
       "  'p_val': 8.981260180007666e-10,\n",
       "  'threshold': 0.05},\n",
       " 'meta': {'name': 'CVMDrift',\n",
       "  'detector_type': 'offline',\n",
       "  'data_type': None,\n",
       "  'version': '0.7.3dev'}}"
      ]
     },
     "execution_count": 6,
     "metadata": {},
     "output_type": "execute_result"
    }
   ],
   "source": [
    "ddcvm.predict(stream_h1)"
   ]
  },
  {
   "cell_type": "markdown",
   "id": "5132498d",
   "metadata": {},
   "source": [
    "# Categorical data"
   ]
  },
  {
   "cell_type": "code",
   "execution_count": 24,
   "id": "c19d8704",
   "metadata": {},
   "outputs": [],
   "source": [
    "N = 5000\n",
    "p_h0 = 0.5\n",
    "p_h1 = 0.4\n",
    "x_ref = np.random.choice(2, N, p=[1-p_h0, p_h0])\n",
    "x_test0 = np.random.choice(2, 1000, p=[1-p_h0, p_h0]) \n",
    "x_test1 = np.random.choice(2, 1000, p=[1-p_h1, p_h1]) "
   ]
  },
  {
   "cell_type": "code",
   "execution_count": 25,
   "id": "780d7f54",
   "metadata": {},
   "outputs": [],
   "source": [
    "ddfet = FETDrift(x_ref, p_val = 0.05)"
   ]
  },
  {
   "cell_type": "code",
   "execution_count": 26,
   "id": "d78c4b0a",
   "metadata": {},
   "outputs": [
    {
     "data": {
      "text/plain": [
       "{'data': {'is_drift': 0,\n",
       "  'distance': 0.8952724623493119,\n",
       "  'p_val': 0.11889575172705508,\n",
       "  'threshold': 0.05},\n",
       " 'meta': {'name': 'FETDrift',\n",
       "  'detector_type': 'offline',\n",
       "  'data_type': None,\n",
       "  'version': '0.7.3dev'}}"
      ]
     },
     "execution_count": 26,
     "metadata": {},
     "output_type": "execute_result"
    }
   ],
   "source": [
    "ddfet.predict(x_test0)"
   ]
  },
  {
   "cell_type": "code",
   "execution_count": 10,
   "id": "66badd1a",
   "metadata": {},
   "outputs": [
    {
     "data": {
      "text/plain": [
       "{'data': {'is_drift': 1,\n",
       "  'distance': 1.27401764673645,\n",
       "  'p_val': 0.0005230974091784745,\n",
       "  'threshold': 0.05},\n",
       " 'meta': {'name': 'FETDrift',\n",
       "  'detector_type': 'offline',\n",
       "  'data_type': None,\n",
       "  'version': '0.7.3dev'}}"
      ]
     },
     "execution_count": 10,
     "metadata": {},
     "output_type": "execute_result"
    }
   ],
   "source": [
    "ddfet.predict(x_test1)"
   ]
  },
  {
   "cell_type": "code",
   "execution_count": 11,
   "id": "1c851d25",
   "metadata": {},
   "outputs": [
    {
     "name": "stdout",
     "output_type": "stream",
     "text": [
      "[[2430 2570]\n",
      " [ 426  574]]\n"
     ]
    }
   ],
   "source": [
    "x = x_test1\n",
    "a = np.sum(x_ref)\n",
    "b = len(x_ref) - a\n",
    "c = np.sum(x)\n",
    "d = len(x) - c\n",
    "table = np.array([[a,b],[c,d]])\n",
    "print(table)"
   ]
  },
  {
   "cell_type": "code",
   "execution_count": 12,
   "id": "7e0fd8b8",
   "metadata": {},
   "outputs": [
    {
     "name": "stdout",
     "output_type": "stream",
     "text": [
      "0.0005230974091784745\n"
     ]
    }
   ],
   "source": [
    "from scipy.stats import hypergeom, fisher_exact\n",
    "oddsratio, p_val = fisher_exact(table, alternative='two-sided')\n",
    "print(p_val)\n",
    "#[M, n, N] = [20, 7, 12]\n",
    "#rv = hypergeom(M, n, N)"
   ]
  },
  {
   "cell_type": "code",
   "execution_count": 13,
   "id": "9a7738c6",
   "metadata": {},
   "outputs": [
    {
     "data": {
      "text/plain": [
       "array([0, 1])"
      ]
     },
     "execution_count": 13,
     "metadata": {},
     "output_type": "execute_result"
    }
   ],
   "source": [
    "values, counts = np.unique(x, return_counts=True)\n",
    "values"
   ]
  },
  {
   "cell_type": "code",
   "execution_count": 14,
   "id": "3aa9bf3e",
   "metadata": {},
   "outputs": [
    {
     "data": {
      "text/plain": [
       "array([574, 426])"
      ]
     },
     "execution_count": 14,
     "metadata": {},
     "output_type": "execute_result"
    }
   ],
   "source": [
    "counts"
   ]
  },
  {
   "cell_type": "code",
   "execution_count": 15,
   "id": "fd30ecf2",
   "metadata": {},
   "outputs": [],
   "source": [
    "z_ref = np.random.choice([False, True], (1,100), p=[0.4,1-0.4])"
   ]
  },
  {
   "cell_type": "code",
   "execution_count": 16,
   "id": "1ece8c30",
   "metadata": {},
   "outputs": [
    {
     "data": {
      "text/plain": [
       "{False, True}"
      ]
     },
     "execution_count": 16,
     "metadata": {},
     "output_type": "execute_result"
    }
   ],
   "source": [
    "set(np.unique(z_ref))"
   ]
  },
  {
   "cell_type": "code",
   "execution_count": 17,
   "id": "df4070e4",
   "metadata": {},
   "outputs": [
    {
     "data": {
      "text/plain": [
       "True"
      ]
     },
     "execution_count": 17,
     "metadata": {},
     "output_type": "execute_result"
    }
   ],
   "source": [
    "set((True, False)) == set(np.unique(z_ref))"
   ]
  },
  {
   "cell_type": "code",
   "execution_count": 18,
   "id": "dbe55df9",
   "metadata": {},
   "outputs": [
    {
     "data": {
      "text/plain": [
       "False"
      ]
     },
     "execution_count": 18,
     "metadata": {},
     "output_type": "execute_result"
    }
   ],
   "source": [
    "set(np.unique(x_ref)) != {0,1}"
   ]
  },
  {
   "cell_type": "code",
   "execution_count": 19,
   "id": "69c1a8a8",
   "metadata": {},
   "outputs": [
    {
     "data": {
      "text/plain": [
       "{0, 1}"
      ]
     },
     "execution_count": 19,
     "metadata": {},
     "output_type": "execute_result"
    }
   ],
   "source": [
    "set(np.unique(x_ref))"
   ]
  },
  {
   "cell_type": "code",
   "execution_count": 20,
   "id": "b332593b",
   "metadata": {},
   "outputs": [
    {
     "data": {
      "text/plain": [
       "int"
      ]
     },
     "execution_count": 20,
     "metadata": {},
     "output_type": "execute_result"
    }
   ],
   "source": [
    "type({0,1}.pop())"
   ]
  },
  {
   "cell_type": "code",
   "execution_count": null,
   "id": "5e2ef7f1",
   "metadata": {},
   "outputs": [],
   "source": []
  }
 ],
 "metadata": {
  "kernelspec": {
   "display_name": "venv",
   "language": "python",
   "name": "venv"
  },
  "language_info": {
   "codemirror_mode": {
    "name": "ipython",
    "version": 3
   },
   "file_extension": ".py",
   "mimetype": "text/x-python",
   "name": "python",
   "nbconvert_exporter": "python",
   "pygments_lexer": "ipython3",
   "version": "3.8.11"
  }
 },
 "nbformat": 4,
 "nbformat_minor": 5
}
