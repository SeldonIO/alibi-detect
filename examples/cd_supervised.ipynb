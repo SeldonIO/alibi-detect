{
 "cells": [
  {
   "cell_type": "code",
   "execution_count": 1,
   "id": "0c7c7871",
   "metadata": {},
   "outputs": [
    {
     "name": "stderr",
     "output_type": "stream",
     "text": [
      "Importing plotly failed. Interactive plots will not work.\n"
     ]
    }
   ],
   "source": [
    "import numpy as np\n",
    "import matplotlib.pyplot as plt\n",
    "import time\n",
    "from alibi_detect.cd import CVMDrift, MMDDrift, FETDrift"
   ]
  },
  {
   "cell_type": "markdown",
   "id": "8879bb3d",
   "metadata": {},
   "source": [
    "# Continuous data"
   ]
  },
  {
   "cell_type": "code",
   "execution_count": 2,
   "id": "80733b6f",
   "metadata": {},
   "outputs": [
    {
     "name": "stdout",
     "output_type": "stream",
     "text": [
      "Wall time = 0.000s +- 0s\n"
     ]
    }
   ],
   "source": [
    "ntimes = 1\n",
    "times = np.empty([ntimes])\n",
    "\n",
    "p_val = 0.05\n",
    "N = 1000 # Size of reference set\n",
    "\n",
    "# Note how these are diff to the Gaussian used for configuration.\n",
    "x_ref = np.random.uniform(0, 1, N).reshape(-1,1)\n",
    "stream_h0 = np.random.uniform(size=500)\n",
    "stream_h1 = np.random.exponential(size=500)\n",
    "\n",
    "for t in range(ntimes):\n",
    "    t0 = time.time()\n",
    "    ddcvm = CVMDrift(x_ref, p_val=0.05)\n",
    "    times[t] = time.time() - t0\n",
    "    ddmmd = MMDDrift(x_ref, p_val=0.05)\n",
    "\n",
    "print('Wall time = %.3fs +- %.2gs' % (times.mean(),times.std()))"
   ]
  },
  {
   "cell_type": "code",
   "execution_count": 3,
   "id": "ed2c10af",
   "metadata": {},
   "outputs": [
    {
     "data": {
      "text/plain": [
       "{'data': {'is_drift': 0,\n",
       "  'distance': -0.00026494265,\n",
       "  'p_val': 0.49,\n",
       "  'threshold': 0.05,\n",
       "  'distance_threshold': 0.003301859},\n",
       " 'meta': {'name': 'MMDDriftTF',\n",
       "  'detector_type': 'offline',\n",
       "  'data_type': None,\n",
       "  'version': '0.7.3dev',\n",
       "  'backend': 'tensorflow'}}"
      ]
     },
     "execution_count": 3,
     "metadata": {},
     "output_type": "execute_result"
    }
   ],
   "source": [
    "ddmmd.predict(stream_h0)"
   ]
  },
  {
   "cell_type": "code",
   "execution_count": 4,
   "id": "1bdfecc9",
   "metadata": {},
   "outputs": [
    {
     "data": {
      "text/plain": [
       "{'data': {'is_drift': 1,\n",
       "  'distance': 0.08218652,\n",
       "  'p_val': 0.0,\n",
       "  'threshold': 0.05,\n",
       "  'distance_threshold': 0.0029037595},\n",
       " 'meta': {'name': 'MMDDriftTF',\n",
       "  'detector_type': 'offline',\n",
       "  'data_type': None,\n",
       "  'version': '0.7.3dev',\n",
       "  'backend': 'tensorflow'}}"
      ]
     },
     "execution_count": 4,
     "metadata": {},
     "output_type": "execute_result"
    }
   ],
   "source": [
    "ddmmd.predict(stream_h1)"
   ]
  },
  {
   "cell_type": "code",
   "execution_count": 5,
   "id": "8252494b",
   "metadata": {},
   "outputs": [
    {
     "data": {
      "text/plain": [
       "{'data': {'is_drift': 0,\n",
       "  'distance': 0.09414622222223556,\n",
       "  'p_val': 0.6150868355205165,\n",
       "  'threshold': 0.05},\n",
       " 'meta': {'name': 'CVMDrift',\n",
       "  'detector_type': 'offline',\n",
       "  'data_type': None,\n",
       "  'version': '0.7.3dev'}}"
      ]
     },
     "execution_count": 5,
     "metadata": {},
     "output_type": "execute_result"
    }
   ],
   "source": [
    "ddcvm.predict(stream_h0)"
   ]
  },
  {
   "cell_type": "code",
   "execution_count": 6,
   "id": "6e680c56",
   "metadata": {},
   "outputs": [
    {
     "data": {
      "text/plain": [
       "{'data': {'is_drift': 1,\n",
       "  'distance': 7.592496888888888,\n",
       "  'p_val': 8.981260180007666e-10,\n",
       "  'threshold': 0.05},\n",
       " 'meta': {'name': 'CVMDrift',\n",
       "  'detector_type': 'offline',\n",
       "  'data_type': None,\n",
       "  'version': '0.7.3dev'}}"
      ]
     },
     "execution_count": 6,
     "metadata": {},
     "output_type": "execute_result"
    }
   ],
   "source": [
    "ddcvm.predict(stream_h1)"
   ]
  },
  {
   "cell_type": "markdown",
   "id": "39818936",
   "metadata": {},
   "source": [
    "# Categorical data"
   ]
  },
  {
   "cell_type": "code",
   "execution_count": 24,
   "id": "c78d9201",
   "metadata": {},
   "outputs": [],
   "source": [
    "N = 5000\n",
    "p_h0 = 0.5\n",
    "p_h1 = 0.4\n",
    "x_ref = np.random.choice(2, N, p=[1-p_h0, p_h0])\n",
    "x_test0 = np.random.choice(2, 1000, p=[1-p_h0, p_h0]) \n",
    "x_test1 = np.random.choice(2, 1000, p=[1-p_h1, p_h1]) "
   ]
  },
  {
   "cell_type": "code",
   "execution_count": 25,
   "id": "b45d92c1",
   "metadata": {},
   "outputs": [],
   "source": [
    "ddfet = FETDrift(x_ref, p_val = 0.05)"
   ]
  },
  {
   "cell_type": "code",
   "execution_count": 26,
   "id": "cc56d92a",
   "metadata": {},
   "outputs": [
    {
     "data": {
      "text/plain": [
       "{'data': {'is_drift': 0,\n",
       "  'distance': 0.8952724623493119,\n",
       "  'p_val': 0.11889575172705508,\n",
       "  'threshold': 0.05},\n",
       " 'meta': {'name': 'FETDrift',\n",
       "  'detector_type': 'offline',\n",
       "  'data_type': None,\n",
       "  'version': '0.7.3dev'}}"
      ]
     },
     "execution_count": 26,
     "metadata": {},
     "output_type": "execute_result"
    }
   ],
   "source": [
    "ddfet.predict(x_test0)"
   ]
  },
  {
   "cell_type": "code",
   "execution_count": 10,
   "id": "655c542b",
   "metadata": {},
   "outputs": [
    {
     "data": {
      "text/plain": [
       "{'data': {'is_drift': 1,\n",
       "  'distance': 1.27401764673645,\n",
       "  'p_val': 0.0005230974091784745,\n",
       "  'threshold': 0.05},\n",
       " 'meta': {'name': 'FETDrift',\n",
       "  'detector_type': 'offline',\n",
       "  'data_type': None,\n",
       "  'version': '0.7.3dev'}}"
      ]
     },
     "execution_count": 10,
     "metadata": {},
     "output_type": "execute_result"
    }
   ],
   "source": [
    "ddfet.predict(x_test1)"
   ]
  },
  {
   "cell_type": "code",
   "execution_count": 11,
   "id": "8958d3ba",
   "metadata": {},
   "outputs": [
    {
     "name": "stdout",
     "output_type": "stream",
     "text": [
      "[[2430 2570]\n",
      " [ 426  574]]\n"
     ]
    }
   ],
   "source": [
    "x = x_test1\n",
    "a = np.sum(x_ref)\n",
    "b = len(x_ref) - a\n",
    "c = np.sum(x)\n",
    "d = len(x) - c\n",
    "table = np.array([[a,b],[c,d]])\n",
    "print(table)"
   ]
  },
  {
   "cell_type": "code",
   "execution_count": 42,
   "id": "ac0eea2e",
   "metadata": {},
   "outputs": [
    {
     "data": {
      "text/plain": [
       "float"
      ]
     },
     "execution_count": 42,
     "metadata": {},
     "output_type": "execute_result"
    }
   ],
   "source": [
    "type(float(np.mean(ddfet.x_ref.reshape(-1,2)).astype(float)))"
   ]
  },
  {
   "cell_type": "code",
   "execution_count": 37,
   "id": "110c7e02",
   "metadata": {},
   "outputs": [
    {
     "data": {
      "text/plain": [
       "(2500, 2)"
      ]
     },
     "execution_count": 37,
     "metadata": {},
     "output_type": "execute_result"
    }
   ],
   "source": [
    "ddfet.x_ref.reshape(-1,2).shape"
   ]
  },
  {
   "cell_type": "code",
   "execution_count": 43,
   "id": "48f73538",
   "metadata": {},
   "outputs": [],
   "source": [
    "a = np.nan"
   ]
  },
  {
   "cell_type": "code",
   "execution_count": 44,
   "id": "1a506a48",
   "metadata": {},
   "outputs": [
    {
     "data": {
      "text/plain": [
       "True"
      ]
     },
     "execution_count": 44,
     "metadata": {},
     "output_type": "execute_result"
    }
   ],
   "source": [
    "a != np.nan"
   ]
  },
  {
   "cell_type": "code",
   "execution_count": 45,
   "id": "7ec069ee",
   "metadata": {},
   "outputs": [
    {
     "data": {
      "text/plain": [
       "True"
      ]
     },
     "execution_count": 45,
     "metadata": {},
     "output_type": "execute_result"
    }
   ],
   "source": [
    "np.isnan(a)"
   ]
  },
  {
   "cell_type": "code",
   "execution_count": null,
   "id": "1008e175",
   "metadata": {},
   "outputs": [],
   "source": []
  }
 ],
 "metadata": {
  "kernelspec": {
   "display_name": "venv",
   "language": "python",
   "name": "venv"
  },
  "language_info": {
   "codemirror_mode": {
    "name": "ipython",
    "version": 3
   },
   "file_extension": ".py",
   "mimetype": "text/x-python",
   "name": "python",
   "nbconvert_exporter": "python",
   "pygments_lexer": "ipython3",
   "version": "3.8.11"
  }
 },
 "nbformat": 4,
 "nbformat_minor": 5
}
