{
 "cells": [
  {
   "cell_type": "code",
   "execution_count": 1,
   "metadata": {},
   "outputs": [],
   "source": [
    "import torch\n",
    "import torchvision\n",
    "from torch import nn\n",
    "import numpy as np\n",
    "import matplotlib.pyplot as plt\n",
    "from alibi_detect.utils.pytorch.kernels import DeepKernel, GaussianRBF\n",
    "from alibi_detect.cd import SpotTheDiffDrift\n",
    "\n",
    "np.random.seed(42)\n",
    "torch.manual_seed(42)\n",
    "%matplotlib inline"
   ]
  },
  {
   "cell_type": "markdown",
   "metadata": {},
   "source": [
    "### Gaussian Corner"
   ]
  },
  {
   "cell_type": "markdown",
   "metadata": {},
   "source": [
    "First example where reference data is Gaussian noise and test data is Gaussian noise but with the corner set to 1."
   ]
  },
  {
   "cell_type": "code",
   "execution_count": 2,
   "metadata": {},
   "outputs": [],
   "source": [
    "x_ref = np.random.normal(size=(1000, 1, 28, 28)).astype(np.float32)\n",
    "x = np.random.normal(size=(1000, 1, 28, 28)).astype(np.float32)\n",
    "x[:,0,:3,:3] = 1 * np.ones((1000,3,3)).astype(np.float32)"
   ]
  },
  {
   "cell_type": "code",
   "execution_count": 3,
   "metadata": {},
   "outputs": [
    {
     "name": "stdout",
     "output_type": "stream",
     "text": [
      "46/46 [=] - 0s 7ms/step - loss_ma: 0.6942\n",
      "46/46 [=] - 0s 7ms/step - loss_ma: 0.6938\n",
      "46/46 [=] - 0s 7ms/step - loss_ma: 0.6945\n",
      "46/46 [=] - 0s 8ms/step - loss_ma: 0.6935\n",
      "46/46 [=] - 0s 7ms/step - loss_ma: 0.6939\n",
      "46/46 [=] - 0s 7ms/step - loss_ma: 0.6935\n",
      "46/46 [=] - 0s 7ms/step - loss_ma: 0.6933\n",
      "46/46 [=] - 0s 7ms/step - loss_ma: 0.6935\n",
      "46/46 [=] - 0s 7ms/step - loss_ma: 0.6928\n",
      "46/46 [=] - 0s 7ms/step - loss_ma: 0.6920\n"
     ]
    }
   ],
   "source": [
    "cd = SpotTheDiffDrift(\n",
    "    x_ref,\n",
    "    n_diffs=1,\n",
    "    l1_reg=1e-3,\n",
    "    backend='tensorflow',\n",
    "    verbose=1,\n",
    "    learning_rate=1e-2, \n",
    "    epochs=10, \n",
    "    batch_size=32,\n",
    ")\n",
    "preds = cd.predict(x)"
   ]
  },
  {
   "cell_type": "code",
   "execution_count": 4,
   "metadata": {},
   "outputs": [
    {
     "name": "stdout",
     "output_type": "stream",
     "text": [
      "Drift? Yes\n",
      "p-value: 1.9896346911223113e-32\n"
     ]
    }
   ],
   "source": [
    "print(f\"Drift? {'Yes' if preds['data']['is_drift'] else 'No'}\")\n",
    "print(f\"p-value: {preds['data']['p_val']}\")"
   ]
  },
  {
   "cell_type": "code",
   "execution_count": 5,
   "metadata": {},
   "outputs": [
    {
     "data": {
      "text/plain": [
       "<matplotlib.colorbar.Colorbar at 0x7fc4ec4e0bb0>"
      ]
     },
     "execution_count": 5,
     "metadata": {},
     "output_type": "execute_result"
    },
    {
     "data": {
      "image/png": "[encoded data removed]",
      "text/plain": [
       "<Figure size 432x288 with 2 Axes>"
      ]
     },
     "metadata": {
      "needs_background": "light"
     },
     "output_type": "display_data"
    }
   ],
   "source": [
    "diff = preds['data']['diffs'][0,0]\n",
    "plt.imshow(diff, cmap='RdBu', vmin=-np.max(np.abs(diff)), vmax=np.max(np.abs(diff)))\n",
    "plt.colorbar()"
   ]
  },
  {
   "cell_type": "code",
   "execution_count": 6,
   "metadata": {},
   "outputs": [
    {
     "data": {
      "text/plain": [
       "array([-0.23954321], dtype=float32)"
      ]
     },
     "execution_count": 6,
     "metadata": {},
     "output_type": "execute_result"
    }
   ],
   "source": [
    "preds['data']['diff_coeffs']"
   ]
  },
  {
   "cell_type": "markdown",
   "metadata": {},
   "source": [
    "By looking at the diff and noting that the coefficient > 0 we see that the detector was able to note that to make the average instance **more** like a test instance than a reference instance it should increase the values in the corner."
   ]
  },
  {
   "cell_type": "markdown",
   "metadata": {},
   "source": [
    "### Missing number"
   ]
  },
  {
   "cell_type": "markdown",
   "metadata": {},
   "source": [
    "Now to consider a reference window of MNIST data and a test window without any zeros."
   ]
  },
  {
   "cell_type": "code",
   "execution_count": 7,
   "metadata": {},
   "outputs": [],
   "source": [
    "MNIST_PATH = '/home/oliver/Projects/alibi-detect/examples'\n",
    "DOWNLOAD = False\n",
    "MISSING_NUMBER = 0\n",
    "\n",
    "mnist_train_ds = torchvision.datasets.MNIST(MNIST_PATH, train=True, download=DOWNLOAD)\n",
    "train_x, train_y = mnist_train_ds.train_data, mnist_train_ds.train_labels\n",
    "\n",
    "data = train_x[:, None, : , :].numpy().astype(np.float32)/255.\n",
    "perm = np.random.permutation(np.arange(data.shape[0]))\n",
    "x_ref = data[perm][:10000]\n",
    "x = data[perm][10000:20000]\n",
    "x_ref = x_ref[train_y[perm][:10000] != MISSING_NUMBER] "
   ]
  },
  {
   "cell_type": "code",
   "execution_count": 8,
   "metadata": {},
   "outputs": [
    {
     "name": "stderr",
     "output_type": "stream",
     "text": [
      "No GPU detected, fall back on CPU.\n",
      "Epoch 1/5: 100%|██████████| 446/446 [00:01<00:00, 236.49it/s, loss_ma=0.692]\n",
      "Epoch 2/5: 100%|██████████| 446/446 [00:01<00:00, 238.77it/s, loss_ma=0.685]\n",
      "Epoch 3/5: 100%|██████████| 446/446 [00:01<00:00, 230.79it/s, loss_ma=0.679]\n",
      "Epoch 4/5: 100%|██████████| 446/446 [00:01<00:00, 236.61it/s, loss_ma=0.676]\n",
      "Epoch 5/5: 100%|██████████| 446/446 [00:01<00:00, 228.30it/s, loss_ma=0.674]\n"
     ]
    }
   ],
   "source": [
    "cd = SpotTheDiffDrift(\n",
    "    x_ref,\n",
    "    n_diffs=1,\n",
    "    l1_reg=1e-3,\n",
    "    backend='pytorch',\n",
    "    verbose=1,\n",
    "    learning_rate=1e-2, \n",
    "    epochs=5, \n",
    "    batch_size=32,\n",
    ")\n",
    "preds = cd.predict(x)"
   ]
  },
  {
   "cell_type": "code",
   "execution_count": 9,
   "metadata": {},
   "outputs": [
    {
     "name": "stdout",
     "output_type": "stream",
     "text": [
      "Drift? Yes\n",
      "p-value: 2.0406830299705877e-08\n",
      "Diff coeffs: [2.6160593]\n"
     ]
    }
   ],
   "source": [
    "print(f\"Drift? {'Yes' if preds['data']['is_drift'] else 'No'}\")\n",
    "print(f\"p-value: {preds['data']['p_val']}\")\n",
    "print(f\"Diff coeffs: {preds['data']['diff_coeffs']}\")"
   ]
  },
  {
   "cell_type": "code",
   "execution_count": 10,
   "metadata": {},
   "outputs": [
    {
     "data": {
      "text/plain": [
       "<matplotlib.colorbar.Colorbar at 0x7fc4ec360130>"
      ]
     },
     "execution_count": 10,
     "metadata": {},
     "output_type": "execute_result"
    },
    {
     "data": {
      "image/png": "[encoded data removed]",
      "text/plain": [
       "<Figure size 432x288 with 2 Axes>"
      ]
     },
     "metadata": {
      "needs_background": "light"
     },
     "output_type": "display_data"
    }
   ],
   "source": [
    "diff = preds['data']['diffs'][0,0]\n",
    "plt.imshow(diff, cmap='RdBu', vmin=-np.max(np.abs(diff)), vmax=np.max(np.abs(diff)))\n",
    "plt.colorbar()"
   ]
  },
  {
   "cell_type": "markdown",
   "metadata": {},
   "source": [
    "We see that to differentiate reference from test instances the detector compared instances to a point that had below average values in the middle and above average values areas we expect a zero to be."
   ]
  },
  {
   "cell_type": "code",
   "execution_count": null,
   "metadata": {},
   "outputs": [],
   "source": []
  }
 ],
 "metadata": {
  "interpreter": {
   "hash": "ffba93b5284319fb7a107c8eacae647f441487dcc7e0323a4c0d3feb66ea8c5e"
  },
  "kernelspec": {
   "display_name": "Python 3",
   "language": "python",
   "name": "python3"
  },
  "language_info": {
   "codemirror_mode": {
    "name": "ipython",
    "version": 3
   },
   "file_extension": ".py",
   "mimetype": "text/x-python",
   "name": "python",
   "nbconvert_exporter": "python",
   "pygments_lexer": "ipython3",
   "version": "3.8.10"
  }
 },
 "nbformat": 4,
 "nbformat_minor": 2
}
