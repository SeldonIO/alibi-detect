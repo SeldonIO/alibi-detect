{
 "cells": [
  {
   "cell_type": "code",
   "execution_count": 1,
   "metadata": {
    "collapsed": true
   },
   "outputs": [],
   "source": [
    "import tensorflow as tf\n",
    "from tensorflow import keras\n",
    "\n",
    "from __future__ import absolute_import\n",
    "from __future__ import division\n",
    "from __future__ import print_function\n",
    "from __future__ import unicode_literals\n",
    "\n",
    "from cleverhans.attacks import FastGradientMethod\n",
    "from cleverhans.compat import flags\n",
    "from cleverhans.dataset import MNIST\n",
    "from cleverhans.utils import AccuracyReport\n",
    "from cleverhans.utils_keras import cnn_model\n",
    "from cleverhans.utils_keras import KerasModelWrapper\n",
    "\n",
    "from cleverhans.attacks import FastGradientMethod\n",
    "from cleverhans.augmentation import random_horizontal_flip, random_shift\n",
    "from cleverhans.compat import flags\n",
    "from cleverhans.dataset import CIFAR10\n",
    "from cleverhans.loss import CrossEntropy\n",
    "from cleverhans.model_zoo.all_convolutional import ModelAllConvolutional\n",
    "from cleverhans.train import train\n",
    "from cleverhans.utils import AccuracyReport, set_log_level\n",
    "from cleverhans.utils_tf import model_eval\n",
    "import logging"
   ]
  },
  {
   "cell_type": "code",
   "execution_count": 2,
   "metadata": {},
   "outputs": [
    {
     "name": "stderr",
     "output_type": "stream",
     "text": [
      "Using TensorFlow backend.\n"
     ]
    }
   ],
   "source": [
    "import pandas as pd\n",
    "import numpy as np\n",
    "from scipy.stats import entropy\n",
    "import sys\n",
    "sys.path.append('..')\n",
    "sys.path.append('../odcd/cd/')\n",
    "sys.path.append('../odcd/utils/')\n",
    "import matplotlib\n",
    "import seaborn as sns\n",
    "from creme.stats import Mean, Var\n",
    "import matplotlib.pyplot as plt\n",
    "import model_symmetries as vsf\n",
    "%matplotlib inline\n",
    "\n",
    "from skmultiflow.drift_detection.adwin import ADWIN\n",
    "from scipy.stats import percentileofscore\n",
    "\n",
    "import streaming_sim_test as sst\n",
    "from importlib import reload\n",
    "\n",
    "import colorama\n",
    "from colorama import Fore, Style"
   ]
  },
  {
   "cell_type": "code",
   "execution_count": 3,
   "metadata": {
    "collapsed": true
   },
   "outputs": [],
   "source": [
    "from keras.models import Sequential, Model\n",
    "from keras.layers import Dense, Flatten, Conv2D, MaxPooling2D, Activation, Dropout, Input, Activation\n",
    "from keras.callbacks import ModelCheckpoint, EarlyStopping\n",
    "import numpy as np\n",
    "\n",
    "from art.attacks import DeepFool, CarliniL2Method\n",
    "from art.classifiers import KerasClassifier\n",
    "from art.utils import load_dataset\n",
    "from sklearn.neighbors import NearestNeighbors\n",
    "from sklearn.metrics import precision_score, recall_score, accuracy_score"
   ]
  },
  {
   "cell_type": "markdown",
   "metadata": {},
   "source": [
    "# Mnist"
   ]
  },
  {
   "cell_type": "markdown",
   "metadata": {},
   "source": [
    "### fgsm"
   ]
  },
  {
   "cell_type": "code",
   "execution_count": 4,
   "metadata": {
    "collapsed": true
   },
   "outputs": [],
   "source": [
    "def get_adversarial_acc_metric(model, fgsm, fgsm_params):\n",
    "  def adv_acc(y, _):\n",
    "    # Generate adversarial examples\n",
    "    x_adv = fgsm.generate(model.input, **fgsm_params)\n",
    "    # Consider the attack to be constant\n",
    "    x_adv = tf.stop_gradient(x_adv)\n",
    "\n",
    "    # Accuracy on the adversarial examples\n",
    "    preds_adv = model(x_adv)\n",
    "    return keras.metrics.categorical_accuracy(y, preds_adv)\n",
    "\n",
    "  return adv_acc"
   ]
  },
  {
   "cell_type": "code",
   "execution_count": 5,
   "metadata": {
    "collapsed": true
   },
   "outputs": [],
   "source": [
    "train_start=0\n",
    "train_end=60000\n",
    "test_start=0\n",
    "test_end=10000\n",
    "nb_epochs=50\n",
    "batch_size=128\n",
    "learning_rate=0.001\n",
    "testing=False\n",
    "label_smoothing=0.1\n",
    "fashion=False"
   ]
  },
  {
   "cell_type": "code",
   "execution_count": 6,
   "metadata": {},
   "outputs": [
    {
     "name": "stdout",
     "output_type": "stream",
     "text": [
      "Traceback (most recent call last):\n",
      "  File \"/home/Gigio/anaconda3/lib/python3.6/site-packages/IPython/core/interactiveshell.py\", line 2862, in run_code\n",
      "    exec(code_obj, self.user_global_ns, self.user_ns)\n",
      "  File \"<ipython-input-6-bb0446ec7ade>\", line 28, in <module>\n",
      "    test_start=test_start, test_end=test_end)\n",
      "  File \"/home/Gigio/git/fork-cleverhans/cleverhans/dataset.py\", line 98, in __init__\n",
      "    test_end=test_end)\n",
      "  File \"/home/Gigio/git/fork-cleverhans/cleverhans/dataset.py\", line 248, in data_mnist\n",
      "    'train-images-idx3-ubyte.gz', datadir=datadir) / 255.\n",
      "  File \"/home/Gigio/git/fork-cleverhans/cleverhans/dataset.py\", line 189, in download_and_parse_mnist_file\n",
      "    file_name = maybe_download_file(url, datadir=datadir, force=force)\n",
      "  File \"/home/Gigio/git/fork-cleverhans/cleverhans/dataset.py\", line 183, in maybe_download_file\n",
      "    urlretrieve(url, dest_file)\n",
      "  File \"/home/Gigio/anaconda3/lib/python3.6/urllib/request.py\", line 277, in urlretrieve\n",
      "    block = fp.read(bs)\n",
      "  File \"/home/Gigio/anaconda3/lib/python3.6/http/client.py\", line 449, in read\n",
      "    n = self.readinto(b)\n",
      "  File \"/home/Gigio/anaconda3/lib/python3.6/http/client.py\", line 493, in readinto\n",
      "    n = self.fp.readinto(b)\n",
      "  File \"/home/Gigio/anaconda3/lib/python3.6/socket.py\", line 586, in readinto\n",
      "    return self._sock.recv_into(b)\n",
      "KeyboardInterrupt\n",
      "\n",
      "During handling of the above exception, another exception occurred:\n",
      "\n",
      "Traceback (most recent call last):\n",
      "  File \"/home/Gigio/anaconda3/lib/python3.6/site-packages/IPython/core/interactiveshell.py\", line 1806, in showtraceback\n",
      "    stb = value._render_traceback_()\n",
      "AttributeError: 'KeyboardInterrupt' object has no attribute '_render_traceback_'\n",
      "\n",
      "During handling of the above exception, another exception occurred:\n",
      "\n",
      "Traceback (most recent call last):\n",
      "  File \"/home/Gigio/anaconda3/lib/python3.6/site-packages/IPython/core/ultratb.py\", line 1090, in get_records\n",
      "    return _fixed_getinnerframes(etb, number_of_lines_of_context, tb_offset)\n",
      "  File \"/home/Gigio/anaconda3/lib/python3.6/site-packages/IPython/core/ultratb.py\", line 311, in wrapped\n",
      "    return f(*args, **kwargs)\n",
      "  File \"/home/Gigio/anaconda3/lib/python3.6/site-packages/IPython/core/ultratb.py\", line 345, in _fixed_getinnerframes\n",
      "    records = fix_frame_records_filenames(inspect.getinnerframes(etb, context))\n",
      "  File \"/home/Gigio/anaconda3/lib/python3.6/inspect.py\", line 1480, in getinnerframes\n",
      "    frameinfo = (tb.tb_frame,) + getframeinfo(tb, context)\n",
      "  File \"/home/Gigio/anaconda3/lib/python3.6/inspect.py\", line 1442, in getframeinfo\n",
      "    lines, lnum = findsource(frame)\n",
      "  File \"/home/Gigio/anaconda3/lib/python3.6/site-packages/IPython/core/ultratb.py\", line 165, in findsource\n",
      "    file = getsourcefile(object) or getfile(object)\n",
      "  File \"/home/Gigio/anaconda3/lib/python3.6/inspect.py\", line 693, in getsourcefile\n",
      "    if getattr(getmodule(object, filename), '__loader__', None) is not None:\n",
      "  File \"/home/Gigio/anaconda3/lib/python3.6/inspect.py\", line 732, in getmodule\n",
      "    if f == _filesbymodname.get(modname, None):\n",
      "KeyboardInterrupt\n"
     ]
    },
    {
     "ename": "KeyboardInterrupt",
     "evalue": "",
     "output_type": "error",
     "traceback": [
      "\u001b[0;31m---------------------------------------------------------------------------\u001b[0m"
     ]
    }
   ],
   "source": [
    "report = AccuracyReport()\n",
    "\n",
    "  # Set TF random seed to improve reproducibility\n",
    "tf.set_random_seed(1234)\n",
    "  # Force TensorFlow to use single thread to improve reproducibility\n",
    "config = tf.ConfigProto(intra_op_parallelism_threads=1,\n",
    "                          inter_op_parallelism_threads=1)\n",
    "\n",
    "\n",
    "sess = tf.Session(config=config)\n",
    "keras.backend.set_session(sess)\n",
    "\n",
    "  # Get MNIST test data\n",
    "    \n",
    "if fashion:\n",
    "    (X_train, y_train), (X_test, y_test) = tf.keras.datasets.fashion_mnist.load_data()\n",
    "\n",
    "    np.random.seed(0)\n",
    "    X_train = X_train.astype('float32') / 255\n",
    "    X_test = X_test.astype('float32') / 255\n",
    "    X_train = np.reshape(X_train, X_train.shape + (1,))\n",
    "    X_test = np.reshape(X_test, X_test.shape + (1,))\n",
    "    y_train = tf.keras.utils.to_categorical(y_train)\n",
    "    y_test = tf.keras.utils.to_categorical(y_test)\n",
    "    \n",
    "else:\n",
    "    mnist = MNIST(train_start=train_start, train_end=train_end,\n",
    "                test_start=test_start, test_end=test_end)\n",
    "    X_train, y_train = mnist.get_set('train')\n",
    "    X_test, y_test = mnist.get_set('test')\n",
    "\n",
    "  # Obtain Image Parameters\n",
    "img_rows, img_cols, nchannels = X_train.shape[1:4]\n",
    "nb_classes = y_train.shape[1]\n",
    "\n",
    "  # Label smoothing\n",
    "y_train -= label_smoothing * (y_train - 1. / nb_classes)\n",
    "\n",
    "print('x_train shape:', X_train.shape, 'x_test shape:', X_test.shape)\n",
    "print('y_train shape:', y_train.shape, 'y_test shape:', y_test.shape)\n",
    "  # Define Keras model\n",
    "model = cnn_model(img_rows=img_rows, img_cols=img_cols,\n",
    "                    channels=nchannels, nb_filters=64,\n",
    "                    nb_classes=nb_classes)\n",
    "print(\"Defined Keras model.\")\n",
    "\n",
    "  # To be able to call the model in the custom loss, we need to call it once\n",
    "  # before, see https://github.com/tensorflow/tensorflow/issues/23769\n",
    "model(model.input)\n",
    "\n",
    "  # Initialize the Fast Gradient Sign Method (FGSM) attack object\n",
    "wrap = KerasModelWrapper(model)\n",
    "fgsm = FastGradientMethod(wrap, sess=sess)\n",
    "fgsm_params = {'eps': 0.3,\n",
    "                 'clip_min': 0.,\n",
    "                 'clip_max': 1.}\n",
    "\n",
    "adv_acc_metric = get_adversarial_acc_metric(model, fgsm, fgsm_params)\n",
    "model.compile(\n",
    "      optimizer=keras.optimizers.Adam(learning_rate),\n",
    "      loss='categorical_crossentropy',\n",
    "      metrics=['accuracy', adv_acc_metric]\n",
    "  )"
   ]
  },
  {
   "cell_type": "code",
   "execution_count": 7,
   "metadata": {},
   "outputs": [
    {
     "name": "stdout",
     "output_type": "stream",
     "text": [
      "Train on 60000 samples, validate on 10000 samples\n",
      "Epoch 1/50\n",
      "60000/60000 [==============================] - 25s 412us/step - loss: 0.6539 - acc: 0.9570 - adv_acc: 0.0323 - val_loss: 0.1597 - val_acc: 0.9887 - val_adv_acc: 0.0271\n",
      "Epoch 2/50\n",
      "60000/60000 [==============================] - 5s 90us/step - loss: 0.5478 - acc: 0.9903 - adv_acc: 0.0311 - val_loss: 0.1198 - val_acc: 0.9907 - val_adv_acc: 0.0411\n",
      "Epoch 3/50\n",
      "60000/60000 [==============================] - 5s 89us/step - loss: 0.5325 - acc: 0.9940 - adv_acc: 0.0361 - val_loss: 0.1228 - val_acc: 0.9922 - val_adv_acc: 0.0374\n",
      "Epoch 4/50\n",
      "60000/60000 [==============================] - 5s 89us/step - loss: 0.5243 - acc: 0.9967 - adv_acc: 0.0463 - val_loss: 0.1178 - val_acc: 0.9928 - val_adv_acc: 0.0517\n",
      "Epoch 5/50\n",
      "60000/60000 [==============================] - 5s 90us/step - loss: 0.5182 - acc: 0.9982 - adv_acc: 0.0535 - val_loss: 0.1292 - val_acc: 0.9928 - val_adv_acc: 0.0627\n",
      "Epoch 6/50\n",
      "60000/60000 [==============================] - 5s 90us/step - loss: 0.5138 - acc: 0.9989 - adv_acc: 0.0695 - val_loss: 0.1171 - val_acc: 0.9929 - val_adv_acc: 0.0678\n",
      "Epoch 7/50\n",
      "60000/60000 [==============================] - 5s 90us/step - loss: 0.5108 - acc: 0.9994 - adv_acc: 0.0833 - val_loss: 0.1103 - val_acc: 0.9935 - val_adv_acc: 0.0785\n",
      "Epoch 8/50\n",
      "60000/60000 [==============================] - 5s 90us/step - loss: 0.5089 - acc: 0.9996 - adv_acc: 0.1008 - val_loss: 0.1099 - val_acc: 0.9934 - val_adv_acc: 0.1018\n",
      "Epoch 9/50\n",
      "60000/60000 [==============================] - 5s 90us/step - loss: 0.5070 - acc: 0.9998 - adv_acc: 0.1137 - val_loss: 0.1256 - val_acc: 0.9929 - val_adv_acc: 0.1090\n",
      "Epoch 10/50\n",
      "60000/60000 [==============================] - 5s 90us/step - loss: 0.5058 - acc: 0.9999 - adv_acc: 0.1297 - val_loss: 0.1207 - val_acc: 0.9940 - val_adv_acc: 0.1182\n",
      "Epoch 11/50\n",
      "60000/60000 [==============================] - 5s 90us/step - loss: 0.5047 - acc: 0.9999 - adv_acc: 0.1342 - val_loss: 0.1297 - val_acc: 0.9934 - val_adv_acc: 0.1461\n",
      "Epoch 12/50\n",
      "60000/60000 [==============================] - 5s 90us/step - loss: 0.5043 - acc: 1.0000 - adv_acc: 0.1491 - val_loss: 0.1232 - val_acc: 0.9936 - val_adv_acc: 0.1412\n",
      "Epoch 13/50\n",
      "60000/60000 [==============================] - 5s 92us/step - loss: 0.5039 - acc: 1.0000 - adv_acc: 0.1537 - val_loss: 0.1189 - val_acc: 0.9932 - val_adv_acc: 0.1557\n",
      "Epoch 14/50\n",
      "60000/60000 [==============================] - 5s 90us/step - loss: 0.5041 - acc: 1.0000 - adv_acc: 0.1562 - val_loss: 0.1178 - val_acc: 0.9932 - val_adv_acc: 0.1723\n",
      "Epoch 15/50\n",
      "60000/60000 [==============================] - 5s 90us/step - loss: 0.5047 - acc: 1.0000 - adv_acc: 0.1598 - val_loss: 0.1164 - val_acc: 0.9930 - val_adv_acc: 0.1713\n",
      "Epoch 16/50\n",
      "60000/60000 [==============================] - 5s 89us/step - loss: 0.5031 - acc: 1.0000 - adv_acc: 0.1719 - val_loss: 0.1198 - val_acc: 0.9937 - val_adv_acc: 0.2021\n",
      "Epoch 17/50\n",
      "60000/60000 [==============================] - 5s 90us/step - loss: 0.5025 - acc: 1.0000 - adv_acc: 0.1838 - val_loss: 0.1221 - val_acc: 0.9933 - val_adv_acc: 0.2023\n",
      "Epoch 18/50\n",
      "60000/60000 [==============================] - 5s 89us/step - loss: 0.5025 - acc: 1.0000 - adv_acc: 0.1899 - val_loss: 0.1197 - val_acc: 0.9932 - val_adv_acc: 0.2162\n",
      "Epoch 19/50\n",
      "60000/60000 [==============================] - 5s 90us/step - loss: 0.5030 - acc: 1.0000 - adv_acc: 0.1979 - val_loss: 0.1150 - val_acc: 0.9934 - val_adv_acc: 0.2086\n",
      "Epoch 20/50\n",
      "60000/60000 [==============================] - 5s 91us/step - loss: 0.5038 - acc: 1.0000 - adv_acc: 0.1917 - val_loss: 0.1221 - val_acc: 0.9929 - val_adv_acc: 0.1849\n",
      "Epoch 21/50\n",
      "60000/60000 [==============================] - 5s 90us/step - loss: 0.5036 - acc: 1.0000 - adv_acc: 0.1820 - val_loss: 0.1259 - val_acc: 0.9934 - val_adv_acc: 0.2051\n",
      "Epoch 22/50\n",
      "60000/60000 [==============================] - 5s 90us/step - loss: 0.5023 - acc: 1.0000 - adv_acc: 0.2036 - val_loss: 0.1168 - val_acc: 0.9937 - val_adv_acc: 0.2208\n",
      "Epoch 23/50\n",
      "60000/60000 [==============================] - 5s 90us/step - loss: 0.5018 - acc: 1.0000 - adv_acc: 0.2107 - val_loss: 0.1186 - val_acc: 0.9934 - val_adv_acc: 0.2233\n",
      "Epoch 24/50\n",
      "60000/60000 [==============================] - 5s 90us/step - loss: 0.5016 - acc: 1.0000 - adv_acc: 0.2210 - val_loss: 0.1226 - val_acc: 0.9933 - val_adv_acc: 0.2106\n",
      "Epoch 25/50\n",
      "60000/60000 [==============================] - 5s 91us/step - loss: 0.5018 - acc: 1.0000 - adv_acc: 0.2237 - val_loss: 0.1276 - val_acc: 0.9934 - val_adv_acc: 0.2386\n",
      "Epoch 26/50\n",
      "60000/60000 [==============================] - 5s 90us/step - loss: 0.5022 - acc: 1.0000 - adv_acc: 0.2217 - val_loss: 0.1239 - val_acc: 0.9937 - val_adv_acc: 0.2519\n",
      "Epoch 27/50\n",
      "60000/60000 [==============================] - 5s 91us/step - loss: 0.5024 - acc: 1.0000 - adv_acc: 0.2266 - val_loss: 0.1267 - val_acc: 0.9932 - val_adv_acc: 0.2252\n",
      "Epoch 28/50\n",
      "60000/60000 [==============================] - 5s 90us/step - loss: 0.5023 - acc: 1.0000 - adv_acc: 0.2338 - val_loss: 0.1266 - val_acc: 0.9937 - val_adv_acc: 0.2503\n",
      "Epoch 29/50\n",
      "60000/60000 [==============================] - 5s 90us/step - loss: 0.5018 - acc: 1.0000 - adv_acc: 0.2279 - val_loss: 0.1213 - val_acc: 0.9934 - val_adv_acc: 0.2174\n",
      "Epoch 30/50\n",
      "60000/60000 [==============================] - 5s 90us/step - loss: 0.5015 - acc: 1.0000 - adv_acc: 0.2435 - val_loss: 0.1218 - val_acc: 0.9933 - val_adv_acc: 0.2518\n",
      "Epoch 31/50\n",
      "60000/60000 [==============================] - 5s 90us/step - loss: 0.5015 - acc: 1.0000 - adv_acc: 0.2450 - val_loss: 0.1169 - val_acc: 0.9944 - val_adv_acc: 0.2524\n",
      "Epoch 32/50\n",
      "60000/60000 [==============================] - 5s 90us/step - loss: 0.5039 - acc: 0.9998 - adv_acc: 0.2324 - val_loss: 0.1245 - val_acc: 0.9932 - val_adv_acc: 0.2431\n",
      "Epoch 33/50\n",
      "60000/60000 [==============================] - 5s 89us/step - loss: 0.5029 - acc: 1.0000 - adv_acc: 0.2330 - val_loss: 0.1209 - val_acc: 0.9938 - val_adv_acc: 0.2394\n",
      "Epoch 34/50\n",
      "60000/60000 [==============================] - 5s 89us/step - loss: 0.5014 - acc: 1.0000 - adv_acc: 0.2357 - val_loss: 0.1198 - val_acc: 0.9939 - val_adv_acc: 0.2489\n",
      "Epoch 35/50\n",
      "60000/60000 [==============================] - 5s 89us/step - loss: 0.5010 - acc: 1.0000 - adv_acc: 0.2400 - val_loss: 0.1197 - val_acc: 0.9934 - val_adv_acc: 0.2413\n",
      "Epoch 36/50\n",
      "60000/60000 [==============================] - 5s 90us/step - loss: 0.5009 - acc: 1.0000 - adv_acc: 0.2434 - val_loss: 0.1175 - val_acc: 0.9933 - val_adv_acc: 0.2459\n",
      "Epoch 37/50\n",
      "60000/60000 [==============================] - 5s 89us/step - loss: 0.5009 - acc: 1.0000 - adv_acc: 0.2428 - val_loss: 0.1195 - val_acc: 0.9940 - val_adv_acc: 0.2428\n",
      "Epoch 38/50\n",
      "60000/60000 [==============================] - 5s 90us/step - loss: 0.5012 - acc: 1.0000 - adv_acc: 0.2411 - val_loss: 0.1209 - val_acc: 0.9940 - val_adv_acc: 0.2239\n",
      "Epoch 39/50\n",
      "60000/60000 [==============================] - 5s 89us/step - loss: 0.5029 - acc: 1.0000 - adv_acc: 0.2351 - val_loss: 0.1167 - val_acc: 0.9936 - val_adv_acc: 0.2441\n",
      "Epoch 40/50\n",
      "60000/60000 [==============================] - 5s 90us/step - loss: 0.5017 - acc: 1.0000 - adv_acc: 0.2381 - val_loss: 0.1191 - val_acc: 0.9930 - val_adv_acc: 0.2488\n",
      "Epoch 41/50\n",
      "60000/60000 [==============================] - 5s 90us/step - loss: 0.5012 - acc: 1.0000 - adv_acc: 0.2461 - val_loss: 0.1168 - val_acc: 0.9940 - val_adv_acc: 0.2410\n",
      "Epoch 42/50\n",
      "60000/60000 [==============================] - 5s 89us/step - loss: 0.5010 - acc: 1.0000 - adv_acc: 0.2404 - val_loss: 0.1197 - val_acc: 0.9937 - val_adv_acc: 0.2470\n",
      "Epoch 43/50\n",
      "60000/60000 [==============================] - 5s 91us/step - loss: 0.5009 - acc: 1.0000 - adv_acc: 0.2343 - val_loss: 0.1221 - val_acc: 0.9933 - val_adv_acc: 0.2354\n",
      "Epoch 44/50\n",
      "60000/60000 [==============================] - 5s 90us/step - loss: 0.5011 - acc: 1.0000 - adv_acc: 0.2379 - val_loss: 0.1196 - val_acc: 0.9938 - val_adv_acc: 0.2447\n",
      "Epoch 45/50\n",
      "60000/60000 [==============================] - 5s 90us/step - loss: 0.5011 - acc: 1.0000 - adv_acc: 0.2368 - val_loss: 0.1241 - val_acc: 0.9936 - val_adv_acc: 0.2330\n",
      "Epoch 46/50\n",
      "60000/60000 [==============================] - 5s 90us/step - loss: 0.5013 - acc: 1.0000 - adv_acc: 0.2316 - val_loss: 0.1158 - val_acc: 0.9937 - val_adv_acc: 0.2594\n"
     ]
    },
    {
     "name": "stdout",
     "output_type": "stream",
     "text": [
      "Epoch 47/50\n",
      "60000/60000 [==============================] - 5s 90us/step - loss: 0.5038 - acc: 0.9998 - adv_acc: 0.2495 - val_loss: 0.1156 - val_acc: 0.9931 - val_adv_acc: 0.2552\n",
      "Epoch 48/50\n",
      "60000/60000 [==============================] - 5s 90us/step - loss: 0.5018 - acc: 1.0000 - adv_acc: 0.2467 - val_loss: 0.1185 - val_acc: 0.9938 - val_adv_acc: 0.2425\n",
      "Epoch 49/50\n",
      "60000/60000 [==============================] - 5s 90us/step - loss: 0.5010 - acc: 1.0000 - adv_acc: 0.2416 - val_loss: 0.1199 - val_acc: 0.9936 - val_adv_acc: 0.2407\n",
      "Epoch 50/50\n",
      "60000/60000 [==============================] - 5s 90us/step - loss: 0.5007 - acc: 1.0000 - adv_acc: 0.2430 - val_loss: 0.1203 - val_acc: 0.9942 - val_adv_acc: 0.2392\n"
     ]
    },
    {
     "data": {
      "text/plain": [
       "<tensorflow.python.keras.callbacks.History at 0x7f66374e7e48>"
      ]
     },
     "execution_count": 7,
     "metadata": {},
     "output_type": "execute_result"
    }
   ],
   "source": [
    "model.fit(X_train, y_train,\n",
    "            batch_size=batch_size,\n",
    "            epochs=nb_epochs,\n",
    "            validation_data=(X_test, y_test),\n",
    "            verbose=1)\n"
   ]
  },
  {
   "cell_type": "code",
   "execution_count": 13,
   "metadata": {},
   "outputs": [
    {
     "name": "stderr",
     "output_type": "stream",
     "text": [
      "/home/Gigio/git/fork-cleverhans/cleverhans/compat.py:22: UserWarning: <function reduce_max at 0x7f65c280e2f0> is deprecated. Switch to calling the equivalent function in tensorflow.  This function was originally needed as a compatibility layer for old versions of tensorflow,  but support for those versions has now been dropped.\n",
      "  warnings.warn(str(f) + \" is deprecated. Switch to calling the equivalent function in tensorflow. \"\n",
      "/home/Gigio/git/fork-cleverhans/cleverhans/compat.py:22: UserWarning: <function reduce_sum at 0x7f65c2807a60> is deprecated. Switch to calling the equivalent function in tensorflow.  This function was originally needed as a compatibility layer for old versions of tensorflow,  but support for those versions has now been dropped.\n",
      "  warnings.warn(str(f) + \" is deprecated. Switch to calling the equivalent function in tensorflow. \"\n"
     ]
    }
   ],
   "source": [
    "X_adv = sess.run(fgsm.generate(model.input, **fgsm_params), feed_dict={model.input: X_test})\n",
    "y_adv = y_test"
   ]
  },
  {
   "cell_type": "code",
   "execution_count": 14,
   "metadata": {},
   "outputs": [
    {
     "name": "stdout",
     "output_type": "stream",
     "text": [
      "Sample instance from the MNIST data set.\n"
     ]
    },
    {
     "data": {
      "image/png": "[encoded data removed]",
      "text/plain": [
       "<Figure size 432x288 with 1 Axes>"
      ]
     },
     "metadata": {},
     "output_type": "display_data"
    }
   ],
   "source": [
    "idx = 1042\n",
    "x = X_test[idx: idx + 1]\n",
    "plt.imshow(np.squeeze(x), 'gray')\n",
    "print('Sample instance from the MNIST data set.')"
   ]
  },
  {
   "cell_type": "code",
   "execution_count": 15,
   "metadata": {},
   "outputs": [
    {
     "name": "stdout",
     "output_type": "stream",
     "text": [
      "Sample instance from the MNIST data set.\n"
     ]
    },
    {
     "data": {
      "image/png": "[encoded data removed]",
      "text/plain": [
       "<Figure size 432x288 with 1 Axes>"
      ]
     },
     "metadata": {},
     "output_type": "display_data"
    }
   ],
   "source": [
    "xa = X_adv[idx: idx + 1]\n",
    "plt.imshow(np.squeeze(xa), 'gray')\n",
    "print('Sample instance from the MNIST data set.')"
   ]
  },
  {
   "cell_type": "code",
   "execution_count": 16,
   "metadata": {},
   "outputs": [
    {
     "data": {
      "text/plain": [
       "array([[0.01065586, 0.00981614, 0.0099453 , 0.9086883 , 0.00963173,\n",
       "        0.0103775 , 0.01086726, 0.01015184, 0.00998621, 0.00987992]],\n",
       "      dtype=float32)"
      ]
     },
     "execution_count": 16,
     "metadata": {},
     "output_type": "execute_result"
    }
   ],
   "source": [
    "model.predict(x)"
   ]
  },
  {
   "cell_type": "code",
   "execution_count": 17,
   "metadata": {},
   "outputs": [
    {
     "data": {
      "text/plain": [
       "array([[0.06406422, 0.05928265, 0.10232635, 0.1505784 , 0.0725035 ,\n",
       "        0.21147744, 0.07278844, 0.0732244 , 0.12505664, 0.06869797]],\n",
       "      dtype=float32)"
      ]
     },
     "execution_count": 17,
     "metadata": {},
     "output_type": "execute_result"
    }
   ],
   "source": [
    "model.predict(xa)"
   ]
  },
  {
   "cell_type": "code",
   "execution_count": 26,
   "metadata": {},
   "outputs": [
    {
     "data": {
      "text/plain": [
       "<module 'model_symmetries' from '../odcd/cd/model_symmetries.py'>"
      ]
     },
     "execution_count": 26,
     "metadata": {},
     "output_type": "execute_result"
    }
   ],
   "source": [
    "reload(vsf)"
   ]
  },
  {
   "cell_type": "code",
   "execution_count": 27,
   "metadata": {},
   "outputs": [
    {
     "name": "stdout",
     "output_type": "stream",
     "text": [
      "__________________________________________________________________________________________________\n",
      "Layer (type)                    Output Shape         Param #     Connected to                     \n",
      "==================================================================================================\n",
      "encoder_input (InputLayer)      (None, 28, 28, 1)    0                                            \n",
      "__________________________________________________________________________________________________\n",
      "conv2d_9 (Conv2D)               (None, 14, 14, 64)   640         encoder_input[0][0]              \n",
      "__________________________________________________________________________________________________\n",
      "dropout_13 (Dropout)            (None, 14, 14, 64)   0           conv2d_9[0][0]                   \n",
      "__________________________________________________________________________________________________\n",
      "conv2d_10 (Conv2D)              (None, 7, 7, 128)    73856       dropout_13[0][0]                 \n",
      "__________________________________________________________________________________________________\n",
      "dropout_14 (Dropout)            (None, 7, 7, 128)    0           conv2d_10[0][0]                  \n",
      "__________________________________________________________________________________________________\n",
      "flatten_5 (Flatten)             (None, 6272)         0           dropout_14[0][0]                 \n",
      "__________________________________________________________________________________________________\n",
      "dense_9 (Dense)                 (None, 256)          1605888     flatten_5[0][0]                  \n",
      "__________________________________________________________________________________________________\n",
      "dropout_15 (Dropout)            (None, 256)          0           dense_9[0][0]                    \n",
      "__________________________________________________________________________________________________\n",
      "z_mean (Dense)                  (None, 8)            2056        dropout_15[0][0]                 \n",
      "__________________________________________________________________________________________________\n",
      "z_log_var (Dense)               (None, 8)            2056        dropout_15[0][0]                 \n",
      "__________________________________________________________________________________________________\n",
      "z (Lambda)                      (None, 8)            0           z_mean[0][0]                     \n",
      "                                                                 z_log_var[0][0]                  \n",
      "__________________________________________________________________________________________________\n",
      "dense_10 (Dense)                (None, 256)          2304        z[0][0]                          \n",
      "__________________________________________________________________________________________________\n",
      "dropout_16 (Dropout)            (None, 256)          0           dense_10[0][0]                   \n",
      "__________________________________________________________________________________________________\n",
      "dense_11 (Dense)                (None, 6272)         1611904     dropout_16[0][0]                 \n",
      "__________________________________________________________________________________________________\n",
      "dropout_17 (Dropout)            (None, 6272)         0           dense_11[0][0]                   \n",
      "__________________________________________________________________________________________________\n",
      "reshape_1 (Reshape)             (None, 7, 7, 128)    0           dropout_17[0][0]                 \n",
      "__________________________________________________________________________________________________\n",
      "conv2d_transpose_1 (Conv2DTrans (None, 14, 14, 128)  147584      reshape_1[0][0]                  \n",
      "__________________________________________________________________________________________________\n",
      "dropout_18 (Dropout)            (None, 14, 14, 128)  0           conv2d_transpose_1[0][0]         \n",
      "__________________________________________________________________________________________________\n",
      "conv2d_transpose_2 (Conv2DTrans (None, 28, 28, 64)   73792       dropout_18[0][0]                 \n",
      "__________________________________________________________________________________________________\n",
      "dropout_19 (Dropout)            (None, 28, 28, 64)   0           conv2d_transpose_2[0][0]         \n",
      "__________________________________________________________________________________________________\n",
      "decoder_output (Conv2DTranspose (None, 28, 28, 1)    577         dropout_19[0][0]                 \n",
      "__________________________________________________________________________________________________\n",
      "model_4 (Model)                 (None, 10)           412778      decoder_output[0][0]             \n",
      "                                                                 encoder_input[0][0]              \n",
      "==================================================================================================\n",
      "Total params: 3,933,435\n",
      "Trainable params: 3,520,657\n",
      "Non-trainable params: 412,778\n",
      "__________________________________________________________________________________________________\n"
     ]
    }
   ],
   "source": [
    "vae = vsf.VaeSymmetryFinderConv(model, input_shape=(28, 28, 1), rgb_filters=1,\n",
    "                            output_shape=(10, ), nb_conv_layers=2, lr=0.001,\n",
    "                            intermediate_dim=256, variational=True, opt='RMSprop',\n",
    "                            latent_dim=8, loss_type='symm', add_latent_loss=False)"
   ]
  },
  {
   "cell_type": "markdown",
   "metadata": {},
   "source": [
    "### Deep fool / Carlini"
   ]
  },
  {
   "cell_type": "code",
   "execution_count": 4,
   "metadata": {
    "collapsed": true
   },
   "outputs": [],
   "source": [
    "def prepare_data_mnist(fashion=False):\n",
    "    \n",
    "    if fashion:\n",
    "        (X_train, y_train), (X_test, y_test) = tf.keras.datasets.fashion_mnist.load_data()\n",
    "    else:\n",
    "        (X_train, y_train), (X_test, y_test) = tf.keras.datasets.mnist.load_data()\n",
    "    print('x_train shape:', X_train.shape, 'y_train shape:', y_train.shape)\n",
    "\n",
    "    # define train and test set\n",
    "    np.random.seed(0)\n",
    "    X_train = X_train.astype('float32') / 255\n",
    "    X_test = X_test.astype('float32') / 255\n",
    "    X_train = np.reshape(X_train, X_train.shape + (1,))\n",
    "    X_test = np.reshape(X_test, X_test.shape + (1,))\n",
    "    y_train = tf.keras.utils.to_categorical(y_train)\n",
    "    y_test = tf.keras.utils.to_categorical(y_test)\n",
    "\n",
    "        \n",
    "    print(X_train.shape, y_train.shape)\n",
    "    print(X_test.shape, y_test.shape)\n",
    "\n",
    "    return X_train, y_train, X_test, y_test\n",
    "    "
   ]
  },
  {
   "cell_type": "code",
   "execution_count": 5,
   "metadata": {
    "collapsed": true
   },
   "outputs": [],
   "source": [
    "def model_mnist_keras(nb_classes=10):\n",
    "    x_in = Input(shape=(28, 28, 1))\n",
    "    x = Conv2D(filters=64, kernel_size=2, padding='same', activation='relu')(x_in)\n",
    "    x = MaxPooling2D(pool_size=2)(x)\n",
    "    x = Dropout(0.3)(x)\n",
    "\n",
    "    x = Conv2D(filters=32, kernel_size=2, padding='same', activation='relu')(x)\n",
    "    x = MaxPooling2D(pool_size=2)(x)\n",
    "    x = Dropout(0.3)(x)\n",
    "\n",
    "    x = Flatten()(x)\n",
    "    x = Dense(256, activation='relu')(x)\n",
    "    x = Dropout(0.5)(x)\n",
    "    x = Dense(nb_classes, name='logits')(x)\n",
    "    x_out = Activation('softmax', name='softmax')(x)\n",
    "    \n",
    "    cnn = Model(inputs=x_in, outputs=x_out)\n",
    "    cnn.compile(loss='categorical_crossentropy', optimizer='adam', metrics=['accuracy'])\n",
    "\n",
    "    return cnn"
   ]
  },
  {
   "cell_type": "code",
   "execution_count": 6,
   "metadata": {},
   "outputs": [
    {
     "name": "stdout",
     "output_type": "stream",
     "text": [
      "x_train shape: (60000, 28, 28) y_train shape: (60000,)\n",
      "(60000, 28, 28, 1) (60000, 10)\n",
      "(10000, 28, 28, 1) (10000, 10)\n"
     ]
    }
   ],
   "source": [
    "X_train, y_train, X_test, y_test = prepare_data_mnist(fashion=False)\n",
    "X_test, y_test = X_test[:500], y_test[:500]\n",
    "min_, max_ = X_train.min(), X_train.max()"
   ]
  },
  {
   "cell_type": "code",
   "execution_count": 7,
   "metadata": {},
   "outputs": [
    {
     "name": "stdout",
     "output_type": "stream",
     "text": [
      "Sample instance from the MNIST data set.\n"
     ]
    },
    {
     "data": {
      "image/png": "[encoded data removed]",
      "text/plain": [
       "<Figure size 432x288 with 1 Axes>"
      ]
     },
     "metadata": {},
     "output_type": "display_data"
    }
   ],
   "source": [
    "idx = 42\n",
    "x = X_test[idx: idx + 1]\n",
    "plt.imshow(np.squeeze(x), 'gray')\n",
    "print('Sample instance from the MNIST data set.')"
   ]
  },
  {
   "cell_type": "code",
   "execution_count": null,
   "metadata": {
    "collapsed": true
   },
   "outputs": [],
   "source": []
  },
  {
   "cell_type": "code",
   "execution_count": 8,
   "metadata": {},
   "outputs": [
    {
     "name": "stdout",
     "output_type": "stream",
     "text": [
      "WARNING:tensorflow:From /home/Gigio/anaconda3/lib/python3.6/site-packages/keras/backend/tensorflow_backend.py:3298: softmax_cross_entropy_with_logits (from tensorflow.python.ops.nn_ops) is deprecated and will be removed in a future version.\n",
      "Instructions for updating:\n",
      "\n",
      "Future major versions of TensorFlow will allow gradients to flow\n",
      "into the labels input on backprop by default.\n",
      "\n",
      "See `tf.nn.softmax_cross_entropy_with_logits_v2`.\n",
      "\n",
      "Epoch 1/10\n",
      "469/468 [==============================] - 4s 10ms/step - loss: 0.3883 - acc: 0.8777\n",
      "Epoch 2/10\n",
      "469/468 [==============================] - 3s 5ms/step - loss: 0.1348 - acc: 0.9576\n",
      "Epoch 3/10\n",
      "469/468 [==============================] - 3s 5ms/step - loss: 0.1013 - acc: 0.9681\n",
      "Epoch 4/10\n",
      "469/468 [==============================] - 3s 5ms/step - loss: 0.0878 - acc: 0.9717\n",
      "Epoch 5/10\n",
      "469/468 [==============================] - 3s 5ms/step - loss: 0.0728 - acc: 0.9771\n",
      "Epoch 6/10\n",
      "469/468 [==============================] - 3s 5ms/step - loss: 0.0645 - acc: 0.9791\n",
      "Epoch 7/10\n",
      "469/468 [==============================] - 3s 5ms/step - loss: 0.0601 - acc: 0.9812\n",
      "Epoch 8/10\n",
      "469/468 [==============================] - 3s 5ms/step - loss: 0.0547 - acc: 0.9830\n",
      "Epoch 9/10\n",
      "469/468 [==============================] - 3s 5ms/step - loss: 0.0550 - acc: 0.9822\n",
      "Epoch 10/10\n",
      "469/468 [==============================] - 3s 5ms/step - loss: 0.0514 - acc: 0.9844\n"
     ]
    }
   ],
   "source": [
    "m = model_mnist_keras()\n",
    "model = KerasClassifier(model=m, clip_values=(min_, max_))\n",
    "model.fit(X_train, y_train, nb_epochs=10, batch_size=128)"
   ]
  },
  {
   "cell_type": "code",
   "execution_count": 9,
   "metadata": {
    "collapsed": true
   },
   "outputs": [],
   "source": [
    "# Craft adversarial samples with DeepFool\n",
    "#print('Create DeepFool attack')\n",
    "#adv_crafter = DeepFool(model, epsilon=0.1)"
   ]
  },
  {
   "cell_type": "code",
   "execution_count": 38,
   "metadata": {},
   "outputs": [
    {
     "name": "stdout",
     "output_type": "stream",
     "text": [
      "Create Carlini attack\n"
     ]
    }
   ],
   "source": [
    "# Craft adversarial samples with Carlini attack\n",
    "print('Create Carlini attack')\n",
    "adv_crafter = CarliniL2Method(model, confidence=0.99)"
   ]
  },
  {
   "cell_type": "code",
   "execution_count": 39,
   "metadata": {},
   "outputs": [
    {
     "name": "stdout",
     "output_type": "stream",
     "text": [
      "Craft attack test examples\n",
      "Method <class 'art.attacks.carlini.CarliniL2Method'>\n",
      "Done\n"
     ]
    }
   ],
   "source": [
    "print('Craft attack test examples')\n",
    "print('Method', type(adv_crafter))\n",
    "X_test_adv = adv_crafter.generate(X_test)\n",
    "y_test_adv = y_test\n",
    "print('Done')"
   ]
  },
  {
   "cell_type": "code",
   "execution_count": 40,
   "metadata": {},
   "outputs": [
    {
     "name": "stdout",
     "output_type": "stream",
     "text": [
      "Classifier before adversarial training\n",
      "Accuracy on test samples:  0.996\n",
      "Accuracy on adversarial samples:  0.156\n"
     ]
    }
   ],
   "source": [
    "# Evaluate the classifier on the adversarial samples\n",
    "preds = np.argmax(model.predict(X_test), axis=1)\n",
    "acc = np.sum(preds == np.argmax(y_test, axis=1)) / y_test.shape[0]\n",
    "preds_adv = np.argmax(model.predict(X_test_adv), axis=1)\n",
    "acc_adv = np.sum(preds_adv == np.argmax(y_test_adv, axis=1)) / y_test_adv.shape[0]\n",
    "print('Classifier before adversarial training')\n",
    "print('Accuracy on test samples: ', acc)\n",
    "print('Accuracy on adversarial samples: ', acc_adv)"
   ]
  },
  {
   "cell_type": "code",
   "execution_count": 41,
   "metadata": {},
   "outputs": [
    {
     "name": "stdout",
     "output_type": "stream",
     "text": [
      "Sample instance from the MNIST data set.\n"
     ]
    },
    {
     "data": {
      "image/png": "[encoded data removed]",
      "text/plain": [
       "<Figure size 432x288 with 1 Axes>"
      ]
     },
     "metadata": {},
     "output_type": "display_data"
    }
   ],
   "source": [
    "idx = 62\n",
    "x = X_test[idx: idx + 1]\n",
    "plt.imshow(np.squeeze(x), 'gray')\n",
    "print('Sample instance from the MNIST data set.')"
   ]
  },
  {
   "cell_type": "code",
   "execution_count": 42,
   "metadata": {},
   "outputs": [
    {
     "name": "stdout",
     "output_type": "stream",
     "text": [
      "Sample instance from the MNIST data set.\n"
     ]
    },
    {
     "data": {
      "image/png": "[encoded data removed]",
      "text/plain": [
       "<Figure size 432x288 with 1 Axes>"
      ]
     },
     "metadata": {},
     "output_type": "display_data"
    }
   ],
   "source": [
    "xa = X_test_adv[idx: idx + 1]\n",
    "plt.imshow(np.squeeze(xa), 'gray')\n",
    "print('Sample instance from the MNIST data set.')"
   ]
  },
  {
   "cell_type": "code",
   "execution_count": 43,
   "metadata": {},
   "outputs": [
    {
     "data": {
      "text/plain": [
       "array([[5.9266466e-05, 1.2331576e-07, 9.3980640e-07, 1.3373129e-05,\n",
       "        4.4157263e-04, 3.0202422e-02, 3.3869042e-06, 4.4917726e-04,\n",
       "        4.5184811e-04, 9.6837783e-01]], dtype=float32)"
      ]
     },
     "execution_count": 43,
     "metadata": {},
     "output_type": "execute_result"
    }
   ],
   "source": [
    "model.predict(x)"
   ]
  },
  {
   "cell_type": "code",
   "execution_count": 44,
   "metadata": {},
   "outputs": [
    {
     "data": {
      "text/plain": [
       "array([[4.7330902e-04, 1.4470531e-06, 1.4027635e-06, 2.0992356e-05,\n",
       "        7.8693719e-04, 7.8401476e-01, 1.4045305e-04, 3.1453423e-04,\n",
       "        1.9764656e-03, 2.1226983e-01]], dtype=float32)"
      ]
     },
     "execution_count": 44,
     "metadata": {},
     "output_type": "execute_result"
    }
   ],
   "source": [
    "model.predict(xa)"
   ]
  },
  {
   "cell_type": "code",
   "execution_count": null,
   "metadata": {},
   "outputs": [],
   "source": []
  },
  {
   "cell_type": "code",
   "execution_count": 49,
   "metadata": {},
   "outputs": [
    {
     "data": {
      "text/plain": [
       "True"
      ]
     },
     "execution_count": 49,
     "metadata": {},
     "output_type": "execute_result"
    }
   ],
   "source": [
    "np.allclose(m.predict(X_test), model.predict(X_test))"
   ]
  },
  {
   "cell_type": "code",
   "execution_count": 50,
   "metadata": {},
   "outputs": [
    {
     "data": {
      "text/plain": [
       "True"
      ]
     },
     "execution_count": 50,
     "metadata": {},
     "output_type": "execute_result"
    }
   ],
   "source": [
    "np.allclose(m.predict(X_test_adv), model.predict(X_test_adv))"
   ]
  },
  {
   "cell_type": "markdown",
   "metadata": {
    "collapsed": true
   },
   "source": [
    "### nn detection on probability space"
   ]
  },
  {
   "cell_type": "code",
   "execution_count": 51,
   "metadata": {
    "collapsed": true
   },
   "outputs": [],
   "source": [
    "from keras import backend as K"
   ]
  },
  {
   "cell_type": "code",
   "execution_count": 52,
   "metadata": {
    "collapsed": true
   },
   "outputs": [],
   "source": [
    "inp = m.input\n",
    "outs = {l.name: l.output for l in m.layers}\n",
    "predict_fns = {name: K.function([inp], [out]) for name, out in outs.items()}\n",
    "def predict_fn(x):\n",
    "    layer = predict_fns['logits']([x])\n",
    "    return layer[0]"
   ]
  },
  {
   "cell_type": "code",
   "execution_count": 53,
   "metadata": {},
   "outputs": [
    {
     "data": {
      "text/plain": [
       "array([[ -4.239617  ,  -1.508783  ,  -0.05489746, ...,  17.590229  ,\n",
       "         -6.341765  ,   1.1921233 ],\n",
       "       [ -0.18943153,   7.580762  ,  20.29543   , ...,  -4.062213  ,\n",
       "         -5.108464  , -13.609106  ],\n",
       "       [ -5.1454625 ,  11.899247  ,  -4.155996  , ...,  -1.5164244 ,\n",
       "         -4.4825125 ,  -6.0340548 ],\n",
       "       ...,\n",
       "       [ -7.148399  ,   1.7326717 ,  -3.6769767 , ...,  -4.9139953 ,\n",
       "          0.9870071 ,   2.7176814 ],\n",
       "       [ 11.486682  ,  -2.779151  ,   0.27755943, ...,   1.275965  ,\n",
       "          1.5617647 ,  -0.600761  ],\n",
       "       [ -1.257326  ,  -3.7156506 ,  -5.151019  , ..., -11.373561  ,\n",
       "          1.9156134 ,  -4.0326858 ]], dtype=float32)"
      ]
     },
     "execution_count": 53,
     "metadata": {},
     "output_type": "execute_result"
    }
   ],
   "source": [
    "predict_fn(X_test)"
   ]
  },
  {
   "cell_type": "code",
   "execution_count": 54,
   "metadata": {
    "collapsed": true
   },
   "outputs": [],
   "source": [
    "def _calculate_perc(df_t, nb_sigmas=3):\n",
    "    sigma_plus = df_t['test'].mean() + (nb_sigmas * df_t['test'].std())\n",
    "    print(sigma_plus)\n",
    "    pc_sigma = percentileofscore(df_t['adv'], sigma_plus) * 0.01\n",
    "    perc = 1 - pc_sigma\n",
    "    return perc, sigma_plus\n",
    "\n",
    "def calculate_perc_nn(X_train, X_test, X_test_adv, predict_fn, nb_samples=100, nb_sigmas=3):\n",
    "    \n",
    "    X_train_samples = np.random.permutation(X_train)[:nb_samples]\n",
    "    preds_train = predict_fn(X_train_samples)\n",
    "    nn = NearestNeighbors()\n",
    "    nn.fit(preds_train)\n",
    "    \n",
    "    preds_test, preds_adv = predict_fn(X_test), predict_fn(X_test_adv)\n",
    "    dist_test, idx_test = nn.kneighbors(preds_test, n_neighbors=1)\n",
    "    dist_adv, idx_adv = nn.kneighbors(preds_adv, n_neighbors=1)\n",
    "\n",
    "    df_dist = pd.DataFrame()\n",
    "    df_dist['test'] = dist_test.flatten()\n",
    "    df_dist['adv'] = dist_adv.flatten()\n",
    "    \n",
    "    perc, sigma_plus = _calculate_perc(df_dist, nb_sigmas=nb_sigmas)\n",
    "    \n",
    "    return perc, df_dist, sigma_plus"
   ]
  },
  {
   "cell_type": "code",
   "execution_count": 55,
   "metadata": {},
   "outputs": [
    {
     "data": {
      "text/plain": [
       "array([[5.9266466e-05, 1.2331576e-07, 9.3980640e-07, 1.3373128e-05,\n",
       "        4.4157260e-04, 3.0202422e-02, 3.3869039e-06, 4.4917723e-04,\n",
       "        4.5184809e-04, 9.6837783e-01]], dtype=float32)"
      ]
     },
     "execution_count": 55,
     "metadata": {},
     "output_type": "execute_result"
    }
   ],
   "source": [
    "m.predict(x)"
   ]
  },
  {
   "cell_type": "code",
   "execution_count": 56,
   "metadata": {},
   "outputs": [
    {
     "name": "stdout",
     "output_type": "stream",
     "text": [
      "10\n",
      "3.397680342197418\n",
      "0.0\n",
      "50\n",
      "0.3094337164844524\n",
      "0.31999999999999995\n",
      "100\n",
      "0.27704505706393445\n",
      "0.374\n",
      "200\n",
      "0.28144615515832483\n",
      "0.31999999999999995\n",
      "300\n",
      "0.27317868523789646\n",
      "0.31400000000000006\n",
      "400\n",
      "0.2244899148857105\n",
      "0.45799999999999996\n",
      "500\n",
      "0.24223129057916337\n",
      "0.33799999999999997\n",
      "1000\n",
      "0.2098578809378673\n",
      "0.352\n",
      "1500\n",
      "0.15405188696328814\n",
      "0.472\n",
      "2000\n",
      "0.18535638630990078\n",
      "0.29200000000000004\n",
      "2500\n",
      "0.13217955931762962\n",
      "0.374\n",
      "3000\n",
      "0.16601692152779127\n",
      "0.352\n",
      "3500\n",
      "0.17899788966797975\n",
      "0.238\n",
      "4000\n",
      "0.13548161092503375\n",
      "0.33799999999999997\n",
      "4500\n",
      "0.1368785935523923\n",
      "0.3540000000000001\n",
      "5000\n",
      "0.09047063531851982\n",
      "0.366\n"
     ]
    }
   ],
   "source": [
    "nbs = []\n",
    "percs = []\n",
    "def predict_fn(x):\n",
    "    return m.predict(x)\n",
    "for nb_samples in [10, 50, 100, 200, 300, 400, 500, 1000, 1500, 2000, 2500, 3000, 3500, 4000, 4500, 5000]:\n",
    "    print(nb_samples)\n",
    "    perc, df_dist, sigma_plus = calculate_perc_nn(X_train, X_test, X_test_adv, \n",
    "                                                  predict_fn, nb_samples=nb_samples, nb_sigmas=5)\n",
    "    print(perc)\n",
    "    nbs.append(nb_samples)\n",
    "    percs.append(perc)\n",
    "df_curve = pd.DataFrame()\n",
    "df_curve['nb_samples'] = nbs\n",
    "df_curve['percs'] = percs"
   ]
  },
  {
   "cell_type": "code",
   "execution_count": 57,
   "metadata": {},
   "outputs": [
    {
     "data": {
      "text/plain": [
       "<matplotlib.axes._subplots.AxesSubplot at 0x7f27f97632b0>"
      ]
     },
     "execution_count": 57,
     "metadata": {},
     "output_type": "execute_result"
    },
    {
     "data": {
      "image/png": "[encoded data removed]",
      "text/plain": [
       "<Figure size 1080x576 with 1 Axes>"
      ]
     },
     "metadata": {},
     "output_type": "display_data"
    }
   ],
   "source": [
    "df_curve.plot(kind='scatter', x='nb_samples', y='percs', logx=False, figsize=(15, 8))"
   ]
  },
  {
   "cell_type": "code",
   "execution_count": 63,
   "metadata": {},
   "outputs": [
    {
     "name": "stdout",
     "output_type": "stream",
     "text": [
      "0.16531605861214083\n"
     ]
    }
   ],
   "source": [
    "perc, df_dist, sigma_plus = calculate_perc_nn(X_train, X_test, X_test_adv, predict_fn, nb_samples=1000, nb_sigmas=5)"
   ]
  },
  {
   "cell_type": "code",
   "execution_count": 64,
   "metadata": {},
   "outputs": [
    {
     "data": {
      "text/plain": [
       "0.404"
      ]
     },
     "execution_count": 64,
     "metadata": {},
     "output_type": "execute_result"
    }
   ],
   "source": [
    "perc"
   ]
  },
  {
   "cell_type": "code",
   "execution_count": 65,
   "metadata": {},
   "outputs": [
    {
     "data": {
      "text/html": [
       "<div>\n",
       "<style scoped>\n",
       "    .dataframe tbody tr th:only-of-type {\n",
       "        vertical-align: middle;\n",
       "    }\n",
       "\n",
       "    .dataframe tbody tr th {\n",
       "        vertical-align: top;\n",
       "    }\n",
       "\n",
       "    .dataframe thead th {\n",
       "        text-align: right;\n",
       "    }\n",
       "</style>\n",
       "<table border=\"1\" class=\"dataframe\">\n",
       "  <thead>\n",
       "    <tr style=\"text-align: right;\">\n",
       "      <th></th>\n",
       "      <th>test</th>\n",
       "      <th>adv</th>\n",
       "    </tr>\n",
       "  </thead>\n",
       "  <tbody>\n",
       "    <tr>\n",
       "      <th>count</th>\n",
       "      <td>5.000000e+02</td>\n",
       "      <td>5.000000e+02</td>\n",
       "    </tr>\n",
       "    <tr>\n",
       "      <th>mean</th>\n",
       "      <td>5.660448e-03</td>\n",
       "      <td>1.428259e-01</td>\n",
       "    </tr>\n",
       "    <tr>\n",
       "      <th>std</th>\n",
       "      <td>3.193112e-02</td>\n",
       "      <td>1.147732e-01</td>\n",
       "    </tr>\n",
       "    <tr>\n",
       "      <th>min</th>\n",
       "      <td>4.328917e-10</td>\n",
       "      <td>4.328917e-10</td>\n",
       "    </tr>\n",
       "    <tr>\n",
       "      <th>50%</th>\n",
       "      <td>4.484740e-06</td>\n",
       "      <td>1.295569e-01</td>\n",
       "    </tr>\n",
       "    <tr>\n",
       "      <th>59.6%</th>\n",
       "      <td>1.637910e-05</td>\n",
       "      <td>1.651172e-01</td>\n",
       "    </tr>\n",
       "    <tr>\n",
       "      <th>90%</th>\n",
       "      <td>1.753229e-03</td>\n",
       "      <td>2.973511e-01</td>\n",
       "    </tr>\n",
       "    <tr>\n",
       "      <th>max</th>\n",
       "      <td>3.469733e-01</td>\n",
       "      <td>5.542469e-01</td>\n",
       "    </tr>\n",
       "  </tbody>\n",
       "</table>\n",
       "</div>"
      ],
      "text/plain": [
       "               test           adv\n",
       "count  5.000000e+02  5.000000e+02\n",
       "mean   5.660448e-03  1.428259e-01\n",
       "std    3.193112e-02  1.147732e-01\n",
       "min    4.328917e-10  4.328917e-10\n",
       "50%    4.484740e-06  1.295569e-01\n",
       "59.6%  1.637910e-05  1.651172e-01\n",
       "90%    1.753229e-03  2.973511e-01\n",
       "max    3.469733e-01  5.542469e-01"
      ]
     },
     "execution_count": 65,
     "metadata": {},
     "output_type": "execute_result"
    }
   ],
   "source": [
    "df_dist.describe(percentiles=[0.5, 0.9, 1-perc])"
   ]
  },
  {
   "cell_type": "code",
   "execution_count": 66,
   "metadata": {},
   "outputs": [
    {
     "data": {
      "text/plain": [
       "<matplotlib.axes._subplots.AxesSubplot at 0x7f27f8db9be0>"
      ]
     },
     "execution_count": 66,
     "metadata": {},
     "output_type": "execute_result"
    },
    {
     "data": {
      "image/png": "[encoded data removed]",
      "text/plain": [
       "<Figure size 1080x576 with 1 Axes>"
      ]
     },
     "metadata": {},
     "output_type": "display_data"
    }
   ],
   "source": [
    "fig, ax = plt.subplots(figsize=(15, 8))\n",
    "sns.distplot(df_dist['test'], rug=True, ax=ax, kde=False)\n",
    "plt.axvline(sigma_plus, c='r', linestyle='dashed')\n",
    "sns.distplot(df_dist['adv'], rug=True,ax=ax, kde=False)"
   ]
  },
  {
   "cell_type": "code",
   "execution_count": null,
   "metadata": {
    "collapsed": true
   },
   "outputs": [],
   "source": []
  },
  {
   "cell_type": "code",
   "execution_count": 67,
   "metadata": {
    "collapsed": true
   },
   "outputs": [],
   "source": [
    "dist_test, dist_adv = df_dist['test'].values, df_dist['adv'].values"
   ]
  },
  {
   "cell_type": "code",
   "execution_count": 68,
   "metadata": {
    "collapsed": true
   },
   "outputs": [],
   "source": [
    "x_bl =  np.concatenate((dist_test, dist_adv))\n",
    "y_bl = np.concatenate((np.zeros(len(dist_test)), np.ones(len(dist_adv))))"
   ]
  },
  {
   "cell_type": "code",
   "execution_count": 69,
   "metadata": {
    "collapsed": true
   },
   "outputs": [],
   "source": [
    "min_bl = dist_test.mean()\n",
    "max_bl = dist_adv.mean() + 10 * dist_adv.std()"
   ]
  },
  {
   "cell_type": "markdown",
   "metadata": {},
   "source": [
    "### define vae"
   ]
  },
  {
   "cell_type": "code",
   "execution_count": 70,
   "metadata": {},
   "outputs": [
    {
     "data": {
      "text/plain": [
       "<module 'model_symmetries' from '../odcd/cd/model_symmetries.py'>"
      ]
     },
     "execution_count": 70,
     "metadata": {},
     "output_type": "execute_result"
    }
   ],
   "source": [
    "reload(vsf)"
   ]
  },
  {
   "cell_type": "code",
   "execution_count": 71,
   "metadata": {},
   "outputs": [
    {
     "name": "stdout",
     "output_type": "stream",
     "text": [
      "__________________________________________________________________________________________________\n",
      "Layer (type)                    Output Shape         Param #     Connected to                     \n",
      "==================================================================================================\n",
      "encoder_input (InputLayer)      (None, 28, 28, 1)    0                                            \n",
      "__________________________________________________________________________________________________\n",
      "conv2d_3 (Conv2D)               (None, 14, 14, 64)   640         encoder_input[0][0]              \n",
      "__________________________________________________________________________________________________\n",
      "conv2d_4 (Conv2D)               (None, 7, 7, 128)    73856       conv2d_3[0][0]                   \n",
      "__________________________________________________________________________________________________\n",
      "flatten_2 (Flatten)             (None, 6272)         0           conv2d_4[0][0]                   \n",
      "__________________________________________________________________________________________________\n",
      "z_mean (Dense)                  (None, 1024)         6423552     flatten_2[0][0]                  \n",
      "__________________________________________________________________________________________________\n",
      "z_log_var (Dense)               (None, 1024)         6423552     flatten_2[0][0]                  \n",
      "__________________________________________________________________________________________________\n",
      "z (Lambda)                      (None, 1024)         0           z_mean[0][0]                     \n",
      "                                                                 z_log_var[0][0]                  \n",
      "__________________________________________________________________________________________________\n",
      "dense_2 (Dense)                 (None, 512)          524800      z[0][0]                          \n",
      "__________________________________________________________________________________________________\n",
      "dense_3 (Dense)                 (None, 6272)         3217536     dense_2[0][0]                    \n",
      "__________________________________________________________________________________________________\n",
      "reshape_1 (Reshape)             (None, 7, 7, 128)    0           dense_3[0][0]                    \n",
      "__________________________________________________________________________________________________\n",
      "conv2d_transpose_1 (Conv2DTrans (None, 14, 14, 128)  147584      reshape_1[0][0]                  \n",
      "__________________________________________________________________________________________________\n",
      "conv2d_transpose_2 (Conv2DTrans (None, 28, 28, 64)   73792       conv2d_transpose_1[0][0]         \n",
      "__________________________________________________________________________________________________\n",
      "decoder_output (Conv2DTranspose (None, 28, 28, 1)    577         conv2d_transpose_2[0][0]         \n",
      "__________________________________________________________________________________________________\n",
      "model_1 (Model)                 (None, 10)           412778      decoder_output[0][0]             \n",
      "                                                                 encoder_input[0][0]              \n",
      "==================================================================================================\n",
      "Total params: 17,298,667\n",
      "Trainable params: 16,885,889\n",
      "Non-trainable params: 412,778\n",
      "__________________________________________________________________________________________________\n"
     ]
    }
   ],
   "source": [
    "vae = vsf.VaeSymmetryFinderConvKeras(m, input_shape=(28, 28, 1), rgb_filters=1, dropout=None,\n",
    "                            output_shape=(10, ), nb_conv_layers=2, lr=0.001, strides=2,  \n",
    "                            intermediate_dim=512, variational=True, opt='Adam',\n",
    "                            latent_dim=1024, loss_type='kl_1', add_latent_loss=False)"
   ]
  },
  {
   "cell_type": "markdown",
   "metadata": {},
   "source": [
    "## Detect through symmetry "
   ]
  },
  {
   "cell_type": "code",
   "execution_count": 72,
   "metadata": {
    "collapsed": true
   },
   "outputs": [],
   "source": [
    "mcp = ModelCheckpoint('vae_weights_mnist_adv.h5', \n",
    "                      monitor='val_loss', \n",
    "                      verbose=1, \n",
    "                      save_best_only=True, \n",
    "                      save_weights_only=True, \n",
    "                      mode='auto', period=1)\n",
    "es = EarlyStopping(monitor='val_loss', patience=30, verbose=1, mode='auto')"
   ]
  },
  {
   "cell_type": "code",
   "execution_count": 73,
   "metadata": {},
   "outputs": [
    {
     "name": "stdout",
     "output_type": "stream",
     "text": [
      "Train on 60000 samples, validate on 500 samples\n",
      "Epoch 1/150\n",
      "60000/60000 [==============================] - 12s 196us/step - loss: 0.4331 - val_loss: 0.0731\n",
      "\n",
      "Epoch 00001: val_loss improved from inf to 0.07314, saving model to vae_weights_mnist_adv.h5\n",
      "Epoch 2/150\n",
      "60000/60000 [==============================] - 10s 163us/step - loss: 0.1100 - val_loss: 0.0625\n",
      "\n",
      "Epoch 00002: val_loss improved from 0.07314 to 0.06250, saving model to vae_weights_mnist_adv.h5\n",
      "Epoch 3/150\n",
      "60000/60000 [==============================] - 10s 163us/step - loss: 0.0944 - val_loss: 0.0385\n",
      "\n",
      "Epoch 00003: val_loss improved from 0.06250 to 0.03850, saving model to vae_weights_mnist_adv.h5\n",
      "Epoch 4/150\n",
      "60000/60000 [==============================] - 10s 163us/step - loss: 0.0856 - val_loss: 0.0324\n",
      "\n",
      "Epoch 00004: val_loss improved from 0.03850 to 0.03244, saving model to vae_weights_mnist_adv.h5\n",
      "Epoch 5/150\n",
      "60000/60000 [==============================] - 10s 163us/step - loss: 0.0815 - val_loss: 0.0270\n",
      "\n",
      "Epoch 00005: val_loss improved from 0.03244 to 0.02701, saving model to vae_weights_mnist_adv.h5\n",
      "Epoch 6/150\n",
      "60000/60000 [==============================] - 10s 163us/step - loss: 0.0763 - val_loss: 0.0287\n",
      "\n",
      "Epoch 00006: val_loss did not improve from 0.02701\n",
      "Epoch 7/150\n",
      "60000/60000 [==============================] - 10s 165us/step - loss: 0.0767 - val_loss: 0.0333\n",
      "\n",
      "Epoch 00007: val_loss did not improve from 0.02701\n",
      "Epoch 8/150\n",
      "60000/60000 [==============================] - 10s 163us/step - loss: 0.0744 - val_loss: 0.0299\n",
      "\n",
      "Epoch 00008: val_loss did not improve from 0.02701\n",
      "Epoch 9/150\n",
      "60000/60000 [==============================] - 10s 163us/step - loss: 0.0739 - val_loss: 0.0333\n",
      "\n",
      "Epoch 00009: val_loss did not improve from 0.02701\n",
      "Epoch 10/150\n",
      "60000/60000 [==============================] - 10s 163us/step - loss: 0.0723 - val_loss: 0.0387\n",
      "\n",
      "Epoch 00010: val_loss did not improve from 0.02701\n",
      "Epoch 11/150\n",
      "60000/60000 [==============================] - 10s 163us/step - loss: 0.0725 - val_loss: 0.0303\n",
      "\n",
      "Epoch 00011: val_loss did not improve from 0.02701\n",
      "Epoch 12/150\n",
      "60000/60000 [==============================] - 10s 163us/step - loss: 0.0710 - val_loss: 0.0307\n",
      "\n",
      "Epoch 00012: val_loss did not improve from 0.02701\n",
      "Epoch 13/150\n",
      "60000/60000 [==============================] - 10s 163us/step - loss: 0.0710 - val_loss: 0.0366\n",
      "\n",
      "Epoch 00013: val_loss did not improve from 0.02701\n",
      "Epoch 14/150\n",
      "60000/60000 [==============================] - 10s 163us/step - loss: 0.0697 - val_loss: 0.0314\n",
      "\n",
      "Epoch 00014: val_loss did not improve from 0.02701\n",
      "Epoch 15/150\n",
      "60000/60000 [==============================] - 10s 164us/step - loss: 0.0687 - val_loss: 0.0313\n",
      "\n",
      "Epoch 00015: val_loss did not improve from 0.02701\n",
      "Epoch 16/150\n",
      "60000/60000 [==============================] - 10s 163us/step - loss: 0.0675 - val_loss: 0.0300\n",
      "\n",
      "Epoch 00016: val_loss did not improve from 0.02701\n",
      "Epoch 17/150\n",
      "60000/60000 [==============================] - 10s 163us/step - loss: 0.0702 - val_loss: 0.0317\n",
      "\n",
      "Epoch 00017: val_loss did not improve from 0.02701\n",
      "Epoch 18/150\n",
      "60000/60000 [==============================] - 10s 163us/step - loss: 0.0662 - val_loss: 0.0255\n",
      "\n",
      "Epoch 00018: val_loss improved from 0.02701 to 0.02550, saving model to vae_weights_mnist_adv.h5\n",
      "Epoch 19/150\n",
      "60000/60000 [==============================] - 10s 163us/step - loss: 0.0687 - val_loss: 0.0223\n",
      "\n",
      "Epoch 00019: val_loss improved from 0.02550 to 0.02228, saving model to vae_weights_mnist_adv.h5\n",
      "Epoch 20/150\n",
      "60000/60000 [==============================] - 10s 163us/step - loss: 0.0662 - val_loss: 0.0190\n",
      "\n",
      "Epoch 00020: val_loss improved from 0.02228 to 0.01903, saving model to vae_weights_mnist_adv.h5\n",
      "Epoch 21/150\n",
      "60000/60000 [==============================] - 10s 163us/step - loss: 0.0651 - val_loss: 0.0233\n",
      "\n",
      "Epoch 00021: val_loss did not improve from 0.01903\n",
      "Epoch 22/150\n",
      "60000/60000 [==============================] - 10s 164us/step - loss: 0.0642 - val_loss: 0.0427\n",
      "\n",
      "Epoch 00022: val_loss did not improve from 0.01903\n",
      "Epoch 23/150\n",
      "60000/60000 [==============================] - 10s 163us/step - loss: 0.0648 - val_loss: 0.0201\n",
      "\n",
      "Epoch 00023: val_loss did not improve from 0.01903\n",
      "Epoch 24/150\n",
      "60000/60000 [==============================] - 10s 163us/step - loss: 0.0642 - val_loss: 0.0254\n",
      "\n",
      "Epoch 00024: val_loss did not improve from 0.01903\n",
      "Epoch 25/150\n",
      "60000/60000 [==============================] - 10s 163us/step - loss: 0.0634 - val_loss: 0.0199\n",
      "\n",
      "Epoch 00025: val_loss did not improve from 0.01903\n",
      "Epoch 26/150\n",
      "60000/60000 [==============================] - 10s 163us/step - loss: 0.0624 - val_loss: 0.0328\n",
      "\n",
      "Epoch 00026: val_loss did not improve from 0.01903\n",
      "Epoch 27/150\n",
      "60000/60000 [==============================] - 10s 163us/step - loss: 0.0640 - val_loss: 0.0209\n",
      "\n",
      "Epoch 00027: val_loss did not improve from 0.01903\n",
      "Epoch 28/150\n",
      "60000/60000 [==============================] - 10s 166us/step - loss: 0.0641 - val_loss: 0.0221\n",
      "\n",
      "Epoch 00028: val_loss did not improve from 0.01903\n",
      "Epoch 29/150\n",
      "60000/60000 [==============================] - 10s 163us/step - loss: 0.0619 - val_loss: 0.0270\n",
      "\n",
      "Epoch 00029: val_loss did not improve from 0.01903\n",
      "Epoch 30/150\n",
      "60000/60000 [==============================] - 10s 163us/step - loss: 0.0643 - val_loss: 0.0285\n",
      "\n",
      "Epoch 00030: val_loss did not improve from 0.01903\n",
      "Epoch 31/150\n",
      "60000/60000 [==============================] - 10s 164us/step - loss: 0.0615 - val_loss: 0.0296\n",
      "\n",
      "Epoch 00031: val_loss did not improve from 0.01903\n",
      "Epoch 32/150\n",
      "60000/60000 [==============================] - 10s 163us/step - loss: 0.0615 - val_loss: 0.0241\n",
      "\n",
      "Epoch 00032: val_loss did not improve from 0.01903\n",
      "Epoch 33/150\n",
      "60000/60000 [==============================] - 10s 163us/step - loss: 0.0618 - val_loss: 0.0335\n",
      "\n",
      "Epoch 00033: val_loss did not improve from 0.01903\n",
      "Epoch 34/150\n",
      "60000/60000 [==============================] - 10s 163us/step - loss: 0.0616 - val_loss: 0.0284\n",
      "\n",
      "Epoch 00034: val_loss did not improve from 0.01903\n",
      "Epoch 35/150\n",
      "60000/60000 [==============================] - 10s 163us/step - loss: 0.0609 - val_loss: 0.0216\n",
      "\n",
      "Epoch 00035: val_loss did not improve from 0.01903\n",
      "Epoch 36/150\n",
      "60000/60000 [==============================] - 10s 163us/step - loss: 0.0612 - val_loss: 0.0306\n",
      "\n",
      "Epoch 00036: val_loss did not improve from 0.01903\n",
      "Epoch 37/150\n",
      "60000/60000 [==============================] - 10s 163us/step - loss: 0.0606 - val_loss: 0.0191\n",
      "\n",
      "Epoch 00037: val_loss did not improve from 0.01903\n",
      "Epoch 38/150\n",
      "60000/60000 [==============================] - 10s 164us/step - loss: 0.0596 - val_loss: 0.0154\n",
      "\n",
      "Epoch 00038: val_loss improved from 0.01903 to 0.01542, saving model to vae_weights_mnist_adv.h5\n",
      "Epoch 39/150\n",
      "60000/60000 [==============================] - 10s 164us/step - loss: 0.0605 - val_loss: 0.0191\n",
      "\n",
      "Epoch 00039: val_loss did not improve from 0.01542\n",
      "Epoch 40/150\n",
      "60000/60000 [==============================] - 10s 163us/step - loss: 0.0615 - val_loss: 0.0206\n",
      "\n",
      "Epoch 00040: val_loss did not improve from 0.01542\n",
      "Epoch 41/150\n",
      "60000/60000 [==============================] - 10s 163us/step - loss: 0.0595 - val_loss: 0.0261\n",
      "\n",
      "Epoch 00041: val_loss did not improve from 0.01542\n",
      "Epoch 42/150\n",
      "60000/60000 [==============================] - 10s 163us/step - loss: 0.0621 - val_loss: 0.0274\n",
      "\n",
      "Epoch 00042: val_loss did not improve from 0.01542\n",
      "Epoch 43/150\n",
      "60000/60000 [==============================] - 10s 163us/step - loss: 0.0604 - val_loss: 0.0245\n",
      "\n",
      "Epoch 00043: val_loss did not improve from 0.01542\n",
      "Epoch 44/150\n",
      "60000/60000 [==============================] - 10s 163us/step - loss: 0.0618 - val_loss: 0.0238\n",
      "\n",
      "Epoch 00044: val_loss did not improve from 0.01542\n",
      "Epoch 45/150\n",
      "60000/60000 [==============================] - 10s 163us/step - loss: 0.0611 - val_loss: 0.0274\n",
      "\n",
      "Epoch 00045: val_loss did not improve from 0.01542\n",
      "Epoch 46/150\n",
      "60000/60000 [==============================] - 10s 163us/step - loss: 0.0592 - val_loss: 0.0203\n",
      "\n",
      "Epoch 00046: val_loss did not improve from 0.01542\n",
      "Epoch 47/150\n",
      "60000/60000 [==============================] - 10s 163us/step - loss: 0.0591 - val_loss: 0.0262\n",
      "\n",
      "Epoch 00047: val_loss did not improve from 0.01542\n",
      "Epoch 48/150\n",
      "60000/60000 [==============================] - 10s 163us/step - loss: 0.0610 - val_loss: 0.0234\n",
      "\n",
      "Epoch 00048: val_loss did not improve from 0.01542\n",
      "Epoch 49/150\n"
     ]
    },
    {
     "name": "stdout",
     "output_type": "stream",
     "text": [
      "60000/60000 [==============================] - 10s 163us/step - loss: 0.0611 - val_loss: 0.0171\n",
      "\n",
      "Epoch 00049: val_loss did not improve from 0.01542\n",
      "Epoch 50/150\n",
      "60000/60000 [==============================] - 10s 163us/step - loss: 0.0586 - val_loss: 0.0243\n",
      "\n",
      "Epoch 00050: val_loss did not improve from 0.01542\n",
      "Epoch 51/150\n",
      "60000/60000 [==============================] - 10s 163us/step - loss: 0.0599 - val_loss: 0.0252\n",
      "\n",
      "Epoch 00051: val_loss did not improve from 0.01542\n",
      "Epoch 52/150\n",
      "60000/60000 [==============================] - 10s 163us/step - loss: 0.0601 - val_loss: 0.0192\n",
      "\n",
      "Epoch 00052: val_loss did not improve from 0.01542\n",
      "Epoch 53/150\n",
      "60000/60000 [==============================] - 10s 163us/step - loss: 0.0577 - val_loss: 0.0234\n",
      "\n",
      "Epoch 00053: val_loss did not improve from 0.01542\n",
      "Epoch 54/150\n",
      "60000/60000 [==============================] - 10s 163us/step - loss: 0.0609 - val_loss: 0.0245\n",
      "\n",
      "Epoch 00054: val_loss did not improve from 0.01542\n",
      "Epoch 55/150\n",
      "60000/60000 [==============================] - 10s 163us/step - loss: 0.0592 - val_loss: 0.0237\n",
      "\n",
      "Epoch 00055: val_loss did not improve from 0.01542\n",
      "Epoch 56/150\n",
      "60000/60000 [==============================] - 10s 163us/step - loss: 0.0574 - val_loss: 0.0292\n",
      "\n",
      "Epoch 00056: val_loss did not improve from 0.01542\n",
      "Epoch 57/150\n",
      "60000/60000 [==============================] - 10s 163us/step - loss: 0.0594 - val_loss: 0.0246\n",
      "\n",
      "Epoch 00057: val_loss did not improve from 0.01542\n",
      "Epoch 58/150\n",
      "60000/60000 [==============================] - 10s 163us/step - loss: 0.0605 - val_loss: 0.0207\n",
      "\n",
      "Epoch 00058: val_loss did not improve from 0.01542\n",
      "Epoch 59/150\n",
      "60000/60000 [==============================] - 10s 165us/step - loss: 0.0591 - val_loss: 0.0235\n",
      "\n",
      "Epoch 00059: val_loss did not improve from 0.01542\n",
      "Epoch 60/150\n",
      "60000/60000 [==============================] - 10s 165us/step - loss: 0.0590 - val_loss: 0.0229\n",
      "\n",
      "Epoch 00060: val_loss did not improve from 0.01542\n",
      "Epoch 61/150\n",
      "60000/60000 [==============================] - 10s 163us/step - loss: 0.0591 - val_loss: 0.0286\n",
      "\n",
      "Epoch 00061: val_loss did not improve from 0.01542\n",
      "Epoch 62/150\n",
      "60000/60000 [==============================] - 10s 163us/step - loss: 0.0580 - val_loss: 0.0252\n",
      "\n",
      "Epoch 00062: val_loss did not improve from 0.01542\n",
      "Epoch 63/150\n",
      "60000/60000 [==============================] - 10s 163us/step - loss: 0.0567 - val_loss: 0.0188\n",
      "\n",
      "Epoch 00063: val_loss did not improve from 0.01542\n",
      "Epoch 64/150\n",
      "60000/60000 [==============================] - 10s 164us/step - loss: 0.0598 - val_loss: 0.0213\n",
      "\n",
      "Epoch 00064: val_loss did not improve from 0.01542\n",
      "Epoch 65/150\n",
      "60000/60000 [==============================] - 10s 163us/step - loss: 0.0573 - val_loss: 0.0227\n",
      "\n",
      "Epoch 00065: val_loss did not improve from 0.01542\n",
      "Epoch 66/150\n",
      "60000/60000 [==============================] - 10s 163us/step - loss: 0.0586 - val_loss: 0.0190\n",
      "\n",
      "Epoch 00066: val_loss did not improve from 0.01542\n",
      "Epoch 67/150\n",
      "60000/60000 [==============================] - 10s 163us/step - loss: 0.0593 - val_loss: 0.0191\n",
      "\n",
      "Epoch 00067: val_loss did not improve from 0.01542\n",
      "Epoch 68/150\n",
      "60000/60000 [==============================] - 10s 163us/step - loss: 0.0575 - val_loss: 0.0175\n",
      "\n",
      "Epoch 00068: val_loss did not improve from 0.01542\n",
      "Epoch 00068: early stopping\n"
     ]
    }
   ],
   "source": [
    "vae.fit(X_train, x_test=X_test, epochs=150, callbacks=[mcp, es])"
   ]
  },
  {
   "cell_type": "code",
   "execution_count": 74,
   "metadata": {
    "collapsed": true
   },
   "outputs": [],
   "source": [
    "vae.save(arch_path='vae_arch_mnist_adv.json', weights_path='vae_weights_mnist_adv_2.h5', save_model_only=True)"
   ]
  },
  {
   "cell_type": "code",
   "execution_count": 75,
   "metadata": {},
   "outputs": [
    {
     "name": "stdout",
     "output_type": "stream",
     "text": [
      "Loaded model from disk\n"
     ]
    }
   ],
   "source": [
    "vae_loaded = vsf.load_vae(arch_path='vae_arch_mnist_adv.json', \n",
    "                          weights_path='vae_weights_mnist_adv.h5', \n",
    "                         model_type='keras', signal_type='kl_1')\n",
    "#vae_loaded = vae"
   ]
  },
  {
   "cell_type": "code",
   "execution_count": null,
   "metadata": {
    "collapsed": true
   },
   "outputs": [],
   "source": []
  },
  {
   "cell_type": "markdown",
   "metadata": {},
   "source": [
    "## Stream"
   ]
  },
  {
   "cell_type": "code",
   "execution_count": 76,
   "metadata": {
    "collapsed": true
   },
   "outputs": [],
   "source": [
    "# Symmetry signal\n",
    "#X_train_perm = np.random.permutation(X_train)\n",
    "#X_test_perm = np.random.permutation(X_test)\n",
    "#X_adv_perm = np.random.permutation(X_adv)\n",
    "\n",
    "amp = 1\n",
    "kl_train = vae_loaded.signal(X_train, amp=amp)\n",
    "kl_test = vae_loaded.signal(X_test, amp=amp)\n",
    "kl_adv = vae_loaded.signal(X_test_adv, amp=amp)\n",
    "\n",
    "baseline_std_plus = kl_train.mean() + kl_train.std()\n",
    "baseline_std_minus = kl_train.mean() - kl_train.std()\n",
    "\n",
    "kl_concat = np.concatenate((kl_test, kl_adv))\n",
    "tr = kl_test.shape[0]"
   ]
  },
  {
   "cell_type": "code",
   "execution_count": 77,
   "metadata": {},
   "outputs": [
    {
     "data": {
      "text/plain": [
       "array([[5.9266466e-05, 1.2331576e-07, 9.3980640e-07, 1.3373128e-05,\n",
       "        4.4157260e-04, 3.0202422e-02, 3.3869039e-06, 4.4917723e-04,\n",
       "        4.5184809e-04, 9.6837783e-01]], dtype=float32)"
      ]
     },
     "execution_count": 77,
     "metadata": {},
     "output_type": "execute_result"
    }
   ],
   "source": [
    "vae_loaded.predict_original(x)"
   ]
  },
  {
   "cell_type": "code",
   "execution_count": 78,
   "metadata": {},
   "outputs": [
    {
     "data": {
      "text/plain": [
       "array([[6.9588440e-04, 6.5719429e-04, 2.8782123e-04, 6.4832112e-03,\n",
       "        1.2274800e-02, 2.7306211e-01, 1.8345453e-04, 2.0224319e-03,\n",
       "        6.2548118e-03, 6.9807822e-01]], dtype=float32)"
      ]
     },
     "execution_count": 78,
     "metadata": {},
     "output_type": "execute_result"
    }
   ],
   "source": [
    "vae_loaded.transform_predict(x)"
   ]
  },
  {
   "cell_type": "code",
   "execution_count": 79,
   "metadata": {},
   "outputs": [
    {
     "data": {
      "text/plain": [
       "array([[4.7330896e-04, 1.4470530e-06, 1.4027634e-06, 2.0992355e-05,\n",
       "        7.8693713e-04, 7.8401464e-01, 1.4045303e-04, 3.1453421e-04,\n",
       "        1.9764653e-03, 2.1226981e-01]], dtype=float32)"
      ]
     },
     "execution_count": 79,
     "metadata": {},
     "output_type": "execute_result"
    }
   ],
   "source": [
    "vae_loaded.predict_original(xa)"
   ]
  },
  {
   "cell_type": "code",
   "execution_count": 80,
   "metadata": {},
   "outputs": [
    {
     "data": {
      "text/plain": [
       "array([[6.6938478e-04, 1.2799536e-03, 2.6107987e-04, 6.9390726e-03,\n",
       "        1.0766250e-02, 7.2127670e-01, 5.2001892e-04, 1.1484683e-03,\n",
       "        8.4588155e-03, 2.4868020e-01]], dtype=float32)"
      ]
     },
     "execution_count": 80,
     "metadata": {},
     "output_type": "execute_result"
    }
   ],
   "source": [
    "vae_loaded.transform_predict(xa)"
   ]
  },
  {
   "cell_type": "code",
   "execution_count": 81,
   "metadata": {},
   "outputs": [
    {
     "name": "stdout",
     "output_type": "stream",
     "text": [
      "0.014832254 0.08678058\n"
     ]
    }
   ],
   "source": [
    "print(kl_train.mean(), kl_train.std())"
   ]
  },
  {
   "cell_type": "code",
   "execution_count": 82,
   "metadata": {},
   "outputs": [
    {
     "name": "stdout",
     "output_type": "stream",
     "text": [
      "0.014793792 0.07050221\n"
     ]
    }
   ],
   "source": [
    "print(kl_test.mean(), kl_test.std())"
   ]
  },
  {
   "cell_type": "code",
   "execution_count": 83,
   "metadata": {},
   "outputs": [
    {
     "name": "stdout",
     "output_type": "stream",
     "text": [
      "1.5762141 1.6102718\n"
     ]
    }
   ],
   "source": [
    "print(kl_adv.mean(), kl_adv.std())"
   ]
  },
  {
   "cell_type": "markdown",
   "metadata": {},
   "source": [
    "### Detector curves"
   ]
  },
  {
   "cell_type": "code",
   "execution_count": 84,
   "metadata": {
    "collapsed": true
   },
   "outputs": [],
   "source": [
    "x_kl = np.concatenate((kl_test, kl_adv))\n",
    "y_kl = np.concatenate((np.zeros(len(kl_test)), np.ones(len(kl_adv))))"
   ]
  },
  {
   "cell_type": "code",
   "execution_count": 85,
   "metadata": {
    "collapsed": true
   },
   "outputs": [],
   "source": [
    "min_train = kl_train.mean()\n",
    "max_train = kl_train.mean() + 10 * kl_train.std()"
   ]
  },
  {
   "cell_type": "code",
   "execution_count": 86,
   "metadata": {
    "collapsed": true
   },
   "outputs": [],
   "source": [
    "trs = np.arange(min_train, max_train, 0.001)"
   ]
  },
  {
   "cell_type": "code",
   "execution_count": 87,
   "metadata": {
    "collapsed": true
   },
   "outputs": [],
   "source": [
    "#X_train_samples = np.random.permutation(X_train)[:100]\n",
    "#preds_train = predict_fn(X_train_samples)\n",
    "#nn = NearestNeighbors()\n",
    "#nn.fit(preds_train)\n",
    "    \n",
    "#preds_test, preds_adv = predict_fn(X_test), predict_fn(X_test_adv)\n",
    "#dist_test, idx_test = nn.kneighbors(preds_test, n_neighbors=1)\n",
    "#dist_adv, idx_adv = nn.kneighbors(preds_adv, n_neighbors=1)"
   ]
  },
  {
   "cell_type": "code",
   "execution_count": 88,
   "metadata": {
    "collapsed": true
   },
   "outputs": [],
   "source": [
    "#x_bl =  np.concatenate((dist_test, dist_adv))\n",
    "#y_bl = np.concatenate((np.zeros(len(dist_test)), np.ones(len(dist_adv))))"
   ]
  },
  {
   "cell_type": "code",
   "execution_count": 89,
   "metadata": {
    "collapsed": true
   },
   "outputs": [],
   "source": [
    "min_bl = dist_test.mean()\n",
    "max_bl = dist_adv.mean() + 10 * dist_adv.std()"
   ]
  },
  {
   "cell_type": "code",
   "execution_count": 90,
   "metadata": {},
   "outputs": [
    {
     "data": {
      "text/plain": [
       "0.8826380325481296"
      ]
     },
     "execution_count": 90,
     "metadata": {},
     "output_type": "execute_result"
    }
   ],
   "source": [
    "max_train"
   ]
  },
  {
   "cell_type": "code",
   "execution_count": 91,
   "metadata": {},
   "outputs": [
    {
     "data": {
      "text/plain": [
       "1.289409420807023"
      ]
     },
     "execution_count": 91,
     "metadata": {},
     "output_type": "execute_result"
    }
   ],
   "source": [
    "max_bl"
   ]
  },
  {
   "cell_type": "code",
   "execution_count": 92,
   "metadata": {
    "collapsed": true
   },
   "outputs": [],
   "source": [
    "trs = np.arange(0, max_bl, 0.001)"
   ]
  },
  {
   "cell_type": "code",
   "execution_count": 93,
   "metadata": {
    "collapsed": true
   },
   "outputs": [],
   "source": [
    "def predict_adv(x, tr):\n",
    "    return (x >= tr).astype(int)"
   ]
  },
  {
   "cell_type": "code",
   "execution_count": null,
   "metadata": {
    "collapsed": true
   },
   "outputs": [],
   "source": []
  },
  {
   "cell_type": "code",
   "execution_count": 94,
   "metadata": {},
   "outputs": [
    {
     "name": "stderr",
     "output_type": "stream",
     "text": [
      "/home/Gigio/anaconda3/lib/python3.6/site-packages/sklearn/metrics/classification.py:1437: UndefinedMetricWarning: Precision is ill-defined and being set to 0.0 due to no predicted samples.\n",
      "  'precision', 'predicted', average, warn_for)\n"
     ]
    }
   ],
   "source": [
    "tresholds, precs, recals, accs = [], [], [], []\n",
    "precs_bl, recals_bl, accs_bl = [], [], []\n",
    "for tr in trs:\n",
    "    preds_kl = predict_adv(x_kl, tr)\n",
    "    preds_bl = predict_adv(x_bl, tr)\n",
    "    \n",
    "    prec = precision_score(y_kl, preds_kl)\n",
    "    rec = recall_score(y_kl, preds_kl)\n",
    "    acc= accuracy_score(y_kl, preds_kl)\n",
    "\n",
    "    prec_bl = precision_score(y_bl, preds_bl)\n",
    "    rec_bl = recall_score(y_bl, preds_bl)\n",
    "    acc_bl = accuracy_score(y_bl, preds_bl)\n",
    "    \n",
    "    tresholds.append(tr)\n",
    "    precs.append(prec)\n",
    "    recals.append(rec)\n",
    "    accs.append(acc)\n",
    "    \n",
    "    precs_bl.append(prec_bl)\n",
    "    recals_bl.append(rec_bl)\n",
    "    accs_bl.append(acc_bl)\n",
    "\n",
    "\n",
    "df_scores = pd.DataFrame()\n",
    "df_scores['trs'] = tresholds\n",
    "df_scores['precs'] = precs\n",
    "df_scores['recs'] = recals\n",
    "df_scores['accs'] = accs\n",
    "\n",
    "df_scores['precs_bl'] = precs_bl\n",
    "df_scores['recs_bl'] = recals_bl\n",
    "df_scores['accs_bl'] = accs_bl"
   ]
  },
  {
   "cell_type": "code",
   "execution_count": 95,
   "metadata": {},
   "outputs": [
    {
     "data": {
      "text/plain": [
       "<matplotlib.axes._subplots.AxesSubplot at 0x7f27f7be6898>"
      ]
     },
     "execution_count": 95,
     "metadata": {},
     "output_type": "execute_result"
    },
    {
     "data": {
      "image/png": "[encoded data removed]",
      "text/plain": [
       "<Figure size 432x288 with 1 Axes>"
      ]
     },
     "metadata": {},
     "output_type": "display_data"
    }
   ],
   "source": [
    "df_scores.plot(x='recs', y='precs')"
   ]
  },
  {
   "cell_type": "code",
   "execution_count": 96,
   "metadata": {},
   "outputs": [
    {
     "data": {
      "text/plain": [
       "<matplotlib.axes._subplots.AxesSubplot at 0x7f27f7ac9e48>"
      ]
     },
     "execution_count": 96,
     "metadata": {},
     "output_type": "execute_result"
    },
    {
     "data": {
      "image/png": "[encoded data removed]",
      "text/plain": [
       "<Figure size 432x288 with 1 Axes>"
      ]
     },
     "metadata": {},
     "output_type": "display_data"
    }
   ],
   "source": [
    "df_scores.plot(x='recs_bl', y='precs_bl')"
   ]
  },
  {
   "cell_type": "code",
   "execution_count": 97,
   "metadata": {},
   "outputs": [
    {
     "data": {
      "text/plain": [
       "<matplotlib.axes._subplots.AxesSubplot at 0x7f27f7a87390>"
      ]
     },
     "execution_count": 97,
     "metadata": {},
     "output_type": "execute_result"
    },
    {
     "data": {
      "image/png": "[encoded data removed]",
      "text/plain": [
       "<Figure size 432x288 with 1 Axes>"
      ]
     },
     "metadata": {},
     "output_type": "display_data"
    }
   ],
   "source": [
    "df_scores.plot(x= 'trs',y=['accs', 'accs_bl'])"
   ]
  },
  {
   "cell_type": "code",
   "execution_count": 98,
   "metadata": {},
   "outputs": [
    {
     "data": {
      "text/html": [
       "<div>\n",
       "<style scoped>\n",
       "    .dataframe tbody tr th:only-of-type {\n",
       "        vertical-align: middle;\n",
       "    }\n",
       "\n",
       "    .dataframe tbody tr th {\n",
       "        vertical-align: top;\n",
       "    }\n",
       "\n",
       "    .dataframe thead th {\n",
       "        text-align: right;\n",
       "    }\n",
       "</style>\n",
       "<table border=\"1\" class=\"dataframe\">\n",
       "  <thead>\n",
       "    <tr style=\"text-align: right;\">\n",
       "      <th></th>\n",
       "      <th>trs</th>\n",
       "      <th>precs</th>\n",
       "      <th>recs</th>\n",
       "      <th>accs</th>\n",
       "      <th>precs_bl</th>\n",
       "      <th>recs_bl</th>\n",
       "      <th>accs_bl</th>\n",
       "    </tr>\n",
       "  </thead>\n",
       "  <tbody>\n",
       "    <tr>\n",
       "      <th>count</th>\n",
       "      <td>1290.000000</td>\n",
       "      <td>1290.000000</td>\n",
       "      <td>1290.000000</td>\n",
       "      <td>1290.000000</td>\n",
       "      <td>1290.000000</td>\n",
       "      <td>1290.000000</td>\n",
       "      <td>1290.000000</td>\n",
       "    </tr>\n",
       "    <tr>\n",
       "      <th>mean</th>\n",
       "      <td>0.644500</td>\n",
       "      <td>0.986304</td>\n",
       "      <td>0.647913</td>\n",
       "      <td>0.817963</td>\n",
       "      <td>0.419543</td>\n",
       "      <td>0.111144</td>\n",
       "      <td>0.553033</td>\n",
       "    </tr>\n",
       "    <tr>\n",
       "      <th>std</th>\n",
       "      <td>0.372535</td>\n",
       "      <td>0.030348</td>\n",
       "      <td>0.111336</td>\n",
       "      <td>0.050498</td>\n",
       "      <td>0.483406</td>\n",
       "      <td>0.221744</td>\n",
       "      <td>0.105355</td>\n",
       "    </tr>\n",
       "    <tr>\n",
       "      <th>min</th>\n",
       "      <td>0.000000</td>\n",
       "      <td>0.500000</td>\n",
       "      <td>0.478000</td>\n",
       "      <td>0.500000</td>\n",
       "      <td>0.000000</td>\n",
       "      <td>0.000000</td>\n",
       "      <td>0.500000</td>\n",
       "    </tr>\n",
       "    <tr>\n",
       "      <th>25%</th>\n",
       "      <td>0.322250</td>\n",
       "      <td>0.989610</td>\n",
       "      <td>0.550000</td>\n",
       "      <td>0.774000</td>\n",
       "      <td>0.000000</td>\n",
       "      <td>0.000000</td>\n",
       "      <td>0.500000</td>\n",
       "    </tr>\n",
       "    <tr>\n",
       "      <th>50%</th>\n",
       "      <td>0.644500</td>\n",
       "      <td>0.996269</td>\n",
       "      <td>0.636000</td>\n",
       "      <td>0.815500</td>\n",
       "      <td>0.000000</td>\n",
       "      <td>0.000000</td>\n",
       "      <td>0.500000</td>\n",
       "    </tr>\n",
       "    <tr>\n",
       "      <th>75%</th>\n",
       "      <td>0.966750</td>\n",
       "      <td>0.996711</td>\n",
       "      <td>0.758000</td>\n",
       "      <td>0.871000</td>\n",
       "      <td>0.971072</td>\n",
       "      <td>0.063500</td>\n",
       "      <td>0.528750</td>\n",
       "    </tr>\n",
       "    <tr>\n",
       "      <th>max</th>\n",
       "      <td>1.289000</td>\n",
       "      <td>1.000000</td>\n",
       "      <td>1.000000</td>\n",
       "      <td>0.891000</td>\n",
       "      <td>1.000000</td>\n",
       "      <td>1.000000</td>\n",
       "      <td>0.891000</td>\n",
       "    </tr>\n",
       "  </tbody>\n",
       "</table>\n",
       "</div>"
      ],
      "text/plain": [
       "               trs        precs         recs         accs     precs_bl  \\\n",
       "count  1290.000000  1290.000000  1290.000000  1290.000000  1290.000000   \n",
       "mean      0.644500     0.986304     0.647913     0.817963     0.419543   \n",
       "std       0.372535     0.030348     0.111336     0.050498     0.483406   \n",
       "min       0.000000     0.500000     0.478000     0.500000     0.000000   \n",
       "25%       0.322250     0.989610     0.550000     0.774000     0.000000   \n",
       "50%       0.644500     0.996269     0.636000     0.815500     0.000000   \n",
       "75%       0.966750     0.996711     0.758000     0.871000     0.971072   \n",
       "max       1.289000     1.000000     1.000000     0.891000     1.000000   \n",
       "\n",
       "           recs_bl      accs_bl  \n",
       "count  1290.000000  1290.000000  \n",
       "mean      0.111144     0.553033  \n",
       "std       0.221744     0.105355  \n",
       "min       0.000000     0.500000  \n",
       "25%       0.000000     0.500000  \n",
       "50%       0.000000     0.500000  \n",
       "75%       0.063500     0.528750  \n",
       "max       1.000000     0.891000  "
      ]
     },
     "execution_count": 98,
     "metadata": {},
     "output_type": "execute_result"
    }
   ],
   "source": [
    "df_scores.describe()"
   ]
  },
  {
   "cell_type": "code",
   "execution_count": null,
   "metadata": {
    "collapsed": true
   },
   "outputs": [],
   "source": []
  },
  {
   "cell_type": "markdown",
   "metadata": {},
   "source": [
    "### Signal histograms"
   ]
  },
  {
   "cell_type": "code",
   "execution_count": 99,
   "metadata": {
    "collapsed": true
   },
   "outputs": [],
   "source": [
    "df_kl = pd.DataFrame()\n",
    "df_kl['test'] = kl_test\n",
    "df_kl['adv'] = kl_adv"
   ]
  },
  {
   "cell_type": "code",
   "execution_count": 100,
   "metadata": {
    "collapsed": true
   },
   "outputs": [],
   "source": [
    "def _calculate(df_tmp, nb_sigmas=3):\n",
    "    print(nb_sigmas)\n",
    "    sp = df_tmp['test'].mean() + (nb_sigmas * df_tmp['adv'].std())\n",
    "    ps = percentileofscore(df_tmp['adv'], sp) * 0.01\n",
    "    p = 1 - ps\n",
    "    return p, sp\n"
   ]
  },
  {
   "cell_type": "code",
   "execution_count": 101,
   "metadata": {},
   "outputs": [
    {
     "name": "stdout",
     "output_type": "stream",
     "text": [
      "3\n"
     ]
    },
    {
     "data": {
      "text/plain": [
       "(0.040000000000000036, 4.850447928532958)"
      ]
     },
     "execution_count": 101,
     "metadata": {},
     "output_type": "execute_result"
    }
   ],
   "source": [
    "_calculate(df_kl)"
   ]
  },
  {
   "cell_type": "code",
   "execution_count": 102,
   "metadata": {
    "collapsed": true
   },
   "outputs": [],
   "source": [
    "def _calculate_perc(df_t, nb_sigmas=3):\n",
    "    sigma_plus = df_t['test'].mean() + (nb_sigmas * df_t['test'].std())\n",
    "    print(sigma_plus)\n",
    "    pc_sigma = percentileofscore(df_t['adv'], sigma_plus) * 0.01\n",
    "    perc = 1 - pc_sigma\n",
    "    return perc, sigma_plus"
   ]
  },
  {
   "cell_type": "code",
   "execution_count": 103,
   "metadata": {},
   "outputs": [
    {
     "name": "stdout",
     "output_type": "stream",
     "text": [
      "0.36765783093869686\n"
     ]
    },
    {
     "data": {
      "text/plain": [
       "(0.74, 0.36765783093869686)"
      ]
     },
     "execution_count": 103,
     "metadata": {},
     "output_type": "execute_result"
    }
   ],
   "source": [
    "_calculate_perc(df_kl, nb_sigmas=5)"
   ]
  },
  {
   "cell_type": "code",
   "execution_count": 104,
   "metadata": {},
   "outputs": [
    {
     "data": {
      "text/plain": [
       "0.2265122141689062"
      ]
     },
     "execution_count": 104,
     "metadata": {},
     "output_type": "execute_result"
    }
   ],
   "source": [
    "nb_sigmas = 3\n",
    "sigma_plus = df_kl['test'].mean() + (nb_sigmas * df_kl['test'].std())\n",
    "sigma_plus"
   ]
  },
  {
   "cell_type": "code",
   "execution_count": 105,
   "metadata": {},
   "outputs": [
    {
     "name": "stdout",
     "output_type": "stream",
     "text": [
      "Percentage within 3 sigmas: 0.23600000000000002\n",
      "Percentage beyond 3 sigmas: 0.764\n"
     ]
    }
   ],
   "source": [
    "pc_sigma = percentileofscore(df_kl['adv'], sigma_plus) * 0.01\n",
    "print('Percentage within {} sigmas: {}'.format(nb_sigmas, pc_sigma))\n",
    "print('Percentage beyond {} sigmas: {}'.format(nb_sigmas, ( 1 - pc_sigma)))"
   ]
  },
  {
   "cell_type": "code",
   "execution_count": 106,
   "metadata": {},
   "outputs": [
    {
     "data": {
      "text/html": [
       "<div>\n",
       "<style scoped>\n",
       "    .dataframe tbody tr th:only-of-type {\n",
       "        vertical-align: middle;\n",
       "    }\n",
       "\n",
       "    .dataframe tbody tr th {\n",
       "        vertical-align: top;\n",
       "    }\n",
       "\n",
       "    .dataframe thead th {\n",
       "        text-align: right;\n",
       "    }\n",
       "</style>\n",
       "<table border=\"1\" class=\"dataframe\">\n",
       "  <thead>\n",
       "    <tr style=\"text-align: right;\">\n",
       "      <th></th>\n",
       "      <th>test</th>\n",
       "      <th>adv</th>\n",
       "    </tr>\n",
       "  </thead>\n",
       "  <tbody>\n",
       "    <tr>\n",
       "      <th>count</th>\n",
       "      <td>5.000000e+02</td>\n",
       "      <td>5.000000e+02</td>\n",
       "    </tr>\n",
       "    <tr>\n",
       "      <th>mean</th>\n",
       "      <td>1.479379e-02</td>\n",
       "      <td>1.576213e+00</td>\n",
       "    </tr>\n",
       "    <tr>\n",
       "      <th>std</th>\n",
       "      <td>7.057281e-02</td>\n",
       "      <td>1.611885e+00</td>\n",
       "    </tr>\n",
       "    <tr>\n",
       "      <th>min</th>\n",
       "      <td>3.046163e-07</td>\n",
       "      <td>6.450098e-07</td>\n",
       "    </tr>\n",
       "    <tr>\n",
       "      <th>23.6%</th>\n",
       "      <td>6.071742e-05</td>\n",
       "      <td>2.528592e-01</td>\n",
       "    </tr>\n",
       "    <tr>\n",
       "      <th>50%</th>\n",
       "      <td>5.083100e-04</td>\n",
       "      <td>1.146428e+00</td>\n",
       "    </tr>\n",
       "    <tr>\n",
       "      <th>90%</th>\n",
       "      <td>1.965352e-02</td>\n",
       "      <td>3.546764e+00</td>\n",
       "    </tr>\n",
       "    <tr>\n",
       "      <th>max</th>\n",
       "      <td>1.251270e+00</td>\n",
       "      <td>1.167958e+01</td>\n",
       "    </tr>\n",
       "  </tbody>\n",
       "</table>\n",
       "</div>"
      ],
      "text/plain": [
       "               test           adv\n",
       "count  5.000000e+02  5.000000e+02\n",
       "mean   1.479379e-02  1.576213e+00\n",
       "std    7.057281e-02  1.611885e+00\n",
       "min    3.046163e-07  6.450098e-07\n",
       "23.6%  6.071742e-05  2.528592e-01\n",
       "50%    5.083100e-04  1.146428e+00\n",
       "90%    1.965352e-02  3.546764e+00\n",
       "max    1.251270e+00  1.167958e+01"
      ]
     },
     "execution_count": 106,
     "metadata": {},
     "output_type": "execute_result"
    }
   ],
   "source": [
    "df_kl.describe(percentiles=[0.5, 0.9, pc_sigma])"
   ]
  },
  {
   "cell_type": "code",
   "execution_count": 107,
   "metadata": {},
   "outputs": [
    {
     "data": {
      "text/plain": [
       "<matplotlib.axes._subplots.AxesSubplot at 0x7f27f7a028d0>"
      ]
     },
     "execution_count": 107,
     "metadata": {},
     "output_type": "execute_result"
    },
    {
     "data": {
      "image/png": "[encoded data removed]",
      "text/plain": [
       "<Figure size 1080x576 with 1 Axes>"
      ]
     },
     "metadata": {},
     "output_type": "display_data"
    }
   ],
   "source": [
    "fig, ax = plt.subplots(figsize=(15, 8))\n",
    "sns.distplot(kl_test, rug=True, ax=ax, kde=False)\n",
    "plt.axvline(sigma_plus, c='r', linestyle='dashed')\n",
    "sns.distplot(kl_adv, rug=True,ax=ax, kde=False)"
   ]
  },
  {
   "cell_type": "markdown",
   "metadata": {},
   "source": [
    "### Sudden drift"
   ]
  },
  {
   "cell_type": "code",
   "execution_count": 108,
   "metadata": {
    "collapsed": true
   },
   "outputs": [],
   "source": [
    "df = sst.make_data_stream(kl_concat, agg='mean')"
   ]
  },
  {
   "cell_type": "code",
   "execution_count": 109,
   "metadata": {},
   "outputs": [
    {
     "data": {
      "text/plain": [
       "<matplotlib.lines.Line2D at 0x7f27f7a02278>"
      ]
     },
     "execution_count": 109,
     "metadata": {},
     "output_type": "execute_result"
    },
    {
     "data": {
      "image/png": "[encoded data removed]",
      "text/plain": [
       "<Figure size 1080x576 with 1 Axes>"
      ]
     },
     "metadata": {},
     "output_type": "display_data"
    }
   ],
   "source": [
    "plt.figure(figsize=(15,8))\n",
    "sns.scatterplot( x=\"index\", y=\"stream_raw\", data=df.reset_index(), s=10)\n",
    "ax.set(ylim=(-0.1, None))\n",
    "plt.axvline(tr, c='r', linestyle='dashed')"
   ]
  },
  {
   "cell_type": "code",
   "execution_count": 124,
   "metadata": {},
   "outputs": [
    {
     "data": {
      "text/plain": [
       "<matplotlib.lines.Line2D at 0x7fc48c094fd0>"
      ]
     },
     "execution_count": 124,
     "metadata": {},
     "output_type": "execute_result"
    },
    {
     "data": {
      "image/png": "[encoded data removed]",
      "text/plain": [
       "<Figure size 1080x576 with 1 Axes>"
      ]
     },
     "metadata": {},
     "output_type": "display_data"
    }
   ],
   "source": [
    "ax = df.plot(x='index', y='stream', figsize=(15,8))\n",
    "ax.axhline(baseline_std_plus / amp, c='g')\n",
    "ax.axhline(baseline_std_minus / amp, c='g')"
   ]
  },
  {
   "cell_type": "code",
   "execution_count": 125,
   "metadata": {},
   "outputs": [
    {
     "name": "stdout",
     "output_type": "stream",
     "text": [
      "\u001b[32mChange detected in data: 0.34367286470222447 - at index: 575\n",
      "\u001b[32mChange detected in data: 0.47625243214830276 - at index: 607\n",
      "\u001b[32mChange detected in data: 0.5777940379005838 - at index: 639\n",
      "\u001b[32mChange detected in data: 0.675044799601844 - at index: 671\n",
      "\u001b[32mChange detected in data: 0.7841896882086875 - at index: 703\n",
      "\u001b[32mChange detected in data: 0.8553580386847699 - at index: 735\n",
      "\u001b[32mChange detected in data: 0.8930514450962304 - at index: 767\n",
      "\u001b[32mChange detected in data: 0.9428532639082102 - at index: 799\n",
      "\u001b[32mChange detected in data: 0.9944887160576242 - at index: 831\n",
      "\u001b[32mChange detected in data: 1.083823597489608 - at index: 895\n",
      "\u001b[32mChange detected in data: 1.1139194365663299 - at index: 927\n",
      "\u001b[32mChange detected in data: 1.178463333783177 - at index: 991\n"
     ]
    }
   ],
   "source": [
    "adwin = ADWIN(delta=0.002)\n",
    "data_stream = df['stream']\n",
    "for i in range(len(data_stream)):\n",
    "    adwin.add_element(data_stream[i])\n",
    "    if adwin.detected_change():\n",
    "        if i < tr:\n",
    "            print(Fore.RED + 'Change detected in data: ' + str(data_stream[i]) + ' - at index: ' + str(i))\n",
    "        else:\n",
    "            print(Fore.GREEN + 'Change detected in data: ' + str(data_stream[i]) + ' - at index: ' + str(i))"
   ]
  },
  {
   "cell_type": "markdown",
   "metadata": {},
   "source": [
    "### Gradual drift"
   ]
  },
  {
   "cell_type": "code",
   "execution_count": 126,
   "metadata": {},
   "outputs": [
    {
     "name": "stdout",
     "output_type": "stream",
     "text": [
      "Sample 0 of 6000\n",
      "Sample 1000 of 6000\n",
      "Sample 2000 of 6000\n",
      "Sample 3000 of 6000\n",
      "Sample 4000 of 6000\n",
      "Sample 5000 of 6000\n"
     ]
    }
   ],
   "source": [
    "cd_start = 2000\n",
    "cd_full = int(2 * cd_start)\n",
    "nb_samples_tot = 6000\n",
    "start = 0\n",
    "df = sst.rolling_stats(vae_loaded, X_test, y_test, X_test_adv, y_test_adv, cd_start, cd_full, nb_samples_tot, start, amp=amp)"
   ]
  },
  {
   "cell_type": "code",
   "execution_count": 127,
   "metadata": {},
   "outputs": [
    {
     "data": {
      "image/png": "[encoded data removed]",
      "text/plain": [
       "<Figure size 1080x576 with 4 Axes>"
      ]
     },
     "metadata": {},
     "output_type": "display_data"
    }
   ],
   "source": [
    "axs = df[['contamination', 'accuracy','entropy_mean', 'entropy_var']].plot(logy = False, subplots=True, figsize = (15, 8))\n",
    "for ax in axs:\n",
    "    ax.axvline(cd_start, c='r', linestyle='dashed')\n",
    "    ax.axvline(cd_full, c='r', linestyle='dashed')"
   ]
  },
  {
   "cell_type": "code",
   "execution_count": 128,
   "metadata": {},
   "outputs": [
    {
     "data": {
      "text/plain": [
       "<matplotlib.lines.Line2D at 0x7fc404386630>"
      ]
     },
     "execution_count": 128,
     "metadata": {},
     "output_type": "execute_result"
    },
    {
     "data": {
      "image/png": "[encoded data removed]",
      "text/plain": [
       "<Figure size 1080x576 with 2 Axes>"
      ]
     },
     "metadata": {},
     "output_type": "display_data"
    }
   ],
   "source": [
    "axs = df[['contamination', 'entropy_mean']].plot(logy = False, subplots=True, figsize = (15, 8))\n",
    "for ax in axs:\n",
    "    ax.axvline(cd_start, c='r', linestyle='dashed')\n",
    "    ax.axvline(cd_full, c='r', linestyle='dashed')\n",
    "axs[1].axhline(baseline_std_plus / amp, c='g')\n",
    "axs[1].axhline(baseline_std_minus / amp, c='g')\n"
   ]
  },
  {
   "cell_type": "code",
   "execution_count": 129,
   "metadata": {},
   "outputs": [
    {
     "name": "stdout",
     "output_type": "stream",
     "text": [
      "\u001b[33mChange detected in data: 0.07711264671149078 - at index: 2495\n",
      "\u001b[33mChange detected in data: 0.08355269563864437 - at index: 2527\n",
      "\u001b[33mChange detected in data: 0.09158019371951413 - at index: 2559\n",
      "\u001b[33mChange detected in data: 0.10005820540395843 - at index: 2591\n",
      "\u001b[33mChange detected in data: 0.10735163989654284 - at index: 2655\n",
      "\u001b[33mChange detected in data: 0.12150794627688193 - at index: 2687\n",
      "\u001b[33mChange detected in data: 0.13355530740835744 - at index: 2751\n",
      "\u001b[33mChange detected in data: 0.16081551938385952 - at index: 2815\n",
      "\u001b[33mChange detected in data: 0.19070396378955567 - at index: 2943\n",
      "\u001b[33mChange detected in data: 0.23129350492440168 - at index: 3071\n",
      "\u001b[33mChange detected in data: 0.264515290256362 - at index: 3199\n",
      "\u001b[33mChange detected in data: 0.3148684856838106 - at index: 3327\n",
      "\u001b[33mChange detected in data: 0.3802975255164213 - at index: 3455\n",
      "\u001b[33mChange detected in data: 0.41878628868650614 - at index: 3551\n",
      "\u001b[33mChange detected in data: 0.4320072350287201 - at index: 3583\n",
      "\u001b[33mChange detected in data: 0.45635541152006 - at index: 3647\n",
      "\u001b[33mChange detected in data: 0.4817377671554235 - at index: 3711\n",
      "\u001b[33mChange detected in data: 0.5098938414312223 - at index: 3775\n",
      "\u001b[33mChange detected in data: 0.5364304231077709 - at index: 3839\n",
      "\u001b[33mChange detected in data: 0.5607878506377655 - at index: 3903\n",
      "\u001b[33mChange detected in data: 0.5950239091609869 - at index: 3967\n",
      "\u001b[32mChange detected in data: 0.6231983196037169 - at index: 4031\n",
      "\u001b[32mChange detected in data: 0.65280732571592 - at index: 4095\n",
      "\u001b[32mChange detected in data: 0.6817696620891006 - at index: 4159\n",
      "\u001b[32mChange detected in data: 0.7023453893572272 - at index: 4223\n",
      "\u001b[32mChange detected in data: 0.7249680171795011 - at index: 4287\n",
      "\u001b[32mChange detected in data: 0.7414576441941662 - at index: 4351\n",
      "\u001b[32mChange detected in data: 0.7701660699228527 - at index: 4415\n",
      "\u001b[32mChange detected in data: 0.8042132344230538 - at index: 4511\n",
      "\u001b[32mChange detected in data: 0.8348082345056841 - at index: 4607\n",
      "\u001b[32mChange detected in data: 0.8558992459692736 - at index: 4671\n",
      "\u001b[32mChange detected in data: 0.8784848286371479 - at index: 4735\n",
      "\u001b[32mChange detected in data: 0.8949892054535333 - at index: 4799\n",
      "\u001b[32mChange detected in data: 0.9146679376622269 - at index: 4863\n",
      "\u001b[32mChange detected in data: 0.9318362522010177 - at index: 4927\n",
      "\u001b[32mChange detected in data: 0.961563452353499 - at index: 5023\n",
      "\u001b[32mChange detected in data: 0.9820468569450362 - at index: 5087\n",
      "\u001b[32mChange detected in data: 0.999195611928979 - at index: 5151\n",
      "\u001b[32mChange detected in data: 1.0184998059247572 - at index: 5215\n",
      "\u001b[32mChange detected in data: 1.074746454812956 - at index: 5439\n",
      "\u001b[32mChange detected in data: 1.1048513132310633 - at index: 5567\n",
      "\u001b[32mChange detected in data: 1.1492361834326343 - at index: 5727\n",
      "\u001b[32mChange detected in data: 1.1813328725774481 - at index: 5887\n"
     ]
    }
   ],
   "source": [
    "data_stream = df['entropy_mean']\n",
    "adwin = ADWIN(delta=0.002)\n",
    "for i in range(len(data_stream)):\n",
    "    adwin.add_element(data_stream[i])\n",
    "    if adwin.detected_change():\n",
    "        if i < cd_start:\n",
    "            print(Fore.RED + 'Change detected in data: ' + str(data_stream[i]) + ' - at index: ' + str(i))\n",
    "        elif i >= cd_start and i < cd_full:\n",
    "            print(Fore.YELLOW + 'Change detected in data: ' + str(data_stream[i]) + ' - at index: ' + str(i))            \n",
    "        else:\n",
    "            print(Fore.GREEN + 'Change detected in data: ' + str(data_stream[i]) + ' - at index: ' + str(i))"
   ]
  },
  {
   "cell_type": "code",
   "execution_count": 130,
   "metadata": {},
   "outputs": [
    {
     "data": {
      "text/plain": [
       "<matplotlib.lines.Line2D at 0x7fc40428f518>"
      ]
     },
     "execution_count": 130,
     "metadata": {},
     "output_type": "execute_result"
    },
    {
     "data": {
      "image/png": "[encoded data removed]",
      "text/plain": [
       "<Figure size 1080x576 with 1 Axes>"
      ]
     },
     "metadata": {},
     "output_type": "display_data"
    }
   ],
   "source": [
    "plt.figure(figsize=(15,8))\n",
    "sns.scatterplot( x=\"index\", y=\"entropy\", data=df.reset_index(), s=10)\n",
    "ax.set(ylim=(-0.1, None))\n",
    "plt.axvline(cd_start, c='r', linestyle='dashed')\n",
    "plt.axvline(cd_full, c='r', linestyle='dashed')"
   ]
  },
  {
   "cell_type": "markdown",
   "metadata": {},
   "source": [
    "# Cifar"
   ]
  },
  {
   "cell_type": "code",
   "execution_count": null,
   "metadata": {
    "collapsed": true
   },
   "outputs": [],
   "source": []
  },
  {
   "cell_type": "code",
   "execution_count": 3,
   "metadata": {
    "collapsed": true
   },
   "outputs": [],
   "source": [
    "NB_EPOCHS = 20\n",
    "BATCH_SIZE = 128\n",
    "LEARNING_RATE = 0.001\n",
    "CLEAN_TRAIN = True\n",
    "BACKPROP_THROUGH_ATTACK = False\n",
    "NB_FILTERS = 64"
   ]
  },
  {
   "cell_type": "code",
   "execution_count": 4,
   "metadata": {
    "collapsed": true
   },
   "outputs": [],
   "source": [
    "train_start=0\n",
    "train_end=60000\n",
    "test_start=0                 \n",
    "test_end=10000\n",
    "nb_epochs=NB_EPOCHS\n",
    "batch_size=BATCH_SIZE\n",
    "learning_rate=LEARNING_RATE\n",
    "clean_train=CLEAN_TRAIN\n",
    "testing=False\n",
    "backprop_through_attack=BACKPROP_THROUGH_ATTACK\n",
    "nb_filters=NB_FILTERS\n",
    "num_threads=None\n",
    "label_smoothing=0.1"
   ]
  },
  {
   "cell_type": "code",
   "execution_count": 5,
   "metadata": {},
   "outputs": [
    {
     "name": "stdout",
     "output_type": "stream",
     "text": [
      "x_train shape: (50000, 32, 32, 3)\n",
      "50000 train samples\n",
      "10000 test samples\n",
      "num_devices:  1\n"
     ]
    },
    {
     "name": "stderr",
     "output_type": "stream",
     "text": [
      "[INFO 2019-10-28 15:07:10,241 cleverhans] Epoch 0 took 12.679786205291748 seconds\n"
     ]
    },
    {
     "name": "stdout",
     "output_type": "stream",
     "text": [
      "Test accuracy on legitimate examples: 0.4872\n"
     ]
    },
    {
     "name": "stderr",
     "output_type": "stream",
     "text": [
      "[INFO 2019-10-28 15:07:22,552 cleverhans] Epoch 1 took 11.483542680740356 seconds\n"
     ]
    },
    {
     "name": "stdout",
     "output_type": "stream",
     "text": [
      "Test accuracy on legitimate examples: 0.6485\n"
     ]
    },
    {
     "name": "stderr",
     "output_type": "stream",
     "text": [
      "[INFO 2019-10-28 15:07:34,836 cleverhans] Epoch 2 took 11.510642051696777 seconds\n"
     ]
    },
    {
     "name": "stdout",
     "output_type": "stream",
     "text": [
      "Test accuracy on legitimate examples: 0.6967\n"
     ]
    },
    {
     "name": "stderr",
     "output_type": "stream",
     "text": [
      "[INFO 2019-10-28 15:07:47,157 cleverhans] Epoch 3 took 11.542885065078735 seconds\n"
     ]
    },
    {
     "name": "stdout",
     "output_type": "stream",
     "text": [
      "Test accuracy on legitimate examples: 0.7551\n"
     ]
    },
    {
     "name": "stderr",
     "output_type": "stream",
     "text": [
      "[INFO 2019-10-28 15:07:59,436 cleverhans] Epoch 4 took 11.509101867675781 seconds\n"
     ]
    },
    {
     "name": "stdout",
     "output_type": "stream",
     "text": [
      "Test accuracy on legitimate examples: 0.7872\n"
     ]
    },
    {
     "name": "stderr",
     "output_type": "stream",
     "text": [
      "[INFO 2019-10-28 15:08:11,738 cleverhans] Epoch 5 took 11.523093223571777 seconds\n"
     ]
    },
    {
     "name": "stdout",
     "output_type": "stream",
     "text": [
      "Test accuracy on legitimate examples: 0.7849\n"
     ]
    },
    {
     "name": "stderr",
     "output_type": "stream",
     "text": [
      "[INFO 2019-10-28 15:08:24,031 cleverhans] Epoch 6 took 11.521440982818604 seconds\n"
     ]
    },
    {
     "name": "stdout",
     "output_type": "stream",
     "text": [
      "Test accuracy on legitimate examples: 0.8188\n"
     ]
    },
    {
     "name": "stderr",
     "output_type": "stream",
     "text": [
      "[INFO 2019-10-28 15:08:36,325 cleverhans] Epoch 7 took 11.515643119812012 seconds\n"
     ]
    },
    {
     "name": "stdout",
     "output_type": "stream",
     "text": [
      "Test accuracy on legitimate examples: 0.8269\n"
     ]
    },
    {
     "name": "stderr",
     "output_type": "stream",
     "text": [
      "[INFO 2019-10-28 15:08:48,621 cleverhans] Epoch 8 took 11.517538785934448 seconds\n"
     ]
    },
    {
     "name": "stdout",
     "output_type": "stream",
     "text": [
      "Test accuracy on legitimate examples: 0.8330\n"
     ]
    },
    {
     "name": "stderr",
     "output_type": "stream",
     "text": [
      "[INFO 2019-10-28 15:09:00,910 cleverhans] Epoch 9 took 11.514426946640015 seconds\n"
     ]
    },
    {
     "name": "stdout",
     "output_type": "stream",
     "text": [
      "Test accuracy on legitimate examples: 0.8372\n"
     ]
    },
    {
     "name": "stderr",
     "output_type": "stream",
     "text": [
      "[INFO 2019-10-28 15:09:13,230 cleverhans] Epoch 10 took 11.54538631439209 seconds\n"
     ]
    },
    {
     "name": "stdout",
     "output_type": "stream",
     "text": [
      "Test accuracy on legitimate examples: 0.8457\n"
     ]
    },
    {
     "name": "stderr",
     "output_type": "stream",
     "text": [
      "[INFO 2019-10-28 15:09:25,519 cleverhans] Epoch 11 took 11.514847993850708 seconds\n"
     ]
    },
    {
     "name": "stdout",
     "output_type": "stream",
     "text": [
      "Test accuracy on legitimate examples: 0.8535\n"
     ]
    },
    {
     "name": "stderr",
     "output_type": "stream",
     "text": [
      "[INFO 2019-10-28 15:09:37,809 cleverhans] Epoch 12 took 11.514491081237793 seconds\n"
     ]
    },
    {
     "name": "stdout",
     "output_type": "stream",
     "text": [
      "Test accuracy on legitimate examples: 0.8566\n"
     ]
    },
    {
     "name": "stderr",
     "output_type": "stream",
     "text": [
      "[INFO 2019-10-28 15:09:50,194 cleverhans] Epoch 13 took 11.605460166931152 seconds\n"
     ]
    },
    {
     "name": "stdout",
     "output_type": "stream",
     "text": [
      "Test accuracy on legitimate examples: 0.8644\n"
     ]
    },
    {
     "name": "stderr",
     "output_type": "stream",
     "text": [
      "[INFO 2019-10-28 15:10:02,544 cleverhans] Epoch 14 took 11.566495656967163 seconds\n"
     ]
    },
    {
     "name": "stdout",
     "output_type": "stream",
     "text": [
      "Test accuracy on legitimate examples: 0.8652\n"
     ]
    },
    {
     "name": "stderr",
     "output_type": "stream",
     "text": [
      "[INFO 2019-10-28 15:10:14,863 cleverhans] Epoch 15 took 11.54585313796997 seconds\n"
     ]
    },
    {
     "name": "stdout",
     "output_type": "stream",
     "text": [
      "Test accuracy on legitimate examples: 0.8647\n"
     ]
    },
    {
     "name": "stderr",
     "output_type": "stream",
     "text": [
      "[INFO 2019-10-28 15:10:27,154 cleverhans] Epoch 16 took 11.517215728759766 seconds\n"
     ]
    },
    {
     "name": "stdout",
     "output_type": "stream",
     "text": [
      "Test accuracy on legitimate examples: 0.8776\n"
     ]
    },
    {
     "name": "stderr",
     "output_type": "stream",
     "text": [
      "[INFO 2019-10-28 15:10:39,476 cleverhans] Epoch 17 took 11.54130744934082 seconds\n"
     ]
    },
    {
     "name": "stdout",
     "output_type": "stream",
     "text": [
      "Test accuracy on legitimate examples: 0.8673\n"
     ]
    },
    {
     "name": "stderr",
     "output_type": "stream",
     "text": [
      "[INFO 2019-10-28 15:10:51,794 cleverhans] Epoch 18 took 11.537827014923096 seconds\n"
     ]
    },
    {
     "name": "stdout",
     "output_type": "stream",
     "text": [
      "Test accuracy on legitimate examples: 0.8745\n"
     ]
    },
    {
     "name": "stderr",
     "output_type": "stream",
     "text": [
      "[INFO 2019-10-28 15:11:04,115 cleverhans] Epoch 19 took 11.551781415939331 seconds\n"
     ]
    },
    {
     "name": "stdout",
     "output_type": "stream",
     "text": [
      "Test accuracy on legitimate examples: 0.8773\n"
     ]
    },
    {
     "name": "stderr",
     "output_type": "stream",
     "text": [
      "/home/Gigio/git/fork-cleverhans/cleverhans/attacks_tf.py:27: UserWarning: attacks_tf is deprecated and will be removed on 2019-07-18 or after. Code should import functions from their new locations directly.\n",
      "  warnings.warn(\"attacks_tf is deprecated and will be removed on 2019-07-18\"\n",
      "/home/Gigio/git/fork-cleverhans/cleverhans/compat.py:22: UserWarning: <function reduce_max at 0x7f43154f52f0> is deprecated. Switch to calling the equivalent function in tensorflow.  This function was originally needed as a compatibility layer for old versions of tensorflow,  but support for those versions has now been dropped.\n",
      "  warnings.warn(str(f) + \" is deprecated. Switch to calling the equivalent function in tensorflow. \"\n",
      "/home/Gigio/git/fork-cleverhans/cleverhans/compat.py:22: UserWarning: <function reduce_sum at 0x7f43154eea60> is deprecated. Switch to calling the equivalent function in tensorflow.  This function was originally needed as a compatibility layer for old versions of tensorflow,  but support for those versions has now been dropped.\n",
      "  warnings.warn(str(f) + \" is deprecated. Switch to calling the equivalent function in tensorflow. \"\n"
     ]
    },
    {
     "name": "stdout",
     "output_type": "stream",
     "text": [
      "Test accuracy on adversarial examples: 0.1027\n",
      "Repeating the process, using adversarial training\n"
     ]
    },
    {
     "name": "stderr",
     "output_type": "stream",
     "text": [
      "/home/Gigio/git/fork-cleverhans/cleverhans/loss.py:41: UserWarning: callable attacks are deprecated, switch to an Attack subclass. callable attacks will not be supported after 2019-05-05.\n",
      "  warnings.warn(\"callable attacks are deprecated, switch to an Attack \"\n"
     ]
    },
    {
     "name": "stdout",
     "output_type": "stream",
     "text": [
      "num_devices:  1\n"
     ]
    },
    {
     "name": "stderr",
     "output_type": "stream",
     "text": [
      "[INFO 2019-10-28 15:11:38,225 cleverhans] Epoch 0 took 27.71207332611084 seconds\n"
     ]
    },
    {
     "name": "stdout",
     "output_type": "stream",
     "text": [
      "Test accuracy on legitimate examples: 0.3618\n",
      "Test accuracy on adversarial examples: 0.1714\n"
     ]
    },
    {
     "name": "stderr",
     "output_type": "stream",
     "text": [
      "[INFO 2019-10-28 15:12:09,264 cleverhans] Epoch 1 took 27.38006353378296 seconds\n"
     ]
    },
    {
     "name": "stdout",
     "output_type": "stream",
     "text": [
      "Test accuracy on legitimate examples: 0.5990\n",
      "Test accuracy on adversarial examples: 0.4311\n"
     ]
    },
    {
     "name": "stderr",
     "output_type": "stream",
     "text": [
      "[INFO 2019-10-28 15:12:39,965 cleverhans] Epoch 2 took 27.481393098831177 seconds\n"
     ]
    },
    {
     "name": "stdout",
     "output_type": "stream",
     "text": [
      "Test accuracy on legitimate examples: 0.6708\n",
      "Test accuracy on adversarial examples: 0.5467\n"
     ]
    },
    {
     "name": "stderr",
     "output_type": "stream",
     "text": [
      "[INFO 2019-10-28 15:13:10,612 cleverhans] Epoch 3 took 27.433262586593628 seconds\n"
     ]
    },
    {
     "name": "stdout",
     "output_type": "stream",
     "text": [
      "Test accuracy on legitimate examples: 0.7265\n",
      "Test accuracy on adversarial examples: 0.5975\n"
     ]
    },
    {
     "name": "stderr",
     "output_type": "stream",
     "text": [
      "[INFO 2019-10-28 15:13:41,310 cleverhans] Epoch 4 took 27.475255012512207 seconds\n"
     ]
    },
    {
     "name": "stdout",
     "output_type": "stream",
     "text": [
      "Test accuracy on legitimate examples: 0.7259\n",
      "Test accuracy on adversarial examples: 0.6364\n"
     ]
    },
    {
     "name": "stderr",
     "output_type": "stream",
     "text": [
      "[INFO 2019-10-28 15:14:12,028 cleverhans] Epoch 5 took 27.489441871643066 seconds\n"
     ]
    },
    {
     "name": "stdout",
     "output_type": "stream",
     "text": [
      "Test accuracy on legitimate examples: 0.7585\n",
      "Test accuracy on adversarial examples: 0.6887\n"
     ]
    },
    {
     "name": "stderr",
     "output_type": "stream",
     "text": [
      "[INFO 2019-10-28 15:14:42,711 cleverhans] Epoch 6 took 27.46079397201538 seconds\n"
     ]
    },
    {
     "name": "stdout",
     "output_type": "stream",
     "text": [
      "Test accuracy on legitimate examples: 0.7919\n",
      "Test accuracy on adversarial examples: 0.7023\n"
     ]
    },
    {
     "name": "stderr",
     "output_type": "stream",
     "text": [
      "[INFO 2019-10-28 15:15:13,445 cleverhans] Epoch 7 took 27.510754346847534 seconds\n"
     ]
    },
    {
     "name": "stdout",
     "output_type": "stream",
     "text": [
      "Test accuracy on legitimate examples: 0.8037\n",
      "Test accuracy on adversarial examples: 0.7250\n"
     ]
    },
    {
     "name": "stderr",
     "output_type": "stream",
     "text": [
      "[INFO 2019-10-28 15:15:44,140 cleverhans] Epoch 8 took 27.462427377700806 seconds\n"
     ]
    },
    {
     "name": "stdout",
     "output_type": "stream",
     "text": [
      "Test accuracy on legitimate examples: 0.8173\n",
      "Test accuracy on adversarial examples: 0.7428\n"
     ]
    },
    {
     "name": "stderr",
     "output_type": "stream",
     "text": [
      "[INFO 2019-10-28 15:16:14,819 cleverhans] Epoch 9 took 27.458906650543213 seconds\n"
     ]
    },
    {
     "name": "stdout",
     "output_type": "stream",
     "text": [
      "Test accuracy on legitimate examples: 0.8068\n",
      "Test accuracy on adversarial examples: 0.7573\n"
     ]
    },
    {
     "name": "stderr",
     "output_type": "stream",
     "text": [
      "[INFO 2019-10-28 15:16:45,517 cleverhans] Epoch 10 took 27.478805780410767 seconds\n"
     ]
    },
    {
     "name": "stdout",
     "output_type": "stream",
     "text": [
      "Test accuracy on legitimate examples: 0.8158\n",
      "Test accuracy on adversarial examples: 0.7593\n"
     ]
    },
    {
     "name": "stderr",
     "output_type": "stream",
     "text": [
      "[INFO 2019-10-28 15:17:16,189 cleverhans] Epoch 11 took 27.4525408744812 seconds\n"
     ]
    },
    {
     "name": "stdout",
     "output_type": "stream",
     "text": [
      "Test accuracy on legitimate examples: 0.8309\n",
      "Test accuracy on adversarial examples: 0.7570\n"
     ]
    },
    {
     "name": "stderr",
     "output_type": "stream",
     "text": [
      "[INFO 2019-10-28 15:17:46,887 cleverhans] Epoch 12 took 27.47890830039978 seconds\n"
     ]
    },
    {
     "name": "stdout",
     "output_type": "stream",
     "text": [
      "Test accuracy on legitimate examples: 0.8311\n",
      "Test accuracy on adversarial examples: 0.7849\n"
     ]
    },
    {
     "name": "stderr",
     "output_type": "stream",
     "text": [
      "[INFO 2019-10-28 15:18:17,605 cleverhans] Epoch 13 took 27.486246824264526 seconds\n"
     ]
    },
    {
     "name": "stdout",
     "output_type": "stream",
     "text": [
      "Test accuracy on legitimate examples: 0.8466\n",
      "Test accuracy on adversarial examples: 0.8163\n"
     ]
    },
    {
     "name": "stderr",
     "output_type": "stream",
     "text": [
      "[INFO 2019-10-28 15:18:48,288 cleverhans] Epoch 14 took 27.45728588104248 seconds\n"
     ]
    },
    {
     "name": "stdout",
     "output_type": "stream",
     "text": [
      "Test accuracy on legitimate examples: 0.8439\n",
      "Test accuracy on adversarial examples: 0.8087\n"
     ]
    },
    {
     "name": "stderr",
     "output_type": "stream",
     "text": [
      "[INFO 2019-10-28 15:19:18,987 cleverhans] Epoch 15 took 27.480610132217407 seconds\n"
     ]
    },
    {
     "name": "stdout",
     "output_type": "stream",
     "text": [
      "Test accuracy on legitimate examples: 0.8408\n",
      "Test accuracy on adversarial examples: 0.7912\n"
     ]
    },
    {
     "name": "stderr",
     "output_type": "stream",
     "text": [
      "[INFO 2019-10-28 15:19:49,710 cleverhans] Epoch 16 took 27.484564542770386 seconds\n"
     ]
    },
    {
     "name": "stdout",
     "output_type": "stream",
     "text": [
      "Test accuracy on legitimate examples: 0.8472\n",
      "Test accuracy on adversarial examples: 0.8192\n"
     ]
    },
    {
     "name": "stderr",
     "output_type": "stream",
     "text": [
      "[INFO 2019-10-28 15:20:20,515 cleverhans] Epoch 17 took 27.56053590774536 seconds\n"
     ]
    },
    {
     "name": "stdout",
     "output_type": "stream",
     "text": [
      "Test accuracy on legitimate examples: 0.8532\n",
      "Test accuracy on adversarial examples: 0.8185\n"
     ]
    },
    {
     "name": "stderr",
     "output_type": "stream",
     "text": [
      "[INFO 2019-10-28 15:20:51,207 cleverhans] Epoch 18 took 27.461504459381104 seconds\n"
     ]
    },
    {
     "name": "stdout",
     "output_type": "stream",
     "text": [
      "Test accuracy on legitimate examples: 0.8657\n",
      "Test accuracy on adversarial examples: 0.8359\n"
     ]
    },
    {
     "name": "stderr",
     "output_type": "stream",
     "text": [
      "[INFO 2019-10-28 15:21:21,912 cleverhans] Epoch 19 took 27.46008038520813 seconds\n"
     ]
    },
    {
     "name": "stdout",
     "output_type": "stream",
     "text": [
      "Test accuracy on legitimate examples: 0.8505\n",
      "Test accuracy on adversarial examples: 0.8150\n",
      "Done\n"
     ]
    }
   ],
   "source": [
    "report = AccuracyReport()\n",
    "\n",
    "  # Set TF random seed to improve reproducibility\n",
    "tf.set_random_seed(1234)\n",
    "\n",
    "  # Set logging level to see debug information\n",
    "set_log_level(logging.DEBUG)\n",
    "\n",
    "  # Create TF session\n",
    "if num_threads:\n",
    "    config_args = dict(intra_op_parallelism_threads=1)\n",
    "else:\n",
    "    config_args = {}\n",
    "sess = tf.Session(config=tf.ConfigProto(**config_args))\n",
    "\n",
    "  # Get CIFAR10 data\n",
    "data = CIFAR10(train_start=train_start, train_end=train_end,\n",
    "                 test_start=test_start, test_end=test_end)\n",
    "dataset_size = data.x_train.shape[0]\n",
    "dataset_train = data.to_tensorflow()[0]\n",
    "dataset_train = dataset_train.map(\n",
    "      lambda x, y: (random_shift(random_horizontal_flip(x)), y), 4)\n",
    "dataset_train = dataset_train.batch(batch_size)\n",
    "dataset_train = dataset_train.prefetch(16)\n",
    "X_train, y_train = data.get_set('train')\n",
    "X_test, y_test = data.get_set('test')\n",
    "\n",
    "  # Use Image Parameters\n",
    "img_rows, img_cols, nchannels = X_test.shape[1:4]\n",
    "nb_classes = y_test.shape[1]\n",
    "\n",
    "  # Define input TF placeholder\n",
    "x_pl = tf.placeholder(tf.float32, shape=(None, img_rows, img_cols,\n",
    "                                        nchannels))\n",
    "y_pl = tf.placeholder(tf.float32, shape=(None, nb_classes))\n",
    "\n",
    "  # Train an MNIST model\n",
    "train_params = {\n",
    "      'nb_epochs': nb_epochs,\n",
    "      'batch_size': batch_size,\n",
    "      'learning_rate': learning_rate\n",
    "  }\n",
    "eval_params = {'batch_size': batch_size}\n",
    "fgsm_params = {\n",
    "      'eps': 0.3,\n",
    "      'clip_min': 0.,\n",
    "      'clip_max': 1.\n",
    "  }\n",
    "rng = np.random.RandomState([2017, 8, 30])\n",
    "\n",
    "def do_eval(preds, x_set, y_set, report_key, is_adv=None):\n",
    "    acc = model_eval(sess, x_pl, y_pl, preds, x_set, y_set, args=eval_params)\n",
    "    setattr(report, report_key, acc)\n",
    "    if is_adv is None:\n",
    "        report_text = None\n",
    "    elif is_adv:\n",
    "        report_text = 'adversarial'\n",
    "    else:\n",
    "        report_text = 'legitimate'\n",
    "    if report_text:\n",
    "        print('Test accuracy on %s examples: %0.4f' % (report_text, acc))\n",
    "\n",
    "if clean_train:\n",
    "    model = ModelAllConvolutional('model1', nb_classes, nb_filters,\n",
    "                                  input_shape=[32, 32, 3])\n",
    "    preds = model.get_logits(x_pl)\n",
    "    loss = CrossEntropy(model, smoothing=label_smoothing)\n",
    "\n",
    "def evaluate():\n",
    "    do_eval(preds, X_test, y_test, 'clean_train_clean_eval', False)\n",
    "\n",
    "train(sess, loss, None, None,\n",
    "          dataset_train=dataset_train, dataset_size=dataset_size,\n",
    "          evaluate=evaluate, args=train_params, rng=rng,\n",
    "          var_list=model.get_params())\n",
    "\n",
    "    # Calculate training error\n",
    "if testing:\n",
    "    do_eval(preds, X_train, y_train, 'train_clean_train_clean_eval')\n",
    "\n",
    "    # Initialize the Fast Gradient Sign Method (FGSM) attack object and\n",
    "    # graph\n",
    "fgsm = FastGradientMethod(model, sess=sess)\n",
    "adv_x = fgsm.generate(x_pl, **fgsm_params)\n",
    "preds_adv = model.get_logits(adv_x)\n",
    "\n",
    "    # Evaluate the accuracy of the MNIST model on adversarial examples\n",
    "do_eval(preds_adv, X_test, y_test, 'clean_train_adv_eval', True)\n",
    "\n",
    "    # Calculate training error\n",
    "if testing:\n",
    "    do_eval(preds_adv, X_train, y_train, 'train_clean_train_adv_eval')\n",
    "\n",
    "print('Repeating the process, using adversarial training')\n",
    "\n",
    "  # Create a new model and train it to be robust to FastGradientMethod\n",
    "model2 = ModelAllConvolutional('model2', nb_classes, nb_filters,\n",
    "                                 input_shape=[32, 32, 3])\n",
    "fgsm2 = FastGradientMethod(model2, sess=sess)\n",
    "\n",
    "def attack(x):\n",
    "    return fgsm2.generate(x, **fgsm_params)\n",
    "\n",
    "loss2 = CrossEntropy(model2, smoothing=label_smoothing, attack=attack)\n",
    "preds2 = model2.get_logits(x_pl)\n",
    "adv_x2 = attack(x_pl)\n",
    "\n",
    "if not backprop_through_attack:\n",
    "    # For the fgsm attack used in this tutorial, the attack has zero\n",
    "    # gradient so enabling this flag does not change the gradient.\n",
    "    # For some other attacks, enabling this flag increases the cost of\n",
    "    # training, but gives the defender the ability to anticipate how\n",
    "    # the atacker will change their strategy in response to updates to\n",
    "    # the defender's parameters.\n",
    "    adv_x2 = tf.stop_gradient(adv_x2)\n",
    "preds2_adv = model2.get_logits(adv_x2)\n",
    "\n",
    "def evaluate2():\n",
    "    # Accuracy of adversarially trained model on legitimate test inputs\n",
    "    do_eval(preds2, X_test, y_test, 'adv_train_clean_eval', False)\n",
    "    # Accuracy of the adversarially trained model on adversarial examples\n",
    "    do_eval(preds2_adv, X_test, y_test, 'adv_train_adv_eval', True)\n",
    "\n",
    "  # Perform and evaluate adversarial training\n",
    "train(sess, loss2, None, None,\n",
    "        dataset_train=dataset_train, dataset_size=dataset_size,\n",
    "        evaluate=evaluate2, args=train_params, rng=rng,\n",
    "        var_list=model2.get_params())\n",
    "\n",
    "  # Calculate training errors\n",
    "if testing:\n",
    "    do_eval(preds2, X_train, y_train, 'train_adv_train_clean_eval')\n",
    "    do_eval(preds2_adv, X_train, y_train, 'train_adv_train_adv_eval')\n",
    "print('Done')"
   ]
  },
  {
   "cell_type": "code",
   "execution_count": 9,
   "metadata": {},
   "outputs": [
    {
     "name": "stderr",
     "output_type": "stream",
     "text": [
      "/home/Gigio/git/fork-cleverhans/cleverhans/attacks/fast_gradient_method.py:122: UserWarning: kwargs is unused and will be removed on or after 2019-04-26.\n",
      "  warnings.warn(\"kwargs is unused and will be removed on or after \"\n",
      "/home/Gigio/git/fork-cleverhans/cleverhans/compat.py:22: UserWarning: <function reduce_max at 0x7f43154f52f0> is deprecated. Switch to calling the equivalent function in tensorflow.  This function was originally needed as a compatibility layer for old versions of tensorflow,  but support for those versions has now been dropped.\n",
      "  warnings.warn(str(f) + \" is deprecated. Switch to calling the equivalent function in tensorflow. \"\n",
      "/home/Gigio/git/fork-cleverhans/cleverhans/compat.py:22: UserWarning: <function reduce_sum at 0x7f43154eea60> is deprecated. Switch to calling the equivalent function in tensorflow.  This function was originally needed as a compatibility layer for old versions of tensorflow,  but support for those versions has now been dropped.\n",
      "  warnings.warn(str(f) + \" is deprecated. Switch to calling the equivalent function in tensorflow. \"\n"
     ]
    }
   ],
   "source": [
    "X_adv = sess.run(fgsm.generate(x_pl, sess=sess), feed_dict={x_pl: X_test[:1000]})\n",
    "y_adv = y_test"
   ]
  },
  {
   "cell_type": "code",
   "execution_count": 10,
   "metadata": {},
   "outputs": [
    {
     "name": "stdout",
     "output_type": "stream",
     "text": [
      "Sample instance from the MNIST data set.\n"
     ]
    },
    {
     "data": {
      "image/png": "[encoded data removed]",
      "text/plain": [
       "<Figure size 432x288 with 1 Axes>"
      ]
     },
     "metadata": {},
     "output_type": "display_data"
    }
   ],
   "source": [
    "idx = 999\n",
    "x = X_test[idx: idx + 1]\n",
    "plt.imshow(np.squeeze(x), 'gray')\n",
    "print('Sample instance from the MNIST data set.')"
   ]
  },
  {
   "cell_type": "code",
   "execution_count": 11,
   "metadata": {},
   "outputs": [
    {
     "name": "stderr",
     "output_type": "stream",
     "text": [
      "Clipping input data to the valid range for imshow with RGB data ([0..1] for floats or [0..255] for integers).\n"
     ]
    },
    {
     "name": "stdout",
     "output_type": "stream",
     "text": [
      "Sample instance from the MNIST data set.\n"
     ]
    },
    {
     "data": {
      "image/png": "[encoded data removed]",
      "text/plain": [
       "<Figure size 432x288 with 1 Axes>"
      ]
     },
     "metadata": {},
     "output_type": "display_data"
    }
   ],
   "source": [
    "xa = X_adv[idx: idx + 1]\n",
    "plt.imshow(np.squeeze(xa), 'gray')\n",
    "print('Sample instance from the MNIST data set.')"
   ]
  },
  {
   "cell_type": "code",
   "execution_count": null,
   "metadata": {
    "collapsed": true
   },
   "outputs": [],
   "source": []
  },
  {
   "cell_type": "code",
   "execution_count": null,
   "metadata": {
    "collapsed": true
   },
   "outputs": [],
   "source": []
  },
  {
   "cell_type": "code",
   "execution_count": 34,
   "metadata": {},
   "outputs": [
    {
     "data": {
      "text/plain": [
       "array([[0.02680327, 0.00680656, 0.00422867, 0.00439995, 0.00276608,\n",
       "        0.00228287, 0.00274207, 0.00228873, 0.94373333, 0.00394845]],\n",
       "      dtype=float32)"
      ]
     },
     "execution_count": 34,
     "metadata": {},
     "output_type": "execute_result"
    }
   ],
   "source": [
    "sess.run(model.get_probs(x_pl), feed_dict={x_pl: x})"
   ]
  },
  {
   "cell_type": "code",
   "execution_count": 35,
   "metadata": {},
   "outputs": [
    {
     "data": {
      "text/plain": [
       "array([[0.03669943, 0.3080798 , 0.01204626, 0.01754826, 0.0241965 ,\n",
       "        0.02278983, 0.04068958, 0.08311906, 0.05236148, 0.4024698 ]],\n",
       "      dtype=float32)"
      ]
     },
     "execution_count": 35,
     "metadata": {},
     "output_type": "execute_result"
    }
   ],
   "source": [
    "sess.run(model.get_probs(x_pl), feed_dict={x_pl: xa})"
   ]
  },
  {
   "cell_type": "code",
   "execution_count": null,
   "metadata": {
    "collapsed": true
   },
   "outputs": [],
   "source": []
  },
  {
   "cell_type": "markdown",
   "metadata": {},
   "source": [
    "## Train vae"
   ]
  },
  {
   "cell_type": "code",
   "execution_count": 301,
   "metadata": {},
   "outputs": [
    {
     "name": "stdout",
     "output_type": "stream",
     "text": [
      "WARNING:tensorflow:Output \"decoder_output\" missing from loss dictionary. We assume this was done on purpose. The fit and evaluate APIs will not be expecting any data to be passed to \"decoder_output\".\n",
      "WARNING:tensorflow:Output \"sequential_7\" missing from loss dictionary. We assume this was done on purpose. The fit and evaluate APIs will not be expecting any data to be passed to \"sequential_7\".\n",
      "WARNING:tensorflow:Output \"sequential_7\" missing from loss dictionary. We assume this was done on purpose. The fit and evaluate APIs will not be expecting any data to be passed to \"sequential_7\".\n",
      "Vae\n",
      "__________________________________________________________________________________________________\n",
      "Layer (type)                    Output Shape         Param #     Connected to                     \n",
      "==================================================================================================\n",
      "encoder_input (InputLayer)      (None, 28, 28, 1)    0                                            \n",
      "__________________________________________________________________________________________________\n",
      "conv2d_32 (Conv2D)              (None, 14, 14, 64)   640         encoder_input[0][0]              \n",
      "__________________________________________________________________________________________________\n",
      "dropout_28 (Dropout)            (None, 14, 14, 64)   0           conv2d_32[0][0]                  \n",
      "__________________________________________________________________________________________________\n",
      "conv2d_33 (Conv2D)              (None, 7, 7, 128)    73856       dropout_28[0][0]                 \n",
      "__________________________________________________________________________________________________\n",
      "dropout_29 (Dropout)            (None, 7, 7, 128)    0           conv2d_33[0][0]                  \n",
      "__________________________________________________________________________________________________\n",
      "flatten_12 (Flatten)            (None, 6272)         0           dropout_29[0][0]                 \n",
      "__________________________________________________________________________________________________\n",
      "dense_20 (Dense)                (None, 256)          1605888     flatten_12[0][0]                 \n",
      "__________________________________________________________________________________________________\n",
      "dropout_30 (Dropout)            (None, 256)          0           dense_20[0][0]                   \n",
      "__________________________________________________________________________________________________\n",
      "z_mean (Dense)                  (None, 8)            2056        dropout_30[0][0]                 \n",
      "__________________________________________________________________________________________________\n",
      "z_log_var (Dense)               (None, 8)            2056        dropout_30[0][0]                 \n",
      "__________________________________________________________________________________________________\n",
      "z (Lambda)                      (None, 8)            0           z_mean[0][0]                     \n",
      "                                                                 z_log_var[0][0]                  \n",
      "__________________________________________________________________________________________________\n",
      "dense_21 (Dense)                (None, 256)          2304        z[0][0]                          \n",
      "__________________________________________________________________________________________________\n",
      "dropout_31 (Dropout)            (None, 256)          0           dense_21[0][0]                   \n",
      "__________________________________________________________________________________________________\n",
      "dense_22 (Dense)                (None, 6272)         1611904     dropout_31[0][0]                 \n",
      "__________________________________________________________________________________________________\n",
      "dropout_32 (Dropout)            (None, 6272)         0           dense_22[0][0]                   \n",
      "__________________________________________________________________________________________________\n",
      "reshape_4 (Reshape)             (None, 7, 7, 128)    0           dropout_32[0][0]                 \n",
      "__________________________________________________________________________________________________\n",
      "conv2d_transpose_8 (Conv2DTrans (None, 14, 14, 128)  147584      reshape_4[0][0]                  \n",
      "__________________________________________________________________________________________________\n",
      "dropout_33 (Dropout)            (None, 14, 14, 128)  0           conv2d_transpose_8[0][0]         \n",
      "__________________________________________________________________________________________________\n",
      "conv2d_transpose_9 (Conv2DTrans (None, 28, 28, 64)   73792       dropout_33[0][0]                 \n",
      "__________________________________________________________________________________________________\n",
      "dropout_34 (Dropout)            (None, 28, 28, 64)   0           conv2d_transpose_9[0][0]         \n",
      "__________________________________________________________________________________________________\n",
      "decoder_output (Conv2DTranspose (None, 28, 28, 1)    577         dropout_34[0][0]                 \n",
      "__________________________________________________________________________________________________\n",
      "sequential_7 (Sequential)       (None, 10)           710218      decoder_output[0][0]             \n",
      "                                                                 encoder_input[0][0]              \n",
      "==================================================================================================\n",
      "Total params: 4,230,875\n",
      "Trainable params: 3,520,657\n",
      "Non-trainable params: 710,218\n",
      "__________________________________________________________________________________________________\n"
     ]
    }
   ],
   "source": [
    "vae = vsf.VaeSymmetryFinderConv(model, input_shape=(28, 28, 1), rgb_filters=1,\n",
    "                            output_shape=(10, ), \n",
    "                            intermediate_dim=256, \n",
    "                            latent_dim=8, loss_type='symm')"
   ]
  },
  {
   "cell_type": "code",
   "execution_count": 302,
   "metadata": {},
   "outputs": [
    {
     "name": "stdout",
     "output_type": "stream",
     "text": [
      "Train on 60000 samples, validate on 10000 samples\n",
      "Epoch 1/50\n",
      "60000/60000 [==============================] - 12s 203us/step - loss: 0.6234 - val_loss: 0.1506\n",
      "Epoch 2/50\n",
      "60000/60000 [==============================] - 9s 142us/step - loss: 0.1363 - val_loss: 0.0974\n",
      "Epoch 3/50\n",
      "60000/60000 [==============================] - 9s 142us/step - loss: 0.0929 - val_loss: 0.0772\n",
      "Epoch 4/50\n",
      "60000/60000 [==============================] - 9s 142us/step - loss: 0.0726 - val_loss: 0.0677\n",
      "Epoch 5/50\n",
      "60000/60000 [==============================] - 9s 142us/step - loss: 0.0617 - val_loss: 0.0590\n",
      "Epoch 6/50\n",
      "60000/60000 [==============================] - 9s 142us/step - loss: 0.0552 - val_loss: 0.0583\n",
      "Epoch 7/50\n",
      "60000/60000 [==============================] - 9s 142us/step - loss: 0.0497 - val_loss: 0.0561\n",
      "Epoch 8/50\n",
      "60000/60000 [==============================] - 9s 142us/step - loss: 0.0464 - val_loss: 0.0568\n",
      "Epoch 9/50\n",
      "60000/60000 [==============================] - 9s 143us/step - loss: 0.0442 - val_loss: 0.0535\n",
      "Epoch 10/50\n",
      "60000/60000 [==============================] - 9s 142us/step - loss: 0.0419 - val_loss: 0.0505\n",
      "Epoch 11/50\n",
      "60000/60000 [==============================] - 9s 143us/step - loss: 0.0377 - val_loss: 0.0504\n",
      "Epoch 12/50\n",
      "60000/60000 [==============================] - 9s 142us/step - loss: 0.0382 - val_loss: 0.0492\n",
      "Epoch 13/50\n",
      "60000/60000 [==============================] - 9s 142us/step - loss: 0.0359 - val_loss: 0.0541\n",
      "Epoch 14/50\n",
      "60000/60000 [==============================] - 9s 142us/step - loss: 0.0342 - val_loss: 0.0469\n",
      "Epoch 15/50\n",
      "60000/60000 [==============================] - 9s 143us/step - loss: 0.0300 - val_loss: 0.0523\n",
      "Epoch 16/50\n",
      "60000/60000 [==============================] - 9s 142us/step - loss: 0.0294 - val_loss: 0.0438\n",
      "Epoch 17/50\n",
      "60000/60000 [==============================] - 8s 141us/step - loss: 0.0276 - val_loss: 0.0438\n",
      "Epoch 18/50\n",
      "60000/60000 [==============================] - 8s 141us/step - loss: 0.0257 - val_loss: 0.0434\n",
      "Epoch 19/50\n",
      "60000/60000 [==============================] - 8s 142us/step - loss: 0.0262 - val_loss: 0.0449\n",
      "Epoch 20/50\n",
      "60000/60000 [==============================] - 9s 142us/step - loss: 0.0254 - val_loss: 0.0484\n",
      "Epoch 21/50\n",
      "60000/60000 [==============================] - 9s 143us/step - loss: 0.0270 - val_loss: 0.0468\n",
      "Epoch 22/50\n",
      "60000/60000 [==============================] - 9s 142us/step - loss: 0.0263 - val_loss: 0.0504\n",
      "Epoch 23/50\n",
      "60000/60000 [==============================] - 9s 142us/step - loss: 0.0257 - val_loss: 0.0445\n",
      "Epoch 24/50\n",
      "60000/60000 [==============================] - 8s 142us/step - loss: 0.0250 - val_loss: 0.0449\n",
      "Epoch 25/50\n",
      "60000/60000 [==============================] - 9s 142us/step - loss: 0.0253 - val_loss: 0.0456\n",
      "Epoch 26/50\n",
      "60000/60000 [==============================] - 9s 142us/step - loss: 0.0239 - val_loss: 0.0449\n",
      "Epoch 27/50\n",
      "60000/60000 [==============================] - 9s 142us/step - loss: 0.0231 - val_loss: 0.0455\n",
      "Epoch 28/50\n",
      "60000/60000 [==============================] - 9s 142us/step - loss: 0.0247 - val_loss: 0.0436\n",
      "Epoch 29/50\n",
      "60000/60000 [==============================] - 9s 142us/step - loss: 0.0237 - val_loss: 0.0514\n",
      "Epoch 30/50\n",
      "60000/60000 [==============================] - 9s 142us/step - loss: 0.0248 - val_loss: 0.0425\n",
      "Epoch 31/50\n",
      "60000/60000 [==============================] - 8s 141us/step - loss: 0.0231 - val_loss: 0.0420\n",
      "Epoch 32/50\n",
      "60000/60000 [==============================] - 8s 141us/step - loss: 0.0228 - val_loss: 0.0482\n",
      "Epoch 33/50\n",
      "60000/60000 [==============================] - 8s 141us/step - loss: 0.0250 - val_loss: 0.0444\n",
      "Epoch 34/50\n",
      "60000/60000 [==============================] - 8s 141us/step - loss: 0.0227 - val_loss: 0.0431\n",
      "Epoch 35/50\n",
      "60000/60000 [==============================] - 8s 141us/step - loss: 0.0227 - val_loss: 0.0405\n",
      "Epoch 36/50\n",
      "60000/60000 [==============================] - 9s 142us/step - loss: 0.0217 - val_loss: 0.0407\n",
      "Epoch 37/50\n",
      "60000/60000 [==============================] - 9s 143us/step - loss: 0.0229 - val_loss: 0.0467\n",
      "Epoch 38/50\n",
      "60000/60000 [==============================] - 8s 142us/step - loss: 0.0232 - val_loss: 0.0423\n",
      "Epoch 39/50\n",
      "60000/60000 [==============================] - 9s 142us/step - loss: 0.0229 - val_loss: 0.0440\n",
      "Epoch 40/50\n",
      "60000/60000 [==============================] - 9s 142us/step - loss: 0.0225 - val_loss: 0.0419\n",
      "Epoch 41/50\n",
      "60000/60000 [==============================] - 9s 142us/step - loss: 0.0217 - val_loss: 0.0417\n",
      "Epoch 42/50\n",
      "60000/60000 [==============================] - 9s 142us/step - loss: 0.0215 - val_loss: 0.0489\n",
      "Epoch 43/50\n",
      "60000/60000 [==============================] - 9s 142us/step - loss: 0.0236 - val_loss: 0.0417\n",
      "Epoch 44/50\n",
      "60000/60000 [==============================] - 9s 142us/step - loss: 0.0231 - val_loss: 0.0458\n",
      "Epoch 45/50\n",
      "60000/60000 [==============================] - 9s 143us/step - loss: 0.0225 - val_loss: 0.0415\n",
      "Epoch 46/50\n",
      "60000/60000 [==============================] - 9s 142us/step - loss: 0.0213 - val_loss: 0.0398\n",
      "Epoch 47/50\n",
      "60000/60000 [==============================] - 9s 142us/step - loss: 0.0212 - val_loss: 0.0415\n",
      "Epoch 48/50\n",
      "60000/60000 [==============================] - 9s 142us/step - loss: 0.0213 - val_loss: 0.0441\n",
      "Epoch 49/50\n",
      "60000/60000 [==============================] - 9s 142us/step - loss: 0.0228 - val_loss: 0.0429\n",
      "Epoch 50/50\n",
      "60000/60000 [==============================] - 9s 142us/step - loss: 0.0222 - val_loss: 0.0474\n"
     ]
    }
   ],
   "source": [
    "vae.fit(X_train, x_test=X_test, epochs=50)"
   ]
  },
  {
   "cell_type": "code",
   "execution_count": 303,
   "metadata": {
    "collapsed": true
   },
   "outputs": [],
   "source": [
    "vae.save(arch_path='vae_arch_mnist_adv.json', weights_path='vae_weights_mnist_adv.h5')"
   ]
  },
  {
   "cell_type": "code",
   "execution_count": 304,
   "metadata": {},
   "outputs": [
    {
     "name": "stdout",
     "output_type": "stream",
     "text": [
      "Loaded model from disk\n"
     ]
    }
   ],
   "source": [
    "vae_loaded = vsf.load_vae(arch_path='vae_arch_mnist_adv.json', weights_path='vae_weights_mnist_adv.h5')"
   ]
  },
  {
   "cell_type": "markdown",
   "metadata": {},
   "source": [
    "## Stream"
   ]
  },
  {
   "cell_type": "code",
   "execution_count": 305,
   "metadata": {
    "collapsed": true
   },
   "outputs": [],
   "source": [
    "# Symmetry signal\n",
    "X_train_perm = np.random.permutation(X_train)\n",
    "X_test_perm = np.random.permutation(X_test)\n",
    "X_adv_perm = np.random.permutation(X_adv)\n",
    "\n",
    "amp = 0.5\n",
    "kl_train = vae_loaded.signal(X_train_perm, amp=amp)\n",
    "kl_test = vae_loaded.signal(X_test_perm, amp=amp)\n",
    "kl_adv = vae_loaded.signal(X_adv_perm, amp=amp)\n",
    "\n",
    "baseline_std_plus = kl_train.mean() + kl_train.std()\n",
    "baseline_std_minus = kl_train.mean() - kl_train.std()\n",
    "\n",
    "kl_concat = np.concatenate((kl_test, kl_adv))\n",
    "tr = kl_test.shape[0]"
   ]
  },
  {
   "cell_type": "code",
   "execution_count": null,
   "metadata": {
    "collapsed": true
   },
   "outputs": [],
   "source": []
  },
  {
   "cell_type": "code",
   "execution_count": 306,
   "metadata": {},
   "outputs": [
    {
     "data": {
      "text/plain": [
       "array([[0.00944898, 0.00931012, 0.01011397, 0.9144536 , 0.010226  ,\n",
       "        0.00875417, 0.00966593, 0.00902877, 0.00955911, 0.0094393 ]],\n",
       "      dtype=float32)"
      ]
     },
     "execution_count": 306,
     "metadata": {},
     "output_type": "execute_result"
    }
   ],
   "source": [
    "vae.predict_original(x)"
   ]
  },
  {
   "cell_type": "code",
   "execution_count": 307,
   "metadata": {},
   "outputs": [
    {
     "data": {
      "text/plain": [
       "array([[0.00939064, 0.00621081, 0.01904817, 0.8708233 , 0.00673245,\n",
       "        0.03239373, 0.01086471, 0.01453625, 0.01853919, 0.0114607 ]],\n",
       "      dtype=float32)"
      ]
     },
     "execution_count": 307,
     "metadata": {},
     "output_type": "execute_result"
    }
   ],
   "source": [
    "vae.transform_predict(x)"
   ]
  },
  {
   "cell_type": "code",
   "execution_count": 308,
   "metadata": {},
   "outputs": [
    {
     "data": {
      "text/plain": [
       "array([[0.06550434, 0.05473979, 0.15493904, 0.12586369, 0.09562235,\n",
       "        0.15378147, 0.07624201, 0.09200393, 0.08536093, 0.09594247]],\n",
       "      dtype=float32)"
      ]
     },
     "execution_count": 308,
     "metadata": {},
     "output_type": "execute_result"
    }
   ],
   "source": [
    "vae.predict_original(xa)"
   ]
  },
  {
   "cell_type": "code",
   "execution_count": 309,
   "metadata": {},
   "outputs": [
    {
     "data": {
      "text/plain": [
       "array([[0.00948455, 0.00613334, 0.01946554, 0.8695392 , 0.00683212,\n",
       "        0.03270752, 0.01098244, 0.01475581, 0.01867487, 0.0114246 ]],\n",
       "      dtype=float32)"
      ]
     },
     "execution_count": 309,
     "metadata": {},
     "output_type": "execute_result"
    }
   ],
   "source": [
    "vae.transform_predict(xa)"
   ]
  },
  {
   "cell_type": "code",
   "execution_count": 310,
   "metadata": {},
   "outputs": [
    {
     "data": {
      "text/plain": [
       "0.24636141769587994"
      ]
     },
     "execution_count": 310,
     "metadata": {},
     "output_type": "execute_result"
    }
   ],
   "source": [
    "kl_test.mean() + 2 * kl_test.std()"
   ]
  },
  {
   "cell_type": "code",
   "execution_count": 317,
   "metadata": {
    "collapsed": true
   },
   "outputs": [],
   "source": [
    "df_kl = pd.DataFrame()\n",
    "df_kl['test'] = - kl_test\n",
    "df_kl['adv'] = - kl_adv"
   ]
  },
  {
   "cell_type": "code",
   "execution_count": 322,
   "metadata": {
    "collapsed": true
   },
   "outputs": [],
   "source": [
    "nb_sigmas = 3\n",
    "sigma_plus = -(kl_test.mean() + nb_sigmas * kl_test.std())"
   ]
  },
  {
   "cell_type": "code",
   "execution_count": 323,
   "metadata": {
    "collapsed": true
   },
   "outputs": [],
   "source": [
    "pc_sigma = percentileofscore(df_kl['adv'], sigma_plus) * 0.01"
   ]
  },
  {
   "cell_type": "code",
   "execution_count": 324,
   "metadata": {},
   "outputs": [
    {
     "data": {
      "text/plain": [
       "-0.3577089589089155"
      ]
     },
     "execution_count": 324,
     "metadata": {},
     "output_type": "execute_result"
    }
   ],
   "source": [
    "sigma_plus"
   ]
  },
  {
   "cell_type": "code",
   "execution_count": 325,
   "metadata": {},
   "outputs": [
    {
     "data": {
      "text/plain": [
       "0.9056000000000001"
      ]
     },
     "execution_count": 325,
     "metadata": {},
     "output_type": "execute_result"
    }
   ],
   "source": [
    "pc_sigma"
   ]
  },
  {
   "cell_type": "code",
   "execution_count": 326,
   "metadata": {},
   "outputs": [
    {
     "data": {
      "text/html": [
       "<div>\n",
       "<style scoped>\n",
       "    .dataframe tbody tr th:only-of-type {\n",
       "        vertical-align: middle;\n",
       "    }\n",
       "\n",
       "    .dataframe tbody tr th {\n",
       "        vertical-align: top;\n",
       "    }\n",
       "\n",
       "    .dataframe thead th {\n",
       "        text-align: right;\n",
       "    }\n",
       "</style>\n",
       "<table border=\"1\" class=\"dataframe\">\n",
       "  <thead>\n",
       "    <tr style=\"text-align: right;\">\n",
       "      <th></th>\n",
       "      <th>test</th>\n",
       "      <th>adv</th>\n",
       "    </tr>\n",
       "  </thead>\n",
       "  <tbody>\n",
       "    <tr>\n",
       "      <th>count</th>\n",
       "      <td>10000.000000</td>\n",
       "      <td>10000.000000</td>\n",
       "    </tr>\n",
       "    <tr>\n",
       "      <th>mean</th>\n",
       "      <td>-0.023666</td>\n",
       "      <td>-0.709786</td>\n",
       "    </tr>\n",
       "    <tr>\n",
       "      <th>std</th>\n",
       "      <td>0.111353</td>\n",
       "      <td>0.225571</td>\n",
       "    </tr>\n",
       "    <tr>\n",
       "      <th>min</th>\n",
       "      <td>-1.897678</td>\n",
       "      <td>-1.371375</td>\n",
       "    </tr>\n",
       "    <tr>\n",
       "      <th>50%</th>\n",
       "      <td>-0.000577</td>\n",
       "      <td>-0.774687</td>\n",
       "    </tr>\n",
       "    <tr>\n",
       "      <th>90%</th>\n",
       "      <td>-0.000119</td>\n",
       "      <td>-0.368525</td>\n",
       "    </tr>\n",
       "    <tr>\n",
       "      <th>90.6%</th>\n",
       "      <td>-0.000114</td>\n",
       "      <td>-0.357703</td>\n",
       "    </tr>\n",
       "    <tr>\n",
       "      <th>max</th>\n",
       "      <td>-0.000007</td>\n",
       "      <td>-0.019792</td>\n",
       "    </tr>\n",
       "  </tbody>\n",
       "</table>\n",
       "</div>"
      ],
      "text/plain": [
       "               test           adv\n",
       "count  10000.000000  10000.000000\n",
       "mean      -0.023666     -0.709786\n",
       "std        0.111353      0.225571\n",
       "min       -1.897678     -1.371375\n",
       "50%       -0.000577     -0.774687\n",
       "90%       -0.000119     -0.368525\n",
       "90.6%     -0.000114     -0.357703\n",
       "max       -0.000007     -0.019792"
      ]
     },
     "execution_count": 326,
     "metadata": {},
     "output_type": "execute_result"
    }
   ],
   "source": [
    "df_kl.describe(percentiles=[0.5, 0.9, pc_sigma])"
   ]
  },
  {
   "cell_type": "code",
   "execution_count": 327,
   "metadata": {},
   "outputs": [
    {
     "data": {
      "text/plain": [
       "<matplotlib.axes._subplots.AxesSubplot at 0x7fdbdf07f828>"
      ]
     },
     "execution_count": 327,
     "metadata": {},
     "output_type": "execute_result"
    },
    {
     "data": {
      "image/png": "[encoded data removed]",
      "text/plain": [
       "<Figure size 1080x576 with 1 Axes>"
      ]
     },
     "metadata": {},
     "output_type": "display_data"
    }
   ],
   "source": [
    "fig, ax = plt.subplots(figsize=(15, 8))\n",
    "sns.distplot(kl_test, ax=ax, kde=False)\n",
    "sns.distplot(kl_adv, ax=ax, kde=False)"
   ]
  },
  {
   "cell_type": "markdown",
   "metadata": {},
   "source": [
    "### Sudden drift"
   ]
  },
  {
   "cell_type": "code",
   "execution_count": 328,
   "metadata": {
    "collapsed": true
   },
   "outputs": [],
   "source": [
    "df = sst.make_data_stream(kl_concat, agg='mean')"
   ]
  },
  {
   "cell_type": "code",
   "execution_count": 329,
   "metadata": {},
   "outputs": [
    {
     "data": {
      "text/plain": [
       "<matplotlib.lines.Line2D at 0x7fdbdf0622e8>"
      ]
     },
     "execution_count": 329,
     "metadata": {},
     "output_type": "execute_result"
    },
    {
     "data": {
      "image/png": "[encoded data removed]",
      "text/plain": [
       "<Figure size 1080x576 with 1 Axes>"
      ]
     },
     "metadata": {},
     "output_type": "display_data"
    }
   ],
   "source": [
    "plt.figure(figsize=(15,8))\n",
    "sns.scatterplot( x=\"index\", y=\"stream_raw\", data=df.reset_index(), s=10)\n",
    "ax.set(ylim=(-0.1, None))\n",
    "plt.axvline(tr, c='r', linestyle='dashed')"
   ]
  },
  {
   "cell_type": "code",
   "execution_count": 275,
   "metadata": {},
   "outputs": [
    {
     "data": {
      "text/plain": [
       "<matplotlib.lines.Line2D at 0x7fdbe086c4a8>"
      ]
     },
     "execution_count": 275,
     "metadata": {},
     "output_type": "execute_result"
    },
    {
     "data": {
      "image/png": "[encoded data removed]",
      "text/plain": [
       "<Figure size 1080x576 with 1 Axes>"
      ]
     },
     "metadata": {},
     "output_type": "display_data"
    }
   ],
   "source": [
    "ax = df.plot(x='index', y='stream', figsize=(15,8))\n",
    "ax.axhline(baseline_std_plus / amp, c='g')\n",
    "ax.axhline(baseline_std_minus / amp, c='g')"
   ]
  },
  {
   "cell_type": "code",
   "execution_count": 276,
   "metadata": {},
   "outputs": [
    {
     "name": "stdout",
     "output_type": "stream",
     "text": [
      "\u001b[31mChange detected in data: 0.12986713712040188 - at index: 1535\n",
      "\u001b[31mChange detected in data: 0.13001620659477486 - at index: 2303\n",
      "\u001b[31mChange detected in data: 0.1296612836097956 - at index: 3583\n",
      "\u001b[32mChange detected in data: 0.1431412076843279 - at index: 10207\n",
      "\u001b[32mChange detected in data: 0.15905178767742434 - at index: 10559\n",
      "\u001b[32mChange detected in data: 0.16482531044181042 - at index: 10687\n",
      "\u001b[32mChange detected in data: 0.17024729698717844 - at index: 10815\n",
      "\u001b[32mChange detected in data: 0.17419336049850812 - at index: 10911\n",
      "\u001b[32mChange detected in data: 0.17931640717167727 - at index: 11039\n",
      "\u001b[32mChange detected in data: 0.18047034415918956 - at index: 11071\n",
      "\u001b[32mChange detected in data: 0.1875491626066638 - at index: 11263\n",
      "\u001b[32mChange detected in data: 0.1947314369929331 - at index: 11455\n",
      "\u001b[32mChange detected in data: 0.2007770629511228 - at index: 11615\n",
      "\u001b[32mChange detected in data: 0.2133539487484565 - at index: 11967\n",
      "\u001b[32mChange detected in data: 0.22404959297989246 - at index: 12287\n",
      "\u001b[32mChange detected in data: 0.23240619665297288 - at index: 12543\n",
      "\u001b[32mChange detected in data: 0.23974623840873077 - at index: 12799\n",
      "\u001b[32mChange detected in data: 0.2479678346955843 - at index: 13055\n",
      "\u001b[32mChange detected in data: 0.25504198395960925 - at index: 13311\n",
      "\u001b[32mChange detected in data: 0.2644960124677459 - at index: 13631\n",
      "\u001b[32mChange detected in data: 0.2718764150423173 - at index: 13919\n",
      "\u001b[32mChange detected in data: 0.27917740587632073 - at index: 14239\n",
      "\u001b[32mChange detected in data: 0.28662258752043845 - at index: 14559\n",
      "\u001b[32mChange detected in data: 0.2930094941058093 - at index: 14847\n",
      "\u001b[32mChange detected in data: 0.29856351051226887 - at index: 15103\n",
      "\u001b[32mChange detected in data: 0.30439790309213044 - at index: 15391\n",
      "\u001b[32mChange detected in data: 0.31073760650765475 - at index: 15711\n",
      "\u001b[32mChange detected in data: 0.3170002682104338 - at index: 16031\n",
      "\u001b[32mChange detected in data: 0.32204498790707076 - at index: 16319\n",
      "\u001b[32mChange detected in data: 0.3277308819413921 - at index: 16639\n",
      "\u001b[32mChange detected in data: 0.3320298356333498 - at index: 16895\n",
      "\u001b[32mChange detected in data: 0.33703593373679663 - at index: 17183\n",
      "\u001b[32mChange detected in data: 0.3419943490936122 - at index: 17503\n",
      "\u001b[32mChange detected in data: 0.346512844503095 - at index: 17791\n",
      "\u001b[32mChange detected in data: 0.35165970752772113 - at index: 18111\n",
      "\u001b[32mChange detected in data: 0.3559204556410558 - at index: 18399\n",
      "\u001b[32mChange detected in data: 0.3671121651586367 - at index: 19199\n",
      "\u001b[32mChange detected in data: 0.3756455571926046 - at index: 19839\n"
     ]
    }
   ],
   "source": [
    "adwin = ADWIN(delta=0.002)\n",
    "data_stream = df['stream']\n",
    "for i in range(len(data_stream)):\n",
    "    adwin.add_element(data_stream[i])\n",
    "    if adwin.detected_change():\n",
    "        if i < tr:\n",
    "            print(Fore.RED + 'Change detected in data: ' + str(data_stream[i]) + ' - at index: ' + str(i))\n",
    "        else:\n",
    "            print(Fore.GREEN + 'Change detected in data: ' + str(data_stream[i]) + ' - at index: ' + str(i))"
   ]
  },
  {
   "cell_type": "markdown",
   "metadata": {},
   "source": [
    "### Gradual drift"
   ]
  },
  {
   "cell_type": "code",
   "execution_count": 277,
   "metadata": {},
   "outputs": [
    {
     "name": "stdout",
     "output_type": "stream",
     "text": [
      "Sample 0 of 6000\n",
      "Sample 1000 of 6000\n",
      "Sample 2000 of 6000\n",
      "Sample 3000 of 6000\n",
      "Sample 4000 of 6000\n",
      "Sample 5000 of 6000\n"
     ]
    }
   ],
   "source": [
    "cd_start = 2000\n",
    "cd_full = int(2 * cd_start)\n",
    "nb_samples_tot = 6000\n",
    "start = 0\n",
    "df = sst.rolling_stats(vae_loaded, X_test, y_test, X_adv, y_adv, cd_start, cd_full, nb_samples_tot, start, amp=amp)"
   ]
  },
  {
   "cell_type": "code",
   "execution_count": 278,
   "metadata": {},
   "outputs": [
    {
     "data": {
      "image/png": "[encoded data removed]",
      "text/plain": [
       "<Figure size 1080x576 with 4 Axes>"
      ]
     },
     "metadata": {},
     "output_type": "display_data"
    }
   ],
   "source": [
    "axs = df[['contamination', 'accuracy','entropy_mean', 'entropy_var']].plot(logy = False, subplots=True, figsize = (15, 8))\n",
    "for ax in axs:\n",
    "    ax.axvline(cd_start, c='r', linestyle='dashed')\n",
    "    ax.axvline(cd_full, c='r', linestyle='dashed')"
   ]
  },
  {
   "cell_type": "code",
   "execution_count": 279,
   "metadata": {},
   "outputs": [
    {
     "data": {
      "text/plain": [
       "<matplotlib.lines.Line2D at 0x7fdbe073dbe0>"
      ]
     },
     "execution_count": 279,
     "metadata": {},
     "output_type": "execute_result"
    },
    {
     "data": {
      "image/png": "[encoded data removed]",
      "text/plain": [
       "<Figure size 1080x576 with 2 Axes>"
      ]
     },
     "metadata": {},
     "output_type": "display_data"
    }
   ],
   "source": [
    "axs = df[['contamination', 'entropy_mean']].plot(logy = False, subplots=True, figsize = (15, 8))\n",
    "for ax in axs:\n",
    "    ax.axvline(cd_start, c='r', linestyle='dashed')\n",
    "    ax.axvline(cd_full, c='r', linestyle='dashed')\n",
    "axs[1].axhline(baseline_std_plus / amp, c='g')\n",
    "axs[1].axhline(baseline_std_minus / amp, c='g')\n"
   ]
  },
  {
   "cell_type": "code",
   "execution_count": 280,
   "metadata": {},
   "outputs": [
    {
     "name": "stdout",
     "output_type": "stream",
     "text": [
      "\u001b[33mChange detected in data: 0.16909600499207073 - at index: 2943\n",
      "\u001b[33mChange detected in data: 0.1730277312745748 - at index: 3007\n",
      "\u001b[33mChange detected in data: 0.18059271946378574 - at index: 3135\n",
      "\u001b[33mChange detected in data: 0.19501112986853206 - at index: 3327\n",
      "\u001b[33mChange detected in data: 0.21681595684198937 - at index: 3583\n",
      "\u001b[33mChange detected in data: 0.23332776763244614 - at index: 3807\n",
      "\u001b[33mChange detected in data: 0.23509566379057142 - at index: 3839\n",
      "\u001b[33mChange detected in data: 0.24636344471094118 - at index: 3967\n",
      "\u001b[32mChange detected in data: 0.2584067885163753 - at index: 4095\n",
      "\u001b[32mChange detected in data: 0.2697502076458331 - at index: 4223\n",
      "\u001b[32mChange detected in data: 0.2795744648028703 - at index: 4351\n",
      "\u001b[32mChange detected in data: 0.2901428441167881 - at index: 4479\n",
      "\u001b[32mChange detected in data: 0.2986059893543592 - at index: 4607\n",
      "\u001b[32mChange detected in data: 0.3068827446880567 - at index: 4735\n",
      "\u001b[32mChange detected in data: 0.31737838075892577 - at index: 4895\n",
      "\u001b[32mChange detected in data: 0.327523366162041 - at index: 5055\n",
      "\u001b[32mChange detected in data: 0.338558196727613 - at index: 5247\n",
      "\u001b[32mChange detected in data: 0.3464259323788799 - at index: 5375\n",
      "\u001b[32mChange detected in data: 0.35385096435048097 - at index: 5535\n",
      "\u001b[32mChange detected in data: 0.3608736113155982 - at index: 5695\n"
     ]
    }
   ],
   "source": [
    "data_stream = df['entropy_mean']\n",
    "adwin = ADWIN(delta=0.002)\n",
    "for i in range(len(data_stream)):\n",
    "    adwin.add_element(data_stream[i])\n",
    "    if adwin.detected_change():\n",
    "        if i < cd_start:\n",
    "            print(Fore.RED + 'Change detected in data: ' + str(data_stream[i]) + ' - at index: ' + str(i))\n",
    "        elif i >= cd_start and i < cd_full:\n",
    "            print(Fore.YELLOW + 'Change detected in data: ' + str(data_stream[i]) + ' - at index: ' + str(i))            \n",
    "        else:\n",
    "            print(Fore.GREEN + 'Change detected in data: ' + str(data_stream[i]) + ' - at index: ' + str(i))"
   ]
  },
  {
   "cell_type": "code",
   "execution_count": null,
   "metadata": {
    "collapsed": true
   },
   "outputs": [],
   "source": []
  },
  {
   "cell_type": "code",
   "execution_count": 281,
   "metadata": {},
   "outputs": [
    {
     "data": {
      "text/plain": [
       "<matplotlib.lines.Line2D at 0x7fdbe03bcd30>"
      ]
     },
     "execution_count": 281,
     "metadata": {},
     "output_type": "execute_result"
    },
    {
     "data": {
      "image/png": "[encoded data removed]",
      "text/plain": [
       "<Figure size 1080x576 with 1 Axes>"
      ]
     },
     "metadata": {},
     "output_type": "display_data"
    }
   ],
   "source": [
    "plt.figure(figsize=(15,8))\n",
    "sns.scatterplot( x=\"index\", y=\"entropy\", data=df.reset_index(), s=10)\n",
    "ax.set(ylim=(-0.1, None))\n",
    "plt.axvline(cd_start, c='r', linestyle='dashed')\n",
    "plt.axvline(cd_full, c='r', linestyle='dashed')"
   ]
  }
 ],
 "metadata": {
  "kernelspec": {
   "display_name": "Python 3",
   "language": "python",
   "name": "python3"
  },
  "language_info": {
   "codemirror_mode": {
    "name": "ipython",
    "version": 3
   },
   "file_extension": ".py",
   "mimetype": "text/x-python",
   "name": "python",
   "nbconvert_exporter": "python",
   "pygments_lexer": "ipython3",
   "version": "3.6.3"
  }
 },
 "nbformat": 4,
 "nbformat_minor": 2
}
