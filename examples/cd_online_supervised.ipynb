{
 "cells": [
  {
   "cell_type": "code",
   "execution_count": 1,
   "id": "0c7c7871",
   "metadata": {},
   "outputs": [
    {
     "name": "stderr",
     "output_type": "stream",
     "text": [
      "Importing plotly failed. Interactive plots will not work.\n"
     ]
    }
   ],
   "source": [
    "import numpy as np\n",
    "import matplotlib.pyplot as plt\n",
    "import time\n",
    "from alibi_detect.cd import CVMDriftOnline, MMDDriftOnline, FETDriftOnline"
   ]
  },
  {
   "cell_type": "markdown",
   "id": "5ef35365",
   "metadata": {},
   "source": [
    "# Continuous data"
   ]
  },
  {
   "cell_type": "code",
   "execution_count": 2,
   "id": "80733b6f",
   "metadata": {},
   "outputs": [
    {
     "name": "stdout",
     "output_type": "stream",
     "text": [
      "Using 10000 bootstrap simulations to configure thresholds...\n",
      "Wall time = 0.542s +- 0s\n"
     ]
    }
   ],
   "source": [
    "ntimes = 1\n",
    "times = np.empty([ntimes])\n",
    "\n",
    "ert = 150  # Desired expected runtime\n",
    "N = 100 # Size of reference set\n",
    "B = 10000 # Number of bootstrap simulations for threshold estimation. 100k more realistic?\n",
    "window_sizes = [10,20]\n",
    "n_repeats = 200  # Number of instances in stream\n",
    "\n",
    "# Note how these are diff to the Gaussian used for configuration.\n",
    "x_ref = np.random.uniform(0, 1, N)\n",
    "stream_h0 = iter(lambda: np.random.uniform(), 1)\n",
    "stream_h1 = iter(lambda: np.random.exponential(), 1)\n",
    "\n",
    "for t in range(ntimes):\n",
    "    t0 = time.time()\n",
    "    ddcvm = CVMDriftOnline(x_ref, ert=ert, window_size=window_sizes, n_bootstraps=B, \n",
    "                           verbose=True, device='parallel',t_max=None)\n",
    "    times[t] = time.time() - t0\n",
    "    #ddmmd = MMDDriftOnline(x_ref, ert=ert, window_size=10)\n",
    "\n",
    "print('Wall time = %.3fs +- %.2gs' % (times.mean(),times.std()))"
   ]
  },
  {
   "cell_type": "code",
   "execution_count": 3,
   "id": "b5bd0362",
   "metadata": {},
   "outputs": [
    {
     "data": {
      "text/plain": [
       "array([       nan,        nan,        nan,        nan,        nan,\n",
       "              nan,        nan,        nan,        nan,        nan,\n",
       "       4.38037657, 3.73416277, 3.53091781, 3.64742953, 3.42106905,\n",
       "       3.39730146, 3.30861734, 3.35120192, 3.06926882, 3.12988989,\n",
       "       3.61416821, 3.4927938 , 3.31976305, 3.33969306, 3.32919234,\n",
       "       3.38712203, 3.43497215, 3.48692816, 3.36199559, 3.36018666,\n",
       "       3.46058551, 3.2875086 , 3.55132104, 3.45358981, 3.49452452,\n",
       "       3.55947306, 3.44803205, 3.58408395, 3.52806717])"
      ]
     },
     "execution_count": 3,
     "metadata": {},
     "output_type": "execute_result"
    }
   ],
   "source": [
    "ddcvm.thresholds"
   ]
  },
  {
   "cell_type": "code",
   "execution_count": 4,
   "id": "ed2c10af",
   "metadata": {},
   "outputs": [
    {
     "name": "stdout",
     "output_type": "stream",
     "text": [
      "40\n"
     ]
    }
   ],
   "source": [
    "n = 0\n",
    "while n < 1000:\n",
    "    a = np.array([np.random.uniform(0,1.1)])\n",
    "    #a = np.array([np.random.randn()])\n",
    "    ddcvm_result = ddcvm.predict(a)\n",
    "    #dmmd_result = ddmmd.predict(a)\n",
    "    #print(ddcvm_result,ddmmd_result)\n",
    "    if ddcvm_result['data']['is_drift'] == 1:\n",
    "        print(n)\n",
    "        break\n",
    "    n += 1"
   ]
  },
  {
   "cell_type": "code",
   "execution_count": 5,
   "id": "4910022e",
   "metadata": {},
   "outputs": [
    {
     "data": {
      "text/plain": [
       "{'data': {'is_drift': 0,\n",
       "  'distance': None,\n",
       "  'p_val': None,\n",
       "  'threshold': 3.528067165199367,\n",
       "  'time': 42,\n",
       "  'ert': 150,\n",
       "  'test_stat': array([1.2821587, 1.962883 ], dtype=float32)},\n",
       " 'meta': {'name': 'CVMDriftOnline',\n",
       "  'detector_type': 'online',\n",
       "  'data_type': None,\n",
       "  'version': '0.7.3dev'}}"
      ]
     },
     "execution_count": 5,
     "metadata": {},
     "output_type": "execute_result"
    }
   ],
   "source": [
    "ddcvm.predict(np.array([20]))"
   ]
  },
  {
   "cell_type": "markdown",
   "id": "a10ba794",
   "metadata": {},
   "source": [
    "# Categorical data"
   ]
  },
  {
   "cell_type": "code",
   "execution_count": 39,
   "id": "125b547d",
   "metadata": {},
   "outputs": [
    {
     "name": "stdout",
     "output_type": "stream",
     "text": [
      "Using 10000 bootstrap simulations to configure thresholds...\n"
     ]
    },
    {
     "name": "stderr",
     "output_type": "stream",
     "text": [
      "100%|██████████| 2/2 [00:11<00:00,  5.76s/it]\n"
     ]
    }
   ],
   "source": [
    "ert = 100\n",
    "N = 1000\n",
    "B = 10000\n",
    "window_sizes = [10,20]\n",
    "n_repeats = 50\n",
    "p_h0 = 0.5\n",
    "p_h1 = 0.3\n",
    "lam = 0.99\n",
    "\n",
    "x_ref = np.random.choice(2, N, p=[1-p_h0, p_h0])\n",
    "stream_h0 = (np.random.choice(2, p=[1-p_h0, p_h0]) for _ in range(int(1e8)))\n",
    "stream_h1 = (np.random.choice(2, p=[1-p_h1, p_h1]) for _ in range(int(1e8)))\n",
    "\n",
    "ddfet = FETDriftOnline(x_ref, ert=ert, window_size=window_sizes, n_bootstraps=B, lam=lam)"
   ]
  },
  {
   "cell_type": "code",
   "execution_count": 40,
   "id": "5afde481",
   "metadata": {},
   "outputs": [
    {
     "name": "stdout",
     "output_type": "stream",
     "text": [
      "0\n",
      "1\n",
      "2\n",
      "3\n",
      "4\n",
      "5\n",
      "6\n",
      "7\n",
      "8\n",
      "9\n",
      "10\n",
      "11\n",
      "12\n",
      "13\n",
      "14\n",
      "15\n",
      "16\n",
      "17\n",
      "18\n",
      "19\n"
     ]
    }
   ],
   "source": [
    "n = 0\n",
    "while n < 20:\n",
    "    ddfet_result = ddfet.predict(next(stream_h0))\n",
    "    print(n)\n",
    "    if ddfet_result['data']['is_drift'] == 1:\n",
    "        print(ddfet_result)\n",
    "        break\n",
    "    n += 1"
   ]
  },
  {
   "cell_type": "code",
   "execution_count": 41,
   "id": "b83ad96a",
   "metadata": {},
   "outputs": [
    {
     "data": {
      "text/plain": [
       "{'data': {'is_drift': 0,\n",
       "  'distance': None,\n",
       "  'p_val': None,\n",
       "  'threshold': 0.9512054449701919,\n",
       "  'time': 20,\n",
       "  'ert': 100,\n",
       "  'test_stat': array([0.18395685, 0.02484137], dtype=float32)},\n",
       " 'meta': {'name': 'FETDriftOnline',\n",
       "  'detector_type': 'online',\n",
       "  'data_type': None,\n",
       "  'version': '0.7.3dev'}}"
      ]
     },
     "execution_count": 41,
     "metadata": {},
     "output_type": "execute_result"
    }
   ],
   "source": [
    "ddfet_result"
   ]
  },
  {
   "cell_type": "code",
   "execution_count": 42,
   "id": "1c60d6d9",
   "metadata": {},
   "outputs": [
    {
     "name": "stdout",
     "output_type": "stream",
     "text": [
      "30\n",
      "121\n",
      "124\n",
      "96\n",
      "59\n",
      "105\n",
      "190\n",
      "41\n",
      "367\n",
      "90\n",
      "44\n",
      "30\n",
      "26\n",
      "85\n",
      "192\n",
      "13\n",
      "13\n",
      "32\n",
      "97\n",
      "24\n",
      "17\n",
      "103\n",
      "14\n",
      "74\n",
      "14\n",
      "96\n",
      "40\n",
      "42\n",
      "113\n",
      "127\n",
      "38\n",
      "100\n",
      "153\n",
      "96\n",
      "83\n",
      "21\n",
      "95\n",
      "94\n",
      "127\n",
      "53\n",
      "124\n",
      "113\n",
      "17\n",
      "150\n",
      "13\n",
      "111\n",
      "13\n",
      "81\n",
      "42\n",
      "58\n",
      "788\n",
      "44\n",
      "629\n",
      "676\n",
      "1309\n",
      "506\n",
      "146\n",
      "1619\n",
      "1551\n",
      "1335\n",
      "2086\n",
      "324\n",
      "1173\n",
      "124\n",
      "2268\n",
      "398\n",
      "94\n",
      "637\n",
      "931\n",
      "333\n",
      "1205\n",
      "891\n",
      "2668\n",
      "86\n",
      "309\n",
      "1595\n",
      "288\n",
      "3252\n",
      "391\n",
      "19\n",
      "653\n",
      "755\n",
      "1430\n",
      "137\n",
      "1762\n",
      "1623\n",
      "1625\n",
      "2886\n",
      "172\n",
      "1516\n",
      "3759\n",
      "269\n",
      "416\n",
      "1043\n",
      "2282\n",
      "4592\n",
      "14\n",
      "80\n",
      "422\n",
      "164\n",
      "ERT: 100\n",
      "ART: 71.02\n",
      "ADD: 1055.5\n"
     ]
    }
   ],
   "source": [
    "times_h0 = []\n",
    "while len(times_h0) < n_repeats:\n",
    "    pred = ddfet.predict(next(stream_h0))\n",
    "    if pred['data']['is_drift'] == 1:\n",
    "        print(ddfet.t)\n",
    "        times_h0.append(ddfet.t)\n",
    "        ddfet.reset()\n",
    "\n",
    "times_h1 = []\n",
    "while len(times_h1) < n_repeats:\n",
    "    pred = ddfet.predict(next(stream_h1))\n",
    "    if pred['data']['is_drift'] == 1:\n",
    "        print(ddfet.t)\n",
    "        times_h1.append(ddfet.t)\n",
    "        ddfet.reset()\n",
    "        \n",
    "art = np.array(times_h0).mean() - np.min(window_sizes) + 1\n",
    "add = np.array(times_h1).mean() - np.min(window_sizes)\n",
    "# Note art won't be super close to ert as we haven't averaged over initialisations.\n",
    "print(f'ERT: {ert}')\n",
    "print(f'ART: {art}')\n",
    "print(f'ADD: {add}')"
   ]
  },
  {
   "cell_type": "markdown",
   "id": "22b84559",
   "metadata": {},
   "source": [
    "**Note**: ADD appears to be very high when `p_h1` < `p_h0`, but low (as desired) when `p_h1` > `p_h0`."
   ]
  }
 ],
 "metadata": {
  "kernelspec": {
   "display_name": "venv",
   "language": "python",
   "name": "venv"
  },
  "language_info": {
   "codemirror_mode": {
    "name": "ipython",
    "version": 3
   },
   "file_extension": ".py",
   "mimetype": "text/x-python",
   "name": "python",
   "nbconvert_exporter": "python",
   "pygments_lexer": "ipython3",
   "version": "3.8.11"
  }
 },
 "nbformat": 4,
 "nbformat_minor": 5
}
