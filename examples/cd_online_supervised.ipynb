{
 "cells": [
  {
   "cell_type": "code",
   "execution_count": 1,
   "id": "0c7c7871",
   "metadata": {},
   "outputs": [
    {
     "name": "stderr",
     "output_type": "stream",
     "text": [
      "Importing plotly failed. Interactive plots will not work.\n"
     ]
    }
   ],
   "source": [
    "import numpy as np\n",
    "import matplotlib.pyplot as plt\n",
    "import time\n",
    "from alibi_detect.cd import CVMDriftOnline"
   ]
  },
  {
   "cell_type": "code",
   "execution_count": 2,
   "id": "80733b6f",
   "metadata": {},
   "outputs": [
    {
     "name": "stdout",
     "output_type": "stream",
     "text": [
      "Using 10000 boostrap simulations to configure thresholds...\n",
      "Threshold config time = 0.556\n",
      "Wall time = 0.557s +- 0s\n"
     ]
    }
   ],
   "source": [
    "ntimes = 1\n",
    "times = np.empty([ntimes])\n",
    "\n",
    "ert = 150  # Desired expected runtime\n",
    "N = 100 # Size of reference set\n",
    "B = 10000 # Number of bootstrap simulations for threshold estimation. 100k more realistic?\n",
    "window_sizes = [10,20]\n",
    "n_repeats = 200  # Number of instances in stream\n",
    "\n",
    "# Note how these are diff to the Gaussian used for configuration.\n",
    "x_ref = np.random.uniform(0, 1, N)\n",
    "stream_h0 = iter(lambda: np.random.uniform(), 1)\n",
    "stream_h1 = iter(lambda: np.random.exponential(), 1)\n",
    "\n",
    "for t in range(ntimes):\n",
    "    t0 = time.time()\n",
    "    dd = CVMDriftOnline(x_ref, ert=ert, window_size=window_sizes, n_bootstraps=B, verbose=True, device='parallel')\n",
    "    times[t] = time.time() - t0\n",
    "\n",
    "print('Wall time = %.3fs +- %.2gs' % (times.mean(),times.std()))"
   ]
  },
  {
   "cell_type": "code",
   "execution_count": 16,
   "id": "ed2c10af",
   "metadata": {},
   "outputs": [
    {
     "name": "stdout",
     "output_type": "stream",
     "text": [
      "0\n",
      "0\n",
      "0\n",
      "0\n",
      "0\n",
      "0\n",
      "0\n",
      "0\n",
      "0\n",
      "0\n",
      "0\n",
      "0\n",
      "0\n",
      "0\n",
      "0\n",
      "0\n",
      "0\n",
      "0\n",
      "0\n",
      "0\n",
      "0\n",
      "0\n",
      "0\n",
      "0\n",
      "0\n",
      "0\n",
      "0\n",
      "0\n",
      "0\n",
      "0\n",
      "0\n",
      "0\n",
      "0\n",
      "0\n",
      "0\n",
      "0\n",
      "0\n",
      "0\n",
      "0\n",
      "0\n",
      "0\n",
      "0\n",
      "0\n",
      "0\n",
      "0\n",
      "0\n",
      "0\n",
      "0\n",
      "0\n",
      "0\n"
     ]
    }
   ],
   "source": [
    "n = 0\n",
    "while n < 50:\n",
    "    a = np.array([np.random.uniform()])\n",
    "    #a = np.array([np.random.randn()])\n",
    "    print(dd.predict(a)['data']['is_drift'])\n",
    "    n += 1"
   ]
  },
  {
   "cell_type": "code",
   "execution_count": 13,
   "id": "7de9c989",
   "metadata": {},
   "outputs": [
    {
     "data": {
      "text/plain": [
       "(1,)"
      ]
     },
     "execution_count": 13,
     "metadata": {},
     "output_type": "execute_result"
    }
   ],
   "source": [
    "np.random.uniform(0,1.1,1).shape"
   ]
  },
  {
   "cell_type": "code",
   "execution_count": null,
   "id": "42025684",
   "metadata": {},
   "outputs": [],
   "source": []
  }
 ],
 "metadata": {
  "kernelspec": {
   "display_name": "venv",
   "language": "python",
   "name": "venv"
  },
  "language_info": {
   "codemirror_mode": {
    "name": "ipython",
    "version": 3
   },
   "file_extension": ".py",
   "mimetype": "text/x-python",
   "name": "python",
   "nbconvert_exporter": "python",
   "pygments_lexer": "ipython3",
   "version": "3.8.11"
  }
 },
 "nbformat": 4,
 "nbformat_minor": 5
}
