{
 "cells": [
  {
   "cell_type": "code",
   "execution_count": 4,
   "id": "0c7c7871",
   "metadata": {},
   "outputs": [],
   "source": [
    "import numpy as np\n",
    "import matplotlib.pyplot as plt\n",
    "import time\n",
    "from alibi_detect.cd import CVMDriftOnline"
   ]
  },
  {
   "cell_type": "code",
   "execution_count": 5,
   "id": "80733b6f",
   "metadata": {},
   "outputs": [
    {
     "name": "stdout",
     "output_type": "stream",
     "text": [
      "Using 5000 boostrap simulations to configure thresholds...\n",
      "Using 5000 boostrap simulations to configure thresholds...\n",
      "Using 5000 boostrap simulations to configure thresholds...\n",
      "Wall time = 1.459s +- 0.0029s\n"
     ]
    }
   ],
   "source": [
    "ntimes = 3\n",
    "times = np.empty([ntimes])\n",
    "\n",
    "ert = 150  # Desired expected runtime\n",
    "N = 500 # Size of reference set\n",
    "B = 5000 # Number of bootstrap simulations for threshold estimation. 100k more realistic?\n",
    "window_sizes = [10,20]\n",
    "n_repeats = 200  # Number of instances in stream\n",
    "\n",
    "# Note how these are diff to the Gaussian used for configuration.\n",
    "x_ref = np.random.uniform(0, 1, N)\n",
    "stream_h0 = iter(lambda: np.random.uniform(), 1)\n",
    "stream_h1 = iter(lambda: np.random.exponential(), 1)\n",
    "\n",
    "for t in range(ntimes):\n",
    "    t0 = time.time()\n",
    "    dd = CVMDriftOnline(x_ref, ert=ert, window_size=window_sizes, n_bootstraps=B, verbose=True)\n",
    "    times[t] = time.time() - t0\n",
    "\n",
    "print('Wall time = %.3fs +- %.2gs' % (times.mean(),times.std()))"
   ]
  },
  {
   "cell_type": "code",
   "execution_count": null,
   "id": "e78fa12b",
   "metadata": {},
   "outputs": [],
   "source": [
    "array = dd.thresholds\n",
    "array"
   ]
  },
  {
   "cell_type": "code",
   "execution_count": null,
   "id": "70f50ac2",
   "metadata": {},
   "outputs": [],
   "source": [
    "not_nan_array = ~ nan_array\n",
    "array2 = array1[not_nan_array]"
   ]
  },
  {
   "cell_type": "code",
   "execution_count": null,
   "id": "8cc42b3b",
   "metadata": {},
   "outputs": [],
   "source": [
    "~ np.isnan(array)"
   ]
  },
  {
   "cell_type": "code",
   "execution_count": null,
   "id": "cb5e8213",
   "metadata": {},
   "outputs": [],
   "source": []
  }
 ],
 "metadata": {
  "kernelspec": {
   "display_name": "venv",
   "language": "python",
   "name": "venv"
  },
  "language_info": {
   "codemirror_mode": {
    "name": "ipython",
    "version": 3
   },
   "file_extension": ".py",
   "mimetype": "text/x-python",
   "name": "python",
   "nbconvert_exporter": "python",
   "pygments_lexer": "ipython3",
   "version": "3.8.11"
  }
 },
 "nbformat": 4,
 "nbformat_minor": 5
}
