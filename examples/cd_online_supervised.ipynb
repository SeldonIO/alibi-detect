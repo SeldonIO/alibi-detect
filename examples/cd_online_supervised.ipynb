{
 "cells": [
  {
   "cell_type": "code",
   "execution_count": 1,
   "id": "0c7c7871",
   "metadata": {},
   "outputs": [
    {
     "name": "stderr",
     "output_type": "stream",
     "text": [
      "Importing plotly failed. Interactive plots will not work.\n"
     ]
    }
   ],
   "source": [
    "import numpy as np\n",
    "import matplotlib.pyplot as plt\n",
    "import time\n",
    "from alibi_detect.cd import CVMDriftOnline, MMDDriftOnline"
   ]
  },
  {
   "cell_type": "code",
   "execution_count": 2,
   "id": "80733b6f",
   "metadata": {},
   "outputs": [
    {
     "name": "stdout",
     "output_type": "stream",
     "text": [
      "Using 10000 boostrap simulations to configure thresholds...\n",
      "Threshold config time = 0.546\n",
      "Generating permutations of kernel matrix..\n"
     ]
    },
    {
     "name": "stderr",
     "output_type": "stream",
     "text": [
      "100%|██████████| 1000/1000 [00:00<00:00, 23520.30it/s]\n",
      "Computing thresholds: 100%|██████████| 10/10 [00:05<00:00,  1.81it/s]"
     ]
    },
    {
     "name": "stdout",
     "output_type": "stream",
     "text": [
      "Wall time = 0.546s +- 0s\n"
     ]
    },
    {
     "name": "stderr",
     "output_type": "stream",
     "text": [
      "\n"
     ]
    }
   ],
   "source": [
    "ntimes = 1\n",
    "times = np.empty([ntimes])\n",
    "\n",
    "ert = 150  # Desired expected runtime\n",
    "N = 100 # Size of reference set\n",
    "B = 10000 # Number of bootstrap simulations for threshold estimation. 100k more realistic?\n",
    "window_sizes = [10,20]\n",
    "n_repeats = 200  # Number of instances in stream\n",
    "\n",
    "# Note how these are diff to the Gaussian used for configuration.\n",
    "x_ref = np.random.uniform(0, 1, N)\n",
    "stream_h0 = iter(lambda: np.random.uniform(), 1)\n",
    "stream_h1 = iter(lambda: np.random.exponential(), 1)\n",
    "\n",
    "for t in range(ntimes):\n",
    "    t0 = time.time()\n",
    "    ddcvm = CVMDriftOnline(x_ref, ert=ert, window_size=window_sizes, n_bootstraps=B, verbose=True, device='parallel')\n",
    "    times[t] = time.time() - t0\n",
    "    ddmmd = MMDDriftOnline(x_ref, ert=ert, window_size=10)\n",
    "\n",
    "print('Wall time = %.3fs +- %.2gs' % (times.mean(),times.std()))"
   ]
  },
  {
   "cell_type": "code",
   "execution_count": 3,
   "id": "ed2c10af",
   "metadata": {},
   "outputs": [
    {
     "name": "stdout",
     "output_type": "stream",
     "text": [
      "196\n"
     ]
    }
   ],
   "source": [
    "n = 0\n",
    "while n < 1000:\n",
    "    a = np.array([np.random.uniform(0,1.1)])\n",
    "    #a = np.array([np.random.randn()])\n",
    "    ddcvm_result = ddcvm.predict(a)\n",
    "    ddmmd_result = ddmmd.predict(a)\n",
    "    #print(ddcvm_result,ddmmd_result)\n",
    "    if ddmmd_result['data']['is_drift'] == 1:\n",
    "        print(n)\n",
    "        break\n",
    "    n += 1"
   ]
  },
  {
   "cell_type": "code",
   "execution_count": 4,
   "id": "4910022e",
   "metadata": {},
   "outputs": [
    {
     "data": {
      "text/plain": [
       "{'data': {'is_drift': 1,\n",
       "  'distance': None,\n",
       "  'p_val': None,\n",
       "  'threshold': 3.4536622468702767,\n",
       "  'time': 198,\n",
       "  'ert': 150,\n",
       "  'test_stat': array([7.3334684, 3.0212743], dtype=float32)},\n",
       " 'meta': {'name': 'CVMDriftOnline',\n",
       "  'detector_type': 'online',\n",
       "  'data_type': None,\n",
       "  'version': '0.7.3dev'}}"
      ]
     },
     "execution_count": 4,
     "metadata": {},
     "output_type": "execute_result"
    }
   ],
   "source": [
    "ddcvm.predict(np.array([20]))"
   ]
  },
  {
   "cell_type": "code",
   "execution_count": 5,
   "id": "a025ca3d",
   "metadata": {},
   "outputs": [],
   "source": [
    "ddmmd.reset()"
   ]
  },
  {
   "cell_type": "code",
   "execution_count": 6,
   "id": "28a0e3c4",
   "metadata": {},
   "outputs": [
    {
     "data": {
      "text/plain": [
       "-0.051977992"
      ]
     },
     "execution_count": 6,
     "metadata": {},
     "output_type": "execute_result"
    }
   ],
   "source": [
    "ddmmd._detector.score(np.array([0]))"
   ]
  },
  {
   "cell_type": "code",
   "execution_count": 7,
   "id": "ad6ab2d3",
   "metadata": {},
   "outputs": [
    {
     "data": {
      "text/plain": [
       "(100,)"
      ]
     },
     "execution_count": 7,
     "metadata": {},
     "output_type": "execute_result"
    }
   ],
   "source": [
    "x_ref.shape"
   ]
  },
  {
   "cell_type": "code",
   "execution_count": 8,
   "id": "f6738412",
   "metadata": {},
   "outputs": [],
   "source": [
    "array = np.array([2])"
   ]
  },
  {
   "cell_type": "code",
   "execution_count": 9,
   "id": "9e42e46a",
   "metadata": {},
   "outputs": [
    {
     "data": {
      "text/plain": [
       "array([[2]])"
      ]
     },
     "execution_count": 9,
     "metadata": {},
     "output_type": "execute_result"
    }
   ],
   "source": [
    "np.asarray(array)[None]"
   ]
  },
  {
   "cell_type": "code",
   "execution_count": 10,
   "id": "ee995f50",
   "metadata": {},
   "outputs": [
    {
     "data": {
      "text/plain": [
       "array([2])"
      ]
     },
     "execution_count": 10,
     "metadata": {},
     "output_type": "execute_result"
    }
   ],
   "source": [
    "np.asarray(2)[None]"
   ]
  },
  {
   "cell_type": "code",
   "execution_count": null,
   "id": "32da58cb",
   "metadata": {},
   "outputs": [],
   "source": []
  }
 ],
 "metadata": {
  "kernelspec": {
   "display_name": "venv",
   "language": "python",
   "name": "venv"
  },
  "language_info": {
   "codemirror_mode": {
    "name": "ipython",
    "version": 3
   },
   "file_extension": ".py",
   "mimetype": "text/x-python",
   "name": "python",
   "nbconvert_exporter": "python",
   "pygments_lexer": "ipython3",
   "version": "3.8.11"
  }
 },
 "nbformat": 4,
 "nbformat_minor": 5
}
