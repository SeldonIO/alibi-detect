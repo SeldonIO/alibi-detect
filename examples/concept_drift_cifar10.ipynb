{
 "cells": [
  {
   "cell_type": "code",
   "execution_count": 1,
   "metadata": {},
   "outputs": [
    {
     "name": "stderr",
     "output_type": "stream",
     "text": [
      "/home/fdz/anaconda3/envs/tf2-gpu/lib/python3.6/site-packages/tensorflow/python/framework/dtypes.py:516: FutureWarning: Passing (type, 1) or '1type' as a synonym of type is deprecated; in a future version of numpy, it will be understood as (type, (1,)) / '(1,)type'.\n",
      "  _np_qint8 = np.dtype([(\"qint8\", np.int8, 1)])\n",
      "/home/fdz/anaconda3/envs/tf2-gpu/lib/python3.6/site-packages/tensorflow/python/framework/dtypes.py:517: FutureWarning: Passing (type, 1) or '1type' as a synonym of type is deprecated; in a future version of numpy, it will be understood as (type, (1,)) / '(1,)type'.\n",
      "  _np_quint8 = np.dtype([(\"quint8\", np.uint8, 1)])\n",
      "/home/fdz/anaconda3/envs/tf2-gpu/lib/python3.6/site-packages/tensorflow/python/framework/dtypes.py:518: FutureWarning: Passing (type, 1) or '1type' as a synonym of type is deprecated; in a future version of numpy, it will be understood as (type, (1,)) / '(1,)type'.\n",
      "  _np_qint16 = np.dtype([(\"qint16\", np.int16, 1)])\n",
      "/home/fdz/anaconda3/envs/tf2-gpu/lib/python3.6/site-packages/tensorflow/python/framework/dtypes.py:519: FutureWarning: Passing (type, 1) or '1type' as a synonym of type is deprecated; in a future version of numpy, it will be understood as (type, (1,)) / '(1,)type'.\n",
      "  _np_quint16 = np.dtype([(\"quint16\", np.uint16, 1)])\n",
      "/home/fdz/anaconda3/envs/tf2-gpu/lib/python3.6/site-packages/tensorflow/python/framework/dtypes.py:520: FutureWarning: Passing (type, 1) or '1type' as a synonym of type is deprecated; in a future version of numpy, it will be understood as (type, (1,)) / '(1,)type'.\n",
      "  _np_qint32 = np.dtype([(\"qint32\", np.int32, 1)])\n",
      "/home/fdz/anaconda3/envs/tf2-gpu/lib/python3.6/site-packages/tensorflow/python/framework/dtypes.py:525: FutureWarning: Passing (type, 1) or '1type' as a synonym of type is deprecated; in a future version of numpy, it will be understood as (type, (1,)) / '(1,)type'.\n",
      "  np_resource = np.dtype([(\"resource\", np.ubyte, 1)])\n",
      "/home/fdz/anaconda3/envs/tf2-gpu/lib/python3.6/site-packages/tensorboard/compat/tensorflow_stub/dtypes.py:541: FutureWarning: Passing (type, 1) or '1type' as a synonym of type is deprecated; in a future version of numpy, it will be understood as (type, (1,)) / '(1,)type'.\n",
      "  _np_qint8 = np.dtype([(\"qint8\", np.int8, 1)])\n",
      "/home/fdz/anaconda3/envs/tf2-gpu/lib/python3.6/site-packages/tensorboard/compat/tensorflow_stub/dtypes.py:542: FutureWarning: Passing (type, 1) or '1type' as a synonym of type is deprecated; in a future version of numpy, it will be understood as (type, (1,)) / '(1,)type'.\n",
      "  _np_quint8 = np.dtype([(\"quint8\", np.uint8, 1)])\n",
      "/home/fdz/anaconda3/envs/tf2-gpu/lib/python3.6/site-packages/tensorboard/compat/tensorflow_stub/dtypes.py:543: FutureWarning: Passing (type, 1) or '1type' as a synonym of type is deprecated; in a future version of numpy, it will be understood as (type, (1,)) / '(1,)type'.\n",
      "  _np_qint16 = np.dtype([(\"qint16\", np.int16, 1)])\n",
      "/home/fdz/anaconda3/envs/tf2-gpu/lib/python3.6/site-packages/tensorboard/compat/tensorflow_stub/dtypes.py:544: FutureWarning: Passing (type, 1) or '1type' as a synonym of type is deprecated; in a future version of numpy, it will be understood as (type, (1,)) / '(1,)type'.\n",
      "  _np_quint16 = np.dtype([(\"quint16\", np.uint16, 1)])\n",
      "/home/fdz/anaconda3/envs/tf2-gpu/lib/python3.6/site-packages/tensorboard/compat/tensorflow_stub/dtypes.py:545: FutureWarning: Passing (type, 1) or '1type' as a synonym of type is deprecated; in a future version of numpy, it will be understood as (type, (1,)) / '(1,)type'.\n",
      "  _np_qint32 = np.dtype([(\"qint32\", np.int32, 1)])\n",
      "/home/fdz/anaconda3/envs/tf2-gpu/lib/python3.6/site-packages/tensorboard/compat/tensorflow_stub/dtypes.py:550: FutureWarning: Passing (type, 1) or '1type' as a synonym of type is deprecated; in a future version of numpy, it will be understood as (type, (1,)) / '(1,)type'.\n",
      "  np_resource = np.dtype([(\"resource\", np.ubyte, 1)])\n",
      "Using TensorFlow backend.\n"
     ]
    }
   ],
   "source": [
    "import pandas as pd\n",
    "import numpy as np\n",
    "import tensorflow as tf\n",
    "import keras\n",
    "import matplotlib\n",
    "import matplotlib.pyplot as plt\n",
    "import sys\n",
    "from sklearn.metrics import confusion_matrix, accuracy_score, precision_score, recall_score, precision_recall_curve\n",
    "from importlib import reload\n",
    "%matplotlib inline"
   ]
  },
  {
   "cell_type": "code",
   "execution_count": 2,
   "metadata": {},
   "outputs": [],
   "source": [
    "sys.path.append('../odcd/cd/')"
   ]
  },
  {
   "cell_type": "code",
   "execution_count": 3,
   "metadata": {},
   "outputs": [],
   "source": [
    "import model_symmetries as vsf"
   ]
  },
  {
   "cell_type": "markdown",
   "metadata": {},
   "source": [
    "# Load Cifar"
   ]
  },
  {
   "cell_type": "code",
   "execution_count": 4,
   "metadata": {},
   "outputs": [],
   "source": [
    "cifar = tf.keras.datasets.cifar10.load_data()"
   ]
  },
  {
   "cell_type": "code",
   "execution_count": 5,
   "metadata": {},
   "outputs": [
    {
     "name": "stdout",
     "output_type": "stream",
     "text": [
      "(50000, 32, 32, 3) (10000, 32, 32, 3)\n",
      "(50000, 1) (10000, 1)\n"
     ]
    }
   ],
   "source": [
    "(x_train, y_train), (x_test, y_test) = cifar\n",
    "print(x_train.shape, x_test.shape)\n",
    "print(y_train.shape, y_test.shape)"
   ]
  },
  {
   "cell_type": "code",
   "execution_count": 6,
   "metadata": {},
   "outputs": [],
   "source": [
    "x_train = x_train.astype('float32')\n",
    "x_test = x_test.astype('float32')\n",
    "x_train /= 255\n",
    "x_test /= 255"
   ]
  },
  {
   "cell_type": "code",
   "execution_count": 7,
   "metadata": {},
   "outputs": [],
   "source": [
    "y_train = keras.utils.to_categorical(y_train, 10)\n",
    "y_test = keras.utils.to_categorical(y_test, 10)"
   ]
  },
  {
   "cell_type": "code",
   "execution_count": 8,
   "metadata": {},
   "outputs": [
    {
     "name": "stdout",
     "output_type": "stream",
     "text": [
      "(50000, 10) (10000, 10)\n"
     ]
    }
   ],
   "source": [
    "print(y_train.shape, y_test.shape)"
   ]
  },
  {
   "cell_type": "markdown",
   "metadata": {},
   "source": [
    "# Load model"
   ]
  },
  {
   "cell_type": "code",
   "execution_count": 9,
   "metadata": {},
   "outputs": [],
   "source": [
    "from tensorflow.keras.models import Sequential\n",
    "from tensorflow.keras.layers import Conv2D, MaxPooling2D, Dropout, Flatten, Dense, Activation"
   ]
  },
  {
   "cell_type": "code",
   "execution_count": 10,
   "metadata": {},
   "outputs": [],
   "source": [
    "def model():\n",
    "    model = Sequential()\n",
    "    model.add(Conv2D(32, (3, 3), padding='same',\n",
    "                 input_shape=x_train.shape[1:]))\n",
    "    model.add(Activation('relu'))\n",
    "    model.add(Conv2D(32, (3, 3)))\n",
    "    model.add(Activation('relu'))\n",
    "    model.add(MaxPooling2D(pool_size=(2, 2)))\n",
    "    model.add(Dropout(0.25))\n",
    "\n",
    "    model.add(Conv2D(64, (3, 3), padding='same'))\n",
    "    model.add(Activation('relu'))\n",
    "    model.add(Conv2D(64, (3, 3)))\n",
    "    model.add(Activation('relu'))\n",
    "    model.add(MaxPooling2D(pool_size=(2, 2)))\n",
    "    model.add(Dropout(0.25))\n",
    "\n",
    "    model.add(Flatten())\n",
    "    model.add(Dense(512))\n",
    "    model.add(Activation('relu'))\n",
    "    model.add(Dropout(0.5))\n",
    "    model.add(Dense(10))\n",
    "    model.add(Activation('softmax'))\n",
    "\n",
    "# Let's train the model using RMSprop\n",
    "    model.compile(loss='categorical_crossentropy',\n",
    "              optimizer='rmsprop',\n",
    "              metrics=['accuracy'])\n",
    "    \n",
    "    return model"
   ]
  },
  {
   "cell_type": "code",
   "execution_count": 11,
   "metadata": {},
   "outputs": [
    {
     "name": "stdout",
     "output_type": "stream",
     "text": [
      "WARNING:tensorflow:From /home/fdz/anaconda3/envs/tf2-gpu/lib/python3.6/site-packages/tensorflow/python/ops/init_ops.py:1251: calling VarianceScaling.__init__ (from tensorflow.python.ops.init_ops) with dtype is deprecated and will be removed in a future version.\n",
      "Instructions for updating:\n",
      "Call initializer instance with the dtype argument instead of passing it to the constructor\n"
     ]
    }
   ],
   "source": [
    "model_cifar = model()"
   ]
  },
  {
   "cell_type": "code",
   "execution_count": null,
   "metadata": {},
   "outputs": [
    {
     "name": "stdout",
     "output_type": "stream",
     "text": [
      "Train on 50000 samples, validate on 10000 samples\n",
      "Epoch 1/10\n",
      "50000/50000 [==============================] - 54s 1ms/sample - loss: 1.7303 - acc: 0.3758 - val_loss: 1.4364 - val_acc: 0.4835\n",
      "Epoch 2/10\n",
      "12288/50000 [======>.......................] - ETA: 40s - loss: 1.3794 - acc: 0.5114"
     ]
    }
   ],
   "source": [
    "model_cifar.fit(x_train, y_train, epochs=10, batch_size=128, validation_data=(x_test, y_test))"
   ]
  },
  {
   "cell_type": "markdown",
   "metadata": {},
   "source": [
    "# Find symmetries"
   ]
  },
  {
   "cell_type": "code",
   "execution_count": null,
   "metadata": {},
   "outputs": [],
   "source": [
    "reload(vsf)"
   ]
  },
  {
   "cell_type": "code",
   "execution_count": 228,
   "metadata": {},
   "outputs": [
    {
     "name": "stdout",
     "output_type": "stream",
     "text": [
      "32\n",
      "WARNING:tensorflow:Output decoder_output missing from loss dictionary. We assume this was done on purpose. The fit and evaluate APIs will not be expecting any data to be passed to decoder_output.\n",
      "WARNING:tensorflow:Output sequential_7 missing from loss dictionary. We assume this was done on purpose. The fit and evaluate APIs will not be expecting any data to be passed to sequential_7.\n",
      "WARNING:tensorflow:Output sequential_7_1 missing from loss dictionary. We assume this was done on purpose. The fit and evaluate APIs will not be expecting any data to be passed to sequential_7_1.\n",
      "Vae\n",
      "Model: \"vae_mlp\"\n",
      "__________________________________________________________________________________________________\n",
      "Layer (type)                    Output Shape         Param #     Connected to                     \n",
      "==================================================================================================\n",
      "encoder_input (InputLayer)      [(None, 32, 32, 3)]  0                                            \n",
      "__________________________________________________________________________________________________\n",
      "conv2d_44 (Conv2D)              (None, 16, 16, 32)   896         encoder_input[0][0]              \n",
      "__________________________________________________________________________________________________\n",
      "flatten_15 (Flatten)            (None, 8192)         0           conv2d_44[0][0]                  \n",
      "__________________________________________________________________________________________________\n",
      "dense_38 (Dense)                (None, 16)           131088      flatten_15[0][0]                 \n",
      "__________________________________________________________________________________________________\n",
      "z_mean (Dense)                  (None, 2)            34          dense_38[0][0]                   \n",
      "__________________________________________________________________________________________________\n",
      "z_log_var (Dense)               (None, 2)            34          dense_38[0][0]                   \n",
      "__________________________________________________________________________________________________\n",
      "z (Lambda)                      (None, 2)            0           z_mean[0][0]                     \n",
      "                                                                 z_log_var[0][0]                  \n",
      "__________________________________________________________________________________________________\n",
      "dense_39 (Dense)                (None, 8192)         24576       z[0][0]                          \n",
      "__________________________________________________________________________________________________\n",
      "reshape_10 (Reshape)            (None, 16, 16, 32)   0           dense_39[0][0]                   \n",
      "__________________________________________________________________________________________________\n",
      "conv2d_transpose_12 (Conv2DTran (None, 32, 32, 32)   9248        reshape_10[0][0]                 \n",
      "__________________________________________________________________________________________________\n",
      "decoder_output (Conv2DTranspose (None, 32, 32, 3)    867         conv2d_transpose_12[0][0]        \n",
      "__________________________________________________________________________________________________\n",
      "sequential_7 (Sequential)       (None, 10)           1250858     decoder_output[0][0]             \n",
      "                                                                 encoder_input[0][0]              \n",
      "__________________________________________________________________________________________________\n",
      "tf_op_layer_clip_by_value_6/Min [(None, 10)]         0           sequential_7[8][0]               \n",
      "__________________________________________________________________________________________________\n",
      "tf_op_layer_clip_by_value_6 (Te [(None, 10)]         0           tf_op_layer_clip_by_value_6/Minim\n",
      "__________________________________________________________________________________________________\n",
      "tf_op_layer_clip_by_value_7/Min [(None, 10)]         0           sequential_7[7][0]               \n",
      "__________________________________________________________________________________________________\n",
      "tf_op_layer_clip_by_value_7 (Te [(None, 10)]         0           tf_op_layer_clip_by_value_7/Minim\n",
      "__________________________________________________________________________________________________\n",
      "tf_op_layer_truediv_3 (TensorFl [(None, 10)]         0           tf_op_layer_clip_by_value_6[0][0]\n",
      "                                                                 tf_op_layer_clip_by_value_7[0][0]\n",
      "__________________________________________________________________________________________________\n",
      "tf_op_layer_Log_3 (TensorFlowOp [(None, 10)]         0           tf_op_layer_truediv_3[0][0]      \n",
      "__________________________________________________________________________________________________\n",
      "tf_op_layer_mul_3 (TensorFlowOp [(None, 10)]         0           tf_op_layer_clip_by_value_6[0][0]\n",
      "                                                                 tf_op_layer_Log_3[0][0]          \n",
      "__________________________________________________________________________________________________\n",
      "tf_op_layer_Sum_3 (TensorFlowOp [(None,)]            0           tf_op_layer_mul_3[0][0]          \n",
      "__________________________________________________________________________________________________\n",
      "tf_op_layer_Mean_3 (TensorFlowO [()]                 0           tf_op_layer_Sum_3[0][0]          \n",
      "__________________________________________________________________________________________________\n",
      "add_loss_3 (AddLoss)            ()                   0           tf_op_layer_Mean_3[0][0]         \n",
      "==================================================================================================\n",
      "Total params: 1,417,601\n",
      "Trainable params: 166,743\n",
      "Non-trainable params: 1,250,858\n",
      "__________________________________________________________________________________________________\n"
     ]
    }
   ],
   "source": [
    "vae = vsf.VaeSymmetryFinderConv(model_cifar, input_shape=x_train.shape[1:], \n",
    "                            output_shape=(10, ), intermediate_dim=128, output_activation='sigmoid')"
   ]
  },
  {
   "cell_type": "code",
   "execution_count": 229,
   "metadata": {},
   "outputs": [
    {
     "name": "stdout",
     "output_type": "stream",
     "text": [
      "Train on 50000 samples, validate on 10000 samples\n",
      "Epoch 1/50\n",
      "50000/50000 [==============================] - 67s 1ms/sample - loss: 1.3388 - val_loss: 1.0548\n",
      "Epoch 2/50\n",
      "50000/50000 [==============================] - 69s 1ms/sample - loss: 1.0845 - val_loss: 0.9860\n",
      "Epoch 3/50\n",
      "50000/50000 [==============================] - 69s 1ms/sample - loss: 1.0273 - val_loss: 0.9494\n",
      "Epoch 4/50\n",
      "50000/50000 [==============================] - 69s 1ms/sample - loss: 0.9760 - val_loss: 0.9010\n",
      "Epoch 5/50\n",
      "50000/50000 [==============================] - 69s 1ms/sample - loss: 0.9286 - val_loss: 0.9044\n",
      "Epoch 6/50\n",
      "50000/50000 [==============================] - 69s 1ms/sample - loss: 0.8980 - val_loss: 0.8709\n",
      "Epoch 7/50\n",
      "50000/50000 [==============================] - 69s 1ms/sample - loss: 0.8772 - val_loss: 0.8466\n",
      "Epoch 8/50\n",
      "50000/50000 [==============================] - 71s 1ms/sample - loss: 0.8515 - val_loss: 0.8226\n",
      "Epoch 9/50\n",
      "50000/50000 [==============================] - 71s 1ms/sample - loss: 0.8258 - val_loss: 0.8039\n",
      "Epoch 10/50\n",
      "50000/50000 [==============================] - 69s 1ms/sample - loss: 0.8071 - val_loss: 0.8428\n",
      "Epoch 11/50\n",
      "50000/50000 [==============================] - 70s 1ms/sample - loss: 0.7862 - val_loss: 0.7851\n",
      "Epoch 12/50\n",
      "50000/50000 [==============================] - 70s 1ms/sample - loss: 0.7704 - val_loss: 0.7663\n",
      "Epoch 13/50\n",
      "50000/50000 [==============================] - 70s 1ms/sample - loss: 0.7523 - val_loss: 0.7644\n",
      "Epoch 14/50\n",
      "50000/50000 [==============================] - 70s 1ms/sample - loss: 0.7375 - val_loss: 0.7681\n",
      "Epoch 15/50\n",
      "50000/50000 [==============================] - 70s 1ms/sample - loss: 0.7292 - val_loss: 0.7385\n",
      "Epoch 16/50\n",
      "50000/50000 [==============================] - 70s 1ms/sample - loss: 0.7183 - val_loss: 0.7526\n",
      "Epoch 17/50\n",
      "50000/50000 [==============================] - 70s 1ms/sample - loss: 0.7068 - val_loss: 0.7488\n",
      "Epoch 18/50\n",
      "50000/50000 [==============================] - 70s 1ms/sample - loss: 0.6951 - val_loss: 0.7512\n",
      "Epoch 19/50\n",
      "50000/50000 [==============================] - 70s 1ms/sample - loss: 0.6896 - val_loss: 0.7319\n",
      "Epoch 20/50\n",
      "50000/50000 [==============================] - 70s 1ms/sample - loss: 0.6761 - val_loss: 0.7413\n",
      "Epoch 21/50\n",
      "50000/50000 [==============================] - 73s 1ms/sample - loss: 0.6705 - val_loss: 0.7277\n",
      "Epoch 22/50\n",
      "50000/50000 [==============================] - 82s 2ms/sample - loss: 0.6691 - val_loss: 0.7413\n",
      "Epoch 23/50\n",
      "50000/50000 [==============================] - 75s 2ms/sample - loss: 0.6634 - val_loss: 0.7389\n",
      "Epoch 24/50\n",
      "50000/50000 [==============================] - 83s 2ms/sample - loss: 0.6563 - val_loss: 0.7197\n",
      "Epoch 25/50\n",
      "50000/50000 [==============================] - 82s 2ms/sample - loss: 0.6519 - val_loss: 0.7059\n",
      "Epoch 26/50\n",
      "50000/50000 [==============================] - 77s 2ms/sample - loss: 0.6437 - val_loss: 0.7212\n",
      "Epoch 27/50\n",
      "50000/50000 [==============================] - 73s 1ms/sample - loss: 0.6464 - val_loss: 0.7093\n",
      "Epoch 28/50\n",
      "50000/50000 [==============================] - 77s 2ms/sample - loss: 0.6434 - val_loss: 0.7226\n",
      "Epoch 29/50\n",
      "50000/50000 [==============================] - 77s 2ms/sample - loss: 0.6339 - val_loss: 0.7252\n",
      "Epoch 30/50\n",
      "50000/50000 [==============================] - 73s 1ms/sample - loss: 0.6334 - val_loss: 0.7190\n",
      "Epoch 31/50\n",
      "50000/50000 [==============================] - 72s 1ms/sample - loss: 0.6319 - val_loss: 0.7421\n",
      "Epoch 32/50\n",
      "50000/50000 [==============================] - 72s 1ms/sample - loss: 0.6234 - val_loss: 0.7146\n",
      "Epoch 33/50\n",
      "50000/50000 [==============================] - 72s 1ms/sample - loss: 0.6179 - val_loss: 0.7215\n",
      "Epoch 34/50\n",
      "50000/50000 [==============================] - 72s 1ms/sample - loss: 0.6196 - val_loss: 0.6978\n",
      "Epoch 35/50\n",
      "50000/50000 [==============================] - 71s 1ms/sample - loss: 0.6194 - val_loss: 0.6934\n",
      "Epoch 36/50\n",
      "50000/50000 [==============================] - 69s 1ms/sample - loss: 0.6199 - val_loss: 0.7056\n",
      "Epoch 37/50\n",
      "50000/50000 [==============================] - 69s 1ms/sample - loss: 0.6208 - val_loss: 0.6965\n",
      "Epoch 38/50\n",
      "50000/50000 [==============================] - 69s 1ms/sample - loss: 0.6196 - val_loss: 0.7106\n",
      "Epoch 39/50\n",
      "50000/50000 [==============================] - 70s 1ms/sample - loss: 0.6057 - val_loss: 0.7397\n",
      "Epoch 40/50\n",
      "50000/50000 [==============================] - 69s 1ms/sample - loss: 0.6122 - val_loss: 0.7225\n",
      "Epoch 41/50\n",
      "50000/50000 [==============================] - 69s 1ms/sample - loss: 0.6143 - val_loss: 0.7048\n",
      "Epoch 42/50\n",
      "50000/50000 [==============================] - 70s 1ms/sample - loss: 0.6088 - val_loss: 0.7002\n",
      "Epoch 43/50\n",
      "50000/50000 [==============================] - 70s 1ms/sample - loss: 0.6075 - val_loss: 0.7150\n",
      "Epoch 44/50\n",
      "50000/50000 [==============================] - 69s 1ms/sample - loss: 0.6040 - val_loss: 0.7039\n",
      "Epoch 45/50\n",
      "50000/50000 [==============================] - 69s 1ms/sample - loss: 0.5901 - val_loss: 0.7104\n",
      "Epoch 46/50\n",
      "50000/50000 [==============================] - 69s 1ms/sample - loss: 0.5996 - val_loss: 0.7116\n",
      "Epoch 47/50\n",
      "50000/50000 [==============================] - 69s 1ms/sample - loss: 0.5895 - val_loss: 0.7172\n",
      "Epoch 48/50\n",
      "50000/50000 [==============================] - 69s 1ms/sample - loss: 0.5849 - val_loss: 0.7108\n",
      "Epoch 49/50\n",
      "50000/50000 [==============================] - 69s 1ms/sample - loss: 0.5843 - val_loss: 0.7002\n",
      "Epoch 50/50\n",
      "50000/50000 [==============================] - 69s 1ms/sample - loss: 0.5782 - val_loss: 0.7100\n"
     ]
    }
   ],
   "source": [
    "vae.fit(x_train, x_test=x_test, epochs=50)"
   ]
  },
  {
   "cell_type": "code",
   "execution_count": 173,
   "metadata": {},
   "outputs": [],
   "source": [
    "i = 42\n",
    "x = x_test[i:i+1]"
   ]
  },
  {
   "cell_type": "code",
   "execution_count": 230,
   "metadata": {},
   "outputs": [
    {
     "data": {
      "text/plain": [
       "<matplotlib.image.AxesImage at 0x7fa4827a6470>"
      ]
     },
     "execution_count": 230,
     "metadata": {},
     "output_type": "execute_result"
    },
    {
     "data": {
      "image/png": "[encoded data removed]",
      "text/plain": [
       "<Figure size 432x288 with 1 Axes>"
      ]
     },
     "metadata": {
      "needs_background": "light"
     },
     "output_type": "display_data"
    }
   ],
   "source": [
    "plt.imshow(np.squeeze(x))"
   ]
  },
  {
   "cell_type": "code",
   "execution_count": 231,
   "metadata": {},
   "outputs": [
    {
     "data": {
      "text/plain": [
       "array([[6.9339992e-05, 4.8406787e-07, 5.0648334e-03, 2.0498581e-01,\n",
       "        5.1768566e-04, 6.7372775e-01, 2.1447755e-05, 1.1560838e-01,\n",
       "        1.2365074e-07, 4.1257481e-06]], dtype=float32)"
      ]
     },
     "execution_count": 231,
     "metadata": {},
     "output_type": "execute_result"
    }
   ],
   "source": [
    "model_cifar.predict(x)"
   ]
  },
  {
   "cell_type": "code",
   "execution_count": 232,
   "metadata": {},
   "outputs": [
    {
     "data": {
      "text/plain": [
       "array([5])"
      ]
     },
     "execution_count": 232,
     "metadata": {},
     "output_type": "execute_result"
    }
   ],
   "source": [
    "np.argmax(model_cifar.predict(x), axis=1)"
   ]
  },
  {
   "cell_type": "code",
   "execution_count": 233,
   "metadata": {},
   "outputs": [
    {
     "data": {
      "text/plain": [
       "array([[1., 0., 0., 0., 0., 0., 0., 0., 0., 0.]], dtype=float32)"
      ]
     },
     "execution_count": 233,
     "metadata": {},
     "output_type": "execute_result"
    }
   ],
   "source": [
    "y_test[i:i+1]"
   ]
  },
  {
   "cell_type": "code",
   "execution_count": 234,
   "metadata": {},
   "outputs": [],
   "source": [
    "outs_1 = vae.vae.predict(x)\n",
    "outs_2 = vae.vae.predict(x)"
   ]
  },
  {
   "cell_type": "code",
   "execution_count": 235,
   "metadata": {},
   "outputs": [],
   "source": [
    "symmetric_sample_1 = outs_1[0]\n",
    "symmetric_sample_2 = outs_2[0]\n",
    "\n",
    "orig_pred_1 = outs_1[1]\n",
    "orig_pred_2 = outs_2[1]\n",
    "\n",
    "trans_pred_1 = outs_1[2]\n",
    "trans_pred_2 = outs_2[2]"
   ]
  },
  {
   "cell_type": "code",
   "execution_count": 236,
   "metadata": {},
   "outputs": [
    {
     "data": {
      "text/plain": [
       "array([[6.9339992e-05, 4.8406787e-07, 5.0648334e-03, 2.0498581e-01,\n",
       "        5.1768566e-04, 6.7372775e-01, 2.1447755e-05, 1.1560838e-01,\n",
       "        1.2365074e-07, 4.1257481e-06]], dtype=float32)"
      ]
     },
     "execution_count": 236,
     "metadata": {},
     "output_type": "execute_result"
    }
   ],
   "source": [
    "orig_pred_1"
   ]
  },
  {
   "cell_type": "code",
   "execution_count": 237,
   "metadata": {},
   "outputs": [
    {
     "data": {
      "text/plain": [
       "array([[1.2621327e-03, 6.3643020e-05, 2.7927257e-02, 3.0185729e-01,\n",
       "        1.2061049e-02, 5.7909685e-01, 1.2029322e-02, 6.5047607e-02,\n",
       "        2.8387140e-04, 3.7106648e-04]], dtype=float32)"
      ]
     },
     "execution_count": 237,
     "metadata": {},
     "output_type": "execute_result"
    }
   ],
   "source": [
    "trans_pred_1"
   ]
  },
  {
   "cell_type": "code",
   "execution_count": 238,
   "metadata": {},
   "outputs": [
    {
     "data": {
      "text/plain": [
       "<matplotlib.image.AxesImage at 0x7fa481f454e0>"
      ]
     },
     "execution_count": 238,
     "metadata": {},
     "output_type": "execute_result"
    },
    {
     "data": {
      "image/png": "[encoded data removed]",
      "text/plain": [
       "<Figure size 432x288 with 1 Axes>"
      ]
     },
     "metadata": {
      "needs_background": "light"
     },
     "output_type": "display_data"
    }
   ],
   "source": [
    "plt.imshow(np.squeeze(symmetric_sample_1))"
   ]
  },
  {
   "cell_type": "code",
   "execution_count": 239,
   "metadata": {},
   "outputs": [
    {
     "data": {
      "text/plain": [
       "<matplotlib.image.AxesImage at 0x7fa481f24748>"
      ]
     },
     "execution_count": 239,
     "metadata": {},
     "output_type": "execute_result"
    },
    {
     "data": {
      "image/png": "[encoded data removed]",
      "text/plain": [
       "<Figure size 432x288 with 1 Axes>"
      ]
     },
     "metadata": {
      "needs_background": "light"
     },
     "output_type": "display_data"
    }
   ],
   "source": [
    "plt.imshow(np.squeeze(symmetric_sample_2))"
   ]
  },
  {
   "cell_type": "markdown",
   "metadata": {},
   "source": [
    "# Test concept dirft"
   ]
  },
  {
   "cell_type": "code",
   "execution_count": 240,
   "metadata": {},
   "outputs": [],
   "source": [
    "from scipy.ndimage import rotate\n",
    "import pandas as pd\n",
    "from scipy.stats import entropy"
   ]
  },
  {
   "cell_type": "code",
   "execution_count": 241,
   "metadata": {},
   "outputs": [],
   "source": [
    "cifar100 = tf.keras.datasets.cifar100.load_data()"
   ]
  },
  {
   "cell_type": "code",
   "execution_count": 242,
   "metadata": {},
   "outputs": [
    {
     "name": "stdout",
     "output_type": "stream",
     "text": [
      "(50000, 32, 32, 3) (10000, 32, 32, 3)\n",
      "(50000, 1) (10000, 1)\n"
     ]
    }
   ],
   "source": [
    "(x_train_100, y_train_100), (x_test_100, y_test_100) = cifar100\n",
    "print(x_train_100.shape, x_test_100.shape)\n",
    "print(y_train_100.shape, y_test_100.shape)"
   ]
  },
  {
   "cell_type": "code",
   "execution_count": 243,
   "metadata": {},
   "outputs": [],
   "source": [
    "x_train_100 = x_train_100.astype('float32')\n",
    "x_test_100 = x_test_100.astype('float32')\n",
    "x_train_100 /= 255\n",
    "x_test_100 /= 255"
   ]
  },
  {
   "cell_type": "code",
   "execution_count": 244,
   "metadata": {},
   "outputs": [
    {
     "data": {
      "text/plain": [
       "0.764"
      ]
     },
     "execution_count": 244,
     "metadata": {},
     "output_type": "execute_result"
    }
   ],
   "source": [
    "accuracy_score(np.argmax(model_cifar.predict(x_test), axis=1), np.argmax(y_test, axis=1))"
   ]
  },
  {
   "cell_type": "code",
   "execution_count": 245,
   "metadata": {},
   "outputs": [
    {
     "data": {
      "text/plain": [
       "0.0101"
      ]
     },
     "execution_count": 245,
     "metadata": {},
     "output_type": "execute_result"
    }
   ],
   "source": [
    "accuracy_score(np.argmax(model_cifar.predict(x_test_100), axis=1), y_test_100)"
   ]
  },
  {
   "cell_type": "markdown",
   "metadata": {},
   "source": [
    "### contamination cifar100"
   ]
  },
  {
   "cell_type": "code",
   "execution_count": 246,
   "metadata": {},
   "outputs": [],
   "source": [
    "y_test = np.argmax(y_test, axis=1)"
   ]
  },
  {
   "cell_type": "code",
   "execution_count": 247,
   "metadata": {},
   "outputs": [],
   "source": [
    "y_test_100 = y_test_100.flatten()"
   ]
  },
  {
   "cell_type": "code",
   "execution_count": 248,
   "metadata": {},
   "outputs": [
    {
     "data": {
      "text/plain": [
       "(10000, 32, 32, 3)"
      ]
     },
     "execution_count": 248,
     "metadata": {},
     "output_type": "execute_result"
    }
   ],
   "source": [
    "x_test_100.shape"
   ]
  },
  {
   "cell_type": "code",
   "execution_count": 256,
   "metadata": {},
   "outputs": [
    {
     "name": "stdout",
     "output_type": "stream",
     "text": [
      "Number of contaminations: 0 \n",
      "Number of contaminations: 500 \n",
      "Number of contaminations: 1000 \n",
      "Number of contaminations: 1500 \n",
      "Number of contaminations: 2000 \n",
      "Number of contaminations: 2500 \n",
      "Number of contaminations: 3000 \n",
      "Number of contaminations: 3500 \n",
      "Number of contaminations: 4000 \n",
      "Number of contaminations: 4500 \n",
      "Number of contaminations: 5000 \n",
      "Number of contaminations: 5500 \n",
      "Number of contaminations: 6000 \n",
      "Number of contaminations: 6500 \n",
      "Number of contaminations: 7000 \n",
      "Number of contaminations: 7500 \n",
      "Number of contaminations: 8000 \n",
      "Number of contaminations: 8500 \n",
      "Number of contaminations: 9000 \n",
      "Number of contaminations: 9500 \n"
     ]
    }
   ],
   "source": [
    "mean_test = []\n",
    "std_test = []\n",
    "accs_test = []\n",
    "for i in range(0, len(x_test_100), 500):\n",
    "    rnd_idxs  = np.random.choice(range(len(x_test_100)), i)\n",
    "    \n",
    "    x_cont = x_test_100[rnd_idxs]\n",
    "    y_cont = y_test_100[rnd_idxs]\n",
    "    \n",
    "    #print(len(rnd_idxs), y_test.shape, y_cont.shape)\n",
    "    print('Number of contaminations: {} '.format(i))\n",
    "    x_test_cont = np.concatenate((x_test, x_cont), axis=0)\n",
    "    y_test_cont = np.concatenate((y_test, y_cont), axis=0)\n",
    "    vae_outs_test = vae.vae.predict(x_test_cont.reshape(x_test_cont.shape[0], 32, 32, 3))\n",
    "    symm_samples_test = vae_outs_test[0]\n",
    "    orig_preds_test = vae_outs_test[1]\n",
    "    trans_preds_test = vae_outs_test[2]\n",
    "    \n",
    "    kl_test = entropy(orig_preds_test.T, trans_preds_test.T)\n",
    "    mean_test.append(kl_test.mean())\n",
    "    std_test.append(kl_test.std())\n",
    "    preds_test = np.argmax(orig_preds_test, axis=1)\n",
    "    accs_test.append(accuracy_score(preds_test, y_test_cont))"
   ]
  },
  {
   "cell_type": "code",
   "execution_count": 257,
   "metadata": {},
   "outputs": [],
   "source": [
    "df = pd.DataFrame()\n",
    "df['accuracy'] = accs_test\n",
    "df['entropy_mean'] = mean_test\n",
    "df['entropy_std'] = std_test"
   ]
  },
  {
   "cell_type": "code",
   "execution_count": 258,
   "metadata": {},
   "outputs": [
    {
     "data": {
      "text/plain": [
       "array([<matplotlib.axes._subplots.AxesSubplot object at 0x7fa4801b1a20>,\n",
       "       <matplotlib.axes._subplots.AxesSubplot object at 0x7fa480160438>,\n",
       "       <matplotlib.axes._subplots.AxesSubplot object at 0x7fa47bece5f8>],\n",
       "      dtype=object)"
      ]
     },
     "execution_count": 258,
     "metadata": {},
     "output_type": "execute_result"
    },
    {
     "data": {
      "image/png": "[encoded data removed]",
      "text/plain": [
       "<Figure size 1080x576 with 3 Axes>"
      ]
     },
     "metadata": {
      "needs_background": "light"
     },
     "output_type": "display_data"
    }
   ],
   "source": [
    "df.plot(logy = False, subplots=True, figsize = (15, 8))"
   ]
  },
  {
   "cell_type": "markdown",
   "metadata": {},
   "source": [
    "### Rotations"
   ]
  },
  {
   "cell_type": "code",
   "execution_count": 252,
   "metadata": {},
   "outputs": [
    {
     "name": "stdout",
     "output_type": "stream",
     "text": [
      "Rotating images by 0 degree\n",
      "Rotating images by 1 degree\n",
      "Rotating images by 2 degree\n",
      "Rotating images by 3 degree\n",
      "Rotating images by 4 degree\n",
      "Rotating images by 5 degree\n",
      "Rotating images by 6 degree\n",
      "Rotating images by 7 degree\n",
      "Rotating images by 8 degree\n",
      "Rotating images by 9 degree\n",
      "Rotating images by 10 degree\n",
      "Rotating images by 11 degree\n",
      "Rotating images by 12 degree\n",
      "Rotating images by 13 degree\n",
      "Rotating images by 14 degree\n",
      "Rotating images by 15 degree\n",
      "Rotating images by 16 degree\n",
      "Rotating images by 17 degree\n",
      "Rotating images by 18 degree\n",
      "Rotating images by 19 degree\n",
      "Rotating images by 20 degree\n",
      "Rotating images by 21 degree\n",
      "Rotating images by 22 degree\n",
      "Rotating images by 23 degree\n",
      "Rotating images by 24 degree\n",
      "Rotating images by 25 degree\n",
      "Rotating images by 26 degree\n",
      "Rotating images by 27 degree\n",
      "Rotating images by 28 degree\n",
      "Rotating images by 29 degree\n",
      "Rotating images by 30 degree\n",
      "Rotating images by 31 degree\n",
      "Rotating images by 32 degree\n",
      "Rotating images by 33 degree\n",
      "Rotating images by 34 degree\n",
      "Rotating images by 35 degree\n",
      "Rotating images by 36 degree\n",
      "Rotating images by 37 degree\n",
      "Rotating images by 38 degree\n",
      "Rotating images by 39 degree\n",
      "Rotating images by 40 degree\n",
      "Rotating images by 41 degree\n",
      "Rotating images by 42 degree\n",
      "Rotating images by 43 degree\n",
      "Rotating images by 44 degree\n"
     ]
    }
   ],
   "source": [
    "mean_test = []\n",
    "std_test = []\n",
    "accs_test = []\n",
    "for i in range(45):\n",
    "    \n",
    "    print('Rotating images by {} degree'.format(i))\n",
    "    x_test_rot = rotate(x_test, i, axes=(1, 2), reshape=False)\n",
    "    \n",
    "    vae_outs_test = vae.vae.predict(x_test_rot.reshape(x_test_rot.shape[0], 32, 32, 3))\n",
    "    symm_samples_test = vae_outs_test[0]\n",
    "    orig_preds_test = vae_outs_test[1]\n",
    "    trans_preds_test = vae_outs_test[2]\n",
    "    \n",
    "    kl_test = entropy(orig_preds_test.T, trans_preds_test.T)\n",
    "    mean_test.append(kl_test.mean())\n",
    "    std_test.append(kl_test.std())\n",
    "    preds_test = np.argmax(orig_preds_test, axis=1)\n",
    "    accs_test.append(accuracy_score(preds_test, y_test))"
   ]
  },
  {
   "cell_type": "code",
   "execution_count": 254,
   "metadata": {},
   "outputs": [],
   "source": [
    "df = pd.DataFrame()\n",
    "df['accuracy'] = accs_test\n",
    "df['entropy_mean'] = mean_test\n",
    "df['entropy_std'] = std_test"
   ]
  },
  {
   "cell_type": "code",
   "execution_count": 255,
   "metadata": {},
   "outputs": [
    {
     "data": {
      "text/plain": [
       "array([<matplotlib.axes._subplots.AxesSubplot object at 0x7fa4802840f0>,\n",
       "       <matplotlib.axes._subplots.AxesSubplot object at 0x7fa4802b5358>,\n",
       "       <matplotlib.axes._subplots.AxesSubplot object at 0x7fa48025d320>],\n",
       "      dtype=object)"
      ]
     },
     "execution_count": 255,
     "metadata": {},
     "output_type": "execute_result"
    },
    {
     "data": {
      "image/png": "[encoded data removed]",
      "text/plain": [
       "<Figure size 1080x576 with 3 Axes>"
      ]
     },
     "metadata": {
      "needs_background": "light"
     },
     "output_type": "display_data"
    }
   ],
   "source": [
    "df.plot(logy = False, subplots=True, figsize = (15, 8))"
   ]
  },
  {
   "cell_type": "markdown",
   "metadata": {},
   "source": [
    "### random features permutation"
   ]
  },
  {
   "cell_type": "code",
   "execution_count": 259,
   "metadata": {},
   "outputs": [
    {
     "data": {
      "text/plain": [
       "(10000, 32, 32, 3)"
      ]
     },
     "execution_count": 259,
     "metadata": {},
     "output_type": "execute_result"
    }
   ],
   "source": [
    "x_test.shape"
   ]
  },
  {
   "cell_type": "code",
   "execution_count": 268,
   "metadata": {},
   "outputs": [],
   "source": [
    "nb_features = 32 * 32 "
   ]
  },
  {
   "cell_type": "code",
   "execution_count": 269,
   "metadata": {},
   "outputs": [
    {
     "data": {
      "text/plain": [
       "1024"
      ]
     },
     "execution_count": 269,
     "metadata": {},
     "output_type": "execute_result"
    }
   ],
   "source": [
    "nb_features"
   ]
  },
  {
   "cell_type": "code",
   "execution_count": 313,
   "metadata": {},
   "outputs": [
    {
     "name": "stdout",
     "output_type": "stream",
     "text": [
      "Nb of permutations: 0\n",
      "Nb of permutations: 1\n",
      "Nb of permutations: 2\n",
      "Nb of permutations: 3\n",
      "Nb of permutations: 4\n",
      "Nb of permutations: 5\n",
      "Nb of permutations: 6\n",
      "Nb of permutations: 7\n",
      "Nb of permutations: 8\n",
      "Nb of permutations: 9\n",
      "Nb of permutations: 10\n",
      "Nb of permutations: 11\n",
      "Nb of permutations: 12\n",
      "Nb of permutations: 13\n",
      "Nb of permutations: 14\n",
      "Nb of permutations: 15\n",
      "Nb of permutations: 16\n",
      "Nb of permutations: 17\n",
      "Nb of permutations: 18\n",
      "Nb of permutations: 19\n"
     ]
    }
   ],
   "source": [
    "mean_test = []\n",
    "std_test = []\n",
    "accs_test = []\n",
    "for nb_perm in range(20):\n",
    "    i = np.random.choice(range(32), nb_perm)\n",
    "    i_prime = np.random.choice(range(32), nb_perm)\n",
    "    j = np.random.choice(range(32), nb_perm)\n",
    "    j_prime = np.random.choice(range(32), nb_perm)\n",
    "    if nb_perm == 0:\n",
    "        k = np.random.choice(range(3), 0)\n",
    "        k_prime = np.random.choice(range(3), 0)\n",
    "    else:\n",
    "        k = np.random.choice(range(3), 1)\n",
    "        k_prime = np.random.choice(range(3), 1)\n",
    "    \n",
    "    x_perm = x_test.copy()\n",
    "    \n",
    "    x_perm[:, i, :, :] = x_test[:, i_prime, :, :]\n",
    "    x_perm[:, :, j, :] = x_test[:, :, j_prime, :]\n",
    "    x_perm[:, :, :, k] = x_test[:, :, :, k_prime]\n",
    "    \n",
    "    print('Nb of permutations: {}'.format(nb_perm))\n",
    "    vae_outs_test = vae.vae.predict(x_perm.reshape(x_perm.shape[0], 32, 32, 3))\n",
    "    symm_samples_test = vae_outs_test[0]\n",
    "    orig_preds_test = vae_outs_test[1]\n",
    "    trans_preds_test = vae_outs_test[2]\n",
    "    \n",
    "    kl_test = entropy(orig_preds_test.T, trans_preds_test.T)\n",
    "    mean_test.append(kl_test.mean())\n",
    "    std_test.append(kl_test.std())\n",
    "    preds_test = np.argmax(orig_preds_test, axis=1)\n",
    "    accs_test.append(accuracy_score(preds_test, y_test))"
   ]
  },
  {
   "cell_type": "code",
   "execution_count": 314,
   "metadata": {},
   "outputs": [],
   "source": [
    "df = pd.DataFrame()\n",
    "df['accuracy'] = accs_test\n",
    "df['entropy_mean'] = mean_test\n",
    "df['entropy_std'] = std_test"
   ]
  },
  {
   "cell_type": "code",
   "execution_count": 315,
   "metadata": {},
   "outputs": [
    {
     "data": {
      "text/plain": [
       "array([<matplotlib.axes._subplots.AxesSubplot object at 0x7fa4797d1b00>,\n",
       "       <matplotlib.axes._subplots.AxesSubplot object at 0x7fa4797be4e0>,\n",
       "       <matplotlib.axes._subplots.AxesSubplot object at 0x7fa479757828>],\n",
       "      dtype=object)"
      ]
     },
     "execution_count": 315,
     "metadata": {},
     "output_type": "execute_result"
    },
    {
     "data": {
      "image/png": "[encoded data removed]",
      "text/plain": [
       "<Figure size 1080x576 with 3 Axes>"
      ]
     },
     "metadata": {
      "needs_background": "light"
     },
     "output_type": "display_data"
    }
   ],
   "source": [
    "df.plot(logy = False, subplots=True, figsize = (15, 8))"
   ]
  },
  {
   "cell_type": "code",
   "execution_count": null,
   "metadata": {},
   "outputs": [],
   "source": []
  },
  {
   "cell_type": "markdown",
   "metadata": {},
   "source": [
    "# ACDC"
   ]
  },
  {
   "cell_type": "code",
   "execution_count": 273,
   "metadata": {},
   "outputs": [
    {
     "data": {
      "text/plain": [
       "1987"
      ]
     },
     "execution_count": 273,
     "metadata": {},
     "output_type": "execute_result"
    }
   ],
   "source": [
    "n"
   ]
  },
  {
   "cell_type": "code",
   "execution_count": 301,
   "metadata": {},
   "outputs": [],
   "source": [
    "i = np.random.choice(range(32), 0)\n",
    "i_prime = np.random.choice(range(32), 0)\n",
    "j = np.random.choice(range(32), 0)\n",
    "j_prime = np.random.choice(range(32), 0)\n",
    "k = np.random.choice(range(3), 0)\n",
    "k_prime = np.random.choice(range(3), 0)"
   ]
  },
  {
   "cell_type": "code",
   "execution_count": 302,
   "metadata": {},
   "outputs": [],
   "source": [
    "x_perm = x_test.copy()"
   ]
  },
  {
   "cell_type": "code",
   "execution_count": 303,
   "metadata": {},
   "outputs": [
    {
     "data": {
      "text/plain": [
       "True"
      ]
     },
     "execution_count": 303,
     "metadata": {},
     "output_type": "execute_result"
    }
   ],
   "source": [
    "(x_test == x_perm).all()"
   ]
  },
  {
   "cell_type": "code",
   "execution_count": 304,
   "metadata": {},
   "outputs": [],
   "source": [
    "x_perm[:, i, :, :] = x_test[:, i_prime, :, :]\n",
    "x_perm[:, :, j, :] = x_test[:, :, j_prime, :]\n",
    "x_perm[:, :, :, k] = x_test[:, :, :, k_prime]"
   ]
  },
  {
   "cell_type": "code",
   "execution_count": 305,
   "metadata": {},
   "outputs": [
    {
     "data": {
      "text/plain": [
       "True"
      ]
     },
     "execution_count": 305,
     "metadata": {},
     "output_type": "execute_result"
    }
   ],
   "source": [
    "(x_test == x_perm).all()"
   ]
  },
  {
   "cell_type": "code",
   "execution_count": 290,
   "metadata": {},
   "outputs": [
    {
     "data": {
      "text/plain": [
       "array([ 5,  8,  8, 15, 13])"
      ]
     },
     "execution_count": 290,
     "metadata": {},
     "output_type": "execute_result"
    }
   ],
   "source": [
    "j"
   ]
  },
  {
   "cell_type": "code",
   "execution_count": 291,
   "metadata": {},
   "outputs": [
    {
     "data": {
      "text/plain": [
       "array([0])"
      ]
     },
     "execution_count": 291,
     "metadata": {},
     "output_type": "execute_result"
    }
   ],
   "source": [
    "k"
   ]
  },
  {
   "cell_type": "code",
   "execution_count": 295,
   "metadata": {},
   "outputs": [
    {
     "data": {
      "text/plain": [
       "(10000, 5, 32, 3)"
      ]
     },
     "execution_count": 295,
     "metadata": {},
     "output_type": "execute_result"
    }
   ],
   "source": [
    "x_test[:, i, :, :].shape"
   ]
  },
  {
   "cell_type": "code",
   "execution_count": 281,
   "metadata": {},
   "outputs": [],
   "source": [
    "k = 32 % (32 * 32)"
   ]
  },
  {
   "cell_type": "code",
   "execution_count": 282,
   "metadata": {},
   "outputs": [
    {
     "data": {
      "text/plain": [
       "32"
      ]
     },
     "execution_count": 282,
     "metadata": {},
     "output_type": "execute_result"
    }
   ],
   "source": [
    "k"
   ]
  },
  {
   "cell_type": "code",
   "execution_count": 277,
   "metadata": {},
   "outputs": [],
   "source": [
    "j = (2009 - (k * 32 * 32)) % 32"
   ]
  },
  {
   "cell_type": "code",
   "execution_count": 278,
   "metadata": {},
   "outputs": [
    {
     "data": {
      "text/plain": [
       "25"
      ]
     },
     "execution_count": 278,
     "metadata": {},
     "output_type": "execute_result"
    }
   ],
   "source": [
    "j"
   ]
  },
  {
   "cell_type": "code",
   "execution_count": null,
   "metadata": {},
   "outputs": [],
   "source": [
    "i = (32 * 32) "
   ]
  }
 ],
 "metadata": {
  "kernelspec": {
   "display_name": "Python [conda env:tf2-gpu]",
   "language": "python",
   "name": "conda-env-tf2-gpu-py"
  },
  "language_info": {
   "codemirror_mode": {
    "name": "ipython",
    "version": 3
   },
   "file_extension": ".py",
   "mimetype": "text/x-python",
   "name": "python",
   "nbconvert_exporter": "python",
   "pygments_lexer": "ipython3",
   "version": "3.6.9"
  }
 },
 "nbformat": 4,
 "nbformat_minor": 2
}
