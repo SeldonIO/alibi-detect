{
 "cells": [
  {
   "cell_type": "code",
   "execution_count": 1,
   "metadata": {},
   "outputs": [
    {
     "name": "stderr",
     "output_type": "stream",
     "text": [
      "Using TensorFlow backend.\n"
     ]
    }
   ],
   "source": [
    "import pandas as pd\n",
    "import numpy as np\n",
    "import tensorflow as tf\n",
    "import keras \n",
    "import matplotlib\n",
    "%matplotlib inline"
   ]
  },
  {
   "cell_type": "code",
   "execution_count": 2,
   "metadata": {},
   "outputs": [
    {
     "data": {
      "text/plain": [
       "'1.13.1'"
      ]
     },
     "execution_count": 2,
     "metadata": {},
     "output_type": "execute_result"
    }
   ],
   "source": [
    "tf.__version__"
   ]
  },
  {
   "cell_type": "code",
   "execution_count": 3,
   "metadata": {},
   "outputs": [],
   "source": [
    "import sys"
   ]
  },
  {
   "cell_type": "code",
   "execution_count": 4,
   "metadata": {},
   "outputs": [],
   "source": [
    "sys.path.append('../odcd/cd/')"
   ]
  },
  {
   "cell_type": "code",
   "execution_count": 5,
   "metadata": {},
   "outputs": [],
   "source": [
    "import model_symmetries as vsf"
   ]
  },
  {
   "cell_type": "code",
   "execution_count": 6,
   "metadata": {},
   "outputs": [],
   "source": [
    "from scipy.stats import entropy"
   ]
  },
  {
   "cell_type": "markdown",
   "metadata": {},
   "source": [
    "# Data prep"
   ]
  },
  {
   "cell_type": "code",
   "execution_count": 450,
   "metadata": {},
   "outputs": [],
   "source": [
    "df_white = pd.read_csv('/home/fdz/git/concept_drift_exps/data/wine/winequality_white.csv')"
   ]
  },
  {
   "cell_type": "code",
   "execution_count": 451,
   "metadata": {},
   "outputs": [
    {
     "data": {
      "text/plain": [
       "(4898, 12)"
      ]
     },
     "execution_count": 451,
     "metadata": {},
     "output_type": "execute_result"
    }
   ],
   "source": [
    "df_white.shape"
   ]
  },
  {
   "cell_type": "code",
   "execution_count": 452,
   "metadata": {},
   "outputs": [
    {
     "data": {
      "text/plain": [
       "<matplotlib.axes._subplots.AxesSubplot at 0x7f1f0a5ee850>"
      ]
     },
     "execution_count": 452,
     "metadata": {},
     "output_type": "execute_result"
    },
    {
     "data": {
      "image/png": "[encoded data removed]",
      "text/plain": [
       "<Figure size 432x288 with 1 Axes>"
      ]
     },
     "metadata": {
      "needs_background": "light"
     },
     "output_type": "display_data"
    }
   ],
   "source": [
    "df_white['quality'].hist(bins=10)"
   ]
  },
  {
   "cell_type": "code",
   "execution_count": 453,
   "metadata": {},
   "outputs": [
    {
     "data": {
      "text/plain": [
       "6    0.448755\n",
       "5    0.297468\n",
       "7    0.179665\n",
       "8    0.035729\n",
       "4    0.033279\n",
       "3    0.004083\n",
       "9    0.001021\n",
       "Name: quality, dtype: float64"
      ]
     },
     "execution_count": 453,
     "metadata": {},
     "output_type": "execute_result"
    }
   ],
   "source": [
    "df_white['quality'].value_counts() / len(df_white)"
   ]
  },
  {
   "cell_type": "code",
   "execution_count": 454,
   "metadata": {},
   "outputs": [
    {
     "data": {
      "text/plain": [
       "1    0.665169\n",
       "0    0.334831\n",
       "Name: target, dtype: float64"
      ]
     },
     "execution_count": 454,
     "metadata": {},
     "output_type": "execute_result"
    }
   ],
   "source": [
    "binary_target = True\n",
    "if binary_target:\n",
    "    df_white['target'] = df_white['quality'].apply(lambda x: 0 if x < 6 else 1)\n",
    "else:\n",
    "    df_white['target'] = df_white['quality']\n",
    "df_white.drop('quality', axis=1, inplace=True)\n",
    "target = 'target'\n",
    "df_white[target].value_counts() / len(df_white)"
   ]
  },
  {
   "cell_type": "code",
   "execution_count": 455,
   "metadata": {},
   "outputs": [],
   "source": [
    "features = [col for col in df_white.columns if col != target]"
   ]
  },
  {
   "cell_type": "code",
   "execution_count": 456,
   "metadata": {},
   "outputs": [],
   "source": [
    "X, y = df_white[features].values, df_white[target].values"
   ]
  },
  {
   "cell_type": "code",
   "execution_count": 457,
   "metadata": {},
   "outputs": [],
   "source": [
    "from sklearn.model_selection import train_test_split"
   ]
  },
  {
   "cell_type": "code",
   "execution_count": 458,
   "metadata": {},
   "outputs": [],
   "source": [
    "X_train, X_test, y_train, y_test = train_test_split(X, y)"
   ]
  },
  {
   "cell_type": "code",
   "execution_count": 459,
   "metadata": {},
   "outputs": [],
   "source": [
    "from sklearn.preprocessing import MinMaxScaler"
   ]
  },
  {
   "cell_type": "code",
   "execution_count": 460,
   "metadata": {},
   "outputs": [],
   "source": [
    "scale = True\n",
    "if scale:\n",
    "    scaler = MinMaxScaler()\n",
    "    scaler.fit(X_train)\n",
    "    X_train = scaler.transform(X_train)\n",
    "    X_test = scaler.transform(X_test)"
   ]
  },
  {
   "cell_type": "code",
   "execution_count": 461,
   "metadata": {},
   "outputs": [],
   "source": [
    "freq = (df_white[target].value_counts() / len(df_white)).values"
   ]
  },
  {
   "cell_type": "code",
   "execution_count": 462,
   "metadata": {},
   "outputs": [],
   "source": [
    "samples_weights = [1/freq[i] for i in y_train]"
   ]
  },
  {
   "cell_type": "code",
   "execution_count": 463,
   "metadata": {},
   "outputs": [],
   "source": [
    "samples_weights = np.asarray(samples_weights)"
   ]
  },
  {
   "cell_type": "markdown",
   "metadata": {},
   "source": [
    "# Logistic regression"
   ]
  },
  {
   "cell_type": "code",
   "execution_count": 464,
   "metadata": {},
   "outputs": [],
   "source": [
    "from sklearn.linear_model import LogisticRegression"
   ]
  },
  {
   "cell_type": "code",
   "execution_count": 465,
   "metadata": {},
   "outputs": [
    {
     "name": "stderr",
     "output_type": "stream",
     "text": [
      "/home/fdz/anaconda3/lib/python3.7/site-packages/sklearn/linear_model/logistic.py:433: FutureWarning: Default solver will be changed to 'lbfgs' in 0.22. Specify a solver to silence this warning.\n",
      "  FutureWarning)\n"
     ]
    },
    {
     "data": {
      "text/plain": [
       "LogisticRegression(C=1.0, class_weight=None, dual=False, fit_intercept=True,\n",
       "          intercept_scaling=1, max_iter=100, multi_class='warn',\n",
       "          n_jobs=None, penalty='l2', random_state=None, solver='warn',\n",
       "          tol=0.0001, verbose=0, warm_start=False)"
      ]
     },
     "execution_count": 465,
     "metadata": {},
     "output_type": "execute_result"
    }
   ],
   "source": [
    "lg = LogisticRegression()\n",
    "lg.fit(X_train, y_train)"
   ]
  },
  {
   "cell_type": "code",
   "execution_count": 466,
   "metadata": {},
   "outputs": [],
   "source": [
    "from sklearn.metrics import accuracy_score, confusion_matrix"
   ]
  },
  {
   "cell_type": "code",
   "execution_count": 467,
   "metadata": {},
   "outputs": [],
   "source": [
    "y_preds_train = lg.predict(X_train)\n",
    "y_preds_test = lg.predict(X_test)"
   ]
  },
  {
   "cell_type": "code",
   "execution_count": 468,
   "metadata": {},
   "outputs": [
    {
     "data": {
      "text/plain": [
       "0.7451674380615301"
      ]
     },
     "execution_count": 468,
     "metadata": {},
     "output_type": "execute_result"
    }
   ],
   "source": [
    "accuracy_score(y_preds_train, y_train)"
   ]
  },
  {
   "cell_type": "code",
   "execution_count": 469,
   "metadata": {},
   "outputs": [
    {
     "data": {
      "text/plain": [
       "array([[ 598,  289],\n",
       "       [ 647, 2139]])"
      ]
     },
     "execution_count": 469,
     "metadata": {},
     "output_type": "execute_result"
    }
   ],
   "source": [
    "confusion_matrix(y_preds_train, y_train)"
   ]
  },
  {
   "cell_type": "code",
   "execution_count": 470,
   "metadata": {},
   "outputs": [
    {
     "data": {
      "text/plain": [
       "0.7436734693877551"
      ]
     },
     "execution_count": 470,
     "metadata": {},
     "output_type": "execute_result"
    }
   ],
   "source": [
    "accuracy_score(y_preds_test, y_test)"
   ]
  },
  {
   "cell_type": "code",
   "execution_count": 471,
   "metadata": {},
   "outputs": [
    {
     "data": {
      "text/plain": [
       "array([[181, 100],\n",
       "       [214, 730]])"
      ]
     },
     "execution_count": 471,
     "metadata": {},
     "output_type": "execute_result"
    }
   ],
   "source": [
    "confusion_matrix(y_preds_test, y_test)"
   ]
  },
  {
   "cell_type": "markdown",
   "metadata": {},
   "source": [
    "# Gxb"
   ]
  },
  {
   "cell_type": "code",
   "execution_count": 472,
   "metadata": {},
   "outputs": [],
   "source": [
    "from xgboost import XGBClassifier"
   ]
  },
  {
   "cell_type": "code",
   "execution_count": 473,
   "metadata": {},
   "outputs": [],
   "source": [
    "xgb = XGBClassifier(max_depth=10, n_estimators=100)"
   ]
  },
  {
   "cell_type": "code",
   "execution_count": 474,
   "metadata": {},
   "outputs": [
    {
     "data": {
      "text/plain": [
       "XGBClassifier(base_score=0.5, booster='gbtree', colsample_bylevel=1,\n",
       "       colsample_bynode=1, colsample_bytree=1, gamma=0, learning_rate=0.1,\n",
       "       max_delta_step=0, max_depth=10, min_child_weight=1, missing=None,\n",
       "       n_estimators=100, n_jobs=1, nthread=None,\n",
       "       objective='binary:logistic', random_state=0, reg_alpha=0,\n",
       "       reg_lambda=1, scale_pos_weight=1, seed=None, silent=None,\n",
       "       subsample=1, verbosity=1)"
      ]
     },
     "execution_count": 474,
     "metadata": {},
     "output_type": "execute_result"
    }
   ],
   "source": [
    "xgb.fit(X_train, y_train)"
   ]
  },
  {
   "cell_type": "code",
   "execution_count": 475,
   "metadata": {},
   "outputs": [],
   "source": [
    "y_preds_train = xgb.predict(X_train)\n",
    "y_preds_test = xgb.predict(X_test)"
   ]
  },
  {
   "cell_type": "code",
   "execution_count": 476,
   "metadata": {},
   "outputs": [
    {
     "data": {
      "text/plain": [
       "0.9986387149469099"
      ]
     },
     "execution_count": 476,
     "metadata": {},
     "output_type": "execute_result"
    }
   ],
   "source": [
    "accuracy_score(y_preds_train, y_train)"
   ]
  },
  {
   "cell_type": "code",
   "execution_count": 477,
   "metadata": {},
   "outputs": [
    {
     "data": {
      "text/plain": [
       "array([[1240,    0],\n",
       "       [   5, 2428]])"
      ]
     },
     "execution_count": 477,
     "metadata": {},
     "output_type": "execute_result"
    }
   ],
   "source": [
    "confusion_matrix(y_preds_train, y_train)"
   ]
  },
  {
   "cell_type": "code",
   "execution_count": 478,
   "metadata": {},
   "outputs": [
    {
     "data": {
      "text/plain": [
       "0.8122448979591836"
      ]
     },
     "execution_count": 478,
     "metadata": {},
     "output_type": "execute_result"
    }
   ],
   "source": [
    "accuracy_score(y_preds_test, y_test)"
   ]
  },
  {
   "cell_type": "code",
   "execution_count": 479,
   "metadata": {},
   "outputs": [
    {
     "data": {
      "text/plain": [
       "array([[261,  96],\n",
       "       [134, 734]])"
      ]
     },
     "execution_count": 479,
     "metadata": {},
     "output_type": "execute_result"
    }
   ],
   "source": [
    "confusion_matrix(y_preds_test, y_test)"
   ]
  },
  {
   "cell_type": "markdown",
   "metadata": {},
   "source": [
    "# NN"
   ]
  },
  {
   "cell_type": "code",
   "execution_count": 480,
   "metadata": {},
   "outputs": [],
   "source": [
    "y_train = tf.keras.utils.to_categorical(y_train)\n",
    "y_test = tf.keras.utils.to_categorical(y_test)"
   ]
  },
  {
   "cell_type": "code",
   "execution_count": 481,
   "metadata": {},
   "outputs": [],
   "source": [
    "y_train = np.delete(y_train, np.where(~y_train.any(axis=0)), axis=1)\n",
    "y_test = np.delete(y_test, np.where(~y_test.any(axis=0)), axis=1)"
   ]
  },
  {
   "cell_type": "code",
   "execution_count": 482,
   "metadata": {},
   "outputs": [],
   "source": [
    "def model():\n",
    "    \n",
    "    x_in = tf.keras.layers.Input(shape=(11, ))\n",
    "    x = tf.keras.layers.Dense(100, activation='relu')(x_in)\n",
    "    #x = tf.keras.layers.Dense(50, activation='relu')(x_in)\n",
    "    if binary_target:\n",
    "        out = tf.keras.layers.Dense(2, activation='softmax')(x)\n",
    "    else:\n",
    "        out = tf.keras.layers.Dense(7, activation='softmax')(x)\n",
    "    clf = tf.keras.models.Model(x_in, out)\n",
    "    clf.compile(loss='categorical_crossentropy', optimizer='Adam', metrics=['accuracy'])\n",
    "    \n",
    "    clf.summary()\n",
    "    return clf"
   ]
  },
  {
   "cell_type": "code",
   "execution_count": 483,
   "metadata": {},
   "outputs": [
    {
     "name": "stdout",
     "output_type": "stream",
     "text": [
      "_________________________________________________________________\n",
      "Layer (type)                 Output Shape              Param #   \n",
      "=================================================================\n",
      "input_5 (InputLayer)         (None, 11)                0         \n",
      "_________________________________________________________________\n",
      "dense_41 (Dense)             (None, 100)               1200      \n",
      "_________________________________________________________________\n",
      "dense_42 (Dense)             (None, 2)                 202       \n",
      "=================================================================\n",
      "Total params: 1,402\n",
      "Trainable params: 1,402\n",
      "Non-trainable params: 0\n",
      "_________________________________________________________________\n"
     ]
    }
   ],
   "source": [
    "clf = model()"
   ]
  },
  {
   "cell_type": "code",
   "execution_count": 484,
   "metadata": {},
   "outputs": [
    {
     "data": {
      "text/plain": [
       "(array([], dtype=int64),)"
      ]
     },
     "execution_count": 484,
     "metadata": {},
     "output_type": "execute_result"
    }
   ],
   "source": [
    "np.where(~y_test.any(axis=0))"
   ]
  },
  {
   "cell_type": "code",
   "execution_count": 485,
   "metadata": {},
   "outputs": [
    {
     "name": "stdout",
     "output_type": "stream",
     "text": [
      "(3673, 2) (1225, 2)\n"
     ]
    }
   ],
   "source": [
    "print(y_train.shape, y_test.shape)"
   ]
  },
  {
   "cell_type": "code",
   "execution_count": 486,
   "metadata": {},
   "outputs": [
    {
     "data": {
      "text/plain": [
       "array([1.5033763 , 2.98658537, 1.5033763 , ..., 2.98658537, 2.98658537,\n",
       "       1.5033763 ])"
      ]
     },
     "execution_count": 486,
     "metadata": {},
     "output_type": "execute_result"
    }
   ],
   "source": [
    "samples_weights"
   ]
  },
  {
   "cell_type": "code",
   "execution_count": 487,
   "metadata": {},
   "outputs": [
    {
     "name": "stdout",
     "output_type": "stream",
     "text": [
      "Train on 3673 samples, validate on 1225 samples\n",
      "Epoch 1/100\n",
      "3673/3673 [==============================] - 1s 141us/sample - loss: 0.6104 - acc: 0.6515 - val_loss: 0.5643 - val_acc: 0.6824\n",
      "Epoch 2/100\n",
      "3673/3673 [==============================] - 0s 41us/sample - loss: 0.5571 - acc: 0.6978 - val_loss: 0.5348 - val_acc: 0.7102\n",
      "Epoch 3/100\n",
      "3673/3673 [==============================] - 0s 40us/sample - loss: 0.5300 - acc: 0.7283 - val_loss: 0.5179 - val_acc: 0.7437\n",
      "Epoch 4/100\n",
      "3673/3673 [==============================] - 0s 38us/sample - loss: 0.5150 - acc: 0.7395 - val_loss: 0.5152 - val_acc: 0.7445\n",
      "Epoch 5/100\n",
      "3673/3673 [==============================] - 0s 40us/sample - loss: 0.5085 - acc: 0.7490 - val_loss: 0.5098 - val_acc: 0.7445\n",
      "Epoch 6/100\n",
      "3673/3673 [==============================] - 0s 39us/sample - loss: 0.5042 - acc: 0.7531 - val_loss: 0.5081 - val_acc: 0.7527\n",
      "Epoch 7/100\n",
      "3673/3673 [==============================] - 0s 39us/sample - loss: 0.5016 - acc: 0.7522 - val_loss: 0.5075 - val_acc: 0.7551\n",
      "Epoch 8/100\n",
      "3673/3673 [==============================] - 0s 38us/sample - loss: 0.5031 - acc: 0.7520 - val_loss: 0.5096 - val_acc: 0.7445\n",
      "Epoch 9/100\n",
      "3673/3673 [==============================] - 0s 43us/sample - loss: 0.4996 - acc: 0.7555 - val_loss: 0.5088 - val_acc: 0.7551\n",
      "Epoch 10/100\n",
      "3673/3673 [==============================] - 0s 40us/sample - loss: 0.4982 - acc: 0.7566 - val_loss: 0.5065 - val_acc: 0.7600\n",
      "Epoch 11/100\n",
      "3673/3673 [==============================] - 0s 38us/sample - loss: 0.4962 - acc: 0.7558 - val_loss: 0.5066 - val_acc: 0.7600\n",
      "Epoch 12/100\n",
      "3673/3673 [==============================] - 0s 38us/sample - loss: 0.4947 - acc: 0.7574 - val_loss: 0.5060 - val_acc: 0.7584\n",
      "Epoch 13/100\n",
      "3673/3673 [==============================] - 0s 40us/sample - loss: 0.4942 - acc: 0.7580 - val_loss: 0.5179 - val_acc: 0.7461\n",
      "Epoch 14/100\n",
      "3673/3673 [==============================] - 0s 39us/sample - loss: 0.4949 - acc: 0.7599 - val_loss: 0.5105 - val_acc: 0.7494\n",
      "Epoch 15/100\n",
      "3673/3673 [==============================] - 0s 37us/sample - loss: 0.4955 - acc: 0.7569 - val_loss: 0.5027 - val_acc: 0.7567\n",
      "Epoch 16/100\n",
      "3673/3673 [==============================] - 0s 42us/sample - loss: 0.4916 - acc: 0.7593 - val_loss: 0.5017 - val_acc: 0.7559\n",
      "Epoch 17/100\n",
      "3673/3673 [==============================] - 0s 39us/sample - loss: 0.4890 - acc: 0.7596 - val_loss: 0.5010 - val_acc: 0.7592\n",
      "Epoch 18/100\n",
      "3673/3673 [==============================] - 0s 39us/sample - loss: 0.4893 - acc: 0.7615 - val_loss: 0.4996 - val_acc: 0.7608\n",
      "Epoch 19/100\n",
      "3673/3673 [==============================] - 0s 38us/sample - loss: 0.4879 - acc: 0.7634 - val_loss: 0.4985 - val_acc: 0.7633\n",
      "Epoch 20/100\n",
      "3673/3673 [==============================] - 0s 45us/sample - loss: 0.4875 - acc: 0.7612 - val_loss: 0.4974 - val_acc: 0.7616\n",
      "Epoch 21/100\n",
      "3673/3673 [==============================] - 0s 41us/sample - loss: 0.4859 - acc: 0.7656 - val_loss: 0.4974 - val_acc: 0.7624\n",
      "Epoch 22/100\n",
      "3673/3673 [==============================] - 0s 39us/sample - loss: 0.4849 - acc: 0.7656 - val_loss: 0.4972 - val_acc: 0.7551\n",
      "Epoch 23/100\n",
      "3673/3673 [==============================] - 0s 39us/sample - loss: 0.4845 - acc: 0.7642 - val_loss: 0.4978 - val_acc: 0.7641\n",
      "Epoch 24/100\n",
      "3673/3673 [==============================] - 0s 37us/sample - loss: 0.4825 - acc: 0.7648 - val_loss: 0.4952 - val_acc: 0.7633\n",
      "Epoch 25/100\n",
      "3673/3673 [==============================] - 0s 38us/sample - loss: 0.4827 - acc: 0.7659 - val_loss: 0.4950 - val_acc: 0.7600\n",
      "Epoch 26/100\n",
      "3673/3673 [==============================] - 0s 37us/sample - loss: 0.4817 - acc: 0.7653 - val_loss: 0.4929 - val_acc: 0.7616\n",
      "Epoch 27/100\n",
      "3673/3673 [==============================] - 0s 38us/sample - loss: 0.4795 - acc: 0.7680 - val_loss: 0.4940 - val_acc: 0.7510\n",
      "Epoch 28/100\n",
      "3673/3673 [==============================] - 0s 40us/sample - loss: 0.4804 - acc: 0.7610 - val_loss: 0.4913 - val_acc: 0.7600\n",
      "Epoch 29/100\n",
      "3673/3673 [==============================] - 0s 39us/sample - loss: 0.4788 - acc: 0.7675 - val_loss: 0.4920 - val_acc: 0.7682\n",
      "Epoch 30/100\n",
      "3673/3673 [==============================] - 0s 41us/sample - loss: 0.4768 - acc: 0.7691 - val_loss: 0.4907 - val_acc: 0.7592\n",
      "Epoch 31/100\n",
      "3673/3673 [==============================] - 0s 39us/sample - loss: 0.4762 - acc: 0.7648 - val_loss: 0.4903 - val_acc: 0.7641\n",
      "Epoch 32/100\n",
      "3673/3673 [==============================] - 0s 43us/sample - loss: 0.4754 - acc: 0.7680 - val_loss: 0.4890 - val_acc: 0.7641\n",
      "Epoch 33/100\n",
      "3673/3673 [==============================] - 0s 40us/sample - loss: 0.4740 - acc: 0.7689 - val_loss: 0.4900 - val_acc: 0.7584\n",
      "Epoch 34/100\n",
      "3673/3673 [==============================] - 0s 43us/sample - loss: 0.4742 - acc: 0.7699 - val_loss: 0.4906 - val_acc: 0.7616\n",
      "Epoch 35/100\n",
      "3673/3673 [==============================] - 0s 42us/sample - loss: 0.4731 - acc: 0.7705 - val_loss: 0.4883 - val_acc: 0.7600\n",
      "Epoch 36/100\n",
      "3673/3673 [==============================] - 0s 45us/sample - loss: 0.4728 - acc: 0.7710 - val_loss: 0.4900 - val_acc: 0.7698\n",
      "Epoch 37/100\n",
      "3673/3673 [==============================] - 0s 41us/sample - loss: 0.4715 - acc: 0.7797 - val_loss: 0.4887 - val_acc: 0.7690\n",
      "Epoch 38/100\n",
      "3673/3673 [==============================] - 0s 42us/sample - loss: 0.4708 - acc: 0.7718 - val_loss: 0.4861 - val_acc: 0.7608\n",
      "Epoch 39/100\n",
      "3673/3673 [==============================] - 0s 41us/sample - loss: 0.4694 - acc: 0.7759 - val_loss: 0.4897 - val_acc: 0.7755\n",
      "Epoch 40/100\n",
      "3673/3673 [==============================] - 0s 40us/sample - loss: 0.4718 - acc: 0.7751 - val_loss: 0.4854 - val_acc: 0.7665\n",
      "Epoch 41/100\n",
      "3673/3673 [==============================] - 0s 41us/sample - loss: 0.4681 - acc: 0.7708 - val_loss: 0.4840 - val_acc: 0.7641\n",
      "Epoch 42/100\n",
      "3673/3673 [==============================] - 0s 44us/sample - loss: 0.4689 - acc: 0.7770 - val_loss: 0.4874 - val_acc: 0.7633\n",
      "Epoch 43/100\n",
      "3673/3673 [==============================] - 0s 43us/sample - loss: 0.4677 - acc: 0.7765 - val_loss: 0.4870 - val_acc: 0.7641\n",
      "Epoch 44/100\n",
      "3673/3673 [==============================] - 0s 36us/sample - loss: 0.4665 - acc: 0.7770 - val_loss: 0.4850 - val_acc: 0.7690\n",
      "Epoch 45/100\n",
      "3673/3673 [==============================] - 0s 44us/sample - loss: 0.4653 - acc: 0.7819 - val_loss: 0.4890 - val_acc: 0.7551\n",
      "Epoch 46/100\n",
      "3673/3673 [==============================] - 0s 45us/sample - loss: 0.4647 - acc: 0.7770 - val_loss: 0.4828 - val_acc: 0.7665\n",
      "Epoch 47/100\n",
      "3673/3673 [==============================] - 0s 43us/sample - loss: 0.4647 - acc: 0.7838 - val_loss: 0.4841 - val_acc: 0.7739\n",
      "Epoch 48/100\n",
      "3673/3673 [==============================] - 0s 40us/sample - loss: 0.4632 - acc: 0.7748 - val_loss: 0.4829 - val_acc: 0.7698\n",
      "Epoch 49/100\n",
      "3673/3673 [==============================] - 0s 43us/sample - loss: 0.4645 - acc: 0.7759 - val_loss: 0.4824 - val_acc: 0.7641\n",
      "Epoch 50/100\n",
      "3673/3673 [==============================] - 0s 43us/sample - loss: 0.4627 - acc: 0.7773 - val_loss: 0.4837 - val_acc: 0.7673\n",
      "Epoch 51/100\n",
      "3673/3673 [==============================] - 0s 42us/sample - loss: 0.4635 - acc: 0.7792 - val_loss: 0.4826 - val_acc: 0.7641\n",
      "Epoch 52/100\n",
      "3673/3673 [==============================] - 0s 42us/sample - loss: 0.4632 - acc: 0.7789 - val_loss: 0.4820 - val_acc: 0.7698\n",
      "Epoch 53/100\n",
      "3673/3673 [==============================] - 0s 43us/sample - loss: 0.4613 - acc: 0.7787 - val_loss: 0.4832 - val_acc: 0.7739\n",
      "Epoch 54/100\n",
      "3673/3673 [==============================] - 0s 40us/sample - loss: 0.4612 - acc: 0.7778 - val_loss: 0.4815 - val_acc: 0.7698\n",
      "Epoch 55/100\n",
      "3673/3673 [==============================] - 0s 39us/sample - loss: 0.4602 - acc: 0.7765 - val_loss: 0.4848 - val_acc: 0.7600\n",
      "Epoch 56/100\n",
      "3673/3673 [==============================] - 0s 42us/sample - loss: 0.4604 - acc: 0.7776 - val_loss: 0.4821 - val_acc: 0.7690\n",
      "Epoch 57/100\n",
      "3673/3673 [==============================] - 0s 47us/sample - loss: 0.4592 - acc: 0.7789 - val_loss: 0.4841 - val_acc: 0.7780\n",
      "Epoch 58/100\n",
      "3673/3673 [==============================] - 0s 45us/sample - loss: 0.4588 - acc: 0.7795 - val_loss: 0.4807 - val_acc: 0.7731\n",
      "Epoch 59/100\n",
      "3673/3673 [==============================] - 0s 43us/sample - loss: 0.4590 - acc: 0.7806 - val_loss: 0.4813 - val_acc: 0.7706\n",
      "Epoch 60/100\n",
      "3673/3673 [==============================] - 0s 39us/sample - loss: 0.4587 - acc: 0.7800 - val_loss: 0.4822 - val_acc: 0.7600\n",
      "Epoch 61/100\n",
      "3673/3673 [==============================] - 0s 37us/sample - loss: 0.4575 - acc: 0.7795 - val_loss: 0.4803 - val_acc: 0.7714\n",
      "Epoch 62/100\n",
      "3673/3673 [==============================] - 0s 38us/sample - loss: 0.4573 - acc: 0.7838 - val_loss: 0.4817 - val_acc: 0.7624\n",
      "Epoch 63/100\n",
      "3673/3673 [==============================] - 0s 38us/sample - loss: 0.4565 - acc: 0.7792 - val_loss: 0.4806 - val_acc: 0.7722\n",
      "Epoch 64/100\n",
      "3673/3673 [==============================] - 0s 38us/sample - loss: 0.4562 - acc: 0.7808 - val_loss: 0.4815 - val_acc: 0.7641\n",
      "Epoch 65/100\n",
      "3673/3673 [==============================] - 0s 40us/sample - loss: 0.4565 - acc: 0.7830 - val_loss: 0.4813 - val_acc: 0.7780\n",
      "Epoch 66/100\n",
      "3673/3673 [==============================] - 0s 42us/sample - loss: 0.4581 - acc: 0.7844 - val_loss: 0.4804 - val_acc: 0.7641\n",
      "Epoch 67/100\n",
      "3673/3673 [==============================] - 0s 40us/sample - loss: 0.4540 - acc: 0.7825 - val_loss: 0.4824 - val_acc: 0.7657\n",
      "Epoch 68/100\n",
      "3673/3673 [==============================] - 0s 39us/sample - loss: 0.4571 - acc: 0.7803 - val_loss: 0.4815 - val_acc: 0.7665\n",
      "Epoch 69/100\n",
      "3673/3673 [==============================] - 0s 36us/sample - loss: 0.4563 - acc: 0.7860 - val_loss: 0.4825 - val_acc: 0.7608\n",
      "Epoch 70/100\n",
      "3673/3673 [==============================] - 0s 39us/sample - loss: 0.4534 - acc: 0.7811 - val_loss: 0.4873 - val_acc: 0.7641\n",
      "Epoch 71/100\n",
      "3673/3673 [==============================] - 0s 38us/sample - loss: 0.4540 - acc: 0.7811 - val_loss: 0.4807 - val_acc: 0.7682\n",
      "Epoch 72/100\n",
      "3673/3673 [==============================] - 0s 38us/sample - loss: 0.4540 - acc: 0.7852 - val_loss: 0.4803 - val_acc: 0.7682\n",
      "Epoch 73/100\n",
      "3673/3673 [==============================] - 0s 39us/sample - loss: 0.4527 - acc: 0.7866 - val_loss: 0.4813 - val_acc: 0.7690\n",
      "Epoch 74/100\n",
      "3673/3673 [==============================] - 0s 39us/sample - loss: 0.4542 - acc: 0.7863 - val_loss: 0.4802 - val_acc: 0.7722\n",
      "Epoch 75/100\n",
      "3673/3673 [==============================] - 0s 46us/sample - loss: 0.4520 - acc: 0.7819 - val_loss: 0.4855 - val_acc: 0.7714\n",
      "Epoch 76/100\n",
      "3673/3673 [==============================] - 0s 39us/sample - loss: 0.4514 - acc: 0.7808 - val_loss: 0.4804 - val_acc: 0.7641\n",
      "Epoch 77/100\n",
      "3673/3673 [==============================] - 0s 39us/sample - loss: 0.4520 - acc: 0.7871 - val_loss: 0.4804 - val_acc: 0.7633\n",
      "Epoch 78/100\n",
      "3673/3673 [==============================] - 0s 38us/sample - loss: 0.4503 - acc: 0.7819 - val_loss: 0.4808 - val_acc: 0.7780\n",
      "Epoch 79/100\n",
      "3673/3673 [==============================] - 0s 39us/sample - loss: 0.4515 - acc: 0.7855 - val_loss: 0.4823 - val_acc: 0.7616\n",
      "Epoch 80/100\n",
      "3673/3673 [==============================] - 0s 39us/sample - loss: 0.4501 - acc: 0.7844 - val_loss: 0.4808 - val_acc: 0.7698\n",
      "Epoch 81/100\n",
      "3673/3673 [==============================] - 0s 38us/sample - loss: 0.4508 - acc: 0.7868 - val_loss: 0.4842 - val_acc: 0.7820\n",
      "Epoch 82/100\n",
      "3673/3673 [==============================] - 0s 48us/sample - loss: 0.4493 - acc: 0.7822 - val_loss: 0.4855 - val_acc: 0.7788\n",
      "Epoch 83/100\n",
      "3673/3673 [==============================] - 0s 39us/sample - loss: 0.4517 - acc: 0.7852 - val_loss: 0.4805 - val_acc: 0.7649\n",
      "Epoch 84/100\n",
      "3673/3673 [==============================] - 0s 39us/sample - loss: 0.4496 - acc: 0.7885 - val_loss: 0.4817 - val_acc: 0.7649\n",
      "Epoch 85/100\n",
      "3673/3673 [==============================] - 0s 41us/sample - loss: 0.4482 - acc: 0.7887 - val_loss: 0.4842 - val_acc: 0.7673\n",
      "Epoch 86/100\n",
      "3673/3673 [==============================] - 0s 40us/sample - loss: 0.4482 - acc: 0.7830 - val_loss: 0.4837 - val_acc: 0.7657\n",
      "Epoch 87/100\n",
      "3673/3673 [==============================] - 0s 45us/sample - loss: 0.4472 - acc: 0.7904 - val_loss: 0.4797 - val_acc: 0.7682\n",
      "Epoch 88/100\n",
      "3673/3673 [==============================] - 0s 40us/sample - loss: 0.4484 - acc: 0.7852 - val_loss: 0.4823 - val_acc: 0.7682\n",
      "Epoch 89/100\n",
      "3673/3673 [==============================] - 0s 40us/sample - loss: 0.4480 - acc: 0.7841 - val_loss: 0.4825 - val_acc: 0.7665\n",
      "Epoch 90/100\n",
      "3673/3673 [==============================] - 0s 44us/sample - loss: 0.4485 - acc: 0.7895 - val_loss: 0.4810 - val_acc: 0.7657\n",
      "Epoch 91/100\n",
      "3673/3673 [==============================] - 0s 40us/sample - loss: 0.4462 - acc: 0.7882 - val_loss: 0.4827 - val_acc: 0.7714\n",
      "Epoch 92/100\n",
      "3673/3673 [==============================] - 0s 41us/sample - loss: 0.4478 - acc: 0.7833 - val_loss: 0.4810 - val_acc: 0.7722\n",
      "Epoch 93/100\n",
      "3673/3673 [==============================] - 0s 40us/sample - loss: 0.4456 - acc: 0.7871 - val_loss: 0.4896 - val_acc: 0.7706\n",
      "Epoch 94/100\n",
      "3673/3673 [==============================] - 0s 40us/sample - loss: 0.4460 - acc: 0.7909 - val_loss: 0.4794 - val_acc: 0.7755\n",
      "Epoch 95/100\n",
      "3673/3673 [==============================] - 0s 43us/sample - loss: 0.4464 - acc: 0.7852 - val_loss: 0.4819 - val_acc: 0.7665\n",
      "Epoch 96/100\n",
      "3673/3673 [==============================] - 0s 41us/sample - loss: 0.4454 - acc: 0.7898 - val_loss: 0.4807 - val_acc: 0.7755\n",
      "Epoch 97/100\n",
      "3673/3673 [==============================] - 0s 41us/sample - loss: 0.4444 - acc: 0.7882 - val_loss: 0.4815 - val_acc: 0.7804\n",
      "Epoch 98/100\n",
      "3673/3673 [==============================] - 0s 40us/sample - loss: 0.4461 - acc: 0.7885 - val_loss: 0.4819 - val_acc: 0.7706\n",
      "Epoch 99/100\n",
      "3673/3673 [==============================] - 0s 40us/sample - loss: 0.4450 - acc: 0.7863 - val_loss: 0.4800 - val_acc: 0.7682\n",
      "Epoch 100/100\n",
      "3673/3673 [==============================] - 0s 40us/sample - loss: 0.4466 - acc: 0.7849 - val_loss: 0.4839 - val_acc: 0.7616\n"
     ]
    },
    {
     "data": {
      "text/plain": [
       "<tensorflow.python.keras.callbacks.History at 0x7f1f096b5bd0>"
      ]
     },
     "execution_count": 487,
     "metadata": {},
     "output_type": "execute_result"
    }
   ],
   "source": [
    "clf.fit(X_train, y_train, epochs=100, validation_data=(X_test, y_test))"
   ]
  },
  {
   "cell_type": "code",
   "execution_count": null,
   "metadata": {},
   "outputs": [],
   "source": []
  },
  {
   "cell_type": "code",
   "execution_count": 488,
   "metadata": {},
   "outputs": [],
   "source": [
    "y_preds_train = clf.predict(X_train)\n",
    "y_preds_test = clf.predict(X_test)"
   ]
  },
  {
   "cell_type": "code",
   "execution_count": 489,
   "metadata": {},
   "outputs": [],
   "source": [
    "y_train, y_test = np.argmax(y_train, axis=1), np.argmax(y_test, axis=1)\n",
    "y_preds_train, y_preds_test = np.argmax(y_preds_train, axis=1), np.argmax(y_preds_test, axis=1)"
   ]
  },
  {
   "cell_type": "code",
   "execution_count": 490,
   "metadata": {},
   "outputs": [
    {
     "data": {
      "text/plain": [
       "0.7862782466648516"
      ]
     },
     "execution_count": 490,
     "metadata": {},
     "output_type": "execute_result"
    }
   ],
   "source": [
    "accuracy_score(y_preds_train, y_train)"
   ]
  },
  {
   "cell_type": "code",
   "execution_count": 491,
   "metadata": {},
   "outputs": [
    {
     "data": {
      "text/plain": [
       "array([[ 746,  286],\n",
       "       [ 499, 2142]])"
      ]
     },
     "execution_count": 491,
     "metadata": {},
     "output_type": "execute_result"
    }
   ],
   "source": [
    "confusion_matrix(y_preds_train, y_train)"
   ]
  },
  {
   "cell_type": "code",
   "execution_count": 492,
   "metadata": {},
   "outputs": [
    {
     "data": {
      "text/plain": [
       "0.7616326530612245"
      ]
     },
     "execution_count": 492,
     "metadata": {},
     "output_type": "execute_result"
    }
   ],
   "source": [
    "accuracy_score(y_preds_test, y_test)"
   ]
  },
  {
   "cell_type": "code",
   "execution_count": 493,
   "metadata": {},
   "outputs": [
    {
     "data": {
      "text/plain": [
       "array([[209, 106],\n",
       "       [186, 724]])"
      ]
     },
     "execution_count": 493,
     "metadata": {},
     "output_type": "execute_result"
    }
   ],
   "source": [
    "confusion_matrix(y_preds_test, y_test)"
   ]
  },
  {
   "cell_type": "markdown",
   "metadata": {},
   "source": [
    "# Symmetry finder test"
   ]
  },
  {
   "cell_type": "markdown",
   "metadata": {},
   "source": [
    "### Data prep red"
   ]
  },
  {
   "cell_type": "code",
   "execution_count": 494,
   "metadata": {},
   "outputs": [],
   "source": [
    "df_red = pd.read_csv('/home/fdz/git/concept_drift_exps/data/wine/winequality_red.csv')"
   ]
  },
  {
   "cell_type": "code",
   "execution_count": 495,
   "metadata": {},
   "outputs": [
    {
     "data": {
      "text/plain": [
       "(1599, 12)"
      ]
     },
     "execution_count": 495,
     "metadata": {},
     "output_type": "execute_result"
    }
   ],
   "source": [
    "df_red.shape"
   ]
  },
  {
   "cell_type": "code",
   "execution_count": 496,
   "metadata": {},
   "outputs": [
    {
     "data": {
      "text/plain": [
       "<matplotlib.axes._subplots.AxesSubplot at 0x7f1f094c2f50>"
      ]
     },
     "execution_count": 496,
     "metadata": {},
     "output_type": "execute_result"
    },
    {
     "data": {
      "image/png": "[encoded data removed]",
      "text/plain": [
       "<Figure size 432x288 with 1 Axes>"
      ]
     },
     "metadata": {
      "needs_background": "light"
     },
     "output_type": "display_data"
    }
   ],
   "source": [
    "df_red['quality'].hist(bins=10)"
   ]
  },
  {
   "cell_type": "code",
   "execution_count": 497,
   "metadata": {},
   "outputs": [
    {
     "data": {
      "text/plain": [
       "5    0.425891\n",
       "6    0.398999\n",
       "7    0.124453\n",
       "4    0.033146\n",
       "8    0.011257\n",
       "3    0.006254\n",
       "Name: quality, dtype: float64"
      ]
     },
     "execution_count": 497,
     "metadata": {},
     "output_type": "execute_result"
    }
   ],
   "source": [
    "df_red['quality'].value_counts() / len(df_red)"
   ]
  },
  {
   "cell_type": "code",
   "execution_count": 498,
   "metadata": {},
   "outputs": [
    {
     "data": {
      "text/plain": [
       "1    0.534709\n",
       "0    0.465291\n",
       "Name: target, dtype: float64"
      ]
     },
     "execution_count": 498,
     "metadata": {},
     "output_type": "execute_result"
    }
   ],
   "source": [
    "if binary_target:\n",
    "    df_red['target'] = df_red['quality'].apply(lambda x: 0 if x < 6 else 1)\n",
    "else:\n",
    "    df_red['target'] = df_red['quality']\n",
    "df_red.drop('quality', axis=1, inplace=True)\n",
    "target = 'target'\n",
    "df_red[target].value_counts() / len(df_red)"
   ]
  },
  {
   "cell_type": "code",
   "execution_count": 499,
   "metadata": {},
   "outputs": [],
   "source": [
    "features = [col for col in df_red.columns if col != target]"
   ]
  },
  {
   "cell_type": "code",
   "execution_count": 500,
   "metadata": {},
   "outputs": [],
   "source": [
    "X_red, y_red = df_red[features].values, df_red[target].values"
   ]
  },
  {
   "cell_type": "code",
   "execution_count": 501,
   "metadata": {},
   "outputs": [],
   "source": [
    "if scale:\n",
    "    X_red = scaler.transform(X_red)"
   ]
  },
  {
   "cell_type": "code",
   "execution_count": 502,
   "metadata": {},
   "outputs": [],
   "source": [
    "y_preds_red  = clf.predict(X_red)"
   ]
  },
  {
   "cell_type": "code",
   "execution_count": 503,
   "metadata": {},
   "outputs": [],
   "source": [
    "y_preds_red = np.argmax(y_preds_red, axis=1)"
   ]
  },
  {
   "cell_type": "code",
   "execution_count": 504,
   "metadata": {},
   "outputs": [
    {
     "data": {
      "text/plain": [
       "0.5028142589118199"
      ]
     },
     "execution_count": 504,
     "metadata": {},
     "output_type": "execute_result"
    }
   ],
   "source": [
    "accuracy_score(y_preds_red, y_red)"
   ]
  },
  {
   "cell_type": "code",
   "execution_count": 505,
   "metadata": {},
   "outputs": [
    {
     "data": {
      "text/plain": [
       "array([[733, 784],\n",
       "       [ 11,  71]])"
      ]
     },
     "execution_count": 505,
     "metadata": {},
     "output_type": "execute_result"
    }
   ],
   "source": [
    "confusion_matrix(y_preds_red, y_red)"
   ]
  },
  {
   "cell_type": "code",
   "execution_count": 506,
   "metadata": {},
   "outputs": [],
   "source": [
    "from sklearn.metrics import precision_score, recall_score"
   ]
  },
  {
   "cell_type": "code",
   "execution_count": 507,
   "metadata": {},
   "outputs": [
    {
     "data": {
      "text/plain": [
       "0.8722891566265061"
      ]
     },
     "execution_count": 507,
     "metadata": {},
     "output_type": "execute_result"
    }
   ],
   "source": [
    "precision_score(y_preds_test, y_test)"
   ]
  },
  {
   "cell_type": "code",
   "execution_count": 508,
   "metadata": {},
   "outputs": [
    {
     "data": {
      "text/plain": [
       "0.08304093567251462"
      ]
     },
     "execution_count": 508,
     "metadata": {},
     "output_type": "execute_result"
    }
   ],
   "source": [
    "precision_score(y_preds_red, y_red)"
   ]
  },
  {
   "cell_type": "code",
   "execution_count": 509,
   "metadata": {},
   "outputs": [
    {
     "data": {
      "text/plain": [
       "0.7956043956043956"
      ]
     },
     "execution_count": 509,
     "metadata": {},
     "output_type": "execute_result"
    }
   ],
   "source": [
    "recall_score(y_preds_test, y_test)"
   ]
  },
  {
   "cell_type": "code",
   "execution_count": 510,
   "metadata": {},
   "outputs": [
    {
     "data": {
      "text/plain": [
       "0.8658536585365854"
      ]
     },
     "execution_count": 510,
     "metadata": {},
     "output_type": "execute_result"
    }
   ],
   "source": [
    "recall_score(y_preds_red, y_red)"
   ]
  },
  {
   "cell_type": "markdown",
   "metadata": {},
   "source": [
    "### find symmetries"
   ]
  },
  {
   "cell_type": "code",
   "execution_count": 511,
   "metadata": {},
   "outputs": [],
   "source": [
    "window = 1000"
   ]
  },
  {
   "cell_type": "code",
   "execution_count": 512,
   "metadata": {},
   "outputs": [],
   "source": [
    "def sample_window(X_test, y_test, window):\n",
    "    samples_rnd = np.random.choice(range(len(X_test)), window, replace=False)\n",
    "    X_test_samples = X_test[samples_rnd, :]\n",
    "    y_test_samples = y_test[samples_rnd]\n",
    "    return X_test_samples, y_test_samples"
   ]
  },
  {
   "cell_type": "code",
   "execution_count": 513,
   "metadata": {},
   "outputs": [],
   "source": [
    "from importlib import reload"
   ]
  },
  {
   "cell_type": "code",
   "execution_count": 514,
   "metadata": {},
   "outputs": [
    {
     "data": {
      "text/plain": [
       "<module 'model_symmetries' from '../odcd/cd/model_symmetries.py'>"
      ]
     },
     "execution_count": 514,
     "metadata": {},
     "output_type": "execute_result"
    }
   ],
   "source": [
    "reload(vsf)"
   ]
  },
  {
   "cell_type": "code",
   "execution_count": 515,
   "metadata": {},
   "outputs": [
    {
     "data": {
      "text/plain": [
       "'1.13.1'"
      ]
     },
     "execution_count": 515,
     "metadata": {},
     "output_type": "execute_result"
    }
   ],
   "source": [
    "tf.__version__"
   ]
  },
  {
   "cell_type": "code",
   "execution_count": null,
   "metadata": {},
   "outputs": [],
   "source": []
  },
  {
   "cell_type": "code",
   "execution_count": 516,
   "metadata": {},
   "outputs": [
    {
     "name": "stdout",
     "output_type": "stream",
     "text": [
      "WARNING:tensorflow:Output \"input_trans\" missing from loss dictionary. We assume this was done on purpose. The fit and evaluate APIs will not be expecting any data to be passed to \"input_trans\".\n",
      "WARNING:tensorflow:Output \"model_4\" missing from loss dictionary. We assume this was done on purpose. The fit and evaluate APIs will not be expecting any data to be passed to \"model_4\".\n",
      "WARNING:tensorflow:Output \"model_4\" missing from loss dictionary. We assume this was done on purpose. The fit and evaluate APIs will not be expecting any data to be passed to \"model_4\".\n",
      "Vae\n",
      "__________________________________________________________________________________________________\n",
      "Layer (type)                    Output Shape         Param #     Connected to                     \n",
      "==================================================================================================\n",
      "encoder_input (InputLayer)      (None, 11)           0                                            \n",
      "__________________________________________________________________________________________________\n",
      "reshape_11 (Reshape)            (None, 11)           0           encoder_input[0][0]              \n",
      "__________________________________________________________________________________________________\n",
      "dense_43 (Dense)                (None, 512)          6144        reshape_11[0][0]                 \n",
      "__________________________________________________________________________________________________\n",
      "z_mean (Dense)                  (None, 2)            1026        dense_43[0][0]                   \n",
      "__________________________________________________________________________________________________\n",
      "z_log_var (Dense)               (None, 2)            1026        dense_43[0][0]                   \n",
      "__________________________________________________________________________________________________\n",
      "z (Lambda)                      (None, 2)            0           z_mean[0][0]                     \n",
      "                                                                 z_log_var[0][0]                  \n",
      "__________________________________________________________________________________________________\n",
      "dense_44 (Dense)                (None, 512)          1536        z[0][0]                          \n",
      "__________________________________________________________________________________________________\n",
      "dense_45 (Dense)                (None, 11)           5643        dense_44[0][0]                   \n",
      "__________________________________________________________________________________________________\n",
      "input_trans (Reshape)           (None, 11)           0           dense_45[0][0]                   \n",
      "__________________________________________________________________________________________________\n",
      "model_4 (Model)                 (None, 2)            1402        input_trans[0][0]                \n",
      "                                                                 encoder_input[0][0]              \n",
      "==================================================================================================\n",
      "Total params: 16,777\n",
      "Trainable params: 15,375\n",
      "Non-trainable params: 1,402\n",
      "__________________________________________________________________________________________________\n"
     ]
    }
   ],
   "source": [
    "vae = vsf.VaeSymmetryFinder(clf, input_shape=(11,), output_shape=(2, ), intermediate_dim=512)"
   ]
  },
  {
   "cell_type": "code",
   "execution_count": 517,
   "metadata": {
    "scrolled": true
   },
   "outputs": [
    {
     "name": "stdout",
     "output_type": "stream",
     "text": [
      "Train on 3673 samples, validate on 1225 samples\n",
      "Epoch 1/200\n",
      "3673/3673 [==============================] - 1s 385us/sample - loss: 0.1978 - val_loss: 0.1792\n",
      "Epoch 2/200\n",
      "3673/3673 [==============================] - 0s 24us/sample - loss: 0.1797 - val_loss: 0.1665\n",
      "Epoch 3/200\n",
      "3673/3673 [==============================] - 0s 23us/sample - loss: 0.1378 - val_loss: 0.0886\n",
      "Epoch 4/200\n",
      "3673/3673 [==============================] - 0s 23us/sample - loss: 0.0646 - val_loss: 0.0483\n",
      "Epoch 5/200\n",
      "3673/3673 [==============================] - 0s 24us/sample - loss: 0.0436 - val_loss: 0.0392\n",
      "Epoch 6/200\n",
      "3673/3673 [==============================] - 0s 24us/sample - loss: 0.0386 - val_loss: 0.0381\n",
      "Epoch 7/200\n",
      "3673/3673 [==============================] - 0s 25us/sample - loss: 0.0352 - val_loss: 0.0334\n",
      "Epoch 8/200\n",
      "3673/3673 [==============================] - 0s 23us/sample - loss: 0.0329 - val_loss: 0.0353\n",
      "Epoch 9/200\n",
      "3673/3673 [==============================] - 0s 24us/sample - loss: 0.0310 - val_loss: 0.0286\n",
      "Epoch 10/200\n",
      "3673/3673 [==============================] - 0s 25us/sample - loss: 0.0266 - val_loss: 0.0265\n",
      "Epoch 11/200\n",
      "3673/3673 [==============================] - 0s 24us/sample - loss: 0.0229 - val_loss: 0.0212\n",
      "Epoch 12/200\n",
      "3673/3673 [==============================] - 0s 24us/sample - loss: 0.0194 - val_loss: 0.0176\n",
      "Epoch 13/200\n",
      "3673/3673 [==============================] - 0s 25us/sample - loss: 0.0155 - val_loss: 0.0143\n",
      "Epoch 14/200\n",
      "3673/3673 [==============================] - 0s 24us/sample - loss: 0.0123 - val_loss: 0.0115\n",
      "Epoch 15/200\n",
      "3673/3673 [==============================] - 0s 24us/sample - loss: 0.0103 - val_loss: 0.0085\n",
      "Epoch 16/200\n",
      "3673/3673 [==============================] - 0s 25us/sample - loss: 0.0083 - val_loss: 0.0087\n",
      "Epoch 17/200\n",
      "3673/3673 [==============================] - 0s 24us/sample - loss: 0.0067 - val_loss: 0.0057\n",
      "Epoch 18/200\n",
      "3673/3673 [==============================] - 0s 24us/sample - loss: 0.0058 - val_loss: 0.0047\n",
      "Epoch 19/200\n",
      "3673/3673 [==============================] - 0s 24us/sample - loss: 0.0049 - val_loss: 0.0040\n",
      "Epoch 20/200\n",
      "3673/3673 [==============================] - 0s 25us/sample - loss: 0.0047 - val_loss: 0.0048\n",
      "Epoch 21/200\n",
      "3673/3673 [==============================] - 0s 25us/sample - loss: 0.0042 - val_loss: 0.0031\n",
      "Epoch 22/200\n",
      "3673/3673 [==============================] - 0s 25us/sample - loss: 0.0034 - val_loss: 0.0028\n",
      "Epoch 23/200\n",
      "3673/3673 [==============================] - 0s 24us/sample - loss: 0.0033 - val_loss: 0.0026\n",
      "Epoch 24/200\n",
      "3673/3673 [==============================] - 0s 24us/sample - loss: 0.0029 - val_loss: 0.0023\n",
      "Epoch 25/200\n",
      "3673/3673 [==============================] - 0s 25us/sample - loss: 0.0027 - val_loss: 0.0021\n",
      "Epoch 26/200\n",
      "3673/3673 [==============================] - 0s 24us/sample - loss: 0.0024 - val_loss: 0.0019\n",
      "Epoch 27/200\n",
      "3673/3673 [==============================] - 0s 24us/sample - loss: 0.0024 - val_loss: 0.0023\n",
      "Epoch 28/200\n",
      "3673/3673 [==============================] - 0s 25us/sample - loss: 0.0023 - val_loss: 0.0017\n",
      "Epoch 29/200\n",
      "3673/3673 [==============================] - 0s 25us/sample - loss: 0.0022 - val_loss: 0.0017\n",
      "Epoch 30/200\n",
      "3673/3673 [==============================] - 0s 24us/sample - loss: 0.0018 - val_loss: 0.0015\n",
      "Epoch 31/200\n",
      "3673/3673 [==============================] - 0s 24us/sample - loss: 0.0019 - val_loss: 0.0014\n",
      "Epoch 32/200\n",
      "3673/3673 [==============================] - 0s 25us/sample - loss: 0.0016 - val_loss: 0.0014\n",
      "Epoch 33/200\n",
      "3673/3673 [==============================] - 0s 25us/sample - loss: 0.0015 - val_loss: 0.0013\n",
      "Epoch 34/200\n",
      "3673/3673 [==============================] - 0s 24us/sample - loss: 0.0015 - val_loss: 0.0013\n",
      "Epoch 35/200\n",
      "3673/3673 [==============================] - 0s 25us/sample - loss: 0.0014 - val_loss: 0.0014\n",
      "Epoch 36/200\n",
      "3673/3673 [==============================] - 0s 25us/sample - loss: 0.0014 - val_loss: 0.0011\n",
      "Epoch 37/200\n",
      "3673/3673 [==============================] - 0s 25us/sample - loss: 0.0013 - val_loss: 0.0017\n",
      "Epoch 38/200\n",
      "3673/3673 [==============================] - 0s 25us/sample - loss: 0.0013 - val_loss: 0.0012\n",
      "Epoch 39/200\n",
      "3673/3673 [==============================] - 0s 24us/sample - loss: 0.0012 - val_loss: 0.0010\n",
      "Epoch 40/200\n",
      "3673/3673 [==============================] - 0s 23us/sample - loss: 0.0011 - val_loss: 9.3742e-04\n",
      "Epoch 41/200\n",
      "3673/3673 [==============================] - 0s 24us/sample - loss: 0.0014 - val_loss: 0.0016\n",
      "Epoch 42/200\n",
      "3673/3673 [==============================] - 0s 25us/sample - loss: 0.0014 - val_loss: 9.0467e-04\n",
      "Epoch 43/200\n",
      "3673/3673 [==============================] - 0s 25us/sample - loss: 9.8798e-04 - val_loss: 9.3499e-04\n",
      "Epoch 44/200\n",
      "3673/3673 [==============================] - 0s 25us/sample - loss: 9.3413e-04 - val_loss: 9.1653e-04\n",
      "Epoch 45/200\n",
      "3673/3673 [==============================] - 0s 24us/sample - loss: 9.0494e-04 - val_loss: 8.1043e-04\n",
      "Epoch 46/200\n",
      "3673/3673 [==============================] - 0s 25us/sample - loss: 9.5106e-04 - val_loss: 8.1912e-04\n",
      "Epoch 47/200\n",
      "3673/3673 [==============================] - 0s 25us/sample - loss: 9.2793e-04 - val_loss: 7.6740e-04\n",
      "Epoch 48/200\n",
      "3673/3673 [==============================] - 0s 23us/sample - loss: 8.5840e-04 - val_loss: 0.0011\n",
      "Epoch 49/200\n",
      "3673/3673 [==============================] - 0s 25us/sample - loss: 0.0011 - val_loss: 0.0012\n",
      "Epoch 50/200\n",
      "3673/3673 [==============================] - 0s 25us/sample - loss: 9.7523e-04 - val_loss: 7.7664e-04\n",
      "Epoch 51/200\n",
      "3673/3673 [==============================] - 0s 25us/sample - loss: 7.7711e-04 - val_loss: 0.0010\n",
      "Epoch 52/200\n",
      "3673/3673 [==============================] - 0s 25us/sample - loss: 8.3730e-04 - val_loss: 7.5656e-04\n",
      "Epoch 53/200\n",
      "3673/3673 [==============================] - 0s 25us/sample - loss: 9.6268e-04 - val_loss: 0.0016\n",
      "Epoch 54/200\n",
      "3673/3673 [==============================] - 0s 25us/sample - loss: 8.7557e-04 - val_loss: 6.5207e-04\n",
      "Epoch 55/200\n",
      "3673/3673 [==============================] - 0s 25us/sample - loss: 6.5626e-04 - val_loss: 6.6082e-04\n",
      "Epoch 56/200\n",
      "3673/3673 [==============================] - 0s 25us/sample - loss: 6.2177e-04 - val_loss: 6.3448e-04\n",
      "Epoch 57/200\n",
      "3673/3673 [==============================] - 0s 24us/sample - loss: 6.9346e-04 - val_loss: 7.6692e-04\n",
      "Epoch 58/200\n",
      "3673/3673 [==============================] - 0s 25us/sample - loss: 7.6393e-04 - val_loss: 8.0473e-04\n",
      "Epoch 59/200\n",
      "3673/3673 [==============================] - 0s 24us/sample - loss: 5.8591e-04 - val_loss: 6.4261e-04\n",
      "Epoch 60/200\n",
      "3673/3673 [==============================] - 0s 25us/sample - loss: 5.6801e-04 - val_loss: 7.1430e-04\n",
      "Epoch 61/200\n",
      "3673/3673 [==============================] - 0s 24us/sample - loss: 7.3061e-04 - val_loss: 6.1374e-04\n",
      "Epoch 62/200\n",
      "3673/3673 [==============================] - 0s 25us/sample - loss: 6.9254e-04 - val_loss: 6.2682e-04\n",
      "Epoch 63/200\n",
      "3673/3673 [==============================] - 0s 25us/sample - loss: 5.4320e-04 - val_loss: 6.7640e-04\n",
      "Epoch 64/200\n",
      "3673/3673 [==============================] - 0s 30us/sample - loss: 5.6491e-04 - val_loss: 5.4716e-04\n",
      "Epoch 65/200\n",
      "3673/3673 [==============================] - 0s 31us/sample - loss: 5.3475e-04 - val_loss: 5.6966e-04\n",
      "Epoch 66/200\n",
      "3673/3673 [==============================] - 0s 29us/sample - loss: 5.1200e-04 - val_loss: 8.4629e-04\n",
      "Epoch 67/200\n",
      "3673/3673 [==============================] - 0s 27us/sample - loss: 4.8737e-04 - val_loss: 5.3007e-04\n",
      "Epoch 68/200\n",
      "3673/3673 [==============================] - 0s 27us/sample - loss: 4.8737e-04 - val_loss: 5.0344e-04\n",
      "Epoch 69/200\n",
      "3673/3673 [==============================] - 0s 38us/sample - loss: 4.8655e-04 - val_loss: 6.4368e-04\n",
      "Epoch 70/200\n",
      "3673/3673 [==============================] - 0s 39us/sample - loss: 4.7157e-04 - val_loss: 5.7523e-04\n",
      "Epoch 71/200\n",
      "3673/3673 [==============================] - 0s 31us/sample - loss: 6.5190e-04 - val_loss: 7.5696e-04\n",
      "Epoch 72/200\n",
      "3673/3673 [==============================] - 0s 24us/sample - loss: 6.7054e-04 - val_loss: 7.6834e-04\n",
      "Epoch 73/200\n",
      "3673/3673 [==============================] - 0s 25us/sample - loss: 4.9076e-04 - val_loss: 4.7162e-04\n",
      "Epoch 74/200\n",
      "3673/3673 [==============================] - 0s 26us/sample - loss: 5.6671e-04 - val_loss: 7.9298e-04\n"
     ]
    },
    {
     "name": "stdout",
     "output_type": "stream",
     "text": [
      "Epoch 75/200\n",
      "3673/3673 [==============================] - 0s 25us/sample - loss: 5.5868e-04 - val_loss: 4.4427e-04\n",
      "Epoch 76/200\n",
      "3673/3673 [==============================] - 0s 29us/sample - loss: 4.1710e-04 - val_loss: 4.5405e-04\n",
      "Epoch 77/200\n",
      "3673/3673 [==============================] - 0s 25us/sample - loss: 3.9598e-04 - val_loss: 4.7406e-04\n",
      "Epoch 78/200\n",
      "3673/3673 [==============================] - 0s 28us/sample - loss: 4.4303e-04 - val_loss: 5.0427e-04\n",
      "Epoch 79/200\n",
      "3673/3673 [==============================] - 0s 33us/sample - loss: 5.1915e-04 - val_loss: 7.9612e-04\n",
      "Epoch 80/200\n",
      "3673/3673 [==============================] - 0s 29us/sample - loss: 5.0608e-04 - val_loss: 4.9290e-04\n",
      "Epoch 81/200\n",
      "3673/3673 [==============================] - 0s 25us/sample - loss: 4.4112e-04 - val_loss: 4.1693e-04\n",
      "Epoch 82/200\n",
      "3673/3673 [==============================] - 0s 25us/sample - loss: 3.7313e-04 - val_loss: 4.6871e-04\n",
      "Epoch 83/200\n",
      "3673/3673 [==============================] - 0s 26us/sample - loss: 3.7692e-04 - val_loss: 4.3112e-04\n",
      "Epoch 84/200\n",
      "3673/3673 [==============================] - 0s 31us/sample - loss: 5.0527e-04 - val_loss: 0.0012\n",
      "Epoch 85/200\n",
      "3673/3673 [==============================] - 0s 30us/sample - loss: 5.1299e-04 - val_loss: 4.7283e-04\n",
      "Epoch 86/200\n",
      "3673/3673 [==============================] - 0s 25us/sample - loss: 3.8239e-04 - val_loss: 0.0013\n",
      "Epoch 87/200\n",
      "3673/3673 [==============================] - 0s 26us/sample - loss: 4.1741e-04 - val_loss: 3.9820e-04\n",
      "Epoch 88/200\n",
      "3673/3673 [==============================] - 0s 33us/sample - loss: 3.6704e-04 - val_loss: 4.3251e-04\n",
      "Epoch 89/200\n",
      "3673/3673 [==============================] - 0s 33us/sample - loss: 3.2464e-04 - val_loss: 5.1446e-04\n",
      "Epoch 90/200\n",
      "3673/3673 [==============================] - 0s 24us/sample - loss: 3.8169e-04 - val_loss: 5.6509e-04\n",
      "Epoch 91/200\n",
      "3673/3673 [==============================] - 0s 24us/sample - loss: 4.3629e-04 - val_loss: 0.0015\n",
      "Epoch 92/200\n",
      "3673/3673 [==============================] - 0s 28us/sample - loss: 4.5038e-04 - val_loss: 4.3909e-04\n",
      "Epoch 93/200\n",
      "3673/3673 [==============================] - 0s 33us/sample - loss: 3.9204e-04 - val_loss: 3.4445e-04\n",
      "Epoch 94/200\n",
      "3673/3673 [==============================] - 0s 29us/sample - loss: 4.2457e-04 - val_loss: 6.7561e-04\n",
      "Epoch 95/200\n",
      "3673/3673 [==============================] - 0s 25us/sample - loss: 3.7759e-04 - val_loss: 3.4591e-04\n",
      "Epoch 96/200\n",
      "3673/3673 [==============================] - 0s 24us/sample - loss: 3.0510e-04 - val_loss: 3.5005e-04\n",
      "Epoch 97/200\n",
      "3673/3673 [==============================] - 0s 27us/sample - loss: 3.8926e-04 - val_loss: 3.7985e-04\n",
      "Epoch 98/200\n",
      "3673/3673 [==============================] - 0s 33us/sample - loss: 4.6203e-04 - val_loss: 8.0683e-04\n",
      "Epoch 99/200\n",
      "3673/3673 [==============================] - 0s 30us/sample - loss: 3.5477e-04 - val_loss: 3.6645e-04\n",
      "Epoch 100/200\n",
      "3673/3673 [==============================] - 0s 26us/sample - loss: 4.0707e-04 - val_loss: 3.5407e-04\n",
      "Epoch 101/200\n",
      "3673/3673 [==============================] - 0s 31us/sample - loss: 2.8380e-04 - val_loss: 3.6100e-04\n",
      "Epoch 102/200\n",
      "3673/3673 [==============================] - 0s 36us/sample - loss: 3.0298e-04 - val_loss: 6.4856e-04\n",
      "Epoch 103/200\n",
      "3673/3673 [==============================] - 0s 32us/sample - loss: 3.0199e-04 - val_loss: 3.3280e-04\n",
      "Epoch 104/200\n",
      "3673/3673 [==============================] - 0s 27us/sample - loss: 3.0416e-04 - val_loss: 5.6595e-04\n",
      "Epoch 105/200\n",
      "3673/3673 [==============================] - 0s 35us/sample - loss: 4.1249e-04 - val_loss: 4.5131e-04\n",
      "Epoch 106/200\n",
      "3673/3673 [==============================] - 0s 37us/sample - loss: 3.8051e-04 - val_loss: 5.6696e-04\n",
      "Epoch 107/200\n",
      "3673/3673 [==============================] - 0s 31us/sample - loss: 3.4511e-04 - val_loss: 3.1358e-04\n",
      "Epoch 108/200\n",
      "3673/3673 [==============================] - 0s 28us/sample - loss: 3.0393e-04 - val_loss: 2.9159e-04\n",
      "Epoch 109/200\n",
      "3673/3673 [==============================] - 0s 26us/sample - loss: 3.3063e-04 - val_loss: 3.1871e-04\n",
      "Epoch 110/200\n",
      "3673/3673 [==============================] - 0s 26us/sample - loss: 2.7905e-04 - val_loss: 3.0384e-04\n",
      "Epoch 111/200\n",
      "3673/3673 [==============================] - 0s 27us/sample - loss: 2.1902e-04 - val_loss: 4.4185e-04\n",
      "Epoch 112/200\n",
      "3673/3673 [==============================] - 0s 26us/sample - loss: 2.7053e-04 - val_loss: 2.8710e-04\n",
      "Epoch 113/200\n",
      "3673/3673 [==============================] - 0s 27us/sample - loss: 3.7979e-04 - val_loss: 4.8096e-04\n",
      "Epoch 114/200\n",
      "3673/3673 [==============================] - 0s 26us/sample - loss: 4.0807e-04 - val_loss: 0.0010\n",
      "Epoch 115/200\n",
      "3673/3673 [==============================] - 0s 25us/sample - loss: 7.0880e-04 - val_loss: 4.5930e-04\n",
      "Epoch 116/200\n",
      "3673/3673 [==============================] - 0s 25us/sample - loss: 4.2977e-04 - val_loss: 3.4418e-04\n",
      "Epoch 117/200\n",
      "3673/3673 [==============================] - 0s 22us/sample - loss: 2.2721e-04 - val_loss: 2.5737e-04\n",
      "Epoch 118/200\n",
      "3673/3673 [==============================] - 0s 24us/sample - loss: 3.4914e-04 - val_loss: 3.6273e-04\n",
      "Epoch 119/200\n",
      "3673/3673 [==============================] - 0s 25us/sample - loss: 3.4706e-04 - val_loss: 6.1640e-04\n",
      "Epoch 120/200\n",
      "3673/3673 [==============================] - 0s 25us/sample - loss: 5.7551e-04 - val_loss: 0.0010\n",
      "Epoch 121/200\n",
      "3673/3673 [==============================] - 0s 24us/sample - loss: 6.7095e-04 - val_loss: 4.9781e-04\n",
      "Epoch 122/200\n",
      "3673/3673 [==============================] - 0s 24us/sample - loss: 4.4485e-04 - val_loss: 3.5993e-04\n",
      "Epoch 123/200\n",
      "3673/3673 [==============================] - 0s 33us/sample - loss: 3.4740e-04 - val_loss: 4.0171e-04\n",
      "Epoch 124/200\n",
      "3673/3673 [==============================] - 0s 40us/sample - loss: 2.4569e-04 - val_loss: 3.2980e-04\n",
      "Epoch 125/200\n",
      "3673/3673 [==============================] - 0s 26us/sample - loss: 2.0993e-04 - val_loss: 2.6553e-04\n",
      "Epoch 126/200\n",
      "3673/3673 [==============================] - 0s 26us/sample - loss: 2.3615e-04 - val_loss: 3.0230e-04\n",
      "Epoch 127/200\n",
      "3673/3673 [==============================] - 0s 28us/sample - loss: 1.9998e-04 - val_loss: 2.5204e-04\n",
      "Epoch 128/200\n",
      "3673/3673 [==============================] - 0s 27us/sample - loss: 2.4303e-04 - val_loss: 3.9953e-04\n",
      "Epoch 129/200\n",
      "3673/3673 [==============================] - 0s 27us/sample - loss: 3.0133e-04 - val_loss: 2.4698e-04\n",
      "Epoch 130/200\n",
      "3673/3673 [==============================] - 0s 27us/sample - loss: 4.4047e-04 - val_loss: 3.6037e-04\n",
      "Epoch 131/200\n",
      "3673/3673 [==============================] - 0s 30us/sample - loss: 2.3585e-04 - val_loss: 2.3979e-04\n",
      "Epoch 132/200\n",
      "3673/3673 [==============================] - 0s 29us/sample - loss: 2.1091e-04 - val_loss: 3.1439e-04\n",
      "Epoch 133/200\n",
      "3673/3673 [==============================] - 0s 26us/sample - loss: 1.8133e-04 - val_loss: 2.2932e-04\n",
      "Epoch 134/200\n",
      "3673/3673 [==============================] - 0s 25us/sample - loss: 3.3542e-04 - val_loss: 2.6992e-04\n",
      "Epoch 135/200\n",
      "3673/3673 [==============================] - 0s 25us/sample - loss: 2.5109e-04 - val_loss: 2.5194e-04\n",
      "Epoch 136/200\n",
      "3673/3673 [==============================] - 0s 26us/sample - loss: 2.3058e-04 - val_loss: 3.1214e-04\n",
      "Epoch 137/200\n",
      "3673/3673 [==============================] - 0s 29us/sample - loss: 2.0247e-04 - val_loss: 2.7732e-04\n",
      "Epoch 138/200\n",
      "3673/3673 [==============================] - 0s 31us/sample - loss: 1.9270e-04 - val_loss: 4.7428e-04\n",
      "Epoch 139/200\n",
      "3673/3673 [==============================] - 0s 30us/sample - loss: 2.8117e-04 - val_loss: 2.5197e-04\n",
      "Epoch 140/200\n",
      "3673/3673 [==============================] - 0s 26us/sample - loss: 2.4815e-04 - val_loss: 2.3843e-04\n",
      "Epoch 141/200\n",
      "3673/3673 [==============================] - 0s 25us/sample - loss: 3.3366e-04 - val_loss: 2.1203e-04\n",
      "Epoch 142/200\n",
      "3673/3673 [==============================] - 0s 26us/sample - loss: 1.8754e-04 - val_loss: 2.2830e-04\n",
      "Epoch 143/200\n",
      "3673/3673 [==============================] - 0s 27us/sample - loss: 3.4143e-04 - val_loss: 2.6289e-04\n",
      "Epoch 144/200\n",
      "3673/3673 [==============================] - 0s 25us/sample - loss: 2.8740e-04 - val_loss: 3.8644e-04\n",
      "Epoch 145/200\n",
      "3673/3673 [==============================] - 0s 26us/sample - loss: 1.8407e-04 - val_loss: 2.1804e-04\n",
      "Epoch 146/200\n"
     ]
    },
    {
     "name": "stdout",
     "output_type": "stream",
     "text": [
      "3673/3673 [==============================] - 0s 25us/sample - loss: 2.3600e-04 - val_loss: 2.0912e-04\n",
      "Epoch 147/200\n",
      "3673/3673 [==============================] - 0s 22us/sample - loss: 1.8311e-04 - val_loss: 5.4429e-04\n",
      "Epoch 148/200\n",
      "3673/3673 [==============================] - 0s 27us/sample - loss: 4.1948e-04 - val_loss: 4.5207e-04\n",
      "Epoch 149/200\n",
      "3673/3673 [==============================] - 0s 37us/sample - loss: 2.8317e-04 - val_loss: 2.6230e-04\n",
      "Epoch 150/200\n",
      "3673/3673 [==============================] - 0s 28us/sample - loss: 2.7482e-04 - val_loss: 2.0157e-04\n",
      "Epoch 151/200\n",
      "3673/3673 [==============================] - 0s 26us/sample - loss: 1.9467e-04 - val_loss: 2.5891e-04\n",
      "Epoch 152/200\n",
      "3673/3673 [==============================] - 0s 25us/sample - loss: 1.8460e-04 - val_loss: 1.9147e-04\n",
      "Epoch 153/200\n",
      "3673/3673 [==============================] - 0s 26us/sample - loss: 1.4155e-04 - val_loss: 2.1550e-04\n",
      "Epoch 154/200\n",
      "3673/3673 [==============================] - 0s 25us/sample - loss: 1.5715e-04 - val_loss: 2.2381e-04\n",
      "Epoch 155/200\n",
      "3673/3673 [==============================] - 0s 25us/sample - loss: 2.3335e-04 - val_loss: 3.9787e-04\n",
      "Epoch 156/200\n",
      "3673/3673 [==============================] - 0s 25us/sample - loss: 2.9069e-04 - val_loss: 2.1884e-04\n",
      "Epoch 157/200\n",
      "3673/3673 [==============================] - 0s 25us/sample - loss: 2.7528e-04 - val_loss: 2.8669e-04\n",
      "Epoch 158/200\n",
      "3673/3673 [==============================] - 0s 25us/sample - loss: 2.1999e-04 - val_loss: 2.3071e-04\n",
      "Epoch 159/200\n",
      "3673/3673 [==============================] - 0s 24us/sample - loss: 1.7486e-04 - val_loss: 1.8867e-04\n",
      "Epoch 160/200\n",
      "3673/3673 [==============================] - 0s 25us/sample - loss: 2.6599e-04 - val_loss: 3.0938e-04\n",
      "Epoch 161/200\n",
      "3673/3673 [==============================] - 0s 23us/sample - loss: 1.8823e-04 - val_loss: 2.2627e-04\n",
      "Epoch 162/200\n",
      "3673/3673 [==============================] - 0s 23us/sample - loss: 1.6879e-04 - val_loss: 4.4389e-04\n",
      "Epoch 163/200\n",
      "3673/3673 [==============================] - 0s 24us/sample - loss: 2.9501e-04 - val_loss: 2.6100e-04\n",
      "Epoch 164/200\n",
      "3673/3673 [==============================] - 0s 25us/sample - loss: 1.8604e-04 - val_loss: 2.5864e-04\n",
      "Epoch 165/200\n",
      "3673/3673 [==============================] - 0s 24us/sample - loss: 1.5573e-04 - val_loss: 1.9557e-04\n",
      "Epoch 166/200\n",
      "3673/3673 [==============================] - 0s 24us/sample - loss: 1.4089e-04 - val_loss: 2.5247e-04\n",
      "Epoch 167/200\n",
      "3673/3673 [==============================] - 0s 26us/sample - loss: 1.8041e-04 - val_loss: 2.3464e-04\n",
      "Epoch 168/200\n",
      "3673/3673 [==============================] - 0s 26us/sample - loss: 3.0865e-04 - val_loss: 2.3394e-04\n",
      "Epoch 169/200\n",
      "3673/3673 [==============================] - 0s 26us/sample - loss: 1.9365e-04 - val_loss: 1.8681e-04\n",
      "Epoch 170/200\n",
      "3673/3673 [==============================] - 0s 25us/sample - loss: 1.5715e-04 - val_loss: 1.7375e-04\n",
      "Epoch 171/200\n",
      "3673/3673 [==============================] - 0s 25us/sample - loss: 1.5490e-04 - val_loss: 2.9574e-04\n",
      "Epoch 172/200\n",
      "3673/3673 [==============================] - 0s 27us/sample - loss: 1.8850e-04 - val_loss: 3.0143e-04\n",
      "Epoch 173/200\n",
      "3673/3673 [==============================] - 0s 29us/sample - loss: 1.8721e-04 - val_loss: 2.4006e-04\n",
      "Epoch 174/200\n",
      "3673/3673 [==============================] - 0s 37us/sample - loss: 1.7269e-04 - val_loss: 2.3243e-04\n",
      "Epoch 175/200\n",
      "3673/3673 [==============================] - 0s 27us/sample - loss: 2.0174e-04 - val_loss: 1.6603e-04\n",
      "Epoch 176/200\n",
      "3673/3673 [==============================] - 0s 31us/sample - loss: 1.8699e-04 - val_loss: 1.7864e-04\n",
      "Epoch 177/200\n",
      "3673/3673 [==============================] - 0s 40us/sample - loss: 2.7852e-04 - val_loss: 1.9079e-04\n",
      "Epoch 178/200\n",
      "3673/3673 [==============================] - 0s 41us/sample - loss: 4.4751e-04 - val_loss: 3.5294e-04\n",
      "Epoch 179/200\n",
      "3673/3673 [==============================] - 0s 35us/sample - loss: 4.1943e-04 - val_loss: 1.9178e-04\n",
      "Epoch 180/200\n",
      "3673/3673 [==============================] - 0s 25us/sample - loss: 3.1209e-04 - val_loss: 2.8477e-04\n",
      "Epoch 181/200\n",
      "3673/3673 [==============================] - 0s 27us/sample - loss: 1.5292e-04 - val_loss: 1.5924e-04\n",
      "Epoch 182/200\n",
      "3673/3673 [==============================] - 0s 36us/sample - loss: 1.8900e-04 - val_loss: 4.6501e-04\n",
      "Epoch 183/200\n",
      "3673/3673 [==============================] - 0s 42us/sample - loss: 2.0343e-04 - val_loss: 2.3320e-04\n",
      "Epoch 184/200\n",
      "3673/3673 [==============================] - 0s 30us/sample - loss: 1.6667e-04 - val_loss: 2.9038e-04\n",
      "Epoch 185/200\n",
      "3673/3673 [==============================] - 0s 28us/sample - loss: 2.1195e-04 - val_loss: 1.8067e-04\n",
      "Epoch 186/200\n",
      "3673/3673 [==============================] - 0s 30us/sample - loss: 1.4622e-04 - val_loss: 1.5696e-04\n",
      "Epoch 187/200\n",
      "3673/3673 [==============================] - 0s 38us/sample - loss: 1.2025e-04 - val_loss: 1.4746e-04\n",
      "Epoch 188/200\n",
      "3673/3673 [==============================] - 0s 42us/sample - loss: 1.1699e-04 - val_loss: 2.0336e-04\n",
      "Epoch 189/200\n",
      "3673/3673 [==============================] - 0s 28us/sample - loss: 1.2431e-04 - val_loss: 2.3344e-04\n",
      "Epoch 190/200\n",
      "3673/3673 [==============================] - 0s 30us/sample - loss: 3.5555e-04 - val_loss: 4.3921e-04\n",
      "Epoch 191/200\n",
      "3673/3673 [==============================] - 0s 28us/sample - loss: 2.4811e-04 - val_loss: 1.9915e-04\n",
      "Epoch 192/200\n",
      "3673/3673 [==============================] - 0s 29us/sample - loss: 2.4639e-04 - val_loss: 1.6529e-04\n",
      "Epoch 193/200\n",
      "3673/3673 [==============================] - 0s 28us/sample - loss: 1.4632e-04 - val_loss: 1.4339e-04\n",
      "Epoch 194/200\n",
      "3673/3673 [==============================] - 0s 27us/sample - loss: 1.2538e-04 - val_loss: 1.6383e-04\n",
      "Epoch 195/200\n",
      "3673/3673 [==============================] - 0s 24us/sample - loss: 1.2497e-04 - val_loss: 1.5612e-04\n",
      "Epoch 196/200\n",
      "3673/3673 [==============================] - 0s 24us/sample - loss: 1.4915e-04 - val_loss: 1.9626e-04\n",
      "Epoch 197/200\n",
      "3673/3673 [==============================] - 0s 25us/sample - loss: 1.2225e-04 - val_loss: 1.7362e-04\n",
      "Epoch 198/200\n",
      "3673/3673 [==============================] - 0s 25us/sample - loss: 2.0139e-04 - val_loss: 2.6991e-04\n",
      "Epoch 199/200\n",
      "3673/3673 [==============================] - 0s 24us/sample - loss: 1.2508e-04 - val_loss: 1.4697e-04\n",
      "Epoch 200/200\n",
      "3673/3673 [==============================] - 0s 27us/sample - loss: 1.9883e-04 - val_loss: 3.8210e-04\n"
     ]
    }
   ],
   "source": [
    "vae.fit(X_train, x_test=X_test, epochs=200)"
   ]
  },
  {
   "cell_type": "code",
   "execution_count": 518,
   "metadata": {},
   "outputs": [],
   "source": [
    "vae_outs_test = vae.vae.predict(X_test)\n",
    "symm_samples_test = vae_outs_test[0]\n",
    "orig_preds_test = vae_outs_test[1]\n",
    "trans_preds_test = vae_outs_test[2]\n",
    "    \n",
    "kl_test = entropy(orig_preds_test.T, trans_preds_test.T)\n",
    "baseline_std_plus = kl_test.mean() + kl_test.std()\n",
    "baseline_std_minus = kl_test.mean() - kl_test.std()"
   ]
  },
  {
   "cell_type": "code",
   "execution_count": 519,
   "metadata": {},
   "outputs": [
    {
     "name": "stdout",
     "output_type": "stream",
     "text": [
      "Number of contaminations: 0 \n",
      "1000\n",
      "Number of contaminations: 15 \n",
      "1015\n",
      "Number of contaminations: 30 \n",
      "1030\n",
      "Number of contaminations: 45 \n",
      "1045\n",
      "Number of contaminations: 60 \n",
      "1060\n",
      "Number of contaminations: 75 \n",
      "1075\n",
      "Number of contaminations: 90 \n",
      "1090\n",
      "Number of contaminations: 105 \n",
      "1105\n",
      "Number of contaminations: 120 \n",
      "1120\n",
      "Number of contaminations: 135 \n",
      "1135\n",
      "Number of contaminations: 150 \n",
      "1150\n",
      "Number of contaminations: 165 \n",
      "1165\n",
      "Number of contaminations: 180 \n",
      "1180\n",
      "Number of contaminations: 195 \n",
      "1195\n",
      "Number of contaminations: 210 \n",
      "1210\n",
      "Number of contaminations: 225 \n",
      "1225\n",
      "Number of contaminations: 240 \n",
      "1240\n",
      "Number of contaminations: 255 \n",
      "1255\n",
      "Number of contaminations: 270 \n",
      "1270\n",
      "Number of contaminations: 285 \n",
      "1285\n",
      "Number of contaminations: 300 \n",
      "1300\n",
      "Number of contaminations: 315 \n",
      "1315\n",
      "Number of contaminations: 330 \n",
      "1330\n",
      "Number of contaminations: 345 \n",
      "1345\n",
      "Number of contaminations: 360 \n",
      "1360\n",
      "Number of contaminations: 375 \n",
      "1375\n",
      "Number of contaminations: 390 \n",
      "1390\n",
      "Number of contaminations: 405 \n",
      "1405\n",
      "Number of contaminations: 420 \n",
      "1420\n",
      "Number of contaminations: 435 \n",
      "1435\n",
      "Number of contaminations: 450 \n",
      "1450\n",
      "Number of contaminations: 465 \n",
      "1465\n",
      "Number of contaminations: 480 \n",
      "1480\n",
      "Number of contaminations: 495 \n",
      "1495\n",
      "Number of contaminations: 510 \n",
      "1510\n",
      "Number of contaminations: 525 \n",
      "1525\n",
      "Number of contaminations: 540 \n",
      "1540\n",
      "Number of contaminations: 555 \n",
      "1555\n",
      "Number of contaminations: 570 \n",
      "1570\n",
      "Number of contaminations: 585 \n",
      "1585\n",
      "Number of contaminations: 600 \n",
      "1600\n",
      "Number of contaminations: 615 \n",
      "1615\n",
      "Number of contaminations: 630 \n",
      "1630\n",
      "Number of contaminations: 645 \n",
      "1645\n",
      "Number of contaminations: 660 \n",
      "1660\n",
      "Number of contaminations: 675 \n",
      "1675\n",
      "Number of contaminations: 690 \n",
      "1690\n",
      "Number of contaminations: 705 \n",
      "1705\n",
      "Number of contaminations: 720 \n",
      "1720\n",
      "Number of contaminations: 735 \n",
      "1735\n",
      "Number of contaminations: 750 \n",
      "1750\n",
      "Number of contaminations: 765 \n",
      "1765\n",
      "Number of contaminations: 780 \n",
      "1780\n",
      "Number of contaminations: 795 \n",
      "1795\n",
      "Number of contaminations: 810 \n",
      "1810\n",
      "Number of contaminations: 825 \n",
      "1825\n",
      "Number of contaminations: 840 \n",
      "1840\n",
      "Number of contaminations: 855 \n",
      "1855\n",
      "Number of contaminations: 870 \n",
      "1870\n",
      "Number of contaminations: 885 \n",
      "1885\n",
      "Number of contaminations: 900 \n",
      "1900\n",
      "Number of contaminations: 915 \n",
      "1915\n",
      "Number of contaminations: 930 \n",
      "1930\n",
      "Number of contaminations: 945 \n",
      "1945\n",
      "Number of contaminations: 960 \n",
      "1960\n",
      "Number of contaminations: 975 \n",
      "1975\n",
      "Number of contaminations: 990 \n",
      "1990\n",
      "Number of contaminations: 1005 \n",
      "2005\n",
      "Number of contaminations: 1020 \n",
      "2020\n",
      "Number of contaminations: 1035 \n",
      "2035\n",
      "Number of contaminations: 1050 \n",
      "2050\n",
      "Number of contaminations: 1065 \n",
      "2065\n",
      "Number of contaminations: 1080 \n",
      "2080\n",
      "Number of contaminations: 1095 \n",
      "2095\n",
      "Number of contaminations: 1110 \n",
      "2110\n",
      "Number of contaminations: 1125 \n",
      "2125\n",
      "Number of contaminations: 1140 \n",
      "2140\n",
      "Number of contaminations: 1155 \n",
      "2155\n",
      "Number of contaminations: 1170 \n",
      "2170\n",
      "Number of contaminations: 1185 \n",
      "2185\n",
      "Number of contaminations: 1200 \n",
      "2200\n",
      "Number of contaminations: 1215 \n",
      "2215\n",
      "Number of contaminations: 1230 \n",
      "2230\n",
      "Number of contaminations: 1245 \n",
      "2245\n",
      "Number of contaminations: 1260 \n",
      "2260\n",
      "Number of contaminations: 1275 \n",
      "2275\n",
      "Number of contaminations: 1290 \n",
      "2290\n",
      "Number of contaminations: 1305 \n",
      "2305\n",
      "Number of contaminations: 1320 \n",
      "2320\n",
      "Number of contaminations: 1335 \n",
      "2335\n",
      "Number of contaminations: 1350 \n",
      "2350\n",
      "Number of contaminations: 1365 \n",
      "2365\n",
      "Number of contaminations: 1380 \n",
      "2380\n",
      "Number of contaminations: 1395 \n",
      "2395\n",
      "Number of contaminations: 1410 \n",
      "2410\n",
      "Number of contaminations: 1425 \n",
      "2425\n",
      "Number of contaminations: 1440 \n",
      "2440\n",
      "Number of contaminations: 1455 \n",
      "2455\n",
      "Number of contaminations: 1470 \n",
      "2470\n",
      "Number of contaminations: 1485 \n",
      "2485\n",
      "Number of contaminations: 1500 \n",
      "2500\n",
      "Number of contaminations: 1515 \n",
      "2515\n",
      "Number of contaminations: 1530 \n",
      "2530\n",
      "Number of contaminations: 1545 \n",
      "2545\n",
      "Number of contaminations: 1560 \n",
      "2560\n",
      "Number of contaminations: 1575 \n",
      "2575\n",
      "Number of contaminations: 1590 \n",
      "2590\n"
     ]
    }
   ],
   "source": [
    "mean_test = []\n",
    "std_test = []\n",
    "accs_test = []\n",
    "baseline_stds_plus = []\n",
    "baseline_stds_minus = []\n",
    "\n",
    "for step in range(100):\n",
    "    if step < 99:\n",
    "        x_window, y_window = sample_window(X_test, y_test, window)\n",
    "        vae_outs_test = vae.vae.predict(x_window)\n",
    "        symm_samples_test = vae_outs_test[0]\n",
    "        orig_preds_test = vae_outs_test[1]\n",
    "        trans_preds_test = vae_outs_test[2]\n",
    "    \n",
    "        kl_test = entropy(orig_preds_test.T, trans_preds_test.T)\n",
    "        mean_test.append(kl_test.mean())\n",
    "        std_test.append(kl_test.std())\n",
    "        preds_test = np.argmax(orig_preds_test, axis=1)\n",
    "        accs_test.append(accuracy_score(preds_test, y_window))\n",
    "    \n",
    "        baseline_stds_plus.append(baseline_std_plus)\n",
    "        baseline_stds_minus.append(baseline_std_minus)\n",
    "    else:\n",
    "        for i in range(0, len(X_red), 15):\n",
    "            x_window, y_window = sample_window(X_test, y_test, window)\n",
    "            rnd_idxs_red  = np.random.choice(range(len(X_red)), i)\n",
    "            x_cont_red = X_red[rnd_idxs_red]\n",
    "            y_cont_red = y_red[rnd_idxs_red]\n",
    "            print('Number of contaminations: {} '.format(i))\n",
    "            \n",
    "            x_test_cont = np.concatenate((x_window, x_cont_red), axis=0)\n",
    "            y_test_cont = np.concatenate((y_window, y_cont_red), axis=0)\n",
    "            print(len(x_test_cont))\n",
    "            vae_outs_test = vae.vae.predict(x_test_cont)\n",
    "            symm_samples_test = vae_outs_test[0]\n",
    "            orig_preds_test = vae_outs_test[1]\n",
    "            trans_preds_test = vae_outs_test[2]\n",
    "    \n",
    "            kl_test = entropy(orig_preds_test.T, trans_preds_test.T)\n",
    "            mean_test.append(kl_test.mean())\n",
    "            std_test.append(kl_test.std())\n",
    "            preds_test = np.argmax(orig_preds_test, axis=1)\n",
    "            accs_test.append(accuracy_score(preds_test, y_test_cont))\n",
    "            baseline_stds_plus.append(baseline_std_plus)\n",
    "            baseline_stds_minus.append(baseline_std_minus)"
   ]
  },
  {
   "cell_type": "code",
   "execution_count": 520,
   "metadata": {},
   "outputs": [],
   "source": [
    "df = pd.DataFrame()\n",
    "df['accuracy'] = accs_test\n",
    "df['entropy_mean'] = mean_test\n",
    "df['entropy_std'] = std_test\n",
    "df['baseline_std_plus'] = baseline_stds_plus\n",
    "df['baseline_std_minus'] = baseline_stds_minus"
   ]
  },
  {
   "cell_type": "code",
   "execution_count": null,
   "metadata": {},
   "outputs": [],
   "source": []
  },
  {
   "cell_type": "code",
   "execution_count": 521,
   "metadata": {},
   "outputs": [
    {
     "data": {
      "text/plain": [
       "array([<matplotlib.axes._subplots.AxesSubplot object at 0x7f1f092b52d0>,\n",
       "       <matplotlib.axes._subplots.AxesSubplot object at 0x7f1f08ae4d90>,\n",
       "       <matplotlib.axes._subplots.AxesSubplot object at 0x7f1f08a8e5d0>],\n",
       "      dtype=object)"
      ]
     },
     "execution_count": 521,
     "metadata": {},
     "output_type": "execute_result"
    },
    {
     "data": {
      "image/png": "[encoded data removed]",
      "text/plain": [
       "<Figure size 1080x576 with 3 Axes>"
      ]
     },
     "metadata": {
      "needs_background": "light"
     },
     "output_type": "display_data"
    }
   ],
   "source": [
    "df[['accuracy', 'entropy_mean', 'entropy_std']].plot(logy = False, subplots=True, figsize = (15, 8))"
   ]
  },
  {
   "cell_type": "code",
   "execution_count": 522,
   "metadata": {},
   "outputs": [
    {
     "data": {
      "text/plain": [
       "<matplotlib.axes._subplots.AxesSubplot at 0x7f1f089a4f10>"
      ]
     },
     "execution_count": 522,
     "metadata": {},
     "output_type": "execute_result"
    },
    {
     "data": {
      "image/png": "[encoded data removed]",
      "text/plain": [
       "<Figure size 1080x576 with 1 Axes>"
      ]
     },
     "metadata": {
      "needs_background": "light"
     },
     "output_type": "display_data"
    }
   ],
   "source": [
    "df[['entropy_mean', 'baseline_std_plus', 'baseline_std_minus']].plot(logy = False, subplots=False, figsize = (15, 8))"
   ]
  },
  {
   "cell_type": "code",
   "execution_count": 523,
   "metadata": {},
   "outputs": [
    {
     "data": {
      "text/html": [
       "<div>\n",
       "<style scoped>\n",
       "    .dataframe tbody tr th:only-of-type {\n",
       "        vertical-align: middle;\n",
       "    }\n",
       "\n",
       "    .dataframe tbody tr th {\n",
       "        vertical-align: top;\n",
       "    }\n",
       "\n",
       "    .dataframe thead th {\n",
       "        text-align: right;\n",
       "    }\n",
       "</style>\n",
       "<table border=\"1\" class=\"dataframe\">\n",
       "  <thead>\n",
       "    <tr style=\"text-align: right;\">\n",
       "      <th></th>\n",
       "      <th>accuracy</th>\n",
       "      <th>entropy_mean</th>\n",
       "      <th>entropy_std</th>\n",
       "      <th>baseline_std_plus</th>\n",
       "      <th>baseline_std_minus</th>\n",
       "    </tr>\n",
       "  </thead>\n",
       "  <tbody>\n",
       "    <tr>\n",
       "      <td>97</td>\n",
       "      <td>0.762000</td>\n",
       "      <td>0.000370</td>\n",
       "      <td>0.000571</td>\n",
       "      <td>0.000998</td>\n",
       "      <td>-0.000234</td>\n",
       "    </tr>\n",
       "    <tr>\n",
       "      <td>98</td>\n",
       "      <td>0.764000</td>\n",
       "      <td>0.000379</td>\n",
       "      <td>0.000606</td>\n",
       "      <td>0.000998</td>\n",
       "      <td>-0.000234</td>\n",
       "    </tr>\n",
       "    <tr>\n",
       "      <td>99</td>\n",
       "      <td>0.754000</td>\n",
       "      <td>0.000378</td>\n",
       "      <td>0.000587</td>\n",
       "      <td>0.000998</td>\n",
       "      <td>-0.000234</td>\n",
       "    </tr>\n",
       "    <tr>\n",
       "      <td>100</td>\n",
       "      <td>0.760591</td>\n",
       "      <td>0.000377</td>\n",
       "      <td>0.000621</td>\n",
       "      <td>0.000998</td>\n",
       "      <td>-0.000234</td>\n",
       "    </tr>\n",
       "    <tr>\n",
       "      <td>101</td>\n",
       "      <td>0.761165</td>\n",
       "      <td>0.000362</td>\n",
       "      <td>0.000572</td>\n",
       "      <td>0.000998</td>\n",
       "      <td>-0.000234</td>\n",
       "    </tr>\n",
       "    <tr>\n",
       "      <td>102</td>\n",
       "      <td>0.753110</td>\n",
       "      <td>0.000392</td>\n",
       "      <td>0.000638</td>\n",
       "      <td>0.000998</td>\n",
       "      <td>-0.000234</td>\n",
       "    </tr>\n",
       "    <tr>\n",
       "      <td>103</td>\n",
       "      <td>0.739623</td>\n",
       "      <td>0.000407</td>\n",
       "      <td>0.000748</td>\n",
       "      <td>0.000998</td>\n",
       "      <td>-0.000234</td>\n",
       "    </tr>\n",
       "    <tr>\n",
       "      <td>104</td>\n",
       "      <td>0.754419</td>\n",
       "      <td>0.000412</td>\n",
       "      <td>0.000747</td>\n",
       "      <td>0.000998</td>\n",
       "      <td>-0.000234</td>\n",
       "    </tr>\n",
       "    <tr>\n",
       "      <td>105</td>\n",
       "      <td>0.746789</td>\n",
       "      <td>0.000400</td>\n",
       "      <td>0.000743</td>\n",
       "      <td>0.000998</td>\n",
       "      <td>-0.000234</td>\n",
       "    </tr>\n",
       "    <tr>\n",
       "      <td>106</td>\n",
       "      <td>0.732127</td>\n",
       "      <td>0.000409</td>\n",
       "      <td>0.000672</td>\n",
       "      <td>0.000998</td>\n",
       "      <td>-0.000234</td>\n",
       "    </tr>\n",
       "    <tr>\n",
       "      <td>107</td>\n",
       "      <td>0.736607</td>\n",
       "      <td>0.000385</td>\n",
       "      <td>0.000647</td>\n",
       "      <td>0.000998</td>\n",
       "      <td>-0.000234</td>\n",
       "    </tr>\n",
       "  </tbody>\n",
       "</table>\n",
       "</div>"
      ],
      "text/plain": [
       "     accuracy  entropy_mean  entropy_std  baseline_std_plus  \\\n",
       "97   0.762000      0.000370     0.000571           0.000998   \n",
       "98   0.764000      0.000379     0.000606           0.000998   \n",
       "99   0.754000      0.000378     0.000587           0.000998   \n",
       "100  0.760591      0.000377     0.000621           0.000998   \n",
       "101  0.761165      0.000362     0.000572           0.000998   \n",
       "102  0.753110      0.000392     0.000638           0.000998   \n",
       "103  0.739623      0.000407     0.000748           0.000998   \n",
       "104  0.754419      0.000412     0.000747           0.000998   \n",
       "105  0.746789      0.000400     0.000743           0.000998   \n",
       "106  0.732127      0.000409     0.000672           0.000998   \n",
       "107  0.736607      0.000385     0.000647           0.000998   \n",
       "\n",
       "     baseline_std_minus  \n",
       "97            -0.000234  \n",
       "98            -0.000234  \n",
       "99            -0.000234  \n",
       "100           -0.000234  \n",
       "101           -0.000234  \n",
       "102           -0.000234  \n",
       "103           -0.000234  \n",
       "104           -0.000234  \n",
       "105           -0.000234  \n",
       "106           -0.000234  \n",
       "107           -0.000234  "
      ]
     },
     "execution_count": 523,
     "metadata": {},
     "output_type": "execute_result"
    }
   ],
   "source": [
    "df.loc[97:107]"
   ]
  },
  {
   "cell_type": "code",
   "execution_count": 524,
   "metadata": {},
   "outputs": [
    {
     "data": {
      "text/plain": [
       "(1599, 11)"
      ]
     },
     "execution_count": 524,
     "metadata": {},
     "output_type": "execute_result"
    }
   ],
   "source": [
    "X_red.shape"
   ]
  },
  {
   "cell_type": "code",
   "execution_count": 560,
   "metadata": {},
   "outputs": [],
   "source": [
    "vae_outs_train = vae.vae.predict(X_train)\n",
    "vae_outs_test = vae.vae.predict(X_red)\n",
    "\n",
    "symm_samples_train = vae_outs_train[0]\n",
    "orig_preds_train = vae_outs_train[1]\n",
    "trans_preds_train = vae_outs_train[2]\n",
    "\n",
    "symm_samples_test = vae_outs_test[0]\n",
    "orig_preds_test = vae_outs_test[1]\n",
    "trans_preds_test = vae_outs_test[2]"
   ]
  },
  {
   "cell_type": "code",
   "execution_count": 561,
   "metadata": {},
   "outputs": [],
   "source": [
    "kl_train = entropy(orig_preds_train.T, trans_preds_train.T)\n",
    "kl_test = entropy(orig_preds_test.T, trans_preds_test.T)"
   ]
  },
  {
   "cell_type": "code",
   "execution_count": 562,
   "metadata": {},
   "outputs": [],
   "source": [
    "S_train = pd.Series(kl_train, name='train')\n",
    "S_test = pd.Series(kl_test, name='test')\n",
    "df_kl = pd.merge(S_train.to_frame(), S_test.to_frame(), right_index=True, left_index=True, how='outer')"
   ]
  },
  {
   "cell_type": "code",
   "execution_count": 563,
   "metadata": {},
   "outputs": [
    {
     "name": "stdout",
     "output_type": "stream",
     "text": [
      "0.00031513103749603033 0.0003669103025458753\n",
      "0.0006002978188917041 0.0017532865749672055\n"
     ]
    },
    {
     "data": {
      "image/png": "[encoded data removed]",
      "text/plain": [
       "<Figure size 720x720 with 2 Axes>"
      ]
     },
     "metadata": {
      "needs_background": "light"
     },
     "output_type": "display_data"
    }
   ],
   "source": [
    "df_kl.plot(kind='hist', bins=100, subplots=True, figsize=(10, 10))\n",
    "print(S_train.mean(), S_train.std())\n",
    "print(S_test.mean(), S_test.std())"
   ]
  },
  {
   "cell_type": "code",
   "execution_count": 564,
   "metadata": {},
   "outputs": [],
   "source": [
    "import matplotlib.pyplot as plt"
   ]
  },
  {
   "cell_type": "code",
   "execution_count": 565,
   "metadata": {},
   "outputs": [
    {
     "data": {
      "image/png": "[encoded data removed]",
      "text/plain": [
       "<Figure size 864x576 with 1 Axes>"
      ]
     },
     "metadata": {
      "needs_background": "light"
     },
     "output_type": "display_data"
    }
   ],
   "source": [
    "idx_test = np.random.permutation(pd.Series(kl_train).index)[:len(pd.Series(kl_test))]\n",
    "plt.figure(figsize=(12, 8))\n",
    "ax1 = plt.scatter(pd.Series(kl_train).index, pd.Series(kl_train), s=10, alpha=0.2)\n",
    "ax2 = plt.scatter(idx_test, pd.Series(kl_test), s=10, alpha=1)"
   ]
  },
  {
   "cell_type": "code",
   "execution_count": null,
   "metadata": {},
   "outputs": [],
   "source": []
  },
  {
   "cell_type": "code",
   "execution_count": null,
   "metadata": {},
   "outputs": [],
   "source": []
  },
  {
   "cell_type": "code",
   "execution_count": null,
   "metadata": {},
   "outputs": [],
   "source": []
  },
  {
   "cell_type": "code",
   "execution_count": null,
   "metadata": {},
   "outputs": [],
   "source": []
  },
  {
   "cell_type": "code",
   "execution_count": null,
   "metadata": {},
   "outputs": [],
   "source": []
  }
 ],
 "metadata": {
  "kernelspec": {
   "display_name": "Python 3",
   "language": "python",
   "name": "python3"
  },
  "language_info": {
   "codemirror_mode": {
    "name": "ipython",
    "version": 3
   },
   "file_extension": ".py",
   "mimetype": "text/x-python",
   "name": "python",
   "nbconvert_exporter": "python",
   "pygments_lexer": "ipython3",
   "version": "3.7.4"
  }
 },
 "nbformat": 4,
 "nbformat_minor": 2
}
