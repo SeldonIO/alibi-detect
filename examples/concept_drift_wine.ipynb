{
 "cells": [
  {
   "cell_type": "code",
   "execution_count": 1,
   "metadata": {},
   "outputs": [
    {
     "name": "stderr",
     "output_type": "stream",
     "text": [
      "Using TensorFlow backend.\n"
     ]
    }
   ],
   "source": [
    "import pandas as pd\n",
    "import numpy as np\n",
    "import tensorflow as tf\n",
    "import keras \n",
    "import matplotlib\n",
    "%matplotlib inline"
   ]
  },
  {
   "cell_type": "code",
   "execution_count": 2,
   "metadata": {},
   "outputs": [
    {
     "data": {
      "text/plain": [
       "'1.13.1'"
      ]
     },
     "execution_count": 2,
     "metadata": {},
     "output_type": "execute_result"
    }
   ],
   "source": [
    "tf.__version__"
   ]
  },
  {
   "cell_type": "code",
   "execution_count": 3,
   "metadata": {},
   "outputs": [],
   "source": [
    "import sys"
   ]
  },
  {
   "cell_type": "code",
   "execution_count": 4,
   "metadata": {},
   "outputs": [],
   "source": [
    "sys.path.append('../odcd/cd/')"
   ]
  },
  {
   "cell_type": "code",
   "execution_count": 5,
   "metadata": {},
   "outputs": [],
   "source": [
    "import model_symmetries as vsf"
   ]
  },
  {
   "cell_type": "code",
   "execution_count": 6,
   "metadata": {},
   "outputs": [],
   "source": [
    "from scipy.stats import entropy"
   ]
  },
  {
   "cell_type": "markdown",
   "metadata": {},
   "source": [
    "# Data prep"
   ]
  },
  {
   "cell_type": "code",
   "execution_count": 7,
   "metadata": {},
   "outputs": [],
   "source": [
    "df_white = pd.read_csv('/home/fdz/git/concept_drift_exps/data/wine/winequality_white.csv')"
   ]
  },
  {
   "cell_type": "code",
   "execution_count": 8,
   "metadata": {},
   "outputs": [
    {
     "data": {
      "text/plain": [
       "(4898, 12)"
      ]
     },
     "execution_count": 8,
     "metadata": {},
     "output_type": "execute_result"
    }
   ],
   "source": [
    "df_white.shape"
   ]
  },
  {
   "cell_type": "code",
   "execution_count": 9,
   "metadata": {},
   "outputs": [
    {
     "data": {
      "text/plain": [
       "<matplotlib.axes._subplots.AxesSubplot at 0x7f82f40161d0>"
      ]
     },
     "execution_count": 9,
     "metadata": {},
     "output_type": "execute_result"
    },
    {
     "data": {
      "image/png": "[encoded data removed]",
      "text/plain": [
       "<Figure size 432x288 with 1 Axes>"
      ]
     },
     "metadata": {
      "needs_background": "light"
     },
     "output_type": "display_data"
    }
   ],
   "source": [
    "df_white['quality'].hist(bins=10)"
   ]
  },
  {
   "cell_type": "code",
   "execution_count": 10,
   "metadata": {},
   "outputs": [
    {
     "data": {
      "text/plain": [
       "6    0.448755\n",
       "5    0.297468\n",
       "7    0.179665\n",
       "8    0.035729\n",
       "4    0.033279\n",
       "3    0.004083\n",
       "9    0.001021\n",
       "Name: quality, dtype: float64"
      ]
     },
     "execution_count": 10,
     "metadata": {},
     "output_type": "execute_result"
    }
   ],
   "source": [
    "df_white['quality'].value_counts() / len(df_white)"
   ]
  },
  {
   "cell_type": "code",
   "execution_count": 11,
   "metadata": {},
   "outputs": [
    {
     "data": {
      "text/plain": [
       "1    0.665169\n",
       "0    0.334831\n",
       "Name: target, dtype: float64"
      ]
     },
     "execution_count": 11,
     "metadata": {},
     "output_type": "execute_result"
    }
   ],
   "source": [
    "binary_target = True\n",
    "if binary_target:\n",
    "    df_white['target'] = df_white['quality'].apply(lambda x: 0 if x < 6 else 1)\n",
    "else:\n",
    "    df_white['target'] = df_white['quality']\n",
    "df_white.drop('quality', axis=1, inplace=True)\n",
    "target = 'target'\n",
    "df_white[target].value_counts() / len(df_white)"
   ]
  },
  {
   "cell_type": "code",
   "execution_count": 12,
   "metadata": {},
   "outputs": [],
   "source": [
    "features = [col for col in df_white.columns if col != target]"
   ]
  },
  {
   "cell_type": "code",
   "execution_count": 13,
   "metadata": {},
   "outputs": [],
   "source": [
    "X, y = df_white[features].values, df_white[target].values"
   ]
  },
  {
   "cell_type": "code",
   "execution_count": 14,
   "metadata": {},
   "outputs": [],
   "source": [
    "from sklearn.model_selection import train_test_split"
   ]
  },
  {
   "cell_type": "code",
   "execution_count": 15,
   "metadata": {},
   "outputs": [],
   "source": [
    "X_train, X_test, y_train, y_test = train_test_split(X, y)"
   ]
  },
  {
   "cell_type": "code",
   "execution_count": 16,
   "metadata": {},
   "outputs": [],
   "source": [
    "from sklearn.preprocessing import MinMaxScaler"
   ]
  },
  {
   "cell_type": "code",
   "execution_count": 17,
   "metadata": {},
   "outputs": [],
   "source": [
    "scale = True\n",
    "if scale:\n",
    "    scaler = MinMaxScaler()\n",
    "    scaler.fit(X_train)\n",
    "    X_train = scaler.transform(X_train)\n",
    "    X_test = scaler.transform(X_test)"
   ]
  },
  {
   "cell_type": "code",
   "execution_count": 18,
   "metadata": {},
   "outputs": [
    {
     "data": {
      "text/plain": [
       "(1225,)"
      ]
     },
     "execution_count": 18,
     "metadata": {},
     "output_type": "execute_result"
    }
   ],
   "source": [
    "y_test.shape"
   ]
  },
  {
   "cell_type": "markdown",
   "metadata": {},
   "source": [
    "# Logistic regression"
   ]
  },
  {
   "cell_type": "code",
   "execution_count": 19,
   "metadata": {},
   "outputs": [],
   "source": [
    "from sklearn.linear_model import LogisticRegression"
   ]
  },
  {
   "cell_type": "code",
   "execution_count": 20,
   "metadata": {},
   "outputs": [
    {
     "name": "stderr",
     "output_type": "stream",
     "text": [
      "/home/fdz/anaconda3/lib/python3.7/site-packages/sklearn/linear_model/logistic.py:433: FutureWarning: Default solver will be changed to 'lbfgs' in 0.22. Specify a solver to silence this warning.\n",
      "  FutureWarning)\n"
     ]
    },
    {
     "data": {
      "text/plain": [
       "LogisticRegression(C=1.0, class_weight=None, dual=False, fit_intercept=True,\n",
       "          intercept_scaling=1, max_iter=100, multi_class='warn',\n",
       "          n_jobs=None, penalty='l2', random_state=None, solver='warn',\n",
       "          tol=0.0001, verbose=0, warm_start=False)"
      ]
     },
     "execution_count": 20,
     "metadata": {},
     "output_type": "execute_result"
    }
   ],
   "source": [
    "lg = LogisticRegression()\n",
    "lg.fit(X_train, y_train)"
   ]
  },
  {
   "cell_type": "code",
   "execution_count": 21,
   "metadata": {},
   "outputs": [],
   "source": [
    "from sklearn.metrics import accuracy_score, confusion_matrix"
   ]
  },
  {
   "cell_type": "code",
   "execution_count": 22,
   "metadata": {},
   "outputs": [],
   "source": [
    "y_preds_train = lg.predict(X_train)\n",
    "y_preds_test = lg.predict(X_test)"
   ]
  },
  {
   "cell_type": "code",
   "execution_count": 23,
   "metadata": {},
   "outputs": [
    {
     "data": {
      "text/plain": [
       "0.7536074053906888"
      ]
     },
     "execution_count": 23,
     "metadata": {},
     "output_type": "execute_result"
    }
   ],
   "source": [
    "accuracy_score(y_preds_train, y_train)"
   ]
  },
  {
   "cell_type": "code",
   "execution_count": 24,
   "metadata": {},
   "outputs": [
    {
     "data": {
      "text/plain": [
       "array([[ 604,  272],\n",
       "       [ 633, 2164]])"
      ]
     },
     "execution_count": 24,
     "metadata": {},
     "output_type": "execute_result"
    }
   ],
   "source": [
    "confusion_matrix(y_preds_train, y_train)"
   ]
  },
  {
   "cell_type": "code",
   "execution_count": 25,
   "metadata": {},
   "outputs": [
    {
     "data": {
      "text/plain": [
       "0.746938775510204"
      ]
     },
     "execution_count": 25,
     "metadata": {},
     "output_type": "execute_result"
    }
   ],
   "source": [
    "accuracy_score(y_preds_test, y_test)"
   ]
  },
  {
   "cell_type": "code",
   "execution_count": 26,
   "metadata": {},
   "outputs": [
    {
     "data": {
      "text/plain": [
       "array([[201, 108],\n",
       "       [202, 714]])"
      ]
     },
     "execution_count": 26,
     "metadata": {},
     "output_type": "execute_result"
    }
   ],
   "source": [
    "confusion_matrix(y_preds_test, y_test)"
   ]
  },
  {
   "cell_type": "markdown",
   "metadata": {},
   "source": [
    "# Gxb"
   ]
  },
  {
   "cell_type": "code",
   "execution_count": 27,
   "metadata": {},
   "outputs": [],
   "source": [
    "from xgboost import XGBClassifier"
   ]
  },
  {
   "cell_type": "code",
   "execution_count": 28,
   "metadata": {},
   "outputs": [],
   "source": [
    "xgb = XGBClassifier(max_depth=10, n_estimators=100)"
   ]
  },
  {
   "cell_type": "code",
   "execution_count": 29,
   "metadata": {},
   "outputs": [
    {
     "data": {
      "text/plain": [
       "XGBClassifier(base_score=0.5, booster='gbtree', colsample_bylevel=1,\n",
       "       colsample_bynode=1, colsample_bytree=1, gamma=0, learning_rate=0.1,\n",
       "       max_delta_step=0, max_depth=10, min_child_weight=1, missing=None,\n",
       "       n_estimators=100, n_jobs=1, nthread=None,\n",
       "       objective='binary:logistic', random_state=0, reg_alpha=0,\n",
       "       reg_lambda=1, scale_pos_weight=1, seed=None, silent=None,\n",
       "       subsample=1, verbosity=1)"
      ]
     },
     "execution_count": 29,
     "metadata": {},
     "output_type": "execute_result"
    }
   ],
   "source": [
    "xgb.fit(X_train, y_train)"
   ]
  },
  {
   "cell_type": "code",
   "execution_count": 30,
   "metadata": {},
   "outputs": [],
   "source": [
    "y_preds_train = xgb.predict(X_train)\n",
    "y_preds_test = xgb.predict(X_test)"
   ]
  },
  {
   "cell_type": "code",
   "execution_count": 31,
   "metadata": {},
   "outputs": [
    {
     "data": {
      "text/plain": [
       "0.9989109719575279"
      ]
     },
     "execution_count": 31,
     "metadata": {},
     "output_type": "execute_result"
    }
   ],
   "source": [
    "accuracy_score(y_preds_train, y_train)"
   ]
  },
  {
   "cell_type": "code",
   "execution_count": 32,
   "metadata": {},
   "outputs": [
    {
     "data": {
      "text/plain": [
       "array([[1233,    0],\n",
       "       [   4, 2436]])"
      ]
     },
     "execution_count": 32,
     "metadata": {},
     "output_type": "execute_result"
    }
   ],
   "source": [
    "confusion_matrix(y_preds_train, y_train)"
   ]
  },
  {
   "cell_type": "code",
   "execution_count": 33,
   "metadata": {},
   "outputs": [
    {
     "data": {
      "text/plain": [
       "0.8293877551020408"
      ]
     },
     "execution_count": 33,
     "metadata": {},
     "output_type": "execute_result"
    }
   ],
   "source": [
    "accuracy_score(y_preds_test, y_test)"
   ]
  },
  {
   "cell_type": "code",
   "execution_count": 34,
   "metadata": {},
   "outputs": [
    {
     "data": {
      "text/plain": [
       "array([[282,  88],\n",
       "       [121, 734]])"
      ]
     },
     "execution_count": 34,
     "metadata": {},
     "output_type": "execute_result"
    }
   ],
   "source": [
    "confusion_matrix(y_preds_test, y_test)"
   ]
  },
  {
   "cell_type": "markdown",
   "metadata": {},
   "source": [
    "# NN"
   ]
  },
  {
   "cell_type": "code",
   "execution_count": 35,
   "metadata": {},
   "outputs": [],
   "source": [
    "y_train = tf.keras.utils.to_categorical(y_train)\n",
    "y_test = tf.keras.utils.to_categorical(y_test)"
   ]
  },
  {
   "cell_type": "code",
   "execution_count": 36,
   "metadata": {},
   "outputs": [],
   "source": [
    "y_train = np.delete(y_train, np.where(~y_train.any(axis=0)), axis=1)\n",
    "y_test = np.delete(y_test, np.where(~y_test.any(axis=0)), axis=1)"
   ]
  },
  {
   "cell_type": "code",
   "execution_count": 37,
   "metadata": {},
   "outputs": [],
   "source": [
    "def model():\n",
    "    \n",
    "    x_in = tf.keras.layers.Input(shape=(11, ))\n",
    "    x = tf.keras.layers.Dense(100, activation='relu')(x_in)\n",
    "    #x = tf.keras.layers.Dense(50, activation='relu')(x_in)\n",
    "    if binary_target:\n",
    "        out = tf.keras.layers.Dense(2, activation='softmax')(x)\n",
    "    else:\n",
    "        out = tf.keras.layers.Dense(7, activation='softmax')(x)\n",
    "    clf = tf.keras.models.Model(x_in, out)\n",
    "    clf.compile(loss='categorical_crossentropy', optimizer='Adam', metrics=['accuracy'])\n",
    "    \n",
    "    clf.summary()\n",
    "    return clf"
   ]
  },
  {
   "cell_type": "code",
   "execution_count": 38,
   "metadata": {},
   "outputs": [
    {
     "name": "stdout",
     "output_type": "stream",
     "text": [
      "WARNING:tensorflow:From /home/fdz/anaconda3/lib/python3.7/site-packages/tensorflow/python/ops/resource_variable_ops.py:435: colocate_with (from tensorflow.python.framework.ops) is deprecated and will be removed in a future version.\n",
      "Instructions for updating:\n",
      "Colocations handled automatically by placer.\n",
      "_________________________________________________________________\n",
      "Layer (type)                 Output Shape              Param #   \n",
      "=================================================================\n",
      "input_1 (InputLayer)         (None, 11)                0         \n",
      "_________________________________________________________________\n",
      "dense (Dense)                (None, 100)               1200      \n",
      "_________________________________________________________________\n",
      "dense_1 (Dense)              (None, 2)                 202       \n",
      "=================================================================\n",
      "Total params: 1,402\n",
      "Trainable params: 1,402\n",
      "Non-trainable params: 0\n",
      "_________________________________________________________________\n"
     ]
    }
   ],
   "source": [
    "clf = model()"
   ]
  },
  {
   "cell_type": "code",
   "execution_count": 39,
   "metadata": {},
   "outputs": [
    {
     "data": {
      "text/plain": [
       "(array([], dtype=int64),)"
      ]
     },
     "execution_count": 39,
     "metadata": {},
     "output_type": "execute_result"
    }
   ],
   "source": [
    "np.where(~y_test.any(axis=0))"
   ]
  },
  {
   "cell_type": "code",
   "execution_count": 40,
   "metadata": {},
   "outputs": [
    {
     "name": "stdout",
     "output_type": "stream",
     "text": [
      "(3673, 2) (1225, 2)\n"
     ]
    }
   ],
   "source": [
    "print(y_train.shape, y_test.shape)"
   ]
  },
  {
   "cell_type": "code",
   "execution_count": 41,
   "metadata": {},
   "outputs": [
    {
     "name": "stdout",
     "output_type": "stream",
     "text": [
      "Train on 3673 samples, validate on 1225 samples\n",
      "WARNING:tensorflow:From /home/fdz/anaconda3/lib/python3.7/site-packages/tensorflow/python/ops/math_ops.py:3066: to_int32 (from tensorflow.python.ops.math_ops) is deprecated and will be removed in a future version.\n",
      "Instructions for updating:\n",
      "Use tf.cast instead.\n",
      "Epoch 1/100\n",
      "3673/3673 [==============================] - 0s 62us/sample - loss: 0.6032 - acc: 0.6643 - val_loss: 0.5607 - val_acc: 0.6792\n",
      "Epoch 2/100\n",
      "3673/3673 [==============================] - 0s 27us/sample - loss: 0.5495 - acc: 0.7109 - val_loss: 0.5283 - val_acc: 0.7110\n",
      "Epoch 3/100\n",
      "3673/3673 [==============================] - 0s 25us/sample - loss: 0.5269 - acc: 0.7305 - val_loss: 0.5081 - val_acc: 0.7412\n",
      "Epoch 4/100\n",
      "3673/3673 [==============================] - 0s 26us/sample - loss: 0.5156 - acc: 0.7484 - val_loss: 0.5026 - val_acc: 0.7445\n",
      "Epoch 5/100\n",
      "3673/3673 [==============================] - 0s 28us/sample - loss: 0.5095 - acc: 0.7528 - val_loss: 0.4985 - val_acc: 0.7469\n",
      "Epoch 6/100\n",
      "3673/3673 [==============================] - 0s 29us/sample - loss: 0.5096 - acc: 0.7468 - val_loss: 0.4945 - val_acc: 0.7527\n",
      "Epoch 7/100\n",
      "3673/3673 [==============================] - 0s 28us/sample - loss: 0.5049 - acc: 0.7531 - val_loss: 0.4930 - val_acc: 0.7527\n",
      "Epoch 8/100\n",
      "3673/3673 [==============================] - 0s 27us/sample - loss: 0.5041 - acc: 0.7563 - val_loss: 0.4948 - val_acc: 0.7486\n",
      "Epoch 9/100\n",
      "3673/3673 [==============================] - 0s 27us/sample - loss: 0.5023 - acc: 0.7544 - val_loss: 0.4922 - val_acc: 0.7559\n",
      "Epoch 10/100\n",
      "3673/3673 [==============================] - 0s 28us/sample - loss: 0.5001 - acc: 0.7615 - val_loss: 0.4897 - val_acc: 0.7567\n",
      "Epoch 11/100\n",
      "3673/3673 [==============================] - 0s 28us/sample - loss: 0.4990 - acc: 0.7618 - val_loss: 0.4906 - val_acc: 0.7616\n",
      "Epoch 12/100\n",
      "3673/3673 [==============================] - 0s 31us/sample - loss: 0.4981 - acc: 0.7588 - val_loss: 0.4896 - val_acc: 0.7608\n",
      "Epoch 13/100\n",
      "3673/3673 [==============================] - 0s 28us/sample - loss: 0.4972 - acc: 0.7610 - val_loss: 0.4875 - val_acc: 0.7624\n",
      "Epoch 14/100\n",
      "3673/3673 [==============================] - 0s 30us/sample - loss: 0.4958 - acc: 0.7607 - val_loss: 0.4858 - val_acc: 0.7624\n",
      "Epoch 15/100\n",
      "3673/3673 [==============================] - 0s 30us/sample - loss: 0.4944 - acc: 0.7634 - val_loss: 0.4833 - val_acc: 0.7584\n",
      "Epoch 16/100\n",
      "3673/3673 [==============================] - 0s 31us/sample - loss: 0.4923 - acc: 0.7642 - val_loss: 0.4883 - val_acc: 0.7592\n",
      "Epoch 17/100\n",
      "3673/3673 [==============================] - 0s 31us/sample - loss: 0.4938 - acc: 0.7678 - val_loss: 0.4864 - val_acc: 0.7600\n",
      "Epoch 18/100\n",
      "3673/3673 [==============================] - 0s 30us/sample - loss: 0.4916 - acc: 0.7653 - val_loss: 0.4833 - val_acc: 0.7649\n",
      "Epoch 19/100\n",
      "3673/3673 [==============================] - 0s 29us/sample - loss: 0.4900 - acc: 0.7683 - val_loss: 0.4828 - val_acc: 0.7665\n",
      "Epoch 20/100\n",
      "3673/3673 [==============================] - 0s 28us/sample - loss: 0.4895 - acc: 0.7680 - val_loss: 0.4797 - val_acc: 0.7624\n",
      "Epoch 21/100\n",
      "3673/3673 [==============================] - 0s 27us/sample - loss: 0.4873 - acc: 0.7697 - val_loss: 0.4785 - val_acc: 0.7641\n",
      "Epoch 22/100\n",
      "3673/3673 [==============================] - 0s 29us/sample - loss: 0.4869 - acc: 0.7686 - val_loss: 0.4793 - val_acc: 0.7576\n",
      "Epoch 23/100\n",
      "3673/3673 [==============================] - 0s 30us/sample - loss: 0.4875 - acc: 0.7637 - val_loss: 0.4791 - val_acc: 0.7624\n",
      "Epoch 24/100\n",
      "3673/3673 [==============================] - 0s 29us/sample - loss: 0.4848 - acc: 0.7708 - val_loss: 0.4768 - val_acc: 0.7633\n",
      "Epoch 25/100\n",
      "3673/3673 [==============================] - 0s 29us/sample - loss: 0.4835 - acc: 0.7754 - val_loss: 0.4794 - val_acc: 0.7690\n",
      "Epoch 26/100\n",
      "3673/3673 [==============================] - 0s 28us/sample - loss: 0.4840 - acc: 0.7683 - val_loss: 0.4746 - val_acc: 0.7608\n",
      "Epoch 27/100\n",
      "3673/3673 [==============================] - 0s 30us/sample - loss: 0.4812 - acc: 0.7699 - val_loss: 0.4946 - val_acc: 0.7469\n",
      "Epoch 28/100\n",
      "3673/3673 [==============================] - 0s 28us/sample - loss: 0.4827 - acc: 0.7683 - val_loss: 0.4743 - val_acc: 0.7600\n",
      "Epoch 29/100\n",
      "3673/3673 [==============================] - 0s 29us/sample - loss: 0.4812 - acc: 0.7713 - val_loss: 0.4735 - val_acc: 0.7576\n",
      "Epoch 30/100\n",
      "3673/3673 [==============================] - 0s 29us/sample - loss: 0.4806 - acc: 0.7724 - val_loss: 0.4737 - val_acc: 0.7608\n",
      "Epoch 31/100\n",
      "3673/3673 [==============================] - 0s 29us/sample - loss: 0.4810 - acc: 0.7683 - val_loss: 0.4741 - val_acc: 0.7649\n",
      "Epoch 32/100\n",
      "3673/3673 [==============================] - 0s 28us/sample - loss: 0.4786 - acc: 0.7738 - val_loss: 0.4707 - val_acc: 0.7657\n",
      "Epoch 33/100\n",
      "3673/3673 [==============================] - 0s 29us/sample - loss: 0.4780 - acc: 0.7694 - val_loss: 0.4706 - val_acc: 0.7649\n",
      "Epoch 34/100\n",
      "3673/3673 [==============================] - 0s 32us/sample - loss: 0.4761 - acc: 0.7754 - val_loss: 0.4733 - val_acc: 0.7649\n",
      "Epoch 35/100\n",
      "3673/3673 [==============================] - 0s 30us/sample - loss: 0.4773 - acc: 0.7713 - val_loss: 0.4698 - val_acc: 0.7649\n",
      "Epoch 36/100\n",
      "3673/3673 [==============================] - 0s 25us/sample - loss: 0.4744 - acc: 0.7746 - val_loss: 0.4748 - val_acc: 0.7690\n",
      "Epoch 37/100\n",
      "3673/3673 [==============================] - 0s 25us/sample - loss: 0.4757 - acc: 0.7765 - val_loss: 0.4746 - val_acc: 0.7755\n",
      "Epoch 38/100\n",
      "3673/3673 [==============================] - 0s 25us/sample - loss: 0.4735 - acc: 0.7767 - val_loss: 0.4683 - val_acc: 0.7682\n",
      "Epoch 39/100\n",
      "3673/3673 [==============================] - 0s 24us/sample - loss: 0.4747 - acc: 0.7784 - val_loss: 0.4732 - val_acc: 0.7739\n",
      "Epoch 40/100\n",
      "3673/3673 [==============================] - 0s 24us/sample - loss: 0.4731 - acc: 0.7746 - val_loss: 0.4681 - val_acc: 0.7657\n",
      "Epoch 41/100\n",
      "3673/3673 [==============================] - 0s 25us/sample - loss: 0.4721 - acc: 0.7773 - val_loss: 0.4716 - val_acc: 0.7657\n",
      "Epoch 42/100\n",
      "3673/3673 [==============================] - 0s 25us/sample - loss: 0.4710 - acc: 0.7816 - val_loss: 0.4690 - val_acc: 0.7641\n",
      "Epoch 43/100\n",
      "3673/3673 [==============================] - 0s 24us/sample - loss: 0.4713 - acc: 0.7748 - val_loss: 0.4686 - val_acc: 0.7657\n",
      "Epoch 44/100\n",
      "3673/3673 [==============================] - 0s 25us/sample - loss: 0.4719 - acc: 0.7781 - val_loss: 0.4662 - val_acc: 0.7739\n",
      "Epoch 45/100\n",
      "3673/3673 [==============================] - 0s 31us/sample - loss: 0.4696 - acc: 0.7773 - val_loss: 0.4695 - val_acc: 0.7739\n",
      "Epoch 46/100\n",
      "3673/3673 [==============================] - 0s 29us/sample - loss: 0.4690 - acc: 0.7808 - val_loss: 0.4666 - val_acc: 0.7673\n",
      "Epoch 47/100\n",
      "3673/3673 [==============================] - 0s 28us/sample - loss: 0.4687 - acc: 0.7822 - val_loss: 0.4835 - val_acc: 0.7600\n",
      "Epoch 48/100\n",
      "3673/3673 [==============================] - 0s 29us/sample - loss: 0.4685 - acc: 0.7773 - val_loss: 0.4660 - val_acc: 0.7690\n",
      "Epoch 49/100\n",
      "3673/3673 [==============================] - 0s 28us/sample - loss: 0.4682 - acc: 0.7781 - val_loss: 0.4700 - val_acc: 0.7673\n",
      "Epoch 50/100\n",
      "3673/3673 [==============================] - 0s 24us/sample - loss: 0.4684 - acc: 0.7803 - val_loss: 0.4662 - val_acc: 0.7788\n",
      "Epoch 51/100\n",
      "3673/3673 [==============================] - 0s 26us/sample - loss: 0.4687 - acc: 0.7833 - val_loss: 0.4662 - val_acc: 0.7771\n",
      "Epoch 52/100\n",
      "3673/3673 [==============================] - 0s 26us/sample - loss: 0.4665 - acc: 0.7806 - val_loss: 0.4661 - val_acc: 0.7747\n",
      "Epoch 53/100\n",
      "3673/3673 [==============================] - 0s 25us/sample - loss: 0.4662 - acc: 0.7792 - val_loss: 0.4675 - val_acc: 0.7673\n",
      "Epoch 54/100\n",
      "3673/3673 [==============================] - 0s 27us/sample - loss: 0.4672 - acc: 0.7787 - val_loss: 0.4663 - val_acc: 0.7747\n",
      "Epoch 55/100\n",
      "3673/3673 [==============================] - 0s 27us/sample - loss: 0.4658 - acc: 0.7833 - val_loss: 0.4635 - val_acc: 0.7731\n",
      "Epoch 56/100\n",
      "3673/3673 [==============================] - 0s 27us/sample - loss: 0.4663 - acc: 0.7844 - val_loss: 0.4645 - val_acc: 0.7780\n",
      "Epoch 57/100\n",
      "3673/3673 [==============================] - 0s 28us/sample - loss: 0.4648 - acc: 0.7838 - val_loss: 0.4647 - val_acc: 0.7780\n"
     ]
    },
    {
     "name": "stdout",
     "output_type": "stream",
     "text": [
      "Epoch 58/100\n",
      "3673/3673 [==============================] - 0s 27us/sample - loss: 0.4650 - acc: 0.7800 - val_loss: 0.4654 - val_acc: 0.7731\n",
      "Epoch 59/100\n",
      "3673/3673 [==============================] - 0s 27us/sample - loss: 0.4658 - acc: 0.7836 - val_loss: 0.4630 - val_acc: 0.7763\n",
      "Epoch 60/100\n",
      "3673/3673 [==============================] - 0s 27us/sample - loss: 0.4651 - acc: 0.7808 - val_loss: 0.4666 - val_acc: 0.7747\n",
      "Epoch 61/100\n",
      "3673/3673 [==============================] - 0s 24us/sample - loss: 0.4632 - acc: 0.7855 - val_loss: 0.4658 - val_acc: 0.7731\n",
      "Epoch 62/100\n",
      "3673/3673 [==============================] - 0s 27us/sample - loss: 0.4631 - acc: 0.7827 - val_loss: 0.4635 - val_acc: 0.7755\n",
      "Epoch 63/100\n",
      "3673/3673 [==============================] - 0s 25us/sample - loss: 0.4634 - acc: 0.7838 - val_loss: 0.4632 - val_acc: 0.7788\n",
      "Epoch 64/100\n",
      "3673/3673 [==============================] - 0s 26us/sample - loss: 0.4639 - acc: 0.7846 - val_loss: 0.4697 - val_acc: 0.7690\n",
      "Epoch 65/100\n",
      "3673/3673 [==============================] - 0s 26us/sample - loss: 0.4640 - acc: 0.7789 - val_loss: 0.4616 - val_acc: 0.7820\n",
      "Epoch 66/100\n",
      "3673/3673 [==============================] - 0s 25us/sample - loss: 0.4618 - acc: 0.7838 - val_loss: 0.4631 - val_acc: 0.7771\n",
      "Epoch 67/100\n",
      "3673/3673 [==============================] - 0s 27us/sample - loss: 0.4615 - acc: 0.7885 - val_loss: 0.4650 - val_acc: 0.7755\n",
      "Epoch 68/100\n",
      "3673/3673 [==============================] - 0s 32us/sample - loss: 0.4620 - acc: 0.7852 - val_loss: 0.4630 - val_acc: 0.7780\n",
      "Epoch 69/100\n",
      "3673/3673 [==============================] - 0s 46us/sample - loss: 0.4622 - acc: 0.7874 - val_loss: 0.4624 - val_acc: 0.7780\n",
      "Epoch 70/100\n",
      "3673/3673 [==============================] - 0s 30us/sample - loss: 0.4607 - acc: 0.7857 - val_loss: 0.4629 - val_acc: 0.7763\n",
      "Epoch 71/100\n",
      "3673/3673 [==============================] - 0s 30us/sample - loss: 0.4604 - acc: 0.7855 - val_loss: 0.4630 - val_acc: 0.7788\n",
      "Epoch 72/100\n",
      "3673/3673 [==============================] - 0s 28us/sample - loss: 0.4611 - acc: 0.7841 - val_loss: 0.4637 - val_acc: 0.7804\n",
      "Epoch 73/100\n",
      "3673/3673 [==============================] - 0s 25us/sample - loss: 0.4596 - acc: 0.7825 - val_loss: 0.4619 - val_acc: 0.7788\n",
      "Epoch 74/100\n",
      "3673/3673 [==============================] - 0s 31us/sample - loss: 0.4607 - acc: 0.7906 - val_loss: 0.4660 - val_acc: 0.7763\n",
      "Epoch 75/100\n",
      "3673/3673 [==============================] - 0s 37us/sample - loss: 0.4596 - acc: 0.7827 - val_loss: 0.4634 - val_acc: 0.7780\n",
      "Epoch 76/100\n",
      "3673/3673 [==============================] - 0s 29us/sample - loss: 0.4585 - acc: 0.7890 - val_loss: 0.4638 - val_acc: 0.7788\n",
      "Epoch 77/100\n",
      "3673/3673 [==============================] - 0s 34us/sample - loss: 0.4579 - acc: 0.7879 - val_loss: 0.4633 - val_acc: 0.7755\n",
      "Epoch 78/100\n",
      "3673/3673 [==============================] - 0s 37us/sample - loss: 0.4609 - acc: 0.7868 - val_loss: 0.4622 - val_acc: 0.7812\n",
      "Epoch 79/100\n",
      "3673/3673 [==============================] - 0s 31us/sample - loss: 0.4582 - acc: 0.7827 - val_loss: 0.4617 - val_acc: 0.7796\n",
      "Epoch 80/100\n",
      "3673/3673 [==============================] - 0s 33us/sample - loss: 0.4588 - acc: 0.7846 - val_loss: 0.4614 - val_acc: 0.7812\n",
      "Epoch 81/100\n",
      "3673/3673 [==============================] - 0s 30us/sample - loss: 0.4609 - acc: 0.7874 - val_loss: 0.4605 - val_acc: 0.7820\n",
      "Epoch 82/100\n",
      "3673/3673 [==============================] - 0s 36us/sample - loss: 0.4572 - acc: 0.7906 - val_loss: 0.4647 - val_acc: 0.7763\n",
      "Epoch 83/100\n",
      "3673/3673 [==============================] - 0s 33us/sample - loss: 0.4564 - acc: 0.7855 - val_loss: 0.4602 - val_acc: 0.7771\n",
      "Epoch 84/100\n",
      "3673/3673 [==============================] - 0s 34us/sample - loss: 0.4593 - acc: 0.7863 - val_loss: 0.4609 - val_acc: 0.7796\n",
      "Epoch 85/100\n",
      "3673/3673 [==============================] - 0s 29us/sample - loss: 0.4554 - acc: 0.7904 - val_loss: 0.4679 - val_acc: 0.7731\n",
      "Epoch 86/100\n",
      "3673/3673 [==============================] - 0s 36us/sample - loss: 0.4585 - acc: 0.7882 - val_loss: 0.4623 - val_acc: 0.7820\n",
      "Epoch 87/100\n",
      "3673/3673 [==============================] - 0s 34us/sample - loss: 0.4569 - acc: 0.7934 - val_loss: 0.4602 - val_acc: 0.7804\n",
      "Epoch 88/100\n",
      "3673/3673 [==============================] - 0s 31us/sample - loss: 0.4563 - acc: 0.7898 - val_loss: 0.4612 - val_acc: 0.7820\n",
      "Epoch 89/100\n",
      "3673/3673 [==============================] - 0s 30us/sample - loss: 0.4562 - acc: 0.7915 - val_loss: 0.4614 - val_acc: 0.7763\n",
      "Epoch 90/100\n",
      "3673/3673 [==============================] - 0s 31us/sample - loss: 0.4548 - acc: 0.7885 - val_loss: 0.4600 - val_acc: 0.7812\n",
      "Epoch 91/100\n",
      "3673/3673 [==============================] - 0s 37us/sample - loss: 0.4564 - acc: 0.7893 - val_loss: 0.4611 - val_acc: 0.7771\n",
      "Epoch 92/100\n",
      "3673/3673 [==============================] - 0s 34us/sample - loss: 0.4561 - acc: 0.7923 - val_loss: 0.4611 - val_acc: 0.7788\n",
      "Epoch 93/100\n",
      "3673/3673 [==============================] - 0s 32us/sample - loss: 0.4544 - acc: 0.7868 - val_loss: 0.4621 - val_acc: 0.7780\n",
      "Epoch 94/100\n",
      "3673/3673 [==============================] - 0s 33us/sample - loss: 0.4548 - acc: 0.7876 - val_loss: 0.4615 - val_acc: 0.7845\n",
      "Epoch 95/100\n",
      "3673/3673 [==============================] - 0s 31us/sample - loss: 0.4543 - acc: 0.7885 - val_loss: 0.4608 - val_acc: 0.7812\n",
      "Epoch 96/100\n",
      "3673/3673 [==============================] - 0s 39us/sample - loss: 0.4534 - acc: 0.7866 - val_loss: 0.4645 - val_acc: 0.7739\n",
      "Epoch 97/100\n",
      "3673/3673 [==============================] - 0s 37us/sample - loss: 0.4539 - acc: 0.7887 - val_loss: 0.4628 - val_acc: 0.7796\n",
      "Epoch 98/100\n",
      "3673/3673 [==============================] - 0s 30us/sample - loss: 0.4537 - acc: 0.7934 - val_loss: 0.4593 - val_acc: 0.7837\n",
      "Epoch 99/100\n",
      "3673/3673 [==============================] - 0s 31us/sample - loss: 0.4541 - acc: 0.7904 - val_loss: 0.4592 - val_acc: 0.7796\n",
      "Epoch 100/100\n",
      "3673/3673 [==============================] - 0s 29us/sample - loss: 0.4527 - acc: 0.7915 - val_loss: 0.4602 - val_acc: 0.7796\n"
     ]
    },
    {
     "data": {
      "text/plain": [
       "<tensorflow.python.keras.callbacks.History at 0x7f82d4efdbd0>"
      ]
     },
     "execution_count": 41,
     "metadata": {},
     "output_type": "execute_result"
    }
   ],
   "source": [
    "clf.fit(X_train, y_train, epochs=100, validation_data=(X_test, y_test))"
   ]
  },
  {
   "cell_type": "code",
   "execution_count": 42,
   "metadata": {},
   "outputs": [],
   "source": [
    "y_preds_train = clf.predict(X_train)\n",
    "y_preds_test = clf.predict(X_test)"
   ]
  },
  {
   "cell_type": "code",
   "execution_count": 43,
   "metadata": {},
   "outputs": [],
   "source": [
    "y_train, y_test = np.argmax(y_train, axis=1), np.argmax(y_test, axis=1)\n",
    "y_preds_train, y_preds_test = np.argmax(y_preds_train, axis=1), np.argmax(y_preds_test, axis=1)"
   ]
  },
  {
   "cell_type": "code",
   "execution_count": 44,
   "metadata": {},
   "outputs": [
    {
     "data": {
      "text/plain": [
       "0.7960794990471005"
      ]
     },
     "execution_count": 44,
     "metadata": {},
     "output_type": "execute_result"
    }
   ],
   "source": [
    "accuracy_score(y_preds_train, y_train)"
   ]
  },
  {
   "cell_type": "code",
   "execution_count": 45,
   "metadata": {},
   "outputs": [
    {
     "data": {
      "text/plain": [
       "array([[ 823,  335],\n",
       "       [ 414, 2101]])"
      ]
     },
     "execution_count": 45,
     "metadata": {},
     "output_type": "execute_result"
    }
   ],
   "source": [
    "confusion_matrix(y_preds_train, y_train)"
   ]
  },
  {
   "cell_type": "code",
   "execution_count": 46,
   "metadata": {},
   "outputs": [
    {
     "data": {
      "text/plain": [
       "0.7795918367346939"
      ]
     },
     "execution_count": 46,
     "metadata": {},
     "output_type": "execute_result"
    }
   ],
   "source": [
    "accuracy_score(y_preds_test, y_test)"
   ]
  },
  {
   "cell_type": "code",
   "execution_count": 47,
   "metadata": {},
   "outputs": [
    {
     "data": {
      "text/plain": [
       "array([[266, 133],\n",
       "       [137, 689]])"
      ]
     },
     "execution_count": 47,
     "metadata": {},
     "output_type": "execute_result"
    }
   ],
   "source": [
    "confusion_matrix(y_preds_test, y_test)"
   ]
  },
  {
   "cell_type": "markdown",
   "metadata": {},
   "source": [
    "# Symmetry finder test"
   ]
  },
  {
   "cell_type": "markdown",
   "metadata": {},
   "source": [
    "### Data prep red"
   ]
  },
  {
   "cell_type": "code",
   "execution_count": 48,
   "metadata": {},
   "outputs": [],
   "source": [
    "df_red = pd.read_csv('/home/fdz/git/concept_drift_exps/data/wine/winequality_red.csv')"
   ]
  },
  {
   "cell_type": "code",
   "execution_count": 49,
   "metadata": {},
   "outputs": [
    {
     "data": {
      "text/plain": [
       "(1599, 12)"
      ]
     },
     "execution_count": 49,
     "metadata": {},
     "output_type": "execute_result"
    }
   ],
   "source": [
    "df_red.shape"
   ]
  },
  {
   "cell_type": "code",
   "execution_count": 50,
   "metadata": {},
   "outputs": [
    {
     "data": {
      "text/plain": [
       "<matplotlib.axes._subplots.AxesSubplot at 0x7f82d4535cd0>"
      ]
     },
     "execution_count": 50,
     "metadata": {},
     "output_type": "execute_result"
    },
    {
     "data": {
      "image/png": "[encoded data removed]",
      "text/plain": [
       "<Figure size 432x288 with 1 Axes>"
      ]
     },
     "metadata": {
      "needs_background": "light"
     },
     "output_type": "display_data"
    }
   ],
   "source": [
    "df_red['quality'].hist(bins=10)"
   ]
  },
  {
   "cell_type": "code",
   "execution_count": 51,
   "metadata": {},
   "outputs": [
    {
     "data": {
      "text/plain": [
       "5    0.425891\n",
       "6    0.398999\n",
       "7    0.124453\n",
       "4    0.033146\n",
       "8    0.011257\n",
       "3    0.006254\n",
       "Name: quality, dtype: float64"
      ]
     },
     "execution_count": 51,
     "metadata": {},
     "output_type": "execute_result"
    }
   ],
   "source": [
    "df_red['quality'].value_counts() / len(df_red)"
   ]
  },
  {
   "cell_type": "code",
   "execution_count": 52,
   "metadata": {},
   "outputs": [
    {
     "data": {
      "text/plain": [
       "1    0.534709\n",
       "0    0.465291\n",
       "Name: target, dtype: float64"
      ]
     },
     "execution_count": 52,
     "metadata": {},
     "output_type": "execute_result"
    }
   ],
   "source": [
    "if binary_target:\n",
    "    df_red['target'] = df_red['quality'].apply(lambda x: 0 if x < 6 else 1)\n",
    "else:\n",
    "    df_red['target'] = df_red['quality']\n",
    "df_red.drop('quality', axis=1, inplace=True)\n",
    "target = 'target'\n",
    "df_red[target].value_counts() / len(df_red)"
   ]
  },
  {
   "cell_type": "code",
   "execution_count": 53,
   "metadata": {},
   "outputs": [],
   "source": [
    "features = [col for col in df_red.columns if col != target]"
   ]
  },
  {
   "cell_type": "code",
   "execution_count": 54,
   "metadata": {},
   "outputs": [],
   "source": [
    "X_red, y_red = df_red[features].values, df_red[target].values"
   ]
  },
  {
   "cell_type": "code",
   "execution_count": 55,
   "metadata": {},
   "outputs": [],
   "source": [
    "if scale:\n",
    "    X_red = scaler.transform(X_red)"
   ]
  },
  {
   "cell_type": "code",
   "execution_count": 56,
   "metadata": {},
   "outputs": [],
   "source": [
    "y_preds_red  = clf.predict(X_red)"
   ]
  },
  {
   "cell_type": "code",
   "execution_count": 57,
   "metadata": {},
   "outputs": [],
   "source": [
    "y_preds_red = np.argmax(y_preds_red, axis=1)"
   ]
  },
  {
   "cell_type": "code",
   "execution_count": 58,
   "metadata": {},
   "outputs": [
    {
     "data": {
      "text/plain": [
       "0.5065666041275797"
      ]
     },
     "execution_count": 58,
     "metadata": {},
     "output_type": "execute_result"
    }
   ],
   "source": [
    "accuracy_score(y_preds_red, y_red)"
   ]
  },
  {
   "cell_type": "code",
   "execution_count": 59,
   "metadata": {},
   "outputs": [
    {
     "data": {
      "text/plain": [
       "array([[727, 772],\n",
       "       [ 17,  83]])"
      ]
     },
     "execution_count": 59,
     "metadata": {},
     "output_type": "execute_result"
    }
   ],
   "source": [
    "confusion_matrix(y_preds_red, y_red)"
   ]
  },
  {
   "cell_type": "code",
   "execution_count": 60,
   "metadata": {},
   "outputs": [],
   "source": [
    "from sklearn.metrics import precision_score, recall_score"
   ]
  },
  {
   "cell_type": "code",
   "execution_count": 61,
   "metadata": {},
   "outputs": [
    {
     "data": {
      "text/plain": [
       "0.8381995133819952"
      ]
     },
     "execution_count": 61,
     "metadata": {},
     "output_type": "execute_result"
    }
   ],
   "source": [
    "precision_score(y_preds_test, y_test)"
   ]
  },
  {
   "cell_type": "code",
   "execution_count": 62,
   "metadata": {},
   "outputs": [
    {
     "data": {
      "text/plain": [
       "0.09707602339181287"
      ]
     },
     "execution_count": 62,
     "metadata": {},
     "output_type": "execute_result"
    }
   ],
   "source": [
    "precision_score(y_preds_red, y_red)"
   ]
  },
  {
   "cell_type": "code",
   "execution_count": 63,
   "metadata": {},
   "outputs": [
    {
     "data": {
      "text/plain": [
       "0.8341404358353511"
      ]
     },
     "execution_count": 63,
     "metadata": {},
     "output_type": "execute_result"
    }
   ],
   "source": [
    "recall_score(y_preds_test, y_test)"
   ]
  },
  {
   "cell_type": "code",
   "execution_count": 64,
   "metadata": {},
   "outputs": [
    {
     "data": {
      "text/plain": [
       "0.83"
      ]
     },
     "execution_count": 64,
     "metadata": {},
     "output_type": "execute_result"
    }
   ],
   "source": [
    "recall_score(y_preds_red, y_red)"
   ]
  },
  {
   "cell_type": "markdown",
   "metadata": {},
   "source": [
    "### find symmetries"
   ]
  },
  {
   "cell_type": "code",
   "execution_count": 65,
   "metadata": {},
   "outputs": [],
   "source": [
    "from importlib import reload"
   ]
  },
  {
   "cell_type": "code",
   "execution_count": 66,
   "metadata": {},
   "outputs": [
    {
     "data": {
      "text/plain": [
       "<module 'model_symmetries' from '../odcd/cd/model_symmetries.py'>"
      ]
     },
     "execution_count": 66,
     "metadata": {},
     "output_type": "execute_result"
    }
   ],
   "source": [
    "reload(vsf)"
   ]
  },
  {
   "cell_type": "code",
   "execution_count": 67,
   "metadata": {},
   "outputs": [
    {
     "data": {
      "text/plain": [
       "'1.13.1'"
      ]
     },
     "execution_count": 67,
     "metadata": {},
     "output_type": "execute_result"
    }
   ],
   "source": [
    "tf.__version__"
   ]
  },
  {
   "cell_type": "code",
   "execution_count": null,
   "metadata": {},
   "outputs": [],
   "source": []
  },
  {
   "cell_type": "code",
   "execution_count": 68,
   "metadata": {},
   "outputs": [
    {
     "name": "stdout",
     "output_type": "stream",
     "text": [
      "WARNING:tensorflow:Output \"input_trans\" missing from loss dictionary. We assume this was done on purpose. The fit and evaluate APIs will not be expecting any data to be passed to \"input_trans\".\n",
      "WARNING:tensorflow:Output \"model\" missing from loss dictionary. We assume this was done on purpose. The fit and evaluate APIs will not be expecting any data to be passed to \"model\".\n",
      "WARNING:tensorflow:Output \"model\" missing from loss dictionary. We assume this was done on purpose. The fit and evaluate APIs will not be expecting any data to be passed to \"model\".\n",
      "Vae\n",
      "__________________________________________________________________________________________________\n",
      "Layer (type)                    Output Shape         Param #     Connected to                     \n",
      "==================================================================================================\n",
      "encoder_input (InputLayer)      (None, 11)           0                                            \n",
      "__________________________________________________________________________________________________\n",
      "reshape (Reshape)               (None, 11)           0           encoder_input[0][0]              \n",
      "__________________________________________________________________________________________________\n",
      "dense_2 (Dense)                 (None, 100)          1200        reshape[0][0]                    \n",
      "__________________________________________________________________________________________________\n",
      "z_mean (Dense)                  (None, 2)            202         dense_2[0][0]                    \n",
      "__________________________________________________________________________________________________\n",
      "z_log_var (Dense)               (None, 2)            202         dense_2[0][0]                    \n",
      "__________________________________________________________________________________________________\n",
      "z (Lambda)                      (None, 2)            0           z_mean[0][0]                     \n",
      "                                                                 z_log_var[0][0]                  \n",
      "__________________________________________________________________________________________________\n",
      "dense_3 (Dense)                 (None, 100)          300         z[0][0]                          \n",
      "__________________________________________________________________________________________________\n",
      "dense_4 (Dense)                 (None, 11)           1111        dense_3[0][0]                    \n",
      "__________________________________________________________________________________________________\n",
      "input_trans (Reshape)           (None, 11)           0           dense_4[0][0]                    \n",
      "__________________________________________________________________________________________________\n",
      "model (Model)                   (None, 2)            1402        input_trans[0][0]                \n",
      "                                                                 encoder_input[0][0]              \n",
      "==================================================================================================\n",
      "Total params: 4,417\n",
      "Trainable params: 3,015\n",
      "Non-trainable params: 1,402\n",
      "__________________________________________________________________________________________________\n"
     ]
    }
   ],
   "source": [
    "vae = vsf.VaeSymmetryFinder(clf, input_shape=(11,), output_shape=(2, ), intermediate_dim=100)"
   ]
  },
  {
   "cell_type": "code",
   "execution_count": 69,
   "metadata": {
    "scrolled": true
   },
   "outputs": [
    {
     "name": "stdout",
     "output_type": "stream",
     "text": [
      "Train on 3673 samples, validate on 1225 samples\n",
      "Epoch 1/100\n",
      "3673/3673 [==============================] - 0s 92us/sample - loss: 0.2941 - val_loss: 0.1974\n",
      "Epoch 2/100\n",
      "3673/3673 [==============================] - 0s 12us/sample - loss: 0.1879 - val_loss: 0.1903\n",
      "Epoch 3/100\n",
      "3673/3673 [==============================] - 0s 10us/sample - loss: 0.1798 - val_loss: 0.1892\n",
      "Epoch 4/100\n",
      "3673/3673 [==============================] - 0s 12us/sample - loss: 0.1794 - val_loss: 0.1883\n",
      "Epoch 5/100\n",
      "3673/3673 [==============================] - 0s 12us/sample - loss: 0.1776 - val_loss: 0.1820\n",
      "Epoch 6/100\n",
      "3673/3673 [==============================] - 0s 11us/sample - loss: 0.1732 - val_loss: 0.1837\n",
      "Epoch 7/100\n",
      "3673/3673 [==============================] - 0s 13us/sample - loss: 0.1672 - val_loss: 0.1632\n",
      "Epoch 8/100\n",
      "3673/3673 [==============================] - 0s 12us/sample - loss: 0.1520 - val_loss: 0.1338\n",
      "Epoch 9/100\n",
      "3673/3673 [==============================] - 0s 13us/sample - loss: 0.1023 - val_loss: 0.0871\n",
      "Epoch 10/100\n",
      "3673/3673 [==============================] - 0s 13us/sample - loss: 0.0710 - val_loss: 0.0639\n",
      "Epoch 11/100\n",
      "3673/3673 [==============================] - 0s 12us/sample - loss: 0.0560 - val_loss: 0.0505\n",
      "Epoch 12/100\n",
      "3673/3673 [==============================] - 0s 12us/sample - loss: 0.0486 - val_loss: 0.0444\n",
      "Epoch 13/100\n",
      "3673/3673 [==============================] - 0s 11us/sample - loss: 0.0457 - val_loss: 0.0417\n",
      "Epoch 14/100\n",
      "3673/3673 [==============================] - 0s 11us/sample - loss: 0.0410 - val_loss: 0.0408\n",
      "Epoch 15/100\n",
      "3673/3673 [==============================] - 0s 12us/sample - loss: 0.0408 - val_loss: 0.0388\n",
      "Epoch 16/100\n",
      "3673/3673 [==============================] - 0s 12us/sample - loss: 0.0398 - val_loss: 0.0369\n",
      "Epoch 17/100\n",
      "3673/3673 [==============================] - 0s 12us/sample - loss: 0.0375 - val_loss: 0.0352\n",
      "Epoch 18/100\n",
      "3673/3673 [==============================] - 0s 11us/sample - loss: 0.0361 - val_loss: 0.0348\n",
      "Epoch 19/100\n",
      "3673/3673 [==============================] - 0s 11us/sample - loss: 0.0350 - val_loss: 0.0336\n",
      "Epoch 20/100\n",
      "3673/3673 [==============================] - 0s 12us/sample - loss: 0.0333 - val_loss: 0.0327\n",
      "Epoch 21/100\n",
      "3673/3673 [==============================] - 0s 12us/sample - loss: 0.0317 - val_loss: 0.0301\n",
      "Epoch 22/100\n",
      "3673/3673 [==============================] - 0s 12us/sample - loss: 0.0309 - val_loss: 0.0294\n",
      "Epoch 23/100\n",
      "3673/3673 [==============================] - 0s 11us/sample - loss: 0.0284 - val_loss: 0.0265\n",
      "Epoch 24/100\n",
      "3673/3673 [==============================] - 0s 11us/sample - loss: 0.0267 - val_loss: 0.0256\n",
      "Epoch 25/100\n",
      "3673/3673 [==============================] - 0s 11us/sample - loss: 0.0254 - val_loss: 0.0233\n",
      "Epoch 26/100\n",
      "3673/3673 [==============================] - 0s 11us/sample - loss: 0.0232 - val_loss: 0.0206\n",
      "Epoch 27/100\n",
      "3673/3673 [==============================] - 0s 11us/sample - loss: 0.0217 - val_loss: 0.0199\n",
      "Epoch 28/100\n",
      "3673/3673 [==============================] - 0s 12us/sample - loss: 0.0195 - val_loss: 0.0185\n",
      "Epoch 29/100\n",
      "3673/3673 [==============================] - 0s 12us/sample - loss: 0.0183 - val_loss: 0.0162\n",
      "Epoch 30/100\n",
      "3673/3673 [==============================] - 0s 12us/sample - loss: 0.0164 - val_loss: 0.0151\n",
      "Epoch 31/100\n",
      "3673/3673 [==============================] - 0s 11us/sample - loss: 0.0153 - val_loss: 0.0141\n",
      "Epoch 32/100\n",
      "3673/3673 [==============================] - 0s 12us/sample - loss: 0.0138 - val_loss: 0.0125\n",
      "Epoch 33/100\n",
      "3673/3673 [==============================] - 0s 12us/sample - loss: 0.0128 - val_loss: 0.0124\n",
      "Epoch 34/100\n",
      "3673/3673 [==============================] - 0s 12us/sample - loss: 0.0118 - val_loss: 0.0101\n",
      "Epoch 35/100\n",
      "3673/3673 [==============================] - 0s 11us/sample - loss: 0.0105 - val_loss: 0.0094\n",
      "Epoch 36/100\n",
      "3673/3673 [==============================] - 0s 12us/sample - loss: 0.0099 - val_loss: 0.0093\n",
      "Epoch 37/100\n",
      "3673/3673 [==============================] - 0s 12us/sample - loss: 0.0087 - val_loss: 0.0079\n",
      "Epoch 38/100\n",
      "3673/3673 [==============================] - 0s 12us/sample - loss: 0.0079 - val_loss: 0.0076\n",
      "Epoch 39/100\n",
      "3673/3673 [==============================] - 0s 12us/sample - loss: 0.0073 - val_loss: 0.0072\n",
      "Epoch 40/100\n",
      "3673/3673 [==============================] - 0s 12us/sample - loss: 0.0068 - val_loss: 0.0061\n",
      "Epoch 41/100\n",
      "3673/3673 [==============================] - 0s 14us/sample - loss: 0.0062 - val_loss: 0.0057\n",
      "Epoch 42/100\n",
      "3673/3673 [==============================] - 0s 11us/sample - loss: 0.0059 - val_loss: 0.0053\n",
      "Epoch 43/100\n",
      "3673/3673 [==============================] - 0s 12us/sample - loss: 0.0053 - val_loss: 0.0050\n",
      "Epoch 44/100\n",
      "3673/3673 [==============================] - 0s 12us/sample - loss: 0.0047 - val_loss: 0.0046\n",
      "Epoch 45/100\n",
      "3673/3673 [==============================] - 0s 11us/sample - loss: 0.0046 - val_loss: 0.0057\n",
      "Epoch 46/100\n",
      "3673/3673 [==============================] - 0s 12us/sample - loss: 0.0043 - val_loss: 0.0041\n",
      "Epoch 47/100\n",
      "3673/3673 [==============================] - 0s 12us/sample - loss: 0.0041 - val_loss: 0.0039\n",
      "Epoch 48/100\n",
      "3673/3673 [==============================] - 0s 12us/sample - loss: 0.0042 - val_loss: 0.0039\n",
      "Epoch 49/100\n",
      "3673/3673 [==============================] - 0s 11us/sample - loss: 0.0037 - val_loss: 0.0035\n",
      "Epoch 50/100\n",
      "3673/3673 [==============================] - 0s 11us/sample - loss: 0.0034 - val_loss: 0.0038\n",
      "Epoch 51/100\n",
      "3673/3673 [==============================] - 0s 11us/sample - loss: 0.0032 - val_loss: 0.0032\n",
      "Epoch 52/100\n",
      "3673/3673 [==============================] - 0s 11us/sample - loss: 0.0032 - val_loss: 0.0030\n",
      "Epoch 53/100\n",
      "3673/3673 [==============================] - 0s 11us/sample - loss: 0.0029 - val_loss: 0.0030\n",
      "Epoch 54/100\n",
      "3673/3673 [==============================] - 0s 12us/sample - loss: 0.0028 - val_loss: 0.0029\n",
      "Epoch 55/100\n",
      "3673/3673 [==============================] - 0s 11us/sample - loss: 0.0028 - val_loss: 0.0028\n",
      "Epoch 56/100\n",
      "3673/3673 [==============================] - 0s 12us/sample - loss: 0.0027 - val_loss: 0.0029\n",
      "Epoch 57/100\n",
      "3673/3673 [==============================] - 0s 12us/sample - loss: 0.0026 - val_loss: 0.0026\n",
      "Epoch 58/100\n",
      "3673/3673 [==============================] - 0s 11us/sample - loss: 0.0024 - val_loss: 0.0026\n",
      "Epoch 59/100\n",
      "3673/3673 [==============================] - 0s 11us/sample - loss: 0.0025 - val_loss: 0.0026\n",
      "Epoch 60/100\n",
      "3673/3673 [==============================] - 0s 11us/sample - loss: 0.0024 - val_loss: 0.0024\n",
      "Epoch 61/100\n",
      "3673/3673 [==============================] - 0s 11us/sample - loss: 0.0024 - val_loss: 0.0028\n",
      "Epoch 62/100\n",
      "3673/3673 [==============================] - 0s 11us/sample - loss: 0.0023 - val_loss: 0.0022\n",
      "Epoch 63/100\n",
      "3673/3673 [==============================] - 0s 12us/sample - loss: 0.0022 - val_loss: 0.0021\n",
      "Epoch 64/100\n",
      "3673/3673 [==============================] - 0s 12us/sample - loss: 0.0024 - val_loss: 0.0028\n",
      "Epoch 65/100\n",
      "3673/3673 [==============================] - 0s 12us/sample - loss: 0.0022 - val_loss: 0.0023\n",
      "Epoch 66/100\n",
      "3673/3673 [==============================] - 0s 12us/sample - loss: 0.0020 - val_loss: 0.0021\n",
      "Epoch 67/100\n",
      "3673/3673 [==============================] - 0s 11us/sample - loss: 0.0019 - val_loss: 0.0021\n",
      "Epoch 68/100\n",
      "3673/3673 [==============================] - 0s 11us/sample - loss: 0.0021 - val_loss: 0.0020\n",
      "Epoch 69/100\n",
      "3673/3673 [==============================] - 0s 11us/sample - loss: 0.0020 - val_loss: 0.0019\n",
      "Epoch 70/100\n",
      "3673/3673 [==============================] - 0s 12us/sample - loss: 0.0018 - val_loss: 0.0019\n",
      "Epoch 71/100\n",
      "3673/3673 [==============================] - 0s 12us/sample - loss: 0.0018 - val_loss: 0.0018\n",
      "Epoch 72/100\n",
      "3673/3673 [==============================] - 0s 11us/sample - loss: 0.0017 - val_loss: 0.0017\n",
      "Epoch 73/100\n",
      "3673/3673 [==============================] - 0s 12us/sample - loss: 0.0017 - val_loss: 0.0017\n",
      "Epoch 74/100\n",
      "3673/3673 [==============================] - 0s 12us/sample - loss: 0.0017 - val_loss: 0.0017\n",
      "Epoch 75/100\n",
      "3673/3673 [==============================] - 0s 11us/sample - loss: 0.0018 - val_loss: 0.0022\n",
      "Epoch 76/100\n",
      "3673/3673 [==============================] - 0s 11us/sample - loss: 0.0017 - val_loss: 0.0017\n",
      "Epoch 77/100\n"
     ]
    },
    {
     "name": "stdout",
     "output_type": "stream",
     "text": [
      "3673/3673 [==============================] - 0s 11us/sample - loss: 0.0017 - val_loss: 0.0019\n",
      "Epoch 78/100\n",
      "3673/3673 [==============================] - 0s 12us/sample - loss: 0.0016 - val_loss: 0.0019\n",
      "Epoch 79/100\n",
      "3673/3673 [==============================] - 0s 11us/sample - loss: 0.0015 - val_loss: 0.0015\n",
      "Epoch 80/100\n",
      "3673/3673 [==============================] - 0s 11us/sample - loss: 0.0015 - val_loss: 0.0016\n",
      "Epoch 81/100\n",
      "3673/3673 [==============================] - 0s 11us/sample - loss: 0.0015 - val_loss: 0.0016\n",
      "Epoch 82/100\n",
      "3673/3673 [==============================] - 0s 11us/sample - loss: 0.0017 - val_loss: 0.0018\n",
      "Epoch 83/100\n",
      "3673/3673 [==============================] - 0s 12us/sample - loss: 0.0015 - val_loss: 0.0015\n",
      "Epoch 84/100\n",
      "3673/3673 [==============================] - 0s 11us/sample - loss: 0.0016 - val_loss: 0.0025\n",
      "Epoch 85/100\n",
      "3673/3673 [==============================] - 0s 13us/sample - loss: 0.0018 - val_loss: 0.0020\n",
      "Epoch 86/100\n",
      "3673/3673 [==============================] - 0s 11us/sample - loss: 0.0016 - val_loss: 0.0015\n",
      "Epoch 87/100\n",
      "3673/3673 [==============================] - 0s 12us/sample - loss: 0.0016 - val_loss: 0.0017\n",
      "Epoch 88/100\n",
      "3673/3673 [==============================] - 0s 11us/sample - loss: 0.0014 - val_loss: 0.0014\n",
      "Epoch 89/100\n",
      "3673/3673 [==============================] - 0s 11us/sample - loss: 0.0016 - val_loss: 0.0014\n",
      "Epoch 90/100\n",
      "3673/3673 [==============================] - 0s 12us/sample - loss: 0.0014 - val_loss: 0.0013\n",
      "Epoch 91/100\n",
      "3673/3673 [==============================] - 0s 11us/sample - loss: 0.0013 - val_loss: 0.0013\n",
      "Epoch 92/100\n",
      "3673/3673 [==============================] - 0s 12us/sample - loss: 0.0013 - val_loss: 0.0014\n",
      "Epoch 93/100\n",
      "3673/3673 [==============================] - 0s 12us/sample - loss: 0.0013 - val_loss: 0.0013\n",
      "Epoch 94/100\n",
      "3673/3673 [==============================] - 0s 12us/sample - loss: 0.0012 - val_loss: 0.0013\n",
      "Epoch 95/100\n",
      "3673/3673 [==============================] - 0s 14us/sample - loss: 0.0012 - val_loss: 0.0013\n",
      "Epoch 96/100\n",
      "3673/3673 [==============================] - 0s 12us/sample - loss: 0.0012 - val_loss: 0.0012\n",
      "Epoch 97/100\n",
      "3673/3673 [==============================] - 0s 11us/sample - loss: 0.0012 - val_loss: 0.0013\n",
      "Epoch 98/100\n",
      "3673/3673 [==============================] - 0s 12us/sample - loss: 0.0012 - val_loss: 0.0013\n",
      "Epoch 99/100\n",
      "3673/3673 [==============================] - 0s 12us/sample - loss: 0.0013 - val_loss: 0.0013\n",
      "Epoch 100/100\n",
      "3673/3673 [==============================] - 0s 12us/sample - loss: 0.0012 - val_loss: 0.0012\n"
     ]
    }
   ],
   "source": [
    "vae.fit(X_train, x_test=X_test, epochs=100)"
   ]
  },
  {
   "cell_type": "code",
   "execution_count": 78,
   "metadata": {},
   "outputs": [],
   "source": [
    "vae_outs_test = vae.vae.predict(X_test)\n",
    "symm_samples_test = vae_outs_test[0]\n",
    "orig_preds_test = vae_outs_test[1]\n",
    "trans_preds_test = vae_outs_test[2]\n",
    "    \n",
    "kl_test = entropy(orig_preds_test.T, trans_preds_test.T)\n",
    "baseline_std_plus = kl_test.mean() + kl_test.std()\n",
    "baseline_std_minus = kl_test.mean() - kl_test.std()"
   ]
  },
  {
   "cell_type": "code",
   "execution_count": 80,
   "metadata": {},
   "outputs": [
    {
     "name": "stdout",
     "output_type": "stream",
     "text": [
      "Number of contaminations: 0 \n",
      "Number of contaminations: 15 \n",
      "Number of contaminations: 30 \n",
      "Number of contaminations: 45 \n",
      "Number of contaminations: 60 \n",
      "Number of contaminations: 75 \n",
      "Number of contaminations: 90 \n",
      "Number of contaminations: 105 \n",
      "Number of contaminations: 120 \n",
      "Number of contaminations: 135 \n",
      "Number of contaminations: 150 \n",
      "Number of contaminations: 165 \n",
      "Number of contaminations: 180 \n",
      "Number of contaminations: 195 \n",
      "Number of contaminations: 210 \n",
      "Number of contaminations: 225 \n",
      "Number of contaminations: 240 \n",
      "Number of contaminations: 255 \n",
      "Number of contaminations: 270 \n",
      "Number of contaminations: 285 \n",
      "Number of contaminations: 300 \n",
      "Number of contaminations: 315 \n",
      "Number of contaminations: 330 \n",
      "Number of contaminations: 345 \n",
      "Number of contaminations: 360 \n",
      "Number of contaminations: 375 \n",
      "Number of contaminations: 390 \n",
      "Number of contaminations: 405 \n",
      "Number of contaminations: 420 \n",
      "Number of contaminations: 435 \n",
      "Number of contaminations: 450 \n",
      "Number of contaminations: 465 \n",
      "Number of contaminations: 480 \n",
      "Number of contaminations: 495 \n",
      "Number of contaminations: 510 \n",
      "Number of contaminations: 525 \n",
      "Number of contaminations: 540 \n",
      "Number of contaminations: 555 \n",
      "Number of contaminations: 570 \n",
      "Number of contaminations: 585 \n",
      "Number of contaminations: 600 \n",
      "Number of contaminations: 615 \n",
      "Number of contaminations: 630 \n",
      "Number of contaminations: 645 \n",
      "Number of contaminations: 660 \n",
      "Number of contaminations: 675 \n",
      "Number of contaminations: 690 \n",
      "Number of contaminations: 705 \n",
      "Number of contaminations: 720 \n",
      "Number of contaminations: 735 \n",
      "Number of contaminations: 750 \n",
      "Number of contaminations: 765 \n",
      "Number of contaminations: 780 \n",
      "Number of contaminations: 795 \n",
      "Number of contaminations: 810 \n",
      "Number of contaminations: 825 \n",
      "Number of contaminations: 840 \n",
      "Number of contaminations: 855 \n",
      "Number of contaminations: 870 \n",
      "Number of contaminations: 885 \n",
      "Number of contaminations: 900 \n",
      "Number of contaminations: 915 \n",
      "Number of contaminations: 930 \n",
      "Number of contaminations: 945 \n",
      "Number of contaminations: 960 \n",
      "Number of contaminations: 975 \n",
      "Number of contaminations: 990 \n",
      "Number of contaminations: 1005 \n",
      "Number of contaminations: 1020 \n",
      "Number of contaminations: 1035 \n",
      "Number of contaminations: 1050 \n",
      "Number of contaminations: 1065 \n",
      "Number of contaminations: 1080 \n",
      "Number of contaminations: 1095 \n",
      "Number of contaminations: 1110 \n",
      "Number of contaminations: 1125 \n",
      "Number of contaminations: 1140 \n",
      "Number of contaminations: 1155 \n",
      "Number of contaminations: 1170 \n",
      "Number of contaminations: 1185 \n",
      "Number of contaminations: 1200 \n",
      "Number of contaminations: 1215 \n",
      "Number of contaminations: 1230 \n",
      "Number of contaminations: 1245 \n",
      "Number of contaminations: 1260 \n",
      "Number of contaminations: 1275 \n",
      "Number of contaminations: 1290 \n",
      "Number of contaminations: 1305 \n",
      "Number of contaminations: 1320 \n",
      "Number of contaminations: 1335 \n",
      "Number of contaminations: 1350 \n",
      "Number of contaminations: 1365 \n",
      "Number of contaminations: 1380 \n",
      "Number of contaminations: 1395 \n",
      "Number of contaminations: 1410 \n",
      "Number of contaminations: 1425 \n",
      "Number of contaminations: 1440 \n",
      "Number of contaminations: 1455 \n",
      "Number of contaminations: 1470 \n",
      "Number of contaminations: 1485 \n",
      "Number of contaminations: 1500 \n",
      "Number of contaminations: 1515 \n",
      "Number of contaminations: 1530 \n",
      "Number of contaminations: 1545 \n",
      "Number of contaminations: 1560 \n",
      "Number of contaminations: 1575 \n",
      "Number of contaminations: 1590 \n"
     ]
    }
   ],
   "source": [
    "mean_test = []\n",
    "std_test = []\n",
    "accs_test = []\n",
    "\n",
    "baseline_stds_plus = []\n",
    "baseline_stds_minus = []\n",
    "for i in range(0, len(X_red), 15):\n",
    "    rnd_idxs_red  = np.random.choice(range(len(X_red)), i)\n",
    "    x_cont_red = X_red[rnd_idxs_red]\n",
    "    y_cont_red = y_red[rnd_idxs_red]\n",
    "    print('Number of contaminations: {} '.format(i))\n",
    "    x_test_cont = np.concatenate((X_test, x_cont_red), axis=0)\n",
    "    y_test_cont = np.concatenate((y_test, y_cont_red), axis=0)\n",
    "    \n",
    "    vae_outs_test = vae.vae.predict(x_test_cont)\n",
    "    symm_samples_test = vae_outs_test[0]\n",
    "    orig_preds_test = vae_outs_test[1]\n",
    "    trans_preds_test = vae_outs_test[2]\n",
    "    \n",
    "    kl_test = entropy(orig_preds_test.T, trans_preds_test.T)\n",
    "    mean_test.append(kl_test.mean())\n",
    "    std_test.append(kl_test.std())\n",
    "    preds_test = np.argmax(orig_preds_test, axis=1)\n",
    "    accs_test.append(accuracy_score(preds_test, y_test_cont))\n",
    "    baseline_stds_plus.append(baseline_std_plus)\n",
    "    baseline_stds_minus.append(baseline_std_minus)"
   ]
  },
  {
   "cell_type": "code",
   "execution_count": 82,
   "metadata": {},
   "outputs": [],
   "source": [
    "df = pd.DataFrame()\n",
    "df['accuracy'] = accs_test\n",
    "df['entropy_mean'] = mean_test\n",
    "df['entropy_std'] = std_test\n",
    "df['baseline_std_plus'] = baseline_stds_plus\n",
    "df['baseline_std_minus'] = baseline_stds_minus"
   ]
  },
  {
   "cell_type": "code",
   "execution_count": null,
   "metadata": {},
   "outputs": [],
   "source": []
  },
  {
   "cell_type": "code",
   "execution_count": 83,
   "metadata": {},
   "outputs": [
    {
     "data": {
      "text/plain": [
       "array([<matplotlib.axes._subplots.AxesSubplot object at 0x7f828479cd50>],\n",
       "      dtype=object)"
      ]
     },
     "execution_count": 83,
     "metadata": {},
     "output_type": "execute_result"
    },
    {
     "data": {
      "image/png": "[encoded data removed]",
      "text/plain": [
       "<Figure size 1080x576 with 1 Axes>"
      ]
     },
     "metadata": {
      "needs_background": "light"
     },
     "output_type": "display_data"
    }
   ],
   "source": [
    "df['accuracy'].plot(logy = False, subplots=True, figsize = (15, 8))"
   ]
  },
  {
   "cell_type": "code",
   "execution_count": 87,
   "metadata": {},
   "outputs": [
    {
     "data": {
      "text/plain": [
       "<matplotlib.axes._subplots.AxesSubplot at 0x7f82845d0490>"
      ]
     },
     "execution_count": 87,
     "metadata": {},
     "output_type": "execute_result"
    },
    {
     "data": {
      "image/png": "[encoded data removed]",
      "text/plain": [
       "<Figure size 1080x576 with 1 Axes>"
      ]
     },
     "metadata": {
      "needs_background": "light"
     },
     "output_type": "display_data"
    }
   ],
   "source": [
    "df[['entropy_mean', 'baseline_std_plus', 'baseline_std_minus']].plot(logy = False, subplots=False, figsize = (15, 8))"
   ]
  },
  {
   "cell_type": "code",
   "execution_count": 75,
   "metadata": {},
   "outputs": [
    {
     "data": {
      "text/plain": [
       "(1225, 11)"
      ]
     },
     "execution_count": 75,
     "metadata": {},
     "output_type": "execute_result"
    }
   ],
   "source": [
    "X_test.shape"
   ]
  },
  {
   "cell_type": "code",
   "execution_count": 76,
   "metadata": {},
   "outputs": [
    {
     "data": {
      "text/plain": [
       "(1599, 11)"
      ]
     },
     "execution_count": 76,
     "metadata": {},
     "output_type": "execute_result"
    }
   ],
   "source": [
    "X_red.shape"
   ]
  },
  {
   "cell_type": "code",
   "execution_count": 77,
   "metadata": {},
   "outputs": [],
   "source": [
    "vae_outs_train = vae.vae.predict(X_train)\n",
    "vae_outs_test = vae.vae.predict(X_red)\n",
    "\n",
    "symm_samples_train = vae_outs_train[0]\n",
    "orig_preds_train = vae_outs_train[1]\n",
    "trans_preds_train = vae_outs_train[2]\n",
    "\n",
    "symm_samples_test = vae_outs_test[0]\n",
    "orig_preds_test = vae_outs_test[1]\n",
    "trans_preds_test = vae_outs_test[2]"
   ]
  },
  {
   "cell_type": "code",
   "execution_count": 78,
   "metadata": {},
   "outputs": [],
   "source": [
    "kl_train = entropy(orig_preds_train.T, trans_preds_train.T)\n",
    "kl_test = entropy(orig_preds_test.T, trans_preds_test.T)"
   ]
  },
  {
   "cell_type": "code",
   "execution_count": 79,
   "metadata": {},
   "outputs": [],
   "source": [
    "S_train = pd.Series(kl_train, name='train')\n",
    "S_test = pd.Series(kl_test, name='test')\n",
    "df_kl = pd.merge(S_train.to_frame(), S_test.to_frame(), right_index=True, left_index=True, how='outer')"
   ]
  },
  {
   "cell_type": "code",
   "execution_count": 80,
   "metadata": {},
   "outputs": [
    {
     "name": "stdout",
     "output_type": "stream",
     "text": [
      "0.00133439467754215 0.0029017613269388676\n",
      "0.016250930726528168 0.02101503126323223\n"
     ]
    },
    {
     "data": {
      "image/png": "[encoded data removed]",
      "text/plain": [
       "<Figure size 720x720 with 2 Axes>"
      ]
     },
     "metadata": {
      "needs_background": "light"
     },
     "output_type": "display_data"
    }
   ],
   "source": [
    "df_kl.plot(kind='hist', bins=50, subplots=True, figsize=(10, 10))\n",
    "print(S_train.mean(), S_train.std())\n",
    "print(S_test.mean(), S_test.std())"
   ]
  },
  {
   "cell_type": "code",
   "execution_count": 81,
   "metadata": {},
   "outputs": [],
   "source": [
    "import matplotlib.pyplot as plt"
   ]
  },
  {
   "cell_type": "code",
   "execution_count": 82,
   "metadata": {},
   "outputs": [
    {
     "data": {
      "image/png": "[encoded data removed]",
      "text/plain": [
       "<Figure size 864x576 with 1 Axes>"
      ]
     },
     "metadata": {
      "needs_background": "light"
     },
     "output_type": "display_data"
    }
   ],
   "source": [
    "idx_test = np.random.permutation(pd.Series(kl_train).index)[:len(pd.Series(kl_test))]\n",
    "plt.figure(figsize=(12, 8))\n",
    "ax1 = plt.scatter(pd.Series(kl_train).index, pd.Series(kl_train), s=10, alpha=0.2)\n",
    "ax2 = plt.scatter(idx_test, pd.Series(kl_test), s=10, alpha=1)"
   ]
  },
  {
   "cell_type": "code",
   "execution_count": 83,
   "metadata": {},
   "outputs": [
    {
     "data": {
      "text/plain": [
       "array([0.4       , 0.07843137, 0.21686747, 0.03067485, 0.05934718,\n",
       "       0.09059233, 0.20649652, 0.08000771, 0.35454545, 0.1744186 ,\n",
       "       0.51612903])"
      ]
     },
     "execution_count": 83,
     "metadata": {},
     "output_type": "execute_result"
    }
   ],
   "source": [
    "X_train[0]"
   ]
  },
  {
   "cell_type": "code",
   "execution_count": 84,
   "metadata": {},
   "outputs": [
    {
     "data": {
      "text/plain": [
       "array([0.        , 0.03905063, 0.09403051, 0.        , 0.        ,\n",
       "       0.13047639, 0.06023625, 0.        , 0.10119309, 0.25926673,\n",
       "       0.22845235], dtype=float32)"
      ]
     },
     "execution_count": 84,
     "metadata": {},
     "output_type": "execute_result"
    }
   ],
   "source": [
    "symm_samples_train[0]"
   ]
  },
  {
   "cell_type": "code",
   "execution_count": null,
   "metadata": {},
   "outputs": [],
   "source": []
  },
  {
   "cell_type": "code",
   "execution_count": null,
   "metadata": {},
   "outputs": [],
   "source": []
  }
 ],
 "metadata": {
  "kernelspec": {
   "display_name": "Python 3",
   "language": "python",
   "name": "python3"
  },
  "language_info": {
   "codemirror_mode": {
    "name": "ipython",
    "version": 3
   },
   "file_extension": ".py",
   "mimetype": "text/x-python",
   "name": "python",
   "nbconvert_exporter": "python",
   "pygments_lexer": "ipython3",
   "version": "3.7.4"
  }
 },
 "nbformat": 4,
 "nbformat_minor": 2
}
