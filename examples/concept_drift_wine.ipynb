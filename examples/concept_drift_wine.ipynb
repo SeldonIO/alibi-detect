{
 "cells": [
  {
   "cell_type": "code",
   "execution_count": 1,
   "metadata": {},
   "outputs": [
    {
     "name": "stderr",
     "output_type": "stream",
     "text": [
      "Using TensorFlow backend.\n"
     ]
    }
   ],
   "source": [
    "import pandas as pd\n",
    "import numpy as np\n",
    "import tensorflow as tf\n",
    "import keras \n",
    "from scipy.stats import entropy\n",
    "import sys\n",
    "sys.path.append('..')\n",
    "sys.path.append('../odcd/cd/')\n",
    "sys.path.append('../odcd/utils/')\n",
    "\n",
    "from sklearn.model_selection import train_test_split\n",
    "from sklearn.preprocessing import MinMaxScaler\n",
    "from sklearn.metrics import accuracy_score, confusion_matrix\n",
    "import matplotlib\n",
    "import seaborn as sns\n",
    "from creme.stats import Mean, Var\n",
    "import matplotlib.pyplot as plt\n",
    "import model_symmetries as vsf\n",
    "%matplotlib inline\n",
    "\n",
    "from skmultiflow.drift_detection.adwin import ADWIN\n",
    "\n",
    "import streaming_sim_test as sst\n",
    "from importlib import reload\n",
    "\n",
    "import colorama\n",
    "from colorama import Fore, Style"
   ]
  },
  {
   "cell_type": "code",
   "execution_count": 2,
   "metadata": {
    "collapsed": true
   },
   "outputs": [],
   "source": [
    "def prepare_data_wines(path_white='/home/fdz/git/concept_drift_exps/data/wine/winequality_white.csv',\n",
    "                     path_red='/home/fdz/git/concept_drift_exps/data/wine/winequality_red.csv',\n",
    "                     binary_target=True, scale=True, permute=True, perm_features=5):\n",
    "    \n",
    "    df_white = pd.read_csv(path_white)\n",
    "    df_white['quality'].value_counts() / len(df_white)\n",
    "    \n",
    "    if binary_target:\n",
    "        df_white['target'] = df_white['quality'].apply(lambda x: 0 if x < 6 else 1)\n",
    "    else:\n",
    "        df_white['target'] = df_white['quality']\n",
    "    df_white.drop('quality', axis=1, inplace=True)\n",
    "    target = 'target'\n",
    "    # print('White distribution', df_white[target].value_counts() / len(df_white))\n",
    "    \n",
    "    features = [col for col in df_white.columns if col != target]\n",
    "    X, y = df_white[features].values, df_white[target].values\n",
    "    X_train, X_test, y_train, y_test = train_test_split(X, y)\n",
    "    \n",
    "    if scale:\n",
    "        scaler = MinMaxScaler()\n",
    "        scaler.fit(X_train)\n",
    "        X_train = scaler.transform(X_train)\n",
    "        X_test = scaler.transform(X_test)\n",
    "    \n",
    "    y_train = tf.keras.utils.to_categorical(y_train)\n",
    "    y_test = tf.keras.utils.to_categorical(y_test)\n",
    "    \n",
    "    y_train = np.delete(y_train, np.where(~y_train.any(axis=0)), axis=1)\n",
    "    y_test = np.delete(y_test, np.where(~y_test.any(axis=0)), axis=1)\n",
    "    \n",
    "    df_red = pd.read_csv(path_red)\n",
    "    df_red['quality'].value_counts() / len(df_red)\n",
    "    \n",
    "    if binary_target:\n",
    "        df_red['target'] = df_red['quality'].apply(lambda x: 0 if x < 6 else 1)\n",
    "    else:\n",
    "        df_red['target'] = df_red['quality']\n",
    "    df_red.drop('quality', axis=1, inplace=True)\n",
    "    target = 'target'\n",
    "    # print('Red distribution ', df_red[target].value_counts() / len(df_red))\n",
    "    \n",
    "    features = [col for col in df_red.columns if col != target]\n",
    "    X_red, y_red = df_red[features].values, df_red[target].values\n",
    "    if scale:\n",
    "        X_red = scaler.transform(X_red)\n",
    "    \n",
    "    y_red = tf.keras.utils.to_categorical(y_red)\n",
    "    y_red = np.delete(y_red, np.where(~y_red.any(axis=0)), axis=1)\n",
    "    \n",
    "    if not permute:\n",
    "        return df_white, df_red, X_train, y_train, X_test, y_test, X_red, y_red \n",
    "    else:\n",
    "        perm_1 = np.random.permutation(range(11))[:perm_features]\n",
    "        perm_2 = np.random.permutation(range(11))[:perm_features]\n",
    "        \n",
    "        X_cd = X_test.copy()\n",
    "        X_cd[:, perm_1] = X_cd[:, perm_2]\n",
    "        \n",
    "        y_cd = y_test\n",
    "        return df_white, df_red, X_train, y_train, X_test, y_test, X_cd, y_cd \n",
    "\n",
    "def model_wines(binary_target=True, nb_units=100):\n",
    "    \n",
    "    x_in = tf.keras.layers.Input(shape=(11, ))\n",
    "    x = tf.keras.layers.Dense(nb_units, activation='relu')(x_in)\n",
    "    #x = tf.keras.layers.Dense(50, activation='relu')(x_in)\n",
    "    if binary_target:\n",
    "        out = tf.keras.layers.Dense(2, activation='softmax')(x)\n",
    "    else:\n",
    "        out = tf.keras.layers.Dense(7, activation='softmax')(x)\n",
    "    clf = tf.keras.models.Model(x_in, out)\n",
    "    clf.compile(loss='categorical_crossentropy', optimizer='Adam', metrics=['accuracy'])\n",
    "    \n",
    "    clf.summary()\n",
    "    return clf"
   ]
  },
  {
   "cell_type": "markdown",
   "metadata": {},
   "source": [
    "# Data prep"
   ]
  },
  {
   "cell_type": "code",
   "execution_count": 37,
   "metadata": {
    "collapsed": true
   },
   "outputs": [],
   "source": [
    "df_white, df_red, X_train, y_train, X_test, y_test, X_cd, y_cd = prepare_data_wines(path_white='/home/Gigio/git/fork-odcd/data/wine/winequality_white.csv',\n",
    "                                                                                    path_red='/home/Gigio/git/fork-odcd/data/wine/winequality_red.csv',\n",
    "                                                                                    permute=True, perm_features=4)"
   ]
  },
  {
   "cell_type": "markdown",
   "metadata": {},
   "source": [
    "# Train model"
   ]
  },
  {
   "cell_type": "code",
   "execution_count": 20,
   "metadata": {},
   "outputs": [
    {
     "name": "stdout",
     "output_type": "stream",
     "text": [
      "_________________________________________________________________\n",
      "Layer (type)                 Output Shape              Param #   \n",
      "=================================================================\n",
      "input_2 (InputLayer)         (None, 11)                0         \n",
      "_________________________________________________________________\n",
      "dense_5 (Dense)              (None, 200)               2400      \n",
      "_________________________________________________________________\n",
      "dense_6 (Dense)              (None, 2)                 402       \n",
      "=================================================================\n",
      "Total params: 2,802\n",
      "Trainable params: 2,802\n",
      "Non-trainable params: 0\n",
      "_________________________________________________________________\n"
     ]
    }
   ],
   "source": [
    "clf = model_wines(nb_units=200)"
   ]
  },
  {
   "cell_type": "code",
   "execution_count": 21,
   "metadata": {},
   "outputs": [
    {
     "name": "stdout",
     "output_type": "stream",
     "text": [
      "Train on 3673 samples, validate on 1225 samples\n",
      "Epoch 1/100\n",
      "3673/3673 [==============================] - 1s 168us/step - loss: 0.5951 - acc: 0.6665 - val_loss: 0.5386 - val_acc: 0.7233\n",
      "Epoch 2/100\n",
      "3673/3673 [==============================] - 0s 78us/step - loss: 0.5426 - acc: 0.7095 - val_loss: 0.5125 - val_acc: 0.7445\n",
      "Epoch 3/100\n",
      "3673/3673 [==============================] - 0s 78us/step - loss: 0.5220 - acc: 0.7326 - val_loss: 0.5019 - val_acc: 0.7584\n",
      "Epoch 4/100\n",
      "3673/3673 [==============================] - 0s 79us/step - loss: 0.5119 - acc: 0.7405 - val_loss: 0.4983 - val_acc: 0.7600\n",
      "Epoch 5/100\n",
      "3673/3673 [==============================] - 0s 78us/step - loss: 0.5081 - acc: 0.7454 - val_loss: 0.5217 - val_acc: 0.7429\n",
      "Epoch 6/100\n",
      "3673/3673 [==============================] - 0s 80us/step - loss: 0.5057 - acc: 0.7433 - val_loss: 0.5016 - val_acc: 0.7633\n",
      "Epoch 7/100\n",
      "3673/3673 [==============================] - 0s 79us/step - loss: 0.5037 - acc: 0.7520 - val_loss: 0.4920 - val_acc: 0.7682\n",
      "Epoch 8/100\n",
      "3673/3673 [==============================] - 0s 78us/step - loss: 0.5049 - acc: 0.7482 - val_loss: 0.4924 - val_acc: 0.7649\n",
      "Epoch 9/100\n",
      "3673/3673 [==============================] - 0s 79us/step - loss: 0.4995 - acc: 0.7544 - val_loss: 0.4951 - val_acc: 0.7698\n",
      "Epoch 10/100\n",
      "3673/3673 [==============================] - 0s 81us/step - loss: 0.4976 - acc: 0.7533 - val_loss: 0.4890 - val_acc: 0.7657\n",
      "Epoch 11/100\n",
      "3673/3673 [==============================] - 0s 80us/step - loss: 0.4973 - acc: 0.7550 - val_loss: 0.4873 - val_acc: 0.7706\n",
      "Epoch 12/100\n",
      "3673/3673 [==============================] - 0s 79us/step - loss: 0.4969 - acc: 0.7558 - val_loss: 0.4868 - val_acc: 0.7714\n",
      "Epoch 13/100\n",
      "3673/3673 [==============================] - 0s 80us/step - loss: 0.4949 - acc: 0.7585 - val_loss: 0.4841 - val_acc: 0.7731\n",
      "Epoch 14/100\n",
      "3673/3673 [==============================] - 0s 78us/step - loss: 0.4912 - acc: 0.7596 - val_loss: 0.4980 - val_acc: 0.7682\n",
      "Epoch 15/100\n",
      "3673/3673 [==============================] - 0s 79us/step - loss: 0.4901 - acc: 0.7593 - val_loss: 0.4851 - val_acc: 0.7706\n",
      "Epoch 16/100\n",
      "3673/3673 [==============================] - 0s 78us/step - loss: 0.4872 - acc: 0.7659 - val_loss: 0.4844 - val_acc: 0.7755\n",
      "Epoch 17/100\n",
      "3673/3673 [==============================] - 0s 79us/step - loss: 0.4864 - acc: 0.7629 - val_loss: 0.4906 - val_acc: 0.7576\n",
      "Epoch 18/100\n",
      "3673/3673 [==============================] - 0s 78us/step - loss: 0.4862 - acc: 0.7678 - val_loss: 0.4867 - val_acc: 0.7886\n",
      "Epoch 19/100\n",
      "3673/3673 [==============================] - 0s 79us/step - loss: 0.4840 - acc: 0.7650 - val_loss: 0.4786 - val_acc: 0.7755\n",
      "Epoch 20/100\n",
      "3673/3673 [==============================] - 0s 79us/step - loss: 0.4820 - acc: 0.7710 - val_loss: 0.4779 - val_acc: 0.7763\n",
      "Epoch 21/100\n",
      "3673/3673 [==============================] - 0s 79us/step - loss: 0.4808 - acc: 0.7626 - val_loss: 0.4774 - val_acc: 0.7780\n",
      "Epoch 22/100\n",
      "3673/3673 [==============================] - 0s 79us/step - loss: 0.4785 - acc: 0.7672 - val_loss: 0.4941 - val_acc: 0.7616\n",
      "Epoch 23/100\n",
      "3673/3673 [==============================] - 0s 79us/step - loss: 0.4785 - acc: 0.7691 - val_loss: 0.4794 - val_acc: 0.7829\n",
      "Epoch 24/100\n",
      "3673/3673 [==============================] - 0s 79us/step - loss: 0.4792 - acc: 0.7686 - val_loss: 0.4758 - val_acc: 0.7771\n",
      "Epoch 25/100\n",
      "3673/3673 [==============================] - 0s 79us/step - loss: 0.4765 - acc: 0.7710 - val_loss: 0.4749 - val_acc: 0.7861\n",
      "Epoch 26/100\n",
      "3673/3673 [==============================] - 0s 79us/step - loss: 0.4750 - acc: 0.7724 - val_loss: 0.4755 - val_acc: 0.7829\n",
      "Epoch 27/100\n",
      "3673/3673 [==============================] - 0s 80us/step - loss: 0.4751 - acc: 0.7735 - val_loss: 0.4729 - val_acc: 0.7796\n",
      "Epoch 28/100\n",
      "3673/3673 [==============================] - 0s 79us/step - loss: 0.4744 - acc: 0.7738 - val_loss: 0.4713 - val_acc: 0.7837\n",
      "Epoch 29/100\n",
      "3673/3673 [==============================] - 0s 78us/step - loss: 0.4752 - acc: 0.7718 - val_loss: 0.4715 - val_acc: 0.7829\n",
      "Epoch 30/100\n",
      "3673/3673 [==============================] - 0s 79us/step - loss: 0.4723 - acc: 0.7732 - val_loss: 0.4713 - val_acc: 0.7771\n",
      "Epoch 31/100\n",
      "3673/3673 [==============================] - 0s 77us/step - loss: 0.4715 - acc: 0.7757 - val_loss: 0.4713 - val_acc: 0.7796\n",
      "Epoch 32/100\n",
      "3673/3673 [==============================] - 0s 78us/step - loss: 0.4693 - acc: 0.7767 - val_loss: 0.4710 - val_acc: 0.7788\n",
      "Epoch 33/100\n",
      "3673/3673 [==============================] - 0s 82us/step - loss: 0.4722 - acc: 0.7735 - val_loss: 0.4745 - val_acc: 0.7820\n",
      "Epoch 34/100\n",
      "3673/3673 [==============================] - 0s 79us/step - loss: 0.4697 - acc: 0.7751 - val_loss: 0.4709 - val_acc: 0.7845\n",
      "Epoch 35/100\n",
      "3673/3673 [==============================] - 0s 78us/step - loss: 0.4682 - acc: 0.7814 - val_loss: 0.4693 - val_acc: 0.7845\n",
      "Epoch 36/100\n",
      "3673/3673 [==============================] - 0s 78us/step - loss: 0.4677 - acc: 0.7778 - val_loss: 0.4692 - val_acc: 0.7763\n",
      "Epoch 37/100\n",
      "3673/3673 [==============================] - 0s 80us/step - loss: 0.4701 - acc: 0.7729 - val_loss: 0.4700 - val_acc: 0.7755\n",
      "Epoch 38/100\n",
      "3673/3673 [==============================] - 0s 79us/step - loss: 0.4660 - acc: 0.7811 - val_loss: 0.4672 - val_acc: 0.7788\n",
      "Epoch 39/100\n",
      "3673/3673 [==============================] - 0s 79us/step - loss: 0.4660 - acc: 0.7776 - val_loss: 0.4699 - val_acc: 0.7788\n",
      "Epoch 40/100\n",
      "3673/3673 [==============================] - 0s 82us/step - loss: 0.4653 - acc: 0.7795 - val_loss: 0.4790 - val_acc: 0.7780\n",
      "Epoch 41/100\n",
      "3673/3673 [==============================] - 0s 83us/step - loss: 0.4647 - acc: 0.7795 - val_loss: 0.4726 - val_acc: 0.7829\n",
      "Epoch 42/100\n",
      "3673/3673 [==============================] - 0s 84us/step - loss: 0.4664 - acc: 0.7800 - val_loss: 0.4709 - val_acc: 0.7853\n",
      "Epoch 43/100\n",
      "3673/3673 [==============================] - 0s 81us/step - loss: 0.4645 - acc: 0.7729 - val_loss: 0.4697 - val_acc: 0.7755\n",
      "Epoch 44/100\n",
      "3673/3673 [==============================] - 0s 81us/step - loss: 0.4638 - acc: 0.7762 - val_loss: 0.4667 - val_acc: 0.7845\n",
      "Epoch 45/100\n",
      "3673/3673 [==============================] - 0s 81us/step - loss: 0.4625 - acc: 0.7784 - val_loss: 0.4740 - val_acc: 0.7837\n",
      "Epoch 46/100\n",
      "3673/3673 [==============================] - 0s 79us/step - loss: 0.4658 - acc: 0.7729 - val_loss: 0.4673 - val_acc: 0.7812\n",
      "Epoch 47/100\n",
      "3673/3673 [==============================] - 0s 82us/step - loss: 0.4620 - acc: 0.7787 - val_loss: 0.4664 - val_acc: 0.7820\n",
      "Epoch 48/100\n",
      "3673/3673 [==============================] - 0s 81us/step - loss: 0.4646 - acc: 0.7800 - val_loss: 0.4665 - val_acc: 0.7837\n",
      "Epoch 49/100\n",
      "3673/3673 [==============================] - 0s 80us/step - loss: 0.4615 - acc: 0.7841 - val_loss: 0.4699 - val_acc: 0.7829\n",
      "Epoch 50/100\n",
      "3673/3673 [==============================] - 0s 78us/step - loss: 0.4610 - acc: 0.7787 - val_loss: 0.4684 - val_acc: 0.7812\n",
      "Epoch 51/100\n",
      "3673/3673 [==============================] - 0s 78us/step - loss: 0.4592 - acc: 0.7822 - val_loss: 0.4739 - val_acc: 0.7829\n",
      "Epoch 52/100\n",
      "3673/3673 [==============================] - 0s 78us/step - loss: 0.4609 - acc: 0.7816 - val_loss: 0.4668 - val_acc: 0.7763\n",
      "Epoch 53/100\n",
      "3673/3673 [==============================] - 0s 79us/step - loss: 0.4622 - acc: 0.7757 - val_loss: 0.4657 - val_acc: 0.7747\n",
      "Epoch 54/100\n",
      "3673/3673 [==============================] - 0s 78us/step - loss: 0.4602 - acc: 0.7792 - val_loss: 0.4718 - val_acc: 0.7812\n",
      "Epoch 55/100\n",
      "3673/3673 [==============================] - 0s 78us/step - loss: 0.4610 - acc: 0.7803 - val_loss: 0.4668 - val_acc: 0.7714\n",
      "Epoch 56/100\n",
      "3673/3673 [==============================] - 0s 79us/step - loss: 0.4577 - acc: 0.7800 - val_loss: 0.4644 - val_acc: 0.7812\n",
      "Epoch 57/100\n",
      "3673/3673 [==============================] - 0s 78us/step - loss: 0.4565 - acc: 0.7811 - val_loss: 0.4642 - val_acc: 0.7804\n",
      "Epoch 58/100\n",
      "3673/3673 [==============================] - 0s 78us/step - loss: 0.4558 - acc: 0.7792 - val_loss: 0.4646 - val_acc: 0.7804\n",
      "Epoch 59/100\n",
      "3673/3673 [==============================] - 0s 78us/step - loss: 0.4581 - acc: 0.7803 - val_loss: 0.4634 - val_acc: 0.7837\n",
      "Epoch 60/100\n"
     ]
    },
    {
     "name": "stdout",
     "output_type": "stream",
     "text": [
      "3673/3673 [==============================] - 0s 78us/step - loss: 0.4556 - acc: 0.7846 - val_loss: 0.4678 - val_acc: 0.7886\n",
      "Epoch 61/100\n",
      "3673/3673 [==============================] - 0s 77us/step - loss: 0.4556 - acc: 0.7816 - val_loss: 0.4658 - val_acc: 0.7780\n",
      "Epoch 62/100\n",
      "3673/3673 [==============================] - 0s 78us/step - loss: 0.4560 - acc: 0.7803 - val_loss: 0.4706 - val_acc: 0.7861\n",
      "Epoch 63/100\n",
      "3673/3673 [==============================] - 0s 78us/step - loss: 0.4586 - acc: 0.7792 - val_loss: 0.4639 - val_acc: 0.7796\n",
      "Epoch 64/100\n",
      "3673/3673 [==============================] - 0s 80us/step - loss: 0.4565 - acc: 0.7822 - val_loss: 0.4740 - val_acc: 0.7780\n",
      "Epoch 65/100\n",
      "3673/3673 [==============================] - 0s 77us/step - loss: 0.4556 - acc: 0.7833 - val_loss: 0.4635 - val_acc: 0.7771\n",
      "Epoch 66/100\n",
      "3673/3673 [==============================] - 0s 80us/step - loss: 0.4546 - acc: 0.7833 - val_loss: 0.4681 - val_acc: 0.7845\n",
      "Epoch 67/100\n",
      "3673/3673 [==============================] - 0s 78us/step - loss: 0.4545 - acc: 0.7841 - val_loss: 0.4639 - val_acc: 0.7845\n",
      "Epoch 68/100\n",
      "3673/3673 [==============================] - 0s 78us/step - loss: 0.4534 - acc: 0.7841 - val_loss: 0.4634 - val_acc: 0.7837\n",
      "Epoch 69/100\n",
      "3673/3673 [==============================] - 0s 78us/step - loss: 0.4533 - acc: 0.7833 - val_loss: 0.4633 - val_acc: 0.7771\n",
      "Epoch 70/100\n",
      "3673/3673 [==============================] - 0s 80us/step - loss: 0.4532 - acc: 0.7844 - val_loss: 0.4631 - val_acc: 0.7804\n",
      "Epoch 71/100\n",
      "3673/3673 [==============================] - 0s 77us/step - loss: 0.4540 - acc: 0.7830 - val_loss: 0.4636 - val_acc: 0.7869\n",
      "Epoch 72/100\n",
      "3673/3673 [==============================] - 0s 78us/step - loss: 0.4521 - acc: 0.7890 - val_loss: 0.4663 - val_acc: 0.7853\n",
      "Epoch 73/100\n",
      "3673/3673 [==============================] - 0s 78us/step - loss: 0.4551 - acc: 0.7825 - val_loss: 0.4628 - val_acc: 0.7812\n",
      "Epoch 74/100\n",
      "3673/3673 [==============================] - 0s 77us/step - loss: 0.4540 - acc: 0.7852 - val_loss: 0.4637 - val_acc: 0.7804\n",
      "Epoch 75/100\n",
      "3673/3673 [==============================] - 0s 79us/step - loss: 0.4520 - acc: 0.7849 - val_loss: 0.4699 - val_acc: 0.7886\n",
      "Epoch 76/100\n",
      "3673/3673 [==============================] - 0s 78us/step - loss: 0.4536 - acc: 0.7844 - val_loss: 0.4631 - val_acc: 0.7780\n",
      "Epoch 77/100\n",
      "3673/3673 [==============================] - 0s 77us/step - loss: 0.4525 - acc: 0.7806 - val_loss: 0.4620 - val_acc: 0.7796\n",
      "Epoch 78/100\n",
      "3673/3673 [==============================] - 0s 80us/step - loss: 0.4508 - acc: 0.7846 - val_loss: 0.4632 - val_acc: 0.7837\n",
      "Epoch 79/100\n",
      "3673/3673 [==============================] - 0s 79us/step - loss: 0.4487 - acc: 0.7868 - val_loss: 0.4662 - val_acc: 0.7714\n",
      "Epoch 80/100\n",
      "3673/3673 [==============================] - 0s 79us/step - loss: 0.4506 - acc: 0.7874 - val_loss: 0.4632 - val_acc: 0.7829\n",
      "Epoch 81/100\n",
      "3673/3673 [==============================] - 0s 78us/step - loss: 0.4501 - acc: 0.7860 - val_loss: 0.4625 - val_acc: 0.7820\n",
      "Epoch 82/100\n",
      "3673/3673 [==============================] - 0s 78us/step - loss: 0.4488 - acc: 0.7879 - val_loss: 0.4617 - val_acc: 0.7853\n",
      "Epoch 83/100\n",
      "3673/3673 [==============================] - 0s 78us/step - loss: 0.4484 - acc: 0.7871 - val_loss: 0.4625 - val_acc: 0.7886\n",
      "Epoch 84/100\n",
      "3673/3673 [==============================] - 0s 78us/step - loss: 0.4517 - acc: 0.7863 - val_loss: 0.4621 - val_acc: 0.7820\n",
      "Epoch 85/100\n",
      "3673/3673 [==============================] - 0s 79us/step - loss: 0.4480 - acc: 0.7836 - val_loss: 0.4623 - val_acc: 0.7886\n",
      "Epoch 86/100\n",
      "3673/3673 [==============================] - 0s 78us/step - loss: 0.4493 - acc: 0.7855 - val_loss: 0.4623 - val_acc: 0.7853\n",
      "Epoch 87/100\n",
      "3673/3673 [==============================] - 0s 79us/step - loss: 0.4482 - acc: 0.7874 - val_loss: 0.4618 - val_acc: 0.7845\n",
      "Epoch 88/100\n",
      "3673/3673 [==============================] - 0s 77us/step - loss: 0.4488 - acc: 0.7846 - val_loss: 0.4619 - val_acc: 0.7829\n",
      "Epoch 89/100\n",
      "3673/3673 [==============================] - 0s 78us/step - loss: 0.4484 - acc: 0.7874 - val_loss: 0.4655 - val_acc: 0.7763\n",
      "Epoch 90/100\n",
      "3673/3673 [==============================] - 0s 78us/step - loss: 0.4466 - acc: 0.7904 - val_loss: 0.4635 - val_acc: 0.7780\n",
      "Epoch 91/100\n",
      "3673/3673 [==============================] - 0s 78us/step - loss: 0.4499 - acc: 0.7863 - val_loss: 0.4672 - val_acc: 0.7829\n",
      "Epoch 92/100\n",
      "3673/3673 [==============================] - 0s 78us/step - loss: 0.4481 - acc: 0.7882 - val_loss: 0.4609 - val_acc: 0.7837\n",
      "Epoch 93/100\n",
      "3673/3673 [==============================] - 0s 78us/step - loss: 0.4456 - acc: 0.7901 - val_loss: 0.4621 - val_acc: 0.7878\n",
      "Epoch 94/100\n",
      "3673/3673 [==============================] - 0s 78us/step - loss: 0.4483 - acc: 0.7882 - val_loss: 0.4601 - val_acc: 0.7845\n",
      "Epoch 95/100\n",
      "3673/3673 [==============================] - 0s 78us/step - loss: 0.4447 - acc: 0.7885 - val_loss: 0.4621 - val_acc: 0.7796\n",
      "Epoch 96/100\n",
      "3673/3673 [==============================] - 0s 81us/step - loss: 0.4450 - acc: 0.7906 - val_loss: 0.4646 - val_acc: 0.7780\n",
      "Epoch 97/100\n",
      "3673/3673 [==============================] - 0s 83us/step - loss: 0.4455 - acc: 0.7857 - val_loss: 0.4615 - val_acc: 0.7845\n",
      "Epoch 98/100\n",
      "3673/3673 [==============================] - 0s 78us/step - loss: 0.4457 - acc: 0.7879 - val_loss: 0.4640 - val_acc: 0.7780\n",
      "Epoch 99/100\n",
      "3673/3673 [==============================] - 0s 76us/step - loss: 0.4451 - acc: 0.7885 - val_loss: 0.4594 - val_acc: 0.7878\n",
      "Epoch 100/100\n",
      "3673/3673 [==============================] - 0s 78us/step - loss: 0.4450 - acc: 0.7882 - val_loss: 0.4641 - val_acc: 0.7861\n"
     ]
    },
    {
     "data": {
      "text/plain": [
       "<tensorflow.python.keras.callbacks.History at 0x7f585016e828>"
      ]
     },
     "execution_count": 21,
     "metadata": {},
     "output_type": "execute_result"
    }
   ],
   "source": [
    "clf.fit(X_train, y_train, epochs=100, validation_data=(X_test, y_test))"
   ]
  },
  {
   "cell_type": "markdown",
   "metadata": {},
   "source": [
    "### Evaluate"
   ]
  },
  {
   "cell_type": "code",
   "execution_count": 38,
   "metadata": {},
   "outputs": [
    {
     "name": "stdout",
     "output_type": "stream",
     "text": [
      "Train\n",
      "Accuracy: 0.7870950176967056\n",
      "Confusion matrix: [[ 868  421]\n",
      " [ 361 2023]]\n",
      "Test\n",
      "Accuracy: 0.7951020408163265\n",
      "Confusion matrix: [[287 127]\n",
      " [124 687]]\n",
      "cd\n",
      "Accuracy: 0.56\n",
      "Confusion matrix: [[364 492]\n",
      " [ 47 322]]\n"
     ]
    }
   ],
   "source": [
    "print('Train')\n",
    "sst.evaluate(clf, X_train, y_train)\n",
    "print('Test')\n",
    "sst.evaluate(clf, X_test, y_test)\n",
    "print('cd')\n",
    "sst.evaluate(clf, X_cd, y_cd)"
   ]
  },
  {
   "cell_type": "markdown",
   "metadata": {},
   "source": [
    "# Symmetries"
   ]
  },
  {
   "cell_type": "code",
   "execution_count": 39,
   "metadata": {},
   "outputs": [
    {
     "name": "stdout",
     "output_type": "stream",
     "text": [
      "WARNING:tensorflow:Output \"input_trans\" missing from loss dictionary. We assume this was done on purpose. The fit and evaluate APIs will not be expecting any data to be passed to \"input_trans\".\n",
      "WARNING:tensorflow:Output \"model_1\" missing from loss dictionary. We assume this was done on purpose. The fit and evaluate APIs will not be expecting any data to be passed to \"model_1\".\n",
      "WARNING:tensorflow:Output \"model_1\" missing from loss dictionary. We assume this was done on purpose. The fit and evaluate APIs will not be expecting any data to be passed to \"model_1\".\n",
      "Vae\n",
      "__________________________________________________________________________________________________\n",
      "Layer (type)                    Output Shape         Param #     Connected to                     \n",
      "==================================================================================================\n",
      "encoder_input (InputLayer)      (None, 11)           0                                            \n",
      "__________________________________________________________________________________________________\n",
      "reshape_2 (Reshape)             (None, 11)           0           encoder_input[0][0]              \n",
      "__________________________________________________________________________________________________\n",
      "dense_10 (Dense)                (None, 128)          1536        reshape_2[0][0]                  \n",
      "__________________________________________________________________________________________________\n",
      "z_mean (Dense)                  (None, 4)            516         dense_10[0][0]                   \n",
      "__________________________________________________________________________________________________\n",
      "z_log_var (Dense)               (None, 4)            516         dense_10[0][0]                   \n",
      "__________________________________________________________________________________________________\n",
      "z (Lambda)                      (None, 4)            0           z_mean[0][0]                     \n",
      "                                                                 z_log_var[0][0]                  \n",
      "__________________________________________________________________________________________________\n",
      "dense_11 (Dense)                (None, 128)          640         z[0][0]                          \n",
      "__________________________________________________________________________________________________\n",
      "dense_12 (Dense)                (None, 11)           1419        dense_11[0][0]                   \n",
      "__________________________________________________________________________________________________\n",
      "input_trans (Reshape)           (None, 11)           0           dense_12[0][0]                   \n",
      "__________________________________________________________________________________________________\n",
      "model_1 (Model)                 (None, 2)            2802        input_trans[0][0]                \n",
      "                                                                 encoder_input[0][0]              \n",
      "==================================================================================================\n",
      "Total params: 7,429\n",
      "Trainable params: 4,627\n",
      "Non-trainable params: 2,802\n",
      "__________________________________________________________________________________________________\n"
     ]
    }
   ],
   "source": [
    "vae = vsf.VaeSymmetryFinder(clf, input_shape=(11, ), output_shape=(2, ), intermediate_dim=128, latent_dim=4)"
   ]
  },
  {
   "cell_type": "code",
   "execution_count": 40,
   "metadata": {},
   "outputs": [
    {
     "name": "stdout",
     "output_type": "stream",
     "text": [
      "Train on 3673 samples, validate on 1225 samples\n",
      "Epoch 1/100\n",
      "3673/3673 [==============================] - 1s 171us/step - loss: 0.2812 - val_loss: 0.2087\n",
      "Epoch 2/100\n",
      "3673/3673 [==============================] - 0s 25us/step - loss: 0.2080 - val_loss: 0.2010\n",
      "Epoch 3/100\n",
      "3673/3673 [==============================] - 0s 25us/step - loss: 0.2002 - val_loss: 0.1944\n",
      "Epoch 4/100\n",
      "3673/3673 [==============================] - 0s 24us/step - loss: 0.1953 - val_loss: 0.1916\n",
      "Epoch 5/100\n",
      "3673/3673 [==============================] - 0s 25us/step - loss: 0.1943 - val_loss: 0.1921\n",
      "Epoch 6/100\n",
      "3673/3673 [==============================] - 0s 25us/step - loss: 0.1944 - val_loss: 0.1895\n",
      "Epoch 7/100\n",
      "3673/3673 [==============================] - 0s 25us/step - loss: 0.1904 - val_loss: 0.1838\n",
      "Epoch 8/100\n",
      "3673/3673 [==============================] - 0s 25us/step - loss: 0.1834 - val_loss: 0.1816\n",
      "Epoch 9/100\n",
      "3673/3673 [==============================] - 0s 25us/step - loss: 0.1763 - val_loss: 0.1600\n",
      "Epoch 10/100\n",
      "3673/3673 [==============================] - 0s 24us/step - loss: 0.1570 - val_loss: 0.1402\n",
      "Epoch 11/100\n",
      "3673/3673 [==============================] - 0s 25us/step - loss: 0.1251 - val_loss: 0.1006\n",
      "Epoch 12/100\n",
      "3673/3673 [==============================] - 0s 26us/step - loss: 0.0946 - val_loss: 0.0776\n",
      "Epoch 13/100\n",
      "3673/3673 [==============================] - 0s 25us/step - loss: 0.0717 - val_loss: 0.0633\n",
      "Epoch 14/100\n",
      "3673/3673 [==============================] - 0s 26us/step - loss: 0.0584 - val_loss: 0.0548\n",
      "Epoch 15/100\n",
      "3673/3673 [==============================] - 0s 25us/step - loss: 0.0524 - val_loss: 0.0503\n",
      "Epoch 16/100\n",
      "3673/3673 [==============================] - 0s 26us/step - loss: 0.0511 - val_loss: 0.0502\n",
      "Epoch 17/100\n",
      "3673/3673 [==============================] - 0s 25us/step - loss: 0.0476 - val_loss: 0.0465\n",
      "Epoch 18/100\n",
      "3673/3673 [==============================] - 0s 26us/step - loss: 0.0465 - val_loss: 0.0444\n",
      "Epoch 19/100\n",
      "3673/3673 [==============================] - 0s 25us/step - loss: 0.0449 - val_loss: 0.0444\n",
      "Epoch 20/100\n",
      "3673/3673 [==============================] - 0s 25us/step - loss: 0.0420 - val_loss: 0.0420\n",
      "Epoch 21/100\n",
      "3673/3673 [==============================] - 0s 26us/step - loss: 0.0397 - val_loss: 0.0384\n",
      "Epoch 22/100\n",
      "3673/3673 [==============================] - 0s 26us/step - loss: 0.0380 - val_loss: 0.0377\n",
      "Epoch 23/100\n",
      "3673/3673 [==============================] - 0s 26us/step - loss: 0.0367 - val_loss: 0.0366\n",
      "Epoch 24/100\n",
      "3673/3673 [==============================] - 0s 26us/step - loss: 0.0346 - val_loss: 0.0335\n",
      "Epoch 25/100\n",
      "3673/3673 [==============================] - 0s 26us/step - loss: 0.0323 - val_loss: 0.0306\n",
      "Epoch 26/100\n",
      "3673/3673 [==============================] - 0s 25us/step - loss: 0.0296 - val_loss: 0.0293\n",
      "Epoch 27/100\n",
      "3673/3673 [==============================] - 0s 25us/step - loss: 0.0283 - val_loss: 0.0264\n",
      "Epoch 28/100\n",
      "3673/3673 [==============================] - 0s 25us/step - loss: 0.0256 - val_loss: 0.0248\n",
      "Epoch 29/100\n",
      "3673/3673 [==============================] - 0s 25us/step - loss: 0.0245 - val_loss: 0.0227\n",
      "Epoch 30/100\n",
      "3673/3673 [==============================] - 0s 26us/step - loss: 0.0219 - val_loss: 0.0224\n",
      "Epoch 31/100\n",
      "3673/3673 [==============================] - 0s 27us/step - loss: 0.0204 - val_loss: 0.0190\n",
      "Epoch 32/100\n",
      "3673/3673 [==============================] - 0s 26us/step - loss: 0.0183 - val_loss: 0.0177\n",
      "Epoch 33/100\n",
      "3673/3673 [==============================] - 0s 25us/step - loss: 0.0166 - val_loss: 0.0154\n",
      "Epoch 34/100\n",
      "3673/3673 [==============================] - 0s 24us/step - loss: 0.0151 - val_loss: 0.0137\n",
      "Epoch 35/100\n",
      "3673/3673 [==============================] - 0s 28us/step - loss: 0.0136 - val_loss: 0.0122\n",
      "Epoch 36/100\n",
      "3673/3673 [==============================] - 0s 25us/step - loss: 0.0122 - val_loss: 0.0110\n",
      "Epoch 37/100\n",
      "3673/3673 [==============================] - 0s 25us/step - loss: 0.0107 - val_loss: 0.0102\n",
      "Epoch 38/100\n",
      "3673/3673 [==============================] - 0s 25us/step - loss: 0.0096 - val_loss: 0.0088\n",
      "Epoch 39/100\n",
      "3673/3673 [==============================] - 0s 25us/step - loss: 0.0087 - val_loss: 0.0080\n",
      "Epoch 40/100\n",
      "3673/3673 [==============================] - 0s 26us/step - loss: 0.0077 - val_loss: 0.0073\n",
      "Epoch 41/100\n",
      "3673/3673 [==============================] - 0s 26us/step - loss: 0.0075 - val_loss: 0.0067\n",
      "Epoch 42/100\n",
      "3673/3673 [==============================] - 0s 25us/step - loss: 0.0069 - val_loss: 0.0063\n",
      "Epoch 43/100\n",
      "3673/3673 [==============================] - 0s 25us/step - loss: 0.0060 - val_loss: 0.0059\n",
      "Epoch 44/100\n",
      "3673/3673 [==============================] - 0s 24us/step - loss: 0.0054 - val_loss: 0.0057\n",
      "Epoch 45/100\n",
      "3673/3673 [==============================] - 0s 25us/step - loss: 0.0050 - val_loss: 0.0052\n",
      "Epoch 46/100\n",
      "3673/3673 [==============================] - 0s 25us/step - loss: 0.0047 - val_loss: 0.0044\n",
      "Epoch 47/100\n",
      "3673/3673 [==============================] - 0s 26us/step - loss: 0.0044 - val_loss: 0.0041\n",
      "Epoch 48/100\n",
      "3673/3673 [==============================] - 0s 25us/step - loss: 0.0039 - val_loss: 0.0045\n",
      "Epoch 49/100\n",
      "3673/3673 [==============================] - 0s 26us/step - loss: 0.0040 - val_loss: 0.0038\n",
      "Epoch 50/100\n",
      "3673/3673 [==============================] - 0s 25us/step - loss: 0.0035 - val_loss: 0.0038\n",
      "Epoch 51/100\n",
      "3673/3673 [==============================] - 0s 25us/step - loss: 0.0033 - val_loss: 0.0038\n",
      "Epoch 52/100\n",
      "3673/3673 [==============================] - 0s 25us/step - loss: 0.0033 - val_loss: 0.0034\n",
      "Epoch 53/100\n",
      "3673/3673 [==============================] - 0s 25us/step - loss: 0.0031 - val_loss: 0.0031\n",
      "Epoch 54/100\n",
      "3673/3673 [==============================] - 0s 25us/step - loss: 0.0031 - val_loss: 0.0034\n",
      "Epoch 55/100\n",
      "3673/3673 [==============================] - 0s 24us/step - loss: 0.0030 - val_loss: 0.0034\n",
      "Epoch 56/100\n",
      "3673/3673 [==============================] - 0s 25us/step - loss: 0.0028 - val_loss: 0.0029\n",
      "Epoch 57/100\n",
      "3673/3673 [==============================] - 0s 26us/step - loss: 0.0027 - val_loss: 0.0028\n",
      "Epoch 58/100\n",
      "3673/3673 [==============================] - 0s 25us/step - loss: 0.0027 - val_loss: 0.0028\n",
      "Epoch 59/100\n",
      "3673/3673 [==============================] - 0s 26us/step - loss: 0.0025 - val_loss: 0.0027\n",
      "Epoch 60/100\n",
      "3673/3673 [==============================] - 0s 25us/step - loss: 0.0025 - val_loss: 0.0027\n",
      "Epoch 61/100\n",
      "3673/3673 [==============================] - 0s 26us/step - loss: 0.0025 - val_loss: 0.0026\n",
      "Epoch 62/100\n",
      "3673/3673 [==============================] - 0s 26us/step - loss: 0.0024 - val_loss: 0.0027\n",
      "Epoch 63/100\n",
      "3673/3673 [==============================] - 0s 26us/step - loss: 0.0024 - val_loss: 0.0025\n",
      "Epoch 64/100\n",
      "3673/3673 [==============================] - 0s 25us/step - loss: 0.0025 - val_loss: 0.0024\n",
      "Epoch 65/100\n",
      "3673/3673 [==============================] - 0s 26us/step - loss: 0.0023 - val_loss: 0.0023\n",
      "Epoch 66/100\n",
      "3673/3673 [==============================] - 0s 24us/step - loss: 0.0022 - val_loss: 0.0024\n",
      "Epoch 67/100\n",
      "3673/3673 [==============================] - 0s 25us/step - loss: 0.0022 - val_loss: 0.0027\n",
      "Epoch 68/100\n",
      "3673/3673 [==============================] - 0s 24us/step - loss: 0.0023 - val_loss: 0.0023\n",
      "Epoch 69/100\n",
      "3673/3673 [==============================] - 0s 24us/step - loss: 0.0021 - val_loss: 0.0027\n",
      "Epoch 70/100\n",
      "3673/3673 [==============================] - 0s 25us/step - loss: 0.0021 - val_loss: 0.0022\n",
      "Epoch 71/100\n",
      "3673/3673 [==============================] - 0s 24us/step - loss: 0.0020 - val_loss: 0.0027\n",
      "Epoch 72/100\n",
      "3673/3673 [==============================] - 0s 26us/step - loss: 0.0021 - val_loss: 0.0021\n",
      "Epoch 73/100\n",
      "3673/3673 [==============================] - ETA: 0s - loss: 0.002 - 0s 28us/step - loss: 0.0019 - val_loss: 0.0021\n",
      "Epoch 74/100\n",
      "3673/3673 [==============================] - 0s 26us/step - loss: 0.0018 - val_loss: 0.0020\n",
      "Epoch 75/100\n",
      "3673/3673 [==============================] - 0s 25us/step - loss: 0.0019 - val_loss: 0.0021\n",
      "Epoch 76/100\n",
      "3673/3673 [==============================] - 0s 23us/step - loss: 0.0019 - val_loss: 0.0021\n",
      "Epoch 77/100\n",
      "3673/3673 [==============================] - 0s 24us/step - loss: 0.0019 - val_loss: 0.0021\n",
      "Epoch 78/100\n"
     ]
    },
    {
     "name": "stdout",
     "output_type": "stream",
     "text": [
      "3673/3673 [==============================] - 0s 25us/step - loss: 0.0018 - val_loss: 0.0021\n",
      "Epoch 79/100\n",
      "3673/3673 [==============================] - 0s 25us/step - loss: 0.0018 - val_loss: 0.0022\n",
      "Epoch 80/100\n",
      "3673/3673 [==============================] - 0s 26us/step - loss: 0.0018 - val_loss: 0.0023\n",
      "Epoch 81/100\n",
      "3673/3673 [==============================] - 0s 25us/step - loss: 0.0018 - val_loss: 0.0019\n",
      "Epoch 82/100\n",
      "3673/3673 [==============================] - 0s 26us/step - loss: 0.0017 - val_loss: 0.0022\n",
      "Epoch 83/100\n",
      "3673/3673 [==============================] - 0s 26us/step - loss: 0.0016 - val_loss: 0.0019\n",
      "Epoch 84/100\n",
      "3673/3673 [==============================] - 0s 25us/step - loss: 0.0016 - val_loss: 0.0019\n",
      "Epoch 85/100\n",
      "3673/3673 [==============================] - 0s 25us/step - loss: 0.0016 - val_loss: 0.0018\n",
      "Epoch 86/100\n",
      "3673/3673 [==============================] - 0s 27us/step - loss: 0.0017 - val_loss: 0.0019\n",
      "Epoch 87/100\n",
      "3673/3673 [==============================] - 0s 27us/step - loss: 0.0017 - val_loss: 0.0019\n",
      "Epoch 88/100\n",
      "3673/3673 [==============================] - 0s 28us/step - loss: 0.0017 - val_loss: 0.0018\n",
      "Epoch 89/100\n",
      "3673/3673 [==============================] - 0s 26us/step - loss: 0.0015 - val_loss: 0.0021\n",
      "Epoch 90/100\n",
      "3673/3673 [==============================] - 0s 26us/step - loss: 0.0017 - val_loss: 0.0018\n",
      "Epoch 91/100\n",
      "3673/3673 [==============================] - 0s 27us/step - loss: 0.0015 - val_loss: 0.0017\n",
      "Epoch 92/100\n",
      "3673/3673 [==============================] - 0s 26us/step - loss: 0.0016 - val_loss: 0.0023\n",
      "Epoch 93/100\n",
      "3673/3673 [==============================] - 0s 26us/step - loss: 0.0021 - val_loss: 0.0020\n",
      "Epoch 94/100\n",
      "3673/3673 [==============================] - 0s 25us/step - loss: 0.0014 - val_loss: 0.0018\n",
      "Epoch 95/100\n",
      "3673/3673 [==============================] - 0s 25us/step - loss: 0.0014 - val_loss: 0.0018\n",
      "Epoch 96/100\n",
      "3673/3673 [==============================] - 0s 24us/step - loss: 0.0014 - val_loss: 0.0016\n",
      "Epoch 97/100\n",
      "3673/3673 [==============================] - 0s 26us/step - loss: 0.0014 - val_loss: 0.0018\n",
      "Epoch 98/100\n",
      "3673/3673 [==============================] - 0s 28us/step - loss: 0.0013 - val_loss: 0.0016\n",
      "Epoch 99/100\n",
      "3673/3673 [==============================] - 0s 24us/step - loss: 0.0014 - val_loss: 0.0015\n",
      "Epoch 100/100\n",
      "3673/3673 [==============================] - 0s 24us/step - loss: 0.0014 - val_loss: 0.0018\n"
     ]
    }
   ],
   "source": [
    "vae.fit(X_train, x_test=X_test, epochs=100)"
   ]
  },
  {
   "cell_type": "code",
   "execution_count": 41,
   "metadata": {
    "collapsed": true
   },
   "outputs": [],
   "source": [
    "vae.save(arch_path='vae_arch_wine.json', weights_path='vae_weights_wine.h5')"
   ]
  },
  {
   "cell_type": "code",
   "execution_count": 42,
   "metadata": {},
   "outputs": [
    {
     "name": "stdout",
     "output_type": "stream",
     "text": [
      "Loaded model from disk\n"
     ]
    }
   ],
   "source": [
    "vae_loaded = vsf.load_vae(arch_path='vae_arch_wine.json', weights_path='vae_weights_wine.h5')"
   ]
  },
  {
   "cell_type": "markdown",
   "metadata": {},
   "source": [
    "# Stream"
   ]
  },
  {
   "cell_type": "code",
   "execution_count": 43,
   "metadata": {
    "collapsed": true
   },
   "outputs": [],
   "source": [
    "# Symmetry signal\n",
    "X_train_perm = np.random.permutation(X_train)\n",
    "X_test_perm = np.random.permutation(X_test)\n",
    "X_cd_perm = np.random.permutation(X_cd)\n",
    "\n",
    "amp = 100\n",
    "kl_train = amp * vae_loaded.signal(X_train_perm)\n",
    "kl_test = amp * vae_loaded.signal(X_test_perm)\n",
    "kl_cd = amp * vae_loaded.signal(X_cd_perm)\n",
    "\n",
    "baseline_std_plus = kl_train.mean() + kl_train.std()\n",
    "baseline_std_minus = kl_train.mean() - kl_train.std()\n",
    "\n",
    "kl_concat = np.concatenate((kl_test, kl_cd))\n",
    "tr = kl_test.shape[0]"
   ]
  },
  {
   "cell_type": "markdown",
   "metadata": {},
   "source": [
    "### Sudden drift"
   ]
  },
  {
   "cell_type": "code",
   "execution_count": 44,
   "metadata": {
    "collapsed": true
   },
   "outputs": [],
   "source": [
    "df = sst.make_data_stream(kl_concat, agg='mean')"
   ]
  },
  {
   "cell_type": "code",
   "execution_count": 45,
   "metadata": {},
   "outputs": [
    {
     "data": {
      "text/plain": [
       "<matplotlib.lines.Line2D at 0x7f57c05004e0>"
      ]
     },
     "execution_count": 45,
     "metadata": {},
     "output_type": "execute_result"
    },
    {
     "data": {
      "image/png": "[encoded data removed]",
      "text/plain": [
       "<Figure size 1080x576 with 1 Axes>"
      ]
     },
     "metadata": {},
     "output_type": "display_data"
    }
   ],
   "source": [
    "ax = df.plot(x='index', y='stream', figsize=(15,8))\n",
    "ax.axhline(baseline_std_plus, c='g')\n",
    "ax.axhline(baseline_std_minus, c='g')"
   ]
  },
  {
   "cell_type": "code",
   "execution_count": 46,
   "metadata": {},
   "outputs": [
    {
     "name": "stdout",
     "output_type": "stream",
     "text": [
      "\u001b[32mChange detected in data: 0.4418957160384678 - at index: 1407\n",
      "\u001b[32mChange detected in data: 0.48213704899678317 - at index: 1439\n",
      "\u001b[32mChange detected in data: 0.5027733902712709 - at index: 1471\n",
      "\u001b[32mChange detected in data: 0.5916003294424979 - at index: 1535\n",
      "\u001b[32mChange detected in data: 0.6389219722438185 - at index: 1599\n",
      "\u001b[32mChange detected in data: 0.7095436002128994 - at index: 1663\n",
      "\u001b[32mChange detected in data: 0.7675493193376324 - at index: 1727\n",
      "\u001b[32mChange detected in data: 0.8091763604307026 - at index: 1791\n",
      "\u001b[32mChange detected in data: 0.8904243770352361 - at index: 1887\n",
      "\u001b[32mChange detected in data: 1.0055350803546383 - at index: 1983\n",
      "\u001b[32mChange detected in data: 1.0219800618790542 - at index: 2015\n",
      "\u001b[32mChange detected in data: 1.1058952265585016 - at index: 2111\n",
      "\u001b[32mChange detected in data: 1.1176313613793514 - at index: 2143\n",
      "\u001b[32mChange detected in data: 1.1656263312782231 - at index: 2239\n",
      "\u001b[32mChange detected in data: 1.1979033957173266 - at index: 2303\n",
      "\u001b[32mChange detected in data: 1.2131559137469101 - at index: 2367\n"
     ]
    }
   ],
   "source": [
    "adwin = ADWIN(delta=0.002)\n",
    "data_stream = df['stream']\n",
    "for i in range(len(data_stream)):\n",
    "    adwin.add_element(data_stream[i])\n",
    "    if adwin.detected_change():\n",
    "        if i < tr:\n",
    "            print(Fore.RED + 'Change detected in data: ' + str(data_stream[i]) + ' - at index: ' + str(i))\n",
    "        else:\n",
    "            print(Fore.GREEN + 'Change detected in data: ' + str(data_stream[i]) + ' - at index: ' + str(i))"
   ]
  },
  {
   "cell_type": "markdown",
   "metadata": {
    "collapsed": true
   },
   "source": [
    "### Gradual drift"
   ]
  },
  {
   "cell_type": "code",
   "execution_count": 58,
   "metadata": {},
   "outputs": [
    {
     "name": "stdout",
     "output_type": "stream",
     "text": [
      "Sample 0 of 2000\n",
      "Sample 1000 of 2000\n"
     ]
    }
   ],
   "source": [
    "cd_start = 500\n",
    "cd_full = int(2 * cd_start)\n",
    "nb_samples_tot = 2000\n",
    "start = 0\n",
    "df = sst.rolling_stats(vae, X_test, y_test, X_cd, y_cd, cd_start, cd_full, nb_samples_tot, start)"
   ]
  },
  {
   "cell_type": "code",
   "execution_count": 59,
   "metadata": {},
   "outputs": [
    {
     "data": {
      "image/png": "[encoded data removed]",
      "text/plain": [
       "<Figure size 1080x576 with 4 Axes>"
      ]
     },
     "metadata": {},
     "output_type": "display_data"
    }
   ],
   "source": [
    "# Signal NOT apmlified\n",
    "axs = df[['contamination', 'accuracy','entropy_mean', 'entropy_var']].plot(logy = False, subplots=True, figsize = (15, 8))\n",
    "for ax in axs:\n",
    "    ax.axvline(cd_start, c='r', linestyle='dashed')\n",
    "    ax.axvline(cd_full, c='r', linestyle='dashed')"
   ]
  },
  {
   "cell_type": "code",
   "execution_count": 62,
   "metadata": {},
   "outputs": [
    {
     "data": {
      "text/plain": [
       "<matplotlib.lines.Line2D at 0x7f57b8cdf588>"
      ]
     },
     "execution_count": 62,
     "metadata": {},
     "output_type": "execute_result"
    },
    {
     "data": {
      "image/png": "[encoded data removed]",
      "text/plain": [
       "<Figure size 1080x576 with 2 Axes>"
      ]
     },
     "metadata": {},
     "output_type": "display_data"
    }
   ],
   "source": [
    "axs = df[['contamination', 'entropy_mean']].plot(logy = False, subplots=True, figsize = (15, 8))\n",
    "for ax in axs:\n",
    "    ax.axvline(cd_start, c='r', linestyle='dashed')\n",
    "    ax.axvline(cd_full, c='r', linestyle='dashed')\n",
    "axs[1].axhline(baseline_std_plus / amp, c='g')\n",
    "axs[1].axhline(baseline_std_minus / amp, c='g')"
   ]
  },
  {
   "cell_type": "code",
   "execution_count": 63,
   "metadata": {},
   "outputs": [
    {
     "name": "stdout",
     "output_type": "stream",
     "text": [
      "\u001b[33mChange detected in data: 0.532870470785391 - at index: 895\n",
      "\u001b[33mChange detected in data: 0.5581149304646256 - at index: 927\n",
      "\u001b[33mChange detected in data: 0.6391033791671432 - at index: 959\n",
      "\u001b[33mChange detected in data: 0.6669728090373386 - at index: 991\n",
      "\u001b[32mChange detected in data: 0.7339280963792655 - at index: 1023\n",
      "\u001b[32mChange detected in data: 0.8752678803477916 - at index: 1119\n",
      "\u001b[32mChange detected in data: 0.9150489393389999 - at index: 1151\n",
      "\u001b[32mChange detected in data: 0.9736113353831578 - at index: 1247\n",
      "\u001b[32mChange detected in data: 1.0525102803100936 - at index: 1311\n",
      "\u001b[32mChange detected in data: 1.1545955090002475 - at index: 1407\n",
      "\u001b[32mChange detected in data: 1.1957194370046904 - at index: 1471\n",
      "\u001b[32mChange detected in data: 1.2438291867519289 - at index: 1535\n",
      "\u001b[32mChange detected in data: 1.268591720840845 - at index: 1599\n",
      "\u001b[32mChange detected in data: 1.3695908833055426 - at index: 1695\n",
      "\u001b[32mChange detected in data: 1.4169389214259793 - at index: 1759\n",
      "\u001b[32mChange detected in data: 1.4791203351243318 - at index: 1855\n",
      "\u001b[32mChange detected in data: 1.5186598870354822 - at index: 1919\n",
      "\u001b[32mChange detected in data: 1.552234653648508 - at index: 1983\n"
     ]
    }
   ],
   "source": [
    "data_stream = amp * df['entropy_mean']\n",
    "adwin = ADWIN(delta=0.00002)\n",
    "for i in range(len(data_stream)):\n",
    "    adwin.add_element(data_stream[i])\n",
    "    if adwin.detected_change():\n",
    "        if i < cd_start:\n",
    "            print(Fore.RED + 'Change detected in data: ' + str(data_stream[i]) + ' - at index: ' + str(i))\n",
    "        elif i >= cd_start and i < cd_full:\n",
    "            print(Fore.YELLOW + 'Change detected in data: ' + str(data_stream[i]) + ' - at index: ' + str(i))            \n",
    "        else:\n",
    "            print(Fore.GREEN + 'Change detected in data: ' + str(data_stream[i]) + ' - at index: ' + str(i))"
   ]
  },
  {
   "cell_type": "code",
   "execution_count": null,
   "metadata": {
    "collapsed": true
   },
   "outputs": [],
   "source": []
  },
  {
   "cell_type": "markdown",
   "metadata": {},
   "source": [
    "----"
   ]
  },
  {
   "cell_type": "markdown",
   "metadata": {},
   "source": [
    "# Old"
   ]
  },
  {
   "cell_type": "code",
   "execution_count": 1,
   "metadata": {},
   "outputs": [
    {
     "name": "stderr",
     "output_type": "stream",
     "text": [
      "/home/fdz/anaconda3/lib/python3.7/site-packages/tensorflow/python/framework/dtypes.py:526: FutureWarning: Passing (type, 1) or '1type' as a synonym of type is deprecated; in a future version of numpy, it will be understood as (type, (1,)) / '(1,)type'.\n",
      "  _np_qint8 = np.dtype([(\"qint8\", np.int8, 1)])\n",
      "/home/fdz/anaconda3/lib/python3.7/site-packages/tensorflow/python/framework/dtypes.py:527: FutureWarning: Passing (type, 1) or '1type' as a synonym of type is deprecated; in a future version of numpy, it will be understood as (type, (1,)) / '(1,)type'.\n",
      "  _np_quint8 = np.dtype([(\"quint8\", np.uint8, 1)])\n",
      "/home/fdz/anaconda3/lib/python3.7/site-packages/tensorflow/python/framework/dtypes.py:528: FutureWarning: Passing (type, 1) or '1type' as a synonym of type is deprecated; in a future version of numpy, it will be understood as (type, (1,)) / '(1,)type'.\n",
      "  _np_qint16 = np.dtype([(\"qint16\", np.int16, 1)])\n",
      "/home/fdz/anaconda3/lib/python3.7/site-packages/tensorflow/python/framework/dtypes.py:529: FutureWarning: Passing (type, 1) or '1type' as a synonym of type is deprecated; in a future version of numpy, it will be understood as (type, (1,)) / '(1,)type'.\n",
      "  _np_quint16 = np.dtype([(\"quint16\", np.uint16, 1)])\n",
      "/home/fdz/anaconda3/lib/python3.7/site-packages/tensorflow/python/framework/dtypes.py:530: FutureWarning: Passing (type, 1) or '1type' as a synonym of type is deprecated; in a future version of numpy, it will be understood as (type, (1,)) / '(1,)type'.\n",
      "  _np_qint32 = np.dtype([(\"qint32\", np.int32, 1)])\n",
      "/home/fdz/anaconda3/lib/python3.7/site-packages/tensorflow/python/framework/dtypes.py:535: FutureWarning: Passing (type, 1) or '1type' as a synonym of type is deprecated; in a future version of numpy, it will be understood as (type, (1,)) / '(1,)type'.\n",
      "  np_resource = np.dtype([(\"resource\", np.ubyte, 1)])\n",
      "Using TensorFlow backend.\n"
     ]
    }
   ],
   "source": [
    "import pandas as pd\n",
    "import numpy as np\n",
    "import tensorflow as tf\n",
    "import keras \n",
    "import matplotlib\n",
    "%matplotlib inline"
   ]
  },
  {
   "cell_type": "code",
   "execution_count": 2,
   "metadata": {},
   "outputs": [
    {
     "data": {
      "text/plain": [
       "'1.13.1'"
      ]
     },
     "execution_count": 2,
     "metadata": {},
     "output_type": "execute_result"
    }
   ],
   "source": [
    "tf.__version__"
   ]
  },
  {
   "cell_type": "code",
   "execution_count": 3,
   "metadata": {
    "collapsed": true
   },
   "outputs": [],
   "source": [
    "import sys"
   ]
  },
  {
   "cell_type": "code",
   "execution_count": 4,
   "metadata": {
    "collapsed": true
   },
   "outputs": [],
   "source": [
    "sys.path.append('../odcd/cd/')"
   ]
  },
  {
   "cell_type": "code",
   "execution_count": 5,
   "metadata": {
    "collapsed": true
   },
   "outputs": [],
   "source": [
    "import model_symmetries as vsf"
   ]
  },
  {
   "cell_type": "code",
   "execution_count": 6,
   "metadata": {
    "collapsed": true
   },
   "outputs": [],
   "source": [
    "from scipy.stats import entropy"
   ]
  },
  {
   "cell_type": "markdown",
   "metadata": {},
   "source": [
    "# Data prep"
   ]
  },
  {
   "cell_type": "code",
   "execution_count": 7,
   "metadata": {
    "collapsed": true
   },
   "outputs": [],
   "source": [
    "df_white = pd.read_csv('/home/fdz/git/concept_drift_exps/data/wine/winequality_white.csv')"
   ]
  },
  {
   "cell_type": "code",
   "execution_count": 8,
   "metadata": {},
   "outputs": [
    {
     "data": {
      "text/plain": [
       "(4898, 12)"
      ]
     },
     "execution_count": 8,
     "metadata": {},
     "output_type": "execute_result"
    }
   ],
   "source": [
    "df_white.shape"
   ]
  },
  {
   "cell_type": "code",
   "execution_count": 9,
   "metadata": {},
   "outputs": [
    {
     "data": {
      "text/plain": [
       "<matplotlib.axes._subplots.AxesSubplot at 0x7fe1c97bfd50>"
      ]
     },
     "execution_count": 9,
     "metadata": {},
     "output_type": "execute_result"
    },
    {
     "data": {
      "image/png": "[encoded data removed]",
      "text/plain": [
       "<Figure size 432x288 with 1 Axes>"
      ]
     },
     "metadata": {
      "needs_background": "light"
     },
     "output_type": "display_data"
    }
   ],
   "source": [
    "df_white['quality'].hist(bins=10)"
   ]
  },
  {
   "cell_type": "code",
   "execution_count": 10,
   "metadata": {},
   "outputs": [
    {
     "data": {
      "text/plain": [
       "6    0.448755\n",
       "5    0.297468\n",
       "7    0.179665\n",
       "8    0.035729\n",
       "4    0.033279\n",
       "3    0.004083\n",
       "9    0.001021\n",
       "Name: quality, dtype: float64"
      ]
     },
     "execution_count": 10,
     "metadata": {},
     "output_type": "execute_result"
    }
   ],
   "source": [
    "df_white['quality'].value_counts() / len(df_white)"
   ]
  },
  {
   "cell_type": "code",
   "execution_count": 11,
   "metadata": {},
   "outputs": [
    {
     "data": {
      "text/plain": [
       "1    0.665169\n",
       "0    0.334831\n",
       "Name: target, dtype: float64"
      ]
     },
     "execution_count": 11,
     "metadata": {},
     "output_type": "execute_result"
    }
   ],
   "source": [
    "binary_target = True\n",
    "if binary_target:\n",
    "    df_white['target'] = df_white['quality'].apply(lambda x: 0 if x < 6 else 1)\n",
    "else:\n",
    "    df_white['target'] = df_white['quality']\n",
    "df_white.drop('quality', axis=1, inplace=True)\n",
    "target = 'target'\n",
    "df_white[target].value_counts() / len(df_white)"
   ]
  },
  {
   "cell_type": "code",
   "execution_count": 12,
   "metadata": {
    "collapsed": true
   },
   "outputs": [],
   "source": [
    "features = [col for col in df_white.columns if col != target]"
   ]
  },
  {
   "cell_type": "code",
   "execution_count": 13,
   "metadata": {
    "collapsed": true
   },
   "outputs": [],
   "source": [
    "X, y = df_white[features].values, df_white[target].values"
   ]
  },
  {
   "cell_type": "code",
   "execution_count": 14,
   "metadata": {
    "collapsed": true
   },
   "outputs": [],
   "source": [
    "from sklearn.model_selection import train_test_split"
   ]
  },
  {
   "cell_type": "code",
   "execution_count": 15,
   "metadata": {
    "collapsed": true
   },
   "outputs": [],
   "source": [
    "X_train, X_test, y_train, y_test = train_test_split(X, y)"
   ]
  },
  {
   "cell_type": "code",
   "execution_count": 16,
   "metadata": {
    "collapsed": true
   },
   "outputs": [],
   "source": [
    "from sklearn.preprocessing import MinMaxScaler"
   ]
  },
  {
   "cell_type": "code",
   "execution_count": 17,
   "metadata": {
    "collapsed": true
   },
   "outputs": [],
   "source": [
    "scale = True\n",
    "if scale:\n",
    "    scaler = MinMaxScaler()\n",
    "    scaler.fit(X_train)\n",
    "    X_train = scaler.transform(X_train)\n",
    "    X_test = scaler.transform(X_test)"
   ]
  },
  {
   "cell_type": "code",
   "execution_count": 18,
   "metadata": {
    "collapsed": true
   },
   "outputs": [],
   "source": [
    "freq = (df_white[target].value_counts() / len(df_white)).values"
   ]
  },
  {
   "cell_type": "code",
   "execution_count": 19,
   "metadata": {
    "collapsed": true
   },
   "outputs": [],
   "source": [
    "samples_weights = [1/freq[i] for i in y_train]"
   ]
  },
  {
   "cell_type": "code",
   "execution_count": 20,
   "metadata": {
    "collapsed": true
   },
   "outputs": [],
   "source": [
    "samples_weights = np.asarray(samples_weights)"
   ]
  },
  {
   "cell_type": "markdown",
   "metadata": {},
   "source": [
    "# Logistic regression"
   ]
  },
  {
   "cell_type": "code",
   "execution_count": 21,
   "metadata": {
    "collapsed": true
   },
   "outputs": [],
   "source": [
    "from sklearn.linear_model import LogisticRegression"
   ]
  },
  {
   "cell_type": "code",
   "execution_count": 22,
   "metadata": {},
   "outputs": [
    {
     "name": "stderr",
     "output_type": "stream",
     "text": [
      "/home/fdz/anaconda3/lib/python3.7/site-packages/sklearn/linear_model/logistic.py:432: FutureWarning: Default solver will be changed to 'lbfgs' in 0.22. Specify a solver to silence this warning.\n",
      "  FutureWarning)\n"
     ]
    },
    {
     "data": {
      "text/plain": [
       "LogisticRegression(C=1.0, class_weight=None, dual=False, fit_intercept=True,\n",
       "                   intercept_scaling=1, l1_ratio=None, max_iter=100,\n",
       "                   multi_class='warn', n_jobs=None, penalty='l2',\n",
       "                   random_state=None, solver='warn', tol=0.0001, verbose=0,\n",
       "                   warm_start=False)"
      ]
     },
     "execution_count": 22,
     "metadata": {},
     "output_type": "execute_result"
    }
   ],
   "source": [
    "lg = LogisticRegression()\n",
    "lg.fit(X_train, y_train)"
   ]
  },
  {
   "cell_type": "code",
   "execution_count": 23,
   "metadata": {
    "collapsed": true
   },
   "outputs": [],
   "source": [
    "from sklearn.metrics import accuracy_score, confusion_matrix"
   ]
  },
  {
   "cell_type": "code",
   "execution_count": 24,
   "metadata": {
    "collapsed": true
   },
   "outputs": [],
   "source": [
    "y_preds_train = lg.predict(X_train)\n",
    "y_preds_test = lg.predict(X_test)"
   ]
  },
  {
   "cell_type": "code",
   "execution_count": 25,
   "metadata": {},
   "outputs": [
    {
     "data": {
      "text/plain": [
       "0.756057718486251"
      ]
     },
     "execution_count": 25,
     "metadata": {},
     "output_type": "execute_result"
    }
   ],
   "source": [
    "accuracy_score(y_preds_train, y_train)"
   ]
  },
  {
   "cell_type": "code",
   "execution_count": 26,
   "metadata": {},
   "outputs": [
    {
     "data": {
      "text/plain": [
       "array([[ 609,  275],\n",
       "       [ 621, 2168]])"
      ]
     },
     "execution_count": 26,
     "metadata": {},
     "output_type": "execute_result"
    }
   ],
   "source": [
    "confusion_matrix(y_preds_train, y_train)"
   ]
  },
  {
   "cell_type": "code",
   "execution_count": 27,
   "metadata": {},
   "outputs": [
    {
     "data": {
      "text/plain": [
       "0.7281632653061224"
      ]
     },
     "execution_count": 27,
     "metadata": {},
     "output_type": "execute_result"
    }
   ],
   "source": [
    "accuracy_score(y_preds_test, y_test)"
   ]
  },
  {
   "cell_type": "code",
   "execution_count": 28,
   "metadata": {},
   "outputs": [
    {
     "data": {
      "text/plain": [
       "array([[183, 106],\n",
       "       [227, 709]])"
      ]
     },
     "execution_count": 28,
     "metadata": {},
     "output_type": "execute_result"
    }
   ],
   "source": [
    "confusion_matrix(y_preds_test, y_test)"
   ]
  },
  {
   "cell_type": "markdown",
   "metadata": {},
   "source": [
    "# Gxb"
   ]
  },
  {
   "cell_type": "code",
   "execution_count": 29,
   "metadata": {
    "collapsed": true
   },
   "outputs": [],
   "source": [
    "from xgboost import XGBClassifier"
   ]
  },
  {
   "cell_type": "code",
   "execution_count": 30,
   "metadata": {
    "collapsed": true
   },
   "outputs": [],
   "source": [
    "xgb = XGBClassifier(max_depth=10, n_estimators=100)"
   ]
  },
  {
   "cell_type": "code",
   "execution_count": 31,
   "metadata": {},
   "outputs": [
    {
     "data": {
      "text/plain": [
       "XGBClassifier(base_score=0.5, booster='gbtree', colsample_bylevel=1,\n",
       "              colsample_bynode=1, colsample_bytree=1, gamma=0,\n",
       "              learning_rate=0.1, max_delta_step=0, max_depth=10,\n",
       "              min_child_weight=1, missing=None, n_estimators=100, n_jobs=1,\n",
       "              nthread=None, objective='binary:logistic', random_state=0,\n",
       "              reg_alpha=0, reg_lambda=1, scale_pos_weight=1, seed=None,\n",
       "              silent=None, subsample=1, verbosity=1)"
      ]
     },
     "execution_count": 31,
     "metadata": {},
     "output_type": "execute_result"
    }
   ],
   "source": [
    "xgb.fit(X_train, y_train)"
   ]
  },
  {
   "cell_type": "code",
   "execution_count": 32,
   "metadata": {
    "collapsed": true
   },
   "outputs": [],
   "source": [
    "y_preds_train = xgb.predict(X_train)\n",
    "y_preds_test = xgb.predict(X_test)"
   ]
  },
  {
   "cell_type": "code",
   "execution_count": 33,
   "metadata": {},
   "outputs": [
    {
     "data": {
      "text/plain": [
       "0.9970051728832018"
      ]
     },
     "execution_count": 33,
     "metadata": {},
     "output_type": "execute_result"
    }
   ],
   "source": [
    "accuracy_score(y_preds_train, y_train)"
   ]
  },
  {
   "cell_type": "code",
   "execution_count": 34,
   "metadata": {},
   "outputs": [
    {
     "data": {
      "text/plain": [
       "array([[1220,    1],\n",
       "       [  10, 2442]])"
      ]
     },
     "execution_count": 34,
     "metadata": {},
     "output_type": "execute_result"
    }
   ],
   "source": [
    "confusion_matrix(y_preds_train, y_train)"
   ]
  },
  {
   "cell_type": "code",
   "execution_count": 35,
   "metadata": {},
   "outputs": [
    {
     "data": {
      "text/plain": [
       "0.8130612244897959"
      ]
     },
     "execution_count": 35,
     "metadata": {},
     "output_type": "execute_result"
    }
   ],
   "source": [
    "accuracy_score(y_preds_test, y_test)"
   ]
  },
  {
   "cell_type": "code",
   "execution_count": 36,
   "metadata": {},
   "outputs": [
    {
     "data": {
      "text/plain": [
       "array([[274,  93],\n",
       "       [136, 722]])"
      ]
     },
     "execution_count": 36,
     "metadata": {},
     "output_type": "execute_result"
    }
   ],
   "source": [
    "confusion_matrix(y_preds_test, y_test)"
   ]
  },
  {
   "cell_type": "markdown",
   "metadata": {},
   "source": [
    "# NN"
   ]
  },
  {
   "cell_type": "code",
   "execution_count": 37,
   "metadata": {
    "collapsed": true
   },
   "outputs": [],
   "source": [
    "y_train = tf.keras.utils.to_categorical(y_train)\n",
    "y_test = tf.keras.utils.to_categorical(y_test)"
   ]
  },
  {
   "cell_type": "code",
   "execution_count": 38,
   "metadata": {
    "collapsed": true
   },
   "outputs": [],
   "source": [
    "y_train = np.delete(y_train, np.where(~y_train.any(axis=0)), axis=1)\n",
    "y_test = np.delete(y_test, np.where(~y_test.any(axis=0)), axis=1)"
   ]
  },
  {
   "cell_type": "code",
   "execution_count": 39,
   "metadata": {
    "collapsed": true
   },
   "outputs": [],
   "source": [
    "def model():\n",
    "    \n",
    "    x_in = tf.keras.layers.Input(shape=(11, ))\n",
    "    x = tf.keras.layers.Dense(100, activation='relu')(x_in)\n",
    "    #x = tf.keras.layers.Dense(50, activation='relu')(x_in)\n",
    "    if binary_target:\n",
    "        out = tf.keras.layers.Dense(2, activation='softmax')(x)\n",
    "    else:\n",
    "        out = tf.keras.layers.Dense(7, activation='softmax')(x)\n",
    "    clf = tf.keras.models.Model(x_in, out)\n",
    "    clf.compile(loss='categorical_crossentropy', optimizer='Adam', metrics=['accuracy'])\n",
    "    \n",
    "    clf.summary()\n",
    "    return clf"
   ]
  },
  {
   "cell_type": "code",
   "execution_count": 40,
   "metadata": {},
   "outputs": [
    {
     "name": "stdout",
     "output_type": "stream",
     "text": [
      "WARNING:tensorflow:From /home/fdz/anaconda3/lib/python3.7/site-packages/tensorflow/python/ops/resource_variable_ops.py:435: colocate_with (from tensorflow.python.framework.ops) is deprecated and will be removed in a future version.\n",
      "Instructions for updating:\n",
      "Colocations handled automatically by placer.\n",
      "_________________________________________________________________\n",
      "Layer (type)                 Output Shape              Param #   \n",
      "=================================================================\n",
      "input_1 (InputLayer)         (None, 11)                0         \n",
      "_________________________________________________________________\n",
      "dense (Dense)                (None, 100)               1200      \n",
      "_________________________________________________________________\n",
      "dense_1 (Dense)              (None, 2)                 202       \n",
      "=================================================================\n",
      "Total params: 1,402\n",
      "Trainable params: 1,402\n",
      "Non-trainable params: 0\n",
      "_________________________________________________________________\n"
     ]
    }
   ],
   "source": [
    "clf = model()"
   ]
  },
  {
   "cell_type": "code",
   "execution_count": 41,
   "metadata": {},
   "outputs": [
    {
     "data": {
      "text/plain": [
       "(array([], dtype=int64),)"
      ]
     },
     "execution_count": 41,
     "metadata": {},
     "output_type": "execute_result"
    }
   ],
   "source": [
    "np.where(~y_test.any(axis=0))"
   ]
  },
  {
   "cell_type": "code",
   "execution_count": 42,
   "metadata": {},
   "outputs": [
    {
     "name": "stdout",
     "output_type": "stream",
     "text": [
      "(3673, 2) (1225, 2)\n"
     ]
    }
   ],
   "source": [
    "print(y_train.shape, y_test.shape)"
   ]
  },
  {
   "cell_type": "code",
   "execution_count": 43,
   "metadata": {},
   "outputs": [
    {
     "data": {
      "text/plain": [
       "array([1.5033763 , 1.5033763 , 1.5033763 , ..., 2.98658537, 2.98658537,\n",
       "       2.98658537])"
      ]
     },
     "execution_count": 43,
     "metadata": {},
     "output_type": "execute_result"
    }
   ],
   "source": [
    "samples_weights"
   ]
  },
  {
   "cell_type": "code",
   "execution_count": 44,
   "metadata": {},
   "outputs": [
    {
     "name": "stdout",
     "output_type": "stream",
     "text": [
      "Train on 3673 samples, validate on 1225 samples\n",
      "WARNING:tensorflow:From /home/fdz/anaconda3/lib/python3.7/site-packages/tensorflow/python/ops/math_ops.py:3066: to_int32 (from tensorflow.python.ops.math_ops) is deprecated and will be removed in a future version.\n",
      "Instructions for updating:\n",
      "Use tf.cast instead.\n",
      "Epoch 1/10\n",
      "3673/3673 [==============================] - 0s 60us/sample - loss: 0.6042 - acc: 0.6659 - val_loss: 0.5697 - val_acc: 0.6841\n",
      "Epoch 2/10\n",
      "3673/3673 [==============================] - 0s 24us/sample - loss: 0.5487 - acc: 0.7065 - val_loss: 0.5378 - val_acc: 0.7127\n",
      "Epoch 3/10\n",
      "3673/3673 [==============================] - 0s 23us/sample - loss: 0.5244 - acc: 0.7351 - val_loss: 0.5267 - val_acc: 0.7216\n",
      "Epoch 4/10\n",
      "3673/3673 [==============================] - 0s 23us/sample - loss: 0.5129 - acc: 0.7427 - val_loss: 0.5182 - val_acc: 0.7241\n",
      "Epoch 5/10\n",
      "3673/3673 [==============================] - 0s 25us/sample - loss: 0.5081 - acc: 0.7517 - val_loss: 0.5166 - val_acc: 0.7273\n",
      "Epoch 6/10\n",
      "3673/3673 [==============================] - 0s 25us/sample - loss: 0.5044 - acc: 0.7547 - val_loss: 0.5229 - val_acc: 0.7355\n",
      "Epoch 7/10\n",
      "3673/3673 [==============================] - 0s 25us/sample - loss: 0.5021 - acc: 0.7612 - val_loss: 0.5126 - val_acc: 0.7306\n",
      "Epoch 8/10\n",
      "3673/3673 [==============================] - 0s 25us/sample - loss: 0.5012 - acc: 0.7596 - val_loss: 0.5117 - val_acc: 0.7322\n",
      "Epoch 9/10\n",
      "3673/3673 [==============================] - 0s 25us/sample - loss: 0.4990 - acc: 0.7618 - val_loss: 0.5105 - val_acc: 0.7363\n",
      "Epoch 10/10\n",
      "3673/3673 [==============================] - 0s 26us/sample - loss: 0.4986 - acc: 0.7645 - val_loss: 0.5096 - val_acc: 0.7331\n"
     ]
    },
    {
     "data": {
      "text/plain": [
       "<tensorflow.python.keras.callbacks.History at 0x7fe1c4321d50>"
      ]
     },
     "execution_count": 44,
     "metadata": {},
     "output_type": "execute_result"
    }
   ],
   "source": [
    "clf.fit(X_train, y_train, epochs=10, validation_data=(X_test, y_test))"
   ]
  },
  {
   "cell_type": "code",
   "execution_count": null,
   "metadata": {
    "collapsed": true
   },
   "outputs": [],
   "source": []
  },
  {
   "cell_type": "code",
   "execution_count": 45,
   "metadata": {
    "collapsed": true
   },
   "outputs": [],
   "source": [
    "y_preds_train = clf.predict(X_train)\n",
    "y_preds_test = clf.predict(X_test)"
   ]
  },
  {
   "cell_type": "code",
   "execution_count": 46,
   "metadata": {
    "collapsed": true
   },
   "outputs": [],
   "source": [
    "y_train, y_test = np.argmax(y_train, axis=1), np.argmax(y_test, axis=1)\n",
    "y_preds_train, y_preds_test = np.argmax(y_preds_train, axis=1), np.argmax(y_preds_test, axis=1)"
   ]
  },
  {
   "cell_type": "code",
   "execution_count": 47,
   "metadata": {},
   "outputs": [
    {
     "data": {
      "text/plain": [
       "0.7639531717941737"
      ]
     },
     "execution_count": 47,
     "metadata": {},
     "output_type": "execute_result"
    }
   ],
   "source": [
    "accuracy_score(y_preds_train, y_train)"
   ]
  },
  {
   "cell_type": "code",
   "execution_count": 48,
   "metadata": {},
   "outputs": [
    {
     "data": {
      "text/plain": [
       "array([[ 586,  223],\n",
       "       [ 644, 2220]])"
      ]
     },
     "execution_count": 48,
     "metadata": {},
     "output_type": "execute_result"
    }
   ],
   "source": [
    "confusion_matrix(y_preds_train, y_train)"
   ]
  },
  {
   "cell_type": "code",
   "execution_count": 49,
   "metadata": {},
   "outputs": [
    {
     "data": {
      "text/plain": [
       "0.7330612244897959"
      ]
     },
     "execution_count": 49,
     "metadata": {},
     "output_type": "execute_result"
    }
   ],
   "source": [
    "accuracy_score(y_preds_test, y_test)"
   ]
  },
  {
   "cell_type": "code",
   "execution_count": 50,
   "metadata": {},
   "outputs": [
    {
     "data": {
      "text/plain": [
       "array([[169,  86],\n",
       "       [241, 729]])"
      ]
     },
     "execution_count": 50,
     "metadata": {},
     "output_type": "execute_result"
    }
   ],
   "source": [
    "confusion_matrix(y_preds_test, y_test)"
   ]
  },
  {
   "cell_type": "markdown",
   "metadata": {},
   "source": [
    "# Symmetry finder test"
   ]
  },
  {
   "cell_type": "markdown",
   "metadata": {},
   "source": [
    "### Data prep red"
   ]
  },
  {
   "cell_type": "code",
   "execution_count": 51,
   "metadata": {
    "collapsed": true
   },
   "outputs": [],
   "source": [
    "df_red = pd.read_csv('/home/fdz/git/concept_drift_exps/data/wine/winequality_red.csv')"
   ]
  },
  {
   "cell_type": "code",
   "execution_count": 52,
   "metadata": {},
   "outputs": [
    {
     "data": {
      "text/plain": [
       "(1599, 12)"
      ]
     },
     "execution_count": 52,
     "metadata": {},
     "output_type": "execute_result"
    }
   ],
   "source": [
    "df_red.shape"
   ]
  },
  {
   "cell_type": "code",
   "execution_count": 53,
   "metadata": {},
   "outputs": [
    {
     "data": {
      "text/plain": [
       "<matplotlib.axes._subplots.AxesSubplot at 0x7fe1bc6cc910>"
      ]
     },
     "execution_count": 53,
     "metadata": {},
     "output_type": "execute_result"
    },
    {
     "data": {
      "image/png": "[encoded data removed]",
      "text/plain": [
       "<Figure size 432x288 with 1 Axes>"
      ]
     },
     "metadata": {
      "needs_background": "light"
     },
     "output_type": "display_data"
    }
   ],
   "source": [
    "df_red['quality'].hist(bins=10)"
   ]
  },
  {
   "cell_type": "code",
   "execution_count": 54,
   "metadata": {},
   "outputs": [
    {
     "data": {
      "text/plain": [
       "5    0.425891\n",
       "6    0.398999\n",
       "7    0.124453\n",
       "4    0.033146\n",
       "8    0.011257\n",
       "3    0.006254\n",
       "Name: quality, dtype: float64"
      ]
     },
     "execution_count": 54,
     "metadata": {},
     "output_type": "execute_result"
    }
   ],
   "source": [
    "df_red['quality'].value_counts() / len(df_red)"
   ]
  },
  {
   "cell_type": "code",
   "execution_count": 55,
   "metadata": {},
   "outputs": [
    {
     "data": {
      "text/plain": [
       "1    0.534709\n",
       "0    0.465291\n",
       "Name: target, dtype: float64"
      ]
     },
     "execution_count": 55,
     "metadata": {},
     "output_type": "execute_result"
    }
   ],
   "source": [
    "if binary_target:\n",
    "    df_red['target'] = df_red['quality'].apply(lambda x: 0 if x < 6 else 1)\n",
    "else:\n",
    "    df_red['target'] = df_red['quality']\n",
    "df_red.drop('quality', axis=1, inplace=True)\n",
    "target = 'target'\n",
    "df_red[target].value_counts() / len(df_red)"
   ]
  },
  {
   "cell_type": "code",
   "execution_count": 56,
   "metadata": {
    "collapsed": true
   },
   "outputs": [],
   "source": [
    "features = [col for col in df_red.columns if col != target]"
   ]
  },
  {
   "cell_type": "code",
   "execution_count": 57,
   "metadata": {
    "collapsed": true
   },
   "outputs": [],
   "source": [
    "X_red, y_red = df_red[features].values, df_red[target].values"
   ]
  },
  {
   "cell_type": "code",
   "execution_count": 58,
   "metadata": {
    "collapsed": true
   },
   "outputs": [],
   "source": [
    "if scale:\n",
    "    X_red = scaler.transform(X_red)"
   ]
  },
  {
   "cell_type": "code",
   "execution_count": 59,
   "metadata": {
    "collapsed": true
   },
   "outputs": [],
   "source": [
    "y_preds_red  = clf.predict(X_red)"
   ]
  },
  {
   "cell_type": "code",
   "execution_count": 60,
   "metadata": {
    "collapsed": true
   },
   "outputs": [],
   "source": [
    "y_preds_red = np.argmax(y_preds_red, axis=1)"
   ]
  },
  {
   "cell_type": "code",
   "execution_count": 61,
   "metadata": {},
   "outputs": [
    {
     "data": {
      "text/plain": [
       "0.6560350218886805"
      ]
     },
     "execution_count": 61,
     "metadata": {},
     "output_type": "execute_result"
    }
   ],
   "source": [
    "accuracy_score(y_preds_red, y_red)"
   ]
  },
  {
   "cell_type": "code",
   "execution_count": 62,
   "metadata": {},
   "outputs": [
    {
     "data": {
      "text/plain": [
       "array([[691, 497],\n",
       "       [ 53, 358]])"
      ]
     },
     "execution_count": 62,
     "metadata": {},
     "output_type": "execute_result"
    }
   ],
   "source": [
    "confusion_matrix(y_preds_red, y_red)"
   ]
  },
  {
   "cell_type": "code",
   "execution_count": 63,
   "metadata": {
    "collapsed": true
   },
   "outputs": [],
   "source": [
    "from sklearn.metrics import precision_score, recall_score"
   ]
  },
  {
   "cell_type": "code",
   "execution_count": 64,
   "metadata": {},
   "outputs": [
    {
     "data": {
      "text/plain": [
       "0.894478527607362"
      ]
     },
     "execution_count": 64,
     "metadata": {},
     "output_type": "execute_result"
    }
   ],
   "source": [
    "precision_score(y_preds_test, y_test)"
   ]
  },
  {
   "cell_type": "code",
   "execution_count": 65,
   "metadata": {},
   "outputs": [
    {
     "data": {
      "text/plain": [
       "0.41871345029239765"
      ]
     },
     "execution_count": 65,
     "metadata": {},
     "output_type": "execute_result"
    }
   ],
   "source": [
    "precision_score(y_preds_red, y_red)"
   ]
  },
  {
   "cell_type": "code",
   "execution_count": 66,
   "metadata": {},
   "outputs": [
    {
     "data": {
      "text/plain": [
       "0.7515463917525773"
      ]
     },
     "execution_count": 66,
     "metadata": {},
     "output_type": "execute_result"
    }
   ],
   "source": [
    "recall_score(y_preds_test, y_test)"
   ]
  },
  {
   "cell_type": "code",
   "execution_count": 67,
   "metadata": {},
   "outputs": [
    {
     "data": {
      "text/plain": [
       "0.8710462287104623"
      ]
     },
     "execution_count": 67,
     "metadata": {},
     "output_type": "execute_result"
    }
   ],
   "source": [
    "recall_score(y_preds_red, y_red)"
   ]
  },
  {
   "cell_type": "markdown",
   "metadata": {},
   "source": [
    "### find symmetries"
   ]
  },
  {
   "cell_type": "code",
   "execution_count": 68,
   "metadata": {
    "collapsed": true
   },
   "outputs": [],
   "source": [
    "window = 1000"
   ]
  },
  {
   "cell_type": "code",
   "execution_count": 69,
   "metadata": {
    "collapsed": true
   },
   "outputs": [],
   "source": [
    "def sample_window(X_test, y_test, window):\n",
    "    samples_rnd = np.random.choice(range(len(X_test)), window, replace=False)\n",
    "    X_test_samples = X_test[samples_rnd, :]\n",
    "    y_test_samples = y_test[samples_rnd]\n",
    "    return X_test_samples, y_test_samples"
   ]
  },
  {
   "cell_type": "code",
   "execution_count": 70,
   "metadata": {
    "collapsed": true
   },
   "outputs": [],
   "source": [
    "from importlib import reload"
   ]
  },
  {
   "cell_type": "code",
   "execution_count": 72,
   "metadata": {},
   "outputs": [
    {
     "data": {
      "text/plain": [
       "'1.13.1'"
      ]
     },
     "execution_count": 72,
     "metadata": {},
     "output_type": "execute_result"
    }
   ],
   "source": [
    "tf.__version__"
   ]
  },
  {
   "cell_type": "code",
   "execution_count": null,
   "metadata": {
    "collapsed": true
   },
   "outputs": [],
   "source": []
  },
  {
   "cell_type": "code",
   "execution_count": 73,
   "metadata": {},
   "outputs": [
    {
     "name": "stdout",
     "output_type": "stream",
     "text": [
      "WARNING:tensorflow:Output \"input_trans\" missing from loss dictionary. We assume this was done on purpose. The fit and evaluate APIs will not be expecting any data to be passed to \"input_trans\".\n",
      "WARNING:tensorflow:Output \"model\" missing from loss dictionary. We assume this was done on purpose. The fit and evaluate APIs will not be expecting any data to be passed to \"model\".\n",
      "WARNING:tensorflow:Output \"model\" missing from loss dictionary. We assume this was done on purpose. The fit and evaluate APIs will not be expecting any data to be passed to \"model\".\n",
      "Vae\n",
      "__________________________________________________________________________________________________\n",
      "Layer (type)                    Output Shape         Param #     Connected to                     \n",
      "==================================================================================================\n",
      "encoder_input (InputLayer)      (None, 11)           0                                            \n",
      "__________________________________________________________________________________________________\n",
      "reshape (Reshape)               (None, 11)           0           encoder_input[0][0]              \n",
      "__________________________________________________________________________________________________\n",
      "dense_2 (Dense)                 (None, 512)          6144        reshape[0][0]                    \n",
      "__________________________________________________________________________________________________\n",
      "z_mean (Dense)                  (None, 2)            1026        dense_2[0][0]                    \n",
      "__________________________________________________________________________________________________\n",
      "z_log_var (Dense)               (None, 2)            1026        dense_2[0][0]                    \n",
      "__________________________________________________________________________________________________\n",
      "z (Lambda)                      (None, 2)            0           z_mean[0][0]                     \n",
      "                                                                 z_log_var[0][0]                  \n",
      "__________________________________________________________________________________________________\n",
      "dense_3 (Dense)                 (None, 512)          1536        z[0][0]                          \n",
      "__________________________________________________________________________________________________\n",
      "dense_4 (Dense)                 (None, 11)           5643        dense_3[0][0]                    \n",
      "__________________________________________________________________________________________________\n",
      "input_trans (Reshape)           (None, 11)           0           dense_4[0][0]                    \n",
      "__________________________________________________________________________________________________\n",
      "model (Model)                   (None, 2)            1402        input_trans[0][0]                \n",
      "                                                                 encoder_input[0][0]              \n",
      "==================================================================================================\n",
      "Total params: 16,777\n",
      "Trainable params: 15,375\n",
      "Non-trainable params: 1,402\n",
      "__________________________________________________________________________________________________\n"
     ]
    }
   ],
   "source": [
    "vae = vsf.VaeSymmetryFinder(clf, input_shape=(11,), output_shape=(2, ), intermediate_dim=512)"
   ]
  },
  {
   "cell_type": "code",
   "execution_count": 74,
   "metadata": {
    "scrolled": true
   },
   "outputs": [
    {
     "name": "stdout",
     "output_type": "stream",
     "text": [
      "Train on 3673 samples, validate on 1225 samples\n",
      "Epoch 1/10\n",
      "3673/3673 [==============================] - 0s 89us/sample - loss: 0.1326 - val_loss: 0.1223\n",
      "Epoch 2/10\n",
      "3673/3673 [==============================] - 0s 16us/sample - loss: 0.1076 - val_loss: 0.0771\n",
      "Epoch 3/10\n",
      "3673/3673 [==============================] - 0s 17us/sample - loss: 0.0425 - val_loss: 0.0237\n",
      "Epoch 4/10\n",
      "3673/3673 [==============================] - 0s 17us/sample - loss: 0.0128 - val_loss: 0.0062\n",
      "Epoch 5/10\n",
      "3673/3673 [==============================] - 0s 17us/sample - loss: 0.0038 - val_loss: 0.0024\n",
      "Epoch 6/10\n",
      "3673/3673 [==============================] - 0s 19us/sample - loss: 0.0017 - val_loss: 0.0012\n",
      "Epoch 7/10\n",
      "3673/3673 [==============================] - 0s 17us/sample - loss: 0.0011 - val_loss: 8.3181e-04\n",
      "Epoch 8/10\n",
      "3673/3673 [==============================] - 0s 19us/sample - loss: 8.0437e-04 - val_loss: 6.7495e-04\n",
      "Epoch 9/10\n",
      "3673/3673 [==============================] - 0s 21us/sample - loss: 6.4321e-04 - val_loss: 5.7185e-04\n",
      "Epoch 10/10\n",
      "3673/3673 [==============================] - 0s 21us/sample - loss: 5.2511e-04 - val_loss: 4.5636e-04\n"
     ]
    }
   ],
   "source": [
    "vae.fit(X_train, x_test=X_test, epochs=10)"
   ]
  },
  {
   "cell_type": "code",
   "execution_count": 75,
   "metadata": {
    "collapsed": true
   },
   "outputs": [],
   "source": [
    "vae.save()"
   ]
  },
  {
   "cell_type": "code",
   "execution_count": 142,
   "metadata": {},
   "outputs": [
    {
     "data": {
      "text/plain": [
       "<module 'model_symmetries' from '../odcd/cd/model_symmetries.py'>"
      ]
     },
     "execution_count": 142,
     "metadata": {},
     "output_type": "execute_result"
    }
   ],
   "source": [
    "reload(vsf)"
   ]
  },
  {
   "cell_type": "code",
   "execution_count": 143,
   "metadata": {},
   "outputs": [
    {
     "name": "stdout",
     "output_type": "stream",
     "text": [
      "Loaded model from disk\n"
     ]
    }
   ],
   "source": [
    "vae_loaded = vsf.load_vae(arch_path='vae_arch.json', weights_path='vae_weights.h5')"
   ]
  },
  {
   "cell_type": "code",
   "execution_count": 144,
   "metadata": {},
   "outputs": [
    {
     "data": {
      "text/plain": [
       "array([[0.33653846, 0.15819209, 0.18072289, 0.11656442, 0.13013699,\n",
       "        0.13937282, 0.45939675, 0.18295739, 0.5462963 , 0.25925926,\n",
       "        0.24193548]])"
      ]
     },
     "execution_count": 144,
     "metadata": {},
     "output_type": "execute_result"
    }
   ],
   "source": [
    "X_test[:1]"
   ]
  },
  {
   "cell_type": "code",
   "execution_count": 145,
   "metadata": {},
   "outputs": [
    {
     "data": {
      "text/plain": [
       "array([[0.59437466, 0.        , 0.        , 0.10507409, 0.        ,\n",
       "        0.14077802, 0.24426079, 0.        , 0.        , 0.        ,\n",
       "        0.04811002],\n",
       "       [0.7266091 , 0.        , 0.        , 0.08965912, 0.        ,\n",
       "        0.07782449, 0.2970873 , 0.        , 0.        , 0.        ,\n",
       "        0.05895159]], dtype=float32)"
      ]
     },
     "execution_count": 145,
     "metadata": {},
     "output_type": "execute_result"
    }
   ],
   "source": [
    "vae_loaded.transform(X_test[:2])"
   ]
  },
  {
   "cell_type": "code",
   "execution_count": 146,
   "metadata": {},
   "outputs": [
    {
     "data": {
      "text/plain": [
       "array([[0.33653846, 0.15819209, 0.18072289, 0.11656442, 0.13013699,\n",
       "        0.13937282, 0.45939675, 0.18295739, 0.5462963 , 0.25925926,\n",
       "        0.24193548],\n",
       "       [0.16346154, 0.33333333, 0.22891566, 0.01687117, 0.09246575,\n",
       "        0.05226481, 0.20649652, 0.08309235, 0.50925926, 0.17283951,\n",
       "        0.40322581]])"
      ]
     },
     "execution_count": 146,
     "metadata": {},
     "output_type": "execute_result"
    }
   ],
   "source": [
    "X_test[:2]"
   ]
  },
  {
   "cell_type": "code",
   "execution_count": 153,
   "metadata": {},
   "outputs": [
    {
     "data": {
      "text/plain": [
       "array([0.8815918 , 1.87956226, 1.0569987 , ..., 1.14164443, 1.31926248,\n",
       "       1.22970915])"
      ]
     },
     "execution_count": 153,
     "metadata": {},
     "output_type": "execute_result"
    }
   ],
   "source": [
    "vae_loaded.signal(X)"
   ]
  },
  {
   "cell_type": "code",
   "execution_count": 132,
   "metadata": {},
   "outputs": [
    {
     "data": {
      "text/plain": [
       "array([[0.41493335, 0.5850667 ]], dtype=float32)"
      ]
     },
     "execution_count": 132,
     "metadata": {},
     "output_type": "execute_result"
    }
   ],
   "source": [
    "vae_loaded.predict_original(X_test[:1])"
   ]
  },
  {
   "cell_type": "code",
   "execution_count": 518,
   "metadata": {
    "collapsed": true
   },
   "outputs": [],
   "source": [
    "vae_outs_test = vae.vae.predict(X_test)\n",
    "symm_samples_test = vae_outs_test[0]\n",
    "orig_preds_test = vae_outs_test[1]\n",
    "trans_preds_test = vae_outs_test[2]\n",
    "    \n",
    "kl_test = entropy(orig_preds_test.T, trans_preds_test.T)\n",
    "baseline_std_plus = kl_test.mean() + kl_test.std()\n",
    "baseline_std_minus = kl_test.mean() - kl_test.std()"
   ]
  },
  {
   "cell_type": "code",
   "execution_count": 519,
   "metadata": {},
   "outputs": [
    {
     "name": "stdout",
     "output_type": "stream",
     "text": [
      "Number of contaminations: 0 \n",
      "1000\n",
      "Number of contaminations: 15 \n",
      "1015\n",
      "Number of contaminations: 30 \n",
      "1030\n",
      "Number of contaminations: 45 \n",
      "1045\n",
      "Number of contaminations: 60 \n",
      "1060\n",
      "Number of contaminations: 75 \n",
      "1075\n",
      "Number of contaminations: 90 \n",
      "1090\n",
      "Number of contaminations: 105 \n",
      "1105\n",
      "Number of contaminations: 120 \n",
      "1120\n",
      "Number of contaminations: 135 \n",
      "1135\n",
      "Number of contaminations: 150 \n",
      "1150\n",
      "Number of contaminations: 165 \n",
      "1165\n",
      "Number of contaminations: 180 \n",
      "1180\n",
      "Number of contaminations: 195 \n",
      "1195\n",
      "Number of contaminations: 210 \n",
      "1210\n",
      "Number of contaminations: 225 \n",
      "1225\n",
      "Number of contaminations: 240 \n",
      "1240\n",
      "Number of contaminations: 255 \n",
      "1255\n",
      "Number of contaminations: 270 \n",
      "1270\n",
      "Number of contaminations: 285 \n",
      "1285\n",
      "Number of contaminations: 300 \n",
      "1300\n",
      "Number of contaminations: 315 \n",
      "1315\n",
      "Number of contaminations: 330 \n",
      "1330\n",
      "Number of contaminations: 345 \n",
      "1345\n",
      "Number of contaminations: 360 \n",
      "1360\n",
      "Number of contaminations: 375 \n",
      "1375\n",
      "Number of contaminations: 390 \n",
      "1390\n",
      "Number of contaminations: 405 \n",
      "1405\n",
      "Number of contaminations: 420 \n",
      "1420\n",
      "Number of contaminations: 435 \n",
      "1435\n",
      "Number of contaminations: 450 \n",
      "1450\n",
      "Number of contaminations: 465 \n",
      "1465\n",
      "Number of contaminations: 480 \n",
      "1480\n",
      "Number of contaminations: 495 \n",
      "1495\n",
      "Number of contaminations: 510 \n",
      "1510\n",
      "Number of contaminations: 525 \n",
      "1525\n",
      "Number of contaminations: 540 \n",
      "1540\n",
      "Number of contaminations: 555 \n",
      "1555\n",
      "Number of contaminations: 570 \n",
      "1570\n",
      "Number of contaminations: 585 \n",
      "1585\n",
      "Number of contaminations: 600 \n",
      "1600\n",
      "Number of contaminations: 615 \n",
      "1615\n",
      "Number of contaminations: 630 \n",
      "1630\n",
      "Number of contaminations: 645 \n",
      "1645\n",
      "Number of contaminations: 660 \n",
      "1660\n",
      "Number of contaminations: 675 \n",
      "1675\n",
      "Number of contaminations: 690 \n",
      "1690\n",
      "Number of contaminations: 705 \n",
      "1705\n",
      "Number of contaminations: 720 \n",
      "1720\n",
      "Number of contaminations: 735 \n",
      "1735\n",
      "Number of contaminations: 750 \n",
      "1750\n",
      "Number of contaminations: 765 \n",
      "1765\n",
      "Number of contaminations: 780 \n",
      "1780\n",
      "Number of contaminations: 795 \n",
      "1795\n",
      "Number of contaminations: 810 \n",
      "1810\n",
      "Number of contaminations: 825 \n",
      "1825\n",
      "Number of contaminations: 840 \n",
      "1840\n",
      "Number of contaminations: 855 \n",
      "1855\n",
      "Number of contaminations: 870 \n",
      "1870\n",
      "Number of contaminations: 885 \n",
      "1885\n",
      "Number of contaminations: 900 \n",
      "1900\n",
      "Number of contaminations: 915 \n",
      "1915\n",
      "Number of contaminations: 930 \n",
      "1930\n",
      "Number of contaminations: 945 \n",
      "1945\n",
      "Number of contaminations: 960 \n",
      "1960\n",
      "Number of contaminations: 975 \n",
      "1975\n",
      "Number of contaminations: 990 \n",
      "1990\n",
      "Number of contaminations: 1005 \n",
      "2005\n",
      "Number of contaminations: 1020 \n",
      "2020\n",
      "Number of contaminations: 1035 \n",
      "2035\n",
      "Number of contaminations: 1050 \n",
      "2050\n",
      "Number of contaminations: 1065 \n",
      "2065\n",
      "Number of contaminations: 1080 \n",
      "2080\n",
      "Number of contaminations: 1095 \n",
      "2095\n",
      "Number of contaminations: 1110 \n",
      "2110\n",
      "Number of contaminations: 1125 \n",
      "2125\n",
      "Number of contaminations: 1140 \n",
      "2140\n",
      "Number of contaminations: 1155 \n",
      "2155\n",
      "Number of contaminations: 1170 \n",
      "2170\n",
      "Number of contaminations: 1185 \n",
      "2185\n",
      "Number of contaminations: 1200 \n",
      "2200\n",
      "Number of contaminations: 1215 \n",
      "2215\n",
      "Number of contaminations: 1230 \n",
      "2230\n",
      "Number of contaminations: 1245 \n",
      "2245\n",
      "Number of contaminations: 1260 \n",
      "2260\n",
      "Number of contaminations: 1275 \n",
      "2275\n",
      "Number of contaminations: 1290 \n",
      "2290\n",
      "Number of contaminations: 1305 \n",
      "2305\n",
      "Number of contaminations: 1320 \n",
      "2320\n",
      "Number of contaminations: 1335 \n",
      "2335\n",
      "Number of contaminations: 1350 \n",
      "2350\n",
      "Number of contaminations: 1365 \n",
      "2365\n",
      "Number of contaminations: 1380 \n",
      "2380\n",
      "Number of contaminations: 1395 \n",
      "2395\n",
      "Number of contaminations: 1410 \n",
      "2410\n",
      "Number of contaminations: 1425 \n",
      "2425\n",
      "Number of contaminations: 1440 \n",
      "2440\n",
      "Number of contaminations: 1455 \n",
      "2455\n",
      "Number of contaminations: 1470 \n",
      "2470\n",
      "Number of contaminations: 1485 \n",
      "2485\n",
      "Number of contaminations: 1500 \n",
      "2500\n",
      "Number of contaminations: 1515 \n",
      "2515\n",
      "Number of contaminations: 1530 \n",
      "2530\n",
      "Number of contaminations: 1545 \n",
      "2545\n",
      "Number of contaminations: 1560 \n",
      "2560\n",
      "Number of contaminations: 1575 \n",
      "2575\n",
      "Number of contaminations: 1590 \n",
      "2590\n"
     ]
    }
   ],
   "source": [
    "mean_test = []\n",
    "std_test = []\n",
    "accs_test = []\n",
    "baseline_stds_plus = []\n",
    "baseline_stds_minus = []\n",
    "\n",
    "for step in range(100):\n",
    "    if step < 99:\n",
    "        x_window, y_window = sample_window(X_test, y_test, window)\n",
    "        vae_outs_test = vae.vae.predict(x_window)\n",
    "        symm_samples_test = vae_outs_test[0]\n",
    "        orig_preds_test = vae_outs_test[1]\n",
    "        trans_preds_test = vae_outs_test[2]\n",
    "    \n",
    "        kl_test = entropy(orig_preds_test.T, trans_preds_test.T)\n",
    "        mean_test.append(kl_test.mean())\n",
    "        std_test.append(kl_test.std())\n",
    "        preds_test = np.argmax(orig_preds_test, axis=1)\n",
    "        accs_test.append(accuracy_score(preds_test, y_window))\n",
    "    \n",
    "        baseline_stds_plus.append(baseline_std_plus)\n",
    "        baseline_stds_minus.append(baseline_std_minus)\n",
    "    else:\n",
    "        for i in range(0, len(X_red), 15):\n",
    "            x_window, y_window = sample_window(X_test, y_test, window)\n",
    "            rnd_idxs_red  = np.random.choice(range(len(X_red)), i)\n",
    "            x_cont_red = X_red[rnd_idxs_red]\n",
    "            y_cont_red = y_red[rnd_idxs_red]\n",
    "            print('Number of contaminations: {} '.format(i))\n",
    "            \n",
    "            x_test_cont = np.concatenate((x_window, x_cont_red), axis=0)\n",
    "            y_test_cont = np.concatenate((y_window, y_cont_red), axis=0)\n",
    "            print(len(x_test_cont))\n",
    "            vae_outs_test = vae.vae.predict(x_test_cont)\n",
    "            symm_samples_test = vae_outs_test[0]\n",
    "            orig_preds_test = vae_outs_test[1]\n",
    "            trans_preds_test = vae_outs_test[2]\n",
    "    \n",
    "            kl_test = entropy(orig_preds_test.T, trans_preds_test.T)\n",
    "            mean_test.append(kl_test.mean())\n",
    "            std_test.append(kl_test.std())\n",
    "            preds_test = np.argmax(orig_preds_test, axis=1)\n",
    "            accs_test.append(accuracy_score(preds_test, y_test_cont))\n",
    "            baseline_stds_plus.append(baseline_std_plus)\n",
    "            baseline_stds_minus.append(baseline_std_minus)"
   ]
  },
  {
   "cell_type": "code",
   "execution_count": 520,
   "metadata": {
    "collapsed": true
   },
   "outputs": [],
   "source": [
    "df = pd.DataFrame()\n",
    "df['accuracy'] = accs_test\n",
    "df['entropy_mean'] = mean_test\n",
    "df['entropy_std'] = std_test\n",
    "df['baseline_std_plus'] = baseline_stds_plus\n",
    "df['baseline_std_minus'] = baseline_stds_minus"
   ]
  },
  {
   "cell_type": "code",
   "execution_count": null,
   "metadata": {
    "collapsed": true
   },
   "outputs": [],
   "source": []
  },
  {
   "cell_type": "code",
   "execution_count": 521,
   "metadata": {},
   "outputs": [
    {
     "data": {
      "text/plain": [
       "array([<matplotlib.axes._subplots.AxesSubplot object at 0x7f1f092b52d0>,\n",
       "       <matplotlib.axes._subplots.AxesSubplot object at 0x7f1f08ae4d90>,\n",
       "       <matplotlib.axes._subplots.AxesSubplot object at 0x7f1f08a8e5d0>],\n",
       "      dtype=object)"
      ]
     },
     "execution_count": 521,
     "metadata": {},
     "output_type": "execute_result"
    },
    {
     "data": {
      "image/png": "[encoded data removed]",
      "text/plain": [
       "<Figure size 1080x576 with 3 Axes>"
      ]
     },
     "metadata": {
      "needs_background": "light"
     },
     "output_type": "display_data"
    }
   ],
   "source": [
    "df[['accuracy', 'entropy_mean', 'entropy_std']].plot(logy = False, subplots=True, figsize = (15, 8))"
   ]
  },
  {
   "cell_type": "code",
   "execution_count": 522,
   "metadata": {},
   "outputs": [
    {
     "data": {
      "text/plain": [
       "<matplotlib.axes._subplots.AxesSubplot at 0x7f1f089a4f10>"
      ]
     },
     "execution_count": 522,
     "metadata": {},
     "output_type": "execute_result"
    },
    {
     "data": {
      "image/png": "[encoded data removed]",
      "text/plain": [
       "<Figure size 1080x576 with 1 Axes>"
      ]
     },
     "metadata": {
      "needs_background": "light"
     },
     "output_type": "display_data"
    }
   ],
   "source": [
    "df[['entropy_mean', 'baseline_std_plus', 'baseline_std_minus']].plot(logy = False, subplots=False, figsize = (15, 8))"
   ]
  },
  {
   "cell_type": "code",
   "execution_count": 523,
   "metadata": {},
   "outputs": [
    {
     "data": {
      "text/html": [
       "<div>\n",
       "<style scoped>\n",
       "    .dataframe tbody tr th:only-of-type {\n",
       "        vertical-align: middle;\n",
       "    }\n",
       "\n",
       "    .dataframe tbody tr th {\n",
       "        vertical-align: top;\n",
       "    }\n",
       "\n",
       "    .dataframe thead th {\n",
       "        text-align: right;\n",
       "    }\n",
       "</style>\n",
       "<table border=\"1\" class=\"dataframe\">\n",
       "  <thead>\n",
       "    <tr style=\"text-align: right;\">\n",
       "      <th></th>\n",
       "      <th>accuracy</th>\n",
       "      <th>entropy_mean</th>\n",
       "      <th>entropy_std</th>\n",
       "      <th>baseline_std_plus</th>\n",
       "      <th>baseline_std_minus</th>\n",
       "    </tr>\n",
       "  </thead>\n",
       "  <tbody>\n",
       "    <tr>\n",
       "      <td>97</td>\n",
       "      <td>0.762000</td>\n",
       "      <td>0.000370</td>\n",
       "      <td>0.000571</td>\n",
       "      <td>0.000998</td>\n",
       "      <td>-0.000234</td>\n",
       "    </tr>\n",
       "    <tr>\n",
       "      <td>98</td>\n",
       "      <td>0.764000</td>\n",
       "      <td>0.000379</td>\n",
       "      <td>0.000606</td>\n",
       "      <td>0.000998</td>\n",
       "      <td>-0.000234</td>\n",
       "    </tr>\n",
       "    <tr>\n",
       "      <td>99</td>\n",
       "      <td>0.754000</td>\n",
       "      <td>0.000378</td>\n",
       "      <td>0.000587</td>\n",
       "      <td>0.000998</td>\n",
       "      <td>-0.000234</td>\n",
       "    </tr>\n",
       "    <tr>\n",
       "      <td>100</td>\n",
       "      <td>0.760591</td>\n",
       "      <td>0.000377</td>\n",
       "      <td>0.000621</td>\n",
       "      <td>0.000998</td>\n",
       "      <td>-0.000234</td>\n",
       "    </tr>\n",
       "    <tr>\n",
       "      <td>101</td>\n",
       "      <td>0.761165</td>\n",
       "      <td>0.000362</td>\n",
       "      <td>0.000572</td>\n",
       "      <td>0.000998</td>\n",
       "      <td>-0.000234</td>\n",
       "    </tr>\n",
       "    <tr>\n",
       "      <td>102</td>\n",
       "      <td>0.753110</td>\n",
       "      <td>0.000392</td>\n",
       "      <td>0.000638</td>\n",
       "      <td>0.000998</td>\n",
       "      <td>-0.000234</td>\n",
       "    </tr>\n",
       "    <tr>\n",
       "      <td>103</td>\n",
       "      <td>0.739623</td>\n",
       "      <td>0.000407</td>\n",
       "      <td>0.000748</td>\n",
       "      <td>0.000998</td>\n",
       "      <td>-0.000234</td>\n",
       "    </tr>\n",
       "    <tr>\n",
       "      <td>104</td>\n",
       "      <td>0.754419</td>\n",
       "      <td>0.000412</td>\n",
       "      <td>0.000747</td>\n",
       "      <td>0.000998</td>\n",
       "      <td>-0.000234</td>\n",
       "    </tr>\n",
       "    <tr>\n",
       "      <td>105</td>\n",
       "      <td>0.746789</td>\n",
       "      <td>0.000400</td>\n",
       "      <td>0.000743</td>\n",
       "      <td>0.000998</td>\n",
       "      <td>-0.000234</td>\n",
       "    </tr>\n",
       "    <tr>\n",
       "      <td>106</td>\n",
       "      <td>0.732127</td>\n",
       "      <td>0.000409</td>\n",
       "      <td>0.000672</td>\n",
       "      <td>0.000998</td>\n",
       "      <td>-0.000234</td>\n",
       "    </tr>\n",
       "    <tr>\n",
       "      <td>107</td>\n",
       "      <td>0.736607</td>\n",
       "      <td>0.000385</td>\n",
       "      <td>0.000647</td>\n",
       "      <td>0.000998</td>\n",
       "      <td>-0.000234</td>\n",
       "    </tr>\n",
       "  </tbody>\n",
       "</table>\n",
       "</div>"
      ],
      "text/plain": [
       "     accuracy  entropy_mean  entropy_std  baseline_std_plus  \\\n",
       "97   0.762000      0.000370     0.000571           0.000998   \n",
       "98   0.764000      0.000379     0.000606           0.000998   \n",
       "99   0.754000      0.000378     0.000587           0.000998   \n",
       "100  0.760591      0.000377     0.000621           0.000998   \n",
       "101  0.761165      0.000362     0.000572           0.000998   \n",
       "102  0.753110      0.000392     0.000638           0.000998   \n",
       "103  0.739623      0.000407     0.000748           0.000998   \n",
       "104  0.754419      0.000412     0.000747           0.000998   \n",
       "105  0.746789      0.000400     0.000743           0.000998   \n",
       "106  0.732127      0.000409     0.000672           0.000998   \n",
       "107  0.736607      0.000385     0.000647           0.000998   \n",
       "\n",
       "     baseline_std_minus  \n",
       "97            -0.000234  \n",
       "98            -0.000234  \n",
       "99            -0.000234  \n",
       "100           -0.000234  \n",
       "101           -0.000234  \n",
       "102           -0.000234  \n",
       "103           -0.000234  \n",
       "104           -0.000234  \n",
       "105           -0.000234  \n",
       "106           -0.000234  \n",
       "107           -0.000234  "
      ]
     },
     "execution_count": 523,
     "metadata": {},
     "output_type": "execute_result"
    }
   ],
   "source": [
    "df.loc[97:107]"
   ]
  },
  {
   "cell_type": "code",
   "execution_count": 524,
   "metadata": {},
   "outputs": [
    {
     "data": {
      "text/plain": [
       "(1599, 11)"
      ]
     },
     "execution_count": 524,
     "metadata": {},
     "output_type": "execute_result"
    }
   ],
   "source": [
    "X_red.shape"
   ]
  },
  {
   "cell_type": "code",
   "execution_count": 560,
   "metadata": {
    "collapsed": true
   },
   "outputs": [],
   "source": [
    "vae_outs_train = vae.vae.predict(X_train)\n",
    "vae_outs_test = vae.vae.predict(X_red)\n",
    "\n",
    "symm_samples_train = vae_outs_train[0]\n",
    "orig_preds_train = vae_outs_train[1]\n",
    "trans_preds_train = vae_outs_train[2]\n",
    "\n",
    "symm_samples_test = vae_outs_test[0]\n",
    "orig_preds_test = vae_outs_test[1]\n",
    "trans_preds_test = vae_outs_test[2]"
   ]
  },
  {
   "cell_type": "code",
   "execution_count": 561,
   "metadata": {
    "collapsed": true
   },
   "outputs": [],
   "source": [
    "kl_train = entropy(orig_preds_train.T, trans_preds_train.T)\n",
    "kl_test = entropy(orig_preds_test.T, trans_preds_test.T)"
   ]
  },
  {
   "cell_type": "code",
   "execution_count": 562,
   "metadata": {
    "collapsed": true
   },
   "outputs": [],
   "source": [
    "S_train = pd.Series(kl_train, name='train')\n",
    "S_test = pd.Series(kl_test, name='test')\n",
    "df_kl = pd.merge(S_train.to_frame(), S_test.to_frame(), right_index=True, left_index=True, how='outer')"
   ]
  },
  {
   "cell_type": "code",
   "execution_count": 563,
   "metadata": {},
   "outputs": [
    {
     "name": "stdout",
     "output_type": "stream",
     "text": [
      "0.00031513103749603033 0.0003669103025458753\n",
      "0.0006002978188917041 0.0017532865749672055\n"
     ]
    },
    {
     "data": {
      "image/png": "[encoded data removed]",
      "text/plain": [
       "<Figure size 720x720 with 2 Axes>"
      ]
     },
     "metadata": {
      "needs_background": "light"
     },
     "output_type": "display_data"
    }
   ],
   "source": [
    "df_kl.plot(kind='hist', bins=100, subplots=True, figsize=(10, 10))\n",
    "print(S_train.mean(), S_train.std())\n",
    "print(S_test.mean(), S_test.std())"
   ]
  },
  {
   "cell_type": "code",
   "execution_count": 564,
   "metadata": {
    "collapsed": true
   },
   "outputs": [],
   "source": [
    "import matplotlib.pyplot as plt"
   ]
  },
  {
   "cell_type": "code",
   "execution_count": 565,
   "metadata": {},
   "outputs": [
    {
     "data": {
      "image/png": "[encoded data removed]",
      "text/plain": [
       "<Figure size 864x576 with 1 Axes>"
      ]
     },
     "metadata": {
      "needs_background": "light"
     },
     "output_type": "display_data"
    }
   ],
   "source": [
    "idx_test = np.random.permutation(pd.Series(kl_train).index)[:len(pd.Series(kl_test))]\n",
    "plt.figure(figsize=(12, 8))\n",
    "ax1 = plt.scatter(pd.Series(kl_train).index, pd.Series(kl_train), s=10, alpha=0.2)\n",
    "ax2 = plt.scatter(idx_test, pd.Series(kl_test), s=10, alpha=1)"
   ]
  },
  {
   "cell_type": "code",
   "execution_count": null,
   "metadata": {
    "collapsed": true
   },
   "outputs": [],
   "source": []
  },
  {
   "cell_type": "code",
   "execution_count": null,
   "metadata": {
    "collapsed": true
   },
   "outputs": [],
   "source": []
  },
  {
   "cell_type": "code",
   "execution_count": null,
   "metadata": {
    "collapsed": true
   },
   "outputs": [],
   "source": []
  },
  {
   "cell_type": "code",
   "execution_count": null,
   "metadata": {
    "collapsed": true
   },
   "outputs": [],
   "source": []
  },
  {
   "cell_type": "code",
   "execution_count": null,
   "metadata": {
    "collapsed": true
   },
   "outputs": [],
   "source": []
  }
 ],
 "metadata": {
  "kernelspec": {
   "display_name": "Python 3",
   "language": "python",
   "name": "python3"
  },
  "language_info": {
   "codemirror_mode": {
    "name": "ipython",
    "version": 3
   },
   "file_extension": ".py",
   "mimetype": "text/x-python",
   "name": "python",
   "nbconvert_exporter": "python",
   "pygments_lexer": "ipython3",
   "version": "3.6.3"
  }
 },
 "nbformat": 4,
 "nbformat_minor": 2
}
