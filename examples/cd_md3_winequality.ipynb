{
 "cells": [
  {
   "cell_type": "markdown",
   "metadata": {},
   "source": [
    "# Margin density drift detection on wine quality dataset\n",
    "\n",
    "### Overview\n",
    "\n",
    "The margin density drift detector (MD3) ([Sethi and  Kantardzic, 2015](https://www.sciencedirect.com/science/article/pii/S1877050915017871)) quantifies the percentage of predictions made by a probabilistic binary classifier at the decision boundary (as defined by a margin).  This quantity is known as the margin density.  The margin density is compared to an allowable margin density range.  Drift is detected if the calculated margin density for a given batch falls outside of the specified margin density range.  Care should be taken when setting the margin density range.  This can be informed, for example, by calculating the margin density mean and variance on out-of-fold instances when performing k-fold cross-validation, or on data batches from an additional holdout set that are characteristically similar to the data on which the binary classifier was trained.  Low and high margin densities relative to the allowable density range can be indicative of virtual drift, concept drift and/or general changes in model performance.\n",
    "\n",
    "Many alternative drift detection methods focus on tracking changes in the distribution of data inputs.  These approaches can be prone to generating false positives as they implicitly give equal importance to all features, even those that are of very little importance to the classifier.  The utility of the MD3 approach is that it uses the change in the percentage of samples contained within a classifier's decision boundary (i.e., margin) as a proxy for measuring changes in the probability distribution of the labels given the data inputs, _without actually requiring any labeled data_.  This approach tends to be more robust against false positives as the classifier accounts for differences in feature importances, giving little emphasis to features that do not affect classification performance.\n",
    "\n",
    "### Dataset\n",
    "\n",
    "The instances contain wine characteristics such as citric acid, pH, residual sugar and density, while the target value represents the quality of the wine (rated on a 0-10 scale).  We combine two feature-identical datasets: one for red wine (1599 instances) and one for white wine (4898 instances).  The combined dataset consists entirely of numerical features and can each be obtained from the [tensorflow-datasets](https://www.tensorflow.org/datasets/catalog/wine_quality) library, which can be installed with pip: \n",
    "\n",
    "```bash\n",
    "pip install tensorflow-datasets\n",
    "```  \n",
    "\n",
    "For demonstration purposes and in order to show the utility of this detection method, we will convert this multi-class dataset into a binary classification dataset by reconstructing the target variable into 'low quality' (target = 0) and 'high quality' (target = 1) categories, assigning quality values of 6 or more to the 'high quality' category.  \n"
   ]
  },
  {
   "cell_type": "code",
   "execution_count": 1,
   "metadata": {
    "pycharm": {
     "name": "#%%\n"
    }
   },
   "outputs": [],
   "source": [
    "import logging\n",
    "import matplotlib.pyplot as plt\n",
    "import numpy as np\n",
    "from sklearn.metrics import accuracy_score\n",
    "from sklearn.preprocessing import MinMaxScaler\n",
    "from sklearn.utils import shuffle\n",
    "import tensorflow as tf\n",
    "import tensorflow_datasets as tfds\n",
    "\n",
    "from alibi_detect.cd import MarginDensityDrift\n",
    "\n",
    "logging.getLogger(\"tensorflow\").setLevel(logging.WARNING)\n",
    "np.random.seed(0)\n",
    "tf.random.set_seed(0)\n",
    "%matplotlib inline"
   ]
  },
  {
   "cell_type": "markdown",
   "metadata": {},
   "source": [
    "### Load wine quality datasets\n",
    "\n",
    "The ```fetch_wine_quality``` function returns a our data instances, targets, and feature names.  Within that function we call the ```load``` method of ```tensorflow_datasets``` which returns a tf.data.Dataset object that we convert into numpy arrays.  The numpy arrays are randomly shuffled before being returned."
   ]
  },
  {
   "cell_type": "code",
   "execution_count": 2,
   "metadata": {},
   "outputs": [],
   "source": [
    "wines = ['white','red']"
   ]
  },
  {
   "cell_type": "code",
   "execution_count": 3,
   "metadata": {},
   "outputs": [],
   "source": [
    "def fetch_wine_quality(wines):\n",
    "    \n",
    "    X, y = [], []\n",
    "    \n",
    "    for wine in wines:\n",
    "        ds = tfds.load(\"wine_quality/\"+wine, split=tfds.Split.TRAIN, batch_size=-1)\n",
    "        numpy_ds = tfds.as_numpy(ds)\n",
    "        data = np.array(list(numpy_ds['features'].values())).T\n",
    "        target = np.array(list(numpy_ds['quality']))\n",
    "        feature_names = list(numpy_ds['features'].keys())\n",
    "        X.append(data)\n",
    "        y.append(target)\n",
    "    \n",
    "    X = np.array([j for i in X for j in i])\n",
    "    y = np.array([j for i in y for j in i])\n",
    "    y = np.where(y>=6,1,0) # convert target to binary\n",
    "    X, y = shuffle(X, y) # shuffle rows\n",
    "        \n",
    "    return X, y, feature_names"
   ]
  },
  {
   "cell_type": "code",
   "execution_count": 4,
   "metadata": {},
   "outputs": [],
   "source": [
    "X, y, feature_names = fetch_wine_quality(wines)"
   ]
  },
  {
   "cell_type": "markdown",
   "metadata": {},
   "source": [
    "We split the data into train, validation, and test sets.  The train data will be used to train our binary classifier model.  The validation data may be used to calculate baseline margin density statistics (alternatively, if performing k-fold cross-validation the train data could be used and baseline statistics could be calculated on out-of-fold instances).  The test data will be used to evaluate margin density drift."
   ]
  },
  {
   "cell_type": "code",
   "execution_count": 5,
   "metadata": {},
   "outputs": [
    {
     "data": {
      "text/plain": [
       "((4000, 11), (2000, 11), (497, 11))"
      ]
     },
     "execution_count": 5,
     "metadata": {},
     "output_type": "execute_result"
    }
   ],
   "source": [
    "n_samples_train = 4000\n",
    "n_samples_val = 2000\n",
    "\n",
    "X_train, y_train = X[:n_samples_train],  y[:n_samples_train]\n",
    "X_val, y_val = X[n_samples_train:(n_samples_train+n_samples_val)], y[n_samples_train:(n_samples_train+n_samples_val)] \n",
    "X_test, y_test = X[(n_samples_train+n_samples_val):], y[(n_samples_train+n_samples_val):]\n",
    "\n",
    "X_train.shape, X_val.shape, X_test.shape"
   ]
  },
  {
   "cell_type": "markdown",
   "metadata": {},
   "source": [
    "### Rescale data\n",
    "\n",
    "We apply min-max scaling to the data inputs."
   ]
  },
  {
   "cell_type": "code",
   "execution_count": 6,
   "metadata": {},
   "outputs": [],
   "source": [
    "sc = MinMaxScaler()\n",
    "sc.fit(X_train)\n",
    "\n",
    "X_train_scaled = sc.transform(X_train)\n",
    "X_val_scaled = sc.transform(X_val)\n",
    "X_test_scaled = sc.transform(X_test)"
   ]
  },
  {
   "cell_type": "markdown",
   "metadata": {},
   "source": [
    "### Train classifier model\n",
    "\n",
    "We define and train a tensorflow classifier model on our scaled data.  Once the model is trained we can have a look at its performance across each of the datasets."
   ]
  },
  {
   "cell_type": "code",
   "execution_count": 7,
   "metadata": {},
   "outputs": [
    {
     "name": "stdout",
     "output_type": "stream",
     "text": [
      "125/125 [==============================] - 0s 694us/step - loss: 0.4596 - accuracy: 0.7740\n",
      "Train accuracy: 0.7740\n",
      "63/63 [==============================] - 0s 1ms/step - loss: 0.5053 - accuracy: 0.7500\n",
      "Validation accuracy: 0.7500\n",
      "16/16 [==============================] - 0s 1ms/step - loss: 0.5005 - accuracy: 0.7646\n",
      "Test accuracy: 0.7646\n"
     ]
    }
   ],
   "source": [
    "input_dim = X_train_scaled.shape[1]\n",
    "\n",
    "# define and train model\n",
    "model = tf.keras.Sequential([\n",
    "    tf.keras.layers.Flatten(input_shape=(input_dim,)),\n",
    "    tf.keras.layers.Dense(10, activation=tf.nn.relu),\n",
    "    tf.keras.layers.Dense(4, activation=tf.nn.relu),\n",
    "    tf.keras.layers.Dense(1, activation=tf.nn.sigmoid),\n",
    "])\n",
    "model.compile(optimizer='adam', loss='binary_crossentropy', metrics=['accuracy'])\n",
    "model.fit(X_train_scaled, y_train, batch_size=16, epochs=1000, verbose=False)\n",
    "\n",
    "print('Train accuracy: {0:.4f}'.format(model.evaluate(X_train_scaled, y_train)[1]))\n",
    "print('Validation accuracy: {0:.4f}'.format(model.evaluate(X_val_scaled, y_val)[1]))\n",
    "print('Test accuracy: {0:.4f}'.format(model.evaluate(X_test_scaled, y_test)[1]))"
   ]
  },
  {
   "cell_type": "markdown",
   "metadata": {},
   "source": [
    "We see similar performance across each of the datasets."
   ]
  },
  {
   "cell_type": "markdown",
   "metadata": {},
   "source": [
    "### Calculate baseline margin density statistics\n",
    "\n",
    "We calculate the margin density mean and standard deviation across a set of non-overlapping data chunks taken from the validation dataset.  We start by defining `margin` to be `0.1` and then initiating our drift detector with our trained classifier model. "
   ]
  },
  {
   "cell_type": "code",
   "execution_count": 8,
   "metadata": {},
   "outputs": [],
   "source": [
    "margin = 0.1"
   ]
  },
  {
   "cell_type": "code",
   "execution_count": 9,
   "metadata": {},
   "outputs": [
    {
     "name": "stderr",
     "output_type": "stream",
     "text": [
      "WARNING:alibi_detect.cd.margindensity:Need to set density_range to detect data drift.\n"
     ]
    }
   ],
   "source": [
    "cd = MarginDensityDrift(model=model, margin=margin)"
   ]
  },
  {
   "cell_type": "markdown",
   "metadata": {},
   "source": [
    "By calling the `score` method of our drift detector, we can pass data in and get back the margin density score, which is just simply the number of predictions made within the decision boundary (i.e., margin) divided by the total number of predictions made.  If we do this across each chunk of data we can calculate a baseline margin density mean and standard deviation."
   ]
  },
  {
   "cell_type": "code",
   "execution_count": 10,
   "metadata": {},
   "outputs": [
    {
     "data": {
      "text/plain": [
       "(0.0885, 0.0255)"
      ]
     },
     "execution_count": 10,
     "metadata": {},
     "output_type": "execute_result"
    }
   ],
   "source": [
    "densities = []\n",
    "\n",
    "for chunk in np.array_split(X_val_scaled,10):\n",
    "    margin_density = cd.score(X=chunk)\n",
    "    densities.append(margin_density)\n",
    "\n",
    "md_mean = np.mean(densities)\n",
    "md_std = np.std(densities)\n",
    "\n",
    "md_mean, md_std"
   ]
  },
  {
   "cell_type": "markdown",
   "metadata": {},
   "source": [
    "Using the baseline mean and standard deviation from the validation data, we can set the upper and lower bounds of `density_range`. "
   ]
  },
  {
   "cell_type": "code",
   "execution_count": 11,
   "metadata": {},
   "outputs": [
    {
     "data": {
      "text/plain": [
       "(0.063, 0.11399999999999999)"
      ]
     },
     "execution_count": 11,
     "metadata": {},
     "output_type": "execute_result"
    }
   ],
   "source": [
    "n_std = 1\n",
    "density_range = (md_mean-n_std*md_std, md_mean+n_std*md_std)\n",
    "density_range"
   ]
  },
  {
   "cell_type": "markdown",
   "metadata": {},
   "source": [
    "### Detect drift\n",
    "\n",
    "Now that we have calculated `density_range,` we can initialize a new drift detector using that input.  This detector is now ready to detect drift on unseen data."
   ]
  },
  {
   "cell_type": "code",
   "execution_count": 12,
   "metadata": {},
   "outputs": [],
   "source": [
    "cd = MarginDensityDrift(model=model, margin=margin, density_range=density_range)"
   ]
  },
  {
   "cell_type": "markdown",
   "metadata": {},
   "source": [
    "We can test for drift in our test set.  We do not expect there to be drift in our test set as it was characteristically similar to the train and validation sets (randomly shuffled before splitting) and achieved similar performance (as shown above).  "
   ]
  },
  {
   "cell_type": "code",
   "execution_count": 13,
   "metadata": {},
   "outputs": [
    {
     "name": "stdout",
     "output_type": "stream",
     "text": [
      "Drift? No!\n"
     ]
    }
   ],
   "source": [
    "# check if drift in batch\n",
    "labels = ['No!', 'Yes!']\n",
    "preds = cd.predict(X_test_scaled)\n",
    "print('Drift? {}'.format(labels[preds['data']['is_drift']]))"
   ]
  },
  {
   "cell_type": "markdown",
   "metadata": {},
   "source": [
    "When we have a closer look, we see that the calculated margin density of the test set lies well within the density range we specified.  This is what we expect."
   ]
  },
  {
   "cell_type": "code",
   "execution_count": 14,
   "metadata": {},
   "outputs": [
    {
     "name": "stdout",
     "output_type": "stream",
     "text": [
      "0.08651911468812877\n",
      "(0.063, 0.11399999999999999)\n"
     ]
    }
   ],
   "source": [
    "print(preds['data']['margin_density'])\n",
    "print(preds['data']['density_range'])"
   ]
  },
  {
   "cell_type": "markdown",
   "metadata": {},
   "source": [
    "We can artificially introduce drift into our features inputs, but first let's have a look at the permutation feature importance of our trained classifier model to understand the relative importances of each feature.  Permutation feature importance can be computed using the [eli5](https://github.com/eli5-org/eli5) library, which can be installed with pip: \n",
    "\n",
    "```bash\n",
    "pip install eli5\n",
    "```"
   ]
  },
  {
   "cell_type": "code",
   "execution_count": 15,
   "metadata": {},
   "outputs": [],
   "source": [
    "from eli5.permutation_importance import get_score_importances\n",
    "\n",
    "def score(X, y):\n",
    "    y_pred = np.round(model.predict(X))\n",
    "    return accuracy_score(y, y_pred)\n",
    "\n",
    "base_score, score_decreases = get_score_importances(score, X_train_scaled, y_train)\n",
    "feature_importances = np.mean(score_decreases, axis=0)"
   ]
  },
  {
   "cell_type": "code",
   "execution_count": 16,
   "metadata": {},
   "outputs": [
    {
     "data": {
      "image/png": "[encoded data removed]",
      "text/plain": [
       "<Figure size 432x288 with 1 Axes>"
      ]
     },
     "metadata": {
      "needs_background": "light"
     },
     "output_type": "display_data"
    }
   ],
   "source": [
    "plt.barh(feature_names, feature_importances, color='blue')\n",
    "plt.title('Wine Quality')\n",
    "plt.ylabel('Feature')\n",
    "plt.xlabel('Permutation Feature Importance')\n",
    "plt.gca().invert_yaxis()\n",
    "plt.show()"
   ]
  },
  {
   "cell_type": "markdown",
   "metadata": {},
   "source": [
    "Based on permutation feature importance, the most important features appear to be `alcohol` and `volatile acidity`, whereas least the important features appear to be `chlorides`, `citric acid` and `pH`.  Using this information we can introduce feature drift into our test set and measure the response of our drift detector to see if it is more responsive to important features.\n",
    "\n",
    "We can start by introducing a covariate shift and a small amount of Gaussian noise to the `alcohol` and `volatile acidity` features."
   ]
  },
  {
   "cell_type": "code",
   "execution_count": 17,
   "metadata": {},
   "outputs": [],
   "source": [
    "def random_normal_shift(X, mu, sigma, feature):\n",
    "    \n",
    "    np.random.seed(0)\n",
    "    X_shifted = X.copy()\n",
    "    idx = list(feature_names).index(feature)\n",
    "    random_shift = np.random.normal(mu, sigma, X_shifted.shape[0])\n",
    "    X_shifted[:,idx] = X_shifted[:,idx] + random_shift\n",
    "    \n",
    "    return X_shifted"
   ]
  },
  {
   "cell_type": "code",
   "execution_count": 18,
   "metadata": {},
   "outputs": [],
   "source": [
    "mu = 0.5\n",
    "sigma = 0.015"
   ]
  },
  {
   "cell_type": "code",
   "execution_count": 19,
   "metadata": {},
   "outputs": [
    {
     "name": "stdout",
     "output_type": "stream",
     "text": [
      "Shifted Feature:  alcohol\n",
      "Drift? Yes!\n",
      "Margin Density: 0.012072434607645875\n",
      "Density Range: (0.063, 0.11399999999999999)\n",
      "\n",
      "\n",
      "Shifted Feature:  volatile acidity\n",
      "Drift? Yes!\n",
      "Margin Density: 0.04627766599597585\n",
      "Density Range: (0.063, 0.11399999999999999)\n",
      "\n",
      "\n"
     ]
    }
   ],
   "source": [
    "features = ['alcohol', 'volatile acidity']  # most important features\n",
    "for feature in features:\n",
    "    X_shifted = random_normal_shift(X=X_test_scaled, mu=mu, sigma=sigma, feature=feature)\n",
    "    preds = cd.predict(X_shifted)\n",
    "    print('Shifted Feature: ',feature)\n",
    "    print('Drift? {}'.format(labels[preds['data']['is_drift']]))\n",
    "    print('Margin Density: {}'.format(preds['data']['margin_density']))\n",
    "    print('Density Range: {}'.format(preds['data']['density_range']))\n",
    "    print('\\n')"
   ]
  },
  {
   "cell_type": "markdown",
   "metadata": {},
   "source": [
    "The drift is detected when applied to these important features.  We can can now introduce the same shift to the `chlorides`, `citric acid` and `pH` features and check the response of our detector."
   ]
  },
  {
   "cell_type": "code",
   "execution_count": 20,
   "metadata": {},
   "outputs": [
    {
     "name": "stdout",
     "output_type": "stream",
     "text": [
      "Shifted Feature:  chlorides\n",
      "Drift? No!\n",
      "Margin Density: 0.06841046277665996\n",
      "Density Range: (0.063, 0.11399999999999999)\n",
      "\n",
      "\n",
      "Shifted Feature:  citric acid\n",
      "Drift? No!\n",
      "Margin Density: 0.06841046277665996\n",
      "Density Range: (0.063, 0.11399999999999999)\n",
      "\n",
      "\n",
      "Shifted Feature:  pH\n",
      "Drift? No!\n",
      "Margin Density: 0.07847082494969819\n",
      "Density Range: (0.063, 0.11399999999999999)\n",
      "\n",
      "\n"
     ]
    }
   ],
   "source": [
    "features = ['chlorides', 'citric acid', 'pH']  # least important features\n",
    "for feature in features:\n",
    "    X_shifted = random_normal_shift(X=X_test_scaled, mu=mu, sigma=sigma, feature=feature)\n",
    "    preds = cd.predict(X_shifted)\n",
    "    print('Shifted Feature: ',feature)\n",
    "    print('Drift? {}'.format(labels[preds['data']['is_drift']]))\n",
    "    print('Margin Density: {}'.format(preds['data']['margin_density']))\n",
    "    print('Density Range: {}'.format(preds['data']['density_range']))\n",
    "    print('\\n')"
   ]
  },
  {
   "cell_type": "markdown",
   "metadata": {},
   "source": [
    "No drift is detected among shifted features of low feature importance to our model.\n",
    "\n",
    "Because the MarginDensityDrift detector relies on a trained binary classifier model, this detection method is favorable in situations where one needs to detect drift only when classification performance is impacted.  Therefore, in certain cases this detection method may be more robust to false positives."
   ]
  }
 ],
 "metadata": {
  "kernelspec": {
   "display_name": "alibi-dev",
   "language": "python",
   "name": "alibi-dev"
  },
  "language_info": {
   "codemirror_mode": {
    "name": "ipython",
    "version": 3
   },
   "file_extension": ".py",
   "mimetype": "text/x-python",
   "name": "python",
   "nbconvert_exporter": "python",
   "pygments_lexer": "ipython3",
   "version": "3.7.4"
  }
 },
 "nbformat": 4,
 "nbformat_minor": 2
}
