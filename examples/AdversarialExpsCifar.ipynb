{
 "cells": [
  {
   "cell_type": "code",
   "execution_count": 1,
   "metadata": {},
   "outputs": [
    {
     "name": "stderr",
     "output_type": "stream",
     "text": [
      "Using TensorFlow backend.\n"
     ]
    }
   ],
   "source": [
    "import tensorflow as tf\n",
    "from tensorflow import keras\n",
    "\n",
    "from __future__ import absolute_import, division, print_function, unicode_literals\n",
    "\n",
    "from keras.models import Sequential, Model, load_model\n",
    "from keras.layers import Dense, Flatten, Conv2D, MaxPooling2D, Activation, Dropout, Input, Activation, InputLayer, Reshape\n",
    "from keras.callbacks import ModelCheckpoint\n",
    "import numpy as np\n",
    "\n",
    "from art.attacks import DeepFool, CarliniL2Method, CarliniLInfMethod, ElasticNet\n",
    "from art.classifiers import KerasClassifier\n",
    "from art.utils import load_dataset"
   ]
  },
  {
   "cell_type": "code",
   "execution_count": 2,
   "metadata": {
    "collapsed": true
   },
   "outputs": [],
   "source": [
    "import pandas as pd\n",
    "import numpy as np\n",
    "from scipy.stats import entropy\n",
    "import sys\n",
    "sys.path.append('..')\n",
    "sys.path.append('../odcd/cd/')\n",
    "sys.path.append('../odcd/utils/')\n",
    "import matplotlib\n",
    "import seaborn as sns\n",
    "from creme.stats import Mean, Var\n",
    "import matplotlib.pyplot as plt\n",
    "from keras.callbacks import ModelCheckpoint, EarlyStopping\n",
    "import model_symmetries as vsf\n",
    "%matplotlib inline\n",
    "\n",
    "from skmultiflow.drift_detection.adwin import ADWIN\n",
    "from scipy.stats import percentileofscore\n",
    "\n",
    "import streaming_sim_test as sst\n",
    "from importlib import reload\n",
    "\n",
    "import colorama\n",
    "from colorama import Fore, Style\n",
    "from keras import backend as K\n",
    "from sklearn.neighbors import NearestNeighbors\n",
    "from sklearn.metrics import precision_score, recall_score, accuracy_score\n",
    "from sklearn.metrics import precision_recall_curve\n",
    "import matplotlib.pyplot as plt\n",
    "from inspect import signature"
   ]
  },
  {
   "cell_type": "code",
   "execution_count": 3,
   "metadata": {
    "collapsed": true
   },
   "outputs": [],
   "source": [
    "def _calculate_perc(df_t, nb_sigmas=3):\n",
    "    sigma_plus = df_t['test'].mean() + (nb_sigmas * df_t['test'].std())\n",
    "    pc_sigma = percentileofscore(df_t['adv'], sigma_plus) * 0.01\n",
    "    perc = 1 - pc_sigma\n",
    "    print(sigma_plus, pc_sigma)\n",
    "    return perc, sigma_plus\n",
    "\n",
    "def calculate_perc_nn(X_train, X_test, X_test_adv, predict_fn, nb_samples=100, nb_sigmas=3):\n",
    "    \n",
    "    X_train_samples = np.random.permutation(X_train)[:nb_samples]\n",
    "    preds_train = predict_fn(X_train_samples)\n",
    "    nn = NearestNeighbors()\n",
    "    nn.fit(preds_train)\n",
    "    \n",
    "    preds_test, preds_adv = predict_fn(X_test), predict_fn(X_test_adv)\n",
    "    dist_test, idx_test = nn.kneighbors(preds_test, n_neighbors=1)\n",
    "    dist_adv, idx_adv = nn.kneighbors(preds_adv, n_neighbors=1)\n",
    "\n",
    "    df_dist = pd.DataFrame()\n",
    "    df_dist['test'] = dist_test.flatten()\n",
    "    df_dist['adv'] = dist_adv.flatten()\n",
    "    \n",
    "    perc, sigma_plus = _calculate_perc(df_dist, nb_sigmas=nb_sigmas)\n",
    "    \n",
    "    return perc, df_dist, sigma_plus"
   ]
  },
  {
   "cell_type": "markdown",
   "metadata": {},
   "source": [
    "# Cifar"
   ]
  },
  {
   "cell_type": "code",
   "execution_count": 4,
   "metadata": {
    "collapsed": true
   },
   "outputs": [],
   "source": [
    "\n",
    "# Read CIFAR10 dataset\n",
    "(X_train, y_train), (X_test, y_test), min_, max_ = load_dataset(str('cifar10'))\n",
    "X_train, y_train = X_train, y_train\n",
    "X_test, y_test = X_test[:500], y_test[:500]\n",
    "im_shape = X_train[0].shape\n",
    "\n",
    "# Create Keras convolutional neural network - basic architecture from Keras examples\n",
    "# Source here: https://github.com/keras-team/keras/blob/master/examples/cifar10_cnn.py\n",
    "def model_cifar():\n",
    "    x_in = Input(shape=(32, 32, 3))\n",
    "    x = Conv2D(32, (3, 3), padding='same', input_shape=(32, 32, 3),  activation='relu')(x_in)\n",
    "    x = Conv2D(32, (3, 3),  activation='relu')(x)\n",
    "    x = MaxPooling2D(pool_size=(2, 2))(x)\n",
    "    x = Dropout(0.25)(x)\n",
    "\n",
    "    x = Conv2D(64, (3, 3), padding='same', activation='relu')(x)\n",
    "    x = Conv2D(64, (3, 3), activation='relu')(x)\n",
    "    x = MaxPooling2D(pool_size=(2, 2))(x)\n",
    "    x = Dropout(0.25)(x)\n",
    "\n",
    "    x = Flatten()(x)\n",
    "    x = Dense(512, activation='relu')(x)\n",
    "    x = Dropout(0.5)(x)\n",
    "    x = Dense(10, name='logits')(x)\n",
    "    x_out = Activation('softmax')(x)\n",
    "    \n",
    "    cnn = Model(inputs=x_in, outputs=x_out)\n",
    "    cnn.compile(loss='categorical_crossentropy',\n",
    "              optimizer='Adam',\n",
    "              metrics=['accuracy'])\n",
    "    \n",
    "    return cnn\n",
    "\n",
    "def create_model():\n",
    "    model = Sequential()\n",
    "    model.add(Conv2D(32, (3, 3), padding='same', input_shape=X_train.shape[1:]))\n",
    "    model.add(Activation('relu'))\n",
    "    model.add(Conv2D(32, (3, 3)))\n",
    "    model.add(Activation('relu'))\n",
    "    model.add(MaxPooling2D(pool_size=(2, 2)))\n",
    "    model.add(Dropout(0.25))\n",
    "\n",
    "    model.add(Conv2D(64, (3, 3), padding='same'))\n",
    "    model.add(Activation('relu'))\n",
    "    model.add(Conv2D(64, (3, 3)))\n",
    "    model.add(Activation('relu'))\n",
    "    model.add(MaxPooling2D(pool_size=(2, 2)))\n",
    "    model.add(Dropout(0.25))\n",
    "\n",
    "    model.add(Flatten())\n",
    "    model.add(Dense(512))\n",
    "    model.add(Activation('relu'))\n",
    "    model.add(Dropout(0.5))\n",
    "    model.add(Dense(10))\n",
    "    model.add(Activation('softmax'))\n",
    "\n",
    "    model.compile(loss='categorical_crossentropy', optimizer='adam', metrics=['accuracy'])\n",
    "\n",
    "    model.summary()\n",
    "    \n",
    "    return model"
   ]
  },
  {
   "cell_type": "code",
   "execution_count": 5,
   "metadata": {
    "collapsed": true
   },
   "outputs": [],
   "source": [
    "train = False"
   ]
  },
  {
   "cell_type": "code",
   "execution_count": 6,
   "metadata": {},
   "outputs": [
    {
     "name": "stdout",
     "output_type": "stream",
     "text": [
      "WARNING:tensorflow:From /home/Gigio/anaconda3/lib/python3.6/site-packages/keras/backend/tensorflow_backend.py:3298: softmax_cross_entropy_with_logits (from tensorflow.python.ops.nn_ops) is deprecated and will be removed in a future version.\n",
      "Instructions for updating:\n",
      "\n",
      "Future major versions of TensorFlow will allow gradients to flow\n",
      "into the labels input on backprop by default.\n",
      "\n",
      "See `tf.nn.softmax_cross_entropy_with_logits_v2`.\n",
      "\n"
     ]
    }
   ],
   "source": [
    "# Create classifier wrapper\n",
    "if train:\n",
    "    m = model_cifar()\n",
    "    model = KerasClassifier(model=m, clip_values=(min_, max_))\n",
    "    model.fit(X_train, y_train, nb_epochs=50, batch_size=128)\n",
    "else:\n",
    "    m = load_model('model_cifar.h5')\n",
    "    model = KerasClassifier(model=m, clip_values=(min_, max_))"
   ]
  },
  {
   "cell_type": "code",
   "execution_count": 7,
   "metadata": {
    "collapsed": true
   },
   "outputs": [],
   "source": [
    "y_test_adv = y_test"
   ]
  },
  {
   "cell_type": "code",
   "execution_count": 8,
   "metadata": {
    "collapsed": true
   },
   "outputs": [],
   "source": [
    "# Craft adversarial samples with DeepFool\n",
    "#print('Create DeepFool attack')\n",
    "#adv_crafter = DeepFool(model)"
   ]
  },
  {
   "cell_type": "code",
   "execution_count": 9,
   "metadata": {},
   "outputs": [
    {
     "data": {
      "text/plain": [
       "array([[6.37724716e-03, 3.13791643e-05, 8.01134138e-06, ...,\n",
       "        4.97088418e-04, 7.48497376e-04, 2.62676651e-04],\n",
       "       [9.82169652e-08, 1.92031832e-04, 5.65958009e-18, ...,\n",
       "        1.06021205e-25, 9.99807894e-01, 3.86730683e-08],\n",
       "       [5.11228107e-02, 1.00451335e-01, 4.44124879e-08, ...,\n",
       "        3.66773417e-10, 8.41345549e-01, 6.99240202e-03],\n",
       "       ...,\n",
       "       [2.19901594e-05, 3.43183750e-12, 9.27197099e-01, ...,\n",
       "        4.02262376e-04, 3.26791763e-07, 6.50646814e-10],\n",
       "       [1.79440960e-08, 1.58756251e-15, 9.99999642e-01, ...,\n",
       "        7.65148525e-16, 1.30388788e-14, 3.00490232e-17],\n",
       "       [9.95394886e-01, 2.15837265e-10, 4.60445648e-03, ...,\n",
       "        2.96059055e-14, 6.92188635e-08, 8.21189228e-11]], dtype=float32)"
      ]
     },
     "execution_count": 9,
     "metadata": {},
     "output_type": "execute_result"
    }
   ],
   "source": [
    "preds_tmp = model.predict(X_test)\n",
    "preds_tmp"
   ]
  },
  {
   "cell_type": "code",
   "execution_count": 10,
   "metadata": {},
   "outputs": [
    {
     "data": {
      "text/plain": [
       "0.8831566"
      ]
     },
     "execution_count": 10,
     "metadata": {},
     "output_type": "execute_result"
    }
   ],
   "source": [
    "mean_confidence = model.predict(X_test).max(axis=1).mean()\n",
    "mean_confidence"
   ]
  },
  {
   "cell_type": "code",
   "execution_count": 17,
   "metadata": {},
   "outputs": [
    {
     "name": "stdout",
     "output_type": "stream",
     "text": [
      "Create Carlini attack\n",
      "800A\n"
     ]
    }
   ],
   "source": [
    "# Craft adversarial samples with Carlini\n",
    "print('Create Carlini attack')\n",
    "#adv_crafter = CarliniL2Method(model, confidence=mean_confidence)\n",
    "adv_crafter = CarliniLInfMethod(model, X_train, 1000, confidence=mean_confidence, beta=0)"
   ]
  },
  {
   "cell_type": "code",
   "execution_count": 18,
   "metadata": {
    "collapsed": true
   },
   "outputs": [],
   "source": [
    "# Craft adversarial samples with Elastic net\n",
    "#print('Create Elastic net attack')\n",
    "#adv_crafter = ElasticNet(model)"
   ]
  },
  {
   "cell_type": "code",
   "execution_count": 19,
   "metadata": {},
   "outputs": [
    {
     "name": "stdout",
     "output_type": "stream",
     "text": [
      "Craft attack test examples\n",
      "Method <class 'art.attacks.carlini.CarliniLInfMethod'>\n",
      "7.537929210928269 14.047732505231686\n",
      "0 7.537929210928269\n",
      "++++++++++++++++++++++++++++++++++++++++++++++++++++++++++\n",
      "6.060393090592697 14.045597466584923\n",
      "0 6.060393090592697\n",
      "++++++++++++++++++++++++++++++++++++++++++++++++++++++++++\n",
      "4.995079465676099 14.04435961933699\n",
      "0 4.995079465676099\n",
      "++++++++++++++++++++++++++++++++++++++++++++++++++++++++++\n",
      "3.6167669211785625 14.041579613483874\n",
      "0 3.6167669211785625\n",
      "++++++++++++++++++++++++++++++++++++++++++++++++++++++++++\n",
      "2.270423492108743 14.038074975611973\n",
      "0 2.270423492108743\n",
      "++++++++++++++++++++++++++++++++++++++++++++++++++++++++++\n",
      "1.2995368613032845 14.03537033533471\n",
      "0 1.2995368613032845\n",
      "++++++++++++++++++++++++++++++++++++++++++++++++++++++++++\n",
      "0.7421317904945312 14.041148727842813\n",
      "0 0.7421317904945312\n",
      "++++++++++++++++++++++++++++++++++++++++++++++++++++++++++\n",
      "0.7639628048054874 14.034610641718375\n",
      "0 0.7639628048054874\n",
      "++++++++++++++++++++++++++++++++++++++++++++++++++++++++++\n",
      "0.8917611222714186 14.049162142673111\n",
      "0 0.8917611222714186\n",
      "++++++++++++++++++++++++++++++++++++++++++++++++++++++++++\n",
      "0.6368547435849905 14.050121834874801\n",
      "0 0.6368547435849905\n",
      "++++++++++++++++++++++++++++++++++++++++++++++++++++++++++\n",
      "0.6478506403584634 14.062587183882433\n",
      "0 0.6478506403584634\n",
      "++++++++++++++++++++++++++++++++++++++++++++++++++++++++++\n",
      "0.26094506978988646 14.068270571769084\n",
      "0 0.26094506978988646\n",
      "++++++++++++++++++++++++++++++++++++++++++++++++++++++++++\n",
      "0.26127132525046665 14.075653070326991\n",
      "0 0.26127132525046665\n",
      "++++++++++++++++++++++++++++++++++++++++++++++++++++++++++\n",
      "0.0741630650701977 14.081279984210582\n",
      "0 0.0741630650701977\n",
      "++++++++++++++++++++++++++++++++++++++++++++++++++++++++++\n",
      "0.19704684987664223 14.036029923002605\n",
      "0 0.19704684987664223\n",
      "++++++++++++++++++++++++++++++++++++++++++++++++++++++++++\n",
      "2.192307621240616 14.09318323259102\n",
      "0 2.192307621240616\n",
      "++++++++++++++++++++++++++++++++++++++++++++++++++++++++++\n",
      "0.14217597246170044 14.080259816110765\n",
      "0 0.14217597246170044\n",
      "++++++++++++++++++++++++++++++++++++++++++++++++++++++++++\n",
      "0.0 14.035960827092158\n",
      "0 0.0\n",
      "++++++++++++++++++++++++++++++++++++++++++++++++++++++++++\n",
      "0.0 14.035014358426215\n",
      "0 0.0\n",
      "++++++++++++++++++++++++++++++++++++++++++++++++++++++++++\n",
      "0.0 14.128510975038067\n",
      "0 0.0\n",
      "++++++++++++++++++++++++++++++++++++++++++++++++++++++++++\n",
      "0.0 14.13171701612054\n",
      "0 0.0\n",
      "++++++++++++++++++++++++++++++++++++++++++++++++++++++++++\n",
      "0.0 14.131717251425737\n",
      "0 0.0\n",
      "++++++++++++++++++++++++++++++++++++++++++++++++++++++++++\n",
      "0.07108893990516663 14.05804776323925\n",
      "0 0.07108893990516663\n",
      "++++++++++++++++++++++++++++++++++++++++++++++++++++++++++\n",
      "0.0 14.064596886713664\n",
      "0 0.0\n",
      "++++++++++++++++++++++++++++++++++++++++++++++++++++++++++\n",
      "0.0 14.064913644523545\n",
      "0 0.0\n",
      "++++++++++++++++++++++++++++++++++++++++++++++++++++++++++\n",
      "2.955341160297394 14.1383339083475\n",
      "0 2.955341160297394\n",
      "++++++++++++++++++++++++++++++++++++++++++++++++++++++++++\n",
      "0.0 14.064596887748124\n",
      "0 0.0\n",
      "++++++++++++++++++++++++++++++++++++++++++++++++++++++++++\n",
      "7.879327065835241 14.054055206849446\n",
      "0 7.879327065835241\n",
      "++++++++++++++++++++++++++++++++++++++++++++++++++++++++++\n",
      "6.143669590121135 14.052597495108941\n",
      "0 6.143669590121135\n",
      "++++++++++++++++++++++++++++++++++++++++++++++++++++++++++\n",
      "5.0041227855253965 14.050805867260433\n",
      "0 5.0041227855253965\n",
      "++++++++++++++++++++++++++++++++++++++++++++++++++++++++++\n",
      "3.6334405005909503 14.04577622374784\n",
      "0 3.6334405005909503\n",
      "++++++++++++++++++++++++++++++++++++++++++++++++++++++++++\n",
      "2.3269318678076307 14.038989355906851\n",
      "0 2.3269318678076307\n",
      "++++++++++++++++++++++++++++++++++++++++++++++++++++++++++\n",
      "1.2051237499521625 14.037756709304018\n",
      "0 1.2051237499521625\n",
      "++++++++++++++++++++++++++++++++++++++++++++++++++++++++++\n",
      "0.7649073077411186 14.03864553505993\n",
      "0 0.7649073077411186\n",
      "++++++++++++++++++++++++++++++++++++++++++++++++++++++++++\n",
      "0.8968400079756975 14.03150885288165\n",
      "0 0.8968400079756975\n",
      "++++++++++++++++++++++++++++++++++++++++++++++++++++++++++\n",
      "1.2524560707988162 14.075459399022852\n",
      "0 1.2524560707988162\n",
      "++++++++++++++++++++++++++++++++++++++++++++++++++++++++++\n",
      "1.7648037509484724 14.08205498129594\n",
      "0 1.7648037509484724\n",
      "++++++++++++++++++++++++++++++++++++++++++++++++++++++++++\n",
      "0.34829000383615494 14.072722634817643\n",
      "0 0.34829000383615494\n",
      "++++++++++++++++++++++++++++++++++++++++++++++++++++++++++\n",
      "0.3937237154353749 14.071570830470712\n",
      "0 0.3937237154353749\n",
      "++++++++++++++++++++++++++++++++++++++++++++++++++++++++++\n",
      "0.004411528507868449 14.082148331471302\n",
      "0 0.004411528507868449\n",
      "++++++++++++++++++++++++++++++++++++++++++++++++++++++++++\n",
      "0.06218981392243329 14.098081874699401\n",
      "0 0.06218981392243329\n",
      "++++++++++++++++++++++++++++++++++++++++++++++++++++++++++\n",
      "0.9578080195369143 14.07650416030798\n",
      "0 0.9578080195369143\n",
      "++++++++++++++++++++++++++++++++++++++++++++++++++++++++++\n",
      "0.6663685705926683 14.100989818006141\n",
      "0 0.6663685705926683\n",
      "++++++++++++++++++++++++++++++++++++++++++++++++++++++++++\n",
      "2.2747272584173412 14.110565211453203\n",
      "0 2.2747272584173412\n",
      "++++++++++++++++++++++++++++++++++++++++++++++++++++++++++\n",
      "1.6215129892031352 14.108165568328628\n",
      "0 1.6215129892031352\n",
      "++++++++++++++++++++++++++++++++++++++++++++++++++++++++++\n",
      "0.0 14.084340752731075\n",
      "0 0.0\n",
      "++++++++++++++++++++++++++++++++++++++++++++++++++++++++++\n",
      "0.0 14.084019479016664\n",
      "0 0.0\n",
      "++++++++++++++++++++++++++++++++++++++++++++++++++++++++++\n",
      "0.0 14.084009453654259\n",
      "0 0.0\n",
      "++++++++++++++++++++++++++++++++++++++++++++++++++++++++++\n",
      "0.5736789769596524 14.103823154710494\n",
      "0 0.5736789769596524\n",
      "++++++++++++++++++++++++++++++++++++++++++++++++++++++++++\n",
      "0.4999436616897583 14.122039162096735\n",
      "0 0.4999436616897583\n",
      "++++++++++++++++++++++++++++++++++++++++++++++++++++++++++\n",
      "0.0 14.24361021988864\n",
      "0 0.0\n",
      "++++++++++++++++++++++++++++++++++++++++++++++++++++++++++\n",
      "0.21625564992427826 14.104424884439348\n",
      "0 0.21625564992427826\n",
      "++++++++++++++++++++++++++++++++++++++++++++++++++++++++++\n",
      "0.0 14.094591920036548\n",
      "0 0.0\n",
      "++++++++++++++++++++++++++++++++++++++++++++++++++++++++++\n",
      "0.0 14.06898801568098\n",
      "0 0.0\n",
      "++++++++++++++++++++++++++++++++++++++++++++++++++++++++++\n",
      "0.0 14.069170303552372\n",
      "0 0.0\n",
      "++++++++++++++++++++++++++++++++++++++++++++++++++++++++++\n",
      "0.0 14.081503162613744\n",
      "0 0.0\n",
      "++++++++++++++++++++++++++++++++++++++++++++++++++++++++++\n",
      "0.0 14.149141564521381\n",
      "0 0.0\n",
      "++++++++++++++++++++++++++++++++++++++++++++++++++++++++++\n",
      "7.689126337412745 14.050858352930224\n",
      "0 7.689126337412745\n",
      "++++++++++++++++++++++++++++++++++++++++++++++++++++++++++\n",
      "6.089200633810833 14.04753141341609\n",
      "0 6.089200633810833\n",
      "++++++++++++++++++++++++++++++++++++++++++++++++++++++++++\n",
      "5.013031163485721 14.04726593039693\n",
      "0 5.013031163485721\n",
      "++++++++++++++++++++++++++++++++++++++++++++++++++++++++++\n",
      "3.6202906717465617 14.047228522610107\n",
      "0 3.6202906717465617\n",
      "++++++++++++++++++++++++++++++++++++++++++++++++++++++++++\n",
      "2.429985377109713 14.043027876727894\n",
      "0 2.429985377109713\n",
      "++++++++++++++++++++++++++++++++++++++++++++++++++++++++++\n",
      "1.4264766511296023 14.037099776004771\n",
      "0 1.4264766511296023\n",
      "++++++++++++++++++++++++++++++++++++++++++++++++++++++++++\n",
      "0.6718554148631813 14.033158827503744\n",
      "0 0.6718554148631813\n",
      "++++++++++++++++++++++++++++++++++++++++++++++++++++++++++\n",
      "1.1084677735343575 14.036546965813052\n",
      "0 1.1084677735343575\n",
      "++++++++++++++++++++++++++++++++++++++++++++++++++++++++++\n",
      "1.5231010499927733 14.042550481820788\n",
      "0 1.5231010499927733\n",
      "++++++++++++++++++++++++++++++++++++++++++++++++++++++++++\n",
      "0.5279554426670074 14.122748161130556\n",
      "0 0.5279554426670074\n",
      "++++++++++++++++++++++++++++++++++++++++++++++++++++++++++\n",
      "1.655695930999868 14.037299233988687\n",
      "0 1.655695930999868\n",
      "++++++++++++++++++++++++++++++++++++++++++++++++++++++++++\n",
      "0.2740070613530966 14.010199161722934\n",
      "0 0.2740070613530966\n",
      "++++++++++++++++++++++++++++++++++++++++++++++++++++++++++\n",
      "0.0 14.00434535484519\n",
      "0 0.0\n",
      "++++++++++++++++++++++++++++++++++++++++++++++++++++++++++\n",
      "0.2983651964560799 14.029671290373003\n",
      "0 0.2983651964560799\n",
      "++++++++++++++++++++++++++++++++++++++++++++++++++++++++++\n",
      "0.03856406807899475 14.04008587678292\n",
      "0 0.03856406807899475\n",
      "++++++++++++++++++++++++++++++++++++++++++++++++++++++++++\n",
      "1.1864172021547954 14.043186405468361\n",
      "0 1.1864172021547954\n",
      "++++++++++++++++++++++++++++++++++++++++++++++++++++++++++\n",
      "4.0770020335912704 14.143031360112897\n",
      "0 4.0770020335912704\n",
      "++++++++++++++++++++++++++++++++++++++++++++++++++++++++++\n",
      "3.539299786090851 14.145318869741647\n",
      "0 3.539299786090851\n",
      "++++++++++++++++++++++++++++++++++++++++++++++++++++++++++\n",
      "4.778666572911399 14.14260556460828\n",
      "0 4.778666572911399\n",
      "++++++++++++++++++++++++++++++++++++++++++++++++++++++++++\n",
      "2.301599845290184 14.154886301831024\n",
      "0 2.301599845290184\n",
      "++++++++++++++++++++++++++++++++++++++++++++++++++++++++++\n",
      "4.309699833393097 14.131941544938964\n",
      "0 4.309699833393097\n",
      "++++++++++++++++++++++++++++++++++++++++++++++++++++++++++\n",
      "4.089114487171173 14.134699097370431\n",
      "0 4.089114487171173\n",
      "++++++++++++++++++++++++++++++++++++++++++++++++++++++++++\n",
      "4.058395206928253 14.134668059360123\n",
      "0 4.058395206928253\n",
      "++++++++++++++++++++++++++++++++++++++++++++++++++++++++++\n",
      "3.342214748263359 14.142386944956055\n",
      "0 3.342214748263359\n",
      "++++++++++++++++++++++++++++++++++++++++++++++++++++++++++\n",
      "2.443405161301295 14.102209118763186\n",
      "0 2.443405161301295\n",
      "++++++++++++++++++++++++++++++++++++++++++++++++++++++++++\n",
      "4.27467813094457 14.109085175340924\n",
      "0 4.27467813094457\n",
      "++++++++++++++++++++++++++++++++++++++++++++++++++++++++++\n",
      "2.4434045255184174 14.102209122764819\n",
      "0 2.4434045255184174\n",
      "++++++++++++++++++++++++++++++++++++++++++++++++++++++++++\n",
      "1.506110465526581 14.109572073164514\n",
      "0 1.506110465526581\n",
      "++++++++++++++++++++++++++++++++++++++++++++++++++++++++++\n",
      "1.5569274425506592 14.106262585432546\n",
      "0 1.5569274425506592\n",
      "++++++++++++++++++++++++++++++++++++++++++++++++++++++++++\n",
      "3.909273604551951 14.104276886449783\n",
      "0 3.909273604551951\n",
      "++++++++++++++++++++++++++++++++++++++++++++++++++++++++++\n"
     ]
    },
    {
     "name": "stdout",
     "output_type": "stream",
     "text": [
      "5.3142741322517395 14.132593157845168\n",
      "0 5.3142741322517395\n",
      "++++++++++++++++++++++++++++++++++++++++++++++++++++++++++\n",
      "1.170393741130829 14.109592387886114\n",
      "0 1.170393741130829\n",
      "++++++++++++++++++++++++++++++++++++++++++++++++++++++++++\n",
      "1.710591197013855 14.056066955783301\n",
      "0 1.710591197013855\n",
      "++++++++++++++++++++++++++++++++++++++++++++++++++++++++++\n",
      "3.559590478738149 14.090709863574688\n",
      "0 3.559590478738149\n",
      "++++++++++++++++++++++++++++++++++++++++++++++++++++++++++\n",
      "1.710591197013855 14.056066940253425\n",
      "0 1.710591197013855\n",
      "++++++++++++++++++++++++++++++++++++++++++++++++++++++++++\n",
      "3.3637736439704895 14.119854742944163\n",
      "0 3.3637736439704895\n",
      "++++++++++++++++++++++++++++++++++++++++++++++++++++++++++\n",
      "1.9551104605197906 14.103451308207406\n",
      "0 1.9551104605197906\n",
      "++++++++++++++++++++++++++++++++++++++++++++++++++++++++++\n",
      "1.9551104605197906 14.103451303332896\n",
      "0 1.9551104605197906\n",
      "++++++++++++++++++++++++++++++++++++++++++++++++++++++++++\n",
      "1.3739083409309387 14.169157168395664\n",
      "0 1.3739083409309387\n",
      "++++++++++++++++++++++++++++++++++++++++++++++++++++++++++\n",
      "1.7831032872200012 14.158136719765311\n",
      "0 1.7831032872200012\n",
      "++++++++++++++++++++++++++++++++++++++++++++++++++++++++++\n",
      "1.3739078640937805 14.169157201028554\n",
      "0 1.3739078640937805\n",
      "++++++++++++++++++++++++++++++++++++++++++++++++++++++++++\n",
      "0.7787449955940247 14.188394862804119\n",
      "0 0.7787449955940247\n",
      "++++++++++++++++++++++++++++++++++++++++++++++++++++++++++\n",
      "0.4469340443611145 14.199971251377153\n",
      "0 0.4469340443611145\n",
      "++++++++++++++++++++++++++++++++++++++++++++++++++++++++++\n",
      "0.24367409944534302 14.207135993334619\n",
      "0 0.24367409944534302\n",
      "++++++++++++++++++++++++++++++++++++++++++++++++++++++++++\n",
      "0.4517272114753723 14.200226594348877\n",
      "0 0.4517272114753723\n",
      "++++++++++++++++++++++++++++++++++++++++++++++++++++++++++\n",
      "0.24367409944534302 14.20713602562127\n",
      "0 0.24367409944534302\n",
      "++++++++++++++++++++++++++++++++++++++++++++++++++++++++++\n",
      "0.0 14.229304230107367\n",
      "0 0.0\n",
      "++++++++++++++++++++++++++++++++++++++++++++++++++++++++++\n",
      "0.751486599445343 14.187554389073973\n",
      "0 0.751486599445343\n",
      "++++++++++++++++++++++++++++++++++++++++++++++++++++++++++\n",
      "0.0 14.229304267357863\n",
      "0 0.0\n",
      "++++++++++++++++++++++++++++++++++++++++++++++++++++++++++\n",
      "7.0489838520257635 14.042628105099524\n",
      "0 7.0489838520257635\n",
      "++++++++++++++++++++++++++++++++++++++++++++++++++++++++++\n",
      "5.629734586538939 14.041407652409934\n",
      "0 5.629734586538939\n",
      "++++++++++++++++++++++++++++++++++++++++++++++++++++++++++\n",
      "4.62771051454133 14.039377099571011\n",
      "0 4.62771051454133\n",
      "++++++++++++++++++++++++++++++++++++++++++++++++++++++++++\n",
      "3.3272340760148804 14.036106679806089\n",
      "0 3.3272340760148804\n",
      "++++++++++++++++++++++++++++++++++++++++++++++++++++++++++\n",
      "2.1480093331172547 14.032038512514625\n",
      "0 2.1480093331172547\n",
      "++++++++++++++++++++++++++++++++++++++++++++++++++++++++++\n",
      "1.242887829740842 14.025438930394142\n",
      "0 1.242887829740842\n",
      "++++++++++++++++++++++++++++++++++++++++++++++++++++++++++\n",
      "0.7688228827004039 14.026405618233856\n",
      "0 0.7688228827004039\n",
      "++++++++++++++++++++++++++++++++++++++++++++++++++++++++++\n",
      "1.028789865559545 14.022518902177206\n",
      "0 1.028789865559545\n",
      "++++++++++++++++++++++++++++++++++++++++++++++++++++++++++\n",
      "1.907191924750805 14.07478969937713\n",
      "0 1.907191924750805\n",
      "++++++++++++++++++++++++++++++++++++++++++++++++++++++++++\n",
      "2.049982488155365 14.015636974906904\n",
      "0 2.049982488155365\n",
      "++++++++++++++++++++++++++++++++++++++++++++++++++++++++++\n",
      "2.0509110418233005 14.071432238565196\n",
      "0 2.0509110418233005\n",
      "++++++++++++++++++++++++++++++++++++++++++++++++++++++++++\n",
      "1.129392634419834 14.06799444131212\n",
      "0 1.129392634419834\n",
      "++++++++++++++++++++++++++++++++++++++++++++++++++++++++++\n",
      "0.03452154181220315 14.084695339627274\n",
      "0 0.03452154181220315\n",
      "++++++++++++++++++++++++++++++++++++++++++++++++++++++++++\n",
      "0.1316052025014704 14.10594572986206\n",
      "0 0.1316052025014704\n",
      "++++++++++++++++++++++++++++++++++++++++++++++++++++++++++\n",
      "0.04858339428901672 14.111746043151594\n",
      "0 0.04858339428901672\n",
      "++++++++++++++++++++++++++++++++++++++++++++++++++++++++++\n",
      "1.6585396726926167 14.069799006195018\n",
      "0 1.6585396726926167\n",
      "++++++++++++++++++++++++++++++++++++++++++++++++++++++++++\n",
      "1.8280823677778244 14.090933908587637\n",
      "0 1.8280823677778244\n",
      "++++++++++++++++++++++++++++++++++++++++++++++++++++++++++\n",
      "3.6870763897895813 14.054570968143377\n",
      "0 3.6870763897895813\n",
      "++++++++++++++++++++++++++++++++++++++++++++++++++++++++++\n",
      "2.1406833962960676 14.088542216897839\n",
      "0 2.1406833962960676\n",
      "++++++++++++++++++++++++++++++++++++++++++++++++++++++++++\n",
      "2.2092287614941597 14.077313627749772\n",
      "0 2.2092287614941597\n",
      "++++++++++++++++++++++++++++++++++++++++++++++++++++++++++\n",
      "0.982244324684143 14.030527913622368\n",
      "0 0.982244324684143\n",
      "++++++++++++++++++++++++++++++++++++++++++++++++++++++++++\n",
      "0.0 14.102962736801246\n",
      "0 0.0\n",
      "++++++++++++++++++++++++++++++++++++++++++++++++++++++++++\n",
      "0.0 14.106444725462595\n",
      "0 0.0\n",
      "++++++++++++++++++++++++++++++++++++++++++++++++++++++++++\n",
      "1.7451164772113164 14.090620436574584\n",
      "0 1.7451164772113164\n",
      "++++++++++++++++++++++++++++++++++++++++++++++++++++++++++\n",
      "1.857353675365448 14.068950336141821\n",
      "0 1.857353675365448\n",
      "++++++++++++++++++++++++++++++++++++++++++++++++++++++++++\n",
      "3.8630674481391907 14.059476477540297\n",
      "0 3.8630674481391907\n",
      "++++++++++++++++++++++++++++++++++++++++++++++++++++++++++\n",
      "3.5675771832466125 14.053412660611905\n",
      "0 3.5675771832466125\n",
      "++++++++++++++++++++++++++++++++++++++++++++++++++++++++++\n",
      "1.8213691592216492 14.068507110493963\n",
      "0 1.8213691592216492\n",
      "++++++++++++++++++++++++++++++++++++++++++++++++++++++++++\n",
      "1.544140060742696 14.096200979628078\n",
      "0 1.544140060742696\n",
      "++++++++++++++++++++++++++++++++++++++++++++++++++++++++++\n",
      "1.3977010846138 14.003375447948063\n",
      "0 1.3977010846138\n",
      "++++++++++++++++++++++++++++++++++++++++++++++++++++++++++\n",
      "2.134378731250763 14.112801062153647\n",
      "0 2.134378731250763\n",
      "++++++++++++++++++++++++++++++++++++++++++++++++++++++++++\n",
      "1.391226331392924 14.091028954637428\n",
      "0 1.391226331392924\n",
      "++++++++++++++++++++++++++++++++++++++++++++++++++++++++++\n",
      "1.9992240071296692 14.018705369619864\n",
      "0 1.9992240071296692\n",
      "++++++++++++++++++++++++++++++++++++++++++++++++++++++++++\n",
      "2.5230239033699036 14.036882272350091\n",
      "0 2.5230239033699036\n",
      "++++++++++++++++++++++++++++++++++++++++++++++++++++++++++\n",
      "1.2712867856025696 13.998802026421458\n",
      "0 1.2712867856025696\n",
      "++++++++++++++++++++++++++++++++++++++++++++++++++++++++++\n",
      "1.8268726468086243 14.01529265980384\n",
      "0 1.8268726468086243\n",
      "++++++++++++++++++++++++++++++++++++++++++++++++++++++++++\n",
      "1.5984898209571838 14.008681481523237\n",
      "0 1.5984898209571838\n",
      "++++++++++++++++++++++++++++++++++++++++++++++++++++++++++\n",
      "1.5104745030403137 14.006353396905322\n",
      "0 1.5104745030403137\n",
      "++++++++++++++++++++++++++++++++++++++++++++++++++++++++++\n",
      "1.7562955021858215 14.0157339614453\n",
      "0 1.7562955021858215\n",
      "++++++++++++++++++++++++++++++++++++++++++++++++++++++++++\n",
      "2.065521538257599 14.025144444180016\n",
      "0 2.065521538257599\n",
      "++++++++++++++++++++++++++++++++++++++++++++++++++++++++++\n",
      "1.3466532826423645 14.001278309790049\n",
      "0 1.3466532826423645\n",
      "++++++++++++++++++++++++++++++++++++++++++++++++++++++++++\n",
      "1.4408991932868958 14.004032930969615\n",
      "0 1.4408991932868958\n",
      "++++++++++++++++++++++++++++++++++++++++++++++++++++++++++\n",
      "1.3807571530342102 14.002754959975878\n",
      "0 1.3807571530342102\n",
      "++++++++++++++++++++++++++++++++++++++++++++++++++++++++++\n",
      "0.9720776677131653 13.98808944059945\n",
      "0 0.9720776677131653\n",
      "++++++++++++++++++++++++++++++++++++++++++++++++++++++++++\n",
      "1.1227200627326965 13.993543002779411\n",
      "0 1.1227200627326965\n",
      "++++++++++++++++++++++++++++++++++++++++++++++++++++++++++\n",
      "0.9611056447029114 13.987737706884754\n",
      "0 0.9611056447029114\n",
      "++++++++++++++++++++++++++++++++++++++++++++++++++++++++++\n",
      "1.0916619896888733 13.992302891816092\n",
      "0 1.0916619896888733\n",
      "++++++++++++++++++++++++++++++++++++++++++++++++++++++++++\n",
      "1.9048755764961243 14.020373661003116\n",
      "0 1.9048755764961243\n",
      "++++++++++++++++++++++++++++++++++++++++++++++++++++++++++\n",
      "0.9037314057350159 13.985690039726393\n",
      "0 0.9037314057350159\n",
      "++++++++++++++++++++++++++++++++++++++++++++++++++++++++++\n",
      "0.7702088952064514 13.981082791361997\n",
      "0 0.7702088952064514\n",
      "++++++++++++++++++++++++++++++++++++++++++++++++++++++++++\n",
      "1.6152332425117493 14.01041654556353\n",
      "0 1.6152332425117493\n",
      "++++++++++++++++++++++++++++++++++++++++++++++++++++++++++\n",
      "0.7702088952064514 13.981082800117735\n",
      "0 0.7702088952064514\n",
      "++++++++++++++++++++++++++++++++++++++++++++++++++++++++++\n",
      "Done\n"
     ]
    }
   ],
   "source": [
    "print('Craft attack test examples')\n",
    "print('Method', type(adv_crafter))\n",
    "X_test_adv = adv_crafter.generate(X_test)\n",
    "y_test_adv = y_test\n",
    "print('Done')"
   ]
  },
  {
   "cell_type": "code",
   "execution_count": 20,
   "metadata": {},
   "outputs": [
    {
     "name": "stdout",
     "output_type": "stream",
     "text": [
      "Classifier before adversarial training\n",
      "Accuracy on test samples:  0.81\n",
      "Accuracy on adversarial samples:  0.126\n"
     ]
    }
   ],
   "source": [
    "# Evaluate the classifier on the adversarial samples\n",
    "preds = np.argmax(model.predict(X_test), axis=1)\n",
    "acc = np.sum(preds == np.argmax(y_test, axis=1)) / y_test.shape[0]\n",
    "preds_adv = np.argmax(model.predict(X_test_adv), axis=1)\n",
    "acc_adv = np.sum(preds_adv == np.argmax(y_test_adv, axis=1)) / y_test_adv.shape[0]\n",
    "print('Classifier before adversarial training')\n",
    "print('Accuracy on test samples: ', acc)\n",
    "print('Accuracy on adversarial samples: ', acc_adv)\n"
   ]
  },
  {
   "cell_type": "code",
   "execution_count": 21,
   "metadata": {},
   "outputs": [
    {
     "name": "stdout",
     "output_type": "stream",
     "text": [
      "Sample instance from the cifar data set.\n"
     ]
    },
    {
     "data": {
      "image/png": "[encoded data removed]",
      "text/plain": [
       "<Figure size 432x288 with 1 Axes>"
      ]
     },
     "metadata": {},
     "output_type": "display_data"
    }
   ],
   "source": [
    "idx = 222\n",
    "x = X_test[idx: idx + 1]\n",
    "plt.imshow(np.squeeze(x))\n",
    "print('Sample instance from the cifar data set.')"
   ]
  },
  {
   "cell_type": "code",
   "execution_count": 22,
   "metadata": {},
   "outputs": [
    {
     "name": "stdout",
     "output_type": "stream",
     "text": [
      "Sample instance from the cifar data set.\n"
     ]
    },
    {
     "data": {
      "image/png": "[encoded data removed]",
      "text/plain": [
       "<Figure size 432x288 with 1 Axes>"
      ]
     },
     "metadata": {},
     "output_type": "display_data"
    }
   ],
   "source": [
    "xa = X_test_adv[idx: idx + 1]\n",
    "plt.imshow(np.squeeze(xa), 'gray')\n",
    "print('Sample instance from the cifar data set.')"
   ]
  },
  {
   "cell_type": "code",
   "execution_count": 23,
   "metadata": {},
   "outputs": [
    {
     "data": {
      "text/plain": [
       "array([[1.1435114e-19, 4.1844677e-11, 4.0364861e-22, 1.1306498e-20,\n",
       "        2.2380439e-24, 4.4517867e-22, 2.2469382e-26, 1.1734674e-20,\n",
       "        5.9775433e-15, 1.0000000e+00]], dtype=float32)"
      ]
     },
     "execution_count": 23,
     "metadata": {},
     "output_type": "execute_result"
    }
   ],
   "source": [
    "pred_x = m.predict(x)\n",
    "pred_x"
   ]
  },
  {
   "cell_type": "code",
   "execution_count": 24,
   "metadata": {},
   "outputs": [
    {
     "data": {
      "text/plain": [
       "array([[4.7128695e-10, 8.6674082e-01, 6.4625735e-11, 4.8372928e-10,\n",
       "        4.9071892e-12, 2.4473282e-10, 6.3844686e-11, 9.4881311e-11,\n",
       "        1.7257862e-07, 1.3325903e-01]], dtype=float32)"
      ]
     },
     "execution_count": 24,
     "metadata": {},
     "output_type": "execute_result"
    }
   ],
   "source": [
    "pred_xa = m.predict(xa)\n",
    "pred_xa"
   ]
  },
  {
   "cell_type": "code",
   "execution_count": 25,
   "metadata": {},
   "outputs": [
    {
     "data": {
      "text/plain": [
       "True"
      ]
     },
     "execution_count": 25,
     "metadata": {},
     "output_type": "execute_result"
    }
   ],
   "source": [
    "np.allclose(m.predict(X_test), model.predict(X_test), 1e-4)"
   ]
  },
  {
   "cell_type": "code",
   "execution_count": null,
   "metadata": {
    "collapsed": true
   },
   "outputs": [],
   "source": []
  },
  {
   "cell_type": "code",
   "execution_count": null,
   "metadata": {
    "collapsed": true
   },
   "outputs": [],
   "source": []
  },
  {
   "cell_type": "markdown",
   "metadata": {},
   "source": [
    "### nn detection on probability space"
   ]
  },
  {
   "cell_type": "code",
   "execution_count": 26,
   "metadata": {
    "collapsed": true
   },
   "outputs": [],
   "source": [
    "inp = m.input\n",
    "outs = {l.name: l.output for l in m.layers}\n",
    "predict_fns = {name: K.function([inp], [out]) for name, out in outs.items()}\n"
   ]
  },
  {
   "cell_type": "code",
   "execution_count": 27,
   "metadata": {
    "collapsed": true
   },
   "outputs": [],
   "source": [
    "def def_predict_fn(layer='softmax'):\n",
    "    if layer == 'logits':\n",
    "        def predict_fn(x):\n",
    "            layer = predict_fns['logits']([x])\n",
    "            return layer[0]\n",
    "    elif layer == 'softmax':\n",
    "        def predict_fn(x):\n",
    "            return m.predict(x)\n",
    "    return predict_fn"
   ]
  },
  {
   "cell_type": "code",
   "execution_count": 28,
   "metadata": {},
   "outputs": [
    {
     "name": "stdout",
     "output_type": "stream",
     "text": [
      "100\n",
      "0.6002217388641884 0.996\n",
      "0.0040000000000000036\n",
      "200\n",
      "0.5596571386905492 0.9940000000000001\n",
      "0.005999999999999894\n",
      "300\n",
      "0.4986070657859072 0.988\n",
      "0.01200000000000001\n",
      "400\n",
      "0.454003159607495 0.98\n",
      "0.020000000000000018\n",
      "500\n",
      "0.418672030547104 0.99\n",
      "0.010000000000000009\n",
      "1000\n",
      "0.4013436018213751 0.9940000000000001\n",
      "0.005999999999999894\n",
      "1500\n",
      "0.3613037293439489 0.99\n",
      "0.010000000000000009\n",
      "2000\n",
      "0.3387751868748528 0.9840000000000001\n",
      "0.015999999999999903\n",
      "2500\n",
      "0.3236794903520113 0.986\n",
      "0.014000000000000012\n",
      "3000\n",
      "0.29703947811409526 0.9840000000000001\n",
      "0.015999999999999903\n",
      "3500\n",
      "0.28241340162464124 0.986\n",
      "0.014000000000000012\n",
      "4000\n",
      "0.28104559576585825 0.9820000000000001\n",
      "0.017999999999999905\n",
      "4500\n",
      "0.2861993805226866 0.9720000000000001\n",
      "0.027999999999999914\n",
      "5000\n",
      "0.2738210989947621 0.98\n",
      "0.020000000000000018\n"
     ]
    }
   ],
   "source": [
    "nbs = []\n",
    "percs = []\n",
    "predict_fn = def_predict_fn(layer='softmax')\n",
    "for nb_samples in [100, 200, 300, 400, 500, 1000, 1500, 2000, 2500, 3000, 3500, 4000, 4500, 5000]:\n",
    "    print(nb_samples)\n",
    "    perc, df_dist, sigma_plus = calculate_perc_nn(X_train, X_test, X_test_adv, predict_fn, \n",
    "                                                  nb_samples=nb_samples,  nb_sigmas=3)\n",
    "    nbs.append(nb_samples)\n",
    "    percs.append(perc)\n",
    "    print(perc)\n",
    "df_curve = pd.DataFrame()\n",
    "df_curve['nb_samples'] = nbs\n",
    "df_curve['percs'] = percs"
   ]
  },
  {
   "cell_type": "code",
   "execution_count": 29,
   "metadata": {},
   "outputs": [
    {
     "data": {
      "text/plain": [
       "<matplotlib.axes._subplots.AxesSubplot at 0x7f568835fa90>"
      ]
     },
     "execution_count": 29,
     "metadata": {},
     "output_type": "execute_result"
    },
    {
     "data": {
      "image/png": "[encoded data removed]",
      "text/plain": [
       "<Figure size 1080x576 with 1 Axes>"
      ]
     },
     "metadata": {},
     "output_type": "display_data"
    }
   ],
   "source": [
    "df_curve.plot(kind='scatter', x='nb_samples', y='percs', logx=False, figsize=(15, 8))"
   ]
  },
  {
   "cell_type": "code",
   "execution_count": 30,
   "metadata": {},
   "outputs": [
    {
     "name": "stdout",
     "output_type": "stream",
     "text": [
      "0.15513291943443616 0.9720000000000001\n"
     ]
    },
    {
     "data": {
      "text/plain": [
       "0.027999999999999914"
      ]
     },
     "execution_count": 30,
     "metadata": {},
     "output_type": "execute_result"
    }
   ],
   "source": [
    "perc, df_dist, sigma_plus = calculate_perc_nn(X_train, X_test, X_test_adv, predict_fn, nb_samples=50000, nb_sigmas=3)\n",
    "perc"
   ]
  },
  {
   "cell_type": "code",
   "execution_count": 31,
   "metadata": {},
   "outputs": [
    {
     "data": {
      "text/html": [
       "<div>\n",
       "<style scoped>\n",
       "    .dataframe tbody tr th:only-of-type {\n",
       "        vertical-align: middle;\n",
       "    }\n",
       "\n",
       "    .dataframe tbody tr th {\n",
       "        vertical-align: top;\n",
       "    }\n",
       "\n",
       "    .dataframe thead th {\n",
       "        text-align: right;\n",
       "    }\n",
       "</style>\n",
       "<table border=\"1\" class=\"dataframe\">\n",
       "  <thead>\n",
       "    <tr style=\"text-align: right;\">\n",
       "      <th></th>\n",
       "      <th>test</th>\n",
       "      <th>adv</th>\n",
       "    </tr>\n",
       "  </thead>\n",
       "  <tbody>\n",
       "    <tr>\n",
       "      <th>count</th>\n",
       "      <td>5.000000e+02</td>\n",
       "      <td>5.000000e+02</td>\n",
       "    </tr>\n",
       "    <tr>\n",
       "      <th>mean</th>\n",
       "      <td>2.096869e-02</td>\n",
       "      <td>3.455780e-02</td>\n",
       "    </tr>\n",
       "    <tr>\n",
       "      <th>std</th>\n",
       "      <td>4.472141e-02</td>\n",
       "      <td>4.366425e-02</td>\n",
       "    </tr>\n",
       "    <tr>\n",
       "      <th>min</th>\n",
       "      <td>1.406089e-18</td>\n",
       "      <td>3.022150e-09</td>\n",
       "    </tr>\n",
       "    <tr>\n",
       "      <th>2.8%</th>\n",
       "      <td>8.510214e-12</td>\n",
       "      <td>5.059748e-05</td>\n",
       "    </tr>\n",
       "    <tr>\n",
       "      <th>50%</th>\n",
       "      <td>8.153074e-04</td>\n",
       "      <td>1.755639e-02</td>\n",
       "    </tr>\n",
       "    <tr>\n",
       "      <th>90%</th>\n",
       "      <td>7.841779e-02</td>\n",
       "      <td>9.340181e-02</td>\n",
       "    </tr>\n",
       "    <tr>\n",
       "      <th>max</th>\n",
       "      <td>3.617738e-01</td>\n",
       "      <td>2.478527e-01</td>\n",
       "    </tr>\n",
       "  </tbody>\n",
       "</table>\n",
       "</div>"
      ],
      "text/plain": [
       "               test           adv\n",
       "count  5.000000e+02  5.000000e+02\n",
       "mean   2.096869e-02  3.455780e-02\n",
       "std    4.472141e-02  4.366425e-02\n",
       "min    1.406089e-18  3.022150e-09\n",
       "2.8%   8.510214e-12  5.059748e-05\n",
       "50%    8.153074e-04  1.755639e-02\n",
       "90%    7.841779e-02  9.340181e-02\n",
       "max    3.617738e-01  2.478527e-01"
      ]
     },
     "execution_count": 31,
     "metadata": {},
     "output_type": "execute_result"
    }
   ],
   "source": [
    "df_dist.describe(percentiles=[0.5, 0.9, perc])"
   ]
  },
  {
   "cell_type": "code",
   "execution_count": 32,
   "metadata": {},
   "outputs": [
    {
     "data": {
      "text/plain": [
       "<matplotlib.axes._subplots.AxesSubplot at 0x7f568828b8d0>"
      ]
     },
     "execution_count": 32,
     "metadata": {},
     "output_type": "execute_result"
    },
    {
     "data": {
      "image/png": "[encoded data removed]",
      "text/plain": [
       "<Figure size 1080x576 with 1 Axes>"
      ]
     },
     "metadata": {},
     "output_type": "display_data"
    }
   ],
   "source": [
    "fig, ax = plt.subplots(figsize=(15, 8))\n",
    "sns.distplot(df_dist['test'], rug=True, ax=ax, kde=False)\n",
    "plt.axvline(sigma_plus, c='r', linestyle='dashed')\n",
    "sns.distplot(df_dist['adv'], rug=True,ax=ax, kde=False)"
   ]
  },
  {
   "cell_type": "code",
   "execution_count": 33,
   "metadata": {
    "collapsed": true
   },
   "outputs": [],
   "source": [
    "dist_test, dist_adv = df_dist['test'], df_dist['adv']"
   ]
  },
  {
   "cell_type": "code",
   "execution_count": 34,
   "metadata": {
    "collapsed": true
   },
   "outputs": [],
   "source": [
    "x_bl =  np.concatenate((dist_test, dist_adv))\n",
    "y_bl = np.concatenate((np.zeros(len(dist_test)), np.ones(len(dist_adv))))\n",
    "x_bl = x_bl / x_bl.max()"
   ]
  },
  {
   "cell_type": "code",
   "execution_count": 35,
   "metadata": {},
   "outputs": [
    {
     "data": {
      "text/plain": [
       "(0.0, 1.0)"
      ]
     },
     "execution_count": 35,
     "metadata": {},
     "output_type": "execute_result"
    },
    {
     "data": {
      "image/png": "[encoded data removed]",
      "text/plain": [
       "<Figure size 432x288 with 1 Axes>"
      ]
     },
     "metadata": {},
     "output_type": "display_data"
    }
   ],
   "source": [
    "\n",
    "precision_bl, recall_bl, thresholds_bl = precision_recall_curve(y_bl, x_bl)\n",
    "\n",
    "# In matplotlib < 1.5, plt.fill_between does not have a 'step' argument\n",
    "step_kwargs = ({'step': 'post'}\n",
    "               if 'step' in signature(plt.fill_between).parameters\n",
    "               else {})\n",
    "plt.step(recall_bl, precision_bl, color='b', alpha=0.2,\n",
    "         where='post')\n",
    "plt.fill_between(recall_bl, precision_bl, alpha=0.2, color='b', **step_kwargs)\n",
    "\n",
    "plt.xlabel('Recall')\n",
    "plt.ylabel('Precision')\n",
    "plt.ylim([0.0, 1.05])\n",
    "plt.xlim([0.0, 1.0])"
   ]
  },
  {
   "cell_type": "code",
   "execution_count": null,
   "metadata": {
    "collapsed": true
   },
   "outputs": [],
   "source": []
  },
  {
   "cell_type": "markdown",
   "metadata": {},
   "source": [
    "## Detect through symmetry "
   ]
  },
  {
   "cell_type": "code",
   "execution_count": 36,
   "metadata": {
    "scrolled": true
   },
   "outputs": [
    {
     "data": {
      "text/plain": [
       "<module 'model_symmetries' from '../odcd/cd/model_symmetries.py'>"
      ]
     },
     "execution_count": 36,
     "metadata": {},
     "output_type": "execute_result"
    }
   ],
   "source": [
    "reload(vsf)"
   ]
  },
  {
   "cell_type": "code",
   "execution_count": 37,
   "metadata": {
    "collapsed": true
   },
   "outputs": [],
   "source": [
    "#model_layer = tf.keras.layers.Lambda(m.predict)"
   ]
  },
  {
   "cell_type": "code",
   "execution_count": 96,
   "metadata": {},
   "outputs": [
    {
     "name": "stdout",
     "output_type": "stream",
     "text": [
      "__________________________________________________________________________________________________\n",
      "Layer (type)                    Output Shape         Param #     Connected to                     \n",
      "==================================================================================================\n",
      "encoder_input (InputLayer)      (None, 32, 32, 3)    0                                            \n",
      "__________________________________________________________________________________________________\n",
      "conv2d_6 (Conv2D)               (None, 16, 16, 32)   1568        encoder_input[0][0]              \n",
      "__________________________________________________________________________________________________\n",
      "dropout_11 (Dropout)            (None, 16, 16, 32)   0           conv2d_6[0][0]                   \n",
      "__________________________________________________________________________________________________\n",
      "flatten_6 (Flatten)             (None, 8192)         0           dropout_11[0][0]                 \n",
      "__________________________________________________________________________________________________\n",
      "z_mean (Dense)                  (None, 2048)         16779264    flatten_6[0][0]                  \n",
      "__________________________________________________________________________________________________\n",
      "dense_11 (Dense)                (None, 128)          262272      z_mean[0][0]                     \n",
      "__________________________________________________________________________________________________\n",
      "dense_12 (Dense)                (None, 8192)         1056768     dense_11[0][0]                   \n",
      "__________________________________________________________________________________________________\n",
      "reshape_6 (Reshape)             (None, 16, 16, 32)   0           dense_12[0][0]                   \n",
      "__________________________________________________________________________________________________\n",
      "conv2d_transpose_6 (Conv2DTrans (None, 32, 32, 32)   16416       reshape_6[0][0]                  \n",
      "__________________________________________________________________________________________________\n",
      "dropout_12 (Dropout)            (None, 32, 32, 32)   0           conv2d_transpose_6[0][0]         \n",
      "__________________________________________________________________________________________________\n",
      "decoder_output (Conv2DTranspose (None, 32, 32, 3)    1539        dropout_12[0][0]                 \n",
      "__________________________________________________________________________________________________\n",
      "model_1 (Model)                 (None, 10)           1250858     decoder_output[0][0]             \n",
      "                                                                 encoder_input[0][0]              \n",
      "==================================================================================================\n",
      "Total params: 19,368,685\n",
      "Trainable params: 18,117,827\n",
      "Non-trainable params: 1,250,858\n",
      "__________________________________________________________________________________________________\n"
     ]
    }
   ],
   "source": [
    "vae = vsf.VaeSymmetryFinderConvKeras(m, input_shape=(32, 32, 3), rgb_filters=3, dropout=0.2,\n",
    "                                     intermediate_activation='relu', output_shape=(10, ), \n",
    "                                     nb_conv_layers=1, lr=0.001, filters=16, kernel_size=(4, 4),\n",
    "                                     intermediate_dim=128, variational=False, opt='Adam', strides=2,\n",
    "                                     latent_dim=2048, loss_type='kl_1', add_latent_loss=False)"
   ]
  },
  {
   "cell_type": "code",
   "execution_count": 97,
   "metadata": {
    "collapsed": true
   },
   "outputs": [],
   "source": [
    "train = True"
   ]
  },
  {
   "cell_type": "code",
   "execution_count": 98,
   "metadata": {
    "collapsed": true
   },
   "outputs": [],
   "source": [
    "mcp = ModelCheckpoint('vae_weights_cifar_adv.h5', \n",
    "                      monitor='val_loss', \n",
    "                      verbose=1, \n",
    "                      save_best_only=True, \n",
    "                      save_weights_only=True, \n",
    "                      mode='auto', period=1)\n",
    "es = EarlyStopping(monitor='val_loss', patience=10, verbose=1, mode='auto')"
   ]
  },
  {
   "cell_type": "code",
   "execution_count": 99,
   "metadata": {},
   "outputs": [
    {
     "name": "stdout",
     "output_type": "stream",
     "text": [
      "Train on 50000 samples, validate on 500 samples\n",
      "Epoch 1/150\n",
      "50000/50000 [==============================] - 12s 230us/step - loss: 2.1137 - val_loss: 1.3266\n",
      "\n",
      "Epoch 00001: val_loss improved from inf to 1.32662, saving model to vae_weights_cifar_adv.h5\n",
      "Epoch 2/150\n",
      "50000/50000 [==============================] - 9s 177us/step - loss: 1.4850 - val_loss: 1.0876\n",
      "\n",
      "Epoch 00002: val_loss improved from 1.32662 to 1.08763, saving model to vae_weights_cifar_adv.h5\n",
      "Epoch 3/150\n",
      "50000/50000 [==============================] - 9s 177us/step - loss: 1.3261 - val_loss: 0.9865\n",
      "\n",
      "Epoch 00003: val_loss improved from 1.08763 to 0.98645, saving model to vae_weights_cifar_adv.h5\n",
      "Epoch 4/150\n",
      "50000/50000 [==============================] - 9s 178us/step - loss: 1.2028 - val_loss: 0.9662\n",
      "\n",
      "Epoch 00004: val_loss improved from 0.98645 to 0.96618, saving model to vae_weights_cifar_adv.h5\n",
      "Epoch 5/150\n",
      "50000/50000 [==============================] - 9s 177us/step - loss: 1.1088 - val_loss: 0.9199\n",
      "\n",
      "Epoch 00005: val_loss improved from 0.96618 to 0.91993, saving model to vae_weights_cifar_adv.h5\n",
      "Epoch 6/150\n",
      "50000/50000 [==============================] - 9s 177us/step - loss: 1.0201 - val_loss: 0.8751\n",
      "\n",
      "Epoch 00006: val_loss improved from 0.91993 to 0.87506, saving model to vae_weights_cifar_adv.h5\n",
      "Epoch 7/150\n",
      "50000/50000 [==============================] - 9s 177us/step - loss: 0.9608 - val_loss: 0.9065\n",
      "\n",
      "Epoch 00007: val_loss did not improve from 0.87506\n",
      "Epoch 8/150\n",
      "50000/50000 [==============================] - 9s 177us/step - loss: 0.8849 - val_loss: 0.8192\n",
      "\n",
      "Epoch 00008: val_loss improved from 0.87506 to 0.81923, saving model to vae_weights_cifar_adv.h5\n",
      "Epoch 9/150\n",
      "50000/50000 [==============================] - 9s 177us/step - loss: 0.8285 - val_loss: 0.8413\n",
      "\n",
      "Epoch 00009: val_loss did not improve from 0.81923\n",
      "Epoch 10/150\n",
      "50000/50000 [==============================] - 9s 177us/step - loss: 0.7740 - val_loss: 0.8332\n",
      "\n",
      "Epoch 00010: val_loss did not improve from 0.81923\n",
      "Epoch 11/150\n",
      "50000/50000 [==============================] - 9s 177us/step - loss: 0.7266 - val_loss: 0.9299\n",
      "\n",
      "Epoch 00011: val_loss did not improve from 0.81923\n",
      "Epoch 12/150\n",
      "50000/50000 [==============================] - 9s 178us/step - loss: 0.6820 - val_loss: 0.8198\n",
      "\n",
      "Epoch 00012: val_loss did not improve from 0.81923\n",
      "Epoch 13/150\n",
      "50000/50000 [==============================] - 9s 177us/step - loss: 0.6557 - val_loss: 0.9355\n",
      "\n",
      "Epoch 00013: val_loss did not improve from 0.81923\n",
      "Epoch 14/150\n",
      "50000/50000 [==============================] - 9s 177us/step - loss: 0.6155 - val_loss: 0.8216\n",
      "\n",
      "Epoch 00014: val_loss did not improve from 0.81923\n",
      "Epoch 15/150\n",
      "50000/50000 [==============================] - 9s 177us/step - loss: 0.5947 - val_loss: 0.8830\n",
      "\n",
      "Epoch 00015: val_loss did not improve from 0.81923\n",
      "Epoch 16/150\n",
      "50000/50000 [==============================] - 9s 178us/step - loss: 0.5694 - val_loss: 0.8442\n",
      "\n",
      "Epoch 00016: val_loss did not improve from 0.81923\n",
      "Epoch 17/150\n",
      "50000/50000 [==============================] - 9s 177us/step - loss: 0.5574 - val_loss: 0.8743\n",
      "\n",
      "Epoch 00017: val_loss did not improve from 0.81923\n",
      "Epoch 18/150\n",
      "50000/50000 [==============================] - 9s 177us/step - loss: 0.5286 - val_loss: 0.9112\n",
      "\n",
      "Epoch 00018: val_loss did not improve from 0.81923\n",
      "Epoch 00018: early stopping\n"
     ]
    }
   ],
   "source": [
    "if train:\n",
    "    vae.fit(X_train, x_test=X_test, epochs=150, callbacks=[mcp, es])\n",
    "    vae.save(arch_path='vae_arch_cifar_adv.json', weights_path='vae_weights_cifar_adv_2.h5', save_model_only=True)"
   ]
  },
  {
   "cell_type": "code",
   "execution_count": 100,
   "metadata": {
    "collapsed": true
   },
   "outputs": [],
   "source": [
    "#vae.save(arch_path='vae_arch_cifar_adv.json', weights_path='vae_weights_cifar_adv_2.h5', save_model_only=True)"
   ]
  },
  {
   "cell_type": "code",
   "execution_count": 101,
   "metadata": {},
   "outputs": [
    {
     "name": "stdout",
     "output_type": "stream",
     "text": [
      "Loaded model from disk\n"
     ]
    }
   ],
   "source": [
    "vae_loaded = vsf.load_vae(arch_path='vae_arch_cifar_adv.json', \n",
    "                          weights_path='vae_weights_cifar_adv.h5', \n",
    "                          model_type='keras', signal_type='kl_1')\n",
    "#vae_loaded = vae"
   ]
  },
  {
   "cell_type": "markdown",
   "metadata": {},
   "source": [
    "## Stream"
   ]
  },
  {
   "cell_type": "code",
   "execution_count": 102,
   "metadata": {
    "collapsed": true
   },
   "outputs": [],
   "source": [
    "# Symmetry signal\n",
    "#X_train_perm = np.random.permutation(X_train)\n",
    "#X_test_perm = np.random.permutation(X_test)\n",
    "#X_adv_perm = np.random.permutation(X_adv)\n",
    "\n",
    "amp = 1\n",
    "kl_train = vae_loaded.signal(X_train, amp=amp)\n",
    "idx_train = np.where((kl_train == np.inf) | (kl_train == np.nan))[0]\n",
    "kl_train = np.delete(kl_train, idx, axis=0)\n",
    "\n",
    "kl_test = vae_loaded.signal(X_test, amp=amp)\n",
    "kl_adv = vae_loaded.signal(X_test_adv, amp=amp)\n",
    "\n",
    "idx_test = np.where(kl_test == np.inf)[0]\n",
    "kl_test = np.delete(kl_test, idx, axis=0)\n",
    "\n",
    "kl_adv = np.delete(kl_adv, idx, axis=0)\n",
    "\n",
    "baseline_std_plus = kl_train.mean() + kl_train.std()\n",
    "baseline_std_minus = kl_train.mean() - kl_train.std()\n",
    "\n",
    "kl_concat = np.concatenate((kl_test, kl_adv))\n",
    "tr = kl_test.shape[0]"
   ]
  },
  {
   "cell_type": "code",
   "execution_count": 103,
   "metadata": {},
   "outputs": [
    {
     "name": "stdout",
     "output_type": "stream",
     "text": [
      "(49999,) (499,) (499,)\n"
     ]
    }
   ],
   "source": [
    "print(kl_train.shape, kl_test.shape, kl_adv.shape)"
   ]
  },
  {
   "cell_type": "code",
   "execution_count": null,
   "metadata": {
    "collapsed": true
   },
   "outputs": [],
   "source": []
  },
  {
   "cell_type": "code",
   "execution_count": 104,
   "metadata": {},
   "outputs": [
    {
     "data": {
      "text/plain": [
       "array([[1.1435114e-19, 4.1844677e-11, 4.0364861e-22, 1.1306498e-20,\n",
       "        2.2380439e-24, 4.4517867e-22, 2.2469382e-26, 1.1734674e-20,\n",
       "        5.9775433e-15, 1.0000000e+00]], dtype=float32)"
      ]
     },
     "execution_count": 104,
     "metadata": {},
     "output_type": "execute_result"
    }
   ],
   "source": [
    "vae_loaded.predict_original(x)"
   ]
  },
  {
   "cell_type": "code",
   "execution_count": 105,
   "metadata": {},
   "outputs": [
    {
     "data": {
      "text/plain": [
       "array([[6.4864886e-05, 1.0043788e-02, 1.0433258e-07, 2.1598638e-05,\n",
       "        7.3940343e-10, 1.6583104e-05, 1.4775045e-06, 1.1585524e-06,\n",
       "        2.0188862e-05, 9.8983020e-01]], dtype=float32)"
      ]
     },
     "execution_count": 105,
     "metadata": {},
     "output_type": "execute_result"
    }
   ],
   "source": [
    "vae_loaded.transform_predict(x)"
   ]
  },
  {
   "cell_type": "code",
   "execution_count": 106,
   "metadata": {},
   "outputs": [
    {
     "data": {
      "text/plain": [
       "array([[4.7128695e-10, 8.6674082e-01, 6.4625735e-11, 4.8372928e-10,\n",
       "        4.9071892e-12, 2.4473282e-10, 6.3844686e-11, 9.4881311e-11,\n",
       "        1.7257862e-07, 1.3325903e-01]], dtype=float32)"
      ]
     },
     "execution_count": 106,
     "metadata": {},
     "output_type": "execute_result"
    }
   ],
   "source": [
    "vae_loaded.predict_original(xa)"
   ]
  },
  {
   "cell_type": "code",
   "execution_count": 107,
   "metadata": {},
   "outputs": [
    {
     "data": {
      "text/plain": [
       "array([[1.2522614e-04, 1.8856311e-02, 2.2764434e-07, 2.9919032e-05,\n",
       "        1.4778994e-09, 2.3343317e-05, 3.3837409e-06, 1.4451979e-06,\n",
       "        4.2486998e-05, 9.8091769e-01]], dtype=float32)"
      ]
     },
     "execution_count": 107,
     "metadata": {},
     "output_type": "execute_result"
    }
   ],
   "source": [
    "vae_loaded.transform_predict(xa)"
   ]
  },
  {
   "cell_type": "code",
   "execution_count": 108,
   "metadata": {},
   "outputs": [
    {
     "name": "stdout",
     "output_type": "stream",
     "text": [
      "0.6997171 0.77758557\n"
     ]
    }
   ],
   "source": [
    "print(kl_train.mean(), kl_train.std())"
   ]
  },
  {
   "cell_type": "code",
   "execution_count": 109,
   "metadata": {},
   "outputs": [
    {
     "name": "stdout",
     "output_type": "stream",
     "text": [
      "0.82085043 0.87964296\n"
     ]
    }
   ],
   "source": [
    "print(kl_test.mean(), kl_test.std())"
   ]
  },
  {
   "cell_type": "code",
   "execution_count": 110,
   "metadata": {},
   "outputs": [
    {
     "name": "stdout",
     "output_type": "stream",
     "text": [
      "1.7271663 1.5972496\n"
     ]
    }
   ],
   "source": [
    "print(kl_adv.mean(), kl_adv.std())"
   ]
  },
  {
   "cell_type": "code",
   "execution_count": 111,
   "metadata": {},
   "outputs": [
    {
     "data": {
      "text/plain": [
       "<matplotlib.image.AxesImage at 0x7f55f675a5c0>"
      ]
     },
     "execution_count": 111,
     "metadata": {},
     "output_type": "execute_result"
    },
    {
     "data": {
      "image/png": "[encoded data removed]",
      "text/plain": [
       "<Figure size 432x288 with 1 Axes>"
      ]
     },
     "metadata": {},
     "output_type": "display_data"
    }
   ],
   "source": [
    "plt.imshow(np.squeeze(X_test[0]))"
   ]
  },
  {
   "cell_type": "code",
   "execution_count": 112,
   "metadata": {},
   "outputs": [
    {
     "data": {
      "text/plain": [
       "<matplotlib.image.AxesImage at 0x7f55f4ac2470>"
      ]
     },
     "execution_count": 112,
     "metadata": {},
     "output_type": "execute_result"
    },
    {
     "data": {
      "image/png": "[encoded data removed]",
      "text/plain": [
       "<Figure size 432x288 with 1 Axes>"
      ]
     },
     "metadata": {},
     "output_type": "display_data"
    }
   ],
   "source": [
    "plt.imshow(np.squeeze(X_test_adv[0]))"
   ]
  },
  {
   "cell_type": "markdown",
   "metadata": {},
   "source": [
    "### Detector curves"
   ]
  },
  {
   "cell_type": "code",
   "execution_count": 159,
   "metadata": {},
   "outputs": [
    {
     "data": {
      "text/plain": [
       "array([427, 325,  80, 185,  11,  21, 381, 314, 151, 456, 324, 483, 235,\n",
       "        98, 482, 485, 128, 478, 442, 317, 180, 301, 343,  44,  27, 493,\n",
       "       264,  36, 418, 452, 277, 113, 138, 182, 172, 221, 210, 268, 207,\n",
       "       232,  31, 349, 323, 397, 267, 133, 454, 416,  65, 310, 450,   5,\n",
       "       458, 319,  95,  83, 333, 290, 369,  29, 464, 403,  90,  47, 215,\n",
       "       186,  15, 411, 181, 104, 484,  25, 357, 261, 332, 365,   1,  70,\n",
       "       340, 106, 130, 148, 116,  87, 461, 219, 135, 395, 205, 203, 107,\n",
       "       168,  50, 419, 377, 117,  24, 286, 330, 124, 438,  46, 445, 346,\n",
       "        82, 166,  22, 394,  53, 432, 123, 463, 282, 436, 476, 163, 496,\n",
       "       204,  79, 399, 234, 167, 260,  48, 444, 358, 256, 370,  58, 401,\n",
       "       338, 250,  63, 329, 362, 353,  73, 169,  68, 429, 245, 389, 145,\n",
       "       318, 244, 174, 481, 141,  88, 392, 344, 160, 384, 443, 405, 152,\n",
       "       457, 296, 473,  26, 247, 103, 446, 131,  51, 285, 271, 367, 229,\n",
       "       426, 281, 303,  66, 360, 495,  57,  49, 144, 292, 335, 110, 363,\n",
       "       251, 400, 114, 326, 479, 165,  74, 190,  16, 474, 475, 126, 197,\n",
       "        14, 289,  43, 407, 270])"
      ]
     },
     "execution_count": 159,
     "metadata": {},
     "output_type": "execute_result"
    }
   ],
   "source": [
    "perm = np.random.permutation(range(len(kl_adv)))[:200]\n",
    "perm"
   ]
  },
  {
   "cell_type": "code",
   "execution_count": 160,
   "metadata": {
    "collapsed": true
   },
   "outputs": [],
   "source": [
    "x_kl = np.concatenate((kl_test, kl_adv[perm]))\n",
    "y_kl = np.concatenate((np.zeros(len(kl_test)), np.ones(len(kl_adv[perm]))))\n",
    "x_kl = x_kl / x_kl.max()"
   ]
  },
  {
   "cell_type": "code",
   "execution_count": 161,
   "metadata": {
    "collapsed": true
   },
   "outputs": [],
   "source": [
    "X_train_samples = np.random.permutation(X_train)[:2500]\n",
    "preds_train = predict_fn(X_train_samples)\n",
    "nn = NearestNeighbors()\n",
    "nn.fit(preds_train)\n",
    "    \n",
    "preds_test, preds_adv = predict_fn(X_test), predict_fn(X_test_adv)\n",
    "dist_test, idx_test = nn.kneighbors(preds_test, n_neighbors=1)\n",
    "dist_adv, idx_adv = nn.kneighbors(preds_adv, n_neighbors=1)"
   ]
  },
  {
   "cell_type": "code",
   "execution_count": 162,
   "metadata": {
    "collapsed": true
   },
   "outputs": [],
   "source": [
    "x_bl =  np.concatenate((dist_test, dist_adv[perm]))\n",
    "y_bl = np.concatenate((np.zeros(len(dist_test)), np.ones(len(dist_adv[perm]))))\n",
    "x_bl = x_bl / x_bl.max()"
   ]
  },
  {
   "cell_type": "code",
   "execution_count": null,
   "metadata": {
    "collapsed": true
   },
   "outputs": [],
   "source": []
  },
  {
   "cell_type": "code",
   "execution_count": 163,
   "metadata": {},
   "outputs": [
    {
     "data": {
      "text/plain": [
       "(0.0, 1.0)"
      ]
     },
     "execution_count": 163,
     "metadata": {},
     "output_type": "execute_result"
    },
    {
     "data": {
      "image/png": "[encoded data removed]",
      "text/plain": [
       "<Figure size 432x288 with 1 Axes>"
      ]
     },
     "metadata": {},
     "output_type": "display_data"
    }
   ],
   "source": [
    "\n",
    "precision_bl, recall_bl, thresholds_bl = precision_recall_curve(y_bl, x_bl)\n",
    "\n",
    "# In matplotlib < 1.5, plt.fill_between does not have a 'step' argument\n",
    "step_kwargs = ({'step': 'post'}\n",
    "               if 'step' in signature(plt.fill_between).parameters\n",
    "               else {})\n",
    "plt.step(recall_bl, precision_bl, color='b', alpha=0.2,\n",
    "         where='post')\n",
    "plt.fill_between(recall_bl, precision_bl, alpha=0.2, color='b', **step_kwargs)\n",
    "\n",
    "plt.xlabel('Recall')\n",
    "plt.ylabel('Precision')\n",
    "plt.ylim([0.0, 1.05])\n",
    "plt.xlim([0.0, 1.0])"
   ]
  },
  {
   "cell_type": "code",
   "execution_count": 164,
   "metadata": {},
   "outputs": [
    {
     "data": {
      "text/plain": [
       "(0.0, 1.0)"
      ]
     },
     "execution_count": 164,
     "metadata": {},
     "output_type": "execute_result"
    },
    {
     "data": {
      "image/png": "[encoded data removed]",
      "text/plain": [
       "<Figure size 432x288 with 1 Axes>"
      ]
     },
     "metadata": {},
     "output_type": "display_data"
    }
   ],
   "source": [
    "precision, recall, thresholds = precision_recall_curve(y_kl, x_kl)\n",
    "\n",
    "# In matplotlib < 1.5, plt.fill_between does not have a 'step' argument\n",
    "step_kwargs = ({'step': 'post'}\n",
    "               if 'step' in signature(plt.fill_between).parameters\n",
    "               else {})\n",
    "plt.step(recall, precision, color='b', alpha=0.2,\n",
    "         where='post')\n",
    "plt.fill_between(recall, precision, alpha=0.2, color='b', **step_kwargs)\n",
    "\n",
    "plt.xlabel('Recall')\n",
    "plt.ylabel('Precision')\n",
    "plt.ylim([0.0, 1.05])\n",
    "plt.xlim([0.0, 1.0])"
   ]
  },
  {
   "cell_type": "code",
   "execution_count": 165,
   "metadata": {},
   "outputs": [
    {
     "name": "stdout",
     "output_type": "stream",
     "text": [
      "8.475572764873505 0.8357304562374039\n"
     ]
    }
   ],
   "source": [
    "min_train = kl_train.mean()\n",
    "max_train = kl_train.mean() + 10 * kl_train.std()\n",
    "min_bl = dist_test.mean()\n",
    "max_bl = dist_adv.mean() + 10 * dist_adv.std()\n",
    "print(max_train, max_bl)"
   ]
  },
  {
   "cell_type": "code",
   "execution_count": 166,
   "metadata": {
    "collapsed": true
   },
   "outputs": [],
   "source": [
    "trs = np.arange(0, max_train, 0.005)"
   ]
  },
  {
   "cell_type": "code",
   "execution_count": 167,
   "metadata": {
    "collapsed": true
   },
   "outputs": [],
   "source": [
    "def predict_adv(x, tr):\n",
    "    return (x >= tr).astype(int)"
   ]
  },
  {
   "cell_type": "code",
   "execution_count": 168,
   "metadata": {},
   "outputs": [
    {
     "name": "stderr",
     "output_type": "stream",
     "text": [
      "/home/Gigio/anaconda3/lib/python3.6/site-packages/sklearn/metrics/classification.py:1437: UndefinedMetricWarning: Precision is ill-defined and being set to 0.0 due to no predicted samples.\n",
      "  'precision', 'predicted', average, warn_for)\n"
     ]
    }
   ],
   "source": [
    "tresholds, precs, recals, accs = [], [], [], []\n",
    "precs_bl, recals_bl, accs_bl = [], [], []\n",
    "for tr in trs:\n",
    "    preds_kl = predict_adv(x_kl, tr)\n",
    "    preds_bl = predict_adv(x_bl, tr)\n",
    "    \n",
    "    prec = precision_score(y_kl, preds_kl)\n",
    "    rec = recall_score(y_kl, preds_kl)\n",
    "    acc= accuracy_score(y_kl, preds_kl)\n",
    "\n",
    "    prec_bl = precision_score(y_bl, preds_bl)\n",
    "    rec_bl = recall_score(y_bl, preds_bl)\n",
    "    acc_bl = accuracy_score(y_bl, preds_bl)\n",
    "    \n",
    "    tresholds.append(tr)\n",
    "    precs.append(prec)\n",
    "    recals.append(rec)\n",
    "    accs.append(acc)\n",
    "    \n",
    "    precs_bl.append(prec_bl)\n",
    "    recals_bl.append(rec_bl)\n",
    "    accs_bl.append(acc_bl)\n",
    "\n",
    "\n",
    "df_scores = pd.DataFrame()\n",
    "df_scores['trs'] = tresholds\n",
    "df_scores['precs'] = precs\n",
    "df_scores['recs'] = recals\n",
    "df_scores['accs'] = accs\n",
    "\n",
    "df_scores['precs_bl'] = precs_bl\n",
    "df_scores['recs_bl'] = recals_bl\n",
    "df_scores['accs_bl'] = accs_bl"
   ]
  },
  {
   "cell_type": "code",
   "execution_count": 169,
   "metadata": {},
   "outputs": [
    {
     "data": {
      "text/plain": [
       "<matplotlib.axes._subplots.AxesSubplot at 0x7f55f4679470>"
      ]
     },
     "execution_count": 169,
     "metadata": {},
     "output_type": "execute_result"
    },
    {
     "data": {
      "image/png": "[encoded data removed]",
      "text/plain": [
       "<Figure size 1080x576 with 1 Axes>"
      ]
     },
     "metadata": {},
     "output_type": "display_data"
    }
   ],
   "source": [
    "df_scores.plot(x= 'trs',y=['accs', 'accs_bl'], figsize=(15, 8))"
   ]
  },
  {
   "cell_type": "code",
   "execution_count": 170,
   "metadata": {},
   "outputs": [
    {
     "data": {
      "text/html": [
       "<div>\n",
       "<style scoped>\n",
       "    .dataframe tbody tr th:only-of-type {\n",
       "        vertical-align: middle;\n",
       "    }\n",
       "\n",
       "    .dataframe tbody tr th {\n",
       "        vertical-align: top;\n",
       "    }\n",
       "\n",
       "    .dataframe thead th {\n",
       "        text-align: right;\n",
       "    }\n",
       "</style>\n",
       "<table border=\"1\" class=\"dataframe\">\n",
       "  <thead>\n",
       "    <tr style=\"text-align: right;\">\n",
       "      <th></th>\n",
       "      <th>trs</th>\n",
       "      <th>precs</th>\n",
       "      <th>recs</th>\n",
       "      <th>accs</th>\n",
       "      <th>precs_bl</th>\n",
       "      <th>recs_bl</th>\n",
       "      <th>accs_bl</th>\n",
       "    </tr>\n",
       "  </thead>\n",
       "  <tbody>\n",
       "    <tr>\n",
       "      <th>count</th>\n",
       "      <td>1696.000000</td>\n",
       "      <td>1696.000000</td>\n",
       "      <td>1696.000000</td>\n",
       "      <td>1696.000000</td>\n",
       "      <td>1696.000000</td>\n",
       "      <td>1696.000000</td>\n",
       "      <td>1696.000000</td>\n",
       "    </tr>\n",
       "    <tr>\n",
       "      <th>mean</th>\n",
       "      <td>4.237500</td>\n",
       "      <td>0.093736</td>\n",
       "      <td>0.019959</td>\n",
       "      <td>0.712963</td>\n",
       "      <td>0.031936</td>\n",
       "      <td>0.024186</td>\n",
       "      <td>0.711359</td>\n",
       "    </tr>\n",
       "    <tr>\n",
       "      <th>std</th>\n",
       "      <td>2.448687</td>\n",
       "      <td>0.265665</td>\n",
       "      <td>0.102745</td>\n",
       "      <td>0.021770</td>\n",
       "      <td>0.105934</td>\n",
       "      <td>0.109341</td>\n",
       "      <td>0.013601</td>\n",
       "    </tr>\n",
       "    <tr>\n",
       "      <th>min</th>\n",
       "      <td>0.000000</td>\n",
       "      <td>0.000000</td>\n",
       "      <td>0.000000</td>\n",
       "      <td>0.286123</td>\n",
       "      <td>0.000000</td>\n",
       "      <td>0.000000</td>\n",
       "      <td>0.285714</td>\n",
       "    </tr>\n",
       "    <tr>\n",
       "      <th>25%</th>\n",
       "      <td>2.118750</td>\n",
       "      <td>0.000000</td>\n",
       "      <td>0.000000</td>\n",
       "      <td>0.713877</td>\n",
       "      <td>0.000000</td>\n",
       "      <td>0.000000</td>\n",
       "      <td>0.714286</td>\n",
       "    </tr>\n",
       "    <tr>\n",
       "      <th>50%</th>\n",
       "      <td>4.237500</td>\n",
       "      <td>0.000000</td>\n",
       "      <td>0.000000</td>\n",
       "      <td>0.713877</td>\n",
       "      <td>0.000000</td>\n",
       "      <td>0.000000</td>\n",
       "      <td>0.714286</td>\n",
       "    </tr>\n",
       "    <tr>\n",
       "      <th>75%</th>\n",
       "      <td>6.356250</td>\n",
       "      <td>0.000000</td>\n",
       "      <td>0.000000</td>\n",
       "      <td>0.713877</td>\n",
       "      <td>0.000000</td>\n",
       "      <td>0.000000</td>\n",
       "      <td>0.714286</td>\n",
       "    </tr>\n",
       "    <tr>\n",
       "      <th>max</th>\n",
       "      <td>8.475000</td>\n",
       "      <td>1.000000</td>\n",
       "      <td>1.000000</td>\n",
       "      <td>0.751073</td>\n",
       "      <td>0.491304</td>\n",
       "      <td>1.000000</td>\n",
       "      <td>0.714286</td>\n",
       "    </tr>\n",
       "  </tbody>\n",
       "</table>\n",
       "</div>"
      ],
      "text/plain": [
       "               trs        precs         recs         accs     precs_bl  \\\n",
       "count  1696.000000  1696.000000  1696.000000  1696.000000  1696.000000   \n",
       "mean      4.237500     0.093736     0.019959     0.712963     0.031936   \n",
       "std       2.448687     0.265665     0.102745     0.021770     0.105934   \n",
       "min       0.000000     0.000000     0.000000     0.286123     0.000000   \n",
       "25%       2.118750     0.000000     0.000000     0.713877     0.000000   \n",
       "50%       4.237500     0.000000     0.000000     0.713877     0.000000   \n",
       "75%       6.356250     0.000000     0.000000     0.713877     0.000000   \n",
       "max       8.475000     1.000000     1.000000     0.751073     0.491304   \n",
       "\n",
       "           recs_bl      accs_bl  \n",
       "count  1696.000000  1696.000000  \n",
       "mean      0.024186     0.711359  \n",
       "std       0.109341     0.013601  \n",
       "min       0.000000     0.285714  \n",
       "25%       0.000000     0.714286  \n",
       "50%       0.000000     0.714286  \n",
       "75%       0.000000     0.714286  \n",
       "max       1.000000     0.714286  "
      ]
     },
     "execution_count": 170,
     "metadata": {},
     "output_type": "execute_result"
    }
   ],
   "source": [
    "df_scores.describe()"
   ]
  },
  {
   "cell_type": "code",
   "execution_count": 171,
   "metadata": {},
   "outputs": [
    {
     "data": {
      "text/html": [
       "<div>\n",
       "<style scoped>\n",
       "    .dataframe tbody tr th:only-of-type {\n",
       "        vertical-align: middle;\n",
       "    }\n",
       "\n",
       "    .dataframe tbody tr th {\n",
       "        vertical-align: top;\n",
       "    }\n",
       "\n",
       "    .dataframe thead th {\n",
       "        text-align: right;\n",
       "    }\n",
       "</style>\n",
       "<table border=\"1\" class=\"dataframe\">\n",
       "  <thead>\n",
       "    <tr style=\"text-align: right;\">\n",
       "      <th></th>\n",
       "      <th>trs</th>\n",
       "      <th>precs</th>\n",
       "      <th>recs</th>\n",
       "      <th>accs</th>\n",
       "      <th>precs_bl</th>\n",
       "      <th>recs_bl</th>\n",
       "      <th>accs_bl</th>\n",
       "    </tr>\n",
       "  </thead>\n",
       "  <tbody>\n",
       "    <tr>\n",
       "      <th>120</th>\n",
       "      <td>0.600</td>\n",
       "      <td>1.0</td>\n",
       "      <td>0.025</td>\n",
       "      <td>0.721030</td>\n",
       "      <td>0.176471</td>\n",
       "      <td>0.030</td>\n",
       "      <td>0.682857</td>\n",
       "    </tr>\n",
       "    <tr>\n",
       "      <th>121</th>\n",
       "      <td>0.605</td>\n",
       "      <td>1.0</td>\n",
       "      <td>0.025</td>\n",
       "      <td>0.721030</td>\n",
       "      <td>0.181818</td>\n",
       "      <td>0.030</td>\n",
       "      <td>0.684286</td>\n",
       "    </tr>\n",
       "    <tr>\n",
       "      <th>122</th>\n",
       "      <td>0.610</td>\n",
       "      <td>1.0</td>\n",
       "      <td>0.020</td>\n",
       "      <td>0.719599</td>\n",
       "      <td>0.193548</td>\n",
       "      <td>0.030</td>\n",
       "      <td>0.687143</td>\n",
       "    </tr>\n",
       "    <tr>\n",
       "      <th>123</th>\n",
       "      <td>0.615</td>\n",
       "      <td>1.0</td>\n",
       "      <td>0.020</td>\n",
       "      <td>0.719599</td>\n",
       "      <td>0.200000</td>\n",
       "      <td>0.030</td>\n",
       "      <td>0.688571</td>\n",
       "    </tr>\n",
       "    <tr>\n",
       "      <th>124</th>\n",
       "      <td>0.620</td>\n",
       "      <td>1.0</td>\n",
       "      <td>0.020</td>\n",
       "      <td>0.719599</td>\n",
       "      <td>0.206897</td>\n",
       "      <td>0.030</td>\n",
       "      <td>0.690000</td>\n",
       "    </tr>\n",
       "    <tr>\n",
       "      <th>125</th>\n",
       "      <td>0.625</td>\n",
       "      <td>1.0</td>\n",
       "      <td>0.020</td>\n",
       "      <td>0.719599</td>\n",
       "      <td>0.206897</td>\n",
       "      <td>0.030</td>\n",
       "      <td>0.690000</td>\n",
       "    </tr>\n",
       "    <tr>\n",
       "      <th>126</th>\n",
       "      <td>0.630</td>\n",
       "      <td>1.0</td>\n",
       "      <td>0.020</td>\n",
       "      <td>0.719599</td>\n",
       "      <td>0.206897</td>\n",
       "      <td>0.030</td>\n",
       "      <td>0.690000</td>\n",
       "    </tr>\n",
       "    <tr>\n",
       "      <th>127</th>\n",
       "      <td>0.635</td>\n",
       "      <td>1.0</td>\n",
       "      <td>0.020</td>\n",
       "      <td>0.719599</td>\n",
       "      <td>0.206897</td>\n",
       "      <td>0.030</td>\n",
       "      <td>0.690000</td>\n",
       "    </tr>\n",
       "    <tr>\n",
       "      <th>128</th>\n",
       "      <td>0.640</td>\n",
       "      <td>1.0</td>\n",
       "      <td>0.020</td>\n",
       "      <td>0.719599</td>\n",
       "      <td>0.214286</td>\n",
       "      <td>0.030</td>\n",
       "      <td>0.691429</td>\n",
       "    </tr>\n",
       "    <tr>\n",
       "      <th>129</th>\n",
       "      <td>0.645</td>\n",
       "      <td>1.0</td>\n",
       "      <td>0.020</td>\n",
       "      <td>0.719599</td>\n",
       "      <td>0.222222</td>\n",
       "      <td>0.030</td>\n",
       "      <td>0.692857</td>\n",
       "    </tr>\n",
       "    <tr>\n",
       "      <th>130</th>\n",
       "      <td>0.650</td>\n",
       "      <td>1.0</td>\n",
       "      <td>0.020</td>\n",
       "      <td>0.719599</td>\n",
       "      <td>0.192308</td>\n",
       "      <td>0.025</td>\n",
       "      <td>0.691429</td>\n",
       "    </tr>\n",
       "    <tr>\n",
       "      <th>131</th>\n",
       "      <td>0.655</td>\n",
       "      <td>1.0</td>\n",
       "      <td>0.020</td>\n",
       "      <td>0.719599</td>\n",
       "      <td>0.192308</td>\n",
       "      <td>0.025</td>\n",
       "      <td>0.691429</td>\n",
       "    </tr>\n",
       "    <tr>\n",
       "      <th>132</th>\n",
       "      <td>0.660</td>\n",
       "      <td>1.0</td>\n",
       "      <td>0.020</td>\n",
       "      <td>0.719599</td>\n",
       "      <td>0.192308</td>\n",
       "      <td>0.025</td>\n",
       "      <td>0.691429</td>\n",
       "    </tr>\n",
       "    <tr>\n",
       "      <th>133</th>\n",
       "      <td>0.665</td>\n",
       "      <td>1.0</td>\n",
       "      <td>0.020</td>\n",
       "      <td>0.719599</td>\n",
       "      <td>0.200000</td>\n",
       "      <td>0.025</td>\n",
       "      <td>0.692857</td>\n",
       "    </tr>\n",
       "    <tr>\n",
       "      <th>134</th>\n",
       "      <td>0.670</td>\n",
       "      <td>1.0</td>\n",
       "      <td>0.020</td>\n",
       "      <td>0.719599</td>\n",
       "      <td>0.200000</td>\n",
       "      <td>0.025</td>\n",
       "      <td>0.692857</td>\n",
       "    </tr>\n",
       "    <tr>\n",
       "      <th>135</th>\n",
       "      <td>0.675</td>\n",
       "      <td>1.0</td>\n",
       "      <td>0.015</td>\n",
       "      <td>0.718169</td>\n",
       "      <td>0.200000</td>\n",
       "      <td>0.025</td>\n",
       "      <td>0.692857</td>\n",
       "    </tr>\n",
       "    <tr>\n",
       "      <th>136</th>\n",
       "      <td>0.680</td>\n",
       "      <td>1.0</td>\n",
       "      <td>0.015</td>\n",
       "      <td>0.718169</td>\n",
       "      <td>0.208333</td>\n",
       "      <td>0.025</td>\n",
       "      <td>0.694286</td>\n",
       "    </tr>\n",
       "    <tr>\n",
       "      <th>137</th>\n",
       "      <td>0.685</td>\n",
       "      <td>1.0</td>\n",
       "      <td>0.015</td>\n",
       "      <td>0.718169</td>\n",
       "      <td>0.208333</td>\n",
       "      <td>0.025</td>\n",
       "      <td>0.694286</td>\n",
       "    </tr>\n",
       "    <tr>\n",
       "      <th>138</th>\n",
       "      <td>0.690</td>\n",
       "      <td>1.0</td>\n",
       "      <td>0.015</td>\n",
       "      <td>0.718169</td>\n",
       "      <td>0.136364</td>\n",
       "      <td>0.015</td>\n",
       "      <td>0.691429</td>\n",
       "    </tr>\n",
       "    <tr>\n",
       "      <th>139</th>\n",
       "      <td>0.695</td>\n",
       "      <td>1.0</td>\n",
       "      <td>0.015</td>\n",
       "      <td>0.718169</td>\n",
       "      <td>0.136364</td>\n",
       "      <td>0.015</td>\n",
       "      <td>0.691429</td>\n",
       "    </tr>\n",
       "    <tr>\n",
       "      <th>140</th>\n",
       "      <td>0.700</td>\n",
       "      <td>1.0</td>\n",
       "      <td>0.015</td>\n",
       "      <td>0.718169</td>\n",
       "      <td>0.136364</td>\n",
       "      <td>0.015</td>\n",
       "      <td>0.691429</td>\n",
       "    </tr>\n",
       "    <tr>\n",
       "      <th>141</th>\n",
       "      <td>0.705</td>\n",
       "      <td>1.0</td>\n",
       "      <td>0.015</td>\n",
       "      <td>0.718169</td>\n",
       "      <td>0.136364</td>\n",
       "      <td>0.015</td>\n",
       "      <td>0.691429</td>\n",
       "    </tr>\n",
       "    <tr>\n",
       "      <th>142</th>\n",
       "      <td>0.710</td>\n",
       "      <td>1.0</td>\n",
       "      <td>0.015</td>\n",
       "      <td>0.718169</td>\n",
       "      <td>0.150000</td>\n",
       "      <td>0.015</td>\n",
       "      <td>0.694286</td>\n",
       "    </tr>\n",
       "    <tr>\n",
       "      <th>143</th>\n",
       "      <td>0.715</td>\n",
       "      <td>1.0</td>\n",
       "      <td>0.015</td>\n",
       "      <td>0.718169</td>\n",
       "      <td>0.150000</td>\n",
       "      <td>0.015</td>\n",
       "      <td>0.694286</td>\n",
       "    </tr>\n",
       "    <tr>\n",
       "      <th>144</th>\n",
       "      <td>0.720</td>\n",
       "      <td>1.0</td>\n",
       "      <td>0.015</td>\n",
       "      <td>0.718169</td>\n",
       "      <td>0.157895</td>\n",
       "      <td>0.015</td>\n",
       "      <td>0.695714</td>\n",
       "    </tr>\n",
       "    <tr>\n",
       "      <th>145</th>\n",
       "      <td>0.725</td>\n",
       "      <td>1.0</td>\n",
       "      <td>0.015</td>\n",
       "      <td>0.718169</td>\n",
       "      <td>0.117647</td>\n",
       "      <td>0.010</td>\n",
       "      <td>0.695714</td>\n",
       "    </tr>\n",
       "    <tr>\n",
       "      <th>146</th>\n",
       "      <td>0.730</td>\n",
       "      <td>1.0</td>\n",
       "      <td>0.015</td>\n",
       "      <td>0.718169</td>\n",
       "      <td>0.125000</td>\n",
       "      <td>0.010</td>\n",
       "      <td>0.697143</td>\n",
       "    </tr>\n",
       "    <tr>\n",
       "      <th>147</th>\n",
       "      <td>0.735</td>\n",
       "      <td>1.0</td>\n",
       "      <td>0.015</td>\n",
       "      <td>0.718169</td>\n",
       "      <td>0.125000</td>\n",
       "      <td>0.010</td>\n",
       "      <td>0.697143</td>\n",
       "    </tr>\n",
       "    <tr>\n",
       "      <th>148</th>\n",
       "      <td>0.740</td>\n",
       "      <td>1.0</td>\n",
       "      <td>0.015</td>\n",
       "      <td>0.718169</td>\n",
       "      <td>0.125000</td>\n",
       "      <td>0.010</td>\n",
       "      <td>0.697143</td>\n",
       "    </tr>\n",
       "    <tr>\n",
       "      <th>149</th>\n",
       "      <td>0.745</td>\n",
       "      <td>1.0</td>\n",
       "      <td>0.015</td>\n",
       "      <td>0.718169</td>\n",
       "      <td>0.133333</td>\n",
       "      <td>0.010</td>\n",
       "      <td>0.698571</td>\n",
       "    </tr>\n",
       "    <tr>\n",
       "      <th>...</th>\n",
       "      <td>...</td>\n",
       "      <td>...</td>\n",
       "      <td>...</td>\n",
       "      <td>...</td>\n",
       "      <td>...</td>\n",
       "      <td>...</td>\n",
       "      <td>...</td>\n",
       "    </tr>\n",
       "    <tr>\n",
       "      <th>171</th>\n",
       "      <td>0.855</td>\n",
       "      <td>1.0</td>\n",
       "      <td>0.010</td>\n",
       "      <td>0.716738</td>\n",
       "      <td>0.000000</td>\n",
       "      <td>0.000</td>\n",
       "      <td>0.707143</td>\n",
       "    </tr>\n",
       "    <tr>\n",
       "      <th>172</th>\n",
       "      <td>0.860</td>\n",
       "      <td>1.0</td>\n",
       "      <td>0.010</td>\n",
       "      <td>0.716738</td>\n",
       "      <td>0.000000</td>\n",
       "      <td>0.000</td>\n",
       "      <td>0.707143</td>\n",
       "    </tr>\n",
       "    <tr>\n",
       "      <th>173</th>\n",
       "      <td>0.865</td>\n",
       "      <td>1.0</td>\n",
       "      <td>0.010</td>\n",
       "      <td>0.716738</td>\n",
       "      <td>0.000000</td>\n",
       "      <td>0.000</td>\n",
       "      <td>0.708571</td>\n",
       "    </tr>\n",
       "    <tr>\n",
       "      <th>174</th>\n",
       "      <td>0.870</td>\n",
       "      <td>1.0</td>\n",
       "      <td>0.010</td>\n",
       "      <td>0.716738</td>\n",
       "      <td>0.000000</td>\n",
       "      <td>0.000</td>\n",
       "      <td>0.708571</td>\n",
       "    </tr>\n",
       "    <tr>\n",
       "      <th>175</th>\n",
       "      <td>0.875</td>\n",
       "      <td>1.0</td>\n",
       "      <td>0.010</td>\n",
       "      <td>0.716738</td>\n",
       "      <td>0.000000</td>\n",
       "      <td>0.000</td>\n",
       "      <td>0.708571</td>\n",
       "    </tr>\n",
       "    <tr>\n",
       "      <th>176</th>\n",
       "      <td>0.880</td>\n",
       "      <td>1.0</td>\n",
       "      <td>0.010</td>\n",
       "      <td>0.716738</td>\n",
       "      <td>0.000000</td>\n",
       "      <td>0.000</td>\n",
       "      <td>0.708571</td>\n",
       "    </tr>\n",
       "    <tr>\n",
       "      <th>177</th>\n",
       "      <td>0.885</td>\n",
       "      <td>1.0</td>\n",
       "      <td>0.010</td>\n",
       "      <td>0.716738</td>\n",
       "      <td>0.000000</td>\n",
       "      <td>0.000</td>\n",
       "      <td>0.708571</td>\n",
       "    </tr>\n",
       "    <tr>\n",
       "      <th>178</th>\n",
       "      <td>0.890</td>\n",
       "      <td>1.0</td>\n",
       "      <td>0.010</td>\n",
       "      <td>0.716738</td>\n",
       "      <td>0.000000</td>\n",
       "      <td>0.000</td>\n",
       "      <td>0.708571</td>\n",
       "    </tr>\n",
       "    <tr>\n",
       "      <th>179</th>\n",
       "      <td>0.895</td>\n",
       "      <td>1.0</td>\n",
       "      <td>0.010</td>\n",
       "      <td>0.716738</td>\n",
       "      <td>0.000000</td>\n",
       "      <td>0.000</td>\n",
       "      <td>0.708571</td>\n",
       "    </tr>\n",
       "    <tr>\n",
       "      <th>180</th>\n",
       "      <td>0.900</td>\n",
       "      <td>1.0</td>\n",
       "      <td>0.010</td>\n",
       "      <td>0.716738</td>\n",
       "      <td>0.000000</td>\n",
       "      <td>0.000</td>\n",
       "      <td>0.710000</td>\n",
       "    </tr>\n",
       "    <tr>\n",
       "      <th>181</th>\n",
       "      <td>0.905</td>\n",
       "      <td>1.0</td>\n",
       "      <td>0.010</td>\n",
       "      <td>0.716738</td>\n",
       "      <td>0.000000</td>\n",
       "      <td>0.000</td>\n",
       "      <td>0.710000</td>\n",
       "    </tr>\n",
       "    <tr>\n",
       "      <th>182</th>\n",
       "      <td>0.910</td>\n",
       "      <td>1.0</td>\n",
       "      <td>0.010</td>\n",
       "      <td>0.716738</td>\n",
       "      <td>0.000000</td>\n",
       "      <td>0.000</td>\n",
       "      <td>0.711429</td>\n",
       "    </tr>\n",
       "    <tr>\n",
       "      <th>183</th>\n",
       "      <td>0.915</td>\n",
       "      <td>1.0</td>\n",
       "      <td>0.010</td>\n",
       "      <td>0.716738</td>\n",
       "      <td>0.000000</td>\n",
       "      <td>0.000</td>\n",
       "      <td>0.711429</td>\n",
       "    </tr>\n",
       "    <tr>\n",
       "      <th>184</th>\n",
       "      <td>0.920</td>\n",
       "      <td>1.0</td>\n",
       "      <td>0.010</td>\n",
       "      <td>0.716738</td>\n",
       "      <td>0.000000</td>\n",
       "      <td>0.000</td>\n",
       "      <td>0.711429</td>\n",
       "    </tr>\n",
       "    <tr>\n",
       "      <th>185</th>\n",
       "      <td>0.925</td>\n",
       "      <td>1.0</td>\n",
       "      <td>0.010</td>\n",
       "      <td>0.716738</td>\n",
       "      <td>0.000000</td>\n",
       "      <td>0.000</td>\n",
       "      <td>0.711429</td>\n",
       "    </tr>\n",
       "    <tr>\n",
       "      <th>186</th>\n",
       "      <td>0.930</td>\n",
       "      <td>1.0</td>\n",
       "      <td>0.010</td>\n",
       "      <td>0.716738</td>\n",
       "      <td>0.000000</td>\n",
       "      <td>0.000</td>\n",
       "      <td>0.711429</td>\n",
       "    </tr>\n",
       "    <tr>\n",
       "      <th>187</th>\n",
       "      <td>0.935</td>\n",
       "      <td>1.0</td>\n",
       "      <td>0.010</td>\n",
       "      <td>0.716738</td>\n",
       "      <td>0.000000</td>\n",
       "      <td>0.000</td>\n",
       "      <td>0.711429</td>\n",
       "    </tr>\n",
       "    <tr>\n",
       "      <th>188</th>\n",
       "      <td>0.940</td>\n",
       "      <td>1.0</td>\n",
       "      <td>0.010</td>\n",
       "      <td>0.716738</td>\n",
       "      <td>0.000000</td>\n",
       "      <td>0.000</td>\n",
       "      <td>0.711429</td>\n",
       "    </tr>\n",
       "    <tr>\n",
       "      <th>189</th>\n",
       "      <td>0.945</td>\n",
       "      <td>1.0</td>\n",
       "      <td>0.010</td>\n",
       "      <td>0.716738</td>\n",
       "      <td>0.000000</td>\n",
       "      <td>0.000</td>\n",
       "      <td>0.711429</td>\n",
       "    </tr>\n",
       "    <tr>\n",
       "      <th>190</th>\n",
       "      <td>0.950</td>\n",
       "      <td>1.0</td>\n",
       "      <td>0.010</td>\n",
       "      <td>0.716738</td>\n",
       "      <td>0.000000</td>\n",
       "      <td>0.000</td>\n",
       "      <td>0.711429</td>\n",
       "    </tr>\n",
       "    <tr>\n",
       "      <th>191</th>\n",
       "      <td>0.955</td>\n",
       "      <td>1.0</td>\n",
       "      <td>0.010</td>\n",
       "      <td>0.716738</td>\n",
       "      <td>0.000000</td>\n",
       "      <td>0.000</td>\n",
       "      <td>0.711429</td>\n",
       "    </tr>\n",
       "    <tr>\n",
       "      <th>192</th>\n",
       "      <td>0.960</td>\n",
       "      <td>1.0</td>\n",
       "      <td>0.010</td>\n",
       "      <td>0.716738</td>\n",
       "      <td>0.000000</td>\n",
       "      <td>0.000</td>\n",
       "      <td>0.712857</td>\n",
       "    </tr>\n",
       "    <tr>\n",
       "      <th>193</th>\n",
       "      <td>0.965</td>\n",
       "      <td>1.0</td>\n",
       "      <td>0.010</td>\n",
       "      <td>0.716738</td>\n",
       "      <td>0.000000</td>\n",
       "      <td>0.000</td>\n",
       "      <td>0.712857</td>\n",
       "    </tr>\n",
       "    <tr>\n",
       "      <th>194</th>\n",
       "      <td>0.970</td>\n",
       "      <td>1.0</td>\n",
       "      <td>0.010</td>\n",
       "      <td>0.716738</td>\n",
       "      <td>0.000000</td>\n",
       "      <td>0.000</td>\n",
       "      <td>0.712857</td>\n",
       "    </tr>\n",
       "    <tr>\n",
       "      <th>195</th>\n",
       "      <td>0.975</td>\n",
       "      <td>1.0</td>\n",
       "      <td>0.010</td>\n",
       "      <td>0.716738</td>\n",
       "      <td>0.000000</td>\n",
       "      <td>0.000</td>\n",
       "      <td>0.712857</td>\n",
       "    </tr>\n",
       "    <tr>\n",
       "      <th>196</th>\n",
       "      <td>0.980</td>\n",
       "      <td>1.0</td>\n",
       "      <td>0.010</td>\n",
       "      <td>0.716738</td>\n",
       "      <td>0.000000</td>\n",
       "      <td>0.000</td>\n",
       "      <td>0.712857</td>\n",
       "    </tr>\n",
       "    <tr>\n",
       "      <th>197</th>\n",
       "      <td>0.985</td>\n",
       "      <td>1.0</td>\n",
       "      <td>0.010</td>\n",
       "      <td>0.716738</td>\n",
       "      <td>0.000000</td>\n",
       "      <td>0.000</td>\n",
       "      <td>0.712857</td>\n",
       "    </tr>\n",
       "    <tr>\n",
       "      <th>198</th>\n",
       "      <td>0.990</td>\n",
       "      <td>1.0</td>\n",
       "      <td>0.005</td>\n",
       "      <td>0.715308</td>\n",
       "      <td>0.000000</td>\n",
       "      <td>0.000</td>\n",
       "      <td>0.712857</td>\n",
       "    </tr>\n",
       "    <tr>\n",
       "      <th>199</th>\n",
       "      <td>0.995</td>\n",
       "      <td>1.0</td>\n",
       "      <td>0.005</td>\n",
       "      <td>0.715308</td>\n",
       "      <td>0.000000</td>\n",
       "      <td>0.000</td>\n",
       "      <td>0.712857</td>\n",
       "    </tr>\n",
       "    <tr>\n",
       "      <th>200</th>\n",
       "      <td>1.000</td>\n",
       "      <td>1.0</td>\n",
       "      <td>0.005</td>\n",
       "      <td>0.715308</td>\n",
       "      <td>0.000000</td>\n",
       "      <td>0.000</td>\n",
       "      <td>0.712857</td>\n",
       "    </tr>\n",
       "  </tbody>\n",
       "</table>\n",
       "<p>81 rows × 7 columns</p>\n",
       "</div>"
      ],
      "text/plain": [
       "       trs  precs   recs      accs  precs_bl  recs_bl   accs_bl\n",
       "120  0.600    1.0  0.025  0.721030  0.176471    0.030  0.682857\n",
       "121  0.605    1.0  0.025  0.721030  0.181818    0.030  0.684286\n",
       "122  0.610    1.0  0.020  0.719599  0.193548    0.030  0.687143\n",
       "123  0.615    1.0  0.020  0.719599  0.200000    0.030  0.688571\n",
       "124  0.620    1.0  0.020  0.719599  0.206897    0.030  0.690000\n",
       "125  0.625    1.0  0.020  0.719599  0.206897    0.030  0.690000\n",
       "126  0.630    1.0  0.020  0.719599  0.206897    0.030  0.690000\n",
       "127  0.635    1.0  0.020  0.719599  0.206897    0.030  0.690000\n",
       "128  0.640    1.0  0.020  0.719599  0.214286    0.030  0.691429\n",
       "129  0.645    1.0  0.020  0.719599  0.222222    0.030  0.692857\n",
       "130  0.650    1.0  0.020  0.719599  0.192308    0.025  0.691429\n",
       "131  0.655    1.0  0.020  0.719599  0.192308    0.025  0.691429\n",
       "132  0.660    1.0  0.020  0.719599  0.192308    0.025  0.691429\n",
       "133  0.665    1.0  0.020  0.719599  0.200000    0.025  0.692857\n",
       "134  0.670    1.0  0.020  0.719599  0.200000    0.025  0.692857\n",
       "135  0.675    1.0  0.015  0.718169  0.200000    0.025  0.692857\n",
       "136  0.680    1.0  0.015  0.718169  0.208333    0.025  0.694286\n",
       "137  0.685    1.0  0.015  0.718169  0.208333    0.025  0.694286\n",
       "138  0.690    1.0  0.015  0.718169  0.136364    0.015  0.691429\n",
       "139  0.695    1.0  0.015  0.718169  0.136364    0.015  0.691429\n",
       "140  0.700    1.0  0.015  0.718169  0.136364    0.015  0.691429\n",
       "141  0.705    1.0  0.015  0.718169  0.136364    0.015  0.691429\n",
       "142  0.710    1.0  0.015  0.718169  0.150000    0.015  0.694286\n",
       "143  0.715    1.0  0.015  0.718169  0.150000    0.015  0.694286\n",
       "144  0.720    1.0  0.015  0.718169  0.157895    0.015  0.695714\n",
       "145  0.725    1.0  0.015  0.718169  0.117647    0.010  0.695714\n",
       "146  0.730    1.0  0.015  0.718169  0.125000    0.010  0.697143\n",
       "147  0.735    1.0  0.015  0.718169  0.125000    0.010  0.697143\n",
       "148  0.740    1.0  0.015  0.718169  0.125000    0.010  0.697143\n",
       "149  0.745    1.0  0.015  0.718169  0.133333    0.010  0.698571\n",
       "..     ...    ...    ...       ...       ...      ...       ...\n",
       "171  0.855    1.0  0.010  0.716738  0.000000    0.000  0.707143\n",
       "172  0.860    1.0  0.010  0.716738  0.000000    0.000  0.707143\n",
       "173  0.865    1.0  0.010  0.716738  0.000000    0.000  0.708571\n",
       "174  0.870    1.0  0.010  0.716738  0.000000    0.000  0.708571\n",
       "175  0.875    1.0  0.010  0.716738  0.000000    0.000  0.708571\n",
       "176  0.880    1.0  0.010  0.716738  0.000000    0.000  0.708571\n",
       "177  0.885    1.0  0.010  0.716738  0.000000    0.000  0.708571\n",
       "178  0.890    1.0  0.010  0.716738  0.000000    0.000  0.708571\n",
       "179  0.895    1.0  0.010  0.716738  0.000000    0.000  0.708571\n",
       "180  0.900    1.0  0.010  0.716738  0.000000    0.000  0.710000\n",
       "181  0.905    1.0  0.010  0.716738  0.000000    0.000  0.710000\n",
       "182  0.910    1.0  0.010  0.716738  0.000000    0.000  0.711429\n",
       "183  0.915    1.0  0.010  0.716738  0.000000    0.000  0.711429\n",
       "184  0.920    1.0  0.010  0.716738  0.000000    0.000  0.711429\n",
       "185  0.925    1.0  0.010  0.716738  0.000000    0.000  0.711429\n",
       "186  0.930    1.0  0.010  0.716738  0.000000    0.000  0.711429\n",
       "187  0.935    1.0  0.010  0.716738  0.000000    0.000  0.711429\n",
       "188  0.940    1.0  0.010  0.716738  0.000000    0.000  0.711429\n",
       "189  0.945    1.0  0.010  0.716738  0.000000    0.000  0.711429\n",
       "190  0.950    1.0  0.010  0.716738  0.000000    0.000  0.711429\n",
       "191  0.955    1.0  0.010  0.716738  0.000000    0.000  0.711429\n",
       "192  0.960    1.0  0.010  0.716738  0.000000    0.000  0.712857\n",
       "193  0.965    1.0  0.010  0.716738  0.000000    0.000  0.712857\n",
       "194  0.970    1.0  0.010  0.716738  0.000000    0.000  0.712857\n",
       "195  0.975    1.0  0.010  0.716738  0.000000    0.000  0.712857\n",
       "196  0.980    1.0  0.010  0.716738  0.000000    0.000  0.712857\n",
       "197  0.985    1.0  0.010  0.716738  0.000000    0.000  0.712857\n",
       "198  0.990    1.0  0.005  0.715308  0.000000    0.000  0.712857\n",
       "199  0.995    1.0  0.005  0.715308  0.000000    0.000  0.712857\n",
       "200  1.000    1.0  0.005  0.715308  0.000000    0.000  0.712857\n",
       "\n",
       "[81 rows x 7 columns]"
      ]
     },
     "execution_count": 171,
     "metadata": {},
     "output_type": "execute_result"
    }
   ],
   "source": [
    "df_scores[df_scores['precs'] == df_scores['precs'].max()]"
   ]
  },
  {
   "cell_type": "code",
   "execution_count": 172,
   "metadata": {},
   "outputs": [
    {
     "data": {
      "text/plain": [
       "array([1, 0, 1, 1, 0, 1, 1, 1, 0, 1, 1, 0, 1, 0, 0, 1, 0, 1, 0, 0, 0, 0,\n",
       "       0, 0, 1, 1, 1, 0, 0, 0, 0, 0, 1, 1, 0, 1, 1, 1, 0, 0, 0, 0, 1, 0,\n",
       "       0, 0, 1, 1, 0, 1, 0, 0, 1, 1, 0, 0, 1, 1, 1, 1, 0, 1, 0, 1, 0, 1,\n",
       "       0, 0, 1, 1, 1, 1, 0, 0, 1, 0, 1, 0, 1, 0, 0, 1, 0, 0, 0, 1, 1, 1,\n",
       "       1, 0, 0, 1, 0, 0, 1, 0, 0, 1, 0, 1, 1, 1, 0, 0, 0, 0, 0, 0, 0, 0,\n",
       "       0, 0, 1, 0, 1, 1, 1, 0, 0, 1, 0, 1, 0, 0, 0, 1, 1, 1, 1, 0, 1, 0,\n",
       "       0, 0, 0, 1, 0, 0, 1, 0, 0, 0, 0, 0, 1, 1, 0, 1, 1, 1, 0, 1, 1, 0,\n",
       "       0, 0, 0, 0, 1, 0, 1, 0, 0, 0, 1, 1, 0, 1, 1, 1, 0, 0, 0, 0, 0, 0,\n",
       "       1, 1, 1, 1, 0, 0, 0, 1, 1, 0, 1, 0, 1, 1, 0, 1, 1, 1, 0, 1, 0, 0,\n",
       "       1, 0, 1, 1, 0, 0, 0, 1, 0, 0, 0, 0, 1, 1, 1, 1, 0, 1, 1, 0, 1, 1,\n",
       "       0, 1, 0, 1, 1, 0, 1, 0, 1, 1, 0, 0, 1, 0, 0, 0, 0, 1, 1, 0, 0, 0,\n",
       "       1, 0, 0, 1, 0, 0, 0, 1, 0, 1, 0, 0, 1, 1, 0, 1, 0, 0, 0, 0, 1, 1,\n",
       "       0, 1, 1, 0, 0, 1, 1, 1, 0, 0, 0, 1, 0, 1, 1, 1, 0, 1, 0, 0, 1, 0,\n",
       "       0, 1, 0, 0, 0, 0, 0, 1, 0, 1, 0, 0, 1, 0, 0, 0, 1, 0, 0, 1, 1, 0,\n",
       "       0, 1, 1, 0, 1, 1, 1, 1, 1, 0, 1, 0, 0, 1, 0, 1, 1, 1, 0, 0, 0, 0,\n",
       "       0, 1, 1, 0, 0, 0, 0, 0, 0, 0, 1, 0, 0, 1, 1, 1, 1, 0, 0, 0, 0, 0,\n",
       "       1, 0, 1, 1, 1, 1, 0, 0, 0, 0, 0, 1, 0, 1, 1, 1, 1, 0, 0, 0, 0, 1,\n",
       "       0, 0, 1, 1, 1, 0, 0, 0, 0, 1, 1, 1, 0, 0, 1, 0, 0, 0, 0, 0, 0, 0,\n",
       "       1, 1, 0, 1, 0, 1, 1, 0, 0, 1, 0, 0, 0, 1, 0, 1, 1, 0, 0, 0, 1, 0,\n",
       "       1, 1, 0, 1, 0, 1, 0, 0, 1, 1, 1, 0, 1, 0, 0, 1, 1, 0, 1, 1, 1, 0,\n",
       "       0, 1, 0, 0, 1, 1, 1, 0, 0, 1, 1, 0, 1, 1, 0, 1, 0, 0, 1, 1, 1, 0,\n",
       "       0, 1, 1, 1, 1, 0, 0, 0, 1, 1, 0, 1, 1, 0, 0, 1, 0, 0, 1, 0, 0, 1,\n",
       "       0, 1, 0, 0, 1, 1, 0, 1, 0, 0, 0, 0, 0, 0, 0, 0, 1, 1, 0, 0, 1, 1,\n",
       "       1, 1, 1, 1, 1, 1, 0, 1, 0, 1, 1, 1, 1, 1, 1, 1, 1, 1, 1, 1, 1, 1,\n",
       "       1, 1, 1, 1, 1, 1, 1, 1, 1, 0, 1, 1, 1, 1, 1, 1, 1, 1, 1, 1, 1, 1,\n",
       "       1, 1, 1, 1, 1, 1, 1, 1, 0, 1, 1, 1, 0, 1, 1, 1, 1, 1, 1, 1, 1, 1,\n",
       "       1, 1, 1, 1, 0, 1, 1, 1, 1, 1, 1, 1, 1, 1, 1, 0, 1, 1, 1, 1, 0, 1,\n",
       "       1, 1, 1, 1, 0, 1, 1, 1, 1, 1, 1, 0, 1, 1, 1, 1, 0, 1, 0, 1, 1, 1,\n",
       "       1, 1, 0, 1, 1, 1, 1, 1, 1, 1, 0, 1, 1, 1, 1, 1, 1, 1, 1, 0, 0, 1,\n",
       "       1, 0, 1, 1, 1, 1, 0, 1, 1, 1, 1, 1, 1, 1, 1, 0, 1, 1, 1, 0, 1, 1,\n",
       "       1, 1, 1, 0, 1, 1, 1, 1, 1, 1, 1, 1, 1, 1, 1, 1, 1, 1, 1, 1, 1, 1,\n",
       "       1, 1, 1, 1, 1, 1, 1, 1, 0, 1, 1, 1, 1, 1, 0, 1, 1, 1])"
      ]
     },
     "execution_count": 172,
     "metadata": {},
     "output_type": "execute_result"
    }
   ],
   "source": [
    "np.squeeze(predict_adv(x_bl, 0.015))"
   ]
  },
  {
   "cell_type": "code",
   "execution_count": 173,
   "metadata": {},
   "outputs": [
    {
     "data": {
      "text/plain": [
       "array([0, 0, 0, 0, 0, 0, 0, 0, 0, 0, 0, 0, 0, 0, 0, 0, 0, 0, 0, 0, 0, 0,\n",
       "       0, 0, 0, 0, 0, 0, 0, 0, 0, 0, 0, 0, 0, 0, 0, 0, 0, 0, 0, 0, 0, 0,\n",
       "       0, 0, 0, 0, 0, 0, 0, 0, 0, 0, 0, 0, 0, 0, 0, 0, 0, 0, 0, 0, 0, 0,\n",
       "       0, 0, 0, 0, 0, 0, 0, 0, 0, 0, 0, 0, 0, 0, 0, 0, 0, 0, 0, 0, 0, 0,\n",
       "       0, 0, 0, 0, 0, 0, 0, 0, 0, 0, 0, 0, 0, 0, 0, 0, 0, 0, 0, 0, 0, 0,\n",
       "       0, 0, 0, 0, 0, 0, 0, 0, 0, 0, 0, 0, 0, 0, 0, 0, 0, 0, 0, 0, 0, 0,\n",
       "       0, 0, 0, 0, 0, 0, 0, 0, 0, 0, 0, 0, 0, 0, 0, 0, 0, 0, 0, 0, 0, 0,\n",
       "       0, 0, 0, 0, 0, 0, 0, 0, 0, 0, 0, 0, 0, 0, 0, 0, 0, 0, 0, 0, 0, 0,\n",
       "       0, 0, 0, 0, 0, 0, 0, 0, 0, 0, 0, 0, 0, 0, 0, 0, 0, 0, 0, 0, 0, 0,\n",
       "       0, 0, 0, 0, 0, 0, 0, 0, 0, 0, 0, 0, 0, 0, 0, 0, 0, 0, 0, 0, 0, 0,\n",
       "       0, 0, 0, 0, 0, 0, 0, 0, 0, 0, 0, 0, 0, 0, 0, 0, 0, 0, 0, 0, 0, 0,\n",
       "       0, 0, 0, 0, 0, 0, 0, 0, 0, 0, 0, 0, 0, 0, 0, 0, 0, 0, 0, 0, 0, 0,\n",
       "       0, 0, 0, 0, 0, 0, 0, 0, 0, 0, 0, 0, 0, 0, 0, 0, 0, 0, 0, 0, 0, 0,\n",
       "       0, 0, 0, 0, 0, 0, 0, 0, 0, 0, 0, 0, 0, 0, 0, 0, 0, 0, 0, 0, 0, 0,\n",
       "       0, 0, 0, 0, 0, 0, 0, 0, 0, 0, 0, 0, 0, 0, 0, 0, 0, 0, 0, 0, 0, 0,\n",
       "       0, 0, 0, 0, 0, 0, 0, 0, 0, 0, 0, 0, 0, 0, 0, 0, 0, 0, 0, 0, 0, 0,\n",
       "       0, 0, 0, 0, 0, 0, 0, 0, 0, 0, 0, 0, 0, 0, 0, 0, 0, 0, 0, 0, 0, 0,\n",
       "       0, 0, 0, 0, 0, 0, 0, 0, 0, 0, 0, 0, 0, 0, 0, 0, 0, 0, 0, 0, 0, 0,\n",
       "       0, 0, 0, 0, 0, 0, 0, 0, 0, 0, 0, 0, 0, 0, 0, 0, 0, 0, 0, 0, 0, 0,\n",
       "       0, 0, 0, 0, 0, 0, 0, 0, 0, 0, 0, 0, 0, 0, 0, 0, 0, 0, 0, 0, 0, 0,\n",
       "       0, 0, 0, 0, 0, 0, 0, 0, 0, 0, 0, 0, 0, 0, 0, 0, 0, 0, 0, 0, 0, 0,\n",
       "       0, 0, 0, 0, 0, 0, 0, 0, 0, 0, 0, 0, 0, 0, 0, 0, 0, 0, 0, 0, 0, 0,\n",
       "       0, 0, 0, 0, 0, 0, 0, 0, 0, 0, 0, 0, 0, 0, 0, 0, 0, 0, 0, 0, 0, 0,\n",
       "       0, 0, 0, 0, 0, 0, 0, 0, 0, 0, 0, 0, 0, 0, 0, 0, 0, 0, 0, 0, 0, 0,\n",
       "       0, 0, 0, 0, 0, 0, 0, 0, 0, 0, 0, 0, 0, 0, 0, 0, 0, 0, 0, 0, 0, 0,\n",
       "       0, 0, 0, 0, 0, 0, 0, 0, 0, 0, 0, 0, 0, 0, 0, 0, 0, 0, 0, 0, 0, 0,\n",
       "       0, 0, 0, 0, 0, 0, 0, 0, 0, 0, 0, 0, 0, 0, 0, 0, 0, 0, 0, 0, 0, 0,\n",
       "       0, 0, 0, 0, 0, 0, 0, 0, 0, 0, 0, 0, 0, 0, 0, 0, 0, 0, 0, 0, 0, 0,\n",
       "       0, 0, 0, 0, 0, 0, 0, 0, 0, 0, 0, 0, 0, 0, 0, 0, 0, 0, 0, 0, 0, 0,\n",
       "       0, 0, 0, 0, 0, 0, 0, 0, 0, 0, 0, 0, 0, 0, 0, 0, 0, 0, 0, 0, 0, 0,\n",
       "       0, 0, 0, 0, 0, 0, 0, 0, 0, 0, 0, 0, 0, 0, 0, 0, 0, 0, 0, 0, 0, 0,\n",
       "       0, 0, 0, 0, 0, 0, 0, 0, 0, 0, 0, 0, 0, 0, 0, 0, 0])"
      ]
     },
     "execution_count": 173,
     "metadata": {},
     "output_type": "execute_result"
    }
   ],
   "source": [
    "predict_adv(x_kl, 4.9)"
   ]
  },
  {
   "cell_type": "markdown",
   "metadata": {},
   "source": [
    "### Signal histograms"
   ]
  },
  {
   "cell_type": "code",
   "execution_count": 151,
   "metadata": {
    "collapsed": true
   },
   "outputs": [],
   "source": [
    "df_kl = pd.DataFrame()\n",
    "df_kl['test'] = kl_test\n",
    "df_kl['adv'] = kl_adv"
   ]
  },
  {
   "cell_type": "code",
   "execution_count": 152,
   "metadata": {
    "collapsed": true
   },
   "outputs": [],
   "source": [
    "df_kl.dropna(inplace=True)"
   ]
  },
  {
   "cell_type": "code",
   "execution_count": 153,
   "metadata": {
    "collapsed": true
   },
   "outputs": [],
   "source": [
    "def _calculate_perc(df_t, nb_sigmas=3):\n",
    "    sigma_plus = df_t['test'].mean() + (nb_sigmas * df_t['test'].std())\n",
    "    print(df_t['test'].mean())\n",
    "    pc_sigma = percentileofscore(df_t['adv'], sigma_plus) * 0.01\n",
    "    perc = 1 - pc_sigma\n",
    "    print(sigma_plus, pc_sigma)\n",
    "    return perc, sigma_plus"
   ]
  },
  {
   "cell_type": "code",
   "execution_count": 154,
   "metadata": {
    "collapsed": true
   },
   "outputs": [],
   "source": [
    "df_kl = df_kl[~(df_kl['test'] == np.inf)]"
   ]
  },
  {
   "cell_type": "code",
   "execution_count": 155,
   "metadata": {},
   "outputs": [
    {
     "name": "stdout",
     "output_type": "stream",
     "text": [
      "0.8208509087562561\n",
      "3.462427496910095 0.8857715430861725\n"
     ]
    }
   ],
   "source": [
    "prec, sigma_plus = _calculate_perc(df_kl, nb_sigmas=3)"
   ]
  },
  {
   "cell_type": "code",
   "execution_count": 156,
   "metadata": {},
   "outputs": [
    {
     "data": {
      "text/plain": [
       "0.11422845691382755"
      ]
     },
     "execution_count": 156,
     "metadata": {},
     "output_type": "execute_result"
    }
   ],
   "source": [
    "prec"
   ]
  },
  {
   "cell_type": "code",
   "execution_count": 157,
   "metadata": {},
   "outputs": [
    {
     "data": {
      "text/html": [
       "<div>\n",
       "<style scoped>\n",
       "    .dataframe tbody tr th:only-of-type {\n",
       "        vertical-align: middle;\n",
       "    }\n",
       "\n",
       "    .dataframe tbody tr th {\n",
       "        vertical-align: top;\n",
       "    }\n",
       "\n",
       "    .dataframe thead th {\n",
       "        text-align: right;\n",
       "    }\n",
       "</style>\n",
       "<table border=\"1\" class=\"dataframe\">\n",
       "  <thead>\n",
       "    <tr style=\"text-align: right;\">\n",
       "      <th></th>\n",
       "      <th>test</th>\n",
       "      <th>adv</th>\n",
       "    </tr>\n",
       "  </thead>\n",
       "  <tbody>\n",
       "    <tr>\n",
       "      <th>count</th>\n",
       "      <td>499.000000</td>\n",
       "      <td>499.000000</td>\n",
       "    </tr>\n",
       "    <tr>\n",
       "      <th>mean</th>\n",
       "      <td>0.820851</td>\n",
       "      <td>1.727165</td>\n",
       "    </tr>\n",
       "    <tr>\n",
       "      <th>std</th>\n",
       "      <td>0.880526</td>\n",
       "      <td>1.598852</td>\n",
       "    </tr>\n",
       "    <tr>\n",
       "      <th>min</th>\n",
       "      <td>0.000030</td>\n",
       "      <td>0.035179</td>\n",
       "    </tr>\n",
       "    <tr>\n",
       "      <th>11.4%</th>\n",
       "      <td>0.039563</td>\n",
       "      <td>0.372240</td>\n",
       "    </tr>\n",
       "    <tr>\n",
       "      <th>50%</th>\n",
       "      <td>0.577391</td>\n",
       "      <td>1.207104</td>\n",
       "    </tr>\n",
       "    <tr>\n",
       "      <th>90%</th>\n",
       "      <td>1.803790</td>\n",
       "      <td>3.672013</td>\n",
       "    </tr>\n",
       "    <tr>\n",
       "      <th>max</th>\n",
       "      <td>6.446587</td>\n",
       "      <td>10.771723</td>\n",
       "    </tr>\n",
       "  </tbody>\n",
       "</table>\n",
       "</div>"
      ],
      "text/plain": [
       "             test         adv\n",
       "count  499.000000  499.000000\n",
       "mean     0.820851    1.727165\n",
       "std      0.880526    1.598852\n",
       "min      0.000030    0.035179\n",
       "11.4%    0.039563    0.372240\n",
       "50%      0.577391    1.207104\n",
       "90%      1.803790    3.672013\n",
       "max      6.446587   10.771723"
      ]
     },
     "execution_count": 157,
     "metadata": {},
     "output_type": "execute_result"
    }
   ],
   "source": [
    "df_kl.describe(percentiles=[0.5, 0.9, prec])"
   ]
  },
  {
   "cell_type": "code",
   "execution_count": 158,
   "metadata": {},
   "outputs": [
    {
     "data": {
      "text/plain": [
       "<matplotlib.lines.Line2D at 0x7f55f47ad748>"
      ]
     },
     "execution_count": 158,
     "metadata": {},
     "output_type": "execute_result"
    },
    {
     "data": {
      "image/png": "[encoded data removed]",
      "text/plain": [
       "<Figure size 1080x576 with 1 Axes>"
      ]
     },
     "metadata": {},
     "output_type": "display_data"
    }
   ],
   "source": [
    "fig, ax = plt.subplots(figsize=(15, 8))\n",
    "sns.distplot(df_kl['test'], ax=ax, kde=False)\n",
    "sns.distplot(df_kl['adv'], ax=ax, kde=False)\n",
    "plt.axvline(sigma_plus, c='r', linestyle='dashed')"
   ]
  },
  {
   "cell_type": "markdown",
   "metadata": {},
   "source": [
    "### Sudden drift"
   ]
  },
  {
   "cell_type": "code",
   "execution_count": 176,
   "metadata": {
    "collapsed": true
   },
   "outputs": [],
   "source": [
    "df = sst.make_data_stream(kl_concat, agg='mean')"
   ]
  },
  {
   "cell_type": "code",
   "execution_count": 177,
   "metadata": {},
   "outputs": [
    {
     "data": {
      "text/plain": [
       "<matplotlib.lines.Line2D at 0x7f6196ec52e8>"
      ]
     },
     "execution_count": 177,
     "metadata": {},
     "output_type": "execute_result"
    },
    {
     "data": {
      "image/png": "[encoded data removed]",
      "text/plain": [
       "<Figure size 1080x576 with 1 Axes>"
      ]
     },
     "metadata": {},
     "output_type": "display_data"
    }
   ],
   "source": [
    "plt.figure(figsize=(15,8))\n",
    "sns.scatterplot( x=\"index\", y=\"stream_raw\", data=df.reset_index(), s=10)\n",
    "ax.set(ylim=(-0.1, None))\n",
    "plt.axvline(tr, c='r', linestyle='dashed')"
   ]
  },
  {
   "cell_type": "code",
   "execution_count": 201,
   "metadata": {},
   "outputs": [
    {
     "data": {
      "text/plain": [
       "<matplotlib.lines.Line2D at 0x7fa55332c080>"
      ]
     },
     "execution_count": 201,
     "metadata": {},
     "output_type": "execute_result"
    },
    {
     "data": {
      "image/png": "[encoded data removed]",
      "text/plain": [
       "<Figure size 1080x576 with 1 Axes>"
      ]
     },
     "metadata": {},
     "output_type": "display_data"
    }
   ],
   "source": [
    "ax = df.plot(x='index', y='stream', figsize=(15,8))\n",
    "ax.axhline(baseline_std_plus / amp, c='g')\n",
    "ax.axhline(baseline_std_minus / amp, c='g')"
   ]
  },
  {
   "cell_type": "code",
   "execution_count": 202,
   "metadata": {},
   "outputs": [
    {
     "name": "stdout",
     "output_type": "stream",
     "text": [
      "\u001b[32mChange detected in data: 0.5401796529473015 - at index: 511\n",
      "\u001b[32mChange detected in data: 0.6822066814667476 - at index: 575\n",
      "\u001b[32mChange detected in data: 0.7582390076924733 - at index: 607\n",
      "\u001b[32mChange detected in data: 0.8134401251238611 - at index: 639\n",
      "\u001b[32mChange detected in data: 0.8504388143355319 - at index: 671\n",
      "\u001b[32mChange detected in data: 0.8985290835444586 - at index: 703\n",
      "\u001b[32mChange detected in data: 0.9308849070718241 - at index: 735\n",
      "\u001b[32mChange detected in data: 0.9597826829986309 - at index: 767\n",
      "\u001b[32mChange detected in data: 1.0192112621936027 - at index: 799\n",
      "\u001b[32mChange detected in data: 1.0716164376173634 - at index: 863\n",
      "\u001b[32mChange detected in data: 1.1022652927820225 - at index: 895\n",
      "\u001b[32mChange detected in data: 1.1209546929210088 - at index: 927\n"
     ]
    }
   ],
   "source": [
    "adwin = ADWIN(delta=0.002)\n",
    "data_stream = df['stream']\n",
    "for i in range(len(data_stream)):\n",
    "    adwin.add_element(data_stream[i])\n",
    "    if adwin.detected_change():\n",
    "        if i < tr:\n",
    "            print(Fore.RED + 'Change detected in data: ' + str(data_stream[i]) + ' - at index: ' + str(i))\n",
    "        else:\n",
    "            print(Fore.GREEN + 'Change detected in data: ' + str(data_stream[i]) + ' - at index: ' + str(i))"
   ]
  },
  {
   "cell_type": "markdown",
   "metadata": {},
   "source": [
    "### Gradual drift"
   ]
  },
  {
   "cell_type": "code",
   "execution_count": 203,
   "metadata": {},
   "outputs": [
    {
     "name": "stdout",
     "output_type": "stream",
     "text": [
      "Sample 0 of 6000\n",
      "Sample 1000 of 6000\n",
      "Sample 2000 of 6000\n",
      "Sample 3000 of 6000\n",
      "Sample 4000 of 6000\n",
      "Sample 5000 of 6000\n"
     ]
    }
   ],
   "source": [
    "cd_start = 2000\n",
    "cd_full = int(2 * cd_start)\n",
    "nb_samples_tot = 6000\n",
    "start = 0\n",
    "df = sst.rolling_stats(vae_loaded, X_test, y_test, X_test_adv, y_test_adv, cd_start, cd_full, nb_samples_tot, start, amp=amp)"
   ]
  },
  {
   "cell_type": "code",
   "execution_count": 204,
   "metadata": {},
   "outputs": [
    {
     "data": {
      "image/png": "[encoded data removed]",
      "text/plain": [
       "<Figure size 1080x576 with 4 Axes>"
      ]
     },
     "metadata": {},
     "output_type": "display_data"
    }
   ],
   "source": [
    "axs = df[['contamination', 'accuracy','entropy_mean', 'entropy_var']].plot(logy = False, subplots=True, figsize = (15, 8))\n",
    "for ax in axs:\n",
    "    ax.axvline(cd_start, c='r', linestyle='dashed')\n",
    "    ax.axvline(cd_full, c='r', linestyle='dashed')"
   ]
  },
  {
   "cell_type": "code",
   "execution_count": 205,
   "metadata": {},
   "outputs": [
    {
     "data": {
      "text/plain": [
       "<matplotlib.lines.Line2D at 0x7fa54e62c438>"
      ]
     },
     "execution_count": 205,
     "metadata": {},
     "output_type": "execute_result"
    },
    {
     "data": {
      "image/png": "[encoded data removed]",
      "text/plain": [
       "<Figure size 1080x576 with 2 Axes>"
      ]
     },
     "metadata": {},
     "output_type": "display_data"
    }
   ],
   "source": [
    "axs = df[['contamination', 'entropy_mean']].plot(logy = False, subplots=True, figsize = (15, 8))\n",
    "for ax in axs:\n",
    "    ax.axvline(cd_start, c='r', linestyle='dashed')\n",
    "    ax.axvline(cd_full, c='r', linestyle='dashed')\n",
    "axs[1].axhline(baseline_std_plus / amp, c='g')\n",
    "axs[1].axhline(baseline_std_minus / amp, c='g')\n"
   ]
  },
  {
   "cell_type": "code",
   "execution_count": 206,
   "metadata": {},
   "outputs": [
    {
     "name": "stdout",
     "output_type": "stream",
     "text": [
      "\u001b[31mChange detected in data: 0.5375337966745662 - at index: 1439\n",
      "\u001b[31mChange detected in data: 0.5316391702410632 - at index: 1503\n",
      "\u001b[31mChange detected in data: 0.5266726294170965 - at index: 1535\n",
      "\u001b[31mChange detected in data: 0.5254331860330516 - at index: 1663\n",
      "\u001b[31mChange detected in data: 0.5315599386247658 - at index: 1855\n",
      "\u001b[33mChange detected in data: 0.6201501712602411 - at index: 2879\n",
      "\u001b[33mChange detected in data: 0.6370116725942838 - at index: 2975\n",
      "\u001b[33mChange detected in data: 0.6394121545831225 - at index: 3007\n",
      "\u001b[33mChange detected in data: 0.6503838178987293 - at index: 3071\n",
      "\u001b[33mChange detected in data: 0.6620899489253705 - at index: 3135\n",
      "\u001b[33mChange detected in data: 0.6745116069274095 - at index: 3199\n",
      "\u001b[33mChange detected in data: 0.7014724541365065 - at index: 3327\n",
      "\u001b[33mChange detected in data: 0.7265486242066042 - at index: 3455\n",
      "\u001b[33mChange detected in data: 0.7488900870078931 - at index: 3583\n",
      "\u001b[33mChange detected in data: 0.773783634530792 - at index: 3711\n",
      "\u001b[33mChange detected in data: 0.8038587495568219 - at index: 3839\n",
      "\u001b[33mChange detected in data: 0.8355721104347941 - at index: 3967\n",
      "\u001b[32mChange detected in data: 0.8691168188381662 - at index: 4095\n",
      "\u001b[32mChange detected in data: 0.8959638817766323 - at index: 4223\n",
      "\u001b[32mChange detected in data: 0.9185400073412692 - at index: 4351\n",
      "\u001b[32mChange detected in data: 0.9429556308902529 - at index: 4479\n",
      "\u001b[32mChange detected in data: 0.9636521604885602 - at index: 4639\n",
      "\u001b[32mChange detected in data: 1.0033275319364738 - at index: 4831\n",
      "\u001b[32mChange detected in data: 1.0341044298038489 - at index: 4991\n",
      "\u001b[32mChange detected in data: 1.052654564122533 - at index: 5119\n",
      "\u001b[32mChange detected in data: 1.0714895195274834 - at index: 5247\n",
      "\u001b[32mChange detected in data: 1.0879741575611546 - at index: 5375\n",
      "\u001b[32mChange detected in data: 1.0988424451211891 - at index: 5503\n",
      "\u001b[32mChange detected in data: 1.1108343823207998 - at index: 5631\n",
      "\u001b[32mChange detected in data: 1.144501498773601 - at index: 5855\n"
     ]
    },
    {
     "name": "stderr",
     "output_type": "stream",
     "text": [
      "/home/Gigio/anaconda3/lib/python3.6/site-packages/skmultiflow/drift_detection/adwin.py:361: RuntimeWarning: invalid value encountered in sqrt\n",
      "  epsilon = np.sqrt(2 * m * v * dd) + 1. * 2 / 3 * dd * m\n"
     ]
    }
   ],
   "source": [
    "data_stream = df['entropy_mean']\n",
    "adwin = ADWIN(delta=0.002)\n",
    "for i in range(len(data_stream)):\n",
    "    adwin.add_element(data_stream[i])\n",
    "    if adwin.detected_change():\n",
    "        if i < cd_start:\n",
    "            print(Fore.RED + 'Change detected in data: ' + str(data_stream[i]) + ' - at index: ' + str(i))\n",
    "        elif i >= cd_start and i < cd_full:\n",
    "            print(Fore.YELLOW + 'Change detected in data: ' + str(data_stream[i]) + ' - at index: ' + str(i))            \n",
    "        else:\n",
    "            print(Fore.GREEN + 'Change detected in data: ' + str(data_stream[i]) + ' - at index: ' + str(i))"
   ]
  },
  {
   "cell_type": "code",
   "execution_count": 207,
   "metadata": {},
   "outputs": [
    {
     "data": {
      "text/plain": [
       "<matplotlib.lines.Line2D at 0x7fa54e4f1198>"
      ]
     },
     "execution_count": 207,
     "metadata": {},
     "output_type": "execute_result"
    },
    {
     "data": {
      "image/png": "[encoded data removed]",
      "text/plain": [
       "<Figure size 1080x576 with 1 Axes>"
      ]
     },
     "metadata": {},
     "output_type": "display_data"
    }
   ],
   "source": [
    "plt.figure(figsize=(15,8))\n",
    "sns.scatterplot( x=\"index\", y=\"entropy\", data=df.reset_index(), s=10)\n",
    "ax.set(ylim=(-0.1, None))\n",
    "plt.axvline(cd_start, c='r', linestyle='dashed')\n",
    "plt.axvline(cd_full, c='r', linestyle='dashed')"
   ]
  },
  {
   "cell_type": "code",
   "execution_count": null,
   "metadata": {
    "collapsed": true
   },
   "outputs": [],
   "source": []
  },
  {
   "cell_type": "code",
   "execution_count": null,
   "metadata": {
    "collapsed": true
   },
   "outputs": [],
   "source": []
  }
 ],
 "metadata": {
  "kernelspec": {
   "display_name": "Python 3",
   "language": "python",
   "name": "python3"
  },
  "language_info": {
   "codemirror_mode": {
    "name": "ipython",
    "version": 3
   },
   "file_extension": ".py",
   "mimetype": "text/x-python",
   "name": "python",
   "nbconvert_exporter": "python",
   "pygments_lexer": "ipython3",
   "version": "3.6.3"
  }
 },
 "nbformat": 4,
 "nbformat_minor": 2
}
