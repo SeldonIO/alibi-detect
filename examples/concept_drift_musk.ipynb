{
 "cells": [
  {
   "cell_type": "code",
   "execution_count": 1,
   "metadata": {},
   "outputs": [
    {
     "name": "stderr",
     "output_type": "stream",
     "text": [
      "Using TensorFlow backend.\n"
     ]
    }
   ],
   "source": [
    "import pandas as pd\n",
    "import numpy as np\n",
    "import tensorflow as tf\n",
    "import keras\n",
    "import matplotlib\n",
    "%matplotlib inline"
   ]
  },
  {
   "cell_type": "code",
   "execution_count": 2,
   "metadata": {},
   "outputs": [],
   "source": [
    "from sklearn.linear_model import LogisticRegression\n",
    "from sklearn.metrics import accuracy_score, precision_recall_curve, precision_score, recall_score, confusion_matrix\n",
    "from sklearn.model_selection import train_test_split\n",
    "from sklearn.preprocessing import MinMaxScaler\n",
    "from xgboost import XGBClassifier\n",
    "from tensorflow.keras.layers import Input, Dense\n",
    "from tensorflow.keras import Model\n",
    "import sys"
   ]
  },
  {
   "cell_type": "code",
   "execution_count": 3,
   "metadata": {},
   "outputs": [],
   "source": [
    "sys.path.append('../odcd/cd/')"
   ]
  },
  {
   "cell_type": "code",
   "execution_count": null,
   "metadata": {},
   "outputs": [],
   "source": []
  },
  {
   "cell_type": "code",
   "execution_count": 6,
   "metadata": {},
   "outputs": [],
   "source": [
    "df = pd.read_csv('/home/fdz/git/concept_drift_exps/data/musk/data/musk_csv.csv')"
   ]
  },
  {
   "cell_type": "code",
   "execution_count": 7,
   "metadata": {},
   "outputs": [
    {
     "name": "stdout",
     "output_type": "stream",
     "text": [
      "(6598, 170)\n"
     ]
    },
    {
     "data": {
      "text/html": [
       "<div>\n",
       "<style scoped>\n",
       "    .dataframe tbody tr th:only-of-type {\n",
       "        vertical-align: middle;\n",
       "    }\n",
       "\n",
       "    .dataframe tbody tr th {\n",
       "        vertical-align: top;\n",
       "    }\n",
       "\n",
       "    .dataframe thead th {\n",
       "        text-align: right;\n",
       "    }\n",
       "</style>\n",
       "<table border=\"1\" class=\"dataframe\">\n",
       "  <thead>\n",
       "    <tr style=\"text-align: right;\">\n",
       "      <th></th>\n",
       "      <th>ID</th>\n",
       "      <th>molecule_name</th>\n",
       "      <th>conformation_name</th>\n",
       "      <th>f1</th>\n",
       "      <th>f2</th>\n",
       "      <th>f3</th>\n",
       "      <th>f4</th>\n",
       "      <th>f5</th>\n",
       "      <th>f6</th>\n",
       "      <th>f7</th>\n",
       "      <th>...</th>\n",
       "      <th>f158</th>\n",
       "      <th>f159</th>\n",
       "      <th>f160</th>\n",
       "      <th>f161</th>\n",
       "      <th>f162</th>\n",
       "      <th>f163</th>\n",
       "      <th>f164</th>\n",
       "      <th>f165</th>\n",
       "      <th>f166</th>\n",
       "      <th>class</th>\n",
       "    </tr>\n",
       "  </thead>\n",
       "  <tbody>\n",
       "    <tr>\n",
       "      <td>0</td>\n",
       "      <td>1</td>\n",
       "      <td>MUSK-211</td>\n",
       "      <td>211_1+1</td>\n",
       "      <td>46</td>\n",
       "      <td>-108</td>\n",
       "      <td>-60</td>\n",
       "      <td>-69</td>\n",
       "      <td>-117</td>\n",
       "      <td>49</td>\n",
       "      <td>38</td>\n",
       "      <td>...</td>\n",
       "      <td>-308</td>\n",
       "      <td>52</td>\n",
       "      <td>-7</td>\n",
       "      <td>39</td>\n",
       "      <td>126</td>\n",
       "      <td>156</td>\n",
       "      <td>-50</td>\n",
       "      <td>-112</td>\n",
       "      <td>96</td>\n",
       "      <td>1</td>\n",
       "    </tr>\n",
       "    <tr>\n",
       "      <td>1</td>\n",
       "      <td>2</td>\n",
       "      <td>MUSK-211</td>\n",
       "      <td>211_1+10</td>\n",
       "      <td>41</td>\n",
       "      <td>-188</td>\n",
       "      <td>-145</td>\n",
       "      <td>22</td>\n",
       "      <td>-117</td>\n",
       "      <td>-6</td>\n",
       "      <td>57</td>\n",
       "      <td>...</td>\n",
       "      <td>-59</td>\n",
       "      <td>-2</td>\n",
       "      <td>52</td>\n",
       "      <td>103</td>\n",
       "      <td>136</td>\n",
       "      <td>169</td>\n",
       "      <td>-61</td>\n",
       "      <td>-136</td>\n",
       "      <td>79</td>\n",
       "      <td>1</td>\n",
       "    </tr>\n",
       "    <tr>\n",
       "      <td>2</td>\n",
       "      <td>3</td>\n",
       "      <td>MUSK-211</td>\n",
       "      <td>211_1+11</td>\n",
       "      <td>46</td>\n",
       "      <td>-194</td>\n",
       "      <td>-145</td>\n",
       "      <td>28</td>\n",
       "      <td>-117</td>\n",
       "      <td>73</td>\n",
       "      <td>57</td>\n",
       "      <td>...</td>\n",
       "      <td>-134</td>\n",
       "      <td>-154</td>\n",
       "      <td>57</td>\n",
       "      <td>143</td>\n",
       "      <td>142</td>\n",
       "      <td>165</td>\n",
       "      <td>-67</td>\n",
       "      <td>-145</td>\n",
       "      <td>39</td>\n",
       "      <td>1</td>\n",
       "    </tr>\n",
       "    <tr>\n",
       "      <td>3</td>\n",
       "      <td>4</td>\n",
       "      <td>MUSK-211</td>\n",
       "      <td>211_1+12</td>\n",
       "      <td>41</td>\n",
       "      <td>-188</td>\n",
       "      <td>-145</td>\n",
       "      <td>22</td>\n",
       "      <td>-117</td>\n",
       "      <td>-7</td>\n",
       "      <td>57</td>\n",
       "      <td>...</td>\n",
       "      <td>-60</td>\n",
       "      <td>-4</td>\n",
       "      <td>52</td>\n",
       "      <td>104</td>\n",
       "      <td>136</td>\n",
       "      <td>168</td>\n",
       "      <td>-60</td>\n",
       "      <td>-135</td>\n",
       "      <td>80</td>\n",
       "      <td>1</td>\n",
       "    </tr>\n",
       "    <tr>\n",
       "      <td>4</td>\n",
       "      <td>5</td>\n",
       "      <td>MUSK-211</td>\n",
       "      <td>211_1+13</td>\n",
       "      <td>41</td>\n",
       "      <td>-188</td>\n",
       "      <td>-145</td>\n",
       "      <td>22</td>\n",
       "      <td>-117</td>\n",
       "      <td>-7</td>\n",
       "      <td>57</td>\n",
       "      <td>...</td>\n",
       "      <td>-60</td>\n",
       "      <td>-4</td>\n",
       "      <td>52</td>\n",
       "      <td>104</td>\n",
       "      <td>137</td>\n",
       "      <td>168</td>\n",
       "      <td>-60</td>\n",
       "      <td>-135</td>\n",
       "      <td>80</td>\n",
       "      <td>1</td>\n",
       "    </tr>\n",
       "  </tbody>\n",
       "</table>\n",
       "<p>5 rows × 170 columns</p>\n",
       "</div>"
      ],
      "text/plain": [
       "   ID molecule_name conformation_name  f1   f2   f3  f4   f5  f6  f7  ...  \\\n",
       "0   1      MUSK-211           211_1+1  46 -108  -60 -69 -117  49  38  ...   \n",
       "1   2      MUSK-211          211_1+10  41 -188 -145  22 -117  -6  57  ...   \n",
       "2   3      MUSK-211          211_1+11  46 -194 -145  28 -117  73  57  ...   \n",
       "3   4      MUSK-211          211_1+12  41 -188 -145  22 -117  -7  57  ...   \n",
       "4   5      MUSK-211          211_1+13  41 -188 -145  22 -117  -7  57  ...   \n",
       "\n",
       "   f158  f159  f160  f161  f162  f163  f164  f165  f166  class  \n",
       "0  -308    52    -7    39   126   156   -50  -112    96      1  \n",
       "1   -59    -2    52   103   136   169   -61  -136    79      1  \n",
       "2  -134  -154    57   143   142   165   -67  -145    39      1  \n",
       "3   -60    -4    52   104   136   168   -60  -135    80      1  \n",
       "4   -60    -4    52   104   137   168   -60  -135    80      1  \n",
       "\n",
       "[5 rows x 170 columns]"
      ]
     },
     "execution_count": 7,
     "metadata": {},
     "output_type": "execute_result"
    }
   ],
   "source": [
    "print(df.shape)\n",
    "df.head()"
   ]
  },
  {
   "cell_type": "code",
   "execution_count": 8,
   "metadata": {},
   "outputs": [
    {
     "data": {
      "text/plain": [
       "0    0.845862\n",
       "1    0.154138\n",
       "Name: class, dtype: float64"
      ]
     },
     "execution_count": 8,
     "metadata": {},
     "output_type": "execute_result"
    }
   ],
   "source": [
    "df['class'].value_counts() / len(df)"
   ]
  },
  {
   "cell_type": "code",
   "execution_count": 9,
   "metadata": {},
   "outputs": [],
   "source": [
    "features = [col for col in df.columns if col not in ['ID', 'molecule_name', 'conformation_name', 'class']]\n",
    "target = 'class'"
   ]
  },
  {
   "cell_type": "code",
   "execution_count": 10,
   "metadata": {},
   "outputs": [],
   "source": [
    "X, y = df[features], df[target]"
   ]
  },
  {
   "cell_type": "code",
   "execution_count": 11,
   "metadata": {},
   "outputs": [],
   "source": [
    "X_train, X_test, y_train, y_test = train_test_split(X, y)"
   ]
  },
  {
   "cell_type": "code",
   "execution_count": 12,
   "metadata": {},
   "outputs": [
    {
     "name": "stderr",
     "output_type": "stream",
     "text": [
      "/home/fdz/anaconda3/lib/python3.7/site-packages/sklearn/preprocessing/data.py:334: DataConversionWarning: Data with input dtype int64 were all converted to float64 by MinMaxScaler.\n",
      "  return self.partial_fit(X, y)\n"
     ]
    }
   ],
   "source": [
    "scale = True\n",
    "if scale:\n",
    "    scaler = MinMaxScaler()\n",
    "    scaler.fit(X_train)\n",
    "    X_train = scaler.transform(X_train)\n",
    "    X_test = scaler.transform(X_test)"
   ]
  },
  {
   "cell_type": "code",
   "execution_count": 13,
   "metadata": {},
   "outputs": [
    {
     "name": "stdout",
     "output_type": "stream",
     "text": [
      "(4948, 166) (1650, 166)\n",
      "(4948,) (1650,)\n"
     ]
    }
   ],
   "source": [
    "print(X_train.shape, X_test.shape)\n",
    "print(y_train.shape, y_test.shape)"
   ]
  },
  {
   "cell_type": "markdown",
   "metadata": {},
   "source": [
    "# Logistic"
   ]
  },
  {
   "cell_type": "code",
   "execution_count": 14,
   "metadata": {},
   "outputs": [
    {
     "name": "stderr",
     "output_type": "stream",
     "text": [
      "/home/fdz/anaconda3/lib/python3.7/site-packages/sklearn/linear_model/logistic.py:433: FutureWarning: Default solver will be changed to 'lbfgs' in 0.22. Specify a solver to silence this warning.\n",
      "  FutureWarning)\n"
     ]
    },
    {
     "data": {
      "text/plain": [
       "LogisticRegression(C=1.0, class_weight=None, dual=False, fit_intercept=True,\n",
       "          intercept_scaling=1, max_iter=100, multi_class='warn',\n",
       "          n_jobs=None, penalty='l2', random_state=None, solver='warn',\n",
       "          tol=0.0001, verbose=0, warm_start=False)"
      ]
     },
     "execution_count": 14,
     "metadata": {},
     "output_type": "execute_result"
    }
   ],
   "source": [
    "lg = LogisticRegression()\n",
    "lg.fit(X_train, y_train)"
   ]
  },
  {
   "cell_type": "code",
   "execution_count": 15,
   "metadata": {},
   "outputs": [],
   "source": [
    "preds_train, preds_test = lg.predict(X_train), lg.predict(X_test)"
   ]
  },
  {
   "cell_type": "code",
   "execution_count": 16,
   "metadata": {},
   "outputs": [
    {
     "data": {
      "text/plain": [
       "array([[4145,   59],\n",
       "       [ 240,  504]])"
      ]
     },
     "execution_count": 16,
     "metadata": {},
     "output_type": "execute_result"
    }
   ],
   "source": [
    "confusion_matrix(y_train, preds_train)"
   ]
  },
  {
   "cell_type": "code",
   "execution_count": 17,
   "metadata": {},
   "outputs": [
    {
     "data": {
      "text/plain": [
       "array([[1349,   28],\n",
       "       [  83,  190]])"
      ]
     },
     "execution_count": 17,
     "metadata": {},
     "output_type": "execute_result"
    }
   ],
   "source": [
    "confusion_matrix(y_test, preds_test)"
   ]
  },
  {
   "cell_type": "code",
   "execution_count": 18,
   "metadata": {},
   "outputs": [
    {
     "data": {
      "text/plain": [
       "0.9327272727272727"
      ]
     },
     "execution_count": 18,
     "metadata": {},
     "output_type": "execute_result"
    }
   ],
   "source": [
    "accuracy_score(y_test, preds_test)"
   ]
  },
  {
   "cell_type": "code",
   "execution_count": 19,
   "metadata": {},
   "outputs": [
    {
     "data": {
      "text/plain": [
       "0.9395715440582053"
      ]
     },
     "execution_count": 19,
     "metadata": {},
     "output_type": "execute_result"
    }
   ],
   "source": [
    "accuracy_score(y_train, preds_train)"
   ]
  },
  {
   "cell_type": "markdown",
   "metadata": {},
   "source": [
    "# xg and features importance"
   ]
  },
  {
   "cell_type": "code",
   "execution_count": 20,
   "metadata": {},
   "outputs": [
    {
     "data": {
      "text/plain": [
       "XGBClassifier(base_score=0.5, booster='gbtree', colsample_bylevel=1,\n",
       "       colsample_bynode=1, colsample_bytree=1, gamma=0, learning_rate=0.1,\n",
       "       max_delta_step=0, max_depth=3, min_child_weight=1, missing=None,\n",
       "       n_estimators=100, n_jobs=1, nthread=None,\n",
       "       objective='binary:logistic', random_state=0, reg_alpha=0,\n",
       "       reg_lambda=1, scale_pos_weight=1, seed=None, silent=None,\n",
       "       subsample=1, verbosity=1)"
      ]
     },
     "execution_count": 20,
     "metadata": {},
     "output_type": "execute_result"
    }
   ],
   "source": [
    "xgb = XGBClassifier()\n",
    "xgb.fit(X_train, y_train)"
   ]
  },
  {
   "cell_type": "code",
   "execution_count": 21,
   "metadata": {},
   "outputs": [
    {
     "data": {
      "text/plain": [
       "0.9648484848484848"
      ]
     },
     "execution_count": 21,
     "metadata": {},
     "output_type": "execute_result"
    }
   ],
   "source": [
    "accuracy_score(y_test, xgb.predict(X_test))"
   ]
  },
  {
   "cell_type": "code",
   "execution_count": 22,
   "metadata": {},
   "outputs": [],
   "source": [
    "imp = xgb.get_booster().get_score(importance_type='total_gain')"
   ]
  },
  {
   "cell_type": "code",
   "execution_count": 23,
   "metadata": {},
   "outputs": [],
   "source": [
    "import operator\n",
    "sorted_imp = sorted(imp.items(), key=operator.itemgetter(1), reverse=True)"
   ]
  },
  {
   "cell_type": "code",
   "execution_count": 24,
   "metadata": {},
   "outputs": [
    {
     "data": {
      "text/plain": [
       "[('f35', 2025.26330589),\n",
       " ('f162', 1497.5108816299996),\n",
       " ('f123', 694.1324720499999),\n",
       " ('f125', 676.43216878),\n",
       " ('f8', 639.9446623200001),\n",
       " ('f150', 596.9024362499999),\n",
       " ('f131', 551.184911713),\n",
       " ('f65', 526.3617205199998),\n",
       " ('f121', 519.4723354),\n",
       " ('f110', 461.8523139999999),\n",
       " ('f91', 388.13815883999996),\n",
       " ('f0', 375.7654980700001),\n",
       " ('f62', 342.59625538000006),\n",
       " ('f143', 288.35494862999997),\n",
       " ('f32', 281.84323297199995),\n",
       " ('f30', 280.49445182),\n",
       " ('f25', 263.6450346),\n",
       " ('f57', 254.90224066),\n",
       " ('f109', 244.92138477),\n",
       " ('f82', 223.88158716000007),\n",
       " ('f71', 215.19040021),\n",
       " ('f164', 196.7071971),\n",
       " ('f90', 194.53804958999999),\n",
       " ('f139', 192.19375184999998),\n",
       " ('f13', 175.22787651),\n",
       " ('f104', 175.14661800000002),\n",
       " ('f42', 150.66357325),\n",
       " ('f87', 150.10613825000001),\n",
       " ('f101', 145.2152671),\n",
       " ('f58', 141.7638082),\n",
       " ('f115', 137.7741088),\n",
       " ('f34', 132.1112904),\n",
       " ('f66', 131.08903066000002),\n",
       " ('f140', 122.80477912399999),\n",
       " ('f54', 119.86926270000001),\n",
       " ('f60', 118.53390886000003),\n",
       " ('f20', 115.69672198),\n",
       " ('f49', 112.97758196000001),\n",
       " ('f163', 109.7602502),\n",
       " ('f116', 103.92916829999999),\n",
       " ('f67', 103.77540307000001),\n",
       " ('f16', 102.9112806),\n",
       " ('f43', 98.89639659999999),\n",
       " ('f3', 98.89002595),\n",
       " ('f128', 95.4895458),\n",
       " ('f159', 94.344165397),\n",
       " ('f108', 90.45016904599998),\n",
       " ('f97', 85.2167587),\n",
       " ('f21', 82.80825046999999),\n",
       " ('f6', 82.61806189499998),\n",
       " ('f147', 79.1796646),\n",
       " ('f12', 69.24832772),\n",
       " ('f157', 64.72298097),\n",
       " ('f70', 62.32136921),\n",
       " ('f24', 59.56231022),\n",
       " ('f95', 54.24766821),\n",
       " ('f63', 49.5402031),\n",
       " ('f50', 45.6820192),\n",
       " ('f105', 43.8919372),\n",
       " ('f132', 42.680583510000005),\n",
       " ('f148', 42.6056938),\n",
       " ('f145', 40.2006023),\n",
       " ('f36', 32.64012913),\n",
       " ('f83', 31.76334571),\n",
       " ('f1', 29.7485085),\n",
       " ('f28', 29.69585893),\n",
       " ('f74', 29.1288471),\n",
       " ('f103', 27.8517418),\n",
       " ('f59', 27.2969894),\n",
       " ('f14', 27.280458499999998),\n",
       " ('f144', 26.3499108),\n",
       " ('f130', 25.96221923),\n",
       " ('f55', 25.437767),\n",
       " ('f33', 25.152000414),\n",
       " ('f135', 25.01982165),\n",
       " ('f94', 24.449497219999998),\n",
       " ('f142', 24.385104220000002),\n",
       " ('f69', 23.55558018),\n",
       " ('f26', 23.0979614),\n",
       " ('f22', 20.0228615),\n",
       " ('f153', 18.451926229999998),\n",
       " ('f78', 18.3302517),\n",
       " ('f129', 17.43714049),\n",
       " ('f56', 16.95405436),\n",
       " ('f29', 16.19742441),\n",
       " ('f77', 15.0835476),\n",
       " ('f41', 15.012248999999999),\n",
       " ('f76', 12.4708672),\n",
       " ('f79', 11.6660681),\n",
       " ('f31', 11.161295890000002),\n",
       " ('f98', 11.06883764),\n",
       " ('f51', 10.60003472),\n",
       " ('f155', 10.220718389),\n",
       " ('f18', 10.129280569999999),\n",
       " ('f114', 9.18732452),\n",
       " ('f161', 8.74699497),\n",
       " ('f137', 7.46084738),\n",
       " ('f89', 7.35079765),\n",
       " ('f112', 7.123106),\n",
       " ('f122', 6.81244278),\n",
       " ('f73', 6.10679626),\n",
       " ('f133', 6.05013275),\n",
       " ('f120', 5.14947605),\n",
       " ('f156', 5.02192402),\n",
       " ('f151', 4.583940510000001),\n",
       " ('f17', 4.008014679),\n",
       " ('f45', 2.80694485),\n",
       " ('f119', 1.51315594),\n",
       " ('f64', 0.720448494),\n",
       " ('f160', 0.712088585),\n",
       " ('f158', 0.63706398),\n",
       " ('f81', 0.506780624),\n",
       " ('f126', 0.122976303),\n",
       " ('f39', 0.0873241425)]"
      ]
     },
     "execution_count": 24,
     "metadata": {},
     "output_type": "execute_result"
    }
   ],
   "source": [
    "sorted_imp"
   ]
  },
  {
   "cell_type": "code",
   "execution_count": 25,
   "metadata": {},
   "outputs": [
    {
     "data": {
      "text/plain": [
       "28"
      ]
     },
     "execution_count": 25,
     "metadata": {},
     "output_type": "execute_result"
    }
   ],
   "source": [
    "tr = int(0.25 * len(sorted_imp))\n",
    "tr"
   ]
  },
  {
   "cell_type": "code",
   "execution_count": 26,
   "metadata": {},
   "outputs": [],
   "source": [
    "top_25 = [t[0] for t in sorted_imp[:tr]]"
   ]
  },
  {
   "cell_type": "code",
   "execution_count": 27,
   "metadata": {},
   "outputs": [],
   "source": [
    "bottom_25 = [t[0] for t in sorted_imp[-tr:]]"
   ]
  },
  {
   "cell_type": "code",
   "execution_count": null,
   "metadata": {},
   "outputs": [],
   "source": []
  },
  {
   "cell_type": "markdown",
   "metadata": {},
   "source": [
    "# NN"
   ]
  },
  {
   "cell_type": "code",
   "execution_count": 28,
   "metadata": {},
   "outputs": [
    {
     "data": {
      "text/plain": [
       "(6598, 166)"
      ]
     },
     "execution_count": 28,
     "metadata": {},
     "output_type": "execute_result"
    }
   ],
   "source": [
    "X.shape"
   ]
  },
  {
   "cell_type": "code",
   "execution_count": 29,
   "metadata": {},
   "outputs": [],
   "source": [
    "y_train = tf.keras.utils.to_categorical(y_train)\n",
    "y_test = tf.keras.utils.to_categorical(y_test)"
   ]
  },
  {
   "cell_type": "code",
   "execution_count": 30,
   "metadata": {},
   "outputs": [
    {
     "name": "stdout",
     "output_type": "stream",
     "text": [
      "(4948, 166) (1650, 166)\n",
      "(4948, 2) (1650, 2)\n"
     ]
    }
   ],
   "source": [
    "print(X_train.shape, X_test.shape)\n",
    "print(y_train.shape, y_test.shape)"
   ]
  },
  {
   "cell_type": "code",
   "execution_count": 31,
   "metadata": {},
   "outputs": [],
   "source": [
    "def model():\n",
    "    \n",
    "    x_in = tf.keras.layers.Input(shape=(166, ))\n",
    "    x = tf.keras.layers.Dense(200, activation='relu')(x_in)\n",
    "    #x = tf.keras.layers.Dense(50, activation='relu')(x_in)\n",
    "    out = tf.keras.layers.Dense(2, activation='softmax')(x)\n",
    "    clf = tf.keras.models.Model(x_in, out)\n",
    "    clf.compile(loss='categorical_crossentropy', optimizer='Adam', metrics=['accuracy'])\n",
    "    \n",
    "    clf.summary()\n",
    "    return clf"
   ]
  },
  {
   "cell_type": "code",
   "execution_count": 32,
   "metadata": {},
   "outputs": [
    {
     "name": "stdout",
     "output_type": "stream",
     "text": [
      "WARNING:tensorflow:From /home/fdz/anaconda3/lib/python3.7/site-packages/tensorflow/python/ops/resource_variable_ops.py:435: colocate_with (from tensorflow.python.framework.ops) is deprecated and will be removed in a future version.\n",
      "Instructions for updating:\n",
      "Colocations handled automatically by placer.\n",
      "_________________________________________________________________\n",
      "Layer (type)                 Output Shape              Param #   \n",
      "=================================================================\n",
      "input_1 (InputLayer)         (None, 166)               0         \n",
      "_________________________________________________________________\n",
      "dense (Dense)                (None, 200)               33400     \n",
      "_________________________________________________________________\n",
      "dense_1 (Dense)              (None, 2)                 402       \n",
      "=================================================================\n",
      "Total params: 33,802\n",
      "Trainable params: 33,802\n",
      "Non-trainable params: 0\n",
      "_________________________________________________________________\n"
     ]
    }
   ],
   "source": [
    "clf = model()"
   ]
  },
  {
   "cell_type": "code",
   "execution_count": 33,
   "metadata": {},
   "outputs": [
    {
     "name": "stdout",
     "output_type": "stream",
     "text": [
      "Train on 4948 samples, validate on 1650 samples\n",
      "WARNING:tensorflow:From /home/fdz/anaconda3/lib/python3.7/site-packages/tensorflow/python/ops/math_ops.py:3066: to_int32 (from tensorflow.python.ops.math_ops) is deprecated and will be removed in a future version.\n",
      "Instructions for updating:\n",
      "Use tf.cast instead.\n",
      "Epoch 1/100\n",
      "4948/4948 [==============================] - 0s 56us/sample - loss: 0.2978 - acc: 0.8854 - val_loss: 0.2327 - val_acc: 0.9218\n",
      "Epoch 2/100\n",
      "4948/4948 [==============================] - 0s 34us/sample - loss: 0.2042 - acc: 0.9266 - val_loss: 0.2204 - val_acc: 0.9182\n",
      "Epoch 3/100\n",
      "4948/4948 [==============================] - 0s 34us/sample - loss: 0.1850 - acc: 0.9297 - val_loss: 0.1799 - val_acc: 0.9327\n",
      "Epoch 4/100\n",
      "4948/4948 [==============================] - 0s 33us/sample - loss: 0.1690 - acc: 0.9376 - val_loss: 0.2091 - val_acc: 0.9242\n",
      "Epoch 5/100\n",
      "4948/4948 [==============================] - 0s 36us/sample - loss: 0.1632 - acc: 0.9386 - val_loss: 0.1551 - val_acc: 0.9424\n",
      "Epoch 6/100\n",
      "4948/4948 [==============================] - 0s 35us/sample - loss: 0.1406 - acc: 0.9456 - val_loss: 0.1485 - val_acc: 0.9479\n",
      "Epoch 7/100\n",
      "4948/4948 [==============================] - 0s 35us/sample - loss: 0.1327 - acc: 0.9525 - val_loss: 0.1833 - val_acc: 0.9327\n",
      "Epoch 8/100\n",
      "4948/4948 [==============================] - 0s 36us/sample - loss: 0.1288 - acc: 0.9543 - val_loss: 0.1385 - val_acc: 0.9467\n",
      "Epoch 9/100\n",
      "4948/4948 [==============================] - 0s 33us/sample - loss: 0.1147 - acc: 0.9584 - val_loss: 0.1691 - val_acc: 0.9345\n",
      "Epoch 10/100\n",
      "4948/4948 [==============================] - 0s 34us/sample - loss: 0.1097 - acc: 0.9626 - val_loss: 0.1128 - val_acc: 0.9636\n",
      "Epoch 11/100\n",
      "4948/4948 [==============================] - 0s 34us/sample - loss: 0.1047 - acc: 0.9642 - val_loss: 0.1328 - val_acc: 0.9539\n",
      "Epoch 12/100\n",
      "4948/4948 [==============================] - 0s 37us/sample - loss: 0.0966 - acc: 0.9685 - val_loss: 0.1083 - val_acc: 0.9673\n",
      "Epoch 13/100\n",
      "4948/4948 [==============================] - 0s 41us/sample - loss: 0.0886 - acc: 0.9701 - val_loss: 0.0950 - val_acc: 0.9661\n",
      "Epoch 14/100\n",
      "4948/4948 [==============================] - 0s 42us/sample - loss: 0.0904 - acc: 0.9685 - val_loss: 0.0926 - val_acc: 0.9697\n",
      "Epoch 15/100\n",
      "4948/4948 [==============================] - 0s 44us/sample - loss: 0.0790 - acc: 0.9749 - val_loss: 0.1279 - val_acc: 0.9497\n",
      "Epoch 16/100\n",
      "4948/4948 [==============================] - 0s 40us/sample - loss: 0.0795 - acc: 0.9709 - val_loss: 0.0868 - val_acc: 0.9739\n",
      "Epoch 17/100\n",
      "4948/4948 [==============================] - 0s 42us/sample - loss: 0.0761 - acc: 0.9719 - val_loss: 0.0976 - val_acc: 0.9679\n",
      "Epoch 18/100\n",
      "4948/4948 [==============================] - 0s 47us/sample - loss: 0.0708 - acc: 0.9772 - val_loss: 0.0873 - val_acc: 0.9679\n",
      "Epoch 19/100\n",
      "4948/4948 [==============================] - 0s 40us/sample - loss: 0.0652 - acc: 0.9794 - val_loss: 0.0773 - val_acc: 0.9727\n",
      "Epoch 20/100\n",
      "4948/4948 [==============================] - 0s 41us/sample - loss: 0.0605 - acc: 0.9786 - val_loss: 0.0742 - val_acc: 0.9721\n",
      "Epoch 21/100\n",
      "4948/4948 [==============================] - 0s 47us/sample - loss: 0.0560 - acc: 0.9798 - val_loss: 0.0859 - val_acc: 0.9685\n",
      "Epoch 22/100\n",
      "4948/4948 [==============================] - 0s 44us/sample - loss: 0.0592 - acc: 0.9766 - val_loss: 0.0777 - val_acc: 0.9721\n",
      "Epoch 23/100\n",
      "4948/4948 [==============================] - 0s 40us/sample - loss: 0.0518 - acc: 0.9812 - val_loss: 0.0691 - val_acc: 0.9745\n",
      "Epoch 24/100\n",
      "4948/4948 [==============================] - 0s 41us/sample - loss: 0.0493 - acc: 0.9840 - val_loss: 0.0669 - val_acc: 0.9758\n",
      "Epoch 25/100\n",
      "4948/4948 [==============================] - 0s 40us/sample - loss: 0.0522 - acc: 0.9798 - val_loss: 0.0784 - val_acc: 0.9703\n",
      "Epoch 26/100\n",
      "4948/4948 [==============================] - 0s 37us/sample - loss: 0.0451 - acc: 0.9820 - val_loss: 0.0675 - val_acc: 0.9709\n",
      "Epoch 27/100\n",
      "4948/4948 [==============================] - 0s 38us/sample - loss: 0.0489 - acc: 0.9820 - val_loss: 0.0594 - val_acc: 0.9776\n",
      "Epoch 28/100\n",
      "4948/4948 [==============================] - 0s 38us/sample - loss: 0.0385 - acc: 0.9871 - val_loss: 0.0558 - val_acc: 0.9788\n",
      "Epoch 29/100\n",
      "4948/4948 [==============================] - 0s 37us/sample - loss: 0.0439 - acc: 0.9836 - val_loss: 0.1075 - val_acc: 0.9636\n",
      "Epoch 30/100\n",
      "4948/4948 [==============================] - 0s 37us/sample - loss: 0.0455 - acc: 0.9836 - val_loss: 0.0539 - val_acc: 0.9806\n",
      "Epoch 31/100\n",
      "4948/4948 [==============================] - 0s 37us/sample - loss: 0.0332 - acc: 0.9895 - val_loss: 0.0941 - val_acc: 0.9685\n",
      "Epoch 32/100\n",
      "4948/4948 [==============================] - 0s 36us/sample - loss: 0.0326 - acc: 0.9887 - val_loss: 0.0685 - val_acc: 0.9752\n",
      "Epoch 33/100\n",
      "4948/4948 [==============================] - 0s 38us/sample - loss: 0.0336 - acc: 0.9897 - val_loss: 0.0513 - val_acc: 0.9812\n",
      "Epoch 34/100\n",
      "4948/4948 [==============================] - 0s 38us/sample - loss: 0.0285 - acc: 0.9913 - val_loss: 0.0623 - val_acc: 0.9752\n",
      "Epoch 35/100\n",
      "4948/4948 [==============================] - 0s 37us/sample - loss: 0.0310 - acc: 0.9897 - val_loss: 0.0463 - val_acc: 0.9830\n",
      "Epoch 36/100\n",
      "4948/4948 [==============================] - 0s 38us/sample - loss: 0.0308 - acc: 0.9899 - val_loss: 0.0461 - val_acc: 0.9824\n",
      "Epoch 37/100\n",
      "4948/4948 [==============================] - 0s 36us/sample - loss: 0.0271 - acc: 0.9917 - val_loss: 0.0490 - val_acc: 0.9800\n",
      "Epoch 38/100\n",
      "4948/4948 [==============================] - 0s 36us/sample - loss: 0.0340 - acc: 0.9881 - val_loss: 0.0503 - val_acc: 0.9800\n",
      "Epoch 39/100\n",
      "4948/4948 [==============================] - 0s 38us/sample - loss: 0.0232 - acc: 0.9937 - val_loss: 0.0566 - val_acc: 0.9752\n",
      "Epoch 40/100\n",
      "4948/4948 [==============================] - 0s 37us/sample - loss: 0.0259 - acc: 0.9923 - val_loss: 0.0453 - val_acc: 0.9842\n",
      "Epoch 41/100\n",
      "4948/4948 [==============================] - 0s 47us/sample - loss: 0.0279 - acc: 0.9905 - val_loss: 0.0474 - val_acc: 0.9830\n",
      "Epoch 42/100\n",
      "4948/4948 [==============================] - 0s 43us/sample - loss: 0.0317 - acc: 0.9887 - val_loss: 0.0468 - val_acc: 0.9794\n",
      "Epoch 43/100\n",
      "4948/4948 [==============================] - 0s 43us/sample - loss: 0.0213 - acc: 0.9939 - val_loss: 0.0466 - val_acc: 0.9830\n",
      "Epoch 44/100\n",
      "4948/4948 [==============================] - 0s 42us/sample - loss: 0.0160 - acc: 0.9960 - val_loss: 0.0421 - val_acc: 0.9861\n",
      "Epoch 45/100\n",
      "4948/4948 [==============================] - 0s 41us/sample - loss: 0.0165 - acc: 0.9958 - val_loss: 0.0381 - val_acc: 0.9873\n",
      "Epoch 46/100\n",
      "4948/4948 [==============================] - 0s 40us/sample - loss: 0.0211 - acc: 0.9927 - val_loss: 0.0551 - val_acc: 0.9818\n",
      "Epoch 47/100\n",
      "4948/4948 [==============================] - 0s 40us/sample - loss: 0.0167 - acc: 0.9951 - val_loss: 0.0376 - val_acc: 0.9842\n",
      "Epoch 48/100\n",
      "4948/4948 [==============================] - 0s 45us/sample - loss: 0.0155 - acc: 0.9960 - val_loss: 0.0394 - val_acc: 0.9867\n",
      "Epoch 49/100\n",
      "4948/4948 [==============================] - 0s 43us/sample - loss: 0.0138 - acc: 0.9966 - val_loss: 0.0412 - val_acc: 0.9867\n",
      "Epoch 50/100\n",
      "4948/4948 [==============================] - 0s 43us/sample - loss: 0.0127 - acc: 0.9972 - val_loss: 0.0410 - val_acc: 0.9848\n",
      "Epoch 51/100\n",
      "4948/4948 [==============================] - 0s 38us/sample - loss: 0.0148 - acc: 0.9956 - val_loss: 0.0420 - val_acc: 0.9824\n",
      "Epoch 52/100\n",
      "4948/4948 [==============================] - 0s 39us/sample - loss: 0.0235 - acc: 0.9915 - val_loss: 0.0432 - val_acc: 0.9836\n",
      "Epoch 53/100\n",
      "4948/4948 [==============================] - 0s 42us/sample - loss: 0.0173 - acc: 0.9943 - val_loss: 0.0426 - val_acc: 0.9848\n",
      "Epoch 54/100\n",
      "4948/4948 [==============================] - 0s 42us/sample - loss: 0.0128 - acc: 0.9964 - val_loss: 0.0356 - val_acc: 0.9861\n",
      "Epoch 55/100\n",
      "4948/4948 [==============================] - 0s 42us/sample - loss: 0.0107 - acc: 0.9982 - val_loss: 0.0370 - val_acc: 0.9855\n",
      "Epoch 56/100\n",
      "4948/4948 [==============================] - 0s 41us/sample - loss: 0.0200 - acc: 0.9933 - val_loss: 0.0426 - val_acc: 0.9824\n",
      "Epoch 57/100\n",
      "4948/4948 [==============================] - 0s 42us/sample - loss: 0.0120 - acc: 0.9980 - val_loss: 0.0296 - val_acc: 0.9885\n"
     ]
    },
    {
     "name": "stdout",
     "output_type": "stream",
     "text": [
      "Epoch 58/100\n",
      "4948/4948 [==============================] - 0s 41us/sample - loss: 0.0146 - acc: 0.9945 - val_loss: 0.0290 - val_acc: 0.9867\n",
      "Epoch 59/100\n",
      "4948/4948 [==============================] - 0s 37us/sample - loss: 0.0094 - acc: 0.9974 - val_loss: 0.0383 - val_acc: 0.9836\n",
      "Epoch 60/100\n",
      "4948/4948 [==============================] - 0s 34us/sample - loss: 0.0117 - acc: 0.9964 - val_loss: 0.0310 - val_acc: 0.9891\n",
      "Epoch 61/100\n",
      "4948/4948 [==============================] - 0s 37us/sample - loss: 0.0077 - acc: 0.9986 - val_loss: 0.0365 - val_acc: 0.9848\n",
      "Epoch 62/100\n",
      "4948/4948 [==============================] - 0s 35us/sample - loss: 0.0112 - acc: 0.9962 - val_loss: 0.0321 - val_acc: 0.9879\n",
      "Epoch 63/100\n",
      "4948/4948 [==============================] - 0s 36us/sample - loss: 0.0080 - acc: 0.9988 - val_loss: 0.0381 - val_acc: 0.9848\n",
      "Epoch 64/100\n",
      "4948/4948 [==============================] - 0s 37us/sample - loss: 0.0068 - acc: 0.9992 - val_loss: 0.0275 - val_acc: 0.9891\n",
      "Epoch 65/100\n",
      "4948/4948 [==============================] - 0s 42us/sample - loss: 0.0077 - acc: 0.9986 - val_loss: 0.0230 - val_acc: 0.9921\n",
      "Epoch 66/100\n",
      "4948/4948 [==============================] - 0s 41us/sample - loss: 0.0060 - acc: 0.9988 - val_loss: 0.0325 - val_acc: 0.9891\n",
      "Epoch 67/100\n",
      "4948/4948 [==============================] - 0s 40us/sample - loss: 0.0076 - acc: 0.9986 - val_loss: 0.0286 - val_acc: 0.9903\n",
      "Epoch 68/100\n",
      "4948/4948 [==============================] - 0s 35us/sample - loss: 0.0048 - acc: 0.9996 - val_loss: 0.0233 - val_acc: 0.9909\n",
      "Epoch 69/100\n",
      "4948/4948 [==============================] - 0s 37us/sample - loss: 0.0184 - acc: 0.9937 - val_loss: 0.0427 - val_acc: 0.9848\n",
      "Epoch 70/100\n",
      "4948/4948 [==============================] - 0s 35us/sample - loss: 0.0060 - acc: 0.9990 - val_loss: 0.0284 - val_acc: 0.9897\n",
      "Epoch 71/100\n",
      "4948/4948 [==============================] - 0s 38us/sample - loss: 0.0063 - acc: 0.9990 - val_loss: 0.0286 - val_acc: 0.9897\n",
      "Epoch 72/100\n",
      "4948/4948 [==============================] - 0s 41us/sample - loss: 0.0180 - acc: 0.9931 - val_loss: 0.0415 - val_acc: 0.9855\n",
      "Epoch 73/100\n",
      "4948/4948 [==============================] - 0s 39us/sample - loss: 0.0177 - acc: 0.9943 - val_loss: 0.0340 - val_acc: 0.9891\n",
      "Epoch 74/100\n",
      "4948/4948 [==============================] - 0s 42us/sample - loss: 0.0057 - acc: 0.9992 - val_loss: 0.0349 - val_acc: 0.9891\n",
      "Epoch 75/100\n",
      "4948/4948 [==============================] - 0s 41us/sample - loss: 0.0051 - acc: 0.9992 - val_loss: 0.0256 - val_acc: 0.9909\n",
      "Epoch 76/100\n",
      "4948/4948 [==============================] - 0s 38us/sample - loss: 0.0038 - acc: 0.9998 - val_loss: 0.0276 - val_acc: 0.9897\n",
      "Epoch 77/100\n",
      "4948/4948 [==============================] - 0s 42us/sample - loss: 0.0253 - acc: 0.9899 - val_loss: 0.0246 - val_acc: 0.9885\n",
      "Epoch 78/100\n",
      "4948/4948 [==============================] - 0s 40us/sample - loss: 0.0052 - acc: 0.9992 - val_loss: 0.0260 - val_acc: 0.9891\n",
      "Epoch 79/100\n",
      "4948/4948 [==============================] - 0s 41us/sample - loss: 0.0034 - acc: 1.0000 - val_loss: 0.0266 - val_acc: 0.9903\n",
      "Epoch 80/100\n",
      "4948/4948 [==============================] - 0s 40us/sample - loss: 0.0036 - acc: 0.9998 - val_loss: 0.0355 - val_acc: 0.9885\n",
      "Epoch 81/100\n",
      "4948/4948 [==============================] - 0s 40us/sample - loss: 0.0072 - acc: 0.9978 - val_loss: 0.0391 - val_acc: 0.9891\n",
      "Epoch 82/100\n",
      "4948/4948 [==============================] - 0s 37us/sample - loss: 0.0036 - acc: 0.9996 - val_loss: 0.0242 - val_acc: 0.9903\n",
      "Epoch 83/100\n",
      "4948/4948 [==============================] - 0s 37us/sample - loss: 0.0031 - acc: 0.9994 - val_loss: 0.0257 - val_acc: 0.9891\n",
      "Epoch 84/100\n",
      "4948/4948 [==============================] - 0s 38us/sample - loss: 0.0040 - acc: 0.9986 - val_loss: 0.0252 - val_acc: 0.9891\n",
      "Epoch 85/100\n",
      "4948/4948 [==============================] - 0s 36us/sample - loss: 0.0047 - acc: 0.9992 - val_loss: 0.0278 - val_acc: 0.9909\n",
      "Epoch 86/100\n",
      "4948/4948 [==============================] - 0s 38us/sample - loss: 0.0035 - acc: 0.9996 - val_loss: 0.0237 - val_acc: 0.9921\n",
      "Epoch 87/100\n",
      "4948/4948 [==============================] - 0s 37us/sample - loss: 0.0023 - acc: 1.0000 - val_loss: 0.0253 - val_acc: 0.9897\n",
      "Epoch 88/100\n",
      "4948/4948 [==============================] - 0s 39us/sample - loss: 0.0023 - acc: 1.0000 - val_loss: 0.0216 - val_acc: 0.9891\n",
      "Epoch 89/100\n",
      "4948/4948 [==============================] - 0s 40us/sample - loss: 0.0053 - acc: 0.9984 - val_loss: 0.0792 - val_acc: 0.9667\n",
      "Epoch 90/100\n",
      "4948/4948 [==============================] - 0s 39us/sample - loss: 0.0307 - acc: 0.9873 - val_loss: 0.0735 - val_acc: 0.9788\n",
      "Epoch 91/100\n",
      "4948/4948 [==============================] - 0s 41us/sample - loss: 0.0164 - acc: 0.9945 - val_loss: 0.0533 - val_acc: 0.9782\n",
      "Epoch 92/100\n",
      "4948/4948 [==============================] - 0s 37us/sample - loss: 0.0042 - acc: 0.9994 - val_loss: 0.0192 - val_acc: 0.9921\n",
      "Epoch 93/100\n",
      "4948/4948 [==============================] - 0s 43us/sample - loss: 0.0020 - acc: 1.0000 - val_loss: 0.0218 - val_acc: 0.9909\n",
      "Epoch 94/100\n",
      "4948/4948 [==============================] - 0s 44us/sample - loss: 0.0016 - acc: 1.0000 - val_loss: 0.0221 - val_acc: 0.9915\n",
      "Epoch 95/100\n",
      "4948/4948 [==============================] - 0s 41us/sample - loss: 0.0014 - acc: 1.0000 - val_loss: 0.0216 - val_acc: 0.9915\n",
      "Epoch 96/100\n",
      "4948/4948 [==============================] - 0s 37us/sample - loss: 0.0014 - acc: 1.0000 - val_loss: 0.0188 - val_acc: 0.9915\n",
      "Epoch 97/100\n",
      "4948/4948 [==============================] - 0s 44us/sample - loss: 0.0014 - acc: 1.0000 - val_loss: 0.0198 - val_acc: 0.9921\n",
      "Epoch 98/100\n",
      "4948/4948 [==============================] - 0s 39us/sample - loss: 0.0013 - acc: 1.0000 - val_loss: 0.0196 - val_acc: 0.9939\n",
      "Epoch 99/100\n",
      "4948/4948 [==============================] - 0s 38us/sample - loss: 0.0021 - acc: 1.0000 - val_loss: 0.0212 - val_acc: 0.9909\n",
      "Epoch 100/100\n",
      "4948/4948 [==============================] - 0s 38us/sample - loss: 0.0029 - acc: 0.9998 - val_loss: 0.0205 - val_acc: 0.9927\n"
     ]
    },
    {
     "data": {
      "text/plain": [
       "<tensorflow.python.keras.callbacks.History at 0x7f101185c410>"
      ]
     },
     "execution_count": 33,
     "metadata": {},
     "output_type": "execute_result"
    }
   ],
   "source": [
    "clf.fit(X_train, y_train, epochs=100, validation_data=(X_test, y_test))"
   ]
  },
  {
   "cell_type": "code",
   "execution_count": 34,
   "metadata": {},
   "outputs": [],
   "source": [
    "preds_train = clf.predict(X_train)\n",
    "preds_test = clf.predict(X_test)"
   ]
  },
  {
   "cell_type": "code",
   "execution_count": 35,
   "metadata": {},
   "outputs": [
    {
     "data": {
      "text/plain": [
       "1.0"
      ]
     },
     "execution_count": 35,
     "metadata": {},
     "output_type": "execute_result"
    }
   ],
   "source": [
    "accuracy_score(np.argmax(y_train, axis=1), np.argmax(preds_train, axis=1))"
   ]
  },
  {
   "cell_type": "code",
   "execution_count": 36,
   "metadata": {},
   "outputs": [
    {
     "data": {
      "text/plain": [
       "0.9927272727272727"
      ]
     },
     "execution_count": 36,
     "metadata": {},
     "output_type": "execute_result"
    }
   ],
   "source": [
    "accuracy_score(np.argmax(y_test, axis=1), np.argmax(preds_test, axis=1))"
   ]
  },
  {
   "cell_type": "markdown",
   "metadata": {},
   "source": [
    "# features permutation"
   ]
  },
  {
   "cell_type": "code",
   "execution_count": 37,
   "metadata": {},
   "outputs": [],
   "source": [
    "X_test_perm_top = X_test.copy()\n",
    "X_test_perm_bot = X_test.copy()"
   ]
  },
  {
   "cell_type": "code",
   "execution_count": 38,
   "metadata": {},
   "outputs": [
    {
     "ename": "NameError",
     "evalue": "name 'perm_top' is not defined",
     "output_type": "error",
     "traceback": [
      "\u001b[0;31m---------------------------------------------------------------------------\u001b[0m",
      "\u001b[0;31mNameError\u001b[0m                                 Traceback (most recent call last)",
      "\u001b[0;32m<ipython-input-38-5cbe060480e7>\u001b[0m in \u001b[0;36m<module>\u001b[0;34m\u001b[0m\n\u001b[0;32m----> 1\u001b[0;31m \u001b[0mX_test_perm_top\u001b[0m\u001b[0;34m[\u001b[0m\u001b[0;34m:\u001b[0m\u001b[0;34m,\u001b[0m \u001b[0midxs_top_25\u001b[0m\u001b[0;34m]\u001b[0m \u001b[0;34m=\u001b[0m \u001b[0mX_test_perm_top\u001b[0m\u001b[0;34m[\u001b[0m\u001b[0;34m:\u001b[0m\u001b[0;34m,\u001b[0m \u001b[0mperm_top\u001b[0m\u001b[0;34m]\u001b[0m\u001b[0;34m\u001b[0m\u001b[0;34m\u001b[0m\u001b[0m\n\u001b[0m\u001b[1;32m      2\u001b[0m \u001b[0mX_test_perm_bot\u001b[0m\u001b[0;34m[\u001b[0m\u001b[0;34m:\u001b[0m\u001b[0;34m,\u001b[0m \u001b[0midxs_bottom_25\u001b[0m\u001b[0;34m]\u001b[0m \u001b[0;34m=\u001b[0m \u001b[0mX_test_perm_bot\u001b[0m\u001b[0;34m[\u001b[0m\u001b[0;34m:\u001b[0m\u001b[0;34m,\u001b[0m \u001b[0mperm_bot\u001b[0m\u001b[0;34m]\u001b[0m\u001b[0;34m\u001b[0m\u001b[0;34m\u001b[0m\u001b[0m\n",
      "\u001b[0;31mNameError\u001b[0m: name 'perm_top' is not defined"
     ]
    }
   ],
   "source": [
    "X_test_perm_top[:, idxs_top_25] = X_test_perm_top[:, perm_top]\n",
    "X_test_perm_bot[:, idxs_bottom_25] = X_test_perm_bot[:, perm_bot]"
   ]
  },
  {
   "cell_type": "code",
   "execution_count": null,
   "metadata": {},
   "outputs": [],
   "source": [
    "accuracy_score(np.argmax(y_test, axis=1), np.argmax(clf.predict(X_test_perm_top), axis=1))"
   ]
  },
  {
   "cell_type": "code",
   "execution_count": null,
   "metadata": {},
   "outputs": [],
   "source": [
    "accuracy_score(np.argmax(y_test, axis=1), np.argmax(clf.predict(X_test_perm_bot), axis=1))"
   ]
  },
  {
   "cell_type": "code",
   "execution_count": null,
   "metadata": {},
   "outputs": [],
   "source": [
    "accuracy_score(np.argmax(y_test, axis=1), np.argmax(clf.predict(X_test), axis=1))"
   ]
  },
  {
   "cell_type": "code",
   "execution_count": null,
   "metadata": {},
   "outputs": [],
   "source": []
  },
  {
   "cell_type": "markdown",
   "metadata": {},
   "source": [
    "# Vae"
   ]
  },
  {
   "cell_type": "code",
   "execution_count": 41,
   "metadata": {},
   "outputs": [],
   "source": [
    "from importlib import reload"
   ]
  },
  {
   "cell_type": "code",
   "execution_count": 62,
   "metadata": {},
   "outputs": [],
   "source": [
    "def sample_window(X_test, y_test, window):\n",
    "    samples_rnd = np.random.choice(range(len(X_test)), window, replace=False)\n",
    "    X_test_samples = X_test[samples_rnd, :]\n",
    "    y_test_samples = y_test[samples_rnd]\n",
    "    return X_test_samples, y_test_samples"
   ]
  },
  {
   "cell_type": "code",
   "execution_count": 42,
   "metadata": {},
   "outputs": [],
   "source": [
    "import model_symmetries as vsf"
   ]
  },
  {
   "cell_type": "code",
   "execution_count": 43,
   "metadata": {},
   "outputs": [
    {
     "data": {
      "text/plain": [
       "<module 'model_symmetries' from '../odcd/cd/model_symmetries.py'>"
      ]
     },
     "execution_count": 43,
     "metadata": {},
     "output_type": "execute_result"
    }
   ],
   "source": [
    "reload(vsf)"
   ]
  },
  {
   "cell_type": "code",
   "execution_count": 44,
   "metadata": {},
   "outputs": [
    {
     "data": {
      "text/plain": [
       "(4948, 166)"
      ]
     },
     "execution_count": 44,
     "metadata": {},
     "output_type": "execute_result"
    }
   ],
   "source": [
    "X_train.shape"
   ]
  },
  {
   "cell_type": "code",
   "execution_count": 48,
   "metadata": {},
   "outputs": [
    {
     "name": "stdout",
     "output_type": "stream",
     "text": [
      "WARNING:tensorflow:Output \"input_trans\" missing from loss dictionary. We assume this was done on purpose. The fit and evaluate APIs will not be expecting any data to be passed to \"input_trans\".\n",
      "WARNING:tensorflow:Output \"model\" missing from loss dictionary. We assume this was done on purpose. The fit and evaluate APIs will not be expecting any data to be passed to \"model\".\n",
      "WARNING:tensorflow:Output \"model\" missing from loss dictionary. We assume this was done on purpose. The fit and evaluate APIs will not be expecting any data to be passed to \"model\".\n",
      "Vae\n",
      "__________________________________________________________________________________________________\n",
      "Layer (type)                    Output Shape         Param #     Connected to                     \n",
      "==================================================================================================\n",
      "encoder_input (InputLayer)      (None, 166)          0                                            \n",
      "__________________________________________________________________________________________________\n",
      "reshape_2 (Reshape)             (None, 166)          0           encoder_input[0][0]              \n",
      "__________________________________________________________________________________________________\n",
      "dense_8 (Dense)                 (None, 1024)         171008      reshape_2[0][0]                  \n",
      "__________________________________________________________________________________________________\n",
      "z_mean (Dense)                  (None, 2)            2050        dense_8[0][0]                    \n",
      "__________________________________________________________________________________________________\n",
      "z_log_var (Dense)               (None, 2)            2050        dense_8[0][0]                    \n",
      "__________________________________________________________________________________________________\n",
      "z (Lambda)                      (None, 2)            0           z_mean[0][0]                     \n",
      "                                                                 z_log_var[0][0]                  \n",
      "__________________________________________________________________________________________________\n",
      "dense_9 (Dense)                 (None, 1024)         3072        z[0][0]                          \n",
      "__________________________________________________________________________________________________\n",
      "dense_10 (Dense)                (None, 166)          170150      dense_9[0][0]                    \n",
      "__________________________________________________________________________________________________\n",
      "input_trans (Reshape)           (None, 166)          0           dense_10[0][0]                   \n",
      "__________________________________________________________________________________________________\n",
      "model (Model)                   (None, 2)            33802       input_trans[0][0]                \n",
      "                                                                 encoder_input[0][0]              \n",
      "==================================================================================================\n",
      "Total params: 382,132\n",
      "Trainable params: 348,330\n",
      "Non-trainable params: 33,802\n",
      "__________________________________________________________________________________________________\n"
     ]
    }
   ],
   "source": [
    "vae = vsf.VaeSymmetryFinder(clf, input_shape=(166,), output_shape=(2, ), intermediate_dim=1024, output_activation='linear')"
   ]
  },
  {
   "cell_type": "code",
   "execution_count": 49,
   "metadata": {},
   "outputs": [
    {
     "name": "stdout",
     "output_type": "stream",
     "text": [
      "Train on 4948 samples, validate on 1650 samples\n",
      "Epoch 1/200\n",
      "4948/4948 [==============================] - 1s 150us/sample - loss: 0.7333 - val_loss: 0.3928\n",
      "Epoch 2/200\n",
      "4948/4948 [==============================] - 0s 62us/sample - loss: 0.3249 - val_loss: 0.2170\n",
      "Epoch 3/200\n",
      "4948/4948 [==============================] - 0s 62us/sample - loss: 0.2332 - val_loss: 0.1876\n",
      "Epoch 4/200\n",
      "4948/4948 [==============================] - 0s 61us/sample - loss: 0.1742 - val_loss: 0.1478\n",
      "Epoch 5/200\n",
      "4948/4948 [==============================] - 0s 63us/sample - loss: 0.1655 - val_loss: 0.1514\n",
      "Epoch 6/200\n",
      "4948/4948 [==============================] - 0s 63us/sample - loss: 0.1668 - val_loss: 0.1606\n",
      "Epoch 7/200\n",
      "4948/4948 [==============================] - 0s 65us/sample - loss: 0.1515 - val_loss: 0.1540\n",
      "Epoch 8/200\n",
      "4948/4948 [==============================] - 0s 65us/sample - loss: 0.1321 - val_loss: 0.0998\n",
      "Epoch 9/200\n",
      "4948/4948 [==============================] - 0s 66us/sample - loss: 0.1089 - val_loss: 0.0929\n",
      "Epoch 10/200\n",
      "4948/4948 [==============================] - 0s 66us/sample - loss: 0.1052 - val_loss: 0.0840\n",
      "Epoch 11/200\n",
      "4948/4948 [==============================] - 0s 64us/sample - loss: 0.1261 - val_loss: 0.2351\n",
      "Epoch 12/200\n",
      "4948/4948 [==============================] - 0s 66us/sample - loss: 0.1257 - val_loss: 0.0861\n",
      "Epoch 13/200\n",
      "4948/4948 [==============================] - 0s 64us/sample - loss: 0.1047 - val_loss: 0.0759\n",
      "Epoch 14/200\n",
      "4948/4948 [==============================] - 0s 65us/sample - loss: 0.0922 - val_loss: 0.2326\n",
      "Epoch 15/200\n",
      "4948/4948 [==============================] - 0s 65us/sample - loss: 0.1376 - val_loss: 0.1097\n",
      "Epoch 16/200\n",
      "4948/4948 [==============================] - 0s 67us/sample - loss: 0.0843 - val_loss: 0.0639\n",
      "Epoch 17/200\n",
      "4948/4948 [==============================] - 0s 66us/sample - loss: 0.0797 - val_loss: 0.1026\n",
      "Epoch 18/200\n",
      "4948/4948 [==============================] - 0s 71us/sample - loss: 0.0839 - val_loss: 0.0501\n",
      "Epoch 19/200\n",
      "4948/4948 [==============================] - 0s 68us/sample - loss: 0.0674 - val_loss: 0.0827\n",
      "Epoch 20/200\n",
      "4948/4948 [==============================] - 0s 66us/sample - loss: 0.0608 - val_loss: 0.0830\n",
      "Epoch 21/200\n",
      "4948/4948 [==============================] - 0s 67us/sample - loss: 0.0674 - val_loss: 0.0533\n",
      "Epoch 22/200\n",
      "4948/4948 [==============================] - 0s 68us/sample - loss: 0.0508 - val_loss: 0.0581\n",
      "Epoch 23/200\n",
      "4948/4948 [==============================] - 0s 67us/sample - loss: 0.0497 - val_loss: 0.0404\n",
      "Epoch 24/200\n",
      "4948/4948 [==============================] - 0s 67us/sample - loss: 0.0401 - val_loss: 0.0462\n",
      "Epoch 25/200\n",
      "4948/4948 [==============================] - 0s 67us/sample - loss: 0.0419 - val_loss: 0.0387\n",
      "Epoch 26/200\n",
      "4948/4948 [==============================] - 0s 67us/sample - loss: 0.0411 - val_loss: 0.0597\n",
      "Epoch 27/200\n",
      "4948/4948 [==============================] - 0s 67us/sample - loss: 0.0564 - val_loss: 0.0434\n",
      "Epoch 28/200\n",
      "4948/4948 [==============================] - 0s 68us/sample - loss: 0.0443 - val_loss: 0.0297\n",
      "Epoch 29/200\n",
      "4948/4948 [==============================] - 0s 66us/sample - loss: 0.0602 - val_loss: 0.0651\n",
      "Epoch 30/200\n",
      "4948/4948 [==============================] - 0s 67us/sample - loss: 0.0464 - val_loss: 0.1222\n",
      "Epoch 31/200\n",
      "4948/4948 [==============================] - 0s 67us/sample - loss: 0.0641 - val_loss: 0.0311\n",
      "Epoch 32/200\n",
      "4948/4948 [==============================] - 0s 69us/sample - loss: 0.0221 - val_loss: 0.0180\n",
      "Epoch 33/200\n",
      "4948/4948 [==============================] - 0s 69us/sample - loss: 0.0291 - val_loss: 0.0151\n",
      "Epoch 34/200\n",
      "4948/4948 [==============================] - 0s 68us/sample - loss: 0.0245 - val_loss: 0.0515\n",
      "Epoch 35/200\n",
      "4948/4948 [==============================] - 0s 68us/sample - loss: 0.0230 - val_loss: 0.0283\n",
      "Epoch 36/200\n",
      "4948/4948 [==============================] - 0s 68us/sample - loss: 0.1301 - val_loss: 0.1259\n",
      "Epoch 37/200\n",
      "4948/4948 [==============================] - 0s 67us/sample - loss: 0.0534 - val_loss: 0.0649\n",
      "Epoch 38/200\n",
      "4948/4948 [==============================] - 0s 69us/sample - loss: 0.0253 - val_loss: 0.0520\n",
      "Epoch 39/200\n",
      "4948/4948 [==============================] - 0s 68us/sample - loss: 0.0311 - val_loss: 0.1155\n",
      "Epoch 40/200\n",
      "4948/4948 [==============================] - 0s 68us/sample - loss: 0.0422 - val_loss: 0.0273\n",
      "Epoch 41/200\n",
      "4948/4948 [==============================] - 0s 67us/sample - loss: 0.0212 - val_loss: 0.0142\n",
      "Epoch 42/200\n",
      "4948/4948 [==============================] - 0s 67us/sample - loss: 0.0348 - val_loss: 0.0247\n",
      "Epoch 43/200\n",
      "4948/4948 [==============================] - 0s 68us/sample - loss: 0.0225 - val_loss: 0.0216\n",
      "Epoch 44/200\n",
      "4948/4948 [==============================] - 0s 71us/sample - loss: 0.0108 - val_loss: 0.0129\n",
      "Epoch 45/200\n",
      "4948/4948 [==============================] - 0s 69us/sample - loss: 0.0376 - val_loss: 0.0177\n",
      "Epoch 46/200\n",
      "4948/4948 [==============================] - 0s 68us/sample - loss: 0.0105 - val_loss: 0.0341\n",
      "Epoch 47/200\n",
      "4948/4948 [==============================] - 0s 70us/sample - loss: 0.0108 - val_loss: 0.0150\n",
      "Epoch 48/200\n",
      "4948/4948 [==============================] - 0s 70us/sample - loss: 0.0148 - val_loss: 0.0135\n",
      "Epoch 49/200\n",
      "4948/4948 [==============================] - 0s 71us/sample - loss: 0.0096 - val_loss: 0.0258\n",
      "Epoch 50/200\n",
      "4948/4948 [==============================] - 0s 69us/sample - loss: 0.0153 - val_loss: 0.0225\n",
      "Epoch 51/200\n",
      "4948/4948 [==============================] - 0s 70us/sample - loss: 0.0300 - val_loss: 0.0826\n",
      "Epoch 52/200\n",
      "4948/4948 [==============================] - 0s 69us/sample - loss: 0.0426 - val_loss: 0.0165\n",
      "Epoch 53/200\n",
      "4948/4948 [==============================] - 0s 68us/sample - loss: 0.0370 - val_loss: 0.0192\n",
      "Epoch 54/200\n",
      "4948/4948 [==============================] - 0s 72us/sample - loss: 0.0067 - val_loss: 0.0174\n",
      "Epoch 55/200\n",
      "4948/4948 [==============================] - 0s 72us/sample - loss: 0.0218 - val_loss: 0.0120\n",
      "Epoch 56/200\n",
      "4948/4948 [==============================] - 0s 72us/sample - loss: 0.0134 - val_loss: 0.0553\n",
      "Epoch 57/200\n",
      "4948/4948 [==============================] - 0s 72us/sample - loss: 0.0191 - val_loss: 0.0115\n",
      "Epoch 58/200\n",
      "4948/4948 [==============================] - 0s 76us/sample - loss: 0.0072 - val_loss: 0.0214\n",
      "Epoch 59/200\n",
      "4948/4948 [==============================] - 0s 72us/sample - loss: 0.0095 - val_loss: 0.0089\n",
      "Epoch 60/200\n",
      "4948/4948 [==============================] - 0s 73us/sample - loss: 0.0028 - val_loss: 0.0082\n",
      "Epoch 61/200\n",
      "4948/4948 [==============================] - 0s 74us/sample - loss: 0.0029 - val_loss: 0.0065\n",
      "Epoch 62/200\n",
      "4948/4948 [==============================] - 0s 78us/sample - loss: 8.7390e-04 - val_loss: 0.0066\n",
      "Epoch 63/200\n",
      "4948/4948 [==============================] - 0s 74us/sample - loss: 0.0029 - val_loss: 0.0093\n",
      "Epoch 64/200\n",
      "4948/4948 [==============================] - 0s 76us/sample - loss: 0.0056 - val_loss: 0.0224\n",
      "Epoch 65/200\n",
      "4948/4948 [==============================] - 0s 76us/sample - loss: 0.0170 - val_loss: 0.0145\n",
      "Epoch 66/200\n",
      "4948/4948 [==============================] - 0s 78us/sample - loss: 0.0077 - val_loss: 0.0390\n",
      "Epoch 67/200\n",
      "4948/4948 [==============================] - 0s 73us/sample - loss: 0.0214 - val_loss: 0.0171\n",
      "Epoch 68/200\n",
      "4948/4948 [==============================] - 0s 75us/sample - loss: 0.0157 - val_loss: 0.2969\n",
      "Epoch 69/200\n",
      "4948/4948 [==============================] - 0s 73us/sample - loss: 0.0757 - val_loss: 0.0192\n",
      "Epoch 70/200\n",
      "4948/4948 [==============================] - 0s 74us/sample - loss: 0.0105 - val_loss: 0.0301\n",
      "Epoch 71/200\n",
      "4948/4948 [==============================] - 0s 73us/sample - loss: 0.0324 - val_loss: 0.0519\n",
      "Epoch 72/200\n",
      "4948/4948 [==============================] - 0s 72us/sample - loss: 0.0125 - val_loss: 0.0069\n",
      "Epoch 73/200\n",
      "4948/4948 [==============================] - 0s 76us/sample - loss: 0.0031 - val_loss: 0.0052\n",
      "Epoch 74/200\n",
      "4948/4948 [==============================] - 0s 78us/sample - loss: 0.0136 - val_loss: 0.0128\n",
      "Epoch 75/200\n",
      "4948/4948 [==============================] - 0s 75us/sample - loss: 0.0043 - val_loss: 0.0213\n",
      "Epoch 76/200\n",
      "4948/4948 [==============================] - 0s 75us/sample - loss: 0.0020 - val_loss: 0.0042\n",
      "Epoch 77/200\n",
      "4948/4948 [==============================] - 0s 73us/sample - loss: 0.0014 - val_loss: 0.0092\n",
      "Epoch 78/200\n",
      "4948/4948 [==============================] - 0s 68us/sample - loss: 0.0020 - val_loss: 0.0056\n",
      "Epoch 79/200\n",
      "4948/4948 [==============================] - 0s 71us/sample - loss: 9.5422e-04 - val_loss: 0.0058\n",
      "Epoch 80/200\n",
      "4948/4948 [==============================] - 0s 69us/sample - loss: 0.0022 - val_loss: 0.0081\n",
      "Epoch 81/200\n",
      "4948/4948 [==============================] - 0s 69us/sample - loss: 0.0028 - val_loss: 0.0230\n",
      "Epoch 82/200\n",
      "4948/4948 [==============================] - 0s 67us/sample - loss: 0.0016 - val_loss: 0.0097\n",
      "Epoch 83/200\n",
      "4948/4948 [==============================] - 0s 70us/sample - loss: 0.0050 - val_loss: 0.0167\n",
      "Epoch 84/200\n",
      "4948/4948 [==============================] - 0s 68us/sample - loss: 0.0398 - val_loss: 0.0158\n",
      "Epoch 85/200\n",
      "4948/4948 [==============================] - 0s 68us/sample - loss: 0.0150 - val_loss: 0.0186\n",
      "Epoch 86/200\n",
      "4948/4948 [==============================] - 0s 67us/sample - loss: 0.0106 - val_loss: 0.0133\n",
      "Epoch 87/200\n",
      "4948/4948 [==============================] - 0s 69us/sample - loss: 0.0091 - val_loss: 0.0095\n",
      "Epoch 88/200\n",
      "4948/4948 [==============================] - 0s 68us/sample - loss: 0.0129 - val_loss: 0.0662\n",
      "Epoch 89/200\n",
      "4948/4948 [==============================] - 0s 69us/sample - loss: 0.0240 - val_loss: 0.0278\n",
      "Epoch 90/200\n",
      "4948/4948 [==============================] - 0s 68us/sample - loss: 0.0179 - val_loss: 0.0388\n",
      "Epoch 91/200\n",
      "4948/4948 [==============================] - 0s 69us/sample - loss: 0.0182 - val_loss: 0.0128\n",
      "Epoch 92/200\n",
      "4948/4948 [==============================] - 0s 73us/sample - loss: 0.0206 - val_loss: 0.0301\n",
      "Epoch 93/200\n",
      "4948/4948 [==============================] - 0s 74us/sample - loss: 0.0131 - val_loss: 0.0068\n",
      "Epoch 94/200\n",
      "4948/4948 [==============================] - 0s 68us/sample - loss: 0.0021 - val_loss: 0.0128\n",
      "Epoch 95/200\n",
      "4948/4948 [==============================] - 0s 68us/sample - loss: 0.0033 - val_loss: 0.0169\n",
      "Epoch 96/200\n",
      "4948/4948 [==============================] - 0s 70us/sample - loss: 0.0083 - val_loss: 0.0188\n",
      "Epoch 97/200\n",
      "4948/4948 [==============================] - 0s 68us/sample - loss: 0.0040 - val_loss: 0.0071\n",
      "Epoch 98/200\n",
      "4948/4948 [==============================] - 0s 68us/sample - loss: 0.0049 - val_loss: 0.0103\n",
      "Epoch 99/200\n",
      "4948/4948 [==============================] - 0s 69us/sample - loss: 0.0016 - val_loss: 0.0067\n",
      "Epoch 100/200\n",
      "4948/4948 [==============================] - 0s 67us/sample - loss: 0.0015 - val_loss: 0.0085\n",
      "Epoch 101/200\n",
      "4948/4948 [==============================] - 0s 71us/sample - loss: 0.0023 - val_loss: 0.0127\n",
      "Epoch 102/200\n",
      "4948/4948 [==============================] - 0s 72us/sample - loss: 0.0043 - val_loss: 0.0165\n",
      "Epoch 103/200\n",
      "4948/4948 [==============================] - 0s 69us/sample - loss: 0.0163 - val_loss: 0.0355\n",
      "Epoch 104/200\n",
      "4948/4948 [==============================] - 0s 69us/sample - loss: 0.0149 - val_loss: 0.0063\n",
      "Epoch 105/200\n",
      "4948/4948 [==============================] - 0s 74us/sample - loss: 0.0015 - val_loss: 0.0124\n",
      "Epoch 106/200\n",
      "4948/4948 [==============================] - 0s 68us/sample - loss: 0.0040 - val_loss: 0.0202\n",
      "Epoch 107/200\n",
      "4948/4948 [==============================] - 0s 69us/sample - loss: 0.0069 - val_loss: 0.0067\n",
      "Epoch 108/200\n",
      "4948/4948 [==============================] - 0s 68us/sample - loss: 0.0031 - val_loss: 0.0094\n",
      "Epoch 109/200\n",
      "4948/4948 [==============================] - 0s 67us/sample - loss: 0.0012 - val_loss: 0.0057\n",
      "Epoch 110/200\n",
      "4948/4948 [==============================] - 0s 71us/sample - loss: 0.0171 - val_loss: 0.0321\n",
      "Epoch 111/200\n",
      "4948/4948 [==============================] - 0s 71us/sample - loss: 0.0133 - val_loss: 0.0122\n",
      "Epoch 112/200\n",
      "4948/4948 [==============================] - 0s 67us/sample - loss: 0.0044 - val_loss: 0.0232\n",
      "Epoch 113/200\n",
      "4948/4948 [==============================] - 0s 72us/sample - loss: 0.0059 - val_loss: 0.0055\n",
      "Epoch 114/200\n",
      "4948/4948 [==============================] - 0s 71us/sample - loss: 0.0057 - val_loss: 0.0082\n",
      "Epoch 115/200\n",
      "4948/4948 [==============================] - 0s 68us/sample - loss: 0.0121 - val_loss: 0.1001\n",
      "Epoch 116/200\n",
      "4948/4948 [==============================] - 0s 70us/sample - loss: 0.0162 - val_loss: 0.0109\n",
      "Epoch 117/200\n",
      "4948/4948 [==============================] - 0s 72us/sample - loss: 0.0266 - val_loss: 0.0200\n",
      "Epoch 118/200\n",
      "4948/4948 [==============================] - 0s 71us/sample - loss: 0.0088 - val_loss: 0.0106\n",
      "Epoch 119/200\n",
      "4948/4948 [==============================] - 0s 75us/sample - loss: 0.0040 - val_loss: 0.0070\n",
      "Epoch 120/200\n",
      "4948/4948 [==============================] - 0s 71us/sample - loss: 0.0016 - val_loss: 0.0082\n",
      "Epoch 121/200\n",
      "4948/4948 [==============================] - 0s 70us/sample - loss: 0.0012 - val_loss: 0.0049\n",
      "Epoch 122/200\n",
      "4948/4948 [==============================] - 0s 69us/sample - loss: 0.0014 - val_loss: 0.0042\n",
      "Epoch 123/200\n",
      "4948/4948 [==============================] - 0s 71us/sample - loss: 8.1492e-04 - val_loss: 0.0047\n",
      "Epoch 124/200\n",
      "4948/4948 [==============================] - 0s 69us/sample - loss: 7.7560e-04 - val_loss: 0.0080\n",
      "Epoch 125/200\n",
      "4948/4948 [==============================] - 0s 69us/sample - loss: 9.1650e-04 - val_loss: 0.0065\n",
      "Epoch 126/200\n",
      "4948/4948 [==============================] - 0s 69us/sample - loss: 0.0014 - val_loss: 0.0041\n",
      "Epoch 127/200\n",
      "4948/4948 [==============================] - 0s 68us/sample - loss: 0.0079 - val_loss: 0.0245\n",
      "Epoch 128/200\n",
      "4948/4948 [==============================] - 0s 72us/sample - loss: 0.0138 - val_loss: 0.0380\n",
      "Epoch 129/200\n",
      "4948/4948 [==============================] - 0s 71us/sample - loss: 0.0112 - val_loss: 0.0153\n",
      "Epoch 130/200\n",
      "4948/4948 [==============================] - 0s 69us/sample - loss: 0.0040 - val_loss: 0.0070\n",
      "Epoch 131/200\n",
      "4948/4948 [==============================] - 0s 70us/sample - loss: 0.0199 - val_loss: 0.0777\n",
      "Epoch 132/200\n",
      "4948/4948 [==============================] - 0s 70us/sample - loss: 0.0152 - val_loss: 0.0087\n",
      "Epoch 133/200\n",
      "4948/4948 [==============================] - 0s 71us/sample - loss: 0.0011 - val_loss: 0.0069\n",
      "Epoch 134/200\n",
      "4948/4948 [==============================] - 0s 69us/sample - loss: 0.0024 - val_loss: 0.0074\n",
      "Epoch 135/200\n",
      "4948/4948 [==============================] - 0s 70us/sample - loss: 0.0017 - val_loss: 0.0079\n",
      "Epoch 136/200\n",
      "4948/4948 [==============================] - 0s 68us/sample - loss: 7.1868e-04 - val_loss: 0.0043\n",
      "Epoch 137/200\n",
      "4948/4948 [==============================] - 0s 72us/sample - loss: 9.7751e-04 - val_loss: 0.0091\n",
      "Epoch 138/200\n",
      "4948/4948 [==============================] - 0s 71us/sample - loss: 0.0036 - val_loss: 0.0208\n",
      "Epoch 139/200\n",
      "4948/4948 [==============================] - 0s 71us/sample - loss: 0.0016 - val_loss: 0.0098\n",
      "Epoch 140/200\n",
      "4948/4948 [==============================] - 0s 70us/sample - loss: 8.4900e-04 - val_loss: 0.0067\n",
      "Epoch 141/200\n",
      "4948/4948 [==============================] - 0s 70us/sample - loss: 0.0011 - val_loss: 0.0053\n",
      "Epoch 142/200\n",
      "4948/4948 [==============================] - 0s 71us/sample - loss: 6.8997e-04 - val_loss: 0.0065\n",
      "Epoch 143/200\n",
      "4948/4948 [==============================] - 0s 68us/sample - loss: 5.7104e-04 - val_loss: 0.0046\n",
      "Epoch 144/200\n",
      "4948/4948 [==============================] - 0s 70us/sample - loss: 7.2604e-04 - val_loss: 0.0056\n",
      "Epoch 145/200\n",
      "4948/4948 [==============================] - 0s 72us/sample - loss: 8.2391e-04 - val_loss: 0.0066\n",
      "Epoch 146/200\n",
      "4948/4948 [==============================] - 0s 72us/sample - loss: 0.0138 - val_loss: 0.0389\n",
      "Epoch 147/200\n",
      "4948/4948 [==============================] - 0s 70us/sample - loss: 0.0099 - val_loss: 0.0153\n",
      "Epoch 148/200\n",
      "4948/4948 [==============================] - 0s 71us/sample - loss: 0.0019 - val_loss: 0.0219\n",
      "Epoch 149/200\n",
      "4948/4948 [==============================] - 0s 70us/sample - loss: 0.0028 - val_loss: 0.0064\n",
      "Epoch 150/200\n",
      "4948/4948 [==============================] - 0s 70us/sample - loss: 0.0011 - val_loss: 0.0060\n",
      "Epoch 151/200\n",
      "4948/4948 [==============================] - 0s 70us/sample - loss: 0.0024 - val_loss: 0.0134\n",
      "Epoch 152/200\n"
     ]
    },
    {
     "name": "stdout",
     "output_type": "stream",
     "text": [
      "4948/4948 [==============================] - 0s 70us/sample - loss: 0.0127 - val_loss: 0.1326\n",
      "Epoch 153/200\n",
      "4948/4948 [==============================] - 0s 70us/sample - loss: 0.0327 - val_loss: 0.0650\n",
      "Epoch 154/200\n",
      "4948/4948 [==============================] - 0s 70us/sample - loss: 0.0099 - val_loss: 0.0307\n",
      "Epoch 155/200\n",
      "4948/4948 [==============================] - 0s 72us/sample - loss: 0.0052 - val_loss: 0.0076\n",
      "Epoch 156/200\n",
      "4948/4948 [==============================] - 0s 75us/sample - loss: 0.0089 - val_loss: 0.0245\n",
      "Epoch 157/200\n",
      "4948/4948 [==============================] - 0s 68us/sample - loss: 0.0335 - val_loss: 0.0350\n",
      "Epoch 158/200\n",
      "4948/4948 [==============================] - 0s 70us/sample - loss: 0.0164 - val_loss: 0.0682\n",
      "Epoch 159/200\n",
      "4948/4948 [==============================] - 0s 70us/sample - loss: 0.0099 - val_loss: 0.0169\n",
      "Epoch 160/200\n",
      "4948/4948 [==============================] - 0s 69us/sample - loss: 0.0023 - val_loss: 0.0075\n",
      "Epoch 161/200\n",
      "4948/4948 [==============================] - 0s 69us/sample - loss: 7.1501e-04 - val_loss: 0.0048\n",
      "Epoch 162/200\n",
      "4948/4948 [==============================] - 0s 71us/sample - loss: 8.9717e-04 - val_loss: 0.0054\n",
      "Epoch 163/200\n",
      "4948/4948 [==============================] - 0s 67us/sample - loss: 0.0013 - val_loss: 0.0066\n",
      "Epoch 164/200\n",
      "4948/4948 [==============================] - 0s 71us/sample - loss: 0.0017 - val_loss: 0.0051\n",
      "Epoch 165/200\n",
      "4948/4948 [==============================] - 0s 71us/sample - loss: 5.9183e-04 - val_loss: 0.0065\n",
      "Epoch 166/200\n",
      "4948/4948 [==============================] - 0s 70us/sample - loss: 8.2843e-04 - val_loss: 0.0049\n",
      "Epoch 167/200\n",
      "4948/4948 [==============================] - 0s 73us/sample - loss: 5.5168e-04 - val_loss: 0.0036\n",
      "Epoch 168/200\n",
      "4948/4948 [==============================] - 0s 72us/sample - loss: 3.7339e-04 - val_loss: 0.0034\n",
      "Epoch 169/200\n",
      "4948/4948 [==============================] - 0s 73us/sample - loss: 0.0011 - val_loss: 0.0062\n",
      "Epoch 170/200\n",
      "4948/4948 [==============================] - 0s 68us/sample - loss: 0.0011 - val_loss: 0.0092\n",
      "Epoch 171/200\n",
      "4948/4948 [==============================] - 0s 69us/sample - loss: 8.0702e-04 - val_loss: 0.0089\n",
      "Epoch 172/200\n",
      "4948/4948 [==============================] - 0s 73us/sample - loss: 6.4024e-04 - val_loss: 0.0089\n",
      "Epoch 173/200\n",
      "4948/4948 [==============================] - 0s 69us/sample - loss: 7.2174e-04 - val_loss: 0.0046\n",
      "Epoch 174/200\n",
      "4948/4948 [==============================] - 0s 74us/sample - loss: 5.9475e-04 - val_loss: 0.0048\n",
      "Epoch 175/200\n",
      "4948/4948 [==============================] - 0s 69us/sample - loss: 4.9538e-04 - val_loss: 0.0039\n",
      "Epoch 176/200\n",
      "4948/4948 [==============================] - 0s 73us/sample - loss: 4.2343e-04 - val_loss: 0.0044\n",
      "Epoch 177/200\n",
      "4948/4948 [==============================] - 0s 70us/sample - loss: 3.0646e-04 - val_loss: 0.0038\n",
      "Epoch 178/200\n",
      "4948/4948 [==============================] - 0s 72us/sample - loss: 3.2466e-04 - val_loss: 0.0036\n",
      "Epoch 179/200\n",
      "4948/4948 [==============================] - 0s 67us/sample - loss: 7.6438e-04 - val_loss: 0.0093\n",
      "Epoch 180/200\n",
      "4948/4948 [==============================] - 0s 72us/sample - loss: 0.0011 - val_loss: 0.0084\n",
      "Epoch 181/200\n",
      "4948/4948 [==============================] - 0s 70us/sample - loss: 0.0013 - val_loss: 0.0060\n",
      "Epoch 182/200\n",
      "4948/4948 [==============================] - 0s 71us/sample - loss: 0.0031 - val_loss: 0.0436\n",
      "Epoch 183/200\n",
      "4948/4948 [==============================] - 0s 69us/sample - loss: 0.0235 - val_loss: 0.0161\n",
      "Epoch 184/200\n",
      "4948/4948 [==============================] - 0s 71us/sample - loss: 0.0180 - val_loss: 0.0606\n",
      "Epoch 185/200\n",
      "4948/4948 [==============================] - 0s 70us/sample - loss: 0.0307 - val_loss: 0.0316\n",
      "Epoch 186/200\n",
      "4948/4948 [==============================] - 0s 71us/sample - loss: 0.0116 - val_loss: 0.0361\n",
      "Epoch 187/200\n",
      "4948/4948 [==============================] - 0s 71us/sample - loss: 0.0059 - val_loss: 0.0120\n",
      "Epoch 188/200\n",
      "4948/4948 [==============================] - 0s 69us/sample - loss: 0.0027 - val_loss: 0.0062\n",
      "Epoch 189/200\n",
      "4948/4948 [==============================] - 0s 72us/sample - loss: 0.0253 - val_loss: 0.0316\n",
      "Epoch 190/200\n",
      "4948/4948 [==============================] - 0s 72us/sample - loss: 0.0090 - val_loss: 0.0076\n",
      "Epoch 191/200\n",
      "4948/4948 [==============================] - 0s 69us/sample - loss: 0.0108 - val_loss: 0.0103\n",
      "Epoch 192/200\n",
      "4948/4948 [==============================] - 0s 72us/sample - loss: 0.0038 - val_loss: 0.0070\n",
      "Epoch 193/200\n",
      "4948/4948 [==============================] - 0s 73us/sample - loss: 8.9184e-04 - val_loss: 0.0053\n",
      "Epoch 194/200\n",
      "4948/4948 [==============================] - 0s 71us/sample - loss: 5.2406e-04 - val_loss: 0.0064\n",
      "Epoch 195/200\n",
      "4948/4948 [==============================] - 0s 72us/sample - loss: 6.0135e-04 - val_loss: 0.0056\n",
      "Epoch 196/200\n",
      "4948/4948 [==============================] - 0s 74us/sample - loss: 5.5088e-04 - val_loss: 0.0058\n",
      "Epoch 197/200\n",
      "4948/4948 [==============================] - 0s 71us/sample - loss: 5.7099e-04 - val_loss: 0.0047\n",
      "Epoch 198/200\n",
      "4948/4948 [==============================] - 0s 69us/sample - loss: 6.7634e-04 - val_loss: 0.0059\n",
      "Epoch 199/200\n",
      "4948/4948 [==============================] - 0s 72us/sample - loss: 5.8306e-04 - val_loss: 0.0064\n",
      "Epoch 200/200\n",
      "4948/4948 [==============================] - 0s 71us/sample - loss: 4.2271e-04 - val_loss: 0.0064\n"
     ]
    }
   ],
   "source": [
    "vae.fit(X_train, x_test=X_test, epochs=200)"
   ]
  },
  {
   "cell_type": "code",
   "execution_count": 50,
   "metadata": {},
   "outputs": [],
   "source": [
    "from scipy.stats import entropy"
   ]
  },
  {
   "cell_type": "code",
   "execution_count": 51,
   "metadata": {},
   "outputs": [],
   "source": [
    "vae_outs_test = vae.vae.predict(X_test)\n",
    "symm_samples_test = vae_outs_test[0]\n",
    "orig_preds_test = vae_outs_test[1]\n",
    "trans_preds_test = vae_outs_test[2]\n",
    "    \n",
    "kl_test = entropy(orig_preds_test.T, trans_preds_test.T)\n",
    "kl_test[np.where(kl_test == np.inf)] = 0\n",
    "baseline_std_plus = kl_test.mean() + kl_test.std()\n",
    "baseline_std_minus = kl_test.mean() - kl_test.std()"
   ]
  },
  {
   "cell_type": "code",
   "execution_count": 52,
   "metadata": {},
   "outputs": [
    {
     "data": {
      "text/plain": [
       "0.066649504"
      ]
     },
     "execution_count": 52,
     "metadata": {},
     "output_type": "execute_result"
    }
   ],
   "source": [
    "baseline_std_plus"
   ]
  },
  {
   "cell_type": "code",
   "execution_count": 53,
   "metadata": {},
   "outputs": [],
   "source": [
    "idxs_rnd = np.random.choice(range(len(features)), 30)"
   ]
  },
  {
   "cell_type": "code",
   "execution_count": 54,
   "metadata": {},
   "outputs": [],
   "source": [
    "idxs_rnd_perm = np.random.permutation(idxs_rnd)"
   ]
  },
  {
   "cell_type": "code",
   "execution_count": 55,
   "metadata": {},
   "outputs": [],
   "source": [
    "X_test_perm = X_test.copy()"
   ]
  },
  {
   "cell_type": "code",
   "execution_count": 56,
   "metadata": {},
   "outputs": [],
   "source": [
    "X_test_perm[:, idxs_rnd] = X_test_perm[:, idxs_rnd_perm]"
   ]
  },
  {
   "cell_type": "code",
   "execution_count": 66,
   "metadata": {},
   "outputs": [],
   "source": [
    "y_test = np.argmax(y_test, axis=1)"
   ]
  },
  {
   "cell_type": "code",
   "execution_count": 76,
   "metadata": {},
   "outputs": [
    {
     "name": "stdout",
     "output_type": "stream",
     "text": [
      "Number of permuted feats: 0 \n",
      "Number of permuted feats: 1 \n",
      "Number of permuted feats: 2 \n",
      "Number of permuted feats: 3 \n",
      "Number of permuted feats: 4 \n",
      "Number of permuted feats: 5 \n",
      "Number of permuted feats: 6 \n",
      "Number of permuted feats: 7 \n",
      "Number of permuted feats: 8 \n",
      "Number of permuted feats: 9 \n",
      "Number of permuted feats: 10 \n",
      "Number of permuted feats: 11 \n",
      "Number of permuted feats: 12 \n",
      "Number of permuted feats: 13 \n",
      "Number of permuted feats: 14 \n",
      "Number of permuted feats: 15 \n",
      "Number of permuted feats: 16 \n",
      "Number of permuted feats: 17 \n",
      "Number of permuted feats: 18 \n",
      "Number of permuted feats: 19 \n",
      "Number of permuted feats: 20 \n",
      "Number of permuted feats: 21 \n",
      "Number of permuted feats: 22 \n",
      "Number of permuted feats: 23 \n",
      "Number of permuted feats: 24 \n",
      "Number of permuted feats: 25 \n",
      "Number of permuted feats: 26 \n",
      "Number of permuted feats: 27 \n",
      "Number of permuted feats: 28 \n",
      "Number of permuted feats: 29 \n",
      "Number of permuted feats: 30 \n",
      "Number of permuted feats: 31 \n",
      "Number of permuted feats: 32 \n",
      "Number of permuted feats: 33 \n",
      "Number of permuted feats: 34 \n",
      "Number of permuted feats: 35 \n",
      "Number of permuted feats: 36 \n",
      "Number of permuted feats: 37 \n",
      "Number of permuted feats: 38 \n",
      "Number of permuted feats: 39 \n",
      "Number of permuted feats: 40 \n",
      "Number of permuted feats: 41 \n",
      "Number of permuted feats: 42 \n",
      "Number of permuted feats: 43 \n",
      "Number of permuted feats: 44 \n",
      "Number of permuted feats: 45 \n",
      "Number of permuted feats: 46 \n",
      "Number of permuted feats: 47 \n",
      "Number of permuted feats: 48 \n",
      "Number of permuted feats: 49 \n",
      "Number of permuted feats: 50 \n",
      "Number of permuted feats: 51 \n",
      "Number of permuted feats: 52 \n",
      "Number of permuted feats: 53 \n",
      "Number of permuted feats: 54 \n",
      "Number of permuted feats: 55 \n",
      "Number of permuted feats: 56 \n",
      "Number of permuted feats: 57 \n",
      "Number of permuted feats: 58 \n",
      "Number of permuted feats: 59 \n",
      "Number of permuted feats: 60 \n",
      "Number of permuted feats: 61 \n",
      "Number of permuted feats: 62 \n",
      "Number of permuted feats: 63 \n",
      "Number of permuted feats: 64 \n",
      "Number of permuted feats: 65 \n",
      "Number of permuted feats: 66 \n",
      "Number of permuted feats: 67 \n",
      "Number of permuted feats: 68 \n",
      "Number of permuted feats: 69 \n",
      "Number of permuted feats: 70 \n",
      "Number of permuted feats: 71 \n",
      "Number of permuted feats: 72 \n",
      "Number of permuted feats: 73 \n",
      "Number of permuted feats: 74 \n",
      "Number of permuted feats: 75 \n",
      "Number of permuted feats: 76 \n",
      "Number of permuted feats: 77 \n",
      "Number of permuted feats: 78 \n",
      "Number of permuted feats: 79 \n",
      "Number of permuted feats: 80 \n",
      "Number of permuted feats: 81 \n",
      "Number of permuted feats: 82 \n",
      "Number of permuted feats: 83 \n",
      "Number of permuted feats: 84 \n",
      "Number of permuted feats: 85 \n",
      "Number of permuted feats: 86 \n",
      "Number of permuted feats: 87 \n",
      "Number of permuted feats: 88 \n",
      "Number of permuted feats: 89 \n",
      "Number of permuted feats: 90 \n",
      "Number of permuted feats: 91 \n",
      "Number of permuted feats: 92 \n",
      "Number of permuted feats: 93 \n",
      "Number of permuted feats: 94 \n",
      "Number of permuted feats: 95 \n",
      "Number of permuted feats: 96 \n",
      "Number of permuted feats: 97 \n",
      "Number of permuted feats: 98 \n",
      "Number of permuted feats: 99 \n",
      "Number of permuted feats: 100 \n",
      "Number of permuted feats: 101 \n",
      "Number of permuted feats: 102 \n",
      "Number of permuted feats: 103 \n",
      "Number of permuted feats: 104 \n",
      "Number of permuted feats: 105 \n",
      "Number of permuted feats: 106 \n",
      "Number of permuted feats: 107 \n",
      "Number of permuted feats: 108 \n",
      "Number of permuted feats: 109 \n",
      "Number of permuted feats: 110 \n",
      "Number of permuted feats: 111 \n",
      "Number of permuted feats: 112 \n",
      "Number of permuted feats: 113 \n",
      "Number of permuted feats: 114 \n",
      "Number of permuted feats: 115 \n",
      "Number of permuted feats: 116 \n",
      "Number of permuted feats: 117 \n",
      "Number of permuted feats: 118 \n",
      "Number of permuted feats: 119 \n",
      "Number of permuted feats: 120 \n",
      "Number of permuted feats: 121 \n",
      "Number of permuted feats: 122 \n",
      "Number of permuted feats: 123 \n",
      "Number of permuted feats: 124 \n",
      "Number of permuted feats: 125 \n",
      "Number of permuted feats: 126 \n",
      "Number of permuted feats: 127 \n",
      "Number of permuted feats: 128 \n",
      "Number of permuted feats: 129 \n",
      "Number of permuted feats: 130 \n",
      "Number of permuted feats: 131 \n",
      "Number of permuted feats: 132 \n",
      "Number of permuted feats: 133 \n",
      "Number of permuted feats: 134 \n",
      "Number of permuted feats: 135 \n",
      "Number of permuted feats: 136 \n",
      "Number of permuted feats: 137 \n",
      "Number of permuted feats: 138 \n",
      "Number of permuted feats: 139 \n",
      "Number of permuted feats: 140 \n",
      "Number of permuted feats: 141 \n",
      "Number of permuted feats: 142 \n",
      "Number of permuted feats: 143 \n",
      "Number of permuted feats: 144 \n",
      "Number of permuted feats: 145 \n",
      "Number of permuted feats: 146 \n",
      "Number of permuted feats: 147 \n",
      "Number of permuted feats: 148 \n",
      "Number of permuted feats: 149 \n",
      "Number of permuted feats: 150 \n",
      "Number of permuted feats: 151 \n",
      "Number of permuted feats: 152 \n",
      "Number of permuted feats: 153 \n",
      "Number of permuted feats: 154 \n",
      "Number of permuted feats: 155 \n",
      "Number of permuted feats: 156 \n",
      "Number of permuted feats: 157 \n",
      "Number of permuted feats: 158 \n",
      "Number of permuted feats: 159 \n",
      "Number of permuted feats: 160 \n",
      "Number of permuted feats: 161 \n",
      "Number of permuted feats: 162 \n",
      "Number of permuted feats: 163 \n",
      "Number of permuted feats: 164 \n",
      "Number of permuted feats: 165 \n"
     ]
    }
   ],
   "source": [
    "mean_test = []\n",
    "std_test = []\n",
    "accs_test = []\n",
    "baseline_stds_plus = []\n",
    "baseline_stds_minus = []\n",
    "window = 1000\n",
    "for step in range(100):\n",
    "    if step < 99:\n",
    "        x_window, y_window = sample_window(X_test, y_test, window)\n",
    "        vae_outs_test = vae.vae.predict(x_window)\n",
    "        symm_samples_test = vae_outs_test[0]\n",
    "        orig_preds_test = vae_outs_test[1]\n",
    "        trans_preds_test = vae_outs_test[2]\n",
    "    \n",
    "        kl_test = entropy(orig_preds_test.T, trans_preds_test.T)\n",
    "        mean_test.append(kl_test.mean())\n",
    "        std_test.append(kl_test.std())\n",
    "        preds_test = np.argmax(orig_preds_test, axis=1)\n",
    "        accs_test.append(accuracy_score(preds_test, y_window))\n",
    "    \n",
    "        baseline_stds_plus.append(baseline_std_plus)\n",
    "        baseline_stds_minus.append(baseline_std_minus)\n",
    "    else:\n",
    "        for i in range(0, len(features)):\n",
    "            x_window, y_window = sample_window(X_test, y_test, window)\n",
    "            X_test_perm = x_window.copy()\n",
    "            idxs_rnd = np.random.choice(range(len(features)), i, replace=False)\n",
    "            idxs_rnd_perm = np.random.permutation(idxs_rnd)\n",
    "            #X_test_perm[:, idxs_rnd] = 0\n",
    "            X_test_perm[:, idxs_rnd] = X_test_perm[:, idxs_rnd_perm]\n",
    "            print('Number of permuted feats: {} '.format(i))\n",
    "        \n",
    "            vae_outs_test = vae.vae.predict(X_test_perm)\n",
    "            symm_samples_test = vae_outs_test[0]\n",
    "            orig_preds_test = vae_outs_test[1]\n",
    "            trans_preds_test = vae_outs_test[2]\n",
    "            kl_test = entropy(orig_preds_test.T, trans_preds_test.T)\n",
    "            kl_test[np.where(kl_test == np.inf)] = 0\n",
    "    \n",
    "            mean_test.append(kl_test.mean())\n",
    "            std_test.append(kl_test.std())\n",
    "    \n",
    "            preds_test = np.argmax(orig_preds_test, axis=1)\n",
    "            accs_test.append(accuracy_score(preds_test, y_window))\n",
    "    \n",
    "            baseline_stds_plus.append(baseline_std_plus)\n",
    "            baseline_stds_minus.append(baseline_std_minus)"
   ]
  },
  {
   "cell_type": "code",
   "execution_count": 77,
   "metadata": {},
   "outputs": [],
   "source": [
    "df = pd.DataFrame()\n",
    "df['accuracy'] = accs_test\n",
    "df['entropy_mean'] = mean_test\n",
    "df['entropy_std'] = std_test\n",
    "df['baseline_std_plus'] = baseline_stds_plus\n",
    "df['baseline_std_minus'] = baseline_stds_minus"
   ]
  },
  {
   "cell_type": "code",
   "execution_count": 80,
   "metadata": {},
   "outputs": [
    {
     "data": {
      "text/plain": [
       "<matplotlib.axes._subplots.AxesSubplot at 0x7f0fa8466550>"
      ]
     },
     "execution_count": 80,
     "metadata": {},
     "output_type": "execute_result"
    },
    {
     "data": {
      "image/png": "[encoded data removed]",
      "text/plain": [
       "<Figure size 1080x576 with 1 Axes>"
      ]
     },
     "metadata": {
      "needs_background": "light"
     },
     "output_type": "display_data"
    }
   ],
   "source": [
    "df['accuracy'].plot(logy = False, subplots=False, figsize = (15, 8))"
   ]
  },
  {
   "cell_type": "code",
   "execution_count": null,
   "metadata": {
    "collapsed": true
   },
   "outputs": [],
   "source": []
  }
 ],
 "metadata": {
  "kernelspec": {
   "display_name": "Python 3",
   "language": "python",
   "name": "python3"
  },
  "language_info": {
   "codemirror_mode": {
    "name": "ipython",
    "version": 3
   },
   "file_extension": ".py",
   "mimetype": "text/x-python",
   "name": "python",
   "nbconvert_exporter": "python",
   "pygments_lexer": "ipython3",
   "version": "3.7.4"
  }
 },
 "nbformat": 4,
 "nbformat_minor": 2
}
