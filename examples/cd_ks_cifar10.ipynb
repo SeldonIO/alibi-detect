{
 "cells": [
  {
   "cell_type": "markdown",
   "metadata": {},
   "source": [
    "# Kolmogorov-Smirnov data drift detector on CIFAR-10\n",
    "\n",
    "### Method\n",
    "\n",
    "The drift detector applies feature-wise two-sample [Kolmogorov-Smirnov](https://en.wikipedia.org/wiki/Kolmogorov%E2%80%93Smirnov_test) (K-S) tests. For multivariate data, the obtained p-values for each feature are aggregated either via the [Bonferroni](https://mathworld.wolfram.com/BonferroniCorrection.html) or the [False Discovery Rate](http://www.math.tau.ac.il/~ybenja/MyPapers/benjamini_hochberg1995.pdf) (FDR) correction. The Bonferroni correction is more conservative and controls for the probability of at least one false positive. The FDR correction on the other hand allows for an expected fraction of false positives to occur.\n",
    "\n",
    "For high-dimensional data, we typically want to reduce the dimensionality before computing the feature-wise univariate K-S tests and aggregating those via the chosen correction method. Following suggestions in [Failing Loudly: An Empirical Study of Methods for Detecting Dataset Shift](https://arxiv.org/abs/1810.11953), we incorporate Untrained AutoEncoders (UAE), black-box shift detection using the classifier's softmax outputs ([BBSDs](https://arxiv.org/abs/1802.03916)) and [PCA](https://en.wikipedia.org/wiki/Principal_component_analysis) as out-of-the box preprocessing methods. Preprocessing methods which do not rely on the classifier will usually pick up drift in the input data, while BBSDs focuses on label shift. The [adversarial detector](https://arxiv.org/abs/2002.09364) which is part of the library can also be transformed into a drift detector picking up drift that reduces the performance of the classification model. We can therefore combine different preprocessing techniques to figure out if there is drift which hurts the model performance, and whether this drift can be classified as input drift or label shift.\n",
    "\n",
    "\n",
    "### Dataset\n",
    "\n",
    "[CIFAR10](https://www.cs.toronto.edu/~kriz/cifar.html) consists of 60,000 32 by 32 RGB images equally distributed over 10 classes. We evaluate the drift detector on the CIFAR-10-C dataset ([Hendrycks & Dietterich, 2019](https://arxiv.org/abs/1903.12261)). The instances in\n",
    "CIFAR-10-C have been corrupted and perturbed by various types of noise, blur, brightness etc. at different levels of severity, leading to a gradual decline in the classification model performance. We also check for drift against the original test set with class imbalances. "
   ]
  },
  {
   "cell_type": "code",
   "execution_count": 1,
   "metadata": {},
   "outputs": [
    {
     "name": "stderr",
     "output_type": "stream",
     "text": [
      "ERROR:fbprophet:Importing plotly failed. Interactive plots will not work.\n"
     ]
    }
   ],
   "source": [
    "import matplotlib.pyplot as plt\n",
    "import numpy as np\n",
    "import os\n",
    "import tensorflow as tf\n",
    "from tensorflow.keras.layers import Conv2D, Dense, Flatten, InputLayer, Reshape\n",
    "\n",
    "from alibi_detect.cd import KSDrift\n",
    "from alibi_detect.cd.preprocess import uae, hidden_output\n",
    "from alibi_detect.models.resnet import scale_by_instance\n",
    "from alibi_detect.utils.fetching import fetch_tf_model, fetch_detector\n",
    "from alibi_detect.utils.prediction import predict_batch\n",
    "from alibi_detect.utils.saving import save_detector, load_detector\n",
    "from alibi_detect.datasets import fetch_cifar10c, corruption_types_cifar10c"
   ]
  },
  {
   "cell_type": "markdown",
   "metadata": {},
   "source": [
    "### Load data\n",
    "\n",
    "Original CIFAR-10 data:"
   ]
  },
  {
   "cell_type": "code",
   "execution_count": 2,
   "metadata": {},
   "outputs": [],
   "source": [
    "(X_train, y_train), (X_test, y_test) = tf.keras.datasets.cifar10.load_data()\n",
    "X_train = X_train.astype('float32') / 255\n",
    "X_test = X_test.astype('float32') / 255\n",
    "y_train = y_train.astype('int64').reshape(-1,)\n",
    "y_test = y_test.astype('int64').reshape(-1,)"
   ]
  },
  {
   "cell_type": "markdown",
   "metadata": {},
   "source": [
    "For CIFAR-10-C, we can select from the following corruption types at 5 severity levels:"
   ]
  },
  {
   "cell_type": "code",
   "execution_count": 3,
   "metadata": {},
   "outputs": [
    {
     "name": "stdout",
     "output_type": "stream",
     "text": [
      "['brightness', 'contrast', 'defocus_blur', 'elastic_transform', 'fog', 'frost', 'gaussian_blur', 'gaussian_noise', 'glass_blur', 'impulse_noise', 'jpeg_compression', 'motion_blur', 'pixelate', 'saturate', 'shot_noise', 'snow', 'spatter', 'speckle_noise', 'zoom_blur']\n"
     ]
    }
   ],
   "source": [
    "corruptions = corruption_types_cifar10c()\n",
    "print(corruptions)"
   ]
  },
  {
   "cell_type": "markdown",
   "metadata": {},
   "source": [
    "Let's pick a subset of the corruptions at corruption level 5. Each corruption type consists of perturbations on all of the original test set images."
   ]
  },
  {
   "cell_type": "code",
   "execution_count": 4,
   "metadata": {},
   "outputs": [],
   "source": [
    "corruption = ['gaussian_noise', 'motion_blur', 'brightness', 'pixelate']\n",
    "X_corr, y_corr = fetch_cifar10c(corruption=corruption, severity=5, return_X_y=True)\n",
    "X_corr = X_corr.astype('float32') / 255"
   ]
  },
  {
   "cell_type": "markdown",
   "metadata": {},
   "source": [
    "We split the original test set in a reference dataset and a dataset which should not be rejected under the *H<sub>0</sub>* of the K-S test. We also split the corrupted data by corruption type:"
   ]
  },
  {
   "cell_type": "code",
   "execution_count": 5,
   "metadata": {},
   "outputs": [
    {
     "name": "stdout",
     "output_type": "stream",
     "text": [
      "(5000, 32, 32, 3) (5000, 32, 32, 3)\n"
     ]
    }
   ],
   "source": [
    "np.random.seed(0)\n",
    "n_test = X_test.shape[0]\n",
    "idx = np.random.choice(n_test, size=n_test // 2, replace=False)\n",
    "idx_h0 = np.delete(np.arange(n_test), idx, axis=0)\n",
    "X_ref,y_ref = X_test[idx], y_test[idx]\n",
    "X_h0, y_h0 = X_test[idx_h0], y_test[idx_h0]\n",
    "print(X_ref.shape, X_h0.shape)"
   ]
  },
  {
   "cell_type": "code",
   "execution_count": 6,
   "metadata": {},
   "outputs": [
    {
     "name": "stdout",
     "output_type": "stream",
     "text": [
      "Class Ref H0\n",
      "0     472 528\n",
      "1     510 490\n",
      "2     498 502\n",
      "3     492 508\n",
      "4     501 499\n",
      "5     495 505\n",
      "6     493 507\n",
      "7     501 499\n",
      "8     516 484\n",
      "9     522 478\n"
     ]
    }
   ],
   "source": [
    "# check that the classes are more or less balanced\n",
    "classes, counts_ref = np.unique(y_ref, return_counts=True)\n",
    "counts_h0 = np.unique(y_h0, return_counts=True)[1]\n",
    "print('Class Ref H0')\n",
    "for cl, cref, ch0 in zip(classes, counts_ref, counts_h0):\n",
    "    assert cref + ch0 == n_test // 10\n",
    "    print('{}     {} {}'.format(cl, cref, ch0))"
   ]
  },
  {
   "cell_type": "code",
   "execution_count": 7,
   "metadata": {},
   "outputs": [],
   "source": [
    "X_c = []\n",
    "n_corr = len(corruption)\n",
    "for i in range(n_corr):\n",
    "    X_c.append(X_corr[i * n_test:(i + 1) * n_test])"
   ]
  },
  {
   "cell_type": "markdown",
   "metadata": {},
   "source": [
    "We can visualise the same instance for each corruption type:"
   ]
  },
  {
   "cell_type": "code",
   "execution_count": 8,
   "metadata": {
    "tags": [
     "hide_input"
    ]
   },
   "outputs": [
    {
     "data": {
      "image/png": "[encoded data removed]",
      "text/plain": [
       "<Figure size 432x288 with 1 Axes>"
      ]
     },
     "metadata": {
      "needs_background": "light"
     },
     "output_type": "display_data"
    },
    {
     "data": {
      "image/png": "[encoded data removed]",
      "text/plain": [
       "<Figure size 432x288 with 1 Axes>"
      ]
     },
     "metadata": {
      "needs_background": "light"
     },
     "output_type": "display_data"
    },
    {
     "data": {
      "image/png": "[encoded data removed]",
      "text/plain": [
       "<Figure size 432x288 with 1 Axes>"
      ]
     },
     "metadata": {
      "needs_background": "light"
     },
     "output_type": "display_data"
    },
    {
     "data": {
      "image/png": "[encoded data removed]",
      "text/plain": [
       "<Figure size 432x288 with 1 Axes>"
      ]
     },
     "metadata": {
      "needs_background": "light"
     },
     "output_type": "display_data"
    },
    {
     "data": {
      "image/png": "[encoded data removed]",
      "text/plain": [
       "<Figure size 432x288 with 1 Axes>"
      ]
     },
     "metadata": {
      "needs_background": "light"
     },
     "output_type": "display_data"
    }
   ],
   "source": [
    "i = 1\n",
    "\n",
    "n_test = X_test.shape[0]\n",
    "plt.title('Original')\n",
    "plt.axis('off')\n",
    "plt.imshow(X_test[i])\n",
    "plt.show()\n",
    "for _ in range(len(corruption)):\n",
    "    plt.title(corruption[_])\n",
    "    plt.axis('off')\n",
    "    plt.imshow(X_corr[n_test * _+ i])\n",
    "    plt.show()"
   ]
  },
  {
   "cell_type": "markdown",
   "metadata": {},
   "source": [
    "We can also verify that the performance of a classification model on CIFAR-10 drops significantly on this perturbed dataset:"
   ]
  },
  {
   "cell_type": "code",
   "execution_count": 9,
   "metadata": {},
   "outputs": [
    {
     "name": "stdout",
     "output_type": "stream",
     "text": [
      "Test set accuracy:\n",
      "Original 0.9278\n",
      "gaussian_noise 0.2208\n",
      "motion_blur 0.6339\n",
      "brightness 0.8913\n",
      "pixelate 0.3666\n"
     ]
    }
   ],
   "source": [
    "dataset = 'cifar10'\n",
    "model = 'resnet32'\n",
    "clf = fetch_tf_model(dataset, model)\n",
    "acc = clf.evaluate(scale_by_instance(X_test), y_test, batch_size=128, verbose=0)[1]\n",
    "print('Test set accuracy:')\n",
    "print('Original {:.4f}'.format(acc))\n",
    "clf_accuracy = {'original': acc}\n",
    "for _ in range(len(corruption)):\n",
    "    acc = clf.evaluate(scale_by_instance(X_c[_]), y_test, batch_size=128, verbose=0)[1]\n",
    "    clf_accuracy[corruption[_]] = acc\n",
    "    print('{} {:.4f}'.format(corruption[_], acc))"
   ]
  },
  {
   "cell_type": "markdown",
   "metadata": {},
   "source": [
    "Given the drop in performance, it is important that we detect the harmful data drift!\n",
    "\n",
    "### Detect drift\n",
    "\n",
    "We are trying to detect data drift on high-dimensional (*32x32x3*) data using an aggregation of univariate K-S tests. It therefore makes sense to apply dimensionality reduction first. Some dimensionality reduction methods also used in [Failing Loudly: An Empirical Study of Methods for Detecting Dataset Shift](https://arxiv.org/pdf/1810.11953.pdf) are readily available: **UAE** (Untrained AutoEncoder), **BBSDs** (black-box shift detection using the classifier's softmax outputs) and **PCA**. \n",
    "\n",
    "#### Untrained AutoEncoder\n",
    "\n",
    "First we try UAE:"
   ]
  },
  {
   "cell_type": "code",
   "execution_count": 10,
   "metadata": {
    "scrolled": false
   },
   "outputs": [],
   "source": [
    "tf.random.set_seed(0)\n",
    "\n",
    "# define encoder\n",
    "encoding_dim = 32\n",
    "encoder_net = tf.keras.Sequential(\n",
    "  [\n",
    "      InputLayer(input_shape=(32, 32, 3)),\n",
    "      Conv2D(64, 4, strides=2, padding='same', activation=tf.nn.relu),\n",
    "      Conv2D(128, 4, strides=2, padding='same', activation=tf.nn.relu),\n",
    "      Conv2D(512, 4, strides=2, padding='same', activation=tf.nn.relu),\n",
    "      Flatten(),\n",
    "      Dense(encoding_dim,)\n",
    "  ]\n",
    ")\n",
    "\n",
    "# initialise drift detector\n",
    "p_val = .05\n",
    "cd = KSDrift(\n",
    "    p_val=p_val,        # p-value for K-S test \n",
    "    X_ref=X_ref,       # test against original test set\n",
    "    preprocess_fn=uae,  # UAE for dimensionality reduction\n",
    "    preprocess_kwargs={'encoder_net': encoder_net, 'batch_size': 128},\n",
    "    alternative='two-sided'  # other options: 'less', 'greater'\n",
    ")\n",
    "\n",
    "# we can also save/load an initialised detector\n",
    "filepath = 'my_path'  # change to directory where detector is saved\n",
    "save_detector(cd, filepath)\n",
    "cd = load_detector(filepath)"
   ]
  },
  {
   "cell_type": "markdown",
   "metadata": {},
   "source": [
    "The p-value used by the detector for the multivariate data with *encoding_dim* features is equal to *p_val / encoding_dim* because of the [Bonferroni correction](https://mathworld.wolfram.com/BonferroniCorrection.html)."
   ]
  },
  {
   "cell_type": "code",
   "execution_count": 11,
   "metadata": {},
   "outputs": [],
   "source": [
    "assert cd.p_val / cd.n_features == p_val / encoding_dim"
   ]
  },
  {
   "cell_type": "markdown",
   "metadata": {},
   "source": [
    "Let's check whether the detector thinks drift occurred within the original test set:"
   ]
  },
  {
   "cell_type": "code",
   "execution_count": 12,
   "metadata": {},
   "outputs": [
    {
     "name": "stdout",
     "output_type": "stream",
     "text": [
      "Drift? No!\n"
     ]
    }
   ],
   "source": [
    "preds_h0 = cd.predict(X_h0, return_feature_score=True)\n",
    "labels = ['No!', 'Yes!']\n",
    "print('Drift? {}'.format(labels[preds_h0['data']['is_drift'].item()]))"
   ]
  },
  {
   "cell_type": "markdown",
   "metadata": {},
   "source": [
    "As expected, no drift occurred. We can also inspect the p-values for each univariate K-S test by (encoded) feature before the multivariate correction. Most of them are well above the $0.05$ threshold:"
   ]
  },
  {
   "cell_type": "code",
   "execution_count": 13,
   "metadata": {},
   "outputs": [
    {
     "name": "stdout",
     "output_type": "stream",
     "text": [
      "[0.94146556 0.14195988 0.6440195  0.05512931 0.37907234 0.25943416\n",
      " 0.87724036 0.48063537 0.11774229 0.677735   0.48063537 0.7442197\n",
      " 0.08356539 0.14860499 0.31536394 0.31536394 0.61036026 0.36571503\n",
      " 0.80732274 0.22020556 0.249175   0.46531922 0.11774229 0.45025542\n",
      " 0.25943416 0.5936282  0.5604951  0.9571862  0.8642828  0.23921937\n",
      " 0.90134364 0.6945301 ]\n"
     ]
    }
   ],
   "source": [
    "print(preds_h0['data']['feature_score'])"
   ]
  },
  {
   "cell_type": "markdown",
   "metadata": {},
   "source": [
    "Let's now check the predictions on the perturbed data:"
   ]
  },
  {
   "cell_type": "code",
   "execution_count": 14,
   "metadata": {},
   "outputs": [
    {
     "name": "stdout",
     "output_type": "stream",
     "text": [
      "Corruption type: gaussian_noise\n",
      "Drift? Yes!\n",
      "Feature-wise p-values:\n",
      "[4.95750410e-03 7.34658632e-03 5.52912503e-02 1.03268398e-08\n",
      " 3.38559955e-01 8.17310661e-02 6.79804944e-03 2.71271050e-01\n",
      " 1.55009609e-02 1.03484383e-02 1.82668434e-03 1.05715834e-01\n",
      " 5.14261274e-08 1.42579767e-10 1.07582469e-04 1.40577822e-06\n",
      " 2.90366083e-01 3.92065112e-06 3.53773794e-04 1.99041501e-01\n",
      " 1.90719927e-03 6.04502577e-03 4.95599561e-10 6.04502577e-03\n",
      " 5.12230098e-01 5.46741539e-05 3.83900553e-01 1.14905804e-01\n",
      " 2.80400272e-02 8.04118258e-07 3.30103422e-03 2.05864832e-02]\n",
      "\n",
      "Corruption type: motion_blur\n",
      "Drift? Yes!\n",
      "Feature-wise p-values:\n",
      "[3.5206401e-07 1.1811157e-01 5.1718007e-04 3.8903630e-03 6.3595712e-01\n",
      " 5.4199551e-04 3.7114436e-04 1.6068090e-02 1.9909975e-03 1.2925932e-02\n",
      " 4.6739896e-09 7.1598392e-04 3.8931589e-04 6.6549936e-21 1.4105450e-07\n",
      " 2.0635051e-05 7.2645240e-02 7.4932752e-05 1.0571583e-01 1.1322660e-04\n",
      " 2.2843637e-04 1.5437353e-01 6.5380293e-03 3.2056447e-02 3.1007592e-02\n",
      " 9.2208997e-05 6.6406779e-02 2.0782007e-03 1.1780208e-03 8.4564666e-10\n",
      " 9.8475325e-04 3.5377379e-04]\n",
      "\n",
      "Corruption type: brightness\n",
      "Drift? Yes!\n",
      "Feature-wise p-values:\n",
      "[0.0000000e+00 0.0000000e+00 4.9483204e-29 0.0000000e+00 0.0000000e+00\n",
      " 0.0000000e+00 0.0000000e+00 0.0000000e+00 0.0000000e+00 0.0000000e+00\n",
      " 0.0000000e+00 0.0000000e+00 0.0000000e+00 2.7021131e-21 4.0524192e-38\n",
      " 0.0000000e+00 0.0000000e+00 0.0000000e+00 9.2606446e-34 0.0000000e+00\n",
      " 0.0000000e+00 0.0000000e+00 0.0000000e+00 0.0000000e+00 0.0000000e+00\n",
      " 3.9701583e-05 0.0000000e+00 0.0000000e+00 0.0000000e+00 0.0000000e+00\n",
      " 0.0000000e+00 0.0000000e+00]\n",
      "\n",
      "Corruption type: pixelate\n",
      "Drift? Yes!\n",
      "Feature-wise p-values:\n",
      "[3.38559955e-01 2.09074125e-01 1.99041501e-01 8.56629852e-03\n",
      " 5.97174764e-01 9.44178849e-02 1.66843131e-01 5.21439314e-01\n",
      " 2.44745538e-02 4.58541155e-01 1.96971247e-04 1.35259181e-01\n",
      " 1.67503790e-03 1.82668434e-03 1.14905804e-01 9.17565823e-02\n",
      " 8.31667542e-01 6.25065863e-02 6.64067790e-02 9.24271531e-03\n",
      " 2.41498753e-01 6.94294155e-01 1.08709060e-01 8.41466635e-02\n",
      " 3.45860541e-01 1.38920277e-01 3.68379533e-01 3.03615063e-01\n",
      " 3.76089692e-01 9.24271531e-03 5.03090501e-01 9.96722654e-03]\n",
      "\n"
     ]
    }
   ],
   "source": [
    "for x, c in zip(X_c, corruption):\n",
    "    preds = cd.predict(x, return_feature_score=True)\n",
    "    print(f'Corruption type: {c}')\n",
    "    print('Drift? {}'.format(labels[preds['data']['is_drift'].item()]))\n",
    "    print('Feature-wise p-values:')\n",
    "    print(preds['data']['feature_score'])\n",
    "    print('')"
   ]
  },
  {
   "cell_type": "markdown",
   "metadata": {},
   "source": [
    "#### BBSDs\n",
    "\n",
    "For **BBSDs**, we use the classifier's softmax outputs for black-box shift detection. This method is based on [Detecting and Correcting for Label Shift with Black Box Predictors](https://arxiv.org/abs/1802.03916). The ResNet classifier is trained on data standardised by instance so we need to rescale the data."
   ]
  },
  {
   "cell_type": "code",
   "execution_count": 15,
   "metadata": {},
   "outputs": [],
   "source": [
    "X_train = scale_by_instance(X_train)\n",
    "X_test = scale_by_instance(X_test)\n",
    "for i in range(n_corr):\n",
    "    X_c[i] = scale_by_instance(X_c[i])\n",
    "X_ref = scale_by_instance(X_ref)\n",
    "X_h0 = scale_by_instance(X_h0)"
   ]
  },
  {
   "cell_type": "markdown",
   "metadata": {},
   "source": [
    "Initialisation of the drift detector. Here we use the output of the softmax layer to detect the drift, but other hidden layers can be extracted as well by setting *'layer'* to the index of the desired hidden layer in the model:"
   ]
  },
  {
   "cell_type": "code",
   "execution_count": 16,
   "metadata": {},
   "outputs": [],
   "source": [
    "p_val = .05\n",
    "cd = KSDrift(\n",
    "    p_val=p_val,\n",
    "    X_ref=X_ref,\n",
    "    preprocess_fn=hidden_output,\n",
    "    preprocess_kwargs={'model': clf, 'layer': -1, 'batch_size': 128}  # use output softmax layer\n",
    ")"
   ]
  },
  {
   "cell_type": "markdown",
   "metadata": {},
   "source": [
    "Again we can see that the p-value used by the detector for the multivariate data with 10 features (number of CIFAR-10 classes) is equal to *p_val / 10* because of the [Bonferroni correction](https://mathworld.wolfram.com/BonferroniCorrection.html)."
   ]
  },
  {
   "cell_type": "code",
   "execution_count": 17,
   "metadata": {},
   "outputs": [],
   "source": [
    "assert cd.p_val / cd.n_features == p_val / 10"
   ]
  },
  {
   "cell_type": "markdown",
   "metadata": {},
   "source": [
    "There is no drift on the original held out test set:"
   ]
  },
  {
   "cell_type": "code",
   "execution_count": 18,
   "metadata": {},
   "outputs": [
    {
     "name": "stdout",
     "output_type": "stream",
     "text": [
      "Drift? No!\n",
      "[0.11774229 0.52796143 0.19387017 0.20236294 0.496191   0.72781175\n",
      " 0.12345381 0.420929   0.8367454  0.7604178 ]\n"
     ]
    }
   ],
   "source": [
    "preds_h0 = cd.predict(X_h0)\n",
    "print('Drift? {}'.format(labels[preds_h0['data']['is_drift'].item()]))\n",
    "print(preds_h0['data']['feature_score'])"
   ]
  },
  {
   "cell_type": "markdown",
   "metadata": {},
   "source": [
    "We compare this with the perturbed data:"
   ]
  },
  {
   "cell_type": "code",
   "execution_count": 19,
   "metadata": {},
   "outputs": [
    {
     "name": "stdout",
     "output_type": "stream",
     "text": [
      "Corruption type: gaussian_noise\n",
      "Drift? Yes!\n",
      "Feature-wise p-values:\n",
      "[0. 0. 0. 0. 0. 0. 0. 0. 0. 0.]\n",
      "\n",
      "Corruption type: motion_blur\n",
      "Drift? Yes!\n",
      "Feature-wise p-values:\n",
      "[0. 0. 0. 0. 0. 0. 0. 0. 0. 0.]\n",
      "\n",
      "Corruption type: brightness\n",
      "Drift? Yes!\n",
      "Feature-wise p-values:\n",
      "[0.0000000e+00 4.2024049e-15 2.8963613e-33 4.8499879e-07 2.3718185e-15\n",
      " 1.2473309e-05 2.9714003e-30 1.0611427e-09 4.6048109e-12 4.1857830e-17]\n",
      "\n",
      "Corruption type: pixelate\n",
      "Drift? Yes!\n",
      "Feature-wise p-values:\n",
      "[0. 0. 0. 0. 0. 0. 0. 0. 0. 0.]\n",
      "\n"
     ]
    }
   ],
   "source": [
    "for x, c in zip(X_c, corruption):\n",
    "    preds = cd.predict(x)\n",
    "    print(f'Corruption type: {c}')\n",
    "    print('Drift? {}'.format(labels[preds['data']['is_drift'].item()]))\n",
    "    print('Feature-wise p-values:')\n",
    "    print(preds['data']['feature_score'])\n",
    "    print('')"
   ]
  },
  {
   "cell_type": "markdown",
   "metadata": {},
   "source": [
    "### Label drift\n",
    "\n",
    "We can also check what happens when we introduce class imbalances between the reference data *X_ref* and the tested data *X_imb*. The reference data will use $75$% of the instances of the first 5 classes and only $25$% of the last 5. The data used for drift testing then uses respectively $25$% and $75$% of the test instances for the first and last 5 classes."
   ]
  },
  {
   "cell_type": "code",
   "execution_count": 20,
   "metadata": {},
   "outputs": [
    {
     "name": "stdout",
     "output_type": "stream",
     "text": [
      "(5000, 32, 32, 3) (5000, 32, 32, 3) (5000,)\n"
     ]
    },
    {
     "name": "stderr",
     "output_type": "stream",
     "text": [
      "/home/avl/anaconda3/envs/detect/lib/python3.7/site-packages/ipykernel_launcher.py:16: DeprecationWarning: elementwise comparison failed; this will raise an error in the future.\n",
      "  app.launch_new_instance()\n"
     ]
    }
   ],
   "source": [
    "np.random.seed(0)\n",
    "# get index for each class in the test set\n",
    "num_classes = len(np.unique(y_test))\n",
    "idx_by_class = [np.where(y_test == c)[0] for c in range(num_classes)]\n",
    "# sample imbalanced data for different classes for X_ref and X_imb\n",
    "perc_ref = .75\n",
    "perc_ref_by_class = [perc_ref if c < 5 else 1 - perc_ref for c in range(num_classes)]\n",
    "n_by_class = n_test // num_classes\n",
    "X_ref = []\n",
    "X_imb, y_imb = [], []\n",
    "for _ in range(num_classes):\n",
    "    idx_class_ref = np.random.choice(n_by_class, size=int(perc_ref_by_class[_] * n_by_class), replace=False)\n",
    "    idx_ref = idx_by_class[_][idx_class_ref]\n",
    "    idx_class_imb = np.delete(np.arange(n_by_class), idx_class_ref, axis=0)\n",
    "    idx_imb = idx_by_class[_][idx_class_imb]\n",
    "    assert idx_ref != idx_imb\n",
    "    X_ref.append(X_test[idx_ref])\n",
    "    X_imb.append(X_test[idx_imb])\n",
    "    y_imb.append(y_test[idx_imb])\n",
    "X_ref = np.concatenate(X_ref)\n",
    "X_imb = np.concatenate(X_imb)\n",
    "y_imb = np.concatenate(y_imb)\n",
    "print(X_ref.shape, X_imb.shape, y_imb.shape)"
   ]
  },
  {
   "cell_type": "markdown",
   "metadata": {},
   "source": [
    "Update reference dataset for the detector and make predictions:"
   ]
  },
  {
   "cell_type": "code",
   "execution_count": 21,
   "metadata": {},
   "outputs": [],
   "source": [
    "cd.X_ref = X_ref"
   ]
  },
  {
   "cell_type": "code",
   "execution_count": 22,
   "metadata": {},
   "outputs": [
    {
     "name": "stdout",
     "output_type": "stream",
     "text": [
      "Drift? Yes!\n",
      "[6.10830360e-20 1.32319470e-20 7.62410424e-29 1.05537245e-17\n",
      " 7.68910424e-23 1.57479264e-15 5.77457112e-19 1.94419707e-20\n",
      " 5.02102509e-21 4.13147353e-21]\n"
     ]
    }
   ],
   "source": [
    "preds_imb = cd.predict(X_imb)\n",
    "print('Drift? {}'.format(labels[preds_imb['data']['is_drift'].item()]))\n",
    "print(preds_imb['data']['feature_score'])"
   ]
  },
  {
   "cell_type": "markdown",
   "metadata": {},
   "source": [
    "### Update reference data\n",
    "\n",
    "So far we have kept the reference data the same throughout the experiments. It is possible however that we want to test a new batch against the last *N* instances or against a batch of instances of fixed size where we give each instance we have seen up until now the same chance of being in the reference batch ([reservoir sampling](https://en.wikipedia.org/wiki/Reservoir_sampling)). The `update_X_ref` argument allows you to change the reference data update rule. It is a Dict which takes as key the update rule (*'last'* for last *N* instances or *'reservoir_sampling'*) and as value the batch size *N* of the reference data. You can also save the detector after the prediction calls to save the updated reference data."
   ]
  },
  {
   "cell_type": "code",
   "execution_count": 23,
   "metadata": {},
   "outputs": [],
   "source": [
    "N = 7500\n",
    "cd = KSDrift(\n",
    "    p_val=.05,\n",
    "    X_ref=X_ref,\n",
    "    update_X_ref={'reservoir_sampling': N},\n",
    "    preprocess_fn=hidden_output,\n",
    "    preprocess_kwargs={'model': clf, 'layer': -1, 'batch_size': 128}\n",
    ")"
   ]
  },
  {
   "cell_type": "markdown",
   "metadata": {},
   "source": [
    "The reference data is now updated with each `predict` call. Say we start with our imbalanced reference set and make a prediction on the remaining test set data *X_imb*, then the drift detector will figure out data drift has occurred."
   ]
  },
  {
   "cell_type": "code",
   "execution_count": 24,
   "metadata": {},
   "outputs": [
    {
     "name": "stdout",
     "output_type": "stream",
     "text": [
      "Drift? Yes!\n"
     ]
    }
   ],
   "source": [
    "preds_imb = cd.predict(X_imb)\n",
    "print('Drift? {}'.format(labels[preds_imb['data']['is_drift'].item()]))"
   ]
  },
  {
   "cell_type": "markdown",
   "metadata": {},
   "source": [
    "We can now see that the reference data consists of *N* instances, obtained through reservoir sampling."
   ]
  },
  {
   "cell_type": "code",
   "execution_count": 25,
   "metadata": {},
   "outputs": [],
   "source": [
    "assert cd.X_ref.shape[0] == N"
   ]
  },
  {
   "cell_type": "markdown",
   "metadata": {},
   "source": [
    "We then draw a random sample from the training set and compare it with the updated reference data. This still highlights that there is data drift but will update the reference data again:"
   ]
  },
  {
   "cell_type": "code",
   "execution_count": 26,
   "metadata": {},
   "outputs": [],
   "source": [
    "np.random.seed(0)\n",
    "perc_train = .5\n",
    "n_train = X_train.shape[0]\n",
    "idx_train = np.random.choice(n_train, size=int(perc_train * n_train), replace=False)"
   ]
  },
  {
   "cell_type": "code",
   "execution_count": 27,
   "metadata": {},
   "outputs": [
    {
     "name": "stdout",
     "output_type": "stream",
     "text": [
      "Drift? Yes!\n"
     ]
    }
   ],
   "source": [
    "preds_train = cd.predict(X_train[idx_train])\n",
    "print('Drift? {}'.format(labels[preds_train['data']['is_drift'].item()]))"
   ]
  },
  {
   "cell_type": "markdown",
   "metadata": {},
   "source": [
    "When we draw a new sample from the training set, it highlights that it is not drifting anymore against the reservoir in *X_ref*."
   ]
  },
  {
   "cell_type": "code",
   "execution_count": 28,
   "metadata": {},
   "outputs": [
    {
     "name": "stdout",
     "output_type": "stream",
     "text": [
      "Drift? No!\n"
     ]
    }
   ],
   "source": [
    "np.random.seed(1)\n",
    "perc_train = .1\n",
    "idx_train = np.random.choice(n_train, size=int(perc_train * n_train), replace=False)\n",
    "preds_train = cd.predict(X_train[idx_train])\n",
    "print('Drift? {}'.format(labels[preds_train['data']['is_drift'].item()]))"
   ]
  },
  {
   "cell_type": "markdown",
   "metadata": {},
   "source": [
    "### Multivariate correction mechanism\n",
    "\n",
    "Instead of the Bonferroni correction for multivariate data, we can also use the less conservative [False Discovery Rate](http://www.math.tau.ac.il/~ybenja/MyPapers/benjamini_hochberg1995.pdf) (FDR) correction. See [here](https://riffyn.com/riffyn-blog/2017/10/29/false-discovery-rate) or [here](https://matthew-brett.github.io/teaching/fdr.html) for nice explanations. While the Bonferroni correction controls the probability of at least one false positive, the FDR correction controls for an expected amount of false positives. The `p_val` argument at initialisation time can be interpreted as the acceptable q-value when the FDR correction is applied."
   ]
  },
  {
   "cell_type": "code",
   "execution_count": 29,
   "metadata": {},
   "outputs": [
    {
     "name": "stdout",
     "output_type": "stream",
     "text": [
      "Drift? Yes!\n"
     ]
    }
   ],
   "source": [
    "cd = KSDrift(\n",
    "    p_val=.05,\n",
    "    correction='fdr',\n",
    "    X_ref=X_ref,\n",
    "    preprocess_fn=hidden_output,\n",
    "    preprocess_kwargs={'model': clf, 'layer': -1, 'batch_size': 128}\n",
    ")\n",
    "\n",
    "preds_imb = cd.predict(X_imb)\n",
    "print('Drift? {}'.format(labels[preds_imb['data']['is_drift'].item()]))"
   ]
  },
  {
   "cell_type": "markdown",
   "metadata": {},
   "source": [
    "### Train vs. test set drift\n",
    "\n",
    "Let us do a last check and see whether there is data drift between the original train and test sets. We will use both the **BBSDs** and **Untrained AutoEncoder** preprocessing techniques. We start with BBSDs:"
   ]
  },
  {
   "cell_type": "code",
   "execution_count": 30,
   "metadata": {},
   "outputs": [
    {
     "name": "stdout",
     "output_type": "stream",
     "text": [
      "Drift? Yes!\n"
     ]
    }
   ],
   "source": [
    "cd = KSDrift(\n",
    "    p_val=.05,\n",
    "    X_ref=X_train,\n",
    "    preprocess_fn=hidden_output,\n",
    "    preprocess_kwargs={'model': clf, 'layer': -1, 'batch_size': 128}\n",
    ")\n",
    "\n",
    "preds_test = cd.predict(X_test)\n",
    "print('Drift? {}'.format(labels[preds_test['data']['is_drift'].item()]))"
   ]
  },
  {
   "cell_type": "markdown",
   "metadata": {},
   "source": [
    "So when we use the softmax output of the classification model, we pick up drift. It is important to notice that this is drift with respect to the classifier output. This means that the detector picked up a difference between the distributions of the softmax probabilities of the model on the train and test sets.\n",
    "\n",
    "When we use the UAE to preprocess the data we do not care about the distribution of the labels being predicted and only take random projections of the input on the latent dimension into account."
   ]
  },
  {
   "cell_type": "code",
   "execution_count": 31,
   "metadata": {},
   "outputs": [
    {
     "name": "stdout",
     "output_type": "stream",
     "text": [
      "Drift? No!\n"
     ]
    }
   ],
   "source": [
    "cd = KSDrift(\n",
    "    p_val=.05,\n",
    "    X_ref=X_train,\n",
    "    preprocess_fn=uae,\n",
    "    preprocess_kwargs={'encoder_net': encoder_net, 'batch_size': 128}\n",
    ")\n",
    "\n",
    "preds_test = cd.predict(X_test)\n",
    "print('Drift? {}'.format(labels[preds_test['data']['is_drift'].item()]))"
   ]
  },
  {
   "cell_type": "markdown",
   "metadata": {},
   "source": [
    "The UAE detector does not pick up drift. This means that the input data of the classification model does not seem to drift between the train and test set, but the model output does!"
   ]
  },
  {
   "cell_type": "markdown",
   "metadata": {},
   "source": [
    "### Adversarial autoencoder as a malicious drift detector\n",
    "\n",
    "We can leverage the adversarial scores obtained from an [adversarial autoencoder](https://arxiv.org/abs/2002.09364)  trained on normal data and transform it into a data drift detector. The score function of the adversarial autoencoder becomes the preprocessing function for the drift detector. The K-S test is then a simple univariate test on the adversarial scores. Importantly, an adversarial drift detector flags **malicious data drift**. We can fetch the pretrained adversarial detector from a [Google Cloud Bucket](https://console.cloud.google.com/storage/browser/seldon-models/alibi-detect/ad/cifar10/resnet32) or train one from scratch:"
   ]
  },
  {
   "cell_type": "code",
   "execution_count": 32,
   "metadata": {},
   "outputs": [],
   "source": [
    "load_pretrained = True"
   ]
  },
  {
   "cell_type": "code",
   "execution_count": 33,
   "metadata": {
    "scrolled": true
   },
   "outputs": [
    {
     "name": "stdout",
     "output_type": "stream",
     "text": [
      "WARNING:tensorflow:No training configuration found in save file: the model was *not* compiled. Compile it manually.\n"
     ]
    },
    {
     "name": "stderr",
     "output_type": "stream",
     "text": [
      "WARNING:tensorflow:No training configuration found in save file: the model was *not* compiled. Compile it manually.\n"
     ]
    },
    {
     "name": "stdout",
     "output_type": "stream",
     "text": [
      "WARNING:tensorflow:No training configuration found in save file: the model was *not* compiled. Compile it manually.\n"
     ]
    },
    {
     "name": "stderr",
     "output_type": "stream",
     "text": [
      "WARNING:tensorflow:No training configuration found in save file: the model was *not* compiled. Compile it manually.\n"
     ]
    },
    {
     "name": "stdout",
     "output_type": "stream",
     "text": [
      "WARNING:tensorflow:Error in loading the saved optimizer state. As a result, your model is starting with a freshly initialized optimizer.\n"
     ]
    },
    {
     "name": "stderr",
     "output_type": "stream",
     "text": [
      "WARNING:tensorflow:Error in loading the saved optimizer state. As a result, your model is starting with a freshly initialized optimizer.\n",
      "WARNING:alibi_detect.ad.adversarialae:No threshold level set. Need to infer threshold using `infer_threshold`.\n"
     ]
    }
   ],
   "source": [
    "filepath = 'my_path'  # change to (absolute) directory where model is downloaded\n",
    "if load_pretrained:\n",
    "    detector_type = 'adversarial'\n",
    "    detector_name = 'base'\n",
    "    ad = fetch_detector(filepath, detector_type, dataset, detector_name, model=model)\n",
    "    filepath = os.path.join(filepath, detector_name)\n",
    "else:  # train detector from scratch\n",
    "    # define encoder and decoder networks\n",
    "    encoder_net = tf.keras.Sequential(\n",
    "            [\n",
    "                InputLayer(input_shape=(32, 32, 3)),\n",
    "                Conv2D(32, 4, strides=2, padding='same', \n",
    "                       activation=tf.nn.relu, kernel_regularizer=l1(1e-5)),\n",
    "                Conv2D(64, 4, strides=2, padding='same', \n",
    "                       activation=tf.nn.relu, kernel_regularizer=l1(1e-5)),\n",
    "                Conv2D(256, 4, strides=2, padding='same', \n",
    "                       activation=tf.nn.relu, kernel_regularizer=l1(1e-5)),\n",
    "                Flatten(),\n",
    "                Dense(40)\n",
    "            ]\n",
    "        )\n",
    "    \n",
    "    decoder_net = tf.keras.Sequential(\n",
    "        [\n",
    "                InputLayer(input_shape=(40,)),\n",
    "                Dense(4 * 4 * 128, activation=tf.nn.relu),\n",
    "                Reshape(target_shape=(4, 4, 128)),\n",
    "                Conv2DTranspose(256, 4, strides=2, padding='same', \n",
    "                                activation=tf.nn.relu, kernel_regularizer=l1(1e-5)),\n",
    "                Conv2DTranspose(64, 4, strides=2, padding='same', \n",
    "                                activation=tf.nn.relu, kernel_regularizer=l1(1e-5)),\n",
    "                Conv2DTranspose(3, 4, strides=2, padding='same', \n",
    "                                activation=None, kernel_regularizer=l1(1e-5))\n",
    "            ]\n",
    "        )\n",
    "    \n",
    "    # initialise and train detector\n",
    "    ad = AdversarialAE(\n",
    "        encoder_net=encoder_net, \n",
    "        decoder_net=decoder_net, \n",
    "        model=clf\n",
    "    )\n",
    "    ad.fit(X_train, epochs=50, batch_size=128, verbose=True)\n",
    "    \n",
    "    # save the trained adversarial detector\n",
    "    save_detector(ad, filepath)"
   ]
  },
  {
   "cell_type": "markdown",
   "metadata": {},
   "source": [
    "Initialise the drift detector:"
   ]
  },
  {
   "cell_type": "code",
   "execution_count": 34,
   "metadata": {},
   "outputs": [],
   "source": [
    "np.random.seed(0)\n",
    "idx = np.random.choice(n_test, size=n_test // 2, replace=False)\n",
    "X_ref = scale_by_instance(X_test[idx])\n",
    "\n",
    "cd = KSDrift(\n",
    "    p_val=.05,\n",
    "    X_ref=X_ref,\n",
    "    preprocess_fn=ad.score,\n",
    "    preprocess_kwargs={'batch_size': 128}\n",
    ")"
   ]
  },
  {
   "cell_type": "markdown",
   "metadata": {},
   "source": [
    "Make drift predictions on the original test set and corrupted data:"
   ]
  },
  {
   "cell_type": "code",
   "execution_count": 35,
   "metadata": {},
   "outputs": [
    {
     "name": "stdout",
     "output_type": "stream",
     "text": [
      "H0: Accuracy 0.9286 -- Drift? No!\n",
      "imbalance: Accuracy 0.9282 -- Drift? No!\n",
      "gaussian_noise: Accuracy 0.2208 -- Drift? Yes!\n",
      "motion_blur: Accuracy 0.6339 -- Drift? Yes!\n",
      "brightness: Accuracy 0.8913 -- Drift? Yes!\n",
      "pixelate: Accuracy 0.3666 -- Drift? Yes!\n"
     ]
    }
   ],
   "source": [
    "clf_accuracy['h0'] = clf.evaluate(X_h0, y_h0, batch_size=128, verbose=0)[1]\n",
    "preds_h0 = cd.predict(X_h0)\n",
    "print('H0: Accuracy {:.4f} -- Drift? {}'.format(\n",
    "    clf_accuracy['h0'], labels[preds_h0['data']['is_drift'].item()]))\n",
    "clf_accuracy['imb'] = clf.evaluate(X_imb, y_imb, batch_size=128, verbose=0)[1]\n",
    "preds_imb = cd.predict(X_imb)\n",
    "print('imbalance: Accuracy {:.4f} -- Drift? {}'.format(\n",
    "    clf_accuracy['imb'], labels[preds_imb['data']['is_drift'].item()]))\n",
    "for x, c in zip(X_c, corruption):\n",
    "    preds = cd.predict(x)\n",
    "    print('{}: Accuracy {:.4f} -- Drift? {}'.format(\n",
    "        c, clf_accuracy[c],labels[preds['data']['is_drift'].item()]))"
   ]
  },
  {
   "cell_type": "markdown",
   "metadata": {},
   "source": [
    "While *X_imb* clearly exhibits input data drift due to the introduced class imbalances, it is not flagged by the adversarial drift detector since the performance of the classifier is not affected and the drift is not malicious. We can visualise this by plotting the adversarial scores together with the harmfulness of the data corruption as reflected by the drop in classifier accuracy:"
   ]
  },
  {
   "cell_type": "code",
   "execution_count": 36,
   "metadata": {},
   "outputs": [],
   "source": [
    "adv_scores = {}\n",
    "score = ad.score(X_ref, batch_size=128)\n",
    "adv_scores['original'] = {'mean': score.mean(), 'std': score.std()}\n",
    "score = ad.score(X_h0, batch_size=128)\n",
    "adv_scores['h0'] = {'mean': score.mean(), 'std': score.std()}\n",
    "score = ad.score(X_imb, batch_size=128)\n",
    "adv_scores['imb'] = {'mean': score.mean(), 'std': score.std()}\n",
    "\n",
    "for x, c in zip(X_c, corruption):\n",
    "    score_x = ad.score(x, batch_size=128)\n",
    "    adv_scores[c] = {'mean': score_x.mean(), 'std': score_x.std()}"
   ]
  },
  {
   "cell_type": "code",
   "execution_count": 38,
   "metadata": {},
   "outputs": [
    {
     "data": {
      "image/png": "[encoded data removed]",
      "text/plain": [
       "<Figure size 432x288 with 2 Axes>"
      ]
     },
     "metadata": {
      "needs_background": "light"
     },
     "output_type": "display_data"
    }
   ],
   "source": [
    "mu = [v['mean'] for _, v in adv_scores.items()]\n",
    "stdev = [v['std'] for _, v in adv_scores.items()]\n",
    "xlabels = list(adv_scores.keys())\n",
    "acc = [clf_accuracy[label] for label in xlabels]\n",
    "xticks = np.arange(len(mu))\n",
    "\n",
    "width = .35\n",
    "\n",
    "fig, ax = plt.subplots()\n",
    "ax2 = ax.twinx()\n",
    "\n",
    "p1 = ax.bar(xticks, mu, width, yerr=stdev, capsize=2)\n",
    "color = 'tab:red'\n",
    "p2 = ax2.bar(xticks + width, acc, width, color=color)\n",
    "\n",
    "ax.set_title('Adversarial Scores and Accuracy by Corruption Type')\n",
    "ax.set_xticks(xticks + width / 2)\n",
    "ax.set_xticklabels(xlabels, rotation=45)\n",
    "ax.legend((p1[0], p2[0]), ('Score', 'Accuracy'), loc='upper right', ncol=2)\n",
    "ax.set_ylabel('Adversarial Score')\n",
    "\n",
    "color = 'tab:red'\n",
    "ax2.set_ylabel('Accuracy')\n",
    "ax2.set_ylim((-.26,1.2))\n",
    "ax.set_ylim((-2,9))\n",
    "\n",
    "plt.show()"
   ]
  },
  {
   "cell_type": "markdown",
   "metadata": {},
   "source": [
    "We can therefore **use the scores of the detector itself to quantify the harmfulness of the drift**! We can generalise this to all the corruptions at each severity level in CIFAR-10-C:"
   ]
  },
  {
   "cell_type": "code",
   "execution_count": 39,
   "metadata": {},
   "outputs": [],
   "source": [
    "def accuracy(y_true: np.ndarray, y_pred: np.ndarray) -> float:\n",
    "    return (y_true == y_pred).astype(int).sum() / y_true.shape[0]"
   ]
  },
  {
   "cell_type": "code",
   "execution_count": 40,
   "metadata": {},
   "outputs": [
    {
     "name": "stdout",
     "output_type": "stream",
     "text": [
      "\n",
      "Severity: 1 of 5\n",
      "Loading corrupted dataset...\n",
      "Preprocess data...\n",
      "Make predictions on corrupted dataset...\n",
      "Compute adversarial scores on corrupted dataset...\n",
      "Get labels for malicious corruptions...\n",
      "\n",
      "Severity: 2 of 5\n",
      "Loading corrupted dataset...\n",
      "Preprocess data...\n",
      "Make predictions on corrupted dataset...\n",
      "Compute adversarial scores on corrupted dataset...\n",
      "Get labels for malicious corruptions...\n",
      "\n",
      "Severity: 3 of 5\n",
      "Loading corrupted dataset...\n",
      "Preprocess data...\n",
      "Make predictions on corrupted dataset...\n",
      "Compute adversarial scores on corrupted dataset...\n",
      "Get labels for malicious corruptions...\n",
      "\n",
      "Severity: 4 of 5\n",
      "Loading corrupted dataset...\n",
      "Preprocess data...\n",
      "Make predictions on corrupted dataset...\n",
      "Compute adversarial scores on corrupted dataset...\n",
      "Get labels for malicious corruptions...\n",
      "\n",
      "Severity: 5 of 5\n",
      "Loading corrupted dataset...\n",
      "Preprocess data...\n",
      "Make predictions on corrupted dataset...\n",
      "Compute adversarial scores on corrupted dataset...\n",
      "Get labels for malicious corruptions...\n"
     ]
    }
   ],
   "source": [
    "severities = [1, 2, 3, 4, 5]\n",
    "\n",
    "score_drift = {\n",
    "    1: {'all': [], 'harm': [], 'noharm': [], 'acc': 0},\n",
    "    2: {'all': [], 'harm': [], 'noharm': [], 'acc': 0},\n",
    "    3: {'all': [], 'harm': [], 'noharm': [], 'acc': 0},\n",
    "    4: {'all': [], 'harm': [], 'noharm': [], 'acc': 0},\n",
    "    5: {'all': [], 'harm': [], 'noharm': [], 'acc': 0},\n",
    "}\n",
    "\n",
    "y_pred = predict_batch(clf, X_test, batch_size=256, return_class=True)\n",
    "score_x = ad.score(X_test, batch_size=256)\n",
    "\n",
    "for s in severities:\n",
    "    print('\\nSeverity: {} of {}'.format(s, len(severities)))\n",
    "    \n",
    "    print('Loading corrupted dataset...')\n",
    "    X_corr, y_corr = fetch_cifar10c(corruption=corruptions, severity=s, return_X_y=True)\n",
    "    X_corr = X_corr.astype('float32')\n",
    "    \n",
    "    print('Preprocess data...')\n",
    "    X_corr = scale_by_instance(X_corr)\n",
    "    \n",
    "    print('Make predictions on corrupted dataset...')\n",
    "    y_pred_corr = predict_batch(clf, X_corr, batch_size=256, return_class=True)\n",
    "    \n",
    "    print('Compute adversarial scores on corrupted dataset...')\n",
    "    score_corr = ad.score(X_corr, batch_size=256)\n",
    "    \n",
    "    print('Get labels for malicious corruptions...')\n",
    "    labels_corr = np.zeros(score_corr.shape[0])\n",
    "    repeat = y_corr.shape[0] // y_test.shape[0]\n",
    "    y_pred_repeat = np.tile(y_pred, (repeat,))\n",
    "    # malicious/harmful corruption: original prediction correct but \n",
    "    # prediction on corrupted data incorrect\n",
    "    idx_orig_right = np.where(y_pred_repeat == y_corr)[0]\n",
    "    idx_corr_wrong = np.where(y_pred_corr != y_corr)[0]\n",
    "    idx_harmful = np.intersect1d(idx_orig_right, idx_corr_wrong)\n",
    "    labels_corr[idx_harmful] = 1\n",
    "    labels = np.concatenate([np.zeros(X_test.shape[0]), labels_corr]).astype(int)\n",
    "    # harmless corruption: original prediction correct and prediction\n",
    "    # on corrupted data correct\n",
    "    idx_corr_right = np.where(y_pred_corr == y_corr)[0]\n",
    "    idx_harmless = np.intersect1d(idx_orig_right, idx_corr_right)\n",
    "    \n",
    "    score_drift[s]['all'] = score_corr\n",
    "    score_drift[s]['harm'] = score_corr[idx_harmful]\n",
    "    score_drift[s]['noharm'] = score_corr[idx_harmless]\n",
    "    score_drift[s]['acc'] = accuracy(y_corr, y_pred_corr)"
   ]
  },
  {
   "cell_type": "markdown",
   "metadata": {},
   "source": [
    "We now compute mean scores and standard deviations per severity level and plot the results. The plot shows the mean adversarial scores (lhs) and ResNet-32 accuracies (rhs) for increasing data corruption severity levels. Level 0 corresponds to the original test set. Harmful scores  are scores from instances which have been flipped from the correct to an incorrect prediction because of the corruption. Not harmful means that the prediction was unchanged after the corruption."
   ]
  },
  {
   "cell_type": "code",
   "execution_count": 41,
   "metadata": {},
   "outputs": [],
   "source": [
    "mu_noharm, std_noharm = [], []\n",
    "mu_harm, std_harm = [], []\n",
    "acc = [clf_accuracy['original']]\n",
    "for k, v in score_drift.items():\n",
    "    mu_noharm.append(v['noharm'].mean())\n",
    "    std_noharm.append(v['noharm'].std())\n",
    "    mu_harm.append(v['harm'].mean())\n",
    "    std_harm.append(v['harm'].std())\n",
    "    acc.append(v['acc'])"
   ]
  },
  {
   "cell_type": "code",
   "execution_count": 42,
   "metadata": {},
   "outputs": [
    {
     "data": {
      "image/png": "[encoded data removed]",
      "text/plain": [
       "<Figure size 432x288 with 2 Axes>"
      ]
     },
     "metadata": {
      "needs_background": "light"
     },
     "output_type": "display_data"
    }
   ],
   "source": [
    "plot_labels = ['0', '1', '2', '3', '4', '5']\n",
    "\n",
    "N = 6\n",
    "ind = np.arange(N)\n",
    "width = .35\n",
    "\n",
    "fig_bar_cd, ax = plt.subplots()\n",
    "ax2 = ax.twinx()\n",
    "\n",
    "p0 = ax.bar(ind[0], score_x.mean(), yerr=score_x.std(), capsize=2)\n",
    "p1 = ax.bar(ind[1:], mu_noharm, width, yerr=std_noharm, capsize=2)\n",
    "p2 = ax.bar(ind[1:] + width, mu_harm, width, yerr=std_harm, capsize=2)\n",
    "\n",
    "ax.set_title('Adversarial Scores and Accuracy by Corruption Severity')\n",
    "ax.set_xticks(ind + width / 2)\n",
    "ax.set_xticklabels(plot_labels)\n",
    "ax.set_ylim((-1,6))\n",
    "ax.legend((p1[0], p2[0]), ('Not Harmful', 'Harmful'), loc='upper right', ncol=2)\n",
    "ax.set_ylabel('Score')\n",
    "ax.set_xlabel('Corruption Severity')\n",
    "\n",
    "color = 'tab:red'\n",
    "ax2.set_ylabel('Accuracy', color=color)\n",
    "ax2.plot(acc, color=color)\n",
    "ax2.tick_params(axis='y', labelcolor=color)\n",
    "\n",
    "plt.show()"
   ]
  }
 ],
 "metadata": {
  "celltoolbar": "Edit Metadata",
  "kernelspec": {
   "display_name": "Python [conda env:detect] *",
   "language": "python",
   "name": "conda-env-detect-py"
  },
  "language_info": {
   "codemirror_mode": {
    "name": "ipython",
    "version": 3
   },
   "file_extension": ".py",
   "mimetype": "text/x-python",
   "name": "python",
   "nbconvert_exporter": "python",
   "pygments_lexer": "ipython3",
   "version": "3.7.6"
  }
 },
 "nbformat": 4,
 "nbformat_minor": 4
}
